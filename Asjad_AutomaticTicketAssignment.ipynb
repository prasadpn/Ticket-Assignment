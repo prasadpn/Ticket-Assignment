{
  "nbformat": 4,
  "nbformat_minor": 0,
  "metadata": {
    "colab": {
      "name": "PP_AutomaticTicketAssignment.ipynb",
      "provenance": [],
      "collapsed_sections": []
    },
    "kernelspec": {
      "name": "python3",
      "display_name": "Python 3"
    },
    "language_info": {
      "name": "python"
    }
  },
  "cells": [
    {
      "cell_type": "code",
      "metadata": {
        "colab": {
          "base_uri": "https://localhost:8080/"
        },
        "id": "1m5-I9zRHFKx",
        "outputId": "b76e012b-a89f-4e68-8446-8845a5980910"
      },
      "source": [
        "pip install ftfy"
      ],
      "execution_count": null,
      "outputs": [
        {
          "output_type": "stream",
          "name": "stdout",
          "text": [
            "Collecting ftfy\n",
            "  Downloading ftfy-6.0.3.tar.gz (64 kB)\n",
            "\u001b[?25l\r\u001b[K     |█████                           | 10 kB 22.1 MB/s eta 0:00:01\r\u001b[K     |██████████▏                     | 20 kB 29.3 MB/s eta 0:00:01\r\u001b[K     |███████████████▎                | 30 kB 31.9 MB/s eta 0:00:01\r\u001b[K     |████████████████████▍           | 40 kB 22.3 MB/s eta 0:00:01\r\u001b[K     |█████████████████████████▌      | 51 kB 13.9 MB/s eta 0:00:01\r\u001b[K     |██████████████████████████████▋ | 61 kB 10.9 MB/s eta 0:00:01\r\u001b[K     |████████████████████████████████| 64 kB 904 kB/s \n",
            "\u001b[?25hRequirement already satisfied: wcwidth in /usr/local/lib/python3.7/dist-packages (from ftfy) (0.2.5)\n",
            "Building wheels for collected packages: ftfy\n",
            "  Building wheel for ftfy (setup.py) ... \u001b[?25l\u001b[?25hdone\n",
            "  Created wheel for ftfy: filename=ftfy-6.0.3-py3-none-any.whl size=41933 sha256=6a833f752af77be733f3614c2121002d4dfa2239d0cb8182b8929c6a336ddbfa\n",
            "  Stored in directory: /root/.cache/pip/wheels/19/f5/38/273eb3b5e76dfd850619312f693716ac4518b498f5ffb6f56d\n",
            "Successfully built ftfy\n",
            "Installing collected packages: ftfy\n",
            "Successfully installed ftfy-6.0.3\n"
          ]
        }
      ]
    },
    {
      "cell_type": "code",
      "metadata": {
        "colab": {
          "base_uri": "https://localhost:8080/"
        },
        "id": "2yDn8P1MLl-K",
        "outputId": "4b5f1828-6484-41c7-e4fe-a5c562a27231"
      },
      "source": [
        "pip install deep-translator"
      ],
      "execution_count": null,
      "outputs": [
        {
          "output_type": "stream",
          "name": "stdout",
          "text": [
            "Collecting deep-translator\n",
            "  Downloading deep_translator-1.5.5-py3-none-any.whl (30 kB)\n",
            "Collecting beautifulsoup4<5.0.0,>=4.9.1\n",
            "  Downloading beautifulsoup4-4.10.0-py3-none-any.whl (97 kB)\n",
            "\u001b[K     |████████████████████████████████| 97 kB 4.4 MB/s \n",
            "\u001b[?25hRequirement already satisfied: requests<3.0.0,>=2.23.0 in /usr/local/lib/python3.7/dist-packages (from deep-translator) (2.23.0)\n",
            "Collecting click<9.0.0,>=8.0.1\n",
            "  Downloading click-8.0.3-py3-none-any.whl (97 kB)\n",
            "\u001b[K     |████████████████████████████████| 97 kB 4.6 MB/s \n",
            "\u001b[?25hCollecting soupsieve>1.2\n",
            "  Downloading soupsieve-2.3.1-py3-none-any.whl (37 kB)\n",
            "Requirement already satisfied: importlib-metadata in /usr/local/lib/python3.7/dist-packages (from click<9.0.0,>=8.0.1->deep-translator) (4.8.2)\n",
            "Requirement already satisfied: urllib3!=1.25.0,!=1.25.1,<1.26,>=1.21.1 in /usr/local/lib/python3.7/dist-packages (from requests<3.0.0,>=2.23.0->deep-translator) (1.24.3)\n",
            "Requirement already satisfied: chardet<4,>=3.0.2 in /usr/local/lib/python3.7/dist-packages (from requests<3.0.0,>=2.23.0->deep-translator) (3.0.4)\n",
            "Requirement already satisfied: certifi>=2017.4.17 in /usr/local/lib/python3.7/dist-packages (from requests<3.0.0,>=2.23.0->deep-translator) (2021.10.8)\n",
            "Requirement already satisfied: idna<3,>=2.5 in /usr/local/lib/python3.7/dist-packages (from requests<3.0.0,>=2.23.0->deep-translator) (2.10)\n",
            "Requirement already satisfied: typing-extensions>=3.6.4 in /usr/local/lib/python3.7/dist-packages (from importlib-metadata->click<9.0.0,>=8.0.1->deep-translator) (3.10.0.2)\n",
            "Requirement already satisfied: zipp>=0.5 in /usr/local/lib/python3.7/dist-packages (from importlib-metadata->click<9.0.0,>=8.0.1->deep-translator) (3.6.0)\n",
            "Installing collected packages: soupsieve, click, beautifulsoup4, deep-translator\n",
            "  Attempting uninstall: click\n",
            "    Found existing installation: click 7.1.2\n",
            "    Uninstalling click-7.1.2:\n",
            "      Successfully uninstalled click-7.1.2\n",
            "  Attempting uninstall: beautifulsoup4\n",
            "    Found existing installation: beautifulsoup4 4.6.3\n",
            "    Uninstalling beautifulsoup4-4.6.3:\n",
            "      Successfully uninstalled beautifulsoup4-4.6.3\n",
            "\u001b[31mERROR: pip's dependency resolver does not currently take into account all the packages that are installed. This behaviour is the source of the following dependency conflicts.\n",
            "flask 1.1.4 requires click<8.0,>=5.1, but you have click 8.0.3 which is incompatible.\u001b[0m\n",
            "Successfully installed beautifulsoup4-4.10.0 click-8.0.3 deep-translator-1.5.5 soupsieve-2.3.1\n"
          ]
        }
      ]
    },
    {
      "cell_type": "code",
      "metadata": {
        "id": "O5JmebBGcUUO"
      },
      "source": [
        "import numpy as np\n",
        "import pandas as pd \n",
        "import matplotlib.pyplot as plt\n",
        "%matplotlib inline\n",
        "import seaborn as sns\n"
      ],
      "execution_count": 1,
      "outputs": []
    },
    {
      "cell_type": "code",
      "metadata": {
        "id": "uI_K7aloJBwe"
      },
      "source": [
        "import re"
      ],
      "execution_count": null,
      "outputs": []
    },
    {
      "cell_type": "code",
      "metadata": {
        "id": "OO_qNUbVHLf1"
      },
      "source": [
        "import ftfy"
      ],
      "execution_count": null,
      "outputs": []
    },
    {
      "cell_type": "code",
      "metadata": {
        "id": "xBZmhMvhL7jB"
      },
      "source": [
        "from deep_translator import GoogleTranslator"
      ],
      "execution_count": null,
      "outputs": []
    },
    {
      "cell_type": "code",
      "metadata": {
        "id": "pPTJhR9ilA2_"
      },
      "source": [
        "import string\n",
        "import nltk\n",
        "from nltk.corpus import stopwords\n",
        "from textblob import TextBlob\n",
        "from nltk.corpus import wordnet\n",
        "from nltk.stem import WordNetLemmatizer\n",
        "from nltk.tokenize import word_tokenize"
      ],
      "execution_count": null,
      "outputs": []
    },
    {
      "cell_type": "code",
      "metadata": {
        "id": "_qrQX4V1fQWX"
      },
      "source": [
        "seed = 32"
      ],
      "execution_count": null,
      "outputs": []
    },
    {
      "cell_type": "code",
      "metadata": {
        "id": "mC5FQfaRZnyF"
      },
      "source": [
        "pd.set_option('display.max_colwidth', None)"
      ],
      "execution_count": null,
      "outputs": []
    },
    {
      "cell_type": "code",
      "metadata": {
        "colab": {
          "base_uri": "https://localhost:8080/"
        },
        "id": "VRuVqDnafXfw",
        "outputId": "efd31ed0-62a9-45dd-8791-95a02536e9ae"
      },
      "source": [
        "ata_path = \"/content/sample_data/input_data.xlsx\"\n",
        "print(ata_path)"
      ],
      "execution_count": null,
      "outputs": [
        {
          "output_type": "stream",
          "name": "stdout",
          "text": [
            "/content/sample_data/input_data.xlsx\n"
          ]
        }
      ]
    },
    {
      "cell_type": "code",
      "metadata": {
        "id": "oXo1BQMvN_Iv"
      },
      "source": [
        "def remove_lead_trail_space(text):\n",
        "  return text.strip()"
      ],
      "execution_count": null,
      "outputs": []
    },
    {
      "cell_type": "code",
      "metadata": {
        "id": "F1u0Pb-VOCbv"
      },
      "source": [
        "def convert_to_lowercase(text):\n",
        "  return text.lower()"
      ],
      "execution_count": null,
      "outputs": []
    },
    {
      "cell_type": "code",
      "metadata": {
        "id": "rWyNrEJ4OCh6"
      },
      "source": [
        "def remove_punctuation(text):\n",
        "    PUNCT_TO_REMOVE = string.punctuation\n",
        "    return text.translate(str.maketrans('', '', PUNCT_TO_REMOVE))"
      ],
      "execution_count": null,
      "outputs": []
    },
    {
      "cell_type": "code",
      "metadata": {
        "id": "XD47v7W8OCny"
      },
      "source": [
        "def remove_digits(text):\n",
        "  digits_rem = ''.join((x for x in text if not x.isdigit()))\n",
        "  return digits_rem"
      ],
      "execution_count": null,
      "outputs": []
    },
    {
      "cell_type": "code",
      "metadata": {
        "id": "kYKZDbQIOI7e"
      },
      "source": [
        "def remove_stopwords(text):\n",
        "    STOPWORDS = set(stopwords.words('english'))\n",
        "    return \" \".join([word for word in str(text).split() if word not in STOPWORDS])"
      ],
      "execution_count": null,
      "outputs": []
    },
    {
      "cell_type": "code",
      "metadata": {
        "id": "MDS3BGdsOI_U"
      },
      "source": [
        "def lemmetize_text(text):\n",
        "  lemmatizer = WordNetLemmatizer()\n",
        "  word_list = nltk.word_tokenize(text)\n",
        "  lemmatized_output = ' '.join([lemmatizer.lemmatize(word) for word in word_list])\n",
        "  return lemmatized_output"
      ],
      "execution_count": null,
      "outputs": []
    },
    {
      "cell_type": "code",
      "metadata": {
        "id": "aCjGTC5PjnWJ"
      },
      "source": [
        "def clean_mojibake(text):\n",
        "  cleaned_mojibake = ftfy.fix_text(text)\n",
        "  return cleaned_mojibake"
      ],
      "execution_count": null,
      "outputs": []
    },
    {
      "cell_type": "code",
      "metadata": {
        "id": "ly85KgkMj-Ol"
      },
      "source": [
        "def translate_to_english(text):\n",
        "  translated_text = GoogleTranslator(source='auto', target='english').translate(text)\n",
        "  return translated_text"
      ],
      "execution_count": null,
      "outputs": []
    },
    {
      "cell_type": "code",
      "metadata": {
        "id": "J5P93CL6HpIz"
      },
      "source": [
        "def remove_linebreaks(text):\n",
        "  text = text.replace(\"\\r\",\" \")\n",
        "  text = text.replace(\"\\n\",\" \")\n",
        "  text = text.replace(\"\\t\",\" \")\n",
        "  return text"
      ],
      "execution_count": null,
      "outputs": []
    },
    {
      "cell_type": "code",
      "metadata": {
        "id": "9nVKp1yEVE_U"
      },
      "source": [
        "def extract_received_from_mail(text):\n",
        "  return_text = \"\"\n",
        "  match = re.search(r'received from: [\\w\\.-]+@[\\w\\.-]+', text)\n",
        "  if bool(match):\n",
        "    mail_match = re.search(r'[\\w\\.-]+@[\\w\\.-]+', match.group(0))\n",
        "    return_text = mail_match.group(0)\n",
        "  else:\n",
        "    return_text = \"No Match\"\n",
        "  return return_text"
      ],
      "execution_count": null,
      "outputs": []
    },
    {
      "cell_type": "code",
      "metadata": {
        "id": "ZfI8CZD2yLGZ"
      },
      "source": [
        "def extract_subject_from_mail(text):\n",
        "  return_subject = \"\"\n",
        "  match_subject = re.search(r'subject:.*[\\r\\n\\t\\f\\v]', text)\n",
        "  if bool(match_subject):\n",
        "    return_subject = match_subject.group(0).replace('subject:',\"\")\n",
        "    return_subject = remove_linebreaks(return_subject)\n",
        "    return_subject = remove_lead_trail_space(return_subject)\n",
        "  else:\n",
        "    return_subject = \"No Match\"\n",
        "  return return_subject"
      ],
      "execution_count": null,
      "outputs": []
    },
    {
      "cell_type": "code",
      "metadata": {
        "id": "inYR3fZ4bhRK"
      },
      "source": [
        "def remove_received_from_mail(text):\n",
        "  match = re.search(r'received from: [\\w\\.-]+@[\\w\\.-]+', text)\n",
        "  if bool(match):\n",
        "    text = text.replace(match.group(0),\"\")\n",
        "  return text"
      ],
      "execution_count": null,
      "outputs": []
    },
    {
      "cell_type": "code",
      "metadata": {
        "id": "73AaBvuZJchh"
      },
      "source": [
        "def removed_from_to_sent_date(text):\n",
        "  ## Removes the occurances of \n",
        "  ## from: till any of the line breaks\n",
        "  ## to: till any of the line breaks\n",
        "  ## sent: till any of the line breaks\n",
        "  ## date: till any of the line breaks\n",
        "  ## cc: till any of the line breaks\n",
        "  ## subject: till any of the line breaks\n",
        "  ## importance: till any of the line breaks\n",
        "\n",
        "  match_from = re.findall(r'from:.*[\\r\\n]', text)\n",
        "  match_to = re.findall(r'to:.*[\\r\\n]', text)\n",
        "  match_sent = re.findall(r'sent:.*[\\r\\n]', text)\n",
        "  match_date = re.findall(r'date:.*[\\r\\n]', text)\n",
        "  match_cc = re.findall(r'cc:.*[\\r\\n]', text)\n",
        "  match_subject = re.findall(r'subject:.*[\\r\\n]', text)\n",
        "  match_importance = re.findall(r'importance:.*[\\r\\n]', text)\n",
        "  match_first_name = re.findall(r'first name.*[\\r\\n]', text)\n",
        "  match_last_name = re.findall(r'last name.*[\\r\\n]', text)\n",
        "  match_user_name_space = re.findall(r'user name:.*[\\r\\n]', text)\n",
        "  match_user_name = re.findall(r'username:.*[\\r\\n]', text)\n",
        "  match_name = re.findall(r'name:.*[\\r\\n]', text)\n",
        "  match_language = re.findall(r'language:.*[\\r\\n]', text)\n",
        "  match_browser = re.findall(r'browser:.*[\\r\\n]', text)\n",
        "  match_mail_id = re.findall(r'mail id:.*[\\r\\n]', text)\n",
        "  match_email_address = re.findall(r'email address:.*[\\r\\n]', text)\n",
        "  match_email = re.findall(r'email:.*[\\r\\n]', text)\n",
        "  match_customernumber = re.findall(r'customer number:.*[\\r\\n]', text)\n",
        "  match_customerjobtitle = re.findall(r'customer job title:.*[\\r\\n]', text)\n",
        "  match_telephone = re.findall(r'telephone:.*[\\r\\n]', text)\n",
        "  match_contact = re.findall(r'contact #:.*[\\r\\n]', text)\n",
        "  match_vit_ref_num = re.findall(r'vitalyst reference number:.*[\\r\\n]', text)\n",
        "  match_supervisor = re.findall(r'supervisor:.*[\\r\\n]', text)\n",
        "  match_manager = re.findall(r'manager.*[\\r\\n]', text)\n",
        "  match_i_number = re.findall(r'i number:.*[\\r\\n]', text)\n",
        "  match_cost_center = re.findall(r'cost center.*[\\r\\n]', text)\n",
        "  match_ext_comp = re.findall(r'external company name.*[\\r\\n]', text)\n",
        "  match_emp_id = re.findall(r'emp id:.*[\\r\\n]', text)\n",
        "  match_emb_image = re.findall(r'\\[cid:image.*\\]', text)\n",
        "  match_summary = re.findall(r'summary:', text)\n",
        "\n",
        "  all_matches = match_from + match_to + match_sent + match_date + match_cc + match_subject + match_importance + match_first_name + match_last_name + match_user_name_space + match_user_name + match_name + match_language + match_browser + match_mail_id + match_email_address + match_email + match_customernumber + match_telephone + match_summary + match_customerjobtitle + match_contact + match_vit_ref_num + match_supervisor + match_manager + match_i_number + match_cost_center + match_ext_comp + match_emp_id + match_emb_image\n",
        "\n",
        "  for matched_text in all_matches:\n",
        "    text = text.replace(matched_text, \"\")\n",
        "\n",
        "  return text"
      ],
      "execution_count": null,
      "outputs": []
    },
    {
      "cell_type": "code",
      "metadata": {
        "id": "P5EVl-AuOJBE"
      },
      "source": [
        "def preprocess_text_part1(text):\n",
        "  text = clean_mojibake(text)\n",
        "  text = convert_to_lowercase(text)\n",
        "  return text"
      ],
      "execution_count": null,
      "outputs": []
    },
    {
      "cell_type": "code",
      "metadata": {
        "id": "mTlp8UkxOJDd"
      },
      "source": [
        "def preprocess_text_part2(text):\n",
        "  text = remove_received_from_mail(text)\n",
        "  text = removed_from_to_sent_date(text)\n",
        "  text = remove_linebreaks(text)\n",
        "  text = remove_lead_trail_space(text)\n",
        "  text = remove_punctuation(text) \n",
        "  text = remove_digits(text)\n",
        "  #text = translate_to_english(text)\n",
        "  #text = remove_stopwords(text)\n",
        "  #text = lemmetize_text(text)\n",
        "  return text\n"
      ],
      "execution_count": null,
      "outputs": []
    },
    {
      "cell_type": "code",
      "metadata": {
        "id": "VgoQZvvOOJGN"
      },
      "source": [
        ""
      ],
      "execution_count": null,
      "outputs": []
    },
    {
      "cell_type": "code",
      "metadata": {
        "id": "FK973jgFOJJW"
      },
      "source": [
        ""
      ],
      "execution_count": null,
      "outputs": []
    },
    {
      "cell_type": "code",
      "metadata": {
        "id": "febtX6TYfgqE"
      },
      "source": [
        "ata_data = pd.read_excel('/content/sample_data/input_data.xlsx') "
      ],
      "execution_count": null,
      "outputs": []
    },
    {
      "cell_type": "code",
      "metadata": {
        "colab": {
          "base_uri": "https://localhost:8080/",
          "height": 358
        },
        "id": "IK1YlL23gBU7",
        "outputId": "54421ae9-f871-4a63-9abf-57ad21edcfa6"
      },
      "source": [
        "ata_data.head()"
      ],
      "execution_count": null,
      "outputs": [
        {
          "output_type": "execute_result",
          "data": {
            "text/html": [
              "<div>\n",
              "<style scoped>\n",
              "    .dataframe tbody tr th:only-of-type {\n",
              "        vertical-align: middle;\n",
              "    }\n",
              "\n",
              "    .dataframe tbody tr th {\n",
              "        vertical-align: top;\n",
              "    }\n",
              "\n",
              "    .dataframe thead th {\n",
              "        text-align: right;\n",
              "    }\n",
              "</style>\n",
              "<table border=\"1\" class=\"dataframe\">\n",
              "  <thead>\n",
              "    <tr style=\"text-align: right;\">\n",
              "      <th></th>\n",
              "      <th>Short description</th>\n",
              "      <th>Description</th>\n",
              "      <th>Caller</th>\n",
              "      <th>Assignment group</th>\n",
              "    </tr>\n",
              "  </thead>\n",
              "  <tbody>\n",
              "    <tr>\n",
              "      <th>0</th>\n",
              "      <td>login issue</td>\n",
              "      <td>-verified user details.(employee# &amp; manager name)\\r\\n-checked the user name in ad and reset the password.\\r\\n-advised the user to login and check.\\r\\n-caller confirmed that he was able to login.\\r\\n-issue resolved.</td>\n",
              "      <td>spxjnwir pjlcoqds</td>\n",
              "      <td>GRP_0</td>\n",
              "    </tr>\n",
              "    <tr>\n",
              "      <th>1</th>\n",
              "      <td>outlook</td>\n",
              "      <td>\\r\\n\\r\\nreceived from: hmjdrvpb.komuaywn@gmail.com\\r\\n\\r\\nhello team,\\r\\n\\r\\nmy meetings/skype meetings etc are not appearing in my outlook calendar, can somebody please advise how to correct this?\\r\\n\\r\\nkind</td>\n",
              "      <td>hmjdrvpb komuaywn</td>\n",
              "      <td>GRP_0</td>\n",
              "    </tr>\n",
              "    <tr>\n",
              "      <th>2</th>\n",
              "      <td>cant log in to vpn</td>\n",
              "      <td>\\r\\n\\r\\nreceived from: eylqgodm.ybqkwiam@gmail.com\\r\\n\\r\\nhi\\r\\n\\r\\ni cannot log on to vpn\\r\\n\\r\\nbest</td>\n",
              "      <td>eylqgodm ybqkwiam</td>\n",
              "      <td>GRP_0</td>\n",
              "    </tr>\n",
              "    <tr>\n",
              "      <th>3</th>\n",
              "      <td>unable to access hr_tool page</td>\n",
              "      <td>unable to access hr_tool page</td>\n",
              "      <td>xbkucsvz gcpydteq</td>\n",
              "      <td>GRP_0</td>\n",
              "    </tr>\n",
              "    <tr>\n",
              "      <th>4</th>\n",
              "      <td>skype error</td>\n",
              "      <td>skype error</td>\n",
              "      <td>owlgqjme qhcozdfx</td>\n",
              "      <td>GRP_0</td>\n",
              "    </tr>\n",
              "  </tbody>\n",
              "</table>\n",
              "</div>"
            ],
            "text/plain": [
              "               Short description  ... Assignment group\n",
              "0                    login issue  ...            GRP_0\n",
              "1                        outlook  ...            GRP_0\n",
              "2             cant log in to vpn  ...            GRP_0\n",
              "3  unable to access hr_tool page  ...            GRP_0\n",
              "4                   skype error   ...            GRP_0\n",
              "\n",
              "[5 rows x 4 columns]"
            ]
          },
          "metadata": {},
          "execution_count": 28
        }
      ]
    },
    {
      "cell_type": "code",
      "metadata": {
        "colab": {
          "base_uri": "https://localhost:8080/",
          "height": 341
        },
        "id": "1phX7B35gDW0",
        "outputId": "575f5dde-1147-4a22-aa50-fdeba4d25f21"
      },
      "source": [
        "ata_data.tail()"
      ],
      "execution_count": null,
      "outputs": [
        {
          "output_type": "execute_result",
          "data": {
            "text/html": [
              "<div>\n",
              "<style scoped>\n",
              "    .dataframe tbody tr th:only-of-type {\n",
              "        vertical-align: middle;\n",
              "    }\n",
              "\n",
              "    .dataframe tbody tr th {\n",
              "        vertical-align: top;\n",
              "    }\n",
              "\n",
              "    .dataframe thead th {\n",
              "        text-align: right;\n",
              "    }\n",
              "</style>\n",
              "<table border=\"1\" class=\"dataframe\">\n",
              "  <thead>\n",
              "    <tr style=\"text-align: right;\">\n",
              "      <th></th>\n",
              "      <th>Short description</th>\n",
              "      <th>Description</th>\n",
              "      <th>Caller</th>\n",
              "      <th>Assignment group</th>\n",
              "    </tr>\n",
              "  </thead>\n",
              "  <tbody>\n",
              "    <tr>\n",
              "      <th>8495</th>\n",
              "      <td>emails not coming in from zz mail</td>\n",
              "      <td>\\r\\n\\r\\nreceived from: avglmrts.vhqmtiua@gmail.com\\r\\n\\r\\ngood afternoon,\\r\\ni am not receiving the emails that i sent from zz mail.\\r\\nplease advise\\r\\n\\r\\n</td>\n",
              "      <td>avglmrts vhqmtiua</td>\n",
              "      <td>GRP_29</td>\n",
              "    </tr>\n",
              "    <tr>\n",
              "      <th>8496</th>\n",
              "      <td>telephony_software issue</td>\n",
              "      <td>telephony_software issue</td>\n",
              "      <td>rbozivdq gmlhrtvp</td>\n",
              "      <td>GRP_0</td>\n",
              "    </tr>\n",
              "    <tr>\n",
              "      <th>8497</th>\n",
              "      <td>vip2: windows password reset for tifpdchb pedxruyf</td>\n",
              "      <td>vip2: windows password reset for tifpdchb pedxruyf</td>\n",
              "      <td>oybwdsgx oxyhwrfz</td>\n",
              "      <td>GRP_0</td>\n",
              "    </tr>\n",
              "    <tr>\n",
              "      <th>8498</th>\n",
              "      <td>machine nÃ£o estÃ¡ funcionando</td>\n",
              "      <td>i am unable to access the machine utilities to finish the drawers adjustment settings.\\r\\nis no network..</td>\n",
              "      <td>ufawcgob aowhxjky</td>\n",
              "      <td>GRP_62</td>\n",
              "    </tr>\n",
              "    <tr>\n",
              "      <th>8499</th>\n",
              "      <td>an mehreren pc`s lassen sich verschiedene prgramdntyme nicht Ã¶ffnen.</td>\n",
              "      <td>an mehreren pc`s lassen sich verschiedene prgramdntyme nicht Ã¶ffnen. bereich cnc.</td>\n",
              "      <td>kqvbrspl jyzoklfx</td>\n",
              "      <td>GRP_49</td>\n",
              "    </tr>\n",
              "  </tbody>\n",
              "</table>\n",
              "</div>"
            ],
            "text/plain": [
              "                                                           Short description  ... Assignment group\n",
              "8495                                       emails not coming in from zz mail  ...           GRP_29\n",
              "8496                                                telephony_software issue  ...            GRP_0\n",
              "8497                      vip2: windows password reset for tifpdchb pedxruyf  ...            GRP_0\n",
              "8498                                          machine nÃ£o estÃ¡ funcionando  ...           GRP_62\n",
              "8499  an mehreren pc`s lassen sich verschiedene prgramdntyme nicht Ã¶ffnen.   ...           GRP_49\n",
              "\n",
              "[5 rows x 4 columns]"
            ]
          },
          "metadata": {},
          "execution_count": 29
        }
      ]
    },
    {
      "cell_type": "code",
      "metadata": {
        "colab": {
          "base_uri": "https://localhost:8080/"
        },
        "id": "oxltLLFmgcAD",
        "outputId": "d7720057-f3dd-4c7d-99cb-ece8c725a71d"
      },
      "source": [
        "ata_data.shape"
      ],
      "execution_count": null,
      "outputs": [
        {
          "output_type": "execute_result",
          "data": {
            "text/plain": [
              "(8500, 4)"
            ]
          },
          "metadata": {},
          "execution_count": 30
        }
      ]
    },
    {
      "cell_type": "code",
      "metadata": {
        "colab": {
          "base_uri": "https://localhost:8080/"
        },
        "id": "_CKaUIToZqZf",
        "outputId": "f34ca6ba-0fd1-4d31-e6f0-41b5f22e0885"
      },
      "source": [
        "ata_data.isnull().sum()"
      ],
      "execution_count": null,
      "outputs": [
        {
          "output_type": "execute_result",
          "data": {
            "text/plain": [
              "Short description    8\n",
              "Description          1\n",
              "Caller               0\n",
              "Assignment group     0\n",
              "dtype: int64"
            ]
          },
          "metadata": {},
          "execution_count": 31
        }
      ]
    },
    {
      "cell_type": "markdown",
      "metadata": {
        "id": "dXmF2vaOaSJ4"
      },
      "source": [
        "There are some null values in Short Description & Description column and putting them in a different column for analysis purpose"
      ]
    },
    {
      "cell_type": "code",
      "metadata": {
        "colab": {
          "base_uri": "https://localhost:8080/",
          "height": 589
        },
        "id": "Xo5typntafF2",
        "outputId": "d2e04d39-d849-42f5-e20b-2f0652ec0fdc"
      },
      "source": [
        "ata_data[ata_data['Short description'].isnull()]"
      ],
      "execution_count": null,
      "outputs": [
        {
          "output_type": "execute_result",
          "data": {
            "text/html": [
              "<div>\n",
              "<style scoped>\n",
              "    .dataframe tbody tr th:only-of-type {\n",
              "        vertical-align: middle;\n",
              "    }\n",
              "\n",
              "    .dataframe tbody tr th {\n",
              "        vertical-align: top;\n",
              "    }\n",
              "\n",
              "    .dataframe thead th {\n",
              "        text-align: right;\n",
              "    }\n",
              "</style>\n",
              "<table border=\"1\" class=\"dataframe\">\n",
              "  <thead>\n",
              "    <tr style=\"text-align: right;\">\n",
              "      <th></th>\n",
              "      <th>Short description</th>\n",
              "      <th>Description</th>\n",
              "      <th>Caller</th>\n",
              "      <th>Assignment group</th>\n",
              "    </tr>\n",
              "  </thead>\n",
              "  <tbody>\n",
              "    <tr>\n",
              "      <th>2604</th>\n",
              "      <td>NaN</td>\n",
              "      <td>\\r\\n\\r\\nreceived from: ohdrnswl.rezuibdt@gmail.com\\r\\n\\r\\nhi,\\r\\n\\r\\n\\r\\n\\r\\nlink is not working. kindly resolve yhe issue on urgent basis.\\r\\n\\r\\n\\r\\n\\r\\nbest</td>\n",
              "      <td>ohdrnswl rezuibdt</td>\n",
              "      <td>GRP_34</td>\n",
              "    </tr>\n",
              "    <tr>\n",
              "      <th>3383</th>\n",
              "      <td>NaN</td>\n",
              "      <td>\\r\\n-connected to the user system using teamviewer.\\r\\n-help the user login to the portal.\\r\\n-issue resolved.</td>\n",
              "      <td>qftpazns fxpnytmk</td>\n",
              "      <td>GRP_0</td>\n",
              "    </tr>\n",
              "    <tr>\n",
              "      <th>3906</th>\n",
              "      <td>NaN</td>\n",
              "      <td>-user unable  tologin to vpn.\\r\\n-connected to the user system using teamviewer.\\r\\n-help the user login to the company vpn using the vpn company vpn link.\\r\\n-issue resolved.</td>\n",
              "      <td>awpcmsey ctdiuqwe</td>\n",
              "      <td>GRP_0</td>\n",
              "    </tr>\n",
              "    <tr>\n",
              "      <th>3910</th>\n",
              "      <td>NaN</td>\n",
              "      <td>-user unable  tologin to vpn.\\r\\n-connected to the user system using teamviewer.\\r\\n-help the user login to the company vpn using the vpn company vpn link.\\r\\n-issue resolved.</td>\n",
              "      <td>rhwsmefo tvphyura</td>\n",
              "      <td>GRP_0</td>\n",
              "    </tr>\n",
              "    <tr>\n",
              "      <th>3915</th>\n",
              "      <td>NaN</td>\n",
              "      <td>-user unable  tologin to vpn.\\r\\n-connected to the user system using teamviewer.\\r\\n-help the user login to the company vpn using the vpn company vpn link.\\r\\n-issue resolved.</td>\n",
              "      <td>hxripljo efzounig</td>\n",
              "      <td>GRP_0</td>\n",
              "    </tr>\n",
              "    <tr>\n",
              "      <th>3921</th>\n",
              "      <td>NaN</td>\n",
              "      <td>-user unable  tologin to vpn.\\r\\n-connected to the user system using teamviewer.\\r\\n-help the user login to the company vpn using the vpn company vpn link.\\r\\n-issue resolved.</td>\n",
              "      <td>cziadygo veiosxby</td>\n",
              "      <td>GRP_0</td>\n",
              "    </tr>\n",
              "    <tr>\n",
              "      <th>3924</th>\n",
              "      <td>NaN</td>\n",
              "      <td>name:wvqgbdhm fwchqjor\\nlanguage:\\nbrowser:microsoft internet explorer\\nemail:wvqgbdhm.fwchqjor@gmail.com\\ncustomer number:\\ntelephone:-not available\\nsummary:can't get into vpn - need to be on at 4:30 est and it wont' happen please help aerp!</td>\n",
              "      <td>wvqgbdhm fwchqjor</td>\n",
              "      <td>GRP_0</td>\n",
              "    </tr>\n",
              "    <tr>\n",
              "      <th>4341</th>\n",
              "      <td>NaN</td>\n",
              "      <td>\\r\\n\\r\\nreceived from: eqmuniov.ehxkcbgj@gmail.com\\r\\n\\r\\ngood morning,\\r\\n\\r\\nwhen  trying to log on to erp i get this error below.\\r\\nplease help  urgently as i can not process customer order.\\r\\n\\r\\n[cid:image001.png@01d20f2e.751db880]\\r\\n\\r\\n\\r\\n</td>\n",
              "      <td>eqmuniov ehxkcbgj</td>\n",
              "      <td>GRP_0</td>\n",
              "    </tr>\n",
              "  </tbody>\n",
              "</table>\n",
              "</div>"
            ],
            "text/plain": [
              "     Short description  ... Assignment group\n",
              "2604               NaN  ...           GRP_34\n",
              "3383               NaN  ...            GRP_0\n",
              "3906               NaN  ...            GRP_0\n",
              "3910               NaN  ...            GRP_0\n",
              "3915               NaN  ...            GRP_0\n",
              "3921               NaN  ...            GRP_0\n",
              "3924               NaN  ...            GRP_0\n",
              "4341               NaN  ...            GRP_0\n",
              "\n",
              "[8 rows x 4 columns]"
            ]
          },
          "metadata": {},
          "execution_count": 32
        }
      ]
    },
    {
      "cell_type": "code",
      "metadata": {
        "colab": {
          "base_uri": "https://localhost:8080/",
          "height": 79
        },
        "id": "WkV0ry7xafRv",
        "outputId": "b8efcd99-99f4-421e-d23c-606e744cf3a4"
      },
      "source": [
        "ata_data[ata_data['Description'].isnull()]"
      ],
      "execution_count": null,
      "outputs": [
        {
          "output_type": "execute_result",
          "data": {
            "text/html": [
              "<div>\n",
              "<style scoped>\n",
              "    .dataframe tbody tr th:only-of-type {\n",
              "        vertical-align: middle;\n",
              "    }\n",
              "\n",
              "    .dataframe tbody tr th {\n",
              "        vertical-align: top;\n",
              "    }\n",
              "\n",
              "    .dataframe thead th {\n",
              "        text-align: right;\n",
              "    }\n",
              "</style>\n",
              "<table border=\"1\" class=\"dataframe\">\n",
              "  <thead>\n",
              "    <tr style=\"text-align: right;\">\n",
              "      <th></th>\n",
              "      <th>Short description</th>\n",
              "      <th>Description</th>\n",
              "      <th>Caller</th>\n",
              "      <th>Assignment group</th>\n",
              "    </tr>\n",
              "  </thead>\n",
              "  <tbody>\n",
              "    <tr>\n",
              "      <th>4395</th>\n",
              "      <td>i am locked out of skype</td>\n",
              "      <td>NaN</td>\n",
              "      <td>viyglzfo ajtfzpkb</td>\n",
              "      <td>GRP_0</td>\n",
              "    </tr>\n",
              "  </tbody>\n",
              "</table>\n",
              "</div>"
            ],
            "text/plain": [
              "             Short description Description             Caller Assignment group\n",
              "4395  i am locked out of skype         NaN  viyglzfo ajtfzpkb            GRP_0"
            ]
          },
          "metadata": {},
          "execution_count": 33
        }
      ]
    },
    {
      "cell_type": "code",
      "metadata": {
        "colab": {
          "base_uri": "https://localhost:8080/",
          "height": 589
        },
        "id": "ExVn8EFog6a-",
        "outputId": "bfc1fb04-6b31-49a7-b532-7e5677ed74a9"
      },
      "source": [
        "sd_null = ata_data[ata_data['Short description'].isnull()]\n",
        "sd_null"
      ],
      "execution_count": null,
      "outputs": [
        {
          "output_type": "execute_result",
          "data": {
            "text/html": [
              "<div>\n",
              "<style scoped>\n",
              "    .dataframe tbody tr th:only-of-type {\n",
              "        vertical-align: middle;\n",
              "    }\n",
              "\n",
              "    .dataframe tbody tr th {\n",
              "        vertical-align: top;\n",
              "    }\n",
              "\n",
              "    .dataframe thead th {\n",
              "        text-align: right;\n",
              "    }\n",
              "</style>\n",
              "<table border=\"1\" class=\"dataframe\">\n",
              "  <thead>\n",
              "    <tr style=\"text-align: right;\">\n",
              "      <th></th>\n",
              "      <th>Short description</th>\n",
              "      <th>Description</th>\n",
              "      <th>Caller</th>\n",
              "      <th>Assignment group</th>\n",
              "    </tr>\n",
              "  </thead>\n",
              "  <tbody>\n",
              "    <tr>\n",
              "      <th>2604</th>\n",
              "      <td>NaN</td>\n",
              "      <td>\\r\\n\\r\\nreceived from: ohdrnswl.rezuibdt@gmail.com\\r\\n\\r\\nhi,\\r\\n\\r\\n\\r\\n\\r\\nlink is not working. kindly resolve yhe issue on urgent basis.\\r\\n\\r\\n\\r\\n\\r\\nbest</td>\n",
              "      <td>ohdrnswl rezuibdt</td>\n",
              "      <td>GRP_34</td>\n",
              "    </tr>\n",
              "    <tr>\n",
              "      <th>3383</th>\n",
              "      <td>NaN</td>\n",
              "      <td>\\r\\n-connected to the user system using teamviewer.\\r\\n-help the user login to the portal.\\r\\n-issue resolved.</td>\n",
              "      <td>qftpazns fxpnytmk</td>\n",
              "      <td>GRP_0</td>\n",
              "    </tr>\n",
              "    <tr>\n",
              "      <th>3906</th>\n",
              "      <td>NaN</td>\n",
              "      <td>-user unable  tologin to vpn.\\r\\n-connected to the user system using teamviewer.\\r\\n-help the user login to the company vpn using the vpn company vpn link.\\r\\n-issue resolved.</td>\n",
              "      <td>awpcmsey ctdiuqwe</td>\n",
              "      <td>GRP_0</td>\n",
              "    </tr>\n",
              "    <tr>\n",
              "      <th>3910</th>\n",
              "      <td>NaN</td>\n",
              "      <td>-user unable  tologin to vpn.\\r\\n-connected to the user system using teamviewer.\\r\\n-help the user login to the company vpn using the vpn company vpn link.\\r\\n-issue resolved.</td>\n",
              "      <td>rhwsmefo tvphyura</td>\n",
              "      <td>GRP_0</td>\n",
              "    </tr>\n",
              "    <tr>\n",
              "      <th>3915</th>\n",
              "      <td>NaN</td>\n",
              "      <td>-user unable  tologin to vpn.\\r\\n-connected to the user system using teamviewer.\\r\\n-help the user login to the company vpn using the vpn company vpn link.\\r\\n-issue resolved.</td>\n",
              "      <td>hxripljo efzounig</td>\n",
              "      <td>GRP_0</td>\n",
              "    </tr>\n",
              "    <tr>\n",
              "      <th>3921</th>\n",
              "      <td>NaN</td>\n",
              "      <td>-user unable  tologin to vpn.\\r\\n-connected to the user system using teamviewer.\\r\\n-help the user login to the company vpn using the vpn company vpn link.\\r\\n-issue resolved.</td>\n",
              "      <td>cziadygo veiosxby</td>\n",
              "      <td>GRP_0</td>\n",
              "    </tr>\n",
              "    <tr>\n",
              "      <th>3924</th>\n",
              "      <td>NaN</td>\n",
              "      <td>name:wvqgbdhm fwchqjor\\nlanguage:\\nbrowser:microsoft internet explorer\\nemail:wvqgbdhm.fwchqjor@gmail.com\\ncustomer number:\\ntelephone:-not available\\nsummary:can't get into vpn - need to be on at 4:30 est and it wont' happen please help aerp!</td>\n",
              "      <td>wvqgbdhm fwchqjor</td>\n",
              "      <td>GRP_0</td>\n",
              "    </tr>\n",
              "    <tr>\n",
              "      <th>4341</th>\n",
              "      <td>NaN</td>\n",
              "      <td>\\r\\n\\r\\nreceived from: eqmuniov.ehxkcbgj@gmail.com\\r\\n\\r\\ngood morning,\\r\\n\\r\\nwhen  trying to log on to erp i get this error below.\\r\\nplease help  urgently as i can not process customer order.\\r\\n\\r\\n[cid:image001.png@01d20f2e.751db880]\\r\\n\\r\\n\\r\\n</td>\n",
              "      <td>eqmuniov ehxkcbgj</td>\n",
              "      <td>GRP_0</td>\n",
              "    </tr>\n",
              "  </tbody>\n",
              "</table>\n",
              "</div>"
            ],
            "text/plain": [
              "     Short description  ... Assignment group\n",
              "2604               NaN  ...           GRP_34\n",
              "3383               NaN  ...            GRP_0\n",
              "3906               NaN  ...            GRP_0\n",
              "3910               NaN  ...            GRP_0\n",
              "3915               NaN  ...            GRP_0\n",
              "3921               NaN  ...            GRP_0\n",
              "3924               NaN  ...            GRP_0\n",
              "4341               NaN  ...            GRP_0\n",
              "\n",
              "[8 rows x 4 columns]"
            ]
          },
          "metadata": {},
          "execution_count": 34
        }
      ]
    },
    {
      "cell_type": "markdown",
      "metadata": {
        "id": "mYgi1a8IbGWE"
      },
      "source": [
        "Places where Short Description is null - replacing it with Description and vice versa."
      ]
    },
    {
      "cell_type": "code",
      "metadata": {
        "id": "eRF0joZpbFR7"
      },
      "source": [
        "ata_data['short_desc_analysis'] = np.where(ata_data['Short description'].isnull(), ata_data['Description'], ata_data['Short description'])\n",
        "ata_data['desc_analysis'] = np.where(ata_data['Description'].isnull(), ata_data['Short description'], ata_data['Description'])"
      ],
      "execution_count": null,
      "outputs": []
    },
    {
      "cell_type": "markdown",
      "metadata": {
        "id": "H9IrZqa3_fo-"
      },
      "source": [
        "compare length of desc and short desc, if desc char length is greater than short desc then fine other wise replace short desc with desc for desc column"
      ]
    },
    {
      "cell_type": "code",
      "metadata": {
        "id": "ZoO1Ji8u_ecN"
      },
      "source": [
        "ata_data['desc_analysis'] = np.where( len(ata_data['Description'])<len(ata_data['Short description']) , ata_data['Short description'], ata_data['Description'])"
      ],
      "execution_count": null,
      "outputs": []
    },
    {
      "cell_type": "code",
      "metadata": {
        "colab": {
          "base_uri": "https://localhost:8080/",
          "height": 482
        },
        "id": "RP5NTXSLZ4Zi",
        "outputId": "50356ef4-229f-4d62-f6e2-0367eba3a48d"
      },
      "source": [
        "ata_data.head()"
      ],
      "execution_count": null,
      "outputs": [
        {
          "output_type": "execute_result",
          "data": {
            "text/html": [
              "<div>\n",
              "<style scoped>\n",
              "    .dataframe tbody tr th:only-of-type {\n",
              "        vertical-align: middle;\n",
              "    }\n",
              "\n",
              "    .dataframe tbody tr th {\n",
              "        vertical-align: top;\n",
              "    }\n",
              "\n",
              "    .dataframe thead th {\n",
              "        text-align: right;\n",
              "    }\n",
              "</style>\n",
              "<table border=\"1\" class=\"dataframe\">\n",
              "  <thead>\n",
              "    <tr style=\"text-align: right;\">\n",
              "      <th></th>\n",
              "      <th>Short description</th>\n",
              "      <th>Description</th>\n",
              "      <th>Caller</th>\n",
              "      <th>Assignment group</th>\n",
              "      <th>short_desc_analysis</th>\n",
              "      <th>desc_analysis</th>\n",
              "    </tr>\n",
              "  </thead>\n",
              "  <tbody>\n",
              "    <tr>\n",
              "      <th>0</th>\n",
              "      <td>login issue</td>\n",
              "      <td>-verified user details.(employee# &amp; manager name)\\r\\n-checked the user name in ad and reset the password.\\r\\n-advised the user to login and check.\\r\\n-caller confirmed that he was able to login.\\r\\n-issue resolved.</td>\n",
              "      <td>spxjnwir pjlcoqds</td>\n",
              "      <td>GRP_0</td>\n",
              "      <td>login issue</td>\n",
              "      <td>-verified user details.(employee# &amp; manager name)\\r\\n-checked the user name in ad and reset the password.\\r\\n-advised the user to login and check.\\r\\n-caller confirmed that he was able to login.\\r\\n-issue resolved.</td>\n",
              "    </tr>\n",
              "    <tr>\n",
              "      <th>1</th>\n",
              "      <td>outlook</td>\n",
              "      <td>\\r\\n\\r\\nreceived from: hmjdrvpb.komuaywn@gmail.com\\r\\n\\r\\nhello team,\\r\\n\\r\\nmy meetings/skype meetings etc are not appearing in my outlook calendar, can somebody please advise how to correct this?\\r\\n\\r\\nkind</td>\n",
              "      <td>hmjdrvpb komuaywn</td>\n",
              "      <td>GRP_0</td>\n",
              "      <td>outlook</td>\n",
              "      <td>\\r\\n\\r\\nreceived from: hmjdrvpb.komuaywn@gmail.com\\r\\n\\r\\nhello team,\\r\\n\\r\\nmy meetings/skype meetings etc are not appearing in my outlook calendar, can somebody please advise how to correct this?\\r\\n\\r\\nkind</td>\n",
              "    </tr>\n",
              "    <tr>\n",
              "      <th>2</th>\n",
              "      <td>cant log in to vpn</td>\n",
              "      <td>\\r\\n\\r\\nreceived from: eylqgodm.ybqkwiam@gmail.com\\r\\n\\r\\nhi\\r\\n\\r\\ni cannot log on to vpn\\r\\n\\r\\nbest</td>\n",
              "      <td>eylqgodm ybqkwiam</td>\n",
              "      <td>GRP_0</td>\n",
              "      <td>cant log in to vpn</td>\n",
              "      <td>\\r\\n\\r\\nreceived from: eylqgodm.ybqkwiam@gmail.com\\r\\n\\r\\nhi\\r\\n\\r\\ni cannot log on to vpn\\r\\n\\r\\nbest</td>\n",
              "    </tr>\n",
              "    <tr>\n",
              "      <th>3</th>\n",
              "      <td>unable to access hr_tool page</td>\n",
              "      <td>unable to access hr_tool page</td>\n",
              "      <td>xbkucsvz gcpydteq</td>\n",
              "      <td>GRP_0</td>\n",
              "      <td>unable to access hr_tool page</td>\n",
              "      <td>unable to access hr_tool page</td>\n",
              "    </tr>\n",
              "    <tr>\n",
              "      <th>4</th>\n",
              "      <td>skype error</td>\n",
              "      <td>skype error</td>\n",
              "      <td>owlgqjme qhcozdfx</td>\n",
              "      <td>GRP_0</td>\n",
              "      <td>skype error</td>\n",
              "      <td>skype error</td>\n",
              "    </tr>\n",
              "  </tbody>\n",
              "</table>\n",
              "</div>"
            ],
            "text/plain": [
              "               Short description  ...                                                                                                                                                                                                           desc_analysis\n",
              "0                    login issue  ...  -verified user details.(employee# & manager name)\\r\\n-checked the user name in ad and reset the password.\\r\\n-advised the user to login and check.\\r\\n-caller confirmed that he was able to login.\\r\\n-issue resolved.\n",
              "1                        outlook  ...      \\r\\n\\r\\nreceived from: hmjdrvpb.komuaywn@gmail.com\\r\\n\\r\\nhello team,\\r\\n\\r\\nmy meetings/skype meetings etc are not appearing in my outlook calendar, can somebody please advise how to correct this?\\r\\n\\r\\nkind \n",
              "2             cant log in to vpn  ...                                                                                                                 \\r\\n\\r\\nreceived from: eylqgodm.ybqkwiam@gmail.com\\r\\n\\r\\nhi\\r\\n\\r\\ni cannot log on to vpn\\r\\n\\r\\nbest \n",
              "3  unable to access hr_tool page  ...                                                                                                                                                                                           unable to access hr_tool page\n",
              "4                   skype error   ...                                                                                                                                                                                                            skype error \n",
              "\n",
              "[5 rows x 6 columns]"
            ]
          },
          "metadata": {},
          "execution_count": 37
        }
      ]
    },
    {
      "cell_type": "code",
      "metadata": {
        "colab": {
          "base_uri": "https://localhost:8080/"
        },
        "id": "3m4GSXfZbFeD",
        "outputId": "1c1821cb-e06b-43e8-ddb6-3409d37a4dbe"
      },
      "source": [
        "ata_data.isnull().sum()"
      ],
      "execution_count": null,
      "outputs": [
        {
          "output_type": "execute_result",
          "data": {
            "text/plain": [
              "Short description      8\n",
              "Description            1\n",
              "Caller                 0\n",
              "Assignment group       0\n",
              "short_desc_analysis    0\n",
              "desc_analysis          1\n",
              "dtype: int64"
            ]
          },
          "metadata": {},
          "execution_count": 38
        }
      ]
    },
    {
      "cell_type": "code",
      "metadata": {
        "colab": {
          "base_uri": "https://localhost:8080/",
          "height": 695
        },
        "id": "IVplfIK6iumO",
        "outputId": "4c2f6b8d-3c0c-4a86-edcb-eacffd789dec"
      },
      "source": [
        "ata_data[ata_data['Short description'].isnull()]"
      ],
      "execution_count": null,
      "outputs": [
        {
          "output_type": "execute_result",
          "data": {
            "text/html": [
              "<div>\n",
              "<style scoped>\n",
              "    .dataframe tbody tr th:only-of-type {\n",
              "        vertical-align: middle;\n",
              "    }\n",
              "\n",
              "    .dataframe tbody tr th {\n",
              "        vertical-align: top;\n",
              "    }\n",
              "\n",
              "    .dataframe thead th {\n",
              "        text-align: right;\n",
              "    }\n",
              "</style>\n",
              "<table border=\"1\" class=\"dataframe\">\n",
              "  <thead>\n",
              "    <tr style=\"text-align: right;\">\n",
              "      <th></th>\n",
              "      <th>Short description</th>\n",
              "      <th>Description</th>\n",
              "      <th>Caller</th>\n",
              "      <th>Assignment group</th>\n",
              "      <th>short_desc_analysis</th>\n",
              "      <th>desc_analysis</th>\n",
              "    </tr>\n",
              "  </thead>\n",
              "  <tbody>\n",
              "    <tr>\n",
              "      <th>2604</th>\n",
              "      <td>NaN</td>\n",
              "      <td>\\r\\n\\r\\nreceived from: ohdrnswl.rezuibdt@gmail.com\\r\\n\\r\\nhi,\\r\\n\\r\\n\\r\\n\\r\\nlink is not working. kindly resolve yhe issue on urgent basis.\\r\\n\\r\\n\\r\\n\\r\\nbest</td>\n",
              "      <td>ohdrnswl rezuibdt</td>\n",
              "      <td>GRP_34</td>\n",
              "      <td>\\r\\n\\r\\nreceived from: ohdrnswl.rezuibdt@gmail.com\\r\\n\\r\\nhi,\\r\\n\\r\\n\\r\\n\\r\\nlink is not working. kindly resolve yhe issue on urgent basis.\\r\\n\\r\\n\\r\\n\\r\\nbest</td>\n",
              "      <td>\\r\\n\\r\\nreceived from: ohdrnswl.rezuibdt@gmail.com\\r\\n\\r\\nhi,\\r\\n\\r\\n\\r\\n\\r\\nlink is not working. kindly resolve yhe issue on urgent basis.\\r\\n\\r\\n\\r\\n\\r\\nbest</td>\n",
              "    </tr>\n",
              "    <tr>\n",
              "      <th>3383</th>\n",
              "      <td>NaN</td>\n",
              "      <td>\\r\\n-connected to the user system using teamviewer.\\r\\n-help the user login to the portal.\\r\\n-issue resolved.</td>\n",
              "      <td>qftpazns fxpnytmk</td>\n",
              "      <td>GRP_0</td>\n",
              "      <td>\\r\\n-connected to the user system using teamviewer.\\r\\n-help the user login to the portal.\\r\\n-issue resolved.</td>\n",
              "      <td>\\r\\n-connected to the user system using teamviewer.\\r\\n-help the user login to the portal.\\r\\n-issue resolved.</td>\n",
              "    </tr>\n",
              "    <tr>\n",
              "      <th>3906</th>\n",
              "      <td>NaN</td>\n",
              "      <td>-user unable  tologin to vpn.\\r\\n-connected to the user system using teamviewer.\\r\\n-help the user login to the company vpn using the vpn company vpn link.\\r\\n-issue resolved.</td>\n",
              "      <td>awpcmsey ctdiuqwe</td>\n",
              "      <td>GRP_0</td>\n",
              "      <td>-user unable  tologin to vpn.\\r\\n-connected to the user system using teamviewer.\\r\\n-help the user login to the company vpn using the vpn company vpn link.\\r\\n-issue resolved.</td>\n",
              "      <td>-user unable  tologin to vpn.\\r\\n-connected to the user system using teamviewer.\\r\\n-help the user login to the company vpn using the vpn company vpn link.\\r\\n-issue resolved.</td>\n",
              "    </tr>\n",
              "    <tr>\n",
              "      <th>3910</th>\n",
              "      <td>NaN</td>\n",
              "      <td>-user unable  tologin to vpn.\\r\\n-connected to the user system using teamviewer.\\r\\n-help the user login to the company vpn using the vpn company vpn link.\\r\\n-issue resolved.</td>\n",
              "      <td>rhwsmefo tvphyura</td>\n",
              "      <td>GRP_0</td>\n",
              "      <td>-user unable  tologin to vpn.\\r\\n-connected to the user system using teamviewer.\\r\\n-help the user login to the company vpn using the vpn company vpn link.\\r\\n-issue resolved.</td>\n",
              "      <td>-user unable  tologin to vpn.\\r\\n-connected to the user system using teamviewer.\\r\\n-help the user login to the company vpn using the vpn company vpn link.\\r\\n-issue resolved.</td>\n",
              "    </tr>\n",
              "    <tr>\n",
              "      <th>3915</th>\n",
              "      <td>NaN</td>\n",
              "      <td>-user unable  tologin to vpn.\\r\\n-connected to the user system using teamviewer.\\r\\n-help the user login to the company vpn using the vpn company vpn link.\\r\\n-issue resolved.</td>\n",
              "      <td>hxripljo efzounig</td>\n",
              "      <td>GRP_0</td>\n",
              "      <td>-user unable  tologin to vpn.\\r\\n-connected to the user system using teamviewer.\\r\\n-help the user login to the company vpn using the vpn company vpn link.\\r\\n-issue resolved.</td>\n",
              "      <td>-user unable  tologin to vpn.\\r\\n-connected to the user system using teamviewer.\\r\\n-help the user login to the company vpn using the vpn company vpn link.\\r\\n-issue resolved.</td>\n",
              "    </tr>\n",
              "    <tr>\n",
              "      <th>3921</th>\n",
              "      <td>NaN</td>\n",
              "      <td>-user unable  tologin to vpn.\\r\\n-connected to the user system using teamviewer.\\r\\n-help the user login to the company vpn using the vpn company vpn link.\\r\\n-issue resolved.</td>\n",
              "      <td>cziadygo veiosxby</td>\n",
              "      <td>GRP_0</td>\n",
              "      <td>-user unable  tologin to vpn.\\r\\n-connected to the user system using teamviewer.\\r\\n-help the user login to the company vpn using the vpn company vpn link.\\r\\n-issue resolved.</td>\n",
              "      <td>-user unable  tologin to vpn.\\r\\n-connected to the user system using teamviewer.\\r\\n-help the user login to the company vpn using the vpn company vpn link.\\r\\n-issue resolved.</td>\n",
              "    </tr>\n",
              "    <tr>\n",
              "      <th>3924</th>\n",
              "      <td>NaN</td>\n",
              "      <td>name:wvqgbdhm fwchqjor\\nlanguage:\\nbrowser:microsoft internet explorer\\nemail:wvqgbdhm.fwchqjor@gmail.com\\ncustomer number:\\ntelephone:-not available\\nsummary:can't get into vpn - need to be on at 4:30 est and it wont' happen please help aerp!</td>\n",
              "      <td>wvqgbdhm fwchqjor</td>\n",
              "      <td>GRP_0</td>\n",
              "      <td>name:wvqgbdhm fwchqjor\\nlanguage:\\nbrowser:microsoft internet explorer\\nemail:wvqgbdhm.fwchqjor@gmail.com\\ncustomer number:\\ntelephone:-not available\\nsummary:can't get into vpn - need to be on at 4:30 est and it wont' happen please help aerp!</td>\n",
              "      <td>name:wvqgbdhm fwchqjor\\nlanguage:\\nbrowser:microsoft internet explorer\\nemail:wvqgbdhm.fwchqjor@gmail.com\\ncustomer number:\\ntelephone:-not available\\nsummary:can't get into vpn - need to be on at 4:30 est and it wont' happen please help aerp!</td>\n",
              "    </tr>\n",
              "    <tr>\n",
              "      <th>4341</th>\n",
              "      <td>NaN</td>\n",
              "      <td>\\r\\n\\r\\nreceived from: eqmuniov.ehxkcbgj@gmail.com\\r\\n\\r\\ngood morning,\\r\\n\\r\\nwhen  trying to log on to erp i get this error below.\\r\\nplease help  urgently as i can not process customer order.\\r\\n\\r\\n[cid:image001.png@01d20f2e.751db880]\\r\\n\\r\\n\\r\\n</td>\n",
              "      <td>eqmuniov ehxkcbgj</td>\n",
              "      <td>GRP_0</td>\n",
              "      <td>\\r\\n\\r\\nreceived from: eqmuniov.ehxkcbgj@gmail.com\\r\\n\\r\\ngood morning,\\r\\n\\r\\nwhen  trying to log on to erp i get this error below.\\r\\nplease help  urgently as i can not process customer order.\\r\\n\\r\\n[cid:image001.png@01d20f2e.751db880]\\r\\n\\r\\n\\r\\n</td>\n",
              "      <td>\\r\\n\\r\\nreceived from: eqmuniov.ehxkcbgj@gmail.com\\r\\n\\r\\ngood morning,\\r\\n\\r\\nwhen  trying to log on to erp i get this error below.\\r\\nplease help  urgently as i can not process customer order.\\r\\n\\r\\n[cid:image001.png@01d20f2e.751db880]\\r\\n\\r\\n\\r\\n</td>\n",
              "    </tr>\n",
              "  </tbody>\n",
              "</table>\n",
              "</div>"
            ],
            "text/plain": [
              "     Short description  ...                                                                                                                                                                                                                                               desc_analysis\n",
              "2604               NaN  ...                                                                                            \\r\\n\\r\\nreceived from: ohdrnswl.rezuibdt@gmail.com\\r\\n\\r\\nhi,\\r\\n\\r\\n\\r\\n\\r\\nlink is not working. kindly resolve yhe issue on urgent basis.\\r\\n\\r\\n\\r\\n\\r\\nbest \n",
              "3383               NaN  ...                                                                                                                                              \\r\\n-connected to the user system using teamviewer.\\r\\n-help the user login to the portal.\\r\\n-issue resolved.\n",
              "3906               NaN  ...                                                                             -user unable  tologin to vpn.\\r\\n-connected to the user system using teamviewer.\\r\\n-help the user login to the company vpn using the vpn company vpn link.\\r\\n-issue resolved.\n",
              "3910               NaN  ...                                                                             -user unable  tologin to vpn.\\r\\n-connected to the user system using teamviewer.\\r\\n-help the user login to the company vpn using the vpn company vpn link.\\r\\n-issue resolved.\n",
              "3915               NaN  ...                                                                             -user unable  tologin to vpn.\\r\\n-connected to the user system using teamviewer.\\r\\n-help the user login to the company vpn using the vpn company vpn link.\\r\\n-issue resolved.\n",
              "3921               NaN  ...                                                                             -user unable  tologin to vpn.\\r\\n-connected to the user system using teamviewer.\\r\\n-help the user login to the company vpn using the vpn company vpn link.\\r\\n-issue resolved.\n",
              "3924               NaN  ...         name:wvqgbdhm fwchqjor\\nlanguage:\\nbrowser:microsoft internet explorer\\nemail:wvqgbdhm.fwchqjor@gmail.com\\ncustomer number:\\ntelephone:-not available\\nsummary:can't get into vpn - need to be on at 4:30 est and it wont' happen please help aerp!\n",
              "4341               NaN  ...  \\r\\n\\r\\nreceived from: eqmuniov.ehxkcbgj@gmail.com\\r\\n\\r\\ngood morning,\\r\\n\\r\\nwhen  trying to log on to erp i get this error below.\\r\\nplease help  urgently as i can not process customer order.\\r\\n\\r\\n[cid:image001.png@01d20f2e.751db880]\\r\\n\\r\\n\\r\\n\n",
              "\n",
              "[8 rows x 6 columns]"
            ]
          },
          "metadata": {},
          "execution_count": 39
        }
      ]
    },
    {
      "cell_type": "markdown",
      "metadata": {
        "id": "axxl2oj2NicI"
      },
      "source": [
        "There are some messages which mentions that they are received from someone else.  Looking into the data to see such entries"
      ]
    },
    {
      "cell_type": "code",
      "metadata": {
        "colab": {
          "base_uri": "https://localhost:8080/",
          "height": 938
        },
        "id": "OX26TV9aN9e3",
        "outputId": "04d8e2de-adb2-420b-eef8-2f7eb32b501f"
      },
      "source": [
        "ata_data[ata_data['Description'].str.contains('received from:', case=False, na=False)]"
      ],
      "execution_count": null,
      "outputs": [
        {
          "output_type": "execute_result",
          "data": {
            "text/html": [
              "<div>\n",
              "<style scoped>\n",
              "    .dataframe tbody tr th:only-of-type {\n",
              "        vertical-align: middle;\n",
              "    }\n",
              "\n",
              "    .dataframe tbody tr th {\n",
              "        vertical-align: top;\n",
              "    }\n",
              "\n",
              "    .dataframe thead th {\n",
              "        text-align: right;\n",
              "    }\n",
              "</style>\n",
              "<table border=\"1\" class=\"dataframe\">\n",
              "  <thead>\n",
              "    <tr style=\"text-align: right;\">\n",
              "      <th></th>\n",
              "      <th>Short description</th>\n",
              "      <th>Description</th>\n",
              "      <th>Caller</th>\n",
              "      <th>Assignment group</th>\n",
              "      <th>short_desc_analysis</th>\n",
              "      <th>desc_analysis</th>\n",
              "    </tr>\n",
              "  </thead>\n",
              "  <tbody>\n",
              "    <tr>\n",
              "      <th>1</th>\n",
              "      <td>outlook</td>\n",
              "      <td>\\r\\n\\r\\nreceived from: hmjdrvpb.komuaywn@gmail.com\\r\\n\\r\\nhello team,\\r\\n\\r\\nmy meetings/skype meetings etc are not appearing in my outlook calendar, can somebody please advise how to correct this?\\r\\n\\r\\nkind</td>\n",
              "      <td>hmjdrvpb komuaywn</td>\n",
              "      <td>GRP_0</td>\n",
              "      <td>outlook</td>\n",
              "      <td>\\r\\n\\r\\nreceived from: hmjdrvpb.komuaywn@gmail.com\\r\\n\\r\\nhello team,\\r\\n\\r\\nmy meetings/skype meetings etc are not appearing in my outlook calendar, can somebody please advise how to correct this?\\r\\n\\r\\nkind</td>\n",
              "    </tr>\n",
              "    <tr>\n",
              "      <th>2</th>\n",
              "      <td>cant log in to vpn</td>\n",
              "      <td>\\r\\n\\r\\nreceived from: eylqgodm.ybqkwiam@gmail.com\\r\\n\\r\\nhi\\r\\n\\r\\ni cannot log on to vpn\\r\\n\\r\\nbest</td>\n",
              "      <td>eylqgodm ybqkwiam</td>\n",
              "      <td>GRP_0</td>\n",
              "      <td>cant log in to vpn</td>\n",
              "      <td>\\r\\n\\r\\nreceived from: eylqgodm.ybqkwiam@gmail.com\\r\\n\\r\\nhi\\r\\n\\r\\ni cannot log on to vpn\\r\\n\\r\\nbest</td>\n",
              "    </tr>\n",
              "    <tr>\n",
              "      <th>16</th>\n",
              "      <td>unable to login to company vpn</td>\n",
              "      <td>\\n\\nreceived from: xyz@company.com\\n\\nhi,\\n\\ni am unable to login to company vpn website, trying to open a new session using the below link, but not able to get through pls help urgently as we are working from home tomorrow due to month end closing.</td>\n",
              "      <td>chobktqj qdamxfuc</td>\n",
              "      <td>GRP_0</td>\n",
              "      <td>unable to login to company vpn</td>\n",
              "      <td>\\n\\nreceived from: xyz@company.com\\n\\nhi,\\n\\ni am unable to login to company vpn website, trying to open a new session using the below link, but not able to get through pls help urgently as we are working from home tomorrow due to month end closing.</td>\n",
              "    </tr>\n",
              "    <tr>\n",
              "      <th>21</th>\n",
              "      <td>vpn issue</td>\n",
              "      <td>\\r\\n\\r\\nreceived from: ugephfta.hrbqkvij@gmail.com\\r\\n\\r\\nhello helpdesk\\r\\n\\r\\ni am not able to connect vpn from home office. couple f hours ago i was connected, now it is not working anymore. getting a message that my session expired but if i click on the link, nothing happens.\\r\\n\\r\\n[cid:image001.jpg@01d233aa.3f618be0]\\r\\n\\r\\n*********************\\r\\n\\r\\nneed help with your dynamics crm?\\r\\nclick here&lt;\\r\\n\\r\\nchat with a live agent regarding your dynamics crm questions now! click here&lt;\\r\\n\\r\\nbest</td>\n",
              "      <td>ugephfta hrbqkvij</td>\n",
              "      <td>GRP_0</td>\n",
              "      <td>vpn issue</td>\n",
              "      <td>\\r\\n\\r\\nreceived from: ugephfta.hrbqkvij@gmail.com\\r\\n\\r\\nhello helpdesk\\r\\n\\r\\ni am not able to connect vpn from home office. couple f hours ago i was connected, now it is not working anymore. getting a message that my session expired but if i click on the link, nothing happens.\\r\\n\\r\\n[cid:image001.jpg@01d233aa.3f618be0]\\r\\n\\r\\n*********************\\r\\n\\r\\nneed help with your dynamics crm?\\r\\nclick here&lt;\\r\\n\\r\\nchat with a live agent regarding your dynamics crm questions now! click here&lt;\\r\\n\\r\\nbest</td>\n",
              "    </tr>\n",
              "    <tr>\n",
              "      <th>24</th>\n",
              "      <td>vpn not working</td>\n",
              "      <td>\\n\\nreceived from: dceoufyz.saufqkmd@gmail.com\\n\\nhello,\\n\\ni'm not being able to connect to company network through the vpn. pls check.\\n\\ncc: sir-i am not being able to upload as a result of no company network.\\n\\n</td>\n",
              "      <td>dceoufyz saufqkmd</td>\n",
              "      <td>GRP_0</td>\n",
              "      <td>vpn not working</td>\n",
              "      <td>\\n\\nreceived from: dceoufyz.saufqkmd@gmail.com\\n\\nhello,\\n\\ni'm not being able to connect to company network through the vpn. pls check.\\n\\ncc: sir-i am not being able to upload as a result of no company network.\\n\\n</td>\n",
              "    </tr>\n",
              "    <tr>\n",
              "      <th>...</th>\n",
              "      <td>...</td>\n",
              "      <td>...</td>\n",
              "      <td>...</td>\n",
              "      <td>...</td>\n",
              "      <td>...</td>\n",
              "      <td>...</td>\n",
              "    </tr>\n",
              "    <tr>\n",
              "      <th>8478</th>\n",
              "      <td>beenefits access on oneteam</td>\n",
              "      <td>\\n\\nreceived from: bjitvswa.yrmugfnq@gmail.com\\n\\nyesterday, it helped me access some additional information on oneteam.  but i still do not have a link showing for my benefits.  i tried to search and nothing pulls up.\\n\\ntgbtyim dgtalone\\nkey account manager\\nbjitvswa.yrmugfnq@gmail.com&lt;mailto:beyklcmj.bgfmrltw@gmail.com&gt;\\n</td>\n",
              "      <td>bjitvswa yrmugfnq</td>\n",
              "      <td>GRP_0</td>\n",
              "      <td>beenefits access on oneteam</td>\n",
              "      <td>\\n\\nreceived from: bjitvswa.yrmugfnq@gmail.com\\n\\nyesterday, it helped me access some additional information on oneteam.  but i still do not have a link showing for my benefits.  i tried to search and nothing pulls up.\\n\\ntgbtyim dgtalone\\nkey account manager\\nbjitvswa.yrmugfnq@gmail.com&lt;mailto:beyklcmj.bgfmrltw@gmail.com&gt;\\n</td>\n",
              "    </tr>\n",
              "    <tr>\n",
              "      <th>8480</th>\n",
              "      <td>customer group enhanced field</td>\n",
              "      <td>\\r\\n\\r\\nreceived from: nlearzwi.ukdzstwi@gmail.com\\r\\n\\r\\nhello,\\r\\n\\r\\na business decision has recently been made to view mfg_tooltion (customer classification ik) as indirect sales going forward. currently in the bex system they are classified as direct.\\r\\n\\r\\ncan you please modify the \"cust grp 1 â€“ enhanced\" field (0cust_sales__zcustgrp1) to show mfg_tooltion (customer classification ik) customers as indirect.\\r\\n[cid:image001.png@01d1ee74.cc06a6a0]\\r\\n\\r\\nthis field is used in several bex and hana reports (sales v plan, product management, otc billings, etc). let me know if you have any questions.\\r\\n\\r\\nbest</td>\n",
              "      <td>nlearzwi ukdzstwi</td>\n",
              "      <td>GRP_9</td>\n",
              "      <td>customer group enhanced field</td>\n",
              "      <td>\\r\\n\\r\\nreceived from: nlearzwi.ukdzstwi@gmail.com\\r\\n\\r\\nhello,\\r\\n\\r\\na business decision has recently been made to view mfg_tooltion (customer classification ik) as indirect sales going forward. currently in the bex system they are classified as direct.\\r\\n\\r\\ncan you please modify the \"cust grp 1 â€“ enhanced\" field (0cust_sales__zcustgrp1) to show mfg_tooltion (customer classification ik) customers as indirect.\\r\\n[cid:image001.png@01d1ee74.cc06a6a0]\\r\\n\\r\\nthis field is used in several bex and hana reports (sales v plan, product management, otc billings, etc). let me know if you have any questions.\\r\\n\\r\\nbest</td>\n",
              "    </tr>\n",
              "    <tr>\n",
              "      <th>8481</th>\n",
              "      <td>ess portal</td>\n",
              "      <td>\\n\\nreceived from: eagvusbr.nguqityl@gmail.com\\n\\nhi team,\\n\\ni was going into the ess file and checking some things for the ytd and this is the screen that shows up.  this is on my report tab when i am logged into vpn.  please assist in getting this to english.\\n[cid:image001.jpg@01d1ee74.0a355760]\\n\\n\\n\\neagvusbr nguqityl\\nsales engineer\\n\\n</td>\n",
              "      <td>eagvusbr nguqityl</td>\n",
              "      <td>GRP_9</td>\n",
              "      <td>ess portal</td>\n",
              "      <td>\\n\\nreceived from: eagvusbr.nguqityl@gmail.com\\n\\nhi team,\\n\\ni was going into the ess file and checking some things for the ytd and this is the screen that shows up.  this is on my report tab when i am logged into vpn.  please assist in getting this to english.\\n[cid:image001.jpg@01d1ee74.0a355760]\\n\\n\\n\\neagvusbr nguqityl\\nsales engineer\\n\\n</td>\n",
              "    </tr>\n",
              "    <tr>\n",
              "      <th>8491</th>\n",
              "      <td>vpn for laptop</td>\n",
              "      <td>\\n\\nreceived from: jxgobwrm.qkugdipo@gmail.com\\n\\ni need a vpn for my new laptop. name llv8517416\\n\\nknethyen grechduy\\nengineer, product engineering\\ncompany\\njxgobwrm.qkugdipo@gmail.com&lt;mailto:jxgobwrm.qkugdipo@gmail.com&gt;\\n\\n</td>\n",
              "      <td>jxgobwrm qkugdipo</td>\n",
              "      <td>GRP_34</td>\n",
              "      <td>vpn for laptop</td>\n",
              "      <td>\\n\\nreceived from: jxgobwrm.qkugdipo@gmail.com\\n\\ni need a vpn for my new laptop. name llv8517416\\n\\nknethyen grechduy\\nengineer, product engineering\\ncompany\\njxgobwrm.qkugdipo@gmail.com&lt;mailto:jxgobwrm.qkugdipo@gmail.com&gt;\\n\\n</td>\n",
              "    </tr>\n",
              "    <tr>\n",
              "      <th>8495</th>\n",
              "      <td>emails not coming in from zz mail</td>\n",
              "      <td>\\r\\n\\r\\nreceived from: avglmrts.vhqmtiua@gmail.com\\r\\n\\r\\ngood afternoon,\\r\\ni am not receiving the emails that i sent from zz mail.\\r\\nplease advise\\r\\n\\r\\n</td>\n",
              "      <td>avglmrts vhqmtiua</td>\n",
              "      <td>GRP_29</td>\n",
              "      <td>emails not coming in from zz mail</td>\n",
              "      <td>\\r\\n\\r\\nreceived from: avglmrts.vhqmtiua@gmail.com\\r\\n\\r\\ngood afternoon,\\r\\ni am not receiving the emails that i sent from zz mail.\\r\\nplease advise\\r\\n\\r\\n</td>\n",
              "    </tr>\n",
              "  </tbody>\n",
              "</table>\n",
              "<p>2251 rows × 6 columns</p>\n",
              "</div>"
            ],
            "text/plain": [
              "                      Short description  ...                                                                                                                                                                                                                                                                                                                                                                                                                                                                                                                                                                                                                                     desc_analysis\n",
              "1                               outlook  ...                                                                                                                                                                                                                                                                                                                                                                                                                                \\r\\n\\r\\nreceived from: hmjdrvpb.komuaywn@gmail.com\\r\\n\\r\\nhello team,\\r\\n\\r\\nmy meetings/skype meetings etc are not appearing in my outlook calendar, can somebody please advise how to correct this?\\r\\n\\r\\nkind \n",
              "2                    cant log in to vpn  ...                                                                                                                                                                                                                                                                                                                                                                                                                                                                                                                                           \\r\\n\\r\\nreceived from: eylqgodm.ybqkwiam@gmail.com\\r\\n\\r\\nhi\\r\\n\\r\\ni cannot log on to vpn\\r\\n\\r\\nbest \n",
              "16       unable to login to company vpn  ...                                                                                                                                                                                                                                                                                                                                                                                        \\n\\nreceived from: xyz@company.com\\n\\nhi,\\n\\ni am unable to login to company vpn website, trying to open a new session using the below link, but not able to get through pls help urgently as we are working from home tomorrow due to month end closing. \n",
              "21                            vpn issue  ...                                                                                                                       \\r\\n\\r\\nreceived from: ugephfta.hrbqkvij@gmail.com\\r\\n\\r\\nhello helpdesk\\r\\n\\r\\ni am not able to connect vpn from home office. couple f hours ago i was connected, now it is not working anymore. getting a message that my session expired but if i click on the link, nothing happens.\\r\\n\\r\\n[cid:image001.jpg@01d233aa.3f618be0]\\r\\n\\r\\n*********************\\r\\n\\r\\nneed help with your dynamics crm?\\r\\nclick here<\\r\\n\\r\\nchat with a live agent regarding your dynamics crm questions now! click here<\\r\\n\\r\\nbest \n",
              "24                      vpn not working  ...                                                                                                                                                                                                                                                                                                                                                                                                                          \\n\\nreceived from: dceoufyz.saufqkmd@gmail.com\\n\\nhello,\\n\\ni'm not being able to connect to company network through the vpn. pls check.\\n\\ncc: sir-i am not being able to upload as a result of no company network.\\n\\n\n",
              "...                                 ...  ...                                                                                                                                                                                                                                                                                                                                                                                                                                                                                                                                                                                                                                               ...\n",
              "8478        beenefits access on oneteam  ...                                                                                                                                                                                                                                                                                                            \\n\\nreceived from: bjitvswa.yrmugfnq@gmail.com\\n\\nyesterday, it helped me access some additional information on oneteam.  but i still do not have a link showing for my benefits.  i tried to search and nothing pulls up.\\n\\ntgbtyim dgtalone\\nkey account manager\\nbjitvswa.yrmugfnq@gmail.com<mailto:beyklcmj.bgfmrltw@gmail.com>\\n\n",
              "8480      customer group enhanced field  ...  \\r\\n\\r\\nreceived from: nlearzwi.ukdzstwi@gmail.com\\r\\n\\r\\nhello,\\r\\n\\r\\na business decision has recently been made to view mfg_tooltion (customer classification ik) as indirect sales going forward. currently in the bex system they are classified as direct.\\r\\n\\r\\ncan you please modify the \"cust grp 1 â€“ enhanced\" field (0cust_sales__zcustgrp1) to show mfg_tooltion (customer classification ik) customers as indirect.\\r\\n[cid:image001.png@01d1ee74.cc06a6a0]\\r\\n\\r\\nthis field is used in several bex and hana reports (sales v plan, product management, otc billings, etc). let me know if you have any questions.\\r\\n\\r\\nbest \n",
              "8481                         ess portal  ...                                                                                                                                                                                                                                                                                         \\n\\nreceived from: eagvusbr.nguqityl@gmail.com\\n\\nhi team,\\n\\ni was going into the ess file and checking some things for the ytd and this is the screen that shows up.  this is on my report tab when i am logged into vpn.  please assist in getting this to english.\\n[cid:image001.jpg@01d1ee74.0a355760]\\n\\n\\n\\neagvusbr nguqityl\\nsales engineer\\n\\n\n",
              "8491                     vpn for laptop  ...                                                                                                                                                                                                                                                                                                                                                                                                               \\n\\nreceived from: jxgobwrm.qkugdipo@gmail.com\\n\\ni need a vpn for my new laptop. name llv8517416\\n\\nknethyen grechduy\\nengineer, product engineering\\ncompany\\njxgobwrm.qkugdipo@gmail.com<mailto:jxgobwrm.qkugdipo@gmail.com>\\n\\n\n",
              "8495  emails not coming in from zz mail  ...                                                                                                                                                                                                                                                                                                                                                                                                                                                                                     \\r\\n\\r\\nreceived from: avglmrts.vhqmtiua@gmail.com\\r\\n\\r\\ngood afternoon,\\r\\ni am not receiving the emails that i sent from zz mail.\\r\\nplease advise\\r\\n\\r\\n\n",
              "\n",
              "[2251 rows x 6 columns]"
            ]
          },
          "metadata": {},
          "execution_count": 40
        }
      ]
    },
    {
      "cell_type": "markdown",
      "metadata": {
        "id": "ub5MpnDTRCiH"
      },
      "source": [
        "There are 2251 such records.  Getting that information in another column"
      ]
    },
    {
      "cell_type": "code",
      "metadata": {
        "id": "Btz2aKyhN9k1",
        "colab": {
          "base_uri": "https://localhost:8080/",
          "height": 725
        },
        "outputId": "c1644717-85e1-4c6e-e0bc-298fcb327ebb"
      },
      "source": [
        "ata_data[ata_data['Description'].str.contains('to:', case=False, na=False)].head()"
      ],
      "execution_count": null,
      "outputs": [
        {
          "output_type": "execute_result",
          "data": {
            "text/html": [
              "<div>\n",
              "<style scoped>\n",
              "    .dataframe tbody tr th:only-of-type {\n",
              "        vertical-align: middle;\n",
              "    }\n",
              "\n",
              "    .dataframe tbody tr th {\n",
              "        vertical-align: top;\n",
              "    }\n",
              "\n",
              "    .dataframe thead th {\n",
              "        text-align: right;\n",
              "    }\n",
              "</style>\n",
              "<table border=\"1\" class=\"dataframe\">\n",
              "  <thead>\n",
              "    <tr style=\"text-align: right;\">\n",
              "      <th></th>\n",
              "      <th>Short description</th>\n",
              "      <th>Description</th>\n",
              "      <th>Caller</th>\n",
              "      <th>Assignment group</th>\n",
              "      <th>short_desc_analysis</th>\n",
              "      <th>desc_analysis</th>\n",
              "    </tr>\n",
              "  </thead>\n",
              "  <tbody>\n",
              "    <tr>\n",
              "      <th>53</th>\n",
              "      <td>reset scm_software password</td>\n",
              "      <td>\\n\\nreceived from: cdbaoqts.wqbsodni@gmail.com\\n\\nhello,\\n\\nplease reset my scm_software password.\\n\\n\\ncdbaoqts wqbsodni\\nglobal product manager, markhtyeting initiatives\\ncdbaoqts.wqbsodni@gmail.com&lt;mailto:cdbaoqts.wqbsodni@gmail.com&gt;\\n\\n\\n\\n\\n\\n</td>\n",
              "      <td>cdbaoqts wqbsodni</td>\n",
              "      <td>GRP_0</td>\n",
              "      <td>reset scm_software password</td>\n",
              "      <td>\\n\\nreceived from: cdbaoqts.wqbsodni@gmail.com\\n\\nhello,\\n\\nplease reset my scm_software password.\\n\\n\\ncdbaoqts wqbsodni\\nglobal product manager, markhtyeting initiatives\\ncdbaoqts.wqbsodni@gmail.com&lt;mailto:cdbaoqts.wqbsodni@gmail.com&gt;\\n\\n\\n\\n\\n\\n</td>\n",
              "    </tr>\n",
              "    <tr>\n",
              "      <th>100</th>\n",
              "      <td>re: ess portal access issue</td>\n",
              "      <td>\\n\\nreceived from: noscwdpm.akiowsmp@gmail.com\\n\\nhello,\\n\\nhe is an kiosk user.  please reset the password and confirm.\\n\\n\\nnoscwdpm akiowsmp\\nnoscwdpm.akiowsmp@gmail.com\\n\\nfrom: ihkolepb ozhnjyef\\nsent: 29 october 2016 13:38\\nto: company@ticketing_tool.com\\nsubject: ess portal access issue\\n\\nhi,\\n\\nbelow mentioned employee krlszbqo spimolgz with user id sv123 is not able to login to ess portal to access his pay slips and related contents. he is a attendance_tool user. please reset his user id and password and revert back.\\n\\n</td>\n",
              "      <td>noscwdpm akiowsmp</td>\n",
              "      <td>GRP_0</td>\n",
              "      <td>re: ess portal access issue</td>\n",
              "      <td>\\n\\nreceived from: noscwdpm.akiowsmp@gmail.com\\n\\nhello,\\n\\nhe is an kiosk user.  please reset the password and confirm.\\n\\n\\nnoscwdpm akiowsmp\\nnoscwdpm.akiowsmp@gmail.com\\n\\nfrom: ihkolepb ozhnjyef\\nsent: 29 october 2016 13:38\\nto: company@ticketing_tool.com\\nsubject: ess portal access issue\\n\\nhi,\\n\\nbelow mentioned employee krlszbqo spimolgz with user id sv123 is not able to login to ess portal to access his pay slips and related contents. he is a attendance_tool user. please reset his user id and password and revert back.\\n\\n</td>\n",
              "    </tr>\n",
              "    <tr>\n",
              "      <th>124</th>\n",
              "      <td>mobile device activation</td>\n",
              "      <td>from: tvcdfqgp nrbcqwgj \\nsent: friday, october 28, 2016 3:13 pm\\nto: nwfodmhc exurcwkm\\nsubject:  se ha bloqueado en forma temporal la sincronizaciÃ³n de su dispositivo mÃ³vil mediante exchange activesync hasta que su administrador autorice el acceso.\\n\\nhi\\n\\ni received this message and our local it expert has told me to open a ticket.\\n\\n</td>\n",
              "      <td>tvcdfqgp nrbcqwgj</td>\n",
              "      <td>GRP_0</td>\n",
              "      <td>mobile device activation</td>\n",
              "      <td>from: tvcdfqgp nrbcqwgj \\nsent: friday, october 28, 2016 3:13 pm\\nto: nwfodmhc exurcwkm\\nsubject:  se ha bloqueado en forma temporal la sincronizaciÃ³n de su dispositivo mÃ³vil mediante exchange activesync hasta que su administrador autorice el acceso.\\n\\nhi\\n\\ni received this message and our local it expert has told me to open a ticket.\\n\\n</td>\n",
              "    </tr>\n",
              "    <tr>\n",
              "      <th>151</th>\n",
              "      <td>i used to have acces to this location on collaboration_platform.  now i do not. i need access.</td>\n",
              "      <td>\\n\\nreceived from: bwfhtumx.japznrvb@gmail.com\\n\\n\\n\\n[cid:image001.jpg@01d230f7.8bb4e830]\\n\\nbwfhtumx japznrvb \\nregional controller\\nbwfhtumx.japznrvb@gmail.com&lt;mailto:bwfhtumx.japznrvb@gmail.com&gt;\\n\\n\\n\\n</td>\n",
              "      <td>bwfhtumx japznrvb</td>\n",
              "      <td>GRP_16</td>\n",
              "      <td>i used to have acces to this location on collaboration_platform.  now i do not. i need access.</td>\n",
              "      <td>\\n\\nreceived from: bwfhtumx.japznrvb@gmail.com\\n\\n\\n\\n[cid:image001.jpg@01d230f7.8bb4e830]\\n\\nbwfhtumx japznrvb \\nregional controller\\nbwfhtumx.japznrvb@gmail.com&lt;mailto:bwfhtumx.japznrvb@gmail.com&gt;\\n\\n\\n\\n</td>\n",
              "    </tr>\n",
              "    <tr>\n",
              "      <th>162</th>\n",
              "      <td>access to bex</td>\n",
              "      <td>\\r\\n\\r\\nreceived from: yfqoaepn.xnezhsit@gmail.com\\r\\n\\r\\nhello,\\r\\n\\r\\ntill last week i was accessing bex reports using mms portal and there were no issues.\\r\\n\\r\\nstarting this week the system is incredibly slow when i log in and finally does not allow me to access any reports.\\r\\n\\r\\ncan it be the issue with any maintenance or my access rights or rather i should try to access bex using different way?\\r\\n\\r\\nbelow the print screen from what i see after log in:\\r\\n[cid:image001.png@01d2310c.f184b360]\\r\\n\\r\\ni am also able to get to finance reports (see below), however when i click \"profitability analysis\" (as i was always doing) separate window is open however apart rom that the screen is blank.\\r\\n[cid:image002.png@01d2310c.f184b360]\\r\\n\\r\\n\\r\\ni appreciate your support.\\r\\n\\r\\nhave a great day â˜º\\r\\n\\r\\nrobhyertyj\\r\\n\\r\\n\\r\\nyfqoaepn xnezhsit\\r\\nmanaging director\\r\\nfinance manager cee\\r\\nyfqoaepn.xnezhsit@gmail.com&lt;mailto:yfqoaepn.xnezhsit@gmail.com&gt;\\r\\ntel:+48(61)7767671\\r\\nmob:+48 694 425 760\\r\\n\\r\\ncompany polska sp. z o.o. , ul. krzywoustego 7, 61-144 poznaÅ„, www.company.com&lt;\\r\\n\\r\\ncompany polska sp. z o.o. z siedzibÄ… w polandiu, 61-144 poznaÅ„, ul. krzywoustego 7.\\r\\nspÃ³Å‚ka zarejestrowana w sÄ…dzie rejonowym poznaÅ„-nowe miasto i wilda w polandiu, wydziaÅ‚ viii gospodarczy krs pod numerem 1111286691.\\r\\nkapitaÅ‚ zakÅ‚adowy 100 000 pln, nip 954-20-87-982.\\r\\n\\r\\n\\r\\n\\r\\n\\r\\n\\r\\n</td>\n",
              "      <td>yfqoaepn xnezhsit</td>\n",
              "      <td>GRP_0</td>\n",
              "      <td>access to bex</td>\n",
              "      <td>\\r\\n\\r\\nreceived from: yfqoaepn.xnezhsit@gmail.com\\r\\n\\r\\nhello,\\r\\n\\r\\ntill last week i was accessing bex reports using mms portal and there were no issues.\\r\\n\\r\\nstarting this week the system is incredibly slow when i log in and finally does not allow me to access any reports.\\r\\n\\r\\ncan it be the issue with any maintenance or my access rights or rather i should try to access bex using different way?\\r\\n\\r\\nbelow the print screen from what i see after log in:\\r\\n[cid:image001.png@01d2310c.f184b360]\\r\\n\\r\\ni am also able to get to finance reports (see below), however when i click \"profitability analysis\" (as i was always doing) separate window is open however apart rom that the screen is blank.\\r\\n[cid:image002.png@01d2310c.f184b360]\\r\\n\\r\\n\\r\\ni appreciate your support.\\r\\n\\r\\nhave a great day â˜º\\r\\n\\r\\nrobhyertyj\\r\\n\\r\\n\\r\\nyfqoaepn xnezhsit\\r\\nmanaging director\\r\\nfinance manager cee\\r\\nyfqoaepn.xnezhsit@gmail.com&lt;mailto:yfqoaepn.xnezhsit@gmail.com&gt;\\r\\ntel:+48(61)7767671\\r\\nmob:+48 694 425 760\\r\\n\\r\\ncompany polska sp. z o.o. , ul. krzywoustego 7, 61-144 poznaÅ„, www.company.com&lt;\\r\\n\\r\\ncompany polska sp. z o.o. z siedzibÄ… w polandiu, 61-144 poznaÅ„, ul. krzywoustego 7.\\r\\nspÃ³Å‚ka zarejestrowana w sÄ…dzie rejonowym poznaÅ„-nowe miasto i wilda w polandiu, wydziaÅ‚ viii gospodarczy krs pod numerem 1111286691.\\r\\nkapitaÅ‚ zakÅ‚adowy 100 000 pln, nip 954-20-87-982.\\r\\n\\r\\n\\r\\n\\r\\n\\r\\n\\r\\n</td>\n",
              "    </tr>\n",
              "  </tbody>\n",
              "</table>\n",
              "</div>"
            ],
            "text/plain": [
              "                                                                                  Short description  ...                                                                                                                                                                                                                                                                                                                                                                                                                                                                                                                                                                                                                                                                                                                                                                                                                                                                                                                                                                                                                                                                                                                                                                                                                                                                                                                                                                                                                                                            desc_analysis\n",
              "53                                                                      reset scm_software password  ...                                                                                                                                                                                                                                                                                                                                                                                                                                                                                                                                                                                                                                                                                                                                                                                                                                                                                                                                                                                                                                                                                                                                                                                                                 \\n\\nreceived from: cdbaoqts.wqbsodni@gmail.com\\n\\nhello,\\n\\nplease reset my scm_software password.\\n\\n\\ncdbaoqts wqbsodni\\nglobal product manager, markhtyeting initiatives\\ncdbaoqts.wqbsodni@gmail.com<mailto:cdbaoqts.wqbsodni@gmail.com>\\n\\n\\n\\n\\n\\n\n",
              "100                                                                     re: ess portal access issue  ...                                                                                                                                                                                                                                                                                                                                                                                                                                                                                                                                                                                                                                                                                                                                                                                                                                                                                                                 \\n\\nreceived from: noscwdpm.akiowsmp@gmail.com\\n\\nhello,\\n\\nhe is an kiosk user.  please reset the password and confirm.\\n\\n\\nnoscwdpm akiowsmp\\nnoscwdpm.akiowsmp@gmail.com\\n\\nfrom: ihkolepb ozhnjyef\\nsent: 29 october 2016 13:38\\nto: company@ticketing_tool.com\\nsubject: ess portal access issue\\n\\nhi,\\n\\nbelow mentioned employee krlszbqo spimolgz with user id sv123 is not able to login to ess portal to access his pay slips and related contents. he is a attendance_tool user. please reset his user id and password and revert back.\\n\\n\n",
              "124                                                                        mobile device activation  ...                                                                                                                                                                                                                                                                                                                                                                                                                                                                                                                                                                                                                                                                                                                                                                                                                                                                                                                                                                                                                                                                                                                  from: tvcdfqgp nrbcqwgj \\nsent: friday, october 28, 2016 3:13 pm\\nto: nwfodmhc exurcwkm\\nsubject:  se ha bloqueado en forma temporal la sincronizaciÃ³n de su dispositivo mÃ³vil mediante exchange activesync hasta que su administrador autorice el acceso.\\n\\nhi\\n\\ni received this message and our local it expert has told me to open a ticket.\\n\\n\n",
              "151  i used to have acces to this location on collaboration_platform.  now i do not. i need access.  ...                                                                                                                                                                                                                                                                                                                                                                                                                                                                                                                                                                                                                                                                                                                                                                                                                                                                                                                                                                                                                                                                                                                                                                                                                                                           \\n\\nreceived from: bwfhtumx.japznrvb@gmail.com\\n\\n\\n\\n[cid:image001.jpg@01d230f7.8bb4e830]\\n\\nbwfhtumx japznrvb \\nregional controller\\nbwfhtumx.japznrvb@gmail.com<mailto:bwfhtumx.japznrvb@gmail.com>\\n\\n\\n\\n\n",
              "162                                                                                   access to bex  ...  \\r\\n\\r\\nreceived from: yfqoaepn.xnezhsit@gmail.com\\r\\n\\r\\nhello,\\r\\n\\r\\ntill last week i was accessing bex reports using mms portal and there were no issues.\\r\\n\\r\\nstarting this week the system is incredibly slow when i log in and finally does not allow me to access any reports.\\r\\n\\r\\ncan it be the issue with any maintenance or my access rights or rather i should try to access bex using different way?\\r\\n\\r\\nbelow the print screen from what i see after log in:\\r\\n[cid:image001.png@01d2310c.f184b360]\\r\\n\\r\\ni am also able to get to finance reports (see below), however when i click \"profitability analysis\" (as i was always doing) separate window is open however apart rom that the screen is blank.\\r\\n[cid:image002.png@01d2310c.f184b360]\\r\\n\\r\\n\\r\\ni appreciate your support.\\r\\n\\r\\nhave a great day â˜º\\r\\n\\r\\nrobhyertyj\\r\\n\\r\\n\\r\\nyfqoaepn xnezhsit\\r\\nmanaging director\\r\\nfinance manager cee\\r\\nyfqoaepn.xnezhsit@gmail.com<mailto:yfqoaepn.xnezhsit@gmail.com>\\r\\ntel:+48(61)7767671\\r\\nmob:+48 694 425 760\\r\\n\\r\\ncompany polska sp. z o.o. , ul. krzywoustego 7, 61-144 poznaÅ„, www.company.com<\\r\\n\\r\\ncompany polska sp. z o.o. z siedzibÄ… w polandiu, 61-144 poznaÅ„, ul. krzywoustego 7.\\r\\nspÃ³Å‚ka zarejestrowana w sÄ…dzie rejonowym poznaÅ„-nowe miasto i wilda w polandiu, wydziaÅ‚ viii gospodarczy krs pod numerem 1111286691.\\r\\nkapitaÅ‚ zakÅ‚adowy 100 000 pln, nip 954-20-87-982.\\r\\n\\r\\n\\r\\n\\r\\n\\r\\n\\r\\n\n",
              "\n",
              "[5 rows x 6 columns]"
            ]
          },
          "metadata": {},
          "execution_count": 41
        }
      ]
    },
    {
      "cell_type": "markdown",
      "metadata": {
        "id": "HQe9bg0wFOqy"
      },
      "source": [
        "There are some Description which are copy paste of mails.  We can see texts such as\n",
        "\n",
        "1. from:\n",
        "2. to:\n",
        "3. sent:\n",
        "4. date:\n",
        "5. cc:\n",
        "6. subject: \n",
        "\n",
        "We will remove such text from our analysis.  We will copy the subject to another column to see if it can be of use in future"
      ]
    },
    {
      "cell_type": "code",
      "metadata": {
        "colab": {
          "base_uri": "https://localhost:8080/",
          "height": 534
        },
        "id": "7kv4m4xz2Wfm",
        "outputId": "3d73cd5a-3783-4ef7-9e42-63a2a0dc47b1"
      },
      "source": [
        "ata_data[ata_data['Description'].str.contains('name:', case=False, na=False)].head()"
      ],
      "execution_count": null,
      "outputs": [
        {
          "output_type": "execute_result",
          "data": {
            "text/html": [
              "<div>\n",
              "<style scoped>\n",
              "    .dataframe tbody tr th:only-of-type {\n",
              "        vertical-align: middle;\n",
              "    }\n",
              "\n",
              "    .dataframe tbody tr th {\n",
              "        vertical-align: top;\n",
              "    }\n",
              "\n",
              "    .dataframe thead th {\n",
              "        text-align: right;\n",
              "    }\n",
              "</style>\n",
              "<table border=\"1\" class=\"dataframe\">\n",
              "  <thead>\n",
              "    <tr style=\"text-align: right;\">\n",
              "      <th></th>\n",
              "      <th>Short description</th>\n",
              "      <th>Description</th>\n",
              "      <th>Caller</th>\n",
              "      <th>Assignment group</th>\n",
              "      <th>short_desc_analysis</th>\n",
              "      <th>desc_analysis</th>\n",
              "    </tr>\n",
              "  </thead>\n",
              "  <tbody>\n",
              "    <tr>\n",
              "      <th>135</th>\n",
              "      <td>access to business_client drawings</td>\n",
              "      <td>name:xvgftyr tryfuh\\nlanguage:\\nbrowser:microsoft internet explorer\\nemail:cnkoflhi.abeoucfj@gmail.com\\ncustomer number:\\nsummary:i cannot seem to access the drawings from the netweaver application that is installed on my computer.  it doesn't take me to the same page that my colleagues have.</td>\n",
              "      <td>rbozivdq gmlhrtvp</td>\n",
              "      <td>GRP_0</td>\n",
              "      <td>access to business_client drawings</td>\n",
              "      <td>name:xvgftyr tryfuh\\nlanguage:\\nbrowser:microsoft internet explorer\\nemail:cnkoflhi.abeoucfj@gmail.com\\ncustomer number:\\nsummary:i cannot seem to access the drawings from the netweaver application that is installed on my computer.  it doesn't take me to the same page that my colleagues have.</td>\n",
              "    </tr>\n",
              "    <tr>\n",
              "      <th>136</th>\n",
              "      <td>taking off email permissions from personal phone</td>\n",
              "      <td>name:vdhfy\\nlanguage:\\nbrowser:microsoft internet explorer\\nemail:dcvphjru.ybomrjst@gmail.com\\ncustomer number:\\nsummary:i have scrapped the old phone. my mail was configured in it. can you take off the permissions set to view mails on that phone</td>\n",
              "      <td>dcvphjru ybomrjst</td>\n",
              "      <td>GRP_0</td>\n",
              "      <td>taking off email permissions from personal phone</td>\n",
              "      <td>name:vdhfy\\nlanguage:\\nbrowser:microsoft internet explorer\\nemail:dcvphjru.ybomrjst@gmail.com\\ncustomer number:\\nsummary:i have scrapped the old phone. my mail was configured in it. can you take off the permissions set to view mails on that phone</td>\n",
              "    </tr>\n",
              "    <tr>\n",
              "      <th>147</th>\n",
              "      <td>good morning. i am having trouble getting into my vpn</td>\n",
              "      <td>name:wvngzrca sfmrzdth\\nlanguage:\\nbrowser:microsoft internet explorer\\nemail:wvngzrca.sfmrzdth@gmail.com\\ncustomer number:\\nsummary:good morning. i am having trouble getting into my vpn\\ncan you assist</td>\n",
              "      <td>wvngzrca sfmrzdth</td>\n",
              "      <td>GRP_0</td>\n",
              "      <td>good morning. i am having trouble getting into my vpn</td>\n",
              "      <td>name:wvngzrca sfmrzdth\\nlanguage:\\nbrowser:microsoft internet explorer\\nemail:wvngzrca.sfmrzdth@gmail.com\\ncustomer number:\\nsummary:good morning. i am having trouble getting into my vpn\\ncan you assist</td>\n",
              "    </tr>\n",
              "    <tr>\n",
              "      <th>200</th>\n",
              "      <td>unable to open website</td>\n",
              "      <td>\\nname:xbdht yrjhd\\nlanguage:\\nbrowser:microsoft internet explorer\\nemail:aqjdvexo.lmedazjo@gmail.com\\ncustomer number:\\nsummary: benefit advisor will not run in my browser.</td>\n",
              "      <td>aqjdvexo lmedazjo</td>\n",
              "      <td>GRP_0</td>\n",
              "      <td>unable to open website</td>\n",
              "      <td>\\nname:xbdht yrjhd\\nlanguage:\\nbrowser:microsoft internet explorer\\nemail:aqjdvexo.lmedazjo@gmail.com\\ncustomer number:\\nsummary: benefit advisor will not run in my browser.</td>\n",
              "    </tr>\n",
              "    <tr>\n",
              "      <th>226</th>\n",
              "      <td>enable bgdxitwu dhcopwxa' active directory account</td>\n",
              "      <td>enable bgdxitwu dhcopwxa' active directory account\\n\\nname:fdgrty\\nemail:kybgepnj.idszleru@gmail.com\\nsummary:i need bgdxitwu dhcopwxa's active directory account enabled.</td>\n",
              "      <td>kcwqdeob jwtpkzub</td>\n",
              "      <td>GRP_2</td>\n",
              "      <td>enable bgdxitwu dhcopwxa' active directory account</td>\n",
              "      <td>enable bgdxitwu dhcopwxa' active directory account\\n\\nname:fdgrty\\nemail:kybgepnj.idszleru@gmail.com\\nsummary:i need bgdxitwu dhcopwxa's active directory account enabled.</td>\n",
              "    </tr>\n",
              "  </tbody>\n",
              "</table>\n",
              "</div>"
            ],
            "text/plain": [
              "                                         Short description  ...                                                                                                                                                                                                                                                                                          desc_analysis\n",
              "135                     access to business_client drawings  ...  name:xvgftyr tryfuh\\nlanguage:\\nbrowser:microsoft internet explorer\\nemail:cnkoflhi.abeoucfj@gmail.com\\ncustomer number:\\nsummary:i cannot seem to access the drawings from the netweaver application that is installed on my computer.  it doesn't take me to the same page that my colleagues have.\n",
              "136       taking off email permissions from personal phone  ...                                                 name:vdhfy\\nlanguage:\\nbrowser:microsoft internet explorer\\nemail:dcvphjru.ybomrjst@gmail.com\\ncustomer number:\\nsummary:i have scrapped the old phone. my mail was configured in it. can you take off the permissions set to view mails on that phone\n",
              "147  good morning. i am having trouble getting into my vpn  ...                                                                                             name:wvngzrca sfmrzdth\\nlanguage:\\nbrowser:microsoft internet explorer\\nemail:wvngzrca.sfmrzdth@gmail.com\\ncustomer number:\\nsummary:good morning. i am having trouble getting into my vpn\\ncan you assist\n",
              "200                                 unable to open website  ...                                                                                                                          \\nname:xbdht yrjhd\\nlanguage:\\nbrowser:microsoft internet explorer\\nemail:aqjdvexo.lmedazjo@gmail.com\\ncustomer number:\\nsummary: benefit advisor will not run in my browser.\n",
              "226     enable bgdxitwu dhcopwxa' active directory account  ...                                                                                                                             enable bgdxitwu dhcopwxa' active directory account\\n\\nname:fdgrty\\nemail:kybgepnj.idszleru@gmail.com\\nsummary:i need bgdxitwu dhcopwxa's active directory account enabled.\n",
              "\n",
              "[5 rows x 6 columns]"
            ]
          },
          "metadata": {},
          "execution_count": 42
        }
      ]
    },
    {
      "cell_type": "markdown",
      "metadata": {
        "id": "_ZPXJvwk29lG"
      },
      "source": [
        "There seems to be a template where below details are captured\n",
        "1. name\n",
        "2. language\n",
        "3. browser\n",
        "4. email\n",
        "5. customercare number\n",
        "6. summary \n",
        "\n",
        "Keeping only the text provided as summary for further analysis "
      ]
    },
    {
      "cell_type": "code",
      "metadata": {
        "id": "eDUPWxZ4Zqhz",
        "colab": {
          "base_uri": "https://localhost:8080/",
          "height": 499
        },
        "outputId": "c3b23f81-f75f-43c0-c3a1-c5465df609b6"
      },
      "source": [
        "ata_data[ata_data['Description'].str.contains('cid:image', case=False, na=False)].head()"
      ],
      "execution_count": null,
      "outputs": [
        {
          "output_type": "execute_result",
          "data": {
            "text/html": [
              "<div>\n",
              "<style scoped>\n",
              "    .dataframe tbody tr th:only-of-type {\n",
              "        vertical-align: middle;\n",
              "    }\n",
              "\n",
              "    .dataframe tbody tr th {\n",
              "        vertical-align: top;\n",
              "    }\n",
              "\n",
              "    .dataframe thead th {\n",
              "        text-align: right;\n",
              "    }\n",
              "</style>\n",
              "<table border=\"1\" class=\"dataframe\">\n",
              "  <thead>\n",
              "    <tr style=\"text-align: right;\">\n",
              "      <th></th>\n",
              "      <th>Short description</th>\n",
              "      <th>Description</th>\n",
              "      <th>Caller</th>\n",
              "      <th>Assignment group</th>\n",
              "      <th>short_desc_analysis</th>\n",
              "      <th>desc_analysis</th>\n",
              "    </tr>\n",
              "  </thead>\n",
              "  <tbody>\n",
              "    <tr>\n",
              "      <th>21</th>\n",
              "      <td>vpn issue</td>\n",
              "      <td>\\r\\n\\r\\nreceived from: ugephfta.hrbqkvij@gmail.com\\r\\n\\r\\nhello helpdesk\\r\\n\\r\\ni am not able to connect vpn from home office. couple f hours ago i was connected, now it is not working anymore. getting a message that my session expired but if i click on the link, nothing happens.\\r\\n\\r\\n[cid:image001.jpg@01d233aa.3f618be0]\\r\\n\\r\\n*********************\\r\\n\\r\\nneed help with your dynamics crm?\\r\\nclick here&lt;\\r\\n\\r\\nchat with a live agent regarding your dynamics crm questions now! click here&lt;\\r\\n\\r\\nbest</td>\n",
              "      <td>ugephfta hrbqkvij</td>\n",
              "      <td>GRP_0</td>\n",
              "      <td>vpn issue</td>\n",
              "      <td>\\r\\n\\r\\nreceived from: ugephfta.hrbqkvij@gmail.com\\r\\n\\r\\nhello helpdesk\\r\\n\\r\\ni am not able to connect vpn from home office. couple f hours ago i was connected, now it is not working anymore. getting a message that my session expired but if i click on the link, nothing happens.\\r\\n\\r\\n[cid:image001.jpg@01d233aa.3f618be0]\\r\\n\\r\\n*********************\\r\\n\\r\\nneed help with your dynamics crm?\\r\\nclick here&lt;\\r\\n\\r\\nchat with a live agent regarding your dynamics crm questions now! click here&lt;\\r\\n\\r\\nbest</td>\n",
              "    </tr>\n",
              "    <tr>\n",
              "      <th>62</th>\n",
              "      <td>issues with outlook</td>\n",
              "      <td>\\r\\n\\r\\nreceived from: lkfzibrx.ljnabpgx@gmail.com\\r\\n\\r\\n[cid:image001.png@01d23357.fcbe58b0]\\r\\n\\r\\nbest</td>\n",
              "      <td>lkfzibrx ljnabpgx</td>\n",
              "      <td>GRP_0</td>\n",
              "      <td>issues with outlook</td>\n",
              "      <td>\\r\\n\\r\\nreceived from: lkfzibrx.ljnabpgx@gmail.com\\r\\n\\r\\n[cid:image001.png@01d23357.fcbe58b0]\\r\\n\\r\\nbest</td>\n",
              "    </tr>\n",
              "    <tr>\n",
              "      <th>107</th>\n",
              "      <td>attendance_tool - system log on error</td>\n",
              "      <td>\\n\\nreceived from: isfadulo.etkyjabn@gmail.com\\n\\nhello\\n\\ngood morning,\\n\\ni am experiencing issues with attendance_tool log on\\nevery time i try to log on through \"single sign portal, the following screen gets displayed and it stays there.\\nappreciate your support to fix this issue\\n\\n\\n[cid:image011.jpg@01d231cb.2cceacf0]\\n\\n</td>\n",
              "      <td>isfadulo etkyjabn</td>\n",
              "      <td>GRP_0</td>\n",
              "      <td>attendance_tool - system log on error</td>\n",
              "      <td>\\n\\nreceived from: isfadulo.etkyjabn@gmail.com\\n\\nhello\\n\\ngood morning,\\n\\ni am experiencing issues with attendance_tool log on\\nevery time i try to log on through \"single sign portal, the following screen gets displayed and it stays there.\\nappreciate your support to fix this issue\\n\\n\\n[cid:image011.jpg@01d231cb.2cceacf0]\\n\\n</td>\n",
              "    </tr>\n",
              "    <tr>\n",
              "      <th>128</th>\n",
              "      <td>password change thru password_management_tool password manager</td>\n",
              "      <td>\\r\\n\\r\\nreceived from: jvpkulxw.ovuweygj@gmail.com\\r\\n\\r\\nhello sir,\\r\\n\\r\\ni tried to change my password thru above. i  got below error. pl help know what action to be taken further to ensure all passwords are same everywhere since belo wmsg says all passwords were not changed.\\r\\n\\r\\n[cid:image001.jpg@01d2316b.5ff15980]\\r\\n\\r\\n</td>\n",
              "      <td>jvpkulxw ovuweygj</td>\n",
              "      <td>GRP_0</td>\n",
              "      <td>password change thru password_management_tool password manager</td>\n",
              "      <td>\\r\\n\\r\\nreceived from: jvpkulxw.ovuweygj@gmail.com\\r\\n\\r\\nhello sir,\\r\\n\\r\\ni tried to change my password thru above. i  got below error. pl help know what action to be taken further to ensure all passwords are same everywhere since belo wmsg says all passwords were not changed.\\r\\n\\r\\n[cid:image001.jpg@01d2316b.5ff15980]\\r\\n\\r\\n</td>\n",
              "    </tr>\n",
              "    <tr>\n",
              "      <th>151</th>\n",
              "      <td>i used to have acces to this location on collaboration_platform.  now i do not. i need access.</td>\n",
              "      <td>\\n\\nreceived from: bwfhtumx.japznrvb@gmail.com\\n\\n\\n\\n[cid:image001.jpg@01d230f7.8bb4e830]\\n\\nbwfhtumx japznrvb \\nregional controller\\nbwfhtumx.japznrvb@gmail.com&lt;mailto:bwfhtumx.japznrvb@gmail.com&gt;\\n\\n\\n\\n</td>\n",
              "      <td>bwfhtumx japznrvb</td>\n",
              "      <td>GRP_16</td>\n",
              "      <td>i used to have acces to this location on collaboration_platform.  now i do not. i need access.</td>\n",
              "      <td>\\n\\nreceived from: bwfhtumx.japznrvb@gmail.com\\n\\n\\n\\n[cid:image001.jpg@01d230f7.8bb4e830]\\n\\nbwfhtumx japznrvb \\nregional controller\\nbwfhtumx.japznrvb@gmail.com&lt;mailto:bwfhtumx.japznrvb@gmail.com&gt;\\n\\n\\n\\n</td>\n",
              "    </tr>\n",
              "  </tbody>\n",
              "</table>\n",
              "</div>"
            ],
            "text/plain": [
              "                                                                                  Short description  ...                                                                                                                                                                                                                                                                                                                                                                                                                                                                                                                desc_analysis\n",
              "21                                                                                        vpn issue  ...  \\r\\n\\r\\nreceived from: ugephfta.hrbqkvij@gmail.com\\r\\n\\r\\nhello helpdesk\\r\\n\\r\\ni am not able to connect vpn from home office. couple f hours ago i was connected, now it is not working anymore. getting a message that my session expired but if i click on the link, nothing happens.\\r\\n\\r\\n[cid:image001.jpg@01d233aa.3f618be0]\\r\\n\\r\\n*********************\\r\\n\\r\\nneed help with your dynamics crm?\\r\\nclick here<\\r\\n\\r\\nchat with a live agent regarding your dynamics crm questions now! click here<\\r\\n\\r\\nbest \n",
              "62                                                                              issues with outlook  ...                                                                                                                                                                                                                                                                                                                                                                                                                  \\r\\n\\r\\nreceived from: lkfzibrx.ljnabpgx@gmail.com\\r\\n\\r\\n[cid:image001.png@01d23357.fcbe58b0]\\r\\n\\r\\nbest \n",
              "107                                                           attendance_tool - system log on error  ...                                                                                                                                                                                   \\n\\nreceived from: isfadulo.etkyjabn@gmail.com\\n\\nhello\\n\\ngood morning,\\n\\ni am experiencing issues with attendance_tool log on\\nevery time i try to log on through \"single sign portal, the following screen gets displayed and it stays there.\\nappreciate your support to fix this issue\\n\\n\\n[cid:image011.jpg@01d231cb.2cceacf0]\\n\\n\n",
              "128                                  password change thru password_management_tool password manager  ...                                                                                                                                                                                  \\r\\n\\r\\nreceived from: jvpkulxw.ovuweygj@gmail.com\\r\\n\\r\\nhello sir,\\r\\n\\r\\ni tried to change my password thru above. i  got below error. pl help know what action to be taken further to ensure all passwords are same everywhere since belo wmsg says all passwords were not changed.\\r\\n\\r\\n[cid:image001.jpg@01d2316b.5ff15980]\\r\\n\\r\\n\n",
              "151  i used to have acces to this location on collaboration_platform.  now i do not. i need access.  ...                                                                                                                                                                                                                                                                                                               \\n\\nreceived from: bwfhtumx.japznrvb@gmail.com\\n\\n\\n\\n[cid:image001.jpg@01d230f7.8bb4e830]\\n\\nbwfhtumx japznrvb \\nregional controller\\nbwfhtumx.japznrvb@gmail.com<mailto:bwfhtumx.japznrvb@gmail.com>\\n\\n\\n\\n\n",
              "\n",
              "[5 rows x 6 columns]"
            ]
          },
          "metadata": {},
          "execution_count": 43
        }
      ]
    },
    {
      "cell_type": "markdown",
      "metadata": {
        "id": "qxCXYQUvJrvL"
      },
      "source": [
        "There are some texts containing embedded image details.  Removing the text pertaining to embedded images"
      ]
    },
    {
      "cell_type": "code",
      "metadata": {
        "id": "sPmeXTkNW2B0",
        "colab": {
          "base_uri": "https://localhost:8080/"
        },
        "outputId": "9a013d41-9cfa-47db-9445-829005200293"
      },
      "source": [
        "import nltk\n",
        "nltk.download('stopwords')\n",
        "nltk.download('punkt')\n",
        "nltk.download('wordnet')"
      ],
      "execution_count": null,
      "outputs": [
        {
          "output_type": "stream",
          "name": "stdout",
          "text": [
            "[nltk_data] Downloading package stopwords to /root/nltk_data...\n",
            "[nltk_data]   Unzipping corpora/stopwords.zip.\n",
            "[nltk_data] Downloading package punkt to /root/nltk_data...\n",
            "[nltk_data]   Unzipping tokenizers/punkt.zip.\n",
            "[nltk_data] Downloading package wordnet to /root/nltk_data...\n",
            "[nltk_data]   Unzipping corpora/wordnet.zip.\n"
          ]
        },
        {
          "output_type": "execute_result",
          "data": {
            "text/plain": [
              "True"
            ]
          },
          "metadata": {},
          "execution_count": 44
        }
      ]
    },
    {
      "cell_type": "code",
      "metadata": {
        "id": "-HmGbLaBMVtQ",
        "colab": {
          "base_uri": "https://localhost:8080/",
          "height": 363
        },
        "outputId": "afba495d-5176-4c59-d11c-87ee93197b4b"
      },
      "source": [
        "ata_data['short_desc_analysis'] = ata_data['short_desc_analysis'].apply(preprocess_text_part1)\n",
        "ata_data['desc_analysis'] = ata_data['desc_analysis'].apply(preprocess_text_part1)"
      ],
      "execution_count": null,
      "outputs": [
        {
          "output_type": "error",
          "ename": "TypeError",
          "evalue": "ignored",
          "traceback": [
            "\u001b[0;31m---------------------------------------------------------------------------\u001b[0m",
            "\u001b[0;31mTypeError\u001b[0m                                 Traceback (most recent call last)",
            "\u001b[0;32m<ipython-input-45-959fd4d9611f>\u001b[0m in \u001b[0;36m<module>\u001b[0;34m()\u001b[0m\n\u001b[1;32m      1\u001b[0m \u001b[0mata_data\u001b[0m\u001b[0;34m[\u001b[0m\u001b[0;34m'short_desc_analysis'\u001b[0m\u001b[0;34m]\u001b[0m \u001b[0;34m=\u001b[0m \u001b[0mata_data\u001b[0m\u001b[0;34m[\u001b[0m\u001b[0;34m'short_desc_analysis'\u001b[0m\u001b[0;34m]\u001b[0m\u001b[0;34m.\u001b[0m\u001b[0mapply\u001b[0m\u001b[0;34m(\u001b[0m\u001b[0mpreprocess_text_part1\u001b[0m\u001b[0;34m)\u001b[0m\u001b[0;34m\u001b[0m\u001b[0;34m\u001b[0m\u001b[0m\n\u001b[0;32m----> 2\u001b[0;31m \u001b[0mata_data\u001b[0m\u001b[0;34m[\u001b[0m\u001b[0;34m'desc_analysis'\u001b[0m\u001b[0;34m]\u001b[0m \u001b[0;34m=\u001b[0m \u001b[0mata_data\u001b[0m\u001b[0;34m[\u001b[0m\u001b[0;34m'desc_analysis'\u001b[0m\u001b[0;34m]\u001b[0m\u001b[0;34m.\u001b[0m\u001b[0mapply\u001b[0m\u001b[0;34m(\u001b[0m\u001b[0mpreprocess_text_part1\u001b[0m\u001b[0;34m)\u001b[0m\u001b[0;34m\u001b[0m\u001b[0;34m\u001b[0m\u001b[0m\n\u001b[0m",
            "\u001b[0;32m/usr/local/lib/python3.7/dist-packages/pandas/core/series.py\u001b[0m in \u001b[0;36mapply\u001b[0;34m(self, func, convert_dtype, args, **kwds)\u001b[0m\n\u001b[1;32m   4211\u001b[0m             \u001b[0;32melse\u001b[0m\u001b[0;34m:\u001b[0m\u001b[0;34m\u001b[0m\u001b[0;34m\u001b[0m\u001b[0m\n\u001b[1;32m   4212\u001b[0m                 \u001b[0mvalues\u001b[0m \u001b[0;34m=\u001b[0m \u001b[0mself\u001b[0m\u001b[0;34m.\u001b[0m\u001b[0mastype\u001b[0m\u001b[0;34m(\u001b[0m\u001b[0mobject\u001b[0m\u001b[0;34m)\u001b[0m\u001b[0;34m.\u001b[0m\u001b[0m_values\u001b[0m\u001b[0;34m\u001b[0m\u001b[0;34m\u001b[0m\u001b[0m\n\u001b[0;32m-> 4213\u001b[0;31m                 \u001b[0mmapped\u001b[0m \u001b[0;34m=\u001b[0m \u001b[0mlib\u001b[0m\u001b[0;34m.\u001b[0m\u001b[0mmap_infer\u001b[0m\u001b[0;34m(\u001b[0m\u001b[0mvalues\u001b[0m\u001b[0;34m,\u001b[0m \u001b[0mf\u001b[0m\u001b[0;34m,\u001b[0m \u001b[0mconvert\u001b[0m\u001b[0;34m=\u001b[0m\u001b[0mconvert_dtype\u001b[0m\u001b[0;34m)\u001b[0m\u001b[0;34m\u001b[0m\u001b[0;34m\u001b[0m\u001b[0m\n\u001b[0m\u001b[1;32m   4214\u001b[0m \u001b[0;34m\u001b[0m\u001b[0m\n\u001b[1;32m   4215\u001b[0m         \u001b[0;32mif\u001b[0m \u001b[0mlen\u001b[0m\u001b[0;34m(\u001b[0m\u001b[0mmapped\u001b[0m\u001b[0;34m)\u001b[0m \u001b[0;32mand\u001b[0m \u001b[0misinstance\u001b[0m\u001b[0;34m(\u001b[0m\u001b[0mmapped\u001b[0m\u001b[0;34m[\u001b[0m\u001b[0;36m0\u001b[0m\u001b[0;34m]\u001b[0m\u001b[0;34m,\u001b[0m \u001b[0mSeries\u001b[0m\u001b[0;34m)\u001b[0m\u001b[0;34m:\u001b[0m\u001b[0;34m\u001b[0m\u001b[0;34m\u001b[0m\u001b[0m\n",
            "\u001b[0;32mpandas/_libs/lib.pyx\u001b[0m in \u001b[0;36mpandas._libs.lib.map_infer\u001b[0;34m()\u001b[0m\n",
            "\u001b[0;32m<ipython-input-24-750a9e03b388>\u001b[0m in \u001b[0;36mpreprocess_text_part1\u001b[0;34m(text)\u001b[0m\n\u001b[1;32m      1\u001b[0m \u001b[0;32mdef\u001b[0m \u001b[0mpreprocess_text_part1\u001b[0m\u001b[0;34m(\u001b[0m\u001b[0mtext\u001b[0m\u001b[0;34m)\u001b[0m\u001b[0;34m:\u001b[0m\u001b[0;34m\u001b[0m\u001b[0;34m\u001b[0m\u001b[0m\n\u001b[0;32m----> 2\u001b[0;31m   \u001b[0mtext\u001b[0m \u001b[0;34m=\u001b[0m \u001b[0mclean_mojibake\u001b[0m\u001b[0;34m(\u001b[0m\u001b[0mtext\u001b[0m\u001b[0;34m)\u001b[0m\u001b[0;34m\u001b[0m\u001b[0;34m\u001b[0m\u001b[0m\n\u001b[0m\u001b[1;32m      3\u001b[0m   \u001b[0mtext\u001b[0m \u001b[0;34m=\u001b[0m \u001b[0mconvert_to_lowercase\u001b[0m\u001b[0;34m(\u001b[0m\u001b[0mtext\u001b[0m\u001b[0;34m)\u001b[0m\u001b[0;34m\u001b[0m\u001b[0;34m\u001b[0m\u001b[0m\n\u001b[1;32m      4\u001b[0m   \u001b[0;32mreturn\u001b[0m \u001b[0mtext\u001b[0m\u001b[0;34m\u001b[0m\u001b[0;34m\u001b[0m\u001b[0m\n",
            "\u001b[0;32m<ipython-input-17-9a61aea4e961>\u001b[0m in \u001b[0;36mclean_mojibake\u001b[0;34m(text)\u001b[0m\n\u001b[1;32m      1\u001b[0m \u001b[0;32mdef\u001b[0m \u001b[0mclean_mojibake\u001b[0m\u001b[0;34m(\u001b[0m\u001b[0mtext\u001b[0m\u001b[0;34m)\u001b[0m\u001b[0;34m:\u001b[0m\u001b[0;34m\u001b[0m\u001b[0;34m\u001b[0m\u001b[0m\n\u001b[0;32m----> 2\u001b[0;31m   \u001b[0mcleaned_mojibake\u001b[0m \u001b[0;34m=\u001b[0m \u001b[0mftfy\u001b[0m\u001b[0;34m.\u001b[0m\u001b[0mfix_text\u001b[0m\u001b[0;34m(\u001b[0m\u001b[0mtext\u001b[0m\u001b[0;34m)\u001b[0m\u001b[0;34m\u001b[0m\u001b[0;34m\u001b[0m\u001b[0m\n\u001b[0m\u001b[1;32m      3\u001b[0m   \u001b[0;32mreturn\u001b[0m \u001b[0mcleaned_mojibake\u001b[0m\u001b[0;34m\u001b[0m\u001b[0;34m\u001b[0m\u001b[0m\n",
            "\u001b[0;32m/usr/local/lib/python3.7/dist-packages/ftfy/__init__.py\u001b[0m in \u001b[0;36mfix_text\u001b[0;34m(text, config, **kwargs)\u001b[0m\n\u001b[1;32m    300\u001b[0m     \u001b[0mout\u001b[0m \u001b[0;34m=\u001b[0m \u001b[0;34m[\u001b[0m\u001b[0;34m]\u001b[0m\u001b[0;34m\u001b[0m\u001b[0;34m\u001b[0m\u001b[0m\n\u001b[1;32m    301\u001b[0m     \u001b[0mpos\u001b[0m \u001b[0;34m=\u001b[0m \u001b[0;36m0\u001b[0m\u001b[0;34m\u001b[0m\u001b[0;34m\u001b[0m\u001b[0m\n\u001b[0;32m--> 302\u001b[0;31m     \u001b[0;32mwhile\u001b[0m \u001b[0mpos\u001b[0m \u001b[0;34m<\u001b[0m \u001b[0mlen\u001b[0m\u001b[0;34m(\u001b[0m\u001b[0mtext\u001b[0m\u001b[0;34m)\u001b[0m\u001b[0;34m:\u001b[0m\u001b[0;34m\u001b[0m\u001b[0;34m\u001b[0m\u001b[0m\n\u001b[0m\u001b[1;32m    303\u001b[0m         \u001b[0mtextbreak\u001b[0m \u001b[0;34m=\u001b[0m \u001b[0mtext\u001b[0m\u001b[0;34m.\u001b[0m\u001b[0mfind\u001b[0m\u001b[0;34m(\u001b[0m\u001b[0;34m\"\\n\"\u001b[0m\u001b[0;34m,\u001b[0m \u001b[0mpos\u001b[0m\u001b[0;34m)\u001b[0m \u001b[0;34m+\u001b[0m \u001b[0;36m1\u001b[0m\u001b[0;34m\u001b[0m\u001b[0;34m\u001b[0m\u001b[0m\n\u001b[1;32m    304\u001b[0m         \u001b[0;32mif\u001b[0m \u001b[0mtextbreak\u001b[0m \u001b[0;34m==\u001b[0m \u001b[0;36m0\u001b[0m\u001b[0;34m:\u001b[0m\u001b[0;34m\u001b[0m\u001b[0;34m\u001b[0m\u001b[0m\n",
            "\u001b[0;31mTypeError\u001b[0m: object of type 'float' has no len()"
          ]
        }
      ]
    },
    {
      "cell_type": "code",
      "metadata": {
        "colab": {
          "base_uri": "https://localhost:8080/",
          "height": 499
        },
        "id": "OXBQiTsbPBtM",
        "outputId": "f0665f25-2564-42ff-c711-39466c76e291"
      },
      "source": [
        "ata_data.head()"
      ],
      "execution_count": null,
      "outputs": [
        {
          "output_type": "execute_result",
          "data": {
            "text/html": [
              "<div>\n",
              "<style scoped>\n",
              "    .dataframe tbody tr th:only-of-type {\n",
              "        vertical-align: middle;\n",
              "    }\n",
              "\n",
              "    .dataframe tbody tr th {\n",
              "        vertical-align: top;\n",
              "    }\n",
              "\n",
              "    .dataframe thead th {\n",
              "        text-align: right;\n",
              "    }\n",
              "</style>\n",
              "<table border=\"1\" class=\"dataframe\">\n",
              "  <thead>\n",
              "    <tr style=\"text-align: right;\">\n",
              "      <th></th>\n",
              "      <th>Short description</th>\n",
              "      <th>Description</th>\n",
              "      <th>Caller</th>\n",
              "      <th>Assignment group</th>\n",
              "      <th>short_desc_analysis</th>\n",
              "      <th>desc_analysis</th>\n",
              "    </tr>\n",
              "  </thead>\n",
              "  <tbody>\n",
              "    <tr>\n",
              "      <th>0</th>\n",
              "      <td>login issue</td>\n",
              "      <td>-verified user details.(employee# &amp; manager name)\\r\\n-checked the user name in ad and reset the password.\\r\\n-advised the user to login and check.\\r\\n-caller confirmed that he was able to login.\\r\\n-issue resolved.</td>\n",
              "      <td>spxjnwir pjlcoqds</td>\n",
              "      <td>GRP_0</td>\n",
              "      <td>login issue</td>\n",
              "      <td>-verified user details.(employee# &amp; manager name)\\n-checked the user name in ad and reset the password.\\n-advised the user to login and check.\\n-caller confirmed that he was able to login.\\n-issue resolved.</td>\n",
              "    </tr>\n",
              "    <tr>\n",
              "      <th>1</th>\n",
              "      <td>outlook</td>\n",
              "      <td>\\r\\n\\r\\nreceived from: hmjdrvpb.komuaywn@gmail.com\\r\\n\\r\\nhello team,\\r\\n\\r\\nmy meetings/skype meetings etc are not appearing in my outlook calendar, can somebody please advise how to correct this?\\r\\n\\r\\nkind</td>\n",
              "      <td>hmjdrvpb komuaywn</td>\n",
              "      <td>GRP_0</td>\n",
              "      <td>outlook</td>\n",
              "      <td>\\n\\nreceived from: hmjdrvpb.komuaywn@gmail.com\\n\\nhello team,\\n\\nmy meetings/skype meetings etc are not appearing in my outlook calendar, can somebody please advise how to correct this?\\n\\nkind</td>\n",
              "    </tr>\n",
              "    <tr>\n",
              "      <th>2</th>\n",
              "      <td>cant log in to vpn</td>\n",
              "      <td>\\r\\n\\r\\nreceived from: eylqgodm.ybqkwiam@gmail.com\\r\\n\\r\\nhi\\r\\n\\r\\ni cannot log on to vpn\\r\\n\\r\\nbest</td>\n",
              "      <td>eylqgodm ybqkwiam</td>\n",
              "      <td>GRP_0</td>\n",
              "      <td>cant log in to vpn</td>\n",
              "      <td>\\n\\nreceived from: eylqgodm.ybqkwiam@gmail.com\\n\\nhi\\n\\ni cannot log on to vpn\\n\\nbest</td>\n",
              "    </tr>\n",
              "    <tr>\n",
              "      <th>3</th>\n",
              "      <td>unable to access hr_tool page</td>\n",
              "      <td>unable to access hr_tool page</td>\n",
              "      <td>xbkucsvz gcpydteq</td>\n",
              "      <td>GRP_0</td>\n",
              "      <td>unable to access hr_tool page</td>\n",
              "      <td>unable to access hr_tool page</td>\n",
              "    </tr>\n",
              "    <tr>\n",
              "      <th>4</th>\n",
              "      <td>skype error</td>\n",
              "      <td>skype error</td>\n",
              "      <td>owlgqjme qhcozdfx</td>\n",
              "      <td>GRP_0</td>\n",
              "      <td>skype error</td>\n",
              "      <td>skype error</td>\n",
              "    </tr>\n",
              "  </tbody>\n",
              "</table>\n",
              "</div>"
            ],
            "text/plain": [
              "               Short description  ...                                                                                                                                                                                                   desc_analysis\n",
              "0                    login issue  ...  -verified user details.(employee# & manager name)\\n-checked the user name in ad and reset the password.\\n-advised the user to login and check.\\n-caller confirmed that he was able to login.\\n-issue resolved.\n",
              "1                        outlook  ...              \\n\\nreceived from: hmjdrvpb.komuaywn@gmail.com\\n\\nhello team,\\n\\nmy meetings/skype meetings etc are not appearing in my outlook calendar, can somebody please advise how to correct this?\\n\\nkind \n",
              "2             cant log in to vpn  ...                                                                                                                         \\n\\nreceived from: eylqgodm.ybqkwiam@gmail.com\\n\\nhi\\n\\ni cannot log on to vpn\\n\\nbest \n",
              "3  unable to access hr_tool page  ...                                                                                                                                                                                   unable to access hr_tool page\n",
              "4                   skype error   ...                                                                                                                                                                                                    skype error \n",
              "\n",
              "[5 rows x 6 columns]"
            ]
          },
          "metadata": {},
          "execution_count": 44
        }
      ]
    },
    {
      "cell_type": "code",
      "metadata": {
        "id": "lf72lCxgcaV0"
      },
      "source": [
        "ata_data['mail_received_from'] = ata_data['desc_analysis'].apply(extract_received_from_mail)\n",
        "ata_data['mail_subject_mentioned'] = ata_data['desc_analysis'].apply(extract_subject_from_mail)"
      ],
      "execution_count": null,
      "outputs": []
    },
    {
      "cell_type": "code",
      "metadata": {
        "colab": {
          "base_uri": "https://localhost:8080/",
          "height": 499
        },
        "id": "r7UpfQ8mcagh",
        "outputId": "e5f4e6f9-4049-4971-a9de-20e223a34518"
      },
      "source": [
        "ata_data.head()"
      ],
      "execution_count": null,
      "outputs": [
        {
          "output_type": "execute_result",
          "data": {
            "text/html": [
              "<div>\n",
              "<style scoped>\n",
              "    .dataframe tbody tr th:only-of-type {\n",
              "        vertical-align: middle;\n",
              "    }\n",
              "\n",
              "    .dataframe tbody tr th {\n",
              "        vertical-align: top;\n",
              "    }\n",
              "\n",
              "    .dataframe thead th {\n",
              "        text-align: right;\n",
              "    }\n",
              "</style>\n",
              "<table border=\"1\" class=\"dataframe\">\n",
              "  <thead>\n",
              "    <tr style=\"text-align: right;\">\n",
              "      <th></th>\n",
              "      <th>Short description</th>\n",
              "      <th>Description</th>\n",
              "      <th>Caller</th>\n",
              "      <th>Assignment group</th>\n",
              "      <th>short_desc_analysis</th>\n",
              "      <th>desc_analysis</th>\n",
              "      <th>mail_received_from</th>\n",
              "      <th>mail_subject_mentioned</th>\n",
              "    </tr>\n",
              "  </thead>\n",
              "  <tbody>\n",
              "    <tr>\n",
              "      <th>0</th>\n",
              "      <td>login issue</td>\n",
              "      <td>-verified user details.(employee# &amp; manager name)\\r\\n-checked the user name in ad and reset the password.\\r\\n-advised the user to login and check.\\r\\n-caller confirmed that he was able to login.\\r\\n-issue resolved.</td>\n",
              "      <td>spxjnwir pjlcoqds</td>\n",
              "      <td>GRP_0</td>\n",
              "      <td>login issue</td>\n",
              "      <td>-verified user details.(employee# &amp; manager name)\\n-checked the user name in ad and reset the password.\\n-advised the user to login and check.\\n-caller confirmed that he was able to login.\\n-issue resolved.</td>\n",
              "      <td>No Match</td>\n",
              "      <td>No Match</td>\n",
              "    </tr>\n",
              "    <tr>\n",
              "      <th>1</th>\n",
              "      <td>outlook</td>\n",
              "      <td>\\r\\n\\r\\nreceived from: hmjdrvpb.komuaywn@gmail.com\\r\\n\\r\\nhello team,\\r\\n\\r\\nmy meetings/skype meetings etc are not appearing in my outlook calendar, can somebody please advise how to correct this?\\r\\n\\r\\nkind</td>\n",
              "      <td>hmjdrvpb komuaywn</td>\n",
              "      <td>GRP_0</td>\n",
              "      <td>outlook</td>\n",
              "      <td>\\n\\nreceived from: hmjdrvpb.komuaywn@gmail.com\\n\\nhello team,\\n\\nmy meetings/skype meetings etc are not appearing in my outlook calendar, can somebody please advise how to correct this?\\n\\nkind</td>\n",
              "      <td>hmjdrvpb.komuaywn@gmail.com</td>\n",
              "      <td>No Match</td>\n",
              "    </tr>\n",
              "    <tr>\n",
              "      <th>2</th>\n",
              "      <td>cant log in to vpn</td>\n",
              "      <td>\\r\\n\\r\\nreceived from: eylqgodm.ybqkwiam@gmail.com\\r\\n\\r\\nhi\\r\\n\\r\\ni cannot log on to vpn\\r\\n\\r\\nbest</td>\n",
              "      <td>eylqgodm ybqkwiam</td>\n",
              "      <td>GRP_0</td>\n",
              "      <td>cant log in to vpn</td>\n",
              "      <td>\\n\\nreceived from: eylqgodm.ybqkwiam@gmail.com\\n\\nhi\\n\\ni cannot log on to vpn\\n\\nbest</td>\n",
              "      <td>eylqgodm.ybqkwiam@gmail.com</td>\n",
              "      <td>No Match</td>\n",
              "    </tr>\n",
              "    <tr>\n",
              "      <th>3</th>\n",
              "      <td>unable to access hr_tool page</td>\n",
              "      <td>unable to access hr_tool page</td>\n",
              "      <td>xbkucsvz gcpydteq</td>\n",
              "      <td>GRP_0</td>\n",
              "      <td>unable to access hr_tool page</td>\n",
              "      <td>unable to access hr_tool page</td>\n",
              "      <td>No Match</td>\n",
              "      <td>No Match</td>\n",
              "    </tr>\n",
              "    <tr>\n",
              "      <th>4</th>\n",
              "      <td>skype error</td>\n",
              "      <td>skype error</td>\n",
              "      <td>owlgqjme qhcozdfx</td>\n",
              "      <td>GRP_0</td>\n",
              "      <td>skype error</td>\n",
              "      <td>skype error</td>\n",
              "      <td>No Match</td>\n",
              "      <td>No Match</td>\n",
              "    </tr>\n",
              "  </tbody>\n",
              "</table>\n",
              "</div>"
            ],
            "text/plain": [
              "               Short description  ... mail_subject_mentioned\n",
              "0                    login issue  ...               No Match\n",
              "1                        outlook  ...               No Match\n",
              "2             cant log in to vpn  ...               No Match\n",
              "3  unable to access hr_tool page  ...               No Match\n",
              "4                   skype error   ...               No Match\n",
              "\n",
              "[5 rows x 8 columns]"
            ]
          },
          "metadata": {},
          "execution_count": 46
        }
      ]
    },
    {
      "cell_type": "code",
      "metadata": {
        "id": "idyy-BhPcamP"
      },
      "source": [
        "ata_data['short_desc_analysis'] = ata_data['short_desc_analysis'].apply(preprocess_text_part2)\n",
        "ata_data['desc_analysis'] = ata_data['desc_analysis'].apply(preprocess_text_part2)"
      ],
      "execution_count": null,
      "outputs": []
    },
    {
      "cell_type": "code",
      "metadata": {
        "colab": {
          "base_uri": "https://localhost:8080/",
          "height": 707
        },
        "id": "MZwqBA5lcatC",
        "outputId": "ffa2ca40-b59a-4367-d792-2159c34b1720"
      },
      "source": [
        "ata_data.head()"
      ],
      "execution_count": null,
      "outputs": [
        {
          "output_type": "execute_result",
          "data": {
            "text/html": [
              "<div>\n",
              "<style scoped>\n",
              "    .dataframe tbody tr th:only-of-type {\n",
              "        vertical-align: middle;\n",
              "    }\n",
              "\n",
              "    .dataframe tbody tr th {\n",
              "        vertical-align: top;\n",
              "    }\n",
              "\n",
              "    .dataframe thead th {\n",
              "        text-align: right;\n",
              "    }\n",
              "</style>\n",
              "<table border=\"1\" class=\"dataframe\">\n",
              "  <thead>\n",
              "    <tr style=\"text-align: right;\">\n",
              "      <th></th>\n",
              "      <th>Short description</th>\n",
              "      <th>Description</th>\n",
              "      <th>Caller</th>\n",
              "      <th>Assignment group</th>\n",
              "      <th>short_desc_analysis</th>\n",
              "      <th>desc_analysis</th>\n",
              "      <th>mail_received_from</th>\n",
              "      <th>mail_subject_mentioned</th>\n",
              "    </tr>\n",
              "  </thead>\n",
              "  <tbody>\n",
              "    <tr>\n",
              "      <th>0</th>\n",
              "      <td>login issue</td>\n",
              "      <td>-verified user details.(employee# &amp; manager name)\\r\\n-checked the user name in ad and reset the password.\\r\\n-advised the user to login and check.\\r\\n-caller confirmed that he was able to login.\\r\\n-issue resolved.</td>\n",
              "      <td>spxjnwir pjlcoqds</td>\n",
              "      <td>GRP_0</td>\n",
              "      <td>login issue</td>\n",
              "      <td>verified user detailsemployee  checked the user name in ad and reset the password advised the user to login and check caller confirmed that he was able to login issue resolved</td>\n",
              "      <td>No Match</td>\n",
              "      <td>No Match</td>\n",
              "    </tr>\n",
              "    <tr>\n",
              "      <th>1</th>\n",
              "      <td>outlook</td>\n",
              "      <td>\\r\\n\\r\\nreceived from: hmjdrvpb.komuaywn@gmail.com\\r\\n\\r\\nhello team,\\r\\n\\r\\nmy meetings/skype meetings etc are not appearing in my outlook calendar, can somebody please advise how to correct this?\\r\\n\\r\\nkind</td>\n",
              "      <td>hmjdrvpb komuaywn</td>\n",
              "      <td>GRP_0</td>\n",
              "      <td>outlook</td>\n",
              "      <td>hello team  my meetingsskype meetings etc are not appearing in my outlook calendar can somebody please advise how to correct this  kind</td>\n",
              "      <td>hmjdrvpb.komuaywn@gmail.com</td>\n",
              "      <td>No Match</td>\n",
              "    </tr>\n",
              "    <tr>\n",
              "      <th>2</th>\n",
              "      <td>cant log in to vpn</td>\n",
              "      <td>\\r\\n\\r\\nreceived from: eylqgodm.ybqkwiam@gmail.com\\r\\n\\r\\nhi\\r\\n\\r\\ni cannot log on to vpn\\r\\n\\r\\nbest</td>\n",
              "      <td>eylqgodm ybqkwiam</td>\n",
              "      <td>GRP_0</td>\n",
              "      <td>cant log in to vpn</td>\n",
              "      <td>hi  i cannot log on to vpn  best</td>\n",
              "      <td>eylqgodm.ybqkwiam@gmail.com</td>\n",
              "      <td>No Match</td>\n",
              "    </tr>\n",
              "    <tr>\n",
              "      <th>3</th>\n",
              "      <td>unable to access hr_tool page</td>\n",
              "      <td>unable to access hr_tool page</td>\n",
              "      <td>xbkucsvz gcpydteq</td>\n",
              "      <td>GRP_0</td>\n",
              "      <td>unable to access hrtool page</td>\n",
              "      <td>unable to access hrtool page</td>\n",
              "      <td>No Match</td>\n",
              "      <td>No Match</td>\n",
              "    </tr>\n",
              "    <tr>\n",
              "      <th>4</th>\n",
              "      <td>skype error</td>\n",
              "      <td>skype error</td>\n",
              "      <td>owlgqjme qhcozdfx</td>\n",
              "      <td>GRP_0</td>\n",
              "      <td>skype error</td>\n",
              "      <td>skype error</td>\n",
              "      <td>No Match</td>\n",
              "      <td>No Match</td>\n",
              "    </tr>\n",
              "  </tbody>\n",
              "</table>\n",
              "</div>"
            ],
            "text/plain": [
              "               Short description  ... mail_subject_mentioned\n",
              "0                    login issue  ...               No Match\n",
              "1                        outlook  ...               No Match\n",
              "2             cant log in to vpn  ...               No Match\n",
              "3  unable to access hr_tool page  ...               No Match\n",
              "4                   skype error   ...               No Match\n",
              "\n",
              "[5 rows x 8 columns]"
            ]
          },
          "metadata": {},
          "execution_count": 48
        }
      ]
    },
    {
      "cell_type": "code",
      "metadata": {
        "colab": {
          "base_uri": "https://localhost:8080/",
          "height": 586
        },
        "id": "gHBjNBzyi7yO",
        "outputId": "c8ba55c2-69b7-4364-912d-fe6b528fc6e8"
      },
      "source": [
        "ata_data.tail()"
      ],
      "execution_count": null,
      "outputs": [
        {
          "output_type": "execute_result",
          "data": {
            "text/html": [
              "<div>\n",
              "<style scoped>\n",
              "    .dataframe tbody tr th:only-of-type {\n",
              "        vertical-align: middle;\n",
              "    }\n",
              "\n",
              "    .dataframe tbody tr th {\n",
              "        vertical-align: top;\n",
              "    }\n",
              "\n",
              "    .dataframe thead th {\n",
              "        text-align: right;\n",
              "    }\n",
              "</style>\n",
              "<table border=\"1\" class=\"dataframe\">\n",
              "  <thead>\n",
              "    <tr style=\"text-align: right;\">\n",
              "      <th></th>\n",
              "      <th>Short description</th>\n",
              "      <th>Description</th>\n",
              "      <th>Caller</th>\n",
              "      <th>Assignment group</th>\n",
              "      <th>short_desc_analysis</th>\n",
              "      <th>desc_analysis</th>\n",
              "      <th>mail_received_from</th>\n",
              "      <th>mail_subject_mentioned</th>\n",
              "    </tr>\n",
              "  </thead>\n",
              "  <tbody>\n",
              "    <tr>\n",
              "      <th>8495</th>\n",
              "      <td>emails not coming in from zz mail</td>\n",
              "      <td>\\r\\n\\r\\nreceived from: avglmrts.vhqmtiua@gmail.com\\r\\n\\r\\ngood afternoon,\\r\\ni am not receiving the emails that i sent from zz mail.\\r\\nplease advise\\r\\n\\r\\n</td>\n",
              "      <td>avglmrts vhqmtiua</td>\n",
              "      <td>GRP_29</td>\n",
              "      <td>emails not coming in from zz mail</td>\n",
              "      <td>good afternoon i am not receiving the emails that i sent from zz mail please advise</td>\n",
              "      <td>avglmrts.vhqmtiua@gmail.com</td>\n",
              "      <td>No Match</td>\n",
              "    </tr>\n",
              "    <tr>\n",
              "      <th>8496</th>\n",
              "      <td>telephony_software issue</td>\n",
              "      <td>telephony_software issue</td>\n",
              "      <td>rbozivdq gmlhrtvp</td>\n",
              "      <td>GRP_0</td>\n",
              "      <td>telephonysoftware issue</td>\n",
              "      <td>telephonysoftware issue</td>\n",
              "      <td>No Match</td>\n",
              "      <td>No Match</td>\n",
              "    </tr>\n",
              "    <tr>\n",
              "      <th>8497</th>\n",
              "      <td>vip2: windows password reset for tifpdchb pedxruyf</td>\n",
              "      <td>vip2: windows password reset for tifpdchb pedxruyf</td>\n",
              "      <td>oybwdsgx oxyhwrfz</td>\n",
              "      <td>GRP_0</td>\n",
              "      <td>vip windows password reset for tifpdchb pedxruyf</td>\n",
              "      <td>vip windows password reset for tifpdchb pedxruyf</td>\n",
              "      <td>No Match</td>\n",
              "      <td>No Match</td>\n",
              "    </tr>\n",
              "    <tr>\n",
              "      <th>8498</th>\n",
              "      <td>machine nÃ£o estÃ¡ funcionando</td>\n",
              "      <td>i am unable to access the machine utilities to finish the drawers adjustment settings.\\r\\nis no network..</td>\n",
              "      <td>ufawcgob aowhxjky</td>\n",
              "      <td>GRP_62</td>\n",
              "      <td>machine não está funcionando</td>\n",
              "      <td>i am unable to access the machine utilities to finish the drawers adjustment settings is no network</td>\n",
              "      <td>No Match</td>\n",
              "      <td>No Match</td>\n",
              "    </tr>\n",
              "    <tr>\n",
              "      <th>8499</th>\n",
              "      <td>an mehreren pc`s lassen sich verschiedene prgramdntyme nicht Ã¶ffnen.</td>\n",
              "      <td>an mehreren pc`s lassen sich verschiedene prgramdntyme nicht Ã¶ffnen. bereich cnc.</td>\n",
              "      <td>kqvbrspl jyzoklfx</td>\n",
              "      <td>GRP_49</td>\n",
              "      <td>an mehreren pcs lassen sich verschiedene prgramdntyme nicht öffnen</td>\n",
              "      <td>an mehreren pcs lassen sich verschiedene prgramdntyme nicht öffnen bereich cnc</td>\n",
              "      <td>No Match</td>\n",
              "      <td>No Match</td>\n",
              "    </tr>\n",
              "  </tbody>\n",
              "</table>\n",
              "</div>"
            ],
            "text/plain": [
              "                                                           Short description  ... mail_subject_mentioned\n",
              "8495                                       emails not coming in from zz mail  ...               No Match\n",
              "8496                                                telephony_software issue  ...               No Match\n",
              "8497                      vip2: windows password reset for tifpdchb pedxruyf  ...               No Match\n",
              "8498                                          machine nÃ£o estÃ¡ funcionando  ...               No Match\n",
              "8499  an mehreren pc`s lassen sich verschiedene prgramdntyme nicht Ã¶ffnen.   ...               No Match\n",
              "\n",
              "[5 rows x 8 columns]"
            ]
          },
          "metadata": {},
          "execution_count": 49
        }
      ]
    },
    {
      "cell_type": "code",
      "metadata": {
        "id": "Es3w32W0N9he",
        "colab": {
          "base_uri": "https://localhost:8080/"
        },
        "outputId": "14b7a095-044d-4220-e734-88d1dcf98885"
      },
      "source": [
        "ata_data[ata_data['mail_received_from']!='No Match']['mail_received_from'].value_counts()"
      ],
      "execution_count": null,
      "outputs": [
        {
          "output_type": "execute_result",
          "data": {
            "text/plain": [
              "monitoring_tool@company.com    961\n",
              "rxoynvgi.ntgdsehl@gmail.com     14\n",
              "gjtyswkb.dpvaymxr@gmail.com     11\n",
              "vkzwafuh.tcjnuswg@gmail.com     10\n",
              "zuxcfonv.nyhpkrbe@gmail.com      9\n",
              "                              ... \n",
              "cowqyjzm.fzsxgapt@gmail.com      1\n",
              "igdnsjhz.awnftgev@gmail.com      1\n",
              "xlvuhjea.mjugvtnd@gmail.com      1\n",
              "owhuxbnf.sxbgyrou@gmail.com      1\n",
              "etnroabk.jkvshlfm@gmail.com      1\n",
              "Name: mail_received_from, Length: 711, dtype: int64"
            ]
          },
          "metadata": {},
          "execution_count": 50
        }
      ]
    },
    {
      "cell_type": "code",
      "metadata": {
        "colab": {
          "base_uri": "https://localhost:8080/",
          "height": 1000
        },
        "id": "WTC9qF0q9TLC",
        "outputId": "92645c05-8ca8-4f30-a24e-632a9dc01b32"
      },
      "source": [
        "ata_data[ata_data['mail_subject_mentioned']!='No Match']"
      ],
      "execution_count": null,
      "outputs": [
        {
          "output_type": "execute_result",
          "data": {
            "text/html": [
              "<div>\n",
              "<style scoped>\n",
              "    .dataframe tbody tr th:only-of-type {\n",
              "        vertical-align: middle;\n",
              "    }\n",
              "\n",
              "    .dataframe tbody tr th {\n",
              "        vertical-align: top;\n",
              "    }\n",
              "\n",
              "    .dataframe thead th {\n",
              "        text-align: right;\n",
              "    }\n",
              "</style>\n",
              "<table border=\"1\" class=\"dataframe\">\n",
              "  <thead>\n",
              "    <tr style=\"text-align: right;\">\n",
              "      <th></th>\n",
              "      <th>Short description</th>\n",
              "      <th>Description</th>\n",
              "      <th>Caller</th>\n",
              "      <th>Assignment group</th>\n",
              "      <th>short_desc_analysis</th>\n",
              "      <th>desc_analysis</th>\n",
              "      <th>mail_received_from</th>\n",
              "      <th>mail_subject_mentioned</th>\n",
              "    </tr>\n",
              "  </thead>\n",
              "  <tbody>\n",
              "    <tr>\n",
              "      <th>100</th>\n",
              "      <td>re: ess portal access issue</td>\n",
              "      <td>\\n\\nreceived from: noscwdpm.akiowsmp@gmail.com\\n\\nhello,\\n\\nhe is an kiosk user.  please reset the password and confirm.\\n\\n\\nnoscwdpm akiowsmp\\nnoscwdpm.akiowsmp@gmail.com\\n\\nfrom: ihkolepb ozhnjyef\\nsent: 29 october 2016 13:38\\nto: company@ticketing_tool.com\\nsubject: ess portal access issue\\n\\nhi,\\n\\nbelow mentioned employee krlszbqo spimolgz with user id sv123 is not able to login to ess portal to access his pay slips and related contents. he is a attendance_tool user. please reset his user id and password and revert back.\\n\\n</td>\n",
              "      <td>noscwdpm akiowsmp</td>\n",
              "      <td>GRP_0</td>\n",
              "      <td>re ess portal access issue</td>\n",
              "      <td>hello  he is an kiosk user  please reset the password and confirm   noscwdpm akiowsmp noscwdpmakiowsmpgmailcom   hi  below mentioned employee krlszbqo spimolgz with user id sv is not able to login to ess portal to access his pay slips and related contents he is a attendancetool user please reset his user id and password and revert back</td>\n",
              "      <td>noscwdpm.akiowsmp@gmail.com</td>\n",
              "      <td>ess portal access issue</td>\n",
              "    </tr>\n",
              "    <tr>\n",
              "      <th>124</th>\n",
              "      <td>mobile device activation</td>\n",
              "      <td>from: tvcdfqgp nrbcqwgj \\nsent: friday, october 28, 2016 3:13 pm\\nto: nwfodmhc exurcwkm\\nsubject:  se ha bloqueado en forma temporal la sincronizaciÃ³n de su dispositivo mÃ³vil mediante exchange activesync hasta que su administrador autorice el acceso.\\n\\nhi\\n\\ni received this message and our local it expert has told me to open a ticket.\\n\\n</td>\n",
              "      <td>tvcdfqgp nrbcqwgj</td>\n",
              "      <td>GRP_0</td>\n",
              "      <td>mobile device activation</td>\n",
              "      <td>hi  i received this message and our local it expert has told me to open a ticket</td>\n",
              "      <td>No Match</td>\n",
              "      <td>se ha bloqueado en forma temporal la sincronización de su dispositivo móvil mediante exchange activesync hasta que su administrador autorice el acceso.</td>\n",
              "    </tr>\n",
              "    <tr>\n",
              "      <th>180</th>\n",
              "      <td>crm license for user dfgry</td>\n",
              "      <td>from: xdvwitpm zscxqdhoalaramdntyan \\nsent: friday, october 28, 2016 9:40 am\\nto: 'help@company.com'\\ncc: xyculgav cuqptoah\\nsubject: fw: crm license for dfgry\\n\\nhello,\\n\\ncrm is not installed in my laptop.\\n\\nplease support me on this.\\n\\n</td>\n",
              "      <td>xdvwitpm zscxqdho</td>\n",
              "      <td>GRP_19</td>\n",
              "      <td>crm license for user dfgry</td>\n",
              "      <td>hello  crm is not installed in my laptop  please support me on this</td>\n",
              "      <td>No Match</td>\n",
              "      <td>fw: crm license for dfgry</td>\n",
              "    </tr>\n",
              "    <tr>\n",
              "      <th>186</th>\n",
              "      <td>é’å²›å…´åˆæœºç”µshipment notificationé‚®ç®±è®¾ç½®</td>\n",
              "      <td>from:  \\nsent: friday, october 28, 2016 7:20 am\\nto: nwfodmhc exurcwkm\\nsubject: re: é’å²›å…´åˆæœºç”µshipment notificationé‚®ç®±è®¾ç½®\\n\\ndearï¼Œ\\npls help to update customer 4563729890 shipment notification email address :  abcdegy@gmail.com \\n\\n\\nb.</td>\n",
              "      <td>yafxlpwi lhxvatkb</td>\n",
              "      <td>GRP_18</td>\n",
              "      <td>青岛兴合机电shipment notification邮箱设置</td>\n",
              "      <td>dear pls help to update customer  shipment notification email address   abcdegygmailcom    b</td>\n",
              "      <td>No Match</td>\n",
              "      <td>re: 青岛兴合机电shipment notification邮箱设置</td>\n",
              "    </tr>\n",
              "    <tr>\n",
              "      <th>218</th>\n",
              "      <td>export shipment of grinding mahcine to khdgd1234, apac - advance information</td>\n",
              "      <td>\\n\\nreceived from: rdfjsawg.zpmxgdcw@gmail.com\\n\\nfrom: hdytrkfiu\\nsent: thursday, october 27, 2016 4:46 pm\\nto: &lt;rfqhoaky.rncspbot@gmail.com&gt;; &lt;ikxjfnml.kaocbpfr@gmail.com&gt;; &lt;rdfjsawg.zpmxgdcw@gmail.com&gt;\\ncc:  &lt;tshljagr.mhyiopxr@gmail.com&gt;; &lt;zgmdster.bdvcealj@gmail.com&gt;; xjzcbgnp vfkwscao &lt;xjzcbgnp.vfkwscao@gmail.com&gt;; &lt;avurmegj.pxgmjynu@gmail.com&gt;\\nsubject: export shipment of grinding mahcine to khdgd1234, apac - advance information\\n\\nwe are pushixepyfbga wtqdyoin for dispatching an grinding machine to khdgd1234, apac tomorrow.    this is just for your advance information.   once everything is in place, we will seek your support in your areas to help us in clearing this consignment tomorrow 28.10.16.</td>\n",
              "      <td>rdfjsawg zpmxgdcw</td>\n",
              "      <td>GRP_0</td>\n",
              "      <td>export shipment of grinding mahcine to khdgd apac  advance information</td>\n",
              "      <td>we are pushixepyfbga wtqdyoin for dispatching an grinding machine to khdgd apac tomorrow    this is just for your advance information   once everything is in place we will seek your support in your areas to help us in clearing this consignment tomorrow</td>\n",
              "      <td>rdfjsawg.zpmxgdcw@gmail.com</td>\n",
              "      <td>export shipment of grinding mahcine to khdgd1234, apac - advance information</td>\n",
              "    </tr>\n",
              "    <tr>\n",
              "      <th>...</th>\n",
              "      <td>...</td>\n",
              "      <td>...</td>\n",
              "      <td>...</td>\n",
              "      <td>...</td>\n",
              "      <td>...</td>\n",
              "      <td>...</td>\n",
              "      <td>...</td>\n",
              "      <td>...</td>\n",
              "    </tr>\n",
              "    <tr>\n",
              "      <th>8467</th>\n",
              "      <td>hi it help team,  please unblock my new company device.</td>\n",
              "      <td>from: ntydihzo aeptfbgs \\r\\nsent: friday, august 05, 2016 2:51 am\\r\\nto: nwfodmhc exurcwkm\\r\\nsubject: wg: die synchronisierung mit exchange activesync ist auf ihrem gerÃ¤t vorÃ¼bergehend blockiert, bis der zugriff vom administrator gewÃ¤hrt wird.\\r\\nimportance: high\\r\\n\\r\\nhi it help team,\\r\\n\\r\\nplease unblock my new company device.\\r\\n\\r\\n</td>\n",
              "      <td>ntydihzo aeptfbgs</td>\n",
              "      <td>GRP_0</td>\n",
              "      <td>hi it help team  please unblock my new company device</td>\n",
              "      <td>hi it help team  please unblock my new company device</td>\n",
              "      <td>No Match</td>\n",
              "      <td>wg: die synchronisierung mit exchange activesync ist auf ihrem gerät vorübergehend blockiert, bis der zugriff vom administrator gewährt wird.</td>\n",
              "    </tr>\n",
              "    <tr>\n",
              "      <th>8468</th>\n",
              "      <td>can you unblock my account so i can use outlook app?</td>\n",
              "      <td>from: nwfodmhc exurcwkm \\nsent: friday, august 05, 2016 6:32 am\\nto: prishry budhtya\\nsubject: re: rak re: your mobile device has been denied access to the server via exchange activesync because of server policies.\\n\\ndear prishry,\\n\\n</td>\n",
              "      <td>eqzibjhw ymebpoih</td>\n",
              "      <td>GRP_0</td>\n",
              "      <td>can you unblock my account so i can use outlook app</td>\n",
              "      <td>dear prishry</td>\n",
              "      <td>No Match</td>\n",
              "      <td>re: rak re: your mobile device has been denied access to the server via exchange activesync because of server policies.</td>\n",
              "    </tr>\n",
              "    <tr>\n",
              "      <th>8470</th>\n",
              "      <td>please review your recent ticketing_tool tickets and let me know who modified the ethics collaboration_platform site</td>\n",
              "      <td>from: mikhghytr wafglhdrhjop \\nsent: thursday, august 04, 2016 8:50 pm\\nto: nwfodmhc exurcwkm\\nsubject: rak fw: ethics collaboration_platform site\\n\\nplease review your recent ticketing_tool tickets and let me know who modified the ethics collaboration_platform site.  a few weeks ago i had requested a change that placed a third column of selections.  not sure who or why this was undone.\\n\\nmikhghytr wafglhdrhjop\\nsr. manager, global ethics and compliance programdntys\\nfrom: kzbuhixt zjdmoahr \\nsent: thursday, august 04, 2016 11:16 am\\nto: mikhghytr wafglhdrhjop &lt;azxhejvq.fyemlavd@gmail.com&gt;\\nsubject: re: ethics collaboration_platform site\\n\\nohâ€¦â€¦??\\n\\nsethdyr hdtyr\\nassistant general counsel â€“ compliance and real estate\\nglobal director of ethics &amp; compliance; ccep\\nkzbuhixt.zjdmoahr@gmail.com \\n</td>\n",
              "      <td>azxhejvq fyemlavd</td>\n",
              "      <td>GRP_16</td>\n",
              "      <td>please review your recent ticketingtool tickets and let me know who modified the ethics collaborationplatform site</td>\n",
              "      <td>please review your recent ticketingtool tickets and let me know who modified the ethics collaborationplatform site  a few weeks ago i had requested a change that placed a third column of selections  not sure who or why this was undone  mikhghytr wafglhdrhjop sr  oh……  sethdyr hdtyr assistant general counsel – compliance and real estate global director of ethics  compliance ccep kzbuhixtzjdmoahrgmailcom</td>\n",
              "      <td>No Match</td>\n",
              "      <td>rak fw: ethics collaboration_platform site</td>\n",
              "    </tr>\n",
              "    <tr>\n",
              "      <th>8472</th>\n",
              "      <td>ticket update</td>\n",
              "      <td>from: rakthyesh ramdntythanjesh \\r\\nsent: friday, august 05, 2016 5:26 am\\r\\nto: ugyothfz ugrmkdhx\\r\\ncc: mikhghytr rhoades\\r\\nsubject: ticket_no1535917-no acces to paystub and etime.\\r\\n\\r\\ngood morning safrgyynjit,\\r\\n\\r\\nuser called to service desk and requested to expedite the case, requesting you to own the issue on priority and assist user on same.\\r\\n\\r\\n\\r\\n\\r\\nkind</td>\n",
              "      <td>eqzibjhw ymebpoih</td>\n",
              "      <td>GRP_0</td>\n",
              "      <td>ticket update</td>\n",
              "      <td>good morning safrgyynjit  user called to service desk and requested to expedite the case requesting you to own the issue on priority and assist user on same    kind</td>\n",
              "      <td>No Match</td>\n",
              "      <td>ticket_no1535917-no acces to paystub and etime.</td>\n",
              "    </tr>\n",
              "    <tr>\n",
              "      <th>8483</th>\n",
              "      <td>fw: case id [ref:_case-111121032:ref] :: others</td>\n",
              "      <td>from: pacvbetl yptglhoe \\r\\nsent: thursday, august 04, 2016 10:59 pm\\r\\nto: nwfodmhc exurcwkm\\r\\nsubject: amar fw: case id [ref:_case-111121032:ref] :: others\\r\\n\\r\\nplease see the forwarded email below.   this looks suspicious to me and may be some sort of phishing or spamming email.  please review it and let me know if it looks legitimate and is from legitimate individuals at company.  i did not open or view any of the attachments.  \\r\\n\\r\\ni have no idea why accounts payable would be sending me an email.\\r\\n\\r\\nbest</td>\n",
              "      <td>pacvbetl yptglhoe</td>\n",
              "      <td>GRP_0</td>\n",
              "      <td>fw case id refcaseref  others</td>\n",
              "      <td>please see the forwarded email below   this looks suspicious to me and may be some sort of phishing or spamming email  please review it and let me know if it looks legitimate and is from legitimate individuals at company  i did not open or view any of the attachments    i have no idea why accounts payable would be sending me an email  best</td>\n",
              "      <td>No Match</td>\n",
              "      <td>amar fw: case id [ref:_case-111121032:ref] :: others</td>\n",
              "    </tr>\n",
              "  </tbody>\n",
              "</table>\n",
              "<p>213 rows × 8 columns</p>\n",
              "</div>"
            ],
            "text/plain": [
              "                                                                                                         Short description  ...                                                                                                                                   mail_subject_mentioned\n",
              "100                                                                                            re: ess portal access issue  ...                                                                                                                                  ess portal access issue\n",
              "124                                                                                               mobile device activation  ...  se ha bloqueado en forma temporal la sincronización de su dispositivo móvil mediante exchange activesync hasta que su administrador autorice el acceso.\n",
              "180                                                                                             crm license for user dfgry  ...                                                                                                                                fw: crm license for dfgry\n",
              "186                                                                    é’å²›å…´åˆæœºç”µshipment notificationé‚®ç®±è®¾ç½®  ...                                                                                                                      re: 青岛兴合机电shipment notification邮箱设置\n",
              "218                                           export shipment of grinding mahcine to khdgd1234, apac - advance information  ...                                                                             export shipment of grinding mahcine to khdgd1234, apac - advance information\n",
              "...                                                                                                                    ...  ...                                                                                                                                                      ...\n",
              "8467                                                               hi it help team,  please unblock my new company device.  ...            wg: die synchronisierung mit exchange activesync ist auf ihrem gerät vorübergehend blockiert, bis der zugriff vom administrator gewährt wird.\n",
              "8468                                                                  can you unblock my account so i can use outlook app?  ...                                  re: rak re: your mobile device has been denied access to the server via exchange activesync because of server policies.\n",
              "8470  please review your recent ticketing_tool tickets and let me know who modified the ethics collaboration_platform site  ...                                                                                                               rak fw: ethics collaboration_platform site\n",
              "8472                                                                                                         ticket update  ...                                                                                                          ticket_no1535917-no acces to paystub and etime.\n",
              "8483                                                                       fw: case id [ref:_case-111121032:ref] :: others  ...                                                                                                     amar fw: case id [ref:_case-111121032:ref] :: others\n",
              "\n",
              "[213 rows x 8 columns]"
            ]
          },
          "metadata": {},
          "execution_count": 51
        }
      ]
    },
    {
      "cell_type": "code",
      "metadata": {
        "id": "pjaJEmh9ssql"
      },
      "source": [
        "ata_data.to_excel(\"intermediate_file.xlsx\")"
      ],
      "execution_count": null,
      "outputs": []
    },
    {
      "cell_type": "code",
      "metadata": {
        "colab": {
          "base_uri": "https://localhost:8080/",
          "height": 377
        },
        "id": "1eAxWH4-sstZ",
        "outputId": "1d0c89ea-abe6-460f-bc75-aa06fd4aaa69"
      },
      "source": [
        "ata_data[ata_data['Short description']=='unable to down load ethics module ']"
      ],
      "execution_count": null,
      "outputs": [
        {
          "output_type": "execute_result",
          "data": {
            "text/html": [
              "<div>\n",
              "<style scoped>\n",
              "    .dataframe tbody tr th:only-of-type {\n",
              "        vertical-align: middle;\n",
              "    }\n",
              "\n",
              "    .dataframe tbody tr th {\n",
              "        vertical-align: top;\n",
              "    }\n",
              "\n",
              "    .dataframe thead th {\n",
              "        text-align: right;\n",
              "    }\n",
              "</style>\n",
              "<table border=\"1\" class=\"dataframe\">\n",
              "  <thead>\n",
              "    <tr style=\"text-align: right;\">\n",
              "      <th></th>\n",
              "      <th>Short description</th>\n",
              "      <th>Description</th>\n",
              "      <th>Caller</th>\n",
              "      <th>Assignment group</th>\n",
              "      <th>short_desc_analysis</th>\n",
              "      <th>desc_analysis</th>\n",
              "      <th>mail_received_from</th>\n",
              "      <th>mail_subject_mentioned</th>\n",
              "    </tr>\n",
              "  </thead>\n",
              "  <tbody>\n",
              "    <tr>\n",
              "      <th>281</th>\n",
              "      <td>unable to down load ethics module</td>\n",
              "      <td>from: brdhdd dhwduw\\nsent: thursday, october 27, 2016 6:12 am\\nto: nwfodmhc exurcwkm\\nsubject::fwd: unable to down load ethics module \\n\\n\\nbegin forwarded message:\\nfrom:  &lt;dqwhpjxy.pozjxbey@gmail.com&gt;\\nto:  &lt;zanivrec.capbfhur@gmail.com&gt;\\nsubject: unable to down load ethics module \\nhi  â€“ trust doing well . i am unable to down load &amp; getting below msg. i did reset resolution however still same issue persist.\\n \\nplease help.\\n \\n \\n \\n \\n \\ndirector of sales \\ncompany indirect channels  - asia \\n&amp; \\ndqwhpjxy.pozjxbey@gmail.com \\n\\n \\n \\n \\n \\n\\n\\n</td>\n",
              "      <td>dqwhpjxy pozjxbey</td>\n",
              "      <td>GRP_0</td>\n",
              "      <td>unable to down load ethics module</td>\n",
              "      <td>begin forwarded message hi  – trust doing well  i am unable to down load  getting below msg i did reset resolution however still same issue persist   please help           director of sales  company indirect channels   asia    dqwhpjxypozjxbeygmailcom</td>\n",
              "      <td>No Match</td>\n",
              "      <td>:fwd: unable to down load ethics module</td>\n",
              "    </tr>\n",
              "  </tbody>\n",
              "</table>\n",
              "</div>"
            ],
            "text/plain": [
              "                      Short description  ...                   mail_subject_mentioned\n",
              "281  unable to down load ethics module   ...  :fwd: unable to down load ethics module\n",
              "\n",
              "[1 rows x 8 columns]"
            ]
          },
          "metadata": {},
          "execution_count": 53
        }
      ]
    },
    {
      "cell_type": "code",
      "metadata": {
        "colab": {
          "base_uri": "https://localhost:8080/",
          "height": 238
        },
        "id": "ieIow6NCsswM",
        "outputId": "a1c77a4a-4391-474a-8bdd-1508405e8181"
      },
      "source": [
        "ata_data[ata_data['Short description']=='no login options in erp']"
      ],
      "execution_count": null,
      "outputs": [
        {
          "output_type": "execute_result",
          "data": {
            "text/html": [
              "<div>\n",
              "<style scoped>\n",
              "    .dataframe tbody tr th:only-of-type {\n",
              "        vertical-align: middle;\n",
              "    }\n",
              "\n",
              "    .dataframe tbody tr th {\n",
              "        vertical-align: top;\n",
              "    }\n",
              "\n",
              "    .dataframe thead th {\n",
              "        text-align: right;\n",
              "    }\n",
              "</style>\n",
              "<table border=\"1\" class=\"dataframe\">\n",
              "  <thead>\n",
              "    <tr style=\"text-align: right;\">\n",
              "      <th></th>\n",
              "      <th>Short description</th>\n",
              "      <th>Description</th>\n",
              "      <th>Caller</th>\n",
              "      <th>Assignment group</th>\n",
              "      <th>short_desc_analysis</th>\n",
              "      <th>desc_analysis</th>\n",
              "      <th>mail_received_from</th>\n",
              "      <th>mail_subject_mentioned</th>\n",
              "    </tr>\n",
              "  </thead>\n",
              "  <tbody>\n",
              "    <tr>\n",
              "      <th>2143</th>\n",
              "      <td>no login options in erp</td>\n",
              "      <td>after netweaver installing it is not possible to log in to erp 740. \\nuser name: nagdyiyst</td>\n",
              "      <td>krdvgzeh yboasemp</td>\n",
              "      <td>GRP_0</td>\n",
              "      <td>no login options in erp</td>\n",
              "      <td>after netweaver installing it is not possible to log in to erp   user name nagdyiyst</td>\n",
              "      <td>No Match</td>\n",
              "      <td>No Match</td>\n",
              "    </tr>\n",
              "  </tbody>\n",
              "</table>\n",
              "</div>"
            ],
            "text/plain": [
              "            Short description  ... mail_subject_mentioned\n",
              "2143  no login options in erp  ...               No Match\n",
              "\n",
              "[1 rows x 8 columns]"
            ]
          },
          "metadata": {},
          "execution_count": 54
        }
      ]
    },
    {
      "cell_type": "code",
      "metadata": {
        "id": "tAD2TADHH_xV"
      },
      "source": [
        ""
      ],
      "execution_count": null,
      "outputs": []
    },
    {
      "cell_type": "code",
      "metadata": {
        "id": "IUzX7g8aH_09"
      },
      "source": [
        ""
      ],
      "execution_count": null,
      "outputs": []
    },
    {
      "cell_type": "code",
      "metadata": {
        "id": "C6SxX5ZCH_3T"
      },
      "source": [
        ""
      ],
      "execution_count": null,
      "outputs": []
    },
    {
      "cell_type": "code",
      "metadata": {
        "id": "leZXDZ1YH_66"
      },
      "source": [
        ""
      ],
      "execution_count": null,
      "outputs": []
    },
    {
      "cell_type": "code",
      "metadata": {
        "id": "auwB7_ZxsszA"
      },
      "source": [
        ""
      ],
      "execution_count": null,
      "outputs": []
    },
    {
      "cell_type": "markdown",
      "metadata": {
        "id": "EpPUUB8S2tGL"
      },
      "source": [
        "## PLAY AREA"
      ]
    },
    {
      "cell_type": "code",
      "metadata": {
        "id": "xiZcwUr8jEX1"
      },
      "source": [
        "line = \"should we use regex more often? let me know at  received from:321dsasdsa@dasdsa.com.lol\"\n",
        "match = re.search(r'received from: [\\w\\.-]+@[\\w\\.-]+', line)\n",
        "#match.group(0)"
      ],
      "execution_count": null,
      "outputs": []
    },
    {
      "cell_type": "code",
      "metadata": {
        "colab": {
          "base_uri": "https://localhost:8080/"
        },
        "id": "GIPgZECELzQX",
        "outputId": "933003c3-725a-4b0b-ba39-ff0bff3e0c73"
      },
      "source": [
        "if bool(match):\n",
        "  print(match.group(0))\n",
        "else:\n",
        "  print(\"noth\")\n",
        "  "
      ],
      "execution_count": null,
      "outputs": [
        {
          "output_type": "stream",
          "name": "stdout",
          "text": [
            "noth\n"
          ]
        }
      ]
    },
    {
      "cell_type": "code",
      "metadata": {
        "id": "tXorYlWfS0cZ",
        "colab": {
          "base_uri": "https://localhost:8080/",
          "height": 1000
        },
        "outputId": "9f1baec4-7e15-41a3-a498-f23060a7bf7a"
      },
      "source": [
        "ata_data[ata_data['Description'].str.contains('to:', case=False, na=False)].head()"
      ],
      "execution_count": null,
      "outputs": [
        {
          "output_type": "execute_result",
          "data": {
            "text/html": [
              "<div>\n",
              "<style scoped>\n",
              "    .dataframe tbody tr th:only-of-type {\n",
              "        vertical-align: middle;\n",
              "    }\n",
              "\n",
              "    .dataframe tbody tr th {\n",
              "        vertical-align: top;\n",
              "    }\n",
              "\n",
              "    .dataframe thead th {\n",
              "        text-align: right;\n",
              "    }\n",
              "</style>\n",
              "<table border=\"1\" class=\"dataframe\">\n",
              "  <thead>\n",
              "    <tr style=\"text-align: right;\">\n",
              "      <th></th>\n",
              "      <th>Short description</th>\n",
              "      <th>Description</th>\n",
              "      <th>Caller</th>\n",
              "      <th>Assignment group</th>\n",
              "      <th>short_desc_analysis</th>\n",
              "      <th>desc_analysis</th>\n",
              "      <th>mail_received_from</th>\n",
              "      <th>mail_subject_mentioned</th>\n",
              "    </tr>\n",
              "  </thead>\n",
              "  <tbody>\n",
              "    <tr>\n",
              "      <th>53</th>\n",
              "      <td>reset scm_software password</td>\n",
              "      <td>\\n\\nreceived from: cdbaoqts.wqbsodni@gmail.com\\n\\nhello,\\n\\nplease reset my scm_software password.\\n\\n\\ncdbaoqts wqbsodni\\nglobal product manager, markhtyeting initiatives\\ncdbaoqts.wqbsodni@gmail.com&lt;mailto:cdbaoqts.wqbsodni@gmail.com&gt;\\n\\n\\n\\n\\n\\n</td>\n",
              "      <td>cdbaoqts wqbsodni</td>\n",
              "      <td>GRP_0</td>\n",
              "      <td>reset scmsoftware password</td>\n",
              "      <td>hello  please reset my scmsoftware password   cdbaoqts wqbsodni global product cdbaoqtswqbsodnigmailcommail</td>\n",
              "      <td>cdbaoqts.wqbsodni@gmail.com</td>\n",
              "      <td>No Match</td>\n",
              "    </tr>\n",
              "    <tr>\n",
              "      <th>100</th>\n",
              "      <td>re: ess portal access issue</td>\n",
              "      <td>\\n\\nreceived from: noscwdpm.akiowsmp@gmail.com\\n\\nhello,\\n\\nhe is an kiosk user.  please reset the password and confirm.\\n\\n\\nnoscwdpm akiowsmp\\nnoscwdpm.akiowsmp@gmail.com\\n\\nfrom: ihkolepb ozhnjyef\\nsent: 29 october 2016 13:38\\nto: company@ticketing_tool.com\\nsubject: ess portal access issue\\n\\nhi,\\n\\nbelow mentioned employee krlszbqo spimolgz with user id sv123 is not able to login to ess portal to access his pay slips and related contents. he is a attendance_tool user. please reset his user id and password and revert back.\\n\\n</td>\n",
              "      <td>noscwdpm akiowsmp</td>\n",
              "      <td>GRP_0</td>\n",
              "      <td>re ess portal access issue</td>\n",
              "      <td>hello  he is an kiosk user  please reset the password and confirm   noscwdpm akiowsmp noscwdpmakiowsmpgmailcom   hi  below mentioned employee krlszbqo spimolgz with user id sv is not able to login to ess portal to access his pay slips and related contents he is a attendancetool user please reset his user id and password and revert back</td>\n",
              "      <td>noscwdpm.akiowsmp@gmail.com</td>\n",
              "      <td>ess portal access issue</td>\n",
              "    </tr>\n",
              "    <tr>\n",
              "      <th>124</th>\n",
              "      <td>mobile device activation</td>\n",
              "      <td>from: tvcdfqgp nrbcqwgj \\nsent: friday, october 28, 2016 3:13 pm\\nto: nwfodmhc exurcwkm\\nsubject:  se ha bloqueado en forma temporal la sincronizaciÃ³n de su dispositivo mÃ³vil mediante exchange activesync hasta que su administrador autorice el acceso.\\n\\nhi\\n\\ni received this message and our local it expert has told me to open a ticket.\\n\\n</td>\n",
              "      <td>tvcdfqgp nrbcqwgj</td>\n",
              "      <td>GRP_0</td>\n",
              "      <td>mobile device activation</td>\n",
              "      <td>hi  i received this message and our local it expert has told me to open a ticket</td>\n",
              "      <td>No Match</td>\n",
              "      <td>se ha bloqueado en forma temporal la sincronización de su dispositivo móvil mediante exchange activesync hasta que su administrador autorice el acceso.</td>\n",
              "    </tr>\n",
              "    <tr>\n",
              "      <th>151</th>\n",
              "      <td>i used to have acces to this location on collaboration_platform.  now i do not. i need access.</td>\n",
              "      <td>\\n\\nreceived from: bwfhtumx.japznrvb@gmail.com\\n\\n\\n\\n[cid:image001.jpg@01d230f7.8bb4e830]\\n\\nbwfhtumx japznrvb \\nregional controller\\nbwfhtumx.japznrvb@gmail.com&lt;mailto:bwfhtumx.japznrvb@gmail.com&gt;\\n\\n\\n\\n</td>\n",
              "      <td>bwfhtumx japznrvb</td>\n",
              "      <td>GRP_16</td>\n",
              "      <td>i used to have acces to this location on collaborationplatform  now i do not i need access</td>\n",
              "      <td>bwfhtumx japznrvb  regional controller bwfhtumxjapznrvbgmailcommail</td>\n",
              "      <td>bwfhtumx.japznrvb@gmail.com</td>\n",
              "      <td>No Match</td>\n",
              "    </tr>\n",
              "    <tr>\n",
              "      <th>162</th>\n",
              "      <td>access to bex</td>\n",
              "      <td>\\r\\n\\r\\nreceived from: yfqoaepn.xnezhsit@gmail.com\\r\\n\\r\\nhello,\\r\\n\\r\\ntill last week i was accessing bex reports using mms portal and there were no issues.\\r\\n\\r\\nstarting this week the system is incredibly slow when i log in and finally does not allow me to access any reports.\\r\\n\\r\\ncan it be the issue with any maintenance or my access rights or rather i should try to access bex using different way?\\r\\n\\r\\nbelow the print screen from what i see after log in:\\r\\n[cid:image001.png@01d2310c.f184b360]\\r\\n\\r\\ni am also able to get to finance reports (see below), however when i click \"profitability analysis\" (as i was always doing) separate window is open however apart rom that the screen is blank.\\r\\n[cid:image002.png@01d2310c.f184b360]\\r\\n\\r\\n\\r\\ni appreciate your support.\\r\\n\\r\\nhave a great day â˜º\\r\\n\\r\\nrobhyertyj\\r\\n\\r\\n\\r\\nyfqoaepn xnezhsit\\r\\nmanaging director\\r\\nfinance manager cee\\r\\nyfqoaepn.xnezhsit@gmail.com&lt;mailto:yfqoaepn.xnezhsit@gmail.com&gt;\\r\\ntel:+48(61)7767671\\r\\nmob:+48 694 425 760\\r\\n\\r\\ncompany polska sp. z o.o. , ul. krzywoustego 7, 61-144 poznaÅ„, www.company.com&lt;\\r\\n\\r\\ncompany polska sp. z o.o. z siedzibÄ… w polandiu, 61-144 poznaÅ„, ul. krzywoustego 7.\\r\\nspÃ³Å‚ka zarejestrowana w sÄ…dzie rejonowym poznaÅ„-nowe miasto i wilda w polandiu, wydziaÅ‚ viii gospodarczy krs pod numerem 1111286691.\\r\\nkapitaÅ‚ zakÅ‚adowy 100 000 pln, nip 954-20-87-982.\\r\\n\\r\\n\\r\\n\\r\\n\\r\\n\\r\\n</td>\n",
              "      <td>yfqoaepn xnezhsit</td>\n",
              "      <td>GRP_0</td>\n",
              "      <td>access to bex</td>\n",
              "      <td>hello  till last week i was accessing bex reports using mms portal and there were no issues  starting this week the system is incredibly slow when i log in and finally does not allow me to access any reports  can it be the issue with any maintenance or my access rights or rather i should try to access bex using different way  below the print screen from what i see after log in   i am also able to get to finance reports see below however when i click profitability analysis as i was always doing separate window is open however apart rom that the screen is blank    i appreciate your support  have a great day ☺  robhyertyj   yfqoaepn xnezhsit managing director finance yfqoaepnxnezhsitgmailcommailtel mob     company polska sp z oo  ul krzywoustego   poznań wwwcompanycom  company polska sp z oo z siedzibą w polandiu  poznań ul krzywoustego  spółka zarejestrowana w sądzie rejonowym poznańnowe miasto i wilda w polandiu wydział viii gospodarczy krs pod numerem  kapitał zakładowy   pln nip</td>\n",
              "      <td>yfqoaepn.xnezhsit@gmail.com</td>\n",
              "      <td>No Match</td>\n",
              "    </tr>\n",
              "  </tbody>\n",
              "</table>\n",
              "</div>"
            ],
            "text/plain": [
              "                                                                                  Short description  ...                                                                                                                                   mail_subject_mentioned\n",
              "53                                                                      reset scm_software password  ...                                                                                                                                                 No Match\n",
              "100                                                                     re: ess portal access issue  ...                                                                                                                                  ess portal access issue\n",
              "124                                                                        mobile device activation  ...  se ha bloqueado en forma temporal la sincronización de su dispositivo móvil mediante exchange activesync hasta que su administrador autorice el acceso.\n",
              "151  i used to have acces to this location on collaboration_platform.  now i do not. i need access.  ...                                                                                                                                                 No Match\n",
              "162                                                                                   access to bex  ...                                                                                                                                                 No Match\n",
              "\n",
              "[5 rows x 8 columns]"
            ]
          },
          "metadata": {},
          "execution_count": 57
        }
      ]
    },
    {
      "cell_type": "code",
      "metadata": {
        "id": "eog8a7XhFzjg"
      },
      "source": [
        "text1 = 'from: mikhghytr wafglhdrhjop \\nsent: thursday, august 04, 2016 8:50 pm\\nto: nwfodmhc exurcwkm\\nsubject: rak fw: ethics collaboration_platform site\\n\\nplease review your recent ticketing_tool tickets and let me know who modified the ethics collaboration_platform site. a few weeks ago i had requested a change that placed a third column of selections. not sure who or why this was undone.\\n\\nmikhghytr wafglhdrhjop\\nsr. manager, global ethics and compliance programdntys\\nfrom: kzbuhixt zjdmoahr \\nsent: thursday, august 04, 2016 11:16 am\\nto: mikhghytr wafglhdrhjop <azxhejvq.fyemlavd@gmail.com>\\nsubject: re: ethics collaboration_platform site\\n\\nohâ€¦â€¦??\\n\\nsethdyr hdtyr\\nassistant general counsel â€“ compliance and real estate\\nglobal director of ethics & compliance; ccep\\nkzbuhixt.zjdmoahr@gmail.com \\n'"
      ],
      "execution_count": null,
      "outputs": []
    },
    {
      "cell_type": "code",
      "metadata": {
        "colab": {
          "base_uri": "https://localhost:8080/",
          "height": 35
        },
        "id": "cnZWvJzjGjel",
        "outputId": "2f809cf0-e6de-42ed-c840-77856613a910"
      },
      "source": [
        "match_text1 = re.search(r'subject:.*[\\r\\n\\t\\f\\v]', text1)\n",
        "match_text1.group(0)"
      ],
      "execution_count": null,
      "outputs": [
        {
          "output_type": "execute_result",
          "data": {
            "application/vnd.google.colaboratory.intrinsic+json": {
              "type": "string"
            },
            "text/plain": [
              "'subject: rak fw: ethics collaboration_platform site\\n'"
            ]
          },
          "metadata": {},
          "execution_count": 59
        }
      ]
    },
    {
      "cell_type": "code",
      "metadata": {
        "id": "HPUHAjKuGjjz"
      },
      "source": [
        "text2 = 'from: pacvbetl yptglhoe \\r\\nsent: thursday, august 04, 2016 10:59 pm\\r\\nto: nwfodmhc exurcwkm\\r\\nsubject: amar fw: case id [ref:_case-111121032:ref] :: others\\r\\n\\r\\nplease see the forwarded email below. this looks suspicious to me and may be some sort of phishing or spamming email. please review it and let me know if it looks legitimate and is from legitimate individuals at company. i did not open or view any of the attachments. \\r\\n\\r\\ni have no idea why accounts payable would be sending me an email.\\r\\n\\r\\nbest'"
      ],
      "execution_count": null,
      "outputs": []
    },
    {
      "cell_type": "code",
      "metadata": {
        "colab": {
          "base_uri": "https://localhost:8080/",
          "height": 35
        },
        "id": "VF4lt5veGjnZ",
        "outputId": "4dd83d7e-922c-4a32-85a3-80ad8bd9c086"
      },
      "source": [
        "match_text2 = re.search(r'subject:.*[\\r\\n\\t\\f\\v]', text2)\n",
        "match_text2.group(0)"
      ],
      "execution_count": null,
      "outputs": [
        {
          "output_type": "execute_result",
          "data": {
            "application/vnd.google.colaboratory.intrinsic+json": {
              "type": "string"
            },
            "text/plain": [
              "'subject: amar fw: case id [ref:_case-111121032:ref] :: others\\r\\n'"
            ]
          },
          "metadata": {},
          "execution_count": 61
        }
      ]
    },
    {
      "cell_type": "code",
      "metadata": {
        "id": "z8-ydcxZIAMK"
      },
      "source": [
        "text3 = 'from: brdhdd dhwduw\\nsent: thursday, october 27, 2016 6:12 am\\nto: nwfodmhc exurcwkm\\nsubject::fwd: unable to down load ethics module \\n\\n\\nbegin forwarded message:\\nfrom: <dqwhpjxy.pozjxbey@gmail.com>\\nto: <zanivrec.capbfhur@gmail.com>\\nsubject: unable to down load ethics module \\nhi â€“ trust doing well . i am unable to down load & getting below msg. i did reset resolution however still same issue persist.\\n \\nplease help.\\n \\n \\n \\n \\n \\ndirector of sales \\ncompany indirect channels - asia \\n& \\ndqwhpjxy.pozjxbey@gmail.com \\n\\n \\n \\n \\n \\n\\n\\n'"
      ],
      "execution_count": null,
      "outputs": []
    },
    {
      "cell_type": "code",
      "metadata": {
        "colab": {
          "base_uri": "https://localhost:8080/",
          "height": 35
        },
        "id": "mNbiDR3UJGpi",
        "outputId": "e3917b1e-7308-43e0-b923-a699f3847b7d"
      },
      "source": [
        "match_text3 = re.search(r'from:.*[\\r\\n\\t\\f\\v]', text3)\n",
        "match_text3.group(0)"
      ],
      "execution_count": null,
      "outputs": [
        {
          "output_type": "execute_result",
          "data": {
            "application/vnd.google.colaboratory.intrinsic+json": {
              "type": "string"
            },
            "text/plain": [
              "'from: brdhdd dhwduw\\n'"
            ]
          },
          "metadata": {},
          "execution_count": 63
        }
      ]
    },
    {
      "cell_type": "code",
      "metadata": {
        "colab": {
          "base_uri": "https://localhost:8080/"
        },
        "id": "et942VFPZhAL",
        "outputId": "b3949028-0086-41e1-8072-c243883a266c"
      },
      "source": [
        "match_text3.groups(1)"
      ],
      "execution_count": null,
      "outputs": [
        {
          "output_type": "execute_result",
          "data": {
            "text/plain": [
              "()"
            ]
          },
          "metadata": {},
          "execution_count": 64
        }
      ]
    },
    {
      "cell_type": "code",
      "metadata": {
        "colab": {
          "base_uri": "https://localhost:8080/",
          "height": 35
        },
        "id": "eAEaG9UvJJpR",
        "outputId": "6595a08d-c7a4-4f14-ab3e-321cd7ce8138"
      },
      "source": [
        "sub_text3 = match_text3.group(0).replace('subject:',\"\")\n",
        "sub_text3"
      ],
      "execution_count": null,
      "outputs": [
        {
          "output_type": "execute_result",
          "data": {
            "application/vnd.google.colaboratory.intrinsic+json": {
              "type": "string"
            },
            "text/plain": [
              "'from: brdhdd dhwduw\\n'"
            ]
          },
          "metadata": {},
          "execution_count": 65
        }
      ]
    },
    {
      "cell_type": "code",
      "metadata": {
        "colab": {
          "base_uri": "https://localhost:8080/"
        },
        "id": "4uoHTQCc2wyF",
        "outputId": "0b341f89-cc5f-422c-ceb7-d37b2d9c09ad"
      },
      "source": [
        "match_text3 = re.findall(r'frm:.*[\\r\\n\\t\\f\\v]', text3)\n",
        "match_text3"
      ],
      "execution_count": null,
      "outputs": [
        {
          "output_type": "execute_result",
          "data": {
            "text/plain": [
              "[]"
            ]
          },
          "metadata": {},
          "execution_count": 66
        }
      ]
    },
    {
      "cell_type": "code",
      "metadata": {
        "id": "qMQMqu7fgi69"
      },
      "source": [
        "for text in match_text3:\n",
        "  text3 = text3.replace(text, \"\")"
      ],
      "execution_count": null,
      "outputs": []
    },
    {
      "cell_type": "code",
      "metadata": {
        "colab": {
          "base_uri": "https://localhost:8080/",
          "height": 122
        },
        "id": "yMFfyvqbaEhi",
        "outputId": "2f55ac6d-2526-4934-85e5-9b3376bc56f8"
      },
      "source": [
        "text3"
      ],
      "execution_count": null,
      "outputs": [
        {
          "output_type": "execute_result",
          "data": {
            "application/vnd.google.colaboratory.intrinsic+json": {
              "type": "string"
            },
            "text/plain": [
              "'from: brdhdd dhwduw\\nsent: thursday, october 27, 2016 6:12 am\\nto: nwfodmhc exurcwkm\\nsubject::fwd: unable to down load ethics module \\n\\n\\nbegin forwarded message:\\nfrom: <dqwhpjxy.pozjxbey@gmail.com>\\nto: <zanivrec.capbfhur@gmail.com>\\nsubject: unable to down load ethics module \\nhi â€“ trust doing well . i am unable to down load & getting below msg. i did reset resolution however still same issue persist.\\n \\nplease help.\\n \\n \\n \\n \\n \\ndirector of sales \\ncompany indirect channels - asia \\n& \\ndqwhpjxy.pozjxbey@gmail.com \\n\\n \\n \\n \\n \\n\\n\\n'"
            ]
          },
          "metadata": {},
          "execution_count": 68
        }
      ]
    },
    {
      "cell_type": "code",
      "metadata": {
        "colab": {
          "base_uri": "https://localhost:8080/"
        },
        "id": "O9A641j8fTmS",
        "outputId": "706c8dbf-d761-4238-8a8a-736a02233a90"
      },
      "source": [
        "a = ['it'] + ['was'] + ['annoying']\n",
        "a"
      ],
      "execution_count": null,
      "outputs": [
        {
          "output_type": "execute_result",
          "data": {
            "text/plain": [
              "['it', 'was', 'annoying']"
            ]
          },
          "metadata": {},
          "execution_count": 69
        }
      ]
    },
    {
      "cell_type": "code",
      "metadata": {
        "colab": {
          "base_uri": "https://localhost:8080/"
        },
        "id": "BIFEb7V4iGta",
        "outputId": "ea19bd29-df59-4a1d-87a5-891b6b1e1d74"
      },
      "source": [
        "type(a)"
      ],
      "execution_count": null,
      "outputs": [
        {
          "output_type": "execute_result",
          "data": {
            "text/plain": [
              "list"
            ]
          },
          "metadata": {},
          "execution_count": 70
        }
      ]
    },
    {
      "cell_type": "code",
      "metadata": {
        "id": "czj2jqFYJT0Z"
      },
      "source": [
        "text4 = '\\n\\nreceived from: bwfhtumx.japznrvb@gmail.com\\n\\n\\n\\n[cid:image001.jpg@01d230f7.8bb4e830]\\n\\nbwfhtumx japznrvb \\nregional controller\\nbwfhtumx.japznrvb@gmail.com<mailto:bwfhtumx.japznrvb@gmail.com>\\n\\n\\n\\n'"
      ],
      "execution_count": null,
      "outputs": []
    },
    {
      "cell_type": "code",
      "metadata": {
        "colab": {
          "base_uri": "https://localhost:8080/"
        },
        "id": "tMPasQsEJT3b",
        "outputId": "00907145-cdcc-4c08-f4a0-6650ec3c22b0"
      },
      "source": [
        "match_text4 = re.findall(r'\\[cid:image.*\\]', text4)\n",
        "match_text4"
      ],
      "execution_count": null,
      "outputs": [
        {
          "output_type": "execute_result",
          "data": {
            "text/plain": [
              "['[cid:image001.jpg@01d230f7.8bb4e830]']"
            ]
          },
          "metadata": {},
          "execution_count": 72
        }
      ]
    },
    {
      "cell_type": "code",
      "metadata": {
        "id": "WEGUp6_gJT6g"
      },
      "source": [
        ""
      ],
      "execution_count": null,
      "outputs": []
    },
    {
      "cell_type": "code",
      "metadata": {
        "id": "crRVH9BsJT9V"
      },
      "source": [
        ""
      ],
      "execution_count": null,
      "outputs": []
    },
    {
      "cell_type": "code",
      "metadata": {
        "id": "a4jDtD-IJT_8"
      },
      "source": [
        ""
      ],
      "execution_count": null,
      "outputs": []
    },
    {
      "cell_type": "code",
      "metadata": {
        "id": "XEg5RJlsJUEM"
      },
      "source": [
        ""
      ],
      "execution_count": null,
      "outputs": []
    },
    {
      "cell_type": "code",
      "metadata": {
        "id": "GsYvwAQ4gs2M",
        "colab": {
          "base_uri": "https://localhost:8080/",
          "height": 35
        },
        "outputId": "e7cc9783-3460-4eb6-a632-3b8032bac781"
      },
      "source": [
        "ftfy.fix_text('aktuell kÃ¶nnen keine rÃ¼ckmeldungen in EU_tool eingegeben werden. fehler \"laufzeitfehler\".')"
      ],
      "execution_count": null,
      "outputs": [
        {
          "output_type": "execute_result",
          "data": {
            "application/vnd.google.colaboratory.intrinsic+json": {
              "type": "string"
            },
            "text/plain": [
              "'aktuell können keine rückmeldungen in EU_tool eingegeben werden. fehler \"laufzeitfehler\".'"
            ]
          },
          "metadata": {},
          "execution_count": 73
        }
      ]
    },
    {
      "cell_type": "code",
      "metadata": {
        "colab": {
          "base_uri": "https://localhost:8080/",
          "height": 35
        },
        "id": "HhSSo1EBHXRO",
        "outputId": "65d2e92b-dde0-4b22-a4ad-7c73af472316"
      },
      "source": [
        "ftfy.fix_text('ç”µè„‘ç™»å½•å¯†ç å¿˜è®°ï¼Œé‡ç½®å¯†ç ã€‚')"
      ],
      "execution_count": null,
      "outputs": [
        {
          "output_type": "execute_result",
          "data": {
            "application/vnd.google.colaboratory.intrinsic+json": {
              "type": "string"
            },
            "text/plain": [
              "'电脑登录密码忘记,重置密码。'"
            ]
          },
          "metadata": {},
          "execution_count": 74
        }
      ]
    },
    {
      "cell_type": "code",
      "metadata": {
        "colab": {
          "base_uri": "https://localhost:8080/",
          "height": 35
        },
        "id": "SZQQeCESJdVH",
        "outputId": "279e11fe-3d15-422c-e7fd-b1e749ee341c"
      },
      "source": [
        "ftfy.fix_text('skype error')"
      ],
      "execution_count": null,
      "outputs": [
        {
          "output_type": "execute_result",
          "data": {
            "application/vnd.google.colaboratory.intrinsic+json": {
              "type": "string"
            },
            "text/plain": [
              "'skype error'"
            ]
          },
          "metadata": {},
          "execution_count": 75
        }
      ]
    },
    {
      "cell_type": "code",
      "metadata": {
        "colab": {
          "base_uri": "https://localhost:8080/"
        },
        "id": "WOrTXbOwKqKT",
        "outputId": "eef04352-becd-446f-9999-7f6c1b9b4034"
      },
      "source": [
        "to_translate = ftfy.fix_text('ç”µè„‘ç™»å½•å¯†ç å¿˜è®°ï¼Œé‡ç½®å¯†ç ã€‚')\n",
        "translated = GoogleTranslator(source='auto', target='english').translate(to_translate)\n",
        "\n",
        "print(translated)"
      ],
      "execution_count": null,
      "outputs": [
        {
          "output_type": "stream",
          "name": "stdout",
          "text": [
            "If the computer login password is forgotten, reset the password.\n"
          ]
        }
      ]
    },
    {
      "cell_type": "code",
      "metadata": {
        "colab": {
          "base_uri": "https://localhost:8080/"
        },
        "id": "SJp9Mub_MK9r",
        "outputId": "585d7c59-a4da-44d5-e136-869b4dc3f479"
      },
      "source": [
        "to_translate = ftfy.fix_text('aktuell kÃ¶nnen keine rÃ¼ckmeldungen in EU_tool eingegeben werden. fehler \"laufzeitfehler\".')\n",
        "translated = GoogleTranslator(source='auto', target='english').translate(to_translate)\n",
        "\n",
        "print(translated)"
      ],
      "execution_count": null,
      "outputs": [
        {
          "output_type": "stream",
          "name": "stdout",
          "text": [
            "No feedback can currently be entered in EU_tool. error \"runtime error\".\n"
          ]
        }
      ]
    },
    {
      "cell_type": "code",
      "metadata": {
        "colab": {
          "base_uri": "https://localhost:8080/"
        },
        "id": "1-KGtLW6Zqdz",
        "outputId": "fe93d113-792a-4f87-ea2f-4d7dbce25dac"
      },
      "source": [
        "to_translate = ftfy.fix_text('ç”µè„‘ç™»å½•å¯†ç å¿˜è®°ï¼Œé‡ç½®å¯†ç ã€‚')\n",
        "translated = GoogleTranslator(source='auto', target='english').translate(to_translate)\n",
        "\n",
        "print(translated)"
      ],
      "execution_count": null,
      "outputs": [
        {
          "output_type": "stream",
          "name": "stdout",
          "text": [
            "If the computer login password is forgotten, reset the password.\n"
          ]
        }
      ]
    },
    {
      "cell_type": "code",
      "metadata": {
        "id": "RfbsDlDHSJaC"
      },
      "source": [
        " import numpy as np\n",
        " import pandas as pd\n",
        " clean_df =pd.read_excel('/content/sample_data/intermediate_file.xlsx')"
      ],
      "execution_count": 2,
      "outputs": []
    },
    {
      "cell_type": "code",
      "metadata": {
        "id": "qKtHugtPiI02",
        "colab": {
          "base_uri": "https://localhost:8080/",
          "height": 413
        },
        "outputId": "357ac21f-9137-43e7-d24f-c6e8bcfe9da1"
      },
      "source": [
        "clean_df.head()"
      ],
      "execution_count": 3,
      "outputs": [
        {
          "output_type": "execute_result",
          "data": {
            "text/html": [
              "<div>\n",
              "<style scoped>\n",
              "    .dataframe tbody tr th:only-of-type {\n",
              "        vertical-align: middle;\n",
              "    }\n",
              "\n",
              "    .dataframe tbody tr th {\n",
              "        vertical-align: top;\n",
              "    }\n",
              "\n",
              "    .dataframe thead th {\n",
              "        text-align: right;\n",
              "    }\n",
              "</style>\n",
              "<table border=\"1\" class=\"dataframe\">\n",
              "  <thead>\n",
              "    <tr style=\"text-align: right;\">\n",
              "      <th></th>\n",
              "      <th>Unnamed: 0</th>\n",
              "      <th>Short description</th>\n",
              "      <th>Description</th>\n",
              "      <th>Caller</th>\n",
              "      <th>Assignment group</th>\n",
              "      <th>short_desc_analysis</th>\n",
              "      <th>desc_analysis</th>\n",
              "      <th>mail_received_from</th>\n",
              "      <th>mail_subject_mentioned</th>\n",
              "    </tr>\n",
              "  </thead>\n",
              "  <tbody>\n",
              "    <tr>\n",
              "      <th>0</th>\n",
              "      <td>0</td>\n",
              "      <td>login issue</td>\n",
              "      <td>-verified user details.(employee# &amp; manager na...</td>\n",
              "      <td>spxjnwir pjlcoqds</td>\n",
              "      <td>GRP_0</td>\n",
              "      <td>login issue</td>\n",
              "      <td>verified user detailsemployee  checked the use...</td>\n",
              "      <td>No Match</td>\n",
              "      <td>No Match</td>\n",
              "    </tr>\n",
              "    <tr>\n",
              "      <th>1</th>\n",
              "      <td>1</td>\n",
              "      <td>outlook</td>\n",
              "      <td>\\r\\n\\r\\nreceived from: hmjdrvpb.komuaywn@gmail...</td>\n",
              "      <td>hmjdrvpb komuaywn</td>\n",
              "      <td>GRP_0</td>\n",
              "      <td>outlook</td>\n",
              "      <td>hello team  my meetingsskype meetings etc are ...</td>\n",
              "      <td>hmjdrvpb.komuaywn@gmail.com</td>\n",
              "      <td>No Match</td>\n",
              "    </tr>\n",
              "    <tr>\n",
              "      <th>2</th>\n",
              "      <td>2</td>\n",
              "      <td>cant log in to vpn</td>\n",
              "      <td>\\r\\n\\r\\nreceived from: eylqgodm.ybqkwiam@gmail...</td>\n",
              "      <td>eylqgodm ybqkwiam</td>\n",
              "      <td>GRP_0</td>\n",
              "      <td>cant log in to vpn</td>\n",
              "      <td>hi  i cannot log on to vpn  best</td>\n",
              "      <td>eylqgodm.ybqkwiam@gmail.com</td>\n",
              "      <td>No Match</td>\n",
              "    </tr>\n",
              "    <tr>\n",
              "      <th>3</th>\n",
              "      <td>3</td>\n",
              "      <td>unable to access hr_tool page</td>\n",
              "      <td>unable to access hr_tool page</td>\n",
              "      <td>xbkucsvz gcpydteq</td>\n",
              "      <td>GRP_0</td>\n",
              "      <td>unable to access hrtool page</td>\n",
              "      <td>unable to access hrtool page</td>\n",
              "      <td>No Match</td>\n",
              "      <td>No Match</td>\n",
              "    </tr>\n",
              "    <tr>\n",
              "      <th>4</th>\n",
              "      <td>4</td>\n",
              "      <td>skype error</td>\n",
              "      <td>skype error</td>\n",
              "      <td>owlgqjme qhcozdfx</td>\n",
              "      <td>GRP_0</td>\n",
              "      <td>skype error</td>\n",
              "      <td>skype error</td>\n",
              "      <td>No Match</td>\n",
              "      <td>No Match</td>\n",
              "    </tr>\n",
              "  </tbody>\n",
              "</table>\n",
              "</div>"
            ],
            "text/plain": [
              "   Unnamed: 0  ... mail_subject_mentioned\n",
              "0           0  ...               No Match\n",
              "1           1  ...               No Match\n",
              "2           2  ...               No Match\n",
              "3           3  ...               No Match\n",
              "4           4  ...               No Match\n",
              "\n",
              "[5 rows x 9 columns]"
            ]
          },
          "metadata": {},
          "execution_count": 3
        }
      ]
    },
    {
      "cell_type": "code",
      "metadata": {
        "colab": {
          "base_uri": "https://localhost:8080/",
          "height": 413
        },
        "id": "W1VA8h-cjfZK",
        "outputId": "1538a6f0-7202-400a-e335-913e4af3d536"
      },
      "source": [
        "clean_df.head()"
      ],
      "execution_count": 4,
      "outputs": [
        {
          "output_type": "execute_result",
          "data": {
            "text/html": [
              "<div>\n",
              "<style scoped>\n",
              "    .dataframe tbody tr th:only-of-type {\n",
              "        vertical-align: middle;\n",
              "    }\n",
              "\n",
              "    .dataframe tbody tr th {\n",
              "        vertical-align: top;\n",
              "    }\n",
              "\n",
              "    .dataframe thead th {\n",
              "        text-align: right;\n",
              "    }\n",
              "</style>\n",
              "<table border=\"1\" class=\"dataframe\">\n",
              "  <thead>\n",
              "    <tr style=\"text-align: right;\">\n",
              "      <th></th>\n",
              "      <th>Unnamed: 0</th>\n",
              "      <th>Short description</th>\n",
              "      <th>Description</th>\n",
              "      <th>Caller</th>\n",
              "      <th>Assignment group</th>\n",
              "      <th>short_desc_analysis</th>\n",
              "      <th>desc_analysis</th>\n",
              "      <th>mail_received_from</th>\n",
              "      <th>mail_subject_mentioned</th>\n",
              "    </tr>\n",
              "  </thead>\n",
              "  <tbody>\n",
              "    <tr>\n",
              "      <th>0</th>\n",
              "      <td>0</td>\n",
              "      <td>login issue</td>\n",
              "      <td>-verified user details.(employee# &amp; manager na...</td>\n",
              "      <td>spxjnwir pjlcoqds</td>\n",
              "      <td>GRP_0</td>\n",
              "      <td>login issue</td>\n",
              "      <td>verified user detailsemployee  checked the use...</td>\n",
              "      <td>No Match</td>\n",
              "      <td>No Match</td>\n",
              "    </tr>\n",
              "    <tr>\n",
              "      <th>1</th>\n",
              "      <td>1</td>\n",
              "      <td>outlook</td>\n",
              "      <td>\\r\\n\\r\\nreceived from: hmjdrvpb.komuaywn@gmail...</td>\n",
              "      <td>hmjdrvpb komuaywn</td>\n",
              "      <td>GRP_0</td>\n",
              "      <td>outlook</td>\n",
              "      <td>hello team  my meetingsskype meetings etc are ...</td>\n",
              "      <td>hmjdrvpb.komuaywn@gmail.com</td>\n",
              "      <td>No Match</td>\n",
              "    </tr>\n",
              "    <tr>\n",
              "      <th>2</th>\n",
              "      <td>2</td>\n",
              "      <td>cant log in to vpn</td>\n",
              "      <td>\\r\\n\\r\\nreceived from: eylqgodm.ybqkwiam@gmail...</td>\n",
              "      <td>eylqgodm ybqkwiam</td>\n",
              "      <td>GRP_0</td>\n",
              "      <td>cant log in to vpn</td>\n",
              "      <td>hi  i cannot log on to vpn  best</td>\n",
              "      <td>eylqgodm.ybqkwiam@gmail.com</td>\n",
              "      <td>No Match</td>\n",
              "    </tr>\n",
              "    <tr>\n",
              "      <th>3</th>\n",
              "      <td>3</td>\n",
              "      <td>unable to access hr_tool page</td>\n",
              "      <td>unable to access hr_tool page</td>\n",
              "      <td>xbkucsvz gcpydteq</td>\n",
              "      <td>GRP_0</td>\n",
              "      <td>unable to access hrtool page</td>\n",
              "      <td>unable to access hrtool page</td>\n",
              "      <td>No Match</td>\n",
              "      <td>No Match</td>\n",
              "    </tr>\n",
              "    <tr>\n",
              "      <th>4</th>\n",
              "      <td>4</td>\n",
              "      <td>skype error</td>\n",
              "      <td>skype error</td>\n",
              "      <td>owlgqjme qhcozdfx</td>\n",
              "      <td>GRP_0</td>\n",
              "      <td>skype error</td>\n",
              "      <td>skype error</td>\n",
              "      <td>No Match</td>\n",
              "      <td>No Match</td>\n",
              "    </tr>\n",
              "  </tbody>\n",
              "</table>\n",
              "</div>"
            ],
            "text/plain": [
              "   Unnamed: 0  ... mail_subject_mentioned\n",
              "0           0  ...               No Match\n",
              "1           1  ...               No Match\n",
              "2           2  ...               No Match\n",
              "3           3  ...               No Match\n",
              "4           4  ...               No Match\n",
              "\n",
              "[5 rows x 9 columns]"
            ]
          },
          "metadata": {},
          "execution_count": 4
        }
      ]
    },
    {
      "cell_type": "code",
      "metadata": {
        "id": "rnQQqryGjifs"
      },
      "source": [
        "clean_data=clean_df[['desc_analysis','Assignment group']]"
      ],
      "execution_count": 5,
      "outputs": []
    },
    {
      "cell_type": "code",
      "metadata": {
        "colab": {
          "base_uri": "https://localhost:8080/",
          "height": 415
        },
        "id": "BbRUStqcl5DK",
        "outputId": "b51690fc-2fc9-4620-f82e-e2ee97e2c783"
      },
      "source": [
        "clean_data"
      ],
      "execution_count": 6,
      "outputs": [
        {
          "output_type": "execute_result",
          "data": {
            "text/html": [
              "<div>\n",
              "<style scoped>\n",
              "    .dataframe tbody tr th:only-of-type {\n",
              "        vertical-align: middle;\n",
              "    }\n",
              "\n",
              "    .dataframe tbody tr th {\n",
              "        vertical-align: top;\n",
              "    }\n",
              "\n",
              "    .dataframe thead th {\n",
              "        text-align: right;\n",
              "    }\n",
              "</style>\n",
              "<table border=\"1\" class=\"dataframe\">\n",
              "  <thead>\n",
              "    <tr style=\"text-align: right;\">\n",
              "      <th></th>\n",
              "      <th>desc_analysis</th>\n",
              "      <th>Assignment group</th>\n",
              "    </tr>\n",
              "  </thead>\n",
              "  <tbody>\n",
              "    <tr>\n",
              "      <th>0</th>\n",
              "      <td>verified user detailsemployee  checked the use...</td>\n",
              "      <td>GRP_0</td>\n",
              "    </tr>\n",
              "    <tr>\n",
              "      <th>1</th>\n",
              "      <td>hello team  my meetingsskype meetings etc are ...</td>\n",
              "      <td>GRP_0</td>\n",
              "    </tr>\n",
              "    <tr>\n",
              "      <th>2</th>\n",
              "      <td>hi  i cannot log on to vpn  best</td>\n",
              "      <td>GRP_0</td>\n",
              "    </tr>\n",
              "    <tr>\n",
              "      <th>3</th>\n",
              "      <td>unable to access hrtool page</td>\n",
              "      <td>GRP_0</td>\n",
              "    </tr>\n",
              "    <tr>\n",
              "      <th>4</th>\n",
              "      <td>skype error</td>\n",
              "      <td>GRP_0</td>\n",
              "    </tr>\n",
              "    <tr>\n",
              "      <th>...</th>\n",
              "      <td>...</td>\n",
              "      <td>...</td>\n",
              "    </tr>\n",
              "    <tr>\n",
              "      <th>8495</th>\n",
              "      <td>good afternoon i am not receiving the emails t...</td>\n",
              "      <td>GRP_29</td>\n",
              "    </tr>\n",
              "    <tr>\n",
              "      <th>8496</th>\n",
              "      <td>telephonysoftware issue</td>\n",
              "      <td>GRP_0</td>\n",
              "    </tr>\n",
              "    <tr>\n",
              "      <th>8497</th>\n",
              "      <td>vip windows password reset for tifpdchb pedxruyf</td>\n",
              "      <td>GRP_0</td>\n",
              "    </tr>\n",
              "    <tr>\n",
              "      <th>8498</th>\n",
              "      <td>i am unable to access the machine utilities to...</td>\n",
              "      <td>GRP_62</td>\n",
              "    </tr>\n",
              "    <tr>\n",
              "      <th>8499</th>\n",
              "      <td>an mehreren pcs lassen sich verschiedene prgra...</td>\n",
              "      <td>GRP_49</td>\n",
              "    </tr>\n",
              "  </tbody>\n",
              "</table>\n",
              "<p>8500 rows × 2 columns</p>\n",
              "</div>"
            ],
            "text/plain": [
              "                                          desc_analysis Assignment group\n",
              "0     verified user detailsemployee  checked the use...            GRP_0\n",
              "1     hello team  my meetingsskype meetings etc are ...            GRP_0\n",
              "2                      hi  i cannot log on to vpn  best            GRP_0\n",
              "3                          unable to access hrtool page            GRP_0\n",
              "4                                           skype error            GRP_0\n",
              "...                                                 ...              ...\n",
              "8495  good afternoon i am not receiving the emails t...           GRP_29\n",
              "8496                            telephonysoftware issue            GRP_0\n",
              "8497   vip windows password reset for tifpdchb pedxruyf            GRP_0\n",
              "8498  i am unable to access the machine utilities to...           GRP_62\n",
              "8499  an mehreren pcs lassen sich verschiedene prgra...           GRP_49\n",
              "\n",
              "[8500 rows x 2 columns]"
            ]
          },
          "metadata": {},
          "execution_count": 6
        }
      ]
    },
    {
      "cell_type": "code",
      "metadata": {
        "id": "RLa-daEamc25"
      },
      "source": [
        "clean_data=clean_data.dropna()"
      ],
      "execution_count": 7,
      "outputs": []
    },
    {
      "cell_type": "code",
      "metadata": {
        "id": "VRi35dLLl7Ff"
      },
      "source": [
        "# checking length of words\n",
        "\n",
        "length= clean_data['desc_analysis'].apply(lambda x: len(x.split(' '))).sum()"
      ],
      "execution_count": 8,
      "outputs": []
    },
    {
      "cell_type": "code",
      "metadata": {
        "colab": {
          "base_uri": "https://localhost:8080/"
        },
        "id": "aqNb2y0mSWU_",
        "outputId": "fe27d150-b671-4eed-aa07-c3b982e1f1a2"
      },
      "source": [
        "clean_data.duplicated().value_counts()"
      ],
      "execution_count": 9,
      "outputs": [
        {
          "output_type": "execute_result",
          "data": {
            "text/plain": [
              "False    6803\n",
              "True     1684\n",
              "dtype: int64"
            ]
          },
          "metadata": {},
          "execution_count": 9
        }
      ]
    },
    {
      "cell_type": "code",
      "metadata": {
        "id": "3fOHNBs2d4a5"
      },
      "source": [
        "clean_data=clean_data.drop_duplicates()\n"
      ],
      "execution_count": 10,
      "outputs": []
    },
    {
      "cell_type": "code",
      "metadata": {
        "colab": {
          "base_uri": "https://localhost:8080/"
        },
        "id": "cV3o0eIQeEMb",
        "outputId": "b99f29c6-8ca5-40ef-c6f3-a0cfd8c61a5c"
      },
      "source": [
        "clean_data.duplicated().value_counts()"
      ],
      "execution_count": 11,
      "outputs": [
        {
          "output_type": "execute_result",
          "data": {
            "text/plain": [
              "False    6803\n",
              "dtype: int64"
            ]
          },
          "metadata": {},
          "execution_count": 11
        }
      ]
    },
    {
      "cell_type": "code",
      "metadata": {
        "colab": {
          "base_uri": "https://localhost:8080/"
        },
        "id": "FGYLlHKhUJdT",
        "outputId": "6cb06a72-00c2-40a6-dd1e-aef8ff1be7b4"
      },
      "source": [
        "import nltk\n",
        "nltk.download('stopwords')"
      ],
      "execution_count": 12,
      "outputs": [
        {
          "output_type": "stream",
          "name": "stdout",
          "text": [
            "[nltk_data] Downloading package stopwords to /root/nltk_data...\n",
            "[nltk_data]   Unzipping corpora/stopwords.zip.\n"
          ]
        },
        {
          "output_type": "execute_result",
          "data": {
            "text/plain": [
              "True"
            ]
          },
          "metadata": {},
          "execution_count": 12
        }
      ]
    },
    {
      "cell_type": "code",
      "metadata": {
        "id": "-sdGnBZaUurx"
      },
      "source": [
        "import logging\n",
        "import pandas as pd\n",
        "import numpy as np\n",
        "from numpy import random\n",
        "import gensim\n",
        "import nltk\n",
        "from sklearn.model_selection import train_test_split\n",
        "from sklearn.feature_extraction.text import CountVectorizer, TfidfVectorizer\n",
        "from sklearn.metrics import accuracy_score, confusion_matrix\n",
        "import matplotlib.pyplot as plt\n",
        "from nltk.corpus import stopwords\n",
        "import re\n",
        "from bs4 import BeautifulSoup\n",
        "%matplotlib inline"
      ],
      "execution_count": 13,
      "outputs": []
    },
    {
      "cell_type": "code",
      "metadata": {
        "id": "HscqBfUoT7ZN"
      },
      "source": [
        "REPLACE_BY_SPACE_RE = re.compile('[/(){}\\[\\]\\|@,;]')\n",
        "BAD_SYMBOLS_RE = re.compile('[^0-9a-z #+_]')\n",
        "STOPWORDS = set(stopwords.words('english'))\n",
        "\n",
        "def clean_text(text):\n",
        "    \"\"\"\n",
        "        text: a string\n",
        "        \n",
        "        return: modified initial string\n",
        "    \"\"\"\n",
        "    text = BeautifulSoup(text, \"lxml\").text # HTML decoding\n",
        "    text = text.lower() # lowercase text\n",
        "    text = REPLACE_BY_SPACE_RE.sub(' ', text) # replace REPLACE_BY_SPACE_RE symbols by space in text\n",
        "    text = BAD_SYMBOLS_RE.sub('', text) # delete symbols which are in BAD_SYMBOLS_RE from text\n",
        "    text = ' '.join(word for word in text.split() if word not in STOPWORDS) # delete stopwors from text\n",
        "    return text"
      ],
      "execution_count": 14,
      "outputs": []
    },
    {
      "cell_type": "code",
      "metadata": {
        "id": "rI6oZFgCUPCi"
      },
      "source": [
        "\n",
        "clean_data['desc_analysis']=clean_data['desc_analysis'].apply(lambda x:clean_text(x))"
      ],
      "execution_count": 15,
      "outputs": []
    },
    {
      "cell_type": "code",
      "metadata": {
        "id": "huIEJQrKJj2r",
        "colab": {
          "base_uri": "https://localhost:8080/",
          "height": 415
        },
        "outputId": "73079430-8e22-4272-aa55-fddd47b0bd50"
      },
      "source": [
        "# selecting groups having more than 10 example\n",
        "filtered=clean_data.groupby('Assignment group').filter(lambda x: len(x) >100)\n",
        "filtered"
      ],
      "execution_count": 21,
      "outputs": [
        {
          "output_type": "execute_result",
          "data": {
            "text/html": [
              "<div>\n",
              "<style scoped>\n",
              "    .dataframe tbody tr th:only-of-type {\n",
              "        vertical-align: middle;\n",
              "    }\n",
              "\n",
              "    .dataframe tbody tr th {\n",
              "        vertical-align: top;\n",
              "    }\n",
              "\n",
              "    .dataframe thead th {\n",
              "        text-align: right;\n",
              "    }\n",
              "</style>\n",
              "<table border=\"1\" class=\"dataframe\">\n",
              "  <thead>\n",
              "    <tr style=\"text-align: right;\">\n",
              "      <th></th>\n",
              "      <th>desc_analysis</th>\n",
              "      <th>Assignment group</th>\n",
              "    </tr>\n",
              "  </thead>\n",
              "  <tbody>\n",
              "    <tr>\n",
              "      <th>0</th>\n",
              "      <td>verified user detailsemployee checked user nam...</td>\n",
              "      <td>GRP_0</td>\n",
              "    </tr>\n",
              "    <tr>\n",
              "      <th>1</th>\n",
              "      <td>hello team meetingsskype meetings etc appearin...</td>\n",
              "      <td>GRP_0</td>\n",
              "    </tr>\n",
              "    <tr>\n",
              "      <th>2</th>\n",
              "      <td>hi cannot log vpn best</td>\n",
              "      <td>GRP_0</td>\n",
              "    </tr>\n",
              "    <tr>\n",
              "      <th>3</th>\n",
              "      <td>unable access hrtool page</td>\n",
              "      <td>GRP_0</td>\n",
              "    </tr>\n",
              "    <tr>\n",
              "      <th>4</th>\n",
              "      <td>skype error</td>\n",
              "      <td>GRP_0</td>\n",
              "    </tr>\n",
              "    <tr>\n",
              "      <th>...</th>\n",
              "      <td>...</td>\n",
              "      <td>...</td>\n",
              "    </tr>\n",
              "    <tr>\n",
              "      <th>8488</th>\n",
              "      <td>unlock erp account gadbpfrz unvdyask user name...</td>\n",
              "      <td>GRP_0</td>\n",
              "    </tr>\n",
              "    <tr>\n",
              "      <th>8492</th>\n",
              "      <td>hrtool etime option visitble</td>\n",
              "      <td>GRP_0</td>\n",
              "    </tr>\n",
              "    <tr>\n",
              "      <th>8494</th>\n",
              "      <td>tablet needs reimaged due multiple issues crm ...</td>\n",
              "      <td>GRP_3</td>\n",
              "    </tr>\n",
              "    <tr>\n",
              "      <th>8496</th>\n",
              "      <td>telephonysoftware issue</td>\n",
              "      <td>GRP_0</td>\n",
              "    </tr>\n",
              "    <tr>\n",
              "      <th>8497</th>\n",
              "      <td>vip windows password reset tifpdchb pedxruyf</td>\n",
              "      <td>GRP_0</td>\n",
              "    </tr>\n",
              "  </tbody>\n",
              "</table>\n",
              "<p>5135 rows × 2 columns</p>\n",
              "</div>"
            ],
            "text/plain": [
              "                                          desc_analysis Assignment group\n",
              "0     verified user detailsemployee checked user nam...            GRP_0\n",
              "1     hello team meetingsskype meetings etc appearin...            GRP_0\n",
              "2                                hi cannot log vpn best            GRP_0\n",
              "3                             unable access hrtool page            GRP_0\n",
              "4                                           skype error            GRP_0\n",
              "...                                                 ...              ...\n",
              "8488  unlock erp account gadbpfrz unvdyask user name...            GRP_0\n",
              "8492                       hrtool etime option visitble            GRP_0\n",
              "8494  tablet needs reimaged due multiple issues crm ...            GRP_3\n",
              "8496                            telephonysoftware issue            GRP_0\n",
              "8497       vip windows password reset tifpdchb pedxruyf            GRP_0\n",
              "\n",
              "[5135 rows x 2 columns]"
            ]
          },
          "metadata": {},
          "execution_count": 21
        }
      ]
    },
    {
      "cell_type": "code",
      "metadata": {
        "colab": {
          "base_uri": "https://localhost:8080/"
        },
        "id": "1zLAWtOngSP4",
        "outputId": "2b4d82f9-2e2e-4dcc-e0c9-76c5c4dfe863"
      },
      "source": [
        "filtered['Assignment group'].value_counts()"
      ],
      "execution_count": 22,
      "outputs": [
        {
          "output_type": "execute_result",
          "data": {
            "text/plain": [
              "GRP_0     3161\n",
              "GRP_8      315\n",
              "GRP_24     278\n",
              "GRP_12     246\n",
              "GRP_2      240\n",
              "GRP_19     213\n",
              "GRP_3      199\n",
              "GRP_13     142\n",
              "GRP_14     118\n",
              "GRP_25     116\n",
              "GRP_33     107\n",
              "Name: Assignment group, dtype: int64"
            ]
          },
          "metadata": {},
          "execution_count": 22
        }
      ]
    },
    {
      "cell_type": "code",
      "metadata": {
        "colab": {
          "base_uri": "https://localhost:8080/",
          "height": 743
        },
        "id": "C1-XjzeUy-C-",
        "outputId": "d67d1165-d855-492e-9f9a-1ba87bb666d2"
      },
      "source": [
        ""
      ],
      "execution_count": 23,
      "outputs": [
        {
          "output_type": "display_data",
          "data": {
            "image/png": "[encoded data removed]",
            "text/plain": [
              "<Figure size 720x864 with 1 Axes>"
            ]
          },
          "metadata": {
            "needs_background": "light"
          }
        }
      ]
    },
    {
      "cell_type": "code",
      "metadata": {
        "id": "Ig1fSGkD7aeX"
      },
      "source": [
        "from io import StringIO\n",
        "filtered['GroupID']=filtered['Assignment group'].factorize()[0]"
      ],
      "execution_count": 28,
      "outputs": []
    },
    {
      "cell_type": "code",
      "metadata": {
        "id": "JByedNLg71Nh"
      },
      "source": [
        "grouped_df  =filtered[['Assignment group','GroupID']].drop_duplicates()"
      ],
      "execution_count": 32,
      "outputs": []
    },
    {
      "cell_type": "code",
      "metadata": {
        "id": "SqoW2pMThXIf"
      },
      "source": [
        "group_to_groupId=dict(grouped_df.values)\n",
        "groupId_to_group=dict(grouped_df[['GroupID','Assignment group']].values)"
      ],
      "execution_count": 42,
      "outputs": []
    },
    {
      "cell_type": "code",
      "metadata": {
        "colab": {
          "base_uri": "https://localhost:8080/",
          "height": 743
        },
        "id": "Z86cDbde9fP-",
        "outputId": "0217d4d7-099e-45d9-9cea-db4c799dab77"
      },
      "source": [
        "import matplotlib.pyplot as plt\n",
        "\n",
        "fig= plt.figure(figsize=(10,12))\n",
        "filtered.groupby('Assignment group').desc_analysis.count().plot.bar()\n",
        "plt.show()"
      ],
      "execution_count": 46,
      "outputs": [
        {
          "output_type": "display_data",
          "data": {
            "image/png": "[encoded data removed]",
            "text/plain": [
              "<Figure size 720x864 with 1 Axes>"
            ]
          },
          "metadata": {
            "needs_background": "light"
          }
        }
      ]
    },
    {
      "cell_type": "code",
      "metadata": {
        "colab": {
          "base_uri": "https://localhost:8080/"
        },
        "id": "4lD_XdiBIcjh",
        "outputId": "9a3cf829-bc60-4da8-94a4-357c0e27773b"
      },
      "source": [
        "from sklearn.feature_extraction.text import TfidfVectorizer\n",
        "\n",
        "tfidf = TfidfVectorizer(sublinear_tf=True, min_df=5, norm='l2', encoding='latin-1', ngram_range=(1, 2), stop_words='english')\n",
        "\n",
        "features = tfidf.fit_transform(filtered['desc_analysis']).toarray()\n",
        "labels = filtered['GroupID']\n",
        "features.shape"
      ],
      "execution_count": 50,
      "outputs": [
        {
          "output_type": "execute_result",
          "data": {
            "text/plain": [
              "(5135, 3295)"
            ]
          },
          "metadata": {},
          "execution_count": 50
        }
      ]
    },
    {
      "cell_type": "code",
      "metadata": {
        "colab": {
          "base_uri": "https://localhost:8080/"
        },
        "id": "wpneQ_LZAW80",
        "outputId": "a17bc111-9b54-478e-ae35-021ec4c3325f"
      },
      "source": [
        "from sklearn.feature_selection import chi2\n",
        "import numpy as np\n",
        "\n",
        "N = 2\n",
        "for group, groupId in sorted(group_to_groupId.items()):\n",
        "  features_chi2 = chi2(features, labels == groupId)\n",
        "  indices = np.argsort(features_chi2[0])\n",
        "  feature_names = np.array(tfidf.get_feature_names())[indices]\n",
        "  unigrams = [v for v in feature_names if len(v.split(' ')) == 1]\n",
        "  bigrams = [v for v in feature_names if len(v.split(' ')) == 2]\n",
        "  print(\"# '{}':\".format(group))\n",
        "  print(\"  . Most correlated unigrams:\\n       . {}\".format('\\n       . '.join(unigrams[-N:])))\n",
        "  print(\"  . Most correlated bigrams:\\n       . {}\".format('\\n       . '.join(bigrams[-N:])))\n"
      ],
      "execution_count": 52,
      "outputs": [
        {
          "output_type": "stream",
          "name": "stderr",
          "text": [
            "/usr/local/lib/python3.7/dist-packages/sklearn/utils/deprecation.py:87: FutureWarning: Function get_feature_names is deprecated; get_feature_names is deprecated in 1.0 and will be removed in 1.2. Please use get_feature_names_out instead.\n",
            "  warnings.warn(msg, category=FutureWarning)\n",
            "/usr/local/lib/python3.7/dist-packages/sklearn/utils/deprecation.py:87: FutureWarning: Function get_feature_names is deprecated; get_feature_names is deprecated in 1.0 and will be removed in 1.2. Please use get_feature_names_out instead.\n",
            "  warnings.warn(msg, category=FutureWarning)\n"
          ]
        },
        {
          "output_type": "stream",
          "name": "stdout",
          "text": [
            "# 'GRP_0':\n",
            "  . Most correlated unigrams:\n",
            "       . job\n",
            "       . password\n",
            "  . Most correlated bigrams:\n",
            "       . failed jobscheduler\n",
            "       . probleme mit\n",
            "# 'GRP_12':\n",
            "  . Most correlated unigrams:\n",
            "       . hostname\n",
            "       . space\n",
            "  . Most correlated bigrams:\n",
            "       . consumed space\n",
            "       . space available\n"
          ]
        },
        {
          "output_type": "stream",
          "name": "stderr",
          "text": [
            "/usr/local/lib/python3.7/dist-packages/sklearn/utils/deprecation.py:87: FutureWarning: Function get_feature_names is deprecated; get_feature_names is deprecated in 1.0 and will be removed in 1.2. Please use get_feature_names_out instead.\n",
            "  warnings.warn(msg, category=FutureWarning)\n",
            "/usr/local/lib/python3.7/dist-packages/sklearn/utils/deprecation.py:87: FutureWarning: Function get_feature_names is deprecated; get_feature_names is deprecated in 1.0 and will be removed in 1.2. Please use get_feature_names_out instead.\n",
            "  warnings.warn(msg, category=FutureWarning)\n"
          ]
        },
        {
          "output_type": "stream",
          "name": "stdout",
          "text": [
            "# 'GRP_13':\n",
            "  . Most correlated unigrams:\n",
            "       . item\n",
            "       . inwarehousetool\n",
            "  . Most correlated bigrams:\n",
            "       . unit price\n",
            "       . line item\n",
            "# 'GRP_14':\n",
            "  . Most correlated unigrams:\n",
            "       . configair\n",
            "       . alwaysupserviceexe\n",
            "  . Most correlated bigrams:\n",
            "       . invoke method\n",
            "       . node hostname\n"
          ]
        },
        {
          "output_type": "stream",
          "name": "stderr",
          "text": [
            "/usr/local/lib/python3.7/dist-packages/sklearn/utils/deprecation.py:87: FutureWarning: Function get_feature_names is deprecated; get_feature_names is deprecated in 1.0 and will be removed in 1.2. Please use get_feature_names_out instead.\n",
            "  warnings.warn(msg, category=FutureWarning)\n",
            "/usr/local/lib/python3.7/dist-packages/sklearn/utils/deprecation.py:87: FutureWarning: Function get_feature_names is deprecated; get_feature_names is deprecated in 1.0 and will be removed in 1.2. Please use get_feature_names_out instead.\n",
            "  warnings.warn(msg, category=FutureWarning)\n"
          ]
        },
        {
          "output_type": "stream",
          "name": "stdout",
          "text": [
            "# 'GRP_19':\n",
            "  . Most correlated unigrams:\n",
            "       . station\n",
            "       . laptop\n",
            "  . Most correlated bigrams:\n",
            "       . outlook client\n",
            "       . id printer\n",
            "# 'GRP_2':\n",
            "  . Most correlated unigrams:\n",
            "       . termination\n",
            "       . effective\n",
            "  . Most correlated bigrams:\n",
            "       . sid sid\n",
            "       . effective approved\n"
          ]
        },
        {
          "output_type": "stream",
          "name": "stderr",
          "text": [
            "/usr/local/lib/python3.7/dist-packages/sklearn/utils/deprecation.py:87: FutureWarning: Function get_feature_names is deprecated; get_feature_names is deprecated in 1.0 and will be removed in 1.2. Please use get_feature_names_out instead.\n",
            "  warnings.warn(msg, category=FutureWarning)\n",
            "/usr/local/lib/python3.7/dist-packages/sklearn/utils/deprecation.py:87: FutureWarning: Function get_feature_names is deprecated; get_feature_names is deprecated in 1.0 and will be removed in 1.2. Please use get_feature_names_out instead.\n",
            "  warnings.warn(msg, category=FutureWarning)\n"
          ]
        },
        {
          "output_type": "stream",
          "name": "stdout",
          "text": [
            "# 'GRP_24':\n",
            "  . Most correlated unigrams:\n",
            "       . ws\n",
            "       . probleme\n",
            "  . Most correlated bigrams:\n",
            "       . new ws\n",
            "       . probleme mit\n",
            "# 'GRP_25':\n",
            "  . Most correlated unigrams:\n",
            "       . revenue\n",
            "       . eutool\n",
            "  . Most correlated bigrams:\n",
            "       . engineering tool\n",
            "       . new customer\n"
          ]
        },
        {
          "output_type": "stream",
          "name": "stderr",
          "text": [
            "/usr/local/lib/python3.7/dist-packages/sklearn/utils/deprecation.py:87: FutureWarning: Function get_feature_names is deprecated; get_feature_names is deprecated in 1.0 and will be removed in 1.2. Please use get_feature_names_out instead.\n",
            "  warnings.warn(msg, category=FutureWarning)\n",
            "/usr/local/lib/python3.7/dist-packages/sklearn/utils/deprecation.py:87: FutureWarning: Function get_feature_names is deprecated; get_feature_names is deprecated in 1.0 and will be removed in 1.2. Please use get_feature_names_out instead.\n",
            "  warnings.warn(msg, category=FutureWarning)\n"
          ]
        },
        {
          "output_type": "stream",
          "name": "stdout",
          "text": [
            "# 'GRP_3':\n",
            "  . Most correlated unigrams:\n",
            "       . prtqx\n",
            "       . clients\n",
            "  . Most correlated bigrams:\n",
            "       . phone number\n",
            "       . external monitor\n",
            "# 'GRP_33':\n",
            "  . Most correlated unigrams:\n",
            "       . telefon\n",
            "       . defekt\n",
            "  . Most correlated bigrams:\n",
            "       . pc der\n",
            "       . nicht mehr\n",
            "# 'GRP_8':\n",
            "  . Most correlated unigrams:\n",
            "       . job\n",
            "       . yesnona\n",
            "  . Most correlated bigrams:\n",
            "       . backup circuit\n",
            "       . failed jobscheduler\n"
          ]
        },
        {
          "output_type": "stream",
          "name": "stderr",
          "text": [
            "/usr/local/lib/python3.7/dist-packages/sklearn/utils/deprecation.py:87: FutureWarning: Function get_feature_names is deprecated; get_feature_names is deprecated in 1.0 and will be removed in 1.2. Please use get_feature_names_out instead.\n",
            "  warnings.warn(msg, category=FutureWarning)\n"
          ]
        }
      ]
    },
    {
      "cell_type": "code",
      "metadata": {
        "id": "KcYDR3tCXrNZ"
      },
      "source": [
        "tags=filtered['Assignment group'].value_counts().index.tolist()"
      ],
      "execution_count": 60,
      "outputs": []
    },
    {
      "cell_type": "code",
      "metadata": {
        "colab": {
          "base_uri": "https://localhost:8080/"
        },
        "id": "q7hKTfusKR5s",
        "outputId": "d9f3bc06-0a20-4f40-8bf7-8e83b56344d6"
      },
      "source": [
        "tags"
      ],
      "execution_count": 61,
      "outputs": [
        {
          "output_type": "execute_result",
          "data": {
            "text/plain": [
              "['GRP_0',\n",
              " 'GRP_8',\n",
              " 'GRP_24',\n",
              " 'GRP_12',\n",
              " 'GRP_2',\n",
              " 'GRP_19',\n",
              " 'GRP_3',\n",
              " 'GRP_13',\n",
              " 'GRP_14',\n",
              " 'GRP_25',\n",
              " 'GRP_33']"
            ]
          },
          "metadata": {},
          "execution_count": 61
        }
      ]
    },
    {
      "cell_type": "code",
      "metadata": {
        "id": "lC5xqLXdU-A_"
      },
      "source": [
        "from  sklearn.model_selection import train_test_split"
      ],
      "execution_count": 20,
      "outputs": []
    },
    {
      "cell_type": "code",
      "metadata": {
        "id": "ajawDCMvSYPD"
      },
      "source": [
        "# performing train test split\n",
        "X=filtered['desc_analysis']\n",
        "y=filtered['GroupID']\n",
        "X_train,X_test,Y_train,Y_test=train_test_split(X,y,random_state=32, test_size=0.33, stratify=y )"
      ],
      "execution_count": 53,
      "outputs": []
    },
    {
      "cell_type": "code",
      "metadata": {
        "colab": {
          "base_uri": "https://localhost:8080/"
        },
        "id": "GEkHe3top-hC",
        "outputId": "753f713d-2ee8-4fdd-a0be-461de16ddf61"
      },
      "source": [
        "Y_test.value_counts()"
      ],
      "execution_count": 54,
      "outputs": [
        {
          "output_type": "execute_result",
          "data": {
            "text/plain": [
              "0     1044\n",
              "2      104\n",
              "8       92\n",
              "3       81\n",
              "7       79\n",
              "6       70\n",
              "1       66\n",
              "4       47\n",
              "5       39\n",
              "9       38\n",
              "10      35\n",
              "Name: GroupID, dtype: int64"
            ]
          },
          "metadata": {},
          "execution_count": 54
        }
      ]
    },
    {
      "cell_type": "code",
      "metadata": {
        "id": "JzcrN1G2XCDN"
      },
      "source": [
        "from sklearn.naive_bayes import MultinomialNB\n",
        "from sklearn.pipeline import Pipeline\n",
        "from sklearn.feature_extraction.text import TfidfTransformer"
      ],
      "execution_count": 55,
      "outputs": []
    },
    {
      "cell_type": "code",
      "metadata": {
        "id": "Yx23Me0ESrA0"
      },
      "source": [
        "nb=Pipeline([('count',CountVectorizer()),('tfidf',TfidfTransformer()),('clf',MultinomialNB()) ])"
      ],
      "execution_count": 56,
      "outputs": []
    },
    {
      "cell_type": "code",
      "metadata": {
        "colab": {
          "base_uri": "https://localhost:8080/"
        },
        "id": "_U21RagwWWSz",
        "outputId": "326dc6c2-b7dc-4636-e7eb-fc2bee152454"
      },
      "source": [
        "nb.fit(X_train,Y_train)"
      ],
      "execution_count": 57,
      "outputs": [
        {
          "output_type": "execute_result",
          "data": {
            "text/plain": [
              "Pipeline(steps=[('count', CountVectorizer()), ('tfidf', TfidfTransformer()),\n",
              "                ('clf', MultinomialNB())])"
            ]
          },
          "metadata": {},
          "execution_count": 57
        }
      ]
    },
    {
      "cell_type": "code",
      "metadata": {
        "colab": {
          "base_uri": "https://localhost:8080/"
        },
        "id": "Oq-hybXyWZkU",
        "outputId": "970718f1-0b98-4424-869b-b335eae811e0"
      },
      "source": [
        "from sklearn.metrics import classification_report\n",
        "\n",
        "y_pred=nb.predict(X_test)\n",
        "print('Accuracy :',accuracy_score(y_pred,Y_test))\n",
        "print(classification_report(y_pred,Y_test,target_names=tags))"
      ],
      "execution_count": 62,
      "outputs": [
        {
          "output_type": "stream",
          "name": "stdout",
          "text": [
            "Accuracy : 0.7008849557522124\n",
            "              precision    recall  f1-score   support\n",
            "\n",
            "       GRP_0       1.00      0.68      0.81      1541\n",
            "       GRP_8       0.00      0.00      0.00         0\n",
            "      GRP_24       0.72      0.97      0.83        77\n",
            "      GRP_12       0.20      0.80      0.32        20\n",
            "       GRP_2       0.00      0.00      0.00         0\n",
            "      GRP_19       0.00      0.00      0.00         0\n",
            "       GRP_3       0.00      0.00      0.00         0\n",
            "      GRP_13       0.11      0.75      0.20        12\n",
            "      GRP_14       0.48      0.98      0.64        45\n",
            "      GRP_25       0.00      0.00      0.00         0\n",
            "      GRP_33       0.00      0.00      0.00         0\n",
            "\n",
            "    accuracy                           0.70      1695\n",
            "   macro avg       0.23      0.38      0.25      1695\n",
            "weighted avg       0.96      0.70      0.79      1695\n",
            "\n"
          ]
        },
        {
          "output_type": "stream",
          "name": "stderr",
          "text": [
            "/usr/local/lib/python3.7/dist-packages/sklearn/metrics/_classification.py:1308: UndefinedMetricWarning: Recall and F-score are ill-defined and being set to 0.0 in labels with no true samples. Use `zero_division` parameter to control this behavior.\n",
            "  _warn_prf(average, modifier, msg_start, len(result))\n",
            "/usr/local/lib/python3.7/dist-packages/sklearn/metrics/_classification.py:1308: UndefinedMetricWarning: Recall and F-score are ill-defined and being set to 0.0 in labels with no true samples. Use `zero_division` parameter to control this behavior.\n",
            "  _warn_prf(average, modifier, msg_start, len(result))\n",
            "/usr/local/lib/python3.7/dist-packages/sklearn/metrics/_classification.py:1308: UndefinedMetricWarning: Recall and F-score are ill-defined and being set to 0.0 in labels with no true samples. Use `zero_division` parameter to control this behavior.\n",
            "  _warn_prf(average, modifier, msg_start, len(result))\n"
          ]
        }
      ]
    },
    {
      "cell_type": "markdown",
      "metadata": {
        "id": "5Ka8818vOI2Z"
      },
      "source": [
        "SGDClassifier Model"
      ]
    },
    {
      "cell_type": "code",
      "metadata": {
        "id": "6KeT-7o-Wl-S",
        "colab": {
          "base_uri": "https://localhost:8080/"
        },
        "outputId": "13871753-7151-467b-fcb2-a0b0a90ad119"
      },
      "source": [
        "from sklearn.linear_model import SGDClassifier\n",
        "\n",
        "sgd= Pipeline([('count',CountVectorizer()),('tfidf',TfidfTransformer()),\n",
        "  ('',SGDClassifier(loss='hinge', penalty='l2',alpha=1e-3, random_state=42, max_iter=5, tol=None))])\n",
        "\n",
        "sgd.fit(X_train,Y_train)\n",
        "y_pred=sgd.predict(X_test)\n",
        "\n",
        "print('Accuracy :',accuracy_score(y_pred,Y_test))\n",
        "print(classification_report(y_pred,Y_test,target_names=tags))"
      ],
      "execution_count": 65,
      "outputs": [
        {
          "output_type": "stream",
          "name": "stdout",
          "text": [
            "Accuracy : 0.759882005899705\n",
            "              precision    recall  f1-score   support\n",
            "\n",
            "       GRP_0       0.99      0.74      0.85      1405\n",
            "       GRP_8       0.09      0.67      0.16         9\n",
            "      GRP_24       0.89      0.92      0.91       101\n",
            "      GRP_12       0.31      0.78      0.44        32\n",
            "       GRP_2       0.32      1.00      0.48        15\n",
            "      GRP_19       0.18      0.88      0.30         8\n",
            "       GRP_3       0.04      0.60      0.08         5\n",
            "      GRP_13       0.32      0.78      0.45        32\n",
            "      GRP_14       0.78      0.89      0.83        81\n",
            "      GRP_25       0.08      1.00      0.15         3\n",
            "      GRP_33       0.09      0.75      0.15         4\n",
            "\n",
            "    accuracy                           0.76      1695\n",
            "   macro avg       0.37      0.82      0.44      1695\n",
            "weighted avg       0.93      0.76      0.82      1695\n",
            "\n"
          ]
        }
      ]
    },
    {
      "cell_type": "markdown",
      "metadata": {
        "id": "Aoe1WEF2TQk7"
      },
      "source": [
        "Logistic regression"
      ]
    },
    {
      "cell_type": "code",
      "metadata": {
        "id": "Uq4YJIaiTP1U"
      },
      "source": [
        "from sklearn.linear_model import LogisticRegression\n",
        "\n"
      ],
      "execution_count": 66,
      "outputs": []
    },
    {
      "cell_type": "code",
      "metadata": {
        "colab": {
          "base_uri": "https://localhost:8080/"
        },
        "id": "L0cAtH-YPgYs",
        "outputId": "fbeb5f23-08d9-486d-a4ca-4cf4f439b3c2"
      },
      "source": [
        "lgr=Pipeline([('count',CountVectorizer()),('tfidf',TfidfTransformer()),\n",
        "              ('lgr',LogisticRegression(n_jobs=1,C=1e5) )])\n",
        "\n",
        "lgr.fit(X_train,Y_train)\n",
        "\n",
        "y_pred=lgr.predict(X_test)\n",
        "\n",
        "print('Accuracy :',accuracy_score(y_pred,Y_test))\n",
        "print(classification_report(y_pred,Y_test,target_names=tags))"
      ],
      "execution_count": 70,
      "outputs": [
        {
          "output_type": "stream",
          "name": "stdout",
          "text": [
            "Accuracy : 0.7628318584070797\n",
            "              precision    recall  f1-score   support\n",
            "\n",
            "       GRP_0       0.89      0.82      0.85      1139\n",
            "       GRP_8       0.39      0.54      0.46        48\n",
            "      GRP_24       0.84      0.82      0.83       106\n",
            "      GRP_12       0.43      0.57      0.49        61\n",
            "       GRP_2       0.68      0.74      0.71        43\n",
            "      GRP_19       0.31      0.67      0.42        18\n",
            "       GRP_3       0.36      0.36      0.36        70\n",
            "      GRP_13       0.46      0.46      0.46        79\n",
            "      GRP_14       0.85      0.92      0.88        85\n",
            "      GRP_25       0.47      0.78      0.59        23\n",
            "      GRP_33       0.34      0.52      0.41        23\n",
            "\n",
            "    accuracy                           0.76      1695\n",
            "   macro avg       0.55      0.65      0.59      1695\n",
            "weighted avg       0.79      0.76      0.77      1695\n",
            "\n"
          ]
        },
        {
          "output_type": "stream",
          "name": "stderr",
          "text": [
            "/usr/local/lib/python3.7/dist-packages/sklearn/linear_model/_logistic.py:818: ConvergenceWarning: lbfgs failed to converge (status=1):\n",
            "STOP: TOTAL NO. of ITERATIONS REACHED LIMIT.\n",
            "\n",
            "Increase the number of iterations (max_iter) or scale the data as shown in:\n",
            "    https://scikit-learn.org/stable/modules/preprocessing.html\n",
            "Please also refer to the documentation for alternative solver options:\n",
            "    https://scikit-learn.org/stable/modules/linear_model.html#logistic-regression\n",
            "  extra_warning_msg=_LOGISTIC_SOLVER_CONVERGENCE_MSG,\n"
          ]
        }
      ]
    },
    {
      "cell_type": "code",
      "metadata": {
        "id": "PzuiQY-lUUTm"
      },
      "source": [
        ""
      ],
      "execution_count": null,
      "outputs": []
    }
  ]
}