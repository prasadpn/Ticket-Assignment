{
  "nbformat": 4,
  "nbformat_minor": 0,
  "metadata": {
    "colab": {
      "name": "AutomaticTicketAssignment.ipynb",
      "provenance": [],
      "collapsed_sections": []
    },
    "kernelspec": {
      "name": "python3",
      "display_name": "Python 3"
    },
    "language_info": {
      "name": "python"
    }
  },
  "cells": [
    {
      "cell_type": "code",
      "metadata": {
        "colab": {
          "base_uri": "https://localhost:8080/"
        },
        "id": "1m5-I9zRHFKx",
        "outputId": "9567f0cf-015d-4f8f-867f-b04b8fe9202e"
      },
      "source": [
        "pip install ftfy"
      ],
      "execution_count": 72,
      "outputs": [
        {
          "output_type": "stream",
          "name": "stdout",
          "text": [
            "Requirement already satisfied: ftfy in /usr/local/lib/python3.7/dist-packages (6.0.3)\n",
            "Requirement already satisfied: wcwidth in /usr/local/lib/python3.7/dist-packages (from ftfy) (0.2.5)\n"
          ]
        }
      ]
    },
    {
      "cell_type": "code",
      "source": [
        "from google.colab import drive\n",
        "drive.mount('/content/drive')"
      ],
      "metadata": {
        "colab": {
          "base_uri": "https://localhost:8080/"
        },
        "id": "eAI83tb83o1G",
        "outputId": "f5fae00b-2f2d-4f92-d3da-93cc4691f392"
      },
      "execution_count": 73,
      "outputs": [
        {
          "output_type": "stream",
          "name": "stdout",
          "text": [
            "Drive already mounted at /content/drive; to attempt to forcibly remount, call drive.mount(\"/content/drive\", force_remount=True).\n"
          ]
        }
      ]
    },
    {
      "cell_type": "code",
      "metadata": {
        "colab": {
          "base_uri": "https://localhost:8080/"
        },
        "id": "bwtmA2_2rLzt",
        "outputId": "3c5890ed-9e52-4c77-f0b3-553d2e880cbb"
      },
      "source": [
        "pip install textblob"
      ],
      "execution_count": 74,
      "outputs": [
        {
          "output_type": "stream",
          "name": "stdout",
          "text": [
            "Requirement already satisfied: textblob in /usr/local/lib/python3.7/dist-packages (0.15.3)\n",
            "Requirement already satisfied: nltk>=3.1 in /usr/local/lib/python3.7/dist-packages (from textblob) (3.2.5)\n",
            "Requirement already satisfied: six in /usr/local/lib/python3.7/dist-packages (from nltk>=3.1->textblob) (1.15.0)\n"
          ]
        }
      ]
    },
    {
      "cell_type": "code",
      "metadata": {
        "colab": {
          "base_uri": "https://localhost:8080/"
        },
        "id": "or23eOE6rMI4",
        "outputId": "7f8f23aa-70dc-41cb-cd40-b90ee7435385"
      },
      "source": [
        "pip install langdetect"
      ],
      "execution_count": 75,
      "outputs": [
        {
          "output_type": "stream",
          "name": "stdout",
          "text": [
            "Requirement already satisfied: langdetect in /usr/local/lib/python3.7/dist-packages (1.0.9)\n",
            "Requirement already satisfied: six in /usr/local/lib/python3.7/dist-packages (from langdetect) (1.15.0)\n"
          ]
        }
      ]
    },
    {
      "cell_type": "code",
      "metadata": {
        "colab": {
          "base_uri": "https://localhost:8080/"
        },
        "id": "2yDn8P1MLl-K",
        "outputId": "f9f7528d-1232-4ca7-f9fd-042823303a46"
      },
      "source": [
        "pip install deep-translator"
      ],
      "execution_count": 76,
      "outputs": [
        {
          "output_type": "stream",
          "name": "stdout",
          "text": [
            "Requirement already satisfied: deep-translator in /usr/local/lib/python3.7/dist-packages (1.5.5)\n",
            "Requirement already satisfied: requests<3.0.0,>=2.23.0 in /usr/local/lib/python3.7/dist-packages (from deep-translator) (2.23.0)\n",
            "Requirement already satisfied: click<9.0.0,>=8.0.1 in /usr/local/lib/python3.7/dist-packages (from deep-translator) (8.0.3)\n",
            "Requirement already satisfied: beautifulsoup4<5.0.0,>=4.9.1 in /usr/local/lib/python3.7/dist-packages (from deep-translator) (4.10.0)\n",
            "Requirement already satisfied: soupsieve>1.2 in /usr/local/lib/python3.7/dist-packages (from beautifulsoup4<5.0.0,>=4.9.1->deep-translator) (2.3.1)\n",
            "Requirement already satisfied: importlib-metadata in /usr/local/lib/python3.7/dist-packages (from click<9.0.0,>=8.0.1->deep-translator) (4.8.2)\n",
            "Requirement already satisfied: urllib3!=1.25.0,!=1.25.1,<1.26,>=1.21.1 in /usr/local/lib/python3.7/dist-packages (from requests<3.0.0,>=2.23.0->deep-translator) (1.24.3)\n",
            "Requirement already satisfied: idna<3,>=2.5 in /usr/local/lib/python3.7/dist-packages (from requests<3.0.0,>=2.23.0->deep-translator) (2.10)\n",
            "Requirement already satisfied: certifi>=2017.4.17 in /usr/local/lib/python3.7/dist-packages (from requests<3.0.0,>=2.23.0->deep-translator) (2021.10.8)\n",
            "Requirement already satisfied: chardet<4,>=3.0.2 in /usr/local/lib/python3.7/dist-packages (from requests<3.0.0,>=2.23.0->deep-translator) (3.0.4)\n",
            "Requirement already satisfied: typing-extensions>=3.6.4 in /usr/local/lib/python3.7/dist-packages (from importlib-metadata->click<9.0.0,>=8.0.1->deep-translator) (3.10.0.2)\n",
            "Requirement already satisfied: zipp>=0.5 in /usr/local/lib/python3.7/dist-packages (from importlib-metadata->click<9.0.0,>=8.0.1->deep-translator) (3.6.0)\n"
          ]
        }
      ]
    },
    {
      "cell_type": "code",
      "metadata": {
        "colab": {
          "base_uri": "https://localhost:8080/"
        },
        "id": "1ZRYqhmehG_S",
        "outputId": "660fa1bf-b92a-4f5d-c8a3-16cb9c134855"
      },
      "source": [
        "pip install contractions"
      ],
      "execution_count": 77,
      "outputs": [
        {
          "output_type": "stream",
          "name": "stdout",
          "text": [
            "Requirement already satisfied: contractions in /usr/local/lib/python3.7/dist-packages (0.0.58)\n",
            "Requirement already satisfied: textsearch>=0.0.21 in /usr/local/lib/python3.7/dist-packages (from contractions) (0.0.21)\n",
            "Requirement already satisfied: anyascii in /usr/local/lib/python3.7/dist-packages (from textsearch>=0.0.21->contractions) (0.3.0)\n",
            "Requirement already satisfied: pyahocorasick in /usr/local/lib/python3.7/dist-packages (from textsearch>=0.0.21->contractions) (1.4.2)\n"
          ]
        }
      ]
    },
    {
      "cell_type": "code",
      "metadata": {
        "colab": {
          "base_uri": "https://localhost:8080/"
        },
        "id": "f21EcRS-nzO5",
        "outputId": "724ba0ef-f8a1-441b-f989-486159911851"
      },
      "source": [
        " pip install pyspellchecker "
      ],
      "execution_count": 78,
      "outputs": [
        {
          "output_type": "stream",
          "name": "stdout",
          "text": [
            "Requirement already satisfied: pyspellchecker in /usr/local/lib/python3.7/dist-packages (0.6.2)\n"
          ]
        }
      ]
    },
    {
      "cell_type": "code",
      "metadata": {
        "id": "O5JmebBGcUUO"
      },
      "source": [
        "import numpy as np\n",
        "import pandas as pd \n",
        "import matplotlib.pyplot as plt\n",
        "%matplotlib inline\n",
        "import seaborn as sns"
      ],
      "execution_count": 79,
      "outputs": []
    },
    {
      "cell_type": "code",
      "metadata": {
        "id": "Ab2Q_frsn6Mx"
      },
      "source": [
        "from spellchecker import SpellChecker"
      ],
      "execution_count": 80,
      "outputs": []
    },
    {
      "cell_type": "code",
      "metadata": {
        "id": "uI_K7aloJBwe"
      },
      "source": [
        "import re"
      ],
      "execution_count": 81,
      "outputs": []
    },
    {
      "cell_type": "code",
      "metadata": {
        "id": "OO_qNUbVHLf1"
      },
      "source": [
        "import ftfy"
      ],
      "execution_count": 82,
      "outputs": []
    },
    {
      "cell_type": "code",
      "metadata": {
        "id": "2tdy7UMDhQFF"
      },
      "source": [
        "import contractions"
      ],
      "execution_count": 83,
      "outputs": []
    },
    {
      "cell_type": "code",
      "metadata": {
        "id": "xBZmhMvhL7jB"
      },
      "source": [
        "from deep_translator import GoogleTranslator"
      ],
      "execution_count": 84,
      "outputs": []
    },
    {
      "cell_type": "code",
      "metadata": {
        "id": "pPTJhR9ilA2_"
      },
      "source": [
        "import string\n",
        "import nltk\n",
        "from nltk.corpus import stopwords\n",
        "from textblob import TextBlob\n",
        "from nltk.corpus import wordnet\n",
        "from nltk.stem import WordNetLemmatizer\n",
        "from nltk.tokenize import word_tokenize"
      ],
      "execution_count": 85,
      "outputs": []
    },
    {
      "cell_type": "code",
      "metadata": {
        "id": "VinyBmtrrftY"
      },
      "source": [
        "from textblob import TextBlob\n",
        "from langdetect import detect\n",
        "from langdetect import detect_langs"
      ],
      "execution_count": 86,
      "outputs": []
    },
    {
      "cell_type": "code",
      "source": [
        "from wordcloud import WordCloud"
      ],
      "metadata": {
        "id": "9PmE4atOUPc9"
      },
      "execution_count": 87,
      "outputs": []
    },
    {
      "cell_type": "code",
      "source": [
        "nltk.download('stopwords')"
      ],
      "metadata": {
        "colab": {
          "base_uri": "https://localhost:8080/"
        },
        "id": "ldGfeztsYC0b",
        "outputId": "a8479830-1c7d-4976-9fe8-0783c9ce1e54"
      },
      "execution_count": 88,
      "outputs": [
        {
          "output_type": "stream",
          "name": "stdout",
          "text": [
            "[nltk_data] Downloading package stopwords to /root/nltk_data...\n",
            "[nltk_data]   Package stopwords is already up-to-date!\n"
          ]
        },
        {
          "output_type": "execute_result",
          "data": {
            "text/plain": [
              "True"
            ]
          },
          "metadata": {},
          "execution_count": 88
        }
      ]
    },
    {
      "cell_type": "code",
      "metadata": {
        "id": "_qrQX4V1fQWX"
      },
      "source": [
        "seed = 32"
      ],
      "execution_count": 89,
      "outputs": []
    },
    {
      "cell_type": "code",
      "metadata": {
        "id": "mC5FQfaRZnyF"
      },
      "source": [
        "pd.set_option('display.max_colwidth', None)"
      ],
      "execution_count": 90,
      "outputs": []
    },
    {
      "cell_type": "code",
      "metadata": {
        "colab": {
          "base_uri": "https://localhost:8080/"
        },
        "id": "VRuVqDnafXfw",
        "outputId": "322bcd0b-513d-409a-d548-fc6bad61a719"
      },
      "source": [
        "ata_path = \"/content/drive/MyDrive/GreatLearning/Projects/NLP/input_data.xlsx\"\n",
        "print(ata_path)"
      ],
      "execution_count": 91,
      "outputs": [
        {
          "output_type": "stream",
          "name": "stdout",
          "text": [
            "/content/drive/MyDrive/GreatLearning/Projects/NLP/input_data.xlsx\n"
          ]
        }
      ]
    },
    {
      "cell_type": "code",
      "metadata": {
        "id": "oXo1BQMvN_Iv"
      },
      "source": [
        "def remove_lead_trail_space(text):\n",
        "  return text.strip()"
      ],
      "execution_count": 92,
      "outputs": []
    },
    {
      "cell_type": "code",
      "metadata": {
        "id": "F1u0Pb-VOCbv"
      },
      "source": [
        "def convert_to_lowercase(text):\n",
        "  return text.lower()"
      ],
      "execution_count": 93,
      "outputs": []
    },
    {
      "cell_type": "code",
      "metadata": {
        "id": "rWyNrEJ4OCh6"
      },
      "source": [
        "def remove_punctuation(text):\n",
        "    PUNCT_TO_REMOVE = string.punctuation\n",
        "    return text.translate(str.maketrans('', '', PUNCT_TO_REMOVE))"
      ],
      "execution_count": 94,
      "outputs": []
    },
    {
      "cell_type": "code",
      "metadata": {
        "id": "XD47v7W8OCny"
      },
      "source": [
        "def remove_digits(text):\n",
        "  digits_rem = ''.join((x for x in text if not x.isdigit()))\n",
        "  return digits_rem"
      ],
      "execution_count": 95,
      "outputs": []
    },
    {
      "cell_type": "code",
      "metadata": {
        "id": "kYKZDbQIOI7e"
      },
      "source": [
        "def remove_stopwords(text):\n",
        "    STOPWORDS = set(stopwords.words('english'))\n",
        "    return \" \".join([word for word in str(text).split() if word not in STOPWORDS])"
      ],
      "execution_count": 96,
      "outputs": []
    },
    {
      "cell_type": "code",
      "metadata": {
        "id": "MDS3BGdsOI_U"
      },
      "source": [
        "def lemmetize_text(text):\n",
        "  lemmatizer = WordNetLemmatizer()\n",
        "  word_list = nltk.word_tokenize(text)\n",
        "  lemmatized_output = ' '.join([lemmatizer.lemmatize(word) for word in word_list])\n",
        "  return lemmatized_output"
      ],
      "execution_count": 97,
      "outputs": []
    },
    {
      "cell_type": "code",
      "metadata": {
        "id": "aCjGTC5PjnWJ"
      },
      "source": [
        "def clean_mojibake(text):\n",
        "  cleaned_mojibake = ftfy.fix_text(text)\n",
        "  return cleaned_mojibake"
      ],
      "execution_count": 98,
      "outputs": []
    },
    {
      "cell_type": "code",
      "metadata": {
        "id": "ly85KgkMj-Ol"
      },
      "source": [
        "def translate_to_english(text):\n",
        "  translated_text = text\n",
        "  if len(text)>0:\n",
        "    if (detect(text) != 'en'):\n",
        "      translated_text = GoogleTranslator(source='auto', target='english').translate(text)\n",
        "  return translated_text"
      ],
      "execution_count": 99,
      "outputs": []
    },
    {
      "cell_type": "code",
      "metadata": {
        "id": "J5P93CL6HpIz"
      },
      "source": [
        "def remove_linebreaks(text):\n",
        "  text = text.replace(\"\\r\",\" \")\n",
        "  text = text.replace(\"\\n\",\" \")\n",
        "  text = text.replace(\"\\t\",\" \")\n",
        "  return text"
      ],
      "execution_count": 100,
      "outputs": []
    },
    {
      "cell_type": "code",
      "metadata": {
        "id": "9nVKp1yEVE_U"
      },
      "source": [
        "def extract_received_from_mail(text):\n",
        "  return_text = \"\"\n",
        "  match = re.search(r'received from: [\\w\\.-]+@[\\w\\.-]+', text)\n",
        "  if bool(match):\n",
        "    mail_match = re.search(r'[\\w\\.-]+@[\\w\\.-]+', match.group(0))\n",
        "    return_text = mail_match.group(0)\n",
        "  else:\n",
        "    return_text = \"No Match\"\n",
        "  return return_text"
      ],
      "execution_count": 101,
      "outputs": []
    },
    {
      "cell_type": "code",
      "metadata": {
        "id": "ZfI8CZD2yLGZ"
      },
      "source": [
        "def extract_subject_from_mail(text):\n",
        "  return_subject = \"\"\n",
        "  match_subject = re.search(r'subject:.*[\\r\\n\\t\\f\\v]', text)\n",
        "  if bool(match_subject):\n",
        "    return_subject = match_subject.group(0).replace('subject:',\"\")\n",
        "    return_subject = remove_linebreaks(return_subject)\n",
        "    return_subject = remove_lead_trail_space(return_subject)\n",
        "  else:\n",
        "    return_subject = \"No Match\"\n",
        "  return return_subject"
      ],
      "execution_count": 102,
      "outputs": []
    },
    {
      "cell_type": "code",
      "metadata": {
        "id": "inYR3fZ4bhRK"
      },
      "source": [
        "def remove_received_from_mail(text):\n",
        "  match = re.search(r'received from: [\\w\\.-]+@[\\w\\.-]+', text)\n",
        "  if bool(match):\n",
        "    text = text.replace(match.group(0),\"\")\n",
        "  return text"
      ],
      "execution_count": 103,
      "outputs": []
    },
    {
      "cell_type": "code",
      "metadata": {
        "id": "PR7NliVXV7LQ"
      },
      "source": [
        "def remove_email(text):\n",
        "  matched_emails = re.findall('\\S+@\\S+', text)\n",
        "\n",
        "  for email in matched_emails:\n",
        "    text = text.replace(email,\"\")\n",
        "  return text"
      ],
      "execution_count": 104,
      "outputs": []
    },
    {
      "cell_type": "code",
      "metadata": {
        "id": "73AaBvuZJchh"
      },
      "source": [
        "def removed_from_to_sent_date(text):\n",
        "  ## Removes the occurances of \n",
        "  ## from: till any of the line breaks\n",
        "  ## to: till any of the line breaks\n",
        "  ## sent: till any of the line breaks\n",
        "  ## date: till any of the line breaks\n",
        "  ## cc: till any of the line breaks\n",
        "  ## subject: till any of the line breaks\n",
        "  ## importance: till any of the line breaks\n",
        "\n",
        "  \n",
        "  match_mailto = re.findall(r'<mailto:.*>', text)\n",
        "  match_from = re.findall(r'from:.*[\\r\\n]', text)\n",
        "  match_to = re.findall(r'to:.*[\\r\\n]', text)\n",
        "  match_sent = re.findall(r'sent:.*[\\r\\n]', text) \n",
        "  match_date = re.findall(r'date:.*[\\r\\n]', text)\n",
        "  match_cc = re.findall(r'cc:.*[\\r\\n]', text)\n",
        "  match_subject = re.findall(r'subject:.*[\\r\\n]', text)\n",
        "  match_importance = re.findall(r'importance:.*[\\r\\n]', text)\n",
        "  match_first_name = re.findall(r'first name.*[\\r\\n]', text)\n",
        "  match_last_name = re.findall(r'last name.*[\\r\\n]', text)\n",
        "  match_user_name_space = re.findall(r'user name:.*[\\r\\n]', text)\n",
        "  match_user_name = re.findall(r'username:.*[\\r\\n]', text)\n",
        "  match_name = re.findall(r'name:.*[\\r\\n]', text)\n",
        "  match_language = re.findall(r'language:.*[\\r\\n]', text)\n",
        "  match_browser = re.findall(r'browser:.*[\\r\\n]', text)\n",
        "  match_mail_id = re.findall(r'mail id:.*[\\r\\n]', text)\n",
        "  match_email_address = re.findall(r'email address:.*[\\r\\n]', text)\n",
        "  match_email = re.findall(r'email:.*[\\r\\n]', text)\n",
        "  match_customernumber = re.findall(r'customer number:.*[\\r\\n]', text)\n",
        "  match_customerjobtitle = re.findall(r'customer job title:.*[\\r\\n]', text)\n",
        "  match_telephone = re.findall(r'telephone:.*[\\r\\n]', text)\n",
        "  match_contact = re.findall(r'contact #:.*[\\r\\n]', text)\n",
        "  match_vit_ref_num = re.findall(r'vitalyst reference number:.*[\\r\\n]', text)\n",
        "  match_supervisor = re.findall(r'supervisor:.*[\\r\\n]', text)\n",
        "  match_manager = re.findall(r'manager.*[\\r\\n]', text)\n",
        "  match_i_number = re.findall(r'i number:.*[\\r\\n]', text)\n",
        "  match_cost_center = re.findall(r'cost center.*[\\r\\n]', text)\n",
        "  match_ext_comp = re.findall(r'external company name.*[\\r\\n]', text)\n",
        "  match_emp_id = re.findall(r'emp id:.*[\\r\\n]', text)\n",
        "  match_emb_image = re.findall(r'\\[cid:image.*\\]', text)\n",
        "  match_begin_fwd_msg = re.findall(r'begin forwarded message:', text)\n",
        "  match_sent_from_iphone = re.findall(r'(sent from my iphone|sent from my ipad)', text)\n",
        "  match_sir_madam = re.findall(r'(sir or madam,|sir/mam,|sir,)', text)\n",
        "  match_yes_no_na_option = re.findall(r'(\\(yes/no/na\\))', text)\n",
        "  match_summary = re.findall(r'summary:', text)\n",
        "\n",
        "  all_matches = match_mailto + match_from + match_to + match_sent + match_date + match_cc + match_subject + match_importance + match_first_name + match_last_name + match_user_name_space + match_user_name + match_name + match_language + match_browser + match_mail_id + match_email_address + match_email + match_customernumber + match_telephone + match_summary + match_customerjobtitle + match_contact + match_vit_ref_num + match_supervisor + match_manager + match_i_number + match_cost_center + match_ext_comp + match_emp_id + match_emb_image + match_begin_fwd_msg + match_sent_from_iphone + match_sir_madam + match_yes_no_na_option\n",
        "\n",
        "  for matched_text in all_matches:\n",
        "    text = text.replace(matched_text, \"\")\n",
        "\n",
        "  return text"
      ],
      "execution_count": 105,
      "outputs": []
    },
    {
      "cell_type": "code",
      "metadata": {
        "id": "WwJ3x34erktZ"
      },
      "source": [
        "def remove_greetings(text):\n",
        "  match_greetings = re.search(r'(^|\\s)(good day|good afternoon|good morning|good evening)(,|\\s|!|.|:)', text)\n",
        "  if bool(match_greetings):\n",
        "    text = text.replace(match_greetings.group(0),\"\")\n",
        "  return text"
      ],
      "execution_count": 106,
      "outputs": []
    },
    {
      "cell_type": "code",
      "metadata": {
        "id": "Z-HVm9Zt1q75"
      },
      "source": [
        "def remove_best_wishes(text):\n",
        "  match_bestwishes = re.search(r'(with best|best|with kind|kind|many|with warm|warm)$', text)\n",
        "  if bool(match_bestwishes):\n",
        "    text = text.replace(match_bestwishes.group(0),\"\")\n",
        "  return text"
      ],
      "execution_count": 107,
      "outputs": []
    },
    {
      "cell_type": "code",
      "metadata": {
        "id": "8QvGpz7i98CB"
      },
      "source": [
        "def remove_hello_wishes(text):\n",
        "  match_hellowishes = re.search(r'(hello i.t. team|hello help-team|hello support team|hello help-team|hello it-team|hello ladies and gentlemen|hello  it helper|hellow|hello it support|hello all|hello colleagues|hi there|hello it team|hello sir|hello it service|hello it|hello helpdesk|hello team|hello all|hello it desk|hello  it helper|hello dac|hello|gentles|it team|dear all|dear it|dear|hallo|all groups|it help|team)(,|\\s|!|.|:|;|<|~)', text)\n",
        "  if bool(match_hellowishes):\n",
        "    text = text.replace(match_hellowishes.group(0),\"\")\n",
        "  return text"
      ],
      "execution_count": 108,
      "outputs": []
    },
    {
      "cell_type": "code",
      "metadata": {
        "id": "mszVQ12SIWxm"
      },
      "source": [
        "def remove_hi(text):\n",
        "  match_hi = re.search(r'(hi it|hi team|hi it experts|hi)(,|\\s|!|.|:)', text)\n",
        "  if bool(match_hi):\n",
        "    text = text.replace(match_hi.group(0),\"\")\n",
        "  return text          "
      ],
      "execution_count": 109,
      "outputs": []
    },
    {
      "cell_type": "code",
      "metadata": {
        "id": "7mJE3sVB59fO"
      },
      "source": [
        "def remove_thanking(text):\n",
        "  match_thanking = re.search(r'(thanking you|thanking u|thank u|thank you|thanks)(,|.|/s|$)', text)\n",
        "  if bool(match_thanking):\n",
        "    text = text.replace(match_thanking.group(0),\"\")\n",
        "  return text"
      ],
      "execution_count": 110,
      "outputs": []
    },
    {
      "cell_type": "code",
      "source": [
        "def expand_pls(text):\n",
        "  match_pls = re.search(r'(pls)(\\s|.)', text)\n",
        "  if bool(match_pls):\n",
        "    text = text.replace(match_pls.group(0),\"\")\n",
        "  return text"
      ],
      "metadata": {
        "id": "MugCNApeJafd"
      },
      "execution_count": 111,
      "outputs": []
    },
    {
      "cell_type": "code",
      "source": [
        "def remove_please(text):\n",
        "  match_help = re.search(r'please help to', text)\n",
        "  if bool(match_help):\n",
        "    text = text.replace(match_help.group(0),\"\")\n",
        "  return text"
      ],
      "metadata": {
        "id": "REC1_VvvGiAT"
      },
      "execution_count": 112,
      "outputs": []
    },
    {
      "cell_type": "code",
      "metadata": {
        "id": "SHZyNlX_h5Qz"
      },
      "source": [
        "def fix_contractions(text):\n",
        "  fixed_contractions = contractions.fix(text)\n",
        "  return fixed_contractions"
      ],
      "execution_count": 113,
      "outputs": []
    },
    {
      "cell_type": "code",
      "metadata": {
        "id": "P5EVl-AuOJBE"
      },
      "source": [
        "def preprocess_text_part1(text):\n",
        "  text = clean_mojibake(text)\n",
        "  text = convert_to_lowercase(text)\n",
        "  return text"
      ],
      "execution_count": 114,
      "outputs": []
    },
    {
      "cell_type": "code",
      "metadata": {
        "id": "mTlp8UkxOJDd"
      },
      "source": [
        "def preprocess_text_part2(text):\n",
        "  text = remove_received_from_mail(text)\n",
        "  text = remove_email(text)\n",
        "  text = removed_from_to_sent_date(text)\n",
        "  text = remove_linebreaks(text)\n",
        "  text = remove_lead_trail_space(text)\n",
        "  #text = remove_punctuation(text) \n",
        "  text = remove_digits(text)\n",
        "  text = remove_greetings(text)\n",
        "  text = remove_best_wishes(text)\n",
        "  text = remove_hello_wishes(text)\n",
        "  text = translate_to_english(text)\n",
        "  #text = remove_stopwords(text)\n",
        "  #text = lemmetize_text(text)\n",
        "  text = remove_hello_wishes(text)\n",
        "  text = remove_lead_trail_space(text)\n",
        "  text = remove_hi(text)\n",
        "  text = remove_thanking(text)\n",
        "  text = expand_pls(text)\n",
        "  text = remove_please(text)\n",
        "  text = fix_contractions(text)\n",
        "  text = remove_lead_trail_space(text)\n",
        "  return text"
      ],
      "execution_count": 115,
      "outputs": []
    },
    {
      "cell_type": "code",
      "metadata": {
        "id": "febtX6TYfgqE"
      },
      "source": [
        "\n",
        "ata_data = pd.read_excel(ata_path) "
      ],
      "execution_count": 116,
      "outputs": []
    },
    {
      "cell_type": "code",
      "metadata": {
        "colab": {
          "base_uri": "https://localhost:8080/",
          "height": 306
        },
        "id": "IK1YlL23gBU7",
        "outputId": "6edde5ba-275e-470f-e5e8-61703f3bc78c"
      },
      "source": [
        "ata_data.head()"
      ],
      "execution_count": 117,
      "outputs": [
        {
          "output_type": "execute_result",
          "data": {
            "text/html": [
              "<div>\n",
              "<style scoped>\n",
              "    .dataframe tbody tr th:only-of-type {\n",
              "        vertical-align: middle;\n",
              "    }\n",
              "\n",
              "    .dataframe tbody tr th {\n",
              "        vertical-align: top;\n",
              "    }\n",
              "\n",
              "    .dataframe thead th {\n",
              "        text-align: right;\n",
              "    }\n",
              "</style>\n",
              "<table border=\"1\" class=\"dataframe\">\n",
              "  <thead>\n",
              "    <tr style=\"text-align: right;\">\n",
              "      <th></th>\n",
              "      <th>Short description</th>\n",
              "      <th>Description</th>\n",
              "      <th>Caller</th>\n",
              "      <th>Assignment group</th>\n",
              "    </tr>\n",
              "  </thead>\n",
              "  <tbody>\n",
              "    <tr>\n",
              "      <th>0</th>\n",
              "      <td>login issue</td>\n",
              "      <td>-verified user details.(employee# &amp; manager name)\\r\\n-checked the user name in ad and reset the password.\\r\\n-advised the user to login and check.\\r\\n-caller confirmed that he was able to login.\\r\\n-issue resolved.</td>\n",
              "      <td>spxjnwir pjlcoqds</td>\n",
              "      <td>GRP_0</td>\n",
              "    </tr>\n",
              "    <tr>\n",
              "      <th>1</th>\n",
              "      <td>outlook</td>\n",
              "      <td>\\r\\n\\r\\nreceived from: hmjdrvpb.komuaywn@gmail.com\\r\\n\\r\\nhello team,\\r\\n\\r\\nmy meetings/skype meetings etc are not appearing in my outlook calendar, can somebody please advise how to correct this?\\r\\n\\r\\nkind</td>\n",
              "      <td>hmjdrvpb komuaywn</td>\n",
              "      <td>GRP_0</td>\n",
              "    </tr>\n",
              "    <tr>\n",
              "      <th>2</th>\n",
              "      <td>cant log in to vpn</td>\n",
              "      <td>\\r\\n\\r\\nreceived from: eylqgodm.ybqkwiam@gmail.com\\r\\n\\r\\nhi\\r\\n\\r\\ni cannot log on to vpn\\r\\n\\r\\nbest</td>\n",
              "      <td>eylqgodm ybqkwiam</td>\n",
              "      <td>GRP_0</td>\n",
              "    </tr>\n",
              "    <tr>\n",
              "      <th>3</th>\n",
              "      <td>unable to access hr_tool page</td>\n",
              "      <td>unable to access hr_tool page</td>\n",
              "      <td>xbkucsvz gcpydteq</td>\n",
              "      <td>GRP_0</td>\n",
              "    </tr>\n",
              "    <tr>\n",
              "      <th>4</th>\n",
              "      <td>skype error</td>\n",
              "      <td>skype error</td>\n",
              "      <td>owlgqjme qhcozdfx</td>\n",
              "      <td>GRP_0</td>\n",
              "    </tr>\n",
              "  </tbody>\n",
              "</table>\n",
              "</div>"
            ],
            "text/plain": [
              "               Short description  ... Assignment group\n",
              "0                    login issue  ...            GRP_0\n",
              "1                        outlook  ...            GRP_0\n",
              "2             cant log in to vpn  ...            GRP_0\n",
              "3  unable to access hr_tool page  ...            GRP_0\n",
              "4                   skype error   ...            GRP_0\n",
              "\n",
              "[5 rows x 4 columns]"
            ]
          },
          "metadata": {},
          "execution_count": 117
        }
      ]
    },
    {
      "cell_type": "code",
      "metadata": {
        "colab": {
          "base_uri": "https://localhost:8080/",
          "height": 306
        },
        "id": "1phX7B35gDW0",
        "outputId": "af89f4b1-d8f7-420e-ac79-79aa50256538"
      },
      "source": [
        "ata_data.tail()"
      ],
      "execution_count": 118,
      "outputs": [
        {
          "output_type": "execute_result",
          "data": {
            "text/html": [
              "<div>\n",
              "<style scoped>\n",
              "    .dataframe tbody tr th:only-of-type {\n",
              "        vertical-align: middle;\n",
              "    }\n",
              "\n",
              "    .dataframe tbody tr th {\n",
              "        vertical-align: top;\n",
              "    }\n",
              "\n",
              "    .dataframe thead th {\n",
              "        text-align: right;\n",
              "    }\n",
              "</style>\n",
              "<table border=\"1\" class=\"dataframe\">\n",
              "  <thead>\n",
              "    <tr style=\"text-align: right;\">\n",
              "      <th></th>\n",
              "      <th>Short description</th>\n",
              "      <th>Description</th>\n",
              "      <th>Caller</th>\n",
              "      <th>Assignment group</th>\n",
              "    </tr>\n",
              "  </thead>\n",
              "  <tbody>\n",
              "    <tr>\n",
              "      <th>8495</th>\n",
              "      <td>emails not coming in from zz mail</td>\n",
              "      <td>\\r\\n\\r\\nreceived from: avglmrts.vhqmtiua@gmail.com\\r\\n\\r\\ngood afternoon,\\r\\ni am not receiving the emails that i sent from zz mail.\\r\\nplease advise\\r\\n\\r\\n</td>\n",
              "      <td>avglmrts vhqmtiua</td>\n",
              "      <td>GRP_29</td>\n",
              "    </tr>\n",
              "    <tr>\n",
              "      <th>8496</th>\n",
              "      <td>telephony_software issue</td>\n",
              "      <td>telephony_software issue</td>\n",
              "      <td>rbozivdq gmlhrtvp</td>\n",
              "      <td>GRP_0</td>\n",
              "    </tr>\n",
              "    <tr>\n",
              "      <th>8497</th>\n",
              "      <td>vip2: windows password reset for tifpdchb pedxruyf</td>\n",
              "      <td>vip2: windows password reset for tifpdchb pedxruyf</td>\n",
              "      <td>oybwdsgx oxyhwrfz</td>\n",
              "      <td>GRP_0</td>\n",
              "    </tr>\n",
              "    <tr>\n",
              "      <th>8498</th>\n",
              "      <td>machine nÃ£o estÃ¡ funcionando</td>\n",
              "      <td>i am unable to access the machine utilities to finish the drawers adjustment settings.\\r\\nis no network..</td>\n",
              "      <td>ufawcgob aowhxjky</td>\n",
              "      <td>GRP_62</td>\n",
              "    </tr>\n",
              "    <tr>\n",
              "      <th>8499</th>\n",
              "      <td>an mehreren pc`s lassen sich verschiedene prgramdntyme nicht Ã¶ffnen.</td>\n",
              "      <td>an mehreren pc`s lassen sich verschiedene prgramdntyme nicht Ã¶ffnen. bereich cnc.</td>\n",
              "      <td>kqvbrspl jyzoklfx</td>\n",
              "      <td>GRP_49</td>\n",
              "    </tr>\n",
              "  </tbody>\n",
              "</table>\n",
              "</div>"
            ],
            "text/plain": [
              "                                                           Short description  ... Assignment group\n",
              "8495                                       emails not coming in from zz mail  ...           GRP_29\n",
              "8496                                                telephony_software issue  ...            GRP_0\n",
              "8497                      vip2: windows password reset for tifpdchb pedxruyf  ...            GRP_0\n",
              "8498                                          machine nÃ£o estÃ¡ funcionando  ...           GRP_62\n",
              "8499  an mehreren pc`s lassen sich verschiedene prgramdntyme nicht Ã¶ffnen.   ...           GRP_49\n",
              "\n",
              "[5 rows x 4 columns]"
            ]
          },
          "metadata": {},
          "execution_count": 118
        }
      ]
    },
    {
      "cell_type": "code",
      "metadata": {
        "colab": {
          "base_uri": "https://localhost:8080/"
        },
        "id": "oxltLLFmgcAD",
        "outputId": "83644e72-2b28-463a-9b76-e4225dd37ff4"
      },
      "source": [
        "ata_data.shape"
      ],
      "execution_count": 119,
      "outputs": [
        {
          "output_type": "execute_result",
          "data": {
            "text/plain": [
              "(8500, 4)"
            ]
          },
          "metadata": {},
          "execution_count": 119
        }
      ]
    },
    {
      "cell_type": "code",
      "source": [
        "ata_data.info()"
      ],
      "metadata": {
        "colab": {
          "base_uri": "https://localhost:8080/"
        },
        "id": "P4RXlb9vK7v4",
        "outputId": "05e48497-19a8-4c34-8443-bbfef999ca63"
      },
      "execution_count": 120,
      "outputs": [
        {
          "output_type": "stream",
          "name": "stdout",
          "text": [
            "<class 'pandas.core.frame.DataFrame'>\n",
            "RangeIndex: 8500 entries, 0 to 8499\n",
            "Data columns (total 4 columns):\n",
            " #   Column             Non-Null Count  Dtype \n",
            "---  ------             --------------  ----- \n",
            " 0   Short description  8492 non-null   object\n",
            " 1   Description        8499 non-null   object\n",
            " 2   Caller             8500 non-null   object\n",
            " 3   Assignment group   8500 non-null   object\n",
            "dtypes: object(4)\n",
            "memory usage: 265.8+ KB\n"
          ]
        }
      ]
    },
    {
      "cell_type": "code",
      "metadata": {
        "colab": {
          "base_uri": "https://localhost:8080/"
        },
        "id": "_CKaUIToZqZf",
        "outputId": "dc4f2922-f035-4575-a50a-9f5e6d6a5607"
      },
      "source": [
        "ata_data.isnull().sum()"
      ],
      "execution_count": 121,
      "outputs": [
        {
          "output_type": "execute_result",
          "data": {
            "text/plain": [
              "Short description    8\n",
              "Description          1\n",
              "Caller               0\n",
              "Assignment group     0\n",
              "dtype: int64"
            ]
          },
          "metadata": {},
          "execution_count": 121
        }
      ]
    },
    {
      "cell_type": "code",
      "source": [
        "# Finding duplicate records\n",
        "ata_data[ata_data.duplicated()]['Short description'].value_counts()"
      ],
      "metadata": {
        "colab": {
          "base_uri": "https://localhost:8080/"
        },
        "id": "tOzaG1GbilnG",
        "outputId": "6531172a-f283-4267-a3c5-f59f6534fc8d"
      },
      "execution_count": 122,
      "outputs": [
        {
          "output_type": "execute_result",
          "data": {
            "text/plain": [
              "blank call                                                                                        10\n",
              "call for ecwtrjnq jpecxuty                                                                         6\n",
              "reset passwords for bxeagsmt zrwdgsco using password_management_tool password reset.               5\n",
              "job Job_3028 failed in job_scheduler at: 08/24/2016 00:02:00                                       4\n",
              "blank call //gso                                                                                   3\n",
              "call came and got disconnected                                                                     3\n",
              "blank call // loud noise                                                                           2\n",
              "job Job_1314 failed in job_scheduler at: 08/25/2016 08:15:00                                       2\n",
              "german call                                                                                        2\n",
              "svc-now ticket found... doing nothing                                                              2\n",
              "account locked in ad                                                                               2\n",
              "blank call                                                                                         2\n",
              "probleme mit erpgui \\tmqfjard qzhgdoua                                                             2\n",
              "blank call // gso                                                                                  1\n",
              "job Job_1967d failed in job_scheduler at: 10/19/2016 00:02:00                                      1\n",
              "ç­”å¤: ç­”å¤: order products online problem                                                      1\n",
              "call disconnected due to vpn disconnection                                                         1\n",
              "reset passwords for wvdxnkhf jirecvta using password_management_tool password reset.               1\n",
              "job Job_3028 failed in job_scheduler at: 08/23/2016 00:02:00                                       1\n",
              "reset passwords for ezrsdgfc hofgvwel using password_management_tool password reset.               1\n",
              "install company barcode fÃ¼r ewew8323504 \\vzqomdgt jwoqbuml                                        1\n",
              "blank call // loud noise // gso                                                                    1\n",
              "reset passwords for davidthd robankm using password_management_tool password reset.                1\n",
              "job Job_1989 failed in job_scheduler at: 08/27/2016 11:24:00                                       1\n",
              "job SID_41arc2 failed in job_scheduler at: 08/24/2016 07:04:00                                     1\n",
              "job Job_749 failed in job_scheduler at: 08/27/2016 15:29:00                                        1\n",
              "ticket update on inplant_855239                                                                    1\n",
              "job bkbackup_tool_powder_prod_full failed in job_scheduler at: 10/22/2016 18:33:00                 1\n",
              "account unlock                                                                                     1\n",
              "ticket update on inplant_872730                                                                    1\n",
              "not able to access -inq industrial (-inq.industrial@company.com)                                   1\n",
              "job SID_38hotf failed in job_scheduler at: 09/01/2016 22:20:00                                     1\n",
              "reset passwords for prgthyuulla ramdntythanjesh using password_management_tool password reset.     1\n",
              "phone issue                                                                                        1\n",
              "job Job_549 failed in job_scheduler at: 10/07/2016 23:05:00                                        1\n",
              "job Job_3028 failed in job_scheduler at: 08/25/2016 22:02:00                                       1\n",
              "probleme mit erpgui \\vsdtxwry ngkcdjye                                                             1\n",
              "private address fields are enabled on employee master crm ui                                       1\n",
              "reset passwords for qwsjptlo hnlasbed using password_management_tool password reset.               1\n",
              "job Job_3028 failed in job_scheduler at: 08/26/2016 00:02:00                                       1\n",
              "job SID_37hoti failed in job_scheduler at: 09/13/2016 19:53:00                                     1\n",
              "job SID_31arc2 failed in job_scheduler at: 08/24/2016 06:09:00                                     1\n",
              "vpn not working- vpn.company.com  link is giving error                                             1\n",
              "unable to launch outlook                                                                           1\n",
              "job pp_EU_tool_netch_ap1 failed in job_scheduler at: 08/25/2016 16:14:00                           1\n",
              "reset passwords for mvhcoqed konjdmwq using password_management_tool password reset.               1\n",
              "reset passwords for cubdsrml znewqgop using password_management_tool password reset.               1\n",
              "job Job_2883 failed in job_scheduler at: 09/18/2016 00:02:00                                       1\n",
              "issue on pricing in distributor_tool                                                               1\n",
              "ticket update                                                                                      1\n",
              "reset passwords for fylrosuk kedgmiul using password_management_tool password reset.               1\n",
              "Name: Short description, dtype: int64"
            ]
          },
          "metadata": {},
          "execution_count": 122
        }
      ]
    },
    {
      "cell_type": "code",
      "source": [
        "# Removing duplicate records\n",
        "ata_data=ata_data.drop_duplicates()"
      ],
      "metadata": {
        "id": "npiZgMF3j2bt"
      },
      "execution_count": 123,
      "outputs": []
    },
    {
      "cell_type": "code",
      "source": [
        "ata_data.duplicated().value_counts()"
      ],
      "metadata": {
        "colab": {
          "base_uri": "https://localhost:8080/"
        },
        "id": "0TyMXHgkkDd8",
        "outputId": "4bc27d89-a4fc-46cd-b6f1-2c978975d531"
      },
      "execution_count": 124,
      "outputs": [
        {
          "output_type": "execute_result",
          "data": {
            "text/plain": [
              "False    8417\n",
              "dtype: int64"
            ]
          },
          "metadata": {},
          "execution_count": 124
        }
      ]
    },
    {
      "cell_type": "markdown",
      "metadata": {
        "id": "dXmF2vaOaSJ4"
      },
      "source": [
        "There are some null values in Short Description & Description column and putting them in a different column for analysis purpose"
      ]
    },
    {
      "cell_type": "code",
      "metadata": {
        "colab": {
          "base_uri": "https://localhost:8080/",
          "height": 450
        },
        "id": "Xo5typntafF2",
        "outputId": "214ada41-9ca4-46df-a206-99132791226a"
      },
      "source": [
        "ata_data[ata_data['Short description'].isnull()]"
      ],
      "execution_count": 125,
      "outputs": [
        {
          "output_type": "execute_result",
          "data": {
            "text/html": [
              "<div>\n",
              "<style scoped>\n",
              "    .dataframe tbody tr th:only-of-type {\n",
              "        vertical-align: middle;\n",
              "    }\n",
              "\n",
              "    .dataframe tbody tr th {\n",
              "        vertical-align: top;\n",
              "    }\n",
              "\n",
              "    .dataframe thead th {\n",
              "        text-align: right;\n",
              "    }\n",
              "</style>\n",
              "<table border=\"1\" class=\"dataframe\">\n",
              "  <thead>\n",
              "    <tr style=\"text-align: right;\">\n",
              "      <th></th>\n",
              "      <th>Short description</th>\n",
              "      <th>Description</th>\n",
              "      <th>Caller</th>\n",
              "      <th>Assignment group</th>\n",
              "    </tr>\n",
              "  </thead>\n",
              "  <tbody>\n",
              "    <tr>\n",
              "      <th>2604</th>\n",
              "      <td>NaN</td>\n",
              "      <td>\\r\\n\\r\\nreceived from: ohdrnswl.rezuibdt@gmail.com\\r\\n\\r\\nhi,\\r\\n\\r\\n\\r\\n\\r\\nlink is not working. kindly resolve yhe issue on urgent basis.\\r\\n\\r\\n\\r\\n\\r\\nbest</td>\n",
              "      <td>ohdrnswl rezuibdt</td>\n",
              "      <td>GRP_34</td>\n",
              "    </tr>\n",
              "    <tr>\n",
              "      <th>3383</th>\n",
              "      <td>NaN</td>\n",
              "      <td>\\r\\n-connected to the user system using teamviewer.\\r\\n-help the user login to the portal.\\r\\n-issue resolved.</td>\n",
              "      <td>qftpazns fxpnytmk</td>\n",
              "      <td>GRP_0</td>\n",
              "    </tr>\n",
              "    <tr>\n",
              "      <th>3906</th>\n",
              "      <td>NaN</td>\n",
              "      <td>-user unable  tologin to vpn.\\r\\n-connected to the user system using teamviewer.\\r\\n-help the user login to the company vpn using the vpn company vpn link.\\r\\n-issue resolved.</td>\n",
              "      <td>awpcmsey ctdiuqwe</td>\n",
              "      <td>GRP_0</td>\n",
              "    </tr>\n",
              "    <tr>\n",
              "      <th>3910</th>\n",
              "      <td>NaN</td>\n",
              "      <td>-user unable  tologin to vpn.\\r\\n-connected to the user system using teamviewer.\\r\\n-help the user login to the company vpn using the vpn company vpn link.\\r\\n-issue resolved.</td>\n",
              "      <td>rhwsmefo tvphyura</td>\n",
              "      <td>GRP_0</td>\n",
              "    </tr>\n",
              "    <tr>\n",
              "      <th>3915</th>\n",
              "      <td>NaN</td>\n",
              "      <td>-user unable  tologin to vpn.\\r\\n-connected to the user system using teamviewer.\\r\\n-help the user login to the company vpn using the vpn company vpn link.\\r\\n-issue resolved.</td>\n",
              "      <td>hxripljo efzounig</td>\n",
              "      <td>GRP_0</td>\n",
              "    </tr>\n",
              "    <tr>\n",
              "      <th>3921</th>\n",
              "      <td>NaN</td>\n",
              "      <td>-user unable  tologin to vpn.\\r\\n-connected to the user system using teamviewer.\\r\\n-help the user login to the company vpn using the vpn company vpn link.\\r\\n-issue resolved.</td>\n",
              "      <td>cziadygo veiosxby</td>\n",
              "      <td>GRP_0</td>\n",
              "    </tr>\n",
              "    <tr>\n",
              "      <th>3924</th>\n",
              "      <td>NaN</td>\n",
              "      <td>name:wvqgbdhm fwchqjor\\nlanguage:\\nbrowser:microsoft internet explorer\\nemail:wvqgbdhm.fwchqjor@gmail.com\\ncustomer number:\\ntelephone:-not available\\nsummary:can't get into vpn - need to be on at 4:30 est and it wont' happen please help aerp!</td>\n",
              "      <td>wvqgbdhm fwchqjor</td>\n",
              "      <td>GRP_0</td>\n",
              "    </tr>\n",
              "    <tr>\n",
              "      <th>4341</th>\n",
              "      <td>NaN</td>\n",
              "      <td>\\r\\n\\r\\nreceived from: eqmuniov.ehxkcbgj@gmail.com\\r\\n\\r\\ngood morning,\\r\\n\\r\\nwhen  trying to log on to erp i get this error below.\\r\\nplease help  urgently as i can not process customer order.\\r\\n\\r\\n[cid:image001.png@01d20f2e.751db880]\\r\\n\\r\\n\\r\\n</td>\n",
              "      <td>eqmuniov ehxkcbgj</td>\n",
              "      <td>GRP_0</td>\n",
              "    </tr>\n",
              "  </tbody>\n",
              "</table>\n",
              "</div>"
            ],
            "text/plain": [
              "     Short description  ... Assignment group\n",
              "2604               NaN  ...           GRP_34\n",
              "3383               NaN  ...            GRP_0\n",
              "3906               NaN  ...            GRP_0\n",
              "3910               NaN  ...            GRP_0\n",
              "3915               NaN  ...            GRP_0\n",
              "3921               NaN  ...            GRP_0\n",
              "3924               NaN  ...            GRP_0\n",
              "4341               NaN  ...            GRP_0\n",
              "\n",
              "[8 rows x 4 columns]"
            ]
          },
          "metadata": {},
          "execution_count": 125
        }
      ]
    },
    {
      "cell_type": "code",
      "metadata": {
        "colab": {
          "base_uri": "https://localhost:8080/",
          "height": 79
        },
        "id": "WkV0ry7xafRv",
        "outputId": "ca9017a3-1c0d-4d3f-a5e6-bfd1c3b98eac"
      },
      "source": [
        "ata_data[ata_data['Description'].isnull()]"
      ],
      "execution_count": 126,
      "outputs": [
        {
          "output_type": "execute_result",
          "data": {
            "text/html": [
              "<div>\n",
              "<style scoped>\n",
              "    .dataframe tbody tr th:only-of-type {\n",
              "        vertical-align: middle;\n",
              "    }\n",
              "\n",
              "    .dataframe tbody tr th {\n",
              "        vertical-align: top;\n",
              "    }\n",
              "\n",
              "    .dataframe thead th {\n",
              "        text-align: right;\n",
              "    }\n",
              "</style>\n",
              "<table border=\"1\" class=\"dataframe\">\n",
              "  <thead>\n",
              "    <tr style=\"text-align: right;\">\n",
              "      <th></th>\n",
              "      <th>Short description</th>\n",
              "      <th>Description</th>\n",
              "      <th>Caller</th>\n",
              "      <th>Assignment group</th>\n",
              "    </tr>\n",
              "  </thead>\n",
              "  <tbody>\n",
              "    <tr>\n",
              "      <th>4395</th>\n",
              "      <td>i am locked out of skype</td>\n",
              "      <td>NaN</td>\n",
              "      <td>viyglzfo ajtfzpkb</td>\n",
              "      <td>GRP_0</td>\n",
              "    </tr>\n",
              "  </tbody>\n",
              "</table>\n",
              "</div>"
            ],
            "text/plain": [
              "             Short description Description             Caller Assignment group\n",
              "4395  i am locked out of skype         NaN  viyglzfo ajtfzpkb            GRP_0"
            ]
          },
          "metadata": {},
          "execution_count": 126
        }
      ]
    },
    {
      "cell_type": "code",
      "metadata": {
        "colab": {
          "base_uri": "https://localhost:8080/",
          "height": 450
        },
        "id": "ExVn8EFog6a-",
        "outputId": "28f96ccb-cd3d-4595-bcf8-22851ce444e2"
      },
      "source": [
        "sd_null = ata_data[ata_data['Short description'].isnull()]\n",
        "sd_null"
      ],
      "execution_count": 127,
      "outputs": [
        {
          "output_type": "execute_result",
          "data": {
            "text/html": [
              "<div>\n",
              "<style scoped>\n",
              "    .dataframe tbody tr th:only-of-type {\n",
              "        vertical-align: middle;\n",
              "    }\n",
              "\n",
              "    .dataframe tbody tr th {\n",
              "        vertical-align: top;\n",
              "    }\n",
              "\n",
              "    .dataframe thead th {\n",
              "        text-align: right;\n",
              "    }\n",
              "</style>\n",
              "<table border=\"1\" class=\"dataframe\">\n",
              "  <thead>\n",
              "    <tr style=\"text-align: right;\">\n",
              "      <th></th>\n",
              "      <th>Short description</th>\n",
              "      <th>Description</th>\n",
              "      <th>Caller</th>\n",
              "      <th>Assignment group</th>\n",
              "    </tr>\n",
              "  </thead>\n",
              "  <tbody>\n",
              "    <tr>\n",
              "      <th>2604</th>\n",
              "      <td>NaN</td>\n",
              "      <td>\\r\\n\\r\\nreceived from: ohdrnswl.rezuibdt@gmail.com\\r\\n\\r\\nhi,\\r\\n\\r\\n\\r\\n\\r\\nlink is not working. kindly resolve yhe issue on urgent basis.\\r\\n\\r\\n\\r\\n\\r\\nbest</td>\n",
              "      <td>ohdrnswl rezuibdt</td>\n",
              "      <td>GRP_34</td>\n",
              "    </tr>\n",
              "    <tr>\n",
              "      <th>3383</th>\n",
              "      <td>NaN</td>\n",
              "      <td>\\r\\n-connected to the user system using teamviewer.\\r\\n-help the user login to the portal.\\r\\n-issue resolved.</td>\n",
              "      <td>qftpazns fxpnytmk</td>\n",
              "      <td>GRP_0</td>\n",
              "    </tr>\n",
              "    <tr>\n",
              "      <th>3906</th>\n",
              "      <td>NaN</td>\n",
              "      <td>-user unable  tologin to vpn.\\r\\n-connected to the user system using teamviewer.\\r\\n-help the user login to the company vpn using the vpn company vpn link.\\r\\n-issue resolved.</td>\n",
              "      <td>awpcmsey ctdiuqwe</td>\n",
              "      <td>GRP_0</td>\n",
              "    </tr>\n",
              "    <tr>\n",
              "      <th>3910</th>\n",
              "      <td>NaN</td>\n",
              "      <td>-user unable  tologin to vpn.\\r\\n-connected to the user system using teamviewer.\\r\\n-help the user login to the company vpn using the vpn company vpn link.\\r\\n-issue resolved.</td>\n",
              "      <td>rhwsmefo tvphyura</td>\n",
              "      <td>GRP_0</td>\n",
              "    </tr>\n",
              "    <tr>\n",
              "      <th>3915</th>\n",
              "      <td>NaN</td>\n",
              "      <td>-user unable  tologin to vpn.\\r\\n-connected to the user system using teamviewer.\\r\\n-help the user login to the company vpn using the vpn company vpn link.\\r\\n-issue resolved.</td>\n",
              "      <td>hxripljo efzounig</td>\n",
              "      <td>GRP_0</td>\n",
              "    </tr>\n",
              "    <tr>\n",
              "      <th>3921</th>\n",
              "      <td>NaN</td>\n",
              "      <td>-user unable  tologin to vpn.\\r\\n-connected to the user system using teamviewer.\\r\\n-help the user login to the company vpn using the vpn company vpn link.\\r\\n-issue resolved.</td>\n",
              "      <td>cziadygo veiosxby</td>\n",
              "      <td>GRP_0</td>\n",
              "    </tr>\n",
              "    <tr>\n",
              "      <th>3924</th>\n",
              "      <td>NaN</td>\n",
              "      <td>name:wvqgbdhm fwchqjor\\nlanguage:\\nbrowser:microsoft internet explorer\\nemail:wvqgbdhm.fwchqjor@gmail.com\\ncustomer number:\\ntelephone:-not available\\nsummary:can't get into vpn - need to be on at 4:30 est and it wont' happen please help aerp!</td>\n",
              "      <td>wvqgbdhm fwchqjor</td>\n",
              "      <td>GRP_0</td>\n",
              "    </tr>\n",
              "    <tr>\n",
              "      <th>4341</th>\n",
              "      <td>NaN</td>\n",
              "      <td>\\r\\n\\r\\nreceived from: eqmuniov.ehxkcbgj@gmail.com\\r\\n\\r\\ngood morning,\\r\\n\\r\\nwhen  trying to log on to erp i get this error below.\\r\\nplease help  urgently as i can not process customer order.\\r\\n\\r\\n[cid:image001.png@01d20f2e.751db880]\\r\\n\\r\\n\\r\\n</td>\n",
              "      <td>eqmuniov ehxkcbgj</td>\n",
              "      <td>GRP_0</td>\n",
              "    </tr>\n",
              "  </tbody>\n",
              "</table>\n",
              "</div>"
            ],
            "text/plain": [
              "     Short description  ... Assignment group\n",
              "2604               NaN  ...           GRP_34\n",
              "3383               NaN  ...            GRP_0\n",
              "3906               NaN  ...            GRP_0\n",
              "3910               NaN  ...            GRP_0\n",
              "3915               NaN  ...            GRP_0\n",
              "3921               NaN  ...            GRP_0\n",
              "3924               NaN  ...            GRP_0\n",
              "4341               NaN  ...            GRP_0\n",
              "\n",
              "[8 rows x 4 columns]"
            ]
          },
          "metadata": {},
          "execution_count": 127
        }
      ]
    },
    {
      "cell_type": "markdown",
      "metadata": {
        "id": "mYgi1a8IbGWE"
      },
      "source": [
        "Places where Short Description is null - replacing it with Description and vice versa."
      ]
    },
    {
      "cell_type": "code",
      "metadata": {
        "id": "eRF0joZpbFR7"
      },
      "source": [
        "ata_data['short_desc_analysis'] = np.where(ata_data['Short description'].isnull(), ata_data['Description'], ata_data['Short description'])\n",
        "ata_data['desc_analysis'] = np.where(ata_data['Description'].isnull(), ata_data['Short description'], ata_data['Description'])"
      ],
      "execution_count": 128,
      "outputs": []
    },
    {
      "cell_type": "code",
      "metadata": {
        "colab": {
          "base_uri": "https://localhost:8080/",
          "height": 462
        },
        "id": "RP5NTXSLZ4Zi",
        "outputId": "132d9f20-9406-4e9f-e3f6-4a676f7cad3f"
      },
      "source": [
        "ata_data.head()"
      ],
      "execution_count": 129,
      "outputs": [
        {
          "output_type": "execute_result",
          "data": {
            "text/html": [
              "<div>\n",
              "<style scoped>\n",
              "    .dataframe tbody tr th:only-of-type {\n",
              "        vertical-align: middle;\n",
              "    }\n",
              "\n",
              "    .dataframe tbody tr th {\n",
              "        vertical-align: top;\n",
              "    }\n",
              "\n",
              "    .dataframe thead th {\n",
              "        text-align: right;\n",
              "    }\n",
              "</style>\n",
              "<table border=\"1\" class=\"dataframe\">\n",
              "  <thead>\n",
              "    <tr style=\"text-align: right;\">\n",
              "      <th></th>\n",
              "      <th>Short description</th>\n",
              "      <th>Description</th>\n",
              "      <th>Caller</th>\n",
              "      <th>Assignment group</th>\n",
              "      <th>short_desc_analysis</th>\n",
              "      <th>desc_analysis</th>\n",
              "    </tr>\n",
              "  </thead>\n",
              "  <tbody>\n",
              "    <tr>\n",
              "      <th>0</th>\n",
              "      <td>login issue</td>\n",
              "      <td>-verified user details.(employee# &amp; manager name)\\r\\n-checked the user name in ad and reset the password.\\r\\n-advised the user to login and check.\\r\\n-caller confirmed that he was able to login.\\r\\n-issue resolved.</td>\n",
              "      <td>spxjnwir pjlcoqds</td>\n",
              "      <td>GRP_0</td>\n",
              "      <td>login issue</td>\n",
              "      <td>-verified user details.(employee# &amp; manager name)\\r\\n-checked the user name in ad and reset the password.\\r\\n-advised the user to login and check.\\r\\n-caller confirmed that he was able to login.\\r\\n-issue resolved.</td>\n",
              "    </tr>\n",
              "    <tr>\n",
              "      <th>1</th>\n",
              "      <td>outlook</td>\n",
              "      <td>\\r\\n\\r\\nreceived from: hmjdrvpb.komuaywn@gmail.com\\r\\n\\r\\nhello team,\\r\\n\\r\\nmy meetings/skype meetings etc are not appearing in my outlook calendar, can somebody please advise how to correct this?\\r\\n\\r\\nkind</td>\n",
              "      <td>hmjdrvpb komuaywn</td>\n",
              "      <td>GRP_0</td>\n",
              "      <td>outlook</td>\n",
              "      <td>\\r\\n\\r\\nreceived from: hmjdrvpb.komuaywn@gmail.com\\r\\n\\r\\nhello team,\\r\\n\\r\\nmy meetings/skype meetings etc are not appearing in my outlook calendar, can somebody please advise how to correct this?\\r\\n\\r\\nkind</td>\n",
              "    </tr>\n",
              "    <tr>\n",
              "      <th>2</th>\n",
              "      <td>cant log in to vpn</td>\n",
              "      <td>\\r\\n\\r\\nreceived from: eylqgodm.ybqkwiam@gmail.com\\r\\n\\r\\nhi\\r\\n\\r\\ni cannot log on to vpn\\r\\n\\r\\nbest</td>\n",
              "      <td>eylqgodm ybqkwiam</td>\n",
              "      <td>GRP_0</td>\n",
              "      <td>cant log in to vpn</td>\n",
              "      <td>\\r\\n\\r\\nreceived from: eylqgodm.ybqkwiam@gmail.com\\r\\n\\r\\nhi\\r\\n\\r\\ni cannot log on to vpn\\r\\n\\r\\nbest</td>\n",
              "    </tr>\n",
              "    <tr>\n",
              "      <th>3</th>\n",
              "      <td>unable to access hr_tool page</td>\n",
              "      <td>unable to access hr_tool page</td>\n",
              "      <td>xbkucsvz gcpydteq</td>\n",
              "      <td>GRP_0</td>\n",
              "      <td>unable to access hr_tool page</td>\n",
              "      <td>unable to access hr_tool page</td>\n",
              "    </tr>\n",
              "    <tr>\n",
              "      <th>4</th>\n",
              "      <td>skype error</td>\n",
              "      <td>skype error</td>\n",
              "      <td>owlgqjme qhcozdfx</td>\n",
              "      <td>GRP_0</td>\n",
              "      <td>skype error</td>\n",
              "      <td>skype error</td>\n",
              "    </tr>\n",
              "  </tbody>\n",
              "</table>\n",
              "</div>"
            ],
            "text/plain": [
              "               Short description  ...                                                                                                                                                                                                           desc_analysis\n",
              "0                    login issue  ...  -verified user details.(employee# & manager name)\\r\\n-checked the user name in ad and reset the password.\\r\\n-advised the user to login and check.\\r\\n-caller confirmed that he was able to login.\\r\\n-issue resolved.\n",
              "1                        outlook  ...      \\r\\n\\r\\nreceived from: hmjdrvpb.komuaywn@gmail.com\\r\\n\\r\\nhello team,\\r\\n\\r\\nmy meetings/skype meetings etc are not appearing in my outlook calendar, can somebody please advise how to correct this?\\r\\n\\r\\nkind \n",
              "2             cant log in to vpn  ...                                                                                                                 \\r\\n\\r\\nreceived from: eylqgodm.ybqkwiam@gmail.com\\r\\n\\r\\nhi\\r\\n\\r\\ni cannot log on to vpn\\r\\n\\r\\nbest \n",
              "3  unable to access hr_tool page  ...                                                                                                                                                                                           unable to access hr_tool page\n",
              "4                   skype error   ...                                                                                                                                                                                                            skype error \n",
              "\n",
              "[5 rows x 6 columns]"
            ]
          },
          "metadata": {},
          "execution_count": 129
        }
      ]
    },
    {
      "cell_type": "code",
      "metadata": {
        "colab": {
          "base_uri": "https://localhost:8080/"
        },
        "id": "3m4GSXfZbFeD",
        "outputId": "12c93015-2d32-453b-98bd-3edca48eb481"
      },
      "source": [
        "ata_data.isnull().sum()"
      ],
      "execution_count": 130,
      "outputs": [
        {
          "output_type": "execute_result",
          "data": {
            "text/plain": [
              "Short description      8\n",
              "Description            1\n",
              "Caller                 0\n",
              "Assignment group       0\n",
              "short_desc_analysis    0\n",
              "desc_analysis          0\n",
              "dtype: int64"
            ]
          },
          "metadata": {},
          "execution_count": 130
        }
      ]
    },
    {
      "cell_type": "code",
      "metadata": {
        "colab": {
          "base_uri": "https://localhost:8080/",
          "height": 695
        },
        "id": "IVplfIK6iumO",
        "outputId": "dfbd553a-89a3-4b5e-bd72-e9aaf96398da"
      },
      "source": [
        "ata_data[ata_data['Short description'].isnull()]"
      ],
      "execution_count": 131,
      "outputs": [
        {
          "output_type": "execute_result",
          "data": {
            "text/html": [
              "<div>\n",
              "<style scoped>\n",
              "    .dataframe tbody tr th:only-of-type {\n",
              "        vertical-align: middle;\n",
              "    }\n",
              "\n",
              "    .dataframe tbody tr th {\n",
              "        vertical-align: top;\n",
              "    }\n",
              "\n",
              "    .dataframe thead th {\n",
              "        text-align: right;\n",
              "    }\n",
              "</style>\n",
              "<table border=\"1\" class=\"dataframe\">\n",
              "  <thead>\n",
              "    <tr style=\"text-align: right;\">\n",
              "      <th></th>\n",
              "      <th>Short description</th>\n",
              "      <th>Description</th>\n",
              "      <th>Caller</th>\n",
              "      <th>Assignment group</th>\n",
              "      <th>short_desc_analysis</th>\n",
              "      <th>desc_analysis</th>\n",
              "    </tr>\n",
              "  </thead>\n",
              "  <tbody>\n",
              "    <tr>\n",
              "      <th>2604</th>\n",
              "      <td>NaN</td>\n",
              "      <td>\\r\\n\\r\\nreceived from: ohdrnswl.rezuibdt@gmail.com\\r\\n\\r\\nhi,\\r\\n\\r\\n\\r\\n\\r\\nlink is not working. kindly resolve yhe issue on urgent basis.\\r\\n\\r\\n\\r\\n\\r\\nbest</td>\n",
              "      <td>ohdrnswl rezuibdt</td>\n",
              "      <td>GRP_34</td>\n",
              "      <td>\\r\\n\\r\\nreceived from: ohdrnswl.rezuibdt@gmail.com\\r\\n\\r\\nhi,\\r\\n\\r\\n\\r\\n\\r\\nlink is not working. kindly resolve yhe issue on urgent basis.\\r\\n\\r\\n\\r\\n\\r\\nbest</td>\n",
              "      <td>\\r\\n\\r\\nreceived from: ohdrnswl.rezuibdt@gmail.com\\r\\n\\r\\nhi,\\r\\n\\r\\n\\r\\n\\r\\nlink is not working. kindly resolve yhe issue on urgent basis.\\r\\n\\r\\n\\r\\n\\r\\nbest</td>\n",
              "    </tr>\n",
              "    <tr>\n",
              "      <th>3383</th>\n",
              "      <td>NaN</td>\n",
              "      <td>\\r\\n-connected to the user system using teamviewer.\\r\\n-help the user login to the portal.\\r\\n-issue resolved.</td>\n",
              "      <td>qftpazns fxpnytmk</td>\n",
              "      <td>GRP_0</td>\n",
              "      <td>\\r\\n-connected to the user system using teamviewer.\\r\\n-help the user login to the portal.\\r\\n-issue resolved.</td>\n",
              "      <td>\\r\\n-connected to the user system using teamviewer.\\r\\n-help the user login to the portal.\\r\\n-issue resolved.</td>\n",
              "    </tr>\n",
              "    <tr>\n",
              "      <th>3906</th>\n",
              "      <td>NaN</td>\n",
              "      <td>-user unable  tologin to vpn.\\r\\n-connected to the user system using teamviewer.\\r\\n-help the user login to the company vpn using the vpn company vpn link.\\r\\n-issue resolved.</td>\n",
              "      <td>awpcmsey ctdiuqwe</td>\n",
              "      <td>GRP_0</td>\n",
              "      <td>-user unable  tologin to vpn.\\r\\n-connected to the user system using teamviewer.\\r\\n-help the user login to the company vpn using the vpn company vpn link.\\r\\n-issue resolved.</td>\n",
              "      <td>-user unable  tologin to vpn.\\r\\n-connected to the user system using teamviewer.\\r\\n-help the user login to the company vpn using the vpn company vpn link.\\r\\n-issue resolved.</td>\n",
              "    </tr>\n",
              "    <tr>\n",
              "      <th>3910</th>\n",
              "      <td>NaN</td>\n",
              "      <td>-user unable  tologin to vpn.\\r\\n-connected to the user system using teamviewer.\\r\\n-help the user login to the company vpn using the vpn company vpn link.\\r\\n-issue resolved.</td>\n",
              "      <td>rhwsmefo tvphyura</td>\n",
              "      <td>GRP_0</td>\n",
              "      <td>-user unable  tologin to vpn.\\r\\n-connected to the user system using teamviewer.\\r\\n-help the user login to the company vpn using the vpn company vpn link.\\r\\n-issue resolved.</td>\n",
              "      <td>-user unable  tologin to vpn.\\r\\n-connected to the user system using teamviewer.\\r\\n-help the user login to the company vpn using the vpn company vpn link.\\r\\n-issue resolved.</td>\n",
              "    </tr>\n",
              "    <tr>\n",
              "      <th>3915</th>\n",
              "      <td>NaN</td>\n",
              "      <td>-user unable  tologin to vpn.\\r\\n-connected to the user system using teamviewer.\\r\\n-help the user login to the company vpn using the vpn company vpn link.\\r\\n-issue resolved.</td>\n",
              "      <td>hxripljo efzounig</td>\n",
              "      <td>GRP_0</td>\n",
              "      <td>-user unable  tologin to vpn.\\r\\n-connected to the user system using teamviewer.\\r\\n-help the user login to the company vpn using the vpn company vpn link.\\r\\n-issue resolved.</td>\n",
              "      <td>-user unable  tologin to vpn.\\r\\n-connected to the user system using teamviewer.\\r\\n-help the user login to the company vpn using the vpn company vpn link.\\r\\n-issue resolved.</td>\n",
              "    </tr>\n",
              "    <tr>\n",
              "      <th>3921</th>\n",
              "      <td>NaN</td>\n",
              "      <td>-user unable  tologin to vpn.\\r\\n-connected to the user system using teamviewer.\\r\\n-help the user login to the company vpn using the vpn company vpn link.\\r\\n-issue resolved.</td>\n",
              "      <td>cziadygo veiosxby</td>\n",
              "      <td>GRP_0</td>\n",
              "      <td>-user unable  tologin to vpn.\\r\\n-connected to the user system using teamviewer.\\r\\n-help the user login to the company vpn using the vpn company vpn link.\\r\\n-issue resolved.</td>\n",
              "      <td>-user unable  tologin to vpn.\\r\\n-connected to the user system using teamviewer.\\r\\n-help the user login to the company vpn using the vpn company vpn link.\\r\\n-issue resolved.</td>\n",
              "    </tr>\n",
              "    <tr>\n",
              "      <th>3924</th>\n",
              "      <td>NaN</td>\n",
              "      <td>name:wvqgbdhm fwchqjor\\nlanguage:\\nbrowser:microsoft internet explorer\\nemail:wvqgbdhm.fwchqjor@gmail.com\\ncustomer number:\\ntelephone:-not available\\nsummary:can't get into vpn - need to be on at 4:30 est and it wont' happen please help aerp!</td>\n",
              "      <td>wvqgbdhm fwchqjor</td>\n",
              "      <td>GRP_0</td>\n",
              "      <td>name:wvqgbdhm fwchqjor\\nlanguage:\\nbrowser:microsoft internet explorer\\nemail:wvqgbdhm.fwchqjor@gmail.com\\ncustomer number:\\ntelephone:-not available\\nsummary:can't get into vpn - need to be on at 4:30 est and it wont' happen please help aerp!</td>\n",
              "      <td>name:wvqgbdhm fwchqjor\\nlanguage:\\nbrowser:microsoft internet explorer\\nemail:wvqgbdhm.fwchqjor@gmail.com\\ncustomer number:\\ntelephone:-not available\\nsummary:can't get into vpn - need to be on at 4:30 est and it wont' happen please help aerp!</td>\n",
              "    </tr>\n",
              "    <tr>\n",
              "      <th>4341</th>\n",
              "      <td>NaN</td>\n",
              "      <td>\\r\\n\\r\\nreceived from: eqmuniov.ehxkcbgj@gmail.com\\r\\n\\r\\ngood morning,\\r\\n\\r\\nwhen  trying to log on to erp i get this error below.\\r\\nplease help  urgently as i can not process customer order.\\r\\n\\r\\n[cid:image001.png@01d20f2e.751db880]\\r\\n\\r\\n\\r\\n</td>\n",
              "      <td>eqmuniov ehxkcbgj</td>\n",
              "      <td>GRP_0</td>\n",
              "      <td>\\r\\n\\r\\nreceived from: eqmuniov.ehxkcbgj@gmail.com\\r\\n\\r\\ngood morning,\\r\\n\\r\\nwhen  trying to log on to erp i get this error below.\\r\\nplease help  urgently as i can not process customer order.\\r\\n\\r\\n[cid:image001.png@01d20f2e.751db880]\\r\\n\\r\\n\\r\\n</td>\n",
              "      <td>\\r\\n\\r\\nreceived from: eqmuniov.ehxkcbgj@gmail.com\\r\\n\\r\\ngood morning,\\r\\n\\r\\nwhen  trying to log on to erp i get this error below.\\r\\nplease help  urgently as i can not process customer order.\\r\\n\\r\\n[cid:image001.png@01d20f2e.751db880]\\r\\n\\r\\n\\r\\n</td>\n",
              "    </tr>\n",
              "  </tbody>\n",
              "</table>\n",
              "</div>"
            ],
            "text/plain": [
              "     Short description  ...                                                                                                                                                                                                                                               desc_analysis\n",
              "2604               NaN  ...                                                                                            \\r\\n\\r\\nreceived from: ohdrnswl.rezuibdt@gmail.com\\r\\n\\r\\nhi,\\r\\n\\r\\n\\r\\n\\r\\nlink is not working. kindly resolve yhe issue on urgent basis.\\r\\n\\r\\n\\r\\n\\r\\nbest \n",
              "3383               NaN  ...                                                                                                                                              \\r\\n-connected to the user system using teamviewer.\\r\\n-help the user login to the portal.\\r\\n-issue resolved.\n",
              "3906               NaN  ...                                                                             -user unable  tologin to vpn.\\r\\n-connected to the user system using teamviewer.\\r\\n-help the user login to the company vpn using the vpn company vpn link.\\r\\n-issue resolved.\n",
              "3910               NaN  ...                                                                             -user unable  tologin to vpn.\\r\\n-connected to the user system using teamviewer.\\r\\n-help the user login to the company vpn using the vpn company vpn link.\\r\\n-issue resolved.\n",
              "3915               NaN  ...                                                                             -user unable  tologin to vpn.\\r\\n-connected to the user system using teamviewer.\\r\\n-help the user login to the company vpn using the vpn company vpn link.\\r\\n-issue resolved.\n",
              "3921               NaN  ...                                                                             -user unable  tologin to vpn.\\r\\n-connected to the user system using teamviewer.\\r\\n-help the user login to the company vpn using the vpn company vpn link.\\r\\n-issue resolved.\n",
              "3924               NaN  ...         name:wvqgbdhm fwchqjor\\nlanguage:\\nbrowser:microsoft internet explorer\\nemail:wvqgbdhm.fwchqjor@gmail.com\\ncustomer number:\\ntelephone:-not available\\nsummary:can't get into vpn - need to be on at 4:30 est and it wont' happen please help aerp!\n",
              "4341               NaN  ...  \\r\\n\\r\\nreceived from: eqmuniov.ehxkcbgj@gmail.com\\r\\n\\r\\ngood morning,\\r\\n\\r\\nwhen  trying to log on to erp i get this error below.\\r\\nplease help  urgently as i can not process customer order.\\r\\n\\r\\n[cid:image001.png@01d20f2e.751db880]\\r\\n\\r\\n\\r\\n\n",
              "\n",
              "[8 rows x 6 columns]"
            ]
          },
          "metadata": {},
          "execution_count": 131
        }
      ]
    },
    {
      "cell_type": "markdown",
      "metadata": {
        "id": "axxl2oj2NicI"
      },
      "source": [
        "There are some messages which mentions that they are received from someone else.  Looking into the data to see such entries"
      ]
    },
    {
      "cell_type": "code",
      "metadata": {
        "colab": {
          "base_uri": "https://localhost:8080/",
          "height": 938
        },
        "id": "OX26TV9aN9e3",
        "outputId": "b86b8ce9-946d-4d88-f151-e5bcd543e50e"
      },
      "source": [
        "ata_data[ata_data['Description'].str.contains('received from:', case=False, na=False)]"
      ],
      "execution_count": 132,
      "outputs": [
        {
          "output_type": "execute_result",
          "data": {
            "text/html": [
              "<div>\n",
              "<style scoped>\n",
              "    .dataframe tbody tr th:only-of-type {\n",
              "        vertical-align: middle;\n",
              "    }\n",
              "\n",
              "    .dataframe tbody tr th {\n",
              "        vertical-align: top;\n",
              "    }\n",
              "\n",
              "    .dataframe thead th {\n",
              "        text-align: right;\n",
              "    }\n",
              "</style>\n",
              "<table border=\"1\" class=\"dataframe\">\n",
              "  <thead>\n",
              "    <tr style=\"text-align: right;\">\n",
              "      <th></th>\n",
              "      <th>Short description</th>\n",
              "      <th>Description</th>\n",
              "      <th>Caller</th>\n",
              "      <th>Assignment group</th>\n",
              "      <th>short_desc_analysis</th>\n",
              "      <th>desc_analysis</th>\n",
              "    </tr>\n",
              "  </thead>\n",
              "  <tbody>\n",
              "    <tr>\n",
              "      <th>1</th>\n",
              "      <td>outlook</td>\n",
              "      <td>\\r\\n\\r\\nreceived from: hmjdrvpb.komuaywn@gmail.com\\r\\n\\r\\nhello team,\\r\\n\\r\\nmy meetings/skype meetings etc are not appearing in my outlook calendar, can somebody please advise how to correct this?\\r\\n\\r\\nkind</td>\n",
              "      <td>hmjdrvpb komuaywn</td>\n",
              "      <td>GRP_0</td>\n",
              "      <td>outlook</td>\n",
              "      <td>\\r\\n\\r\\nreceived from: hmjdrvpb.komuaywn@gmail.com\\r\\n\\r\\nhello team,\\r\\n\\r\\nmy meetings/skype meetings etc are not appearing in my outlook calendar, can somebody please advise how to correct this?\\r\\n\\r\\nkind</td>\n",
              "    </tr>\n",
              "    <tr>\n",
              "      <th>2</th>\n",
              "      <td>cant log in to vpn</td>\n",
              "      <td>\\r\\n\\r\\nreceived from: eylqgodm.ybqkwiam@gmail.com\\r\\n\\r\\nhi\\r\\n\\r\\ni cannot log on to vpn\\r\\n\\r\\nbest</td>\n",
              "      <td>eylqgodm ybqkwiam</td>\n",
              "      <td>GRP_0</td>\n",
              "      <td>cant log in to vpn</td>\n",
              "      <td>\\r\\n\\r\\nreceived from: eylqgodm.ybqkwiam@gmail.com\\r\\n\\r\\nhi\\r\\n\\r\\ni cannot log on to vpn\\r\\n\\r\\nbest</td>\n",
              "    </tr>\n",
              "    <tr>\n",
              "      <th>16</th>\n",
              "      <td>unable to login to company vpn</td>\n",
              "      <td>\\n\\nreceived from: xyz@company.com\\n\\nhi,\\n\\ni am unable to login to company vpn website, trying to open a new session using the below link, but not able to get through pls help urgently as we are working from home tomorrow due to month end closing.</td>\n",
              "      <td>chobktqj qdamxfuc</td>\n",
              "      <td>GRP_0</td>\n",
              "      <td>unable to login to company vpn</td>\n",
              "      <td>\\n\\nreceived from: xyz@company.com\\n\\nhi,\\n\\ni am unable to login to company vpn website, trying to open a new session using the below link, but not able to get through pls help urgently as we are working from home tomorrow due to month end closing.</td>\n",
              "    </tr>\n",
              "    <tr>\n",
              "      <th>21</th>\n",
              "      <td>vpn issue</td>\n",
              "      <td>\\r\\n\\r\\nreceived from: ugephfta.hrbqkvij@gmail.com\\r\\n\\r\\nhello helpdesk\\r\\n\\r\\ni am not able to connect vpn from home office. couple f hours ago i was connected, now it is not working anymore. getting a message that my session expired but if i click on the link, nothing happens.\\r\\n\\r\\n[cid:image001.jpg@01d233aa.3f618be0]\\r\\n\\r\\n*********************\\r\\n\\r\\nneed help with your dynamics crm?\\r\\nclick here&lt;\\r\\n\\r\\nchat with a live agent regarding your dynamics crm questions now! click here&lt;\\r\\n\\r\\nbest</td>\n",
              "      <td>ugephfta hrbqkvij</td>\n",
              "      <td>GRP_0</td>\n",
              "      <td>vpn issue</td>\n",
              "      <td>\\r\\n\\r\\nreceived from: ugephfta.hrbqkvij@gmail.com\\r\\n\\r\\nhello helpdesk\\r\\n\\r\\ni am not able to connect vpn from home office. couple f hours ago i was connected, now it is not working anymore. getting a message that my session expired but if i click on the link, nothing happens.\\r\\n\\r\\n[cid:image001.jpg@01d233aa.3f618be0]\\r\\n\\r\\n*********************\\r\\n\\r\\nneed help with your dynamics crm?\\r\\nclick here&lt;\\r\\n\\r\\nchat with a live agent regarding your dynamics crm questions now! click here&lt;\\r\\n\\r\\nbest</td>\n",
              "    </tr>\n",
              "    <tr>\n",
              "      <th>24</th>\n",
              "      <td>vpn not working</td>\n",
              "      <td>\\n\\nreceived from: dceoufyz.saufqkmd@gmail.com\\n\\nhello,\\n\\ni'm not being able to connect to company network through the vpn. pls check.\\n\\ncc: sir-i am not being able to upload as a result of no company network.\\n\\n</td>\n",
              "      <td>dceoufyz saufqkmd</td>\n",
              "      <td>GRP_0</td>\n",
              "      <td>vpn not working</td>\n",
              "      <td>\\n\\nreceived from: dceoufyz.saufqkmd@gmail.com\\n\\nhello,\\n\\ni'm not being able to connect to company network through the vpn. pls check.\\n\\ncc: sir-i am not being able to upload as a result of no company network.\\n\\n</td>\n",
              "    </tr>\n",
              "    <tr>\n",
              "      <th>...</th>\n",
              "      <td>...</td>\n",
              "      <td>...</td>\n",
              "      <td>...</td>\n",
              "      <td>...</td>\n",
              "      <td>...</td>\n",
              "      <td>...</td>\n",
              "    </tr>\n",
              "    <tr>\n",
              "      <th>8478</th>\n",
              "      <td>beenefits access on oneteam</td>\n",
              "      <td>\\n\\nreceived from: bjitvswa.yrmugfnq@gmail.com\\n\\nyesterday, it helped me access some additional information on oneteam.  but i still do not have a link showing for my benefits.  i tried to search and nothing pulls up.\\n\\ntgbtyim dgtalone\\nkey account manager\\nbjitvswa.yrmugfnq@gmail.com&lt;mailto:beyklcmj.bgfmrltw@gmail.com&gt;\\n</td>\n",
              "      <td>bjitvswa yrmugfnq</td>\n",
              "      <td>GRP_0</td>\n",
              "      <td>beenefits access on oneteam</td>\n",
              "      <td>\\n\\nreceived from: bjitvswa.yrmugfnq@gmail.com\\n\\nyesterday, it helped me access some additional information on oneteam.  but i still do not have a link showing for my benefits.  i tried to search and nothing pulls up.\\n\\ntgbtyim dgtalone\\nkey account manager\\nbjitvswa.yrmugfnq@gmail.com&lt;mailto:beyklcmj.bgfmrltw@gmail.com&gt;\\n</td>\n",
              "    </tr>\n",
              "    <tr>\n",
              "      <th>8480</th>\n",
              "      <td>customer group enhanced field</td>\n",
              "      <td>\\r\\n\\r\\nreceived from: nlearzwi.ukdzstwi@gmail.com\\r\\n\\r\\nhello,\\r\\n\\r\\na business decision has recently been made to view mfg_tooltion (customer classification ik) as indirect sales going forward. currently in the bex system they are classified as direct.\\r\\n\\r\\ncan you please modify the \"cust grp 1 â€“ enhanced\" field (0cust_sales__zcustgrp1) to show mfg_tooltion (customer classification ik) customers as indirect.\\r\\n[cid:image001.png@01d1ee74.cc06a6a0]\\r\\n\\r\\nthis field is used in several bex and hana reports (sales v plan, product management, otc billings, etc). let me know if you have any questions.\\r\\n\\r\\nbest</td>\n",
              "      <td>nlearzwi ukdzstwi</td>\n",
              "      <td>GRP_9</td>\n",
              "      <td>customer group enhanced field</td>\n",
              "      <td>\\r\\n\\r\\nreceived from: nlearzwi.ukdzstwi@gmail.com\\r\\n\\r\\nhello,\\r\\n\\r\\na business decision has recently been made to view mfg_tooltion (customer classification ik) as indirect sales going forward. currently in the bex system they are classified as direct.\\r\\n\\r\\ncan you please modify the \"cust grp 1 â€“ enhanced\" field (0cust_sales__zcustgrp1) to show mfg_tooltion (customer classification ik) customers as indirect.\\r\\n[cid:image001.png@01d1ee74.cc06a6a0]\\r\\n\\r\\nthis field is used in several bex and hana reports (sales v plan, product management, otc billings, etc). let me know if you have any questions.\\r\\n\\r\\nbest</td>\n",
              "    </tr>\n",
              "    <tr>\n",
              "      <th>8481</th>\n",
              "      <td>ess portal</td>\n",
              "      <td>\\n\\nreceived from: eagvusbr.nguqityl@gmail.com\\n\\nhi team,\\n\\ni was going into the ess file and checking some things for the ytd and this is the screen that shows up.  this is on my report tab when i am logged into vpn.  please assist in getting this to english.\\n[cid:image001.jpg@01d1ee74.0a355760]\\n\\n\\n\\neagvusbr nguqityl\\nsales engineer\\n\\n</td>\n",
              "      <td>eagvusbr nguqityl</td>\n",
              "      <td>GRP_9</td>\n",
              "      <td>ess portal</td>\n",
              "      <td>\\n\\nreceived from: eagvusbr.nguqityl@gmail.com\\n\\nhi team,\\n\\ni was going into the ess file and checking some things for the ytd and this is the screen that shows up.  this is on my report tab when i am logged into vpn.  please assist in getting this to english.\\n[cid:image001.jpg@01d1ee74.0a355760]\\n\\n\\n\\neagvusbr nguqityl\\nsales engineer\\n\\n</td>\n",
              "    </tr>\n",
              "    <tr>\n",
              "      <th>8491</th>\n",
              "      <td>vpn for laptop</td>\n",
              "      <td>\\n\\nreceived from: jxgobwrm.qkugdipo@gmail.com\\n\\ni need a vpn for my new laptop. name llv8517416\\n\\nknethyen grechduy\\nengineer, product engineering\\ncompany\\njxgobwrm.qkugdipo@gmail.com&lt;mailto:jxgobwrm.qkugdipo@gmail.com&gt;\\n\\n</td>\n",
              "      <td>jxgobwrm qkugdipo</td>\n",
              "      <td>GRP_34</td>\n",
              "      <td>vpn for laptop</td>\n",
              "      <td>\\n\\nreceived from: jxgobwrm.qkugdipo@gmail.com\\n\\ni need a vpn for my new laptop. name llv8517416\\n\\nknethyen grechduy\\nengineer, product engineering\\ncompany\\njxgobwrm.qkugdipo@gmail.com&lt;mailto:jxgobwrm.qkugdipo@gmail.com&gt;\\n\\n</td>\n",
              "    </tr>\n",
              "    <tr>\n",
              "      <th>8495</th>\n",
              "      <td>emails not coming in from zz mail</td>\n",
              "      <td>\\r\\n\\r\\nreceived from: avglmrts.vhqmtiua@gmail.com\\r\\n\\r\\ngood afternoon,\\r\\ni am not receiving the emails that i sent from zz mail.\\r\\nplease advise\\r\\n\\r\\n</td>\n",
              "      <td>avglmrts vhqmtiua</td>\n",
              "      <td>GRP_29</td>\n",
              "      <td>emails not coming in from zz mail</td>\n",
              "      <td>\\r\\n\\r\\nreceived from: avglmrts.vhqmtiua@gmail.com\\r\\n\\r\\ngood afternoon,\\r\\ni am not receiving the emails that i sent from zz mail.\\r\\nplease advise\\r\\n\\r\\n</td>\n",
              "    </tr>\n",
              "  </tbody>\n",
              "</table>\n",
              "<p>2227 rows × 6 columns</p>\n",
              "</div>"
            ],
            "text/plain": [
              "                      Short description  ...                                                                                                                                                                                                                                                                                                                                                                                                                                                                                                                                                                                                                                     desc_analysis\n",
              "1                               outlook  ...                                                                                                                                                                                                                                                                                                                                                                                                                                \\r\\n\\r\\nreceived from: hmjdrvpb.komuaywn@gmail.com\\r\\n\\r\\nhello team,\\r\\n\\r\\nmy meetings/skype meetings etc are not appearing in my outlook calendar, can somebody please advise how to correct this?\\r\\n\\r\\nkind \n",
              "2                    cant log in to vpn  ...                                                                                                                                                                                                                                                                                                                                                                                                                                                                                                                                           \\r\\n\\r\\nreceived from: eylqgodm.ybqkwiam@gmail.com\\r\\n\\r\\nhi\\r\\n\\r\\ni cannot log on to vpn\\r\\n\\r\\nbest \n",
              "16       unable to login to company vpn  ...                                                                                                                                                                                                                                                                                                                                                                                        \\n\\nreceived from: xyz@company.com\\n\\nhi,\\n\\ni am unable to login to company vpn website, trying to open a new session using the below link, but not able to get through pls help urgently as we are working from home tomorrow due to month end closing. \n",
              "21                            vpn issue  ...                                                                                                                       \\r\\n\\r\\nreceived from: ugephfta.hrbqkvij@gmail.com\\r\\n\\r\\nhello helpdesk\\r\\n\\r\\ni am not able to connect vpn from home office. couple f hours ago i was connected, now it is not working anymore. getting a message that my session expired but if i click on the link, nothing happens.\\r\\n\\r\\n[cid:image001.jpg@01d233aa.3f618be0]\\r\\n\\r\\n*********************\\r\\n\\r\\nneed help with your dynamics crm?\\r\\nclick here<\\r\\n\\r\\nchat with a live agent regarding your dynamics crm questions now! click here<\\r\\n\\r\\nbest \n",
              "24                      vpn not working  ...                                                                                                                                                                                                                                                                                                                                                                                                                          \\n\\nreceived from: dceoufyz.saufqkmd@gmail.com\\n\\nhello,\\n\\ni'm not being able to connect to company network through the vpn. pls check.\\n\\ncc: sir-i am not being able to upload as a result of no company network.\\n\\n\n",
              "...                                 ...  ...                                                                                                                                                                                                                                                                                                                                                                                                                                                                                                                                                                                                                                               ...\n",
              "8478        beenefits access on oneteam  ...                                                                                                                                                                                                                                                                                                            \\n\\nreceived from: bjitvswa.yrmugfnq@gmail.com\\n\\nyesterday, it helped me access some additional information on oneteam.  but i still do not have a link showing for my benefits.  i tried to search and nothing pulls up.\\n\\ntgbtyim dgtalone\\nkey account manager\\nbjitvswa.yrmugfnq@gmail.com<mailto:beyklcmj.bgfmrltw@gmail.com>\\n\n",
              "8480      customer group enhanced field  ...  \\r\\n\\r\\nreceived from: nlearzwi.ukdzstwi@gmail.com\\r\\n\\r\\nhello,\\r\\n\\r\\na business decision has recently been made to view mfg_tooltion (customer classification ik) as indirect sales going forward. currently in the bex system they are classified as direct.\\r\\n\\r\\ncan you please modify the \"cust grp 1 â€“ enhanced\" field (0cust_sales__zcustgrp1) to show mfg_tooltion (customer classification ik) customers as indirect.\\r\\n[cid:image001.png@01d1ee74.cc06a6a0]\\r\\n\\r\\nthis field is used in several bex and hana reports (sales v plan, product management, otc billings, etc). let me know if you have any questions.\\r\\n\\r\\nbest \n",
              "8481                         ess portal  ...                                                                                                                                                                                                                                                                                         \\n\\nreceived from: eagvusbr.nguqityl@gmail.com\\n\\nhi team,\\n\\ni was going into the ess file and checking some things for the ytd and this is the screen that shows up.  this is on my report tab when i am logged into vpn.  please assist in getting this to english.\\n[cid:image001.jpg@01d1ee74.0a355760]\\n\\n\\n\\neagvusbr nguqityl\\nsales engineer\\n\\n\n",
              "8491                     vpn for laptop  ...                                                                                                                                                                                                                                                                                                                                                                                                               \\n\\nreceived from: jxgobwrm.qkugdipo@gmail.com\\n\\ni need a vpn for my new laptop. name llv8517416\\n\\nknethyen grechduy\\nengineer, product engineering\\ncompany\\njxgobwrm.qkugdipo@gmail.com<mailto:jxgobwrm.qkugdipo@gmail.com>\\n\\n\n",
              "8495  emails not coming in from zz mail  ...                                                                                                                                                                                                                                                                                                                                                                                                                                                                                     \\r\\n\\r\\nreceived from: avglmrts.vhqmtiua@gmail.com\\r\\n\\r\\ngood afternoon,\\r\\ni am not receiving the emails that i sent from zz mail.\\r\\nplease advise\\r\\n\\r\\n\n",
              "\n",
              "[2227 rows x 6 columns]"
            ]
          },
          "metadata": {},
          "execution_count": 132
        }
      ]
    },
    {
      "cell_type": "markdown",
      "metadata": {
        "id": "ub5MpnDTRCiH"
      },
      "source": [
        "There are 2251 such records.  Getting that information in another column"
      ]
    },
    {
      "cell_type": "code",
      "metadata": {
        "id": "Btz2aKyhN9k1",
        "colab": {
          "base_uri": "https://localhost:8080/",
          "height": 725
        },
        "outputId": "e35e966a-157f-487c-f9e8-1ec4e77082e7"
      },
      "source": [
        "ata_data[ata_data['Description'].str.contains('to:', case=False, na=False)].head()"
      ],
      "execution_count": 133,
      "outputs": [
        {
          "output_type": "execute_result",
          "data": {
            "text/html": [
              "<div>\n",
              "<style scoped>\n",
              "    .dataframe tbody tr th:only-of-type {\n",
              "        vertical-align: middle;\n",
              "    }\n",
              "\n",
              "    .dataframe tbody tr th {\n",
              "        vertical-align: top;\n",
              "    }\n",
              "\n",
              "    .dataframe thead th {\n",
              "        text-align: right;\n",
              "    }\n",
              "</style>\n",
              "<table border=\"1\" class=\"dataframe\">\n",
              "  <thead>\n",
              "    <tr style=\"text-align: right;\">\n",
              "      <th></th>\n",
              "      <th>Short description</th>\n",
              "      <th>Description</th>\n",
              "      <th>Caller</th>\n",
              "      <th>Assignment group</th>\n",
              "      <th>short_desc_analysis</th>\n",
              "      <th>desc_analysis</th>\n",
              "    </tr>\n",
              "  </thead>\n",
              "  <tbody>\n",
              "    <tr>\n",
              "      <th>53</th>\n",
              "      <td>reset scm_software password</td>\n",
              "      <td>\\n\\nreceived from: cdbaoqts.wqbsodni@gmail.com\\n\\nhello,\\n\\nplease reset my scm_software password.\\n\\n\\ncdbaoqts wqbsodni\\nglobal product manager, markhtyeting initiatives\\ncdbaoqts.wqbsodni@gmail.com&lt;mailto:cdbaoqts.wqbsodni@gmail.com&gt;\\n\\n\\n\\n\\n\\n</td>\n",
              "      <td>cdbaoqts wqbsodni</td>\n",
              "      <td>GRP_0</td>\n",
              "      <td>reset scm_software password</td>\n",
              "      <td>\\n\\nreceived from: cdbaoqts.wqbsodni@gmail.com\\n\\nhello,\\n\\nplease reset my scm_software password.\\n\\n\\ncdbaoqts wqbsodni\\nglobal product manager, markhtyeting initiatives\\ncdbaoqts.wqbsodni@gmail.com&lt;mailto:cdbaoqts.wqbsodni@gmail.com&gt;\\n\\n\\n\\n\\n\\n</td>\n",
              "    </tr>\n",
              "    <tr>\n",
              "      <th>100</th>\n",
              "      <td>re: ess portal access issue</td>\n",
              "      <td>\\n\\nreceived from: noscwdpm.akiowsmp@gmail.com\\n\\nhello,\\n\\nhe is an kiosk user.  please reset the password and confirm.\\n\\n\\nnoscwdpm akiowsmp\\nnoscwdpm.akiowsmp@gmail.com\\n\\nfrom: ihkolepb ozhnjyef\\nsent: 29 october 2016 13:38\\nto: company@ticketing_tool.com\\nsubject: ess portal access issue\\n\\nhi,\\n\\nbelow mentioned employee krlszbqo spimolgz with user id sv123 is not able to login to ess portal to access his pay slips and related contents. he is a attendance_tool user. please reset his user id and password and revert back.\\n\\n</td>\n",
              "      <td>noscwdpm akiowsmp</td>\n",
              "      <td>GRP_0</td>\n",
              "      <td>re: ess portal access issue</td>\n",
              "      <td>\\n\\nreceived from: noscwdpm.akiowsmp@gmail.com\\n\\nhello,\\n\\nhe is an kiosk user.  please reset the password and confirm.\\n\\n\\nnoscwdpm akiowsmp\\nnoscwdpm.akiowsmp@gmail.com\\n\\nfrom: ihkolepb ozhnjyef\\nsent: 29 october 2016 13:38\\nto: company@ticketing_tool.com\\nsubject: ess portal access issue\\n\\nhi,\\n\\nbelow mentioned employee krlszbqo spimolgz with user id sv123 is not able to login to ess portal to access his pay slips and related contents. he is a attendance_tool user. please reset his user id and password and revert back.\\n\\n</td>\n",
              "    </tr>\n",
              "    <tr>\n",
              "      <th>124</th>\n",
              "      <td>mobile device activation</td>\n",
              "      <td>from: tvcdfqgp nrbcqwgj \\nsent: friday, october 28, 2016 3:13 pm\\nto: nwfodmhc exurcwkm\\nsubject:  se ha bloqueado en forma temporal la sincronizaciÃ³n de su dispositivo mÃ³vil mediante exchange activesync hasta que su administrador autorice el acceso.\\n\\nhi\\n\\ni received this message and our local it expert has told me to open a ticket.\\n\\n</td>\n",
              "      <td>tvcdfqgp nrbcqwgj</td>\n",
              "      <td>GRP_0</td>\n",
              "      <td>mobile device activation</td>\n",
              "      <td>from: tvcdfqgp nrbcqwgj \\nsent: friday, october 28, 2016 3:13 pm\\nto: nwfodmhc exurcwkm\\nsubject:  se ha bloqueado en forma temporal la sincronizaciÃ³n de su dispositivo mÃ³vil mediante exchange activesync hasta que su administrador autorice el acceso.\\n\\nhi\\n\\ni received this message and our local it expert has told me to open a ticket.\\n\\n</td>\n",
              "    </tr>\n",
              "    <tr>\n",
              "      <th>151</th>\n",
              "      <td>i used to have acces to this location on collaboration_platform.  now i do not. i need access.</td>\n",
              "      <td>\\n\\nreceived from: bwfhtumx.japznrvb@gmail.com\\n\\n\\n\\n[cid:image001.jpg@01d230f7.8bb4e830]\\n\\nbwfhtumx japznrvb \\nregional controller\\nbwfhtumx.japznrvb@gmail.com&lt;mailto:bwfhtumx.japznrvb@gmail.com&gt;\\n\\n\\n\\n</td>\n",
              "      <td>bwfhtumx japznrvb</td>\n",
              "      <td>GRP_16</td>\n",
              "      <td>i used to have acces to this location on collaboration_platform.  now i do not. i need access.</td>\n",
              "      <td>\\n\\nreceived from: bwfhtumx.japznrvb@gmail.com\\n\\n\\n\\n[cid:image001.jpg@01d230f7.8bb4e830]\\n\\nbwfhtumx japznrvb \\nregional controller\\nbwfhtumx.japznrvb@gmail.com&lt;mailto:bwfhtumx.japznrvb@gmail.com&gt;\\n\\n\\n\\n</td>\n",
              "    </tr>\n",
              "    <tr>\n",
              "      <th>162</th>\n",
              "      <td>access to bex</td>\n",
              "      <td>\\r\\n\\r\\nreceived from: yfqoaepn.xnezhsit@gmail.com\\r\\n\\r\\nhello,\\r\\n\\r\\ntill last week i was accessing bex reports using mms portal and there were no issues.\\r\\n\\r\\nstarting this week the system is incredibly slow when i log in and finally does not allow me to access any reports.\\r\\n\\r\\ncan it be the issue with any maintenance or my access rights or rather i should try to access bex using different way?\\r\\n\\r\\nbelow the print screen from what i see after log in:\\r\\n[cid:image001.png@01d2310c.f184b360]\\r\\n\\r\\ni am also able to get to finance reports (see below), however when i click \"profitability analysis\" (as i was always doing) separate window is open however apart rom that the screen is blank.\\r\\n[cid:image002.png@01d2310c.f184b360]\\r\\n\\r\\n\\r\\ni appreciate your support.\\r\\n\\r\\nhave a great day â˜º\\r\\n\\r\\nrobhyertyj\\r\\n\\r\\n\\r\\nyfqoaepn xnezhsit\\r\\nmanaging director\\r\\nfinance manager cee\\r\\nyfqoaepn.xnezhsit@gmail.com&lt;mailto:yfqoaepn.xnezhsit@gmail.com&gt;\\r\\ntel:+48(61)7767671\\r\\nmob:+48 694 425 760\\r\\n\\r\\ncompany polska sp. z o.o. , ul. krzywoustego 7, 61-144 poznaÅ„, www.company.com&lt;\\r\\n\\r\\ncompany polska sp. z o.o. z siedzibÄ… w polandiu, 61-144 poznaÅ„, ul. krzywoustego 7.\\r\\nspÃ³Å‚ka zarejestrowana w sÄ…dzie rejonowym poznaÅ„-nowe miasto i wilda w polandiu, wydziaÅ‚ viii gospodarczy krs pod numerem 1111286691.\\r\\nkapitaÅ‚ zakÅ‚adowy 100 000 pln, nip 954-20-87-982.\\r\\n\\r\\n\\r\\n\\r\\n\\r\\n\\r\\n</td>\n",
              "      <td>yfqoaepn xnezhsit</td>\n",
              "      <td>GRP_0</td>\n",
              "      <td>access to bex</td>\n",
              "      <td>\\r\\n\\r\\nreceived from: yfqoaepn.xnezhsit@gmail.com\\r\\n\\r\\nhello,\\r\\n\\r\\ntill last week i was accessing bex reports using mms portal and there were no issues.\\r\\n\\r\\nstarting this week the system is incredibly slow when i log in and finally does not allow me to access any reports.\\r\\n\\r\\ncan it be the issue with any maintenance or my access rights or rather i should try to access bex using different way?\\r\\n\\r\\nbelow the print screen from what i see after log in:\\r\\n[cid:image001.png@01d2310c.f184b360]\\r\\n\\r\\ni am also able to get to finance reports (see below), however when i click \"profitability analysis\" (as i was always doing) separate window is open however apart rom that the screen is blank.\\r\\n[cid:image002.png@01d2310c.f184b360]\\r\\n\\r\\n\\r\\ni appreciate your support.\\r\\n\\r\\nhave a great day â˜º\\r\\n\\r\\nrobhyertyj\\r\\n\\r\\n\\r\\nyfqoaepn xnezhsit\\r\\nmanaging director\\r\\nfinance manager cee\\r\\nyfqoaepn.xnezhsit@gmail.com&lt;mailto:yfqoaepn.xnezhsit@gmail.com&gt;\\r\\ntel:+48(61)7767671\\r\\nmob:+48 694 425 760\\r\\n\\r\\ncompany polska sp. z o.o. , ul. krzywoustego 7, 61-144 poznaÅ„, www.company.com&lt;\\r\\n\\r\\ncompany polska sp. z o.o. z siedzibÄ… w polandiu, 61-144 poznaÅ„, ul. krzywoustego 7.\\r\\nspÃ³Å‚ka zarejestrowana w sÄ…dzie rejonowym poznaÅ„-nowe miasto i wilda w polandiu, wydziaÅ‚ viii gospodarczy krs pod numerem 1111286691.\\r\\nkapitaÅ‚ zakÅ‚adowy 100 000 pln, nip 954-20-87-982.\\r\\n\\r\\n\\r\\n\\r\\n\\r\\n\\r\\n</td>\n",
              "    </tr>\n",
              "  </tbody>\n",
              "</table>\n",
              "</div>"
            ],
            "text/plain": [
              "                                                                                  Short description  ...                                                                                                                                                                                                                                                                                                                                                                                                                                                                                                                                                                                                                                                                                                                                                                                                                                                                                                                                                                                                                                                                                                                                                                                                                                                                                                                                                                                                                                                            desc_analysis\n",
              "53                                                                      reset scm_software password  ...                                                                                                                                                                                                                                                                                                                                                                                                                                                                                                                                                                                                                                                                                                                                                                                                                                                                                                                                                                                                                                                                                                                                                                                                                 \\n\\nreceived from: cdbaoqts.wqbsodni@gmail.com\\n\\nhello,\\n\\nplease reset my scm_software password.\\n\\n\\ncdbaoqts wqbsodni\\nglobal product manager, markhtyeting initiatives\\ncdbaoqts.wqbsodni@gmail.com<mailto:cdbaoqts.wqbsodni@gmail.com>\\n\\n\\n\\n\\n\\n\n",
              "100                                                                     re: ess portal access issue  ...                                                                                                                                                                                                                                                                                                                                                                                                                                                                                                                                                                                                                                                                                                                                                                                                                                                                                                                 \\n\\nreceived from: noscwdpm.akiowsmp@gmail.com\\n\\nhello,\\n\\nhe is an kiosk user.  please reset the password and confirm.\\n\\n\\nnoscwdpm akiowsmp\\nnoscwdpm.akiowsmp@gmail.com\\n\\nfrom: ihkolepb ozhnjyef\\nsent: 29 october 2016 13:38\\nto: company@ticketing_tool.com\\nsubject: ess portal access issue\\n\\nhi,\\n\\nbelow mentioned employee krlszbqo spimolgz with user id sv123 is not able to login to ess portal to access his pay slips and related contents. he is a attendance_tool user. please reset his user id and password and revert back.\\n\\n\n",
              "124                                                                        mobile device activation  ...                                                                                                                                                                                                                                                                                                                                                                                                                                                                                                                                                                                                                                                                                                                                                                                                                                                                                                                                                                                                                                                                                                                  from: tvcdfqgp nrbcqwgj \\nsent: friday, october 28, 2016 3:13 pm\\nto: nwfodmhc exurcwkm\\nsubject:  se ha bloqueado en forma temporal la sincronizaciÃ³n de su dispositivo mÃ³vil mediante exchange activesync hasta que su administrador autorice el acceso.\\n\\nhi\\n\\ni received this message and our local it expert has told me to open a ticket.\\n\\n\n",
              "151  i used to have acces to this location on collaboration_platform.  now i do not. i need access.  ...                                                                                                                                                                                                                                                                                                                                                                                                                                                                                                                                                                                                                                                                                                                                                                                                                                                                                                                                                                                                                                                                                                                                                                                                                                                           \\n\\nreceived from: bwfhtumx.japznrvb@gmail.com\\n\\n\\n\\n[cid:image001.jpg@01d230f7.8bb4e830]\\n\\nbwfhtumx japznrvb \\nregional controller\\nbwfhtumx.japznrvb@gmail.com<mailto:bwfhtumx.japznrvb@gmail.com>\\n\\n\\n\\n\n",
              "162                                                                                   access to bex  ...  \\r\\n\\r\\nreceived from: yfqoaepn.xnezhsit@gmail.com\\r\\n\\r\\nhello,\\r\\n\\r\\ntill last week i was accessing bex reports using mms portal and there were no issues.\\r\\n\\r\\nstarting this week the system is incredibly slow when i log in and finally does not allow me to access any reports.\\r\\n\\r\\ncan it be the issue with any maintenance or my access rights or rather i should try to access bex using different way?\\r\\n\\r\\nbelow the print screen from what i see after log in:\\r\\n[cid:image001.png@01d2310c.f184b360]\\r\\n\\r\\ni am also able to get to finance reports (see below), however when i click \"profitability analysis\" (as i was always doing) separate window is open however apart rom that the screen is blank.\\r\\n[cid:image002.png@01d2310c.f184b360]\\r\\n\\r\\n\\r\\ni appreciate your support.\\r\\n\\r\\nhave a great day â˜º\\r\\n\\r\\nrobhyertyj\\r\\n\\r\\n\\r\\nyfqoaepn xnezhsit\\r\\nmanaging director\\r\\nfinance manager cee\\r\\nyfqoaepn.xnezhsit@gmail.com<mailto:yfqoaepn.xnezhsit@gmail.com>\\r\\ntel:+48(61)7767671\\r\\nmob:+48 694 425 760\\r\\n\\r\\ncompany polska sp. z o.o. , ul. krzywoustego 7, 61-144 poznaÅ„, www.company.com<\\r\\n\\r\\ncompany polska sp. z o.o. z siedzibÄ… w polandiu, 61-144 poznaÅ„, ul. krzywoustego 7.\\r\\nspÃ³Å‚ka zarejestrowana w sÄ…dzie rejonowym poznaÅ„-nowe miasto i wilda w polandiu, wydziaÅ‚ viii gospodarczy krs pod numerem 1111286691.\\r\\nkapitaÅ‚ zakÅ‚adowy 100 000 pln, nip 954-20-87-982.\\r\\n\\r\\n\\r\\n\\r\\n\\r\\n\\r\\n\n",
              "\n",
              "[5 rows x 6 columns]"
            ]
          },
          "metadata": {},
          "execution_count": 133
        }
      ]
    },
    {
      "cell_type": "markdown",
      "metadata": {
        "id": "HQe9bg0wFOqy"
      },
      "source": [
        "There are some Description which are copy paste of mails.  We can see texts such as\n",
        "\n",
        "1. from:\n",
        "2. to:\n",
        "3. sent:\n",
        "4. date:\n",
        "5. cc:\n",
        "6. subject: \n",
        "\n",
        "We will remove such text from our analysis.  We will copy the subject to another column to see if it can be of use in future"
      ]
    },
    {
      "cell_type": "code",
      "metadata": {
        "colab": {
          "base_uri": "https://localhost:8080/",
          "height": 534
        },
        "id": "7kv4m4xz2Wfm",
        "outputId": "1785dd52-3de7-4d9f-8e00-22fde1a1659a"
      },
      "source": [
        "ata_data[ata_data['Description'].str.contains('name:', case=False, na=False)].head()"
      ],
      "execution_count": 134,
      "outputs": [
        {
          "output_type": "execute_result",
          "data": {
            "text/html": [
              "<div>\n",
              "<style scoped>\n",
              "    .dataframe tbody tr th:only-of-type {\n",
              "        vertical-align: middle;\n",
              "    }\n",
              "\n",
              "    .dataframe tbody tr th {\n",
              "        vertical-align: top;\n",
              "    }\n",
              "\n",
              "    .dataframe thead th {\n",
              "        text-align: right;\n",
              "    }\n",
              "</style>\n",
              "<table border=\"1\" class=\"dataframe\">\n",
              "  <thead>\n",
              "    <tr style=\"text-align: right;\">\n",
              "      <th></th>\n",
              "      <th>Short description</th>\n",
              "      <th>Description</th>\n",
              "      <th>Caller</th>\n",
              "      <th>Assignment group</th>\n",
              "      <th>short_desc_analysis</th>\n",
              "      <th>desc_analysis</th>\n",
              "    </tr>\n",
              "  </thead>\n",
              "  <tbody>\n",
              "    <tr>\n",
              "      <th>135</th>\n",
              "      <td>access to business_client drawings</td>\n",
              "      <td>name:xvgftyr tryfuh\\nlanguage:\\nbrowser:microsoft internet explorer\\nemail:cnkoflhi.abeoucfj@gmail.com\\ncustomer number:\\nsummary:i cannot seem to access the drawings from the netweaver application that is installed on my computer.  it doesn't take me to the same page that my colleagues have.</td>\n",
              "      <td>rbozivdq gmlhrtvp</td>\n",
              "      <td>GRP_0</td>\n",
              "      <td>access to business_client drawings</td>\n",
              "      <td>name:xvgftyr tryfuh\\nlanguage:\\nbrowser:microsoft internet explorer\\nemail:cnkoflhi.abeoucfj@gmail.com\\ncustomer number:\\nsummary:i cannot seem to access the drawings from the netweaver application that is installed on my computer.  it doesn't take me to the same page that my colleagues have.</td>\n",
              "    </tr>\n",
              "    <tr>\n",
              "      <th>136</th>\n",
              "      <td>taking off email permissions from personal phone</td>\n",
              "      <td>name:vdhfy\\nlanguage:\\nbrowser:microsoft internet explorer\\nemail:dcvphjru.ybomrjst@gmail.com\\ncustomer number:\\nsummary:i have scrapped the old phone. my mail was configured in it. can you take off the permissions set to view mails on that phone</td>\n",
              "      <td>dcvphjru ybomrjst</td>\n",
              "      <td>GRP_0</td>\n",
              "      <td>taking off email permissions from personal phone</td>\n",
              "      <td>name:vdhfy\\nlanguage:\\nbrowser:microsoft internet explorer\\nemail:dcvphjru.ybomrjst@gmail.com\\ncustomer number:\\nsummary:i have scrapped the old phone. my mail was configured in it. can you take off the permissions set to view mails on that phone</td>\n",
              "    </tr>\n",
              "    <tr>\n",
              "      <th>147</th>\n",
              "      <td>good morning. i am having trouble getting into my vpn</td>\n",
              "      <td>name:wvngzrca sfmrzdth\\nlanguage:\\nbrowser:microsoft internet explorer\\nemail:wvngzrca.sfmrzdth@gmail.com\\ncustomer number:\\nsummary:good morning. i am having trouble getting into my vpn\\ncan you assist</td>\n",
              "      <td>wvngzrca sfmrzdth</td>\n",
              "      <td>GRP_0</td>\n",
              "      <td>good morning. i am having trouble getting into my vpn</td>\n",
              "      <td>name:wvngzrca sfmrzdth\\nlanguage:\\nbrowser:microsoft internet explorer\\nemail:wvngzrca.sfmrzdth@gmail.com\\ncustomer number:\\nsummary:good morning. i am having trouble getting into my vpn\\ncan you assist</td>\n",
              "    </tr>\n",
              "    <tr>\n",
              "      <th>200</th>\n",
              "      <td>unable to open website</td>\n",
              "      <td>\\nname:xbdht yrjhd\\nlanguage:\\nbrowser:microsoft internet explorer\\nemail:aqjdvexo.lmedazjo@gmail.com\\ncustomer number:\\nsummary: benefit advisor will not run in my browser.</td>\n",
              "      <td>aqjdvexo lmedazjo</td>\n",
              "      <td>GRP_0</td>\n",
              "      <td>unable to open website</td>\n",
              "      <td>\\nname:xbdht yrjhd\\nlanguage:\\nbrowser:microsoft internet explorer\\nemail:aqjdvexo.lmedazjo@gmail.com\\ncustomer number:\\nsummary: benefit advisor will not run in my browser.</td>\n",
              "    </tr>\n",
              "    <tr>\n",
              "      <th>226</th>\n",
              "      <td>enable bgdxitwu dhcopwxa' active directory account</td>\n",
              "      <td>enable bgdxitwu dhcopwxa' active directory account\\n\\nname:fdgrty\\nemail:kybgepnj.idszleru@gmail.com\\nsummary:i need bgdxitwu dhcopwxa's active directory account enabled.</td>\n",
              "      <td>kcwqdeob jwtpkzub</td>\n",
              "      <td>GRP_2</td>\n",
              "      <td>enable bgdxitwu dhcopwxa' active directory account</td>\n",
              "      <td>enable bgdxitwu dhcopwxa' active directory account\\n\\nname:fdgrty\\nemail:kybgepnj.idszleru@gmail.com\\nsummary:i need bgdxitwu dhcopwxa's active directory account enabled.</td>\n",
              "    </tr>\n",
              "  </tbody>\n",
              "</table>\n",
              "</div>"
            ],
            "text/plain": [
              "                                         Short description  ...                                                                                                                                                                                                                                                                                          desc_analysis\n",
              "135                     access to business_client drawings  ...  name:xvgftyr tryfuh\\nlanguage:\\nbrowser:microsoft internet explorer\\nemail:cnkoflhi.abeoucfj@gmail.com\\ncustomer number:\\nsummary:i cannot seem to access the drawings from the netweaver application that is installed on my computer.  it doesn't take me to the same page that my colleagues have.\n",
              "136       taking off email permissions from personal phone  ...                                                 name:vdhfy\\nlanguage:\\nbrowser:microsoft internet explorer\\nemail:dcvphjru.ybomrjst@gmail.com\\ncustomer number:\\nsummary:i have scrapped the old phone. my mail was configured in it. can you take off the permissions set to view mails on that phone\n",
              "147  good morning. i am having trouble getting into my vpn  ...                                                                                             name:wvngzrca sfmrzdth\\nlanguage:\\nbrowser:microsoft internet explorer\\nemail:wvngzrca.sfmrzdth@gmail.com\\ncustomer number:\\nsummary:good morning. i am having trouble getting into my vpn\\ncan you assist\n",
              "200                                 unable to open website  ...                                                                                                                          \\nname:xbdht yrjhd\\nlanguage:\\nbrowser:microsoft internet explorer\\nemail:aqjdvexo.lmedazjo@gmail.com\\ncustomer number:\\nsummary: benefit advisor will not run in my browser.\n",
              "226     enable bgdxitwu dhcopwxa' active directory account  ...                                                                                                                             enable bgdxitwu dhcopwxa' active directory account\\n\\nname:fdgrty\\nemail:kybgepnj.idszleru@gmail.com\\nsummary:i need bgdxitwu dhcopwxa's active directory account enabled.\n",
              "\n",
              "[5 rows x 6 columns]"
            ]
          },
          "metadata": {},
          "execution_count": 134
        }
      ]
    },
    {
      "cell_type": "markdown",
      "metadata": {
        "id": "_ZPXJvwk29lG"
      },
      "source": [
        "There seems to be a template where below details are captured\n",
        "1. name\n",
        "2. language\n",
        "3. browser\n",
        "4. email\n",
        "5. customercare number\n",
        "6. summary \n",
        "\n",
        "Keeping only the text provided as summary for further analysis "
      ]
    },
    {
      "cell_type": "code",
      "metadata": {
        "id": "eDUPWxZ4Zqhz",
        "colab": {
          "base_uri": "https://localhost:8080/",
          "height": 499
        },
        "outputId": "c35e73d1-d5eb-43cd-9af4-a848a7fbc222"
      },
      "source": [
        "ata_data[ata_data['Description'].str.contains('cid:image', case=False, na=False)].head()"
      ],
      "execution_count": 135,
      "outputs": [
        {
          "output_type": "execute_result",
          "data": {
            "text/html": [
              "<div>\n",
              "<style scoped>\n",
              "    .dataframe tbody tr th:only-of-type {\n",
              "        vertical-align: middle;\n",
              "    }\n",
              "\n",
              "    .dataframe tbody tr th {\n",
              "        vertical-align: top;\n",
              "    }\n",
              "\n",
              "    .dataframe thead th {\n",
              "        text-align: right;\n",
              "    }\n",
              "</style>\n",
              "<table border=\"1\" class=\"dataframe\">\n",
              "  <thead>\n",
              "    <tr style=\"text-align: right;\">\n",
              "      <th></th>\n",
              "      <th>Short description</th>\n",
              "      <th>Description</th>\n",
              "      <th>Caller</th>\n",
              "      <th>Assignment group</th>\n",
              "      <th>short_desc_analysis</th>\n",
              "      <th>desc_analysis</th>\n",
              "    </tr>\n",
              "  </thead>\n",
              "  <tbody>\n",
              "    <tr>\n",
              "      <th>21</th>\n",
              "      <td>vpn issue</td>\n",
              "      <td>\\r\\n\\r\\nreceived from: ugephfta.hrbqkvij@gmail.com\\r\\n\\r\\nhello helpdesk\\r\\n\\r\\ni am not able to connect vpn from home office. couple f hours ago i was connected, now it is not working anymore. getting a message that my session expired but if i click on the link, nothing happens.\\r\\n\\r\\n[cid:image001.jpg@01d233aa.3f618be0]\\r\\n\\r\\n*********************\\r\\n\\r\\nneed help with your dynamics crm?\\r\\nclick here&lt;\\r\\n\\r\\nchat with a live agent regarding your dynamics crm questions now! click here&lt;\\r\\n\\r\\nbest</td>\n",
              "      <td>ugephfta hrbqkvij</td>\n",
              "      <td>GRP_0</td>\n",
              "      <td>vpn issue</td>\n",
              "      <td>\\r\\n\\r\\nreceived from: ugephfta.hrbqkvij@gmail.com\\r\\n\\r\\nhello helpdesk\\r\\n\\r\\ni am not able to connect vpn from home office. couple f hours ago i was connected, now it is not working anymore. getting a message that my session expired but if i click on the link, nothing happens.\\r\\n\\r\\n[cid:image001.jpg@01d233aa.3f618be0]\\r\\n\\r\\n*********************\\r\\n\\r\\nneed help with your dynamics crm?\\r\\nclick here&lt;\\r\\n\\r\\nchat with a live agent regarding your dynamics crm questions now! click here&lt;\\r\\n\\r\\nbest</td>\n",
              "    </tr>\n",
              "    <tr>\n",
              "      <th>62</th>\n",
              "      <td>issues with outlook</td>\n",
              "      <td>\\r\\n\\r\\nreceived from: lkfzibrx.ljnabpgx@gmail.com\\r\\n\\r\\n[cid:image001.png@01d23357.fcbe58b0]\\r\\n\\r\\nbest</td>\n",
              "      <td>lkfzibrx ljnabpgx</td>\n",
              "      <td>GRP_0</td>\n",
              "      <td>issues with outlook</td>\n",
              "      <td>\\r\\n\\r\\nreceived from: lkfzibrx.ljnabpgx@gmail.com\\r\\n\\r\\n[cid:image001.png@01d23357.fcbe58b0]\\r\\n\\r\\nbest</td>\n",
              "    </tr>\n",
              "    <tr>\n",
              "      <th>107</th>\n",
              "      <td>attendance_tool - system log on error</td>\n",
              "      <td>\\n\\nreceived from: isfadulo.etkyjabn@gmail.com\\n\\nhello\\n\\ngood morning,\\n\\ni am experiencing issues with attendance_tool log on\\nevery time i try to log on through \"single sign portal, the following screen gets displayed and it stays there.\\nappreciate your support to fix this issue\\n\\n\\n[cid:image011.jpg@01d231cb.2cceacf0]\\n\\n</td>\n",
              "      <td>isfadulo etkyjabn</td>\n",
              "      <td>GRP_0</td>\n",
              "      <td>attendance_tool - system log on error</td>\n",
              "      <td>\\n\\nreceived from: isfadulo.etkyjabn@gmail.com\\n\\nhello\\n\\ngood morning,\\n\\ni am experiencing issues with attendance_tool log on\\nevery time i try to log on through \"single sign portal, the following screen gets displayed and it stays there.\\nappreciate your support to fix this issue\\n\\n\\n[cid:image011.jpg@01d231cb.2cceacf0]\\n\\n</td>\n",
              "    </tr>\n",
              "    <tr>\n",
              "      <th>128</th>\n",
              "      <td>password change thru password_management_tool password manager</td>\n",
              "      <td>\\r\\n\\r\\nreceived from: jvpkulxw.ovuweygj@gmail.com\\r\\n\\r\\nhello sir,\\r\\n\\r\\ni tried to change my password thru above. i  got below error. pl help know what action to be taken further to ensure all passwords are same everywhere since belo wmsg says all passwords were not changed.\\r\\n\\r\\n[cid:image001.jpg@01d2316b.5ff15980]\\r\\n\\r\\n</td>\n",
              "      <td>jvpkulxw ovuweygj</td>\n",
              "      <td>GRP_0</td>\n",
              "      <td>password change thru password_management_tool password manager</td>\n",
              "      <td>\\r\\n\\r\\nreceived from: jvpkulxw.ovuweygj@gmail.com\\r\\n\\r\\nhello sir,\\r\\n\\r\\ni tried to change my password thru above. i  got below error. pl help know what action to be taken further to ensure all passwords are same everywhere since belo wmsg says all passwords were not changed.\\r\\n\\r\\n[cid:image001.jpg@01d2316b.5ff15980]\\r\\n\\r\\n</td>\n",
              "    </tr>\n",
              "    <tr>\n",
              "      <th>151</th>\n",
              "      <td>i used to have acces to this location on collaboration_platform.  now i do not. i need access.</td>\n",
              "      <td>\\n\\nreceived from: bwfhtumx.japznrvb@gmail.com\\n\\n\\n\\n[cid:image001.jpg@01d230f7.8bb4e830]\\n\\nbwfhtumx japznrvb \\nregional controller\\nbwfhtumx.japznrvb@gmail.com&lt;mailto:bwfhtumx.japznrvb@gmail.com&gt;\\n\\n\\n\\n</td>\n",
              "      <td>bwfhtumx japznrvb</td>\n",
              "      <td>GRP_16</td>\n",
              "      <td>i used to have acces to this location on collaboration_platform.  now i do not. i need access.</td>\n",
              "      <td>\\n\\nreceived from: bwfhtumx.japznrvb@gmail.com\\n\\n\\n\\n[cid:image001.jpg@01d230f7.8bb4e830]\\n\\nbwfhtumx japznrvb \\nregional controller\\nbwfhtumx.japznrvb@gmail.com&lt;mailto:bwfhtumx.japznrvb@gmail.com&gt;\\n\\n\\n\\n</td>\n",
              "    </tr>\n",
              "  </tbody>\n",
              "</table>\n",
              "</div>"
            ],
            "text/plain": [
              "                                                                                  Short description  ...                                                                                                                                                                                                                                                                                                                                                                                                                                                                                                                desc_analysis\n",
              "21                                                                                        vpn issue  ...  \\r\\n\\r\\nreceived from: ugephfta.hrbqkvij@gmail.com\\r\\n\\r\\nhello helpdesk\\r\\n\\r\\ni am not able to connect vpn from home office. couple f hours ago i was connected, now it is not working anymore. getting a message that my session expired but if i click on the link, nothing happens.\\r\\n\\r\\n[cid:image001.jpg@01d233aa.3f618be0]\\r\\n\\r\\n*********************\\r\\n\\r\\nneed help with your dynamics crm?\\r\\nclick here<\\r\\n\\r\\nchat with a live agent regarding your dynamics crm questions now! click here<\\r\\n\\r\\nbest \n",
              "62                                                                              issues with outlook  ...                                                                                                                                                                                                                                                                                                                                                                                                                  \\r\\n\\r\\nreceived from: lkfzibrx.ljnabpgx@gmail.com\\r\\n\\r\\n[cid:image001.png@01d23357.fcbe58b0]\\r\\n\\r\\nbest \n",
              "107                                                           attendance_tool - system log on error  ...                                                                                                                                                                                   \\n\\nreceived from: isfadulo.etkyjabn@gmail.com\\n\\nhello\\n\\ngood morning,\\n\\ni am experiencing issues with attendance_tool log on\\nevery time i try to log on through \"single sign portal, the following screen gets displayed and it stays there.\\nappreciate your support to fix this issue\\n\\n\\n[cid:image011.jpg@01d231cb.2cceacf0]\\n\\n\n",
              "128                                  password change thru password_management_tool password manager  ...                                                                                                                                                                                  \\r\\n\\r\\nreceived from: jvpkulxw.ovuweygj@gmail.com\\r\\n\\r\\nhello sir,\\r\\n\\r\\ni tried to change my password thru above. i  got below error. pl help know what action to be taken further to ensure all passwords are same everywhere since belo wmsg says all passwords were not changed.\\r\\n\\r\\n[cid:image001.jpg@01d2316b.5ff15980]\\r\\n\\r\\n\n",
              "151  i used to have acces to this location on collaboration_platform.  now i do not. i need access.  ...                                                                                                                                                                                                                                                                                                               \\n\\nreceived from: bwfhtumx.japznrvb@gmail.com\\n\\n\\n\\n[cid:image001.jpg@01d230f7.8bb4e830]\\n\\nbwfhtumx japznrvb \\nregional controller\\nbwfhtumx.japznrvb@gmail.com<mailto:bwfhtumx.japznrvb@gmail.com>\\n\\n\\n\\n\n",
              "\n",
              "[5 rows x 6 columns]"
            ]
          },
          "metadata": {},
          "execution_count": 135
        }
      ]
    },
    {
      "cell_type": "markdown",
      "metadata": {
        "id": "qxCXYQUvJrvL"
      },
      "source": [
        "There are some texts containing embedded image details.  Removing the text pertaining to embedded images"
      ]
    },
    {
      "cell_type": "code",
      "metadata": {
        "id": "-HmGbLaBMVtQ"
      },
      "source": [
        "ata_data['short_desc_analysis'] = ata_data['short_desc_analysis'].apply(preprocess_text_part1)\n",
        "ata_data['desc_analysis'] = ata_data['desc_analysis'].apply(preprocess_text_part1)"
      ],
      "execution_count": 136,
      "outputs": []
    },
    {
      "cell_type": "code",
      "metadata": {
        "colab": {
          "base_uri": "https://localhost:8080/",
          "height": 479
        },
        "id": "OXBQiTsbPBtM",
        "outputId": "f8541534-4a66-4827-a823-28952ebf57fe"
      },
      "source": [
        "ata_data.head()"
      ],
      "execution_count": 137,
      "outputs": [
        {
          "output_type": "execute_result",
          "data": {
            "text/html": [
              "<div>\n",
              "<style scoped>\n",
              "    .dataframe tbody tr th:only-of-type {\n",
              "        vertical-align: middle;\n",
              "    }\n",
              "\n",
              "    .dataframe tbody tr th {\n",
              "        vertical-align: top;\n",
              "    }\n",
              "\n",
              "    .dataframe thead th {\n",
              "        text-align: right;\n",
              "    }\n",
              "</style>\n",
              "<table border=\"1\" class=\"dataframe\">\n",
              "  <thead>\n",
              "    <tr style=\"text-align: right;\">\n",
              "      <th></th>\n",
              "      <th>Short description</th>\n",
              "      <th>Description</th>\n",
              "      <th>Caller</th>\n",
              "      <th>Assignment group</th>\n",
              "      <th>short_desc_analysis</th>\n",
              "      <th>desc_analysis</th>\n",
              "    </tr>\n",
              "  </thead>\n",
              "  <tbody>\n",
              "    <tr>\n",
              "      <th>0</th>\n",
              "      <td>login issue</td>\n",
              "      <td>-verified user details.(employee# &amp; manager name)\\r\\n-checked the user name in ad and reset the password.\\r\\n-advised the user to login and check.\\r\\n-caller confirmed that he was able to login.\\r\\n-issue resolved.</td>\n",
              "      <td>spxjnwir pjlcoqds</td>\n",
              "      <td>GRP_0</td>\n",
              "      <td>login issue</td>\n",
              "      <td>-verified user details.(employee# &amp; manager name)\\n-checked the user name in ad and reset the password.\\n-advised the user to login and check.\\n-caller confirmed that he was able to login.\\n-issue resolved.</td>\n",
              "    </tr>\n",
              "    <tr>\n",
              "      <th>1</th>\n",
              "      <td>outlook</td>\n",
              "      <td>\\r\\n\\r\\nreceived from: hmjdrvpb.komuaywn@gmail.com\\r\\n\\r\\nhello team,\\r\\n\\r\\nmy meetings/skype meetings etc are not appearing in my outlook calendar, can somebody please advise how to correct this?\\r\\n\\r\\nkind</td>\n",
              "      <td>hmjdrvpb komuaywn</td>\n",
              "      <td>GRP_0</td>\n",
              "      <td>outlook</td>\n",
              "      <td>\\n\\nreceived from: hmjdrvpb.komuaywn@gmail.com\\n\\nhello team,\\n\\nmy meetings/skype meetings etc are not appearing in my outlook calendar, can somebody please advise how to correct this?\\n\\nkind</td>\n",
              "    </tr>\n",
              "    <tr>\n",
              "      <th>2</th>\n",
              "      <td>cant log in to vpn</td>\n",
              "      <td>\\r\\n\\r\\nreceived from: eylqgodm.ybqkwiam@gmail.com\\r\\n\\r\\nhi\\r\\n\\r\\ni cannot log on to vpn\\r\\n\\r\\nbest</td>\n",
              "      <td>eylqgodm ybqkwiam</td>\n",
              "      <td>GRP_0</td>\n",
              "      <td>cant log in to vpn</td>\n",
              "      <td>\\n\\nreceived from: eylqgodm.ybqkwiam@gmail.com\\n\\nhi\\n\\ni cannot log on to vpn\\n\\nbest</td>\n",
              "    </tr>\n",
              "    <tr>\n",
              "      <th>3</th>\n",
              "      <td>unable to access hr_tool page</td>\n",
              "      <td>unable to access hr_tool page</td>\n",
              "      <td>xbkucsvz gcpydteq</td>\n",
              "      <td>GRP_0</td>\n",
              "      <td>unable to access hr_tool page</td>\n",
              "      <td>unable to access hr_tool page</td>\n",
              "    </tr>\n",
              "    <tr>\n",
              "      <th>4</th>\n",
              "      <td>skype error</td>\n",
              "      <td>skype error</td>\n",
              "      <td>owlgqjme qhcozdfx</td>\n",
              "      <td>GRP_0</td>\n",
              "      <td>skype error</td>\n",
              "      <td>skype error</td>\n",
              "    </tr>\n",
              "  </tbody>\n",
              "</table>\n",
              "</div>"
            ],
            "text/plain": [
              "               Short description  ...                                                                                                                                                                                                   desc_analysis\n",
              "0                    login issue  ...  -verified user details.(employee# & manager name)\\n-checked the user name in ad and reset the password.\\n-advised the user to login and check.\\n-caller confirmed that he was able to login.\\n-issue resolved.\n",
              "1                        outlook  ...              \\n\\nreceived from: hmjdrvpb.komuaywn@gmail.com\\n\\nhello team,\\n\\nmy meetings/skype meetings etc are not appearing in my outlook calendar, can somebody please advise how to correct this?\\n\\nkind \n",
              "2             cant log in to vpn  ...                                                                                                                         \\n\\nreceived from: eylqgodm.ybqkwiam@gmail.com\\n\\nhi\\n\\ni cannot log on to vpn\\n\\nbest \n",
              "3  unable to access hr_tool page  ...                                                                                                                                                                                   unable to access hr_tool page\n",
              "4                   skype error   ...                                                                                                                                                                                                    skype error \n",
              "\n",
              "[5 rows x 6 columns]"
            ]
          },
          "metadata": {},
          "execution_count": 137
        }
      ]
    },
    {
      "cell_type": "code",
      "metadata": {
        "id": "lf72lCxgcaV0"
      },
      "source": [
        "ata_data['mail_received_from'] = ata_data['desc_analysis'].apply(extract_received_from_mail)\n",
        "ata_data['mail_subject_mentioned'] = ata_data['desc_analysis'].apply(extract_subject_from_mail)"
      ],
      "execution_count": 138,
      "outputs": []
    },
    {
      "cell_type": "code",
      "metadata": {
        "colab": {
          "base_uri": "https://localhost:8080/",
          "height": 499
        },
        "id": "r7UpfQ8mcagh",
        "outputId": "3fc35795-73f1-4742-cc02-4cbc08edb387"
      },
      "source": [
        "ata_data.head()"
      ],
      "execution_count": 139,
      "outputs": [
        {
          "output_type": "execute_result",
          "data": {
            "text/html": [
              "<div>\n",
              "<style scoped>\n",
              "    .dataframe tbody tr th:only-of-type {\n",
              "        vertical-align: middle;\n",
              "    }\n",
              "\n",
              "    .dataframe tbody tr th {\n",
              "        vertical-align: top;\n",
              "    }\n",
              "\n",
              "    .dataframe thead th {\n",
              "        text-align: right;\n",
              "    }\n",
              "</style>\n",
              "<table border=\"1\" class=\"dataframe\">\n",
              "  <thead>\n",
              "    <tr style=\"text-align: right;\">\n",
              "      <th></th>\n",
              "      <th>Short description</th>\n",
              "      <th>Description</th>\n",
              "      <th>Caller</th>\n",
              "      <th>Assignment group</th>\n",
              "      <th>short_desc_analysis</th>\n",
              "      <th>desc_analysis</th>\n",
              "      <th>mail_received_from</th>\n",
              "      <th>mail_subject_mentioned</th>\n",
              "    </tr>\n",
              "  </thead>\n",
              "  <tbody>\n",
              "    <tr>\n",
              "      <th>0</th>\n",
              "      <td>login issue</td>\n",
              "      <td>-verified user details.(employee# &amp; manager name)\\r\\n-checked the user name in ad and reset the password.\\r\\n-advised the user to login and check.\\r\\n-caller confirmed that he was able to login.\\r\\n-issue resolved.</td>\n",
              "      <td>spxjnwir pjlcoqds</td>\n",
              "      <td>GRP_0</td>\n",
              "      <td>login issue</td>\n",
              "      <td>-verified user details.(employee# &amp; manager name)\\n-checked the user name in ad and reset the password.\\n-advised the user to login and check.\\n-caller confirmed that he was able to login.\\n-issue resolved.</td>\n",
              "      <td>No Match</td>\n",
              "      <td>No Match</td>\n",
              "    </tr>\n",
              "    <tr>\n",
              "      <th>1</th>\n",
              "      <td>outlook</td>\n",
              "      <td>\\r\\n\\r\\nreceived from: hmjdrvpb.komuaywn@gmail.com\\r\\n\\r\\nhello team,\\r\\n\\r\\nmy meetings/skype meetings etc are not appearing in my outlook calendar, can somebody please advise how to correct this?\\r\\n\\r\\nkind</td>\n",
              "      <td>hmjdrvpb komuaywn</td>\n",
              "      <td>GRP_0</td>\n",
              "      <td>outlook</td>\n",
              "      <td>\\n\\nreceived from: hmjdrvpb.komuaywn@gmail.com\\n\\nhello team,\\n\\nmy meetings/skype meetings etc are not appearing in my outlook calendar, can somebody please advise how to correct this?\\n\\nkind</td>\n",
              "      <td>hmjdrvpb.komuaywn@gmail.com</td>\n",
              "      <td>No Match</td>\n",
              "    </tr>\n",
              "    <tr>\n",
              "      <th>2</th>\n",
              "      <td>cant log in to vpn</td>\n",
              "      <td>\\r\\n\\r\\nreceived from: eylqgodm.ybqkwiam@gmail.com\\r\\n\\r\\nhi\\r\\n\\r\\ni cannot log on to vpn\\r\\n\\r\\nbest</td>\n",
              "      <td>eylqgodm ybqkwiam</td>\n",
              "      <td>GRP_0</td>\n",
              "      <td>cant log in to vpn</td>\n",
              "      <td>\\n\\nreceived from: eylqgodm.ybqkwiam@gmail.com\\n\\nhi\\n\\ni cannot log on to vpn\\n\\nbest</td>\n",
              "      <td>eylqgodm.ybqkwiam@gmail.com</td>\n",
              "      <td>No Match</td>\n",
              "    </tr>\n",
              "    <tr>\n",
              "      <th>3</th>\n",
              "      <td>unable to access hr_tool page</td>\n",
              "      <td>unable to access hr_tool page</td>\n",
              "      <td>xbkucsvz gcpydteq</td>\n",
              "      <td>GRP_0</td>\n",
              "      <td>unable to access hr_tool page</td>\n",
              "      <td>unable to access hr_tool page</td>\n",
              "      <td>No Match</td>\n",
              "      <td>No Match</td>\n",
              "    </tr>\n",
              "    <tr>\n",
              "      <th>4</th>\n",
              "      <td>skype error</td>\n",
              "      <td>skype error</td>\n",
              "      <td>owlgqjme qhcozdfx</td>\n",
              "      <td>GRP_0</td>\n",
              "      <td>skype error</td>\n",
              "      <td>skype error</td>\n",
              "      <td>No Match</td>\n",
              "      <td>No Match</td>\n",
              "    </tr>\n",
              "  </tbody>\n",
              "</table>\n",
              "</div>"
            ],
            "text/plain": [
              "               Short description  ... mail_subject_mentioned\n",
              "0                    login issue  ...               No Match\n",
              "1                        outlook  ...               No Match\n",
              "2             cant log in to vpn  ...               No Match\n",
              "3  unable to access hr_tool page  ...               No Match\n",
              "4                   skype error   ...               No Match\n",
              "\n",
              "[5 rows x 8 columns]"
            ]
          },
          "metadata": {},
          "execution_count": 139
        }
      ]
    },
    {
      "cell_type": "code",
      "metadata": {
        "id": "idyy-BhPcamP",
        "colab": {
          "base_uri": "https://localhost:8080/",
          "height": 363
        },
        "outputId": "bde4b92a-07d4-40aa-e6ce-fdb21fc55a8e"
      },
      "source": [
        "ata_data['short_desc_analysis'] = ata_data['short_desc_analysis'].apply(preprocess_text_part2)\n",
        "ata_data['desc_analysis'] = ata_data['desc_analysis'].apply(preprocess_text_part2)"
      ],
      "execution_count": 140,
      "outputs": [
        {
          "output_type": "error",
          "ename": "LangDetectException",
          "evalue": "ignored",
          "traceback": [
            "\u001b[0;31m---------------------------------------------------------------------------\u001b[0m",
            "\u001b[0;31mLangDetectException\u001b[0m                       Traceback (most recent call last)",
            "\u001b[0;32m<ipython-input-140-95b9f87336a7>\u001b[0m in \u001b[0;36m<module>\u001b[0;34m()\u001b[0m\n\u001b[0;32m----> 1\u001b[0;31m \u001b[0mata_data\u001b[0m\u001b[0;34m[\u001b[0m\u001b[0;34m'short_desc_analysis'\u001b[0m\u001b[0;34m]\u001b[0m \u001b[0;34m=\u001b[0m \u001b[0mata_data\u001b[0m\u001b[0;34m[\u001b[0m\u001b[0;34m'short_desc_analysis'\u001b[0m\u001b[0;34m]\u001b[0m\u001b[0;34m.\u001b[0m\u001b[0mapply\u001b[0m\u001b[0;34m(\u001b[0m\u001b[0mpreprocess_text_part2\u001b[0m\u001b[0;34m)\u001b[0m\u001b[0;34m\u001b[0m\u001b[0;34m\u001b[0m\u001b[0m\n\u001b[0m\u001b[1;32m      2\u001b[0m \u001b[0mata_data\u001b[0m\u001b[0;34m[\u001b[0m\u001b[0;34m'desc_analysis'\u001b[0m\u001b[0;34m]\u001b[0m \u001b[0;34m=\u001b[0m \u001b[0mata_data\u001b[0m\u001b[0;34m[\u001b[0m\u001b[0;34m'desc_analysis'\u001b[0m\u001b[0;34m]\u001b[0m\u001b[0;34m.\u001b[0m\u001b[0mapply\u001b[0m\u001b[0;34m(\u001b[0m\u001b[0mpreprocess_text_part2\u001b[0m\u001b[0;34m)\u001b[0m\u001b[0;34m\u001b[0m\u001b[0;34m\u001b[0m\u001b[0m\n",
            "\u001b[0;32m/usr/local/lib/python3.7/dist-packages/pandas/core/series.py\u001b[0m in \u001b[0;36mapply\u001b[0;34m(self, func, convert_dtype, args, **kwds)\u001b[0m\n\u001b[1;32m   4211\u001b[0m             \u001b[0;32melse\u001b[0m\u001b[0;34m:\u001b[0m\u001b[0;34m\u001b[0m\u001b[0;34m\u001b[0m\u001b[0m\n\u001b[1;32m   4212\u001b[0m                 \u001b[0mvalues\u001b[0m \u001b[0;34m=\u001b[0m \u001b[0mself\u001b[0m\u001b[0;34m.\u001b[0m\u001b[0mastype\u001b[0m\u001b[0;34m(\u001b[0m\u001b[0mobject\u001b[0m\u001b[0;34m)\u001b[0m\u001b[0;34m.\u001b[0m\u001b[0m_values\u001b[0m\u001b[0;34m\u001b[0m\u001b[0;34m\u001b[0m\u001b[0m\n\u001b[0;32m-> 4213\u001b[0;31m                 \u001b[0mmapped\u001b[0m \u001b[0;34m=\u001b[0m \u001b[0mlib\u001b[0m\u001b[0;34m.\u001b[0m\u001b[0mmap_infer\u001b[0m\u001b[0;34m(\u001b[0m\u001b[0mvalues\u001b[0m\u001b[0;34m,\u001b[0m \u001b[0mf\u001b[0m\u001b[0;34m,\u001b[0m \u001b[0mconvert\u001b[0m\u001b[0;34m=\u001b[0m\u001b[0mconvert_dtype\u001b[0m\u001b[0;34m)\u001b[0m\u001b[0;34m\u001b[0m\u001b[0;34m\u001b[0m\u001b[0m\n\u001b[0m\u001b[1;32m   4214\u001b[0m \u001b[0;34m\u001b[0m\u001b[0m\n\u001b[1;32m   4215\u001b[0m         \u001b[0;32mif\u001b[0m \u001b[0mlen\u001b[0m\u001b[0;34m(\u001b[0m\u001b[0mmapped\u001b[0m\u001b[0;34m)\u001b[0m \u001b[0;32mand\u001b[0m \u001b[0misinstance\u001b[0m\u001b[0;34m(\u001b[0m\u001b[0mmapped\u001b[0m\u001b[0;34m[\u001b[0m\u001b[0;36m0\u001b[0m\u001b[0;34m]\u001b[0m\u001b[0;34m,\u001b[0m \u001b[0mSeries\u001b[0m\u001b[0;34m)\u001b[0m\u001b[0;34m:\u001b[0m\u001b[0;34m\u001b[0m\u001b[0;34m\u001b[0m\u001b[0m\n",
            "\u001b[0;32mpandas/_libs/lib.pyx\u001b[0m in \u001b[0;36mpandas._libs.lib.map_infer\u001b[0;34m()\u001b[0m\n",
            "\u001b[0;32m<ipython-input-115-7e599d5c343c>\u001b[0m in \u001b[0;36mpreprocess_text_part2\u001b[0;34m(text)\u001b[0m\n\u001b[1;32m     10\u001b[0m   \u001b[0mtext\u001b[0m \u001b[0;34m=\u001b[0m \u001b[0mremove_best_wishes\u001b[0m\u001b[0;34m(\u001b[0m\u001b[0mtext\u001b[0m\u001b[0;34m)\u001b[0m\u001b[0;34m\u001b[0m\u001b[0;34m\u001b[0m\u001b[0m\n\u001b[1;32m     11\u001b[0m   \u001b[0mtext\u001b[0m \u001b[0;34m=\u001b[0m \u001b[0mremove_hello_wishes\u001b[0m\u001b[0;34m(\u001b[0m\u001b[0mtext\u001b[0m\u001b[0;34m)\u001b[0m\u001b[0;34m\u001b[0m\u001b[0;34m\u001b[0m\u001b[0m\n\u001b[0;32m---> 12\u001b[0;31m   \u001b[0mtext\u001b[0m \u001b[0;34m=\u001b[0m \u001b[0mtranslate_to_english\u001b[0m\u001b[0;34m(\u001b[0m\u001b[0mtext\u001b[0m\u001b[0;34m)\u001b[0m\u001b[0;34m\u001b[0m\u001b[0;34m\u001b[0m\u001b[0m\n\u001b[0m\u001b[1;32m     13\u001b[0m   \u001b[0;31m#text = remove_stopwords(text)\u001b[0m\u001b[0;34m\u001b[0m\u001b[0;34m\u001b[0m\u001b[0;34m\u001b[0m\u001b[0m\n\u001b[1;32m     14\u001b[0m   \u001b[0;31m#text = lemmetize_text(text)\u001b[0m\u001b[0;34m\u001b[0m\u001b[0;34m\u001b[0m\u001b[0;34m\u001b[0m\u001b[0m\n",
            "\u001b[0;32m<ipython-input-99-94b3ce06f059>\u001b[0m in \u001b[0;36mtranslate_to_english\u001b[0;34m(text)\u001b[0m\n\u001b[1;32m      2\u001b[0m   \u001b[0mtranslated_text\u001b[0m \u001b[0;34m=\u001b[0m \u001b[0mtext\u001b[0m\u001b[0;34m\u001b[0m\u001b[0;34m\u001b[0m\u001b[0m\n\u001b[1;32m      3\u001b[0m   \u001b[0;32mif\u001b[0m \u001b[0mlen\u001b[0m\u001b[0;34m(\u001b[0m\u001b[0mtext\u001b[0m\u001b[0;34m)\u001b[0m\u001b[0;34m>\u001b[0m\u001b[0;36m0\u001b[0m\u001b[0;34m:\u001b[0m\u001b[0;34m\u001b[0m\u001b[0;34m\u001b[0m\u001b[0m\n\u001b[0;32m----> 4\u001b[0;31m     \u001b[0;32mif\u001b[0m \u001b[0;34m(\u001b[0m\u001b[0mdetect\u001b[0m\u001b[0;34m(\u001b[0m\u001b[0mtext\u001b[0m\u001b[0;34m)\u001b[0m \u001b[0;34m!=\u001b[0m \u001b[0;34m'en'\u001b[0m\u001b[0;34m)\u001b[0m\u001b[0;34m:\u001b[0m\u001b[0;34m\u001b[0m\u001b[0;34m\u001b[0m\u001b[0m\n\u001b[0m\u001b[1;32m      5\u001b[0m       \u001b[0mtranslated_text\u001b[0m \u001b[0;34m=\u001b[0m \u001b[0mGoogleTranslator\u001b[0m\u001b[0;34m(\u001b[0m\u001b[0msource\u001b[0m\u001b[0;34m=\u001b[0m\u001b[0;34m'auto'\u001b[0m\u001b[0;34m,\u001b[0m \u001b[0mtarget\u001b[0m\u001b[0;34m=\u001b[0m\u001b[0;34m'english'\u001b[0m\u001b[0;34m)\u001b[0m\u001b[0;34m.\u001b[0m\u001b[0mtranslate\u001b[0m\u001b[0;34m(\u001b[0m\u001b[0mtext\u001b[0m\u001b[0;34m)\u001b[0m\u001b[0;34m\u001b[0m\u001b[0;34m\u001b[0m\u001b[0m\n\u001b[1;32m      6\u001b[0m   \u001b[0;32mreturn\u001b[0m \u001b[0mtranslated_text\u001b[0m\u001b[0;34m\u001b[0m\u001b[0;34m\u001b[0m\u001b[0m\n",
            "\u001b[0;32m/usr/local/lib/python3.7/dist-packages/langdetect/detector_factory.py\u001b[0m in \u001b[0;36mdetect\u001b[0;34m(text)\u001b[0m\n\u001b[1;32m    128\u001b[0m     \u001b[0mdetector\u001b[0m \u001b[0;34m=\u001b[0m \u001b[0m_factory\u001b[0m\u001b[0;34m.\u001b[0m\u001b[0mcreate\u001b[0m\u001b[0;34m(\u001b[0m\u001b[0;34m)\u001b[0m\u001b[0;34m\u001b[0m\u001b[0;34m\u001b[0m\u001b[0m\n\u001b[1;32m    129\u001b[0m     \u001b[0mdetector\u001b[0m\u001b[0;34m.\u001b[0m\u001b[0mappend\u001b[0m\u001b[0;34m(\u001b[0m\u001b[0mtext\u001b[0m\u001b[0;34m)\u001b[0m\u001b[0;34m\u001b[0m\u001b[0;34m\u001b[0m\u001b[0m\n\u001b[0;32m--> 130\u001b[0;31m     \u001b[0;32mreturn\u001b[0m \u001b[0mdetector\u001b[0m\u001b[0;34m.\u001b[0m\u001b[0mdetect\u001b[0m\u001b[0;34m(\u001b[0m\u001b[0;34m)\u001b[0m\u001b[0;34m\u001b[0m\u001b[0;34m\u001b[0m\u001b[0m\n\u001b[0m\u001b[1;32m    131\u001b[0m \u001b[0;34m\u001b[0m\u001b[0m\n\u001b[1;32m    132\u001b[0m \u001b[0;34m\u001b[0m\u001b[0m\n",
            "\u001b[0;32m/usr/local/lib/python3.7/dist-packages/langdetect/detector.py\u001b[0m in \u001b[0;36mdetect\u001b[0;34m(self)\u001b[0m\n\u001b[1;32m    134\u001b[0m         \u001b[0mwhich\u001b[0m \u001b[0mhas\u001b[0m \u001b[0mthe\u001b[0m \u001b[0mhighest\u001b[0m \u001b[0mprobability\u001b[0m\u001b[0;34m.\u001b[0m\u001b[0;34m\u001b[0m\u001b[0;34m\u001b[0m\u001b[0m\n\u001b[1;32m    135\u001b[0m         '''\n\u001b[0;32m--> 136\u001b[0;31m         \u001b[0mprobabilities\u001b[0m \u001b[0;34m=\u001b[0m \u001b[0mself\u001b[0m\u001b[0;34m.\u001b[0m\u001b[0mget_probabilities\u001b[0m\u001b[0;34m(\u001b[0m\u001b[0;34m)\u001b[0m\u001b[0;34m\u001b[0m\u001b[0;34m\u001b[0m\u001b[0m\n\u001b[0m\u001b[1;32m    137\u001b[0m         \u001b[0;32mif\u001b[0m \u001b[0mprobabilities\u001b[0m\u001b[0;34m:\u001b[0m\u001b[0;34m\u001b[0m\u001b[0;34m\u001b[0m\u001b[0m\n\u001b[1;32m    138\u001b[0m             \u001b[0;32mreturn\u001b[0m \u001b[0mprobabilities\u001b[0m\u001b[0;34m[\u001b[0m\u001b[0;36m0\u001b[0m\u001b[0;34m]\u001b[0m\u001b[0;34m.\u001b[0m\u001b[0mlang\u001b[0m\u001b[0;34m\u001b[0m\u001b[0;34m\u001b[0m\u001b[0m\n",
            "\u001b[0;32m/usr/local/lib/python3.7/dist-packages/langdetect/detector.py\u001b[0m in \u001b[0;36mget_probabilities\u001b[0;34m(self)\u001b[0m\n\u001b[1;32m    141\u001b[0m     \u001b[0;32mdef\u001b[0m \u001b[0mget_probabilities\u001b[0m\u001b[0;34m(\u001b[0m\u001b[0mself\u001b[0m\u001b[0;34m)\u001b[0m\u001b[0;34m:\u001b[0m\u001b[0;34m\u001b[0m\u001b[0;34m\u001b[0m\u001b[0m\n\u001b[1;32m    142\u001b[0m         \u001b[0;32mif\u001b[0m \u001b[0mself\u001b[0m\u001b[0;34m.\u001b[0m\u001b[0mlangprob\u001b[0m \u001b[0;32mis\u001b[0m \u001b[0;32mNone\u001b[0m\u001b[0;34m:\u001b[0m\u001b[0;34m\u001b[0m\u001b[0;34m\u001b[0m\u001b[0m\n\u001b[0;32m--> 143\u001b[0;31m             \u001b[0mself\u001b[0m\u001b[0;34m.\u001b[0m\u001b[0m_detect_block\u001b[0m\u001b[0;34m(\u001b[0m\u001b[0;34m)\u001b[0m\u001b[0;34m\u001b[0m\u001b[0;34m\u001b[0m\u001b[0m\n\u001b[0m\u001b[1;32m    144\u001b[0m         \u001b[0;32mreturn\u001b[0m \u001b[0mself\u001b[0m\u001b[0;34m.\u001b[0m\u001b[0m_sort_probability\u001b[0m\u001b[0;34m(\u001b[0m\u001b[0mself\u001b[0m\u001b[0;34m.\u001b[0m\u001b[0mlangprob\u001b[0m\u001b[0;34m)\u001b[0m\u001b[0;34m\u001b[0m\u001b[0;34m\u001b[0m\u001b[0m\n\u001b[1;32m    145\u001b[0m \u001b[0;34m\u001b[0m\u001b[0m\n",
            "\u001b[0;32m/usr/local/lib/python3.7/dist-packages/langdetect/detector.py\u001b[0m in \u001b[0;36m_detect_block\u001b[0;34m(self)\u001b[0m\n\u001b[1;32m    148\u001b[0m         \u001b[0mngrams\u001b[0m \u001b[0;34m=\u001b[0m \u001b[0mself\u001b[0m\u001b[0;34m.\u001b[0m\u001b[0m_extract_ngrams\u001b[0m\u001b[0;34m(\u001b[0m\u001b[0;34m)\u001b[0m\u001b[0;34m\u001b[0m\u001b[0;34m\u001b[0m\u001b[0m\n\u001b[1;32m    149\u001b[0m         \u001b[0;32mif\u001b[0m \u001b[0;32mnot\u001b[0m \u001b[0mngrams\u001b[0m\u001b[0;34m:\u001b[0m\u001b[0;34m\u001b[0m\u001b[0;34m\u001b[0m\u001b[0m\n\u001b[0;32m--> 150\u001b[0;31m             \u001b[0;32mraise\u001b[0m \u001b[0mLangDetectException\u001b[0m\u001b[0;34m(\u001b[0m\u001b[0mErrorCode\u001b[0m\u001b[0;34m.\u001b[0m\u001b[0mCantDetectError\u001b[0m\u001b[0;34m,\u001b[0m \u001b[0;34m'No features in text.'\u001b[0m\u001b[0;34m)\u001b[0m\u001b[0;34m\u001b[0m\u001b[0;34m\u001b[0m\u001b[0m\n\u001b[0m\u001b[1;32m    151\u001b[0m \u001b[0;34m\u001b[0m\u001b[0m\n\u001b[1;32m    152\u001b[0m         \u001b[0mself\u001b[0m\u001b[0;34m.\u001b[0m\u001b[0mlangprob\u001b[0m \u001b[0;34m=\u001b[0m \u001b[0;34m[\u001b[0m\u001b[0;36m0.0\u001b[0m\u001b[0;34m]\u001b[0m \u001b[0;34m*\u001b[0m \u001b[0mlen\u001b[0m\u001b[0;34m(\u001b[0m\u001b[0mself\u001b[0m\u001b[0;34m.\u001b[0m\u001b[0mlanglist\u001b[0m\u001b[0;34m)\u001b[0m\u001b[0;34m\u001b[0m\u001b[0;34m\u001b[0m\u001b[0m\n",
            "\u001b[0;31mLangDetectException\u001b[0m: No features in text."
          ]
        }
      ]
    },
    {
      "cell_type": "markdown",
      "source": [
        "Removing the Caller name from the description.  "
      ],
      "metadata": {
        "id": "adISVWl3R0ab"
      }
    },
    {
      "cell_type": "code",
      "source": [
        "caller_list = ata_data[\"Caller\"].str.split(\" \", n = 1, expand = True)\n",
        "caller_list"
      ],
      "metadata": {
        "id": "l6YJcmRxR-Yq"
      },
      "execution_count": null,
      "outputs": []
    },
    {
      "cell_type": "code",
      "metadata": {
        "id": "MZwqBA5lcatC"
      },
      "source": [
        "ata_data.head()"
      ],
      "execution_count": null,
      "outputs": []
    },
    {
      "cell_type": "code",
      "metadata": {
        "id": "gHBjNBzyi7yO"
      },
      "source": [
        "ata_data.tail()"
      ],
      "execution_count": null,
      "outputs": []
    },
    {
      "cell_type": "code",
      "metadata": {
        "id": "Es3w32W0N9he"
      },
      "source": [
        "ata_data[ata_data['mail_received_from']!='No Match']['mail_received_from'].value_counts()"
      ],
      "execution_count": null,
      "outputs": []
    },
    {
      "cell_type": "code",
      "metadata": {
        "id": "WTC9qF0q9TLC"
      },
      "source": [
        "ata_data[ata_data['mail_subject_mentioned']!='No Match']"
      ],
      "execution_count": null,
      "outputs": []
    },
    {
      "cell_type": "code",
      "metadata": {
        "id": "pjaJEmh9ssql"
      },
      "source": [
        "ata_data.to_excel(\"intermediate_file.xlsx\")"
      ],
      "execution_count": null,
      "outputs": []
    },
    {
      "cell_type": "code",
      "metadata": {
        "id": "1eAxWH4-sstZ"
      },
      "source": [
        "ata_data[ata_data['Short description']=='unable to down load ethics module ']"
      ],
      "execution_count": null,
      "outputs": []
    },
    {
      "cell_type": "code",
      "metadata": {
        "id": "ieIow6NCsswM"
      },
      "source": [
        "ata_data[ata_data['Short description']=='no login options in erp']"
      ],
      "execution_count": null,
      "outputs": []
    },
    {
      "cell_type": "code",
      "source": [
        "ata_data['Assignment group'].value_counts()"
      ],
      "metadata": {
        "id": "EIP_C7_Eyl5F"
      },
      "execution_count": null,
      "outputs": []
    },
    {
      "cell_type": "code",
      "source": [
        "assignment_group_desc_order = ata_data['Assignment group'].value_counts().sort_values(ascending=False).index\n",
        "plt.figure(figsize=(50,10))\n",
        "sns.countplot(ata_data['Assignment group'], order=assignment_group_desc_order)"
      ],
      "metadata": {
        "id": "SX2yuWjMNS2y"
      },
      "execution_count": null,
      "outputs": []
    },
    {
      "cell_type": "code",
      "source": [
        "stop_words = set(stopwords.words('english'))\n",
        "\n",
        "ata_data['number_of_words_short_desc'] = ata_data.short_desc_analysis.apply(lambda x: len(x.split()))\n",
        "ata_data['number_of_char_short_desc'] = ata_data.short_desc_analysis.str.len()\n",
        "ata_data['number_of_punctuations_short_desc'] = ata_data.short_desc_analysis.apply(lambda x : len([x for x in x if x in string.punctuation]))\n",
        "ata_data['number_of_stop_words_short_desc'] = ata_data.short_desc_analysis.apply(lambda x: len([x for x in str(x).split() if x in stop_words]))\n",
        "\n",
        "\n",
        "\n",
        "\n",
        "ata_data['number_of_words_desc'] = ata_data.desc_analysis.apply(lambda x: len(x.split()))\n",
        "ata_data['number_of_char_desc'] = ata_data.desc_analysis.str.len()\n",
        "ata_data['number_of_punctuations_desc'] = ata_data.desc_analysis.apply(lambda x : len([x for x in x if x in string.punctuation]))\n",
        "ata_data['number_of_stop_words_desc'] = ata_data.desc_analysis.apply(lambda x: len([x for x in str(x).split() if x in stop_words]))"
      ],
      "metadata": {
        "id": "P6VZfDeoT_oU"
      },
      "execution_count": null,
      "outputs": []
    },
    {
      "cell_type": "code",
      "source": [
        "ata_data.head()"
      ],
      "metadata": {
        "id": "GBOHIEI5T_tb"
      },
      "execution_count": null,
      "outputs": []
    },
    {
      "cell_type": "code",
      "source": [
        "for displot_col in ata_data.select_dtypes(include = 'number').columns:\n",
        "    sns.displot(ata_data, x = displot_col, kde=True)"
      ],
      "metadata": {
        "id": "ssBib2QYT_1X"
      },
      "execution_count": null,
      "outputs": []
    },
    {
      "cell_type": "code",
      "metadata": {
        "id": "tAD2TADHH_xV"
      },
      "source": [
        "ata_data['Caller'].value_counts()"
      ],
      "execution_count": null,
      "outputs": []
    },
    {
      "cell_type": "code",
      "source": [
        ""
      ],
      "metadata": {
        "id": "s5awUbnsyWoy"
      },
      "execution_count": null,
      "outputs": []
    },
    {
      "cell_type": "code",
      "source": [
        "plt.figure(figsize = (20,20))\n",
        "word_cloud = WordCloud(max_words = 5000 , width = 1600 , height = 800).generate(\" \".join(ata_data['desc_analysis']))\n",
        "plt.title('Description')\n",
        "plt.imshow(word_cloud , interpolation = 'bilinear')"
      ],
      "metadata": {
        "id": "u08DPl5TUUBv"
      },
      "execution_count": null,
      "outputs": []
    },
    {
      "cell_type": "code",
      "source": [
        "plt.figure(figsize = (20,20))\n",
        "word_cloud = WordCloud(max_words = 5000 , width = 1600 , height = 800).generate(\" \".join(ata_data['short_desc_analysis']))\n",
        "plt.title('Short Description')\n",
        "plt.imshow(word_cloud , interpolation = 'bilinear')"
      ],
      "metadata": {
        "id": "TGxY6SdwXRbr"
      },
      "execution_count": null,
      "outputs": []
    },
    {
      "cell_type": "code",
      "metadata": {
        "id": "IUzX7g8aH_09"
      },
      "source": [
        "for grp in list(ata_data['Assignment group'].unique()):\n",
        "  plt.figure(figsize = (20,20))\n",
        "  word_cloud = WordCloud(max_words = 100 , width = 1600 , height = 800).generate(\" \".join(ata_data[ata_data['Assignment group']==grp]['short_desc_analysis']))\n",
        "  plt.title(grp)\n",
        "  plt.imshow(word_cloud , interpolation = 'bilinear')"
      ],
      "execution_count": null,
      "outputs": []
    },
    {
      "cell_type": "code",
      "source": [
        "for grp in list(ata_data['Assignment group'].unique()):\n",
        "  plt.figure(figsize = (20,20))\n",
        "  word_cloud = WordCloud(max_words = 100 , width = 1600 , height = 800).generate(\" \".join(ata_data[ata_data['Assignment group']==grp]['desc_analysis']))\n",
        "  plt.title(grp)\n",
        "  plt.imshow(word_cloud , interpolation = 'bilinear')"
      ],
      "metadata": {
        "id": "qNIgk0m0UUG3"
      },
      "execution_count": null,
      "outputs": []
    },
    {
      "cell_type": "markdown",
      "metadata": {
        "id": "EpPUUB8S2tGL"
      },
      "source": [
        "## PLAY AREA"
      ]
    },
    {
      "cell_type": "code",
      "metadata": {
        "id": "xiZcwUr8jEX1"
      },
      "source": [
        "line = \"should we use regex more often? let me know at  received from:321dsasdsa@dasdsa.com.lol\"\n",
        "match = re.search(r'received from: [\\w\\.-]+@[\\w\\.-]+', line)\n",
        "#match.group(0)"
      ],
      "execution_count": null,
      "outputs": []
    },
    {
      "cell_type": "code",
      "metadata": {
        "id": "GIPgZECELzQX"
      },
      "source": [
        "if bool(match):\n",
        "  print(match.group(0))\n",
        "else:\n",
        "  print(\"noth\")\n",
        "  "
      ],
      "execution_count": null,
      "outputs": []
    },
    {
      "cell_type": "code",
      "metadata": {
        "id": "tXorYlWfS0cZ"
      },
      "source": [
        "ata_data[ata_data['Description'].str.contains('to:', case=False, na=False)].head()"
      ],
      "execution_count": null,
      "outputs": []
    },
    {
      "cell_type": "code",
      "metadata": {
        "id": "eog8a7XhFzjg"
      },
      "source": [
        "text1 = 'from: mikhghytr wafglhdrhjop \\nsent: thursday, august 04, 2016 8:50 pm\\nto: nwfodmhc exurcwkm\\nsubject: rak fw: ethics collaboration_platform site\\n\\nplease review your recent ticketing_tool tickets and let me know who modified the ethics collaboration_platform site. a few weeks ago i had requested a change that placed a third column of selections. not sure who or why this was undone.\\n\\nmikhghytr wafglhdrhjop\\nsr. manager, global ethics and compliance programdntys\\nfrom: kzbuhixt zjdmoahr \\nsent: thursday, august 04, 2016 11:16 am\\nto: mikhghytr wafglhdrhjop <azxhejvq.fyemlavd@gmail.com>\\nsubject: re: ethics collaboration_platform site\\n\\nohâ€¦â€¦??\\n\\nsethdyr hdtyr\\nassistant general counsel â€“ compliance and real estate\\nglobal director of ethics & compliance; ccep\\nkzbuhixt.zjdmoahr@gmail.com \\n'"
      ],
      "execution_count": null,
      "outputs": []
    },
    {
      "cell_type": "code",
      "metadata": {
        "id": "cnZWvJzjGjel"
      },
      "source": [
        "match_text1 = re.search(r'subject:.*[\\r\\n\\t\\f\\v]', text1)\n",
        "match_text1.group(0)"
      ],
      "execution_count": null,
      "outputs": []
    },
    {
      "cell_type": "code",
      "metadata": {
        "id": "HPUHAjKuGjjz"
      },
      "source": [
        "text2 = 'from: pacvbetl yptglhoe \\r\\nsent: thursday, august 04, 2016 10:59 pm\\r\\nto: nwfodmhc exurcwkm\\r\\nsubject: amar fw: case id [ref:_case-111121032:ref] :: others\\r\\n\\r\\nplease see the forwarded email below. this looks suspicious to me and may be some sort of phishing or spamming email. please review it and let me know if it looks legitimate and is from legitimate individuals at company. i did not open or view any of the attachments. \\r\\n\\r\\ni have no idea why accounts payable would be sending me an email.\\r\\n\\r\\nbest'"
      ],
      "execution_count": null,
      "outputs": []
    },
    {
      "cell_type": "code",
      "metadata": {
        "id": "VF4lt5veGjnZ"
      },
      "source": [
        "match_text2 = re.search(r'subject:.*[\\r\\n\\t\\f\\v]', text2)\n",
        "match_text2.group(0)"
      ],
      "execution_count": null,
      "outputs": []
    },
    {
      "cell_type": "code",
      "metadata": {
        "id": "z8-ydcxZIAMK"
      },
      "source": [
        "text3 = 'from: brdhdd dhwduw\\nsent: thursday, october 27, 2016 6:12 am\\nto: nwfodmhc exurcwkm\\nsubject::fwd: unable to down load ethics module \\n\\n\\nbegin forwarded message:\\nfrom: <dqwhpjxy.pozjxbey@gmail.com>\\nto: <zanivrec.capbfhur@gmail.com>\\nsubject: unable to down load ethics module \\nhi â€“ trust doing well . i am unable to down load & getting below msg. i did reset resolution however still same issue persist.\\n \\nplease help.\\n \\n \\n \\n \\n \\ndirector of sales \\ncompany indirect channels - asia \\n& \\ndqwhpjxy.pozjxbey@gmail.com \\n\\n \\n \\n \\n \\n\\n\\n'"
      ],
      "execution_count": null,
      "outputs": []
    },
    {
      "cell_type": "code",
      "metadata": {
        "id": "mNbiDR3UJGpi"
      },
      "source": [
        "match_text3 = re.search(r'from:.*[\\r\\n\\t\\f\\v]', text3)\n",
        "match_text3.group(0)"
      ],
      "execution_count": null,
      "outputs": []
    },
    {
      "cell_type": "code",
      "metadata": {
        "id": "et942VFPZhAL"
      },
      "source": [
        "match_text3.groups(1)"
      ],
      "execution_count": null,
      "outputs": []
    },
    {
      "cell_type": "code",
      "metadata": {
        "id": "eAEaG9UvJJpR"
      },
      "source": [
        "sub_text3 = match_text3.group(0).replace('subject:',\"\")\n",
        "sub_text3"
      ],
      "execution_count": null,
      "outputs": []
    },
    {
      "cell_type": "code",
      "metadata": {
        "id": "4uoHTQCc2wyF"
      },
      "source": [
        "match_text3 = re.findall(r'frm:.*[\\r\\n\\t\\f\\v]', text3)\n",
        "match_text3"
      ],
      "execution_count": null,
      "outputs": []
    },
    {
      "cell_type": "code",
      "metadata": {
        "id": "qMQMqu7fgi69"
      },
      "source": [
        "for text in match_text3:\n",
        "  text3 = text3.replace(text, \"\")"
      ],
      "execution_count": null,
      "outputs": []
    },
    {
      "cell_type": "code",
      "metadata": {
        "id": "yMFfyvqbaEhi"
      },
      "source": [
        "text3"
      ],
      "execution_count": null,
      "outputs": []
    },
    {
      "cell_type": "code",
      "metadata": {
        "id": "O9A641j8fTmS"
      },
      "source": [
        "a = ['it'] + ['was'] + ['annoying']\n",
        "a"
      ],
      "execution_count": null,
      "outputs": []
    },
    {
      "cell_type": "code",
      "metadata": {
        "id": "BIFEb7V4iGta"
      },
      "source": [
        "type(a)"
      ],
      "execution_count": null,
      "outputs": []
    },
    {
      "cell_type": "code",
      "metadata": {
        "id": "czj2jqFYJT0Z"
      },
      "source": [
        "text4 = '\\n\\nreceived from: bwfhtumx.japznrvb@gmail.com\\n\\n\\n\\n[cid:image001.jpg@01d230f7.8bb4e830]\\n\\nbwfhtumx japznrvb \\nregional controller\\nbwfhtumx.japznrvb@gmail.com<mailto:bwfhtumx.japznrvb@gmail.com>\\n\\n\\n\\n'"
      ],
      "execution_count": null,
      "outputs": []
    },
    {
      "cell_type": "code",
      "metadata": {
        "id": "tMPasQsEJT3b"
      },
      "source": [
        "match_text4 = re.findall(r'\\[cid:image.*\\]', text4)\n",
        "match_text4"
      ],
      "execution_count": null,
      "outputs": []
    },
    {
      "cell_type": "code",
      "metadata": {
        "id": "WEGUp6_gJT6g"
      },
      "source": [
        "sentence = \"Tanzania ni nchi inayoongoza kwa utalii barani afrika\"\n",
        "print(detect(sentence))"
      ],
      "execution_count": null,
      "outputs": []
    },
    {
      "cell_type": "code",
      "metadata": {
        "id": "crRVH9BsJT9V"
      },
      "source": [
        "sec_sen = \" 不能连接\"\n",
        "print(detect(sec_sen))"
      ],
      "execution_count": null,
      "outputs": []
    },
    {
      "cell_type": "code",
      "metadata": {
        "id": "a4jDtD-IJT_8"
      },
      "source": [
        ""
      ],
      "execution_count": null,
      "outputs": []
    },
    {
      "cell_type": "code",
      "metadata": {
        "id": "XEg5RJlsJUEM"
      },
      "source": [
        ""
      ],
      "execution_count": null,
      "outputs": []
    },
    {
      "cell_type": "code",
      "metadata": {
        "id": "GsYvwAQ4gs2M"
      },
      "source": [
        "ftfy.fix_text('aktuell kÃ¶nnen keine rÃ¼ckmeldungen in EU_tool eingegeben werden. fehler \"laufzeitfehler\".')"
      ],
      "execution_count": null,
      "outputs": []
    },
    {
      "cell_type": "code",
      "metadata": {
        "id": "HhSSo1EBHXRO"
      },
      "source": [
        "ftfy.fix_text('ç”µè„‘ç™»å½•å¯†ç å¿˜è®°ï¼Œé‡ç½®å¯†ç ã€‚')"
      ],
      "execution_count": null,
      "outputs": []
    },
    {
      "cell_type": "code",
      "metadata": {
        "id": "SZQQeCESJdVH"
      },
      "source": [
        "ftfy.fix_text('skype error')"
      ],
      "execution_count": null,
      "outputs": []
    },
    {
      "cell_type": "code",
      "source": [
        "ftfy.fix_text('ç”µè„‘ç™»å½•å¯†ç å¿˜è®°ï¼Œé‡ç½®å¯†ç ã€‚')"
      ],
      "metadata": {
        "id": "YX7xLkWnN198"
      },
      "execution_count": null,
      "outputs": []
    },
    {
      "cell_type": "code",
      "metadata": {
        "id": "WOrTXbOwKqKT"
      },
      "source": [
        "to_translate = ftfy.fix_text('ç”µè„‘ç™»å½•å¯†ç å¿˜è®°ï¼Œé‡ç½®å¯†ç ã€‚')\n",
        "translated = GoogleTranslator(source='auto', target='english').translate(to_translate)\n",
        "\n",
        "print(translated)"
      ],
      "execution_count": null,
      "outputs": []
    },
    {
      "cell_type": "code",
      "metadata": {
        "id": "hTzOUMUI05x_"
      },
      "source": [
        "translate_to_english(ftfy.fix_text('ç”µè„‘ç™»å½•å¯†ç å¿˜è®°ï¼Œé‡ç½®å¯†ç ã€‚'))"
      ],
      "execution_count": null,
      "outputs": []
    },
    {
      "cell_type": "code",
      "metadata": {
        "id": "B4Mx8cUA7JfA"
      },
      "source": [
        "translate_to_english(ftfy.fix_text('my name is'))"
      ],
      "execution_count": null,
      "outputs": []
    },
    {
      "cell_type": "code",
      "metadata": {
        "id": "SJp9Mub_MK9r"
      },
      "source": [
        "to_translate = ftfy.fix_text('aktuell kÃ¶nnen keine rÃ¼ckmeldungen in EU_tool eingegeben werden. fehler \"laufzeitfehler\".')\n",
        "translated = GoogleTranslator(source='auto', target='english').translate(to_translate)\n",
        "\n",
        "print(translated)"
      ],
      "execution_count": null,
      "outputs": []
    },
    {
      "cell_type": "code",
      "metadata": {
        "id": "1qtGaGjW7NlD"
      },
      "source": [
        ""
      ],
      "execution_count": null,
      "outputs": []
    },
    {
      "cell_type": "code",
      "metadata": {
        "id": "1-KGtLW6Zqdz"
      },
      "source": [
        "to_translate = ftfy.fix_text('ç”µè„‘ç™»å½•å¯†ç å¿˜è®°ï¼Œé‡ç½®å¯†ç ã€‚')\n",
        "translated = GoogleTranslator(source='auto', target='english').translate(to_translate)\n",
        "\n",
        "print(translated)"
      ],
      "execution_count": null,
      "outputs": []
    },
    {
      "cell_type": "code",
      "metadata": {
        "id": "YvnQ1a-1zQlZ"
      },
      "source": [
        "len(translated)"
      ],
      "execution_count": null,
      "outputs": []
    },
    {
      "cell_type": "code",
      "metadata": {
        "id": "qKtHugtPiI02"
      },
      "source": [
        "ata_data[ata_data['Short description'].str.contains('login issue', case=False, na=False)]['Assignment group'].value_counts()"
      ],
      "execution_count": null,
      "outputs": []
    },
    {
      "cell_type": "code",
      "metadata": {
        "id": "G4985i2FZrAg"
      },
      "source": [
        "t1 = 'following  trail employee working in pthyu is unable to login  company hub mail id to view salary slip. request to rectify the same aerp mail id: hjsastadad.kjddwdd@company.com user id: wshqqhdqh password:vasanqi'\n",
        "match_good_day_trial= re.findall(r'\\S+@\\S+', t1)\n",
        "match_good_day_trial"
      ],
      "execution_count": null,
      "outputs": []
    },
    {
      "cell_type": "code",
      "source": [
        "t1 = 'following  trail employee working in pthyu is (yes/no/na) unable to login  company hub mail  id to view salary slip. request to rectify the same aerp mail id: hjsastadad.kjddwdd@company.com user id: wshqqhdqh password:vasanqi'\n",
        "match_good_day_trial= re.findall(r'(\\(yes/no/na\\))', t1)\n",
        "match_good_day_trial"
      ],
      "metadata": {
        "id": "UhpBUwpNdKox"
      },
      "execution_count": null,
      "outputs": []
    },
    {
      "cell_type": "code",
      "metadata": {
        "id": "Podbxa-KPpBh"
      },
      "source": [
        "for matched_text in match_good_day_trial:\n",
        "    t1 = t1.replace(matched_text, \"\")\n",
        "t1"
      ],
      "execution_count": null,
      "outputs": []
    },
    {
      "cell_type": "code",
      "metadata": {
        "id": "BlPfOuPGj41h"
      },
      "source": [
        "\n",
        "match_hello_trial= re.search(r'(^|\\s)(hello i.t. team|hello help-team|hello support team|hello help-team|hello it-team|hello ladies and gentlemen|hello  it helper|hellow|hello it support|hello all|hello colleagues|hi there|hello it team|hello sir|hello it service|hello it|hello helpdesk|hello team|hello all|hello it desk|hello  it helper|hello dac|hello|gentles|it team|dear team|dear all|dear|hallo|all groups|it help)(,|\\s|!|.|:|;|<|~)', 'dear team,  please release the device as per attached form as an employee owned mobile device. the corresponding form is attached. for the moment i am using the outlook app.  hello joftgost,  please approve the form in return by mail.')\n",
        "match_hello_trial"
      ],
      "execution_count": null,
      "outputs": []
    },
    {
      "cell_type": "code",
      "metadata": {
        "id": "AJbDdLlp269E"
      },
      "source": [
        "match_hello_trial.group(0)"
      ],
      "execution_count": null,
      "outputs": []
    },
    {
      "cell_type": "code",
      "metadata": {
        "id": "VEAR2PJVFY06"
      },
      "source": [
        "match_hello_trial.group(1)"
      ],
      "execution_count": null,
      "outputs": []
    },
    {
      "cell_type": "code",
      "metadata": {
        "id": "K4JOLk7oFX2o"
      },
      "source": [
        "match_hello_trial.group(2)"
      ],
      "execution_count": null,
      "outputs": []
    },
    {
      "cell_type": "code",
      "metadata": {
        "id": "yIdi3WPIFdlo"
      },
      "source": [
        "match_hello_trial.group(3)"
      ],
      "execution_count": null,
      "outputs": []
    },
    {
      "cell_type": "code",
      "metadata": {
        "id": "zn_CBqoWFkHC"
      },
      "source": [
        "match_hello_trial"
      ],
      "execution_count": null,
      "outputs": []
    },
    {
      "cell_type": "code",
      "metadata": {
        "id": "uUGKaV2mF61Q"
      },
      "source": [
        "text = '''i had to reset my password again and i've lost my option for setting up a skype meeting again.  can you please help me?  i can't recall how you were able to bring it back the last time.'''\n",
        "  \n",
        "contractions.fix(text)"
      ],
      "execution_count": null,
      "outputs": []
    },
    {
      "cell_type": "code",
      "metadata": {
        "id": "va4Z5cPfoHOJ"
      },
      "source": [
        "text_check = '......my meetings/skype meetings etc are not appearing in my outlook calendar, can somebody please advise how to correct t?..'\n",
        "\n",
        "match_text_check = re.match(r'^[.]*', text_check)\n",
        "match_text_check"
      ],
      "execution_count": null,
      "outputs": []
    },
    {
      "cell_type": "code",
      "source": [
        "ata_data.head()"
      ],
      "metadata": {
        "id": "avI7MDcNA04A"
      },
      "execution_count": null,
      "outputs": []
    },
    {
      "cell_type": "code",
      "source": [
        "# Checking duplicate records\n",
        "\n",
        "ata_data.duplicate"
      ],
      "metadata": {
        "id": "g3yx2YpEhcN5"
      },
      "execution_count": null,
      "outputs": []
    },
    {
      "cell_type": "code",
      "source": [
        "issueResolved=  ata_data[ata_data['desc_analysis'].apply(lambda x: 'issue resolved' in x)]\n",
        "issueResolved.reset_index()"
      ],
      "metadata": {
        "id": "zllcnZMr7Q0q"
      },
      "execution_count": null,
      "outputs": []
    },
    {
      "cell_type": "code",
      "source": [
        "# There are 112 tickets, that are already resolved."
      ],
      "metadata": {
        "id": "roNsts778Had"
      },
      "execution_count": null,
      "outputs": []
    },
    {
      "cell_type": "code",
      "source": [
        "issueResolved['Assignment group'].value_counts()\n",
        "\n",
        "# Most of these  tickets belongs to GRP_0"
      ],
      "metadata": {
        "id": "WJyluQ7R8eLb"
      },
      "execution_count": null,
      "outputs": []
    },
    {
      "cell_type": "markdown",
      "source": [
        "Analyzing Ngram"
      ],
      "metadata": {
        "id": "1_K7jIfZ9Iji"
      }
    },
    {
      "cell_type": "code",
      "source": [
        "# checking bigram\n",
        "(pd.Series(nltk.ngrams(ata_data['desc_analysis'], 1)).value_counts())[0:50]"
      ],
      "metadata": {
        "id": "64Fksg1V8jGx"
      },
      "execution_count": null,
      "outputs": []
    },
    {
      "cell_type": "code",
      "source": [
        "# There is pattern of text \"at: // ::\", these pattern suggest path name.\n",
        "# We can replace these pattern with \"PATH\" string."
      ],
      "metadata": {
        "id": "HSlodbCn9cBi"
      },
      "execution_count": null,
      "outputs": []
    },
    {
      "cell_type": "code",
      "source": [
        "def replace_pathPattern(text):\n",
        "  text=text.replace('at: // ::','at PATH')\n",
        "  text=text.replace('at // ::','at PATH')\n",
        "  return text\n",
        "\n",
        "ata_data['desc_analysis']=ata_data['desc_analysis'].apply(replace_pathPattern)"
      ],
      "metadata": {
        "id": "HKdQ8HUd_GoR"
      },
      "execution_count": null,
      "outputs": []
    },
    {
      "cell_type": "code",
      "source": [
        "(pd.Series(nltk.ngrams(ata_data['desc_analysis'], 2)).value_counts())[0:50]"
      ],
      "metadata": {
        "id": "Ht8yZlW3AWZS"
      },
      "execution_count": null,
      "outputs": []
    },
    {
      "cell_type": "code",
      "source": [
        "from sklearn.feature_extraction.text import CountVectorizer\n",
        "word_vectorizer = CountVectorizer(ngram_range=(1,3), analyzer='word')\n",
        "sparse_matrix = word_vectorizer.fit_transform(ata_data['desc_analysis'])\n",
        "frequencies = sum(sparse_matrix).toarray()[0]\n",
        "pd.DataFrame(frequencies, index=word_vectorizer.get_feature_names(), columns=['frequency'])[0:50]"
      ],
      "metadata": {
        "id": "NkBUd8A5FOjj"
      },
      "execution_count": null,
      "outputs": []
    },
    {
      "cell_type": "code",
      "source": [
        "ata_data[ata_data['Assignment group'] =='GRP_8']"
      ],
      "metadata": {
        "id": "ZtCSXei-EE6V"
      },
      "execution_count": null,
      "outputs": []
    },
    {
      "cell_type": "markdown",
      "source": [
        "# Replacing descrition with Short description for GRP_8"
      ],
      "metadata": {
        "id": "5YfUo91LX186"
      }
    },
    {
      "cell_type": "code",
      "source": [
        "\n",
        "ata_data[ata_data['Assignment group'] =='GRP_8']['desc_analysis']=ata_data[ata_data['Assignment group'] =='GRP_8']['short_desc_analysis']"
      ],
      "metadata": {
        "id": "dqA3mjCJmAoS"
      },
      "execution_count": null,
      "outputs": []
    },
    {
      "cell_type": "code",
      "source": [
        "ata_data[ata_data['Assignment group'] =='GRP_9'].head()"
      ],
      "metadata": {
        "id": "jJHH8m4_mBGM"
      },
      "execution_count": null,
      "outputs": []
    },
    {
      "cell_type": "markdown",
      "source": [
        "# Feature engineering\n",
        "-- grouping simillar assignment group together."
      ],
      "metadata": {
        "id": "CTeyDycjoDKz"
      }
    },
    {
      "cell_type": "code",
      "source": [
        "# Filtering short_desc_anlysis,desc_analysis and assigment group\n",
        "\n",
        "filtered=ata_data[['short_desc_analysis','desc_analysis','Assignment group']]"
      ],
      "metadata": {
        "id": "mil6Owbem8YG"
      },
      "execution_count": null,
      "outputs": []
    },
    {
      "cell_type": "code",
      "source": [
        "from io import StringIO\n",
        "filtered['GroupID']=filtered['Assignment group'].factorize()[0]"
      ],
      "metadata": {
        "id": "ZisZTlTvpH73"
      },
      "execution_count": null,
      "outputs": []
    },
    {
      "cell_type": "code",
      "source": [
        "filtered.head()"
      ],
      "metadata": {
        "id": "j02vugwOpRwe"
      },
      "execution_count": null,
      "outputs": []
    },
    {
      "cell_type": "code",
      "source": [
        "grouped_df  =filtered[['Assignment group','GroupID']].drop_duplicates()\n",
        "group_to_groupId=dict(grouped_df.values)\n",
        "groupId_to_group=dict(grouped_df[['GroupID','Assignment group']].values)"
      ],
      "metadata": {
        "id": "RlEqjYc3pWZK"
      },
      "execution_count": null,
      "outputs": []
    },
    {
      "cell_type": "code",
      "source": [
        "import matplotlib.pyplot as plt\n",
        "\n",
        "fig= plt.figure(figsize=(12,15))\n",
        "filtered.groupby('Assignment group').desc_analysis.count().plot.bar()\n",
        "plt.show()"
      ],
      "metadata": {
        "id": "BSdXsFArprAA"
      },
      "execution_count": null,
      "outputs": []
    },
    {
      "cell_type": "code",
      "source": [
        "# Vectorizing desc_analysis column\n",
        "from sklearn.feature_extraction.text import TfidfVectorizer\n",
        "\n",
        "tfidf = TfidfVectorizer(sublinear_tf=True, min_df=5, norm='l2', encoding='latin-1', ngram_range=(1, 2), stop_words='english')\n",
        "\n",
        "features = tfidf.fit_transform(filtered['desc_analysis']).toarray()\n",
        "labels = filtered['GroupID']\n",
        "features.shape"
      ],
      "metadata": {
        "id": "fjbAF3s4puwH"
      },
      "execution_count": null,
      "outputs": []
    },
    {
      "cell_type": "code",
      "source": [
        "# Finding most corelated bigram and unigram using Chi2 test  in desc_analysis column"
      ],
      "metadata": {
        "id": "702i69cHq68R"
      },
      "execution_count": null,
      "outputs": []
    },
    {
      "cell_type": "code",
      "source": [
        "from sklearn.feature_selection import chi2\n",
        "import numpy as np\n",
        "\n",
        "N = 4\n",
        "for group, groupId in sorted(group_to_groupId.items()):\n",
        "  features_chi2 = chi2(features, labels == groupId)\n",
        "  indices = np.argsort(features_chi2[0])\n",
        "  feature_names = np.array(tfidf.get_feature_names())[indices]\n",
        "  unigrams = [v for v in feature_names if len(v.split(' ')) == 1]\n",
        "  bigrams = [v for v in feature_names if len(v.split(' ')) == 2]\n",
        "  print(\"# '{}':\".format(group))\n",
        "  print(\"  . Most correlated unigrams:\\n       . {}\".format('\\n       . '.join(unigrams[-N:])))\n",
        "  print(\"  . Most correlated bigrams:\\n       . {}\".format('\\n       . '.join(bigrams[-N:])))\n"
      ],
      "metadata": {
        "id": "8TbUFKasqljB"
      },
      "execution_count": null,
      "outputs": []
    },
    {
      "cell_type": "code",
      "source": [
        "##  From above correlation analysis below group can be merged \n",
        "##  GRP_0,GRP_35,GRP_54,GRP_58,GRP_61,GRP_64,GRP_67,GRP_70,GRP_71  can be clubbed together.\n",
        "##  GRP_1,GRP_12,GRP_47,GRP_39  are related group\n",
        "##  GRP_10,GRP_68  are related group\n",
        "##  GRP_13,GRP_29  are related group"
      ],
      "metadata": {
        "id": "-gbVMsGWrLGg"
      },
      "execution_count": null,
      "outputs": []
    },
    {
      "cell_type": "markdown",
      "source": [
        "## Correlation Analysis on short description"
      ],
      "metadata": {
        "id": "BL0O-Dv_tzY9"
      }
    },
    {
      "cell_type": "code",
      "source": [
        "# Vectorizing desc_analysis column\n",
        "from sklearn.feature_extraction.text import TfidfVectorizer\n",
        "\n",
        "tfidf = TfidfVectorizer(sublinear_tf=True, min_df=5, norm='l2', encoding='latin-1', ngram_range=(1, 2), stop_words='english')\n",
        "\n",
        "features = tfidf.fit_transform(filtered['short_desc_analysis']).toarray()\n",
        "labels = filtered['GroupID']\n",
        "features.shape"
      ],
      "metadata": {
        "id": "63TVncD-t5ww"
      },
      "execution_count": null,
      "outputs": []
    },
    {
      "cell_type": "code",
      "source": [
        "from sklearn.feature_selection import chi2\n",
        "import numpy as np\n",
        "\n",
        "N = 4\n",
        "for group, groupId in sorted(group_to_groupId.items()):\n",
        "  features_chi2 = chi2(features, labels == groupId)\n",
        "  indices = np.argsort(features_chi2[0])\n",
        "  feature_names = np.array(tfidf.get_feature_names())[indices]\n",
        "  unigrams = [v for v in feature_names if len(v.split(' ')) == 1]\n",
        "  bigrams = [v for v in feature_names if len(v.split(' ')) == 2]\n",
        "  print(\"# '{}':\".format(group))\n",
        "  print(\"  . Most correlated unigrams:\\n       . {}\".format('\\n       . '.join(unigrams[-N:])))\n",
        "  print(\"  . Most correlated bigrams:\\n       . {}\".format('\\n       . '.join(bigrams[-N:])))\n"
      ],
      "metadata": {
        "id": "Ms4zZzPouUGL"
      },
      "execution_count": null,
      "outputs": []
    },
    {
      "cell_type": "code",
      "source": [
        "## Based on above short desc analysis below assignment group can be grouped together.\n",
        "# GRP_17,GRP_32,GRP_38,GRP_46,GRP_49,GRP_51,GRP_52,GRP_53,GRP_54,GRP_55,GRP_58,GRP_63,GRP_66,GRP_73\n"
      ],
      "metadata": {
        "id": "_ynVxrp4u4F8"
      },
      "execution_count": null,
      "outputs": []
    },
    {
      "cell_type": "markdown",
      "source": [
        "Based on desc_analysis and short_desc_analysis final assignment group that can be merged\n",
        "- GRP_0,GRP_35,GRP_54,GRP_58,GRP_61,GRP_64,GRP_67,GRP_70,GRP_71,GRP_17,GRP_32,GRP_38,GRP_46,GRP_49,GRP_51,GRP_52,GRP_53,GRP_54,GRP_55,GRP_58,GRP_63,GRP_66,GRP_73\n",
        "- GRP_1,GRP_12,GRP_47,GRP_39\n",
        "- GRP_10,GRP_68\n",
        "- GRP_13,GRP_29\n",
        "\n",
        "\n"
      ],
      "metadata": {
        "id": "7xIJmuP3wzIP"
      }
    },
    {
      "cell_type": "markdown",
      "source": [
        "## Pairwise Simmilerity Analysis using BERT"
      ],
      "metadata": {
        "id": "q4cuuExKy4ZA"
      }
    },
    {
      "cell_type": "code",
      "source": [
        "pip install sentence-transformers"
      ],
      "metadata": {
        "id": "yY-6W3VJzHej"
      },
      "execution_count": null,
      "outputs": []
    },
    {
      "cell_type": "code",
      "source": [
        "import nltk\n",
        "nltk.download('stopwords')\n",
        "import re\n",
        "from sklearn.feature_extraction.text import TfidfVectorizer \n",
        "from sklearn.metrics.pairwise import cosine_similarity\n",
        "from sklearn.metrics.pairwise import euclidean_distances\n",
        "from gensim.models import Word2Vec"
      ],
      "metadata": {
        "id": "GAUAhBSHznxD"
      },
      "execution_count": null,
      "outputs": []
    },
    {
      "cell_type": "code",
      "source": [
        "def most_similar(doc_id,similarity_matrix,matrix):\n",
        "    print (f'Document: {filtered.iloc[doc_id][\"short_desc_analysis\"]}')\n",
        "    print ('\\n')\n",
        "    print ('Similar Documents:')\n",
        "    if matrix=='Cosine Similarity':\n",
        "        similar_ix=np.argsort(similarity_matrix[doc_id])[::-1]\n",
        "    elif matrix=='Euclidean Distance':\n",
        "        similar_ix=np.argsort(similarity_matrix[doc_id])\n",
        "    for ix in similar_ix:\n",
        "        if ix==doc_id:\n",
        "            continue\n",
        "        print('\\n')\n",
        "        print (f'Document: {filtered.iloc[ix][\"short_desc_analysis\"]}')\n",
        "        print (f'{matrix} : {similarity_matrix[doc_id][ix]}')\n",
        "            "
      ],
      "metadata": {
        "id": "F7Gv3ogUzgwZ"
      },
      "execution_count": null,
      "outputs": []
    },
    {
      "cell_type": "code",
      "source": [
        "from sentence_transformers import SentenceTransformer\n",
        "from sklearn.metrics.pairwise import cosine_similarity, euclidean_distances\n",
        "bert_model=SentenceTransformer('bert-base-nli-mean-tokens')\n",
        "doc_embedding=bert_model.encode(filtered['short_desc_analysis'].iloc[0:200])\n",
        "\n",
        "pairwise_simmilerity=cosine_similarity(doc_embedding)\n",
        "pairwise_diffrences=euclidean_distances(doc_embedding)"
      ],
      "metadata": {
        "id": "YVuB6JruzKq1"
      },
      "execution_count": null,
      "outputs": []
    },
    {
      "cell_type": "code",
      "source": [
        "most_similar(2,pairwise_simmilerity,'Cosine Similarity')\n",
        "most_similar(2,pairwise_diffrences,'Euclidean Distance')"
      ],
      "metadata": {
        "id": "4o3BrjdIzz_B"
      },
      "execution_count": null,
      "outputs": []
    },
    {
      "cell_type": "code",
      "source": [
        ""
      ],
      "metadata": {
        "id": "iO0aoJid0VeR"
      },
      "execution_count": null,
      "outputs": []
    }
  ]
}