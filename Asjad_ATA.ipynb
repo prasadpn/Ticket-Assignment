{
  "nbformat": 4,
  "nbformat_minor": 0,
  "metadata": {
    "colab": {
      "name": "ATA.ipynb",
      "provenance": [],
      "collapsed_sections": []
    },
    "kernelspec": {
      "name": "python3",
      "display_name": "Python 3"
    },
    "language_info": {
      "name": "python"
    }
  },
  "cells": [
    {
      "cell_type": "code",
      "metadata": {
        "id": "J8Rz_rmIXa6M"
      },
      "source": [
        "import pandas as pd\n",
        "import numpy as np\n",
        "import seaborn as sns"
      ],
      "execution_count": null,
      "outputs": []
    },
    {
      "cell_type": "code",
      "metadata": {
        "id": "OOUkA7oDXgKu"
      },
      "source": [
        "# Load dataset\n",
        "\n",
        "ata_df=pd.read_excel('/content/sample_data/input_data.xlsx')"
      ],
      "execution_count": null,
      "outputs": []
    },
    {
      "cell_type": "code",
      "metadata": {
        "colab": {
          "base_uri": "https://localhost:8080/",
          "height": 202
        },
        "id": "ctY_LBfxY0rh",
        "outputId": "b9532a09-4a9e-4b61-d686-ac10e1d4e991"
      },
      "source": [
        "ata_df.head()"
      ],
      "execution_count": null,
      "outputs": [
        {
          "output_type": "execute_result",
          "data": {
            "text/html": [
              "<div>\n",
              "<style scoped>\n",
              "    .dataframe tbody tr th:only-of-type {\n",
              "        vertical-align: middle;\n",
              "    }\n",
              "\n",
              "    .dataframe tbody tr th {\n",
              "        vertical-align: top;\n",
              "    }\n",
              "\n",
              "    .dataframe thead th {\n",
              "        text-align: right;\n",
              "    }\n",
              "</style>\n",
              "<table border=\"1\" class=\"dataframe\">\n",
              "  <thead>\n",
              "    <tr style=\"text-align: right;\">\n",
              "      <th></th>\n",
              "      <th>Short description</th>\n",
              "      <th>Description</th>\n",
              "      <th>Caller</th>\n",
              "      <th>Assignment group</th>\n",
              "    </tr>\n",
              "  </thead>\n",
              "  <tbody>\n",
              "    <tr>\n",
              "      <th>0</th>\n",
              "      <td>login issue</td>\n",
              "      <td>-verified user details.(employee# &amp; manager na...</td>\n",
              "      <td>spxjnwir pjlcoqds</td>\n",
              "      <td>GRP_0</td>\n",
              "    </tr>\n",
              "    <tr>\n",
              "      <th>1</th>\n",
              "      <td>outlook</td>\n",
              "      <td>\\r\\n\\r\\nreceived from: hmjdrvpb.komuaywn@gmail...</td>\n",
              "      <td>hmjdrvpb komuaywn</td>\n",
              "      <td>GRP_0</td>\n",
              "    </tr>\n",
              "    <tr>\n",
              "      <th>2</th>\n",
              "      <td>cant log in to vpn</td>\n",
              "      <td>\\r\\n\\r\\nreceived from: eylqgodm.ybqkwiam@gmail...</td>\n",
              "      <td>eylqgodm ybqkwiam</td>\n",
              "      <td>GRP_0</td>\n",
              "    </tr>\n",
              "    <tr>\n",
              "      <th>3</th>\n",
              "      <td>unable to access hr_tool page</td>\n",
              "      <td>unable to access hr_tool page</td>\n",
              "      <td>xbkucsvz gcpydteq</td>\n",
              "      <td>GRP_0</td>\n",
              "    </tr>\n",
              "    <tr>\n",
              "      <th>4</th>\n",
              "      <td>skype error</td>\n",
              "      <td>skype error</td>\n",
              "      <td>owlgqjme qhcozdfx</td>\n",
              "      <td>GRP_0</td>\n",
              "    </tr>\n",
              "  </tbody>\n",
              "</table>\n",
              "</div>"
            ],
            "text/plain": [
              "               Short description  ... Assignment group\n",
              "0                    login issue  ...            GRP_0\n",
              "1                        outlook  ...            GRP_0\n",
              "2             cant log in to vpn  ...            GRP_0\n",
              "3  unable to access hr_tool page  ...            GRP_0\n",
              "4                   skype error   ...            GRP_0\n",
              "\n",
              "[5 rows x 4 columns]"
            ]
          },
          "metadata": {},
          "execution_count": 22
        }
      ]
    },
    {
      "cell_type": "code",
      "metadata": {
        "colab": {
          "base_uri": "https://localhost:8080/"
        },
        "id": "W5m0_8r6Y4fO",
        "outputId": "cb5da5c4-3dfb-45df-edc8-4e647333a329"
      },
      "source": [
        "# checking shape of dataset\n",
        "ata_df.shape"
      ],
      "execution_count": null,
      "outputs": [
        {
          "output_type": "execute_result",
          "data": {
            "text/plain": [
              "(8500, 4)"
            ]
          },
          "metadata": {},
          "execution_count": 23
        }
      ]
    },
    {
      "cell_type": "code",
      "metadata": {
        "colab": {
          "base_uri": "https://localhost:8080/"
        },
        "id": "unh2dwzkY_Up",
        "outputId": "6b53691c-f258-4666-936d-723f9b4c1712"
      },
      "source": [
        "ata_df['Assignment group'].value_counts()\n",
        "\n",
        "# there 74 assignment group and these group seems to be imbalanced"
      ],
      "execution_count": null,
      "outputs": [
        {
          "output_type": "execute_result",
          "data": {
            "text/plain": [
              "GRP_0     3976\n",
              "GRP_8      661\n",
              "GRP_24     289\n",
              "GRP_12     257\n",
              "GRP_9      252\n",
              "          ... \n",
              "GRP_35       1\n",
              "GRP_64       1\n",
              "GRP_61       1\n",
              "GRP_70       1\n",
              "GRP_73       1\n",
              "Name: Assignment group, Length: 74, dtype: int64"
            ]
          },
          "metadata": {},
          "execution_count": 24
        }
      ]
    },
    {
      "cell_type": "code",
      "metadata": {
        "colab": {
          "base_uri": "https://localhost:8080/",
          "height": 79
        },
        "id": "YYOiOb4i4Iq7",
        "outputId": "ebcd82d8-8317-401c-d2b0-71fbcfbfb3ac"
      },
      "source": [
        "\n",
        "# checking individual ticket under group\n",
        "\n",
        "ata_df[ata_df['Assignment group']=='GRP_67']\n"
      ],
      "execution_count": null,
      "outputs": [
        {
          "output_type": "execute_result",
          "data": {
            "text/html": [
              "<div>\n",
              "<style scoped>\n",
              "    .dataframe tbody tr th:only-of-type {\n",
              "        vertical-align: middle;\n",
              "    }\n",
              "\n",
              "    .dataframe tbody tr th {\n",
              "        vertical-align: top;\n",
              "    }\n",
              "\n",
              "    .dataframe thead th {\n",
              "        text-align: right;\n",
              "    }\n",
              "</style>\n",
              "<table border=\"1\" class=\"dataframe\">\n",
              "  <thead>\n",
              "    <tr style=\"text-align: right;\">\n",
              "      <th></th>\n",
              "      <th>Short description</th>\n",
              "      <th>Description</th>\n",
              "      <th>Caller</th>\n",
              "      <th>Assignment group</th>\n",
              "    </tr>\n",
              "  </thead>\n",
              "  <tbody>\n",
              "    <tr>\n",
              "      <th>5154</th>\n",
              "      <td>unable to complete forecast</td>\n",
              "      <td>unable to complete forecast\\n\\njochegtyhu is o...</td>\n",
              "      <td>fnqelwpk ahrskvln</td>\n",
              "      <td>GRP_67</td>\n",
              "    </tr>\n",
              "  </tbody>\n",
              "</table>\n",
              "</div>"
            ],
            "text/plain": [
              "                Short description  ... Assignment group\n",
              "5154  unable to complete forecast  ...           GRP_67\n",
              "\n",
              "[1 rows x 4 columns]"
            ]
          },
          "metadata": {},
          "execution_count": 25
        }
      ]
    },
    {
      "cell_type": "code",
      "metadata": {
        "colab": {
          "base_uri": "https://localhost:8080/",
          "height": 114
        },
        "id": "Qd1ZeMpE5dqT",
        "outputId": "0ea00b5e-ad9d-43f0-dddb-ae6cb7140aa0"
      },
      "source": [
        "ata_df[ata_df['Assignment group']=='GRP_64']\n"
      ],
      "execution_count": null,
      "outputs": [
        {
          "output_type": "execute_result",
          "data": {
            "text/html": [
              "<div>\n",
              "<style scoped>\n",
              "    .dataframe tbody tr th:only-of-type {\n",
              "        vertical-align: middle;\n",
              "    }\n",
              "\n",
              "    .dataframe tbody tr th {\n",
              "        vertical-align: top;\n",
              "    }\n",
              "\n",
              "    .dataframe thead th {\n",
              "        text-align: right;\n",
              "    }\n",
              "</style>\n",
              "<table border=\"1\" class=\"dataframe\">\n",
              "  <thead>\n",
              "    <tr style=\"text-align: right;\">\n",
              "      <th></th>\n",
              "      <th>Short description</th>\n",
              "      <th>Description</th>\n",
              "      <th>Caller</th>\n",
              "      <th>Assignment group</th>\n",
              "    </tr>\n",
              "  </thead>\n",
              "  <tbody>\n",
              "    <tr>\n",
              "      <th>3628</th>\n",
              "      <td>r: ticket_no1402627 change in report zsdslsum ...</td>\n",
              "      <td>\\r\\n\\r\\nreceived from: xawlkiey.demjqrfl@gmail...</td>\n",
              "      <td>xawlkiey demjqrfl</td>\n",
              "      <td>GRP_64</td>\n",
              "    </tr>\n",
              "  </tbody>\n",
              "</table>\n",
              "</div>"
            ],
            "text/plain": [
              "                                      Short description  ... Assignment group\n",
              "3628  r: ticket_no1402627 change in report zsdslsum ...  ...           GRP_64\n",
              "\n",
              "[1 rows x 4 columns]"
            ]
          },
          "metadata": {},
          "execution_count": 26
        }
      ]
    },
    {
      "cell_type": "code",
      "metadata": {
        "colab": {
          "base_uri": "https://localhost:8080/",
          "height": 678
        },
        "id": "aFoRERWgeDuV",
        "outputId": "49e65571-333d-4c5f-d91d-08a06cddd268"
      },
      "source": [
        "# checking each assignment group count\n",
        "\n",
        "import matplotlib.pyplot as plt\n",
        "plt.figure(figsize=(50,10))\n",
        "sns.countplot(ata_df['Assignment group'])"
      ],
      "execution_count": null,
      "outputs": [
        {
          "output_type": "stream",
          "name": "stderr",
          "text": [
            "/usr/local/lib/python3.7/dist-packages/seaborn/_decorators.py:43: FutureWarning: Pass the following variable as a keyword arg: x. From version 0.12, the only valid positional argument will be `data`, and passing other arguments without an explicit keyword will result in an error or misinterpretation.\n",
            "  FutureWarning\n"
          ]
        },
        {
          "output_type": "execute_result",
          "data": {
            "text/plain": [
              "<matplotlib.axes._subplots.AxesSubplot at 0x7fd99bd8f090>"
            ]
          },
          "metadata": {},
          "execution_count": 27
        },
        {
          "output_type": "display_data",
          "data": {
            "image/png": "[encoded data removed]",
            "text/plain": [
              "<Figure size 3600x720 with 1 Axes>"
            ]
          },
          "metadata": {
            "needs_background": "light"
          }
        }
      ]
    },
    {
      "cell_type": "code",
      "metadata": {
        "id": "n-WR4d1ec9Aj"
      },
      "source": [
        "ata_df=ata_df[['Short description','Description','Assignment group' ]]"
      ],
      "execution_count": null,
      "outputs": []
    },
    {
      "cell_type": "code",
      "metadata": {
        "colab": {
          "base_uri": "https://localhost:8080/",
          "height": 202
        },
        "id": "aOgf-kO97Qyd",
        "outputId": "26952871-8d6e-4940-e3f9-d6280fc2d61b"
      },
      "source": [
        "ata_df.head()"
      ],
      "execution_count": null,
      "outputs": [
        {
          "output_type": "execute_result",
          "data": {
            "text/html": [
              "<div>\n",
              "<style scoped>\n",
              "    .dataframe tbody tr th:only-of-type {\n",
              "        vertical-align: middle;\n",
              "    }\n",
              "\n",
              "    .dataframe tbody tr th {\n",
              "        vertical-align: top;\n",
              "    }\n",
              "\n",
              "    .dataframe thead th {\n",
              "        text-align: right;\n",
              "    }\n",
              "</style>\n",
              "<table border=\"1\" class=\"dataframe\">\n",
              "  <thead>\n",
              "    <tr style=\"text-align: right;\">\n",
              "      <th></th>\n",
              "      <th>Short description</th>\n",
              "      <th>Description</th>\n",
              "      <th>Assignment group</th>\n",
              "    </tr>\n",
              "  </thead>\n",
              "  <tbody>\n",
              "    <tr>\n",
              "      <th>0</th>\n",
              "      <td>login issue</td>\n",
              "      <td>-verified user details.(employee# &amp; manager na...</td>\n",
              "      <td>GRP_0</td>\n",
              "    </tr>\n",
              "    <tr>\n",
              "      <th>1</th>\n",
              "      <td>outlook</td>\n",
              "      <td>\\r\\n\\r\\nreceived from: hmjdrvpb.komuaywn@gmail...</td>\n",
              "      <td>GRP_0</td>\n",
              "    </tr>\n",
              "    <tr>\n",
              "      <th>2</th>\n",
              "      <td>cant log in to vpn</td>\n",
              "      <td>\\r\\n\\r\\nreceived from: eylqgodm.ybqkwiam@gmail...</td>\n",
              "      <td>GRP_0</td>\n",
              "    </tr>\n",
              "    <tr>\n",
              "      <th>3</th>\n",
              "      <td>unable to access hr_tool page</td>\n",
              "      <td>unable to access hr_tool page</td>\n",
              "      <td>GRP_0</td>\n",
              "    </tr>\n",
              "    <tr>\n",
              "      <th>4</th>\n",
              "      <td>skype error</td>\n",
              "      <td>skype error</td>\n",
              "      <td>GRP_0</td>\n",
              "    </tr>\n",
              "  </tbody>\n",
              "</table>\n",
              "</div>"
            ],
            "text/plain": [
              "               Short description  ... Assignment group\n",
              "0                    login issue  ...            GRP_0\n",
              "1                        outlook  ...            GRP_0\n",
              "2             cant log in to vpn  ...            GRP_0\n",
              "3  unable to access hr_tool page  ...            GRP_0\n",
              "4                   skype error   ...            GRP_0\n",
              "\n",
              "[5 rows x 3 columns]"
            ]
          },
          "metadata": {},
          "execution_count": 29
        }
      ]
    },
    {
      "cell_type": "code",
      "metadata": {
        "colab": {
          "base_uri": "https://localhost:8080/"
        },
        "id": "vIlODNKI7T7I",
        "outputId": "07672fd7-1de6-4bca-e09a-b944dc0be250"
      },
      "source": [
        "ata_df.isnull().sum()"
      ],
      "execution_count": null,
      "outputs": [
        {
          "output_type": "execute_result",
          "data": {
            "text/plain": [
              "Short description    8\n",
              "Description          1\n",
              "Assignment group     0\n",
              "dtype: int64"
            ]
          },
          "metadata": {},
          "execution_count": 30
        }
      ]
    },
    {
      "cell_type": "code",
      "metadata": {
        "colab": {
          "base_uri": "https://localhost:8080/"
        },
        "id": "YE5AyHucIBL6",
        "outputId": "5af87222-17b1-4c12-9285-ed43e4160392"
      },
      "source": [
        "ata_df.dropna(inplace=True)\n",
        "ata_df.isnull().sum()"
      ],
      "execution_count": null,
      "outputs": [
        {
          "output_type": "execute_result",
          "data": {
            "text/plain": [
              "Short description    0\n",
              "Description          0\n",
              "Assignment group     0\n",
              "dtype: int64"
            ]
          },
          "metadata": {},
          "execution_count": 31
        }
      ]
    },
    {
      "cell_type": "code",
      "metadata": {
        "colab": {
          "base_uri": "https://localhost:8080/",
          "height": 450
        },
        "id": "KJ_3rPeKYHDm",
        "outputId": "7ae57d84-ccb7-4a35-a43c-64b1aab6a841"
      },
      "source": [
        "# Checking duplicate rows\n",
        "print(ata_df.shape)\n",
        "print(ata_df.duplicated().sum())\n",
        "ata_df[ata_df.duplicated()]\n"
      ],
      "execution_count": null,
      "outputs": [
        {
          "output_type": "stream",
          "name": "stdout",
          "text": [
            "(8491, 3)\n",
            "1717\n"
          ]
        },
        {
          "output_type": "execute_result",
          "data": {
            "text/html": [
              "<div>\n",
              "<style scoped>\n",
              "    .dataframe tbody tr th:only-of-type {\n",
              "        vertical-align: middle;\n",
              "    }\n",
              "\n",
              "    .dataframe tbody tr th {\n",
              "        vertical-align: top;\n",
              "    }\n",
              "\n",
              "    .dataframe thead th {\n",
              "        text-align: right;\n",
              "    }\n",
              "</style>\n",
              "<table border=\"1\" class=\"dataframe\">\n",
              "  <thead>\n",
              "    <tr style=\"text-align: right;\">\n",
              "      <th></th>\n",
              "      <th>Short description</th>\n",
              "      <th>Description</th>\n",
              "      <th>Assignment group</th>\n",
              "    </tr>\n",
              "  </thead>\n",
              "  <tbody>\n",
              "    <tr>\n",
              "      <th>15</th>\n",
              "      <td>ticket update inplant</td>\n",
              "      <td>ticket update inplant</td>\n",
              "      <td>GRP_0</td>\n",
              "    </tr>\n",
              "    <tr>\n",
              "      <th>35</th>\n",
              "      <td>ticket employment status new non employee</td>\n",
              "      <td>ticket employment status new non employee</td>\n",
              "      <td>GRP_0</td>\n",
              "    </tr>\n",
              "    <tr>\n",
              "      <th>40</th>\n",
              "      <td>ticket update inplant</td>\n",
              "      <td>ticket update inplant</td>\n",
              "      <td>GRP_0</td>\n",
              "    </tr>\n",
              "    <tr>\n",
              "      <th>51</th>\n",
              "      <td>call ecwtrjnq jpecxuty</td>\n",
              "      <td>call ecwtrjnq jpecxuty</td>\n",
              "      <td>GRP_0</td>\n",
              "    </tr>\n",
              "    <tr>\n",
              "      <th>59</th>\n",
              "      <td>job mm zscr dly merktc failed job scheduler</td>\n",
              "      <td>received monitoring tool company com job mm zs...</td>\n",
              "      <td>GRP_8</td>\n",
              "    </tr>\n",
              "    <tr>\n",
              "      <th>...</th>\n",
              "      <td>...</td>\n",
              "      <td>...</td>\n",
              "      <td>...</td>\n",
              "    </tr>\n",
              "    <tr>\n",
              "      <th>8462</th>\n",
              "      <td>abended job job scheduler job</td>\n",
              "      <td>received monitoring tool company com abended j...</td>\n",
              "      <td>GRP_9</td>\n",
              "    </tr>\n",
              "    <tr>\n",
              "      <th>8466</th>\n",
              "      <td>abended job job scheduler bkwin hostname inc</td>\n",
              "      <td>received monitoring tool company com abended j...</td>\n",
              "      <td>GRP_8</td>\n",
              "    </tr>\n",
              "    <tr>\n",
              "      <th>8471</th>\n",
              "      <td></td>\n",
              "      <td></td>\n",
              "      <td>GRP_30</td>\n",
              "    </tr>\n",
              "    <tr>\n",
              "      <th>8486</th>\n",
              "      <td>ticket update ticket</td>\n",
              "      <td>ticket update ticket</td>\n",
              "      <td>GRP_0</td>\n",
              "    </tr>\n",
              "    <tr>\n",
              "      <th>8489</th>\n",
              "      <td>account locked</td>\n",
              "      <td>account locked</td>\n",
              "      <td>GRP_0</td>\n",
              "    </tr>\n",
              "  </tbody>\n",
              "</table>\n",
              "<p>1717 rows × 3 columns</p>\n",
              "</div>"
            ],
            "text/plain": [
              "                                 Short description  ... Assignment group\n",
              "15                           ticket update inplant  ...            GRP_0\n",
              "35       ticket employment status new non employee  ...            GRP_0\n",
              "40                           ticket update inplant  ...            GRP_0\n",
              "51                          call ecwtrjnq jpecxuty  ...            GRP_0\n",
              "59     job mm zscr dly merktc failed job scheduler  ...            GRP_8\n",
              "...                                            ...  ...              ...\n",
              "8462                 abended job job scheduler job  ...            GRP_9\n",
              "8466  abended job job scheduler bkwin hostname inc  ...            GRP_8\n",
              "8471                                                ...           GRP_30\n",
              "8486                          ticket update ticket  ...            GRP_0\n",
              "8489                                account locked  ...            GRP_0\n",
              "\n",
              "[1717 rows x 3 columns]"
            ]
          },
          "metadata": {},
          "execution_count": 61
        }
      ]
    },
    {
      "cell_type": "code",
      "metadata": {
        "colab": {
          "base_uri": "https://localhost:8080/"
        },
        "id": "tdBI_0B0baDY",
        "outputId": "e23b759e-ba79-44b4-e4af-8fd75c7861b6"
      },
      "source": [
        "# drop duplicate rows\n",
        "\n",
        "ata_df=ata_df.drop_duplicates()\n",
        "print(ata_df.shape)"
      ],
      "execution_count": null,
      "outputs": [
        {
          "output_type": "stream",
          "name": "stdout",
          "text": [
            "(6774, 3)\n"
          ]
        }
      ]
    },
    {
      "cell_type": "code",
      "metadata": {
        "colab": {
          "base_uri": "https://localhost:8080/",
          "height": 1000
        },
        "id": "1awPRjzhIkyl",
        "outputId": "31be848e-51dc-4d13-e10b-431e795da8b3"
      },
      "source": [
        "# context will be much clearer if sentence size is large\n",
        "import matplotlib.pyplot as plt\n",
        "\n",
        "print(ata_df['Assignment group'].value_counts() ,\"\\n\")\n",
        "\n",
        "fig, ax = plt.subplots(1,1, figsize=(30, 18))\n",
        "\n",
        "\n",
        "f2 = plt.pie(ata_df['Assignment group'].value_counts().values,labels=ata_df['Assignment group'].value_counts().index, autopct='%1.1f%%')\n",
        "fig.show()"
      ],
      "execution_count": null,
      "outputs": [
        {
          "output_type": "stream",
          "name": "stdout",
          "text": [
            "GRP_0     3124\n",
            "GRP_8      320\n",
            "GRP_24     277\n",
            "GRP_12     243\n",
            "GRP_2      241\n",
            "          ... \n",
            "GRP_35       1\n",
            "GRP_64       1\n",
            "GRP_61       1\n",
            "GRP_70       1\n",
            "GRP_73       1\n",
            "Name: Assignment group, Length: 74, dtype: int64 \n",
            "\n"
          ]
        },
        {
          "output_type": "display_data",
          "data": {
            "image/png": "[encoded data removed]",
            "text/plain": [
              "<Figure size 2160x1296 with 1 Axes>"
            ]
          },
          "metadata": {}
        }
      ]
    },
    {
      "cell_type": "markdown",
      "metadata": {
        "id": "p0FFUTHUgSL2"
      },
      "source": [
        "# Pre processing"
      ]
    },
    {
      "cell_type": "code",
      "metadata": {
        "colab": {
          "base_uri": "https://localhost:8080/"
        },
        "id": "eA6cSE6BU6--",
        "outputId": "75ee70e8-021d-4bcc-c7c1-c8acf3b80dd7"
      },
      "source": [
        "from urllib.parse import urlparse\n",
        "from nltk.corpus import stopwords \n",
        "import re\n",
        "import nltk\n",
        "from wordcloud import WordCloud\n",
        "nltk.download(\"stopwords\")\n",
        "nltk.download('punkt')\n",
        "nltk.download('wordnet')"
      ],
      "execution_count": null,
      "outputs": [
        {
          "output_type": "stream",
          "name": "stdout",
          "text": [
            "[nltk_data] Downloading package stopwords to /root/nltk_data...\n",
            "[nltk_data]   Package stopwords is already up-to-date!\n",
            "[nltk_data] Downloading package punkt to /root/nltk_data...\n",
            "[nltk_data]   Package punkt is already up-to-date!\n",
            "[nltk_data] Downloading package wordnet to /root/nltk_data...\n",
            "[nltk_data]   Package wordnet is already up-to-date!\n"
          ]
        },
        {
          "output_type": "execute_result",
          "data": {
            "text/plain": [
              "True"
            ]
          },
          "metadata": {},
          "execution_count": 65
        }
      ]
    },
    {
      "cell_type": "code",
      "metadata": {
        "id": "WSQuUqUgTAlI"
      },
      "source": [
        "#Removing punctiation marks\n",
        "import re\n",
        "def remove_punctuations(text):\n",
        "    return re.sub('\\[[^]]*\\]', '', text)\n",
        "\n",
        "#Removing special characters\n",
        "def remove_specialchars(text):\n",
        "    return re.sub(\"[^a-zA-Z]\",\" \",text)\n",
        "\n",
        "#Removal of stopwords and lemmatization\n",
        "def remove_stopwords_and_tokenization(text):\n",
        "\n",
        "    final_text = []\n",
        "    text = text.lower()\n",
        "    text = nltk.word_tokenize(text)\n",
        "    \n",
        "    for word in text:\n",
        "        if word not in set(stopwords.words('english')):\n",
        "            lemma = nltk.WordNetLemmatizer()\n",
        "            word = lemma.lemmatize(word) \n",
        "            final_text.append(word)\n",
        "    return \" \".join(final_text)\n",
        "\n",
        "\n",
        "#Total function\n",
        "def cleaning(text):\n",
        "    text = remove_punctuations(text)\n",
        "    text = remove_specialchars(text)\n",
        "    text = remove_stopwords_and_tokenization(text)\n",
        "    return text\n"
      ],
      "execution_count": null,
      "outputs": []
    },
    {
      "cell_type": "code",
      "metadata": {
        "id": "j9U8sBEwUXgC"
      },
      "source": [
        "ata_df['Description']=ata_df['Description'].apply(cleaning)"
      ],
      "execution_count": null,
      "outputs": []
    },
    {
      "cell_type": "code",
      "metadata": {
        "id": "wmZWdIXfUxLG"
      },
      "source": [
        "ata_df['Short description']=ata_df['Short description'].apply(cleaning)"
      ],
      "execution_count": null,
      "outputs": []
    },
    {
      "cell_type": "code",
      "metadata": {
        "colab": {
          "base_uri": "https://localhost:8080/",
          "height": 509
        },
        "id": "PAofZ9WoVUvW",
        "outputId": "48d72998-14c1-4dad-d860-2ff35f18b1cb"
      },
      "source": [
        "ata_df.head(15)"
      ],
      "execution_count": null,
      "outputs": [
        {
          "output_type": "execute_result",
          "data": {
            "text/html": [
              "<div>\n",
              "<style scoped>\n",
              "    .dataframe tbody tr th:only-of-type {\n",
              "        vertical-align: middle;\n",
              "    }\n",
              "\n",
              "    .dataframe tbody tr th {\n",
              "        vertical-align: top;\n",
              "    }\n",
              "\n",
              "    .dataframe thead th {\n",
              "        text-align: right;\n",
              "    }\n",
              "</style>\n",
              "<table border=\"1\" class=\"dataframe\">\n",
              "  <thead>\n",
              "    <tr style=\"text-align: right;\">\n",
              "      <th></th>\n",
              "      <th>Short description</th>\n",
              "      <th>Description</th>\n",
              "      <th>Assignment group</th>\n",
              "    </tr>\n",
              "  </thead>\n",
              "  <tbody>\n",
              "    <tr>\n",
              "      <th>0</th>\n",
              "      <td>login issue</td>\n",
              "      <td>verified user detail employee manager name che...</td>\n",
              "      <td>GRP_0</td>\n",
              "    </tr>\n",
              "    <tr>\n",
              "      <th>1</th>\n",
              "      <td>outlook</td>\n",
              "      <td>received hmjdrvpb komuaywn gmail com hello tea...</td>\n",
              "      <td>GRP_0</td>\n",
              "    </tr>\n",
              "    <tr>\n",
              "      <th>2</th>\n",
              "      <td>cant log vpn</td>\n",
              "      <td>received eylqgodm ybqkwiam gmail com hi log vp...</td>\n",
              "      <td>GRP_0</td>\n",
              "    </tr>\n",
              "    <tr>\n",
              "      <th>3</th>\n",
              "      <td>unable access hr tool page</td>\n",
              "      <td>unable access hr tool page</td>\n",
              "      <td>GRP_0</td>\n",
              "    </tr>\n",
              "    <tr>\n",
              "      <th>4</th>\n",
              "      <td>skype error</td>\n",
              "      <td>skype error</td>\n",
              "      <td>GRP_0</td>\n",
              "    </tr>\n",
              "    <tr>\n",
              "      <th>5</th>\n",
              "      <td>unable log engineering tool skype</td>\n",
              "      <td>unable log engineering tool skype</td>\n",
              "      <td>GRP_0</td>\n",
              "    </tr>\n",
              "    <tr>\n",
              "      <th>6</th>\n",
              "      <td>event critical hostname company com value moun...</td>\n",
              "      <td>event critical hostname company com value moun...</td>\n",
              "      <td>GRP_1</td>\n",
              "    </tr>\n",
              "    <tr>\n",
              "      <th>7</th>\n",
              "      <td>ticket employment status new non employee</td>\n",
              "      <td>ticket employment status new non employee</td>\n",
              "      <td>GRP_0</td>\n",
              "    </tr>\n",
              "    <tr>\n",
              "      <th>8</th>\n",
              "      <td>unable disable add outlook</td>\n",
              "      <td>unable disable add outlook</td>\n",
              "      <td>GRP_0</td>\n",
              "    </tr>\n",
              "    <tr>\n",
              "      <th>9</th>\n",
              "      <td>ticket update inplant</td>\n",
              "      <td>ticket update inplant</td>\n",
              "      <td>GRP_0</td>\n",
              "    </tr>\n",
              "    <tr>\n",
              "      <th>10</th>\n",
              "      <td>engineering tool say connected unable submit r...</td>\n",
              "      <td>engineering tool say connected unable submit r...</td>\n",
              "      <td>GRP_0</td>\n",
              "    </tr>\n",
              "    <tr>\n",
              "      <th>11</th>\n",
              "      <td>hr tool site loading page correctly</td>\n",
              "      <td>hr tool site loading page correctly</td>\n",
              "      <td>GRP_0</td>\n",
              "    </tr>\n",
              "    <tr>\n",
              "      <th>12</th>\n",
              "      <td>unable login hr tool sgxqsuojr xwbesorf card</td>\n",
              "      <td>unable login hr tool sgxqsuojr xwbesorf card</td>\n",
              "      <td>GRP_0</td>\n",
              "    </tr>\n",
              "    <tr>\n",
              "      <th>13</th>\n",
              "      <td>user want reset password</td>\n",
              "      <td>user want reset password</td>\n",
              "      <td>GRP_0</td>\n",
              "    </tr>\n",
              "    <tr>\n",
              "      <th>14</th>\n",
              "      <td>unable open payslip</td>\n",
              "      <td>unable open payslip</td>\n",
              "      <td>GRP_0</td>\n",
              "    </tr>\n",
              "  </tbody>\n",
              "</table>\n",
              "</div>"
            ],
            "text/plain": [
              "                                    Short description  ... Assignment group\n",
              "0                                         login issue  ...            GRP_0\n",
              "1                                             outlook  ...            GRP_0\n",
              "2                                        cant log vpn  ...            GRP_0\n",
              "3                          unable access hr tool page  ...            GRP_0\n",
              "4                                         skype error  ...            GRP_0\n",
              "5                   unable log engineering tool skype  ...            GRP_0\n",
              "6   event critical hostname company com value moun...  ...            GRP_1\n",
              "7           ticket employment status new non employee  ...            GRP_0\n",
              "8                          unable disable add outlook  ...            GRP_0\n",
              "9                               ticket update inplant  ...            GRP_0\n",
              "10  engineering tool say connected unable submit r...  ...            GRP_0\n",
              "11                hr tool site loading page correctly  ...            GRP_0\n",
              "12       unable login hr tool sgxqsuojr xwbesorf card  ...            GRP_0\n",
              "13                           user want reset password  ...            GRP_0\n",
              "14                                unable open payslip  ...            GRP_0\n",
              "\n",
              "[15 rows x 3 columns]"
            ]
          },
          "metadata": {},
          "execution_count": 69
        }
      ]
    },
    {
      "cell_type": "markdown",
      "metadata": {
        "id": "oiL5vDEejGWt"
      },
      "source": [
        "# Checking most frequent words in Description column"
      ]
    },
    {
      "cell_type": "code",
      "metadata": {
        "id": "nZS7iXsIcAVY"
      },
      "source": [
        "word_freq=ata_df['Description'].str.split(expand=True).stack().value_counts()"
      ],
      "execution_count": null,
      "outputs": []
    },
    {
      "cell_type": "code",
      "metadata": {
        "colab": {
          "base_uri": "https://localhost:8080/"
        },
        "id": "MrKtTm-KcFzA",
        "outputId": "bdfc5e40-053b-4e89-de5f-03f3df809652"
      },
      "source": [
        "word_freq[0:10]"
      ],
      "execution_count": null,
      "outputs": [
        {
          "output_type": "execute_result",
          "data": {
            "text/plain": [
              "com         2826\n",
              "gmail       2139\n",
              "yes         2013\n",
              "please      1938\n",
              "na          1892\n",
              "company     1599\n",
              "received    1578\n",
              "user        1291\n",
              "tool        1162\n",
              "e           1139\n",
              "dtype: int64"
            ]
          },
          "metadata": {},
          "execution_count": 71
        }
      ]
    },
    {
      "cell_type": "markdown",
      "metadata": {
        "id": "RkFKLdPAgarQ"
      },
      "source": [
        "- Single character token need to be removed\n",
        "- Top 5 token are general email terms need to be removed.\n",
        "- creating token list to be removed\n",
        "- (com, job, recived, gmail, yes, please, na,tool)\n"
      ]
    },
    {
      "cell_type": "code",
      "metadata": {
        "colab": {
          "base_uri": "https://localhost:8080/"
        },
        "id": "UEjSxlefhijT",
        "outputId": "e1ed7bea-2c6f-4333-c529-9af729dcce9d"
      },
      "source": [
        "# checking most frequent token in individual group\n",
        "\n",
        "group_0_list=ata_df[ata_df['Assignment group']=='GRP_8']\n",
        "word_freq_GRP_8=group_0_list['Description'].str.split(expand=True).stack().value_counts()\n",
        "word_freq_GRP_8[0:40]"
      ],
      "execution_count": null,
      "outputs": [
        {
          "output_type": "execute_result",
          "data": {
            "text/plain": [
              "yes            1819\n",
              "na             1768\n",
              "power           542\n",
              "site            542\n",
              "circuit         540\n",
              "company         439\n",
              "backup          420\n",
              "telecom         418\n",
              "vendor          409\n",
              "network         273\n",
              "outage          272\n",
              "ticket          270\n",
              "type            268\n",
              "notified        268\n",
              "scheduled       268\n",
              "cert            268\n",
              "maintenance     268\n",
              "provider        268\n",
              "maint           268\n",
              "job             179\n",
              "et              169\n",
              "global          143\n",
              "please          141\n",
              "email           140\n",
              "working         137\n",
              "contact         137\n",
              "x               136\n",
              "active          136\n",
              "reset           136\n",
              "phone           136\n",
              "additional      135\n",
              "remote          135\n",
              "top             134\n",
              "specify         134\n",
              "dial            134\n",
              "diagnostics     134\n",
              "gsc             134\n",
              "verified        134\n",
              "equipment       134\n",
              "start           134\n",
              "dtype: int64"
            ]
          },
          "metadata": {},
          "execution_count": 72
        }
      ]
    },
    {
      "cell_type": "code",
      "metadata": {
        "colab": {
          "base_uri": "https://localhost:8080/"
        },
        "id": "eFVEVOnnB-Fb",
        "outputId": "52a52907-ef1c-43be-a8e7-634cc149575e"
      },
      "source": [
        "group_0_list=ata_df[ata_df['Assignment group']=='GRP_0']\n",
        "word_freq_GRP_0=group_0_list['Description'].str.split(expand=True).stack().value_counts()\n",
        "word_freq_GRP_0[0:30]"
      ],
      "execution_count": null,
      "outputs": [
        {
          "output_type": "execute_result",
          "data": {
            "text/plain": [
              "com          1393\n",
              "gmail        1219\n",
              "password      987\n",
              "received      769\n",
              "please        735\n",
              "user          656\n",
              "erp           549\n",
              "company       450\n",
              "unable        443\n",
              "reset         433\n",
              "tool          430\n",
              "issue         429\n",
              "email         423\n",
              "outlook       374\n",
              "access        326\n",
              "hello         326\n",
              "account       318\n",
              "help          306\n",
              "name          305\n",
              "error         301\n",
              "login         292\n",
              "need          257\n",
              "sid           240\n",
              "system        233\n",
              "microsoft     228\n",
              "able          223\n",
              "hi            209\n",
              "message       202\n",
              "skype         195\n",
              "vpn           192\n",
              "dtype: int64"
            ]
          },
          "metadata": {},
          "execution_count": 73
        }
      ]
    },
    {
      "cell_type": "code",
      "metadata": {
        "colab": {
          "base_uri": "https://localhost:8080/"
        },
        "id": "56CoqXa5B_-1",
        "outputId": "43f2955d-7c09-4bce-f369-1764705dd157"
      },
      "source": [
        "group_0_list=ata_df[ata_df['Assignment group']=='GRP_24']\n",
        "word_freq_GRP_24=group_0_list['Description'].str.split(expand=True).stack().value_counts()\n",
        "word_freq_GRP_24[0:40]"
      ],
      "execution_count": null,
      "outputs": [
        {
          "output_type": "execute_result",
          "data": {
            "text/plain": [
              "mit             87\n",
              "probleme        80\n",
              "r               46\n",
              "f               45\n",
              "setup           45\n",
              "w               41\n",
              "new             38\n",
              "ewew            34\n",
              "rechner         32\n",
              "defekt          23\n",
              "nicht           23\n",
              "und             23\n",
              "tool            21\n",
              "bitte           21\n",
              "install         21\n",
              "der             20\n",
              "eu              20\n",
              "hallo           18\n",
              "drucker         17\n",
              "ist             16\n",
              "wnkpzcmv        16\n",
              "jionmpsf        16\n",
              "die             14\n",
              "wu              14\n",
              "auf             14\n",
              "csenjruz        13\n",
              "support         13\n",
              "niptbwdq        13\n",
              "da              13\n",
              "jwoqbuml        11\n",
              "vzqomdgt        11\n",
              "funktioniert    10\n",
              "monitor         10\n",
              "wrcktgbd         9\n",
              "pc               9\n",
              "l                9\n",
              "den              9\n",
              "wzrgyunp         9\n",
              "du               9\n",
              "lan              8\n",
              "dtype: int64"
            ]
          },
          "metadata": {},
          "execution_count": 74
        }
      ]
    },
    {
      "cell_type": "markdown",
      "metadata": {
        "id": "bRjxFKnfS40l"
      },
      "source": [
        "- there are some garbage token like (wzrgyunp,wrcktgbd)"
      ]
    },
    {
      "cell_type": "code",
      "metadata": {
        "colab": {
          "base_uri": "https://localhost:8080/"
        },
        "id": "6KEJJBkrjYZ8",
        "outputId": "7c057f56-81f9-4a90-8b75-24f1dcdf1b71"
      },
      "source": [
        "group_0_list=ata_df[ata_df['Assignment group']=='GRP_12']\n",
        "word_freq_GRP_12=group_0_list['Description'].str.split(expand=True).stack().value_counts()\n",
        "word_freq_GRP_12[0:40]"
      ],
      "execution_count": null,
      "outputs": [
        {
          "output_type": "execute_result",
          "data": {
            "text/plain": [
              "hostname      201\n",
              "inside        136\n",
              "access        122\n",
              "com           114\n",
              "gmail          92\n",
              "tcp            90\n",
              "asa            89\n",
              "server         87\n",
              "please         69\n",
              "space          59\n",
              "group          58\n",
              "src            56\n",
              "acl            56\n",
              "outside        56\n",
              "deny           56\n",
              "dst            56\n",
              "file           49\n",
              "received       49\n",
              "aug            48\n",
              "event          48\n",
              "company        46\n",
              "drive          40\n",
              "ticket         35\n",
              "disk           32\n",
              "c              32\n",
              "jul            32\n",
              "user           31\n",
              "available      31\n",
              "f              29\n",
              "data           27\n",
              "consumed       26\n",
              "interface      26\n",
              "connection     26\n",
              "folder         26\n",
              "inbound        25\n",
              "error          24\n",
              "syn            24\n",
              "port           24\n",
              "denied         24\n",
              "service        24\n",
              "dtype: int64"
            ]
          },
          "metadata": {},
          "execution_count": 75
        }
      ]
    },
    {
      "cell_type": "code",
      "metadata": {
        "colab": {
          "base_uri": "https://localhost:8080/",
          "height": 450
        },
        "id": "MUN230dgD-2Z",
        "outputId": "8975879e-767b-46dc-aa11-e45d6d8245a8"
      },
      "source": [
        "ata_df[ata_df['Assignment group']=='GRP_12']"
      ],
      "execution_count": null,
      "outputs": [
        {
          "output_type": "execute_result",
          "data": {
            "text/html": [
              "<div>\n",
              "<style scoped>\n",
              "    .dataframe tbody tr th:only-of-type {\n",
              "        vertical-align: middle;\n",
              "    }\n",
              "\n",
              "    .dataframe tbody tr th {\n",
              "        vertical-align: top;\n",
              "    }\n",
              "\n",
              "    .dataframe thead th {\n",
              "        text-align: right;\n",
              "    }\n",
              "</style>\n",
              "<table border=\"1\" class=\"dataframe\">\n",
              "  <thead>\n",
              "    <tr style=\"text-align: right;\">\n",
              "      <th></th>\n",
              "      <th>Short description</th>\n",
              "      <th>Description</th>\n",
              "      <th>Assignment group</th>\n",
              "    </tr>\n",
              "  </thead>\n",
              "  <tbody>\n",
              "    <tr>\n",
              "      <th>97</th>\n",
              "      <td>amssm c label sys amssm ef server space consum...</td>\n",
              "      <td>amssm c label sys amssm ef server space consum...</td>\n",
              "      <td>GRP_12</td>\n",
              "    </tr>\n",
              "    <tr>\n",
              "      <th>175</th>\n",
              "      <td>job job failed job scheduler</td>\n",
              "      <td>received monitoring tool company com job job f...</td>\n",
              "      <td>GRP_12</td>\n",
              "    </tr>\n",
              "    <tr>\n",
              "      <th>278</th>\n",
              "      <td>sn identified unavailable via esr monitoring s...</td>\n",
              "      <td>sn identified unavailable via esr monitoring s...</td>\n",
              "      <td>GRP_12</td>\n",
              "    </tr>\n",
              "    <tr>\n",
              "      <th>336</th>\n",
              "      <td>data back germany</td>\n",
              "      <td>data back germany</td>\n",
              "      <td>GRP_12</td>\n",
              "    </tr>\n",
              "    <tr>\n",
              "      <th>337</th>\n",
              "      <td>server ekpsm located germany location since</td>\n",
              "      <td>server ekpsm located germany location since</td>\n",
              "      <td>GRP_12</td>\n",
              "    </tr>\n",
              "    <tr>\n",
              "      <th>...</th>\n",
              "      <td>...</td>\n",
              "      <td>...</td>\n",
              "      <td>...</td>\n",
              "    </tr>\n",
              "    <tr>\n",
              "      <th>8342</th>\n",
              "      <td>folder access hostname kt transition infrastru...</td>\n",
              "      <td>provide access hnynhsth jsuyhwssad user id pra...</td>\n",
              "      <td>GRP_12</td>\n",
              "    </tr>\n",
              "    <tr>\n",
              "      <th>8382</th>\n",
              "      <td>mdm tool working via citrix system</td>\n",
              "      <td>hello team could please support mdm issue via ...</td>\n",
              "      <td>GRP_12</td>\n",
              "    </tr>\n",
              "    <tr>\n",
              "      <th>8400</th>\n",
              "      <td>hostname memory usage</td>\n",
              "      <td>internal error unable find process probe proce...</td>\n",
              "      <td>GRP_12</td>\n",
              "    </tr>\n",
              "    <tr>\n",
              "      <th>8426</th>\n",
              "      <td>vmware tool running server hostname resided ho...</td>\n",
              "      <td>vmware tool running server hostname resided ho...</td>\n",
              "      <td>GRP_12</td>\n",
              "    </tr>\n",
              "    <tr>\n",
              "      <th>8428</th>\n",
              "      <td>lhqsm fim production miiserver exe wrong numbe...</td>\n",
              "      <td>lhqsm fim production miiserver exe wrong numbe...</td>\n",
              "      <td>GRP_12</td>\n",
              "    </tr>\n",
              "  </tbody>\n",
              "</table>\n",
              "<p>243 rows × 3 columns</p>\n",
              "</div>"
            ],
            "text/plain": [
              "                                      Short description  ... Assignment group\n",
              "97    amssm c label sys amssm ef server space consum...  ...           GRP_12\n",
              "175                        job job failed job scheduler  ...           GRP_12\n",
              "278   sn identified unavailable via esr monitoring s...  ...           GRP_12\n",
              "336                                   data back germany  ...           GRP_12\n",
              "337         server ekpsm located germany location since  ...           GRP_12\n",
              "...                                                 ...  ...              ...\n",
              "8342  folder access hostname kt transition infrastru...  ...           GRP_12\n",
              "8382                 mdm tool working via citrix system  ...           GRP_12\n",
              "8400                              hostname memory usage  ...           GRP_12\n",
              "8426  vmware tool running server hostname resided ho...  ...           GRP_12\n",
              "8428  lhqsm fim production miiserver exe wrong numbe...  ...           GRP_12\n",
              "\n",
              "[243 rows x 3 columns]"
            ]
          },
          "metadata": {},
          "execution_count": 76
        }
      ]
    },
    {
      "cell_type": "markdown",
      "metadata": {
        "id": "oZUSibX2TwBl"
      },
      "source": [
        "# Analyzing short description token"
      ]
    },
    {
      "cell_type": "code",
      "metadata": {
        "id": "p4ai9WuOEShe",
        "colab": {
          "base_uri": "https://localhost:8080/"
        },
        "outputId": "084beb3c-fb23-4fb0-d917-f1dc3202721c"
      },
      "source": [
        "group_0_list=ata_df[ata_df['Assignment group']=='GRP_0']\n",
        "word_freq_GRP_0=group_0_list['Short description'].str.split(expand=True).stack().value_counts()\n",
        "word_freq_GRP_0[0:30]"
      ],
      "execution_count": null,
      "outputs": [
        {
          "output_type": "execute_result",
          "data": {
            "text/plain": [
              "password         598\n",
              "erp              467\n",
              "unable           408\n",
              "reset            315\n",
              "issue            295\n",
              "tool             293\n",
              "outlook          290\n",
              "account          220\n",
              "access           205\n",
              "login            197\n",
              "sid              178\n",
              "user             172\n",
              "skype            154\n",
              "vpn              138\n",
              "email            134\n",
              "working          133\n",
              "error            120\n",
              "locked           117\n",
              "engineering      109\n",
              "crm              107\n",
              "need             104\n",
              "company           95\n",
              "log               88\n",
              "printer           87\n",
              "open              84\n",
              "connect           80\n",
              "unlock            79\n",
              "update            79\n",
              "ticket            79\n",
              "collaboration     77\n",
              "dtype: int64"
            ]
          },
          "metadata": {},
          "execution_count": 77
        }
      ]
    },
    {
      "cell_type": "markdown",
      "metadata": {
        "id": "uUSRus8UURC1"
      },
      "source": [
        "- from above token we can see in group 0, most of the issues are related to login and access.\n",
        "- Short description is  much clear picture than description column"
      ]
    },
    {
      "cell_type": "code",
      "metadata": {
        "colab": {
          "base_uri": "https://localhost:8080/"
        },
        "id": "hYiT1abjT8Ab",
        "outputId": "d954db3d-cccd-41f8-b161-dd0f293ae4d3"
      },
      "source": [
        "# checking bigram\n",
        "(pd.Series(nltk.ngrams(group_0_list['Short description'], 1)).value_counts())[0:30]"
      ],
      "execution_count": null,
      "outputs": [
        {
          "output_type": "execute_result",
          "data": {
            "text/plain": [
              "(password reset,)                                         18\n",
              "(mobile device activation,)                               12\n",
              "(outlook issue,)                                           8\n",
              "(vpn issue,)                                               7\n",
              "(erp sid password reset,)                                  6\n",
              "(printer problem issue information,)                       6\n",
              "(vpn,)                                                     6\n",
              "(erp,)                                                     6\n",
              "(deployment notification telephony software,)              5\n",
              "(business client issue,)                                   5\n",
              "(skype working,)                                           5\n",
              "(login issue,)                                             5\n",
              "(reset password,)                                          5\n",
              "(ticket comment added,)                                    5\n",
              "(urgent help required outlook crm mfg tooltion issue,)     5\n",
              "(engineering tool working,)                                5\n",
              "(skype,)                                                   5\n",
              "(outlook launching,)                                       4\n",
              "(engineering tool,)                                        4\n",
              "(password change,)                                         4\n",
              "(blank call,)                                              4\n",
              "(outlook working,)                                         4\n",
              "(unable connect vpn,)                                      4\n",
              "(ticket update,)                                           4\n",
              "(business client working,)                                 4\n",
              "(erp logon,)                                               4\n",
              "(unable login pc,)                                         4\n",
              "(network problem multiple application running slow,)       4\n",
              "(access sid,)                                              4\n",
              "(supply chain software password reset,)                    4\n",
              "dtype: int64"
            ]
          },
          "metadata": {},
          "execution_count": 82
        }
      ]
    },
    {
      "cell_type": "code",
      "metadata": {
        "id": "-ZIiWlU5ZBda"
      },
      "source": [
        "## Bigram also suggest in GRP_0 group issues reported are related to logon on/ access to diffrent system"
      ],
      "execution_count": null,
      "outputs": []
    },
    {
      "cell_type": "code",
      "metadata": {
        "colab": {
          "base_uri": "https://localhost:8080/"
        },
        "id": "-qgfwNVHWuvn",
        "outputId": "06099038-7a39-4189-dcdb-973440713982"
      },
      "source": [
        "print(ata_df[ata_df['Assignment group']=='GRP_72'])\n",
        "print(ata_df[ata_df['Assignment group']=='GRP_73'])"
      ],
      "execution_count": null,
      "outputs": [
        {
          "output_type": "stream",
          "name": "stdout",
          "text": [
            "                          Short description  ... Assignment group\n",
            "7828                         account locked  ...           GRP_72\n",
            "8387  ticket ticket update anftgup nftgyair  ...           GRP_72\n",
            "\n",
            "[2 rows x 3 columns]\n",
            "        Short description  ... Assignment group\n",
            "8197  oneteam sso working  ...           GRP_73\n",
            "\n",
            "[1 rows x 3 columns]\n"
          ]
        }
      ]
    },
    {
      "cell_type": "code",
      "metadata": {
        "id": "hWM-i4RrdxR7"
      },
      "source": [
        ""
      ],
      "execution_count": null,
      "outputs": []
    }
  ]
}