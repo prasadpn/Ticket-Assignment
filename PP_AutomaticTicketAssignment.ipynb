{
  "nbformat": 4,
  "nbformat_minor": 0,
  "metadata": {
    "colab": {
      "name": "PP_AutomaticTicketAssignment.ipynb",
      "provenance": [],
      "collapsed_sections": []
    },
    "kernelspec": {
      "name": "python3",
      "display_name": "Python 3"
    },
    "language_info": {
      "name": "python"
    }
  },
  "cells": [
    {
      "cell_type": "code",
      "metadata": {
        "colab": {
          "base_uri": "https://localhost:8080/"
        },
        "id": "1m5-I9zRHFKx",
        "outputId": "73e69275-b830-4975-aa79-74c86de8a9e1"
      },
      "source": [
        "pip install ftfy"
      ],
      "execution_count": 1,
      "outputs": [
        {
          "output_type": "stream",
          "name": "stdout",
          "text": [
            "Collecting ftfy\n",
            "  Downloading ftfy-6.0.3.tar.gz (64 kB)\n",
            "\u001b[?25l\r\u001b[K     |█████                           | 10 kB 23.9 MB/s eta 0:00:01\r\u001b[K     |██████████▏                     | 20 kB 30.4 MB/s eta 0:00:01\r\u001b[K     |███████████████▎                | 30 kB 17.7 MB/s eta 0:00:01\r\u001b[K     |████████████████████▍           | 40 kB 12.4 MB/s eta 0:00:01\r\u001b[K     |█████████████████████████▌      | 51 kB 5.3 MB/s eta 0:00:01\r\u001b[K     |██████████████████████████████▋ | 61 kB 5.9 MB/s eta 0:00:01\r\u001b[K     |████████████████████████████████| 64 kB 2.0 MB/s \n",
            "\u001b[?25hRequirement already satisfied: wcwidth in /usr/local/lib/python3.7/dist-packages (from ftfy) (0.2.5)\n",
            "Building wheels for collected packages: ftfy\n",
            "  Building wheel for ftfy (setup.py) ... \u001b[?25l\u001b[?25hdone\n",
            "  Created wheel for ftfy: filename=ftfy-6.0.3-py3-none-any.whl size=41933 sha256=3d46501b26b9ff06fafb1fb27977285bd3ddffedc5af569602a20ba3cd15ffe7\n",
            "  Stored in directory: /root/.cache/pip/wheels/19/f5/38/273eb3b5e76dfd850619312f693716ac4518b498f5ffb6f56d\n",
            "Successfully built ftfy\n",
            "Installing collected packages: ftfy\n",
            "Successfully installed ftfy-6.0.3\n"
          ]
        }
      ]
    },
    {
      "cell_type": "code",
      "metadata": {
        "colab": {
          "base_uri": "https://localhost:8080/"
        },
        "id": "bwtmA2_2rLzt",
        "outputId": "1913d585-a4e6-40e9-c3f2-d80e3d94c80a"
      },
      "source": [
        "pip install textblob"
      ],
      "execution_count": 2,
      "outputs": [
        {
          "output_type": "stream",
          "name": "stdout",
          "text": [
            "Requirement already satisfied: textblob in /usr/local/lib/python3.7/dist-packages (0.15.3)\n",
            "Requirement already satisfied: nltk>=3.1 in /usr/local/lib/python3.7/dist-packages (from textblob) (3.2.5)\n",
            "Requirement already satisfied: six in /usr/local/lib/python3.7/dist-packages (from nltk>=3.1->textblob) (1.15.0)\n"
          ]
        }
      ]
    },
    {
      "cell_type": "code",
      "metadata": {
        "colab": {
          "base_uri": "https://localhost:8080/"
        },
        "id": "or23eOE6rMI4",
        "outputId": "a52e8ece-7a81-402f-8f60-e74d178436b9"
      },
      "source": [
        "pip install langdetect"
      ],
      "execution_count": 3,
      "outputs": [
        {
          "output_type": "stream",
          "name": "stdout",
          "text": [
            "Collecting langdetect\n",
            "  Downloading langdetect-1.0.9.tar.gz (981 kB)\n",
            "\u001b[K     |████████████████████████████████| 981 kB 5.1 MB/s \n",
            "\u001b[?25hRequirement already satisfied: six in /usr/local/lib/python3.7/dist-packages (from langdetect) (1.15.0)\n",
            "Building wheels for collected packages: langdetect\n",
            "  Building wheel for langdetect (setup.py) ... \u001b[?25l\u001b[?25hdone\n",
            "  Created wheel for langdetect: filename=langdetect-1.0.9-py3-none-any.whl size=993242 sha256=0646d659bbfb627c6dc6e03f5a289029488cb109fe5e3f970c67919221a00d9f\n",
            "  Stored in directory: /root/.cache/pip/wheels/c5/96/8a/f90c59ed25d75e50a8c10a1b1c2d4c402e4dacfa87f3aff36a\n",
            "Successfully built langdetect\n",
            "Installing collected packages: langdetect\n",
            "Successfully installed langdetect-1.0.9\n"
          ]
        }
      ]
    },
    {
      "cell_type": "code",
      "metadata": {
        "colab": {
          "base_uri": "https://localhost:8080/"
        },
        "id": "2yDn8P1MLl-K",
        "outputId": "52764c86-f37d-4369-d8e9-cf7477651a9c"
      },
      "source": [
        "pip install deep-translator"
      ],
      "execution_count": 4,
      "outputs": [
        {
          "output_type": "stream",
          "name": "stdout",
          "text": [
            "Collecting deep-translator\n",
            "  Downloading deep_translator-1.5.5-py3-none-any.whl (30 kB)\n",
            "Collecting click<9.0.0,>=8.0.1\n",
            "  Downloading click-8.0.3-py3-none-any.whl (97 kB)\n",
            "\u001b[K     |████████████████████████████████| 97 kB 3.8 MB/s \n",
            "\u001b[?25hRequirement already satisfied: requests<3.0.0,>=2.23.0 in /usr/local/lib/python3.7/dist-packages (from deep-translator) (2.23.0)\n",
            "Collecting beautifulsoup4<5.0.0,>=4.9.1\n",
            "  Downloading beautifulsoup4-4.10.0-py3-none-any.whl (97 kB)\n",
            "\u001b[K     |████████████████████████████████| 97 kB 6.6 MB/s \n",
            "\u001b[?25hCollecting soupsieve>1.2\n",
            "  Downloading soupsieve-2.3.1-py3-none-any.whl (37 kB)\n",
            "Requirement already satisfied: importlib-metadata in /usr/local/lib/python3.7/dist-packages (from click<9.0.0,>=8.0.1->deep-translator) (4.8.2)\n",
            "Requirement already satisfied: chardet<4,>=3.0.2 in /usr/local/lib/python3.7/dist-packages (from requests<3.0.0,>=2.23.0->deep-translator) (3.0.4)\n",
            "Requirement already satisfied: idna<3,>=2.5 in /usr/local/lib/python3.7/dist-packages (from requests<3.0.0,>=2.23.0->deep-translator) (2.10)\n",
            "Requirement already satisfied: certifi>=2017.4.17 in /usr/local/lib/python3.7/dist-packages (from requests<3.0.0,>=2.23.0->deep-translator) (2021.10.8)\n",
            "Requirement already satisfied: urllib3!=1.25.0,!=1.25.1,<1.26,>=1.21.1 in /usr/local/lib/python3.7/dist-packages (from requests<3.0.0,>=2.23.0->deep-translator) (1.24.3)\n",
            "Requirement already satisfied: zipp>=0.5 in /usr/local/lib/python3.7/dist-packages (from importlib-metadata->click<9.0.0,>=8.0.1->deep-translator) (3.6.0)\n",
            "Requirement already satisfied: typing-extensions>=3.6.4 in /usr/local/lib/python3.7/dist-packages (from importlib-metadata->click<9.0.0,>=8.0.1->deep-translator) (3.10.0.2)\n",
            "Installing collected packages: soupsieve, click, beautifulsoup4, deep-translator\n",
            "  Attempting uninstall: click\n",
            "    Found existing installation: click 7.1.2\n",
            "    Uninstalling click-7.1.2:\n",
            "      Successfully uninstalled click-7.1.2\n",
            "  Attempting uninstall: beautifulsoup4\n",
            "    Found existing installation: beautifulsoup4 4.6.3\n",
            "    Uninstalling beautifulsoup4-4.6.3:\n",
            "      Successfully uninstalled beautifulsoup4-4.6.3\n",
            "\u001b[31mERROR: pip's dependency resolver does not currently take into account all the packages that are installed. This behaviour is the source of the following dependency conflicts.\n",
            "flask 1.1.4 requires click<8.0,>=5.1, but you have click 8.0.3 which is incompatible.\u001b[0m\n",
            "Successfully installed beautifulsoup4-4.10.0 click-8.0.3 deep-translator-1.5.5 soupsieve-2.3.1\n"
          ]
        }
      ]
    },
    {
      "cell_type": "code",
      "metadata": {
        "colab": {
          "base_uri": "https://localhost:8080/"
        },
        "id": "1ZRYqhmehG_S",
        "outputId": "1039e033-f905-4588-83e0-f9bdd7c7f131"
      },
      "source": [
        "pip install contractions"
      ],
      "execution_count": 5,
      "outputs": [
        {
          "output_type": "stream",
          "name": "stdout",
          "text": [
            "Collecting contractions\n",
            "  Downloading contractions-0.0.58-py2.py3-none-any.whl (8.0 kB)\n",
            "Collecting textsearch>=0.0.21\n",
            "  Downloading textsearch-0.0.21-py2.py3-none-any.whl (7.5 kB)\n",
            "Collecting pyahocorasick\n",
            "  Downloading pyahocorasick-1.4.2.tar.gz (321 kB)\n",
            "\u001b[K     |████████████████████████████████| 321 kB 5.7 MB/s \n",
            "\u001b[?25hCollecting anyascii\n",
            "  Downloading anyascii-0.3.0-py3-none-any.whl (284 kB)\n",
            "\u001b[K     |████████████████████████████████| 284 kB 46.0 MB/s \n",
            "\u001b[?25hBuilding wheels for collected packages: pyahocorasick\n",
            "  Building wheel for pyahocorasick (setup.py) ... \u001b[?25l\u001b[?25hdone\n",
            "  Created wheel for pyahocorasick: filename=pyahocorasick-1.4.2-cp37-cp37m-linux_x86_64.whl size=85449 sha256=fb1ef883e16e5c9a00be77d6acf5d0053534f9c3b60c8a2fe77908261f8b67e0\n",
            "  Stored in directory: /root/.cache/pip/wheels/25/19/a6/8f363d9939162782bb8439d886469756271abc01f76fbd790f\n",
            "Successfully built pyahocorasick\n",
            "Installing collected packages: pyahocorasick, anyascii, textsearch, contractions\n",
            "Successfully installed anyascii-0.3.0 contractions-0.0.58 pyahocorasick-1.4.2 textsearch-0.0.21\n"
          ]
        }
      ]
    },
    {
      "cell_type": "code",
      "metadata": {
        "colab": {
          "base_uri": "https://localhost:8080/"
        },
        "id": "f21EcRS-nzO5",
        "outputId": "90fbaeee-884b-4328-a648-ef8c5e0279ed"
      },
      "source": [
        " pip install pyspellchecker "
      ],
      "execution_count": 6,
      "outputs": [
        {
          "output_type": "stream",
          "name": "stdout",
          "text": [
            "Collecting pyspellchecker\n",
            "  Downloading pyspellchecker-0.6.2-py3-none-any.whl (2.7 MB)\n",
            "\u001b[K     |████████████████████████████████| 2.7 MB 5.3 MB/s \n",
            "\u001b[?25hInstalling collected packages: pyspellchecker\n",
            "Successfully installed pyspellchecker-0.6.2\n"
          ]
        }
      ]
    },
    {
      "cell_type": "code",
      "metadata": {
        "id": "O5JmebBGcUUO"
      },
      "source": [
        "import numpy as np\n",
        "import pandas as pd \n",
        "import matplotlib.pyplot as plt\n",
        "%matplotlib inline\n",
        "import seaborn as sns"
      ],
      "execution_count": 7,
      "outputs": []
    },
    {
      "cell_type": "code",
      "metadata": {
        "id": "Ab2Q_frsn6Mx"
      },
      "source": [
        "from spellchecker import SpellChecker"
      ],
      "execution_count": 8,
      "outputs": []
    },
    {
      "cell_type": "code",
      "metadata": {
        "id": "uI_K7aloJBwe"
      },
      "source": [
        "import re"
      ],
      "execution_count": 9,
      "outputs": []
    },
    {
      "cell_type": "code",
      "metadata": {
        "id": "OO_qNUbVHLf1"
      },
      "source": [
        "import ftfy"
      ],
      "execution_count": 10,
      "outputs": []
    },
    {
      "cell_type": "code",
      "metadata": {
        "id": "2tdy7UMDhQFF"
      },
      "source": [
        "import contractions"
      ],
      "execution_count": 11,
      "outputs": []
    },
    {
      "cell_type": "code",
      "metadata": {
        "id": "xBZmhMvhL7jB"
      },
      "source": [
        "from deep_translator import GoogleTranslator"
      ],
      "execution_count": 12,
      "outputs": []
    },
    {
      "cell_type": "code",
      "metadata": {
        "id": "pPTJhR9ilA2_"
      },
      "source": [
        "import string\n",
        "import nltk\n",
        "from nltk.corpus import stopwords\n",
        "from textblob import TextBlob\n",
        "from nltk.corpus import wordnet\n",
        "from nltk.stem import WordNetLemmatizer\n",
        "from nltk.tokenize import word_tokenize"
      ],
      "execution_count": 13,
      "outputs": []
    },
    {
      "cell_type": "code",
      "metadata": {
        "id": "VinyBmtrrftY"
      },
      "source": [
        "from textblob import TextBlob\n",
        "from langdetect import detect\n",
        "from langdetect import detect_langs"
      ],
      "execution_count": 14,
      "outputs": []
    },
    {
      "cell_type": "code",
      "source": [
        "from wordcloud import WordCloud"
      ],
      "metadata": {
        "id": "9PmE4atOUPc9"
      },
      "execution_count": 15,
      "outputs": []
    },
    {
      "cell_type": "code",
      "source": [
        "nltk.download('stopwords')"
      ],
      "metadata": {
        "colab": {
          "base_uri": "https://localhost:8080/"
        },
        "id": "ldGfeztsYC0b",
        "outputId": "267886a0-35ef-4165-e523-c39e12bc3a1b"
      },
      "execution_count": 153,
      "outputs": [
        {
          "output_type": "stream",
          "name": "stdout",
          "text": [
            "[nltk_data] Downloading package stopwords to /root/nltk_data...\n",
            "[nltk_data]   Unzipping corpora/stopwords.zip.\n"
          ]
        },
        {
          "output_type": "execute_result",
          "data": {
            "text/plain": [
              "True"
            ]
          },
          "metadata": {},
          "execution_count": 153
        }
      ]
    },
    {
      "cell_type": "code",
      "metadata": {
        "id": "_qrQX4V1fQWX"
      },
      "source": [
        "seed = 32"
      ],
      "execution_count": 16,
      "outputs": []
    },
    {
      "cell_type": "code",
      "metadata": {
        "id": "mC5FQfaRZnyF"
      },
      "source": [
        "pd.set_option('display.max_colwidth', None)"
      ],
      "execution_count": 17,
      "outputs": []
    },
    {
      "cell_type": "code",
      "metadata": {
        "colab": {
          "base_uri": "https://localhost:8080/"
        },
        "id": "VRuVqDnafXfw",
        "outputId": "bff88cfc-d1f7-4a45-fe37-3fa966252e15"
      },
      "source": [
        "ata_path = \"/content/drive/MyDrive/GL/ATA/input_data.xlsx\"\n",
        "print(ata_path)"
      ],
      "execution_count": 18,
      "outputs": [
        {
          "output_type": "stream",
          "name": "stdout",
          "text": [
            "/content/drive/MyDrive/GL/ATA/input_data.xlsx\n"
          ]
        }
      ]
    },
    {
      "cell_type": "code",
      "metadata": {
        "id": "oXo1BQMvN_Iv"
      },
      "source": [
        "def remove_lead_trail_space(text):\n",
        "  return text.strip()"
      ],
      "execution_count": 19,
      "outputs": []
    },
    {
      "cell_type": "code",
      "metadata": {
        "id": "F1u0Pb-VOCbv"
      },
      "source": [
        "def convert_to_lowercase(text):\n",
        "  return text.lower()"
      ],
      "execution_count": 20,
      "outputs": []
    },
    {
      "cell_type": "code",
      "metadata": {
        "id": "rWyNrEJ4OCh6"
      },
      "source": [
        "def remove_punctuation(text):\n",
        "    PUNCT_TO_REMOVE = string.punctuation\n",
        "    return text.translate(str.maketrans('', '', PUNCT_TO_REMOVE))"
      ],
      "execution_count": 21,
      "outputs": []
    },
    {
      "cell_type": "code",
      "metadata": {
        "id": "XD47v7W8OCny"
      },
      "source": [
        "def remove_digits(text):\n",
        "  digits_rem = ''.join((x for x in text if not x.isdigit()))\n",
        "  return digits_rem"
      ],
      "execution_count": 22,
      "outputs": []
    },
    {
      "cell_type": "code",
      "metadata": {
        "id": "kYKZDbQIOI7e"
      },
      "source": [
        "def remove_stopwords(text):\n",
        "    STOPWORDS = set(stopwords.words('english'))\n",
        "    return \" \".join([word for word in str(text).split() if word not in STOPWORDS])"
      ],
      "execution_count": 23,
      "outputs": []
    },
    {
      "cell_type": "code",
      "metadata": {
        "id": "MDS3BGdsOI_U"
      },
      "source": [
        "def lemmetize_text(text):\n",
        "  lemmatizer = WordNetLemmatizer()\n",
        "  word_list = nltk.word_tokenize(text)\n",
        "  lemmatized_output = ' '.join([lemmatizer.lemmatize(word) for word in word_list])\n",
        "  return lemmatized_output"
      ],
      "execution_count": 24,
      "outputs": []
    },
    {
      "cell_type": "code",
      "metadata": {
        "id": "aCjGTC5PjnWJ"
      },
      "source": [
        "def clean_mojibake(text):\n",
        "  cleaned_mojibake = ftfy.fix_text(text)\n",
        "  return cleaned_mojibake"
      ],
      "execution_count": 25,
      "outputs": []
    },
    {
      "cell_type": "code",
      "metadata": {
        "id": "ly85KgkMj-Ol"
      },
      "source": [
        "def translate_to_english(text):\n",
        "  translated_text = text\n",
        "  if len(text)>0:\n",
        "    if (detect(text) != 'en'):\n",
        "      translated_text = GoogleTranslator(source='auto', target='english').translate(text)\n",
        "  return translated_text"
      ],
      "execution_count": 26,
      "outputs": []
    },
    {
      "cell_type": "code",
      "metadata": {
        "id": "J5P93CL6HpIz"
      },
      "source": [
        "def remove_linebreaks(text):\n",
        "  text = text.replace(\"\\r\",\" \")\n",
        "  text = text.replace(\"\\n\",\" \")\n",
        "  text = text.replace(\"\\t\",\" \")\n",
        "  return text"
      ],
      "execution_count": 27,
      "outputs": []
    },
    {
      "cell_type": "code",
      "metadata": {
        "id": "9nVKp1yEVE_U"
      },
      "source": [
        "def extract_received_from_mail(text):\n",
        "  return_text = \"\"\n",
        "  match = re.search(r'received from: [\\w\\.-]+@[\\w\\.-]+', text)\n",
        "  if bool(match):\n",
        "    mail_match = re.search(r'[\\w\\.-]+@[\\w\\.-]+', match.group(0))\n",
        "    return_text = mail_match.group(0)\n",
        "  else:\n",
        "    return_text = \"No Match\"\n",
        "  return return_text"
      ],
      "execution_count": 28,
      "outputs": []
    },
    {
      "cell_type": "code",
      "metadata": {
        "id": "ZfI8CZD2yLGZ"
      },
      "source": [
        "def extract_subject_from_mail(text):\n",
        "  return_subject = \"\"\n",
        "  match_subject = re.search(r'subject:.*[\\r\\n\\t\\f\\v]', text)\n",
        "  if bool(match_subject):\n",
        "    return_subject = match_subject.group(0).replace('subject:',\"\")\n",
        "    return_subject = remove_linebreaks(return_subject)\n",
        "    return_subject = remove_lead_trail_space(return_subject)\n",
        "  else:\n",
        "    return_subject = \"No Match\"\n",
        "  return return_subject"
      ],
      "execution_count": 29,
      "outputs": []
    },
    {
      "cell_type": "code",
      "metadata": {
        "id": "inYR3fZ4bhRK"
      },
      "source": [
        "def remove_received_from_mail(text):\n",
        "  match = re.search(r'received from: [\\w\\.-]+@[\\w\\.-]+', text)\n",
        "  if bool(match):\n",
        "    text = text.replace(match.group(0),\"\")\n",
        "  return text"
      ],
      "execution_count": 30,
      "outputs": []
    },
    {
      "cell_type": "code",
      "metadata": {
        "id": "PR7NliVXV7LQ"
      },
      "source": [
        "def remove_email(text):\n",
        "  matched_emails = re.findall('\\S+@\\S+', text)\n",
        "\n",
        "  for email in matched_emails:\n",
        "    text = text.replace(email,\"\")\n",
        "  return text"
      ],
      "execution_count": 31,
      "outputs": []
    },
    {
      "cell_type": "code",
      "metadata": {
        "id": "73AaBvuZJchh"
      },
      "source": [
        "def removed_from_to_sent_date(text):\n",
        "  ## Removes the occurances of \n",
        "  ## from: till any of the line breaks\n",
        "  ## to: till any of the line breaks\n",
        "  ## sent: till any of the line breaks\n",
        "  ## date: till any of the line breaks\n",
        "  ## cc: till any of the line breaks\n",
        "  ## subject: till any of the line breaks\n",
        "  ## importance: till any of the line breaks\n",
        "\n",
        "  \n",
        "  match_mailto = re.findall(r'<mailto:.*>', text)\n",
        "  match_from = re.findall(r'from:.*[\\r\\n]', text)\n",
        "  match_to = re.findall(r'to:.*[\\r\\n]', text)\n",
        "  match_sent = re.findall(r'sent:.*[\\r\\n]', text) \n",
        "  match_date = re.findall(r'date:.*[\\r\\n]', text)\n",
        "  match_cc = re.findall(r'cc:.*[\\r\\n]', text)\n",
        "  match_subject = re.findall(r'subject:.*[\\r\\n]', text)\n",
        "  match_importance = re.findall(r'importance:.*[\\r\\n]', text)\n",
        "  match_first_name = re.findall(r'first name.*[\\r\\n]', text)\n",
        "  match_last_name = re.findall(r'last name.*[\\r\\n]', text)\n",
        "  match_user_name_space = re.findall(r'user name:.*[\\r\\n]', text)\n",
        "  match_user_name = re.findall(r'username:.*[\\r\\n]', text)\n",
        "  match_name = re.findall(r'name:.*[\\r\\n]', text)\n",
        "  match_language = re.findall(r'language:.*[\\r\\n]', text)\n",
        "  match_browser = re.findall(r'browser:.*[\\r\\n]', text)\n",
        "  match_mail_id = re.findall(r'mail id:.*[\\r\\n]', text)\n",
        "  match_email_address = re.findall(r'email address:.*[\\r\\n]', text)\n",
        "  match_email = re.findall(r'email:.*[\\r\\n]', text)\n",
        "  match_customernumber = re.findall(r'customer number:.*[\\r\\n]', text)\n",
        "  match_customerjobtitle = re.findall(r'customer job title:.*[\\r\\n]', text)\n",
        "  match_telephone = re.findall(r'telephone:.*[\\r\\n]', text)\n",
        "  match_contact = re.findall(r'contact #:.*[\\r\\n]', text)\n",
        "  match_vit_ref_num = re.findall(r'vitalyst reference number:.*[\\r\\n]', text)\n",
        "  match_supervisor = re.findall(r'supervisor:.*[\\r\\n]', text)\n",
        "  match_manager = re.findall(r'manager.*[\\r\\n]', text)\n",
        "  match_i_number = re.findall(r'i number:.*[\\r\\n]', text)\n",
        "  match_cost_center = re.findall(r'cost center.*[\\r\\n]', text)\n",
        "  match_ext_comp = re.findall(r'external company name.*[\\r\\n]', text)\n",
        "  match_emp_id = re.findall(r'emp id:.*[\\r\\n]', text)\n",
        "  match_emb_image = re.findall(r'\\[cid:image.*\\]', text)\n",
        "  match_begin_fwd_msg = re.findall(r'begin forwarded message:', text)\n",
        "  match_sent_from_iphone = re.findall(r'(sent from my iphone|sent from my ipad)', text)\n",
        "  match_sir_madam = re.findall(r'(sir or madam,|sir/mam,|sir,)', text)\n",
        "  match_yes_no_na_option = re.findall(r'(\\(yes/no/na\\))', text)\n",
        "  match_summary = re.findall(r'summary:', text)\n",
        "\n",
        "  all_matches = match_mailto + match_from + match_to + match_sent + match_date + match_cc + match_subject + match_importance + match_first_name + match_last_name + match_user_name_space + match_user_name + match_name + match_language + match_browser + match_mail_id + match_email_address + match_email + match_customernumber + match_telephone + match_summary + match_customerjobtitle + match_contact + match_vit_ref_num + match_supervisor + match_manager + match_i_number + match_cost_center + match_ext_comp + match_emp_id + match_emb_image + match_begin_fwd_msg + match_sent_from_iphone + match_sir_madam + match_yes_no_na_option\n",
        "\n",
        "  for matched_text in all_matches:\n",
        "    text = text.replace(matched_text, \"\")\n",
        "\n",
        "  return text"
      ],
      "execution_count": 32,
      "outputs": []
    },
    {
      "cell_type": "code",
      "metadata": {
        "id": "WwJ3x34erktZ"
      },
      "source": [
        "def remove_greetings(text):\n",
        "  match_greetings = re.search(r'(^|\\s)(good day|good afternoon|good morning|good evening)(,|\\s|!|.|:)', text)\n",
        "  if bool(match_greetings):\n",
        "    text = text.replace(match_greetings.group(0),\"\")\n",
        "  return text"
      ],
      "execution_count": 33,
      "outputs": []
    },
    {
      "cell_type": "code",
      "metadata": {
        "id": "Z-HVm9Zt1q75"
      },
      "source": [
        "def remove_best_wishes(text):\n",
        "  match_bestwishes = re.search(r'(with best|best|with kind|kind|many|with warm|warm)$', text)\n",
        "  if bool(match_bestwishes):\n",
        "    text = text.replace(match_bestwishes.group(0),\"\")\n",
        "  return text"
      ],
      "execution_count": 34,
      "outputs": []
    },
    {
      "cell_type": "code",
      "metadata": {
        "id": "8QvGpz7i98CB"
      },
      "source": [
        "def remove_hello_wishes(text):\n",
        "  match_hellowishes = re.search(r'(hello i.t. team|hello help-team|hello support team|hello help-team|hello it-team|hello ladies and gentlemen|hello  it helper|hellow|hello it support|hello all|hello colleagues|hi there|hello it team|hello sir|hello it service|hello it|hello helpdesk|hello team|hello all|hello it desk|hello  it helper|hello dac|hello|gentles|it team|dear all|dear it|dear|hallo|all groups|it help|team)(,|\\s|!|.|:|;|<|~)', text)\n",
        "  if bool(match_hellowishes):\n",
        "    text = text.replace(match_hellowishes.group(0),\"\")\n",
        "  return text"
      ],
      "execution_count": 35,
      "outputs": []
    },
    {
      "cell_type": "code",
      "metadata": {
        "id": "mszVQ12SIWxm"
      },
      "source": [
        "def remove_hi(text):\n",
        "  match_hi = re.search(r'(hi it|hi team|hi it experts|hi)(,|\\s|!|.|:)', text)\n",
        "  if bool(match_hi):\n",
        "    text = text.replace(match_hi.group(0),\"\")\n",
        "  return text          "
      ],
      "execution_count": 36,
      "outputs": []
    },
    {
      "cell_type": "code",
      "metadata": {
        "id": "7mJE3sVB59fO"
      },
      "source": [
        "def remove_thanking(text):\n",
        "  match_thanking = re.search(r'(thanking you|thanking u|thank u|thank you|thanks)(,|.|/s|$)', text)\n",
        "  if bool(match_thanking):\n",
        "    text = text.replace(match_thanking.group(0),\"\")\n",
        "  return text"
      ],
      "execution_count": 37,
      "outputs": []
    },
    {
      "cell_type": "code",
      "source": [
        "def expand_pls(text):\n",
        "  match_pls = re.search(r'(pls)(\\s|.)', text)\n",
        "  if bool(match_pls):\n",
        "    text = text.replace(match_pls.group(0),\"\")\n",
        "  return text"
      ],
      "metadata": {
        "id": "MugCNApeJafd"
      },
      "execution_count": 38,
      "outputs": []
    },
    {
      "cell_type": "code",
      "source": [
        "def remove_please(text):\n",
        "  match_help = re.search(r'please help to', text)\n",
        "  if bool(match_help):\n",
        "    text = text.replace(match_help.group(0),\"\")\n",
        "  return text"
      ],
      "metadata": {
        "id": "REC1_VvvGiAT"
      },
      "execution_count": 39,
      "outputs": []
    },
    {
      "cell_type": "code",
      "metadata": {
        "id": "SHZyNlX_h5Qz"
      },
      "source": [
        "def fix_contractions(text):\n",
        "  fixed_contractions = contractions.fix(text)\n",
        "  return fixed_contractions"
      ],
      "execution_count": 40,
      "outputs": []
    },
    {
      "cell_type": "code",
      "metadata": {
        "id": "P5EVl-AuOJBE"
      },
      "source": [
        "def preprocess_text_part1(text):\n",
        "  text = clean_mojibake(text)\n",
        "  text = convert_to_lowercase(text)\n",
        "  return text"
      ],
      "execution_count": 41,
      "outputs": []
    },
    {
      "cell_type": "code",
      "metadata": {
        "id": "mTlp8UkxOJDd"
      },
      "source": [
        "def preprocess_text_part2(text):\n",
        "  text = remove_received_from_mail(text)\n",
        "  text = remove_email(text)\n",
        "  text = removed_from_to_sent_date(text)\n",
        "  text = remove_linebreaks(text)\n",
        "  text = remove_lead_trail_space(text)\n",
        "  #text = remove_punctuation(text) \n",
        "  text = remove_digits(text)\n",
        "  text = remove_greetings(text)\n",
        "  text = remove_best_wishes(text)\n",
        "  text = remove_hello_wishes(text)\n",
        "  #text = translate_to_english(text)\n",
        "  #text = remove_stopwords(text)\n",
        "  #text = lemmetize_text(text)\n",
        "  text = remove_hello_wishes(text)\n",
        "  text = remove_lead_trail_space(text)\n",
        "  text = remove_hi(text)\n",
        "  text = remove_thanking(text)\n",
        "  text = expand_pls(text)\n",
        "  text = remove_please(text)\n",
        "  text = fix_contractions(text)\n",
        "  text = remove_lead_trail_space(text)\n",
        "  return text"
      ],
      "execution_count": 42,
      "outputs": []
    },
    {
      "cell_type": "code",
      "metadata": {
        "id": "VgoQZvvOOJGN"
      },
      "source": [
        ""
      ],
      "execution_count": 42,
      "outputs": []
    },
    {
      "cell_type": "code",
      "metadata": {
        "id": "c5BB9A8u7nLR"
      },
      "source": [
        ""
      ],
      "execution_count": 42,
      "outputs": []
    },
    {
      "cell_type": "code",
      "metadata": {
        "id": "6GWvDNHN7non"
      },
      "source": [
        ""
      ],
      "execution_count": 42,
      "outputs": []
    },
    {
      "cell_type": "code",
      "metadata": {
        "id": "FK973jgFOJJW"
      },
      "source": [
        ""
      ],
      "execution_count": 42,
      "outputs": []
    },
    {
      "cell_type": "code",
      "metadata": {
        "id": "QtoPQzGaOC4R"
      },
      "source": [
        ""
      ],
      "execution_count": 42,
      "outputs": []
    },
    {
      "cell_type": "code",
      "metadata": {
        "id": "febtX6TYfgqE"
      },
      "source": [
        "ata_data = pd.read_excel(ata_path) "
      ],
      "execution_count": 43,
      "outputs": []
    },
    {
      "cell_type": "code",
      "metadata": {
        "colab": {
          "base_uri": "https://localhost:8080/",
          "height": 293
        },
        "id": "IK1YlL23gBU7",
        "outputId": "287d9cc4-b1e8-4e4a-c781-99fe54edbb39"
      },
      "source": [
        "ata_data.head()"
      ],
      "execution_count": 44,
      "outputs": [
        {
          "output_type": "execute_result",
          "data": {
            "text/html": [
              "<div>\n",
              "<style scoped>\n",
              "    .dataframe tbody tr th:only-of-type {\n",
              "        vertical-align: middle;\n",
              "    }\n",
              "\n",
              "    .dataframe tbody tr th {\n",
              "        vertical-align: top;\n",
              "    }\n",
              "\n",
              "    .dataframe thead th {\n",
              "        text-align: right;\n",
              "    }\n",
              "</style>\n",
              "<table border=\"1\" class=\"dataframe\">\n",
              "  <thead>\n",
              "    <tr style=\"text-align: right;\">\n",
              "      <th></th>\n",
              "      <th>Short description</th>\n",
              "      <th>Description</th>\n",
              "      <th>Caller</th>\n",
              "      <th>Assignment group</th>\n",
              "    </tr>\n",
              "  </thead>\n",
              "  <tbody>\n",
              "    <tr>\n",
              "      <th>0</th>\n",
              "      <td>login issue</td>\n",
              "      <td>-verified user details.(employee# &amp; manager name)\\r\\n-checked the user name in ad and reset the password.\\r\\n-advised the user to login and check.\\r\\n-caller confirmed that he was able to login.\\r\\n-issue resolved.</td>\n",
              "      <td>spxjnwir pjlcoqds</td>\n",
              "      <td>GRP_0</td>\n",
              "    </tr>\n",
              "    <tr>\n",
              "      <th>1</th>\n",
              "      <td>outlook</td>\n",
              "      <td>\\r\\n\\r\\nreceived from: hmjdrvpb.komuaywn@gmail.com\\r\\n\\r\\nhello team,\\r\\n\\r\\nmy meetings/skype meetings etc are not appearing in my outlook calendar, can somebody please advise how to correct this?\\r\\n\\r\\nkind</td>\n",
              "      <td>hmjdrvpb komuaywn</td>\n",
              "      <td>GRP_0</td>\n",
              "    </tr>\n",
              "    <tr>\n",
              "      <th>2</th>\n",
              "      <td>cant log in to vpn</td>\n",
              "      <td>\\r\\n\\r\\nreceived from: eylqgodm.ybqkwiam@gmail.com\\r\\n\\r\\nhi\\r\\n\\r\\ni cannot log on to vpn\\r\\n\\r\\nbest</td>\n",
              "      <td>eylqgodm ybqkwiam</td>\n",
              "      <td>GRP_0</td>\n",
              "    </tr>\n",
              "    <tr>\n",
              "      <th>3</th>\n",
              "      <td>unable to access hr_tool page</td>\n",
              "      <td>unable to access hr_tool page</td>\n",
              "      <td>xbkucsvz gcpydteq</td>\n",
              "      <td>GRP_0</td>\n",
              "    </tr>\n",
              "    <tr>\n",
              "      <th>4</th>\n",
              "      <td>skype error</td>\n",
              "      <td>skype error</td>\n",
              "      <td>owlgqjme qhcozdfx</td>\n",
              "      <td>GRP_0</td>\n",
              "    </tr>\n",
              "  </tbody>\n",
              "</table>\n",
              "</div>"
            ],
            "text/plain": [
              "               Short description  ... Assignment group\n",
              "0                    login issue  ...            GRP_0\n",
              "1                        outlook  ...            GRP_0\n",
              "2             cant log in to vpn  ...            GRP_0\n",
              "3  unable to access hr_tool page  ...            GRP_0\n",
              "4                   skype error   ...            GRP_0\n",
              "\n",
              "[5 rows x 4 columns]"
            ]
          },
          "metadata": {},
          "execution_count": 44
        }
      ]
    },
    {
      "cell_type": "code",
      "metadata": {
        "colab": {
          "base_uri": "https://localhost:8080/",
          "height": 293
        },
        "id": "1phX7B35gDW0",
        "outputId": "654641e8-83fb-44e4-a18c-0f59f853c02b"
      },
      "source": [
        "ata_data.tail()"
      ],
      "execution_count": 45,
      "outputs": [
        {
          "output_type": "execute_result",
          "data": {
            "text/html": [
              "<div>\n",
              "<style scoped>\n",
              "    .dataframe tbody tr th:only-of-type {\n",
              "        vertical-align: middle;\n",
              "    }\n",
              "\n",
              "    .dataframe tbody tr th {\n",
              "        vertical-align: top;\n",
              "    }\n",
              "\n",
              "    .dataframe thead th {\n",
              "        text-align: right;\n",
              "    }\n",
              "</style>\n",
              "<table border=\"1\" class=\"dataframe\">\n",
              "  <thead>\n",
              "    <tr style=\"text-align: right;\">\n",
              "      <th></th>\n",
              "      <th>Short description</th>\n",
              "      <th>Description</th>\n",
              "      <th>Caller</th>\n",
              "      <th>Assignment group</th>\n",
              "    </tr>\n",
              "  </thead>\n",
              "  <tbody>\n",
              "    <tr>\n",
              "      <th>8495</th>\n",
              "      <td>emails not coming in from zz mail</td>\n",
              "      <td>\\r\\n\\r\\nreceived from: avglmrts.vhqmtiua@gmail.com\\r\\n\\r\\ngood afternoon,\\r\\ni am not receiving the emails that i sent from zz mail.\\r\\nplease advise\\r\\n\\r\\n</td>\n",
              "      <td>avglmrts vhqmtiua</td>\n",
              "      <td>GRP_29</td>\n",
              "    </tr>\n",
              "    <tr>\n",
              "      <th>8496</th>\n",
              "      <td>telephony_software issue</td>\n",
              "      <td>telephony_software issue</td>\n",
              "      <td>rbozivdq gmlhrtvp</td>\n",
              "      <td>GRP_0</td>\n",
              "    </tr>\n",
              "    <tr>\n",
              "      <th>8497</th>\n",
              "      <td>vip2: windows password reset for tifpdchb pedxruyf</td>\n",
              "      <td>vip2: windows password reset for tifpdchb pedxruyf</td>\n",
              "      <td>oybwdsgx oxyhwrfz</td>\n",
              "      <td>GRP_0</td>\n",
              "    </tr>\n",
              "    <tr>\n",
              "      <th>8498</th>\n",
              "      <td>machine nÃ£o estÃ¡ funcionando</td>\n",
              "      <td>i am unable to access the machine utilities to finish the drawers adjustment settings.\\r\\nis no network..</td>\n",
              "      <td>ufawcgob aowhxjky</td>\n",
              "      <td>GRP_62</td>\n",
              "    </tr>\n",
              "    <tr>\n",
              "      <th>8499</th>\n",
              "      <td>an mehreren pc`s lassen sich verschiedene prgramdntyme nicht Ã¶ffnen.</td>\n",
              "      <td>an mehreren pc`s lassen sich verschiedene prgramdntyme nicht Ã¶ffnen. bereich cnc.</td>\n",
              "      <td>kqvbrspl jyzoklfx</td>\n",
              "      <td>GRP_49</td>\n",
              "    </tr>\n",
              "  </tbody>\n",
              "</table>\n",
              "</div>"
            ],
            "text/plain": [
              "                                                           Short description  ... Assignment group\n",
              "8495                                       emails not coming in from zz mail  ...           GRP_29\n",
              "8496                                                telephony_software issue  ...            GRP_0\n",
              "8497                      vip2: windows password reset for tifpdchb pedxruyf  ...            GRP_0\n",
              "8498                                          machine nÃ£o estÃ¡ funcionando  ...           GRP_62\n",
              "8499  an mehreren pc`s lassen sich verschiedene prgramdntyme nicht Ã¶ffnen.   ...           GRP_49\n",
              "\n",
              "[5 rows x 4 columns]"
            ]
          },
          "metadata": {},
          "execution_count": 45
        }
      ]
    },
    {
      "cell_type": "code",
      "metadata": {
        "colab": {
          "base_uri": "https://localhost:8080/"
        },
        "id": "oxltLLFmgcAD",
        "outputId": "2a6d6102-79f7-4f06-b71e-2f1e4aefe1be"
      },
      "source": [
        "ata_data.shape"
      ],
      "execution_count": 46,
      "outputs": [
        {
          "output_type": "execute_result",
          "data": {
            "text/plain": [
              "(8500, 4)"
            ]
          },
          "metadata": {},
          "execution_count": 46
        }
      ]
    },
    {
      "cell_type": "code",
      "source": [
        "ata_data.info()"
      ],
      "metadata": {
        "colab": {
          "base_uri": "https://localhost:8080/"
        },
        "id": "P4RXlb9vK7v4",
        "outputId": "899efa7c-c33d-4a3e-952f-9f25098136be"
      },
      "execution_count": 47,
      "outputs": [
        {
          "output_type": "stream",
          "name": "stdout",
          "text": [
            "<class 'pandas.core.frame.DataFrame'>\n",
            "RangeIndex: 8500 entries, 0 to 8499\n",
            "Data columns (total 4 columns):\n",
            " #   Column             Non-Null Count  Dtype \n",
            "---  ------             --------------  ----- \n",
            " 0   Short description  8492 non-null   object\n",
            " 1   Description        8499 non-null   object\n",
            " 2   Caller             8500 non-null   object\n",
            " 3   Assignment group   8500 non-null   object\n",
            "dtypes: object(4)\n",
            "memory usage: 265.8+ KB\n"
          ]
        }
      ]
    },
    {
      "cell_type": "code",
      "metadata": {
        "colab": {
          "base_uri": "https://localhost:8080/"
        },
        "id": "_CKaUIToZqZf",
        "outputId": "2de389d0-96a7-40e7-9271-78d370f74948"
      },
      "source": [
        "ata_data.isnull().sum()"
      ],
      "execution_count": 48,
      "outputs": [
        {
          "output_type": "execute_result",
          "data": {
            "text/plain": [
              "Short description    8\n",
              "Description          1\n",
              "Caller               0\n",
              "Assignment group     0\n",
              "dtype: int64"
            ]
          },
          "metadata": {},
          "execution_count": 48
        }
      ]
    },
    {
      "cell_type": "markdown",
      "metadata": {
        "id": "dXmF2vaOaSJ4"
      },
      "source": [
        "There are some null values in Short Description & Description column and putting them in a different column for analysis purpose"
      ]
    },
    {
      "cell_type": "code",
      "metadata": {
        "colab": {
          "base_uri": "https://localhost:8080/",
          "height": 422
        },
        "id": "Xo5typntafF2",
        "outputId": "01c8c590-b95c-459c-aba6-e120e3dfc0da"
      },
      "source": [
        "ata_data[ata_data['Short description'].isnull()]"
      ],
      "execution_count": 49,
      "outputs": [
        {
          "output_type": "execute_result",
          "data": {
            "text/html": [
              "<div>\n",
              "<style scoped>\n",
              "    .dataframe tbody tr th:only-of-type {\n",
              "        vertical-align: middle;\n",
              "    }\n",
              "\n",
              "    .dataframe tbody tr th {\n",
              "        vertical-align: top;\n",
              "    }\n",
              "\n",
              "    .dataframe thead th {\n",
              "        text-align: right;\n",
              "    }\n",
              "</style>\n",
              "<table border=\"1\" class=\"dataframe\">\n",
              "  <thead>\n",
              "    <tr style=\"text-align: right;\">\n",
              "      <th></th>\n",
              "      <th>Short description</th>\n",
              "      <th>Description</th>\n",
              "      <th>Caller</th>\n",
              "      <th>Assignment group</th>\n",
              "    </tr>\n",
              "  </thead>\n",
              "  <tbody>\n",
              "    <tr>\n",
              "      <th>2604</th>\n",
              "      <td>NaN</td>\n",
              "      <td>\\r\\n\\r\\nreceived from: ohdrnswl.rezuibdt@gmail.com\\r\\n\\r\\nhi,\\r\\n\\r\\n\\r\\n\\r\\nlink is not working. kindly resolve yhe issue on urgent basis.\\r\\n\\r\\n\\r\\n\\r\\nbest</td>\n",
              "      <td>ohdrnswl rezuibdt</td>\n",
              "      <td>GRP_34</td>\n",
              "    </tr>\n",
              "    <tr>\n",
              "      <th>3383</th>\n",
              "      <td>NaN</td>\n",
              "      <td>\\r\\n-connected to the user system using teamviewer.\\r\\n-help the user login to the portal.\\r\\n-issue resolved.</td>\n",
              "      <td>qftpazns fxpnytmk</td>\n",
              "      <td>GRP_0</td>\n",
              "    </tr>\n",
              "    <tr>\n",
              "      <th>3906</th>\n",
              "      <td>NaN</td>\n",
              "      <td>-user unable  tologin to vpn.\\r\\n-connected to the user system using teamviewer.\\r\\n-help the user login to the company vpn using the vpn company vpn link.\\r\\n-issue resolved.</td>\n",
              "      <td>awpcmsey ctdiuqwe</td>\n",
              "      <td>GRP_0</td>\n",
              "    </tr>\n",
              "    <tr>\n",
              "      <th>3910</th>\n",
              "      <td>NaN</td>\n",
              "      <td>-user unable  tologin to vpn.\\r\\n-connected to the user system using teamviewer.\\r\\n-help the user login to the company vpn using the vpn company vpn link.\\r\\n-issue resolved.</td>\n",
              "      <td>rhwsmefo tvphyura</td>\n",
              "      <td>GRP_0</td>\n",
              "    </tr>\n",
              "    <tr>\n",
              "      <th>3915</th>\n",
              "      <td>NaN</td>\n",
              "      <td>-user unable  tologin to vpn.\\r\\n-connected to the user system using teamviewer.\\r\\n-help the user login to the company vpn using the vpn company vpn link.\\r\\n-issue resolved.</td>\n",
              "      <td>hxripljo efzounig</td>\n",
              "      <td>GRP_0</td>\n",
              "    </tr>\n",
              "    <tr>\n",
              "      <th>3921</th>\n",
              "      <td>NaN</td>\n",
              "      <td>-user unable  tologin to vpn.\\r\\n-connected to the user system using teamviewer.\\r\\n-help the user login to the company vpn using the vpn company vpn link.\\r\\n-issue resolved.</td>\n",
              "      <td>cziadygo veiosxby</td>\n",
              "      <td>GRP_0</td>\n",
              "    </tr>\n",
              "    <tr>\n",
              "      <th>3924</th>\n",
              "      <td>NaN</td>\n",
              "      <td>name:wvqgbdhm fwchqjor\\nlanguage:\\nbrowser:microsoft internet explorer\\nemail:wvqgbdhm.fwchqjor@gmail.com\\ncustomer number:\\ntelephone:-not available\\nsummary:can't get into vpn - need to be on at 4:30 est and it wont' happen please help aerp!</td>\n",
              "      <td>wvqgbdhm fwchqjor</td>\n",
              "      <td>GRP_0</td>\n",
              "    </tr>\n",
              "    <tr>\n",
              "      <th>4341</th>\n",
              "      <td>NaN</td>\n",
              "      <td>\\r\\n\\r\\nreceived from: eqmuniov.ehxkcbgj@gmail.com\\r\\n\\r\\ngood morning,\\r\\n\\r\\nwhen  trying to log on to erp i get this error below.\\r\\nplease help  urgently as i can not process customer order.\\r\\n\\r\\n[cid:image001.png@01d20f2e.751db880]\\r\\n\\r\\n\\r\\n</td>\n",
              "      <td>eqmuniov ehxkcbgj</td>\n",
              "      <td>GRP_0</td>\n",
              "    </tr>\n",
              "  </tbody>\n",
              "</table>\n",
              "</div>"
            ],
            "text/plain": [
              "     Short description  ... Assignment group\n",
              "2604               NaN  ...           GRP_34\n",
              "3383               NaN  ...            GRP_0\n",
              "3906               NaN  ...            GRP_0\n",
              "3910               NaN  ...            GRP_0\n",
              "3915               NaN  ...            GRP_0\n",
              "3921               NaN  ...            GRP_0\n",
              "3924               NaN  ...            GRP_0\n",
              "4341               NaN  ...            GRP_0\n",
              "\n",
              "[8 rows x 4 columns]"
            ]
          },
          "metadata": {},
          "execution_count": 49
        }
      ]
    },
    {
      "cell_type": "code",
      "metadata": {
        "colab": {
          "base_uri": "https://localhost:8080/",
          "height": 81
        },
        "id": "WkV0ry7xafRv",
        "outputId": "462ef8a1-70ca-4e51-ce10-19a09c2bf9c4"
      },
      "source": [
        "ata_data[ata_data['Description'].isnull()]"
      ],
      "execution_count": 50,
      "outputs": [
        {
          "output_type": "execute_result",
          "data": {
            "text/html": [
              "<div>\n",
              "<style scoped>\n",
              "    .dataframe tbody tr th:only-of-type {\n",
              "        vertical-align: middle;\n",
              "    }\n",
              "\n",
              "    .dataframe tbody tr th {\n",
              "        vertical-align: top;\n",
              "    }\n",
              "\n",
              "    .dataframe thead th {\n",
              "        text-align: right;\n",
              "    }\n",
              "</style>\n",
              "<table border=\"1\" class=\"dataframe\">\n",
              "  <thead>\n",
              "    <tr style=\"text-align: right;\">\n",
              "      <th></th>\n",
              "      <th>Short description</th>\n",
              "      <th>Description</th>\n",
              "      <th>Caller</th>\n",
              "      <th>Assignment group</th>\n",
              "    </tr>\n",
              "  </thead>\n",
              "  <tbody>\n",
              "    <tr>\n",
              "      <th>4395</th>\n",
              "      <td>i am locked out of skype</td>\n",
              "      <td>NaN</td>\n",
              "      <td>viyglzfo ajtfzpkb</td>\n",
              "      <td>GRP_0</td>\n",
              "    </tr>\n",
              "  </tbody>\n",
              "</table>\n",
              "</div>"
            ],
            "text/plain": [
              "             Short description Description             Caller Assignment group\n",
              "4395  i am locked out of skype         NaN  viyglzfo ajtfzpkb            GRP_0"
            ]
          },
          "metadata": {},
          "execution_count": 50
        }
      ]
    },
    {
      "cell_type": "code",
      "metadata": {
        "colab": {
          "base_uri": "https://localhost:8080/",
          "height": 422
        },
        "id": "ExVn8EFog6a-",
        "outputId": "88c0ce7c-0f64-4841-ab99-9a9d9ad4c600"
      },
      "source": [
        "sd_null = ata_data[ata_data['Short description'].isnull()]\n",
        "sd_null"
      ],
      "execution_count": 51,
      "outputs": [
        {
          "output_type": "execute_result",
          "data": {
            "text/html": [
              "<div>\n",
              "<style scoped>\n",
              "    .dataframe tbody tr th:only-of-type {\n",
              "        vertical-align: middle;\n",
              "    }\n",
              "\n",
              "    .dataframe tbody tr th {\n",
              "        vertical-align: top;\n",
              "    }\n",
              "\n",
              "    .dataframe thead th {\n",
              "        text-align: right;\n",
              "    }\n",
              "</style>\n",
              "<table border=\"1\" class=\"dataframe\">\n",
              "  <thead>\n",
              "    <tr style=\"text-align: right;\">\n",
              "      <th></th>\n",
              "      <th>Short description</th>\n",
              "      <th>Description</th>\n",
              "      <th>Caller</th>\n",
              "      <th>Assignment group</th>\n",
              "    </tr>\n",
              "  </thead>\n",
              "  <tbody>\n",
              "    <tr>\n",
              "      <th>2604</th>\n",
              "      <td>NaN</td>\n",
              "      <td>\\r\\n\\r\\nreceived from: ohdrnswl.rezuibdt@gmail.com\\r\\n\\r\\nhi,\\r\\n\\r\\n\\r\\n\\r\\nlink is not working. kindly resolve yhe issue on urgent basis.\\r\\n\\r\\n\\r\\n\\r\\nbest</td>\n",
              "      <td>ohdrnswl rezuibdt</td>\n",
              "      <td>GRP_34</td>\n",
              "    </tr>\n",
              "    <tr>\n",
              "      <th>3383</th>\n",
              "      <td>NaN</td>\n",
              "      <td>\\r\\n-connected to the user system using teamviewer.\\r\\n-help the user login to the portal.\\r\\n-issue resolved.</td>\n",
              "      <td>qftpazns fxpnytmk</td>\n",
              "      <td>GRP_0</td>\n",
              "    </tr>\n",
              "    <tr>\n",
              "      <th>3906</th>\n",
              "      <td>NaN</td>\n",
              "      <td>-user unable  tologin to vpn.\\r\\n-connected to the user system using teamviewer.\\r\\n-help the user login to the company vpn using the vpn company vpn link.\\r\\n-issue resolved.</td>\n",
              "      <td>awpcmsey ctdiuqwe</td>\n",
              "      <td>GRP_0</td>\n",
              "    </tr>\n",
              "    <tr>\n",
              "      <th>3910</th>\n",
              "      <td>NaN</td>\n",
              "      <td>-user unable  tologin to vpn.\\r\\n-connected to the user system using teamviewer.\\r\\n-help the user login to the company vpn using the vpn company vpn link.\\r\\n-issue resolved.</td>\n",
              "      <td>rhwsmefo tvphyura</td>\n",
              "      <td>GRP_0</td>\n",
              "    </tr>\n",
              "    <tr>\n",
              "      <th>3915</th>\n",
              "      <td>NaN</td>\n",
              "      <td>-user unable  tologin to vpn.\\r\\n-connected to the user system using teamviewer.\\r\\n-help the user login to the company vpn using the vpn company vpn link.\\r\\n-issue resolved.</td>\n",
              "      <td>hxripljo efzounig</td>\n",
              "      <td>GRP_0</td>\n",
              "    </tr>\n",
              "    <tr>\n",
              "      <th>3921</th>\n",
              "      <td>NaN</td>\n",
              "      <td>-user unable  tologin to vpn.\\r\\n-connected to the user system using teamviewer.\\r\\n-help the user login to the company vpn using the vpn company vpn link.\\r\\n-issue resolved.</td>\n",
              "      <td>cziadygo veiosxby</td>\n",
              "      <td>GRP_0</td>\n",
              "    </tr>\n",
              "    <tr>\n",
              "      <th>3924</th>\n",
              "      <td>NaN</td>\n",
              "      <td>name:wvqgbdhm fwchqjor\\nlanguage:\\nbrowser:microsoft internet explorer\\nemail:wvqgbdhm.fwchqjor@gmail.com\\ncustomer number:\\ntelephone:-not available\\nsummary:can't get into vpn - need to be on at 4:30 est and it wont' happen please help aerp!</td>\n",
              "      <td>wvqgbdhm fwchqjor</td>\n",
              "      <td>GRP_0</td>\n",
              "    </tr>\n",
              "    <tr>\n",
              "      <th>4341</th>\n",
              "      <td>NaN</td>\n",
              "      <td>\\r\\n\\r\\nreceived from: eqmuniov.ehxkcbgj@gmail.com\\r\\n\\r\\ngood morning,\\r\\n\\r\\nwhen  trying to log on to erp i get this error below.\\r\\nplease help  urgently as i can not process customer order.\\r\\n\\r\\n[cid:image001.png@01d20f2e.751db880]\\r\\n\\r\\n\\r\\n</td>\n",
              "      <td>eqmuniov ehxkcbgj</td>\n",
              "      <td>GRP_0</td>\n",
              "    </tr>\n",
              "  </tbody>\n",
              "</table>\n",
              "</div>"
            ],
            "text/plain": [
              "     Short description  ... Assignment group\n",
              "2604               NaN  ...           GRP_34\n",
              "3383               NaN  ...            GRP_0\n",
              "3906               NaN  ...            GRP_0\n",
              "3910               NaN  ...            GRP_0\n",
              "3915               NaN  ...            GRP_0\n",
              "3921               NaN  ...            GRP_0\n",
              "3924               NaN  ...            GRP_0\n",
              "4341               NaN  ...            GRP_0\n",
              "\n",
              "[8 rows x 4 columns]"
            ]
          },
          "metadata": {},
          "execution_count": 51
        }
      ]
    },
    {
      "cell_type": "markdown",
      "metadata": {
        "id": "mYgi1a8IbGWE"
      },
      "source": [
        "Places where Short Description is null - replacing it with Description and vice versa."
      ]
    },
    {
      "cell_type": "code",
      "metadata": {
        "id": "eRF0joZpbFR7"
      },
      "source": [
        "ata_data['short_desc_analysis'] = np.where(ata_data['Short description'].isnull(), ata_data['Description'], ata_data['Short description'])\n",
        "ata_data['desc_analysis'] = np.where(ata_data['Description'].isnull(), ata_data['Short description'], ata_data['Description'])"
      ],
      "execution_count": 52,
      "outputs": []
    },
    {
      "cell_type": "code",
      "metadata": {
        "colab": {
          "base_uri": "https://localhost:8080/",
          "height": 345
        },
        "id": "RP5NTXSLZ4Zi",
        "outputId": "5041366e-1dcc-432f-aeaf-3f6b8da32062"
      },
      "source": [
        "ata_data.head()"
      ],
      "execution_count": 53,
      "outputs": [
        {
          "output_type": "execute_result",
          "data": {
            "text/html": [
              "<div>\n",
              "<style scoped>\n",
              "    .dataframe tbody tr th:only-of-type {\n",
              "        vertical-align: middle;\n",
              "    }\n",
              "\n",
              "    .dataframe tbody tr th {\n",
              "        vertical-align: top;\n",
              "    }\n",
              "\n",
              "    .dataframe thead th {\n",
              "        text-align: right;\n",
              "    }\n",
              "</style>\n",
              "<table border=\"1\" class=\"dataframe\">\n",
              "  <thead>\n",
              "    <tr style=\"text-align: right;\">\n",
              "      <th></th>\n",
              "      <th>Short description</th>\n",
              "      <th>Description</th>\n",
              "      <th>Caller</th>\n",
              "      <th>Assignment group</th>\n",
              "      <th>short_desc_analysis</th>\n",
              "      <th>desc_analysis</th>\n",
              "    </tr>\n",
              "  </thead>\n",
              "  <tbody>\n",
              "    <tr>\n",
              "      <th>0</th>\n",
              "      <td>login issue</td>\n",
              "      <td>-verified user details.(employee# &amp; manager name)\\r\\n-checked the user name in ad and reset the password.\\r\\n-advised the user to login and check.\\r\\n-caller confirmed that he was able to login.\\r\\n-issue resolved.</td>\n",
              "      <td>spxjnwir pjlcoqds</td>\n",
              "      <td>GRP_0</td>\n",
              "      <td>login issue</td>\n",
              "      <td>-verified user details.(employee# &amp; manager name)\\r\\n-checked the user name in ad and reset the password.\\r\\n-advised the user to login and check.\\r\\n-caller confirmed that he was able to login.\\r\\n-issue resolved.</td>\n",
              "    </tr>\n",
              "    <tr>\n",
              "      <th>1</th>\n",
              "      <td>outlook</td>\n",
              "      <td>\\r\\n\\r\\nreceived from: hmjdrvpb.komuaywn@gmail.com\\r\\n\\r\\nhello team,\\r\\n\\r\\nmy meetings/skype meetings etc are not appearing in my outlook calendar, can somebody please advise how to correct this?\\r\\n\\r\\nkind</td>\n",
              "      <td>hmjdrvpb komuaywn</td>\n",
              "      <td>GRP_0</td>\n",
              "      <td>outlook</td>\n",
              "      <td>\\r\\n\\r\\nreceived from: hmjdrvpb.komuaywn@gmail.com\\r\\n\\r\\nhello team,\\r\\n\\r\\nmy meetings/skype meetings etc are not appearing in my outlook calendar, can somebody please advise how to correct this?\\r\\n\\r\\nkind</td>\n",
              "    </tr>\n",
              "    <tr>\n",
              "      <th>2</th>\n",
              "      <td>cant log in to vpn</td>\n",
              "      <td>\\r\\n\\r\\nreceived from: eylqgodm.ybqkwiam@gmail.com\\r\\n\\r\\nhi\\r\\n\\r\\ni cannot log on to vpn\\r\\n\\r\\nbest</td>\n",
              "      <td>eylqgodm ybqkwiam</td>\n",
              "      <td>GRP_0</td>\n",
              "      <td>cant log in to vpn</td>\n",
              "      <td>\\r\\n\\r\\nreceived from: eylqgodm.ybqkwiam@gmail.com\\r\\n\\r\\nhi\\r\\n\\r\\ni cannot log on to vpn\\r\\n\\r\\nbest</td>\n",
              "    </tr>\n",
              "    <tr>\n",
              "      <th>3</th>\n",
              "      <td>unable to access hr_tool page</td>\n",
              "      <td>unable to access hr_tool page</td>\n",
              "      <td>xbkucsvz gcpydteq</td>\n",
              "      <td>GRP_0</td>\n",
              "      <td>unable to access hr_tool page</td>\n",
              "      <td>unable to access hr_tool page</td>\n",
              "    </tr>\n",
              "    <tr>\n",
              "      <th>4</th>\n",
              "      <td>skype error</td>\n",
              "      <td>skype error</td>\n",
              "      <td>owlgqjme qhcozdfx</td>\n",
              "      <td>GRP_0</td>\n",
              "      <td>skype error</td>\n",
              "      <td>skype error</td>\n",
              "    </tr>\n",
              "  </tbody>\n",
              "</table>\n",
              "</div>"
            ],
            "text/plain": [
              "               Short description  ...                                                                                                                                                                                                           desc_analysis\n",
              "0                    login issue  ...  -verified user details.(employee# & manager name)\\r\\n-checked the user name in ad and reset the password.\\r\\n-advised the user to login and check.\\r\\n-caller confirmed that he was able to login.\\r\\n-issue resolved.\n",
              "1                        outlook  ...      \\r\\n\\r\\nreceived from: hmjdrvpb.komuaywn@gmail.com\\r\\n\\r\\nhello team,\\r\\n\\r\\nmy meetings/skype meetings etc are not appearing in my outlook calendar, can somebody please advise how to correct this?\\r\\n\\r\\nkind \n",
              "2             cant log in to vpn  ...                                                                                                                 \\r\\n\\r\\nreceived from: eylqgodm.ybqkwiam@gmail.com\\r\\n\\r\\nhi\\r\\n\\r\\ni cannot log on to vpn\\r\\n\\r\\nbest \n",
              "3  unable to access hr_tool page  ...                                                                                                                                                                                           unable to access hr_tool page\n",
              "4                   skype error   ...                                                                                                                                                                                                            skype error \n",
              "\n",
              "[5 rows x 6 columns]"
            ]
          },
          "metadata": {},
          "execution_count": 53
        }
      ]
    },
    {
      "cell_type": "code",
      "metadata": {
        "colab": {
          "base_uri": "https://localhost:8080/"
        },
        "id": "3m4GSXfZbFeD",
        "outputId": "f90aee22-4907-44f0-e558-622424ead88f"
      },
      "source": [
        "ata_data.isnull().sum()"
      ],
      "execution_count": 54,
      "outputs": [
        {
          "output_type": "execute_result",
          "data": {
            "text/plain": [
              "Short description      8\n",
              "Description            1\n",
              "Caller                 0\n",
              "Assignment group       0\n",
              "short_desc_analysis    0\n",
              "desc_analysis          0\n",
              "dtype: int64"
            ]
          },
          "metadata": {},
          "execution_count": 54
        }
      ]
    },
    {
      "cell_type": "code",
      "metadata": {
        "colab": {
          "base_uri": "https://localhost:8080/",
          "height": 613
        },
        "id": "IVplfIK6iumO",
        "outputId": "4ff8d7b4-0261-48f9-faea-5baa7eef76cd"
      },
      "source": [
        "ata_data[ata_data['Short description'].isnull()]"
      ],
      "execution_count": 55,
      "outputs": [
        {
          "output_type": "execute_result",
          "data": {
            "text/html": [
              "<div>\n",
              "<style scoped>\n",
              "    .dataframe tbody tr th:only-of-type {\n",
              "        vertical-align: middle;\n",
              "    }\n",
              "\n",
              "    .dataframe tbody tr th {\n",
              "        vertical-align: top;\n",
              "    }\n",
              "\n",
              "    .dataframe thead th {\n",
              "        text-align: right;\n",
              "    }\n",
              "</style>\n",
              "<table border=\"1\" class=\"dataframe\">\n",
              "  <thead>\n",
              "    <tr style=\"text-align: right;\">\n",
              "      <th></th>\n",
              "      <th>Short description</th>\n",
              "      <th>Description</th>\n",
              "      <th>Caller</th>\n",
              "      <th>Assignment group</th>\n",
              "      <th>short_desc_analysis</th>\n",
              "      <th>desc_analysis</th>\n",
              "    </tr>\n",
              "  </thead>\n",
              "  <tbody>\n",
              "    <tr>\n",
              "      <th>2604</th>\n",
              "      <td>NaN</td>\n",
              "      <td>\\r\\n\\r\\nreceived from: ohdrnswl.rezuibdt@gmail.com\\r\\n\\r\\nhi,\\r\\n\\r\\n\\r\\n\\r\\nlink is not working. kindly resolve yhe issue on urgent basis.\\r\\n\\r\\n\\r\\n\\r\\nbest</td>\n",
              "      <td>ohdrnswl rezuibdt</td>\n",
              "      <td>GRP_34</td>\n",
              "      <td>\\r\\n\\r\\nreceived from: ohdrnswl.rezuibdt@gmail.com\\r\\n\\r\\nhi,\\r\\n\\r\\n\\r\\n\\r\\nlink is not working. kindly resolve yhe issue on urgent basis.\\r\\n\\r\\n\\r\\n\\r\\nbest</td>\n",
              "      <td>\\r\\n\\r\\nreceived from: ohdrnswl.rezuibdt@gmail.com\\r\\n\\r\\nhi,\\r\\n\\r\\n\\r\\n\\r\\nlink is not working. kindly resolve yhe issue on urgent basis.\\r\\n\\r\\n\\r\\n\\r\\nbest</td>\n",
              "    </tr>\n",
              "    <tr>\n",
              "      <th>3383</th>\n",
              "      <td>NaN</td>\n",
              "      <td>\\r\\n-connected to the user system using teamviewer.\\r\\n-help the user login to the portal.\\r\\n-issue resolved.</td>\n",
              "      <td>qftpazns fxpnytmk</td>\n",
              "      <td>GRP_0</td>\n",
              "      <td>\\r\\n-connected to the user system using teamviewer.\\r\\n-help the user login to the portal.\\r\\n-issue resolved.</td>\n",
              "      <td>\\r\\n-connected to the user system using teamviewer.\\r\\n-help the user login to the portal.\\r\\n-issue resolved.</td>\n",
              "    </tr>\n",
              "    <tr>\n",
              "      <th>3906</th>\n",
              "      <td>NaN</td>\n",
              "      <td>-user unable  tologin to vpn.\\r\\n-connected to the user system using teamviewer.\\r\\n-help the user login to the company vpn using the vpn company vpn link.\\r\\n-issue resolved.</td>\n",
              "      <td>awpcmsey ctdiuqwe</td>\n",
              "      <td>GRP_0</td>\n",
              "      <td>-user unable  tologin to vpn.\\r\\n-connected to the user system using teamviewer.\\r\\n-help the user login to the company vpn using the vpn company vpn link.\\r\\n-issue resolved.</td>\n",
              "      <td>-user unable  tologin to vpn.\\r\\n-connected to the user system using teamviewer.\\r\\n-help the user login to the company vpn using the vpn company vpn link.\\r\\n-issue resolved.</td>\n",
              "    </tr>\n",
              "    <tr>\n",
              "      <th>3910</th>\n",
              "      <td>NaN</td>\n",
              "      <td>-user unable  tologin to vpn.\\r\\n-connected to the user system using teamviewer.\\r\\n-help the user login to the company vpn using the vpn company vpn link.\\r\\n-issue resolved.</td>\n",
              "      <td>rhwsmefo tvphyura</td>\n",
              "      <td>GRP_0</td>\n",
              "      <td>-user unable  tologin to vpn.\\r\\n-connected to the user system using teamviewer.\\r\\n-help the user login to the company vpn using the vpn company vpn link.\\r\\n-issue resolved.</td>\n",
              "      <td>-user unable  tologin to vpn.\\r\\n-connected to the user system using teamviewer.\\r\\n-help the user login to the company vpn using the vpn company vpn link.\\r\\n-issue resolved.</td>\n",
              "    </tr>\n",
              "    <tr>\n",
              "      <th>3915</th>\n",
              "      <td>NaN</td>\n",
              "      <td>-user unable  tologin to vpn.\\r\\n-connected to the user system using teamviewer.\\r\\n-help the user login to the company vpn using the vpn company vpn link.\\r\\n-issue resolved.</td>\n",
              "      <td>hxripljo efzounig</td>\n",
              "      <td>GRP_0</td>\n",
              "      <td>-user unable  tologin to vpn.\\r\\n-connected to the user system using teamviewer.\\r\\n-help the user login to the company vpn using the vpn company vpn link.\\r\\n-issue resolved.</td>\n",
              "      <td>-user unable  tologin to vpn.\\r\\n-connected to the user system using teamviewer.\\r\\n-help the user login to the company vpn using the vpn company vpn link.\\r\\n-issue resolved.</td>\n",
              "    </tr>\n",
              "    <tr>\n",
              "      <th>3921</th>\n",
              "      <td>NaN</td>\n",
              "      <td>-user unable  tologin to vpn.\\r\\n-connected to the user system using teamviewer.\\r\\n-help the user login to the company vpn using the vpn company vpn link.\\r\\n-issue resolved.</td>\n",
              "      <td>cziadygo veiosxby</td>\n",
              "      <td>GRP_0</td>\n",
              "      <td>-user unable  tologin to vpn.\\r\\n-connected to the user system using teamviewer.\\r\\n-help the user login to the company vpn using the vpn company vpn link.\\r\\n-issue resolved.</td>\n",
              "      <td>-user unable  tologin to vpn.\\r\\n-connected to the user system using teamviewer.\\r\\n-help the user login to the company vpn using the vpn company vpn link.\\r\\n-issue resolved.</td>\n",
              "    </tr>\n",
              "    <tr>\n",
              "      <th>3924</th>\n",
              "      <td>NaN</td>\n",
              "      <td>name:wvqgbdhm fwchqjor\\nlanguage:\\nbrowser:microsoft internet explorer\\nemail:wvqgbdhm.fwchqjor@gmail.com\\ncustomer number:\\ntelephone:-not available\\nsummary:can't get into vpn - need to be on at 4:30 est and it wont' happen please help aerp!</td>\n",
              "      <td>wvqgbdhm fwchqjor</td>\n",
              "      <td>GRP_0</td>\n",
              "      <td>name:wvqgbdhm fwchqjor\\nlanguage:\\nbrowser:microsoft internet explorer\\nemail:wvqgbdhm.fwchqjor@gmail.com\\ncustomer number:\\ntelephone:-not available\\nsummary:can't get into vpn - need to be on at 4:30 est and it wont' happen please help aerp!</td>\n",
              "      <td>name:wvqgbdhm fwchqjor\\nlanguage:\\nbrowser:microsoft internet explorer\\nemail:wvqgbdhm.fwchqjor@gmail.com\\ncustomer number:\\ntelephone:-not available\\nsummary:can't get into vpn - need to be on at 4:30 est and it wont' happen please help aerp!</td>\n",
              "    </tr>\n",
              "    <tr>\n",
              "      <th>4341</th>\n",
              "      <td>NaN</td>\n",
              "      <td>\\r\\n\\r\\nreceived from: eqmuniov.ehxkcbgj@gmail.com\\r\\n\\r\\ngood morning,\\r\\n\\r\\nwhen  trying to log on to erp i get this error below.\\r\\nplease help  urgently as i can not process customer order.\\r\\n\\r\\n[cid:image001.png@01d20f2e.751db880]\\r\\n\\r\\n\\r\\n</td>\n",
              "      <td>eqmuniov ehxkcbgj</td>\n",
              "      <td>GRP_0</td>\n",
              "      <td>\\r\\n\\r\\nreceived from: eqmuniov.ehxkcbgj@gmail.com\\r\\n\\r\\ngood morning,\\r\\n\\r\\nwhen  trying to log on to erp i get this error below.\\r\\nplease help  urgently as i can not process customer order.\\r\\n\\r\\n[cid:image001.png@01d20f2e.751db880]\\r\\n\\r\\n\\r\\n</td>\n",
              "      <td>\\r\\n\\r\\nreceived from: eqmuniov.ehxkcbgj@gmail.com\\r\\n\\r\\ngood morning,\\r\\n\\r\\nwhen  trying to log on to erp i get this error below.\\r\\nplease help  urgently as i can not process customer order.\\r\\n\\r\\n[cid:image001.png@01d20f2e.751db880]\\r\\n\\r\\n\\r\\n</td>\n",
              "    </tr>\n",
              "  </tbody>\n",
              "</table>\n",
              "</div>"
            ],
            "text/plain": [
              "     Short description  ...                                                                                                                                                                                                                                               desc_analysis\n",
              "2604               NaN  ...                                                                                            \\r\\n\\r\\nreceived from: ohdrnswl.rezuibdt@gmail.com\\r\\n\\r\\nhi,\\r\\n\\r\\n\\r\\n\\r\\nlink is not working. kindly resolve yhe issue on urgent basis.\\r\\n\\r\\n\\r\\n\\r\\nbest \n",
              "3383               NaN  ...                                                                                                                                              \\r\\n-connected to the user system using teamviewer.\\r\\n-help the user login to the portal.\\r\\n-issue resolved.\n",
              "3906               NaN  ...                                                                             -user unable  tologin to vpn.\\r\\n-connected to the user system using teamviewer.\\r\\n-help the user login to the company vpn using the vpn company vpn link.\\r\\n-issue resolved.\n",
              "3910               NaN  ...                                                                             -user unable  tologin to vpn.\\r\\n-connected to the user system using teamviewer.\\r\\n-help the user login to the company vpn using the vpn company vpn link.\\r\\n-issue resolved.\n",
              "3915               NaN  ...                                                                             -user unable  tologin to vpn.\\r\\n-connected to the user system using teamviewer.\\r\\n-help the user login to the company vpn using the vpn company vpn link.\\r\\n-issue resolved.\n",
              "3921               NaN  ...                                                                             -user unable  tologin to vpn.\\r\\n-connected to the user system using teamviewer.\\r\\n-help the user login to the company vpn using the vpn company vpn link.\\r\\n-issue resolved.\n",
              "3924               NaN  ...         name:wvqgbdhm fwchqjor\\nlanguage:\\nbrowser:microsoft internet explorer\\nemail:wvqgbdhm.fwchqjor@gmail.com\\ncustomer number:\\ntelephone:-not available\\nsummary:can't get into vpn - need to be on at 4:30 est and it wont' happen please help aerp!\n",
              "4341               NaN  ...  \\r\\n\\r\\nreceived from: eqmuniov.ehxkcbgj@gmail.com\\r\\n\\r\\ngood morning,\\r\\n\\r\\nwhen  trying to log on to erp i get this error below.\\r\\nplease help  urgently as i can not process customer order.\\r\\n\\r\\n[cid:image001.png@01d20f2e.751db880]\\r\\n\\r\\n\\r\\n\n",
              "\n",
              "[8 rows x 6 columns]"
            ]
          },
          "metadata": {},
          "execution_count": 55
        }
      ]
    },
    {
      "cell_type": "markdown",
      "metadata": {
        "id": "axxl2oj2NicI"
      },
      "source": [
        "There are some messages which mentions that they are received from someone else.  Looking into the data to see such entries"
      ]
    },
    {
      "cell_type": "code",
      "metadata": {
        "colab": {
          "base_uri": "https://localhost:8080/",
          "height": 947
        },
        "id": "OX26TV9aN9e3",
        "outputId": "1dbb809f-f3ef-4c36-8653-4eee7787e0f7"
      },
      "source": [
        "ata_data[ata_data['Description'].str.contains('received from:', case=False, na=False)]"
      ],
      "execution_count": 56,
      "outputs": [
        {
          "output_type": "execute_result",
          "data": {
            "text/html": [
              "<div>\n",
              "<style scoped>\n",
              "    .dataframe tbody tr th:only-of-type {\n",
              "        vertical-align: middle;\n",
              "    }\n",
              "\n",
              "    .dataframe tbody tr th {\n",
              "        vertical-align: top;\n",
              "    }\n",
              "\n",
              "    .dataframe thead th {\n",
              "        text-align: right;\n",
              "    }\n",
              "</style>\n",
              "<table border=\"1\" class=\"dataframe\">\n",
              "  <thead>\n",
              "    <tr style=\"text-align: right;\">\n",
              "      <th></th>\n",
              "      <th>Short description</th>\n",
              "      <th>Description</th>\n",
              "      <th>Caller</th>\n",
              "      <th>Assignment group</th>\n",
              "      <th>short_desc_analysis</th>\n",
              "      <th>desc_analysis</th>\n",
              "    </tr>\n",
              "  </thead>\n",
              "  <tbody>\n",
              "    <tr>\n",
              "      <th>1</th>\n",
              "      <td>outlook</td>\n",
              "      <td>\\r\\n\\r\\nreceived from: hmjdrvpb.komuaywn@gmail.com\\r\\n\\r\\nhello team,\\r\\n\\r\\nmy meetings/skype meetings etc are not appearing in my outlook calendar, can somebody please advise how to correct this?\\r\\n\\r\\nkind</td>\n",
              "      <td>hmjdrvpb komuaywn</td>\n",
              "      <td>GRP_0</td>\n",
              "      <td>outlook</td>\n",
              "      <td>\\r\\n\\r\\nreceived from: hmjdrvpb.komuaywn@gmail.com\\r\\n\\r\\nhello team,\\r\\n\\r\\nmy meetings/skype meetings etc are not appearing in my outlook calendar, can somebody please advise how to correct this?\\r\\n\\r\\nkind</td>\n",
              "    </tr>\n",
              "    <tr>\n",
              "      <th>2</th>\n",
              "      <td>cant log in to vpn</td>\n",
              "      <td>\\r\\n\\r\\nreceived from: eylqgodm.ybqkwiam@gmail.com\\r\\n\\r\\nhi\\r\\n\\r\\ni cannot log on to vpn\\r\\n\\r\\nbest</td>\n",
              "      <td>eylqgodm ybqkwiam</td>\n",
              "      <td>GRP_0</td>\n",
              "      <td>cant log in to vpn</td>\n",
              "      <td>\\r\\n\\r\\nreceived from: eylqgodm.ybqkwiam@gmail.com\\r\\n\\r\\nhi\\r\\n\\r\\ni cannot log on to vpn\\r\\n\\r\\nbest</td>\n",
              "    </tr>\n",
              "    <tr>\n",
              "      <th>16</th>\n",
              "      <td>unable to login to company vpn</td>\n",
              "      <td>\\n\\nreceived from: xyz@company.com\\n\\nhi,\\n\\ni am unable to login to company vpn website, trying to open a new session using the below link, but not able to get through pls help urgently as we are working from home tomorrow due to month end closing.</td>\n",
              "      <td>chobktqj qdamxfuc</td>\n",
              "      <td>GRP_0</td>\n",
              "      <td>unable to login to company vpn</td>\n",
              "      <td>\\n\\nreceived from: xyz@company.com\\n\\nhi,\\n\\ni am unable to login to company vpn website, trying to open a new session using the below link, but not able to get through pls help urgently as we are working from home tomorrow due to month end closing.</td>\n",
              "    </tr>\n",
              "    <tr>\n",
              "      <th>21</th>\n",
              "      <td>vpn issue</td>\n",
              "      <td>\\r\\n\\r\\nreceived from: ugephfta.hrbqkvij@gmail.com\\r\\n\\r\\nhello helpdesk\\r\\n\\r\\ni am not able to connect vpn from home office. couple f hours ago i was connected, now it is not working anymore. getting a message that my session expired but if i click on the link, nothing happens.\\r\\n\\r\\n[cid:image001.jpg@01d233aa.3f618be0]\\r\\n\\r\\n*********************\\r\\n\\r\\nneed help with your dynamics crm?\\r\\nclick here&lt;\\r\\n\\r\\nchat with a live agent regarding your dynamics crm questions now! click here&lt;\\r\\n\\r\\nbest</td>\n",
              "      <td>ugephfta hrbqkvij</td>\n",
              "      <td>GRP_0</td>\n",
              "      <td>vpn issue</td>\n",
              "      <td>\\r\\n\\r\\nreceived from: ugephfta.hrbqkvij@gmail.com\\r\\n\\r\\nhello helpdesk\\r\\n\\r\\ni am not able to connect vpn from home office. couple f hours ago i was connected, now it is not working anymore. getting a message that my session expired but if i click on the link, nothing happens.\\r\\n\\r\\n[cid:image001.jpg@01d233aa.3f618be0]\\r\\n\\r\\n*********************\\r\\n\\r\\nneed help with your dynamics crm?\\r\\nclick here&lt;\\r\\n\\r\\nchat with a live agent regarding your dynamics crm questions now! click here&lt;\\r\\n\\r\\nbest</td>\n",
              "    </tr>\n",
              "    <tr>\n",
              "      <th>24</th>\n",
              "      <td>vpn not working</td>\n",
              "      <td>\\n\\nreceived from: dceoufyz.saufqkmd@gmail.com\\n\\nhello,\\n\\ni'm not being able to connect to company network through the vpn. pls check.\\n\\ncc: sir-i am not being able to upload as a result of no company network.\\n\\n</td>\n",
              "      <td>dceoufyz saufqkmd</td>\n",
              "      <td>GRP_0</td>\n",
              "      <td>vpn not working</td>\n",
              "      <td>\\n\\nreceived from: dceoufyz.saufqkmd@gmail.com\\n\\nhello,\\n\\ni'm not being able to connect to company network through the vpn. pls check.\\n\\ncc: sir-i am not being able to upload as a result of no company network.\\n\\n</td>\n",
              "    </tr>\n",
              "    <tr>\n",
              "      <th>...</th>\n",
              "      <td>...</td>\n",
              "      <td>...</td>\n",
              "      <td>...</td>\n",
              "      <td>...</td>\n",
              "      <td>...</td>\n",
              "      <td>...</td>\n",
              "    </tr>\n",
              "    <tr>\n",
              "      <th>8478</th>\n",
              "      <td>beenefits access on oneteam</td>\n",
              "      <td>\\n\\nreceived from: bjitvswa.yrmugfnq@gmail.com\\n\\nyesterday, it helped me access some additional information on oneteam.  but i still do not have a link showing for my benefits.  i tried to search and nothing pulls up.\\n\\ntgbtyim dgtalone\\nkey account manager\\nbjitvswa.yrmugfnq@gmail.com&lt;mailto:beyklcmj.bgfmrltw@gmail.com&gt;\\n</td>\n",
              "      <td>bjitvswa yrmugfnq</td>\n",
              "      <td>GRP_0</td>\n",
              "      <td>beenefits access on oneteam</td>\n",
              "      <td>\\n\\nreceived from: bjitvswa.yrmugfnq@gmail.com\\n\\nyesterday, it helped me access some additional information on oneteam.  but i still do not have a link showing for my benefits.  i tried to search and nothing pulls up.\\n\\ntgbtyim dgtalone\\nkey account manager\\nbjitvswa.yrmugfnq@gmail.com&lt;mailto:beyklcmj.bgfmrltw@gmail.com&gt;\\n</td>\n",
              "    </tr>\n",
              "    <tr>\n",
              "      <th>8480</th>\n",
              "      <td>customer group enhanced field</td>\n",
              "      <td>\\r\\n\\r\\nreceived from: nlearzwi.ukdzstwi@gmail.com\\r\\n\\r\\nhello,\\r\\n\\r\\na business decision has recently been made to view mfg_tooltion (customer classification ik) as indirect sales going forward. currently in the bex system they are classified as direct.\\r\\n\\r\\ncan you please modify the \"cust grp 1 â€“ enhanced\" field (0cust_sales__zcustgrp1) to show mfg_tooltion (customer classification ik) customers as indirect.\\r\\n[cid:image001.png@01d1ee74.cc06a6a0]\\r\\n\\r\\nthis field is used in several bex and hana reports (sales v plan, product management, otc billings, etc). let me know if you have any questions.\\r\\n\\r\\nbest</td>\n",
              "      <td>nlearzwi ukdzstwi</td>\n",
              "      <td>GRP_9</td>\n",
              "      <td>customer group enhanced field</td>\n",
              "      <td>\\r\\n\\r\\nreceived from: nlearzwi.ukdzstwi@gmail.com\\r\\n\\r\\nhello,\\r\\n\\r\\na business decision has recently been made to view mfg_tooltion (customer classification ik) as indirect sales going forward. currently in the bex system they are classified as direct.\\r\\n\\r\\ncan you please modify the \"cust grp 1 â€“ enhanced\" field (0cust_sales__zcustgrp1) to show mfg_tooltion (customer classification ik) customers as indirect.\\r\\n[cid:image001.png@01d1ee74.cc06a6a0]\\r\\n\\r\\nthis field is used in several bex and hana reports (sales v plan, product management, otc billings, etc). let me know if you have any questions.\\r\\n\\r\\nbest</td>\n",
              "    </tr>\n",
              "    <tr>\n",
              "      <th>8481</th>\n",
              "      <td>ess portal</td>\n",
              "      <td>\\n\\nreceived from: eagvusbr.nguqityl@gmail.com\\n\\nhi team,\\n\\ni was going into the ess file and checking some things for the ytd and this is the screen that shows up.  this is on my report tab when i am logged into vpn.  please assist in getting this to english.\\n[cid:image001.jpg@01d1ee74.0a355760]\\n\\n\\n\\neagvusbr nguqityl\\nsales engineer\\n\\n</td>\n",
              "      <td>eagvusbr nguqityl</td>\n",
              "      <td>GRP_9</td>\n",
              "      <td>ess portal</td>\n",
              "      <td>\\n\\nreceived from: eagvusbr.nguqityl@gmail.com\\n\\nhi team,\\n\\ni was going into the ess file and checking some things for the ytd and this is the screen that shows up.  this is on my report tab when i am logged into vpn.  please assist in getting this to english.\\n[cid:image001.jpg@01d1ee74.0a355760]\\n\\n\\n\\neagvusbr nguqityl\\nsales engineer\\n\\n</td>\n",
              "    </tr>\n",
              "    <tr>\n",
              "      <th>8491</th>\n",
              "      <td>vpn for laptop</td>\n",
              "      <td>\\n\\nreceived from: jxgobwrm.qkugdipo@gmail.com\\n\\ni need a vpn for my new laptop. name llv8517416\\n\\nknethyen grechduy\\nengineer, product engineering\\ncompany\\njxgobwrm.qkugdipo@gmail.com&lt;mailto:jxgobwrm.qkugdipo@gmail.com&gt;\\n\\n</td>\n",
              "      <td>jxgobwrm qkugdipo</td>\n",
              "      <td>GRP_34</td>\n",
              "      <td>vpn for laptop</td>\n",
              "      <td>\\n\\nreceived from: jxgobwrm.qkugdipo@gmail.com\\n\\ni need a vpn for my new laptop. name llv8517416\\n\\nknethyen grechduy\\nengineer, product engineering\\ncompany\\njxgobwrm.qkugdipo@gmail.com&lt;mailto:jxgobwrm.qkugdipo@gmail.com&gt;\\n\\n</td>\n",
              "    </tr>\n",
              "    <tr>\n",
              "      <th>8495</th>\n",
              "      <td>emails not coming in from zz mail</td>\n",
              "      <td>\\r\\n\\r\\nreceived from: avglmrts.vhqmtiua@gmail.com\\r\\n\\r\\ngood afternoon,\\r\\ni am not receiving the emails that i sent from zz mail.\\r\\nplease advise\\r\\n\\r\\n</td>\n",
              "      <td>avglmrts vhqmtiua</td>\n",
              "      <td>GRP_29</td>\n",
              "      <td>emails not coming in from zz mail</td>\n",
              "      <td>\\r\\n\\r\\nreceived from: avglmrts.vhqmtiua@gmail.com\\r\\n\\r\\ngood afternoon,\\r\\ni am not receiving the emails that i sent from zz mail.\\r\\nplease advise\\r\\n\\r\\n</td>\n",
              "    </tr>\n",
              "  </tbody>\n",
              "</table>\n",
              "<p>2251 rows × 6 columns</p>\n",
              "</div>"
            ],
            "text/plain": [
              "                      Short description  ...                                                                                                                                                                                                                                                                                                                                                                                                                                                                                                                                                                                                                                     desc_analysis\n",
              "1                               outlook  ...                                                                                                                                                                                                                                                                                                                                                                                                                                \\r\\n\\r\\nreceived from: hmjdrvpb.komuaywn@gmail.com\\r\\n\\r\\nhello team,\\r\\n\\r\\nmy meetings/skype meetings etc are not appearing in my outlook calendar, can somebody please advise how to correct this?\\r\\n\\r\\nkind \n",
              "2                    cant log in to vpn  ...                                                                                                                                                                                                                                                                                                                                                                                                                                                                                                                                           \\r\\n\\r\\nreceived from: eylqgodm.ybqkwiam@gmail.com\\r\\n\\r\\nhi\\r\\n\\r\\ni cannot log on to vpn\\r\\n\\r\\nbest \n",
              "16       unable to login to company vpn  ...                                                                                                                                                                                                                                                                                                                                                                                        \\n\\nreceived from: xyz@company.com\\n\\nhi,\\n\\ni am unable to login to company vpn website, trying to open a new session using the below link, but not able to get through pls help urgently as we are working from home tomorrow due to month end closing. \n",
              "21                            vpn issue  ...                                                                                                                       \\r\\n\\r\\nreceived from: ugephfta.hrbqkvij@gmail.com\\r\\n\\r\\nhello helpdesk\\r\\n\\r\\ni am not able to connect vpn from home office. couple f hours ago i was connected, now it is not working anymore. getting a message that my session expired but if i click on the link, nothing happens.\\r\\n\\r\\n[cid:image001.jpg@01d233aa.3f618be0]\\r\\n\\r\\n*********************\\r\\n\\r\\nneed help with your dynamics crm?\\r\\nclick here<\\r\\n\\r\\nchat with a live agent regarding your dynamics crm questions now! click here<\\r\\n\\r\\nbest \n",
              "24                      vpn not working  ...                                                                                                                                                                                                                                                                                                                                                                                                                          \\n\\nreceived from: dceoufyz.saufqkmd@gmail.com\\n\\nhello,\\n\\ni'm not being able to connect to company network through the vpn. pls check.\\n\\ncc: sir-i am not being able to upload as a result of no company network.\\n\\n\n",
              "...                                 ...  ...                                                                                                                                                                                                                                                                                                                                                                                                                                                                                                                                                                                                                                               ...\n",
              "8478        beenefits access on oneteam  ...                                                                                                                                                                                                                                                                                                            \\n\\nreceived from: bjitvswa.yrmugfnq@gmail.com\\n\\nyesterday, it helped me access some additional information on oneteam.  but i still do not have a link showing for my benefits.  i tried to search and nothing pulls up.\\n\\ntgbtyim dgtalone\\nkey account manager\\nbjitvswa.yrmugfnq@gmail.com<mailto:beyklcmj.bgfmrltw@gmail.com>\\n\n",
              "8480      customer group enhanced field  ...  \\r\\n\\r\\nreceived from: nlearzwi.ukdzstwi@gmail.com\\r\\n\\r\\nhello,\\r\\n\\r\\na business decision has recently been made to view mfg_tooltion (customer classification ik) as indirect sales going forward. currently in the bex system they are classified as direct.\\r\\n\\r\\ncan you please modify the \"cust grp 1 â€“ enhanced\" field (0cust_sales__zcustgrp1) to show mfg_tooltion (customer classification ik) customers as indirect.\\r\\n[cid:image001.png@01d1ee74.cc06a6a0]\\r\\n\\r\\nthis field is used in several bex and hana reports (sales v plan, product management, otc billings, etc). let me know if you have any questions.\\r\\n\\r\\nbest \n",
              "8481                         ess portal  ...                                                                                                                                                                                                                                                                                         \\n\\nreceived from: eagvusbr.nguqityl@gmail.com\\n\\nhi team,\\n\\ni was going into the ess file and checking some things for the ytd and this is the screen that shows up.  this is on my report tab when i am logged into vpn.  please assist in getting this to english.\\n[cid:image001.jpg@01d1ee74.0a355760]\\n\\n\\n\\neagvusbr nguqityl\\nsales engineer\\n\\n\n",
              "8491                     vpn for laptop  ...                                                                                                                                                                                                                                                                                                                                                                                                               \\n\\nreceived from: jxgobwrm.qkugdipo@gmail.com\\n\\ni need a vpn for my new laptop. name llv8517416\\n\\nknethyen grechduy\\nengineer, product engineering\\ncompany\\njxgobwrm.qkugdipo@gmail.com<mailto:jxgobwrm.qkugdipo@gmail.com>\\n\\n\n",
              "8495  emails not coming in from zz mail  ...                                                                                                                                                                                                                                                                                                                                                                                                                                                                                     \\r\\n\\r\\nreceived from: avglmrts.vhqmtiua@gmail.com\\r\\n\\r\\ngood afternoon,\\r\\ni am not receiving the emails that i sent from zz mail.\\r\\nplease advise\\r\\n\\r\\n\n",
              "\n",
              "[2251 rows x 6 columns]"
            ]
          },
          "metadata": {},
          "execution_count": 56
        }
      ]
    },
    {
      "cell_type": "markdown",
      "metadata": {
        "id": "ub5MpnDTRCiH"
      },
      "source": [
        "There are 2251 such records.  Getting that information in another column"
      ]
    },
    {
      "cell_type": "code",
      "metadata": {
        "id": "Btz2aKyhN9k1",
        "colab": {
          "base_uri": "https://localhost:8080/",
          "height": 730
        },
        "outputId": "8f9cc6c2-b2d7-4248-d241-629d6831ef06"
      },
      "source": [
        "ata_data[ata_data['Description'].str.contains('to:', case=False, na=False)].head()"
      ],
      "execution_count": 57,
      "outputs": [
        {
          "output_type": "execute_result",
          "data": {
            "text/html": [
              "<div>\n",
              "<style scoped>\n",
              "    .dataframe tbody tr th:only-of-type {\n",
              "        vertical-align: middle;\n",
              "    }\n",
              "\n",
              "    .dataframe tbody tr th {\n",
              "        vertical-align: top;\n",
              "    }\n",
              "\n",
              "    .dataframe thead th {\n",
              "        text-align: right;\n",
              "    }\n",
              "</style>\n",
              "<table border=\"1\" class=\"dataframe\">\n",
              "  <thead>\n",
              "    <tr style=\"text-align: right;\">\n",
              "      <th></th>\n",
              "      <th>Short description</th>\n",
              "      <th>Description</th>\n",
              "      <th>Caller</th>\n",
              "      <th>Assignment group</th>\n",
              "      <th>short_desc_analysis</th>\n",
              "      <th>desc_analysis</th>\n",
              "    </tr>\n",
              "  </thead>\n",
              "  <tbody>\n",
              "    <tr>\n",
              "      <th>53</th>\n",
              "      <td>reset scm_software password</td>\n",
              "      <td>\\n\\nreceived from: cdbaoqts.wqbsodni@gmail.com\\n\\nhello,\\n\\nplease reset my scm_software password.\\n\\n\\ncdbaoqts wqbsodni\\nglobal product manager, markhtyeting initiatives\\ncdbaoqts.wqbsodni@gmail.com&lt;mailto:cdbaoqts.wqbsodni@gmail.com&gt;\\n\\n\\n\\n\\n\\n</td>\n",
              "      <td>cdbaoqts wqbsodni</td>\n",
              "      <td>GRP_0</td>\n",
              "      <td>reset scm_software password</td>\n",
              "      <td>\\n\\nreceived from: cdbaoqts.wqbsodni@gmail.com\\n\\nhello,\\n\\nplease reset my scm_software password.\\n\\n\\ncdbaoqts wqbsodni\\nglobal product manager, markhtyeting initiatives\\ncdbaoqts.wqbsodni@gmail.com&lt;mailto:cdbaoqts.wqbsodni@gmail.com&gt;\\n\\n\\n\\n\\n\\n</td>\n",
              "    </tr>\n",
              "    <tr>\n",
              "      <th>100</th>\n",
              "      <td>re: ess portal access issue</td>\n",
              "      <td>\\n\\nreceived from: noscwdpm.akiowsmp@gmail.com\\n\\nhello,\\n\\nhe is an kiosk user.  please reset the password and confirm.\\n\\n\\nnoscwdpm akiowsmp\\nnoscwdpm.akiowsmp@gmail.com\\n\\nfrom: ihkolepb ozhnjyef\\nsent: 29 october 2016 13:38\\nto: company@ticketing_tool.com\\nsubject: ess portal access issue\\n\\nhi,\\n\\nbelow mentioned employee krlszbqo spimolgz with user id sv123 is not able to login to ess portal to access his pay slips and related contents. he is a attendance_tool user. please reset his user id and password and revert back.\\n\\n</td>\n",
              "      <td>noscwdpm akiowsmp</td>\n",
              "      <td>GRP_0</td>\n",
              "      <td>re: ess portal access issue</td>\n",
              "      <td>\\n\\nreceived from: noscwdpm.akiowsmp@gmail.com\\n\\nhello,\\n\\nhe is an kiosk user.  please reset the password and confirm.\\n\\n\\nnoscwdpm akiowsmp\\nnoscwdpm.akiowsmp@gmail.com\\n\\nfrom: ihkolepb ozhnjyef\\nsent: 29 october 2016 13:38\\nto: company@ticketing_tool.com\\nsubject: ess portal access issue\\n\\nhi,\\n\\nbelow mentioned employee krlszbqo spimolgz with user id sv123 is not able to login to ess portal to access his pay slips and related contents. he is a attendance_tool user. please reset his user id and password and revert back.\\n\\n</td>\n",
              "    </tr>\n",
              "    <tr>\n",
              "      <th>124</th>\n",
              "      <td>mobile device activation</td>\n",
              "      <td>from: tvcdfqgp nrbcqwgj \\nsent: friday, october 28, 2016 3:13 pm\\nto: nwfodmhc exurcwkm\\nsubject:  se ha bloqueado en forma temporal la sincronizaciÃ³n de su dispositivo mÃ³vil mediante exchange activesync hasta que su administrador autorice el acceso.\\n\\nhi\\n\\ni received this message and our local it expert has told me to open a ticket.\\n\\n</td>\n",
              "      <td>tvcdfqgp nrbcqwgj</td>\n",
              "      <td>GRP_0</td>\n",
              "      <td>mobile device activation</td>\n",
              "      <td>from: tvcdfqgp nrbcqwgj \\nsent: friday, october 28, 2016 3:13 pm\\nto: nwfodmhc exurcwkm\\nsubject:  se ha bloqueado en forma temporal la sincronizaciÃ³n de su dispositivo mÃ³vil mediante exchange activesync hasta que su administrador autorice el acceso.\\n\\nhi\\n\\ni received this message and our local it expert has told me to open a ticket.\\n\\n</td>\n",
              "    </tr>\n",
              "    <tr>\n",
              "      <th>151</th>\n",
              "      <td>i used to have acces to this location on collaboration_platform.  now i do not. i need access.</td>\n",
              "      <td>\\n\\nreceived from: bwfhtumx.japznrvb@gmail.com\\n\\n\\n\\n[cid:image001.jpg@01d230f7.8bb4e830]\\n\\nbwfhtumx japznrvb \\nregional controller\\nbwfhtumx.japznrvb@gmail.com&lt;mailto:bwfhtumx.japznrvb@gmail.com&gt;\\n\\n\\n\\n</td>\n",
              "      <td>bwfhtumx japznrvb</td>\n",
              "      <td>GRP_16</td>\n",
              "      <td>i used to have acces to this location on collaboration_platform.  now i do not. i need access.</td>\n",
              "      <td>\\n\\nreceived from: bwfhtumx.japznrvb@gmail.com\\n\\n\\n\\n[cid:image001.jpg@01d230f7.8bb4e830]\\n\\nbwfhtumx japznrvb \\nregional controller\\nbwfhtumx.japznrvb@gmail.com&lt;mailto:bwfhtumx.japznrvb@gmail.com&gt;\\n\\n\\n\\n</td>\n",
              "    </tr>\n",
              "    <tr>\n",
              "      <th>162</th>\n",
              "      <td>access to bex</td>\n",
              "      <td>\\r\\n\\r\\nreceived from: yfqoaepn.xnezhsit@gmail.com\\r\\n\\r\\nhello,\\r\\n\\r\\ntill last week i was accessing bex reports using mms portal and there were no issues.\\r\\n\\r\\nstarting this week the system is incredibly slow when i log in and finally does not allow me to access any reports.\\r\\n\\r\\ncan it be the issue with any maintenance or my access rights or rather i should try to access bex using different way?\\r\\n\\r\\nbelow the print screen from what i see after log in:\\r\\n[cid:image001.png@01d2310c.f184b360]\\r\\n\\r\\ni am also able to get to finance reports (see below), however when i click \"profitability analysis\" (as i was always doing) separate window is open however apart rom that the screen is blank.\\r\\n[cid:image002.png@01d2310c.f184b360]\\r\\n\\r\\n\\r\\ni appreciate your support.\\r\\n\\r\\nhave a great day â˜º\\r\\n\\r\\nrobhyertyj\\r\\n\\r\\n\\r\\nyfqoaepn xnezhsit\\r\\nmanaging director\\r\\nfinance manager cee\\r\\nyfqoaepn.xnezhsit@gmail.com&lt;mailto:yfqoaepn.xnezhsit@gmail.com&gt;\\r\\ntel:+48(61)7767671\\r\\nmob:+48 694 425 760\\r\\n\\r\\ncompany polska sp. z o.o. , ul. krzywoustego 7, 61-144 poznaÅ„, www.company.com&lt;\\r\\n\\r\\ncompany polska sp. z o.o. z siedzibÄ… w polandiu, 61-144 poznaÅ„, ul. krzywoustego 7.\\r\\nspÃ³Å‚ka zarejestrowana w sÄ…dzie rejonowym poznaÅ„-nowe miasto i wilda w polandiu, wydziaÅ‚ viii gospodarczy krs pod numerem 1111286691.\\r\\nkapitaÅ‚ zakÅ‚adowy 100 000 pln, nip 954-20-87-982.\\r\\n\\r\\n\\r\\n\\r\\n\\r\\n\\r\\n</td>\n",
              "      <td>yfqoaepn xnezhsit</td>\n",
              "      <td>GRP_0</td>\n",
              "      <td>access to bex</td>\n",
              "      <td>\\r\\n\\r\\nreceived from: yfqoaepn.xnezhsit@gmail.com\\r\\n\\r\\nhello,\\r\\n\\r\\ntill last week i was accessing bex reports using mms portal and there were no issues.\\r\\n\\r\\nstarting this week the system is incredibly slow when i log in and finally does not allow me to access any reports.\\r\\n\\r\\ncan it be the issue with any maintenance or my access rights or rather i should try to access bex using different way?\\r\\n\\r\\nbelow the print screen from what i see after log in:\\r\\n[cid:image001.png@01d2310c.f184b360]\\r\\n\\r\\ni am also able to get to finance reports (see below), however when i click \"profitability analysis\" (as i was always doing) separate window is open however apart rom that the screen is blank.\\r\\n[cid:image002.png@01d2310c.f184b360]\\r\\n\\r\\n\\r\\ni appreciate your support.\\r\\n\\r\\nhave a great day â˜º\\r\\n\\r\\nrobhyertyj\\r\\n\\r\\n\\r\\nyfqoaepn xnezhsit\\r\\nmanaging director\\r\\nfinance manager cee\\r\\nyfqoaepn.xnezhsit@gmail.com&lt;mailto:yfqoaepn.xnezhsit@gmail.com&gt;\\r\\ntel:+48(61)7767671\\r\\nmob:+48 694 425 760\\r\\n\\r\\ncompany polska sp. z o.o. , ul. krzywoustego 7, 61-144 poznaÅ„, www.company.com&lt;\\r\\n\\r\\ncompany polska sp. z o.o. z siedzibÄ… w polandiu, 61-144 poznaÅ„, ul. krzywoustego 7.\\r\\nspÃ³Å‚ka zarejestrowana w sÄ…dzie rejonowym poznaÅ„-nowe miasto i wilda w polandiu, wydziaÅ‚ viii gospodarczy krs pod numerem 1111286691.\\r\\nkapitaÅ‚ zakÅ‚adowy 100 000 pln, nip 954-20-87-982.\\r\\n\\r\\n\\r\\n\\r\\n\\r\\n\\r\\n</td>\n",
              "    </tr>\n",
              "  </tbody>\n",
              "</table>\n",
              "</div>"
            ],
            "text/plain": [
              "                                                                                  Short description  ...                                                                                                                                                                                                                                                                                                                                                                                                                                                                                                                                                                                                                                                                                                                                                                                                                                                                                                                                                                                                                                                                                                                                                                                                                                                                                                                                                                                                                                                            desc_analysis\n",
              "53                                                                      reset scm_software password  ...                                                                                                                                                                                                                                                                                                                                                                                                                                                                                                                                                                                                                                                                                                                                                                                                                                                                                                                                                                                                                                                                                                                                                                                                                 \\n\\nreceived from: cdbaoqts.wqbsodni@gmail.com\\n\\nhello,\\n\\nplease reset my scm_software password.\\n\\n\\ncdbaoqts wqbsodni\\nglobal product manager, markhtyeting initiatives\\ncdbaoqts.wqbsodni@gmail.com<mailto:cdbaoqts.wqbsodni@gmail.com>\\n\\n\\n\\n\\n\\n\n",
              "100                                                                     re: ess portal access issue  ...                                                                                                                                                                                                                                                                                                                                                                                                                                                                                                                                                                                                                                                                                                                                                                                                                                                                                                                 \\n\\nreceived from: noscwdpm.akiowsmp@gmail.com\\n\\nhello,\\n\\nhe is an kiosk user.  please reset the password and confirm.\\n\\n\\nnoscwdpm akiowsmp\\nnoscwdpm.akiowsmp@gmail.com\\n\\nfrom: ihkolepb ozhnjyef\\nsent: 29 october 2016 13:38\\nto: company@ticketing_tool.com\\nsubject: ess portal access issue\\n\\nhi,\\n\\nbelow mentioned employee krlszbqo spimolgz with user id sv123 is not able to login to ess portal to access his pay slips and related contents. he is a attendance_tool user. please reset his user id and password and revert back.\\n\\n\n",
              "124                                                                        mobile device activation  ...                                                                                                                                                                                                                                                                                                                                                                                                                                                                                                                                                                                                                                                                                                                                                                                                                                                                                                                                                                                                                                                                                                                  from: tvcdfqgp nrbcqwgj \\nsent: friday, october 28, 2016 3:13 pm\\nto: nwfodmhc exurcwkm\\nsubject:  se ha bloqueado en forma temporal la sincronizaciÃ³n de su dispositivo mÃ³vil mediante exchange activesync hasta que su administrador autorice el acceso.\\n\\nhi\\n\\ni received this message and our local it expert has told me to open a ticket.\\n\\n\n",
              "151  i used to have acces to this location on collaboration_platform.  now i do not. i need access.  ...                                                                                                                                                                                                                                                                                                                                                                                                                                                                                                                                                                                                                                                                                                                                                                                                                                                                                                                                                                                                                                                                                                                                                                                                                                                           \\n\\nreceived from: bwfhtumx.japznrvb@gmail.com\\n\\n\\n\\n[cid:image001.jpg@01d230f7.8bb4e830]\\n\\nbwfhtumx japznrvb \\nregional controller\\nbwfhtumx.japznrvb@gmail.com<mailto:bwfhtumx.japznrvb@gmail.com>\\n\\n\\n\\n\n",
              "162                                                                                   access to bex  ...  \\r\\n\\r\\nreceived from: yfqoaepn.xnezhsit@gmail.com\\r\\n\\r\\nhello,\\r\\n\\r\\ntill last week i was accessing bex reports using mms portal and there were no issues.\\r\\n\\r\\nstarting this week the system is incredibly slow when i log in and finally does not allow me to access any reports.\\r\\n\\r\\ncan it be the issue with any maintenance or my access rights or rather i should try to access bex using different way?\\r\\n\\r\\nbelow the print screen from what i see after log in:\\r\\n[cid:image001.png@01d2310c.f184b360]\\r\\n\\r\\ni am also able to get to finance reports (see below), however when i click \"profitability analysis\" (as i was always doing) separate window is open however apart rom that the screen is blank.\\r\\n[cid:image002.png@01d2310c.f184b360]\\r\\n\\r\\n\\r\\ni appreciate your support.\\r\\n\\r\\nhave a great day â˜º\\r\\n\\r\\nrobhyertyj\\r\\n\\r\\n\\r\\nyfqoaepn xnezhsit\\r\\nmanaging director\\r\\nfinance manager cee\\r\\nyfqoaepn.xnezhsit@gmail.com<mailto:yfqoaepn.xnezhsit@gmail.com>\\r\\ntel:+48(61)7767671\\r\\nmob:+48 694 425 760\\r\\n\\r\\ncompany polska sp. z o.o. , ul. krzywoustego 7, 61-144 poznaÅ„, www.company.com<\\r\\n\\r\\ncompany polska sp. z o.o. z siedzibÄ… w polandiu, 61-144 poznaÅ„, ul. krzywoustego 7.\\r\\nspÃ³Å‚ka zarejestrowana w sÄ…dzie rejonowym poznaÅ„-nowe miasto i wilda w polandiu, wydziaÅ‚ viii gospodarczy krs pod numerem 1111286691.\\r\\nkapitaÅ‚ zakÅ‚adowy 100 000 pln, nip 954-20-87-982.\\r\\n\\r\\n\\r\\n\\r\\n\\r\\n\\r\\n\n",
              "\n",
              "[5 rows x 6 columns]"
            ]
          },
          "metadata": {},
          "execution_count": 57
        }
      ]
    },
    {
      "cell_type": "markdown",
      "metadata": {
        "id": "HQe9bg0wFOqy"
      },
      "source": [
        "There are some Description which are copy paste of mails.  We can see texts such as\n",
        "\n",
        "1. from:\n",
        "2. to:\n",
        "3. sent:\n",
        "4. date:\n",
        "5. cc:\n",
        "6. subject: \n",
        "\n",
        "We will remove such text from our analysis.  We will copy the subject to another column to see if it can be of use in future"
      ]
    },
    {
      "cell_type": "code",
      "metadata": {
        "colab": {
          "base_uri": "https://localhost:8080/",
          "height": 432
        },
        "id": "7kv4m4xz2Wfm",
        "outputId": "5cdba963-9dbc-4d43-ad17-38b0d57b900e"
      },
      "source": [
        "ata_data[ata_data['Description'].str.contains('name:', case=False, na=False)].head()"
      ],
      "execution_count": 58,
      "outputs": [
        {
          "output_type": "execute_result",
          "data": {
            "text/html": [
              "<div>\n",
              "<style scoped>\n",
              "    .dataframe tbody tr th:only-of-type {\n",
              "        vertical-align: middle;\n",
              "    }\n",
              "\n",
              "    .dataframe tbody tr th {\n",
              "        vertical-align: top;\n",
              "    }\n",
              "\n",
              "    .dataframe thead th {\n",
              "        text-align: right;\n",
              "    }\n",
              "</style>\n",
              "<table border=\"1\" class=\"dataframe\">\n",
              "  <thead>\n",
              "    <tr style=\"text-align: right;\">\n",
              "      <th></th>\n",
              "      <th>Short description</th>\n",
              "      <th>Description</th>\n",
              "      <th>Caller</th>\n",
              "      <th>Assignment group</th>\n",
              "      <th>short_desc_analysis</th>\n",
              "      <th>desc_analysis</th>\n",
              "    </tr>\n",
              "  </thead>\n",
              "  <tbody>\n",
              "    <tr>\n",
              "      <th>135</th>\n",
              "      <td>access to business_client drawings</td>\n",
              "      <td>name:xvgftyr tryfuh\\nlanguage:\\nbrowser:microsoft internet explorer\\nemail:cnkoflhi.abeoucfj@gmail.com\\ncustomer number:\\nsummary:i cannot seem to access the drawings from the netweaver application that is installed on my computer.  it doesn't take me to the same page that my colleagues have.</td>\n",
              "      <td>rbozivdq gmlhrtvp</td>\n",
              "      <td>GRP_0</td>\n",
              "      <td>access to business_client drawings</td>\n",
              "      <td>name:xvgftyr tryfuh\\nlanguage:\\nbrowser:microsoft internet explorer\\nemail:cnkoflhi.abeoucfj@gmail.com\\ncustomer number:\\nsummary:i cannot seem to access the drawings from the netweaver application that is installed on my computer.  it doesn't take me to the same page that my colleagues have.</td>\n",
              "    </tr>\n",
              "    <tr>\n",
              "      <th>136</th>\n",
              "      <td>taking off email permissions from personal phone</td>\n",
              "      <td>name:vdhfy\\nlanguage:\\nbrowser:microsoft internet explorer\\nemail:dcvphjru.ybomrjst@gmail.com\\ncustomer number:\\nsummary:i have scrapped the old phone. my mail was configured in it. can you take off the permissions set to view mails on that phone</td>\n",
              "      <td>dcvphjru ybomrjst</td>\n",
              "      <td>GRP_0</td>\n",
              "      <td>taking off email permissions from personal phone</td>\n",
              "      <td>name:vdhfy\\nlanguage:\\nbrowser:microsoft internet explorer\\nemail:dcvphjru.ybomrjst@gmail.com\\ncustomer number:\\nsummary:i have scrapped the old phone. my mail was configured in it. can you take off the permissions set to view mails on that phone</td>\n",
              "    </tr>\n",
              "    <tr>\n",
              "      <th>147</th>\n",
              "      <td>good morning. i am having trouble getting into my vpn</td>\n",
              "      <td>name:wvngzrca sfmrzdth\\nlanguage:\\nbrowser:microsoft internet explorer\\nemail:wvngzrca.sfmrzdth@gmail.com\\ncustomer number:\\nsummary:good morning. i am having trouble getting into my vpn\\ncan you assist</td>\n",
              "      <td>wvngzrca sfmrzdth</td>\n",
              "      <td>GRP_0</td>\n",
              "      <td>good morning. i am having trouble getting into my vpn</td>\n",
              "      <td>name:wvngzrca sfmrzdth\\nlanguage:\\nbrowser:microsoft internet explorer\\nemail:wvngzrca.sfmrzdth@gmail.com\\ncustomer number:\\nsummary:good morning. i am having trouble getting into my vpn\\ncan you assist</td>\n",
              "    </tr>\n",
              "    <tr>\n",
              "      <th>200</th>\n",
              "      <td>unable to open website</td>\n",
              "      <td>\\nname:xbdht yrjhd\\nlanguage:\\nbrowser:microsoft internet explorer\\nemail:aqjdvexo.lmedazjo@gmail.com\\ncustomer number:\\nsummary: benefit advisor will not run in my browser.</td>\n",
              "      <td>aqjdvexo lmedazjo</td>\n",
              "      <td>GRP_0</td>\n",
              "      <td>unable to open website</td>\n",
              "      <td>\\nname:xbdht yrjhd\\nlanguage:\\nbrowser:microsoft internet explorer\\nemail:aqjdvexo.lmedazjo@gmail.com\\ncustomer number:\\nsummary: benefit advisor will not run in my browser.</td>\n",
              "    </tr>\n",
              "    <tr>\n",
              "      <th>226</th>\n",
              "      <td>enable bgdxitwu dhcopwxa' active directory account</td>\n",
              "      <td>enable bgdxitwu dhcopwxa' active directory account\\n\\nname:fdgrty\\nemail:kybgepnj.idszleru@gmail.com\\nsummary:i need bgdxitwu dhcopwxa's active directory account enabled.</td>\n",
              "      <td>kcwqdeob jwtpkzub</td>\n",
              "      <td>GRP_2</td>\n",
              "      <td>enable bgdxitwu dhcopwxa' active directory account</td>\n",
              "      <td>enable bgdxitwu dhcopwxa' active directory account\\n\\nname:fdgrty\\nemail:kybgepnj.idszleru@gmail.com\\nsummary:i need bgdxitwu dhcopwxa's active directory account enabled.</td>\n",
              "    </tr>\n",
              "  </tbody>\n",
              "</table>\n",
              "</div>"
            ],
            "text/plain": [
              "                                         Short description  ...                                                                                                                                                                                                                                                                                          desc_analysis\n",
              "135                     access to business_client drawings  ...  name:xvgftyr tryfuh\\nlanguage:\\nbrowser:microsoft internet explorer\\nemail:cnkoflhi.abeoucfj@gmail.com\\ncustomer number:\\nsummary:i cannot seem to access the drawings from the netweaver application that is installed on my computer.  it doesn't take me to the same page that my colleagues have.\n",
              "136       taking off email permissions from personal phone  ...                                                 name:vdhfy\\nlanguage:\\nbrowser:microsoft internet explorer\\nemail:dcvphjru.ybomrjst@gmail.com\\ncustomer number:\\nsummary:i have scrapped the old phone. my mail was configured in it. can you take off the permissions set to view mails on that phone\n",
              "147  good morning. i am having trouble getting into my vpn  ...                                                                                             name:wvngzrca sfmrzdth\\nlanguage:\\nbrowser:microsoft internet explorer\\nemail:wvngzrca.sfmrzdth@gmail.com\\ncustomer number:\\nsummary:good morning. i am having trouble getting into my vpn\\ncan you assist\n",
              "200                                 unable to open website  ...                                                                                                                          \\nname:xbdht yrjhd\\nlanguage:\\nbrowser:microsoft internet explorer\\nemail:aqjdvexo.lmedazjo@gmail.com\\ncustomer number:\\nsummary: benefit advisor will not run in my browser.\n",
              "226     enable bgdxitwu dhcopwxa' active directory account  ...                                                                                                                             enable bgdxitwu dhcopwxa' active directory account\\n\\nname:fdgrty\\nemail:kybgepnj.idszleru@gmail.com\\nsummary:i need bgdxitwu dhcopwxa's active directory account enabled.\n",
              "\n",
              "[5 rows x 6 columns]"
            ]
          },
          "metadata": {},
          "execution_count": 58
        }
      ]
    },
    {
      "cell_type": "markdown",
      "metadata": {
        "id": "_ZPXJvwk29lG"
      },
      "source": [
        "There seems to be a template where below details are captured\n",
        "1. name\n",
        "2. language\n",
        "3. browser\n",
        "4. email\n",
        "5. customercare number\n",
        "6. summary \n",
        "\n",
        "Keeping only the text provided as summary for further analysis "
      ]
    },
    {
      "cell_type": "code",
      "metadata": {
        "id": "eDUPWxZ4Zqhz",
        "colab": {
          "base_uri": "https://localhost:8080/",
          "height": 504
        },
        "outputId": "fe770e69-8112-40e8-a437-0b6dbc4ec0a2"
      },
      "source": [
        "ata_data[ata_data['Description'].str.contains('cid:image', case=False, na=False)].head()"
      ],
      "execution_count": 59,
      "outputs": [
        {
          "output_type": "execute_result",
          "data": {
            "text/html": [
              "<div>\n",
              "<style scoped>\n",
              "    .dataframe tbody tr th:only-of-type {\n",
              "        vertical-align: middle;\n",
              "    }\n",
              "\n",
              "    .dataframe tbody tr th {\n",
              "        vertical-align: top;\n",
              "    }\n",
              "\n",
              "    .dataframe thead th {\n",
              "        text-align: right;\n",
              "    }\n",
              "</style>\n",
              "<table border=\"1\" class=\"dataframe\">\n",
              "  <thead>\n",
              "    <tr style=\"text-align: right;\">\n",
              "      <th></th>\n",
              "      <th>Short description</th>\n",
              "      <th>Description</th>\n",
              "      <th>Caller</th>\n",
              "      <th>Assignment group</th>\n",
              "      <th>short_desc_analysis</th>\n",
              "      <th>desc_analysis</th>\n",
              "    </tr>\n",
              "  </thead>\n",
              "  <tbody>\n",
              "    <tr>\n",
              "      <th>21</th>\n",
              "      <td>vpn issue</td>\n",
              "      <td>\\r\\n\\r\\nreceived from: ugephfta.hrbqkvij@gmail.com\\r\\n\\r\\nhello helpdesk\\r\\n\\r\\ni am not able to connect vpn from home office. couple f hours ago i was connected, now it is not working anymore. getting a message that my session expired but if i click on the link, nothing happens.\\r\\n\\r\\n[cid:image001.jpg@01d233aa.3f618be0]\\r\\n\\r\\n*********************\\r\\n\\r\\nneed help with your dynamics crm?\\r\\nclick here&lt;\\r\\n\\r\\nchat with a live agent regarding your dynamics crm questions now! click here&lt;\\r\\n\\r\\nbest</td>\n",
              "      <td>ugephfta hrbqkvij</td>\n",
              "      <td>GRP_0</td>\n",
              "      <td>vpn issue</td>\n",
              "      <td>\\r\\n\\r\\nreceived from: ugephfta.hrbqkvij@gmail.com\\r\\n\\r\\nhello helpdesk\\r\\n\\r\\ni am not able to connect vpn from home office. couple f hours ago i was connected, now it is not working anymore. getting a message that my session expired but if i click on the link, nothing happens.\\r\\n\\r\\n[cid:image001.jpg@01d233aa.3f618be0]\\r\\n\\r\\n*********************\\r\\n\\r\\nneed help with your dynamics crm?\\r\\nclick here&lt;\\r\\n\\r\\nchat with a live agent regarding your dynamics crm questions now! click here&lt;\\r\\n\\r\\nbest</td>\n",
              "    </tr>\n",
              "    <tr>\n",
              "      <th>62</th>\n",
              "      <td>issues with outlook</td>\n",
              "      <td>\\r\\n\\r\\nreceived from: lkfzibrx.ljnabpgx@gmail.com\\r\\n\\r\\n[cid:image001.png@01d23357.fcbe58b0]\\r\\n\\r\\nbest</td>\n",
              "      <td>lkfzibrx ljnabpgx</td>\n",
              "      <td>GRP_0</td>\n",
              "      <td>issues with outlook</td>\n",
              "      <td>\\r\\n\\r\\nreceived from: lkfzibrx.ljnabpgx@gmail.com\\r\\n\\r\\n[cid:image001.png@01d23357.fcbe58b0]\\r\\n\\r\\nbest</td>\n",
              "    </tr>\n",
              "    <tr>\n",
              "      <th>107</th>\n",
              "      <td>attendance_tool - system log on error</td>\n",
              "      <td>\\n\\nreceived from: isfadulo.etkyjabn@gmail.com\\n\\nhello\\n\\ngood morning,\\n\\ni am experiencing issues with attendance_tool log on\\nevery time i try to log on through \"single sign portal, the following screen gets displayed and it stays there.\\nappreciate your support to fix this issue\\n\\n\\n[cid:image011.jpg@01d231cb.2cceacf0]\\n\\n</td>\n",
              "      <td>isfadulo etkyjabn</td>\n",
              "      <td>GRP_0</td>\n",
              "      <td>attendance_tool - system log on error</td>\n",
              "      <td>\\n\\nreceived from: isfadulo.etkyjabn@gmail.com\\n\\nhello\\n\\ngood morning,\\n\\ni am experiencing issues with attendance_tool log on\\nevery time i try to log on through \"single sign portal, the following screen gets displayed and it stays there.\\nappreciate your support to fix this issue\\n\\n\\n[cid:image011.jpg@01d231cb.2cceacf0]\\n\\n</td>\n",
              "    </tr>\n",
              "    <tr>\n",
              "      <th>128</th>\n",
              "      <td>password change thru password_management_tool password manager</td>\n",
              "      <td>\\r\\n\\r\\nreceived from: jvpkulxw.ovuweygj@gmail.com\\r\\n\\r\\nhello sir,\\r\\n\\r\\ni tried to change my password thru above. i  got below error. pl help know what action to be taken further to ensure all passwords are same everywhere since belo wmsg says all passwords were not changed.\\r\\n\\r\\n[cid:image001.jpg@01d2316b.5ff15980]\\r\\n\\r\\n</td>\n",
              "      <td>jvpkulxw ovuweygj</td>\n",
              "      <td>GRP_0</td>\n",
              "      <td>password change thru password_management_tool password manager</td>\n",
              "      <td>\\r\\n\\r\\nreceived from: jvpkulxw.ovuweygj@gmail.com\\r\\n\\r\\nhello sir,\\r\\n\\r\\ni tried to change my password thru above. i  got below error. pl help know what action to be taken further to ensure all passwords are same everywhere since belo wmsg says all passwords were not changed.\\r\\n\\r\\n[cid:image001.jpg@01d2316b.5ff15980]\\r\\n\\r\\n</td>\n",
              "    </tr>\n",
              "    <tr>\n",
              "      <th>151</th>\n",
              "      <td>i used to have acces to this location on collaboration_platform.  now i do not. i need access.</td>\n",
              "      <td>\\n\\nreceived from: bwfhtumx.japznrvb@gmail.com\\n\\n\\n\\n[cid:image001.jpg@01d230f7.8bb4e830]\\n\\nbwfhtumx japznrvb \\nregional controller\\nbwfhtumx.japznrvb@gmail.com&lt;mailto:bwfhtumx.japznrvb@gmail.com&gt;\\n\\n\\n\\n</td>\n",
              "      <td>bwfhtumx japznrvb</td>\n",
              "      <td>GRP_16</td>\n",
              "      <td>i used to have acces to this location on collaboration_platform.  now i do not. i need access.</td>\n",
              "      <td>\\n\\nreceived from: bwfhtumx.japznrvb@gmail.com\\n\\n\\n\\n[cid:image001.jpg@01d230f7.8bb4e830]\\n\\nbwfhtumx japznrvb \\nregional controller\\nbwfhtumx.japznrvb@gmail.com&lt;mailto:bwfhtumx.japznrvb@gmail.com&gt;\\n\\n\\n\\n</td>\n",
              "    </tr>\n",
              "  </tbody>\n",
              "</table>\n",
              "</div>"
            ],
            "text/plain": [
              "                                                                                  Short description  ...                                                                                                                                                                                                                                                                                                                                                                                                                                                                                                                desc_analysis\n",
              "21                                                                                        vpn issue  ...  \\r\\n\\r\\nreceived from: ugephfta.hrbqkvij@gmail.com\\r\\n\\r\\nhello helpdesk\\r\\n\\r\\ni am not able to connect vpn from home office. couple f hours ago i was connected, now it is not working anymore. getting a message that my session expired but if i click on the link, nothing happens.\\r\\n\\r\\n[cid:image001.jpg@01d233aa.3f618be0]\\r\\n\\r\\n*********************\\r\\n\\r\\nneed help with your dynamics crm?\\r\\nclick here<\\r\\n\\r\\nchat with a live agent regarding your dynamics crm questions now! click here<\\r\\n\\r\\nbest \n",
              "62                                                                              issues with outlook  ...                                                                                                                                                                                                                                                                                                                                                                                                                  \\r\\n\\r\\nreceived from: lkfzibrx.ljnabpgx@gmail.com\\r\\n\\r\\n[cid:image001.png@01d23357.fcbe58b0]\\r\\n\\r\\nbest \n",
              "107                                                           attendance_tool - system log on error  ...                                                                                                                                                                                   \\n\\nreceived from: isfadulo.etkyjabn@gmail.com\\n\\nhello\\n\\ngood morning,\\n\\ni am experiencing issues with attendance_tool log on\\nevery time i try to log on through \"single sign portal, the following screen gets displayed and it stays there.\\nappreciate your support to fix this issue\\n\\n\\n[cid:image011.jpg@01d231cb.2cceacf0]\\n\\n\n",
              "128                                  password change thru password_management_tool password manager  ...                                                                                                                                                                                  \\r\\n\\r\\nreceived from: jvpkulxw.ovuweygj@gmail.com\\r\\n\\r\\nhello sir,\\r\\n\\r\\ni tried to change my password thru above. i  got below error. pl help know what action to be taken further to ensure all passwords are same everywhere since belo wmsg says all passwords were not changed.\\r\\n\\r\\n[cid:image001.jpg@01d2316b.5ff15980]\\r\\n\\r\\n\n",
              "151  i used to have acces to this location on collaboration_platform.  now i do not. i need access.  ...                                                                                                                                                                                                                                                                                                               \\n\\nreceived from: bwfhtumx.japznrvb@gmail.com\\n\\n\\n\\n[cid:image001.jpg@01d230f7.8bb4e830]\\n\\nbwfhtumx japznrvb \\nregional controller\\nbwfhtumx.japznrvb@gmail.com<mailto:bwfhtumx.japznrvb@gmail.com>\\n\\n\\n\\n\n",
              "\n",
              "[5 rows x 6 columns]"
            ]
          },
          "metadata": {},
          "execution_count": 59
        }
      ]
    },
    {
      "cell_type": "markdown",
      "metadata": {
        "id": "qxCXYQUvJrvL"
      },
      "source": [
        "There are some texts containing embedded image details.  Removing the text pertaining to embedded images"
      ]
    },
    {
      "cell_type": "code",
      "metadata": {
        "id": "sPmeXTkNW2B0"
      },
      "source": [
        ""
      ],
      "execution_count": 59,
      "outputs": []
    },
    {
      "cell_type": "code",
      "metadata": {
        "id": "-HmGbLaBMVtQ"
      },
      "source": [
        "ata_data['short_desc_analysis'] = ata_data['short_desc_analysis'].apply(preprocess_text_part1)\n",
        "ata_data['desc_analysis'] = ata_data['desc_analysis'].apply(preprocess_text_part1)"
      ],
      "execution_count": 60,
      "outputs": []
    },
    {
      "cell_type": "code",
      "metadata": {
        "colab": {
          "base_uri": "https://localhost:8080/",
          "height": 345
        },
        "id": "OXBQiTsbPBtM",
        "outputId": "b2dcd321-b78e-4995-ce67-06b9054124c9"
      },
      "source": [
        "ata_data.head()"
      ],
      "execution_count": 61,
      "outputs": [
        {
          "output_type": "execute_result",
          "data": {
            "text/html": [
              "<div>\n",
              "<style scoped>\n",
              "    .dataframe tbody tr th:only-of-type {\n",
              "        vertical-align: middle;\n",
              "    }\n",
              "\n",
              "    .dataframe tbody tr th {\n",
              "        vertical-align: top;\n",
              "    }\n",
              "\n",
              "    .dataframe thead th {\n",
              "        text-align: right;\n",
              "    }\n",
              "</style>\n",
              "<table border=\"1\" class=\"dataframe\">\n",
              "  <thead>\n",
              "    <tr style=\"text-align: right;\">\n",
              "      <th></th>\n",
              "      <th>Short description</th>\n",
              "      <th>Description</th>\n",
              "      <th>Caller</th>\n",
              "      <th>Assignment group</th>\n",
              "      <th>short_desc_analysis</th>\n",
              "      <th>desc_analysis</th>\n",
              "    </tr>\n",
              "  </thead>\n",
              "  <tbody>\n",
              "    <tr>\n",
              "      <th>0</th>\n",
              "      <td>login issue</td>\n",
              "      <td>-verified user details.(employee# &amp; manager name)\\r\\n-checked the user name in ad and reset the password.\\r\\n-advised the user to login and check.\\r\\n-caller confirmed that he was able to login.\\r\\n-issue resolved.</td>\n",
              "      <td>spxjnwir pjlcoqds</td>\n",
              "      <td>GRP_0</td>\n",
              "      <td>login issue</td>\n",
              "      <td>-verified user details.(employee# &amp; manager name)\\n-checked the user name in ad and reset the password.\\n-advised the user to login and check.\\n-caller confirmed that he was able to login.\\n-issue resolved.</td>\n",
              "    </tr>\n",
              "    <tr>\n",
              "      <th>1</th>\n",
              "      <td>outlook</td>\n",
              "      <td>\\r\\n\\r\\nreceived from: hmjdrvpb.komuaywn@gmail.com\\r\\n\\r\\nhello team,\\r\\n\\r\\nmy meetings/skype meetings etc are not appearing in my outlook calendar, can somebody please advise how to correct this?\\r\\n\\r\\nkind</td>\n",
              "      <td>hmjdrvpb komuaywn</td>\n",
              "      <td>GRP_0</td>\n",
              "      <td>outlook</td>\n",
              "      <td>\\n\\nreceived from: hmjdrvpb.komuaywn@gmail.com\\n\\nhello team,\\n\\nmy meetings/skype meetings etc are not appearing in my outlook calendar, can somebody please advise how to correct this?\\n\\nkind</td>\n",
              "    </tr>\n",
              "    <tr>\n",
              "      <th>2</th>\n",
              "      <td>cant log in to vpn</td>\n",
              "      <td>\\r\\n\\r\\nreceived from: eylqgodm.ybqkwiam@gmail.com\\r\\n\\r\\nhi\\r\\n\\r\\ni cannot log on to vpn\\r\\n\\r\\nbest</td>\n",
              "      <td>eylqgodm ybqkwiam</td>\n",
              "      <td>GRP_0</td>\n",
              "      <td>cant log in to vpn</td>\n",
              "      <td>\\n\\nreceived from: eylqgodm.ybqkwiam@gmail.com\\n\\nhi\\n\\ni cannot log on to vpn\\n\\nbest</td>\n",
              "    </tr>\n",
              "    <tr>\n",
              "      <th>3</th>\n",
              "      <td>unable to access hr_tool page</td>\n",
              "      <td>unable to access hr_tool page</td>\n",
              "      <td>xbkucsvz gcpydteq</td>\n",
              "      <td>GRP_0</td>\n",
              "      <td>unable to access hr_tool page</td>\n",
              "      <td>unable to access hr_tool page</td>\n",
              "    </tr>\n",
              "    <tr>\n",
              "      <th>4</th>\n",
              "      <td>skype error</td>\n",
              "      <td>skype error</td>\n",
              "      <td>owlgqjme qhcozdfx</td>\n",
              "      <td>GRP_0</td>\n",
              "      <td>skype error</td>\n",
              "      <td>skype error</td>\n",
              "    </tr>\n",
              "  </tbody>\n",
              "</table>\n",
              "</div>"
            ],
            "text/plain": [
              "               Short description  ...                                                                                                                                                                                                   desc_analysis\n",
              "0                    login issue  ...  -verified user details.(employee# & manager name)\\n-checked the user name in ad and reset the password.\\n-advised the user to login and check.\\n-caller confirmed that he was able to login.\\n-issue resolved.\n",
              "1                        outlook  ...              \\n\\nreceived from: hmjdrvpb.komuaywn@gmail.com\\n\\nhello team,\\n\\nmy meetings/skype meetings etc are not appearing in my outlook calendar, can somebody please advise how to correct this?\\n\\nkind \n",
              "2             cant log in to vpn  ...                                                                                                                         \\n\\nreceived from: eylqgodm.ybqkwiam@gmail.com\\n\\nhi\\n\\ni cannot log on to vpn\\n\\nbest \n",
              "3  unable to access hr_tool page  ...                                                                                                                                                                                   unable to access hr_tool page\n",
              "4                   skype error   ...                                                                                                                                                                                                    skype error \n",
              "\n",
              "[5 rows x 6 columns]"
            ]
          },
          "metadata": {},
          "execution_count": 61
        }
      ]
    },
    {
      "cell_type": "code",
      "metadata": {
        "id": "lf72lCxgcaV0"
      },
      "source": [
        "ata_data['mail_received_from'] = ata_data['desc_analysis'].apply(extract_received_from_mail)\n",
        "ata_data['mail_subject_mentioned'] = ata_data['desc_analysis'].apply(extract_subject_from_mail)"
      ],
      "execution_count": 62,
      "outputs": []
    },
    {
      "cell_type": "code",
      "metadata": {
        "colab": {
          "base_uri": "https://localhost:8080/",
          "height": 414
        },
        "id": "r7UpfQ8mcagh",
        "outputId": "e338a778-87c4-4e8c-fcc9-82c070dd7e91"
      },
      "source": [
        "ata_data.head()"
      ],
      "execution_count": 63,
      "outputs": [
        {
          "output_type": "execute_result",
          "data": {
            "text/html": [
              "<div>\n",
              "<style scoped>\n",
              "    .dataframe tbody tr th:only-of-type {\n",
              "        vertical-align: middle;\n",
              "    }\n",
              "\n",
              "    .dataframe tbody tr th {\n",
              "        vertical-align: top;\n",
              "    }\n",
              "\n",
              "    .dataframe thead th {\n",
              "        text-align: right;\n",
              "    }\n",
              "</style>\n",
              "<table border=\"1\" class=\"dataframe\">\n",
              "  <thead>\n",
              "    <tr style=\"text-align: right;\">\n",
              "      <th></th>\n",
              "      <th>Short description</th>\n",
              "      <th>Description</th>\n",
              "      <th>Caller</th>\n",
              "      <th>Assignment group</th>\n",
              "      <th>short_desc_analysis</th>\n",
              "      <th>desc_analysis</th>\n",
              "      <th>mail_received_from</th>\n",
              "      <th>mail_subject_mentioned</th>\n",
              "    </tr>\n",
              "  </thead>\n",
              "  <tbody>\n",
              "    <tr>\n",
              "      <th>0</th>\n",
              "      <td>login issue</td>\n",
              "      <td>-verified user details.(employee# &amp; manager name)\\r\\n-checked the user name in ad and reset the password.\\r\\n-advised the user to login and check.\\r\\n-caller confirmed that he was able to login.\\r\\n-issue resolved.</td>\n",
              "      <td>spxjnwir pjlcoqds</td>\n",
              "      <td>GRP_0</td>\n",
              "      <td>login issue</td>\n",
              "      <td>-verified user details.(employee# &amp; manager name)\\n-checked the user name in ad and reset the password.\\n-advised the user to login and check.\\n-caller confirmed that he was able to login.\\n-issue resolved.</td>\n",
              "      <td>No Match</td>\n",
              "      <td>No Match</td>\n",
              "    </tr>\n",
              "    <tr>\n",
              "      <th>1</th>\n",
              "      <td>outlook</td>\n",
              "      <td>\\r\\n\\r\\nreceived from: hmjdrvpb.komuaywn@gmail.com\\r\\n\\r\\nhello team,\\r\\n\\r\\nmy meetings/skype meetings etc are not appearing in my outlook calendar, can somebody please advise how to correct this?\\r\\n\\r\\nkind</td>\n",
              "      <td>hmjdrvpb komuaywn</td>\n",
              "      <td>GRP_0</td>\n",
              "      <td>outlook</td>\n",
              "      <td>\\n\\nreceived from: hmjdrvpb.komuaywn@gmail.com\\n\\nhello team,\\n\\nmy meetings/skype meetings etc are not appearing in my outlook calendar, can somebody please advise how to correct this?\\n\\nkind</td>\n",
              "      <td>hmjdrvpb.komuaywn@gmail.com</td>\n",
              "      <td>No Match</td>\n",
              "    </tr>\n",
              "    <tr>\n",
              "      <th>2</th>\n",
              "      <td>cant log in to vpn</td>\n",
              "      <td>\\r\\n\\r\\nreceived from: eylqgodm.ybqkwiam@gmail.com\\r\\n\\r\\nhi\\r\\n\\r\\ni cannot log on to vpn\\r\\n\\r\\nbest</td>\n",
              "      <td>eylqgodm ybqkwiam</td>\n",
              "      <td>GRP_0</td>\n",
              "      <td>cant log in to vpn</td>\n",
              "      <td>\\n\\nreceived from: eylqgodm.ybqkwiam@gmail.com\\n\\nhi\\n\\ni cannot log on to vpn\\n\\nbest</td>\n",
              "      <td>eylqgodm.ybqkwiam@gmail.com</td>\n",
              "      <td>No Match</td>\n",
              "    </tr>\n",
              "    <tr>\n",
              "      <th>3</th>\n",
              "      <td>unable to access hr_tool page</td>\n",
              "      <td>unable to access hr_tool page</td>\n",
              "      <td>xbkucsvz gcpydteq</td>\n",
              "      <td>GRP_0</td>\n",
              "      <td>unable to access hr_tool page</td>\n",
              "      <td>unable to access hr_tool page</td>\n",
              "      <td>No Match</td>\n",
              "      <td>No Match</td>\n",
              "    </tr>\n",
              "    <tr>\n",
              "      <th>4</th>\n",
              "      <td>skype error</td>\n",
              "      <td>skype error</td>\n",
              "      <td>owlgqjme qhcozdfx</td>\n",
              "      <td>GRP_0</td>\n",
              "      <td>skype error</td>\n",
              "      <td>skype error</td>\n",
              "      <td>No Match</td>\n",
              "      <td>No Match</td>\n",
              "    </tr>\n",
              "  </tbody>\n",
              "</table>\n",
              "</div>"
            ],
            "text/plain": [
              "               Short description  ... mail_subject_mentioned\n",
              "0                    login issue  ...               No Match\n",
              "1                        outlook  ...               No Match\n",
              "2             cant log in to vpn  ...               No Match\n",
              "3  unable to access hr_tool page  ...               No Match\n",
              "4                   skype error   ...               No Match\n",
              "\n",
              "[5 rows x 8 columns]"
            ]
          },
          "metadata": {},
          "execution_count": 63
        }
      ]
    },
    {
      "cell_type": "code",
      "metadata": {
        "id": "idyy-BhPcamP"
      },
      "source": [
        "ata_data['short_desc_analysis'] = ata_data['short_desc_analysis'].apply(preprocess_text_part2)\n",
        "ata_data['desc_analysis'] = ata_data['desc_analysis'].apply(preprocess_text_part2)"
      ],
      "execution_count": 64,
      "outputs": []
    },
    {
      "cell_type": "markdown",
      "source": [
        "Removing the Caller name from the description.  "
      ],
      "metadata": {
        "id": "adISVWl3R0ab"
      }
    },
    {
      "cell_type": "code",
      "source": [
        "caller_list = ata_data[\"Caller\"].str.split(\" \", n = 1, expand = True)\n",
        "caller_list"
      ],
      "metadata": {
        "colab": {
          "base_uri": "https://localhost:8080/",
          "height": 424
        },
        "id": "l6YJcmRxR-Yq",
        "outputId": "93723a01-975a-4135-9cbc-46bd4b2c2a22"
      },
      "execution_count": 65,
      "outputs": [
        {
          "output_type": "execute_result",
          "data": {
            "text/html": [
              "<div>\n",
              "<style scoped>\n",
              "    .dataframe tbody tr th:only-of-type {\n",
              "        vertical-align: middle;\n",
              "    }\n",
              "\n",
              "    .dataframe tbody tr th {\n",
              "        vertical-align: top;\n",
              "    }\n",
              "\n",
              "    .dataframe thead th {\n",
              "        text-align: right;\n",
              "    }\n",
              "</style>\n",
              "<table border=\"1\" class=\"dataframe\">\n",
              "  <thead>\n",
              "    <tr style=\"text-align: right;\">\n",
              "      <th></th>\n",
              "      <th>0</th>\n",
              "      <th>1</th>\n",
              "    </tr>\n",
              "  </thead>\n",
              "  <tbody>\n",
              "    <tr>\n",
              "      <th>0</th>\n",
              "      <td>spxjnwir</td>\n",
              "      <td>pjlcoqds</td>\n",
              "    </tr>\n",
              "    <tr>\n",
              "      <th>1</th>\n",
              "      <td>hmjdrvpb</td>\n",
              "      <td>komuaywn</td>\n",
              "    </tr>\n",
              "    <tr>\n",
              "      <th>2</th>\n",
              "      <td>eylqgodm</td>\n",
              "      <td>ybqkwiam</td>\n",
              "    </tr>\n",
              "    <tr>\n",
              "      <th>3</th>\n",
              "      <td>xbkucsvz</td>\n",
              "      <td>gcpydteq</td>\n",
              "    </tr>\n",
              "    <tr>\n",
              "      <th>4</th>\n",
              "      <td>owlgqjme</td>\n",
              "      <td>qhcozdfx</td>\n",
              "    </tr>\n",
              "    <tr>\n",
              "      <th>...</th>\n",
              "      <td>...</td>\n",
              "      <td>...</td>\n",
              "    </tr>\n",
              "    <tr>\n",
              "      <th>8495</th>\n",
              "      <td>avglmrts</td>\n",
              "      <td>vhqmtiua</td>\n",
              "    </tr>\n",
              "    <tr>\n",
              "      <th>8496</th>\n",
              "      <td>rbozivdq</td>\n",
              "      <td>gmlhrtvp</td>\n",
              "    </tr>\n",
              "    <tr>\n",
              "      <th>8497</th>\n",
              "      <td>oybwdsgx</td>\n",
              "      <td>oxyhwrfz</td>\n",
              "    </tr>\n",
              "    <tr>\n",
              "      <th>8498</th>\n",
              "      <td>ufawcgob</td>\n",
              "      <td>aowhxjky</td>\n",
              "    </tr>\n",
              "    <tr>\n",
              "      <th>8499</th>\n",
              "      <td>kqvbrspl</td>\n",
              "      <td>jyzoklfx</td>\n",
              "    </tr>\n",
              "  </tbody>\n",
              "</table>\n",
              "<p>8500 rows × 2 columns</p>\n",
              "</div>"
            ],
            "text/plain": [
              "             0         1\n",
              "0     spxjnwir  pjlcoqds\n",
              "1     hmjdrvpb  komuaywn\n",
              "2     eylqgodm  ybqkwiam\n",
              "3     xbkucsvz  gcpydteq\n",
              "4     owlgqjme  qhcozdfx\n",
              "...        ...       ...\n",
              "8495  avglmrts  vhqmtiua\n",
              "8496  rbozivdq  gmlhrtvp\n",
              "8497  oybwdsgx  oxyhwrfz\n",
              "8498  ufawcgob  aowhxjky\n",
              "8499  kqvbrspl  jyzoklfx\n",
              "\n",
              "[8500 rows x 2 columns]"
            ]
          },
          "metadata": {},
          "execution_count": 65
        }
      ]
    },
    {
      "cell_type": "code",
      "metadata": {
        "colab": {
          "base_uri": "https://localhost:8080/",
          "height": 397
        },
        "id": "MZwqBA5lcatC",
        "outputId": "c50ab579-9f9e-4978-e082-79d47d0a6939"
      },
      "source": [
        "ata_data.head()"
      ],
      "execution_count": 66,
      "outputs": [
        {
          "output_type": "execute_result",
          "data": {
            "text/html": [
              "<div>\n",
              "<style scoped>\n",
              "    .dataframe tbody tr th:only-of-type {\n",
              "        vertical-align: middle;\n",
              "    }\n",
              "\n",
              "    .dataframe tbody tr th {\n",
              "        vertical-align: top;\n",
              "    }\n",
              "\n",
              "    .dataframe thead th {\n",
              "        text-align: right;\n",
              "    }\n",
              "</style>\n",
              "<table border=\"1\" class=\"dataframe\">\n",
              "  <thead>\n",
              "    <tr style=\"text-align: right;\">\n",
              "      <th></th>\n",
              "      <th>Short description</th>\n",
              "      <th>Description</th>\n",
              "      <th>Caller</th>\n",
              "      <th>Assignment group</th>\n",
              "      <th>short_desc_analysis</th>\n",
              "      <th>desc_analysis</th>\n",
              "      <th>mail_received_from</th>\n",
              "      <th>mail_subject_mentioned</th>\n",
              "    </tr>\n",
              "  </thead>\n",
              "  <tbody>\n",
              "    <tr>\n",
              "      <th>0</th>\n",
              "      <td>login issue</td>\n",
              "      <td>-verified user details.(employee# &amp; manager name)\\r\\n-checked the user name in ad and reset the password.\\r\\n-advised the user to login and check.\\r\\n-caller confirmed that he was able to login.\\r\\n-issue resolved.</td>\n",
              "      <td>spxjnwir pjlcoqds</td>\n",
              "      <td>GRP_0</td>\n",
              "      <td>login issue</td>\n",
              "      <td>-verified user details.(employee# &amp; -checked the user name in ad and reset the password. -advised the user to login and check. -caller confirmed that he was able to login. -issue resolved.</td>\n",
              "      <td>No Match</td>\n",
              "      <td>No Match</td>\n",
              "    </tr>\n",
              "    <tr>\n",
              "      <th>1</th>\n",
              "      <td>outlook</td>\n",
              "      <td>\\r\\n\\r\\nreceived from: hmjdrvpb.komuaywn@gmail.com\\r\\n\\r\\nhello team,\\r\\n\\r\\nmy meetings/skype meetings etc are not appearing in my outlook calendar, can somebody please advise how to correct this?\\r\\n\\r\\nkind</td>\n",
              "      <td>hmjdrvpb komuaywn</td>\n",
              "      <td>GRP_0</td>\n",
              "      <td>outlook</td>\n",
              "      <td>my meetings/skype meetings etc are not appearing in my outlook calendar, can somebody please advise how to correct t?</td>\n",
              "      <td>hmjdrvpb.komuaywn@gmail.com</td>\n",
              "      <td>No Match</td>\n",
              "    </tr>\n",
              "    <tr>\n",
              "      <th>2</th>\n",
              "      <td>cant log in to vpn</td>\n",
              "      <td>\\r\\n\\r\\nreceived from: eylqgodm.ybqkwiam@gmail.com\\r\\n\\r\\nhi\\r\\n\\r\\ni cannot log on to vpn\\r\\n\\r\\nbest</td>\n",
              "      <td>eylqgodm ybqkwiam</td>\n",
              "      <td>GRP_0</td>\n",
              "      <td>cannot log in to vpn</td>\n",
              "      <td>i cannot log on to vpn</td>\n",
              "      <td>eylqgodm.ybqkwiam@gmail.com</td>\n",
              "      <td>No Match</td>\n",
              "    </tr>\n",
              "    <tr>\n",
              "      <th>3</th>\n",
              "      <td>unable to access hr_tool page</td>\n",
              "      <td>unable to access hr_tool page</td>\n",
              "      <td>xbkucsvz gcpydteq</td>\n",
              "      <td>GRP_0</td>\n",
              "      <td>unable to access hr_tool page</td>\n",
              "      <td>unable to access hr_tool page</td>\n",
              "      <td>No Match</td>\n",
              "      <td>No Match</td>\n",
              "    </tr>\n",
              "    <tr>\n",
              "      <th>4</th>\n",
              "      <td>skype error</td>\n",
              "      <td>skype error</td>\n",
              "      <td>owlgqjme qhcozdfx</td>\n",
              "      <td>GRP_0</td>\n",
              "      <td>skype error</td>\n",
              "      <td>skype error</td>\n",
              "      <td>No Match</td>\n",
              "      <td>No Match</td>\n",
              "    </tr>\n",
              "  </tbody>\n",
              "</table>\n",
              "</div>"
            ],
            "text/plain": [
              "               Short description  ... mail_subject_mentioned\n",
              "0                    login issue  ...               No Match\n",
              "1                        outlook  ...               No Match\n",
              "2             cant log in to vpn  ...               No Match\n",
              "3  unable to access hr_tool page  ...               No Match\n",
              "4                   skype error   ...               No Match\n",
              "\n",
              "[5 rows x 8 columns]"
            ]
          },
          "metadata": {},
          "execution_count": 66
        }
      ]
    },
    {
      "cell_type": "code",
      "metadata": {
        "colab": {
          "base_uri": "https://localhost:8080/",
          "height": 362
        },
        "id": "gHBjNBzyi7yO",
        "outputId": "62d68098-ca66-4bcc-99d3-3969f31e6aee"
      },
      "source": [
        "ata_data.tail()"
      ],
      "execution_count": 67,
      "outputs": [
        {
          "output_type": "execute_result",
          "data": {
            "text/html": [
              "<div>\n",
              "<style scoped>\n",
              "    .dataframe tbody tr th:only-of-type {\n",
              "        vertical-align: middle;\n",
              "    }\n",
              "\n",
              "    .dataframe tbody tr th {\n",
              "        vertical-align: top;\n",
              "    }\n",
              "\n",
              "    .dataframe thead th {\n",
              "        text-align: right;\n",
              "    }\n",
              "</style>\n",
              "<table border=\"1\" class=\"dataframe\">\n",
              "  <thead>\n",
              "    <tr style=\"text-align: right;\">\n",
              "      <th></th>\n",
              "      <th>Short description</th>\n",
              "      <th>Description</th>\n",
              "      <th>Caller</th>\n",
              "      <th>Assignment group</th>\n",
              "      <th>short_desc_analysis</th>\n",
              "      <th>desc_analysis</th>\n",
              "      <th>mail_received_from</th>\n",
              "      <th>mail_subject_mentioned</th>\n",
              "    </tr>\n",
              "  </thead>\n",
              "  <tbody>\n",
              "    <tr>\n",
              "      <th>8495</th>\n",
              "      <td>emails not coming in from zz mail</td>\n",
              "      <td>\\r\\n\\r\\nreceived from: avglmrts.vhqmtiua@gmail.com\\r\\n\\r\\ngood afternoon,\\r\\ni am not receiving the emails that i sent from zz mail.\\r\\nplease advise\\r\\n\\r\\n</td>\n",
              "      <td>avglmrts vhqmtiua</td>\n",
              "      <td>GRP_29</td>\n",
              "      <td>emails not coming in from zz mail</td>\n",
              "      <td>i am not receiving the emails that i sent from zz mail. please advise</td>\n",
              "      <td>avglmrts.vhqmtiua@gmail.com</td>\n",
              "      <td>No Match</td>\n",
              "    </tr>\n",
              "    <tr>\n",
              "      <th>8496</th>\n",
              "      <td>telephony_software issue</td>\n",
              "      <td>telephony_software issue</td>\n",
              "      <td>rbozivdq gmlhrtvp</td>\n",
              "      <td>GRP_0</td>\n",
              "      <td>telephony_software issue</td>\n",
              "      <td>telephony_software issue</td>\n",
              "      <td>No Match</td>\n",
              "      <td>No Match</td>\n",
              "    </tr>\n",
              "    <tr>\n",
              "      <th>8497</th>\n",
              "      <td>vip2: windows password reset for tifpdchb pedxruyf</td>\n",
              "      <td>vip2: windows password reset for tifpdchb pedxruyf</td>\n",
              "      <td>oybwdsgx oxyhwrfz</td>\n",
              "      <td>GRP_0</td>\n",
              "      <td>vip: windows password reset for tifpdchb pedxruyf</td>\n",
              "      <td>vip: windows password reset for tifpdchb pedxruyf</td>\n",
              "      <td>No Match</td>\n",
              "      <td>No Match</td>\n",
              "    </tr>\n",
              "    <tr>\n",
              "      <th>8498</th>\n",
              "      <td>machine nÃ£o estÃ¡ funcionando</td>\n",
              "      <td>i am unable to access the machine utilities to finish the drawers adjustment settings.\\r\\nis no network..</td>\n",
              "      <td>ufawcgob aowhxjky</td>\n",
              "      <td>GRP_62</td>\n",
              "      <td>mace não está funcionando</td>\n",
              "      <td>i am unable to access the mace utilities to finish the drawers adjustment settings. is no network..</td>\n",
              "      <td>No Match</td>\n",
              "      <td>No Match</td>\n",
              "    </tr>\n",
              "    <tr>\n",
              "      <th>8499</th>\n",
              "      <td>an mehreren pc`s lassen sich verschiedene prgramdntyme nicht Ã¶ffnen.</td>\n",
              "      <td>an mehreren pc`s lassen sich verschiedene prgramdntyme nicht Ã¶ffnen. bereich cnc.</td>\n",
              "      <td>kqvbrspl jyzoklfx</td>\n",
              "      <td>GRP_49</td>\n",
              "      <td>an mehreren pc`s lassen sich verscdene prgramdntyme nicht öffnen.</td>\n",
              "      <td>an mehreren pc`s lassen sich verscdene prgramdntyme nicht öffnen. bereich cnc.</td>\n",
              "      <td>No Match</td>\n",
              "      <td>No Match</td>\n",
              "    </tr>\n",
              "  </tbody>\n",
              "</table>\n",
              "</div>"
            ],
            "text/plain": [
              "                                                           Short description  ... mail_subject_mentioned\n",
              "8495                                       emails not coming in from zz mail  ...               No Match\n",
              "8496                                                telephony_software issue  ...               No Match\n",
              "8497                      vip2: windows password reset for tifpdchb pedxruyf  ...               No Match\n",
              "8498                                          machine nÃ£o estÃ¡ funcionando  ...               No Match\n",
              "8499  an mehreren pc`s lassen sich verschiedene prgramdntyme nicht Ã¶ffnen.   ...               No Match\n",
              "\n",
              "[5 rows x 8 columns]"
            ]
          },
          "metadata": {},
          "execution_count": 67
        }
      ]
    },
    {
      "cell_type": "code",
      "metadata": {
        "id": "Es3w32W0N9he",
        "colab": {
          "base_uri": "https://localhost:8080/"
        },
        "outputId": "59ee97dc-3cc9-49d6-dadf-a078504e3127"
      },
      "source": [
        "ata_data[ata_data['mail_received_from']!='No Match']['mail_received_from'].value_counts()"
      ],
      "execution_count": 68,
      "outputs": [
        {
          "output_type": "execute_result",
          "data": {
            "text/plain": [
              "monitoring_tool@company.com       961\n",
              "rxoynvgi.ntgdsehl@gmail.com        14\n",
              "gjtyswkb.dpvaymxr@gmail.com        11\n",
              "vkzwafuh.tcjnuswg@gmail.com        10\n",
              "zuxcfonv.nyhpkrbe@gmail.com         9\n",
              "                                 ... \n",
              "rohjghit.kumghtwar@company.com      1\n",
              "tgafnyzb.hnevrcuj@gmail.com         1\n",
              "urpbyoke.vwcbhmds@gmail.com         1\n",
              "hjokrfpv.fhpaxsqc@gmail.com         1\n",
              "jokgacwd.hdfcwust@gmail.com         1\n",
              "Name: mail_received_from, Length: 711, dtype: int64"
            ]
          },
          "metadata": {},
          "execution_count": 68
        }
      ]
    },
    {
      "cell_type": "code",
      "metadata": {
        "colab": {
          "base_uri": "https://localhost:8080/",
          "height": 1000
        },
        "id": "WTC9qF0q9TLC",
        "outputId": "92105cc2-a2b7-47dc-f1dd-1938dbedf05b"
      },
      "source": [
        "ata_data[ata_data['mail_subject_mentioned']!='No Match']"
      ],
      "execution_count": 69,
      "outputs": [
        {
          "output_type": "execute_result",
          "data": {
            "text/html": [
              "<div>\n",
              "<style scoped>\n",
              "    .dataframe tbody tr th:only-of-type {\n",
              "        vertical-align: middle;\n",
              "    }\n",
              "\n",
              "    .dataframe tbody tr th {\n",
              "        vertical-align: top;\n",
              "    }\n",
              "\n",
              "    .dataframe thead th {\n",
              "        text-align: right;\n",
              "    }\n",
              "</style>\n",
              "<table border=\"1\" class=\"dataframe\">\n",
              "  <thead>\n",
              "    <tr style=\"text-align: right;\">\n",
              "      <th></th>\n",
              "      <th>Short description</th>\n",
              "      <th>Description</th>\n",
              "      <th>Caller</th>\n",
              "      <th>Assignment group</th>\n",
              "      <th>short_desc_analysis</th>\n",
              "      <th>desc_analysis</th>\n",
              "      <th>mail_received_from</th>\n",
              "      <th>mail_subject_mentioned</th>\n",
              "    </tr>\n",
              "  </thead>\n",
              "  <tbody>\n",
              "    <tr>\n",
              "      <th>100</th>\n",
              "      <td>re: ess portal access issue</td>\n",
              "      <td>\\n\\nreceived from: noscwdpm.akiowsmp@gmail.com\\n\\nhello,\\n\\nhe is an kiosk user.  please reset the password and confirm.\\n\\n\\nnoscwdpm akiowsmp\\nnoscwdpm.akiowsmp@gmail.com\\n\\nfrom: ihkolepb ozhnjyef\\nsent: 29 october 2016 13:38\\nto: company@ticketing_tool.com\\nsubject: ess portal access issue\\n\\nhi,\\n\\nbelow mentioned employee krlszbqo spimolgz with user id sv123 is not able to login to ess portal to access his pay slips and related contents. he is a attendance_tool user. please reset his user id and password and revert back.\\n\\n</td>\n",
              "      <td>noscwdpm akiowsmp</td>\n",
              "      <td>GRP_0</td>\n",
              "      <td>re: ess portal access issue</td>\n",
              "      <td>he is an kiosk user.  please reset the password and confirm.   noscwdpm akiowsmp      below mentioned employee krlszbqo spimolgz with user id sv is not able to login to ess portal to access his pay slips and related contents. he is a attendance_tool user. please reset his user id and password and revert back.</td>\n",
              "      <td>noscwdpm.akiowsmp@gmail.com</td>\n",
              "      <td>ess portal access issue</td>\n",
              "    </tr>\n",
              "    <tr>\n",
              "      <th>124</th>\n",
              "      <td>mobile device activation</td>\n",
              "      <td>from: tvcdfqgp nrbcqwgj \\nsent: friday, october 28, 2016 3:13 pm\\nto: nwfodmhc exurcwkm\\nsubject:  se ha bloqueado en forma temporal la sincronizaciÃ³n de su dispositivo mÃ³vil mediante exchange activesync hasta que su administrador autorice el acceso.\\n\\nhi\\n\\ni received this message and our local it expert has told me to open a ticket.\\n\\n</td>\n",
              "      <td>tvcdfqgp nrbcqwgj</td>\n",
              "      <td>GRP_0</td>\n",
              "      <td>mobile device activation</td>\n",
              "      <td>i received this message and our local it expert has told me to open a ticket.</td>\n",
              "      <td>No Match</td>\n",
              "      <td>se ha bloqueado en forma temporal la sincronización de su dispositivo móvil mediante exchange activesync hasta que su administrador autorice el acceso.</td>\n",
              "    </tr>\n",
              "    <tr>\n",
              "      <th>180</th>\n",
              "      <td>crm license for user dfgry</td>\n",
              "      <td>from: xdvwitpm zscxqdhoalaramdntyan \\nsent: friday, october 28, 2016 9:40 am\\nto: 'help@company.com'\\ncc: xyculgav cuqptoah\\nsubject: fw: crm license for dfgry\\n\\nhello,\\n\\ncrm is not installed in my laptop.\\n\\nplease support me on this.\\n\\n</td>\n",
              "      <td>xdvwitpm zscxqdho</td>\n",
              "      <td>GRP_19</td>\n",
              "      <td>crm license for user dfgry</td>\n",
              "      <td>crm is not installed in my laptop.  please support me on t.</td>\n",
              "      <td>No Match</td>\n",
              "      <td>fw: crm license for dfgry</td>\n",
              "    </tr>\n",
              "    <tr>\n",
              "      <th>186</th>\n",
              "      <td>é’å²›å…´åˆæœºç”µshipment notificationé‚®ç®±è®¾ç½®</td>\n",
              "      <td>from:  \\nsent: friday, october 28, 2016 7:20 am\\nto: nwfodmhc exurcwkm\\nsubject: re: é’å²›å…´åˆæœºç”µshipment notificationé‚®ç®±è®¾ç½®\\n\\ndearï¼Œ\\npls help to update customer 4563729890 shipment notification email address :  abcdegy@gmail.com \\n\\n\\nb.</td>\n",
              "      <td>yafxlpwi lhxvatkb</td>\n",
              "      <td>GRP_18</td>\n",
              "      <td>青岛兴合机电sment notification邮箱设置</td>\n",
              "      <td>help to update customer  sment notification email address :      b.</td>\n",
              "      <td>No Match</td>\n",
              "      <td>re: 青岛兴合机电shipment notification邮箱设置</td>\n",
              "    </tr>\n",
              "    <tr>\n",
              "      <th>218</th>\n",
              "      <td>export shipment of grinding mahcine to khdgd1234, apac - advance information</td>\n",
              "      <td>\\n\\nreceived from: rdfjsawg.zpmxgdcw@gmail.com\\n\\nfrom: hdytrkfiu\\nsent: thursday, october 27, 2016 4:46 pm\\nto: &lt;rfqhoaky.rncspbot@gmail.com&gt;; &lt;ikxjfnml.kaocbpfr@gmail.com&gt;; &lt;rdfjsawg.zpmxgdcw@gmail.com&gt;\\ncc:  &lt;tshljagr.mhyiopxr@gmail.com&gt;; &lt;zgmdster.bdvcealj@gmail.com&gt;; xjzcbgnp vfkwscao &lt;xjzcbgnp.vfkwscao@gmail.com&gt;; &lt;avurmegj.pxgmjynu@gmail.com&gt;\\nsubject: export shipment of grinding mahcine to khdgd1234, apac - advance information\\n\\nwe are pushixepyfbga wtqdyoin for dispatching an grinding machine to khdgd1234, apac tomorrow.    this is just for your advance information.   once everything is in place, we will seek your support in your areas to help us in clearing this consignment tomorrow 28.10.16.</td>\n",
              "      <td>rdfjsawg zpmxgdcw</td>\n",
              "      <td>GRP_0</td>\n",
              "      <td>export sment of grinding mahcine to khdgd, apac - advance information</td>\n",
              "      <td>we are pusepyfbga wtqdyoin for dispatching an grinding machine to khdgd, apac tomorrow.    this is just for your advance information.   once everything is in place, we will seek your support in your areas to help us in clearing this consignment tomorrow ...</td>\n",
              "      <td>rdfjsawg.zpmxgdcw@gmail.com</td>\n",
              "      <td>export shipment of grinding mahcine to khdgd1234, apac - advance information</td>\n",
              "    </tr>\n",
              "    <tr>\n",
              "      <th>...</th>\n",
              "      <td>...</td>\n",
              "      <td>...</td>\n",
              "      <td>...</td>\n",
              "      <td>...</td>\n",
              "      <td>...</td>\n",
              "      <td>...</td>\n",
              "      <td>...</td>\n",
              "      <td>...</td>\n",
              "    </tr>\n",
              "    <tr>\n",
              "      <th>8467</th>\n",
              "      <td>hi it help team,  please unblock my new company device.</td>\n",
              "      <td>from: ntydihzo aeptfbgs \\r\\nsent: friday, august 05, 2016 2:51 am\\r\\nto: nwfodmhc exurcwkm\\r\\nsubject: wg: die synchronisierung mit exchange activesync ist auf ihrem gerÃ¤t vorÃ¼bergehend blockiert, bis der zugriff vom administrator gewÃ¤hrt wird.\\r\\nimportance: high\\r\\n\\r\\nhi it help team,\\r\\n\\r\\nplease unblock my new company device.\\r\\n\\r\\n</td>\n",
              "      <td>ntydihzo aeptfbgs</td>\n",
              "      <td>GRP_0</td>\n",
              "      <td>please unblock my new company device.</td>\n",
              "      <td>please unblock my new company device.</td>\n",
              "      <td>No Match</td>\n",
              "      <td>wg: die synchronisierung mit exchange activesync ist auf ihrem gerät vorübergehend blockiert, bis der zugriff vom administrator gewährt wird.</td>\n",
              "    </tr>\n",
              "    <tr>\n",
              "      <th>8468</th>\n",
              "      <td>can you unblock my account so i can use outlook app?</td>\n",
              "      <td>from: nwfodmhc exurcwkm \\nsent: friday, august 05, 2016 6:32 am\\nto: prishry budhtya\\nsubject: re: rak re: your mobile device has been denied access to the server via exchange activesync because of server policies.\\n\\ndear prishry,\\n\\n</td>\n",
              "      <td>eqzibjhw ymebpoih</td>\n",
              "      <td>GRP_0</td>\n",
              "      <td>can you unblock my account so i can use outlook app?</td>\n",
              "      <td>prishry,</td>\n",
              "      <td>No Match</td>\n",
              "      <td>re: rak re: your mobile device has been denied access to the server via exchange activesync because of server policies.</td>\n",
              "    </tr>\n",
              "    <tr>\n",
              "      <th>8470</th>\n",
              "      <td>please review your recent ticketing_tool tickets and let me know who modified the ethics collaboration_platform site</td>\n",
              "      <td>from: mikhghytr wafglhdrhjop \\nsent: thursday, august 04, 2016 8:50 pm\\nto: nwfodmhc exurcwkm\\nsubject: rak fw: ethics collaboration_platform site\\n\\nplease review your recent ticketing_tool tickets and let me know who modified the ethics collaboration_platform site.  a few weeks ago i had requested a change that placed a third column of selections.  not sure who or why this was undone.\\n\\nmikhghytr wafglhdrhjop\\nsr. manager, global ethics and compliance programdntys\\nfrom: kzbuhixt zjdmoahr \\nsent: thursday, august 04, 2016 11:16 am\\nto: mikhghytr wafglhdrhjop &lt;azxhejvq.fyemlavd@gmail.com&gt;\\nsubject: re: ethics collaboration_platform site\\n\\nohâ€¦â€¦??\\n\\nsethdyr hdtyr\\nassistant general counsel â€“ compliance and real estate\\nglobal director of ethics &amp; compliance; ccep\\nkzbuhixt.zjdmoahr@gmail.com \\n</td>\n",
              "      <td>azxhejvq fyemlavd</td>\n",
              "      <td>GRP_16</td>\n",
              "      <td>please review your recent ticketing_tool tickets and let me know who modified the ets collaboration_platform site</td>\n",
              "      <td>please review your recent ticketing_tool tickets and let me know who modified the ets collaboration_platform site.  a few weeks ago i had requested a change that placed a third column of selections.  not sure who or why this was undone.  mikhghytr wafglhdrhjop sr.  oh……??  sethdyr hdtyr assistant general counsel – compliance and real estate global director of ets &amp; compliance; ccep</td>\n",
              "      <td>No Match</td>\n",
              "      <td>rak fw: ethics collaboration_platform site</td>\n",
              "    </tr>\n",
              "    <tr>\n",
              "      <th>8472</th>\n",
              "      <td>ticket update</td>\n",
              "      <td>from: rakthyesh ramdntythanjesh \\r\\nsent: friday, august 05, 2016 5:26 am\\r\\nto: ugyothfz ugrmkdhx\\r\\ncc: mikhghytr rhoades\\r\\nsubject: ticket_no1535917-no acces to paystub and etime.\\r\\n\\r\\ngood morning safrgyynjit,\\r\\n\\r\\nuser called to service desk and requested to expedite the case, requesting you to own the issue on priority and assist user on same.\\r\\n\\r\\n\\r\\n\\r\\nkind</td>\n",
              "      <td>eqzibjhw ymebpoih</td>\n",
              "      <td>GRP_0</td>\n",
              "      <td>ticket update</td>\n",
              "      <td>safrgyynjit,  user called to service desk and requested to expedite the case, requesting you to own the issue on priority and assist user on same.</td>\n",
              "      <td>No Match</td>\n",
              "      <td>ticket_no1535917-no acces to paystub and etime.</td>\n",
              "    </tr>\n",
              "    <tr>\n",
              "      <th>8483</th>\n",
              "      <td>fw: case id [ref:_case-111121032:ref] :: others</td>\n",
              "      <td>from: pacvbetl yptglhoe \\r\\nsent: thursday, august 04, 2016 10:59 pm\\r\\nto: nwfodmhc exurcwkm\\r\\nsubject: amar fw: case id [ref:_case-111121032:ref] :: others\\r\\n\\r\\nplease see the forwarded email below.   this looks suspicious to me and may be some sort of phishing or spamming email.  please review it and let me know if it looks legitimate and is from legitimate individuals at company.  i did not open or view any of the attachments.  \\r\\n\\r\\ni have no idea why accounts payable would be sending me an email.\\r\\n\\r\\nbest</td>\n",
              "      <td>pacvbetl yptglhoe</td>\n",
              "      <td>GRP_0</td>\n",
              "      <td>fw: case id [ref:_case-:ref] :: others</td>\n",
              "      <td>please see the forwarded email below.   t looks suspicious to me and may be some sort of phing or spamming email.  please review it and let me know if it looks legitimate and is from legitimate individuals at company.  i did not open or view any of the attachments.    i have no idea why accounts payable would be sending me an email.</td>\n",
              "      <td>No Match</td>\n",
              "      <td>amar fw: case id [ref:_case-111121032:ref] :: others</td>\n",
              "    </tr>\n",
              "  </tbody>\n",
              "</table>\n",
              "<p>213 rows × 8 columns</p>\n",
              "</div>"
            ],
            "text/plain": [
              "                                                                                                         Short description  ...                                                                                                                                   mail_subject_mentioned\n",
              "100                                                                                            re: ess portal access issue  ...                                                                                                                                  ess portal access issue\n",
              "124                                                                                               mobile device activation  ...  se ha bloqueado en forma temporal la sincronización de su dispositivo móvil mediante exchange activesync hasta que su administrador autorice el acceso.\n",
              "180                                                                                             crm license for user dfgry  ...                                                                                                                                fw: crm license for dfgry\n",
              "186                                                                    é’å²›å…´åˆæœºç”µshipment notificationé‚®ç®±è®¾ç½®  ...                                                                                                                      re: 青岛兴合机电shipment notification邮箱设置\n",
              "218                                           export shipment of grinding mahcine to khdgd1234, apac - advance information  ...                                                                             export shipment of grinding mahcine to khdgd1234, apac - advance information\n",
              "...                                                                                                                    ...  ...                                                                                                                                                      ...\n",
              "8467                                                               hi it help team,  please unblock my new company device.  ...            wg: die synchronisierung mit exchange activesync ist auf ihrem gerät vorübergehend blockiert, bis der zugriff vom administrator gewährt wird.\n",
              "8468                                                                  can you unblock my account so i can use outlook app?  ...                                  re: rak re: your mobile device has been denied access to the server via exchange activesync because of server policies.\n",
              "8470  please review your recent ticketing_tool tickets and let me know who modified the ethics collaboration_platform site  ...                                                                                                               rak fw: ethics collaboration_platform site\n",
              "8472                                                                                                         ticket update  ...                                                                                                          ticket_no1535917-no acces to paystub and etime.\n",
              "8483                                                                       fw: case id [ref:_case-111121032:ref] :: others  ...                                                                                                     amar fw: case id [ref:_case-111121032:ref] :: others\n",
              "\n",
              "[213 rows x 8 columns]"
            ]
          },
          "metadata": {},
          "execution_count": 69
        }
      ]
    },
    {
      "cell_type": "code",
      "metadata": {
        "id": "pjaJEmh9ssql"
      },
      "source": [
        "ata_data.to_excel(\"intermediate_file.xlsx\")"
      ],
      "execution_count": 70,
      "outputs": []
    },
    {
      "cell_type": "code",
      "metadata": {
        "colab": {
          "base_uri": "https://localhost:8080/",
          "height": 185
        },
        "id": "1eAxWH4-sstZ",
        "outputId": "33cf4945-d359-43b6-be8f-cec8dbfc2d30"
      },
      "source": [
        "ata_data[ata_data['Short description']=='unable to down load ethics module ']"
      ],
      "execution_count": 71,
      "outputs": [
        {
          "output_type": "execute_result",
          "data": {
            "text/html": [
              "<div>\n",
              "<style scoped>\n",
              "    .dataframe tbody tr th:only-of-type {\n",
              "        vertical-align: middle;\n",
              "    }\n",
              "\n",
              "    .dataframe tbody tr th {\n",
              "        vertical-align: top;\n",
              "    }\n",
              "\n",
              "    .dataframe thead th {\n",
              "        text-align: right;\n",
              "    }\n",
              "</style>\n",
              "<table border=\"1\" class=\"dataframe\">\n",
              "  <thead>\n",
              "    <tr style=\"text-align: right;\">\n",
              "      <th></th>\n",
              "      <th>Short description</th>\n",
              "      <th>Description</th>\n",
              "      <th>Caller</th>\n",
              "      <th>Assignment group</th>\n",
              "      <th>short_desc_analysis</th>\n",
              "      <th>desc_analysis</th>\n",
              "      <th>mail_received_from</th>\n",
              "      <th>mail_subject_mentioned</th>\n",
              "    </tr>\n",
              "  </thead>\n",
              "  <tbody>\n",
              "    <tr>\n",
              "      <th>281</th>\n",
              "      <td>unable to down load ethics module</td>\n",
              "      <td>from: brdhdd dhwduw\\nsent: thursday, october 27, 2016 6:12 am\\nto: nwfodmhc exurcwkm\\nsubject::fwd: unable to down load ethics module \\n\\n\\nbegin forwarded message:\\nfrom:  &lt;dqwhpjxy.pozjxbey@gmail.com&gt;\\nto:  &lt;zanivrec.capbfhur@gmail.com&gt;\\nsubject: unable to down load ethics module \\nhi  â€“ trust doing well . i am unable to down load &amp; getting below msg. i did reset resolution however still same issue persist.\\n \\nplease help.\\n \\n \\n \\n \\n \\ndirector of sales \\ncompany indirect channels  - asia \\n&amp; \\ndqwhpjxy.pozjxbey@gmail.com \\n\\n \\n \\n \\n \\n\\n\\n</td>\n",
              "      <td>dqwhpjxy pozjxbey</td>\n",
              "      <td>GRP_0</td>\n",
              "      <td>unable to down load ets module</td>\n",
              "      <td>– trust doing well . i am unable to down load &amp; getting below msg. i did reset resolution however still same issue persist.   please help.           director of sales  company indirect channels  - asia  &amp;</td>\n",
              "      <td>No Match</td>\n",
              "      <td>:fwd: unable to down load ethics module</td>\n",
              "    </tr>\n",
              "  </tbody>\n",
              "</table>\n",
              "</div>"
            ],
            "text/plain": [
              "                      Short description  ...                   mail_subject_mentioned\n",
              "281  unable to down load ethics module   ...  :fwd: unable to down load ethics module\n",
              "\n",
              "[1 rows x 8 columns]"
            ]
          },
          "metadata": {},
          "execution_count": 71
        }
      ]
    },
    {
      "cell_type": "code",
      "metadata": {
        "colab": {
          "base_uri": "https://localhost:8080/",
          "height": 115
        },
        "id": "ieIow6NCsswM",
        "outputId": "95b09e3f-ac06-4575-8480-9207ed5f24e1"
      },
      "source": [
        "ata_data[ata_data['Short description']=='no login options in erp']"
      ],
      "execution_count": 72,
      "outputs": [
        {
          "output_type": "execute_result",
          "data": {
            "text/html": [
              "<div>\n",
              "<style scoped>\n",
              "    .dataframe tbody tr th:only-of-type {\n",
              "        vertical-align: middle;\n",
              "    }\n",
              "\n",
              "    .dataframe tbody tr th {\n",
              "        vertical-align: top;\n",
              "    }\n",
              "\n",
              "    .dataframe thead th {\n",
              "        text-align: right;\n",
              "    }\n",
              "</style>\n",
              "<table border=\"1\" class=\"dataframe\">\n",
              "  <thead>\n",
              "    <tr style=\"text-align: right;\">\n",
              "      <th></th>\n",
              "      <th>Short description</th>\n",
              "      <th>Description</th>\n",
              "      <th>Caller</th>\n",
              "      <th>Assignment group</th>\n",
              "      <th>short_desc_analysis</th>\n",
              "      <th>desc_analysis</th>\n",
              "      <th>mail_received_from</th>\n",
              "      <th>mail_subject_mentioned</th>\n",
              "    </tr>\n",
              "  </thead>\n",
              "  <tbody>\n",
              "    <tr>\n",
              "      <th>2143</th>\n",
              "      <td>no login options in erp</td>\n",
              "      <td>after netweaver installing it is not possible to log in to erp 740. \\nuser name: nagdyiyst</td>\n",
              "      <td>krdvgzeh yboasemp</td>\n",
              "      <td>GRP_0</td>\n",
              "      <td>no login options in erp</td>\n",
              "      <td>after netweaver installing it is not possible to log in to erp .  user name: nagdyiyst</td>\n",
              "      <td>No Match</td>\n",
              "      <td>No Match</td>\n",
              "    </tr>\n",
              "  </tbody>\n",
              "</table>\n",
              "</div>"
            ],
            "text/plain": [
              "            Short description  ... mail_subject_mentioned\n",
              "2143  no login options in erp  ...               No Match\n",
              "\n",
              "[1 rows x 8 columns]"
            ]
          },
          "metadata": {},
          "execution_count": 72
        }
      ]
    },
    {
      "cell_type": "code",
      "source": [
        "ata_data['Assignment group'].value_counts()"
      ],
      "metadata": {
        "colab": {
          "base_uri": "https://localhost:8080/"
        },
        "id": "EIP_C7_Eyl5F",
        "outputId": "6a9935dc-7d37-4ba8-f913-52e845e575a6"
      },
      "execution_count": 73,
      "outputs": [
        {
          "output_type": "execute_result",
          "data": {
            "text/plain": [
              "GRP_0     3976\n",
              "GRP_8      661\n",
              "GRP_24     289\n",
              "GRP_12     257\n",
              "GRP_9      252\n",
              "          ... \n",
              "GRP_70       1\n",
              "GRP_35       1\n",
              "GRP_64       1\n",
              "GRP_67       1\n",
              "GRP_73       1\n",
              "Name: Assignment group, Length: 74, dtype: int64"
            ]
          },
          "metadata": {},
          "execution_count": 73
        }
      ]
    },
    {
      "cell_type": "code",
      "source": [
        "assignment_group_desc_order = ata_data['Assignment group'].value_counts().sort_values(ascending=False).index\n",
        "plt.figure(figsize=(50,10))\n",
        "sns.countplot(ata_data['Assignment group'], order=assignment_group_desc_order)"
      ],
      "metadata": {
        "colab": {
          "base_uri": "https://localhost:8080/",
          "height": 448
        },
        "id": "SX2yuWjMNS2y",
        "outputId": "12af4b22-0138-4537-839d-2d9ee5d64da2"
      },
      "execution_count": 138,
      "outputs": [
        {
          "output_type": "stream",
          "name": "stderr",
          "text": [
            "/usr/local/lib/python3.7/dist-packages/seaborn/_decorators.py:43: FutureWarning: Pass the following variable as a keyword arg: x. From version 0.12, the only valid positional argument will be `data`, and passing other arguments without an explicit keyword will result in an error or misinterpretation.\n",
            "  FutureWarning\n"
          ]
        },
        {
          "output_type": "execute_result",
          "data": {
            "text/plain": [
              "<matplotlib.axes._subplots.AxesSubplot at 0x7f1cb1882290>"
            ]
          },
          "metadata": {},
          "execution_count": 138
        },
        {
          "output_type": "display_data",
          "data": {
            "image/png": "[encoded data removed]",
            "text/plain": [
              "<Figure size 3600x720 with 1 Axes>"
            ]
          },
          "metadata": {
            "needs_background": "light"
          }
        }
      ]
    },
    {
      "cell_type": "code",
      "source": [
        ""
      ],
      "metadata": {
        "id": "d_gFYTXAyq3Y"
      },
      "execution_count": 73,
      "outputs": []
    },
    {
      "cell_type": "code",
      "source": [
        "stop_words = set(stopwords.words('english'))\n",
        "\n",
        "ata_data['number_of_words_short_desc'] = ata_data.short_desc_analysis.apply(lambda x: len(x.split()))\n",
        "ata_data['number_of_char_short_desc'] = ata_data.short_desc_analysis.str.len()\n",
        "ata_data['number_of_punctuations_short_desc'] = ata_data.short_desc_analysis.apply(lambda x : len([x for x in x if x in string.punctuation]))\n",
        "ata_data['number_of_stop_words_short_desc'] = ata_data.short_desc_analysis.apply(lambda x: len([x for x in str(x).split() if x in stop_words]))\n",
        "\n",
        "\n",
        "\n",
        "\n",
        "ata_data['number_of_words_desc'] = ata_data.desc_analysis.apply(lambda x: len(x.split()))\n",
        "ata_data['number_of_char_desc'] = ata_data.desc_analysis.str.len()\n",
        "ata_data['number_of_punctuations_desc'] = ata_data.desc_analysis.apply(lambda x : len([x for x in x if x in string.punctuation]))\n",
        "ata_data['number_of_stop_words_desc'] = ata_data.desc_analysis.apply(lambda x: len([x for x in str(x).split() if x in stop_words]))"
      ],
      "metadata": {
        "id": "P6VZfDeoT_oU"
      },
      "execution_count": 154,
      "outputs": []
    },
    {
      "cell_type": "code",
      "source": [
        "ata_data.head()"
      ],
      "metadata": {
        "colab": {
          "base_uri": "https://localhost:8080/",
          "height": 730
        },
        "id": "GBOHIEI5T_tb",
        "outputId": "cda58760-c84a-4572-f634-47f529db03c3"
      },
      "execution_count": 155,
      "outputs": [
        {
          "output_type": "execute_result",
          "data": {
            "text/html": [
              "<div>\n",
              "<style scoped>\n",
              "    .dataframe tbody tr th:only-of-type {\n",
              "        vertical-align: middle;\n",
              "    }\n",
              "\n",
              "    .dataframe tbody tr th {\n",
              "        vertical-align: top;\n",
              "    }\n",
              "\n",
              "    .dataframe thead th {\n",
              "        text-align: right;\n",
              "    }\n",
              "</style>\n",
              "<table border=\"1\" class=\"dataframe\">\n",
              "  <thead>\n",
              "    <tr style=\"text-align: right;\">\n",
              "      <th></th>\n",
              "      <th>Short description</th>\n",
              "      <th>Description</th>\n",
              "      <th>Caller</th>\n",
              "      <th>Assignment group</th>\n",
              "      <th>short_desc_analysis</th>\n",
              "      <th>desc_analysis</th>\n",
              "      <th>mail_received_from</th>\n",
              "      <th>mail_subject_mentioned</th>\n",
              "      <th>number_of_words_desc</th>\n",
              "      <th>number_of_words_short_desc</th>\n",
              "      <th>number_of_char_short_desc</th>\n",
              "      <th>number_of_char_desc</th>\n",
              "      <th>number_of_punctuations_short_desc</th>\n",
              "      <th>number_of_punctuations_desc</th>\n",
              "      <th>number_of_stop_words_short_desc</th>\n",
              "      <th>number_of_stop_words_desc</th>\n",
              "    </tr>\n",
              "  </thead>\n",
              "  <tbody>\n",
              "    <tr>\n",
              "      <th>0</th>\n",
              "      <td>login issue</td>\n",
              "      <td>-verified user details.(employee# &amp; manager name)\\r\\n-checked the user name in ad and reset the password.\\r\\n-advised the user to login and check.\\r\\n-caller confirmed that he was able to login.\\r\\n-issue resolved.</td>\n",
              "      <td>spxjnwir pjlcoqds</td>\n",
              "      <td>GRP_0</td>\n",
              "      <td>login issue</td>\n",
              "      <td>-verified user details.(employee# &amp; -checked the user name in ad and reset the password. -advised the user to login and check. -caller confirmed that he was able to login. -issue resolved.</td>\n",
              "      <td>No Match</td>\n",
              "      <td>No Match</td>\n",
              "      <td>31</td>\n",
              "      <td>2</td>\n",
              "      <td>11</td>\n",
              "      <td>188</td>\n",
              "      <td>0</td>\n",
              "      <td>13</td>\n",
              "      <td>0</td>\n",
              "      <td>11</td>\n",
              "    </tr>\n",
              "    <tr>\n",
              "      <th>1</th>\n",
              "      <td>outlook</td>\n",
              "      <td>\\r\\n\\r\\nreceived from: hmjdrvpb.komuaywn@gmail.com\\r\\n\\r\\nhello team,\\r\\n\\r\\nmy meetings/skype meetings etc are not appearing in my outlook calendar, can somebody please advise how to correct this?\\r\\n\\r\\nkind</td>\n",
              "      <td>hmjdrvpb komuaywn</td>\n",
              "      <td>GRP_0</td>\n",
              "      <td>outlook</td>\n",
              "      <td>my meetings/skype meetings etc are not appearing in my outlook calendar, can somebody please advise how to correct t?</td>\n",
              "      <td>hmjdrvpb.komuaywn@gmail.com</td>\n",
              "      <td>No Match</td>\n",
              "      <td>19</td>\n",
              "      <td>1</td>\n",
              "      <td>7</td>\n",
              "      <td>117</td>\n",
              "      <td>0</td>\n",
              "      <td>3</td>\n",
              "      <td>0</td>\n",
              "      <td>8</td>\n",
              "    </tr>\n",
              "    <tr>\n",
              "      <th>2</th>\n",
              "      <td>cant log in to vpn</td>\n",
              "      <td>\\r\\n\\r\\nreceived from: eylqgodm.ybqkwiam@gmail.com\\r\\n\\r\\nhi\\r\\n\\r\\ni cannot log on to vpn\\r\\n\\r\\nbest</td>\n",
              "      <td>eylqgodm ybqkwiam</td>\n",
              "      <td>GRP_0</td>\n",
              "      <td>cannot log in to vpn</td>\n",
              "      <td>i cannot log on to vpn</td>\n",
              "      <td>eylqgodm.ybqkwiam@gmail.com</td>\n",
              "      <td>No Match</td>\n",
              "      <td>6</td>\n",
              "      <td>5</td>\n",
              "      <td>20</td>\n",
              "      <td>22</td>\n",
              "      <td>0</td>\n",
              "      <td>0</td>\n",
              "      <td>2</td>\n",
              "      <td>3</td>\n",
              "    </tr>\n",
              "    <tr>\n",
              "      <th>3</th>\n",
              "      <td>unable to access hr_tool page</td>\n",
              "      <td>unable to access hr_tool page</td>\n",
              "      <td>xbkucsvz gcpydteq</td>\n",
              "      <td>GRP_0</td>\n",
              "      <td>unable to access hr_tool page</td>\n",
              "      <td>unable to access hr_tool page</td>\n",
              "      <td>No Match</td>\n",
              "      <td>No Match</td>\n",
              "      <td>5</td>\n",
              "      <td>5</td>\n",
              "      <td>29</td>\n",
              "      <td>29</td>\n",
              "      <td>1</td>\n",
              "      <td>1</td>\n",
              "      <td>1</td>\n",
              "      <td>1</td>\n",
              "    </tr>\n",
              "    <tr>\n",
              "      <th>4</th>\n",
              "      <td>skype error</td>\n",
              "      <td>skype error</td>\n",
              "      <td>owlgqjme qhcozdfx</td>\n",
              "      <td>GRP_0</td>\n",
              "      <td>skype error</td>\n",
              "      <td>skype error</td>\n",
              "      <td>No Match</td>\n",
              "      <td>No Match</td>\n",
              "      <td>2</td>\n",
              "      <td>2</td>\n",
              "      <td>11</td>\n",
              "      <td>11</td>\n",
              "      <td>0</td>\n",
              "      <td>0</td>\n",
              "      <td>0</td>\n",
              "      <td>0</td>\n",
              "    </tr>\n",
              "  </tbody>\n",
              "</table>\n",
              "</div>"
            ],
            "text/plain": [
              "               Short description  ... number_of_stop_words_desc\n",
              "0                    login issue  ...                        11\n",
              "1                        outlook  ...                         8\n",
              "2             cant log in to vpn  ...                         3\n",
              "3  unable to access hr_tool page  ...                         1\n",
              "4                   skype error   ...                         0\n",
              "\n",
              "[5 rows x 16 columns]"
            ]
          },
          "metadata": {},
          "execution_count": 155
        }
      ]
    },
    {
      "cell_type": "code",
      "source": [
        "for displot_col in ata_data.select_dtypes(include = 'number').columns:\n",
        "    sns.displot(ata_data, x = displot_col, kde=True)"
      ],
      "metadata": {
        "colab": {
          "base_uri": "https://localhost:8080/",
          "height": 1000
        },
        "id": "ssBib2QYT_1X",
        "outputId": "5aa6e11f-cd3b-471a-af59-c07934eff316"
      },
      "execution_count": 157,
      "outputs": [
        {
          "output_type": "display_data",
          "data": {
            "image/png": "[encoded data removed]",
            "text/plain": [
              "<Figure size 360x360 with 1 Axes>"
            ]
          },
          "metadata": {
            "needs_background": "light"
          }
        },
        {
          "output_type": "display_data",
          "data": {
            "image/png": "[encoded data removed]",
            "text/plain": [
              "<Figure size 360x360 with 1 Axes>"
            ]
          },
          "metadata": {
            "needs_background": "light"
          }
        },
        {
          "output_type": "display_data",
          "data": {
            "image/png": "[encoded data removed]",
            "text/plain": [
              "<Figure size 360x360 with 1 Axes>"
            ]
          },
          "metadata": {
            "needs_background": "light"
          }
        },
        {
          "output_type": "display_data",
          "data": {
            "image/png": "[encoded data removed]",
            "text/plain": [
              "<Figure size 360x360 with 1 Axes>"
            ]
          },
          "metadata": {
            "needs_background": "light"
          }
        },
        {
          "output_type": "display_data",
          "data": {
            "image/png": "[encoded data removed]",
            "text/plain": [
              "<Figure size 360x360 with 1 Axes>"
            ]
          },
          "metadata": {
            "needs_background": "light"
          }
        },
        {
          "output_type": "display_data",
          "data": {
            "image/png": "[encoded data removed]",
            "text/plain": [
              "<Figure size 360x360 with 1 Axes>"
            ]
          },
          "metadata": {
            "needs_background": "light"
          }
        },
        {
          "output_type": "display_data",
          "data": {
            "image/png": "[encoded data removed]",
            "text/plain": [
              "<Figure size 360x360 with 1 Axes>"
            ]
          },
          "metadata": {
            "needs_background": "light"
          }
        },
        {
          "output_type": "display_data",
          "data": {
            "image/png": "[encoded data removed]",
            "text/plain": [
              "<Figure size 360x360 with 1 Axes>"
            ]
          },
          "metadata": {
            "needs_background": "light"
          }
        }
      ]
    },
    {
      "cell_type": "code",
      "source": [
        ""
      ],
      "metadata": {
        "id": "s-VpQ_ZuYwak"
      },
      "execution_count": null,
      "outputs": []
    },
    {
      "cell_type": "code",
      "source": [
        ""
      ],
      "metadata": {
        "id": "I80VGFp7Ywd1"
      },
      "execution_count": null,
      "outputs": []
    },
    {
      "cell_type": "code",
      "source": [
        ""
      ],
      "metadata": {
        "id": "aphZq-3vYwg4"
      },
      "execution_count": null,
      "outputs": []
    },
    {
      "cell_type": "code",
      "source": [
        ""
      ],
      "metadata": {
        "id": "6Shxo_ONYwmS"
      },
      "execution_count": null,
      "outputs": []
    },
    {
      "cell_type": "code",
      "source": [
        ""
      ],
      "metadata": {
        "id": "YOcqP5SXYwpW"
      },
      "execution_count": null,
      "outputs": []
    },
    {
      "cell_type": "code",
      "metadata": {
        "id": "tAD2TADHH_xV",
        "colab": {
          "base_uri": "https://localhost:8080/"
        },
        "outputId": "5b96e09d-cef1-48ca-c737-18c893b8b328"
      },
      "source": [
        "ata_data['Caller'].value_counts()"
      ],
      "execution_count": 74,
      "outputs": [
        {
          "output_type": "execute_result",
          "data": {
            "text/plain": [
              "bpctwhsn kzqsbmtp    810\n",
              "ZkBogxib QsEJzdZO    151\n",
              "fumkcsji sarmtlhy    134\n",
              "rbozivdq gmlhrtvp     87\n",
              "rkupnshb gsmzfojw     71\n",
              "                    ... \n",
              "jecigpzw gqpmxwal      1\n",
              "bftsxkre tqvelzks      1\n",
              "mzdkgnvs svhkgyqb      1\n",
              "ndsyovil pymzvdqa      1\n",
              "pnacqfso ojwkmzcb      1\n",
              "Name: Caller, Length: 2950, dtype: int64"
            ]
          },
          "metadata": {},
          "execution_count": 74
        }
      ]
    },
    {
      "cell_type": "code",
      "source": [
        ""
      ],
      "metadata": {
        "id": "s5awUbnsyWoy"
      },
      "execution_count": 74,
      "outputs": []
    },
    {
      "cell_type": "code",
      "source": [
        "plt.figure(figsize = (20,20))\n",
        "word_cloud = WordCloud(max_words = 5000 , width = 1600 , height = 800).generate(\" \".join(ata_data['desc_analysis']))\n",
        "plt.title('Description')\n",
        "plt.imshow(word_cloud , interpolation = 'bilinear')"
      ],
      "metadata": {
        "id": "u08DPl5TUUBv"
      },
      "execution_count": null,
      "outputs": []
    },
    {
      "cell_type": "code",
      "source": [
        "plt.figure(figsize = (20,20))\n",
        "word_cloud = WordCloud(max_words = 5000 , width = 1600 , height = 800).generate(\" \".join(ata_data['short_desc_analysis']))\n",
        "plt.title('Short Description')\n",
        "plt.imshow(word_cloud , interpolation = 'bilinear')"
      ],
      "metadata": {
        "id": "TGxY6SdwXRbr"
      },
      "execution_count": null,
      "outputs": []
    },
    {
      "cell_type": "code",
      "metadata": {
        "id": "IUzX7g8aH_09"
      },
      "source": [
        "for grp in list(ata_data['Assignment group'].unique()):\n",
        "  plt.figure(figsize = (20,20))\n",
        "  word_cloud = WordCloud(max_words = 100 , width = 1600 , height = 800).generate(\" \".join(ata_data[ata_data['Assignment group']==grp]['short_desc_analysis']))\n",
        "  plt.title(grp)\n",
        "  plt.imshow(word_cloud , interpolation = 'bilinear')"
      ],
      "execution_count": null,
      "outputs": []
    },
    {
      "cell_type": "code",
      "source": [
        "for grp in list(ata_data['Assignment group'].unique()):\n",
        "  plt.figure(figsize = (20,20))\n",
        "  word_cloud = WordCloud(max_words = 100 , width = 1600 , height = 800).generate(\" \".join(ata_data[ata_data['Assignment group']==grp]['desc_analysis']))\n",
        "  plt.title(grp)\n",
        "  plt.imshow(word_cloud , interpolation = 'bilinear')"
      ],
      "metadata": {
        "id": "qNIgk0m0UUG3"
      },
      "execution_count": null,
      "outputs": []
    },
    {
      "cell_type": "code",
      "metadata": {
        "id": "C6SxX5ZCH_3T"
      },
      "source": [
        ""
      ],
      "execution_count": 78,
      "outputs": []
    },
    {
      "cell_type": "code",
      "metadata": {
        "id": "leZXDZ1YH_66"
      },
      "source": [
        ""
      ],
      "execution_count": 78,
      "outputs": []
    },
    {
      "cell_type": "code",
      "metadata": {
        "id": "auwB7_ZxsszA"
      },
      "source": [
        ""
      ],
      "execution_count": 78,
      "outputs": []
    },
    {
      "cell_type": "markdown",
      "metadata": {
        "id": "EpPUUB8S2tGL"
      },
      "source": [
        "## PLAY AREA"
      ]
    },
    {
      "cell_type": "code",
      "metadata": {
        "id": "xiZcwUr8jEX1"
      },
      "source": [
        "line = \"should we use regex more often? let me know at  received from:321dsasdsa@dasdsa.com.lol\"\n",
        "match = re.search(r'received from: [\\w\\.-]+@[\\w\\.-]+', line)\n",
        "#match.group(0)"
      ],
      "execution_count": 121,
      "outputs": []
    },
    {
      "cell_type": "code",
      "metadata": {
        "colab": {
          "base_uri": "https://localhost:8080/"
        },
        "id": "GIPgZECELzQX",
        "outputId": "0459ca8c-e79d-4c66-bc5e-f705f8305f37"
      },
      "source": [
        "if bool(match):\n",
        "  print(match.group(0))\n",
        "else:\n",
        "  print(\"noth\")\n",
        "  "
      ],
      "execution_count": 80,
      "outputs": [
        {
          "output_type": "stream",
          "name": "stdout",
          "text": [
            "noth\n"
          ]
        }
      ]
    },
    {
      "cell_type": "code",
      "metadata": {
        "id": "tXorYlWfS0cZ",
        "colab": {
          "base_uri": "https://localhost:8080/",
          "height": 1000
        },
        "outputId": "7a5d8fa4-e9ce-4951-ce4f-e8b1cb327857"
      },
      "source": [
        "ata_data[ata_data['Description'].str.contains('to:', case=False, na=False)].head()"
      ],
      "execution_count": 81,
      "outputs": [
        {
          "output_type": "execute_result",
          "data": {
            "text/html": [
              "<div>\n",
              "<style scoped>\n",
              "    .dataframe tbody tr th:only-of-type {\n",
              "        vertical-align: middle;\n",
              "    }\n",
              "\n",
              "    .dataframe tbody tr th {\n",
              "        vertical-align: top;\n",
              "    }\n",
              "\n",
              "    .dataframe thead th {\n",
              "        text-align: right;\n",
              "    }\n",
              "</style>\n",
              "<table border=\"1\" class=\"dataframe\">\n",
              "  <thead>\n",
              "    <tr style=\"text-align: right;\">\n",
              "      <th></th>\n",
              "      <th>Short description</th>\n",
              "      <th>Description</th>\n",
              "      <th>Caller</th>\n",
              "      <th>Assignment group</th>\n",
              "      <th>short_desc_analysis</th>\n",
              "      <th>desc_analysis</th>\n",
              "      <th>mail_received_from</th>\n",
              "      <th>mail_subject_mentioned</th>\n",
              "    </tr>\n",
              "  </thead>\n",
              "  <tbody>\n",
              "    <tr>\n",
              "      <th>53</th>\n",
              "      <td>reset scm_software password</td>\n",
              "      <td>\\n\\nreceived from: cdbaoqts.wqbsodni@gmail.com\\n\\nhello,\\n\\nplease reset my scm_software password.\\n\\n\\ncdbaoqts wqbsodni\\nglobal product manager, markhtyeting initiatives\\ncdbaoqts.wqbsodni@gmail.com&lt;mailto:cdbaoqts.wqbsodni@gmail.com&gt;\\n\\n\\n\\n\\n\\n</td>\n",
              "      <td>cdbaoqts wqbsodni</td>\n",
              "      <td>GRP_0</td>\n",
              "      <td>reset scm_software password</td>\n",
              "      <td>please reset my scm_software password.   cdbaoqts wqbsodni global product</td>\n",
              "      <td>cdbaoqts.wqbsodni@gmail.com</td>\n",
              "      <td>No Match</td>\n",
              "    </tr>\n",
              "    <tr>\n",
              "      <th>100</th>\n",
              "      <td>re: ess portal access issue</td>\n",
              "      <td>\\n\\nreceived from: noscwdpm.akiowsmp@gmail.com\\n\\nhello,\\n\\nhe is an kiosk user.  please reset the password and confirm.\\n\\n\\nnoscwdpm akiowsmp\\nnoscwdpm.akiowsmp@gmail.com\\n\\nfrom: ihkolepb ozhnjyef\\nsent: 29 october 2016 13:38\\nto: company@ticketing_tool.com\\nsubject: ess portal access issue\\n\\nhi,\\n\\nbelow mentioned employee krlszbqo spimolgz with user id sv123 is not able to login to ess portal to access his pay slips and related contents. he is a attendance_tool user. please reset his user id and password and revert back.\\n\\n</td>\n",
              "      <td>noscwdpm akiowsmp</td>\n",
              "      <td>GRP_0</td>\n",
              "      <td>re: ess portal access issue</td>\n",
              "      <td>he is an kiosk user.  please reset the password and confirm.   noscwdpm akiowsmp      below mentioned employee krlszbqo spimolgz with user id sv is not able to login to ess portal to access his pay slips and related contents. he is a attendance_tool user. please reset his user id and password and revert back.</td>\n",
              "      <td>noscwdpm.akiowsmp@gmail.com</td>\n",
              "      <td>ess portal access issue</td>\n",
              "    </tr>\n",
              "    <tr>\n",
              "      <th>124</th>\n",
              "      <td>mobile device activation</td>\n",
              "      <td>from: tvcdfqgp nrbcqwgj \\nsent: friday, october 28, 2016 3:13 pm\\nto: nwfodmhc exurcwkm\\nsubject:  se ha bloqueado en forma temporal la sincronizaciÃ³n de su dispositivo mÃ³vil mediante exchange activesync hasta que su administrador autorice el acceso.\\n\\nhi\\n\\ni received this message and our local it expert has told me to open a ticket.\\n\\n</td>\n",
              "      <td>tvcdfqgp nrbcqwgj</td>\n",
              "      <td>GRP_0</td>\n",
              "      <td>mobile device activation</td>\n",
              "      <td>i received this message and our local it expert has told me to open a ticket.</td>\n",
              "      <td>No Match</td>\n",
              "      <td>se ha bloqueado en forma temporal la sincronización de su dispositivo móvil mediante exchange activesync hasta que su administrador autorice el acceso.</td>\n",
              "    </tr>\n",
              "    <tr>\n",
              "      <th>151</th>\n",
              "      <td>i used to have acces to this location on collaboration_platform.  now i do not. i need access.</td>\n",
              "      <td>\\n\\nreceived from: bwfhtumx.japznrvb@gmail.com\\n\\n\\n\\n[cid:image001.jpg@01d230f7.8bb4e830]\\n\\nbwfhtumx japznrvb \\nregional controller\\nbwfhtumx.japznrvb@gmail.com&lt;mailto:bwfhtumx.japznrvb@gmail.com&gt;\\n\\n\\n\\n</td>\n",
              "      <td>bwfhtumx japznrvb</td>\n",
              "      <td>GRP_16</td>\n",
              "      <td>i used to have acces to t location on collaboration_platform.  now i do not. i need access.</td>\n",
              "      <td>bwfhtumx japznrvb  regional controller</td>\n",
              "      <td>bwfhtumx.japznrvb@gmail.com</td>\n",
              "      <td>No Match</td>\n",
              "    </tr>\n",
              "    <tr>\n",
              "      <th>162</th>\n",
              "      <td>access to bex</td>\n",
              "      <td>\\r\\n\\r\\nreceived from: yfqoaepn.xnezhsit@gmail.com\\r\\n\\r\\nhello,\\r\\n\\r\\ntill last week i was accessing bex reports using mms portal and there were no issues.\\r\\n\\r\\nstarting this week the system is incredibly slow when i log in and finally does not allow me to access any reports.\\r\\n\\r\\ncan it be the issue with any maintenance or my access rights or rather i should try to access bex using different way?\\r\\n\\r\\nbelow the print screen from what i see after log in:\\r\\n[cid:image001.png@01d2310c.f184b360]\\r\\n\\r\\ni am also able to get to finance reports (see below), however when i click \"profitability analysis\" (as i was always doing) separate window is open however apart rom that the screen is blank.\\r\\n[cid:image002.png@01d2310c.f184b360]\\r\\n\\r\\n\\r\\ni appreciate your support.\\r\\n\\r\\nhave a great day â˜º\\r\\n\\r\\nrobhyertyj\\r\\n\\r\\n\\r\\nyfqoaepn xnezhsit\\r\\nmanaging director\\r\\nfinance manager cee\\r\\nyfqoaepn.xnezhsit@gmail.com&lt;mailto:yfqoaepn.xnezhsit@gmail.com&gt;\\r\\ntel:+48(61)7767671\\r\\nmob:+48 694 425 760\\r\\n\\r\\ncompany polska sp. z o.o. , ul. krzywoustego 7, 61-144 poznaÅ„, www.company.com&lt;\\r\\n\\r\\ncompany polska sp. z o.o. z siedzibÄ… w polandiu, 61-144 poznaÅ„, ul. krzywoustego 7.\\r\\nspÃ³Å‚ka zarejestrowana w sÄ…dzie rejonowym poznaÅ„-nowe miasto i wilda w polandiu, wydziaÅ‚ viii gospodarczy krs pod numerem 1111286691.\\r\\nkapitaÅ‚ zakÅ‚adowy 100 000 pln, nip 954-20-87-982.\\r\\n\\r\\n\\r\\n\\r\\n\\r\\n\\r\\n</td>\n",
              "      <td>yfqoaepn xnezhsit</td>\n",
              "      <td>GRP_0</td>\n",
              "      <td>access to bex</td>\n",
              "      <td>till last week i was accessing bex reports using mms portal and there were no issues.  starting t week the system is incredibly slow when i log in and finally does not allow me to access any reports.  can it be the issue with any maintenance or my access rights or rather i should try to access bex using different way?  below the print screen from what i see after log in:   i am also able to get to finance reports (see below), however when i click \"profitability analysis\" (as i was always doing) separate window is open however apart rom that the screen is blank.    i appreciate your support.  have a great day ☺  robhyertyj   yfqoaepn xnezhsit managing director finance  tel:+() mob:+     company polska sp. z o.o. , ul. krzywoustego , - poznań, www.company.com&lt;  company polska sp. z o.o. z siedzibą w polandiu, - poznań, ul. krzywoustego . spółka zarejestrowana w sądzie rejonowym poznań-nowe miasto i wilda w polandiu, wydział viii gospodarczy krs pod numerem . kapitał zakładowy   pln, nip ---.</td>\n",
              "      <td>yfqoaepn.xnezhsit@gmail.com</td>\n",
              "      <td>No Match</td>\n",
              "    </tr>\n",
              "  </tbody>\n",
              "</table>\n",
              "</div>"
            ],
            "text/plain": [
              "                                                                                  Short description  ...                                                                                                                                   mail_subject_mentioned\n",
              "53                                                                      reset scm_software password  ...                                                                                                                                                 No Match\n",
              "100                                                                     re: ess portal access issue  ...                                                                                                                                  ess portal access issue\n",
              "124                                                                        mobile device activation  ...  se ha bloqueado en forma temporal la sincronización de su dispositivo móvil mediante exchange activesync hasta que su administrador autorice el acceso.\n",
              "151  i used to have acces to this location on collaboration_platform.  now i do not. i need access.  ...                                                                                                                                                 No Match\n",
              "162                                                                                   access to bex  ...                                                                                                                                                 No Match\n",
              "\n",
              "[5 rows x 8 columns]"
            ]
          },
          "metadata": {},
          "execution_count": 81
        }
      ]
    },
    {
      "cell_type": "code",
      "metadata": {
        "id": "eog8a7XhFzjg"
      },
      "source": [
        "text1 = 'from: mikhghytr wafglhdrhjop \\nsent: thursday, august 04, 2016 8:50 pm\\nto: nwfodmhc exurcwkm\\nsubject: rak fw: ethics collaboration_platform site\\n\\nplease review your recent ticketing_tool tickets and let me know who modified the ethics collaboration_platform site. a few weeks ago i had requested a change that placed a third column of selections. not sure who or why this was undone.\\n\\nmikhghytr wafglhdrhjop\\nsr. manager, global ethics and compliance programdntys\\nfrom: kzbuhixt zjdmoahr \\nsent: thursday, august 04, 2016 11:16 am\\nto: mikhghytr wafglhdrhjop <azxhejvq.fyemlavd@gmail.com>\\nsubject: re: ethics collaboration_platform site\\n\\nohâ€¦â€¦??\\n\\nsethdyr hdtyr\\nassistant general counsel â€“ compliance and real estate\\nglobal director of ethics & compliance; ccep\\nkzbuhixt.zjdmoahr@gmail.com \\n'"
      ],
      "execution_count": 82,
      "outputs": []
    },
    {
      "cell_type": "code",
      "metadata": {
        "colab": {
          "base_uri": "https://localhost:8080/",
          "height": 35
        },
        "id": "cnZWvJzjGjel",
        "outputId": "e46d2c55-66c7-4fb6-c70c-cfdcaae0ffea"
      },
      "source": [
        "match_text1 = re.search(r'subject:.*[\\r\\n\\t\\f\\v]', text1)\n",
        "match_text1.group(0)"
      ],
      "execution_count": 83,
      "outputs": [
        {
          "output_type": "execute_result",
          "data": {
            "application/vnd.google.colaboratory.intrinsic+json": {
              "type": "string"
            },
            "text/plain": [
              "'subject: rak fw: ethics collaboration_platform site\\n'"
            ]
          },
          "metadata": {},
          "execution_count": 83
        }
      ]
    },
    {
      "cell_type": "code",
      "metadata": {
        "id": "HPUHAjKuGjjz"
      },
      "source": [
        "text2 = 'from: pacvbetl yptglhoe \\r\\nsent: thursday, august 04, 2016 10:59 pm\\r\\nto: nwfodmhc exurcwkm\\r\\nsubject: amar fw: case id [ref:_case-111121032:ref] :: others\\r\\n\\r\\nplease see the forwarded email below. this looks suspicious to me and may be some sort of phishing or spamming email. please review it and let me know if it looks legitimate and is from legitimate individuals at company. i did not open or view any of the attachments. \\r\\n\\r\\ni have no idea why accounts payable would be sending me an email.\\r\\n\\r\\nbest'"
      ],
      "execution_count": 84,
      "outputs": []
    },
    {
      "cell_type": "code",
      "metadata": {
        "colab": {
          "base_uri": "https://localhost:8080/",
          "height": 35
        },
        "id": "VF4lt5veGjnZ",
        "outputId": "36d3c725-6ca2-4280-95ac-c95cf1087ba9"
      },
      "source": [
        "match_text2 = re.search(r'subject:.*[\\r\\n\\t\\f\\v]', text2)\n",
        "match_text2.group(0)"
      ],
      "execution_count": 85,
      "outputs": [
        {
          "output_type": "execute_result",
          "data": {
            "application/vnd.google.colaboratory.intrinsic+json": {
              "type": "string"
            },
            "text/plain": [
              "'subject: amar fw: case id [ref:_case-111121032:ref] :: others\\r\\n'"
            ]
          },
          "metadata": {},
          "execution_count": 85
        }
      ]
    },
    {
      "cell_type": "code",
      "metadata": {
        "id": "z8-ydcxZIAMK"
      },
      "source": [
        "text3 = 'from: brdhdd dhwduw\\nsent: thursday, october 27, 2016 6:12 am\\nto: nwfodmhc exurcwkm\\nsubject::fwd: unable to down load ethics module \\n\\n\\nbegin forwarded message:\\nfrom: <dqwhpjxy.pozjxbey@gmail.com>\\nto: <zanivrec.capbfhur@gmail.com>\\nsubject: unable to down load ethics module \\nhi â€“ trust doing well . i am unable to down load & getting below msg. i did reset resolution however still same issue persist.\\n \\nplease help.\\n \\n \\n \\n \\n \\ndirector of sales \\ncompany indirect channels - asia \\n& \\ndqwhpjxy.pozjxbey@gmail.com \\n\\n \\n \\n \\n \\n\\n\\n'"
      ],
      "execution_count": 86,
      "outputs": []
    },
    {
      "cell_type": "code",
      "metadata": {
        "colab": {
          "base_uri": "https://localhost:8080/",
          "height": 35
        },
        "id": "mNbiDR3UJGpi",
        "outputId": "975c2c79-f9fd-4ab7-c8dc-fb583f35912f"
      },
      "source": [
        "match_text3 = re.search(r'from:.*[\\r\\n\\t\\f\\v]', text3)\n",
        "match_text3.group(0)"
      ],
      "execution_count": 87,
      "outputs": [
        {
          "output_type": "execute_result",
          "data": {
            "application/vnd.google.colaboratory.intrinsic+json": {
              "type": "string"
            },
            "text/plain": [
              "'from: brdhdd dhwduw\\n'"
            ]
          },
          "metadata": {},
          "execution_count": 87
        }
      ]
    },
    {
      "cell_type": "code",
      "metadata": {
        "colab": {
          "base_uri": "https://localhost:8080/"
        },
        "id": "et942VFPZhAL",
        "outputId": "12ac8e47-f156-4dfd-e829-fe3ad48eafa6"
      },
      "source": [
        "match_text3.groups(1)"
      ],
      "execution_count": 88,
      "outputs": [
        {
          "output_type": "execute_result",
          "data": {
            "text/plain": [
              "()"
            ]
          },
          "metadata": {},
          "execution_count": 88
        }
      ]
    },
    {
      "cell_type": "code",
      "metadata": {
        "colab": {
          "base_uri": "https://localhost:8080/",
          "height": 35
        },
        "id": "eAEaG9UvJJpR",
        "outputId": "a6c90562-92c7-492e-91f2-5add18eee057"
      },
      "source": [
        "sub_text3 = match_text3.group(0).replace('subject:',\"\")\n",
        "sub_text3"
      ],
      "execution_count": 89,
      "outputs": [
        {
          "output_type": "execute_result",
          "data": {
            "application/vnd.google.colaboratory.intrinsic+json": {
              "type": "string"
            },
            "text/plain": [
              "'from: brdhdd dhwduw\\n'"
            ]
          },
          "metadata": {},
          "execution_count": 89
        }
      ]
    },
    {
      "cell_type": "code",
      "metadata": {
        "colab": {
          "base_uri": "https://localhost:8080/"
        },
        "id": "4uoHTQCc2wyF",
        "outputId": "addd728c-3d1a-4953-c3f7-fe0c8f327919"
      },
      "source": [
        "match_text3 = re.findall(r'frm:.*[\\r\\n\\t\\f\\v]', text3)\n",
        "match_text3"
      ],
      "execution_count": 90,
      "outputs": [
        {
          "output_type": "execute_result",
          "data": {
            "text/plain": [
              "[]"
            ]
          },
          "metadata": {},
          "execution_count": 90
        }
      ]
    },
    {
      "cell_type": "code",
      "metadata": {
        "id": "qMQMqu7fgi69"
      },
      "source": [
        "for text in match_text3:\n",
        "  text3 = text3.replace(text, \"\")"
      ],
      "execution_count": 91,
      "outputs": []
    },
    {
      "cell_type": "code",
      "metadata": {
        "colab": {
          "base_uri": "https://localhost:8080/",
          "height": 70
        },
        "id": "yMFfyvqbaEhi",
        "outputId": "5e0debdc-2675-4eee-f5ea-789368138648"
      },
      "source": [
        "text3"
      ],
      "execution_count": 92,
      "outputs": [
        {
          "output_type": "execute_result",
          "data": {
            "application/vnd.google.colaboratory.intrinsic+json": {
              "type": "string"
            },
            "text/plain": [
              "'from: brdhdd dhwduw\\nsent: thursday, october 27, 2016 6:12 am\\nto: nwfodmhc exurcwkm\\nsubject::fwd: unable to down load ethics module \\n\\n\\nbegin forwarded message:\\nfrom: <dqwhpjxy.pozjxbey@gmail.com>\\nto: <zanivrec.capbfhur@gmail.com>\\nsubject: unable to down load ethics module \\nhi â€“ trust doing well . i am unable to down load & getting below msg. i did reset resolution however still same issue persist.\\n \\nplease help.\\n \\n \\n \\n \\n \\ndirector of sales \\ncompany indirect channels - asia \\n& \\ndqwhpjxy.pozjxbey@gmail.com \\n\\n \\n \\n \\n \\n\\n\\n'"
            ]
          },
          "metadata": {},
          "execution_count": 92
        }
      ]
    },
    {
      "cell_type": "code",
      "metadata": {
        "colab": {
          "base_uri": "https://localhost:8080/"
        },
        "id": "O9A641j8fTmS",
        "outputId": "8b8b10f9-50ff-4e4f-deda-06937cba9cd3"
      },
      "source": [
        "a = ['it'] + ['was'] + ['annoying']\n",
        "a"
      ],
      "execution_count": 93,
      "outputs": [
        {
          "output_type": "execute_result",
          "data": {
            "text/plain": [
              "['it', 'was', 'annoying']"
            ]
          },
          "metadata": {},
          "execution_count": 93
        }
      ]
    },
    {
      "cell_type": "code",
      "metadata": {
        "colab": {
          "base_uri": "https://localhost:8080/"
        },
        "id": "BIFEb7V4iGta",
        "outputId": "d4300d4e-8d5f-4ec1-cb0f-269ed8b2ccb8"
      },
      "source": [
        "type(a)"
      ],
      "execution_count": 94,
      "outputs": [
        {
          "output_type": "execute_result",
          "data": {
            "text/plain": [
              "list"
            ]
          },
          "metadata": {},
          "execution_count": 94
        }
      ]
    },
    {
      "cell_type": "code",
      "metadata": {
        "id": "czj2jqFYJT0Z"
      },
      "source": [
        "text4 = '\\n\\nreceived from: bwfhtumx.japznrvb@gmail.com\\n\\n\\n\\n[cid:image001.jpg@01d230f7.8bb4e830]\\n\\nbwfhtumx japznrvb \\nregional controller\\nbwfhtumx.japznrvb@gmail.com<mailto:bwfhtumx.japznrvb@gmail.com>\\n\\n\\n\\n'"
      ],
      "execution_count": 95,
      "outputs": []
    },
    {
      "cell_type": "code",
      "metadata": {
        "colab": {
          "base_uri": "https://localhost:8080/"
        },
        "id": "tMPasQsEJT3b",
        "outputId": "0881c887-1bbc-480c-8447-9da5c35ae8e5"
      },
      "source": [
        "match_text4 = re.findall(r'\\[cid:image.*\\]', text4)\n",
        "match_text4"
      ],
      "execution_count": 96,
      "outputs": [
        {
          "output_type": "execute_result",
          "data": {
            "text/plain": [
              "['[cid:image001.jpg@01d230f7.8bb4e830]']"
            ]
          },
          "metadata": {},
          "execution_count": 96
        }
      ]
    },
    {
      "cell_type": "code",
      "metadata": {
        "id": "WEGUp6_gJT6g",
        "colab": {
          "base_uri": "https://localhost:8080/"
        },
        "outputId": "b51c9917-f116-4dd0-9f55-ab6602d9c592"
      },
      "source": [
        "sentence = \"Tanzania ni nchi inayoongoza kwa utalii barani afrika\"\n",
        "print(detect(sentence))"
      ],
      "execution_count": 97,
      "outputs": [
        {
          "output_type": "stream",
          "name": "stdout",
          "text": [
            "sw\n"
          ]
        }
      ]
    },
    {
      "cell_type": "code",
      "metadata": {
        "id": "crRVH9BsJT9V",
        "colab": {
          "base_uri": "https://localhost:8080/"
        },
        "outputId": "c046087a-9f3b-4d39-f742-85cd9ae6d6c2"
      },
      "source": [
        "sec_sen = \" 不能连接\"\n",
        "print(detect(sec_sen))"
      ],
      "execution_count": 98,
      "outputs": [
        {
          "output_type": "stream",
          "name": "stdout",
          "text": [
            "ko\n"
          ]
        }
      ]
    },
    {
      "cell_type": "code",
      "metadata": {
        "id": "a4jDtD-IJT_8"
      },
      "source": [
        ""
      ],
      "execution_count": 98,
      "outputs": []
    },
    {
      "cell_type": "code",
      "metadata": {
        "id": "XEg5RJlsJUEM"
      },
      "source": [
        ""
      ],
      "execution_count": 98,
      "outputs": []
    },
    {
      "cell_type": "code",
      "metadata": {
        "id": "GsYvwAQ4gs2M",
        "colab": {
          "base_uri": "https://localhost:8080/",
          "height": 35
        },
        "outputId": "efab04a2-d2db-474d-d666-a45631b2d655"
      },
      "source": [
        "ftfy.fix_text('aktuell kÃ¶nnen keine rÃ¼ckmeldungen in EU_tool eingegeben werden. fehler \"laufzeitfehler\".')"
      ],
      "execution_count": 99,
      "outputs": [
        {
          "output_type": "execute_result",
          "data": {
            "application/vnd.google.colaboratory.intrinsic+json": {
              "type": "string"
            },
            "text/plain": [
              "'aktuell können keine rückmeldungen in EU_tool eingegeben werden. fehler \"laufzeitfehler\".'"
            ]
          },
          "metadata": {},
          "execution_count": 99
        }
      ]
    },
    {
      "cell_type": "code",
      "metadata": {
        "colab": {
          "base_uri": "https://localhost:8080/",
          "height": 35
        },
        "id": "HhSSo1EBHXRO",
        "outputId": "d41df9a9-ae78-443d-9c60-575e28954837"
      },
      "source": [
        "ftfy.fix_text('ç”µè„‘ç™»å½•å¯†ç å¿˜è®°ï¼Œé‡ç½®å¯†ç ã€‚')"
      ],
      "execution_count": 100,
      "outputs": [
        {
          "output_type": "execute_result",
          "data": {
            "application/vnd.google.colaboratory.intrinsic+json": {
              "type": "string"
            },
            "text/plain": [
              "'电脑登录密码忘记,重置密码。'"
            ]
          },
          "metadata": {},
          "execution_count": 100
        }
      ]
    },
    {
      "cell_type": "code",
      "metadata": {
        "colab": {
          "base_uri": "https://localhost:8080/",
          "height": 35
        },
        "id": "SZQQeCESJdVH",
        "outputId": "3a51bd64-bb40-482c-be8b-87e4e94047da"
      },
      "source": [
        "ftfy.fix_text('skype error')"
      ],
      "execution_count": 101,
      "outputs": [
        {
          "output_type": "execute_result",
          "data": {
            "application/vnd.google.colaboratory.intrinsic+json": {
              "type": "string"
            },
            "text/plain": [
              "'skype error'"
            ]
          },
          "metadata": {},
          "execution_count": 101
        }
      ]
    },
    {
      "cell_type": "code",
      "source": [
        "ftfy.fix_text('ç”µè„‘ç™»å½•å¯†ç å¿˜è®°ï¼Œé‡ç½®å¯†ç ã€‚')"
      ],
      "metadata": {
        "colab": {
          "base_uri": "https://localhost:8080/",
          "height": 35
        },
        "id": "YX7xLkWnN198",
        "outputId": "f81fff72-305b-45e2-ab14-c3373e478e49"
      },
      "execution_count": 102,
      "outputs": [
        {
          "output_type": "execute_result",
          "data": {
            "application/vnd.google.colaboratory.intrinsic+json": {
              "type": "string"
            },
            "text/plain": [
              "'电脑登录密码忘记,重置密码。'"
            ]
          },
          "metadata": {},
          "execution_count": 102
        }
      ]
    },
    {
      "cell_type": "code",
      "metadata": {
        "colab": {
          "base_uri": "https://localhost:8080/"
        },
        "id": "WOrTXbOwKqKT",
        "outputId": "e7970470-2780-4f68-da1a-4d85e932ec38"
      },
      "source": [
        "to_translate = ftfy.fix_text('ç”µè„‘ç™»å½•å¯†ç å¿˜è®°ï¼Œé‡ç½®å¯†ç ã€‚')\n",
        "translated = GoogleTranslator(source='auto', target='english').translate(to_translate)\n",
        "\n",
        "print(translated)"
      ],
      "execution_count": 103,
      "outputs": [
        {
          "output_type": "stream",
          "name": "stdout",
          "text": [
            "If the computer login password is forgotten, reset the password.\n"
          ]
        }
      ]
    },
    {
      "cell_type": "code",
      "metadata": {
        "colab": {
          "base_uri": "https://localhost:8080/",
          "height": 35
        },
        "id": "hTzOUMUI05x_",
        "outputId": "4c7c1d94-c010-4735-eeb9-04106b305d5d"
      },
      "source": [
        "translate_to_english(ftfy.fix_text('ç”µè„‘ç™»å½•å¯†ç å¿˜è®°ï¼Œé‡ç½®å¯†ç ã€‚'))"
      ],
      "execution_count": 104,
      "outputs": [
        {
          "output_type": "execute_result",
          "data": {
            "application/vnd.google.colaboratory.intrinsic+json": {
              "type": "string"
            },
            "text/plain": [
              "'If the computer login password is forgotten, reset the password.'"
            ]
          },
          "metadata": {},
          "execution_count": 104
        }
      ]
    },
    {
      "cell_type": "code",
      "metadata": {
        "colab": {
          "base_uri": "https://localhost:8080/",
          "height": 35
        },
        "id": "B4Mx8cUA7JfA",
        "outputId": "3dfff67b-fb64-4621-eb64-c33d6884f80d"
      },
      "source": [
        "translate_to_english(ftfy.fix_text('my name is'))"
      ],
      "execution_count": 105,
      "outputs": [
        {
          "output_type": "execute_result",
          "data": {
            "application/vnd.google.colaboratory.intrinsic+json": {
              "type": "string"
            },
            "text/plain": [
              "'my name is'"
            ]
          },
          "metadata": {},
          "execution_count": 105
        }
      ]
    },
    {
      "cell_type": "code",
      "metadata": {
        "colab": {
          "base_uri": "https://localhost:8080/"
        },
        "id": "SJp9Mub_MK9r",
        "outputId": "2c485571-2af4-48f5-cc74-651cc2a40b69"
      },
      "source": [
        "to_translate = ftfy.fix_text('aktuell kÃ¶nnen keine rÃ¼ckmeldungen in EU_tool eingegeben werden. fehler \"laufzeitfehler\".')\n",
        "translated = GoogleTranslator(source='auto', target='english').translate(to_translate)\n",
        "\n",
        "print(translated)"
      ],
      "execution_count": 106,
      "outputs": [
        {
          "output_type": "stream",
          "name": "stdout",
          "text": [
            "No feedback can currently be entered in EU_tool. error \"runtime error\".\n"
          ]
        }
      ]
    },
    {
      "cell_type": "code",
      "metadata": {
        "id": "1qtGaGjW7NlD"
      },
      "source": [
        ""
      ],
      "execution_count": 106,
      "outputs": []
    },
    {
      "cell_type": "code",
      "metadata": {
        "colab": {
          "base_uri": "https://localhost:8080/"
        },
        "id": "1-KGtLW6Zqdz",
        "outputId": "46ede234-0eb8-4ce0-eea1-0b7acd2ea139"
      },
      "source": [
        "to_translate = ftfy.fix_text('ç”µè„‘ç™»å½•å¯†ç å¿˜è®°ï¼Œé‡ç½®å¯†ç ã€‚')\n",
        "translated = GoogleTranslator(source='auto', target='english').translate(to_translate)\n",
        "\n",
        "print(translated)"
      ],
      "execution_count": 107,
      "outputs": [
        {
          "output_type": "stream",
          "name": "stdout",
          "text": [
            "If the computer login password is forgotten, reset the password.\n"
          ]
        }
      ]
    },
    {
      "cell_type": "code",
      "metadata": {
        "colab": {
          "base_uri": "https://localhost:8080/"
        },
        "id": "YvnQ1a-1zQlZ",
        "outputId": "fff1feed-971f-4833-9f7e-695d3db70c8c"
      },
      "source": [
        "len(translated)"
      ],
      "execution_count": 108,
      "outputs": [
        {
          "output_type": "execute_result",
          "data": {
            "text/plain": [
              "64"
            ]
          },
          "metadata": {},
          "execution_count": 108
        }
      ]
    },
    {
      "cell_type": "code",
      "metadata": {
        "id": "qKtHugtPiI02",
        "colab": {
          "base_uri": "https://localhost:8080/"
        },
        "outputId": "ba3dea50-aa81-45d7-a9b9-ebc6d66238a3"
      },
      "source": [
        "ata_data[ata_data['Short description'].str.contains('login issue', case=False, na=False)]['Assignment group'].value_counts()"
      ],
      "execution_count": 109,
      "outputs": [
        {
          "output_type": "execute_result",
          "data": {
            "text/plain": [
              "GRP_0     58\n",
              "GRP_23     1\n",
              "GRP_22     1\n",
              "GRP_7      1\n",
              "GRP_40     1\n",
              "Name: Assignment group, dtype: int64"
            ]
          },
          "metadata": {},
          "execution_count": 109
        }
      ]
    },
    {
      "cell_type": "code",
      "metadata": {
        "id": "G4985i2FZrAg",
        "colab": {
          "base_uri": "https://localhost:8080/"
        },
        "outputId": "f1468ec5-7df0-4ff7-f6f6-b69740c2894b"
      },
      "source": [
        "t1 = 'following  trail employee working in pthyu is unable to login  company hub mail id to view salary slip. request to rectify the same aerp mail id: hjsastadad.kjddwdd@company.com user id: wshqqhdqh password:vasanqi'\n",
        "match_good_day_trial= re.findall(r'\\S+@\\S+', t1)\n",
        "match_good_day_trial"
      ],
      "execution_count": 110,
      "outputs": [
        {
          "output_type": "execute_result",
          "data": {
            "text/plain": [
              "['hjsastadad.kjddwdd@company.com']"
            ]
          },
          "metadata": {},
          "execution_count": 110
        }
      ]
    },
    {
      "cell_type": "code",
      "source": [
        "t1 = 'following  trail employee working in pthyu is (yes/no/na) unable to login  company hub mail  id to view salary slip. request to rectify the same aerp mail id: hjsastadad.kjddwdd@company.com user id: wshqqhdqh password:vasanqi'\n",
        "match_good_day_trial= re.findall(r'(\\(yes/no/na\\))', t1)\n",
        "match_good_day_trial"
      ],
      "metadata": {
        "colab": {
          "base_uri": "https://localhost:8080/"
        },
        "id": "UhpBUwpNdKox",
        "outputId": "8308d13a-34d5-4790-8f7e-b66365587255"
      },
      "execution_count": 111,
      "outputs": [
        {
          "output_type": "execute_result",
          "data": {
            "text/plain": [
              "['(yes/no/na)']"
            ]
          },
          "metadata": {},
          "execution_count": 111
        }
      ]
    },
    {
      "cell_type": "code",
      "metadata": {
        "colab": {
          "base_uri": "https://localhost:8080/",
          "height": 35
        },
        "id": "Podbxa-KPpBh",
        "outputId": "aa9e9617-916d-4194-bcd7-71b8ee9e8775"
      },
      "source": [
        "for matched_text in match_good_day_trial:\n",
        "    t1 = t1.replace(matched_text, \"\")\n",
        "t1"
      ],
      "execution_count": 112,
      "outputs": [
        {
          "output_type": "execute_result",
          "data": {
            "application/vnd.google.colaboratory.intrinsic+json": {
              "type": "string"
            },
            "text/plain": [
              "'following  trail employee working in pthyu is  unable to login  company hub mail  id to view salary slip. request to rectify the same aerp mail id: hjsastadad.kjddwdd@company.com user id: wshqqhdqh password:vasanqi'"
            ]
          },
          "metadata": {},
          "execution_count": 112
        }
      ]
    },
    {
      "cell_type": "code",
      "metadata": {
        "colab": {
          "base_uri": "https://localhost:8080/"
        },
        "id": "BlPfOuPGj41h",
        "outputId": "626cace4-f504-4398-dffc-c02ed751abca"
      },
      "source": [
        "\n",
        "match_hello_trial= re.search(r'(^|\\s)(hello i.t. team|hello help-team|hello support team|hello help-team|hello it-team|hello ladies and gentlemen|hello  it helper|hellow|hello it support|hello all|hello colleagues|hi there|hello it team|hello sir|hello it service|hello it|hello helpdesk|hello team|hello all|hello it desk|hello  it helper|hello dac|hello|gentles|it team|dear team|dear all|dear|hallo|all groups|it help)(,|\\s|!|.|:|;|<|~)', 'dear team,  please release the device as per attached form as an employee owned mobile device. the corresponding form is attached. for the moment i am using the outlook app.  hello joftgost,  please approve the form in return by mail.')\n",
        "match_hello_trial"
      ],
      "execution_count": 113,
      "outputs": [
        {
          "output_type": "execute_result",
          "data": {
            "text/plain": [
              "<re.Match object; span=(0, 10), match='dear team,'>"
            ]
          },
          "metadata": {},
          "execution_count": 113
        }
      ]
    },
    {
      "cell_type": "code",
      "metadata": {
        "colab": {
          "base_uri": "https://localhost:8080/",
          "height": 35
        },
        "id": "AJbDdLlp269E",
        "outputId": "9a7671dc-eae6-478c-eb5b-412070b6802f"
      },
      "source": [
        "match_hello_trial.group(0)"
      ],
      "execution_count": 114,
      "outputs": [
        {
          "output_type": "execute_result",
          "data": {
            "application/vnd.google.colaboratory.intrinsic+json": {
              "type": "string"
            },
            "text/plain": [
              "'dear team,'"
            ]
          },
          "metadata": {},
          "execution_count": 114
        }
      ]
    },
    {
      "cell_type": "code",
      "metadata": {
        "colab": {
          "base_uri": "https://localhost:8080/",
          "height": 35
        },
        "id": "VEAR2PJVFY06",
        "outputId": "66510eff-f602-4dd6-a7af-d16dd6d76a6c"
      },
      "source": [
        "match_hello_trial.group(1)"
      ],
      "execution_count": 115,
      "outputs": [
        {
          "output_type": "execute_result",
          "data": {
            "application/vnd.google.colaboratory.intrinsic+json": {
              "type": "string"
            },
            "text/plain": [
              "''"
            ]
          },
          "metadata": {},
          "execution_count": 115
        }
      ]
    },
    {
      "cell_type": "code",
      "metadata": {
        "colab": {
          "base_uri": "https://localhost:8080/",
          "height": 35
        },
        "id": "K4JOLk7oFX2o",
        "outputId": "b339d92c-cb85-404f-e6ad-b22b89cff11d"
      },
      "source": [
        "match_hello_trial.group(2)"
      ],
      "execution_count": 116,
      "outputs": [
        {
          "output_type": "execute_result",
          "data": {
            "application/vnd.google.colaboratory.intrinsic+json": {
              "type": "string"
            },
            "text/plain": [
              "'dear team'"
            ]
          },
          "metadata": {},
          "execution_count": 116
        }
      ]
    },
    {
      "cell_type": "code",
      "metadata": {
        "colab": {
          "base_uri": "https://localhost:8080/",
          "height": 35
        },
        "id": "yIdi3WPIFdlo",
        "outputId": "181f22fc-6775-48ac-dc2c-333b81fdead5"
      },
      "source": [
        "match_hello_trial.group(3)"
      ],
      "execution_count": 117,
      "outputs": [
        {
          "output_type": "execute_result",
          "data": {
            "application/vnd.google.colaboratory.intrinsic+json": {
              "type": "string"
            },
            "text/plain": [
              "','"
            ]
          },
          "metadata": {},
          "execution_count": 117
        }
      ]
    },
    {
      "cell_type": "code",
      "metadata": {
        "colab": {
          "base_uri": "https://localhost:8080/"
        },
        "id": "zn_CBqoWFkHC",
        "outputId": "d5220490-4dab-4439-f9cc-4f0a4ccaeafe"
      },
      "source": [
        "match_hello_trial"
      ],
      "execution_count": 118,
      "outputs": [
        {
          "output_type": "execute_result",
          "data": {
            "text/plain": [
              "<re.Match object; span=(0, 10), match='dear team,'>"
            ]
          },
          "metadata": {},
          "execution_count": 118
        }
      ]
    },
    {
      "cell_type": "code",
      "metadata": {
        "colab": {
          "base_uri": "https://localhost:8080/",
          "height": 35
        },
        "id": "uUGKaV2mF61Q",
        "outputId": "f66e10bb-ff1f-4003-ecbd-8a4b24c625c6"
      },
      "source": [
        "text = '''i had to reset my password again and i've lost my option for setting up a skype meeting again.  can you please help me?  i can't recall how you were able to bring it back the last time.'''\n",
        "  \n",
        "contractions.fix(text)"
      ],
      "execution_count": 119,
      "outputs": [
        {
          "output_type": "execute_result",
          "data": {
            "application/vnd.google.colaboratory.intrinsic+json": {
              "type": "string"
            },
            "text/plain": [
              "'i had to reset my password again and I have lost my option for setting up a skype meeting again.  can you please help me?  i cannot recall how you were able to bring it back the last time.'"
            ]
          },
          "metadata": {},
          "execution_count": 119
        }
      ]
    },
    {
      "cell_type": "code",
      "metadata": {
        "id": "va4Z5cPfoHOJ",
        "colab": {
          "base_uri": "https://localhost:8080/"
        },
        "outputId": "842f26d8-e4bc-4078-f84c-126a88edb5f1"
      },
      "source": [
        "text_check = '......my meetings/skype meetings etc are not appearing in my outlook calendar, can somebody please advise how to correct t?..'\n",
        "\n",
        "match_text_check = re.match(r'^[.]*', text_check)\n",
        "match_text_check"
      ],
      "execution_count": 120,
      "outputs": [
        {
          "output_type": "execute_result",
          "data": {
            "text/plain": [
              "<re.Match object; span=(0, 6), match='......'>"
            ]
          },
          "metadata": {},
          "execution_count": 120
        }
      ]
    },
    {
      "cell_type": "code",
      "source": [
        ""
      ],
      "metadata": {
        "id": "avI7MDcNA04A"
      },
      "execution_count": 120,
      "outputs": []
    }
  ]
}