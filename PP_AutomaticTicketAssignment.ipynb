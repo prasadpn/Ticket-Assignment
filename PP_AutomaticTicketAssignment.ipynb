{
  "cells": [
    {
      "cell_type": "code",
      "execution_count": 1,
      "metadata": {
        "colab": {
          "base_uri": "https://localhost:8080/"
        },
        "id": "1m5-I9zRHFKx",
        "outputId": "8dd25230-c822-49bb-ad60-e9119569d272"
      },
      "outputs": [
        {
          "output_type": "stream",
          "name": "stdout",
          "text": [
            "Collecting ftfy\n",
            "  Downloading ftfy-6.0.3.tar.gz (64 kB)\n",
            "\u001b[?25l\r\u001b[K     |█████                           | 10 kB 19.1 MB/s eta 0:00:01\r\u001b[K     |██████████▏                     | 20 kB 21.7 MB/s eta 0:00:01\r\u001b[K     |███████████████▎                | 30 kB 9.5 MB/s eta 0:00:01\r\u001b[K     |████████████████████▍           | 40 kB 11.4 MB/s eta 0:00:01\r\u001b[K     |█████████████████████████▌      | 51 kB 13.1 MB/s eta 0:00:01\r\u001b[K     |██████████████████████████████▋ | 61 kB 14.1 MB/s eta 0:00:01\r\u001b[K     |████████████████████████████████| 64 kB 2.2 MB/s \n",
            "\u001b[?25hRequirement already satisfied: wcwidth in /usr/local/lib/python3.7/dist-packages (from ftfy) (0.2.5)\n",
            "Building wheels for collected packages: ftfy\n",
            "  Building wheel for ftfy (setup.py) ... \u001b[?25l\u001b[?25hdone\n",
            "  Created wheel for ftfy: filename=ftfy-6.0.3-py3-none-any.whl size=41933 sha256=b8bbab4d196a66ec807518f78c272b84a37f0dae2352b724ae6c0c5afc1a3870\n",
            "  Stored in directory: /root/.cache/pip/wheels/19/f5/38/273eb3b5e76dfd850619312f693716ac4518b498f5ffb6f56d\n",
            "Successfully built ftfy\n",
            "Installing collected packages: ftfy\n",
            "Successfully installed ftfy-6.0.3\n"
          ]
        }
      ],
      "source": [
        "!pip install ftfy"
      ]
    },
    {
      "cell_type": "code",
      "execution_count": 2,
      "metadata": {
        "colab": {
          "base_uri": "https://localhost:8080/"
        },
        "id": "eAI83tb83o1G",
        "outputId": "ee7c3cfb-f67e-4772-bc3d-1e32858612d5"
      },
      "outputs": [
        {
          "output_type": "stream",
          "name": "stdout",
          "text": [
            "Mounted at /content/drive\n"
          ]
        }
      ],
      "source": [
        "from google.colab import drive\n",
        "drive.mount('/content/drive')"
      ]
    },
    {
      "cell_type": "code",
      "execution_count": 3,
      "metadata": {
        "colab": {
          "base_uri": "https://localhost:8080/"
        },
        "id": "bwtmA2_2rLzt",
        "outputId": "cb7565ca-84fa-42e9-9e14-492caffacf9e"
      },
      "outputs": [
        {
          "output_type": "stream",
          "name": "stdout",
          "text": [
            "Requirement already satisfied: textblob in /usr/local/lib/python3.7/dist-packages (0.15.3)\n",
            "Requirement already satisfied: nltk>=3.1 in /usr/local/lib/python3.7/dist-packages (from textblob) (3.2.5)\n",
            "Requirement already satisfied: six in /usr/local/lib/python3.7/dist-packages (from nltk>=3.1->textblob) (1.15.0)\n"
          ]
        }
      ],
      "source": [
        "!pip install textblob"
      ]
    },
    {
      "cell_type": "code",
      "execution_count": 4,
      "metadata": {
        "colab": {
          "base_uri": "https://localhost:8080/"
        },
        "id": "or23eOE6rMI4",
        "outputId": "bc5f3271-6169-4a1b-ed27-25a7510e01ad"
      },
      "outputs": [
        {
          "output_type": "stream",
          "name": "stdout",
          "text": [
            "Collecting langdetect\n",
            "  Downloading langdetect-1.0.9.tar.gz (981 kB)\n",
            "\u001b[?25l\r\u001b[K     |▍                               | 10 kB 19.5 MB/s eta 0:00:01\r\u001b[K     |▊                               | 20 kB 23.5 MB/s eta 0:00:01\r\u001b[K     |█                               | 30 kB 27.9 MB/s eta 0:00:01\r\u001b[K     |█▍                              | 40 kB 31.7 MB/s eta 0:00:01\r\u001b[K     |█▊                              | 51 kB 34.1 MB/s eta 0:00:01\r\u001b[K     |██                              | 61 kB 35.6 MB/s eta 0:00:01\r\u001b[K     |██▍                             | 71 kB 28.7 MB/s eta 0:00:01\r\u001b[K     |██▊                             | 81 kB 28.1 MB/s eta 0:00:01\r\u001b[K     |███                             | 92 kB 29.5 MB/s eta 0:00:01\r\u001b[K     |███▍                            | 102 kB 30.7 MB/s eta 0:00:01\r\u001b[K     |███▊                            | 112 kB 30.7 MB/s eta 0:00:01\r\u001b[K     |████                            | 122 kB 30.7 MB/s eta 0:00:01\r\u001b[K     |████▍                           | 133 kB 30.7 MB/s eta 0:00:01\r\u001b[K     |████▊                           | 143 kB 30.7 MB/s eta 0:00:01\r\u001b[K     |█████                           | 153 kB 30.7 MB/s eta 0:00:01\r\u001b[K     |█████▍                          | 163 kB 30.7 MB/s eta 0:00:01\r\u001b[K     |█████▊                          | 174 kB 30.7 MB/s eta 0:00:01\r\u001b[K     |██████                          | 184 kB 30.7 MB/s eta 0:00:01\r\u001b[K     |██████▍                         | 194 kB 30.7 MB/s eta 0:00:01\r\u001b[K     |██████▊                         | 204 kB 30.7 MB/s eta 0:00:01\r\u001b[K     |███████                         | 215 kB 30.7 MB/s eta 0:00:01\r\u001b[K     |███████▍                        | 225 kB 30.7 MB/s eta 0:00:01\r\u001b[K     |███████▊                        | 235 kB 30.7 MB/s eta 0:00:01\r\u001b[K     |████████                        | 245 kB 30.7 MB/s eta 0:00:01\r\u001b[K     |████████▍                       | 256 kB 30.7 MB/s eta 0:00:01\r\u001b[K     |████████▊                       | 266 kB 30.7 MB/s eta 0:00:01\r\u001b[K     |█████████                       | 276 kB 30.7 MB/s eta 0:00:01\r\u001b[K     |█████████▍                      | 286 kB 30.7 MB/s eta 0:00:01\r\u001b[K     |█████████▊                      | 296 kB 30.7 MB/s eta 0:00:01\r\u001b[K     |██████████                      | 307 kB 30.7 MB/s eta 0:00:01\r\u001b[K     |██████████▍                     | 317 kB 30.7 MB/s eta 0:00:01\r\u001b[K     |██████████▊                     | 327 kB 30.7 MB/s eta 0:00:01\r\u001b[K     |███████████                     | 337 kB 30.7 MB/s eta 0:00:01\r\u001b[K     |███████████▍                    | 348 kB 30.7 MB/s eta 0:00:01\r\u001b[K     |███████████▊                    | 358 kB 30.7 MB/s eta 0:00:01\r\u001b[K     |████████████                    | 368 kB 30.7 MB/s eta 0:00:01\r\u001b[K     |████████████▍                   | 378 kB 30.7 MB/s eta 0:00:01\r\u001b[K     |████████████▊                   | 389 kB 30.7 MB/s eta 0:00:01\r\u001b[K     |█████████████                   | 399 kB 30.7 MB/s eta 0:00:01\r\u001b[K     |█████████████▍                  | 409 kB 30.7 MB/s eta 0:00:01\r\u001b[K     |█████████████▊                  | 419 kB 30.7 MB/s eta 0:00:01\r\u001b[K     |██████████████                  | 430 kB 30.7 MB/s eta 0:00:01\r\u001b[K     |██████████████▍                 | 440 kB 30.7 MB/s eta 0:00:01\r\u001b[K     |██████████████▊                 | 450 kB 30.7 MB/s eta 0:00:01\r\u001b[K     |███████████████                 | 460 kB 30.7 MB/s eta 0:00:01\r\u001b[K     |███████████████▍                | 471 kB 30.7 MB/s eta 0:00:01\r\u001b[K     |███████████████▊                | 481 kB 30.7 MB/s eta 0:00:01\r\u001b[K     |████████████████                | 491 kB 30.7 MB/s eta 0:00:01\r\u001b[K     |████████████████▍               | 501 kB 30.7 MB/s eta 0:00:01\r\u001b[K     |████████████████▊               | 512 kB 30.7 MB/s eta 0:00:01\r\u001b[K     |█████████████████               | 522 kB 30.7 MB/s eta 0:00:01\r\u001b[K     |█████████████████▍              | 532 kB 30.7 MB/s eta 0:00:01\r\u001b[K     |█████████████████▊              | 542 kB 30.7 MB/s eta 0:00:01\r\u001b[K     |██████████████████              | 552 kB 30.7 MB/s eta 0:00:01\r\u001b[K     |██████████████████▍             | 563 kB 30.7 MB/s eta 0:00:01\r\u001b[K     |██████████████████▊             | 573 kB 30.7 MB/s eta 0:00:01\r\u001b[K     |███████████████████             | 583 kB 30.7 MB/s eta 0:00:01\r\u001b[K     |███████████████████▍            | 593 kB 30.7 MB/s eta 0:00:01\r\u001b[K     |███████████████████▊            | 604 kB 30.7 MB/s eta 0:00:01\r\u001b[K     |████████████████████            | 614 kB 30.7 MB/s eta 0:00:01\r\u001b[K     |████████████████████▍           | 624 kB 30.7 MB/s eta 0:00:01\r\u001b[K     |████████████████████▊           | 634 kB 30.7 MB/s eta 0:00:01\r\u001b[K     |█████████████████████           | 645 kB 30.7 MB/s eta 0:00:01\r\u001b[K     |█████████████████████▍          | 655 kB 30.7 MB/s eta 0:00:01\r\u001b[K     |█████████████████████▊          | 665 kB 30.7 MB/s eta 0:00:01\r\u001b[K     |██████████████████████          | 675 kB 30.7 MB/s eta 0:00:01\r\u001b[K     |██████████████████████▍         | 686 kB 30.7 MB/s eta 0:00:01\r\u001b[K     |██████████████████████▊         | 696 kB 30.7 MB/s eta 0:00:01\r\u001b[K     |███████████████████████         | 706 kB 30.7 MB/s eta 0:00:01\r\u001b[K     |███████████████████████▍        | 716 kB 30.7 MB/s eta 0:00:01\r\u001b[K     |███████████████████████▊        | 727 kB 30.7 MB/s eta 0:00:01\r\u001b[K     |████████████████████████        | 737 kB 30.7 MB/s eta 0:00:01\r\u001b[K     |████████████████████████▍       | 747 kB 30.7 MB/s eta 0:00:01\r\u001b[K     |████████████████████████▊       | 757 kB 30.7 MB/s eta 0:00:01\r\u001b[K     |█████████████████████████       | 768 kB 30.7 MB/s eta 0:00:01\r\u001b[K     |█████████████████████████▍      | 778 kB 30.7 MB/s eta 0:00:01\r\u001b[K     |█████████████████████████▊      | 788 kB 30.7 MB/s eta 0:00:01\r\u001b[K     |██████████████████████████      | 798 kB 30.7 MB/s eta 0:00:01\r\u001b[K     |██████████████████████████▍     | 808 kB 30.7 MB/s eta 0:00:01\r\u001b[K     |██████████████████████████▊     | 819 kB 30.7 MB/s eta 0:00:01\r\u001b[K     |███████████████████████████     | 829 kB 30.7 MB/s eta 0:00:01\r\u001b[K     |███████████████████████████▍    | 839 kB 30.7 MB/s eta 0:00:01\r\u001b[K     |███████████████████████████▊    | 849 kB 30.7 MB/s eta 0:00:01\r\u001b[K     |████████████████████████████    | 860 kB 30.7 MB/s eta 0:00:01\r\u001b[K     |████████████████████████████▍   | 870 kB 30.7 MB/s eta 0:00:01\r\u001b[K     |████████████████████████████▊   | 880 kB 30.7 MB/s eta 0:00:01\r\u001b[K     |█████████████████████████████   | 890 kB 30.7 MB/s eta 0:00:01\r\u001b[K     |█████████████████████████████▍  | 901 kB 30.7 MB/s eta 0:00:01\r\u001b[K     |█████████████████████████████▊  | 911 kB 30.7 MB/s eta 0:00:01\r\u001b[K     |██████████████████████████████  | 921 kB 30.7 MB/s eta 0:00:01\r\u001b[K     |██████████████████████████████▍ | 931 kB 30.7 MB/s eta 0:00:01\r\u001b[K     |██████████████████████████████▊ | 942 kB 30.7 MB/s eta 0:00:01\r\u001b[K     |███████████████████████████████ | 952 kB 30.7 MB/s eta 0:00:01\r\u001b[K     |███████████████████████████████▍| 962 kB 30.7 MB/s eta 0:00:01\r\u001b[K     |███████████████████████████████▊| 972 kB 30.7 MB/s eta 0:00:01\r\u001b[K     |████████████████████████████████| 981 kB 30.7 MB/s \n",
            "\u001b[?25hRequirement already satisfied: six in /usr/local/lib/python3.7/dist-packages (from langdetect) (1.15.0)\n",
            "Building wheels for collected packages: langdetect\n",
            "  Building wheel for langdetect (setup.py) ... \u001b[?25l\u001b[?25hdone\n",
            "  Created wheel for langdetect: filename=langdetect-1.0.9-py3-none-any.whl size=993242 sha256=cae4d9687a312f118cfc7f949e5d5693e2e630a0bd1cf9412703c4a13ed43150\n",
            "  Stored in directory: /root/.cache/pip/wheels/c5/96/8a/f90c59ed25d75e50a8c10a1b1c2d4c402e4dacfa87f3aff36a\n",
            "Successfully built langdetect\n",
            "Installing collected packages: langdetect\n",
            "Successfully installed langdetect-1.0.9\n"
          ]
        }
      ],
      "source": [
        "!pip install langdetect"
      ]
    },
    {
      "cell_type": "code",
      "execution_count": 5,
      "metadata": {
        "colab": {
          "base_uri": "https://localhost:8080/"
        },
        "id": "2yDn8P1MLl-K",
        "outputId": "685bb068-229b-4608-8441-09b2da7c0d56"
      },
      "outputs": [
        {
          "output_type": "stream",
          "name": "stdout",
          "text": [
            "Collecting deep-translator\n",
            "  Downloading deep_translator-1.5.5-py3-none-any.whl (30 kB)\n",
            "Collecting beautifulsoup4<5.0.0,>=4.9.1\n",
            "  Downloading beautifulsoup4-4.10.0-py3-none-any.whl (97 kB)\n",
            "\u001b[?25l\r\u001b[K     |███▍                            | 10 kB 21.4 MB/s eta 0:00:01\r\u001b[K     |██████▊                         | 20 kB 27.4 MB/s eta 0:00:01\r\u001b[K     |██████████                      | 30 kB 32.5 MB/s eta 0:00:01\r\u001b[K     |█████████████▌                  | 40 kB 37.3 MB/s eta 0:00:01\r\u001b[K     |████████████████▉               | 51 kB 40.0 MB/s eta 0:00:01\r\u001b[K     |████████████████████▏           | 61 kB 43.2 MB/s eta 0:00:01\r\u001b[K     |███████████████████████▌        | 71 kB 43.9 MB/s eta 0:00:01\r\u001b[K     |███████████████████████████     | 81 kB 46.1 MB/s eta 0:00:01\r\u001b[K     |██████████████████████████████▎ | 92 kB 45.3 MB/s eta 0:00:01\r\u001b[K     |████████████████████████████████| 97 kB 6.5 MB/s \n",
            "\u001b[?25hRequirement already satisfied: requests<3.0.0,>=2.23.0 in /usr/local/lib/python3.7/dist-packages (from deep-translator) (2.23.0)\n",
            "Collecting click<9.0.0,>=8.0.1\n",
            "  Downloading click-8.0.3-py3-none-any.whl (97 kB)\n",
            "\u001b[K     |████████████████████████████████| 97 kB 5.9 MB/s \n",
            "\u001b[?25hCollecting soupsieve>1.2\n",
            "  Downloading soupsieve-2.3.1-py3-none-any.whl (37 kB)\n",
            "Requirement already satisfied: importlib-metadata in /usr/local/lib/python3.7/dist-packages (from click<9.0.0,>=8.0.1->deep-translator) (4.8.2)\n",
            "Requirement already satisfied: idna<3,>=2.5 in /usr/local/lib/python3.7/dist-packages (from requests<3.0.0,>=2.23.0->deep-translator) (2.10)\n",
            "Requirement already satisfied: urllib3!=1.25.0,!=1.25.1,<1.26,>=1.21.1 in /usr/local/lib/python3.7/dist-packages (from requests<3.0.0,>=2.23.0->deep-translator) (1.24.3)\n",
            "Requirement already satisfied: certifi>=2017.4.17 in /usr/local/lib/python3.7/dist-packages (from requests<3.0.0,>=2.23.0->deep-translator) (2021.10.8)\n",
            "Requirement already satisfied: chardet<4,>=3.0.2 in /usr/local/lib/python3.7/dist-packages (from requests<3.0.0,>=2.23.0->deep-translator) (3.0.4)\n",
            "Requirement already satisfied: zipp>=0.5 in /usr/local/lib/python3.7/dist-packages (from importlib-metadata->click<9.0.0,>=8.0.1->deep-translator) (3.6.0)\n",
            "Requirement already satisfied: typing-extensions>=3.6.4 in /usr/local/lib/python3.7/dist-packages (from importlib-metadata->click<9.0.0,>=8.0.1->deep-translator) (3.10.0.2)\n",
            "Installing collected packages: soupsieve, click, beautifulsoup4, deep-translator\n",
            "  Attempting uninstall: click\n",
            "    Found existing installation: click 7.1.2\n",
            "    Uninstalling click-7.1.2:\n",
            "      Successfully uninstalled click-7.1.2\n",
            "  Attempting uninstall: beautifulsoup4\n",
            "    Found existing installation: beautifulsoup4 4.6.3\n",
            "    Uninstalling beautifulsoup4-4.6.3:\n",
            "      Successfully uninstalled beautifulsoup4-4.6.3\n",
            "\u001b[31mERROR: pip's dependency resolver does not currently take into account all the packages that are installed. This behaviour is the source of the following dependency conflicts.\n",
            "flask 1.1.4 requires click<8.0,>=5.1, but you have click 8.0.3 which is incompatible.\u001b[0m\n",
            "Successfully installed beautifulsoup4-4.10.0 click-8.0.3 deep-translator-1.5.5 soupsieve-2.3.1\n"
          ]
        }
      ],
      "source": [
        "!pip install deep-translator"
      ]
    },
    {
      "cell_type": "code",
      "execution_count": 6,
      "metadata": {
        "colab": {
          "base_uri": "https://localhost:8080/"
        },
        "id": "1ZRYqhmehG_S",
        "outputId": "e242f2b3-ac36-469d-bd43-28b72503acdd"
      },
      "outputs": [
        {
          "output_type": "stream",
          "name": "stdout",
          "text": [
            "Collecting contractions\n",
            "  Downloading contractions-0.0.58-py2.py3-none-any.whl (8.0 kB)\n",
            "Collecting textsearch>=0.0.21\n",
            "  Downloading textsearch-0.0.21-py2.py3-none-any.whl (7.5 kB)\n",
            "Collecting anyascii\n",
            "  Downloading anyascii-0.3.0-py3-none-any.whl (284 kB)\n",
            "\u001b[K     |████████████████████████████████| 284 kB 31.7 MB/s \n",
            "\u001b[?25hCollecting pyahocorasick\n",
            "  Downloading pyahocorasick-1.4.2.tar.gz (321 kB)\n",
            "\u001b[K     |████████████████████████████████| 321 kB 48.1 MB/s \n",
            "\u001b[?25hBuilding wheels for collected packages: pyahocorasick\n",
            "  Building wheel for pyahocorasick (setup.py) ... \u001b[?25l\u001b[?25hdone\n",
            "  Created wheel for pyahocorasick: filename=pyahocorasick-1.4.2-cp37-cp37m-linux_x86_64.whl size=85443 sha256=a37629840bfed9df4f2ce61d6ee7d9bafa2d322c05c7a7a4cbaec2637a2b1bf8\n",
            "  Stored in directory: /root/.cache/pip/wheels/25/19/a6/8f363d9939162782bb8439d886469756271abc01f76fbd790f\n",
            "Successfully built pyahocorasick\n",
            "Installing collected packages: pyahocorasick, anyascii, textsearch, contractions\n",
            "Successfully installed anyascii-0.3.0 contractions-0.0.58 pyahocorasick-1.4.2 textsearch-0.0.21\n"
          ]
        }
      ],
      "source": [
        "!pip install contractions"
      ]
    },
    {
      "cell_type": "code",
      "execution_count": 7,
      "metadata": {
        "colab": {
          "base_uri": "https://localhost:8080/"
        },
        "id": "f21EcRS-nzO5",
        "outputId": "a7289113-8373-4589-d372-c59f230e1439"
      },
      "outputs": [
        {
          "output_type": "stream",
          "name": "stdout",
          "text": [
            "Collecting pyspellchecker\n",
            "  Downloading pyspellchecker-0.6.2-py3-none-any.whl (2.7 MB)\n",
            "\u001b[K     |████████████████████████████████| 2.7 MB 26.0 MB/s \n",
            "\u001b[?25hInstalling collected packages: pyspellchecker\n",
            "Successfully installed pyspellchecker-0.6.2\n"
          ]
        }
      ],
      "source": [
        "!pip install pyspellchecker "
      ]
    },
    {
      "cell_type": "code",
      "execution_count": 8,
      "metadata": {
        "id": "O5JmebBGcUUO"
      },
      "outputs": [],
      "source": [
        "import numpy as np\n",
        "import pandas as pd \n",
        "import matplotlib.pyplot as plt\n",
        "%matplotlib inline\n",
        "import seaborn as sns"
      ]
    },
    {
      "cell_type": "code",
      "execution_count": 9,
      "metadata": {
        "id": "Ab2Q_frsn6Mx"
      },
      "outputs": [],
      "source": [
        "from spellchecker import SpellChecker"
      ]
    },
    {
      "cell_type": "code",
      "execution_count": 10,
      "metadata": {
        "id": "uI_K7aloJBwe"
      },
      "outputs": [],
      "source": [
        "import re"
      ]
    },
    {
      "cell_type": "code",
      "execution_count": 11,
      "metadata": {
        "id": "OO_qNUbVHLf1"
      },
      "outputs": [],
      "source": [
        "import ftfy"
      ]
    },
    {
      "cell_type": "code",
      "execution_count": 12,
      "metadata": {
        "id": "2tdy7UMDhQFF"
      },
      "outputs": [],
      "source": [
        "import contractions"
      ]
    },
    {
      "cell_type": "code",
      "execution_count": 13,
      "metadata": {
        "id": "xBZmhMvhL7jB"
      },
      "outputs": [],
      "source": [
        "from deep_translator import GoogleTranslator"
      ]
    },
    {
      "cell_type": "code",
      "execution_count": 14,
      "metadata": {
        "id": "pPTJhR9ilA2_"
      },
      "outputs": [],
      "source": [
        "import string\n",
        "import nltk\n",
        "from nltk.corpus import stopwords\n",
        "from textblob import TextBlob\n",
        "from nltk.corpus import wordnet\n",
        "from nltk.stem import WordNetLemmatizer\n",
        "from nltk.tokenize import word_tokenize"
      ]
    },
    {
      "cell_type": "code",
      "execution_count": 15,
      "metadata": {
        "id": "VinyBmtrrftY"
      },
      "outputs": [],
      "source": [
        "from textblob import TextBlob\n",
        "from langdetect import detect\n",
        "from langdetect import detect_langs"
      ]
    },
    {
      "cell_type": "code",
      "execution_count": 16,
      "metadata": {
        "id": "9PmE4atOUPc9"
      },
      "outputs": [],
      "source": [
        "from wordcloud import WordCloud"
      ]
    },
    {
      "cell_type": "code",
      "execution_count": 17,
      "metadata": {
        "colab": {
          "base_uri": "https://localhost:8080/"
        },
        "id": "ldGfeztsYC0b",
        "outputId": "b470d9b5-5f43-49ec-e04a-11fe58162b19"
      },
      "outputs": [
        {
          "output_type": "stream",
          "name": "stdout",
          "text": [
            "[nltk_data] Downloading package stopwords to /root/nltk_data...\n",
            "[nltk_data]   Unzipping corpora/stopwords.zip.\n"
          ]
        },
        {
          "output_type": "execute_result",
          "data": {
            "text/plain": [
              "True"
            ]
          },
          "metadata": {},
          "execution_count": 17
        }
      ],
      "source": [
        "nltk.download('stopwords')"
      ]
    },
    {
      "cell_type": "code",
      "source": [
        "nltk.download('punkt')"
      ],
      "metadata": {
        "colab": {
          "base_uri": "https://localhost:8080/"
        },
        "id": "JHPNwDKY8G1H",
        "outputId": "5609d66c-3c53-4dbb-a657-cd7aecbc1a6b"
      },
      "execution_count": 18,
      "outputs": [
        {
          "output_type": "stream",
          "name": "stdout",
          "text": [
            "[nltk_data] Downloading package punkt to /root/nltk_data...\n",
            "[nltk_data]   Unzipping tokenizers/punkt.zip.\n"
          ]
        },
        {
          "output_type": "execute_result",
          "data": {
            "text/plain": [
              "True"
            ]
          },
          "metadata": {},
          "execution_count": 18
        }
      ]
    },
    {
      "cell_type": "code",
      "source": [
        "nltk.download('wordnet')"
      ],
      "metadata": {
        "colab": {
          "base_uri": "https://localhost:8080/"
        },
        "id": "-qvlP9r28O0t",
        "outputId": "5df88ff7-3de0-4826-ade2-a6f66945701a"
      },
      "execution_count": 19,
      "outputs": [
        {
          "output_type": "stream",
          "name": "stdout",
          "text": [
            "[nltk_data] Downloading package wordnet to /root/nltk_data...\n",
            "[nltk_data]   Unzipping corpora/wordnet.zip.\n"
          ]
        },
        {
          "output_type": "execute_result",
          "data": {
            "text/plain": [
              "True"
            ]
          },
          "metadata": {},
          "execution_count": 19
        }
      ]
    },
    {
      "cell_type": "code",
      "execution_count": 20,
      "metadata": {
        "id": "3mnNYtrcoBLA"
      },
      "outputs": [],
      "source": [
        "from tensorflow.keras.preprocessing.text import Tokenizer\n",
        "from tensorflow.keras.preprocessing.sequence import pad_sequences\n",
        "from tensorflow.keras.models import Sequential\n",
        "from tensorflow.keras.layers import Dense, Flatten, Embedding, SpatialDropout1D, Conv1D, MaxPooling1D, Bidirectional, LSTM, Dropout"
      ]
    },
    {
      "cell_type": "code",
      "execution_count": 21,
      "metadata": {
        "id": "W28quvnnKQCI"
      },
      "outputs": [],
      "source": [
        "from sklearn.model_selection import train_test_split\n",
        "from sklearn.metrics import accuracy_score, f1_score, average_precision_score, recall_score, classification_report, confusion_matrix"
      ]
    },
    {
      "cell_type": "code",
      "execution_count": 22,
      "metadata": {
        "id": "nrfP9ztsKQIj"
      },
      "outputs": [],
      "source": [
        "from sklearn.preprocessing import LabelEncoder"
      ]
    },
    {
      "cell_type": "code",
      "execution_count": 23,
      "metadata": {
        "id": "wkSbY3hzKQNf"
      },
      "outputs": [],
      "source": [
        "from tensorflow.keras import optimizers"
      ]
    },
    {
      "cell_type": "code",
      "execution_count": 24,
      "metadata": {
        "id": "_qrQX4V1fQWX"
      },
      "outputs": [],
      "source": [
        "seed = 32"
      ]
    },
    {
      "cell_type": "code",
      "source": [
        "from imblearn.over_sampling  import RandomOverSampler, SMOTE"
      ],
      "metadata": {
        "id": "pCdym5APd4gh"
      },
      "execution_count": 25,
      "outputs": []
    },
    {
      "cell_type": "code",
      "execution_count": 26,
      "metadata": {
        "id": "mC5FQfaRZnyF"
      },
      "outputs": [],
      "source": [
        "pd.set_option('display.max_colwidth', None)"
      ]
    },
    {
      "cell_type": "code",
      "execution_count": 27,
      "metadata": {
        "colab": {
          "base_uri": "https://localhost:8080/"
        },
        "id": "VRuVqDnafXfw",
        "outputId": "fc1ff04f-dc65-4ea7-ee50-b5377e7d68dd"
      },
      "outputs": [
        {
          "output_type": "stream",
          "name": "stdout",
          "text": [
            "/content/drive/MyDrive/GL/ATA/input_data.xlsx\n"
          ]
        }
      ],
      "source": [
        "ata_path = \"/content/drive/MyDrive/GL/ATA/input_data.xlsx\"\n",
        "print(ata_path)"
      ]
    },
    {
      "cell_type": "code",
      "execution_count": 28,
      "metadata": {
        "id": "oXo1BQMvN_Iv"
      },
      "outputs": [],
      "source": [
        "def remove_lead_trail_space(text):\n",
        "  return text.strip()"
      ]
    },
    {
      "cell_type": "code",
      "execution_count": 29,
      "metadata": {
        "id": "F1u0Pb-VOCbv"
      },
      "outputs": [],
      "source": [
        "def convert_to_lowercase(text):\n",
        "  return text.lower()"
      ]
    },
    {
      "cell_type": "code",
      "execution_count": 30,
      "metadata": {
        "id": "rWyNrEJ4OCh6"
      },
      "outputs": [],
      "source": [
        "def remove_punctuation(text):\n",
        "    PUNCT_TO_REMOVE = string.punctuation\n",
        "    return text.translate(str.maketrans('', '', PUNCT_TO_REMOVE))"
      ]
    },
    {
      "cell_type": "code",
      "execution_count": 31,
      "metadata": {
        "id": "XD47v7W8OCny"
      },
      "outputs": [],
      "source": [
        "def remove_digits(text):\n",
        "  digits_rem = ''.join((x for x in text if not x.isdigit()))\n",
        "  return digits_rem"
      ]
    },
    {
      "cell_type": "code",
      "execution_count": 32,
      "metadata": {
        "id": "kYKZDbQIOI7e"
      },
      "outputs": [],
      "source": [
        "def remove_stopwords(text):\n",
        "    STOPWORDS = set(stopwords.words('english'))\n",
        "    return \" \".join([word for word in str(text).split() if word not in STOPWORDS])"
      ]
    },
    {
      "cell_type": "code",
      "execution_count": 33,
      "metadata": {
        "id": "MDS3BGdsOI_U"
      },
      "outputs": [],
      "source": [
        "def lemmetize_text(text):\n",
        "  lemmatizer = WordNetLemmatizer()\n",
        "  word_list = nltk.word_tokenize(text)\n",
        "  lemmatized_output = ' '.join([lemmatizer.lemmatize(word) for word in word_list])\n",
        "  return lemmatized_output"
      ]
    },
    {
      "cell_type": "code",
      "execution_count": 34,
      "metadata": {
        "id": "aCjGTC5PjnWJ"
      },
      "outputs": [],
      "source": [
        "def clean_mojibake(text):\n",
        "  cleaned_mojibake = ftfy.fix_text(text)\n",
        "  return cleaned_mojibake"
      ]
    },
    {
      "cell_type": "code",
      "execution_count": 35,
      "metadata": {
        "id": "ly85KgkMj-Ol"
      },
      "outputs": [],
      "source": [
        "def translate_to_english(text):\n",
        "  translated_text = text\n",
        "  try:\n",
        "    if (detect(text) != 'en'):\n",
        "      translated_text = GoogleTranslator(source='auto', target='english').translate(text)\n",
        "  except:\n",
        "    translated_text = text\n",
        "  return translated_text"
      ]
    },
    {
      "cell_type": "code",
      "execution_count": 36,
      "metadata": {
        "id": "J5P93CL6HpIz"
      },
      "outputs": [],
      "source": [
        "def remove_linebreaks(text):\n",
        "  text = text.replace(\"\\r\",\" \")\n",
        "  text = text.replace(\"\\n\",\" \")\n",
        "  text = text.replace(\"\\t\",\" \")\n",
        "  return text"
      ]
    },
    {
      "cell_type": "code",
      "execution_count": 37,
      "metadata": {
        "id": "9nVKp1yEVE_U"
      },
      "outputs": [],
      "source": [
        "def extract_received_from_mail(text):\n",
        "  return_text = \"\"\n",
        "  match = re.search(r'received from: [\\w\\.-]+@[\\w\\.-]+', text)\n",
        "  if bool(match):\n",
        "    mail_match = re.search(r'[\\w\\.-]+@[\\w\\.-]+', match.group(0))\n",
        "    return_text = mail_match.group(0)\n",
        "  else:\n",
        "    return_text = \"No Match\"\n",
        "  return return_text"
      ]
    },
    {
      "cell_type": "code",
      "execution_count": 38,
      "metadata": {
        "id": "ZfI8CZD2yLGZ"
      },
      "outputs": [],
      "source": [
        "def extract_subject_from_mail(text):\n",
        "  return_subject = \"\"\n",
        "  match_subject = re.search(r'subject:.*[\\r\\n\\t\\f\\v]', text)\n",
        "  if bool(match_subject):\n",
        "    return_subject = match_subject.group(0).replace('subject:',\"\")\n",
        "    return_subject = remove_linebreaks(return_subject)\n",
        "    return_subject = remove_lead_trail_space(return_subject)\n",
        "  else:\n",
        "    return_subject = \"No Match\"\n",
        "  return return_subject"
      ]
    },
    {
      "cell_type": "code",
      "execution_count": 39,
      "metadata": {
        "id": "inYR3fZ4bhRK"
      },
      "outputs": [],
      "source": [
        "def remove_received_from_mail(text):\n",
        "  match = re.search(r'received from: [\\w\\.-]+@[\\w\\.-]+', text)\n",
        "  if bool(match):\n",
        "    text = text.replace(match.group(0),\"\")\n",
        "  return text"
      ]
    },
    {
      "cell_type": "code",
      "execution_count": 40,
      "metadata": {
        "id": "PR7NliVXV7LQ"
      },
      "outputs": [],
      "source": [
        "def remove_email(text):\n",
        "  matched_emails = re.findall('\\S+@\\S+', text)\n",
        "\n",
        "  for email in matched_emails:\n",
        "    text = text.replace(email,\"\")\n",
        "  return text"
      ]
    },
    {
      "cell_type": "code",
      "execution_count": 41,
      "metadata": {
        "id": "73AaBvuZJchh"
      },
      "outputs": [],
      "source": [
        "def removed_from_to_sent_date(text):\n",
        "  ## Removes the occurances of \n",
        "  ## from: till any of the line breaks\n",
        "  ## to: till any of the line breaks\n",
        "  ## sent: till any of the line breaks\n",
        "  ## date: till any of the line breaks\n",
        "  ## cc: till any of the line breaks\n",
        "  ## subject: till any of the line breaks\n",
        "  ## importance: till any of the line breaks\n",
        "\n",
        "  \n",
        "  match_job_time = re.findall(r'at:.[0-9]+/[0-9]+/[0-9]+.[0-9]+:[0-9]+:[0-9]+', text)\n",
        "  match_mailto = re.findall(r'<mailto:.*>', text)\n",
        "  match_from = re.findall(r'from:.*[\\r\\n]', text)\n",
        "  match_to = re.findall(r'to:.*[\\r\\n]', text)\n",
        "  match_sent = re.findall(r'sent:.*[\\r\\n]', text) \n",
        "  match_date = re.findall(r'date:.*[\\r\\n]', text)\n",
        "  match_cc = re.findall(r'cc:.*[\\r\\n]', text)\n",
        "  match_subject = re.findall(r'subject:.*[\\r\\n]', text)\n",
        "  match_importance = re.findall(r'importance:.*[\\r\\n]', text)\n",
        "  match_first_name = re.findall(r'first name.*[\\r\\n]', text)\n",
        "  match_last_name = re.findall(r'last name.*[\\r\\n]', text)\n",
        "  match_user_name_space = re.findall(r'user name:.*[\\r\\n]', text)\n",
        "  match_user_name = re.findall(r'username:.*[\\r\\n]', text)\n",
        "  match_name = re.findall(r'name:.*[\\r\\n]', text)\n",
        "  match_language = re.findall(r'language:.*[\\r\\n]', text)\n",
        "  match_browser = re.findall(r'browser:.*[\\r\\n]', text)\n",
        "  match_mail_id = re.findall(r'mail id:.*[\\r\\n]', text)\n",
        "  match_email_address = re.findall(r'email address:.*[\\r\\n]', text)\n",
        "  match_email = re.findall(r'email:.*[\\r\\n]', text)\n",
        "  match_customernumber = re.findall(r'customer number:.*[\\r\\n]', text)\n",
        "  match_customerjobtitle = re.findall(r'customer job title:.*[\\r\\n]', text)\n",
        "  match_telephone = re.findall(r'telephone:.*[\\r\\n]', text)\n",
        "  match_contact = re.findall(r'contact #:.*[\\r\\n]', text)\n",
        "  match_vit_ref_num = re.findall(r'vitalyst reference number:.*[\\r\\n]', text)\n",
        "  match_supervisor = re.findall(r'supervisor:.*[\\r\\n]', text)\n",
        "  match_manager = re.findall(r'manager.*[\\r\\n]', text)\n",
        "  match_i_number = re.findall(r'i number:.*[\\r\\n]', text)\n",
        "  match_cost_center = re.findall(r'cost center.*[\\r\\n]', text)\n",
        "  match_ext_comp = re.findall(r'external company name.*[\\r\\n]', text)\n",
        "  match_emp_id = re.findall(r'emp id:.*[\\r\\n]', text)\n",
        "  match_emb_image = re.findall(r'\\[cid:image.*\\]', text)\n",
        "  match_begin_fwd_msg = re.findall(r'begin forwarded message:', text)\n",
        "  match_sent_from_iphone = re.findall(r'(sent from my iphone|sent from my ipad)', text)\n",
        "  match_sir_madam = re.findall(r'(sir or madam,|sir/mam,|sir,)', text)\n",
        "  match_yes_no_na_option = re.findall(r'(\\(yes/no/na\\))', text)\n",
        "  match_summary = re.findall(r'summary:', text)\n",
        "\n",
        "  all_matches = match_job_time + match_mailto + match_from + match_to + match_sent + match_date + match_cc + match_subject + match_importance + match_first_name + match_last_name + match_user_name_space + match_user_name + match_name + match_language + match_browser + match_mail_id + match_email_address + match_email + match_customernumber + match_telephone + match_summary + match_customerjobtitle + match_contact + match_vit_ref_num + match_supervisor + match_manager + match_i_number + match_cost_center + match_ext_comp + match_emp_id + match_emb_image + match_begin_fwd_msg + match_sent_from_iphone + match_sir_madam + match_yes_no_na_option\n",
        "\n",
        "  for matched_text in all_matches:\n",
        "    text = text.replace(matched_text, \"\")\n",
        "\n",
        "  return text"
      ]
    },
    {
      "cell_type": "code",
      "execution_count": 42,
      "metadata": {
        "id": "WwJ3x34erktZ"
      },
      "outputs": [],
      "source": [
        "def remove_greetings(text):\n",
        "  match_greetings = re.search(r'(^|\\s)(good day|good afternoon|good morning|good evening)(,|\\s|!|.|:)', text)\n",
        "  if bool(match_greetings):\n",
        "    text = text.replace(match_greetings.group(0),\"\")\n",
        "  return text"
      ]
    },
    {
      "cell_type": "code",
      "execution_count": 43,
      "metadata": {
        "id": "Z-HVm9Zt1q75"
      },
      "outputs": [],
      "source": [
        "def remove_best_wishes(text):\n",
        "  match_bestwishes = re.search(r'(with best|best|with kind|kind|many|with warm|warm)$', text)\n",
        "  if bool(match_bestwishes):\n",
        "    text = text.replace(match_bestwishes.group(0),\"\")\n",
        "  return text"
      ]
    },
    {
      "cell_type": "code",
      "execution_count": 44,
      "metadata": {
        "id": "8QvGpz7i98CB"
      },
      "outputs": [],
      "source": [
        "def remove_hello_wishes(text):\n",
        "  match_hellowishes = re.search(r'(hello i.t. team|hello help-team|hello support team|hello help-team|hello it-team|hello ladies and gentlemen|hello  it helper|hellow|hello it support|hello all|hello colleagues|hi there|hello it team|hello sir|hello it service|hello it|hello helpdesk|hello team|hello all|hello it desk|hello  it helper|hello dac|hello|gentles|it team|dear all|dear it|dear|hallo|all groups|it help|team)(,|\\s|!|.|:|;|<|~)', text)\n",
        "  if bool(match_hellowishes):\n",
        "    text = text.replace(match_hellowishes.group(0),\"\")\n",
        "  return text"
      ]
    },
    {
      "cell_type": "code",
      "execution_count": 45,
      "metadata": {
        "id": "mszVQ12SIWxm"
      },
      "outputs": [],
      "source": [
        "def remove_hi(text):\n",
        "  match_hi = re.search(r'(hi it|hi team|hi it experts|hi)(,|\\s|!|.|:)', text)\n",
        "  if bool(match_hi):\n",
        "    text = text.replace(match_hi.group(0),\"\")\n",
        "  return text          "
      ]
    },
    {
      "cell_type": "code",
      "execution_count": 46,
      "metadata": {
        "id": "7mJE3sVB59fO"
      },
      "outputs": [],
      "source": [
        "def remove_thanking(text):\n",
        "  match_thanking = re.search(r'(thanking you|thanking u|thank u|thank you|thanks)(,|.|/s|$)', text)\n",
        "  if bool(match_thanking):\n",
        "    text = text.replace(match_thanking.group(0),\"\")\n",
        "  return text"
      ]
    },
    {
      "cell_type": "code",
      "execution_count": 47,
      "metadata": {
        "id": "MugCNApeJafd"
      },
      "outputs": [],
      "source": [
        "def expand_pls(text):\n",
        "  match_pls = re.search(r'(pls)(\\s|.)', text)\n",
        "  if bool(match_pls):\n",
        "    text = text.replace(match_pls.group(0),\"\")\n",
        "  return text"
      ]
    },
    {
      "cell_type": "code",
      "execution_count": 48,
      "metadata": {
        "id": "REC1_VvvGiAT"
      },
      "outputs": [],
      "source": [
        "def remove_please(text):\n",
        "  match_help = re.search(r'please help to', text)\n",
        "  if bool(match_help):\n",
        "    text = text.replace(match_help.group(0),\"\")\n",
        "  return text"
      ]
    },
    {
      "cell_type": "code",
      "execution_count": 49,
      "metadata": {
        "id": "SHZyNlX_h5Qz"
      },
      "outputs": [],
      "source": [
        "def fix_contractions(text):\n",
        "  fixed_contractions = contractions.fix(text)\n",
        "  return fixed_contractions"
      ]
    },
    {
      "cell_type": "code",
      "execution_count": 50,
      "metadata": {
        "id": "P5EVl-AuOJBE"
      },
      "outputs": [],
      "source": [
        "def preprocess_text_part1(text):\n",
        "  text = clean_mojibake(text)\n",
        "  text = convert_to_lowercase(text)\n",
        "  return text"
      ]
    },
    {
      "cell_type": "code",
      "execution_count": 51,
      "metadata": {
        "id": "mTlp8UkxOJDd"
      },
      "outputs": [],
      "source": [
        "def preprocess_text_part2(text):\n",
        "  text = remove_received_from_mail(text)\n",
        "  text = remove_email(text)\n",
        "  text = removed_from_to_sent_date(text)\n",
        "  text = remove_linebreaks(text)\n",
        "  text = remove_lead_trail_space(text)\n",
        "  text = translate_to_english(text)\n",
        "  #text = remove_punctuation(text) \n",
        "  text = remove_digits(text)\n",
        "  text = remove_greetings(text)\n",
        "  text = remove_best_wishes(text)\n",
        "  text = remove_hello_wishes(text)\n",
        "  #text = remove_stopwords(text)\n",
        "  #text = lemmetize_text(text)\n",
        "  text = remove_hello_wishes(text)\n",
        "  text = remove_lead_trail_space(text)\n",
        "  text = remove_hi(text)\n",
        "  text = remove_thanking(text)\n",
        "  text = expand_pls(text)\n",
        "  text = remove_please(text)\n",
        "  text = fix_contractions(text)\n",
        "  text = remove_lead_trail_space(text)\n",
        "  return text"
      ]
    },
    {
      "cell_type": "code",
      "execution_count": 52,
      "metadata": {
        "id": "febtX6TYfgqE"
      },
      "outputs": [],
      "source": [
        "ata_data = pd.read_excel(ata_path) "
      ]
    },
    {
      "cell_type": "code",
      "execution_count": 53,
      "metadata": {
        "colab": {
          "base_uri": "https://localhost:8080/",
          "height": 354
        },
        "id": "IK1YlL23gBU7",
        "outputId": "a6a72842-bcd4-4c7c-8938-94dcc83daa44"
      },
      "outputs": [
        {
          "output_type": "execute_result",
          "data": {
            "text/html": [
              "\n",
              "  <div id=\"df-30de575c-42df-436e-89bd-2ae8ca0bec70\">\n",
              "    <div class=\"colab-df-container\">\n",
              "      <div>\n",
              "<style scoped>\n",
              "    .dataframe tbody tr th:only-of-type {\n",
              "        vertical-align: middle;\n",
              "    }\n",
              "\n",
              "    .dataframe tbody tr th {\n",
              "        vertical-align: top;\n",
              "    }\n",
              "\n",
              "    .dataframe thead th {\n",
              "        text-align: right;\n",
              "    }\n",
              "</style>\n",
              "<table border=\"1\" class=\"dataframe\">\n",
              "  <thead>\n",
              "    <tr style=\"text-align: right;\">\n",
              "      <th></th>\n",
              "      <th>Short description</th>\n",
              "      <th>Description</th>\n",
              "      <th>Caller</th>\n",
              "      <th>Assignment group</th>\n",
              "    </tr>\n",
              "  </thead>\n",
              "  <tbody>\n",
              "    <tr>\n",
              "      <th>0</th>\n",
              "      <td>login issue</td>\n",
              "      <td>-verified user details.(employee# &amp; manager name)\\r\\n-checked the user name in ad and reset the password.\\r\\n-advised the user to login and check.\\r\\n-caller confirmed that he was able to login.\\r\\n-issue resolved.</td>\n",
              "      <td>spxjnwir pjlcoqds</td>\n",
              "      <td>GRP_0</td>\n",
              "    </tr>\n",
              "    <tr>\n",
              "      <th>1</th>\n",
              "      <td>outlook</td>\n",
              "      <td>\\r\\n\\r\\nreceived from: hmjdrvpb.komuaywn@gmail.com\\r\\n\\r\\nhello team,\\r\\n\\r\\nmy meetings/skype meetings etc are not appearing in my outlook calendar, can somebody please advise how to correct this?\\r\\n\\r\\nkind</td>\n",
              "      <td>hmjdrvpb komuaywn</td>\n",
              "      <td>GRP_0</td>\n",
              "    </tr>\n",
              "    <tr>\n",
              "      <th>2</th>\n",
              "      <td>cant log in to vpn</td>\n",
              "      <td>\\r\\n\\r\\nreceived from: eylqgodm.ybqkwiam@gmail.com\\r\\n\\r\\nhi\\r\\n\\r\\ni cannot log on to vpn\\r\\n\\r\\nbest</td>\n",
              "      <td>eylqgodm ybqkwiam</td>\n",
              "      <td>GRP_0</td>\n",
              "    </tr>\n",
              "    <tr>\n",
              "      <th>3</th>\n",
              "      <td>unable to access hr_tool page</td>\n",
              "      <td>unable to access hr_tool page</td>\n",
              "      <td>xbkucsvz gcpydteq</td>\n",
              "      <td>GRP_0</td>\n",
              "    </tr>\n",
              "    <tr>\n",
              "      <th>4</th>\n",
              "      <td>skype error</td>\n",
              "      <td>skype error</td>\n",
              "      <td>owlgqjme qhcozdfx</td>\n",
              "      <td>GRP_0</td>\n",
              "    </tr>\n",
              "  </tbody>\n",
              "</table>\n",
              "</div>\n",
              "      <button class=\"colab-df-convert\" onclick=\"convertToInteractive('df-30de575c-42df-436e-89bd-2ae8ca0bec70')\"\n",
              "              title=\"Convert this dataframe to an interactive table.\"\n",
              "              style=\"display:none;\">\n",
              "        \n",
              "  <svg xmlns=\"http://www.w3.org/2000/svg\" height=\"24px\"viewBox=\"0 0 24 24\"\n",
              "       width=\"24px\">\n",
              "    <path d=\"M0 0h24v24H0V0z\" fill=\"none\"/>\n",
              "    <path d=\"M18.56 5.44l.94 2.06.94-2.06 2.06-.94-2.06-.94-.94-2.06-.94 2.06-2.06.94zm-11 1L8.5 8.5l.94-2.06 2.06-.94-2.06-.94L8.5 2.5l-.94 2.06-2.06.94zm10 10l.94 2.06.94-2.06 2.06-.94-2.06-.94-.94-2.06-.94 2.06-2.06.94z\"/><path d=\"M17.41 7.96l-1.37-1.37c-.4-.4-.92-.59-1.43-.59-.52 0-1.04.2-1.43.59L10.3 9.45l-7.72 7.72c-.78.78-.78 2.05 0 2.83L4 21.41c.39.39.9.59 1.41.59.51 0 1.02-.2 1.41-.59l7.78-7.78 2.81-2.81c.8-.78.8-2.07 0-2.86zM5.41 20L4 18.59l7.72-7.72 1.47 1.35L5.41 20z\"/>\n",
              "  </svg>\n",
              "      </button>\n",
              "      \n",
              "  <style>\n",
              "    .colab-df-container {\n",
              "      display:flex;\n",
              "      flex-wrap:wrap;\n",
              "      gap: 12px;\n",
              "    }\n",
              "\n",
              "    .colab-df-convert {\n",
              "      background-color: #E8F0FE;\n",
              "      border: none;\n",
              "      border-radius: 50%;\n",
              "      cursor: pointer;\n",
              "      display: none;\n",
              "      fill: #1967D2;\n",
              "      height: 32px;\n",
              "      padding: 0 0 0 0;\n",
              "      width: 32px;\n",
              "    }\n",
              "\n",
              "    .colab-df-convert:hover {\n",
              "      background-color: #E2EBFA;\n",
              "      box-shadow: 0px 1px 2px rgba(60, 64, 67, 0.3), 0px 1px 3px 1px rgba(60, 64, 67, 0.15);\n",
              "      fill: #174EA6;\n",
              "    }\n",
              "\n",
              "    [theme=dark] .colab-df-convert {\n",
              "      background-color: #3B4455;\n",
              "      fill: #D2E3FC;\n",
              "    }\n",
              "\n",
              "    [theme=dark] .colab-df-convert:hover {\n",
              "      background-color: #434B5C;\n",
              "      box-shadow: 0px 1px 3px 1px rgba(0, 0, 0, 0.15);\n",
              "      filter: drop-shadow(0px 1px 2px rgba(0, 0, 0, 0.3));\n",
              "      fill: #FFFFFF;\n",
              "    }\n",
              "  </style>\n",
              "\n",
              "      <script>\n",
              "        const buttonEl =\n",
              "          document.querySelector('#df-30de575c-42df-436e-89bd-2ae8ca0bec70 button.colab-df-convert');\n",
              "        buttonEl.style.display =\n",
              "          google.colab.kernel.accessAllowed ? 'block' : 'none';\n",
              "\n",
              "        async function convertToInteractive(key) {\n",
              "          const element = document.querySelector('#df-30de575c-42df-436e-89bd-2ae8ca0bec70');\n",
              "          const dataTable =\n",
              "            await google.colab.kernel.invokeFunction('convertToInteractive',\n",
              "                                                     [key], {});\n",
              "          if (!dataTable) return;\n",
              "\n",
              "          const docLinkHtml = 'Like what you see? Visit the ' +\n",
              "            '<a target=\"_blank\" href=https://colab.research.google.com/notebooks/data_table.ipynb>data table notebook</a>'\n",
              "            + ' to learn more about interactive tables.';\n",
              "          element.innerHTML = '';\n",
              "          dataTable['output_type'] = 'display_data';\n",
              "          await google.colab.output.renderOutput(dataTable, element);\n",
              "          const docLink = document.createElement('div');\n",
              "          docLink.innerHTML = docLinkHtml;\n",
              "          element.appendChild(docLink);\n",
              "        }\n",
              "      </script>\n",
              "    </div>\n",
              "  </div>\n",
              "  "
            ],
            "text/plain": [
              "               Short description  ... Assignment group\n",
              "0                    login issue  ...            GRP_0\n",
              "1                        outlook  ...            GRP_0\n",
              "2             cant log in to vpn  ...            GRP_0\n",
              "3  unable to access hr_tool page  ...            GRP_0\n",
              "4                   skype error   ...            GRP_0\n",
              "\n",
              "[5 rows x 4 columns]"
            ]
          },
          "metadata": {},
          "execution_count": 53
        }
      ],
      "source": [
        "ata_data.head()"
      ]
    },
    {
      "cell_type": "code",
      "execution_count": 54,
      "metadata": {
        "colab": {
          "base_uri": "https://localhost:8080/",
          "height": 354
        },
        "id": "1phX7B35gDW0",
        "outputId": "f8171fd1-d488-44b8-a20d-56e83ae4114e"
      },
      "outputs": [
        {
          "output_type": "execute_result",
          "data": {
            "text/html": [
              "\n",
              "  <div id=\"df-671b3919-4ef4-4aa6-8f30-77ce86621131\">\n",
              "    <div class=\"colab-df-container\">\n",
              "      <div>\n",
              "<style scoped>\n",
              "    .dataframe tbody tr th:only-of-type {\n",
              "        vertical-align: middle;\n",
              "    }\n",
              "\n",
              "    .dataframe tbody tr th {\n",
              "        vertical-align: top;\n",
              "    }\n",
              "\n",
              "    .dataframe thead th {\n",
              "        text-align: right;\n",
              "    }\n",
              "</style>\n",
              "<table border=\"1\" class=\"dataframe\">\n",
              "  <thead>\n",
              "    <tr style=\"text-align: right;\">\n",
              "      <th></th>\n",
              "      <th>Short description</th>\n",
              "      <th>Description</th>\n",
              "      <th>Caller</th>\n",
              "      <th>Assignment group</th>\n",
              "    </tr>\n",
              "  </thead>\n",
              "  <tbody>\n",
              "    <tr>\n",
              "      <th>8495</th>\n",
              "      <td>emails not coming in from zz mail</td>\n",
              "      <td>\\r\\n\\r\\nreceived from: avglmrts.vhqmtiua@gmail.com\\r\\n\\r\\ngood afternoon,\\r\\ni am not receiving the emails that i sent from zz mail.\\r\\nplease advise\\r\\n\\r\\n</td>\n",
              "      <td>avglmrts vhqmtiua</td>\n",
              "      <td>GRP_29</td>\n",
              "    </tr>\n",
              "    <tr>\n",
              "      <th>8496</th>\n",
              "      <td>telephony_software issue</td>\n",
              "      <td>telephony_software issue</td>\n",
              "      <td>rbozivdq gmlhrtvp</td>\n",
              "      <td>GRP_0</td>\n",
              "    </tr>\n",
              "    <tr>\n",
              "      <th>8497</th>\n",
              "      <td>vip2: windows password reset for tifpdchb pedxruyf</td>\n",
              "      <td>vip2: windows password reset for tifpdchb pedxruyf</td>\n",
              "      <td>oybwdsgx oxyhwrfz</td>\n",
              "      <td>GRP_0</td>\n",
              "    </tr>\n",
              "    <tr>\n",
              "      <th>8498</th>\n",
              "      <td>machine nÃ£o estÃ¡ funcionando</td>\n",
              "      <td>i am unable to access the machine utilities to finish the drawers adjustment settings.\\r\\nis no network..</td>\n",
              "      <td>ufawcgob aowhxjky</td>\n",
              "      <td>GRP_62</td>\n",
              "    </tr>\n",
              "    <tr>\n",
              "      <th>8499</th>\n",
              "      <td>an mehreren pc`s lassen sich verschiedene prgramdntyme nicht Ã¶ffnen.</td>\n",
              "      <td>an mehreren pc`s lassen sich verschiedene prgramdntyme nicht Ã¶ffnen. bereich cnc.</td>\n",
              "      <td>kqvbrspl jyzoklfx</td>\n",
              "      <td>GRP_49</td>\n",
              "    </tr>\n",
              "  </tbody>\n",
              "</table>\n",
              "</div>\n",
              "      <button class=\"colab-df-convert\" onclick=\"convertToInteractive('df-671b3919-4ef4-4aa6-8f30-77ce86621131')\"\n",
              "              title=\"Convert this dataframe to an interactive table.\"\n",
              "              style=\"display:none;\">\n",
              "        \n",
              "  <svg xmlns=\"http://www.w3.org/2000/svg\" height=\"24px\"viewBox=\"0 0 24 24\"\n",
              "       width=\"24px\">\n",
              "    <path d=\"M0 0h24v24H0V0z\" fill=\"none\"/>\n",
              "    <path d=\"M18.56 5.44l.94 2.06.94-2.06 2.06-.94-2.06-.94-.94-2.06-.94 2.06-2.06.94zm-11 1L8.5 8.5l.94-2.06 2.06-.94-2.06-.94L8.5 2.5l-.94 2.06-2.06.94zm10 10l.94 2.06.94-2.06 2.06-.94-2.06-.94-.94-2.06-.94 2.06-2.06.94z\"/><path d=\"M17.41 7.96l-1.37-1.37c-.4-.4-.92-.59-1.43-.59-.52 0-1.04.2-1.43.59L10.3 9.45l-7.72 7.72c-.78.78-.78 2.05 0 2.83L4 21.41c.39.39.9.59 1.41.59.51 0 1.02-.2 1.41-.59l7.78-7.78 2.81-2.81c.8-.78.8-2.07 0-2.86zM5.41 20L4 18.59l7.72-7.72 1.47 1.35L5.41 20z\"/>\n",
              "  </svg>\n",
              "      </button>\n",
              "      \n",
              "  <style>\n",
              "    .colab-df-container {\n",
              "      display:flex;\n",
              "      flex-wrap:wrap;\n",
              "      gap: 12px;\n",
              "    }\n",
              "\n",
              "    .colab-df-convert {\n",
              "      background-color: #E8F0FE;\n",
              "      border: none;\n",
              "      border-radius: 50%;\n",
              "      cursor: pointer;\n",
              "      display: none;\n",
              "      fill: #1967D2;\n",
              "      height: 32px;\n",
              "      padding: 0 0 0 0;\n",
              "      width: 32px;\n",
              "    }\n",
              "\n",
              "    .colab-df-convert:hover {\n",
              "      background-color: #E2EBFA;\n",
              "      box-shadow: 0px 1px 2px rgba(60, 64, 67, 0.3), 0px 1px 3px 1px rgba(60, 64, 67, 0.15);\n",
              "      fill: #174EA6;\n",
              "    }\n",
              "\n",
              "    [theme=dark] .colab-df-convert {\n",
              "      background-color: #3B4455;\n",
              "      fill: #D2E3FC;\n",
              "    }\n",
              "\n",
              "    [theme=dark] .colab-df-convert:hover {\n",
              "      background-color: #434B5C;\n",
              "      box-shadow: 0px 1px 3px 1px rgba(0, 0, 0, 0.15);\n",
              "      filter: drop-shadow(0px 1px 2px rgba(0, 0, 0, 0.3));\n",
              "      fill: #FFFFFF;\n",
              "    }\n",
              "  </style>\n",
              "\n",
              "      <script>\n",
              "        const buttonEl =\n",
              "          document.querySelector('#df-671b3919-4ef4-4aa6-8f30-77ce86621131 button.colab-df-convert');\n",
              "        buttonEl.style.display =\n",
              "          google.colab.kernel.accessAllowed ? 'block' : 'none';\n",
              "\n",
              "        async function convertToInteractive(key) {\n",
              "          const element = document.querySelector('#df-671b3919-4ef4-4aa6-8f30-77ce86621131');\n",
              "          const dataTable =\n",
              "            await google.colab.kernel.invokeFunction('convertToInteractive',\n",
              "                                                     [key], {});\n",
              "          if (!dataTable) return;\n",
              "\n",
              "          const docLinkHtml = 'Like what you see? Visit the ' +\n",
              "            '<a target=\"_blank\" href=https://colab.research.google.com/notebooks/data_table.ipynb>data table notebook</a>'\n",
              "            + ' to learn more about interactive tables.';\n",
              "          element.innerHTML = '';\n",
              "          dataTable['output_type'] = 'display_data';\n",
              "          await google.colab.output.renderOutput(dataTable, element);\n",
              "          const docLink = document.createElement('div');\n",
              "          docLink.innerHTML = docLinkHtml;\n",
              "          element.appendChild(docLink);\n",
              "        }\n",
              "      </script>\n",
              "    </div>\n",
              "  </div>\n",
              "  "
            ],
            "text/plain": [
              "                                                           Short description  ... Assignment group\n",
              "8495                                       emails not coming in from zz mail  ...           GRP_29\n",
              "8496                                                telephony_software issue  ...            GRP_0\n",
              "8497                      vip2: windows password reset for tifpdchb pedxruyf  ...            GRP_0\n",
              "8498                                          machine nÃ£o estÃ¡ funcionando  ...           GRP_62\n",
              "8499  an mehreren pc`s lassen sich verschiedene prgramdntyme nicht Ã¶ffnen.   ...           GRP_49\n",
              "\n",
              "[5 rows x 4 columns]"
            ]
          },
          "metadata": {},
          "execution_count": 54
        }
      ],
      "source": [
        "ata_data.tail()"
      ]
    },
    {
      "cell_type": "code",
      "execution_count": 55,
      "metadata": {
        "colab": {
          "base_uri": "https://localhost:8080/"
        },
        "id": "oxltLLFmgcAD",
        "outputId": "bbf82fe8-b330-4bb4-912d-f5c7120e78dd"
      },
      "outputs": [
        {
          "output_type": "execute_result",
          "data": {
            "text/plain": [
              "(8500, 4)"
            ]
          },
          "metadata": {},
          "execution_count": 55
        }
      ],
      "source": [
        "ata_data.shape"
      ]
    },
    {
      "cell_type": "code",
      "execution_count": 56,
      "metadata": {
        "colab": {
          "base_uri": "https://localhost:8080/"
        },
        "id": "P4RXlb9vK7v4",
        "outputId": "46924bff-f1a8-4c70-8e7e-0199ddf1b07c"
      },
      "outputs": [
        {
          "output_type": "stream",
          "name": "stdout",
          "text": [
            "<class 'pandas.core.frame.DataFrame'>\n",
            "RangeIndex: 8500 entries, 0 to 8499\n",
            "Data columns (total 4 columns):\n",
            " #   Column             Non-Null Count  Dtype \n",
            "---  ------             --------------  ----- \n",
            " 0   Short description  8492 non-null   object\n",
            " 1   Description        8499 non-null   object\n",
            " 2   Caller             8500 non-null   object\n",
            " 3   Assignment group   8500 non-null   object\n",
            "dtypes: object(4)\n",
            "memory usage: 265.8+ KB\n"
          ]
        }
      ],
      "source": [
        "ata_data.info()"
      ]
    },
    {
      "cell_type": "code",
      "execution_count": 57,
      "metadata": {
        "colab": {
          "base_uri": "https://localhost:8080/"
        },
        "id": "_CKaUIToZqZf",
        "outputId": "ec5d735f-5c9d-4ec0-eda1-49e5fe30d1c1"
      },
      "outputs": [
        {
          "output_type": "execute_result",
          "data": {
            "text/plain": [
              "Short description    8\n",
              "Description          1\n",
              "Caller               0\n",
              "Assignment group     0\n",
              "dtype: int64"
            ]
          },
          "metadata": {},
          "execution_count": 57
        }
      ],
      "source": [
        "ata_data.isnull().sum()"
      ]
    },
    {
      "cell_type": "code",
      "execution_count": 58,
      "metadata": {
        "colab": {
          "base_uri": "https://localhost:8080/"
        },
        "id": "tOzaG1GbilnG",
        "outputId": "819edd35-4d07-4ac4-f11c-d2fb37f4ae29"
      },
      "outputs": [
        {
          "output_type": "execute_result",
          "data": {
            "text/plain": [
              "blank call                                                                                        10\n",
              "call for ecwtrjnq jpecxuty                                                                         6\n",
              "reset passwords for bxeagsmt zrwdgsco using password_management_tool password reset.               5\n",
              "job Job_3028 failed in job_scheduler at: 08/24/2016 00:02:00                                       4\n",
              "blank call //gso                                                                                   3\n",
              "call came and got disconnected                                                                     3\n",
              "probleme mit erpgui \\tmqfjard qzhgdoua                                                             2\n",
              "job Job_1314 failed in job_scheduler at: 08/25/2016 08:15:00                                       2\n",
              "blank call // loud noise                                                                           2\n",
              "svc-now ticket found... doing nothing                                                              2\n",
              "german call                                                                                        2\n",
              "blank call                                                                                         2\n",
              "account locked in ad                                                                               2\n",
              "reset passwords for qwsjptlo hnlasbed using password_management_tool password reset.               1\n",
              "reset passwords for fylrosuk kedgmiul using password_management_tool password reset.               1\n",
              "issue on pricing in distributor_tool                                                               1\n",
              "job pp_EU_tool_netch_ap1 failed in job_scheduler at: 08/25/2016 16:14:00                           1\n",
              "reset passwords for wvdxnkhf jirecvta using password_management_tool password reset.               1\n",
              "job SID_31arc2 failed in job_scheduler at: 08/24/2016 06:09:00                                     1\n",
              "blank call // gso                                                                                  1\n",
              "ticket update on inplant_872730                                                                    1\n",
              "unable to launch outlook                                                                           1\n",
              "reset passwords for ezrsdgfc hofgvwel using password_management_tool password reset.               1\n",
              "reset passwords for mvhcoqed konjdmwq using password_management_tool password reset.               1\n",
              "ticket update on inplant_855239                                                                    1\n",
              "account unlock                                                                                     1\n",
              "install company barcode fÃ¼r ewew8323504 \\vzqomdgt jwoqbuml                                        1\n",
              "phone issue                                                                                        1\n",
              "job Job_2883 failed in job_scheduler at: 09/18/2016 00:02:00                                       1\n",
              "job SID_38hotf failed in job_scheduler at: 09/01/2016 22:20:00                                     1\n",
              "ç­”å¤: ç­”å¤: order products online problem                                                      1\n",
              "call disconnected due to vpn disconnection                                                         1\n",
              "reset passwords for prgthyuulla ramdntythanjesh using password_management_tool password reset.     1\n",
              "job bkbackup_tool_powder_prod_full failed in job_scheduler at: 10/22/2016 18:33:00                 1\n",
              "blank call // loud noise // gso                                                                    1\n",
              "job Job_1989 failed in job_scheduler at: 08/27/2016 11:24:00                                       1\n",
              "ticket update                                                                                      1\n",
              "vpn not working- vpn.company.com  link is giving error                                             1\n",
              "private address fields are enabled on employee master crm ui                                       1\n",
              "job Job_3028 failed in job_scheduler at: 08/23/2016 00:02:00                                       1\n",
              "job Job_549 failed in job_scheduler at: 10/07/2016 23:05:00                                        1\n",
              "job SID_37hoti failed in job_scheduler at: 09/13/2016 19:53:00                                     1\n",
              "probleme mit erpgui \\vsdtxwry ngkcdjye                                                             1\n",
              "reset passwords for cubdsrml znewqgop using password_management_tool password reset.               1\n",
              "not able to access -inq industrial (-inq.industrial@company.com)                                   1\n",
              "job Job_749 failed in job_scheduler at: 08/27/2016 15:29:00                                        1\n",
              "job Job_3028 failed in job_scheduler at: 08/26/2016 00:02:00                                       1\n",
              "reset passwords for davidthd robankm using password_management_tool password reset.                1\n",
              "job Job_3028 failed in job_scheduler at: 08/25/2016 22:02:00                                       1\n",
              "job Job_1967d failed in job_scheduler at: 10/19/2016 00:02:00                                      1\n",
              "job SID_41arc2 failed in job_scheduler at: 08/24/2016 07:04:00                                     1\n",
              "Name: Short description, dtype: int64"
            ]
          },
          "metadata": {},
          "execution_count": 58
        }
      ],
      "source": [
        "# Finding duplicate records\n",
        "ata_data[ata_data.duplicated()]['Short description'].value_counts()"
      ]
    },
    {
      "cell_type": "code",
      "execution_count": 59,
      "metadata": {
        "id": "npiZgMF3j2bt"
      },
      "outputs": [],
      "source": [
        "# Removing duplicate records\n",
        "ata_data=ata_data.drop_duplicates()"
      ]
    },
    {
      "cell_type": "code",
      "execution_count": 60,
      "metadata": {
        "colab": {
          "base_uri": "https://localhost:8080/"
        },
        "id": "0TyMXHgkkDd8",
        "outputId": "1d1dc2f7-9712-4409-eef3-08e201e4cc04"
      },
      "outputs": [
        {
          "output_type": "execute_result",
          "data": {
            "text/plain": [
              "False    8417\n",
              "dtype: int64"
            ]
          },
          "metadata": {},
          "execution_count": 60
        }
      ],
      "source": [
        "ata_data.duplicated().value_counts()"
      ]
    },
    {
      "cell_type": "markdown",
      "metadata": {
        "id": "dXmF2vaOaSJ4"
      },
      "source": [
        "There are some null values in Short Description & Description column and putting them in a different column for analysis purpose"
      ]
    },
    {
      "cell_type": "code",
      "execution_count": 61,
      "metadata": {
        "colab": {
          "base_uri": "https://localhost:8080/",
          "height": 500
        },
        "id": "Xo5typntafF2",
        "outputId": "f765ddda-428c-4b87-95fe-4c4d3c8f48fc"
      },
      "outputs": [
        {
          "output_type": "execute_result",
          "data": {
            "text/html": [
              "\n",
              "  <div id=\"df-e1f03407-f1cf-4818-b447-f44439d1554c\">\n",
              "    <div class=\"colab-df-container\">\n",
              "      <div>\n",
              "<style scoped>\n",
              "    .dataframe tbody tr th:only-of-type {\n",
              "        vertical-align: middle;\n",
              "    }\n",
              "\n",
              "    .dataframe tbody tr th {\n",
              "        vertical-align: top;\n",
              "    }\n",
              "\n",
              "    .dataframe thead th {\n",
              "        text-align: right;\n",
              "    }\n",
              "</style>\n",
              "<table border=\"1\" class=\"dataframe\">\n",
              "  <thead>\n",
              "    <tr style=\"text-align: right;\">\n",
              "      <th></th>\n",
              "      <th>Short description</th>\n",
              "      <th>Description</th>\n",
              "      <th>Caller</th>\n",
              "      <th>Assignment group</th>\n",
              "    </tr>\n",
              "  </thead>\n",
              "  <tbody>\n",
              "    <tr>\n",
              "      <th>2604</th>\n",
              "      <td>NaN</td>\n",
              "      <td>\\r\\n\\r\\nreceived from: ohdrnswl.rezuibdt@gmail.com\\r\\n\\r\\nhi,\\r\\n\\r\\n\\r\\n\\r\\nlink is not working. kindly resolve yhe issue on urgent basis.\\r\\n\\r\\n\\r\\n\\r\\nbest</td>\n",
              "      <td>ohdrnswl rezuibdt</td>\n",
              "      <td>GRP_34</td>\n",
              "    </tr>\n",
              "    <tr>\n",
              "      <th>3383</th>\n",
              "      <td>NaN</td>\n",
              "      <td>\\r\\n-connected to the user system using teamviewer.\\r\\n-help the user login to the portal.\\r\\n-issue resolved.</td>\n",
              "      <td>qftpazns fxpnytmk</td>\n",
              "      <td>GRP_0</td>\n",
              "    </tr>\n",
              "    <tr>\n",
              "      <th>3906</th>\n",
              "      <td>NaN</td>\n",
              "      <td>-user unable  tologin to vpn.\\r\\n-connected to the user system using teamviewer.\\r\\n-help the user login to the company vpn using the vpn company vpn link.\\r\\n-issue resolved.</td>\n",
              "      <td>awpcmsey ctdiuqwe</td>\n",
              "      <td>GRP_0</td>\n",
              "    </tr>\n",
              "    <tr>\n",
              "      <th>3910</th>\n",
              "      <td>NaN</td>\n",
              "      <td>-user unable  tologin to vpn.\\r\\n-connected to the user system using teamviewer.\\r\\n-help the user login to the company vpn using the vpn company vpn link.\\r\\n-issue resolved.</td>\n",
              "      <td>rhwsmefo tvphyura</td>\n",
              "      <td>GRP_0</td>\n",
              "    </tr>\n",
              "    <tr>\n",
              "      <th>3915</th>\n",
              "      <td>NaN</td>\n",
              "      <td>-user unable  tologin to vpn.\\r\\n-connected to the user system using teamviewer.\\r\\n-help the user login to the company vpn using the vpn company vpn link.\\r\\n-issue resolved.</td>\n",
              "      <td>hxripljo efzounig</td>\n",
              "      <td>GRP_0</td>\n",
              "    </tr>\n",
              "    <tr>\n",
              "      <th>3921</th>\n",
              "      <td>NaN</td>\n",
              "      <td>-user unable  tologin to vpn.\\r\\n-connected to the user system using teamviewer.\\r\\n-help the user login to the company vpn using the vpn company vpn link.\\r\\n-issue resolved.</td>\n",
              "      <td>cziadygo veiosxby</td>\n",
              "      <td>GRP_0</td>\n",
              "    </tr>\n",
              "    <tr>\n",
              "      <th>3924</th>\n",
              "      <td>NaN</td>\n",
              "      <td>name:wvqgbdhm fwchqjor\\nlanguage:\\nbrowser:microsoft internet explorer\\nemail:wvqgbdhm.fwchqjor@gmail.com\\ncustomer number:\\ntelephone:-not available\\nsummary:can't get into vpn - need to be on at 4:30 est and it wont' happen please help aerp!</td>\n",
              "      <td>wvqgbdhm fwchqjor</td>\n",
              "      <td>GRP_0</td>\n",
              "    </tr>\n",
              "    <tr>\n",
              "      <th>4341</th>\n",
              "      <td>NaN</td>\n",
              "      <td>\\r\\n\\r\\nreceived from: eqmuniov.ehxkcbgj@gmail.com\\r\\n\\r\\ngood morning,\\r\\n\\r\\nwhen  trying to log on to erp i get this error below.\\r\\nplease help  urgently as i can not process customer order.\\r\\n\\r\\n[cid:image001.png@01d20f2e.751db880]\\r\\n\\r\\n\\r\\n</td>\n",
              "      <td>eqmuniov ehxkcbgj</td>\n",
              "      <td>GRP_0</td>\n",
              "    </tr>\n",
              "  </tbody>\n",
              "</table>\n",
              "</div>\n",
              "      <button class=\"colab-df-convert\" onclick=\"convertToInteractive('df-e1f03407-f1cf-4818-b447-f44439d1554c')\"\n",
              "              title=\"Convert this dataframe to an interactive table.\"\n",
              "              style=\"display:none;\">\n",
              "        \n",
              "  <svg xmlns=\"http://www.w3.org/2000/svg\" height=\"24px\"viewBox=\"0 0 24 24\"\n",
              "       width=\"24px\">\n",
              "    <path d=\"M0 0h24v24H0V0z\" fill=\"none\"/>\n",
              "    <path d=\"M18.56 5.44l.94 2.06.94-2.06 2.06-.94-2.06-.94-.94-2.06-.94 2.06-2.06.94zm-11 1L8.5 8.5l.94-2.06 2.06-.94-2.06-.94L8.5 2.5l-.94 2.06-2.06.94zm10 10l.94 2.06.94-2.06 2.06-.94-2.06-.94-.94-2.06-.94 2.06-2.06.94z\"/><path d=\"M17.41 7.96l-1.37-1.37c-.4-.4-.92-.59-1.43-.59-.52 0-1.04.2-1.43.59L10.3 9.45l-7.72 7.72c-.78.78-.78 2.05 0 2.83L4 21.41c.39.39.9.59 1.41.59.51 0 1.02-.2 1.41-.59l7.78-7.78 2.81-2.81c.8-.78.8-2.07 0-2.86zM5.41 20L4 18.59l7.72-7.72 1.47 1.35L5.41 20z\"/>\n",
              "  </svg>\n",
              "      </button>\n",
              "      \n",
              "  <style>\n",
              "    .colab-df-container {\n",
              "      display:flex;\n",
              "      flex-wrap:wrap;\n",
              "      gap: 12px;\n",
              "    }\n",
              "\n",
              "    .colab-df-convert {\n",
              "      background-color: #E8F0FE;\n",
              "      border: none;\n",
              "      border-radius: 50%;\n",
              "      cursor: pointer;\n",
              "      display: none;\n",
              "      fill: #1967D2;\n",
              "      height: 32px;\n",
              "      padding: 0 0 0 0;\n",
              "      width: 32px;\n",
              "    }\n",
              "\n",
              "    .colab-df-convert:hover {\n",
              "      background-color: #E2EBFA;\n",
              "      box-shadow: 0px 1px 2px rgba(60, 64, 67, 0.3), 0px 1px 3px 1px rgba(60, 64, 67, 0.15);\n",
              "      fill: #174EA6;\n",
              "    }\n",
              "\n",
              "    [theme=dark] .colab-df-convert {\n",
              "      background-color: #3B4455;\n",
              "      fill: #D2E3FC;\n",
              "    }\n",
              "\n",
              "    [theme=dark] .colab-df-convert:hover {\n",
              "      background-color: #434B5C;\n",
              "      box-shadow: 0px 1px 3px 1px rgba(0, 0, 0, 0.15);\n",
              "      filter: drop-shadow(0px 1px 2px rgba(0, 0, 0, 0.3));\n",
              "      fill: #FFFFFF;\n",
              "    }\n",
              "  </style>\n",
              "\n",
              "      <script>\n",
              "        const buttonEl =\n",
              "          document.querySelector('#df-e1f03407-f1cf-4818-b447-f44439d1554c button.colab-df-convert');\n",
              "        buttonEl.style.display =\n",
              "          google.colab.kernel.accessAllowed ? 'block' : 'none';\n",
              "\n",
              "        async function convertToInteractive(key) {\n",
              "          const element = document.querySelector('#df-e1f03407-f1cf-4818-b447-f44439d1554c');\n",
              "          const dataTable =\n",
              "            await google.colab.kernel.invokeFunction('convertToInteractive',\n",
              "                                                     [key], {});\n",
              "          if (!dataTable) return;\n",
              "\n",
              "          const docLinkHtml = 'Like what you see? Visit the ' +\n",
              "            '<a target=\"_blank\" href=https://colab.research.google.com/notebooks/data_table.ipynb>data table notebook</a>'\n",
              "            + ' to learn more about interactive tables.';\n",
              "          element.innerHTML = '';\n",
              "          dataTable['output_type'] = 'display_data';\n",
              "          await google.colab.output.renderOutput(dataTable, element);\n",
              "          const docLink = document.createElement('div');\n",
              "          docLink.innerHTML = docLinkHtml;\n",
              "          element.appendChild(docLink);\n",
              "        }\n",
              "      </script>\n",
              "    </div>\n",
              "  </div>\n",
              "  "
            ],
            "text/plain": [
              "     Short description  ... Assignment group\n",
              "2604               NaN  ...           GRP_34\n",
              "3383               NaN  ...            GRP_0\n",
              "3906               NaN  ...            GRP_0\n",
              "3910               NaN  ...            GRP_0\n",
              "3915               NaN  ...            GRP_0\n",
              "3921               NaN  ...            GRP_0\n",
              "3924               NaN  ...            GRP_0\n",
              "4341               NaN  ...            GRP_0\n",
              "\n",
              "[8 rows x 4 columns]"
            ]
          },
          "metadata": {},
          "execution_count": 61
        }
      ],
      "source": [
        "ata_data[ata_data['Short description'].isnull()]"
      ]
    },
    {
      "cell_type": "code",
      "execution_count": 62,
      "metadata": {
        "colab": {
          "base_uri": "https://localhost:8080/",
          "height": 81
        },
        "id": "WkV0ry7xafRv",
        "outputId": "9387ca16-ca90-450a-9649-62ab02f2ac79"
      },
      "outputs": [
        {
          "output_type": "execute_result",
          "data": {
            "text/html": [
              "\n",
              "  <div id=\"df-5cf8e1d2-0158-473b-b68e-55d5ab551cd1\">\n",
              "    <div class=\"colab-df-container\">\n",
              "      <div>\n",
              "<style scoped>\n",
              "    .dataframe tbody tr th:only-of-type {\n",
              "        vertical-align: middle;\n",
              "    }\n",
              "\n",
              "    .dataframe tbody tr th {\n",
              "        vertical-align: top;\n",
              "    }\n",
              "\n",
              "    .dataframe thead th {\n",
              "        text-align: right;\n",
              "    }\n",
              "</style>\n",
              "<table border=\"1\" class=\"dataframe\">\n",
              "  <thead>\n",
              "    <tr style=\"text-align: right;\">\n",
              "      <th></th>\n",
              "      <th>Short description</th>\n",
              "      <th>Description</th>\n",
              "      <th>Caller</th>\n",
              "      <th>Assignment group</th>\n",
              "    </tr>\n",
              "  </thead>\n",
              "  <tbody>\n",
              "    <tr>\n",
              "      <th>4395</th>\n",
              "      <td>i am locked out of skype</td>\n",
              "      <td>NaN</td>\n",
              "      <td>viyglzfo ajtfzpkb</td>\n",
              "      <td>GRP_0</td>\n",
              "    </tr>\n",
              "  </tbody>\n",
              "</table>\n",
              "</div>\n",
              "      <button class=\"colab-df-convert\" onclick=\"convertToInteractive('df-5cf8e1d2-0158-473b-b68e-55d5ab551cd1')\"\n",
              "              title=\"Convert this dataframe to an interactive table.\"\n",
              "              style=\"display:none;\">\n",
              "        \n",
              "  <svg xmlns=\"http://www.w3.org/2000/svg\" height=\"24px\"viewBox=\"0 0 24 24\"\n",
              "       width=\"24px\">\n",
              "    <path d=\"M0 0h24v24H0V0z\" fill=\"none\"/>\n",
              "    <path d=\"M18.56 5.44l.94 2.06.94-2.06 2.06-.94-2.06-.94-.94-2.06-.94 2.06-2.06.94zm-11 1L8.5 8.5l.94-2.06 2.06-.94-2.06-.94L8.5 2.5l-.94 2.06-2.06.94zm10 10l.94 2.06.94-2.06 2.06-.94-2.06-.94-.94-2.06-.94 2.06-2.06.94z\"/><path d=\"M17.41 7.96l-1.37-1.37c-.4-.4-.92-.59-1.43-.59-.52 0-1.04.2-1.43.59L10.3 9.45l-7.72 7.72c-.78.78-.78 2.05 0 2.83L4 21.41c.39.39.9.59 1.41.59.51 0 1.02-.2 1.41-.59l7.78-7.78 2.81-2.81c.8-.78.8-2.07 0-2.86zM5.41 20L4 18.59l7.72-7.72 1.47 1.35L5.41 20z\"/>\n",
              "  </svg>\n",
              "      </button>\n",
              "      \n",
              "  <style>\n",
              "    .colab-df-container {\n",
              "      display:flex;\n",
              "      flex-wrap:wrap;\n",
              "      gap: 12px;\n",
              "    }\n",
              "\n",
              "    .colab-df-convert {\n",
              "      background-color: #E8F0FE;\n",
              "      border: none;\n",
              "      border-radius: 50%;\n",
              "      cursor: pointer;\n",
              "      display: none;\n",
              "      fill: #1967D2;\n",
              "      height: 32px;\n",
              "      padding: 0 0 0 0;\n",
              "      width: 32px;\n",
              "    }\n",
              "\n",
              "    .colab-df-convert:hover {\n",
              "      background-color: #E2EBFA;\n",
              "      box-shadow: 0px 1px 2px rgba(60, 64, 67, 0.3), 0px 1px 3px 1px rgba(60, 64, 67, 0.15);\n",
              "      fill: #174EA6;\n",
              "    }\n",
              "\n",
              "    [theme=dark] .colab-df-convert {\n",
              "      background-color: #3B4455;\n",
              "      fill: #D2E3FC;\n",
              "    }\n",
              "\n",
              "    [theme=dark] .colab-df-convert:hover {\n",
              "      background-color: #434B5C;\n",
              "      box-shadow: 0px 1px 3px 1px rgba(0, 0, 0, 0.15);\n",
              "      filter: drop-shadow(0px 1px 2px rgba(0, 0, 0, 0.3));\n",
              "      fill: #FFFFFF;\n",
              "    }\n",
              "  </style>\n",
              "\n",
              "      <script>\n",
              "        const buttonEl =\n",
              "          document.querySelector('#df-5cf8e1d2-0158-473b-b68e-55d5ab551cd1 button.colab-df-convert');\n",
              "        buttonEl.style.display =\n",
              "          google.colab.kernel.accessAllowed ? 'block' : 'none';\n",
              "\n",
              "        async function convertToInteractive(key) {\n",
              "          const element = document.querySelector('#df-5cf8e1d2-0158-473b-b68e-55d5ab551cd1');\n",
              "          const dataTable =\n",
              "            await google.colab.kernel.invokeFunction('convertToInteractive',\n",
              "                                                     [key], {});\n",
              "          if (!dataTable) return;\n",
              "\n",
              "          const docLinkHtml = 'Like what you see? Visit the ' +\n",
              "            '<a target=\"_blank\" href=https://colab.research.google.com/notebooks/data_table.ipynb>data table notebook</a>'\n",
              "            + ' to learn more about interactive tables.';\n",
              "          element.innerHTML = '';\n",
              "          dataTable['output_type'] = 'display_data';\n",
              "          await google.colab.output.renderOutput(dataTable, element);\n",
              "          const docLink = document.createElement('div');\n",
              "          docLink.innerHTML = docLinkHtml;\n",
              "          element.appendChild(docLink);\n",
              "        }\n",
              "      </script>\n",
              "    </div>\n",
              "  </div>\n",
              "  "
            ],
            "text/plain": [
              "             Short description Description             Caller Assignment group\n",
              "4395  i am locked out of skype         NaN  viyglzfo ajtfzpkb            GRP_0"
            ]
          },
          "metadata": {},
          "execution_count": 62
        }
      ],
      "source": [
        "ata_data[ata_data['Description'].isnull()]"
      ]
    },
    {
      "cell_type": "code",
      "execution_count": 63,
      "metadata": {
        "colab": {
          "base_uri": "https://localhost:8080/",
          "height": 500
        },
        "id": "ExVn8EFog6a-",
        "outputId": "3ad08f8a-c54f-46cd-c6f1-360f526b2e32"
      },
      "outputs": [
        {
          "output_type": "execute_result",
          "data": {
            "text/html": [
              "\n",
              "  <div id=\"df-c3c39d0a-3e99-46af-8309-cd0362b708ff\">\n",
              "    <div class=\"colab-df-container\">\n",
              "      <div>\n",
              "<style scoped>\n",
              "    .dataframe tbody tr th:only-of-type {\n",
              "        vertical-align: middle;\n",
              "    }\n",
              "\n",
              "    .dataframe tbody tr th {\n",
              "        vertical-align: top;\n",
              "    }\n",
              "\n",
              "    .dataframe thead th {\n",
              "        text-align: right;\n",
              "    }\n",
              "</style>\n",
              "<table border=\"1\" class=\"dataframe\">\n",
              "  <thead>\n",
              "    <tr style=\"text-align: right;\">\n",
              "      <th></th>\n",
              "      <th>Short description</th>\n",
              "      <th>Description</th>\n",
              "      <th>Caller</th>\n",
              "      <th>Assignment group</th>\n",
              "    </tr>\n",
              "  </thead>\n",
              "  <tbody>\n",
              "    <tr>\n",
              "      <th>2604</th>\n",
              "      <td>NaN</td>\n",
              "      <td>\\r\\n\\r\\nreceived from: ohdrnswl.rezuibdt@gmail.com\\r\\n\\r\\nhi,\\r\\n\\r\\n\\r\\n\\r\\nlink is not working. kindly resolve yhe issue on urgent basis.\\r\\n\\r\\n\\r\\n\\r\\nbest</td>\n",
              "      <td>ohdrnswl rezuibdt</td>\n",
              "      <td>GRP_34</td>\n",
              "    </tr>\n",
              "    <tr>\n",
              "      <th>3383</th>\n",
              "      <td>NaN</td>\n",
              "      <td>\\r\\n-connected to the user system using teamviewer.\\r\\n-help the user login to the portal.\\r\\n-issue resolved.</td>\n",
              "      <td>qftpazns fxpnytmk</td>\n",
              "      <td>GRP_0</td>\n",
              "    </tr>\n",
              "    <tr>\n",
              "      <th>3906</th>\n",
              "      <td>NaN</td>\n",
              "      <td>-user unable  tologin to vpn.\\r\\n-connected to the user system using teamviewer.\\r\\n-help the user login to the company vpn using the vpn company vpn link.\\r\\n-issue resolved.</td>\n",
              "      <td>awpcmsey ctdiuqwe</td>\n",
              "      <td>GRP_0</td>\n",
              "    </tr>\n",
              "    <tr>\n",
              "      <th>3910</th>\n",
              "      <td>NaN</td>\n",
              "      <td>-user unable  tologin to vpn.\\r\\n-connected to the user system using teamviewer.\\r\\n-help the user login to the company vpn using the vpn company vpn link.\\r\\n-issue resolved.</td>\n",
              "      <td>rhwsmefo tvphyura</td>\n",
              "      <td>GRP_0</td>\n",
              "    </tr>\n",
              "    <tr>\n",
              "      <th>3915</th>\n",
              "      <td>NaN</td>\n",
              "      <td>-user unable  tologin to vpn.\\r\\n-connected to the user system using teamviewer.\\r\\n-help the user login to the company vpn using the vpn company vpn link.\\r\\n-issue resolved.</td>\n",
              "      <td>hxripljo efzounig</td>\n",
              "      <td>GRP_0</td>\n",
              "    </tr>\n",
              "    <tr>\n",
              "      <th>3921</th>\n",
              "      <td>NaN</td>\n",
              "      <td>-user unable  tologin to vpn.\\r\\n-connected to the user system using teamviewer.\\r\\n-help the user login to the company vpn using the vpn company vpn link.\\r\\n-issue resolved.</td>\n",
              "      <td>cziadygo veiosxby</td>\n",
              "      <td>GRP_0</td>\n",
              "    </tr>\n",
              "    <tr>\n",
              "      <th>3924</th>\n",
              "      <td>NaN</td>\n",
              "      <td>name:wvqgbdhm fwchqjor\\nlanguage:\\nbrowser:microsoft internet explorer\\nemail:wvqgbdhm.fwchqjor@gmail.com\\ncustomer number:\\ntelephone:-not available\\nsummary:can't get into vpn - need to be on at 4:30 est and it wont' happen please help aerp!</td>\n",
              "      <td>wvqgbdhm fwchqjor</td>\n",
              "      <td>GRP_0</td>\n",
              "    </tr>\n",
              "    <tr>\n",
              "      <th>4341</th>\n",
              "      <td>NaN</td>\n",
              "      <td>\\r\\n\\r\\nreceived from: eqmuniov.ehxkcbgj@gmail.com\\r\\n\\r\\ngood morning,\\r\\n\\r\\nwhen  trying to log on to erp i get this error below.\\r\\nplease help  urgently as i can not process customer order.\\r\\n\\r\\n[cid:image001.png@01d20f2e.751db880]\\r\\n\\r\\n\\r\\n</td>\n",
              "      <td>eqmuniov ehxkcbgj</td>\n",
              "      <td>GRP_0</td>\n",
              "    </tr>\n",
              "  </tbody>\n",
              "</table>\n",
              "</div>\n",
              "      <button class=\"colab-df-convert\" onclick=\"convertToInteractive('df-c3c39d0a-3e99-46af-8309-cd0362b708ff')\"\n",
              "              title=\"Convert this dataframe to an interactive table.\"\n",
              "              style=\"display:none;\">\n",
              "        \n",
              "  <svg xmlns=\"http://www.w3.org/2000/svg\" height=\"24px\"viewBox=\"0 0 24 24\"\n",
              "       width=\"24px\">\n",
              "    <path d=\"M0 0h24v24H0V0z\" fill=\"none\"/>\n",
              "    <path d=\"M18.56 5.44l.94 2.06.94-2.06 2.06-.94-2.06-.94-.94-2.06-.94 2.06-2.06.94zm-11 1L8.5 8.5l.94-2.06 2.06-.94-2.06-.94L8.5 2.5l-.94 2.06-2.06.94zm10 10l.94 2.06.94-2.06 2.06-.94-2.06-.94-.94-2.06-.94 2.06-2.06.94z\"/><path d=\"M17.41 7.96l-1.37-1.37c-.4-.4-.92-.59-1.43-.59-.52 0-1.04.2-1.43.59L10.3 9.45l-7.72 7.72c-.78.78-.78 2.05 0 2.83L4 21.41c.39.39.9.59 1.41.59.51 0 1.02-.2 1.41-.59l7.78-7.78 2.81-2.81c.8-.78.8-2.07 0-2.86zM5.41 20L4 18.59l7.72-7.72 1.47 1.35L5.41 20z\"/>\n",
              "  </svg>\n",
              "      </button>\n",
              "      \n",
              "  <style>\n",
              "    .colab-df-container {\n",
              "      display:flex;\n",
              "      flex-wrap:wrap;\n",
              "      gap: 12px;\n",
              "    }\n",
              "\n",
              "    .colab-df-convert {\n",
              "      background-color: #E8F0FE;\n",
              "      border: none;\n",
              "      border-radius: 50%;\n",
              "      cursor: pointer;\n",
              "      display: none;\n",
              "      fill: #1967D2;\n",
              "      height: 32px;\n",
              "      padding: 0 0 0 0;\n",
              "      width: 32px;\n",
              "    }\n",
              "\n",
              "    .colab-df-convert:hover {\n",
              "      background-color: #E2EBFA;\n",
              "      box-shadow: 0px 1px 2px rgba(60, 64, 67, 0.3), 0px 1px 3px 1px rgba(60, 64, 67, 0.15);\n",
              "      fill: #174EA6;\n",
              "    }\n",
              "\n",
              "    [theme=dark] .colab-df-convert {\n",
              "      background-color: #3B4455;\n",
              "      fill: #D2E3FC;\n",
              "    }\n",
              "\n",
              "    [theme=dark] .colab-df-convert:hover {\n",
              "      background-color: #434B5C;\n",
              "      box-shadow: 0px 1px 3px 1px rgba(0, 0, 0, 0.15);\n",
              "      filter: drop-shadow(0px 1px 2px rgba(0, 0, 0, 0.3));\n",
              "      fill: #FFFFFF;\n",
              "    }\n",
              "  </style>\n",
              "\n",
              "      <script>\n",
              "        const buttonEl =\n",
              "          document.querySelector('#df-c3c39d0a-3e99-46af-8309-cd0362b708ff button.colab-df-convert');\n",
              "        buttonEl.style.display =\n",
              "          google.colab.kernel.accessAllowed ? 'block' : 'none';\n",
              "\n",
              "        async function convertToInteractive(key) {\n",
              "          const element = document.querySelector('#df-c3c39d0a-3e99-46af-8309-cd0362b708ff');\n",
              "          const dataTable =\n",
              "            await google.colab.kernel.invokeFunction('convertToInteractive',\n",
              "                                                     [key], {});\n",
              "          if (!dataTable) return;\n",
              "\n",
              "          const docLinkHtml = 'Like what you see? Visit the ' +\n",
              "            '<a target=\"_blank\" href=https://colab.research.google.com/notebooks/data_table.ipynb>data table notebook</a>'\n",
              "            + ' to learn more about interactive tables.';\n",
              "          element.innerHTML = '';\n",
              "          dataTable['output_type'] = 'display_data';\n",
              "          await google.colab.output.renderOutput(dataTable, element);\n",
              "          const docLink = document.createElement('div');\n",
              "          docLink.innerHTML = docLinkHtml;\n",
              "          element.appendChild(docLink);\n",
              "        }\n",
              "      </script>\n",
              "    </div>\n",
              "  </div>\n",
              "  "
            ],
            "text/plain": [
              "     Short description  ... Assignment group\n",
              "2604               NaN  ...           GRP_34\n",
              "3383               NaN  ...            GRP_0\n",
              "3906               NaN  ...            GRP_0\n",
              "3910               NaN  ...            GRP_0\n",
              "3915               NaN  ...            GRP_0\n",
              "3921               NaN  ...            GRP_0\n",
              "3924               NaN  ...            GRP_0\n",
              "4341               NaN  ...            GRP_0\n",
              "\n",
              "[8 rows x 4 columns]"
            ]
          },
          "metadata": {},
          "execution_count": 63
        }
      ],
      "source": [
        "sd_null = ata_data[ata_data['Short description'].isnull()]\n",
        "sd_null"
      ]
    },
    {
      "cell_type": "markdown",
      "metadata": {
        "id": "mYgi1a8IbGWE"
      },
      "source": [
        "Places where Short Description is null - replacing it with Description and vice versa."
      ]
    },
    {
      "cell_type": "code",
      "execution_count": 64,
      "metadata": {
        "id": "eRF0joZpbFR7"
      },
      "outputs": [],
      "source": [
        "ata_data['short_desc_analysis'] = np.where(ata_data['Short description'].isnull(), ata_data['Description'], ata_data['Short description'])\n",
        "ata_data['desc_analysis'] = np.where(ata_data['Description'].isnull(), ata_data['Short description'], ata_data['Description'])"
      ]
    },
    {
      "cell_type": "code",
      "execution_count": 65,
      "metadata": {
        "colab": {
          "base_uri": "https://localhost:8080/",
          "height": 424
        },
        "id": "RP5NTXSLZ4Zi",
        "outputId": "31c163c6-057a-4156-813d-0517bae31341"
      },
      "outputs": [
        {
          "output_type": "execute_result",
          "data": {
            "text/html": [
              "\n",
              "  <div id=\"df-906c5bb9-0295-4c5c-9746-258fa6149b50\">\n",
              "    <div class=\"colab-df-container\">\n",
              "      <div>\n",
              "<style scoped>\n",
              "    .dataframe tbody tr th:only-of-type {\n",
              "        vertical-align: middle;\n",
              "    }\n",
              "\n",
              "    .dataframe tbody tr th {\n",
              "        vertical-align: top;\n",
              "    }\n",
              "\n",
              "    .dataframe thead th {\n",
              "        text-align: right;\n",
              "    }\n",
              "</style>\n",
              "<table border=\"1\" class=\"dataframe\">\n",
              "  <thead>\n",
              "    <tr style=\"text-align: right;\">\n",
              "      <th></th>\n",
              "      <th>Short description</th>\n",
              "      <th>Description</th>\n",
              "      <th>Caller</th>\n",
              "      <th>Assignment group</th>\n",
              "      <th>short_desc_analysis</th>\n",
              "      <th>desc_analysis</th>\n",
              "    </tr>\n",
              "  </thead>\n",
              "  <tbody>\n",
              "    <tr>\n",
              "      <th>0</th>\n",
              "      <td>login issue</td>\n",
              "      <td>-verified user details.(employee# &amp; manager name)\\r\\n-checked the user name in ad and reset the password.\\r\\n-advised the user to login and check.\\r\\n-caller confirmed that he was able to login.\\r\\n-issue resolved.</td>\n",
              "      <td>spxjnwir pjlcoqds</td>\n",
              "      <td>GRP_0</td>\n",
              "      <td>login issue</td>\n",
              "      <td>-verified user details.(employee# &amp; manager name)\\r\\n-checked the user name in ad and reset the password.\\r\\n-advised the user to login and check.\\r\\n-caller confirmed that he was able to login.\\r\\n-issue resolved.</td>\n",
              "    </tr>\n",
              "    <tr>\n",
              "      <th>1</th>\n",
              "      <td>outlook</td>\n",
              "      <td>\\r\\n\\r\\nreceived from: hmjdrvpb.komuaywn@gmail.com\\r\\n\\r\\nhello team,\\r\\n\\r\\nmy meetings/skype meetings etc are not appearing in my outlook calendar, can somebody please advise how to correct this?\\r\\n\\r\\nkind</td>\n",
              "      <td>hmjdrvpb komuaywn</td>\n",
              "      <td>GRP_0</td>\n",
              "      <td>outlook</td>\n",
              "      <td>\\r\\n\\r\\nreceived from: hmjdrvpb.komuaywn@gmail.com\\r\\n\\r\\nhello team,\\r\\n\\r\\nmy meetings/skype meetings etc are not appearing in my outlook calendar, can somebody please advise how to correct this?\\r\\n\\r\\nkind</td>\n",
              "    </tr>\n",
              "    <tr>\n",
              "      <th>2</th>\n",
              "      <td>cant log in to vpn</td>\n",
              "      <td>\\r\\n\\r\\nreceived from: eylqgodm.ybqkwiam@gmail.com\\r\\n\\r\\nhi\\r\\n\\r\\ni cannot log on to vpn\\r\\n\\r\\nbest</td>\n",
              "      <td>eylqgodm ybqkwiam</td>\n",
              "      <td>GRP_0</td>\n",
              "      <td>cant log in to vpn</td>\n",
              "      <td>\\r\\n\\r\\nreceived from: eylqgodm.ybqkwiam@gmail.com\\r\\n\\r\\nhi\\r\\n\\r\\ni cannot log on to vpn\\r\\n\\r\\nbest</td>\n",
              "    </tr>\n",
              "    <tr>\n",
              "      <th>3</th>\n",
              "      <td>unable to access hr_tool page</td>\n",
              "      <td>unable to access hr_tool page</td>\n",
              "      <td>xbkucsvz gcpydteq</td>\n",
              "      <td>GRP_0</td>\n",
              "      <td>unable to access hr_tool page</td>\n",
              "      <td>unable to access hr_tool page</td>\n",
              "    </tr>\n",
              "    <tr>\n",
              "      <th>4</th>\n",
              "      <td>skype error</td>\n",
              "      <td>skype error</td>\n",
              "      <td>owlgqjme qhcozdfx</td>\n",
              "      <td>GRP_0</td>\n",
              "      <td>skype error</td>\n",
              "      <td>skype error</td>\n",
              "    </tr>\n",
              "  </tbody>\n",
              "</table>\n",
              "</div>\n",
              "      <button class=\"colab-df-convert\" onclick=\"convertToInteractive('df-906c5bb9-0295-4c5c-9746-258fa6149b50')\"\n",
              "              title=\"Convert this dataframe to an interactive table.\"\n",
              "              style=\"display:none;\">\n",
              "        \n",
              "  <svg xmlns=\"http://www.w3.org/2000/svg\" height=\"24px\"viewBox=\"0 0 24 24\"\n",
              "       width=\"24px\">\n",
              "    <path d=\"M0 0h24v24H0V0z\" fill=\"none\"/>\n",
              "    <path d=\"M18.56 5.44l.94 2.06.94-2.06 2.06-.94-2.06-.94-.94-2.06-.94 2.06-2.06.94zm-11 1L8.5 8.5l.94-2.06 2.06-.94-2.06-.94L8.5 2.5l-.94 2.06-2.06.94zm10 10l.94 2.06.94-2.06 2.06-.94-2.06-.94-.94-2.06-.94 2.06-2.06.94z\"/><path d=\"M17.41 7.96l-1.37-1.37c-.4-.4-.92-.59-1.43-.59-.52 0-1.04.2-1.43.59L10.3 9.45l-7.72 7.72c-.78.78-.78 2.05 0 2.83L4 21.41c.39.39.9.59 1.41.59.51 0 1.02-.2 1.41-.59l7.78-7.78 2.81-2.81c.8-.78.8-2.07 0-2.86zM5.41 20L4 18.59l7.72-7.72 1.47 1.35L5.41 20z\"/>\n",
              "  </svg>\n",
              "      </button>\n",
              "      \n",
              "  <style>\n",
              "    .colab-df-container {\n",
              "      display:flex;\n",
              "      flex-wrap:wrap;\n",
              "      gap: 12px;\n",
              "    }\n",
              "\n",
              "    .colab-df-convert {\n",
              "      background-color: #E8F0FE;\n",
              "      border: none;\n",
              "      border-radius: 50%;\n",
              "      cursor: pointer;\n",
              "      display: none;\n",
              "      fill: #1967D2;\n",
              "      height: 32px;\n",
              "      padding: 0 0 0 0;\n",
              "      width: 32px;\n",
              "    }\n",
              "\n",
              "    .colab-df-convert:hover {\n",
              "      background-color: #E2EBFA;\n",
              "      box-shadow: 0px 1px 2px rgba(60, 64, 67, 0.3), 0px 1px 3px 1px rgba(60, 64, 67, 0.15);\n",
              "      fill: #174EA6;\n",
              "    }\n",
              "\n",
              "    [theme=dark] .colab-df-convert {\n",
              "      background-color: #3B4455;\n",
              "      fill: #D2E3FC;\n",
              "    }\n",
              "\n",
              "    [theme=dark] .colab-df-convert:hover {\n",
              "      background-color: #434B5C;\n",
              "      box-shadow: 0px 1px 3px 1px rgba(0, 0, 0, 0.15);\n",
              "      filter: drop-shadow(0px 1px 2px rgba(0, 0, 0, 0.3));\n",
              "      fill: #FFFFFF;\n",
              "    }\n",
              "  </style>\n",
              "\n",
              "      <script>\n",
              "        const buttonEl =\n",
              "          document.querySelector('#df-906c5bb9-0295-4c5c-9746-258fa6149b50 button.colab-df-convert');\n",
              "        buttonEl.style.display =\n",
              "          google.colab.kernel.accessAllowed ? 'block' : 'none';\n",
              "\n",
              "        async function convertToInteractive(key) {\n",
              "          const element = document.querySelector('#df-906c5bb9-0295-4c5c-9746-258fa6149b50');\n",
              "          const dataTable =\n",
              "            await google.colab.kernel.invokeFunction('convertToInteractive',\n",
              "                                                     [key], {});\n",
              "          if (!dataTable) return;\n",
              "\n",
              "          const docLinkHtml = 'Like what you see? Visit the ' +\n",
              "            '<a target=\"_blank\" href=https://colab.research.google.com/notebooks/data_table.ipynb>data table notebook</a>'\n",
              "            + ' to learn more about interactive tables.';\n",
              "          element.innerHTML = '';\n",
              "          dataTable['output_type'] = 'display_data';\n",
              "          await google.colab.output.renderOutput(dataTable, element);\n",
              "          const docLink = document.createElement('div');\n",
              "          docLink.innerHTML = docLinkHtml;\n",
              "          element.appendChild(docLink);\n",
              "        }\n",
              "      </script>\n",
              "    </div>\n",
              "  </div>\n",
              "  "
            ],
            "text/plain": [
              "               Short description  ...                                                                                                                                                                                                           desc_analysis\n",
              "0                    login issue  ...  -verified user details.(employee# & manager name)\\r\\n-checked the user name in ad and reset the password.\\r\\n-advised the user to login and check.\\r\\n-caller confirmed that he was able to login.\\r\\n-issue resolved.\n",
              "1                        outlook  ...      \\r\\n\\r\\nreceived from: hmjdrvpb.komuaywn@gmail.com\\r\\n\\r\\nhello team,\\r\\n\\r\\nmy meetings/skype meetings etc are not appearing in my outlook calendar, can somebody please advise how to correct this?\\r\\n\\r\\nkind \n",
              "2             cant log in to vpn  ...                                                                                                                 \\r\\n\\r\\nreceived from: eylqgodm.ybqkwiam@gmail.com\\r\\n\\r\\nhi\\r\\n\\r\\ni cannot log on to vpn\\r\\n\\r\\nbest \n",
              "3  unable to access hr_tool page  ...                                                                                                                                                                                           unable to access hr_tool page\n",
              "4                   skype error   ...                                                                                                                                                                                                            skype error \n",
              "\n",
              "[5 rows x 6 columns]"
            ]
          },
          "metadata": {},
          "execution_count": 65
        }
      ],
      "source": [
        "ata_data.head()"
      ]
    },
    {
      "cell_type": "code",
      "execution_count": 66,
      "metadata": {
        "colab": {
          "base_uri": "https://localhost:8080/"
        },
        "id": "3m4GSXfZbFeD",
        "outputId": "6e7b1cbc-28ff-4380-fa3d-ea6b3eb8a568"
      },
      "outputs": [
        {
          "output_type": "execute_result",
          "data": {
            "text/plain": [
              "Short description      8\n",
              "Description            1\n",
              "Caller                 0\n",
              "Assignment group       0\n",
              "short_desc_analysis    0\n",
              "desc_analysis          0\n",
              "dtype: int64"
            ]
          },
          "metadata": {},
          "execution_count": 66
        }
      ],
      "source": [
        "ata_data.isnull().sum()"
      ]
    },
    {
      "cell_type": "code",
      "execution_count": 67,
      "metadata": {
        "colab": {
          "base_uri": "https://localhost:8080/",
          "height": 746
        },
        "id": "IVplfIK6iumO",
        "outputId": "1a7f87a5-b595-4e8d-c7d4-109204ecc85b"
      },
      "outputs": [
        {
          "output_type": "execute_result",
          "data": {
            "text/html": [
              "\n",
              "  <div id=\"df-ff2375ee-017f-4b8c-b958-f288545fe725\">\n",
              "    <div class=\"colab-df-container\">\n",
              "      <div>\n",
              "<style scoped>\n",
              "    .dataframe tbody tr th:only-of-type {\n",
              "        vertical-align: middle;\n",
              "    }\n",
              "\n",
              "    .dataframe tbody tr th {\n",
              "        vertical-align: top;\n",
              "    }\n",
              "\n",
              "    .dataframe thead th {\n",
              "        text-align: right;\n",
              "    }\n",
              "</style>\n",
              "<table border=\"1\" class=\"dataframe\">\n",
              "  <thead>\n",
              "    <tr style=\"text-align: right;\">\n",
              "      <th></th>\n",
              "      <th>Short description</th>\n",
              "      <th>Description</th>\n",
              "      <th>Caller</th>\n",
              "      <th>Assignment group</th>\n",
              "      <th>short_desc_analysis</th>\n",
              "      <th>desc_analysis</th>\n",
              "    </tr>\n",
              "  </thead>\n",
              "  <tbody>\n",
              "    <tr>\n",
              "      <th>2604</th>\n",
              "      <td>NaN</td>\n",
              "      <td>\\r\\n\\r\\nreceived from: ohdrnswl.rezuibdt@gmail.com\\r\\n\\r\\nhi,\\r\\n\\r\\n\\r\\n\\r\\nlink is not working. kindly resolve yhe issue on urgent basis.\\r\\n\\r\\n\\r\\n\\r\\nbest</td>\n",
              "      <td>ohdrnswl rezuibdt</td>\n",
              "      <td>GRP_34</td>\n",
              "      <td>\\r\\n\\r\\nreceived from: ohdrnswl.rezuibdt@gmail.com\\r\\n\\r\\nhi,\\r\\n\\r\\n\\r\\n\\r\\nlink is not working. kindly resolve yhe issue on urgent basis.\\r\\n\\r\\n\\r\\n\\r\\nbest</td>\n",
              "      <td>\\r\\n\\r\\nreceived from: ohdrnswl.rezuibdt@gmail.com\\r\\n\\r\\nhi,\\r\\n\\r\\n\\r\\n\\r\\nlink is not working. kindly resolve yhe issue on urgent basis.\\r\\n\\r\\n\\r\\n\\r\\nbest</td>\n",
              "    </tr>\n",
              "    <tr>\n",
              "      <th>3383</th>\n",
              "      <td>NaN</td>\n",
              "      <td>\\r\\n-connected to the user system using teamviewer.\\r\\n-help the user login to the portal.\\r\\n-issue resolved.</td>\n",
              "      <td>qftpazns fxpnytmk</td>\n",
              "      <td>GRP_0</td>\n",
              "      <td>\\r\\n-connected to the user system using teamviewer.\\r\\n-help the user login to the portal.\\r\\n-issue resolved.</td>\n",
              "      <td>\\r\\n-connected to the user system using teamviewer.\\r\\n-help the user login to the portal.\\r\\n-issue resolved.</td>\n",
              "    </tr>\n",
              "    <tr>\n",
              "      <th>3906</th>\n",
              "      <td>NaN</td>\n",
              "      <td>-user unable  tologin to vpn.\\r\\n-connected to the user system using teamviewer.\\r\\n-help the user login to the company vpn using the vpn company vpn link.\\r\\n-issue resolved.</td>\n",
              "      <td>awpcmsey ctdiuqwe</td>\n",
              "      <td>GRP_0</td>\n",
              "      <td>-user unable  tologin to vpn.\\r\\n-connected to the user system using teamviewer.\\r\\n-help the user login to the company vpn using the vpn company vpn link.\\r\\n-issue resolved.</td>\n",
              "      <td>-user unable  tologin to vpn.\\r\\n-connected to the user system using teamviewer.\\r\\n-help the user login to the company vpn using the vpn company vpn link.\\r\\n-issue resolved.</td>\n",
              "    </tr>\n",
              "    <tr>\n",
              "      <th>3910</th>\n",
              "      <td>NaN</td>\n",
              "      <td>-user unable  tologin to vpn.\\r\\n-connected to the user system using teamviewer.\\r\\n-help the user login to the company vpn using the vpn company vpn link.\\r\\n-issue resolved.</td>\n",
              "      <td>rhwsmefo tvphyura</td>\n",
              "      <td>GRP_0</td>\n",
              "      <td>-user unable  tologin to vpn.\\r\\n-connected to the user system using teamviewer.\\r\\n-help the user login to the company vpn using the vpn company vpn link.\\r\\n-issue resolved.</td>\n",
              "      <td>-user unable  tologin to vpn.\\r\\n-connected to the user system using teamviewer.\\r\\n-help the user login to the company vpn using the vpn company vpn link.\\r\\n-issue resolved.</td>\n",
              "    </tr>\n",
              "    <tr>\n",
              "      <th>3915</th>\n",
              "      <td>NaN</td>\n",
              "      <td>-user unable  tologin to vpn.\\r\\n-connected to the user system using teamviewer.\\r\\n-help the user login to the company vpn using the vpn company vpn link.\\r\\n-issue resolved.</td>\n",
              "      <td>hxripljo efzounig</td>\n",
              "      <td>GRP_0</td>\n",
              "      <td>-user unable  tologin to vpn.\\r\\n-connected to the user system using teamviewer.\\r\\n-help the user login to the company vpn using the vpn company vpn link.\\r\\n-issue resolved.</td>\n",
              "      <td>-user unable  tologin to vpn.\\r\\n-connected to the user system using teamviewer.\\r\\n-help the user login to the company vpn using the vpn company vpn link.\\r\\n-issue resolved.</td>\n",
              "    </tr>\n",
              "    <tr>\n",
              "      <th>3921</th>\n",
              "      <td>NaN</td>\n",
              "      <td>-user unable  tologin to vpn.\\r\\n-connected to the user system using teamviewer.\\r\\n-help the user login to the company vpn using the vpn company vpn link.\\r\\n-issue resolved.</td>\n",
              "      <td>cziadygo veiosxby</td>\n",
              "      <td>GRP_0</td>\n",
              "      <td>-user unable  tologin to vpn.\\r\\n-connected to the user system using teamviewer.\\r\\n-help the user login to the company vpn using the vpn company vpn link.\\r\\n-issue resolved.</td>\n",
              "      <td>-user unable  tologin to vpn.\\r\\n-connected to the user system using teamviewer.\\r\\n-help the user login to the company vpn using the vpn company vpn link.\\r\\n-issue resolved.</td>\n",
              "    </tr>\n",
              "    <tr>\n",
              "      <th>3924</th>\n",
              "      <td>NaN</td>\n",
              "      <td>name:wvqgbdhm fwchqjor\\nlanguage:\\nbrowser:microsoft internet explorer\\nemail:wvqgbdhm.fwchqjor@gmail.com\\ncustomer number:\\ntelephone:-not available\\nsummary:can't get into vpn - need to be on at 4:30 est and it wont' happen please help aerp!</td>\n",
              "      <td>wvqgbdhm fwchqjor</td>\n",
              "      <td>GRP_0</td>\n",
              "      <td>name:wvqgbdhm fwchqjor\\nlanguage:\\nbrowser:microsoft internet explorer\\nemail:wvqgbdhm.fwchqjor@gmail.com\\ncustomer number:\\ntelephone:-not available\\nsummary:can't get into vpn - need to be on at 4:30 est and it wont' happen please help aerp!</td>\n",
              "      <td>name:wvqgbdhm fwchqjor\\nlanguage:\\nbrowser:microsoft internet explorer\\nemail:wvqgbdhm.fwchqjor@gmail.com\\ncustomer number:\\ntelephone:-not available\\nsummary:can't get into vpn - need to be on at 4:30 est and it wont' happen please help aerp!</td>\n",
              "    </tr>\n",
              "    <tr>\n",
              "      <th>4341</th>\n",
              "      <td>NaN</td>\n",
              "      <td>\\r\\n\\r\\nreceived from: eqmuniov.ehxkcbgj@gmail.com\\r\\n\\r\\ngood morning,\\r\\n\\r\\nwhen  trying to log on to erp i get this error below.\\r\\nplease help  urgently as i can not process customer order.\\r\\n\\r\\n[cid:image001.png@01d20f2e.751db880]\\r\\n\\r\\n\\r\\n</td>\n",
              "      <td>eqmuniov ehxkcbgj</td>\n",
              "      <td>GRP_0</td>\n",
              "      <td>\\r\\n\\r\\nreceived from: eqmuniov.ehxkcbgj@gmail.com\\r\\n\\r\\ngood morning,\\r\\n\\r\\nwhen  trying to log on to erp i get this error below.\\r\\nplease help  urgently as i can not process customer order.\\r\\n\\r\\n[cid:image001.png@01d20f2e.751db880]\\r\\n\\r\\n\\r\\n</td>\n",
              "      <td>\\r\\n\\r\\nreceived from: eqmuniov.ehxkcbgj@gmail.com\\r\\n\\r\\ngood morning,\\r\\n\\r\\nwhen  trying to log on to erp i get this error below.\\r\\nplease help  urgently as i can not process customer order.\\r\\n\\r\\n[cid:image001.png@01d20f2e.751db880]\\r\\n\\r\\n\\r\\n</td>\n",
              "    </tr>\n",
              "  </tbody>\n",
              "</table>\n",
              "</div>\n",
              "      <button class=\"colab-df-convert\" onclick=\"convertToInteractive('df-ff2375ee-017f-4b8c-b958-f288545fe725')\"\n",
              "              title=\"Convert this dataframe to an interactive table.\"\n",
              "              style=\"display:none;\">\n",
              "        \n",
              "  <svg xmlns=\"http://www.w3.org/2000/svg\" height=\"24px\"viewBox=\"0 0 24 24\"\n",
              "       width=\"24px\">\n",
              "    <path d=\"M0 0h24v24H0V0z\" fill=\"none\"/>\n",
              "    <path d=\"M18.56 5.44l.94 2.06.94-2.06 2.06-.94-2.06-.94-.94-2.06-.94 2.06-2.06.94zm-11 1L8.5 8.5l.94-2.06 2.06-.94-2.06-.94L8.5 2.5l-.94 2.06-2.06.94zm10 10l.94 2.06.94-2.06 2.06-.94-2.06-.94-.94-2.06-.94 2.06-2.06.94z\"/><path d=\"M17.41 7.96l-1.37-1.37c-.4-.4-.92-.59-1.43-.59-.52 0-1.04.2-1.43.59L10.3 9.45l-7.72 7.72c-.78.78-.78 2.05 0 2.83L4 21.41c.39.39.9.59 1.41.59.51 0 1.02-.2 1.41-.59l7.78-7.78 2.81-2.81c.8-.78.8-2.07 0-2.86zM5.41 20L4 18.59l7.72-7.72 1.47 1.35L5.41 20z\"/>\n",
              "  </svg>\n",
              "      </button>\n",
              "      \n",
              "  <style>\n",
              "    .colab-df-container {\n",
              "      display:flex;\n",
              "      flex-wrap:wrap;\n",
              "      gap: 12px;\n",
              "    }\n",
              "\n",
              "    .colab-df-convert {\n",
              "      background-color: #E8F0FE;\n",
              "      border: none;\n",
              "      border-radius: 50%;\n",
              "      cursor: pointer;\n",
              "      display: none;\n",
              "      fill: #1967D2;\n",
              "      height: 32px;\n",
              "      padding: 0 0 0 0;\n",
              "      width: 32px;\n",
              "    }\n",
              "\n",
              "    .colab-df-convert:hover {\n",
              "      background-color: #E2EBFA;\n",
              "      box-shadow: 0px 1px 2px rgba(60, 64, 67, 0.3), 0px 1px 3px 1px rgba(60, 64, 67, 0.15);\n",
              "      fill: #174EA6;\n",
              "    }\n",
              "\n",
              "    [theme=dark] .colab-df-convert {\n",
              "      background-color: #3B4455;\n",
              "      fill: #D2E3FC;\n",
              "    }\n",
              "\n",
              "    [theme=dark] .colab-df-convert:hover {\n",
              "      background-color: #434B5C;\n",
              "      box-shadow: 0px 1px 3px 1px rgba(0, 0, 0, 0.15);\n",
              "      filter: drop-shadow(0px 1px 2px rgba(0, 0, 0, 0.3));\n",
              "      fill: #FFFFFF;\n",
              "    }\n",
              "  </style>\n",
              "\n",
              "      <script>\n",
              "        const buttonEl =\n",
              "          document.querySelector('#df-ff2375ee-017f-4b8c-b958-f288545fe725 button.colab-df-convert');\n",
              "        buttonEl.style.display =\n",
              "          google.colab.kernel.accessAllowed ? 'block' : 'none';\n",
              "\n",
              "        async function convertToInteractive(key) {\n",
              "          const element = document.querySelector('#df-ff2375ee-017f-4b8c-b958-f288545fe725');\n",
              "          const dataTable =\n",
              "            await google.colab.kernel.invokeFunction('convertToInteractive',\n",
              "                                                     [key], {});\n",
              "          if (!dataTable) return;\n",
              "\n",
              "          const docLinkHtml = 'Like what you see? Visit the ' +\n",
              "            '<a target=\"_blank\" href=https://colab.research.google.com/notebooks/data_table.ipynb>data table notebook</a>'\n",
              "            + ' to learn more about interactive tables.';\n",
              "          element.innerHTML = '';\n",
              "          dataTable['output_type'] = 'display_data';\n",
              "          await google.colab.output.renderOutput(dataTable, element);\n",
              "          const docLink = document.createElement('div');\n",
              "          docLink.innerHTML = docLinkHtml;\n",
              "          element.appendChild(docLink);\n",
              "        }\n",
              "      </script>\n",
              "    </div>\n",
              "  </div>\n",
              "  "
            ],
            "text/plain": [
              "     Short description  ...                                                                                                                                                                                                                                               desc_analysis\n",
              "2604               NaN  ...                                                                                            \\r\\n\\r\\nreceived from: ohdrnswl.rezuibdt@gmail.com\\r\\n\\r\\nhi,\\r\\n\\r\\n\\r\\n\\r\\nlink is not working. kindly resolve yhe issue on urgent basis.\\r\\n\\r\\n\\r\\n\\r\\nbest \n",
              "3383               NaN  ...                                                                                                                                              \\r\\n-connected to the user system using teamviewer.\\r\\n-help the user login to the portal.\\r\\n-issue resolved.\n",
              "3906               NaN  ...                                                                             -user unable  tologin to vpn.\\r\\n-connected to the user system using teamviewer.\\r\\n-help the user login to the company vpn using the vpn company vpn link.\\r\\n-issue resolved.\n",
              "3910               NaN  ...                                                                             -user unable  tologin to vpn.\\r\\n-connected to the user system using teamviewer.\\r\\n-help the user login to the company vpn using the vpn company vpn link.\\r\\n-issue resolved.\n",
              "3915               NaN  ...                                                                             -user unable  tologin to vpn.\\r\\n-connected to the user system using teamviewer.\\r\\n-help the user login to the company vpn using the vpn company vpn link.\\r\\n-issue resolved.\n",
              "3921               NaN  ...                                                                             -user unable  tologin to vpn.\\r\\n-connected to the user system using teamviewer.\\r\\n-help the user login to the company vpn using the vpn company vpn link.\\r\\n-issue resolved.\n",
              "3924               NaN  ...         name:wvqgbdhm fwchqjor\\nlanguage:\\nbrowser:microsoft internet explorer\\nemail:wvqgbdhm.fwchqjor@gmail.com\\ncustomer number:\\ntelephone:-not available\\nsummary:can't get into vpn - need to be on at 4:30 est and it wont' happen please help aerp!\n",
              "4341               NaN  ...  \\r\\n\\r\\nreceived from: eqmuniov.ehxkcbgj@gmail.com\\r\\n\\r\\ngood morning,\\r\\n\\r\\nwhen  trying to log on to erp i get this error below.\\r\\nplease help  urgently as i can not process customer order.\\r\\n\\r\\n[cid:image001.png@01d20f2e.751db880]\\r\\n\\r\\n\\r\\n\n",
              "\n",
              "[8 rows x 6 columns]"
            ]
          },
          "metadata": {},
          "execution_count": 67
        }
      ],
      "source": [
        "ata_data[ata_data['Short description'].isnull()]"
      ]
    },
    {
      "cell_type": "markdown",
      "metadata": {
        "id": "axxl2oj2NicI"
      },
      "source": [
        "There are some messages which mentions that they are received from someone else.  Looking into the data to see such entries"
      ]
    },
    {
      "cell_type": "code",
      "execution_count": 68,
      "metadata": {
        "colab": {
          "base_uri": "https://localhost:8080/",
          "height": 991
        },
        "id": "OX26TV9aN9e3",
        "outputId": "c692471c-7746-458d-c276-08e4a59fe75c"
      },
      "outputs": [
        {
          "output_type": "execute_result",
          "data": {
            "text/html": [
              "\n",
              "  <div id=\"df-d1e9ae95-ef36-44e9-9449-c3ec74da1189\">\n",
              "    <div class=\"colab-df-container\">\n",
              "      <div>\n",
              "<style scoped>\n",
              "    .dataframe tbody tr th:only-of-type {\n",
              "        vertical-align: middle;\n",
              "    }\n",
              "\n",
              "    .dataframe tbody tr th {\n",
              "        vertical-align: top;\n",
              "    }\n",
              "\n",
              "    .dataframe thead th {\n",
              "        text-align: right;\n",
              "    }\n",
              "</style>\n",
              "<table border=\"1\" class=\"dataframe\">\n",
              "  <thead>\n",
              "    <tr style=\"text-align: right;\">\n",
              "      <th></th>\n",
              "      <th>Short description</th>\n",
              "      <th>Description</th>\n",
              "      <th>Caller</th>\n",
              "      <th>Assignment group</th>\n",
              "      <th>short_desc_analysis</th>\n",
              "      <th>desc_analysis</th>\n",
              "    </tr>\n",
              "  </thead>\n",
              "  <tbody>\n",
              "    <tr>\n",
              "      <th>1</th>\n",
              "      <td>outlook</td>\n",
              "      <td>\\r\\n\\r\\nreceived from: hmjdrvpb.komuaywn@gmail.com\\r\\n\\r\\nhello team,\\r\\n\\r\\nmy meetings/skype meetings etc are not appearing in my outlook calendar, can somebody please advise how to correct this?\\r\\n\\r\\nkind</td>\n",
              "      <td>hmjdrvpb komuaywn</td>\n",
              "      <td>GRP_0</td>\n",
              "      <td>outlook</td>\n",
              "      <td>\\r\\n\\r\\nreceived from: hmjdrvpb.komuaywn@gmail.com\\r\\n\\r\\nhello team,\\r\\n\\r\\nmy meetings/skype meetings etc are not appearing in my outlook calendar, can somebody please advise how to correct this?\\r\\n\\r\\nkind</td>\n",
              "    </tr>\n",
              "    <tr>\n",
              "      <th>2</th>\n",
              "      <td>cant log in to vpn</td>\n",
              "      <td>\\r\\n\\r\\nreceived from: eylqgodm.ybqkwiam@gmail.com\\r\\n\\r\\nhi\\r\\n\\r\\ni cannot log on to vpn\\r\\n\\r\\nbest</td>\n",
              "      <td>eylqgodm ybqkwiam</td>\n",
              "      <td>GRP_0</td>\n",
              "      <td>cant log in to vpn</td>\n",
              "      <td>\\r\\n\\r\\nreceived from: eylqgodm.ybqkwiam@gmail.com\\r\\n\\r\\nhi\\r\\n\\r\\ni cannot log on to vpn\\r\\n\\r\\nbest</td>\n",
              "    </tr>\n",
              "    <tr>\n",
              "      <th>16</th>\n",
              "      <td>unable to login to company vpn</td>\n",
              "      <td>\\n\\nreceived from: xyz@company.com\\n\\nhi,\\n\\ni am unable to login to company vpn website, trying to open a new session using the below link, but not able to get through pls help urgently as we are working from home tomorrow due to month end closing.</td>\n",
              "      <td>chobktqj qdamxfuc</td>\n",
              "      <td>GRP_0</td>\n",
              "      <td>unable to login to company vpn</td>\n",
              "      <td>\\n\\nreceived from: xyz@company.com\\n\\nhi,\\n\\ni am unable to login to company vpn website, trying to open a new session using the below link, but not able to get through pls help urgently as we are working from home tomorrow due to month end closing.</td>\n",
              "    </tr>\n",
              "    <tr>\n",
              "      <th>21</th>\n",
              "      <td>vpn issue</td>\n",
              "      <td>\\r\\n\\r\\nreceived from: ugephfta.hrbqkvij@gmail.com\\r\\n\\r\\nhello helpdesk\\r\\n\\r\\ni am not able to connect vpn from home office. couple f hours ago i was connected, now it is not working anymore. getting a message that my session expired but if i click on the link, nothing happens.\\r\\n\\r\\n[cid:image001.jpg@01d233aa.3f618be0]\\r\\n\\r\\n*********************\\r\\n\\r\\nneed help with your dynamics crm?\\r\\nclick here&lt;\\r\\n\\r\\nchat with a live agent regarding your dynamics crm questions now! click here&lt;\\r\\n\\r\\nbest</td>\n",
              "      <td>ugephfta hrbqkvij</td>\n",
              "      <td>GRP_0</td>\n",
              "      <td>vpn issue</td>\n",
              "      <td>\\r\\n\\r\\nreceived from: ugephfta.hrbqkvij@gmail.com\\r\\n\\r\\nhello helpdesk\\r\\n\\r\\ni am not able to connect vpn from home office. couple f hours ago i was connected, now it is not working anymore. getting a message that my session expired but if i click on the link, nothing happens.\\r\\n\\r\\n[cid:image001.jpg@01d233aa.3f618be0]\\r\\n\\r\\n*********************\\r\\n\\r\\nneed help with your dynamics crm?\\r\\nclick here&lt;\\r\\n\\r\\nchat with a live agent regarding your dynamics crm questions now! click here&lt;\\r\\n\\r\\nbest</td>\n",
              "    </tr>\n",
              "    <tr>\n",
              "      <th>24</th>\n",
              "      <td>vpn not working</td>\n",
              "      <td>\\n\\nreceived from: dceoufyz.saufqkmd@gmail.com\\n\\nhello,\\n\\ni'm not being able to connect to company network through the vpn. pls check.\\n\\ncc: sir-i am not being able to upload as a result of no company network.\\n\\n</td>\n",
              "      <td>dceoufyz saufqkmd</td>\n",
              "      <td>GRP_0</td>\n",
              "      <td>vpn not working</td>\n",
              "      <td>\\n\\nreceived from: dceoufyz.saufqkmd@gmail.com\\n\\nhello,\\n\\ni'm not being able to connect to company network through the vpn. pls check.\\n\\ncc: sir-i am not being able to upload as a result of no company network.\\n\\n</td>\n",
              "    </tr>\n",
              "    <tr>\n",
              "      <th>...</th>\n",
              "      <td>...</td>\n",
              "      <td>...</td>\n",
              "      <td>...</td>\n",
              "      <td>...</td>\n",
              "      <td>...</td>\n",
              "      <td>...</td>\n",
              "    </tr>\n",
              "    <tr>\n",
              "      <th>8478</th>\n",
              "      <td>beenefits access on oneteam</td>\n",
              "      <td>\\n\\nreceived from: bjitvswa.yrmugfnq@gmail.com\\n\\nyesterday, it helped me access some additional information on oneteam.  but i still do not have a link showing for my benefits.  i tried to search and nothing pulls up.\\n\\ntgbtyim dgtalone\\nkey account manager\\nbjitvswa.yrmugfnq@gmail.com&lt;mailto:beyklcmj.bgfmrltw@gmail.com&gt;\\n</td>\n",
              "      <td>bjitvswa yrmugfnq</td>\n",
              "      <td>GRP_0</td>\n",
              "      <td>beenefits access on oneteam</td>\n",
              "      <td>\\n\\nreceived from: bjitvswa.yrmugfnq@gmail.com\\n\\nyesterday, it helped me access some additional information on oneteam.  but i still do not have a link showing for my benefits.  i tried to search and nothing pulls up.\\n\\ntgbtyim dgtalone\\nkey account manager\\nbjitvswa.yrmugfnq@gmail.com&lt;mailto:beyklcmj.bgfmrltw@gmail.com&gt;\\n</td>\n",
              "    </tr>\n",
              "    <tr>\n",
              "      <th>8480</th>\n",
              "      <td>customer group enhanced field</td>\n",
              "      <td>\\r\\n\\r\\nreceived from: nlearzwi.ukdzstwi@gmail.com\\r\\n\\r\\nhello,\\r\\n\\r\\na business decision has recently been made to view mfg_tooltion (customer classification ik) as indirect sales going forward. currently in the bex system they are classified as direct.\\r\\n\\r\\ncan you please modify the \"cust grp 1 â€“ enhanced\" field (0cust_sales__zcustgrp1) to show mfg_tooltion (customer classification ik) customers as indirect.\\r\\n[cid:image001.png@01d1ee74.cc06a6a0]\\r\\n\\r\\nthis field is used in several bex and hana reports (sales v plan, product management, otc billings, etc). let me know if you have any questions.\\r\\n\\r\\nbest</td>\n",
              "      <td>nlearzwi ukdzstwi</td>\n",
              "      <td>GRP_9</td>\n",
              "      <td>customer group enhanced field</td>\n",
              "      <td>\\r\\n\\r\\nreceived from: nlearzwi.ukdzstwi@gmail.com\\r\\n\\r\\nhello,\\r\\n\\r\\na business decision has recently been made to view mfg_tooltion (customer classification ik) as indirect sales going forward. currently in the bex system they are classified as direct.\\r\\n\\r\\ncan you please modify the \"cust grp 1 â€“ enhanced\" field (0cust_sales__zcustgrp1) to show mfg_tooltion (customer classification ik) customers as indirect.\\r\\n[cid:image001.png@01d1ee74.cc06a6a0]\\r\\n\\r\\nthis field is used in several bex and hana reports (sales v plan, product management, otc billings, etc). let me know if you have any questions.\\r\\n\\r\\nbest</td>\n",
              "    </tr>\n",
              "    <tr>\n",
              "      <th>8481</th>\n",
              "      <td>ess portal</td>\n",
              "      <td>\\n\\nreceived from: eagvusbr.nguqityl@gmail.com\\n\\nhi team,\\n\\ni was going into the ess file and checking some things for the ytd and this is the screen that shows up.  this is on my report tab when i am logged into vpn.  please assist in getting this to english.\\n[cid:image001.jpg@01d1ee74.0a355760]\\n\\n\\n\\neagvusbr nguqityl\\nsales engineer\\n\\n</td>\n",
              "      <td>eagvusbr nguqityl</td>\n",
              "      <td>GRP_9</td>\n",
              "      <td>ess portal</td>\n",
              "      <td>\\n\\nreceived from: eagvusbr.nguqityl@gmail.com\\n\\nhi team,\\n\\ni was going into the ess file and checking some things for the ytd and this is the screen that shows up.  this is on my report tab when i am logged into vpn.  please assist in getting this to english.\\n[cid:image001.jpg@01d1ee74.0a355760]\\n\\n\\n\\neagvusbr nguqityl\\nsales engineer\\n\\n</td>\n",
              "    </tr>\n",
              "    <tr>\n",
              "      <th>8491</th>\n",
              "      <td>vpn for laptop</td>\n",
              "      <td>\\n\\nreceived from: jxgobwrm.qkugdipo@gmail.com\\n\\ni need a vpn for my new laptop. name llv8517416\\n\\nknethyen grechduy\\nengineer, product engineering\\ncompany\\njxgobwrm.qkugdipo@gmail.com&lt;mailto:jxgobwrm.qkugdipo@gmail.com&gt;\\n\\n</td>\n",
              "      <td>jxgobwrm qkugdipo</td>\n",
              "      <td>GRP_34</td>\n",
              "      <td>vpn for laptop</td>\n",
              "      <td>\\n\\nreceived from: jxgobwrm.qkugdipo@gmail.com\\n\\ni need a vpn for my new laptop. name llv8517416\\n\\nknethyen grechduy\\nengineer, product engineering\\ncompany\\njxgobwrm.qkugdipo@gmail.com&lt;mailto:jxgobwrm.qkugdipo@gmail.com&gt;\\n\\n</td>\n",
              "    </tr>\n",
              "    <tr>\n",
              "      <th>8495</th>\n",
              "      <td>emails not coming in from zz mail</td>\n",
              "      <td>\\r\\n\\r\\nreceived from: avglmrts.vhqmtiua@gmail.com\\r\\n\\r\\ngood afternoon,\\r\\ni am not receiving the emails that i sent from zz mail.\\r\\nplease advise\\r\\n\\r\\n</td>\n",
              "      <td>avglmrts vhqmtiua</td>\n",
              "      <td>GRP_29</td>\n",
              "      <td>emails not coming in from zz mail</td>\n",
              "      <td>\\r\\n\\r\\nreceived from: avglmrts.vhqmtiua@gmail.com\\r\\n\\r\\ngood afternoon,\\r\\ni am not receiving the emails that i sent from zz mail.\\r\\nplease advise\\r\\n\\r\\n</td>\n",
              "    </tr>\n",
              "  </tbody>\n",
              "</table>\n",
              "<p>2227 rows × 6 columns</p>\n",
              "</div>\n",
              "      <button class=\"colab-df-convert\" onclick=\"convertToInteractive('df-d1e9ae95-ef36-44e9-9449-c3ec74da1189')\"\n",
              "              title=\"Convert this dataframe to an interactive table.\"\n",
              "              style=\"display:none;\">\n",
              "        \n",
              "  <svg xmlns=\"http://www.w3.org/2000/svg\" height=\"24px\"viewBox=\"0 0 24 24\"\n",
              "       width=\"24px\">\n",
              "    <path d=\"M0 0h24v24H0V0z\" fill=\"none\"/>\n",
              "    <path d=\"M18.56 5.44l.94 2.06.94-2.06 2.06-.94-2.06-.94-.94-2.06-.94 2.06-2.06.94zm-11 1L8.5 8.5l.94-2.06 2.06-.94-2.06-.94L8.5 2.5l-.94 2.06-2.06.94zm10 10l.94 2.06.94-2.06 2.06-.94-2.06-.94-.94-2.06-.94 2.06-2.06.94z\"/><path d=\"M17.41 7.96l-1.37-1.37c-.4-.4-.92-.59-1.43-.59-.52 0-1.04.2-1.43.59L10.3 9.45l-7.72 7.72c-.78.78-.78 2.05 0 2.83L4 21.41c.39.39.9.59 1.41.59.51 0 1.02-.2 1.41-.59l7.78-7.78 2.81-2.81c.8-.78.8-2.07 0-2.86zM5.41 20L4 18.59l7.72-7.72 1.47 1.35L5.41 20z\"/>\n",
              "  </svg>\n",
              "      </button>\n",
              "      \n",
              "  <style>\n",
              "    .colab-df-container {\n",
              "      display:flex;\n",
              "      flex-wrap:wrap;\n",
              "      gap: 12px;\n",
              "    }\n",
              "\n",
              "    .colab-df-convert {\n",
              "      background-color: #E8F0FE;\n",
              "      border: none;\n",
              "      border-radius: 50%;\n",
              "      cursor: pointer;\n",
              "      display: none;\n",
              "      fill: #1967D2;\n",
              "      height: 32px;\n",
              "      padding: 0 0 0 0;\n",
              "      width: 32px;\n",
              "    }\n",
              "\n",
              "    .colab-df-convert:hover {\n",
              "      background-color: #E2EBFA;\n",
              "      box-shadow: 0px 1px 2px rgba(60, 64, 67, 0.3), 0px 1px 3px 1px rgba(60, 64, 67, 0.15);\n",
              "      fill: #174EA6;\n",
              "    }\n",
              "\n",
              "    [theme=dark] .colab-df-convert {\n",
              "      background-color: #3B4455;\n",
              "      fill: #D2E3FC;\n",
              "    }\n",
              "\n",
              "    [theme=dark] .colab-df-convert:hover {\n",
              "      background-color: #434B5C;\n",
              "      box-shadow: 0px 1px 3px 1px rgba(0, 0, 0, 0.15);\n",
              "      filter: drop-shadow(0px 1px 2px rgba(0, 0, 0, 0.3));\n",
              "      fill: #FFFFFF;\n",
              "    }\n",
              "  </style>\n",
              "\n",
              "      <script>\n",
              "        const buttonEl =\n",
              "          document.querySelector('#df-d1e9ae95-ef36-44e9-9449-c3ec74da1189 button.colab-df-convert');\n",
              "        buttonEl.style.display =\n",
              "          google.colab.kernel.accessAllowed ? 'block' : 'none';\n",
              "\n",
              "        async function convertToInteractive(key) {\n",
              "          const element = document.querySelector('#df-d1e9ae95-ef36-44e9-9449-c3ec74da1189');\n",
              "          const dataTable =\n",
              "            await google.colab.kernel.invokeFunction('convertToInteractive',\n",
              "                                                     [key], {});\n",
              "          if (!dataTable) return;\n",
              "\n",
              "          const docLinkHtml = 'Like what you see? Visit the ' +\n",
              "            '<a target=\"_blank\" href=https://colab.research.google.com/notebooks/data_table.ipynb>data table notebook</a>'\n",
              "            + ' to learn more about interactive tables.';\n",
              "          element.innerHTML = '';\n",
              "          dataTable['output_type'] = 'display_data';\n",
              "          await google.colab.output.renderOutput(dataTable, element);\n",
              "          const docLink = document.createElement('div');\n",
              "          docLink.innerHTML = docLinkHtml;\n",
              "          element.appendChild(docLink);\n",
              "        }\n",
              "      </script>\n",
              "    </div>\n",
              "  </div>\n",
              "  "
            ],
            "text/plain": [
              "                      Short description  ...                                                                                                                                                                                                                                                                                                                                                                                                                                                                                                                                                                                                                                     desc_analysis\n",
              "1                               outlook  ...                                                                                                                                                                                                                                                                                                                                                                                                                                \\r\\n\\r\\nreceived from: hmjdrvpb.komuaywn@gmail.com\\r\\n\\r\\nhello team,\\r\\n\\r\\nmy meetings/skype meetings etc are not appearing in my outlook calendar, can somebody please advise how to correct this?\\r\\n\\r\\nkind \n",
              "2                    cant log in to vpn  ...                                                                                                                                                                                                                                                                                                                                                                                                                                                                                                                                           \\r\\n\\r\\nreceived from: eylqgodm.ybqkwiam@gmail.com\\r\\n\\r\\nhi\\r\\n\\r\\ni cannot log on to vpn\\r\\n\\r\\nbest \n",
              "16       unable to login to company vpn  ...                                                                                                                                                                                                                                                                                                                                                                                        \\n\\nreceived from: xyz@company.com\\n\\nhi,\\n\\ni am unable to login to company vpn website, trying to open a new session using the below link, but not able to get through pls help urgently as we are working from home tomorrow due to month end closing. \n",
              "21                            vpn issue  ...                                                                                                                       \\r\\n\\r\\nreceived from: ugephfta.hrbqkvij@gmail.com\\r\\n\\r\\nhello helpdesk\\r\\n\\r\\ni am not able to connect vpn from home office. couple f hours ago i was connected, now it is not working anymore. getting a message that my session expired but if i click on the link, nothing happens.\\r\\n\\r\\n[cid:image001.jpg@01d233aa.3f618be0]\\r\\n\\r\\n*********************\\r\\n\\r\\nneed help with your dynamics crm?\\r\\nclick here<\\r\\n\\r\\nchat with a live agent regarding your dynamics crm questions now! click here<\\r\\n\\r\\nbest \n",
              "24                      vpn not working  ...                                                                                                                                                                                                                                                                                                                                                                                                                          \\n\\nreceived from: dceoufyz.saufqkmd@gmail.com\\n\\nhello,\\n\\ni'm not being able to connect to company network through the vpn. pls check.\\n\\ncc: sir-i am not being able to upload as a result of no company network.\\n\\n\n",
              "...                                 ...  ...                                                                                                                                                                                                                                                                                                                                                                                                                                                                                                                                                                                                                                               ...\n",
              "8478        beenefits access on oneteam  ...                                                                                                                                                                                                                                                                                                            \\n\\nreceived from: bjitvswa.yrmugfnq@gmail.com\\n\\nyesterday, it helped me access some additional information on oneteam.  but i still do not have a link showing for my benefits.  i tried to search and nothing pulls up.\\n\\ntgbtyim dgtalone\\nkey account manager\\nbjitvswa.yrmugfnq@gmail.com<mailto:beyklcmj.bgfmrltw@gmail.com>\\n\n",
              "8480      customer group enhanced field  ...  \\r\\n\\r\\nreceived from: nlearzwi.ukdzstwi@gmail.com\\r\\n\\r\\nhello,\\r\\n\\r\\na business decision has recently been made to view mfg_tooltion (customer classification ik) as indirect sales going forward. currently in the bex system they are classified as direct.\\r\\n\\r\\ncan you please modify the \"cust grp 1 â€“ enhanced\" field (0cust_sales__zcustgrp1) to show mfg_tooltion (customer classification ik) customers as indirect.\\r\\n[cid:image001.png@01d1ee74.cc06a6a0]\\r\\n\\r\\nthis field is used in several bex and hana reports (sales v plan, product management, otc billings, etc). let me know if you have any questions.\\r\\n\\r\\nbest \n",
              "8481                         ess portal  ...                                                                                                                                                                                                                                                                                         \\n\\nreceived from: eagvusbr.nguqityl@gmail.com\\n\\nhi team,\\n\\ni was going into the ess file and checking some things for the ytd and this is the screen that shows up.  this is on my report tab when i am logged into vpn.  please assist in getting this to english.\\n[cid:image001.jpg@01d1ee74.0a355760]\\n\\n\\n\\neagvusbr nguqityl\\nsales engineer\\n\\n\n",
              "8491                     vpn for laptop  ...                                                                                                                                                                                                                                                                                                                                                                                                               \\n\\nreceived from: jxgobwrm.qkugdipo@gmail.com\\n\\ni need a vpn for my new laptop. name llv8517416\\n\\nknethyen grechduy\\nengineer, product engineering\\ncompany\\njxgobwrm.qkugdipo@gmail.com<mailto:jxgobwrm.qkugdipo@gmail.com>\\n\\n\n",
              "8495  emails not coming in from zz mail  ...                                                                                                                                                                                                                                                                                                                                                                                                                                                                                     \\r\\n\\r\\nreceived from: avglmrts.vhqmtiua@gmail.com\\r\\n\\r\\ngood afternoon,\\r\\ni am not receiving the emails that i sent from zz mail.\\r\\nplease advise\\r\\n\\r\\n\n",
              "\n",
              "[2227 rows x 6 columns]"
            ]
          },
          "metadata": {},
          "execution_count": 68
        }
      ],
      "source": [
        "ata_data[ata_data['Description'].str.contains('received from:', case=False, na=False)]"
      ]
    },
    {
      "cell_type": "markdown",
      "metadata": {
        "id": "ub5MpnDTRCiH"
      },
      "source": [
        "There are 2227 such records.  Getting that information in another column"
      ]
    },
    {
      "cell_type": "code",
      "execution_count": 69,
      "metadata": {
        "colab": {
          "base_uri": "https://localhost:8080/",
          "height": 774
        },
        "id": "Btz2aKyhN9k1",
        "outputId": "6f2ecc60-4617-48c6-daf0-f60b8fc19059"
      },
      "outputs": [
        {
          "output_type": "execute_result",
          "data": {
            "text/html": [
              "\n",
              "  <div id=\"df-af8df243-def3-4d2b-83ca-9ac5fc953579\">\n",
              "    <div class=\"colab-df-container\">\n",
              "      <div>\n",
              "<style scoped>\n",
              "    .dataframe tbody tr th:only-of-type {\n",
              "        vertical-align: middle;\n",
              "    }\n",
              "\n",
              "    .dataframe tbody tr th {\n",
              "        vertical-align: top;\n",
              "    }\n",
              "\n",
              "    .dataframe thead th {\n",
              "        text-align: right;\n",
              "    }\n",
              "</style>\n",
              "<table border=\"1\" class=\"dataframe\">\n",
              "  <thead>\n",
              "    <tr style=\"text-align: right;\">\n",
              "      <th></th>\n",
              "      <th>Short description</th>\n",
              "      <th>Description</th>\n",
              "      <th>Caller</th>\n",
              "      <th>Assignment group</th>\n",
              "      <th>short_desc_analysis</th>\n",
              "      <th>desc_analysis</th>\n",
              "    </tr>\n",
              "  </thead>\n",
              "  <tbody>\n",
              "    <tr>\n",
              "      <th>53</th>\n",
              "      <td>reset scm_software password</td>\n",
              "      <td>\\n\\nreceived from: cdbaoqts.wqbsodni@gmail.com\\n\\nhello,\\n\\nplease reset my scm_software password.\\n\\n\\ncdbaoqts wqbsodni\\nglobal product manager, markhtyeting initiatives\\ncdbaoqts.wqbsodni@gmail.com&lt;mailto:cdbaoqts.wqbsodni@gmail.com&gt;\\n\\n\\n\\n\\n\\n</td>\n",
              "      <td>cdbaoqts wqbsodni</td>\n",
              "      <td>GRP_0</td>\n",
              "      <td>reset scm_software password</td>\n",
              "      <td>\\n\\nreceived from: cdbaoqts.wqbsodni@gmail.com\\n\\nhello,\\n\\nplease reset my scm_software password.\\n\\n\\ncdbaoqts wqbsodni\\nglobal product manager, markhtyeting initiatives\\ncdbaoqts.wqbsodni@gmail.com&lt;mailto:cdbaoqts.wqbsodni@gmail.com&gt;\\n\\n\\n\\n\\n\\n</td>\n",
              "    </tr>\n",
              "    <tr>\n",
              "      <th>100</th>\n",
              "      <td>re: ess portal access issue</td>\n",
              "      <td>\\n\\nreceived from: noscwdpm.akiowsmp@gmail.com\\n\\nhello,\\n\\nhe is an kiosk user.  please reset the password and confirm.\\n\\n\\nnoscwdpm akiowsmp\\nnoscwdpm.akiowsmp@gmail.com\\n\\nfrom: ihkolepb ozhnjyef\\nsent: 29 october 2016 13:38\\nto: company@ticketing_tool.com\\nsubject: ess portal access issue\\n\\nhi,\\n\\nbelow mentioned employee krlszbqo spimolgz with user id sv123 is not able to login to ess portal to access his pay slips and related contents. he is a attendance_tool user. please reset his user id and password and revert back.\\n\\n</td>\n",
              "      <td>noscwdpm akiowsmp</td>\n",
              "      <td>GRP_0</td>\n",
              "      <td>re: ess portal access issue</td>\n",
              "      <td>\\n\\nreceived from: noscwdpm.akiowsmp@gmail.com\\n\\nhello,\\n\\nhe is an kiosk user.  please reset the password and confirm.\\n\\n\\nnoscwdpm akiowsmp\\nnoscwdpm.akiowsmp@gmail.com\\n\\nfrom: ihkolepb ozhnjyef\\nsent: 29 october 2016 13:38\\nto: company@ticketing_tool.com\\nsubject: ess portal access issue\\n\\nhi,\\n\\nbelow mentioned employee krlszbqo spimolgz with user id sv123 is not able to login to ess portal to access his pay slips and related contents. he is a attendance_tool user. please reset his user id and password and revert back.\\n\\n</td>\n",
              "    </tr>\n",
              "    <tr>\n",
              "      <th>124</th>\n",
              "      <td>mobile device activation</td>\n",
              "      <td>from: tvcdfqgp nrbcqwgj \\nsent: friday, october 28, 2016 3:13 pm\\nto: nwfodmhc exurcwkm\\nsubject:  se ha bloqueado en forma temporal la sincronizaciÃ³n de su dispositivo mÃ³vil mediante exchange activesync hasta que su administrador autorice el acceso.\\n\\nhi\\n\\ni received this message and our local it expert has told me to open a ticket.\\n\\n</td>\n",
              "      <td>tvcdfqgp nrbcqwgj</td>\n",
              "      <td>GRP_0</td>\n",
              "      <td>mobile device activation</td>\n",
              "      <td>from: tvcdfqgp nrbcqwgj \\nsent: friday, october 28, 2016 3:13 pm\\nto: nwfodmhc exurcwkm\\nsubject:  se ha bloqueado en forma temporal la sincronizaciÃ³n de su dispositivo mÃ³vil mediante exchange activesync hasta que su administrador autorice el acceso.\\n\\nhi\\n\\ni received this message and our local it expert has told me to open a ticket.\\n\\n</td>\n",
              "    </tr>\n",
              "    <tr>\n",
              "      <th>151</th>\n",
              "      <td>i used to have acces to this location on collaboration_platform.  now i do not. i need access.</td>\n",
              "      <td>\\n\\nreceived from: bwfhtumx.japznrvb@gmail.com\\n\\n\\n\\n[cid:image001.jpg@01d230f7.8bb4e830]\\n\\nbwfhtumx japznrvb \\nregional controller\\nbwfhtumx.japznrvb@gmail.com&lt;mailto:bwfhtumx.japznrvb@gmail.com&gt;\\n\\n\\n\\n</td>\n",
              "      <td>bwfhtumx japznrvb</td>\n",
              "      <td>GRP_16</td>\n",
              "      <td>i used to have acces to this location on collaboration_platform.  now i do not. i need access.</td>\n",
              "      <td>\\n\\nreceived from: bwfhtumx.japznrvb@gmail.com\\n\\n\\n\\n[cid:image001.jpg@01d230f7.8bb4e830]\\n\\nbwfhtumx japznrvb \\nregional controller\\nbwfhtumx.japznrvb@gmail.com&lt;mailto:bwfhtumx.japznrvb@gmail.com&gt;\\n\\n\\n\\n</td>\n",
              "    </tr>\n",
              "    <tr>\n",
              "      <th>162</th>\n",
              "      <td>access to bex</td>\n",
              "      <td>\\r\\n\\r\\nreceived from: yfqoaepn.xnezhsit@gmail.com\\r\\n\\r\\nhello,\\r\\n\\r\\ntill last week i was accessing bex reports using mms portal and there were no issues.\\r\\n\\r\\nstarting this week the system is incredibly slow when i log in and finally does not allow me to access any reports.\\r\\n\\r\\ncan it be the issue with any maintenance or my access rights or rather i should try to access bex using different way?\\r\\n\\r\\nbelow the print screen from what i see after log in:\\r\\n[cid:image001.png@01d2310c.f184b360]\\r\\n\\r\\ni am also able to get to finance reports (see below), however when i click \"profitability analysis\" (as i was always doing) separate window is open however apart rom that the screen is blank.\\r\\n[cid:image002.png@01d2310c.f184b360]\\r\\n\\r\\n\\r\\ni appreciate your support.\\r\\n\\r\\nhave a great day â˜º\\r\\n\\r\\nrobhyertyj\\r\\n\\r\\n\\r\\nyfqoaepn xnezhsit\\r\\nmanaging director\\r\\nfinance manager cee\\r\\nyfqoaepn.xnezhsit@gmail.com&lt;mailto:yfqoaepn.xnezhsit@gmail.com&gt;\\r\\ntel:+48(61)7767671\\r\\nmob:+48 694 425 760\\r\\n\\r\\ncompany polska sp. z o.o. , ul. krzywoustego 7, 61-144 poznaÅ„, www.company.com&lt;\\r\\n\\r\\ncompany polska sp. z o.o. z siedzibÄ… w polandiu, 61-144 poznaÅ„, ul. krzywoustego 7.\\r\\nspÃ³Å‚ka zarejestrowana w sÄ…dzie rejonowym poznaÅ„-nowe miasto i wilda w polandiu, wydziaÅ‚ viii gospodarczy krs pod numerem 1111286691.\\r\\nkapitaÅ‚ zakÅ‚adowy 100 000 pln, nip 954-20-87-982.\\r\\n\\r\\n\\r\\n\\r\\n\\r\\n\\r\\n</td>\n",
              "      <td>yfqoaepn xnezhsit</td>\n",
              "      <td>GRP_0</td>\n",
              "      <td>access to bex</td>\n",
              "      <td>\\r\\n\\r\\nreceived from: yfqoaepn.xnezhsit@gmail.com\\r\\n\\r\\nhello,\\r\\n\\r\\ntill last week i was accessing bex reports using mms portal and there were no issues.\\r\\n\\r\\nstarting this week the system is incredibly slow when i log in and finally does not allow me to access any reports.\\r\\n\\r\\ncan it be the issue with any maintenance or my access rights or rather i should try to access bex using different way?\\r\\n\\r\\nbelow the print screen from what i see after log in:\\r\\n[cid:image001.png@01d2310c.f184b360]\\r\\n\\r\\ni am also able to get to finance reports (see below), however when i click \"profitability analysis\" (as i was always doing) separate window is open however apart rom that the screen is blank.\\r\\n[cid:image002.png@01d2310c.f184b360]\\r\\n\\r\\n\\r\\ni appreciate your support.\\r\\n\\r\\nhave a great day â˜º\\r\\n\\r\\nrobhyertyj\\r\\n\\r\\n\\r\\nyfqoaepn xnezhsit\\r\\nmanaging director\\r\\nfinance manager cee\\r\\nyfqoaepn.xnezhsit@gmail.com&lt;mailto:yfqoaepn.xnezhsit@gmail.com&gt;\\r\\ntel:+48(61)7767671\\r\\nmob:+48 694 425 760\\r\\n\\r\\ncompany polska sp. z o.o. , ul. krzywoustego 7, 61-144 poznaÅ„, www.company.com&lt;\\r\\n\\r\\ncompany polska sp. z o.o. z siedzibÄ… w polandiu, 61-144 poznaÅ„, ul. krzywoustego 7.\\r\\nspÃ³Å‚ka zarejestrowana w sÄ…dzie rejonowym poznaÅ„-nowe miasto i wilda w polandiu, wydziaÅ‚ viii gospodarczy krs pod numerem 1111286691.\\r\\nkapitaÅ‚ zakÅ‚adowy 100 000 pln, nip 954-20-87-982.\\r\\n\\r\\n\\r\\n\\r\\n\\r\\n\\r\\n</td>\n",
              "    </tr>\n",
              "  </tbody>\n",
              "</table>\n",
              "</div>\n",
              "      <button class=\"colab-df-convert\" onclick=\"convertToInteractive('df-af8df243-def3-4d2b-83ca-9ac5fc953579')\"\n",
              "              title=\"Convert this dataframe to an interactive table.\"\n",
              "              style=\"display:none;\">\n",
              "        \n",
              "  <svg xmlns=\"http://www.w3.org/2000/svg\" height=\"24px\"viewBox=\"0 0 24 24\"\n",
              "       width=\"24px\">\n",
              "    <path d=\"M0 0h24v24H0V0z\" fill=\"none\"/>\n",
              "    <path d=\"M18.56 5.44l.94 2.06.94-2.06 2.06-.94-2.06-.94-.94-2.06-.94 2.06-2.06.94zm-11 1L8.5 8.5l.94-2.06 2.06-.94-2.06-.94L8.5 2.5l-.94 2.06-2.06.94zm10 10l.94 2.06.94-2.06 2.06-.94-2.06-.94-.94-2.06-.94 2.06-2.06.94z\"/><path d=\"M17.41 7.96l-1.37-1.37c-.4-.4-.92-.59-1.43-.59-.52 0-1.04.2-1.43.59L10.3 9.45l-7.72 7.72c-.78.78-.78 2.05 0 2.83L4 21.41c.39.39.9.59 1.41.59.51 0 1.02-.2 1.41-.59l7.78-7.78 2.81-2.81c.8-.78.8-2.07 0-2.86zM5.41 20L4 18.59l7.72-7.72 1.47 1.35L5.41 20z\"/>\n",
              "  </svg>\n",
              "      </button>\n",
              "      \n",
              "  <style>\n",
              "    .colab-df-container {\n",
              "      display:flex;\n",
              "      flex-wrap:wrap;\n",
              "      gap: 12px;\n",
              "    }\n",
              "\n",
              "    .colab-df-convert {\n",
              "      background-color: #E8F0FE;\n",
              "      border: none;\n",
              "      border-radius: 50%;\n",
              "      cursor: pointer;\n",
              "      display: none;\n",
              "      fill: #1967D2;\n",
              "      height: 32px;\n",
              "      padding: 0 0 0 0;\n",
              "      width: 32px;\n",
              "    }\n",
              "\n",
              "    .colab-df-convert:hover {\n",
              "      background-color: #E2EBFA;\n",
              "      box-shadow: 0px 1px 2px rgba(60, 64, 67, 0.3), 0px 1px 3px 1px rgba(60, 64, 67, 0.15);\n",
              "      fill: #174EA6;\n",
              "    }\n",
              "\n",
              "    [theme=dark] .colab-df-convert {\n",
              "      background-color: #3B4455;\n",
              "      fill: #D2E3FC;\n",
              "    }\n",
              "\n",
              "    [theme=dark] .colab-df-convert:hover {\n",
              "      background-color: #434B5C;\n",
              "      box-shadow: 0px 1px 3px 1px rgba(0, 0, 0, 0.15);\n",
              "      filter: drop-shadow(0px 1px 2px rgba(0, 0, 0, 0.3));\n",
              "      fill: #FFFFFF;\n",
              "    }\n",
              "  </style>\n",
              "\n",
              "      <script>\n",
              "        const buttonEl =\n",
              "          document.querySelector('#df-af8df243-def3-4d2b-83ca-9ac5fc953579 button.colab-df-convert');\n",
              "        buttonEl.style.display =\n",
              "          google.colab.kernel.accessAllowed ? 'block' : 'none';\n",
              "\n",
              "        async function convertToInteractive(key) {\n",
              "          const element = document.querySelector('#df-af8df243-def3-4d2b-83ca-9ac5fc953579');\n",
              "          const dataTable =\n",
              "            await google.colab.kernel.invokeFunction('convertToInteractive',\n",
              "                                                     [key], {});\n",
              "          if (!dataTable) return;\n",
              "\n",
              "          const docLinkHtml = 'Like what you see? Visit the ' +\n",
              "            '<a target=\"_blank\" href=https://colab.research.google.com/notebooks/data_table.ipynb>data table notebook</a>'\n",
              "            + ' to learn more about interactive tables.';\n",
              "          element.innerHTML = '';\n",
              "          dataTable['output_type'] = 'display_data';\n",
              "          await google.colab.output.renderOutput(dataTable, element);\n",
              "          const docLink = document.createElement('div');\n",
              "          docLink.innerHTML = docLinkHtml;\n",
              "          element.appendChild(docLink);\n",
              "        }\n",
              "      </script>\n",
              "    </div>\n",
              "  </div>\n",
              "  "
            ],
            "text/plain": [
              "                                                                                  Short description  ...                                                                                                                                                                                                                                                                                                                                                                                                                                                                                                                                                                                                                                                                                                                                                                                                                                                                                                                                                                                                                                                                                                                                                                                                                                                                                                                                                                                                                                                            desc_analysis\n",
              "53                                                                      reset scm_software password  ...                                                                                                                                                                                                                                                                                                                                                                                                                                                                                                                                                                                                                                                                                                                                                                                                                                                                                                                                                                                                                                                                                                                                                                                                                 \\n\\nreceived from: cdbaoqts.wqbsodni@gmail.com\\n\\nhello,\\n\\nplease reset my scm_software password.\\n\\n\\ncdbaoqts wqbsodni\\nglobal product manager, markhtyeting initiatives\\ncdbaoqts.wqbsodni@gmail.com<mailto:cdbaoqts.wqbsodni@gmail.com>\\n\\n\\n\\n\\n\\n\n",
              "100                                                                     re: ess portal access issue  ...                                                                                                                                                                                                                                                                                                                                                                                                                                                                                                                                                                                                                                                                                                                                                                                                                                                                                                                 \\n\\nreceived from: noscwdpm.akiowsmp@gmail.com\\n\\nhello,\\n\\nhe is an kiosk user.  please reset the password and confirm.\\n\\n\\nnoscwdpm akiowsmp\\nnoscwdpm.akiowsmp@gmail.com\\n\\nfrom: ihkolepb ozhnjyef\\nsent: 29 october 2016 13:38\\nto: company@ticketing_tool.com\\nsubject: ess portal access issue\\n\\nhi,\\n\\nbelow mentioned employee krlszbqo spimolgz with user id sv123 is not able to login to ess portal to access his pay slips and related contents. he is a attendance_tool user. please reset his user id and password and revert back.\\n\\n\n",
              "124                                                                        mobile device activation  ...                                                                                                                                                                                                                                                                                                                                                                                                                                                                                                                                                                                                                                                                                                                                                                                                                                                                                                                                                                                                                                                                                                                  from: tvcdfqgp nrbcqwgj \\nsent: friday, october 28, 2016 3:13 pm\\nto: nwfodmhc exurcwkm\\nsubject:  se ha bloqueado en forma temporal la sincronizaciÃ³n de su dispositivo mÃ³vil mediante exchange activesync hasta que su administrador autorice el acceso.\\n\\nhi\\n\\ni received this message and our local it expert has told me to open a ticket.\\n\\n\n",
              "151  i used to have acces to this location on collaboration_platform.  now i do not. i need access.  ...                                                                                                                                                                                                                                                                                                                                                                                                                                                                                                                                                                                                                                                                                                                                                                                                                                                                                                                                                                                                                                                                                                                                                                                                                                                           \\n\\nreceived from: bwfhtumx.japznrvb@gmail.com\\n\\n\\n\\n[cid:image001.jpg@01d230f7.8bb4e830]\\n\\nbwfhtumx japznrvb \\nregional controller\\nbwfhtumx.japznrvb@gmail.com<mailto:bwfhtumx.japznrvb@gmail.com>\\n\\n\\n\\n\n",
              "162                                                                                   access to bex  ...  \\r\\n\\r\\nreceived from: yfqoaepn.xnezhsit@gmail.com\\r\\n\\r\\nhello,\\r\\n\\r\\ntill last week i was accessing bex reports using mms portal and there were no issues.\\r\\n\\r\\nstarting this week the system is incredibly slow when i log in and finally does not allow me to access any reports.\\r\\n\\r\\ncan it be the issue with any maintenance or my access rights or rather i should try to access bex using different way?\\r\\n\\r\\nbelow the print screen from what i see after log in:\\r\\n[cid:image001.png@01d2310c.f184b360]\\r\\n\\r\\ni am also able to get to finance reports (see below), however when i click \"profitability analysis\" (as i was always doing) separate window is open however apart rom that the screen is blank.\\r\\n[cid:image002.png@01d2310c.f184b360]\\r\\n\\r\\n\\r\\ni appreciate your support.\\r\\n\\r\\nhave a great day â˜º\\r\\n\\r\\nrobhyertyj\\r\\n\\r\\n\\r\\nyfqoaepn xnezhsit\\r\\nmanaging director\\r\\nfinance manager cee\\r\\nyfqoaepn.xnezhsit@gmail.com<mailto:yfqoaepn.xnezhsit@gmail.com>\\r\\ntel:+48(61)7767671\\r\\nmob:+48 694 425 760\\r\\n\\r\\ncompany polska sp. z o.o. , ul. krzywoustego 7, 61-144 poznaÅ„, www.company.com<\\r\\n\\r\\ncompany polska sp. z o.o. z siedzibÄ… w polandiu, 61-144 poznaÅ„, ul. krzywoustego 7.\\r\\nspÃ³Å‚ka zarejestrowana w sÄ…dzie rejonowym poznaÅ„-nowe miasto i wilda w polandiu, wydziaÅ‚ viii gospodarczy krs pod numerem 1111286691.\\r\\nkapitaÅ‚ zakÅ‚adowy 100 000 pln, nip 954-20-87-982.\\r\\n\\r\\n\\r\\n\\r\\n\\r\\n\\r\\n\n",
              "\n",
              "[5 rows x 6 columns]"
            ]
          },
          "metadata": {},
          "execution_count": 69
        }
      ],
      "source": [
        "ata_data[ata_data['Description'].str.contains('to:', case=False, na=False)].head()"
      ]
    },
    {
      "cell_type": "markdown",
      "metadata": {
        "id": "HQe9bg0wFOqy"
      },
      "source": [
        "There are some Description which are copy paste of mails.  We can see texts such as\n",
        "\n",
        "1. from:\n",
        "2. to:\n",
        "3. sent:\n",
        "4. date:\n",
        "5. cc:\n",
        "6. subject: \n",
        "\n",
        "We will remove such text from our analysis.  We will copy the subject to another column to see if it can be of use in future"
      ]
    },
    {
      "cell_type": "code",
      "execution_count": 70,
      "metadata": {
        "colab": {
          "base_uri": "https://localhost:8080/",
          "height": 563
        },
        "id": "7kv4m4xz2Wfm",
        "outputId": "ae48c108-26be-471e-a4e1-fd6429269419"
      },
      "outputs": [
        {
          "output_type": "execute_result",
          "data": {
            "text/html": [
              "\n",
              "  <div id=\"df-68101231-42a8-44a7-93ca-2c5d2f6ea417\">\n",
              "    <div class=\"colab-df-container\">\n",
              "      <div>\n",
              "<style scoped>\n",
              "    .dataframe tbody tr th:only-of-type {\n",
              "        vertical-align: middle;\n",
              "    }\n",
              "\n",
              "    .dataframe tbody tr th {\n",
              "        vertical-align: top;\n",
              "    }\n",
              "\n",
              "    .dataframe thead th {\n",
              "        text-align: right;\n",
              "    }\n",
              "</style>\n",
              "<table border=\"1\" class=\"dataframe\">\n",
              "  <thead>\n",
              "    <tr style=\"text-align: right;\">\n",
              "      <th></th>\n",
              "      <th>Short description</th>\n",
              "      <th>Description</th>\n",
              "      <th>Caller</th>\n",
              "      <th>Assignment group</th>\n",
              "      <th>short_desc_analysis</th>\n",
              "      <th>desc_analysis</th>\n",
              "    </tr>\n",
              "  </thead>\n",
              "  <tbody>\n",
              "    <tr>\n",
              "      <th>135</th>\n",
              "      <td>access to business_client drawings</td>\n",
              "      <td>name:xvgftyr tryfuh\\nlanguage:\\nbrowser:microsoft internet explorer\\nemail:cnkoflhi.abeoucfj@gmail.com\\ncustomer number:\\nsummary:i cannot seem to access the drawings from the netweaver application that is installed on my computer.  it doesn't take me to the same page that my colleagues have.</td>\n",
              "      <td>rbozivdq gmlhrtvp</td>\n",
              "      <td>GRP_0</td>\n",
              "      <td>access to business_client drawings</td>\n",
              "      <td>name:xvgftyr tryfuh\\nlanguage:\\nbrowser:microsoft internet explorer\\nemail:cnkoflhi.abeoucfj@gmail.com\\ncustomer number:\\nsummary:i cannot seem to access the drawings from the netweaver application that is installed on my computer.  it doesn't take me to the same page that my colleagues have.</td>\n",
              "    </tr>\n",
              "    <tr>\n",
              "      <th>136</th>\n",
              "      <td>taking off email permissions from personal phone</td>\n",
              "      <td>name:vdhfy\\nlanguage:\\nbrowser:microsoft internet explorer\\nemail:dcvphjru.ybomrjst@gmail.com\\ncustomer number:\\nsummary:i have scrapped the old phone. my mail was configured in it. can you take off the permissions set to view mails on that phone</td>\n",
              "      <td>dcvphjru ybomrjst</td>\n",
              "      <td>GRP_0</td>\n",
              "      <td>taking off email permissions from personal phone</td>\n",
              "      <td>name:vdhfy\\nlanguage:\\nbrowser:microsoft internet explorer\\nemail:dcvphjru.ybomrjst@gmail.com\\ncustomer number:\\nsummary:i have scrapped the old phone. my mail was configured in it. can you take off the permissions set to view mails on that phone</td>\n",
              "    </tr>\n",
              "    <tr>\n",
              "      <th>147</th>\n",
              "      <td>good morning. i am having trouble getting into my vpn</td>\n",
              "      <td>name:wvngzrca sfmrzdth\\nlanguage:\\nbrowser:microsoft internet explorer\\nemail:wvngzrca.sfmrzdth@gmail.com\\ncustomer number:\\nsummary:good morning. i am having trouble getting into my vpn\\ncan you assist</td>\n",
              "      <td>wvngzrca sfmrzdth</td>\n",
              "      <td>GRP_0</td>\n",
              "      <td>good morning. i am having trouble getting into my vpn</td>\n",
              "      <td>name:wvngzrca sfmrzdth\\nlanguage:\\nbrowser:microsoft internet explorer\\nemail:wvngzrca.sfmrzdth@gmail.com\\ncustomer number:\\nsummary:good morning. i am having trouble getting into my vpn\\ncan you assist</td>\n",
              "    </tr>\n",
              "    <tr>\n",
              "      <th>200</th>\n",
              "      <td>unable to open website</td>\n",
              "      <td>\\nname:xbdht yrjhd\\nlanguage:\\nbrowser:microsoft internet explorer\\nemail:aqjdvexo.lmedazjo@gmail.com\\ncustomer number:\\nsummary: benefit advisor will not run in my browser.</td>\n",
              "      <td>aqjdvexo lmedazjo</td>\n",
              "      <td>GRP_0</td>\n",
              "      <td>unable to open website</td>\n",
              "      <td>\\nname:xbdht yrjhd\\nlanguage:\\nbrowser:microsoft internet explorer\\nemail:aqjdvexo.lmedazjo@gmail.com\\ncustomer number:\\nsummary: benefit advisor will not run in my browser.</td>\n",
              "    </tr>\n",
              "    <tr>\n",
              "      <th>226</th>\n",
              "      <td>enable bgdxitwu dhcopwxa' active directory account</td>\n",
              "      <td>enable bgdxitwu dhcopwxa' active directory account\\n\\nname:fdgrty\\nemail:kybgepnj.idszleru@gmail.com\\nsummary:i need bgdxitwu dhcopwxa's active directory account enabled.</td>\n",
              "      <td>kcwqdeob jwtpkzub</td>\n",
              "      <td>GRP_2</td>\n",
              "      <td>enable bgdxitwu dhcopwxa' active directory account</td>\n",
              "      <td>enable bgdxitwu dhcopwxa' active directory account\\n\\nname:fdgrty\\nemail:kybgepnj.idszleru@gmail.com\\nsummary:i need bgdxitwu dhcopwxa's active directory account enabled.</td>\n",
              "    </tr>\n",
              "  </tbody>\n",
              "</table>\n",
              "</div>\n",
              "      <button class=\"colab-df-convert\" onclick=\"convertToInteractive('df-68101231-42a8-44a7-93ca-2c5d2f6ea417')\"\n",
              "              title=\"Convert this dataframe to an interactive table.\"\n",
              "              style=\"display:none;\">\n",
              "        \n",
              "  <svg xmlns=\"http://www.w3.org/2000/svg\" height=\"24px\"viewBox=\"0 0 24 24\"\n",
              "       width=\"24px\">\n",
              "    <path d=\"M0 0h24v24H0V0z\" fill=\"none\"/>\n",
              "    <path d=\"M18.56 5.44l.94 2.06.94-2.06 2.06-.94-2.06-.94-.94-2.06-.94 2.06-2.06.94zm-11 1L8.5 8.5l.94-2.06 2.06-.94-2.06-.94L8.5 2.5l-.94 2.06-2.06.94zm10 10l.94 2.06.94-2.06 2.06-.94-2.06-.94-.94-2.06-.94 2.06-2.06.94z\"/><path d=\"M17.41 7.96l-1.37-1.37c-.4-.4-.92-.59-1.43-.59-.52 0-1.04.2-1.43.59L10.3 9.45l-7.72 7.72c-.78.78-.78 2.05 0 2.83L4 21.41c.39.39.9.59 1.41.59.51 0 1.02-.2 1.41-.59l7.78-7.78 2.81-2.81c.8-.78.8-2.07 0-2.86zM5.41 20L4 18.59l7.72-7.72 1.47 1.35L5.41 20z\"/>\n",
              "  </svg>\n",
              "      </button>\n",
              "      \n",
              "  <style>\n",
              "    .colab-df-container {\n",
              "      display:flex;\n",
              "      flex-wrap:wrap;\n",
              "      gap: 12px;\n",
              "    }\n",
              "\n",
              "    .colab-df-convert {\n",
              "      background-color: #E8F0FE;\n",
              "      border: none;\n",
              "      border-radius: 50%;\n",
              "      cursor: pointer;\n",
              "      display: none;\n",
              "      fill: #1967D2;\n",
              "      height: 32px;\n",
              "      padding: 0 0 0 0;\n",
              "      width: 32px;\n",
              "    }\n",
              "\n",
              "    .colab-df-convert:hover {\n",
              "      background-color: #E2EBFA;\n",
              "      box-shadow: 0px 1px 2px rgba(60, 64, 67, 0.3), 0px 1px 3px 1px rgba(60, 64, 67, 0.15);\n",
              "      fill: #174EA6;\n",
              "    }\n",
              "\n",
              "    [theme=dark] .colab-df-convert {\n",
              "      background-color: #3B4455;\n",
              "      fill: #D2E3FC;\n",
              "    }\n",
              "\n",
              "    [theme=dark] .colab-df-convert:hover {\n",
              "      background-color: #434B5C;\n",
              "      box-shadow: 0px 1px 3px 1px rgba(0, 0, 0, 0.15);\n",
              "      filter: drop-shadow(0px 1px 2px rgba(0, 0, 0, 0.3));\n",
              "      fill: #FFFFFF;\n",
              "    }\n",
              "  </style>\n",
              "\n",
              "      <script>\n",
              "        const buttonEl =\n",
              "          document.querySelector('#df-68101231-42a8-44a7-93ca-2c5d2f6ea417 button.colab-df-convert');\n",
              "        buttonEl.style.display =\n",
              "          google.colab.kernel.accessAllowed ? 'block' : 'none';\n",
              "\n",
              "        async function convertToInteractive(key) {\n",
              "          const element = document.querySelector('#df-68101231-42a8-44a7-93ca-2c5d2f6ea417');\n",
              "          const dataTable =\n",
              "            await google.colab.kernel.invokeFunction('convertToInteractive',\n",
              "                                                     [key], {});\n",
              "          if (!dataTable) return;\n",
              "\n",
              "          const docLinkHtml = 'Like what you see? Visit the ' +\n",
              "            '<a target=\"_blank\" href=https://colab.research.google.com/notebooks/data_table.ipynb>data table notebook</a>'\n",
              "            + ' to learn more about interactive tables.';\n",
              "          element.innerHTML = '';\n",
              "          dataTable['output_type'] = 'display_data';\n",
              "          await google.colab.output.renderOutput(dataTable, element);\n",
              "          const docLink = document.createElement('div');\n",
              "          docLink.innerHTML = docLinkHtml;\n",
              "          element.appendChild(docLink);\n",
              "        }\n",
              "      </script>\n",
              "    </div>\n",
              "  </div>\n",
              "  "
            ],
            "text/plain": [
              "                                         Short description  ...                                                                                                                                                                                                                                                                                          desc_analysis\n",
              "135                     access to business_client drawings  ...  name:xvgftyr tryfuh\\nlanguage:\\nbrowser:microsoft internet explorer\\nemail:cnkoflhi.abeoucfj@gmail.com\\ncustomer number:\\nsummary:i cannot seem to access the drawings from the netweaver application that is installed on my computer.  it doesn't take me to the same page that my colleagues have.\n",
              "136       taking off email permissions from personal phone  ...                                                 name:vdhfy\\nlanguage:\\nbrowser:microsoft internet explorer\\nemail:dcvphjru.ybomrjst@gmail.com\\ncustomer number:\\nsummary:i have scrapped the old phone. my mail was configured in it. can you take off the permissions set to view mails on that phone\n",
              "147  good morning. i am having trouble getting into my vpn  ...                                                                                             name:wvngzrca sfmrzdth\\nlanguage:\\nbrowser:microsoft internet explorer\\nemail:wvngzrca.sfmrzdth@gmail.com\\ncustomer number:\\nsummary:good morning. i am having trouble getting into my vpn\\ncan you assist\n",
              "200                                 unable to open website  ...                                                                                                                          \\nname:xbdht yrjhd\\nlanguage:\\nbrowser:microsoft internet explorer\\nemail:aqjdvexo.lmedazjo@gmail.com\\ncustomer number:\\nsummary: benefit advisor will not run in my browser.\n",
              "226     enable bgdxitwu dhcopwxa' active directory account  ...                                                                                                                             enable bgdxitwu dhcopwxa' active directory account\\n\\nname:fdgrty\\nemail:kybgepnj.idszleru@gmail.com\\nsummary:i need bgdxitwu dhcopwxa's active directory account enabled.\n",
              "\n",
              "[5 rows x 6 columns]"
            ]
          },
          "metadata": {},
          "execution_count": 70
        }
      ],
      "source": [
        "ata_data[ata_data['Description'].str.contains('name:', case=False, na=False)].head()"
      ]
    },
    {
      "cell_type": "markdown",
      "metadata": {
        "id": "_ZPXJvwk29lG"
      },
      "source": [
        "There seems to be a template where below details are captured\n",
        "1. name\n",
        "2. language\n",
        "3. browser\n",
        "4. email\n",
        "5. customercare number\n",
        "6. summary \n",
        "\n",
        "Keeping only the text provided as summary for further analysis "
      ]
    },
    {
      "cell_type": "code",
      "execution_count": 71,
      "metadata": {
        "colab": {
          "base_uri": "https://localhost:8080/",
          "height": 548
        },
        "id": "eDUPWxZ4Zqhz",
        "outputId": "dfe901ab-7268-4706-8ae8-2d6b681fabca"
      },
      "outputs": [
        {
          "output_type": "execute_result",
          "data": {
            "text/html": [
              "\n",
              "  <div id=\"df-02113e43-93e0-4102-8bd7-b9412c977fae\">\n",
              "    <div class=\"colab-df-container\">\n",
              "      <div>\n",
              "<style scoped>\n",
              "    .dataframe tbody tr th:only-of-type {\n",
              "        vertical-align: middle;\n",
              "    }\n",
              "\n",
              "    .dataframe tbody tr th {\n",
              "        vertical-align: top;\n",
              "    }\n",
              "\n",
              "    .dataframe thead th {\n",
              "        text-align: right;\n",
              "    }\n",
              "</style>\n",
              "<table border=\"1\" class=\"dataframe\">\n",
              "  <thead>\n",
              "    <tr style=\"text-align: right;\">\n",
              "      <th></th>\n",
              "      <th>Short description</th>\n",
              "      <th>Description</th>\n",
              "      <th>Caller</th>\n",
              "      <th>Assignment group</th>\n",
              "      <th>short_desc_analysis</th>\n",
              "      <th>desc_analysis</th>\n",
              "    </tr>\n",
              "  </thead>\n",
              "  <tbody>\n",
              "    <tr>\n",
              "      <th>21</th>\n",
              "      <td>vpn issue</td>\n",
              "      <td>\\r\\n\\r\\nreceived from: ugephfta.hrbqkvij@gmail.com\\r\\n\\r\\nhello helpdesk\\r\\n\\r\\ni am not able to connect vpn from home office. couple f hours ago i was connected, now it is not working anymore. getting a message that my session expired but if i click on the link, nothing happens.\\r\\n\\r\\n[cid:image001.jpg@01d233aa.3f618be0]\\r\\n\\r\\n*********************\\r\\n\\r\\nneed help with your dynamics crm?\\r\\nclick here&lt;\\r\\n\\r\\nchat with a live agent regarding your dynamics crm questions now! click here&lt;\\r\\n\\r\\nbest</td>\n",
              "      <td>ugephfta hrbqkvij</td>\n",
              "      <td>GRP_0</td>\n",
              "      <td>vpn issue</td>\n",
              "      <td>\\r\\n\\r\\nreceived from: ugephfta.hrbqkvij@gmail.com\\r\\n\\r\\nhello helpdesk\\r\\n\\r\\ni am not able to connect vpn from home office. couple f hours ago i was connected, now it is not working anymore. getting a message that my session expired but if i click on the link, nothing happens.\\r\\n\\r\\n[cid:image001.jpg@01d233aa.3f618be0]\\r\\n\\r\\n*********************\\r\\n\\r\\nneed help with your dynamics crm?\\r\\nclick here&lt;\\r\\n\\r\\nchat with a live agent regarding your dynamics crm questions now! click here&lt;\\r\\n\\r\\nbest</td>\n",
              "    </tr>\n",
              "    <tr>\n",
              "      <th>62</th>\n",
              "      <td>issues with outlook</td>\n",
              "      <td>\\r\\n\\r\\nreceived from: lkfzibrx.ljnabpgx@gmail.com\\r\\n\\r\\n[cid:image001.png@01d23357.fcbe58b0]\\r\\n\\r\\nbest</td>\n",
              "      <td>lkfzibrx ljnabpgx</td>\n",
              "      <td>GRP_0</td>\n",
              "      <td>issues with outlook</td>\n",
              "      <td>\\r\\n\\r\\nreceived from: lkfzibrx.ljnabpgx@gmail.com\\r\\n\\r\\n[cid:image001.png@01d23357.fcbe58b0]\\r\\n\\r\\nbest</td>\n",
              "    </tr>\n",
              "    <tr>\n",
              "      <th>107</th>\n",
              "      <td>attendance_tool - system log on error</td>\n",
              "      <td>\\n\\nreceived from: isfadulo.etkyjabn@gmail.com\\n\\nhello\\n\\ngood morning,\\n\\ni am experiencing issues with attendance_tool log on\\nevery time i try to log on through \"single sign portal, the following screen gets displayed and it stays there.\\nappreciate your support to fix this issue\\n\\n\\n[cid:image011.jpg@01d231cb.2cceacf0]\\n\\n</td>\n",
              "      <td>isfadulo etkyjabn</td>\n",
              "      <td>GRP_0</td>\n",
              "      <td>attendance_tool - system log on error</td>\n",
              "      <td>\\n\\nreceived from: isfadulo.etkyjabn@gmail.com\\n\\nhello\\n\\ngood morning,\\n\\ni am experiencing issues with attendance_tool log on\\nevery time i try to log on through \"single sign portal, the following screen gets displayed and it stays there.\\nappreciate your support to fix this issue\\n\\n\\n[cid:image011.jpg@01d231cb.2cceacf0]\\n\\n</td>\n",
              "    </tr>\n",
              "    <tr>\n",
              "      <th>128</th>\n",
              "      <td>password change thru password_management_tool password manager</td>\n",
              "      <td>\\r\\n\\r\\nreceived from: jvpkulxw.ovuweygj@gmail.com\\r\\n\\r\\nhello sir,\\r\\n\\r\\ni tried to change my password thru above. i  got below error. pl help know what action to be taken further to ensure all passwords are same everywhere since belo wmsg says all passwords were not changed.\\r\\n\\r\\n[cid:image001.jpg@01d2316b.5ff15980]\\r\\n\\r\\n</td>\n",
              "      <td>jvpkulxw ovuweygj</td>\n",
              "      <td>GRP_0</td>\n",
              "      <td>password change thru password_management_tool password manager</td>\n",
              "      <td>\\r\\n\\r\\nreceived from: jvpkulxw.ovuweygj@gmail.com\\r\\n\\r\\nhello sir,\\r\\n\\r\\ni tried to change my password thru above. i  got below error. pl help know what action to be taken further to ensure all passwords are same everywhere since belo wmsg says all passwords were not changed.\\r\\n\\r\\n[cid:image001.jpg@01d2316b.5ff15980]\\r\\n\\r\\n</td>\n",
              "    </tr>\n",
              "    <tr>\n",
              "      <th>151</th>\n",
              "      <td>i used to have acces to this location on collaboration_platform.  now i do not. i need access.</td>\n",
              "      <td>\\n\\nreceived from: bwfhtumx.japznrvb@gmail.com\\n\\n\\n\\n[cid:image001.jpg@01d230f7.8bb4e830]\\n\\nbwfhtumx japznrvb \\nregional controller\\nbwfhtumx.japznrvb@gmail.com&lt;mailto:bwfhtumx.japznrvb@gmail.com&gt;\\n\\n\\n\\n</td>\n",
              "      <td>bwfhtumx japznrvb</td>\n",
              "      <td>GRP_16</td>\n",
              "      <td>i used to have acces to this location on collaboration_platform.  now i do not. i need access.</td>\n",
              "      <td>\\n\\nreceived from: bwfhtumx.japznrvb@gmail.com\\n\\n\\n\\n[cid:image001.jpg@01d230f7.8bb4e830]\\n\\nbwfhtumx japznrvb \\nregional controller\\nbwfhtumx.japznrvb@gmail.com&lt;mailto:bwfhtumx.japznrvb@gmail.com&gt;\\n\\n\\n\\n</td>\n",
              "    </tr>\n",
              "  </tbody>\n",
              "</table>\n",
              "</div>\n",
              "      <button class=\"colab-df-convert\" onclick=\"convertToInteractive('df-02113e43-93e0-4102-8bd7-b9412c977fae')\"\n",
              "              title=\"Convert this dataframe to an interactive table.\"\n",
              "              style=\"display:none;\">\n",
              "        \n",
              "  <svg xmlns=\"http://www.w3.org/2000/svg\" height=\"24px\"viewBox=\"0 0 24 24\"\n",
              "       width=\"24px\">\n",
              "    <path d=\"M0 0h24v24H0V0z\" fill=\"none\"/>\n",
              "    <path d=\"M18.56 5.44l.94 2.06.94-2.06 2.06-.94-2.06-.94-.94-2.06-.94 2.06-2.06.94zm-11 1L8.5 8.5l.94-2.06 2.06-.94-2.06-.94L8.5 2.5l-.94 2.06-2.06.94zm10 10l.94 2.06.94-2.06 2.06-.94-2.06-.94-.94-2.06-.94 2.06-2.06.94z\"/><path d=\"M17.41 7.96l-1.37-1.37c-.4-.4-.92-.59-1.43-.59-.52 0-1.04.2-1.43.59L10.3 9.45l-7.72 7.72c-.78.78-.78 2.05 0 2.83L4 21.41c.39.39.9.59 1.41.59.51 0 1.02-.2 1.41-.59l7.78-7.78 2.81-2.81c.8-.78.8-2.07 0-2.86zM5.41 20L4 18.59l7.72-7.72 1.47 1.35L5.41 20z\"/>\n",
              "  </svg>\n",
              "      </button>\n",
              "      \n",
              "  <style>\n",
              "    .colab-df-container {\n",
              "      display:flex;\n",
              "      flex-wrap:wrap;\n",
              "      gap: 12px;\n",
              "    }\n",
              "\n",
              "    .colab-df-convert {\n",
              "      background-color: #E8F0FE;\n",
              "      border: none;\n",
              "      border-radius: 50%;\n",
              "      cursor: pointer;\n",
              "      display: none;\n",
              "      fill: #1967D2;\n",
              "      height: 32px;\n",
              "      padding: 0 0 0 0;\n",
              "      width: 32px;\n",
              "    }\n",
              "\n",
              "    .colab-df-convert:hover {\n",
              "      background-color: #E2EBFA;\n",
              "      box-shadow: 0px 1px 2px rgba(60, 64, 67, 0.3), 0px 1px 3px 1px rgba(60, 64, 67, 0.15);\n",
              "      fill: #174EA6;\n",
              "    }\n",
              "\n",
              "    [theme=dark] .colab-df-convert {\n",
              "      background-color: #3B4455;\n",
              "      fill: #D2E3FC;\n",
              "    }\n",
              "\n",
              "    [theme=dark] .colab-df-convert:hover {\n",
              "      background-color: #434B5C;\n",
              "      box-shadow: 0px 1px 3px 1px rgba(0, 0, 0, 0.15);\n",
              "      filter: drop-shadow(0px 1px 2px rgba(0, 0, 0, 0.3));\n",
              "      fill: #FFFFFF;\n",
              "    }\n",
              "  </style>\n",
              "\n",
              "      <script>\n",
              "        const buttonEl =\n",
              "          document.querySelector('#df-02113e43-93e0-4102-8bd7-b9412c977fae button.colab-df-convert');\n",
              "        buttonEl.style.display =\n",
              "          google.colab.kernel.accessAllowed ? 'block' : 'none';\n",
              "\n",
              "        async function convertToInteractive(key) {\n",
              "          const element = document.querySelector('#df-02113e43-93e0-4102-8bd7-b9412c977fae');\n",
              "          const dataTable =\n",
              "            await google.colab.kernel.invokeFunction('convertToInteractive',\n",
              "                                                     [key], {});\n",
              "          if (!dataTable) return;\n",
              "\n",
              "          const docLinkHtml = 'Like what you see? Visit the ' +\n",
              "            '<a target=\"_blank\" href=https://colab.research.google.com/notebooks/data_table.ipynb>data table notebook</a>'\n",
              "            + ' to learn more about interactive tables.';\n",
              "          element.innerHTML = '';\n",
              "          dataTable['output_type'] = 'display_data';\n",
              "          await google.colab.output.renderOutput(dataTable, element);\n",
              "          const docLink = document.createElement('div');\n",
              "          docLink.innerHTML = docLinkHtml;\n",
              "          element.appendChild(docLink);\n",
              "        }\n",
              "      </script>\n",
              "    </div>\n",
              "  </div>\n",
              "  "
            ],
            "text/plain": [
              "                                                                                  Short description  ...                                                                                                                                                                                                                                                                                                                                                                                                                                                                                                                desc_analysis\n",
              "21                                                                                        vpn issue  ...  \\r\\n\\r\\nreceived from: ugephfta.hrbqkvij@gmail.com\\r\\n\\r\\nhello helpdesk\\r\\n\\r\\ni am not able to connect vpn from home office. couple f hours ago i was connected, now it is not working anymore. getting a message that my session expired but if i click on the link, nothing happens.\\r\\n\\r\\n[cid:image001.jpg@01d233aa.3f618be0]\\r\\n\\r\\n*********************\\r\\n\\r\\nneed help with your dynamics crm?\\r\\nclick here<\\r\\n\\r\\nchat with a live agent regarding your dynamics crm questions now! click here<\\r\\n\\r\\nbest \n",
              "62                                                                              issues with outlook  ...                                                                                                                                                                                                                                                                                                                                                                                                                  \\r\\n\\r\\nreceived from: lkfzibrx.ljnabpgx@gmail.com\\r\\n\\r\\n[cid:image001.png@01d23357.fcbe58b0]\\r\\n\\r\\nbest \n",
              "107                                                           attendance_tool - system log on error  ...                                                                                                                                                                                   \\n\\nreceived from: isfadulo.etkyjabn@gmail.com\\n\\nhello\\n\\ngood morning,\\n\\ni am experiencing issues with attendance_tool log on\\nevery time i try to log on through \"single sign portal, the following screen gets displayed and it stays there.\\nappreciate your support to fix this issue\\n\\n\\n[cid:image011.jpg@01d231cb.2cceacf0]\\n\\n\n",
              "128                                  password change thru password_management_tool password manager  ...                                                                                                                                                                                  \\r\\n\\r\\nreceived from: jvpkulxw.ovuweygj@gmail.com\\r\\n\\r\\nhello sir,\\r\\n\\r\\ni tried to change my password thru above. i  got below error. pl help know what action to be taken further to ensure all passwords are same everywhere since belo wmsg says all passwords were not changed.\\r\\n\\r\\n[cid:image001.jpg@01d2316b.5ff15980]\\r\\n\\r\\n\n",
              "151  i used to have acces to this location on collaboration_platform.  now i do not. i need access.  ...                                                                                                                                                                                                                                                                                                               \\n\\nreceived from: bwfhtumx.japznrvb@gmail.com\\n\\n\\n\\n[cid:image001.jpg@01d230f7.8bb4e830]\\n\\nbwfhtumx japznrvb \\nregional controller\\nbwfhtumx.japznrvb@gmail.com<mailto:bwfhtumx.japznrvb@gmail.com>\\n\\n\\n\\n\n",
              "\n",
              "[5 rows x 6 columns]"
            ]
          },
          "metadata": {},
          "execution_count": 71
        }
      ],
      "source": [
        "ata_data[ata_data['Description'].str.contains('cid:image', case=False, na=False)].head()"
      ]
    },
    {
      "cell_type": "markdown",
      "metadata": {
        "id": "qxCXYQUvJrvL"
      },
      "source": [
        "There are some texts containing embedded image details.  Removing the text pertaining to embedded images"
      ]
    },
    {
      "cell_type": "code",
      "execution_count": 72,
      "metadata": {
        "id": "-HmGbLaBMVtQ"
      },
      "outputs": [],
      "source": [
        "ata_data['short_desc_analysis'] = ata_data['short_desc_analysis'].apply(preprocess_text_part1)\n",
        "ata_data['desc_analysis'] = ata_data['desc_analysis'].apply(preprocess_text_part1)"
      ]
    },
    {
      "cell_type": "code",
      "execution_count": 73,
      "metadata": {
        "colab": {
          "base_uri": "https://localhost:8080/",
          "height": 441
        },
        "id": "OXBQiTsbPBtM",
        "outputId": "77a7ebf5-79cd-4566-e251-f4063725be91"
      },
      "outputs": [
        {
          "output_type": "execute_result",
          "data": {
            "text/html": [
              "\n",
              "  <div id=\"df-06d21b72-af94-4e96-92c8-49e406ec8a2a\">\n",
              "    <div class=\"colab-df-container\">\n",
              "      <div>\n",
              "<style scoped>\n",
              "    .dataframe tbody tr th:only-of-type {\n",
              "        vertical-align: middle;\n",
              "    }\n",
              "\n",
              "    .dataframe tbody tr th {\n",
              "        vertical-align: top;\n",
              "    }\n",
              "\n",
              "    .dataframe thead th {\n",
              "        text-align: right;\n",
              "    }\n",
              "</style>\n",
              "<table border=\"1\" class=\"dataframe\">\n",
              "  <thead>\n",
              "    <tr style=\"text-align: right;\">\n",
              "      <th></th>\n",
              "      <th>Short description</th>\n",
              "      <th>Description</th>\n",
              "      <th>Caller</th>\n",
              "      <th>Assignment group</th>\n",
              "      <th>short_desc_analysis</th>\n",
              "      <th>desc_analysis</th>\n",
              "    </tr>\n",
              "  </thead>\n",
              "  <tbody>\n",
              "    <tr>\n",
              "      <th>0</th>\n",
              "      <td>login issue</td>\n",
              "      <td>-verified user details.(employee# &amp; manager name)\\r\\n-checked the user name in ad and reset the password.\\r\\n-advised the user to login and check.\\r\\n-caller confirmed that he was able to login.\\r\\n-issue resolved.</td>\n",
              "      <td>spxjnwir pjlcoqds</td>\n",
              "      <td>GRP_0</td>\n",
              "      <td>login issue</td>\n",
              "      <td>-verified user details.(employee# &amp; manager name)\\n-checked the user name in ad and reset the password.\\n-advised the user to login and check.\\n-caller confirmed that he was able to login.\\n-issue resolved.</td>\n",
              "    </tr>\n",
              "    <tr>\n",
              "      <th>1</th>\n",
              "      <td>outlook</td>\n",
              "      <td>\\r\\n\\r\\nreceived from: hmjdrvpb.komuaywn@gmail.com\\r\\n\\r\\nhello team,\\r\\n\\r\\nmy meetings/skype meetings etc are not appearing in my outlook calendar, can somebody please advise how to correct this?\\r\\n\\r\\nkind</td>\n",
              "      <td>hmjdrvpb komuaywn</td>\n",
              "      <td>GRP_0</td>\n",
              "      <td>outlook</td>\n",
              "      <td>\\n\\nreceived from: hmjdrvpb.komuaywn@gmail.com\\n\\nhello team,\\n\\nmy meetings/skype meetings etc are not appearing in my outlook calendar, can somebody please advise how to correct this?\\n\\nkind</td>\n",
              "    </tr>\n",
              "    <tr>\n",
              "      <th>2</th>\n",
              "      <td>cant log in to vpn</td>\n",
              "      <td>\\r\\n\\r\\nreceived from: eylqgodm.ybqkwiam@gmail.com\\r\\n\\r\\nhi\\r\\n\\r\\ni cannot log on to vpn\\r\\n\\r\\nbest</td>\n",
              "      <td>eylqgodm ybqkwiam</td>\n",
              "      <td>GRP_0</td>\n",
              "      <td>cant log in to vpn</td>\n",
              "      <td>\\n\\nreceived from: eylqgodm.ybqkwiam@gmail.com\\n\\nhi\\n\\ni cannot log on to vpn\\n\\nbest</td>\n",
              "    </tr>\n",
              "    <tr>\n",
              "      <th>3</th>\n",
              "      <td>unable to access hr_tool page</td>\n",
              "      <td>unable to access hr_tool page</td>\n",
              "      <td>xbkucsvz gcpydteq</td>\n",
              "      <td>GRP_0</td>\n",
              "      <td>unable to access hr_tool page</td>\n",
              "      <td>unable to access hr_tool page</td>\n",
              "    </tr>\n",
              "    <tr>\n",
              "      <th>4</th>\n",
              "      <td>skype error</td>\n",
              "      <td>skype error</td>\n",
              "      <td>owlgqjme qhcozdfx</td>\n",
              "      <td>GRP_0</td>\n",
              "      <td>skype error</td>\n",
              "      <td>skype error</td>\n",
              "    </tr>\n",
              "  </tbody>\n",
              "</table>\n",
              "</div>\n",
              "      <button class=\"colab-df-convert\" onclick=\"convertToInteractive('df-06d21b72-af94-4e96-92c8-49e406ec8a2a')\"\n",
              "              title=\"Convert this dataframe to an interactive table.\"\n",
              "              style=\"display:none;\">\n",
              "        \n",
              "  <svg xmlns=\"http://www.w3.org/2000/svg\" height=\"24px\"viewBox=\"0 0 24 24\"\n",
              "       width=\"24px\">\n",
              "    <path d=\"M0 0h24v24H0V0z\" fill=\"none\"/>\n",
              "    <path d=\"M18.56 5.44l.94 2.06.94-2.06 2.06-.94-2.06-.94-.94-2.06-.94 2.06-2.06.94zm-11 1L8.5 8.5l.94-2.06 2.06-.94-2.06-.94L8.5 2.5l-.94 2.06-2.06.94zm10 10l.94 2.06.94-2.06 2.06-.94-2.06-.94-.94-2.06-.94 2.06-2.06.94z\"/><path d=\"M17.41 7.96l-1.37-1.37c-.4-.4-.92-.59-1.43-.59-.52 0-1.04.2-1.43.59L10.3 9.45l-7.72 7.72c-.78.78-.78 2.05 0 2.83L4 21.41c.39.39.9.59 1.41.59.51 0 1.02-.2 1.41-.59l7.78-7.78 2.81-2.81c.8-.78.8-2.07 0-2.86zM5.41 20L4 18.59l7.72-7.72 1.47 1.35L5.41 20z\"/>\n",
              "  </svg>\n",
              "      </button>\n",
              "      \n",
              "  <style>\n",
              "    .colab-df-container {\n",
              "      display:flex;\n",
              "      flex-wrap:wrap;\n",
              "      gap: 12px;\n",
              "    }\n",
              "\n",
              "    .colab-df-convert {\n",
              "      background-color: #E8F0FE;\n",
              "      border: none;\n",
              "      border-radius: 50%;\n",
              "      cursor: pointer;\n",
              "      display: none;\n",
              "      fill: #1967D2;\n",
              "      height: 32px;\n",
              "      padding: 0 0 0 0;\n",
              "      width: 32px;\n",
              "    }\n",
              "\n",
              "    .colab-df-convert:hover {\n",
              "      background-color: #E2EBFA;\n",
              "      box-shadow: 0px 1px 2px rgba(60, 64, 67, 0.3), 0px 1px 3px 1px rgba(60, 64, 67, 0.15);\n",
              "      fill: #174EA6;\n",
              "    }\n",
              "\n",
              "    [theme=dark] .colab-df-convert {\n",
              "      background-color: #3B4455;\n",
              "      fill: #D2E3FC;\n",
              "    }\n",
              "\n",
              "    [theme=dark] .colab-df-convert:hover {\n",
              "      background-color: #434B5C;\n",
              "      box-shadow: 0px 1px 3px 1px rgba(0, 0, 0, 0.15);\n",
              "      filter: drop-shadow(0px 1px 2px rgba(0, 0, 0, 0.3));\n",
              "      fill: #FFFFFF;\n",
              "    }\n",
              "  </style>\n",
              "\n",
              "      <script>\n",
              "        const buttonEl =\n",
              "          document.querySelector('#df-06d21b72-af94-4e96-92c8-49e406ec8a2a button.colab-df-convert');\n",
              "        buttonEl.style.display =\n",
              "          google.colab.kernel.accessAllowed ? 'block' : 'none';\n",
              "\n",
              "        async function convertToInteractive(key) {\n",
              "          const element = document.querySelector('#df-06d21b72-af94-4e96-92c8-49e406ec8a2a');\n",
              "          const dataTable =\n",
              "            await google.colab.kernel.invokeFunction('convertToInteractive',\n",
              "                                                     [key], {});\n",
              "          if (!dataTable) return;\n",
              "\n",
              "          const docLinkHtml = 'Like what you see? Visit the ' +\n",
              "            '<a target=\"_blank\" href=https://colab.research.google.com/notebooks/data_table.ipynb>data table notebook</a>'\n",
              "            + ' to learn more about interactive tables.';\n",
              "          element.innerHTML = '';\n",
              "          dataTable['output_type'] = 'display_data';\n",
              "          await google.colab.output.renderOutput(dataTable, element);\n",
              "          const docLink = document.createElement('div');\n",
              "          docLink.innerHTML = docLinkHtml;\n",
              "          element.appendChild(docLink);\n",
              "        }\n",
              "      </script>\n",
              "    </div>\n",
              "  </div>\n",
              "  "
            ],
            "text/plain": [
              "               Short description  ...                                                                                                                                                                                                   desc_analysis\n",
              "0                    login issue  ...  -verified user details.(employee# & manager name)\\n-checked the user name in ad and reset the password.\\n-advised the user to login and check.\\n-caller confirmed that he was able to login.\\n-issue resolved.\n",
              "1                        outlook  ...              \\n\\nreceived from: hmjdrvpb.komuaywn@gmail.com\\n\\nhello team,\\n\\nmy meetings/skype meetings etc are not appearing in my outlook calendar, can somebody please advise how to correct this?\\n\\nkind \n",
              "2             cant log in to vpn  ...                                                                                                                         \\n\\nreceived from: eylqgodm.ybqkwiam@gmail.com\\n\\nhi\\n\\ni cannot log on to vpn\\n\\nbest \n",
              "3  unable to access hr_tool page  ...                                                                                                                                                                                   unable to access hr_tool page\n",
              "4                   skype error   ...                                                                                                                                                                                                    skype error \n",
              "\n",
              "[5 rows x 6 columns]"
            ]
          },
          "metadata": {},
          "execution_count": 73
        }
      ],
      "source": [
        "ata_data.head()"
      ]
    },
    {
      "cell_type": "code",
      "execution_count": 74,
      "metadata": {
        "id": "lf72lCxgcaV0"
      },
      "outputs": [],
      "source": [
        "ata_data['mail_received_from'] = ata_data['desc_analysis'].apply(extract_received_from_mail)\n",
        "ata_data['mail_subject_mentioned'] = ata_data['desc_analysis'].apply(extract_subject_from_mail)"
      ]
    },
    {
      "cell_type": "code",
      "execution_count": 75,
      "metadata": {
        "colab": {
          "base_uri": "https://localhost:8080/",
          "height": 548
        },
        "id": "r7UpfQ8mcagh",
        "outputId": "0b08fa45-8f9c-48fb-d7bf-065a6c47aef3"
      },
      "outputs": [
        {
          "output_type": "execute_result",
          "data": {
            "text/html": [
              "\n",
              "  <div id=\"df-afba67a7-897f-4a9c-bce4-eb20407f9e89\">\n",
              "    <div class=\"colab-df-container\">\n",
              "      <div>\n",
              "<style scoped>\n",
              "    .dataframe tbody tr th:only-of-type {\n",
              "        vertical-align: middle;\n",
              "    }\n",
              "\n",
              "    .dataframe tbody tr th {\n",
              "        vertical-align: top;\n",
              "    }\n",
              "\n",
              "    .dataframe thead th {\n",
              "        text-align: right;\n",
              "    }\n",
              "</style>\n",
              "<table border=\"1\" class=\"dataframe\">\n",
              "  <thead>\n",
              "    <tr style=\"text-align: right;\">\n",
              "      <th></th>\n",
              "      <th>Short description</th>\n",
              "      <th>Description</th>\n",
              "      <th>Caller</th>\n",
              "      <th>Assignment group</th>\n",
              "      <th>short_desc_analysis</th>\n",
              "      <th>desc_analysis</th>\n",
              "      <th>mail_received_from</th>\n",
              "      <th>mail_subject_mentioned</th>\n",
              "    </tr>\n",
              "  </thead>\n",
              "  <tbody>\n",
              "    <tr>\n",
              "      <th>0</th>\n",
              "      <td>login issue</td>\n",
              "      <td>-verified user details.(employee# &amp; manager name)\\r\\n-checked the user name in ad and reset the password.\\r\\n-advised the user to login and check.\\r\\n-caller confirmed that he was able to login.\\r\\n-issue resolved.</td>\n",
              "      <td>spxjnwir pjlcoqds</td>\n",
              "      <td>GRP_0</td>\n",
              "      <td>login issue</td>\n",
              "      <td>-verified user details.(employee# &amp; manager name)\\n-checked the user name in ad and reset the password.\\n-advised the user to login and check.\\n-caller confirmed that he was able to login.\\n-issue resolved.</td>\n",
              "      <td>No Match</td>\n",
              "      <td>No Match</td>\n",
              "    </tr>\n",
              "    <tr>\n",
              "      <th>1</th>\n",
              "      <td>outlook</td>\n",
              "      <td>\\r\\n\\r\\nreceived from: hmjdrvpb.komuaywn@gmail.com\\r\\n\\r\\nhello team,\\r\\n\\r\\nmy meetings/skype meetings etc are not appearing in my outlook calendar, can somebody please advise how to correct this?\\r\\n\\r\\nkind</td>\n",
              "      <td>hmjdrvpb komuaywn</td>\n",
              "      <td>GRP_0</td>\n",
              "      <td>outlook</td>\n",
              "      <td>\\n\\nreceived from: hmjdrvpb.komuaywn@gmail.com\\n\\nhello team,\\n\\nmy meetings/skype meetings etc are not appearing in my outlook calendar, can somebody please advise how to correct this?\\n\\nkind</td>\n",
              "      <td>hmjdrvpb.komuaywn@gmail.com</td>\n",
              "      <td>No Match</td>\n",
              "    </tr>\n",
              "    <tr>\n",
              "      <th>2</th>\n",
              "      <td>cant log in to vpn</td>\n",
              "      <td>\\r\\n\\r\\nreceived from: eylqgodm.ybqkwiam@gmail.com\\r\\n\\r\\nhi\\r\\n\\r\\ni cannot log on to vpn\\r\\n\\r\\nbest</td>\n",
              "      <td>eylqgodm ybqkwiam</td>\n",
              "      <td>GRP_0</td>\n",
              "      <td>cant log in to vpn</td>\n",
              "      <td>\\n\\nreceived from: eylqgodm.ybqkwiam@gmail.com\\n\\nhi\\n\\ni cannot log on to vpn\\n\\nbest</td>\n",
              "      <td>eylqgodm.ybqkwiam@gmail.com</td>\n",
              "      <td>No Match</td>\n",
              "    </tr>\n",
              "    <tr>\n",
              "      <th>3</th>\n",
              "      <td>unable to access hr_tool page</td>\n",
              "      <td>unable to access hr_tool page</td>\n",
              "      <td>xbkucsvz gcpydteq</td>\n",
              "      <td>GRP_0</td>\n",
              "      <td>unable to access hr_tool page</td>\n",
              "      <td>unable to access hr_tool page</td>\n",
              "      <td>No Match</td>\n",
              "      <td>No Match</td>\n",
              "    </tr>\n",
              "    <tr>\n",
              "      <th>4</th>\n",
              "      <td>skype error</td>\n",
              "      <td>skype error</td>\n",
              "      <td>owlgqjme qhcozdfx</td>\n",
              "      <td>GRP_0</td>\n",
              "      <td>skype error</td>\n",
              "      <td>skype error</td>\n",
              "      <td>No Match</td>\n",
              "      <td>No Match</td>\n",
              "    </tr>\n",
              "  </tbody>\n",
              "</table>\n",
              "</div>\n",
              "      <button class=\"colab-df-convert\" onclick=\"convertToInteractive('df-afba67a7-897f-4a9c-bce4-eb20407f9e89')\"\n",
              "              title=\"Convert this dataframe to an interactive table.\"\n",
              "              style=\"display:none;\">\n",
              "        \n",
              "  <svg xmlns=\"http://www.w3.org/2000/svg\" height=\"24px\"viewBox=\"0 0 24 24\"\n",
              "       width=\"24px\">\n",
              "    <path d=\"M0 0h24v24H0V0z\" fill=\"none\"/>\n",
              "    <path d=\"M18.56 5.44l.94 2.06.94-2.06 2.06-.94-2.06-.94-.94-2.06-.94 2.06-2.06.94zm-11 1L8.5 8.5l.94-2.06 2.06-.94-2.06-.94L8.5 2.5l-.94 2.06-2.06.94zm10 10l.94 2.06.94-2.06 2.06-.94-2.06-.94-.94-2.06-.94 2.06-2.06.94z\"/><path d=\"M17.41 7.96l-1.37-1.37c-.4-.4-.92-.59-1.43-.59-.52 0-1.04.2-1.43.59L10.3 9.45l-7.72 7.72c-.78.78-.78 2.05 0 2.83L4 21.41c.39.39.9.59 1.41.59.51 0 1.02-.2 1.41-.59l7.78-7.78 2.81-2.81c.8-.78.8-2.07 0-2.86zM5.41 20L4 18.59l7.72-7.72 1.47 1.35L5.41 20z\"/>\n",
              "  </svg>\n",
              "      </button>\n",
              "      \n",
              "  <style>\n",
              "    .colab-df-container {\n",
              "      display:flex;\n",
              "      flex-wrap:wrap;\n",
              "      gap: 12px;\n",
              "    }\n",
              "\n",
              "    .colab-df-convert {\n",
              "      background-color: #E8F0FE;\n",
              "      border: none;\n",
              "      border-radius: 50%;\n",
              "      cursor: pointer;\n",
              "      display: none;\n",
              "      fill: #1967D2;\n",
              "      height: 32px;\n",
              "      padding: 0 0 0 0;\n",
              "      width: 32px;\n",
              "    }\n",
              "\n",
              "    .colab-df-convert:hover {\n",
              "      background-color: #E2EBFA;\n",
              "      box-shadow: 0px 1px 2px rgba(60, 64, 67, 0.3), 0px 1px 3px 1px rgba(60, 64, 67, 0.15);\n",
              "      fill: #174EA6;\n",
              "    }\n",
              "\n",
              "    [theme=dark] .colab-df-convert {\n",
              "      background-color: #3B4455;\n",
              "      fill: #D2E3FC;\n",
              "    }\n",
              "\n",
              "    [theme=dark] .colab-df-convert:hover {\n",
              "      background-color: #434B5C;\n",
              "      box-shadow: 0px 1px 3px 1px rgba(0, 0, 0, 0.15);\n",
              "      filter: drop-shadow(0px 1px 2px rgba(0, 0, 0, 0.3));\n",
              "      fill: #FFFFFF;\n",
              "    }\n",
              "  </style>\n",
              "\n",
              "      <script>\n",
              "        const buttonEl =\n",
              "          document.querySelector('#df-afba67a7-897f-4a9c-bce4-eb20407f9e89 button.colab-df-convert');\n",
              "        buttonEl.style.display =\n",
              "          google.colab.kernel.accessAllowed ? 'block' : 'none';\n",
              "\n",
              "        async function convertToInteractive(key) {\n",
              "          const element = document.querySelector('#df-afba67a7-897f-4a9c-bce4-eb20407f9e89');\n",
              "          const dataTable =\n",
              "            await google.colab.kernel.invokeFunction('convertToInteractive',\n",
              "                                                     [key], {});\n",
              "          if (!dataTable) return;\n",
              "\n",
              "          const docLinkHtml = 'Like what you see? Visit the ' +\n",
              "            '<a target=\"_blank\" href=https://colab.research.google.com/notebooks/data_table.ipynb>data table notebook</a>'\n",
              "            + ' to learn more about interactive tables.';\n",
              "          element.innerHTML = '';\n",
              "          dataTable['output_type'] = 'display_data';\n",
              "          await google.colab.output.renderOutput(dataTable, element);\n",
              "          const docLink = document.createElement('div');\n",
              "          docLink.innerHTML = docLinkHtml;\n",
              "          element.appendChild(docLink);\n",
              "        }\n",
              "      </script>\n",
              "    </div>\n",
              "  </div>\n",
              "  "
            ],
            "text/plain": [
              "               Short description  ... mail_subject_mentioned\n",
              "0                    login issue  ...               No Match\n",
              "1                        outlook  ...               No Match\n",
              "2             cant log in to vpn  ...               No Match\n",
              "3  unable to access hr_tool page  ...               No Match\n",
              "4                   skype error   ...               No Match\n",
              "\n",
              "[5 rows x 8 columns]"
            ]
          },
          "metadata": {},
          "execution_count": 75
        }
      ],
      "source": [
        "ata_data.head()"
      ]
    },
    {
      "cell_type": "code",
      "execution_count": 76,
      "metadata": {
        "id": "idyy-BhPcamP"
      },
      "outputs": [],
      "source": [
        "ata_data['short_desc_analysis'] = ata_data['short_desc_analysis'].apply(preprocess_text_part2)\n",
        "ata_data['desc_analysis'] = ata_data['desc_analysis'].apply(preprocess_text_part2)"
      ]
    },
    {
      "cell_type": "markdown",
      "metadata": {
        "id": "adISVWl3R0ab"
      },
      "source": [
        "Removing the Caller name from the description.  "
      ]
    },
    {
      "cell_type": "code",
      "execution_count": 77,
      "metadata": {
        "id": "l6YJcmRxR-Yq"
      },
      "outputs": [],
      "source": [
        "caller_list = list(ata_data[\"Caller\"].str.split(\" \", expand = True)[0].unique()) + list(ata_data[\"Caller\"].str.split(\" \", expand = True)[1].unique())"
      ]
    },
    {
      "cell_type": "code",
      "execution_count": 78,
      "metadata": {
        "id": "7FyLMwO4L3eQ"
      },
      "outputs": [],
      "source": [
        "for name in caller_list:\n",
        "  ata_data['short_desc_analysis'] = ata_data['short_desc_analysis'].replace(name,\"\")\n",
        "  ata_data['desc_analysis'] = ata_data['desc_analysis'].replace(name,\"\")  "
      ]
    },
    {
      "cell_type": "code",
      "execution_count": 79,
      "metadata": {
        "colab": {
          "base_uri": "https://localhost:8080/",
          "height": 580
        },
        "id": "MZwqBA5lcatC",
        "outputId": "9f17a725-9be1-4cfd-8969-bbb63f8b8df7"
      },
      "outputs": [
        {
          "output_type": "execute_result",
          "data": {
            "text/html": [
              "\n",
              "  <div id=\"df-51366b2f-c21d-4f7f-8cb7-82bbe23928c8\">\n",
              "    <div class=\"colab-df-container\">\n",
              "      <div>\n",
              "<style scoped>\n",
              "    .dataframe tbody tr th:only-of-type {\n",
              "        vertical-align: middle;\n",
              "    }\n",
              "\n",
              "    .dataframe tbody tr th {\n",
              "        vertical-align: top;\n",
              "    }\n",
              "\n",
              "    .dataframe thead th {\n",
              "        text-align: right;\n",
              "    }\n",
              "</style>\n",
              "<table border=\"1\" class=\"dataframe\">\n",
              "  <thead>\n",
              "    <tr style=\"text-align: right;\">\n",
              "      <th></th>\n",
              "      <th>Short description</th>\n",
              "      <th>Description</th>\n",
              "      <th>Caller</th>\n",
              "      <th>Assignment group</th>\n",
              "      <th>short_desc_analysis</th>\n",
              "      <th>desc_analysis</th>\n",
              "      <th>mail_received_from</th>\n",
              "      <th>mail_subject_mentioned</th>\n",
              "    </tr>\n",
              "  </thead>\n",
              "  <tbody>\n",
              "    <tr>\n",
              "      <th>0</th>\n",
              "      <td>login issue</td>\n",
              "      <td>-verified user details.(employee# &amp; manager name)\\r\\n-checked the user name in ad and reset the password.\\r\\n-advised the user to login and check.\\r\\n-caller confirmed that he was able to login.\\r\\n-issue resolved.</td>\n",
              "      <td>spxjnwir pjlcoqds</td>\n",
              "      <td>GRP_0</td>\n",
              "      <td>login issue</td>\n",
              "      <td>-verified user details.(employee# &amp; -checked the user name in ad and reset the password. -advised the user to login and check. -caller confirmed that he was able to login. -issue resolved.</td>\n",
              "      <td>No Match</td>\n",
              "      <td>No Match</td>\n",
              "    </tr>\n",
              "    <tr>\n",
              "      <th>1</th>\n",
              "      <td>outlook</td>\n",
              "      <td>\\r\\n\\r\\nreceived from: hmjdrvpb.komuaywn@gmail.com\\r\\n\\r\\nhello team,\\r\\n\\r\\nmy meetings/skype meetings etc are not appearing in my outlook calendar, can somebody please advise how to correct this?\\r\\n\\r\\nkind</td>\n",
              "      <td>hmjdrvpb komuaywn</td>\n",
              "      <td>GRP_0</td>\n",
              "      <td>outlook</td>\n",
              "      <td>my meetings/skype meetings etc are not appearing in my outlook calendar, can somebody please advise how to correct t?</td>\n",
              "      <td>hmjdrvpb.komuaywn@gmail.com</td>\n",
              "      <td>No Match</td>\n",
              "    </tr>\n",
              "    <tr>\n",
              "      <th>2</th>\n",
              "      <td>cant log in to vpn</td>\n",
              "      <td>\\r\\n\\r\\nreceived from: eylqgodm.ybqkwiam@gmail.com\\r\\n\\r\\nhi\\r\\n\\r\\ni cannot log on to vpn\\r\\n\\r\\nbest</td>\n",
              "      <td>eylqgodm ybqkwiam</td>\n",
              "      <td>GRP_0</td>\n",
              "      <td>cannot log in to vpn</td>\n",
              "      <td>i cannot log on to vpn</td>\n",
              "      <td>eylqgodm.ybqkwiam@gmail.com</td>\n",
              "      <td>No Match</td>\n",
              "    </tr>\n",
              "    <tr>\n",
              "      <th>3</th>\n",
              "      <td>unable to access hr_tool page</td>\n",
              "      <td>unable to access hr_tool page</td>\n",
              "      <td>xbkucsvz gcpydteq</td>\n",
              "      <td>GRP_0</td>\n",
              "      <td>unable to access hr_tool page</td>\n",
              "      <td>unable to access hr_tool page</td>\n",
              "      <td>No Match</td>\n",
              "      <td>No Match</td>\n",
              "    </tr>\n",
              "    <tr>\n",
              "      <th>4</th>\n",
              "      <td>skype error</td>\n",
              "      <td>skype error</td>\n",
              "      <td>owlgqjme qhcozdfx</td>\n",
              "      <td>GRP_0</td>\n",
              "      <td>skype error</td>\n",
              "      <td>skype error</td>\n",
              "      <td>No Match</td>\n",
              "      <td>No Match</td>\n",
              "    </tr>\n",
              "  </tbody>\n",
              "</table>\n",
              "</div>\n",
              "      <button class=\"colab-df-convert\" onclick=\"convertToInteractive('df-51366b2f-c21d-4f7f-8cb7-82bbe23928c8')\"\n",
              "              title=\"Convert this dataframe to an interactive table.\"\n",
              "              style=\"display:none;\">\n",
              "        \n",
              "  <svg xmlns=\"http://www.w3.org/2000/svg\" height=\"24px\"viewBox=\"0 0 24 24\"\n",
              "       width=\"24px\">\n",
              "    <path d=\"M0 0h24v24H0V0z\" fill=\"none\"/>\n",
              "    <path d=\"M18.56 5.44l.94 2.06.94-2.06 2.06-.94-2.06-.94-.94-2.06-.94 2.06-2.06.94zm-11 1L8.5 8.5l.94-2.06 2.06-.94-2.06-.94L8.5 2.5l-.94 2.06-2.06.94zm10 10l.94 2.06.94-2.06 2.06-.94-2.06-.94-.94-2.06-.94 2.06-2.06.94z\"/><path d=\"M17.41 7.96l-1.37-1.37c-.4-.4-.92-.59-1.43-.59-.52 0-1.04.2-1.43.59L10.3 9.45l-7.72 7.72c-.78.78-.78 2.05 0 2.83L4 21.41c.39.39.9.59 1.41.59.51 0 1.02-.2 1.41-.59l7.78-7.78 2.81-2.81c.8-.78.8-2.07 0-2.86zM5.41 20L4 18.59l7.72-7.72 1.47 1.35L5.41 20z\"/>\n",
              "  </svg>\n",
              "      </button>\n",
              "      \n",
              "  <style>\n",
              "    .colab-df-container {\n",
              "      display:flex;\n",
              "      flex-wrap:wrap;\n",
              "      gap: 12px;\n",
              "    }\n",
              "\n",
              "    .colab-df-convert {\n",
              "      background-color: #E8F0FE;\n",
              "      border: none;\n",
              "      border-radius: 50%;\n",
              "      cursor: pointer;\n",
              "      display: none;\n",
              "      fill: #1967D2;\n",
              "      height: 32px;\n",
              "      padding: 0 0 0 0;\n",
              "      width: 32px;\n",
              "    }\n",
              "\n",
              "    .colab-df-convert:hover {\n",
              "      background-color: #E2EBFA;\n",
              "      box-shadow: 0px 1px 2px rgba(60, 64, 67, 0.3), 0px 1px 3px 1px rgba(60, 64, 67, 0.15);\n",
              "      fill: #174EA6;\n",
              "    }\n",
              "\n",
              "    [theme=dark] .colab-df-convert {\n",
              "      background-color: #3B4455;\n",
              "      fill: #D2E3FC;\n",
              "    }\n",
              "\n",
              "    [theme=dark] .colab-df-convert:hover {\n",
              "      background-color: #434B5C;\n",
              "      box-shadow: 0px 1px 3px 1px rgba(0, 0, 0, 0.15);\n",
              "      filter: drop-shadow(0px 1px 2px rgba(0, 0, 0, 0.3));\n",
              "      fill: #FFFFFF;\n",
              "    }\n",
              "  </style>\n",
              "\n",
              "      <script>\n",
              "        const buttonEl =\n",
              "          document.querySelector('#df-51366b2f-c21d-4f7f-8cb7-82bbe23928c8 button.colab-df-convert');\n",
              "        buttonEl.style.display =\n",
              "          google.colab.kernel.accessAllowed ? 'block' : 'none';\n",
              "\n",
              "        async function convertToInteractive(key) {\n",
              "          const element = document.querySelector('#df-51366b2f-c21d-4f7f-8cb7-82bbe23928c8');\n",
              "          const dataTable =\n",
              "            await google.colab.kernel.invokeFunction('convertToInteractive',\n",
              "                                                     [key], {});\n",
              "          if (!dataTable) return;\n",
              "\n",
              "          const docLinkHtml = 'Like what you see? Visit the ' +\n",
              "            '<a target=\"_blank\" href=https://colab.research.google.com/notebooks/data_table.ipynb>data table notebook</a>'\n",
              "            + ' to learn more about interactive tables.';\n",
              "          element.innerHTML = '';\n",
              "          dataTable['output_type'] = 'display_data';\n",
              "          await google.colab.output.renderOutput(dataTable, element);\n",
              "          const docLink = document.createElement('div');\n",
              "          docLink.innerHTML = docLinkHtml;\n",
              "          element.appendChild(docLink);\n",
              "        }\n",
              "      </script>\n",
              "    </div>\n",
              "  </div>\n",
              "  "
            ],
            "text/plain": [
              "               Short description  ... mail_subject_mentioned\n",
              "0                    login issue  ...               No Match\n",
              "1                        outlook  ...               No Match\n",
              "2             cant log in to vpn  ...               No Match\n",
              "3  unable to access hr_tool page  ...               No Match\n",
              "4                   skype error   ...               No Match\n",
              "\n",
              "[5 rows x 8 columns]"
            ]
          },
          "metadata": {},
          "execution_count": 79
        }
      ],
      "source": [
        "ata_data.head()"
      ]
    },
    {
      "cell_type": "code",
      "execution_count": 80,
      "metadata": {
        "colab": {
          "base_uri": "https://localhost:8080/",
          "height": 511
        },
        "id": "gHBjNBzyi7yO",
        "outputId": "3db8e254-dfbb-4fcb-a5a0-96224cc94ed1"
      },
      "outputs": [
        {
          "output_type": "execute_result",
          "data": {
            "text/html": [
              "\n",
              "  <div id=\"df-6bdf14f1-cbe3-4577-b287-03c55a740813\">\n",
              "    <div class=\"colab-df-container\">\n",
              "      <div>\n",
              "<style scoped>\n",
              "    .dataframe tbody tr th:only-of-type {\n",
              "        vertical-align: middle;\n",
              "    }\n",
              "\n",
              "    .dataframe tbody tr th {\n",
              "        vertical-align: top;\n",
              "    }\n",
              "\n",
              "    .dataframe thead th {\n",
              "        text-align: right;\n",
              "    }\n",
              "</style>\n",
              "<table border=\"1\" class=\"dataframe\">\n",
              "  <thead>\n",
              "    <tr style=\"text-align: right;\">\n",
              "      <th></th>\n",
              "      <th>Short description</th>\n",
              "      <th>Description</th>\n",
              "      <th>Caller</th>\n",
              "      <th>Assignment group</th>\n",
              "      <th>short_desc_analysis</th>\n",
              "      <th>desc_analysis</th>\n",
              "      <th>mail_received_from</th>\n",
              "      <th>mail_subject_mentioned</th>\n",
              "    </tr>\n",
              "  </thead>\n",
              "  <tbody>\n",
              "    <tr>\n",
              "      <th>8495</th>\n",
              "      <td>emails not coming in from zz mail</td>\n",
              "      <td>\\r\\n\\r\\nreceived from: avglmrts.vhqmtiua@gmail.com\\r\\n\\r\\ngood afternoon,\\r\\ni am not receiving the emails that i sent from zz mail.\\r\\nplease advise\\r\\n\\r\\n</td>\n",
              "      <td>avglmrts vhqmtiua</td>\n",
              "      <td>GRP_29</td>\n",
              "      <td>emails not coming in from zz mail</td>\n",
              "      <td>i am not receiving the emails that i sent from zz mail. please advise</td>\n",
              "      <td>avglmrts.vhqmtiua@gmail.com</td>\n",
              "      <td>No Match</td>\n",
              "    </tr>\n",
              "    <tr>\n",
              "      <th>8496</th>\n",
              "      <td>telephony_software issue</td>\n",
              "      <td>telephony_software issue</td>\n",
              "      <td>rbozivdq gmlhrtvp</td>\n",
              "      <td>GRP_0</td>\n",
              "      <td>telephony_software issue</td>\n",
              "      <td>telephony_software issue</td>\n",
              "      <td>No Match</td>\n",
              "      <td>No Match</td>\n",
              "    </tr>\n",
              "    <tr>\n",
              "      <th>8497</th>\n",
              "      <td>vip2: windows password reset for tifpdchb pedxruyf</td>\n",
              "      <td>vip2: windows password reset for tifpdchb pedxruyf</td>\n",
              "      <td>oybwdsgx oxyhwrfz</td>\n",
              "      <td>GRP_0</td>\n",
              "      <td>vip: windows password reset for tifpdchb pedxruyf</td>\n",
              "      <td>vip: windows password reset for tifpdchb pedxruyf</td>\n",
              "      <td>No Match</td>\n",
              "      <td>No Match</td>\n",
              "    </tr>\n",
              "    <tr>\n",
              "      <th>8498</th>\n",
              "      <td>machine nÃ£o estÃ¡ funcionando</td>\n",
              "      <td>i am unable to access the machine utilities to finish the drawers adjustment settings.\\r\\nis no network..</td>\n",
              "      <td>ufawcgob aowhxjky</td>\n",
              "      <td>GRP_62</td>\n",
              "      <td>mace is not working</td>\n",
              "      <td>i am unable to access the mace utilities to finish the drawers adjustment settings. is no network..</td>\n",
              "      <td>No Match</td>\n",
              "      <td>No Match</td>\n",
              "    </tr>\n",
              "    <tr>\n",
              "      <th>8499</th>\n",
              "      <td>an mehreren pc`s lassen sich verschiedene prgramdntyme nicht Ã¶ffnen.</td>\n",
              "      <td>an mehreren pc`s lassen sich verschiedene prgramdntyme nicht Ã¶ffnen. bereich cnc.</td>\n",
              "      <td>kqvbrspl jyzoklfx</td>\n",
              "      <td>GRP_49</td>\n",
              "      <td>Different programs cannot be opened on several pc's.</td>\n",
              "      <td>Different programs cannot be opened on several pc's. area cnc.</td>\n",
              "      <td>No Match</td>\n",
              "      <td>No Match</td>\n",
              "    </tr>\n",
              "  </tbody>\n",
              "</table>\n",
              "</div>\n",
              "      <button class=\"colab-df-convert\" onclick=\"convertToInteractive('df-6bdf14f1-cbe3-4577-b287-03c55a740813')\"\n",
              "              title=\"Convert this dataframe to an interactive table.\"\n",
              "              style=\"display:none;\">\n",
              "        \n",
              "  <svg xmlns=\"http://www.w3.org/2000/svg\" height=\"24px\"viewBox=\"0 0 24 24\"\n",
              "       width=\"24px\">\n",
              "    <path d=\"M0 0h24v24H0V0z\" fill=\"none\"/>\n",
              "    <path d=\"M18.56 5.44l.94 2.06.94-2.06 2.06-.94-2.06-.94-.94-2.06-.94 2.06-2.06.94zm-11 1L8.5 8.5l.94-2.06 2.06-.94-2.06-.94L8.5 2.5l-.94 2.06-2.06.94zm10 10l.94 2.06.94-2.06 2.06-.94-2.06-.94-.94-2.06-.94 2.06-2.06.94z\"/><path d=\"M17.41 7.96l-1.37-1.37c-.4-.4-.92-.59-1.43-.59-.52 0-1.04.2-1.43.59L10.3 9.45l-7.72 7.72c-.78.78-.78 2.05 0 2.83L4 21.41c.39.39.9.59 1.41.59.51 0 1.02-.2 1.41-.59l7.78-7.78 2.81-2.81c.8-.78.8-2.07 0-2.86zM5.41 20L4 18.59l7.72-7.72 1.47 1.35L5.41 20z\"/>\n",
              "  </svg>\n",
              "      </button>\n",
              "      \n",
              "  <style>\n",
              "    .colab-df-container {\n",
              "      display:flex;\n",
              "      flex-wrap:wrap;\n",
              "      gap: 12px;\n",
              "    }\n",
              "\n",
              "    .colab-df-convert {\n",
              "      background-color: #E8F0FE;\n",
              "      border: none;\n",
              "      border-radius: 50%;\n",
              "      cursor: pointer;\n",
              "      display: none;\n",
              "      fill: #1967D2;\n",
              "      height: 32px;\n",
              "      padding: 0 0 0 0;\n",
              "      width: 32px;\n",
              "    }\n",
              "\n",
              "    .colab-df-convert:hover {\n",
              "      background-color: #E2EBFA;\n",
              "      box-shadow: 0px 1px 2px rgba(60, 64, 67, 0.3), 0px 1px 3px 1px rgba(60, 64, 67, 0.15);\n",
              "      fill: #174EA6;\n",
              "    }\n",
              "\n",
              "    [theme=dark] .colab-df-convert {\n",
              "      background-color: #3B4455;\n",
              "      fill: #D2E3FC;\n",
              "    }\n",
              "\n",
              "    [theme=dark] .colab-df-convert:hover {\n",
              "      background-color: #434B5C;\n",
              "      box-shadow: 0px 1px 3px 1px rgba(0, 0, 0, 0.15);\n",
              "      filter: drop-shadow(0px 1px 2px rgba(0, 0, 0, 0.3));\n",
              "      fill: #FFFFFF;\n",
              "    }\n",
              "  </style>\n",
              "\n",
              "      <script>\n",
              "        const buttonEl =\n",
              "          document.querySelector('#df-6bdf14f1-cbe3-4577-b287-03c55a740813 button.colab-df-convert');\n",
              "        buttonEl.style.display =\n",
              "          google.colab.kernel.accessAllowed ? 'block' : 'none';\n",
              "\n",
              "        async function convertToInteractive(key) {\n",
              "          const element = document.querySelector('#df-6bdf14f1-cbe3-4577-b287-03c55a740813');\n",
              "          const dataTable =\n",
              "            await google.colab.kernel.invokeFunction('convertToInteractive',\n",
              "                                                     [key], {});\n",
              "          if (!dataTable) return;\n",
              "\n",
              "          const docLinkHtml = 'Like what you see? Visit the ' +\n",
              "            '<a target=\"_blank\" href=https://colab.research.google.com/notebooks/data_table.ipynb>data table notebook</a>'\n",
              "            + ' to learn more about interactive tables.';\n",
              "          element.innerHTML = '';\n",
              "          dataTable['output_type'] = 'display_data';\n",
              "          await google.colab.output.renderOutput(dataTable, element);\n",
              "          const docLink = document.createElement('div');\n",
              "          docLink.innerHTML = docLinkHtml;\n",
              "          element.appendChild(docLink);\n",
              "        }\n",
              "      </script>\n",
              "    </div>\n",
              "  </div>\n",
              "  "
            ],
            "text/plain": [
              "                                                           Short description  ... mail_subject_mentioned\n",
              "8495                                       emails not coming in from zz mail  ...               No Match\n",
              "8496                                                telephony_software issue  ...               No Match\n",
              "8497                      vip2: windows password reset for tifpdchb pedxruyf  ...               No Match\n",
              "8498                                          machine nÃ£o estÃ¡ funcionando  ...               No Match\n",
              "8499  an mehreren pc`s lassen sich verschiedene prgramdntyme nicht Ã¶ffnen.   ...               No Match\n",
              "\n",
              "[5 rows x 8 columns]"
            ]
          },
          "metadata": {},
          "execution_count": 80
        }
      ],
      "source": [
        "ata_data.tail()"
      ]
    },
    {
      "cell_type": "code",
      "execution_count": 81,
      "metadata": {
        "colab": {
          "base_uri": "https://localhost:8080/"
        },
        "id": "Es3w32W0N9he",
        "outputId": "d05fbd1b-5df1-4eaf-d7f8-aa323e4278e9"
      },
      "outputs": [
        {
          "output_type": "execute_result",
          "data": {
            "text/plain": [
              "monitoring_tool@company.com    939\n",
              "rxoynvgi.ntgdsehl@gmail.com     14\n",
              "gjtyswkb.dpvaymxr@gmail.com     11\n",
              "vkzwafuh.tcjnuswg@gmail.com     10\n",
              "zuxcfonv.nyhpkrbe@gmail.com      9\n",
              "                              ... \n",
              "dgwrmsja.jzlpwuit@gmail.com      1\n",
              "wjpncyef.tspnaimc@gmail.com      1\n",
              "ujzhflpn.oibnxrvq@gmail.com      1\n",
              "miecoszw.mhvbnodw@gmail.com      1\n",
              "cowqyjzm.fzsxgapt@gmail.com      1\n",
              "Name: mail_received_from, Length: 711, dtype: int64"
            ]
          },
          "metadata": {},
          "execution_count": 81
        }
      ],
      "source": [
        "ata_data[ata_data['mail_received_from']!='No Match']['mail_received_from'].value_counts()"
      ]
    },
    {
      "cell_type": "code",
      "execution_count": 82,
      "metadata": {
        "colab": {
          "base_uri": "https://localhost:8080/",
          "height": 1000
        },
        "id": "WTC9qF0q9TLC",
        "outputId": "55c9ff48-8ed8-4be4-92fc-cc954fe186ae"
      },
      "outputs": [
        {
          "output_type": "execute_result",
          "data": {
            "text/html": [
              "\n",
              "  <div id=\"df-11c9239c-e2c8-4fee-90d5-efd62f9f5637\">\n",
              "    <div class=\"colab-df-container\">\n",
              "      <div>\n",
              "<style scoped>\n",
              "    .dataframe tbody tr th:only-of-type {\n",
              "        vertical-align: middle;\n",
              "    }\n",
              "\n",
              "    .dataframe tbody tr th {\n",
              "        vertical-align: top;\n",
              "    }\n",
              "\n",
              "    .dataframe thead th {\n",
              "        text-align: right;\n",
              "    }\n",
              "</style>\n",
              "<table border=\"1\" class=\"dataframe\">\n",
              "  <thead>\n",
              "    <tr style=\"text-align: right;\">\n",
              "      <th></th>\n",
              "      <th>Short description</th>\n",
              "      <th>Description</th>\n",
              "      <th>Caller</th>\n",
              "      <th>Assignment group</th>\n",
              "      <th>short_desc_analysis</th>\n",
              "      <th>desc_analysis</th>\n",
              "      <th>mail_received_from</th>\n",
              "      <th>mail_subject_mentioned</th>\n",
              "    </tr>\n",
              "  </thead>\n",
              "  <tbody>\n",
              "    <tr>\n",
              "      <th>100</th>\n",
              "      <td>re: ess portal access issue</td>\n",
              "      <td>\\n\\nreceived from: noscwdpm.akiowsmp@gmail.com\\n\\nhello,\\n\\nhe is an kiosk user.  please reset the password and confirm.\\n\\n\\nnoscwdpm akiowsmp\\nnoscwdpm.akiowsmp@gmail.com\\n\\nfrom: ihkolepb ozhnjyef\\nsent: 29 october 2016 13:38\\nto: company@ticketing_tool.com\\nsubject: ess portal access issue\\n\\nhi,\\n\\nbelow mentioned employee krlszbqo spimolgz with user id sv123 is not able to login to ess portal to access his pay slips and related contents. he is a attendance_tool user. please reset his user id and password and revert back.\\n\\n</td>\n",
              "      <td>noscwdpm akiowsmp</td>\n",
              "      <td>GRP_0</td>\n",
              "      <td>re: ess portal access issue</td>\n",
              "      <td>he is an kiosk user.  please reset the password and confirm.   noscwdpm akiowsmp      below mentioned employee krlszbqo spimolgz with user id sv is not able to login to ess portal to access his pay slips and related contents. he is a attendance_tool user. please reset his user id and password and revert back.</td>\n",
              "      <td>noscwdpm.akiowsmp@gmail.com</td>\n",
              "      <td>ess portal access issue</td>\n",
              "    </tr>\n",
              "    <tr>\n",
              "      <th>124</th>\n",
              "      <td>mobile device activation</td>\n",
              "      <td>from: tvcdfqgp nrbcqwgj \\nsent: friday, october 28, 2016 3:13 pm\\nto: nwfodmhc exurcwkm\\nsubject:  se ha bloqueado en forma temporal la sincronizaciÃ³n de su dispositivo mÃ³vil mediante exchange activesync hasta que su administrador autorice el acceso.\\n\\nhi\\n\\ni received this message and our local it expert has told me to open a ticket.\\n\\n</td>\n",
              "      <td>tvcdfqgp nrbcqwgj</td>\n",
              "      <td>GRP_0</td>\n",
              "      <td>mobile device activation</td>\n",
              "      <td>i received this message and our local it expert has told me to open a ticket.</td>\n",
              "      <td>No Match</td>\n",
              "      <td>se ha bloqueado en forma temporal la sincronización de su dispositivo móvil mediante exchange activesync hasta que su administrador autorice el acceso.</td>\n",
              "    </tr>\n",
              "    <tr>\n",
              "      <th>180</th>\n",
              "      <td>crm license for user dfgry</td>\n",
              "      <td>from: xdvwitpm zscxqdhoalaramdntyan \\nsent: friday, october 28, 2016 9:40 am\\nto: 'help@company.com'\\ncc: xyculgav cuqptoah\\nsubject: fw: crm license for dfgry\\n\\nhello,\\n\\ncrm is not installed in my laptop.\\n\\nplease support me on this.\\n\\n</td>\n",
              "      <td>xdvwitpm zscxqdho</td>\n",
              "      <td>GRP_19</td>\n",
              "      <td>crm license for user dfgry</td>\n",
              "      <td>crm is not installed in my laptop.  please support me on t.</td>\n",
              "      <td>No Match</td>\n",
              "      <td>fw: crm license for dfgry</td>\n",
              "    </tr>\n",
              "    <tr>\n",
              "      <th>186</th>\n",
              "      <td>é’å²›å…´åˆæœºç”µshipment notificationé‚®ç®±è®¾ç½®</td>\n",
              "      <td>from:  \\nsent: friday, october 28, 2016 7:20 am\\nto: nwfodmhc exurcwkm\\nsubject: re: é’å²›å…´åˆæœºç”µshipment notificationé‚®ç®±è®¾ç½®\\n\\ndearï¼Œ\\npls help to update customer 4563729890 shipment notification email address :  abcdegy@gmail.com \\n\\n\\nb.</td>\n",
              "      <td>yafxlpwi lhxvatkb</td>\n",
              "      <td>GRP_18</td>\n",
              "      <td>青岛兴合机电sment notification邮箱设置</td>\n",
              "      <td>help to update customer  sment notification email address :      b.</td>\n",
              "      <td>No Match</td>\n",
              "      <td>re: 青岛兴合机电shipment notification邮箱设置</td>\n",
              "    </tr>\n",
              "    <tr>\n",
              "      <th>218</th>\n",
              "      <td>export shipment of grinding mahcine to khdgd1234, apac - advance information</td>\n",
              "      <td>\\n\\nreceived from: rdfjsawg.zpmxgdcw@gmail.com\\n\\nfrom: hdytrkfiu\\nsent: thursday, october 27, 2016 4:46 pm\\nto: &lt;rfqhoaky.rncspbot@gmail.com&gt;; &lt;ikxjfnml.kaocbpfr@gmail.com&gt;; &lt;rdfjsawg.zpmxgdcw@gmail.com&gt;\\ncc:  &lt;tshljagr.mhyiopxr@gmail.com&gt;; &lt;zgmdster.bdvcealj@gmail.com&gt;; xjzcbgnp vfkwscao &lt;xjzcbgnp.vfkwscao@gmail.com&gt;; &lt;avurmegj.pxgmjynu@gmail.com&gt;\\nsubject: export shipment of grinding mahcine to khdgd1234, apac - advance information\\n\\nwe are pushixepyfbga wtqdyoin for dispatching an grinding machine to khdgd1234, apac tomorrow.    this is just for your advance information.   once everything is in place, we will seek your support in your areas to help us in clearing this consignment tomorrow 28.10.16.</td>\n",
              "      <td>rdfjsawg zpmxgdcw</td>\n",
              "      <td>GRP_0</td>\n",
              "      <td>export sment of grinding mahcine to khdgd, apac - advance information</td>\n",
              "      <td>we are pusepyfbga wtqdyoin for dispatching an grinding machine to khdgd, apac tomorrow.    this is just for your advance information.   once everything is in place, we will seek your support in your areas to help us in clearing this consignment tomorrow ...</td>\n",
              "      <td>rdfjsawg.zpmxgdcw@gmail.com</td>\n",
              "      <td>export shipment of grinding mahcine to khdgd1234, apac - advance information</td>\n",
              "    </tr>\n",
              "    <tr>\n",
              "      <th>...</th>\n",
              "      <td>...</td>\n",
              "      <td>...</td>\n",
              "      <td>...</td>\n",
              "      <td>...</td>\n",
              "      <td>...</td>\n",
              "      <td>...</td>\n",
              "      <td>...</td>\n",
              "      <td>...</td>\n",
              "    </tr>\n",
              "    <tr>\n",
              "      <th>8467</th>\n",
              "      <td>hi it help team,  please unblock my new company device.</td>\n",
              "      <td>from: ntydihzo aeptfbgs \\r\\nsent: friday, august 05, 2016 2:51 am\\r\\nto: nwfodmhc exurcwkm\\r\\nsubject: wg: die synchronisierung mit exchange activesync ist auf ihrem gerÃ¤t vorÃ¼bergehend blockiert, bis der zugriff vom administrator gewÃ¤hrt wird.\\r\\nimportance: high\\r\\n\\r\\nhi it help team,\\r\\n\\r\\nplease unblock my new company device.\\r\\n\\r\\n</td>\n",
              "      <td>ntydihzo aeptfbgs</td>\n",
              "      <td>GRP_0</td>\n",
              "      <td>please unblock my new company device.</td>\n",
              "      <td>please unblock my new company device.</td>\n",
              "      <td>No Match</td>\n",
              "      <td>wg: die synchronisierung mit exchange activesync ist auf ihrem gerät vorübergehend blockiert, bis der zugriff vom administrator gewährt wird.</td>\n",
              "    </tr>\n",
              "    <tr>\n",
              "      <th>8468</th>\n",
              "      <td>can you unblock my account so i can use outlook app?</td>\n",
              "      <td>from: nwfodmhc exurcwkm \\nsent: friday, august 05, 2016 6:32 am\\nto: prishry budhtya\\nsubject: re: rak re: your mobile device has been denied access to the server via exchange activesync because of server policies.\\n\\ndear prishry,\\n\\n</td>\n",
              "      <td>eqzibjhw ymebpoih</td>\n",
              "      <td>GRP_0</td>\n",
              "      <td>can you unblock my account so i can use outlook app?</td>\n",
              "      <td>prishry,</td>\n",
              "      <td>No Match</td>\n",
              "      <td>re: rak re: your mobile device has been denied access to the server via exchange activesync because of server policies.</td>\n",
              "    </tr>\n",
              "    <tr>\n",
              "      <th>8470</th>\n",
              "      <td>please review your recent ticketing_tool tickets and let me know who modified the ethics collaboration_platform site</td>\n",
              "      <td>from: mikhghytr wafglhdrhjop \\nsent: thursday, august 04, 2016 8:50 pm\\nto: nwfodmhc exurcwkm\\nsubject: rak fw: ethics collaboration_platform site\\n\\nplease review your recent ticketing_tool tickets and let me know who modified the ethics collaboration_platform site.  a few weeks ago i had requested a change that placed a third column of selections.  not sure who or why this was undone.\\n\\nmikhghytr wafglhdrhjop\\nsr. manager, global ethics and compliance programdntys\\nfrom: kzbuhixt zjdmoahr \\nsent: thursday, august 04, 2016 11:16 am\\nto: mikhghytr wafglhdrhjop &lt;azxhejvq.fyemlavd@gmail.com&gt;\\nsubject: re: ethics collaboration_platform site\\n\\nohâ€¦â€¦??\\n\\nsethdyr hdtyr\\nassistant general counsel â€“ compliance and real estate\\nglobal director of ethics &amp; compliance; ccep\\nkzbuhixt.zjdmoahr@gmail.com \\n</td>\n",
              "      <td>azxhejvq fyemlavd</td>\n",
              "      <td>GRP_16</td>\n",
              "      <td>please review your recent ticketing_tool tickets and let me know who modified the ets collaboration_platform site</td>\n",
              "      <td>please review your recent ticketing_tool tickets and let me know who modified the ets collaboration_platform site.  a few weeks ago i had requested a change that placed a third column of selections.  not sure who or why this was undone.  mikhghytr wafglhdrhjop sr.  oh……??  sethdyr hdtyr assistant general counsel – compliance and real estate global director of ets &amp; compliance; ccep</td>\n",
              "      <td>No Match</td>\n",
              "      <td>rak fw: ethics collaboration_platform site</td>\n",
              "    </tr>\n",
              "    <tr>\n",
              "      <th>8472</th>\n",
              "      <td>ticket update</td>\n",
              "      <td>from: rakthyesh ramdntythanjesh \\r\\nsent: friday, august 05, 2016 5:26 am\\r\\nto: ugyothfz ugrmkdhx\\r\\ncc: mikhghytr rhoades\\r\\nsubject: ticket_no1535917-no acces to paystub and etime.\\r\\n\\r\\ngood morning safrgyynjit,\\r\\n\\r\\nuser called to service desk and requested to expedite the case, requesting you to own the issue on priority and assist user on same.\\r\\n\\r\\n\\r\\n\\r\\nkind</td>\n",
              "      <td>eqzibjhw ymebpoih</td>\n",
              "      <td>GRP_0</td>\n",
              "      <td>ticket update</td>\n",
              "      <td>safrgyynjit,  user called to service desk and requested to expedite the case, requesting you to own the issue on priority and assist user on same.</td>\n",
              "      <td>No Match</td>\n",
              "      <td>ticket_no1535917-no acces to paystub and etime.</td>\n",
              "    </tr>\n",
              "    <tr>\n",
              "      <th>8483</th>\n",
              "      <td>fw: case id [ref:_case-111121032:ref] :: others</td>\n",
              "      <td>from: pacvbetl yptglhoe \\r\\nsent: thursday, august 04, 2016 10:59 pm\\r\\nto: nwfodmhc exurcwkm\\r\\nsubject: amar fw: case id [ref:_case-111121032:ref] :: others\\r\\n\\r\\nplease see the forwarded email below.   this looks suspicious to me and may be some sort of phishing or spamming email.  please review it and let me know if it looks legitimate and is from legitimate individuals at company.  i did not open or view any of the attachments.  \\r\\n\\r\\ni have no idea why accounts payable would be sending me an email.\\r\\n\\r\\nbest</td>\n",
              "      <td>pacvbetl yptglhoe</td>\n",
              "      <td>GRP_0</td>\n",
              "      <td>fw: case id [ref:_case-:ref] :: others</td>\n",
              "      <td>please see the forwarded email below.   t looks suspicious to me and may be some sort of phing or spamming email.  please review it and let me know if it looks legitimate and is from legitimate individuals at company.  i did not open or view any of the attachments.    i have no idea why accounts payable would be sending me an email.</td>\n",
              "      <td>No Match</td>\n",
              "      <td>amar fw: case id [ref:_case-111121032:ref] :: others</td>\n",
              "    </tr>\n",
              "  </tbody>\n",
              "</table>\n",
              "<p>213 rows × 8 columns</p>\n",
              "</div>\n",
              "      <button class=\"colab-df-convert\" onclick=\"convertToInteractive('df-11c9239c-e2c8-4fee-90d5-efd62f9f5637')\"\n",
              "              title=\"Convert this dataframe to an interactive table.\"\n",
              "              style=\"display:none;\">\n",
              "        \n",
              "  <svg xmlns=\"http://www.w3.org/2000/svg\" height=\"24px\"viewBox=\"0 0 24 24\"\n",
              "       width=\"24px\">\n",
              "    <path d=\"M0 0h24v24H0V0z\" fill=\"none\"/>\n",
              "    <path d=\"M18.56 5.44l.94 2.06.94-2.06 2.06-.94-2.06-.94-.94-2.06-.94 2.06-2.06.94zm-11 1L8.5 8.5l.94-2.06 2.06-.94-2.06-.94L8.5 2.5l-.94 2.06-2.06.94zm10 10l.94 2.06.94-2.06 2.06-.94-2.06-.94-.94-2.06-.94 2.06-2.06.94z\"/><path d=\"M17.41 7.96l-1.37-1.37c-.4-.4-.92-.59-1.43-.59-.52 0-1.04.2-1.43.59L10.3 9.45l-7.72 7.72c-.78.78-.78 2.05 0 2.83L4 21.41c.39.39.9.59 1.41.59.51 0 1.02-.2 1.41-.59l7.78-7.78 2.81-2.81c.8-.78.8-2.07 0-2.86zM5.41 20L4 18.59l7.72-7.72 1.47 1.35L5.41 20z\"/>\n",
              "  </svg>\n",
              "      </button>\n",
              "      \n",
              "  <style>\n",
              "    .colab-df-container {\n",
              "      display:flex;\n",
              "      flex-wrap:wrap;\n",
              "      gap: 12px;\n",
              "    }\n",
              "\n",
              "    .colab-df-convert {\n",
              "      background-color: #E8F0FE;\n",
              "      border: none;\n",
              "      border-radius: 50%;\n",
              "      cursor: pointer;\n",
              "      display: none;\n",
              "      fill: #1967D2;\n",
              "      height: 32px;\n",
              "      padding: 0 0 0 0;\n",
              "      width: 32px;\n",
              "    }\n",
              "\n",
              "    .colab-df-convert:hover {\n",
              "      background-color: #E2EBFA;\n",
              "      box-shadow: 0px 1px 2px rgba(60, 64, 67, 0.3), 0px 1px 3px 1px rgba(60, 64, 67, 0.15);\n",
              "      fill: #174EA6;\n",
              "    }\n",
              "\n",
              "    [theme=dark] .colab-df-convert {\n",
              "      background-color: #3B4455;\n",
              "      fill: #D2E3FC;\n",
              "    }\n",
              "\n",
              "    [theme=dark] .colab-df-convert:hover {\n",
              "      background-color: #434B5C;\n",
              "      box-shadow: 0px 1px 3px 1px rgba(0, 0, 0, 0.15);\n",
              "      filter: drop-shadow(0px 1px 2px rgba(0, 0, 0, 0.3));\n",
              "      fill: #FFFFFF;\n",
              "    }\n",
              "  </style>\n",
              "\n",
              "      <script>\n",
              "        const buttonEl =\n",
              "          document.querySelector('#df-11c9239c-e2c8-4fee-90d5-efd62f9f5637 button.colab-df-convert');\n",
              "        buttonEl.style.display =\n",
              "          google.colab.kernel.accessAllowed ? 'block' : 'none';\n",
              "\n",
              "        async function convertToInteractive(key) {\n",
              "          const element = document.querySelector('#df-11c9239c-e2c8-4fee-90d5-efd62f9f5637');\n",
              "          const dataTable =\n",
              "            await google.colab.kernel.invokeFunction('convertToInteractive',\n",
              "                                                     [key], {});\n",
              "          if (!dataTable) return;\n",
              "\n",
              "          const docLinkHtml = 'Like what you see? Visit the ' +\n",
              "            '<a target=\"_blank\" href=https://colab.research.google.com/notebooks/data_table.ipynb>data table notebook</a>'\n",
              "            + ' to learn more about interactive tables.';\n",
              "          element.innerHTML = '';\n",
              "          dataTable['output_type'] = 'display_data';\n",
              "          await google.colab.output.renderOutput(dataTable, element);\n",
              "          const docLink = document.createElement('div');\n",
              "          docLink.innerHTML = docLinkHtml;\n",
              "          element.appendChild(docLink);\n",
              "        }\n",
              "      </script>\n",
              "    </div>\n",
              "  </div>\n",
              "  "
            ],
            "text/plain": [
              "                                                                                                         Short description  ...                                                                                                                                   mail_subject_mentioned\n",
              "100                                                                                            re: ess portal access issue  ...                                                                                                                                  ess portal access issue\n",
              "124                                                                                               mobile device activation  ...  se ha bloqueado en forma temporal la sincronización de su dispositivo móvil mediante exchange activesync hasta que su administrador autorice el acceso.\n",
              "180                                                                                             crm license for user dfgry  ...                                                                                                                                fw: crm license for dfgry\n",
              "186                                                                    é’å²›å…´åˆæœºç”µshipment notificationé‚®ç®±è®¾ç½®  ...                                                                                                                      re: 青岛兴合机电shipment notification邮箱设置\n",
              "218                                           export shipment of grinding mahcine to khdgd1234, apac - advance information  ...                                                                             export shipment of grinding mahcine to khdgd1234, apac - advance information\n",
              "...                                                                                                                    ...  ...                                                                                                                                                      ...\n",
              "8467                                                               hi it help team,  please unblock my new company device.  ...            wg: die synchronisierung mit exchange activesync ist auf ihrem gerät vorübergehend blockiert, bis der zugriff vom administrator gewährt wird.\n",
              "8468                                                                  can you unblock my account so i can use outlook app?  ...                                  re: rak re: your mobile device has been denied access to the server via exchange activesync because of server policies.\n",
              "8470  please review your recent ticketing_tool tickets and let me know who modified the ethics collaboration_platform site  ...                                                                                                               rak fw: ethics collaboration_platform site\n",
              "8472                                                                                                         ticket update  ...                                                                                                          ticket_no1535917-no acces to paystub and etime.\n",
              "8483                                                                       fw: case id [ref:_case-111121032:ref] :: others  ...                                                                                                     amar fw: case id [ref:_case-111121032:ref] :: others\n",
              "\n",
              "[213 rows x 8 columns]"
            ]
          },
          "metadata": {},
          "execution_count": 82
        }
      ],
      "source": [
        "ata_data[ata_data['mail_subject_mentioned']!='No Match']"
      ]
    },
    {
      "cell_type": "code",
      "execution_count": 83,
      "metadata": {
        "id": "pjaJEmh9ssql"
      },
      "outputs": [],
      "source": [
        "ata_data.to_excel(\"intermediate_file.xlsx\")"
      ]
    },
    {
      "cell_type": "code",
      "execution_count": 84,
      "metadata": {
        "colab": {
          "base_uri": "https://localhost:8080/",
          "height": 298
        },
        "id": "1eAxWH4-sstZ",
        "outputId": "8f456167-d118-4307-8261-4eaae1859d38"
      },
      "outputs": [
        {
          "output_type": "execute_result",
          "data": {
            "text/html": [
              "\n",
              "  <div id=\"df-181b7e5f-282b-44ac-b64a-45b5da199aae\">\n",
              "    <div class=\"colab-df-container\">\n",
              "      <div>\n",
              "<style scoped>\n",
              "    .dataframe tbody tr th:only-of-type {\n",
              "        vertical-align: middle;\n",
              "    }\n",
              "\n",
              "    .dataframe tbody tr th {\n",
              "        vertical-align: top;\n",
              "    }\n",
              "\n",
              "    .dataframe thead th {\n",
              "        text-align: right;\n",
              "    }\n",
              "</style>\n",
              "<table border=\"1\" class=\"dataframe\">\n",
              "  <thead>\n",
              "    <tr style=\"text-align: right;\">\n",
              "      <th></th>\n",
              "      <th>Short description</th>\n",
              "      <th>Description</th>\n",
              "      <th>Caller</th>\n",
              "      <th>Assignment group</th>\n",
              "      <th>short_desc_analysis</th>\n",
              "      <th>desc_analysis</th>\n",
              "      <th>mail_received_from</th>\n",
              "      <th>mail_subject_mentioned</th>\n",
              "    </tr>\n",
              "  </thead>\n",
              "  <tbody>\n",
              "    <tr>\n",
              "      <th>281</th>\n",
              "      <td>unable to down load ethics module</td>\n",
              "      <td>from: brdhdd dhwduw\\nsent: thursday, october 27, 2016 6:12 am\\nto: nwfodmhc exurcwkm\\nsubject::fwd: unable to down load ethics module \\n\\n\\nbegin forwarded message:\\nfrom:  &lt;dqwhpjxy.pozjxbey@gmail.com&gt;\\nto:  &lt;zanivrec.capbfhur@gmail.com&gt;\\nsubject: unable to down load ethics module \\nhi  â€“ trust doing well . i am unable to down load &amp; getting below msg. i did reset resolution however still same issue persist.\\n \\nplease help.\\n \\n \\n \\n \\n \\ndirector of sales \\ncompany indirect channels  - asia \\n&amp; \\ndqwhpjxy.pozjxbey@gmail.com \\n\\n \\n \\n \\n \\n\\n\\n</td>\n",
              "      <td>dqwhpjxy pozjxbey</td>\n",
              "      <td>GRP_0</td>\n",
              "      <td>unable to down load ets module</td>\n",
              "      <td>– trust doing well . i am unable to down load &amp; getting below msg. i did reset resolution however still same issue persist.   please help.           director of sales  company indirect channels  - asia  &amp;</td>\n",
              "      <td>No Match</td>\n",
              "      <td>:fwd: unable to down load ethics module</td>\n",
              "    </tr>\n",
              "  </tbody>\n",
              "</table>\n",
              "</div>\n",
              "      <button class=\"colab-df-convert\" onclick=\"convertToInteractive('df-181b7e5f-282b-44ac-b64a-45b5da199aae')\"\n",
              "              title=\"Convert this dataframe to an interactive table.\"\n",
              "              style=\"display:none;\">\n",
              "        \n",
              "  <svg xmlns=\"http://www.w3.org/2000/svg\" height=\"24px\"viewBox=\"0 0 24 24\"\n",
              "       width=\"24px\">\n",
              "    <path d=\"M0 0h24v24H0V0z\" fill=\"none\"/>\n",
              "    <path d=\"M18.56 5.44l.94 2.06.94-2.06 2.06-.94-2.06-.94-.94-2.06-.94 2.06-2.06.94zm-11 1L8.5 8.5l.94-2.06 2.06-.94-2.06-.94L8.5 2.5l-.94 2.06-2.06.94zm10 10l.94 2.06.94-2.06 2.06-.94-2.06-.94-.94-2.06-.94 2.06-2.06.94z\"/><path d=\"M17.41 7.96l-1.37-1.37c-.4-.4-.92-.59-1.43-.59-.52 0-1.04.2-1.43.59L10.3 9.45l-7.72 7.72c-.78.78-.78 2.05 0 2.83L4 21.41c.39.39.9.59 1.41.59.51 0 1.02-.2 1.41-.59l7.78-7.78 2.81-2.81c.8-.78.8-2.07 0-2.86zM5.41 20L4 18.59l7.72-7.72 1.47 1.35L5.41 20z\"/>\n",
              "  </svg>\n",
              "      </button>\n",
              "      \n",
              "  <style>\n",
              "    .colab-df-container {\n",
              "      display:flex;\n",
              "      flex-wrap:wrap;\n",
              "      gap: 12px;\n",
              "    }\n",
              "\n",
              "    .colab-df-convert {\n",
              "      background-color: #E8F0FE;\n",
              "      border: none;\n",
              "      border-radius: 50%;\n",
              "      cursor: pointer;\n",
              "      display: none;\n",
              "      fill: #1967D2;\n",
              "      height: 32px;\n",
              "      padding: 0 0 0 0;\n",
              "      width: 32px;\n",
              "    }\n",
              "\n",
              "    .colab-df-convert:hover {\n",
              "      background-color: #E2EBFA;\n",
              "      box-shadow: 0px 1px 2px rgba(60, 64, 67, 0.3), 0px 1px 3px 1px rgba(60, 64, 67, 0.15);\n",
              "      fill: #174EA6;\n",
              "    }\n",
              "\n",
              "    [theme=dark] .colab-df-convert {\n",
              "      background-color: #3B4455;\n",
              "      fill: #D2E3FC;\n",
              "    }\n",
              "\n",
              "    [theme=dark] .colab-df-convert:hover {\n",
              "      background-color: #434B5C;\n",
              "      box-shadow: 0px 1px 3px 1px rgba(0, 0, 0, 0.15);\n",
              "      filter: drop-shadow(0px 1px 2px rgba(0, 0, 0, 0.3));\n",
              "      fill: #FFFFFF;\n",
              "    }\n",
              "  </style>\n",
              "\n",
              "      <script>\n",
              "        const buttonEl =\n",
              "          document.querySelector('#df-181b7e5f-282b-44ac-b64a-45b5da199aae button.colab-df-convert');\n",
              "        buttonEl.style.display =\n",
              "          google.colab.kernel.accessAllowed ? 'block' : 'none';\n",
              "\n",
              "        async function convertToInteractive(key) {\n",
              "          const element = document.querySelector('#df-181b7e5f-282b-44ac-b64a-45b5da199aae');\n",
              "          const dataTable =\n",
              "            await google.colab.kernel.invokeFunction('convertToInteractive',\n",
              "                                                     [key], {});\n",
              "          if (!dataTable) return;\n",
              "\n",
              "          const docLinkHtml = 'Like what you see? Visit the ' +\n",
              "            '<a target=\"_blank\" href=https://colab.research.google.com/notebooks/data_table.ipynb>data table notebook</a>'\n",
              "            + ' to learn more about interactive tables.';\n",
              "          element.innerHTML = '';\n",
              "          dataTable['output_type'] = 'display_data';\n",
              "          await google.colab.output.renderOutput(dataTable, element);\n",
              "          const docLink = document.createElement('div');\n",
              "          docLink.innerHTML = docLinkHtml;\n",
              "          element.appendChild(docLink);\n",
              "        }\n",
              "      </script>\n",
              "    </div>\n",
              "  </div>\n",
              "  "
            ],
            "text/plain": [
              "                      Short description  ...                   mail_subject_mentioned\n",
              "281  unable to down load ethics module   ...  :fwd: unable to down load ethics module\n",
              "\n",
              "[1 rows x 8 columns]"
            ]
          },
          "metadata": {},
          "execution_count": 84
        }
      ],
      "source": [
        "ata_data[ata_data['Short description']=='unable to down load ethics module ']"
      ]
    },
    {
      "cell_type": "code",
      "execution_count": 85,
      "metadata": {
        "colab": {
          "base_uri": "https://localhost:8080/",
          "height": 177
        },
        "id": "ieIow6NCsswM",
        "outputId": "81baf561-bac9-43ab-fb1f-785c520a0df7"
      },
      "outputs": [
        {
          "output_type": "execute_result",
          "data": {
            "text/html": [
              "\n",
              "  <div id=\"df-2d0e7173-b580-45fa-a207-9e55b9cd1c4b\">\n",
              "    <div class=\"colab-df-container\">\n",
              "      <div>\n",
              "<style scoped>\n",
              "    .dataframe tbody tr th:only-of-type {\n",
              "        vertical-align: middle;\n",
              "    }\n",
              "\n",
              "    .dataframe tbody tr th {\n",
              "        vertical-align: top;\n",
              "    }\n",
              "\n",
              "    .dataframe thead th {\n",
              "        text-align: right;\n",
              "    }\n",
              "</style>\n",
              "<table border=\"1\" class=\"dataframe\">\n",
              "  <thead>\n",
              "    <tr style=\"text-align: right;\">\n",
              "      <th></th>\n",
              "      <th>Short description</th>\n",
              "      <th>Description</th>\n",
              "      <th>Caller</th>\n",
              "      <th>Assignment group</th>\n",
              "      <th>short_desc_analysis</th>\n",
              "      <th>desc_analysis</th>\n",
              "      <th>mail_received_from</th>\n",
              "      <th>mail_subject_mentioned</th>\n",
              "    </tr>\n",
              "  </thead>\n",
              "  <tbody>\n",
              "    <tr>\n",
              "      <th>2143</th>\n",
              "      <td>no login options in erp</td>\n",
              "      <td>after netweaver installing it is not possible to log in to erp 740. \\nuser name: nagdyiyst</td>\n",
              "      <td>krdvgzeh yboasemp</td>\n",
              "      <td>GRP_0</td>\n",
              "      <td>no login options in erp</td>\n",
              "      <td>after netweaver installing it is not possible to log in to erp .  user name: nagdyiyst</td>\n",
              "      <td>No Match</td>\n",
              "      <td>No Match</td>\n",
              "    </tr>\n",
              "  </tbody>\n",
              "</table>\n",
              "</div>\n",
              "      <button class=\"colab-df-convert\" onclick=\"convertToInteractive('df-2d0e7173-b580-45fa-a207-9e55b9cd1c4b')\"\n",
              "              title=\"Convert this dataframe to an interactive table.\"\n",
              "              style=\"display:none;\">\n",
              "        \n",
              "  <svg xmlns=\"http://www.w3.org/2000/svg\" height=\"24px\"viewBox=\"0 0 24 24\"\n",
              "       width=\"24px\">\n",
              "    <path d=\"M0 0h24v24H0V0z\" fill=\"none\"/>\n",
              "    <path d=\"M18.56 5.44l.94 2.06.94-2.06 2.06-.94-2.06-.94-.94-2.06-.94 2.06-2.06.94zm-11 1L8.5 8.5l.94-2.06 2.06-.94-2.06-.94L8.5 2.5l-.94 2.06-2.06.94zm10 10l.94 2.06.94-2.06 2.06-.94-2.06-.94-.94-2.06-.94 2.06-2.06.94z\"/><path d=\"M17.41 7.96l-1.37-1.37c-.4-.4-.92-.59-1.43-.59-.52 0-1.04.2-1.43.59L10.3 9.45l-7.72 7.72c-.78.78-.78 2.05 0 2.83L4 21.41c.39.39.9.59 1.41.59.51 0 1.02-.2 1.41-.59l7.78-7.78 2.81-2.81c.8-.78.8-2.07 0-2.86zM5.41 20L4 18.59l7.72-7.72 1.47 1.35L5.41 20z\"/>\n",
              "  </svg>\n",
              "      </button>\n",
              "      \n",
              "  <style>\n",
              "    .colab-df-container {\n",
              "      display:flex;\n",
              "      flex-wrap:wrap;\n",
              "      gap: 12px;\n",
              "    }\n",
              "\n",
              "    .colab-df-convert {\n",
              "      background-color: #E8F0FE;\n",
              "      border: none;\n",
              "      border-radius: 50%;\n",
              "      cursor: pointer;\n",
              "      display: none;\n",
              "      fill: #1967D2;\n",
              "      height: 32px;\n",
              "      padding: 0 0 0 0;\n",
              "      width: 32px;\n",
              "    }\n",
              "\n",
              "    .colab-df-convert:hover {\n",
              "      background-color: #E2EBFA;\n",
              "      box-shadow: 0px 1px 2px rgba(60, 64, 67, 0.3), 0px 1px 3px 1px rgba(60, 64, 67, 0.15);\n",
              "      fill: #174EA6;\n",
              "    }\n",
              "\n",
              "    [theme=dark] .colab-df-convert {\n",
              "      background-color: #3B4455;\n",
              "      fill: #D2E3FC;\n",
              "    }\n",
              "\n",
              "    [theme=dark] .colab-df-convert:hover {\n",
              "      background-color: #434B5C;\n",
              "      box-shadow: 0px 1px 3px 1px rgba(0, 0, 0, 0.15);\n",
              "      filter: drop-shadow(0px 1px 2px rgba(0, 0, 0, 0.3));\n",
              "      fill: #FFFFFF;\n",
              "    }\n",
              "  </style>\n",
              "\n",
              "      <script>\n",
              "        const buttonEl =\n",
              "          document.querySelector('#df-2d0e7173-b580-45fa-a207-9e55b9cd1c4b button.colab-df-convert');\n",
              "        buttonEl.style.display =\n",
              "          google.colab.kernel.accessAllowed ? 'block' : 'none';\n",
              "\n",
              "        async function convertToInteractive(key) {\n",
              "          const element = document.querySelector('#df-2d0e7173-b580-45fa-a207-9e55b9cd1c4b');\n",
              "          const dataTable =\n",
              "            await google.colab.kernel.invokeFunction('convertToInteractive',\n",
              "                                                     [key], {});\n",
              "          if (!dataTable) return;\n",
              "\n",
              "          const docLinkHtml = 'Like what you see? Visit the ' +\n",
              "            '<a target=\"_blank\" href=https://colab.research.google.com/notebooks/data_table.ipynb>data table notebook</a>'\n",
              "            + ' to learn more about interactive tables.';\n",
              "          element.innerHTML = '';\n",
              "          dataTable['output_type'] = 'display_data';\n",
              "          await google.colab.output.renderOutput(dataTable, element);\n",
              "          const docLink = document.createElement('div');\n",
              "          docLink.innerHTML = docLinkHtml;\n",
              "          element.appendChild(docLink);\n",
              "        }\n",
              "      </script>\n",
              "    </div>\n",
              "  </div>\n",
              "  "
            ],
            "text/plain": [
              "            Short description  ... mail_subject_mentioned\n",
              "2143  no login options in erp  ...               No Match\n",
              "\n",
              "[1 rows x 8 columns]"
            ]
          },
          "metadata": {},
          "execution_count": 85
        }
      ],
      "source": [
        "ata_data[ata_data['Short description']=='no login options in erp']"
      ]
    },
    {
      "cell_type": "code",
      "execution_count": 86,
      "metadata": {
        "colab": {
          "base_uri": "https://localhost:8080/"
        },
        "id": "EIP_C7_Eyl5F",
        "outputId": "6baba5b9-6b5f-419e-ab28-5b4ed08ffc1f"
      },
      "outputs": [
        {
          "output_type": "execute_result",
          "data": {
            "text/plain": [
              "GRP_0     3934\n",
              "GRP_8      645\n",
              "GRP_24     285\n",
              "GRP_12     257\n",
              "GRP_9      252\n",
              "          ... \n",
              "GRP_73       1\n",
              "GRP_61       1\n",
              "GRP_70       1\n",
              "GRP_35       1\n",
              "GRP_67       1\n",
              "Name: Assignment group, Length: 74, dtype: int64"
            ]
          },
          "metadata": {},
          "execution_count": 86
        }
      ],
      "source": [
        "ata_data['Assignment group'].value_counts()"
      ]
    },
    {
      "cell_type": "code",
      "execution_count": null,
      "metadata": {
        "id": "SX2yuWjMNS2y"
      },
      "outputs": [],
      "source": [
        "assignment_group_desc_order = ata_data['Assignment group'].value_counts().sort_values(ascending=False).index\n",
        "plt.figure(figsize=(50,10))\n",
        "sns.countplot(ata_data['Assignment group'], order=assignment_group_desc_order)"
      ]
    },
    {
      "cell_type": "code",
      "execution_count": 88,
      "metadata": {
        "id": "P6VZfDeoT_oU"
      },
      "outputs": [],
      "source": [
        "stop_words = set(stopwords.words('english'))\n",
        "\n",
        "ata_data['number_of_words_short_desc'] = ata_data.short_desc_analysis.apply(lambda x: len(x.split()))\n",
        "ata_data['number_of_char_short_desc'] = ata_data.short_desc_analysis.str.len()\n",
        "ata_data['number_of_punctuations_short_desc'] = ata_data.short_desc_analysis.apply(lambda x : len([x for x in x if x in string.punctuation]))\n",
        "ata_data['number_of_stop_words_short_desc'] = ata_data.short_desc_analysis.apply(lambda x: len([x for x in str(x).split() if x in stop_words]))\n",
        "\n",
        "\n",
        "\n",
        "\n",
        "ata_data['number_of_words_desc'] = ata_data.desc_analysis.apply(lambda x: len(x.split()))\n",
        "ata_data['number_of_char_desc'] = ata_data.desc_analysis.str.len()\n",
        "ata_data['number_of_punctuations_desc'] = ata_data.desc_analysis.apply(lambda x : len([x for x in x if x in string.punctuation]))\n",
        "ata_data['number_of_stop_words_desc'] = ata_data.desc_analysis.apply(lambda x: len([x for x in str(x).split() if x in stop_words]))"
      ]
    },
    {
      "cell_type": "code",
      "execution_count": 89,
      "metadata": {
        "colab": {
          "base_uri": "https://localhost:8080/",
          "height": 774
        },
        "id": "GBOHIEI5T_tb",
        "outputId": "0ca3de86-0609-47a9-c86a-b930595041e7"
      },
      "outputs": [
        {
          "output_type": "execute_result",
          "data": {
            "text/html": [
              "\n",
              "  <div id=\"df-4e48d53b-ad05-4750-977f-c714d156ea64\">\n",
              "    <div class=\"colab-df-container\">\n",
              "      <div>\n",
              "<style scoped>\n",
              "    .dataframe tbody tr th:only-of-type {\n",
              "        vertical-align: middle;\n",
              "    }\n",
              "\n",
              "    .dataframe tbody tr th {\n",
              "        vertical-align: top;\n",
              "    }\n",
              "\n",
              "    .dataframe thead th {\n",
              "        text-align: right;\n",
              "    }\n",
              "</style>\n",
              "<table border=\"1\" class=\"dataframe\">\n",
              "  <thead>\n",
              "    <tr style=\"text-align: right;\">\n",
              "      <th></th>\n",
              "      <th>Short description</th>\n",
              "      <th>Description</th>\n",
              "      <th>Caller</th>\n",
              "      <th>Assignment group</th>\n",
              "      <th>short_desc_analysis</th>\n",
              "      <th>desc_analysis</th>\n",
              "      <th>mail_received_from</th>\n",
              "      <th>mail_subject_mentioned</th>\n",
              "      <th>number_of_words_short_desc</th>\n",
              "      <th>number_of_char_short_desc</th>\n",
              "      <th>number_of_punctuations_short_desc</th>\n",
              "      <th>number_of_stop_words_short_desc</th>\n",
              "      <th>number_of_words_desc</th>\n",
              "      <th>number_of_char_desc</th>\n",
              "      <th>number_of_punctuations_desc</th>\n",
              "      <th>number_of_stop_words_desc</th>\n",
              "    </tr>\n",
              "  </thead>\n",
              "  <tbody>\n",
              "    <tr>\n",
              "      <th>0</th>\n",
              "      <td>login issue</td>\n",
              "      <td>-verified user details.(employee# &amp; manager name)\\r\\n-checked the user name in ad and reset the password.\\r\\n-advised the user to login and check.\\r\\n-caller confirmed that he was able to login.\\r\\n-issue resolved.</td>\n",
              "      <td>spxjnwir pjlcoqds</td>\n",
              "      <td>GRP_0</td>\n",
              "      <td>login issue</td>\n",
              "      <td>-verified user details.(employee# &amp; -checked the user name in ad and reset the password. -advised the user to login and check. -caller confirmed that he was able to login. -issue resolved.</td>\n",
              "      <td>No Match</td>\n",
              "      <td>No Match</td>\n",
              "      <td>2</td>\n",
              "      <td>11</td>\n",
              "      <td>0</td>\n",
              "      <td>0</td>\n",
              "      <td>31</td>\n",
              "      <td>188</td>\n",
              "      <td>13</td>\n",
              "      <td>11</td>\n",
              "    </tr>\n",
              "    <tr>\n",
              "      <th>1</th>\n",
              "      <td>outlook</td>\n",
              "      <td>\\r\\n\\r\\nreceived from: hmjdrvpb.komuaywn@gmail.com\\r\\n\\r\\nhello team,\\r\\n\\r\\nmy meetings/skype meetings etc are not appearing in my outlook calendar, can somebody please advise how to correct this?\\r\\n\\r\\nkind</td>\n",
              "      <td>hmjdrvpb komuaywn</td>\n",
              "      <td>GRP_0</td>\n",
              "      <td>outlook</td>\n",
              "      <td>my meetings/skype meetings etc are not appearing in my outlook calendar, can somebody please advise how to correct t?</td>\n",
              "      <td>hmjdrvpb.komuaywn@gmail.com</td>\n",
              "      <td>No Match</td>\n",
              "      <td>1</td>\n",
              "      <td>7</td>\n",
              "      <td>0</td>\n",
              "      <td>0</td>\n",
              "      <td>19</td>\n",
              "      <td>117</td>\n",
              "      <td>3</td>\n",
              "      <td>8</td>\n",
              "    </tr>\n",
              "    <tr>\n",
              "      <th>2</th>\n",
              "      <td>cant log in to vpn</td>\n",
              "      <td>\\r\\n\\r\\nreceived from: eylqgodm.ybqkwiam@gmail.com\\r\\n\\r\\nhi\\r\\n\\r\\ni cannot log on to vpn\\r\\n\\r\\nbest</td>\n",
              "      <td>eylqgodm ybqkwiam</td>\n",
              "      <td>GRP_0</td>\n",
              "      <td>cannot log in to vpn</td>\n",
              "      <td>i cannot log on to vpn</td>\n",
              "      <td>eylqgodm.ybqkwiam@gmail.com</td>\n",
              "      <td>No Match</td>\n",
              "      <td>5</td>\n",
              "      <td>20</td>\n",
              "      <td>0</td>\n",
              "      <td>2</td>\n",
              "      <td>6</td>\n",
              "      <td>22</td>\n",
              "      <td>0</td>\n",
              "      <td>3</td>\n",
              "    </tr>\n",
              "    <tr>\n",
              "      <th>3</th>\n",
              "      <td>unable to access hr_tool page</td>\n",
              "      <td>unable to access hr_tool page</td>\n",
              "      <td>xbkucsvz gcpydteq</td>\n",
              "      <td>GRP_0</td>\n",
              "      <td>unable to access hr_tool page</td>\n",
              "      <td>unable to access hr_tool page</td>\n",
              "      <td>No Match</td>\n",
              "      <td>No Match</td>\n",
              "      <td>5</td>\n",
              "      <td>29</td>\n",
              "      <td>1</td>\n",
              "      <td>1</td>\n",
              "      <td>5</td>\n",
              "      <td>29</td>\n",
              "      <td>1</td>\n",
              "      <td>1</td>\n",
              "    </tr>\n",
              "    <tr>\n",
              "      <th>4</th>\n",
              "      <td>skype error</td>\n",
              "      <td>skype error</td>\n",
              "      <td>owlgqjme qhcozdfx</td>\n",
              "      <td>GRP_0</td>\n",
              "      <td>skype error</td>\n",
              "      <td>skype error</td>\n",
              "      <td>No Match</td>\n",
              "      <td>No Match</td>\n",
              "      <td>2</td>\n",
              "      <td>11</td>\n",
              "      <td>0</td>\n",
              "      <td>0</td>\n",
              "      <td>2</td>\n",
              "      <td>11</td>\n",
              "      <td>0</td>\n",
              "      <td>0</td>\n",
              "    </tr>\n",
              "  </tbody>\n",
              "</table>\n",
              "</div>\n",
              "      <button class=\"colab-df-convert\" onclick=\"convertToInteractive('df-4e48d53b-ad05-4750-977f-c714d156ea64')\"\n",
              "              title=\"Convert this dataframe to an interactive table.\"\n",
              "              style=\"display:none;\">\n",
              "        \n",
              "  <svg xmlns=\"http://www.w3.org/2000/svg\" height=\"24px\"viewBox=\"0 0 24 24\"\n",
              "       width=\"24px\">\n",
              "    <path d=\"M0 0h24v24H0V0z\" fill=\"none\"/>\n",
              "    <path d=\"M18.56 5.44l.94 2.06.94-2.06 2.06-.94-2.06-.94-.94-2.06-.94 2.06-2.06.94zm-11 1L8.5 8.5l.94-2.06 2.06-.94-2.06-.94L8.5 2.5l-.94 2.06-2.06.94zm10 10l.94 2.06.94-2.06 2.06-.94-2.06-.94-.94-2.06-.94 2.06-2.06.94z\"/><path d=\"M17.41 7.96l-1.37-1.37c-.4-.4-.92-.59-1.43-.59-.52 0-1.04.2-1.43.59L10.3 9.45l-7.72 7.72c-.78.78-.78 2.05 0 2.83L4 21.41c.39.39.9.59 1.41.59.51 0 1.02-.2 1.41-.59l7.78-7.78 2.81-2.81c.8-.78.8-2.07 0-2.86zM5.41 20L4 18.59l7.72-7.72 1.47 1.35L5.41 20z\"/>\n",
              "  </svg>\n",
              "      </button>\n",
              "      \n",
              "  <style>\n",
              "    .colab-df-container {\n",
              "      display:flex;\n",
              "      flex-wrap:wrap;\n",
              "      gap: 12px;\n",
              "    }\n",
              "\n",
              "    .colab-df-convert {\n",
              "      background-color: #E8F0FE;\n",
              "      border: none;\n",
              "      border-radius: 50%;\n",
              "      cursor: pointer;\n",
              "      display: none;\n",
              "      fill: #1967D2;\n",
              "      height: 32px;\n",
              "      padding: 0 0 0 0;\n",
              "      width: 32px;\n",
              "    }\n",
              "\n",
              "    .colab-df-convert:hover {\n",
              "      background-color: #E2EBFA;\n",
              "      box-shadow: 0px 1px 2px rgba(60, 64, 67, 0.3), 0px 1px 3px 1px rgba(60, 64, 67, 0.15);\n",
              "      fill: #174EA6;\n",
              "    }\n",
              "\n",
              "    [theme=dark] .colab-df-convert {\n",
              "      background-color: #3B4455;\n",
              "      fill: #D2E3FC;\n",
              "    }\n",
              "\n",
              "    [theme=dark] .colab-df-convert:hover {\n",
              "      background-color: #434B5C;\n",
              "      box-shadow: 0px 1px 3px 1px rgba(0, 0, 0, 0.15);\n",
              "      filter: drop-shadow(0px 1px 2px rgba(0, 0, 0, 0.3));\n",
              "      fill: #FFFFFF;\n",
              "    }\n",
              "  </style>\n",
              "\n",
              "      <script>\n",
              "        const buttonEl =\n",
              "          document.querySelector('#df-4e48d53b-ad05-4750-977f-c714d156ea64 button.colab-df-convert');\n",
              "        buttonEl.style.display =\n",
              "          google.colab.kernel.accessAllowed ? 'block' : 'none';\n",
              "\n",
              "        async function convertToInteractive(key) {\n",
              "          const element = document.querySelector('#df-4e48d53b-ad05-4750-977f-c714d156ea64');\n",
              "          const dataTable =\n",
              "            await google.colab.kernel.invokeFunction('convertToInteractive',\n",
              "                                                     [key], {});\n",
              "          if (!dataTable) return;\n",
              "\n",
              "          const docLinkHtml = 'Like what you see? Visit the ' +\n",
              "            '<a target=\"_blank\" href=https://colab.research.google.com/notebooks/data_table.ipynb>data table notebook</a>'\n",
              "            + ' to learn more about interactive tables.';\n",
              "          element.innerHTML = '';\n",
              "          dataTable['output_type'] = 'display_data';\n",
              "          await google.colab.output.renderOutput(dataTable, element);\n",
              "          const docLink = document.createElement('div');\n",
              "          docLink.innerHTML = docLinkHtml;\n",
              "          element.appendChild(docLink);\n",
              "        }\n",
              "      </script>\n",
              "    </div>\n",
              "  </div>\n",
              "  "
            ],
            "text/plain": [
              "               Short description  ... number_of_stop_words_desc\n",
              "0                    login issue  ...                        11\n",
              "1                        outlook  ...                         8\n",
              "2             cant log in to vpn  ...                         3\n",
              "3  unable to access hr_tool page  ...                         1\n",
              "4                   skype error   ...                         0\n",
              "\n",
              "[5 rows x 16 columns]"
            ]
          },
          "metadata": {},
          "execution_count": 89
        }
      ],
      "source": [
        "ata_data.head()"
      ]
    },
    {
      "cell_type": "code",
      "execution_count": null,
      "metadata": {
        "id": "ssBib2QYT_1X"
      },
      "outputs": [],
      "source": [
        "for displot_col in ata_data.select_dtypes(include = 'number').columns:\n",
        "    sns.displot(ata_data, x = displot_col, kde=True)"
      ]
    },
    {
      "cell_type": "code",
      "execution_count": 91,
      "metadata": {
        "colab": {
          "base_uri": "https://localhost:8080/"
        },
        "id": "tAD2TADHH_xV",
        "outputId": "7adf42b4-c7a7-49e6-cd7a-2b0c9818ee40"
      },
      "outputs": [
        {
          "output_type": "execute_result",
          "data": {
            "text/plain": [
              "bpctwhsn kzqsbmtp    788\n",
              "ZkBogxib QsEJzdZO    151\n",
              "fumkcsji sarmtlhy    128\n",
              "rbozivdq gmlhrtvp     72\n",
              "rkupnshb gsmzfojw     71\n",
              "                    ... \n",
              "bzekndcu ivhnpdbu      1\n",
              "rlgmiuwt dfpqxbgm      1\n",
              "zuangtpq xpnscghk      1\n",
              "mxotdywa veycbhgu      1\n",
              "obfgkwim hlasbrmj      1\n",
              "Name: Caller, Length: 2950, dtype: int64"
            ]
          },
          "metadata": {},
          "execution_count": 91
        }
      ],
      "source": [
        "ata_data['Caller'].value_counts()"
      ]
    },
    {
      "cell_type": "code",
      "execution_count": null,
      "metadata": {
        "id": "u08DPl5TUUBv"
      },
      "outputs": [],
      "source": [
        "plt.figure(figsize = (20,20))\n",
        "word_cloud = WordCloud(max_words = 5000 , width = 1600 , height = 800).generate(\" \".join(ata_data['desc_analysis']))\n",
        "plt.title('Description')\n",
        "plt.imshow(word_cloud , interpolation = 'bilinear')"
      ]
    },
    {
      "cell_type": "code",
      "execution_count": null,
      "metadata": {
        "id": "TGxY6SdwXRbr"
      },
      "outputs": [],
      "source": [
        "plt.figure(figsize = (20,20))\n",
        "word_cloud = WordCloud(max_words = 5000 , width = 1600 , height = 800).generate(\" \".join(ata_data['short_desc_analysis']))\n",
        "plt.title('Short Description')\n",
        "plt.imshow(word_cloud , interpolation = 'bilinear')"
      ]
    },
    {
      "cell_type": "code",
      "execution_count": 94,
      "metadata": {
        "id": "IUzX7g8aH_09"
      },
      "outputs": [],
      "source": [
        "#for grp in list(ata_data['Assignment group'].unique()):\n",
        "#  plt.figure(figsize = (20,20))\n",
        "#  word_cloud = WordCloud(max_words = 100 , width = 1600 , height = 800).generate(\" \".join(ata_data[ata_data['Assignment group']==grp]['short_desc_analysis']))\n",
        "#  plt.title(grp)\n",
        "#  plt.imshow(word_cloud , interpolation = 'bilinear')"
      ]
    },
    {
      "cell_type": "code",
      "execution_count": 95,
      "metadata": {
        "id": "qNIgk0m0UUG3"
      },
      "outputs": [],
      "source": [
        "#for grp in list(ata_data['Assignment group'].unique()):\n",
        "#  plt.figure(figsize = (20,20))\n",
        "#  word_cloud = WordCloud(max_words = 100 , width = 1600 , height = 800).generate(\" \".join(ata_data[ata_data['Assignment group']==grp]['desc_analysis']))\n",
        "#  plt.title(grp)\n",
        "#  plt.imshow(word_cloud , interpolation = 'bilinear')"
      ]
    },
    {
      "cell_type": "code",
      "execution_count": 96,
      "metadata": {
        "colab": {
          "base_uri": "https://localhost:8080/",
          "height": 1000
        },
        "id": "ABSCodHWZP0_",
        "outputId": "be5e8fc8-a0da-4ada-cda7-37b016d94504"
      },
      "outputs": [
        {
          "output_type": "execute_result",
          "data": {
            "text/html": [
              "\n",
              "  <div id=\"df-6c2849e6-9424-4807-90c1-77a18218e0b4\">\n",
              "    <div class=\"colab-df-container\">\n",
              "      <div>\n",
              "<style scoped>\n",
              "    .dataframe tbody tr th:only-of-type {\n",
              "        vertical-align: middle;\n",
              "    }\n",
              "\n",
              "    .dataframe tbody tr th {\n",
              "        vertical-align: top;\n",
              "    }\n",
              "\n",
              "    .dataframe thead th {\n",
              "        text-align: right;\n",
              "    }\n",
              "</style>\n",
              "<table border=\"1\" class=\"dataframe\">\n",
              "  <thead>\n",
              "    <tr style=\"text-align: right;\">\n",
              "      <th></th>\n",
              "      <th>index</th>\n",
              "      <th>Short description</th>\n",
              "      <th>Description</th>\n",
              "      <th>Caller</th>\n",
              "      <th>Assignment group</th>\n",
              "      <th>short_desc_analysis</th>\n",
              "      <th>desc_analysis</th>\n",
              "      <th>mail_received_from</th>\n",
              "      <th>mail_subject_mentioned</th>\n",
              "      <th>number_of_words_short_desc</th>\n",
              "      <th>number_of_char_short_desc</th>\n",
              "      <th>number_of_punctuations_short_desc</th>\n",
              "      <th>number_of_stop_words_short_desc</th>\n",
              "      <th>number_of_words_desc</th>\n",
              "      <th>number_of_char_desc</th>\n",
              "      <th>number_of_punctuations_desc</th>\n",
              "      <th>number_of_stop_words_desc</th>\n",
              "    </tr>\n",
              "  </thead>\n",
              "  <tbody>\n",
              "    <tr>\n",
              "      <th>0</th>\n",
              "      <td>0</td>\n",
              "      <td>login issue</td>\n",
              "      <td>-verified user details.(employee# &amp; manager name)\\r\\n-checked the user name in ad and reset the password.\\r\\n-advised the user to login and check.\\r\\n-caller confirmed that he was able to login.\\r\\n-issue resolved.</td>\n",
              "      <td>spxjnwir pjlcoqds</td>\n",
              "      <td>GRP_0</td>\n",
              "      <td>login issue</td>\n",
              "      <td>-verified user details.(employee# &amp; -checked the user name in ad and reset the password. -advised the user to login and check. -caller confirmed that he was able to login. -issue resolved.</td>\n",
              "      <td>No Match</td>\n",
              "      <td>No Match</td>\n",
              "      <td>2</td>\n",
              "      <td>11</td>\n",
              "      <td>0</td>\n",
              "      <td>0</td>\n",
              "      <td>31</td>\n",
              "      <td>188</td>\n",
              "      <td>13</td>\n",
              "      <td>11</td>\n",
              "    </tr>\n",
              "    <tr>\n",
              "      <th>1</th>\n",
              "      <td>65</td>\n",
              "      <td>error login on to the SID_34 system.</td>\n",
              "      <td>error login on to the SID_34 system.\\r\\n-verified user details.(employee# &amp; manager name)\\r\\n-user has tried the password_management_tool pwd manager.\\r\\n-unlocked the erp id.\\r\\n-caller confirmed that he was able to login.\\r\\n-issue resolved.</td>\n",
              "      <td>quxtnlgd tqnjyzsm</td>\n",
              "      <td>GRP_0</td>\n",
              "      <td>error login on to the sid_ system.</td>\n",
              "      <td>error login on to the sid_ system. -verified user details.(employee# &amp; -user has tried the password_management_tool pwd -unlocked the erp id. -caller confirmed that he was able to login. -issue resolved.</td>\n",
              "      <td>No Match</td>\n",
              "      <td>No Match</td>\n",
              "      <td>7</td>\n",
              "      <td>34</td>\n",
              "      <td>2</td>\n",
              "      <td>3</td>\n",
              "      <td>31</td>\n",
              "      <td>203</td>\n",
              "      <td>16</td>\n",
              "      <td>10</td>\n",
              "    </tr>\n",
              "    <tr>\n",
              "      <th>2</th>\n",
              "      <td>73</td>\n",
              "      <td>user needs help to connect to the wireless connection at home.</td>\n",
              "      <td>user needs help to connect to the wireless connection at home.\\n-had the user connect to the lan at home.\\n-connected to the user system using teamviewer.\\n-checked the network settings.\\n-help the user login to the home wireless.\\n-disconnected the home lan.\\n-user confirmed that he is able to login to the home wireless.\\n-issue resolved.</td>\n",
              "      <td>imoelsap gxdwkimv</td>\n",
              "      <td>GRP_0</td>\n",
              "      <td>user needs help to connect to the wireless connection at home.</td>\n",
              "      <td>user needs help to connect to the wireless connection at home. -had the user connect to the lan at home. -connected to the user system using iewer. -checked the network settings. -help the user login to the home wireless. -disconnected the home lan. -user confirmed that he is able to login to the home wireless. -issue resolved.</td>\n",
              "      <td>No Match</td>\n",
              "      <td>No Match</td>\n",
              "      <td>11</td>\n",
              "      <td>62</td>\n",
              "      <td>1</td>\n",
              "      <td>4</td>\n",
              "      <td>57</td>\n",
              "      <td>329</td>\n",
              "      <td>15</td>\n",
              "      <td>21</td>\n",
              "    </tr>\n",
              "    <tr>\n",
              "      <th>3</th>\n",
              "      <td>144</td>\n",
              "      <td>ess login issue</td>\n",
              "      <td>ess login issue\\r\\n-verified user details.(employee# &amp; manager name)\\r\\n-checked the user name in ad and reset the password.\\r\\n-advised the user to login and check.\\r\\n-caller confirmed that he was able to login.\\r\\n-issue resolved.</td>\n",
              "      <td>ukzfqjet zcbhpweo</td>\n",
              "      <td>GRP_0</td>\n",
              "      <td>ess login issue</td>\n",
              "      <td>ess login issue -verified user details.(employee# &amp; -checked the user name in ad and reset the password. -advised the user to login and check. -caller confirmed that he was able to login. -issue resolved.</td>\n",
              "      <td>No Match</td>\n",
              "      <td>No Match</td>\n",
              "      <td>3</td>\n",
              "      <td>15</td>\n",
              "      <td>0</td>\n",
              "      <td>0</td>\n",
              "      <td>34</td>\n",
              "      <td>204</td>\n",
              "      <td>13</td>\n",
              "      <td>11</td>\n",
              "    </tr>\n",
              "    <tr>\n",
              "      <th>4</th>\n",
              "      <td>167</td>\n",
              "      <td>user needs training to use engineering tool to view drawings.</td>\n",
              "      <td>user needs training to use engineering tool to view drawings.\\r\\n-connected to the user system using teamviewer.\\r\\n-help and educated the user on how login to business_client and view drawings.\\r\\n-issue resolved.</td>\n",
              "      <td>rkzqjbwc juizkwpl</td>\n",
              "      <td>GRP_0</td>\n",
              "      <td>user needs training to use engineering tool to view drawings.</td>\n",
              "      <td>user needs training to use engineering tool to view drawings. -connected to the user system using iewer. -help and educated the user on how login to business_client and view drawings. -issue resolved.</td>\n",
              "      <td>No Match</td>\n",
              "      <td>No Match</td>\n",
              "      <td>10</td>\n",
              "      <td>61</td>\n",
              "      <td>1</td>\n",
              "      <td>2</td>\n",
              "      <td>32</td>\n",
              "      <td>200</td>\n",
              "      <td>8</td>\n",
              "      <td>10</td>\n",
              "    </tr>\n",
              "    <tr>\n",
              "      <th>...</th>\n",
              "      <td>...</td>\n",
              "      <td>...</td>\n",
              "      <td>...</td>\n",
              "      <td>...</td>\n",
              "      <td>...</td>\n",
              "      <td>...</td>\n",
              "      <td>...</td>\n",
              "      <td>...</td>\n",
              "      <td>...</td>\n",
              "      <td>...</td>\n",
              "      <td>...</td>\n",
              "      <td>...</td>\n",
              "      <td>...</td>\n",
              "      <td>...</td>\n",
              "      <td>...</td>\n",
              "      <td>...</td>\n",
              "      <td>...</td>\n",
              "    </tr>\n",
              "    <tr>\n",
              "      <th>107</th>\n",
              "      <td>7594</td>\n",
              "      <td>error login on to the SID_34 system.</td>\n",
              "      <td>error login on to the SID_34 system.\\r\\n-verified user details.(employee# &amp; manager name)\\r\\n-unlocked and reset the erp id to\"daypay3\".\\r\\n-caller confirmed that he was able to login.\\r\\n-issue resolved.</td>\n",
              "      <td>mbwgkint wjrokfub</td>\n",
              "      <td>GRP_0</td>\n",
              "      <td>error login on to the sid_ system.</td>\n",
              "      <td>error login on to the sid_ system. -verified user details.(employee# &amp; -unlocked and reset the erp id to\"daypay\". -caller confirmed that he was able to login. -issue resolved.</td>\n",
              "      <td>No Match</td>\n",
              "      <td>No Match</td>\n",
              "      <td>7</td>\n",
              "      <td>34</td>\n",
              "      <td>2</td>\n",
              "      <td>3</td>\n",
              "      <td>28</td>\n",
              "      <td>175</td>\n",
              "      <td>15</td>\n",
              "      <td>9</td>\n",
              "    </tr>\n",
              "    <tr>\n",
              "      <th>108</th>\n",
              "      <td>7622</td>\n",
              "      <td>mii login issue</td>\n",
              "      <td>mii login issue.\\r\\n-verified user details.(employee# &amp; manager name)\\r\\n-checked the user name in ad and reset the password.\\r\\n-advised the user to login and check.\\r\\n-caller confirmed that she was able to login.\\r\\n-issue resolved.</td>\n",
              "      <td>lbtverxc ymgljuqn</td>\n",
              "      <td>GRP_0</td>\n",
              "      <td>mii login issue</td>\n",
              "      <td>mii login issue. -verified user details.(employee# &amp; -checked the user name in ad and reset the password. -advised the user to login and check. -caller confirmed that she was able to login. -issue resolved.</td>\n",
              "      <td>No Match</td>\n",
              "      <td>No Match</td>\n",
              "      <td>3</td>\n",
              "      <td>15</td>\n",
              "      <td>0</td>\n",
              "      <td>0</td>\n",
              "      <td>34</td>\n",
              "      <td>206</td>\n",
              "      <td>14</td>\n",
              "      <td>11</td>\n",
              "    </tr>\n",
              "    <tr>\n",
              "      <th>109</th>\n",
              "      <td>7876</td>\n",
              "      <td>error login on to the SID_34 system.</td>\n",
              "      <td>error login on to the SID_34 system.\\r\\n-verified user details.(employee# &amp; manager name)\\r\\n-user has tried the password_management_tool pwd manager.\\r\\n-unlocked the erp id.\\r\\n-caller confirmed that he was able to login.\\r\\n-issue resolved.</td>\n",
              "      <td>aylrbosw gaeycbwd</td>\n",
              "      <td>GRP_0</td>\n",
              "      <td>error login on to the sid_ system.</td>\n",
              "      <td>error login on to the sid_ system. -verified user details.(employee# &amp; -user has tried the password_management_tool pwd -unlocked the erp id. -caller confirmed that he was able to login. -issue resolved.</td>\n",
              "      <td>No Match</td>\n",
              "      <td>No Match</td>\n",
              "      <td>7</td>\n",
              "      <td>34</td>\n",
              "      <td>2</td>\n",
              "      <td>3</td>\n",
              "      <td>31</td>\n",
              "      <td>203</td>\n",
              "      <td>16</td>\n",
              "      <td>10</td>\n",
              "    </tr>\n",
              "    <tr>\n",
              "      <th>110</th>\n",
              "      <td>7882</td>\n",
              "      <td>system login issue.</td>\n",
              "      <td>login issue\\r\\n-verified user details.(employee# &amp; manager name)\\r\\n-checked the user name in ad and unlocked the account.\\r\\n-advised the user to login and check.\\r\\n-caller confirmed that she was able to login.\\r\\n-issue resolved.</td>\n",
              "      <td>ybplwrez lqcyehbf</td>\n",
              "      <td>GRP_0</td>\n",
              "      <td>system login issue.</td>\n",
              "      <td>login issue -verified user details.(employee# &amp; -checked the user name in ad and unlocked the account. -advised the user to login and check. -caller confirmed that she was able to login. -issue resolved.</td>\n",
              "      <td>No Match</td>\n",
              "      <td>No Match</td>\n",
              "      <td>3</td>\n",
              "      <td>19</td>\n",
              "      <td>1</td>\n",
              "      <td>0</td>\n",
              "      <td>33</td>\n",
              "      <td>203</td>\n",
              "      <td>13</td>\n",
              "      <td>11</td>\n",
              "    </tr>\n",
              "    <tr>\n",
              "      <th>111</th>\n",
              "      <td>8272</td>\n",
              "      <td>login issue</td>\n",
              "      <td>login issue\\r\\n-verified user details.(employee# &amp; manager name)\\r\\n-checked the user name in ad and reset the password.\\r\\n-advised the user to login and check.\\r\\n-caller confirmed that he was able to login.\\r\\n-issue resolved.</td>\n",
              "      <td>ckgwemna cgnziqxj</td>\n",
              "      <td>GRP_0</td>\n",
              "      <td>login issue</td>\n",
              "      <td>login issue -verified user details.(employee# &amp; -checked the user name in ad and reset the password. -advised the user to login and check. -caller confirmed that he was able to login. -issue resolved.</td>\n",
              "      <td>No Match</td>\n",
              "      <td>No Match</td>\n",
              "      <td>2</td>\n",
              "      <td>11</td>\n",
              "      <td>0</td>\n",
              "      <td>0</td>\n",
              "      <td>33</td>\n",
              "      <td>200</td>\n",
              "      <td>13</td>\n",
              "      <td>11</td>\n",
              "    </tr>\n",
              "  </tbody>\n",
              "</table>\n",
              "<p>112 rows × 17 columns</p>\n",
              "</div>\n",
              "      <button class=\"colab-df-convert\" onclick=\"convertToInteractive('df-6c2849e6-9424-4807-90c1-77a18218e0b4')\"\n",
              "              title=\"Convert this dataframe to an interactive table.\"\n",
              "              style=\"display:none;\">\n",
              "        \n",
              "  <svg xmlns=\"http://www.w3.org/2000/svg\" height=\"24px\"viewBox=\"0 0 24 24\"\n",
              "       width=\"24px\">\n",
              "    <path d=\"M0 0h24v24H0V0z\" fill=\"none\"/>\n",
              "    <path d=\"M18.56 5.44l.94 2.06.94-2.06 2.06-.94-2.06-.94-.94-2.06-.94 2.06-2.06.94zm-11 1L8.5 8.5l.94-2.06 2.06-.94-2.06-.94L8.5 2.5l-.94 2.06-2.06.94zm10 10l.94 2.06.94-2.06 2.06-.94-2.06-.94-.94-2.06-.94 2.06-2.06.94z\"/><path d=\"M17.41 7.96l-1.37-1.37c-.4-.4-.92-.59-1.43-.59-.52 0-1.04.2-1.43.59L10.3 9.45l-7.72 7.72c-.78.78-.78 2.05 0 2.83L4 21.41c.39.39.9.59 1.41.59.51 0 1.02-.2 1.41-.59l7.78-7.78 2.81-2.81c.8-.78.8-2.07 0-2.86zM5.41 20L4 18.59l7.72-7.72 1.47 1.35L5.41 20z\"/>\n",
              "  </svg>\n",
              "      </button>\n",
              "      \n",
              "  <style>\n",
              "    .colab-df-container {\n",
              "      display:flex;\n",
              "      flex-wrap:wrap;\n",
              "      gap: 12px;\n",
              "    }\n",
              "\n",
              "    .colab-df-convert {\n",
              "      background-color: #E8F0FE;\n",
              "      border: none;\n",
              "      border-radius: 50%;\n",
              "      cursor: pointer;\n",
              "      display: none;\n",
              "      fill: #1967D2;\n",
              "      height: 32px;\n",
              "      padding: 0 0 0 0;\n",
              "      width: 32px;\n",
              "    }\n",
              "\n",
              "    .colab-df-convert:hover {\n",
              "      background-color: #E2EBFA;\n",
              "      box-shadow: 0px 1px 2px rgba(60, 64, 67, 0.3), 0px 1px 3px 1px rgba(60, 64, 67, 0.15);\n",
              "      fill: #174EA6;\n",
              "    }\n",
              "\n",
              "    [theme=dark] .colab-df-convert {\n",
              "      background-color: #3B4455;\n",
              "      fill: #D2E3FC;\n",
              "    }\n",
              "\n",
              "    [theme=dark] .colab-df-convert:hover {\n",
              "      background-color: #434B5C;\n",
              "      box-shadow: 0px 1px 3px 1px rgba(0, 0, 0, 0.15);\n",
              "      filter: drop-shadow(0px 1px 2px rgba(0, 0, 0, 0.3));\n",
              "      fill: #FFFFFF;\n",
              "    }\n",
              "  </style>\n",
              "\n",
              "      <script>\n",
              "        const buttonEl =\n",
              "          document.querySelector('#df-6c2849e6-9424-4807-90c1-77a18218e0b4 button.colab-df-convert');\n",
              "        buttonEl.style.display =\n",
              "          google.colab.kernel.accessAllowed ? 'block' : 'none';\n",
              "\n",
              "        async function convertToInteractive(key) {\n",
              "          const element = document.querySelector('#df-6c2849e6-9424-4807-90c1-77a18218e0b4');\n",
              "          const dataTable =\n",
              "            await google.colab.kernel.invokeFunction('convertToInteractive',\n",
              "                                                     [key], {});\n",
              "          if (!dataTable) return;\n",
              "\n",
              "          const docLinkHtml = 'Like what you see? Visit the ' +\n",
              "            '<a target=\"_blank\" href=https://colab.research.google.com/notebooks/data_table.ipynb>data table notebook</a>'\n",
              "            + ' to learn more about interactive tables.';\n",
              "          element.innerHTML = '';\n",
              "          dataTable['output_type'] = 'display_data';\n",
              "          await google.colab.output.renderOutput(dataTable, element);\n",
              "          const docLink = document.createElement('div');\n",
              "          docLink.innerHTML = docLinkHtml;\n",
              "          element.appendChild(docLink);\n",
              "        }\n",
              "      </script>\n",
              "    </div>\n",
              "  </div>\n",
              "  "
            ],
            "text/plain": [
              "     index  ... number_of_stop_words_desc\n",
              "0        0  ...                        11\n",
              "1       65  ...                        10\n",
              "2       73  ...                        21\n",
              "3      144  ...                        11\n",
              "4      167  ...                        10\n",
              "..     ...  ...                       ...\n",
              "107   7594  ...                         9\n",
              "108   7622  ...                        11\n",
              "109   7876  ...                        10\n",
              "110   7882  ...                        11\n",
              "111   8272  ...                        11\n",
              "\n",
              "[112 rows x 17 columns]"
            ]
          },
          "metadata": {},
          "execution_count": 96
        }
      ],
      "source": [
        "issueResolved=  ata_data[ata_data['desc_analysis'].apply(lambda x: 'issue resolved' in x)]\n",
        "issueResolved.reset_index()"
      ]
    },
    {
      "cell_type": "markdown",
      "metadata": {
        "id": "hH6TjMQ2ZWTf"
      },
      "source": [
        "There are 112 tickets, that are already resolved."
      ]
    },
    {
      "cell_type": "code",
      "execution_count": 97,
      "metadata": {
        "colab": {
          "base_uri": "https://localhost:8080/"
        },
        "id": "TM_HLpijZP79",
        "outputId": "22658329-a8ef-4b9a-b6ea-5458b95e64a0"
      },
      "outputs": [
        {
          "output_type": "execute_result",
          "data": {
            "text/plain": [
              "GRP_0     111\n",
              "GRP_27      1\n",
              "Name: Assignment group, dtype: int64"
            ]
          },
          "metadata": {},
          "execution_count": 97
        }
      ],
      "source": [
        "issueResolved['Assignment group'].value_counts()"
      ]
    },
    {
      "cell_type": "markdown",
      "metadata": {
        "id": "u_HFPkOPZbLW"
      },
      "source": [
        "\n",
        "Most of these  tickets belongs to GRP_0"
      ]
    },
    {
      "cell_type": "markdown",
      "metadata": {
        "id": "P1Qtws0XZ0qV"
      },
      "source": [
        "Analyzing Ngram"
      ]
    },
    {
      "cell_type": "code",
      "execution_count": 98,
      "metadata": {
        "colab": {
          "base_uri": "https://localhost:8080/"
        },
        "id": "6UOHuOMbZQBk",
        "outputId": "99636c08-5d3f-4f13-e9d5-31f509b955a1"
      },
      "outputs": [
        {
          "output_type": "execute_result",
          "data": {
            "text/plain": [
              "(job job_ failed in job_scheduler,)                                                                                                                                                                                                                                                                                                                                                                                                                                                                                                                                                                                                                                                                          408\n",
              "(abended job in job_scheduler: job_ at // ::,)                                                                                                                                                                                                                                                                                                                                                                                                                                                                                                                                                                                                                                                                79\n",
              "(ticket update on inplant_,)                                                                                                                                                                                                                                                                                                                                                                                                                                                                                                                                                                                                                                                                                  62\n",
              "(the,)                                                                                                                                                                                                                                                                                                                                                                                                                                                                                                                                                                                                                                                                                                        43\n",
              "(job hr_payroll_na_u failed in job_scheduler,)                                                                                                                                                                                                                                                                                                                                                                                                                                                                                                                                                                                                                                                                39\n",
              "(password reset,)                                                                                                                                                                                                                                                                                                                                                                                                                                                                                                                                                                                                                                                                                             35\n",
              "(erp sid_ account locked,)                                                                                                                                                                                                                                                                                                                                                                                                                                                                                                                                                                                                                                                                                    32\n",
              "(windows account locked,)                                                                                                                                                                                                                                                                                                                                                                                                                                                                                                                                                                                                                                                                                     31\n",
              "(windows password reset,)                                                                                                                                                                                                                                                                                                                                                                                                                                                                                                                                                                                                                                                                                     30\n",
              "(ticket update on ticket_no,)                                                                                                                                                                                                                                                                                                                                                                                                                                                                                                                                                                                                                                                                                 29\n",
              "(erp sid_ password reset,)                                                                                                                                                                                                                                                                                                                                                                                                                                                                                                                                                                                                                                                                                    27\n",
              "(,)                                                                                                                                                                                                                                                                                                                                                                                                                                                                                                                                                                                                                                                                                                           23\n",
              "(erp sid_ account unlock,)                                                                                                                                                                                                                                                                                                                                                                                                                                                                                                                                                                                                                                                                                    21\n",
              "(account locked in ad,)                                                                                                                                                                                                                                                                                                                                                                                                                                                                                                                                                                                                                                                                                       21\n",
              "(unable to connect to vpn,)                                                                                                                                                                                                                                                                                                                                                                                                                                                                                                                                                                                                                                                                                   18\n",
              "(job sid_cold failed in job_scheduler,)                                                                                                                                                                                                                                                                                                                                                                                                                                                                                                                                                                                                                                                                       18\n",
              "(job snp_heu__regen failed in job_scheduler,)                                                                                                                                                                                                                                                                                                                                                                                                                                                                                                                                                                                                                                                                 18\n",
              "(job pp_eu_tool_netch_ap failed in job_scheduler,)                                                                                                                                                                                                                                                                                                                                                                                                                                                                                                                                                                                                                                                            18\n",
              "(job hostname_fail failed in job_scheduler,)                                                                                                                                                                                                                                                                                                                                                                                                                                                                                                                                                                                                                                                                  17\n",
              "(account locked.,)                                                                                                                                                                                                                                                                                                                                                                                                                                                                                                                                                                                                                                                                                            17\n",
              "(request to reset user's password       the following user in your organization has requested a password reset be performed for their account:   •   • •  consider contacting t user to validate t request is authentic before continuing.   if you have determined that t is a valid request, use your service's admin portal (office , windows intune, windows azure, etc.) to reset the password for t user.   want to let you users reset their own passwords? check out how you can enable password reset for users in your organization with just a few clicks.   sincerely,  company inc.                t message was sent from an unmonitored email address. please do not reply to t message.,)     16\n",
              "(erp sid_ account unlock and password reset,)                                                                                                                                                                                                                                                                                                                                                                                                                                                                                                                                                                                                                                                                 16\n",
              "(job sid_filesys failed in job_scheduler,)                                                                                                                                                                                                                                                                                                                                                                                                                                                                                                                                                                                                                                                                    16\n",
              "(abended job in job_scheduler: sid_cold at // ::,)                                                                                                                                                                                                                                                                                                                                                                                                                                                                                                                                                                                                                                                            16\n",
              "(account unlock,)                                                                                                                                                                                                                                                                                                                                                                                                                                                                                                                                                                                                                                                                                             16\n",
              "(job sid_hotf failed in job_scheduler,)                                                                                                                                                                                                                                                                                                                                                                                                                                                                                                                                                                                                                                                                       15\n",
              "(unable to launch outlook,)                                                                                                                                                                                                                                                                                                                                                                                                                                                                                                                                                                                                                                                                                   14\n",
              "(job sid_arc failed in job_scheduler,)                                                                                                                                                                                                                                                                                                                                                                                                                                                                                                                                                                                                                                                                        14\n",
              "(unable to login to skype,)                                                                                                                                                                                                                                                                                                                                                                                                                                                                                                                                                                                                                                                                                   14\n",
              "(erp sid_ password reset.,)                                                                                                                                                                                                                                                                                                                                                                                                                                                                                                                                                                                                                                                                                   13\n",
              "(account locked,)                                                                                                                                                                                                                                                                                                                                                                                                                                                                                                                                                                                                                                                                                             12\n",
              "(job sid_hoti failed in job_scheduler,)                                                                                                                                                                                                                                                                                                                                                                                                                                                                                                                                                                                                                                                                       12\n",
              "(job bkwin_hostname__inc failed in job_scheduler,)                                                                                                                                                                                                                                                                                                                                                                                                                                                                                                                                                                                                                                                            12\n",
              "(help to change the windows password using password_management_tool password tool. -connected to the user system using iewer. -help the user login to the password_-help the user to sync the psswords to the company network. -caller confirmed that he was able to login. -issue resolved.,)                                                                                                                                                                                                                                                                                                                                                                                                                12\n",
              "(account locked out,)                                                                                                                                                                                                                                                                                                                                                                                                                                                                                                                                                                                                                                                                                         11\n",
              "(ess password reset,)                                                                                                                                                                                                                                                                                                                                                                                                                                                                                                                                                                                                                                                                                         10\n",
              "(unable to open outlook,)                                                                                                                                                                                                                                                                                                                                                                                                                                                                                                                                                                                                                                                                                     10\n",
              "(windows account lockout,)                                                                                                                                                                                                                                                                                                                                                                                                                                                                                                                                                                                                                                                                                    10\n",
              "(ticket update inplant_,)                                                                                                                                                                                                                                                                                                                                                                                                                                                                                                                                                                                                                                                                                      9\n",
              "(job job_a failed in job_scheduler,)                                                                                                                                                                                                                                                                                                                                                                                                                                                                                                                                                                                                                                                                           9\n",
              "(job job_d failed in job_scheduler,)                                                                                                                                                                                                                                                                                                                                                                                                                                                                                                                                                                                                                                                                           9\n",
              "(mobile device activation,)                                                                                                                                                                                                                                                                                                                                                                                                                                                                                                                                                                                                                                                                                    8\n",
              "(password reset alert from o,)                                                                                                                                                                                                                                                                                                                                                                                                                                                                                                                                                                                                                                                                                 8\n",
              "(job bwhrattr failed in job_scheduler,)                                                                                                                                                                                                                                                                                                                                                                                                                                                                                                                                                                                                                                                                        8\n",
              "(unable to login to engineering tool,)                                                                                                                                                                                                                                                                                                                                                                                                                                                                                                                                                                                                                                                                         8\n",
              "(error login on to the sid_ system. -verified user details.(employee# & -user has tried the password_management_tool pwd -unlocked and reset the erp id to\"daypay\". -caller confirmed that he was able to login. -issue resolved.,)                                                                                                                                                                                                                                                                                                                                                                                                                                                                            8\n",
              "(unable to log in to erp sid_,)                                                                                                                                                                                                                                                                                                                                                                                                                                                                                                                                                                                                                                                                                8\n",
              "(request to reset microsoft online services password for,)                                                                                                                                                                                                                                                                                                                                                                                                                                                                                                                                                                                                                                                     8\n",
              "(job job_b failed in job_scheduler,)                                                                                                                                                                                                                                                                                                                                                                                                                                                                                                                                                                                                                                                                           8\n",
              "(unable to login to erp sid_,)                                                                                                                                                                                                                                                                                                                                                                                                                                                                                                                                                                                                                                                                                 8\n",
              "dtype: int64"
            ]
          },
          "metadata": {},
          "execution_count": 98
        }
      ],
      "source": [
        "# checking bigram\n",
        "(pd.Series(nltk.ngrams(ata_data['desc_analysis'], 1)).value_counts())[0:50]"
      ]
    },
    {
      "cell_type": "code",
      "execution_count": 99,
      "metadata": {
        "colab": {
          "base_uri": "https://localhost:8080/",
          "height": 1000
        },
        "id": "Uyqkc-FRZQEx",
        "outputId": "ef0bbe4b-79cd-45fa-af56-923f9ba539c7"
      },
      "outputs": [
        {
          "output_type": "stream",
          "name": "stderr",
          "text": [
            "/usr/local/lib/python3.7/dist-packages/sklearn/utils/deprecation.py:87: FutureWarning: Function get_feature_names is deprecated; get_feature_names is deprecated in 1.0 and will be removed in 1.2. Please use get_feature_names_out instead.\n",
            "  warnings.warn(msg, category=FutureWarning)\n"
          ]
        },
        {
          "output_type": "execute_result",
          "data": {
            "text/html": [
              "\n",
              "  <div id=\"df-d7825c01-27f3-4f68-8a47-38de2178d5fd\">\n",
              "    <div class=\"colab-df-container\">\n",
              "      <div>\n",
              "<style scoped>\n",
              "    .dataframe tbody tr th:only-of-type {\n",
              "        vertical-align: middle;\n",
              "    }\n",
              "\n",
              "    .dataframe tbody tr th {\n",
              "        vertical-align: top;\n",
              "    }\n",
              "\n",
              "    .dataframe thead th {\n",
              "        text-align: right;\n",
              "    }\n",
              "</style>\n",
              "<table border=\"1\" class=\"dataframe\">\n",
              "  <thead>\n",
              "    <tr style=\"text-align: right;\">\n",
              "      <th></th>\n",
              "      <th>frequency</th>\n",
              "    </tr>\n",
              "  </thead>\n",
              "  <tbody>\n",
              "    <tr>\n",
              "      <th>__</th>\n",
              "      <td>9</td>\n",
              "    </tr>\n",
              "    <tr>\n",
              "      <th>__ __</th>\n",
              "      <td>2</td>\n",
              "    </tr>\n",
              "    <tr>\n",
              "      <th>__ __ __</th>\n",
              "      <td>1</td>\n",
              "    </tr>\n",
              "    <tr>\n",
              "      <th>__ __ days</th>\n",
              "      <td>1</td>\n",
              "    </tr>\n",
              "    <tr>\n",
              "      <th>__ am</th>\n",
              "      <td>4</td>\n",
              "    </tr>\n",
              "    <tr>\n",
              "      <th>__ am et</th>\n",
              "      <td>3</td>\n",
              "    </tr>\n",
              "    <tr>\n",
              "      <th>__ am on</th>\n",
              "      <td>1</td>\n",
              "    </tr>\n",
              "    <tr>\n",
              "      <th>__ cert</th>\n",
              "      <td>1</td>\n",
              "    </tr>\n",
              "    <tr>\n",
              "      <th>__ cert started</th>\n",
              "      <td>1</td>\n",
              "    </tr>\n",
              "    <tr>\n",
              "      <th>__ days</th>\n",
              "      <td>1</td>\n",
              "    </tr>\n",
              "    <tr>\n",
              "      <th>__ days notice</th>\n",
              "      <td>1</td>\n",
              "    </tr>\n",
              "    <tr>\n",
              "      <th>__ laptops</th>\n",
              "      <td>1</td>\n",
              "    </tr>\n",
              "    <tr>\n",
              "      <th>__ laptops can</th>\n",
              "      <td>1</td>\n",
              "    </tr>\n",
              "    <tr>\n",
              "      <th>___</th>\n",
              "      <td>10</td>\n",
              "    </tr>\n",
              "    <tr>\n",
              "      <th>___ am</th>\n",
              "      <td>6</td>\n",
              "    </tr>\n",
              "    <tr>\n",
              "      <th>___ am et</th>\n",
              "      <td>4</td>\n",
              "    </tr>\n",
              "    <tr>\n",
              "      <th>___ am et_______________</th>\n",
              "      <td>1</td>\n",
              "    </tr>\n",
              "    <tr>\n",
              "      <th>___ am et__________________</th>\n",
              "      <td>1</td>\n",
              "    </tr>\n",
              "    <tr>\n",
              "      <th>___ at</th>\n",
              "      <td>1</td>\n",
              "    </tr>\n",
              "    <tr>\n",
              "      <th>___ at am</th>\n",
              "      <td>1</td>\n",
              "    </tr>\n",
              "    <tr>\n",
              "      <th>___ pm</th>\n",
              "      <td>3</td>\n",
              "    </tr>\n",
              "    <tr>\n",
              "      <th>___ pm et</th>\n",
              "      <td>3</td>\n",
              "    </tr>\n",
              "    <tr>\n",
              "      <th>____</th>\n",
              "      <td>15</td>\n",
              "    </tr>\n",
              "    <tr>\n",
              "      <th>____ am</th>\n",
              "      <td>9</td>\n",
              "    </tr>\n",
              "    <tr>\n",
              "      <th>____ am at</th>\n",
              "      <td>1</td>\n",
              "    </tr>\n",
              "    <tr>\n",
              "      <th>____ am et</th>\n",
              "      <td>8</td>\n",
              "    </tr>\n",
              "    <tr>\n",
              "      <th>____ backup</th>\n",
              "      <td>1</td>\n",
              "    </tr>\n",
              "    <tr>\n",
              "      <th>____ backup circuit</th>\n",
              "      <td>1</td>\n",
              "    </tr>\n",
              "    <tr>\n",
              "      <th>____ outlook</th>\n",
              "      <td>1</td>\n",
              "    </tr>\n",
              "    <tr>\n",
              "      <th>____ outlook ____</th>\n",
              "      <td>1</td>\n",
              "    </tr>\n",
              "    <tr>\n",
              "      <th>____ pm</th>\n",
              "      <td>3</td>\n",
              "    </tr>\n",
              "    <tr>\n",
              "      <th>____ pm et</th>\n",
              "      <td>2</td>\n",
              "    </tr>\n",
              "    <tr>\n",
              "      <th>____ pm on</th>\n",
              "      <td>1</td>\n",
              "    </tr>\n",
              "    <tr>\n",
              "      <th>____ the</th>\n",
              "      <td>1</td>\n",
              "    </tr>\n",
              "    <tr>\n",
              "      <th>____ the following</th>\n",
              "      <td>1</td>\n",
              "    </tr>\n",
              "    <tr>\n",
              "      <th>_____</th>\n",
              "      <td>10</td>\n",
              "    </tr>\n",
              "    <tr>\n",
              "      <th>_____ am</th>\n",
              "      <td>7</td>\n",
              "    </tr>\n",
              "    <tr>\n",
              "      <th>_____ am et</th>\n",
              "      <td>5</td>\n",
              "    </tr>\n",
              "    <tr>\n",
              "      <th>_____ am et________________</th>\n",
              "      <td>1</td>\n",
              "    </tr>\n",
              "    <tr>\n",
              "      <th>_____ am on</th>\n",
              "      <td>1</td>\n",
              "    </tr>\n",
              "    <tr>\n",
              "      <th>_____ amet</th>\n",
              "      <td>1</td>\n",
              "    </tr>\n",
              "    <tr>\n",
              "      <th>_____ amet on</th>\n",
              "      <td>1</td>\n",
              "    </tr>\n",
              "    <tr>\n",
              "      <th>_____ pm</th>\n",
              "      <td>2</td>\n",
              "    </tr>\n",
              "    <tr>\n",
              "      <th>_____ pm et</th>\n",
              "      <td>2</td>\n",
              "    </tr>\n",
              "    <tr>\n",
              "      <th>______</th>\n",
              "      <td>27</td>\n",
              "    </tr>\n",
              "    <tr>\n",
              "      <th>______ am</th>\n",
              "      <td>16</td>\n",
              "    </tr>\n",
              "    <tr>\n",
              "      <th>______ am et</th>\n",
              "      <td>15</td>\n",
              "    </tr>\n",
              "    <tr>\n",
              "      <th>______ am on</th>\n",
              "      <td>1</td>\n",
              "    </tr>\n",
              "    <tr>\n",
              "      <th>______ at</th>\n",
              "      <td>1</td>\n",
              "    </tr>\n",
              "    <tr>\n",
              "      <th>______ at am</th>\n",
              "      <td>1</td>\n",
              "    </tr>\n",
              "  </tbody>\n",
              "</table>\n",
              "</div>\n",
              "      <button class=\"colab-df-convert\" onclick=\"convertToInteractive('df-d7825c01-27f3-4f68-8a47-38de2178d5fd')\"\n",
              "              title=\"Convert this dataframe to an interactive table.\"\n",
              "              style=\"display:none;\">\n",
              "        \n",
              "  <svg xmlns=\"http://www.w3.org/2000/svg\" height=\"24px\"viewBox=\"0 0 24 24\"\n",
              "       width=\"24px\">\n",
              "    <path d=\"M0 0h24v24H0V0z\" fill=\"none\"/>\n",
              "    <path d=\"M18.56 5.44l.94 2.06.94-2.06 2.06-.94-2.06-.94-.94-2.06-.94 2.06-2.06.94zm-11 1L8.5 8.5l.94-2.06 2.06-.94-2.06-.94L8.5 2.5l-.94 2.06-2.06.94zm10 10l.94 2.06.94-2.06 2.06-.94-2.06-.94-.94-2.06-.94 2.06-2.06.94z\"/><path d=\"M17.41 7.96l-1.37-1.37c-.4-.4-.92-.59-1.43-.59-.52 0-1.04.2-1.43.59L10.3 9.45l-7.72 7.72c-.78.78-.78 2.05 0 2.83L4 21.41c.39.39.9.59 1.41.59.51 0 1.02-.2 1.41-.59l7.78-7.78 2.81-2.81c.8-.78.8-2.07 0-2.86zM5.41 20L4 18.59l7.72-7.72 1.47 1.35L5.41 20z\"/>\n",
              "  </svg>\n",
              "      </button>\n",
              "      \n",
              "  <style>\n",
              "    .colab-df-container {\n",
              "      display:flex;\n",
              "      flex-wrap:wrap;\n",
              "      gap: 12px;\n",
              "    }\n",
              "\n",
              "    .colab-df-convert {\n",
              "      background-color: #E8F0FE;\n",
              "      border: none;\n",
              "      border-radius: 50%;\n",
              "      cursor: pointer;\n",
              "      display: none;\n",
              "      fill: #1967D2;\n",
              "      height: 32px;\n",
              "      padding: 0 0 0 0;\n",
              "      width: 32px;\n",
              "    }\n",
              "\n",
              "    .colab-df-convert:hover {\n",
              "      background-color: #E2EBFA;\n",
              "      box-shadow: 0px 1px 2px rgba(60, 64, 67, 0.3), 0px 1px 3px 1px rgba(60, 64, 67, 0.15);\n",
              "      fill: #174EA6;\n",
              "    }\n",
              "\n",
              "    [theme=dark] .colab-df-convert {\n",
              "      background-color: #3B4455;\n",
              "      fill: #D2E3FC;\n",
              "    }\n",
              "\n",
              "    [theme=dark] .colab-df-convert:hover {\n",
              "      background-color: #434B5C;\n",
              "      box-shadow: 0px 1px 3px 1px rgba(0, 0, 0, 0.15);\n",
              "      filter: drop-shadow(0px 1px 2px rgba(0, 0, 0, 0.3));\n",
              "      fill: #FFFFFF;\n",
              "    }\n",
              "  </style>\n",
              "\n",
              "      <script>\n",
              "        const buttonEl =\n",
              "          document.querySelector('#df-d7825c01-27f3-4f68-8a47-38de2178d5fd button.colab-df-convert');\n",
              "        buttonEl.style.display =\n",
              "          google.colab.kernel.accessAllowed ? 'block' : 'none';\n",
              "\n",
              "        async function convertToInteractive(key) {\n",
              "          const element = document.querySelector('#df-d7825c01-27f3-4f68-8a47-38de2178d5fd');\n",
              "          const dataTable =\n",
              "            await google.colab.kernel.invokeFunction('convertToInteractive',\n",
              "                                                     [key], {});\n",
              "          if (!dataTable) return;\n",
              "\n",
              "          const docLinkHtml = 'Like what you see? Visit the ' +\n",
              "            '<a target=\"_blank\" href=https://colab.research.google.com/notebooks/data_table.ipynb>data table notebook</a>'\n",
              "            + ' to learn more about interactive tables.';\n",
              "          element.innerHTML = '';\n",
              "          dataTable['output_type'] = 'display_data';\n",
              "          await google.colab.output.renderOutput(dataTable, element);\n",
              "          const docLink = document.createElement('div');\n",
              "          docLink.innerHTML = docLinkHtml;\n",
              "          element.appendChild(docLink);\n",
              "        }\n",
              "      </script>\n",
              "    </div>\n",
              "  </div>\n",
              "  "
            ],
            "text/plain": [
              "                             frequency\n",
              "__                                   9\n",
              "__ __                                2\n",
              "__ __ __                             1\n",
              "__ __ days                           1\n",
              "__ am                                4\n",
              "__ am et                             3\n",
              "__ am on                             1\n",
              "__ cert                              1\n",
              "__ cert started                      1\n",
              "__ days                              1\n",
              "__ days notice                       1\n",
              "__ laptops                           1\n",
              "__ laptops can                       1\n",
              "___                                 10\n",
              "___ am                               6\n",
              "___ am et                            4\n",
              "___ am et_______________             1\n",
              "___ am et__________________          1\n",
              "___ at                               1\n",
              "___ at am                            1\n",
              "___ pm                               3\n",
              "___ pm et                            3\n",
              "____                                15\n",
              "____ am                              9\n",
              "____ am at                           1\n",
              "____ am et                           8\n",
              "____ backup                          1\n",
              "____ backup circuit                  1\n",
              "____ outlook                         1\n",
              "____ outlook ____                    1\n",
              "____ pm                              3\n",
              "____ pm et                           2\n",
              "____ pm on                           1\n",
              "____ the                             1\n",
              "____ the following                   1\n",
              "_____                               10\n",
              "_____ am                             7\n",
              "_____ am et                          5\n",
              "_____ am et________________          1\n",
              "_____ am on                          1\n",
              "_____ amet                           1\n",
              "_____ amet on                        1\n",
              "_____ pm                             2\n",
              "_____ pm et                          2\n",
              "______                              27\n",
              "______ am                           16\n",
              "______ am et                        15\n",
              "______ am on                         1\n",
              "______ at                            1\n",
              "______ at am                         1"
            ]
          },
          "metadata": {},
          "execution_count": 99
        }
      ],
      "source": [
        "from sklearn.feature_extraction.text import CountVectorizer\n",
        "word_vectorizer = CountVectorizer(ngram_range=(1,3), analyzer='word')\n",
        "sparse_matrix = word_vectorizer.fit_transform(ata_data['desc_analysis'])\n",
        "frequencies = sum(sparse_matrix).toarray()[0]\n",
        "pd.DataFrame(frequencies, index=word_vectorizer.get_feature_names(), columns=['frequency'])[0:50]"
      ]
    },
    {
      "cell_type": "code",
      "execution_count": 100,
      "metadata": {
        "colab": {
          "base_uri": "https://localhost:8080/",
          "height": 1000
        },
        "id": "JOSpuhnHZQHW",
        "outputId": "9e320be9-dc97-4941-d02a-e0914f695e07"
      },
      "outputs": [
        {
          "output_type": "execute_result",
          "data": {
            "text/html": [
              "\n",
              "  <div id=\"df-5afab01c-024b-4db6-ae19-a7ff3b5ea7b2\">\n",
              "    <div class=\"colab-df-container\">\n",
              "      <div>\n",
              "<style scoped>\n",
              "    .dataframe tbody tr th:only-of-type {\n",
              "        vertical-align: middle;\n",
              "    }\n",
              "\n",
              "    .dataframe tbody tr th {\n",
              "        vertical-align: top;\n",
              "    }\n",
              "\n",
              "    .dataframe thead th {\n",
              "        text-align: right;\n",
              "    }\n",
              "</style>\n",
              "<table border=\"1\" class=\"dataframe\">\n",
              "  <thead>\n",
              "    <tr style=\"text-align: right;\">\n",
              "      <th></th>\n",
              "      <th>Short description</th>\n",
              "      <th>Description</th>\n",
              "      <th>Caller</th>\n",
              "      <th>Assignment group</th>\n",
              "      <th>short_desc_analysis</th>\n",
              "      <th>desc_analysis</th>\n",
              "      <th>mail_received_from</th>\n",
              "      <th>mail_subject_mentioned</th>\n",
              "      <th>number_of_words_short_desc</th>\n",
              "      <th>number_of_char_short_desc</th>\n",
              "      <th>number_of_punctuations_short_desc</th>\n",
              "      <th>number_of_stop_words_short_desc</th>\n",
              "      <th>number_of_words_desc</th>\n",
              "      <th>number_of_char_desc</th>\n",
              "      <th>number_of_punctuations_desc</th>\n",
              "      <th>number_of_stop_words_desc</th>\n",
              "    </tr>\n",
              "  </thead>\n",
              "  <tbody>\n",
              "    <tr>\n",
              "      <th>50</th>\n",
              "      <td>job mm_zscr0099_dly_merktc3 failed in job_scheduler at: 10/31/2016 08:36:00</td>\n",
              "      <td>received from: monitoring_tool@company.com\\r\\n\\r\\njob mm_zscr0099_dly_merktc3 failed in job_scheduler at: 10/31/2016 08:36:00</td>\n",
              "      <td>bpctwhsn kzqsbmtp</td>\n",
              "      <td>GRP_8</td>\n",
              "      <td>job mm_zscr_dly_merktc failed in job_scheduler</td>\n",
              "      <td>job mm_zscr_dly_merktc failed in job_scheduler</td>\n",
              "      <td>monitoring_tool@company.com</td>\n",
              "      <td>No Match</td>\n",
              "      <td>5</td>\n",
              "      <td>46</td>\n",
              "      <td>4</td>\n",
              "      <td>1</td>\n",
              "      <td>5</td>\n",
              "      <td>46</td>\n",
              "      <td>4</td>\n",
              "      <td>1</td>\n",
              "    </tr>\n",
              "    <tr>\n",
              "      <th>59</th>\n",
              "      <td>job mm_zscr0099_dly_merktc2 failed in job_scheduler at: 10/31/2016 05:19:00</td>\n",
              "      <td>received from: monitoring_tool@company.com\\r\\n\\r\\njob mm_zscr0099_dly_merktc2 failed in job_scheduler at: 10/31/2016 05:19:00</td>\n",
              "      <td>bpctwhsn kzqsbmtp</td>\n",
              "      <td>GRP_8</td>\n",
              "      <td>job mm_zscr_dly_merktc failed in job_scheduler</td>\n",
              "      <td>job mm_zscr_dly_merktc failed in job_scheduler</td>\n",
              "      <td>monitoring_tool@company.com</td>\n",
              "      <td>No Match</td>\n",
              "      <td>5</td>\n",
              "      <td>46</td>\n",
              "      <td>4</td>\n",
              "      <td>1</td>\n",
              "      <td>5</td>\n",
              "      <td>46</td>\n",
              "      <td>4</td>\n",
              "      <td>1</td>\n",
              "    </tr>\n",
              "    <tr>\n",
              "      <th>60</th>\n",
              "      <td>job Job_3181 failed in job_scheduler at: 10/31/2016 05:00:00</td>\n",
              "      <td>received from: monitoring_tool@company.com\\r\\n\\r\\njob Job_3181 failed in job_scheduler at: 10/31/2016 05:00:00</td>\n",
              "      <td>bpctwhsn kzqsbmtp</td>\n",
              "      <td>GRP_8</td>\n",
              "      <td>job job_ failed in job_scheduler</td>\n",
              "      <td>job job_ failed in job_scheduler</td>\n",
              "      <td>monitoring_tool@company.com</td>\n",
              "      <td>No Match</td>\n",
              "      <td>5</td>\n",
              "      <td>32</td>\n",
              "      <td>2</td>\n",
              "      <td>1</td>\n",
              "      <td>5</td>\n",
              "      <td>32</td>\n",
              "      <td>2</td>\n",
              "      <td>1</td>\n",
              "    </tr>\n",
              "    <tr>\n",
              "      <th>64</th>\n",
              "      <td>apac company : two switches are down since 3.45 am et on 10/31.</td>\n",
              "      <td>apac company : two switches are down since 3.45 am et on 10/31.\\r\\n\\r\\ncompany-ap-chn-apac-company-2960-access-sw04 \\r\\ncompany-ap-chn-apac-company-2960-access-sw03.</td>\n",
              "      <td>utyeofsk rdyzpwhi</td>\n",
              "      <td>GRP_8</td>\n",
              "      <td>apac company : two switches are down since . am et on /.</td>\n",
              "      <td>apac company : two switches are down since . am et on /.  company-ap-chn-apac-company--access-sw  company-ap-chn-apac-company--access-sw.</td>\n",
              "      <td>No Match</td>\n",
              "      <td>No Match</td>\n",
              "      <td>13</td>\n",
              "      <td>56</td>\n",
              "      <td>4</td>\n",
              "      <td>4</td>\n",
              "      <td>15</td>\n",
              "      <td>137</td>\n",
              "      <td>19</td>\n",
              "      <td>4</td>\n",
              "    </tr>\n",
              "    <tr>\n",
              "      <th>68</th>\n",
              "      <td>job Job_1854 failed in job_scheduler at: 10/31/2016 01:36:00</td>\n",
              "      <td>received from: monitoring_tool@company.com\\r\\n\\r\\njob Job_1854 failed in job_scheduler at: 10/31/2016 01:36:00</td>\n",
              "      <td>bpctwhsn kzqsbmtp</td>\n",
              "      <td>GRP_8</td>\n",
              "      <td>job job_ failed in job_scheduler</td>\n",
              "      <td>job job_ failed in job_scheduler</td>\n",
              "      <td>monitoring_tool@company.com</td>\n",
              "      <td>No Match</td>\n",
              "      <td>5</td>\n",
              "      <td>32</td>\n",
              "      <td>2</td>\n",
              "      <td>1</td>\n",
              "      <td>5</td>\n",
              "      <td>32</td>\n",
              "      <td>2</td>\n",
              "      <td>1</td>\n",
              "    </tr>\n",
              "    <tr>\n",
              "      <th>...</th>\n",
              "      <td>...</td>\n",
              "      <td>...</td>\n",
              "      <td>...</td>\n",
              "      <td>...</td>\n",
              "      <td>...</td>\n",
              "      <td>...</td>\n",
              "      <td>...</td>\n",
              "      <td>...</td>\n",
              "      <td>...</td>\n",
              "      <td>...</td>\n",
              "      <td>...</td>\n",
              "      <td>...</td>\n",
              "      <td>...</td>\n",
              "      <td>...</td>\n",
              "      <td>...</td>\n",
              "      <td>...</td>\n",
              "    </tr>\n",
              "    <tr>\n",
              "      <th>8442</th>\n",
              "      <td>abended job in job_scheduler: Job_481</td>\n",
              "      <td>received from: monitoring_tool@company.com\\r\\n\\r\\n abended job in job_scheduler: Job_481 at 08/05/16 04:03:26</td>\n",
              "      <td>ZkBogxib QsEJzdZO</td>\n",
              "      <td>GRP_8</td>\n",
              "      <td>abended job in job_scheduler: job_</td>\n",
              "      <td>abended job in job_scheduler: job_ at // ::</td>\n",
              "      <td>monitoring_tool@company.com</td>\n",
              "      <td>No Match</td>\n",
              "      <td>5</td>\n",
              "      <td>34</td>\n",
              "      <td>3</td>\n",
              "      <td>1</td>\n",
              "      <td>8</td>\n",
              "      <td>43</td>\n",
              "      <td>7</td>\n",
              "      <td>2</td>\n",
              "    </tr>\n",
              "    <tr>\n",
              "      <th>8448</th>\n",
              "      <td>abended job in job_scheduler: Job_483</td>\n",
              "      <td>received from: monitoring_tool@company.com\\r\\n\\r\\n abended job in job_scheduler: Job_483 at 08/05/16 03:34:26</td>\n",
              "      <td>ZkBogxib QsEJzdZO</td>\n",
              "      <td>GRP_8</td>\n",
              "      <td>abended job in job_scheduler: job_</td>\n",
              "      <td>abended job in job_scheduler: job_ at // ::</td>\n",
              "      <td>monitoring_tool@company.com</td>\n",
              "      <td>No Match</td>\n",
              "      <td>5</td>\n",
              "      <td>34</td>\n",
              "      <td>3</td>\n",
              "      <td>1</td>\n",
              "      <td>8</td>\n",
              "      <td>43</td>\n",
              "      <td>7</td>\n",
              "      <td>2</td>\n",
              "    </tr>\n",
              "    <tr>\n",
              "      <th>8461</th>\n",
              "      <td>reboot lhqsm286 (patent web uacyltoe hxgaycze server) server at 11:00 pm et on 08/04.</td>\n",
              "      <td>reboot lhqsm286 (patent web uacyltoe hxgaycze server) server at 11:00 pm et on 08/04.</td>\n",
              "      <td>uvrbhlnt bjrmalzi</td>\n",
              "      <td>GRP_8</td>\n",
              "      <td>reboot lhqsm (patent web uacyltoe hxgaycze server) server at : pm et on /.</td>\n",
              "      <td>reboot lhqsm (patent web uacyltoe hxgaycze server) server at : pm et on /.</td>\n",
              "      <td>No Match</td>\n",
              "      <td>No Match</td>\n",
              "      <td>14</td>\n",
              "      <td>74</td>\n",
              "      <td>5</td>\n",
              "      <td>2</td>\n",
              "      <td>14</td>\n",
              "      <td>74</td>\n",
              "      <td>5</td>\n",
              "      <td>2</td>\n",
              "    </tr>\n",
              "    <tr>\n",
              "      <th>8466</th>\n",
              "      <td>abended job in job_scheduler: bkwin_HostName_770_inc</td>\n",
              "      <td>received from: monitoring_tool@company.com\\r\\n\\r\\n abended job in job_scheduler: bkwin_HostName_770_inc at 08/04/16 22:30:29</td>\n",
              "      <td>ZkBogxib QsEJzdZO</td>\n",
              "      <td>GRP_8</td>\n",
              "      <td>abended job in job_scheduler: bkwin_hostname__inc</td>\n",
              "      <td>abended job in job_scheduler: bkwin_hostname__inc at // ::</td>\n",
              "      <td>monitoring_tool@company.com</td>\n",
              "      <td>No Match</td>\n",
              "      <td>5</td>\n",
              "      <td>49</td>\n",
              "      <td>5</td>\n",
              "      <td>1</td>\n",
              "      <td>8</td>\n",
              "      <td>58</td>\n",
              "      <td>9</td>\n",
              "      <td>2</td>\n",
              "    </tr>\n",
              "    <tr>\n",
              "      <th>8482</th>\n",
              "      <td>robot HostName_776 is inactive</td>\n",
              "      <td>robot HostName_776 is inactive</td>\n",
              "      <td>rkupnshb gsmzfojw</td>\n",
              "      <td>GRP_8</td>\n",
              "      <td>robot hostname_ is inactive</td>\n",
              "      <td>robot hostname_ is inactive</td>\n",
              "      <td>No Match</td>\n",
              "      <td>No Match</td>\n",
              "      <td>4</td>\n",
              "      <td>27</td>\n",
              "      <td>1</td>\n",
              "      <td>1</td>\n",
              "      <td>4</td>\n",
              "      <td>27</td>\n",
              "      <td>1</td>\n",
              "      <td>1</td>\n",
              "    </tr>\n",
              "  </tbody>\n",
              "</table>\n",
              "<p>645 rows × 16 columns</p>\n",
              "</div>\n",
              "      <button class=\"colab-df-convert\" onclick=\"convertToInteractive('df-5afab01c-024b-4db6-ae19-a7ff3b5ea7b2')\"\n",
              "              title=\"Convert this dataframe to an interactive table.\"\n",
              "              style=\"display:none;\">\n",
              "        \n",
              "  <svg xmlns=\"http://www.w3.org/2000/svg\" height=\"24px\"viewBox=\"0 0 24 24\"\n",
              "       width=\"24px\">\n",
              "    <path d=\"M0 0h24v24H0V0z\" fill=\"none\"/>\n",
              "    <path d=\"M18.56 5.44l.94 2.06.94-2.06 2.06-.94-2.06-.94-.94-2.06-.94 2.06-2.06.94zm-11 1L8.5 8.5l.94-2.06 2.06-.94-2.06-.94L8.5 2.5l-.94 2.06-2.06.94zm10 10l.94 2.06.94-2.06 2.06-.94-2.06-.94-.94-2.06-.94 2.06-2.06.94z\"/><path d=\"M17.41 7.96l-1.37-1.37c-.4-.4-.92-.59-1.43-.59-.52 0-1.04.2-1.43.59L10.3 9.45l-7.72 7.72c-.78.78-.78 2.05 0 2.83L4 21.41c.39.39.9.59 1.41.59.51 0 1.02-.2 1.41-.59l7.78-7.78 2.81-2.81c.8-.78.8-2.07 0-2.86zM5.41 20L4 18.59l7.72-7.72 1.47 1.35L5.41 20z\"/>\n",
              "  </svg>\n",
              "      </button>\n",
              "      \n",
              "  <style>\n",
              "    .colab-df-container {\n",
              "      display:flex;\n",
              "      flex-wrap:wrap;\n",
              "      gap: 12px;\n",
              "    }\n",
              "\n",
              "    .colab-df-convert {\n",
              "      background-color: #E8F0FE;\n",
              "      border: none;\n",
              "      border-radius: 50%;\n",
              "      cursor: pointer;\n",
              "      display: none;\n",
              "      fill: #1967D2;\n",
              "      height: 32px;\n",
              "      padding: 0 0 0 0;\n",
              "      width: 32px;\n",
              "    }\n",
              "\n",
              "    .colab-df-convert:hover {\n",
              "      background-color: #E2EBFA;\n",
              "      box-shadow: 0px 1px 2px rgba(60, 64, 67, 0.3), 0px 1px 3px 1px rgba(60, 64, 67, 0.15);\n",
              "      fill: #174EA6;\n",
              "    }\n",
              "\n",
              "    [theme=dark] .colab-df-convert {\n",
              "      background-color: #3B4455;\n",
              "      fill: #D2E3FC;\n",
              "    }\n",
              "\n",
              "    [theme=dark] .colab-df-convert:hover {\n",
              "      background-color: #434B5C;\n",
              "      box-shadow: 0px 1px 3px 1px rgba(0, 0, 0, 0.15);\n",
              "      filter: drop-shadow(0px 1px 2px rgba(0, 0, 0, 0.3));\n",
              "      fill: #FFFFFF;\n",
              "    }\n",
              "  </style>\n",
              "\n",
              "      <script>\n",
              "        const buttonEl =\n",
              "          document.querySelector('#df-5afab01c-024b-4db6-ae19-a7ff3b5ea7b2 button.colab-df-convert');\n",
              "        buttonEl.style.display =\n",
              "          google.colab.kernel.accessAllowed ? 'block' : 'none';\n",
              "\n",
              "        async function convertToInteractive(key) {\n",
              "          const element = document.querySelector('#df-5afab01c-024b-4db6-ae19-a7ff3b5ea7b2');\n",
              "          const dataTable =\n",
              "            await google.colab.kernel.invokeFunction('convertToInteractive',\n",
              "                                                     [key], {});\n",
              "          if (!dataTable) return;\n",
              "\n",
              "          const docLinkHtml = 'Like what you see? Visit the ' +\n",
              "            '<a target=\"_blank\" href=https://colab.research.google.com/notebooks/data_table.ipynb>data table notebook</a>'\n",
              "            + ' to learn more about interactive tables.';\n",
              "          element.innerHTML = '';\n",
              "          dataTable['output_type'] = 'display_data';\n",
              "          await google.colab.output.renderOutput(dataTable, element);\n",
              "          const docLink = document.createElement('div');\n",
              "          docLink.innerHTML = docLinkHtml;\n",
              "          element.appendChild(docLink);\n",
              "        }\n",
              "      </script>\n",
              "    </div>\n",
              "  </div>\n",
              "  "
            ],
            "text/plain": [
              "                                                                          Short description  ... number_of_stop_words_desc\n",
              "50            job mm_zscr0099_dly_merktc3 failed in job_scheduler at: 10/31/2016 08:36:00    ...                         1\n",
              "59            job mm_zscr0099_dly_merktc2 failed in job_scheduler at: 10/31/2016 05:19:00    ...                         1\n",
              "60                           job Job_3181 failed in job_scheduler at: 10/31/2016 05:00:00    ...                         1\n",
              "64                          apac company : two switches are down since 3.45 am et on 10/31.  ...                         4\n",
              "68                           job Job_1854 failed in job_scheduler at: 10/31/2016 01:36:00    ...                         1\n",
              "...                                                                                     ...  ...                       ...\n",
              "8442                                                  abended job in job_scheduler: Job_481  ...                         2\n",
              "8448                                                  abended job in job_scheduler: Job_483  ...                         2\n",
              "8461  reboot lhqsm286 (patent web uacyltoe hxgaycze server) server at 11:00 pm et on 08/04.  ...                         2\n",
              "8466                                   abended job in job_scheduler: bkwin_HostName_770_inc  ...                         2\n",
              "8482                                                         robot HostName_776 is inactive  ...                         1\n",
              "\n",
              "[645 rows x 16 columns]"
            ]
          },
          "metadata": {},
          "execution_count": 100
        }
      ],
      "source": [
        "ata_data[ata_data['Assignment group'] =='GRP_8']"
      ]
    },
    {
      "cell_type": "code",
      "execution_count": 101,
      "metadata": {
        "colab": {
          "base_uri": "https://localhost:8080/"
        },
        "id": "8av-nk1hZQJ0",
        "outputId": "67aa6f24-9ae6-46bf-9734-0cc278352675"
      },
      "outputs": [
        {
          "output_type": "stream",
          "name": "stdout",
          "text": [
            "<class 'pandas.core.frame.DataFrame'>\n",
            "Int64Index: 8417 entries, 0 to 8499\n",
            "Data columns (total 16 columns):\n",
            " #   Column                             Non-Null Count  Dtype \n",
            "---  ------                             --------------  ----- \n",
            " 0   Short description                  8409 non-null   object\n",
            " 1   Description                        8416 non-null   object\n",
            " 2   Caller                             8417 non-null   object\n",
            " 3   Assignment group                   8417 non-null   object\n",
            " 4   short_desc_analysis                8417 non-null   object\n",
            " 5   desc_analysis                      8417 non-null   object\n",
            " 6   mail_received_from                 8417 non-null   object\n",
            " 7   mail_subject_mentioned             8417 non-null   object\n",
            " 8   number_of_words_short_desc         8417 non-null   int64 \n",
            " 9   number_of_char_short_desc          8417 non-null   int64 \n",
            " 10  number_of_punctuations_short_desc  8417 non-null   int64 \n",
            " 11  number_of_stop_words_short_desc    8417 non-null   int64 \n",
            " 12  number_of_words_desc               8417 non-null   int64 \n",
            " 13  number_of_char_desc                8417 non-null   int64 \n",
            " 14  number_of_punctuations_desc        8417 non-null   int64 \n",
            " 15  number_of_stop_words_desc          8417 non-null   int64 \n",
            "dtypes: int64(8), object(8)\n",
            "memory usage: 1.4+ MB\n"
          ]
        }
      ],
      "source": [
        "ata_data.info()"
      ]
    },
    {
      "cell_type": "code",
      "execution_count": 102,
      "metadata": {
        "colab": {
          "base_uri": "https://localhost:8080/"
        },
        "id": "GemubNiIZQMV",
        "outputId": "9709b37d-8a87-4fca-f3e4-5eb1179929de"
      },
      "outputs": [
        {
          "output_type": "execute_result",
          "data": {
            "text/plain": [
              "42.42746821908043"
            ]
          },
          "metadata": {},
          "execution_count": 102
        }
      ],
      "source": [
        "ata_data['number_of_char_short_desc'].mean()"
      ]
    },
    {
      "cell_type": "code",
      "execution_count": 103,
      "metadata": {
        "colab": {
          "base_uri": "https://localhost:8080/"
        },
        "id": "l8OuIdARZQRL",
        "outputId": "7c2c9be4-37a0-47a3-dd38-855aa8172246"
      },
      "outputs": [
        {
          "output_type": "execute_result",
          "data": {
            "text/plain": [
              "161"
            ]
          },
          "metadata": {},
          "execution_count": 103
        }
      ],
      "source": [
        "ata_data['number_of_char_short_desc'].max()"
      ]
    },
    {
      "cell_type": "code",
      "execution_count": 104,
      "metadata": {
        "colab": {
          "base_uri": "https://localhost:8080/"
        },
        "id": "htv7JjaGZQUD",
        "outputId": "1f15cde5-de92-4c9e-d501-4eff345bade7"
      },
      "outputs": [
        {
          "output_type": "execute_result",
          "data": {
            "text/plain": [
              "0"
            ]
          },
          "metadata": {},
          "execution_count": 104
        }
      ],
      "source": [
        "ata_data['number_of_char_short_desc'].min()"
      ]
    },
    {
      "cell_type": "markdown",
      "metadata": {
        "id": "WyWIZHp6kDCp"
      },
      "source": [
        "For Short description, the average number of char per statement is 42.  Maximum number of characters is 161"
      ]
    },
    {
      "cell_type": "code",
      "execution_count": 105,
      "metadata": {
        "colab": {
          "base_uri": "https://localhost:8080/"
        },
        "id": "W-QJbTwRhLWX",
        "outputId": "66ec6bfa-63f9-4957-b799-5ee4300c1947"
      },
      "outputs": [
        {
          "output_type": "execute_result",
          "data": {
            "text/plain": [
              "153.81335392657718"
            ]
          },
          "metadata": {},
          "execution_count": 105
        }
      ],
      "source": [
        "ata_data['number_of_char_desc'].mean()"
      ]
    },
    {
      "cell_type": "code",
      "execution_count": 106,
      "metadata": {
        "colab": {
          "base_uri": "https://localhost:8080/"
        },
        "id": "0CYlO7L_hLaD",
        "outputId": "7a74760c-7250-4389-b887-06fe6e60ee3a"
      },
      "outputs": [
        {
          "output_type": "execute_result",
          "data": {
            "text/plain": [
              "7726"
            ]
          },
          "metadata": {},
          "execution_count": 106
        }
      ],
      "source": [
        "ata_data['number_of_char_desc'].max()"
      ]
    },
    {
      "cell_type": "code",
      "execution_count": 107,
      "metadata": {
        "colab": {
          "base_uri": "https://localhost:8080/"
        },
        "id": "acyP5RzAhLeR",
        "outputId": "c057f03e-f2ef-42b1-9d47-3b6ea6027830"
      },
      "outputs": [
        {
          "output_type": "execute_result",
          "data": {
            "text/plain": [
              "0"
            ]
          },
          "metadata": {},
          "execution_count": 107
        }
      ],
      "source": [
        "ata_data['number_of_char_desc'].min()"
      ]
    },
    {
      "cell_type": "markdown",
      "metadata": {
        "id": "ZEqPlEYgkQ-P"
      },
      "source": [
        "For Long description, the average number of char per statement is 154.  Maximum number of characters is 7726"
      ]
    },
    {
      "cell_type": "markdown",
      "metadata": {
        "id": "CjtzicZYkgY6"
      },
      "source": [
        "Based on length of sentences, considering using LSTM with Short Description"
      ]
    },
    {
      "cell_type": "code",
      "execution_count": 108,
      "metadata": {
        "colab": {
          "base_uri": "https://localhost:8080/"
        },
        "id": "rWNrhU6Unsg8",
        "outputId": "77c53360-d17c-4aa7-f30b-7fcc58cb5f82"
      },
      "outputs": [
        {
          "output_type": "execute_result",
          "data": {
            "text/plain": [
              "56877"
            ]
          },
          "metadata": {},
          "execution_count": 108
        }
      ],
      "source": [
        "ata_data['number_of_words_short_desc'].sum()"
      ]
    },
    {
      "cell_type": "code",
      "source": [
        ""
      ],
      "metadata": {
        "id": "xTYDNIQW7TWw"
      },
      "execution_count": 108,
      "outputs": []
    },
    {
      "cell_type": "code",
      "source": [
        ""
      ],
      "metadata": {
        "id": "Q2AQvLGN7Tab"
      },
      "execution_count": 108,
      "outputs": []
    },
    {
      "cell_type": "code",
      "source": [
        ""
      ],
      "metadata": {
        "id": "NnmUwNhO7Te6"
      },
      "execution_count": 108,
      "outputs": []
    },
    {
      "cell_type": "code",
      "execution_count": 109,
      "metadata": {
        "id": "Lh3Lp2IWhLhU"
      },
      "outputs": [],
      "source": [
        "short_desc_length_to_filter = 150"
      ]
    },
    {
      "cell_type": "code",
      "execution_count": 110,
      "metadata": {
        "id": "dbSIBwztnZ19"
      },
      "outputs": [],
      "source": [
        "short_desc_embedding_size=50"
      ]
    },
    {
      "cell_type": "code",
      "execution_count": 111,
      "metadata": {
        "id": "NFK9RYBFnZ-R"
      },
      "outputs": [],
      "source": [
        "short_desc_max_words = 5000"
      ]
    },
    {
      "cell_type": "code",
      "source": [
        "oov_tok = '<OOV>'"
      ],
      "metadata": {
        "id": "Go1G0hhSqvas"
      },
      "execution_count": 112,
      "outputs": []
    },
    {
      "cell_type": "code",
      "execution_count": 113,
      "metadata": {
        "colab": {
          "base_uri": "https://localhost:8080/"
        },
        "id": "tMhQVRDMhLkT",
        "outputId": "10818242-09d8-493b-a9e0-f923fd0887bd"
      },
      "outputs": [
        {
          "output_type": "execute_result",
          "data": {
            "text/plain": [
              "2"
            ]
          },
          "metadata": {},
          "execution_count": 113
        }
      ],
      "source": [
        "ata_data[ata_data['number_of_char_short_desc']>short_desc_length_to_filter]['Short description'].count()"
      ]
    },
    {
      "cell_type": "code",
      "execution_count": 114,
      "metadata": {
        "colab": {
          "base_uri": "https://localhost:8080/"
        },
        "id": "_GEO7PIHhLnk",
        "outputId": "63cbc2a1-16c9-4a2e-bf8b-f981a81d5281"
      },
      "outputs": [
        {
          "output_type": "stream",
          "name": "stdout",
          "text": [
            "There are 2 short description with length greater than 150\n"
          ]
        }
      ],
      "source": [
        "print(\"There are\",  ata_data[ata_data['number_of_char_short_desc']>short_desc_length_to_filter]['Short description'].count() , \"short description with length greater than\", short_desc_length_to_filter)"
      ]
    },
    {
      "cell_type": "code",
      "source": [
        ""
      ],
      "metadata": {
        "id": "8c37yT5E7cWh"
      },
      "execution_count": 114,
      "outputs": []
    },
    {
      "cell_type": "code",
      "execution_count": 115,
      "metadata": {
        "id": "iN_xLfOXhLqt"
      },
      "outputs": [],
      "source": [
        "#short_desc_tokenizer = Tokenizer(num_words=None, filters='!\"#$%&()*+,-./:;<=>?@[\\\\]^_`{|}~\\t\\n',lower=True)\n",
        "short_desc_tokenizer = Tokenizer(num_words=short_desc_max_words, filters='!\"#$%&()*+,-/.:;<=>?@[\\\\]^`{|}~\\t\\n',lower=True, oov_token=oov_tok)"
      ]
    },
    {
      "cell_type": "code",
      "execution_count": 116,
      "metadata": {
        "id": "iAIafX6OhLuI"
      },
      "outputs": [],
      "source": [
        "short_desc_tokenizer.fit_on_texts(ata_data['short_desc_analysis'])\n",
        "#tokenizer.fit_on_texts(ata_data[ata_data['number_of_char_short_desc']==short_desc_length_to_filter]['short_desc_analysis'])"
      ]
    },
    {
      "cell_type": "code",
      "execution_count": 117,
      "metadata": {
        "colab": {
          "base_uri": "https://localhost:8080/"
        },
        "id": "KH1IlJgohLxS",
        "outputId": "db7d170b-72f4-4076-a042-38c254925ec0"
      },
      "outputs": [
        {
          "output_type": "execute_result",
          "data": {
            "text/plain": [
              "<keras_preprocessing.text.Tokenizer at 0x7f095414ed50>"
            ]
          },
          "metadata": {},
          "execution_count": 117
        }
      ],
      "source": [
        "short_desc_tokenizer"
      ]
    },
    {
      "cell_type": "code",
      "execution_count": 118,
      "metadata": {
        "id": "GjVbSFwRri4o"
      },
      "outputs": [],
      "source": [
        "short_desc_word_index = short_desc_tokenizer.word_index"
      ]
    },
    {
      "cell_type": "code",
      "execution_count": 119,
      "metadata": {
        "colab": {
          "base_uri": "https://localhost:8080/"
        },
        "id": "0NKuLM1Uri75",
        "outputId": "d4dc81b5-042e-49a1-a33d-ad0eff0fee7c"
      },
      "outputs": [
        {
          "output_type": "stream",
          "name": "stdout",
          "text": [
            "{'<OOV>': 1, 'to': 2, 'in': 3, 'not': 4, 'on': 5, 'job': 6, 'job_scheduler': 7, 'the': 8, 'is': 9, 'password': 10, 'erp': 11, 'failed': 12, 'for': 13, 'unable': 14, 'reset': 15, 'job_': 16, 'account': 17, 'issue': 18, 'access': 19, 'sid_': 20, 'and': 21, 'outlook': 22, 'company': 23, 'login': 24, 'down': 25, 'hostname_': 26, 'locked': 27, 'with': 28, 'working': 29, 'error': 30, 'from': 31, 'user': 32, 'of': 33, 'please': 34, 'cannot': 35, 'vpn': 36, 'update': 37, 'a': 38, 'i': 39, 'at': 40, 'skype': 41, 'am': 42, 'need': 43, 'since': 44, 'crm': 45, 'et': 46, 'my': 47, 'printer': 48, 'windows': 49, 'no': 50, 'ticket': 51, 'usa': 52, 'network': 53, 'new': 54, 'outage': 55, 'out': 56, 'up': 57, 'open': 58, 'email': 59, 'system': 60, 'password_management_tool': 61, 'connect': 62, 'unlock': 63, 'abended': 64, 'collaboration_platform': 65, 'server': 66, 'does': 67, 'log': 68, 'help': 69, 'request': 70, 'are': 71, 'it': 72, 'site': 73, 'tool': 74, 'be': 75, 'problems': 76, 'able': 77, 'can': 78, 'circuit': 79, 'using': 80, 'change': 81, 'work': 82, 'pc': 83, 'computer': 84, 'laptop': 85, 'problem': 86, 'pm': 87, 'inplant_': 88, 'phone': 89, 'has': 90, 'engineering': 91, 'ticket_no': 92, 'passwords': 93, 'when': 94, 'production': 95, 'device': 96, 'germany': 97, 'space': 98, 'engineering_tool': 99, 'we': 100, 'call': 101, 'print': 102, 'create': 103, 't': 104, 'will': 105, 'mobile': 106, 'urgent': 107, 'report': 108, 'office': 109, 'delivery': 110, 'issues': 111, 'after': 112, 'order': 113, 'telephony_software': 114, 'install': 115, 'id': 116, 'get': 117, 'connection': 118, 'as': 119, 'message': 120, 'eu_tool': 121, 'add': 122, 'do': 123, 'have': 124, 'ms': 125, 'vip': 126, 'an': 127, 'emails': 128, 'e': 129, 'time': 130, 'setup': 131, 'getting': 132, 'folder': 133, 'all': 134, 'hr_tool': 135, 'check': 136, 'drive': 137, 'com': 138, 'manager': 139, 'ad': 140, 'hxgaycze': 141, 'security': 142, 'into': 143, 'available': 144, 'data': 145, 'screen': 146, 'file': 147, 'you': 148, 'monitor': 149, 'number': 150, 'see': 151, 'uacyltoe': 152, 'customer': 153, 'slow': 154, 'or': 155, 'india': 156, 'sw': 157, 'ess': 158, 'plant_': 159, 'hard': 160, 'me': 161, 'wifi': 162, 'ets': 163, 'information': 164, 's': 165, 'business_client': 166, 'now': 167, 'was': 168, 'microsoft': 169, 'missing': 170, 'link': 171, 'plant': 172, 'activation': 173, 'possible': 174, 'mm': 175, 'm': 176, 'power': 177, 'consumed': 178, 'defective': 179, 'needs': 180, 'but': 181, 'that': 182, 'sales': 183, 'expense': 184, 'audio': 185, 'mii': 186, 'status': 187, 'c': 188, 'over': 189, 'query': 190, 'mail': 191, 'disk': 192, 'employee': 193, 'service': 194, 'internet': 195, 'rtr': 196, 'volume': 197, 'set': 198, 'application': 199, 'portal': 200, 'been': 201, 'online': 202, 'installation': 203, 'files': 204, 'backup': 205, 'running': 206, 'ws': 207, 'meeting': 208, 'logon': 209, 'hr_payroll_na_u': 210, 'showing': 211, 'ewew': 212, 're': 213, 'purchasing': 214, 'distributor_tool': 215, 'dell': 216, 'sid_cold': 217, 'interface': 218, 'by': 219, 'sign': 220, 'users': 221, 'ie': 222, 'excel': 223, 'display': 224, 'mace': 225, 'hub': 226, 'incidents': 227, 'primary': 228, 'printing': 229, 'orders': 230, 'exe': 231, 'launch': 232, 'required': 233, 'apac': 234, 'iphone': 235, 'one': 236, 'any': 237, 'business': 238, 'blocked': 239, 'wh': 240, 'process': 241, 'software': 242, 'connected': 243, 'address': 244, 'view': 245, 'load': 246, 'trying': 247, 'through': 248, 'inc': 249, 'label': 250, 'driver': 251, 'multiple': 252, 'other': 253, 'list': 254, 'g': 255, 'client': 256, 'longer': 257, 'center': 258, 'opening': 259, 'ap': 260, 'switch': 261, 'na': 262, 'responding': 263, 'inwarehouse_tool': 264, 'name': 265, 'wireless': 266, 'blank': 267, 'start': 268, 'below': 269, 'certificate': 270, 'hana': 271, 'netweaver': 272, 'lock': 273, 'warning': 274, 'personal': 275, 'send': 276, 'expired': 277, 'very': 278, 'dmvpn': 279, 'wrong': 280, 'page': 281, 'loading': 282, 'note': 283, 'transfer': 284, 'o': 285, 'services': 286, 'bobj': 287, 'lean': 288, 'accounts': 289, 'plm': 290, 'app': 291, 'changed': 292, 'h': 293, 'due': 294, 'called': 295, 'material': 296, 'pdf': 297, 'sync': 298, 'bex': 299, 'notification': 300, 'sid_hotf': 301, 'free': 302, 'again': 303, 'your': 304, 'home': 305, 'external': 306, 'use': 307, 'desktop': 308, 'old': 309, 'eu': 310, 'mit': 311, 'po': 312, 'reports': 313, 'etime': 314, 'lockout': 315, 'sent': 316, 'attachment': 317, 'sto': 318, 'run': 319, 'response': 320, 'back': 321, 'support': 322, 'guest': 323, 'updating': 324, 'code': 325, 'our': 326, 'than': 327, 'web': 328, 'via': 329, 'attendance_tool': 330, 'msd': 331, 'pp_eu_tool_netch_ap': 332, 'calls': 333, 'analysis': 334, 'release': 335, 'search': 336, 'snp_heu__regen': 337, 'if': 338, 'threshold': 339, 'mails': 340, 'internal': 341, 'location': 342, 'supply_chain_software': 343, 'receive': 344, 'probleme': 345, 'attached': 346, 'find': 347, 'telecom_vendor_': 348, 'there': 349, 'net': 350, 'group': 351, 'f': 352, 'submit': 353, 'having': 354, 'off': 355, 'added': 356, 'node': 357, 'balancing': 358, 'full': 359, 'under': 360, 'created': 361, 'more': 362, 'dynamics': 363, 'alert': 364, 'upgrade': 365, 'samples': 366, 'logging': 367, 'training': 368, 'bkwin_hostname__inc': 369, 'warehouse': 370, 'received': 371, 'we_wu': 372, 'located': 373, 'card': 374, 'tracker': 375, 'sid_filesys': 376, 'station': 377, 'connecting': 378, 'database': 379, 'delete': 380, 'failure': 381, 'changing': 382, 'form': 383, 'average': 384, 'sound': 385, 'disconnected': 386, 'project': 387, 'workflow': 388, 'k': 389, 'exchange': 390, 'secondary': 391, 'boot': 392, 'needed': 393, 'found': 394, 'installed': 395, 'stock': 396, 'lhqsm': 397, 'dn': 398, 'hostname_fail': 399, 'outbound': 400, 'went': 401, 'updated': 402, 'inwarehouse_tools': 403, 'ip': 404, 'keeps': 405, 'room': 406, 'ticketing_tool': 407, 'programdnty': 408, 'reporting': 409, 'r': 410, 'only': 411, 'domain': 412, 'batch': 413, 'scanner': 414, 'gb': 415, 'still': 416, 'he': 417, 'drawings': 418, 'disabled': 419, 'active': 420, 'explorer': 421, 'also': 422, 'works': 423, 'download': 424, 'jionmpsf': 425, 'wnkpzcmv': 426, 'mouse': 427, 'save': 428, 'quote': 429, 'could': 430, 'so': 431, 'south': 432, 'drives': 433, 'russia': 434, 'management': 435, 'spam': 436, 'est': 437, 'date': 438, 'about': 439, 'enter': 440, 'tablet': 441, 'today': 442, 'freezing': 443, 'receiving': 444, 'qa': 445, 'java': 446, 'take': 447, 'license': 448, 'browser': 449, 'remove': 450, 'approved': 451, 'lan': 452, 'details': 453, 'local': 454, 'calendar': 455, 'citrix': 456, 'contact': 457, 'item': 458, 'router': 459, 'applications': 460, 'got': 461, 'mailbox': 462, 'authorization': 463, 'remote': 464, 'infopath': 465, 'some': 466, 'how': 467, 'israel': 468, 'sid_arc': 469, 'flash': 470, 'jobs': 471, 'post': 472, 'reporting_tool': 473, 'gso': 474, 'hr': 475, 'x': 476, 'dev': 477, 'area': 478, 'pricing': 479, 'hcm': 480, 'shows': 481, 'south_amerirtca': 482, 'shared': 483, 'line': 484, '·': 485, 'action': 486, 'completed': 487, 'reinstall': 488, 'them': 489, 'termination': 490, 'configuration': 491, 'sid_hoti': 492, 'job_d': 493, 'document': 494, 'frequent': 495, 'properly': 496, 'activity': 497, 'battery': 498, 'queries': 499, 'cell': 500, 'vendor': 501, 'player': 502, 'tab': 503, 'fastethernet': 504, 'noise': 505, 'deleted': 506, 'automatically': 507, 'discount': 508, 'long': 509, 'scan': 510, 'inquiry': 511, 'replace': 512, 'german': 513, 'global': 514, 'tax': 515, 'incorrect': 516, 'restore': 517, 'settings': 518, 'asking': 519, 'version': 520, 'niptbwdq': 521, 'csenjruz': 522, 'conversion': 523, 'info': 524, 'finance_app': 525, 'shop': 526, 'during': 527, 'port': 528, 'tc': 529, 'instances': 530, 'event': 531, 'impact': 532, 'two': 533, 'share': 534, 'usb': 535, 'utilization': 536, 'product': 537, 'website': 538, 'profile': 539, 'extend': 540, 'minutes': 541, 'carrier': 542, 'ind': 543, 'approval': 544, 'same': 545, 'field': 546, 'stopped': 547, 'provide': 548, 'going': 549, 'org': 550, 'sa': 551, 'reboot': 552, 'deu': 553, 'bw': 554, 'supply': 555, 'being': 556, 'pr': 557, 'opened': 558, 'symantec': 559, 'read': 560, 'vzqomdgt': 561, 'jwoqbuml': 562, 'show': 563, 'printed': 564, 'assign': 565, 'meetings': 566, 'hp': 567, 'interaction': 568, 'blue': 569, 'deployment': 570, 'dat': 571, 'virus': 572, 'job_b': 573, 'critical': 574, 'wants': 575, 'did': 576, 'drawing': 577, 'vitalyst': 578, 'cpu': 579, 'box': 580, 'employees': 581, 'telephone': 582, 'connectivity': 583, 'd': 584, 'provided': 585, 'ger': 586, 'us': 587, 'configure': 588, 'rma': 589, 'desk': 590, 'language': 591, 'too': 592, 'sending': 593, 'latitude': 594, 'between': 595, 'anymore': 596, 'turn': 597, 'vogelfontein': 598, 'try': 599, 'documents': 600, 'make': 601, 'ds': 602, 'customers': 603, 'conference': 604, 'traffic': 605, 'value': 606, 'says': 607, 'correctly': 608, 'single': 609, 'th': 610, 'sys': 611, 'gigabitethernet': 612, 'hangs': 613, 'currently': 614, 'investigate': 615, 'approve': 616, 'course': 617, 'then': 618, 'loud': 619, 'adding': 620, 'directory': 621, 'wrcktgbd': 622, 'wzrgyunp': 623, 'fix': 624, 'fi': 625, 'copy': 626, 'recall': 627, 'fürth': 628, 'companysecure': 629, 'amerirtca': 630, 'without': 631, 'weekly': 632, 'owned': 633, 'type': 634, 'look': 635, 'offline': 636, 'engineering_toolkuznetsk': 637, 'unlocked': 638, 'replacement': 639, 'measuring': 640, 'per': 641, 'servers': 642, 'pgi': 643, 'different': 644, 'barcode': 645, 'transaction': 646, 'win': 647, 'lost': 648, 'video': 649, 'performance': 650, 'b': 651, 'items': 652, 'bad': 653, 'quality': 654, 'alicona': 655, 'notes': 656, 'host': 657, 'printers': 658, 'image': 659, 'wanted': 660, 'why': 661, 'total': 662, 'attachments': 663, 'travel': 664, 'giving': 665, 'last': 666, 'adobe': 667, 'infection': 668, 'kirty': 669, 'oracle': 670, 'goods': 671, 'st': 672, 'bwhrattr': 673, 'keybankrd': 674, 'prtgghjk': 675, 'comments': 676, 'creation': 677, 'members': 678, 'für': 679, 'confirmation': 680, 'generated': 681, 'hours': 682, 'even': 683, 'price': 684, 'pick': 685, 'every': 686, 'resetting': 687, 'reactivate': 688, 'changes': 689, 'opportunities': 690, 'review': 691, 'they': 692, 'qlhmawgi': 693, 'sgwipoxn': 694, 'prod': 695, 'nd': 696, 'co': 697, 'write': 698, 'prompting': 699, 'inbox': 700, 'had': 701, 'complete': 702, 'know': 703, 'launcg': 704, 'dashbankrd': 705, 'payment': 706, 'defekt': 707, 'epmsystem': 708, 'gui': 709, 'zebra': 710, 'hardware': 711, 'starting': 712, 'repair': 713, 'job_a': 714, 'option': 715, 'mfg_tooltion': 716, 'creating': 717, 'ooo': 718, 'malware': 719, 'shop_floor_app': 720, 'alwaysupservice': 721, 'come': 722, 'let': 723, 'configair': 724, 'restart': 725, 'partner': 726, 'used': 727, 'viewer': 728, 'give': 729, 'map': 730, 'table': 731, 'aw': 732, 'confirmations': 733, 'pbx': 734, 'several': 735, 'days': 736, 'what': 737, 'n': 738, 'wi': 739, 'kindly': 740, 'upload': 741, 'regarding': 742, 'broadband': 743, 'delegation': 744, 'departments': 745, 'prtqx': 746, 'amount': 747, 'hxgayczeing': 748, 'hpqc': 749, 'fixed': 750, 'until': 751, 'function': 752, 'routing': 753, 'following': 754, 'terminate': 755, 'pa': 756, 'morning': 757, 'paper': 758, 'cable': 759, 'pfjwinbg': 760, 'ljtzbdqg': 761, 'urgently': 762, 'pop': 763, 'word': 764, 'xwirzvda': 765, 'okhyipgr': 766, 'always': 767, 'stuck': 768, 'distribution': 769, 'screenshot': 770, 'refer': 771, 'addin': 772, 'scanning': 773, 'loaded': 774, 'fc': 775, 'monitoring_tool': 776, 'forward': 777, 'day': 778, 'correct': 779, 'coming': 780, 'p': 781, 'financial': 782, 'numbers': 783, 'hear': 784, 'pp_eu_tool_netch_keheu': 785, 'processing': 786, 'stack': 787, 'floor': 788, 'kis': 789, 'general': 790, 'pos': 791, 'select': 792, 'vlan': 793, 'related': 794, 'times': 795, 'errors': 796, 'booting': 797, 'aerp': 798, 'confirmed': 799, 'robot': 800, 'suspicious': 801, 'rpc': 802, 'netbios': 803, 'chn': 804, 'sinkhole': 805, 'point': 806, 'ca': 807, 'output': 808, 'repeat': 809, 'weaver': 810, 'generating': 811, 'side': 812, 'ebhsm': 813, 'non': 814, 'payslips': 815, 'resolved': 816, 'mm_zscr_wkly_rollfgyuej': 817, 'amssm': 818, 'benefits': 819, 'intermittent': 820, 'acces': 821, 'username': 822, 'current': 823, 'australia': 824, 'activate': 825, 'clock': 826, 'effective': 827, 'setting': 828, 'appearing': 829, 'ag': 830, 'onto': 831, 'folders': 832, 'resources': 833, 'saved': 834, 'entry': 835, 'hand': 836, 'pull': 837, 'gets': 838, 'admin': 839, 'prompts': 840, 'warehouse_toolmail': 841, 'docking': 842, 'global_telecom_': 843, 'turned': 844, 'unit': 845, 'billing': 846, 'appears': 847, 'denied': 848, 'production_order_interface_app': 849, 'pw': 850, 'mp': 851, 'rights': 852, 'purchase': 853, 'permission': 854, 'companyguest': 855, 'award': 856, 'caller': 857, 'mb': 858, 'eemw': 859, 'insert': 860, 'her': 861, 'she': 862, 'edit': 863, 'owa': 864, 'framdntyework': 865, 'key': 866, 'route': 867, '答复': 868, 'frequently': 869, 'pu': 870, 'default': 871, 'cl': 872, 'basis': 873, 'displayed': 874, 'exist': 875, 'environment': 876, 'allow': 877, 'started': 878, 'goes': 879, 'window': 880, 'q': 881, 'enterprise': 882, 'its': 883, 'moving': 884, 'activated': 885, 'skv': 886, \"'\": 887, 'expected': 888, 'dv': 889, 'divestiture': 890, 'kirtyled': 891, 'dsw': 892, 'discounts': 893, 'tcp': 894, 'sid__uacyltoe': 895, 'asa': 896, 'icmp': 897, 'inactive': 898, 'resolve': 899, 'assigned': 900, 'pcs': 901, 'format': 902, 'wy': 903, 'text': 904, 'ups': 905, 'export': 906, 'crasg': 907, 'tel': 908, 'module': 909, 'maintenance': 910, 'misplaced': 911, 'receipt': 912, 'wk': 913, 'prints': 914, 'close': 915, 'cost': 916, 'rqxw': 917, 'incident': 918, 'erpgui': 919, 'october': 920, 'daily': 921, 'deletion': 922, 'chg': 923, 'block': 924, 'chat': 925, 'synchronization': 926, 'activesync': 927, 'tickets': 928, 'availability': 929, 'awards': 930, 'bkbackup_tool_hostname__prod_inc': 931, 'core': 932, 'notg': 933, 'bk_hana_sid__erp_wly_dp': 934, 'reply': 935, 'messages': 936, 'would': 937, 'rate': 938, 'broken': 939, 'sid_hot': 940, 'engine': 941, 'analyzer': 942, 'whenever': 943, 'static': 944, 'xerox': 945, 'functioning': 946, 'like': 947, 'control': 948, 'kpm': 949, 'sao': 950, 'bit': 951, 'light': 952, 'nx': 953, 'above': 954, 'accepting': 955, 'africa': 956, 'click': 957, 'freezes': 958, 'drivers': 959, 'entered': 960, 'results': 961, 'ab': 962, 'visible': 963, 'lauacyltoe': 964, 'yesterday': 965, 'arcing_tool': 966, 'op': 967, 'vh': 968, 'detected': 969, 'ewewx': 970, 'registration': 971, 'contacts': 972, 'qty': 973, 'drucker': 974, 'runtime': 975, 'md': 976, 'pages': 977, 'were': 978, 'wlan': 979, 'patcg_antivirus_sw': 980, 'normally': 981, 'schedule': 982, 'accessing': 983, 'bank': 984, 'clients': 985, 'master': 986, 'warehouse_tool': 987, 'united': 988, 'kingdom': 989, 'because': 990, 'accounting': 991, 'posting': 992, 'zhengping': 993, 'tess': 994, 'ughzilfm': 995, 'cfibdamq': 996, 'vfx': 997, 'step': 998, 'xiaohe': 999, 'inventory': 1000, 'iewer': 1001, 'sp': 1002, 'assistance': 1003, 'sql': 1004, 'mcircuit': 1005, 'extension': 1006, 'zdsxmcwu': 1007, 'rerun': 1008, 'employment': 1009, \"user's\": 1010, 'installing': 1011, 'speakers': 1012, 'taking': 1013, 'permissions': 1014, 'trouble': 1015, 'experiencing': 1016, 'apps': 1017, 'kiosk': 1018, 'advance': 1019, 'fa': 1020, 'bluescreen': 1021, 'crashes': 1022, 'enable': 1023, 'finance': 1024, 'mentioned': 1025, 'sfb': 1026, 'mode': 1027, 'fine': 1028, 'pay': 1029, 'os': 1030, '转发': 1031, 'v': 1032, 'playing': 1033, 'credit': 1034, 'markhtyeting': 1035, 'payroll': 1036, 'fy': 1037, 'transferred': 1038, 'systems': 1039, 'requisition': 1040, 'ewel': 1041, 'objects': 1042, 'tmqfjard': 1043, 'qzhgdoua': 1044, 'gone': 1045, 'condition': 1046, 'steel': 1047, 'month': 1048, 'instead': 1049, 'forgot': 1050, 'english': 1051, 'soon': 1052, 'removed': 1053, 'temporarily': 1054, 'malfunction': 1055, 'attempts': 1056, 'feedback': 1057, 'final': 1058, 'oct': 1059, 'model': 1060, 'plug': 1061, 'valid': 1062, 'reminder': 1063, 'forms': 1064, 'requested': 1065, 'tag': 1066, 'fails': 1067, 'npc': 1068, 'qidgvtwa': 1069, 'qvbutayx': 1070, 'size': 1071, 'scheduled': 1072, 'bankrd': 1073, 'stay': 1074, 'year': 1075, 'priority': 1076, 'fe': 1077, 'ref': 1078, 'state': 1079, 'bk_hana_sid__erp_dly_dp': 1080, 'apo': 1081, 'cisco': 1082, 'authorisation': 1083, \"'internal\": 1084, 'ramdnty': 1085, 'shut': 1086, 'cad': 1087, 'right': 1088, 'corporate': 1089, 'wg': 1090, 'visio': 1091, 'tier': 1092, 'posted': 1093, 'us_plant': 1094, 'laser': 1095, 'component': 1096, 'automatic': 1097, 'tax_interface': 1098, 'coating': 1099, 'headset': 1100, 'voucher': 1101, 'september': 1102, 'cache': 1103, 'webpage': 1104, 'vmsliazh': 1105, 'ltksxmyv': 1106, 'forecast': 1107, 'duplicate': 1108, 'url': 1109, 'button': 1110, 'complaint': 1111, 'engg': 1112, 'abap': 1113, 'return': 1114, 'phing': 1115, 'question': 1116, 'seems': 1117, 'clearance': 1118, 'requesting': 1119, 'docked': 1120, 'lacw': 1121, 'l': 1122, 'fax': 1123, 'lines': 1124, 'rejected': 1125, 'done': 1126, 'android': 1127, 'production_order_interface_vendor': 1128, 'connc': 1129, 'snipping': 1130, 'controller': 1131, 'little': 1132, 'prtqv': 1133, 'reported': 1134, 'products': 1135, 'icon': 1136, 'sping': 1137, 'public': 1138, 'groups': 1139, 'tologin': 1140, 'utilized': 1141, 'till': 1142, 'expires': 1143, 'thdjzolwronization': 1144, 'zz_mails': 1145, \"'repeat\": 1146, 'wit': 1147, \"tcp'\": 1148, 'revenue': 1149, 'encryption': 1150, 'disable': 1151, 'self': 1152, 'reroute': 1153, 'switches': 1154, 'shown': 1155, 'channel': 1156, 'ae': 1157, 'sment': 1158, 'restored': 1159, 'babiluntr': 1160, 'z': 1161, 'seem': 1162, 'synchronized': 1163, 'kündigung': 1164, 'passwort': 1165, 'unavailable': 1166, 'detail': 1167, 'engineering_tools': 1168, 'though': 1169, 'zlqfptjx': 1170, 'xnklbfua': 1171, 'font': 1172, 'takes': 1173, 'hq': 1174, 'locking': 1175, 'catalog': 1176, 'de': 1177, 'qdxyifhj': 1178, 'zbwtunpy': 1179, 'record': 1180, 'ignore': 1181, 'join': 1182, 'rechner': 1183, 'tape': 1184, 'communication': 1185, 'poncacity': 1186, 'detecting': 1187, 'around': 1188, 'book': 1189, 'extract': 1190, 'few': 1191, 'samsung': 1192, 'dtlmbcrx': 1193, 'mwuateyx': 1194, 'mobility': 1195, 'agreement': 1196, 'agreements': 1197, 'inspection': 1198, 'powerpoint': 1199, 'these': 1200, 'jpg': 1201, 'pulling': 1202, 'catalogue': 1203, 'und': 1204, 'least': 1205, 'department': 1206, 'forgotten': 1207, 'quoting': 1208, 'across': 1209, 'quick': 1210, 'tools': 1211, 'j': 1212, 'slowly': 1213, 'immediately': 1214, 'roboworker': 1215, 'labels': 1216, 'br': 1217, 'entering': 1218, 'cantabria': 1219, 'bottom': 1220, 'quotation': 1221, 'adapter': 1222, 'synch': 1223, 'quarantine': 1224, 'mr': 1225, 'cpp': 1226, 'existing': 1227, 'disconnecting': 1228, 'week': 1229, 'odbc': 1230, 'doc': 1231, 'repeatedly': 1232, 'userid': 1233, 'options': 1234, 'hd': 1235, 'clear': 1236, 'charging': 1237, 'hall': 1238, 'awb': 1239, '_': 1240, 'secure': 1241, 'produktion': 1242, 'anti': 1243, 'downloading': 1244, 'owner': 1245, 'startup': 1246, 'crashed': 1247, 'sep': 1248, 'mbps': 1249, 'erkheim': 1250, 'w': 1251, 'end': 1252, 'vvamrtryot': 1253, 'updates': 1254, 'empty': 1255, 'networks': 1256, 'hot': 1257, 'generate': 1258, 'normal': 1259, 'worklist': 1260, 'speak': 1261, 'delay': 1262, 'abend': 1263, 'arce': 1264, 'months': 1265, 'subject': 1266, 'monthly': 1267, 'evening': 1268, 'outside': 1269, 'plan': 1270, 'intercompany': 1271, 'stop': 1272, 'processed': 1273, 'attempt': 1274, '–': 1275, 'renew': 1276, 'auto': 1277, \"''\": 1278, 'person': 1279, 'taiwan': 1280, 'ytzpxhql': 1281, 'ntfxgpms': 1282, 'bkbackup_tool_hostname__prod_full': 1283, 'closed': 1284, 'packet': 1285, 'drops': 1286, 'must': 1287, 'bkbackup_tool_reporting_tool_prod_inc': 1288, 'top': 1289, 'wxstfouy': 1290, 'isjzcotm': 1291, 'library': 1292, 'hsh': 1293, 'bls': 1294, 'facility': 1295, 'committed': 1296, 'acct': 1297, 'demand': 1298, 'who': 1299, 'another': 1300, 'edi': 1301, 'dock': 1302, 'outbreak': 1303, 'allowed': 1304, 'miro': 1305, 'reference': 1306, 'saver': 1307, 'nxd': 1308, 'ac': 1309, 'starts': 1310, 'co_val_update_crosscomp': 1311, 'speed': 1312, 'currency': 1313, 'include': 1314, 'phones': 1315, 'bluetooth': 1316, 'poland': 1317, 'sl': 1318, 'sproc': 1319, 'trojan': 1320, 'lhqsid_': 1321, 'require': 1322, 'kb': 1323, 'finished': 1324, 'endpoint': 1325, 'deb': 1326, 'many': 1327, 'requirement': 1328, 'gi': 1329, 'iso': 1330, 'refresh': 1331, 'import': 1332, 'input': 1333, 'beshryu': 1334, 'search_server': 1335, 'erpstartsrv': 1336, 'zcor': 1337, 'malaysia': 1338, 'invalid': 1339, 'workstation': 1340, 'mapping': 1341, 'recognized': 1342, 'screensaver': 1343, 'assignment': 1344, 'lhqwxsf': 1345, \"pc's\": 1346, 'authentication': 1347, 'should': 1348, 'move': 1349, 'mercedes': 1350, 'firewall': 1351, 'xmlbfjpg': 1352, 'yegzbvru': 1353, 'agent': 1354, 'hw': 1355, 'direct': 1356, 'hr_tooldcvcgenratn': 1357, 'dsccache': 1358, 'processes': 1359, 'memory': 1360, 'miiserver': 1361, 'cards': 1362, 'scm_software': 1363, 'enquiry': 1364, 'requires': 1365, 'sites': 1366, 'ef': 1367, 'tomorrow': 1368, 'thru': 1369, 'acrobat': 1370, 'bkbackup_tool_sql_prod_inc': 1371, 'apply': 1372, 'copied': 1373, 'appear': 1374, 'requests': 1375, 'insurance': 1376, 'manually': 1377, 'restarting': 1378, 'grinding': 1379, 'scrap': 1380, 'section': 1381, 'tell': 1382, 'pi': 1383, 'fygrwuna': 1384, 'gomcekzi': 1385, 'eagl': 1386, 'laeusvjo': 1387, 'fvaihgpx': 1388, 'both': 1389, 'sn': 1390, 'private': 1391, 'cnc': 1392, 'viewing': 1393, 'dierppeared': 1394, 'beshryulisted': 1395, 'shortcut': 1396, 'talk': 1397, 'entries': 1398, 'those': 1399, 'assist': 1400, 'shot': 1401, 'credentials': 1402, \"employee's\": 1403, 'just': 1404, 'given': 1405, 'prgewfly': 1406, 'ndtfvple': 1407, 'pl': 1408, 'head': 1409, 'ppt': 1410, 'puxsvfwr': 1411, 'cwkjruni': 1412, 'views': 1413, 'gigaset': 1414, 'ex': 1415, 'logged': 1416, 'analytics': 1417, 'europe': 1418, 'reach': 1419, 'cyber': 1420, 'ransomware': 1421, 'purchasingupstreamsso': 1422, 'msc': 1423, 'selection': 1424, 'extended': 1425, 'ts': 1426, 'qvncizuf': 1427, 'ueiybanz': 1428, 'respond': 1429, 'feature': 1430, 'deactivated': 1431, 'rrc': 1432, 'quattro': 1433, 'sunday': 1434, 'sr': 1435, 'session': 1436, 'came': 1437, 'music': 1438, 'bkbackup_tool_powder_prod_full': 1439, 'bwdpmbkp': 1440, 'bkwin_infonet_full': 1441, 'bios': 1442, 'yellow': 1443, 'terminated': 1444, 'previous': 1445, 'dns': 1446, 'count': 1447, 'hardcopy': 1448, 'lndypaqg': 1449, 'dhqwtcsr': 1450, 'fill': 1451, 'length': 1452, 'xosdfhbu': 1453, 'gtbfkisl': 1454, 'transactions': 1455, 'constantly': 1456, 'locations': 1457, 'against': 1458, 'bkwin_search_server_prod_daily': 1459, 'wzs': 1460, 'complaining': 1461, 'runs': 1462, 'industrial': 1463, 'http': 1464, 'del': 1465, 'assignments': 1466, 'centers': 1467, 'qc': 1468, 'big': 1469, 'ce_leiter': 1470, 'case': 1471, 'pwrhmc': 1472, 'mecftgobusa': 1473, 'kenci': 1474, 'sid_stat': 1475, 'iak': 1476, 'put': 1477, 'color': 1478, 'nvyjtmca': 1479, 'xjhpznds': 1480, 'factory': 1481, 'polycom': 1482, 'ids': 1483, 'leitung': 1484, 'juarez': 1485, 'fan': 1486, 'administration': 1487, 'projector': 1488, 'pro': 1489, 'tracking': 1490, 'manufacturing': 1491, 'backorder': 1492, 'bernardo': 1493, 'campo': 1494, 'wvdxnkhf': 1495, 'jirecvta': 1496, 'res': 1497, 'rar': 1498, 'alerts': 1499, 'daypay': 1500, 'msoffice': 1501, 'synched': 1502, 'planning': 1503, 'pieces': 1504, 'suddenly': 1505, 'pm_tool_for_sd': 1506, 'loaner': 1507, 'picking': 1508, 'def': 1509, 'un': 1510, 'planned': 1511, 'near': 1512, 'calendars': 1513, 'arced': 1514, 'everyone': 1515, 'configured': 1516, 'deal': 1517, 'www': 1518, 'rj': 1519, 'lunch': 1520, 'supervisor': 1521, 'supply_chain': 1522, 'method': 1523, 'vendors': 1524, 'amerirtcas': 1525, 'comes': 1526, 'emea': 1527, 'dir': 1528, 'sim': 1529, 'er': 1530, 'failing': 1531, 'vga': 1532, 'solid': 1533, 'bwhrertran': 1534, 'asks': 1535, 'once': 1536, 'verify': 1537, 'reporting_engineering_tools': 1538, 'defect': 1539, 'siemens': 1540, 'prompt': 1541, 'evhw': 1542, 'lxfnwyuv': 1543, 'bqmjyprz': 1544, 'gr': 1545, 'gl': 1546, 'edksw': 1547, 'before': 1548, 'orientation': 1549, 'posed': 1550, 'dates': 1551, 'knocked': 1552, 'timeout': 1553, 'dob': 1554, 'equipment': 1555, 'queue': 1556, 'eagw': 1557, 'icons': 1558, 'vsphere': 1559, 'awyl': 1560, 'eagcutview': 1561, 'dsc': 1562, 'npr': 1563, 'mismatch': 1564, 'limited': 1565, 'geoyhurg': 1566, 'chriuimjiann': 1567, 'build': 1568, 'vtykrubi': 1569, 'vf': 1570, 'left': 1571, 'pulverleitstand': 1572, 'dba': 1573, 'processor': 1574, 'trade': 1575, 'scanned': 1576, 'stöhrmann': 1577, 'eaodcgsw': 1578, 'trmzwbyc': 1579, 'oh': 1580, 'chrome': 1581, 'statement': 1582, 'advanced': 1583, 'shatryung': 1584, 'lists': 1585, 'schlumhdyhter': 1586, 'macing': 1587, 'frozen': 1588, 'follow': 1589, 'names': 1590, 'synchronizing': 1591, 'certificates': 1592, 'night': 1593, 'cash': 1594, 'xhaomnjl': 1595, 'ctusaqpr': 1596, 'newly': 1597, 'fueiklyv': 1598, 'jargqpkm': 1599, 'reimbursement': 1600, 'ios': 1601, 'zokivdfa': 1602, 'syncg': 1603, 'quotes': 1604, 'minitab': 1605, 'advise': 1606, 'solution': 1607, 'already': 1608, 'want': 1609, 'sure': 1610, 'tried': 1611, 'insufficient': 1612, 'rqfng': 1613, 'zkwfqagb': 1614, 'fields': 1615, 'tx': 1616, 'invite': 1617, 'description': 1618, 'oss': 1619, 'fw': 1620, 'script': 1621, 'august': 1622, 'dardabthyr': 1623, 'copier': 1624, 'laserjet': 1625, 'logic': 1626, 'swap': 1627, 'indicator': 1628, 'kvp': 1629, 'acqpinyd': 1630, 'ecygimqd': 1631, 'bctypmjw': 1632, 'cbhnxafz': 1633, 'modify': 1634, 'calling': 1635, 'signal': 1636, 'base': 1637, 'mae': 1638, 'hcuixqgj': 1639, 'mavxgqbs': 1640, 'job_conf_s': 1641, 'vid': 1642, 'pressing': 1643, 'furnace': 1644, 'atp': 1645, 'sgnubadl': 1646, 'gpkovbah': 1647, 'credential': 1648, 'cyxieuwk': 1649, 'rekwlqmu': 1650, 'compensation': 1651, 'partial': 1652, 'dg': 1653, 'destination': 1654, 'okay': 1655, 'difference': 1656, 'accout': 1657, 'cancel': 1658, 'village': 1659, 'security_tool': 1660, 'tasks': 1661, 'apo_cif_pds_am': 1662, 'cvd': 1663, 'tempuser': 1664, 'selector': 1665, 'ecc': 1666, 'resolution': 1667, 'videos': 1668, 'hrp': 1669, 'empw': 1670, 'slowness': 1671, 'canada': 1672, 'edt': 1673, 'programdntya': 1674, 'docad': 1675, 'vln': 1676, 'sept': 1677, 'go': 1678, 'confirm': 1679, 'improvement': 1680, 'friday': 1681, 'zigioachstyac': 1682, 'pvd': 1683, 'knowledge': 1684, 'recording': 1685, 'injection': 1686, 'balance': 1687, 'google': 1688, 'ahlqgjwx': 1689, 'wbsfavhg': 1690, 'clocks': 1691, 'zload': 1692, 'ansi': 1693, 'rn': 1694, 'deliveries': 1695, 'terminal': 1696, 'allowing': 1697, 'ce': 1698, 'damage': 1699, 'displaying': 1700, 'td': 1701, 'zedlet': 1702, 'ordering': 1703, 'category': 1704, 'job_c': 1705, 'robhyertyj': 1706, 'lhbsm': 1707, 'trust': 1708, 'relations': 1709, 'this': 1710, 'ng': 1711, 'bur': 1712, 'orde': 1713, 'sheet': 1714, 'koenigsee': 1715, 'unknown': 1716, 'team': 1717, 'dcc': 1718, '__': 1719, 'own': 1720, 'att': 1721, 'turkey': 1722, 'bk_hana_sid__os_dly_dp': 1723, 'pollaurido': 1724, 'checking': 1725, 'continuously': 1726, 'ghaltiek': 1727, 'lsuepvyx': 1728, 'adoption': 1729, 'successfully': 1730, 'kt': 1731, 'hotel': 1732, 'others': 1733, 'vulnerability': 1734, 'dnc': 1735, 'questions': 1736, 'engineering_drawing_tool': 1737, 'lbdw': 1738, 'additional': 1739, 'xaqzisrk': 1740, 'ahbgjrqz': 1741, 'strahlraum': 1742, 'european': 1743, 'flickering': 1744, 'benz': 1745, 'caas': 1746, 'occurrences': 1747, 'dropping': 1748, 'sourcing': 1749, 'reader': 1750, 'crash': 1751, 'survey': 1752, 'msfc': 1753, 'cutview': 1754, 'conditions': 1755, 'migration': 1756, 'double': 1757, 'vmax': 1758, 'repeated': 1759, 'capacity': 1760, 'nicht': 1761, 'born': 1762, 'damaged': 1763, 'datacenter': 1764, 'palo': 1765, 'usage': 1766, 'aug': 1767, 'erpdata': 1768, 'ecwtrjnq': 1769, 'jpecxuty': 1770, 'mm_zscr_dly_merktc': 1771, 'abc': 1772, 'uk': 1773, 'mx': 1774, 'originals': 1775, 'expiry': 1776, 'said': 1777, 'nor': 1778, 'probably': 1779, 'outbox': 1780, 'standard': 1781, 'pulled': 1782, 'travel_tool': 1783, 'mistake': 1784, 'wallpaper': 1785, 'clicked': 1786, 'virtual': 1787, 'rectified': 1788, 'inbound': 1789, 'prs': 1790, 'esrs': 1791, 'monitoring': 1792, 'dialog': 1793, 'pushed': 1794, 'davidthd': 1795, 'copies': 1796, 'sponsor': 1797, 'mailboxes': 1798, 'small': 1799, 'trunk': 1800, 'updation': 1801, 'beamer': 1802, 'memo': 1803, 'development': 1804, 'knlrgsiv': 1805, 'cqvuexjz': 1806, 'xoukpfvr': 1807, 'oxvakgcl': 1808, 'jabra': 1809, 'removing': 1810, 'reminders': 1811, 'thrydad': 1812, 'professional': 1813, 'loads': 1814, 'cockpit': 1815, 'opens': 1816, 'mass': 1817, 'lnbdm': 1818, 'padelph\\u200bia': 1819, 'zqt': 1820, 'cracked': 1821, 'touch': 1822, 'can´t': 1823, 'speaker': 1824, 'expiring': 1825, 'aese': 1826, 'bug': 1827, 'erosion': 1828, 'mount': 1829, 'backup_tool': 1830, 'zlz': 1831, 'zero': 1832, 'else': 1833, 'bk_hana_sid__os_wly_dp': 1834, 'bkbackup_tool_sql_prod_full': 1835, 'dr': 1836, 'flasg': 1837, 'although': 1838, 'well': 1839, 'missed': 1840, 'indexing': 1841, 'configuring': 1842, 'emsw': 1843, 'activities': 1844, 'hxgayczeraum': 1845, 'planner': 1846, 'rfcserver': 1847, 'lable': 1848, 'bk_biaprod': 1849, 'calculator': 1850, 'merdivan': 1851, 'lasplant_': 1852, 'reacg': 1853, 'reincker': 1854, 'kentip': 1855, 'various': 1856, 'etc': 1857, 'slip': 1858, 'thx': 1859, 'lpoebzsc': 1860, 'grknswyo': 1861, 'castings': 1862, 'idg': 1863, 'ran': 1864, 'calibration': 1865, 'sso': 1866, 'srvlavstorage': 1867, 'tooling': 1868, 'documentation': 1869, 'drafting': 1870, 'here': 1871, 'pdv': 1872, 'pn': 1873, 'profit': 1874, 'sandblasting': 1875, 'usalikfj': 1876, 'lfmpxbcn': 1877, 'stand': 1878, 'money': 1879, 'responds': 1880, 'en': 1881, 'applicable': 1882, 'ibm': 1883, 'pmr': 1884, 'arsbtkvd': 1885, 'qieagkos': 1886, 'scheduling': 1887, 'aa': 1888, 'temp': 1889, 'unread': 1890, 'sometg': 1891, 'empwa': 1892, 'trial': 1893, 'validity': 1894, 'push': 1895, 'lrrw': 1896, 'leaving': 1897, 'globalace_holemaking': 1898, 'ha': 1899, 'walkme': 1900, 'plugin': 1901, 'camera': 1902, 'fp': 1903, 'utiliuytretion': 1904, 'dongle': 1905, 'wild': 1906, 'grade': 1907, 'part': 1908, 'soldfnbq': 1909, 'uhnbsvqd': 1910, 'commstorage_product': 1911, 'corrupted': 1912, 'concall': 1913, 'yonyou': 1914, 'eh': 1915, 'oziflwma': 1916, 'nhgvmqdl': 1917, 'optiplex': 1918, 'xpugntjv': 1919, 'zcaermdt': 1920, 'loin': 1921, 'sk': 1922, 'initial': 1923, 'media': 1924, 'performed': 1925, 'ray': 1926, 'hqap': 1927, 'rqeuest': 1928, 'bar': 1929, 'rods': 1930, 'projects': 1931, 'webi': 1932, 'pending': 1933, 'physical': 1934, 'spaces': 1935, 'temporary': 1936, 'lync': 1937, 'low': 1938, 'mdw': 1939, 'bld': 1940, 'carb': 1941, 'matlxjgi': 1942, 'elrndiuy': 1943, 'fail': 1944, 'bwsdslspln': 1945, 'pass': 1946, 'zaf': 1947, 'generirtc': 1948, 'rerouting': 1949, 'statements': 1950, 'tabs': 1951, 'confidential': 1952, 'invoicing': 1953, 'tauschen': 1954, 'next': 1955, 'attendance': 1956, 'sped': 1957, 'verification': 1958, 'proper': 1959, 'register': 1960, 'intermittently': 1961, 'essa': 1962, 'workgroups': 1963, 'gogtyekthyto': 1964, \"error'\": 1965, 'makes': 1966, 'random': 1967, 'printouts': 1968, 'youfzmgp': 1969, 'xvysrnmb': 1970, 'trainer': 1971, 'alt': 1972, 'released': 1973, 'oa': 1974, 'schoegdythu': 1975, 'infrastructure': 1976, 'expire': 1977, 'randomly': 1978, 'wrongful': 1979, 'zip': 1980, 'dw': 1981, 'copying': 1982, 'sid_ora': 1983, 'ypladjeu': 1984, 'wzfryxav': 1985, 'retrieve': 1986, 'byclpwmv': 1987, 'esafrtbh': 1988, 'mtb': 1989, 'mgmt': 1990, 'adaptor': 1991, 'plc': 1992, 'dp': 1993, 'eglavnhx': 1994, 'uprodleq': 1995, 'impacts': 1996, 'match': 1997, 'gtehdnyu': 1998, 'prtqi': 1999, 'someone': 2000, 'db': 2001, 'ph': 2002, 'accessed': 2003, 'cert': 2004, 'behalf': 2005, 'ordner': 2006, 'paternoster': 2007, 'records': 2008, 'front': 2009, 'way': 2010, 'rack': 2011, 'break': 2012, 'bulk': 2013, 'abholen': 2014, 'alte': 2015, 'fdyietau': 2016, 'dvsyxwbu': 2017, 'jam': 2018, 'reg': 2019, 'charge': 2020, 'reachable': 2021, 'contacted': 2022, 'unreachable': 2023, 'populating': 2024, 'older': 2025, 'tiyhum': 2026, 'kuyiomar': 2027, 'uploading': 2028, 'mileage': 2029, 'wrongly': 2030, 'buttons': 2031, 'keypad': 2032, 'bkwin_tax_interface_qa_daily': 2033, 'technical': 2034, 'bkwin_tax_interface_dev_daily': 2035, 'min': 2036, 'despite': 2037, 'achthyardk': 2038, 'blanks': 2039, 'designer': 2040, 'sintering': 2041, 'salary': 2042, 'weszfyok': 2043, 'fbadnjhu': 2044, 'sm': 2045, 'slowing': 2046, 'figures': 2047, 'prtgt': 2048, 'gt': 2049, 'lookup': 2050, 'features': 2051, 'asked': 2052, 'consultant': 2053, 'ribbon': 2054, 'busy': 2055, 'took': 2056, 'xceliron': 2057, 'where': 2058, 'resulting': 2059, 'sinic': 2060, 'extensions': 2061, 'resource': 2062, 'kxmidsga': 2063, 'timecards': 2064, 'hostname_failagain': 2065, 'vvwhtyuy': 2066, 'kicked': 2067, 'tory': 2068, 'stated': 2069, \"whsipqno's\": 2070, 'participants': 2071, 'timecard': 2072, 'making': 2073, 'upgraded': 2074, 'administrator': 2075, 'usas': 2076, 'lehsm': 2077, 'quantity': 2078, 'completely': 2079, 'job_w': 2080, 'horeduca': 2081, 'ogrnm': 2082, 'gives': 2083, 'cpinsety': 2084, 'spelling': 2085, 'party': 2086, 'saving': 2087, 'dymanics': 2088, 'ejecting': 2089, 'sheets': 2090, 'materials': 2091, 'transport': 2092, 'engineering_application': 2093, 'cutter': 2094, 'z_chk': 2095, 'latency': 2096, 'mwst': 2097, 'lead': 2098, 'checked': 2099, 'jb_ecc_bw_zsd': 2100, 'revert': 2101, 'delta': 2102, 'broke': 2103, 'ir': 2104, 'error_urgently': 2105, 'notebook': 2106, 'companycenter': 2107, 'bench': 2108, 'guard': 2109, 'seen': 2110, 'cloud': 2111, 'contract': 2112, 'transfered': 2113, 'vuxdrbng': 2114, 'owqplduj': 2115, 'prdord': 2116, 'continues': 2117, 'anytg': 2118, 'loggin': 2119, 'attach': 2120, 'main': 2121, 'appreciate': 2122, 'don´t': 2123, 'zlnfpuam': 2124, 'aktplhre': 2125, 'logo': 2126, 'fqhlvcxn': 2127, 'zdfymgjp': 2128, 'bare': 2129, 'executable': 2130, 'bridgex': 2131, 'kingston': 2132, 'keep': 2133, 'technology': 2134, 'workplace': 2135, 'usd': 2136, 'intelligence': 2137, 'claim': 2138, 'boxes': 2139, 'parts': 2140, 'referenced': 2141, 'past': 2142, 'issued': 2143, 'lxvunpiz': 2144, 'mgjxwept': 2145, 'procenter': 2146, 'joiner': 2147, 'bk_hana_sid__arc_dp': 2148, 'pumjbcna': 2149, 'scluvtyj': 2150, 'pose': 2151, 'faulty': 2152, 'materials_management': 2153, 'switzerland': 2154, 'browse': 2155, 'alrthyu': 2156, 'mikhghytr': 2157, 'nicrhty': 2158, 'bill': 2159, 'operators': 2160, 'cyvdluja': 2161, 'oxrkfpbz': 2162, 'ports': 2163, 'nightly': 2164, 'shopping': 2165, 'peer': 2166, 'chainverifier': 2167, 'enabled': 2168, 'signed': 2169, 'universal': 2170, 'ecs': 2171, 'classified': 2172, 'prices': 2173, 'revised': 2174, 'overview': 2175, 'neerthyu': 2176, 'apo_cif_pds_eu': 2177, 'invoice': 2178, 'johthryugftyson': 2179, 'city': 2180, 'clappdico': 2181, 'synced': 2182, 'good': 2183, 'olympus': 2184, 'staebefertigung': 2185, 'qs': 2186, 'difozlav': 2187, 'dgbfptos': 2188, 'pur': 2189, 'subcontracting': 2190, 'much': 2191, 'gesperrt': 2192, 'trainee': 2193, 'picture': 2194, 'licensed': 2195, 'mscrm': 2196, 'dead': 2197, 'prt': 2198, 'galaxy': 2199, 'lcow': 2200, 'clad': 2201, 'cables': 2202, 'accepted': 2203, 'rlhuwmve': 2204, 'krcfhoxj': 2205, 'briefly': 2206, 'play': 2207, 'campaign': 2208, 'reporting_engineering_tool': 2209, 'dc': 2210, 'jxphgfmb': 2211, 'gjbtuwek': 2212, 'experience': 2213, 'networking': 2214, 'microphone': 2215, 'oe': 2216, 'sin': 2217, 'jnb': 2218, 'sender': 2219, 'usx': 2220, 'tengigabitethernet': 2221, 'tech': 2222, 'xp': 2223, 'links': 2224, 'loop': 2225, 'bwa': 2226, 'pasword': 2227, 'standstill': 2228, 'necessary': 2229, 'receipts': 2230, 'notice': 2231, 'canadian': 2232, 'newweaver': 2233, 'esprit': 2234, 'tuning': 2235, 'terhyury': 2236, 'object': 2237, 'sidecar': 2238, 'vcenter': 2239, 'lcosm': 2240, 'yolktfas': 2241, 'fyoxqgvh': 2242, 'opposite': 2243, 'content': 2244, 'program': 2245, 'dntym': 2246, 'fault': 2247, 'pthsqroz': 2248, 'moedyanvess': 2249, 'telefon': 2250, 'posrt': 2251, 'vsbhyrt': 2252, 'laijuttr': 2253, 'stating': 2254, 'csqe': 2255, 'sandplant_': 2256, 'apul': 2257, 'smart': 2258, 'incoming': 2259, 'task': 2260, 'mic': 2261, 'infotype': 2262, 'travelers': 2263, 'powder': 2264, 'hotspot': 2265, 'magento': 2266, 'accidentally': 2267, 'thomafghk': 2268, 'fwd': 2269, 'less': 2270, 'ethernet': 2271, 'replaced': 2272, 'waiting': 2273, 'agathon': 2274, 'gonzales': 2275, 'kpobysnc': 2276, 'tqvefyui': 2277, 'mi': 2278, 'vsid_': 2279, 'foreign': 2280, 'italy': 2281, 'selected': 2282, 'expenses': 2283, 'synchronize': 2284, 'gf': 2285, 'recognize': 2286, 'digital': 2287, 'bfqnvezs': 2288, 'vwkasnxe': 2289, 'vaigycet': 2290, 'jtgmpdcr': 2291, 'charm': 2292, 'imts': 2293, 'carry': 2294, 'monitors': 2295, 'duration': 2296, 'py': 2297, 'sid_user': 2298, 'functionality': 2299, 'howfanzi': 2300, 'siavgtby': 2301, 'elengineering': 2302, 'toolonic': 2303, 'efdl': 2304, 'parting': 2305, 'restoration': 2306, 'round': 2307, 'mill': 2308, 'regular': 2309, 'savin': 2310, 'background': 2311, 'disconnection': 2312, 'recurring': 2313, 'impossible': 2314, 'personnel': 2315, 'ujtmipzv': 2316, 'cwdzunxs': 2317, 'made': 2318, 'lab': 2319, 'perform': 2320, 'accrual': 2321, 'values': 2322, 'calculated': 2323, 'delivering': 2324, 'contractor': 2325, 'dac': 2326, 'batches': 2327, 'ru': 2328, 'aqzcisjy': 2329, 'raflghneib': 2330, 'steli': 2331, 'png': 2332, 'jundiai': 2333, 'checks': 2334, 'azurewebsites': 2335, 'glovia': 2336, 'dane': 2337, 'williuthyr': 2338, 'reparo': 2339, 'snapshot': 2340, 'sments': 2341, 'devices': 2342, 'rgtw': 2343, 'simple': 2344, 'znqcljxt': 2345, \"azvoespk's\": 2346, 'nc': 2347, 'maces': 2348, 'flashes': 2349, 'iehs': 2350, 'scroll': 2351, 'everytime': 2352, 'lichtyuiwu': 2353, 'cplant_': 2354, 'opportstorage_product': 2355, 'rghkiriuytes': 2356, 'pin': 2357, 'instructions': 2358, 'dfrt': 2359, 'extending': 2360, 'wrench_engineering_tool': 2361, 'macro': 2362, 'recently': 2363, 'organization': 2364, 'agbighyail': 2365, \"espinosa's\": 2366, 'undeliverable': 2367, 'failures': 2368, 'tsicojkp': 2369, 'kghaozew': 2370, 'applied': 2371, 'studio': 2372, 'pyeothbl': 2373, 'agfxelwz': 2374, 'vacation': 2375, 'ar': 2376, 'keyboard': 2377, 'rest': 2378, 'tm': 2379, 'outputs': 2380, 'solve': 2381, 'consignment': 2382, 'vrtx': 2383, 'rounding': 2384, 'tcl': 2385, 'rqxsm': 2386, 'score': 2387, 'dot': 2388, 'homepage': 2389, 'doing': 2390, 'ebusiness': 2391, 'esxi': 2392, 'functions': 2393, 'yet': 2394, 'dial': 2395, 'tone': 2396, 'returns': 2397, 'former': 2398, 'fron': 2399, 'corrections': 2400, 'tr': 2401, 'source': 2402, 'nv': 2403, 'nfayqjhg': 2404, 'kyswcpei': 2405, 'fell': 2406, 'asset': 2407, 'communicating': 2408, 'uperform': 2409, 'role': 2410, 'são': 2411, 'common': 2412, 'kurtyar': 2413, 'zhrgtangs': 2414, 'scanners': 2415, 'msg': 2416, 'shutting': 2417, 'agents': 2418, 'ng_azubi': 2419, 'vvdortddp': 2420, 'transition': 2421, 'ora': 2422, 'ksem': 2423, 'ewkw': 2424, 'cord': 2425, 'cago': 2426, 'immediate': 2427, 'connections': 2428, 'ic': 2429, 'bom': 2430, 'exists': 2431, 'calculation': 2432, 'fd': 2433, 'dscsag': 2434, 'mp_fb': 2435, 'movement': 2436, 'cwfzldts': 2437, 'dlmukhyn': 2438, 'requistions': 2439, 'punch': 2440, 'catalogues': 2441, 'job_e': 2442, 'title': 2443, 'returned': 2444, 'jobuacyltoe': 2445, 'advice': 2446, 'hlighted': 2447, 'supplement': 2448, 'evaluate': 2449, 'ald': 2450, 'isr': 2451, 'mainswitch': 2452, 'openning': 2453, 'complaints': 2454, 'sqlmtixr': 2455, 'urhbvfgd': 2456, 'submitting': 2457, 'higher': 2458, 'level': 2459, 'vv': 2460, 'operating': 2461, 'ce_cs': 2462, 'successful': 2463, 'hr_tooldplcmmaninp': 2464, 'limitation': 2465, 'lockouts': 2466, 'weight': 2467, 'assigning': 2468, 'each': 2469, 'beschtungsleitstand': 2470, 'wsp': 2471, 'ecaa': 2472, 'michthey': 2473, 'dash': 2474, 'wwisvc': 2475, 'gte': 2476, 'tries': 2477, 'intern': 2478, \"udp'\": 2479, 'aler': 2480, 'filesystem': 2481, 'prospect': 2482, 'prb': 2483, 'terms': 2484, 'variable': 2485, 'command': 2486, 'welcome': 2487, 'sipppr': 2488, 'funktioniert': 2489, 'intranet': 2490, 'signature': 2491, 'lagp': 2492, 'triggered': 2493, 'blade': 2494, 'chassis': 2495, 'mss': 2496, 'suzjhmfa': 2497, 'swmiynoz': 2498, 'storage': 2499, 'lhqwsf': 2500, 'minute': 2501, 'nt': 2502, 'spell': 2503, 'brings': 2504, 'unlicensed': 2505, 'nvawmlch': 2506, 'ubyjolnc': 2507, 'tg': 2508, 'news': 2509, 'lokced': 2510, 'jdcbiezx': 2511, 'fu': 2512, 'lpaw': 2513, 'completion': 2514, 'oprbatch': 2515, 'typing': 2516, 'infoblox': 2517, 'lpawxsf': 2518, 'locky': 2519, 'lpal': 2520, 'vvfrtgarnb': 2521, 'fim': 2522, 'recent': 2523, 'mdm': 2524, 'df': 2525, 'kebogxzp': 2526, 'difnjlkp': 2527, 'couskjgd': 2528, 'uzojtkmh': 2529, 'smtp': 2530, 'mnakehrf': 2531, 'mvunqihf': 2532, 'unblock': 2533, 'mountpoint': 2534, 'ins': 2535, 'sgxqsuojr': 2536, 'xwbesorf': 2537, 'undocking': 2538, 'duplication': 2539, 'rewards': 2540, 'dlv': 2541, 'xyz': 2542, 'al': 2543, 'ave': 2544, 'yhmwxsqj': 2545, 'ugnthxky': 2546, 'apo_bop_plant_a': 2547, 'callback': 2548, 'upitdmhz': 2549, 'owupktcg': 2550, 'cruzjc': 2551, 'cs': 2552, 'erp_print_tool': 2553, 'wseacnvi': 2554, 'azvixyqg': 2555, 'hckvpary': 2556, 'emxbpkwy': 2557, '撤回': 2558, 'ijeqpkrz': 2559, 'nwtehsyx': 2560, 'grauw': 2561, 'dfgry': 2562, 'attendee': 2563, '青岛兴合机电sment': 2564, 'notification邮箱设置': 2565, 'recover': 2566, 'titcket': 2567, 'receivng': 2568, 'chrtyad': 2569, 'ltaballotcsalesemp': 2570, 'thrdy': 2571, 'tgyu': 2572, 'mahcine': 2573, 'khdgd': 2574, 'dl': 2575, 'gstry': 2576, 'arexjftu': 2577, 'ohxdwngl': 2578, 'bgdxitwu': 2579, \"dhcopwxa'\": 2580, 'acknowledgements': 2581, 'whom': 2582, 'serirtce': 2583, 'renewal': 2584, 'resetfor': 2585, 'itry': 2586, 'taxes': 2587, 'reso': 2588, 'fgxprnub': 2589, 'hlanwgqj': 2590, 'neues': 2591, 'accountname': 2592, 'tgryhu': 2593, 'hgygrtui': 2594, 'outlook收到箱中folder变为每天一个folder': 2595, 'office提示更新。': 2596, 'identified': 2597, 'may': 2598, 'hprdlbxf': 2599, 'nozjtgwi': 2600, 'bog': 2601, 'choppy': 2602, 'flickers': 2603, 'delayed': 2604, 'ist': 2605, 'sehr': 2606, 'langsadgtym': 2607, 'ywqgrbnx': 2608, 'jwnsyzbv': 2609, 'eq': 2610, 'tgeyd': 2611, 'colleagues': 2612, 'replying': 2613, 'hdthy': 2614, 'hstdd': 2615, 'dept': 2616, 'commerirtcal': 2617, 'classroom': 2618, 'intercom': 2619, 'ekpsm': 2620, 'ipbl': 2621, 'lmsl': 2622, 'govt': 2623, 'tender': 2624, 'procurement': 2625, 'rtnzvplq': 2626, 'erhmuncq': 2627, 'pp_eu_tool_conf_ap': 2628, 'live': 2629, 'mw_live': 2630, 'amet': 2631, 'entire': 2632, 'vvgtyrhds': 2633, 'vvkuhtdppg': 2634, 'nikulatrhdy': 2635, 'kroschke': 2636, 'downloaded': 2637, 'thnak': 2638, 'approva': 2639, 'thrys': 2640, 'hsdbdtt': 2641, 'kp': 2642, 'yscgjexz': 2643, 'hxlbvjgf': 2644, 'lhqsv': 2645, 'followup': 2646, 'retired': 2647, 'hrm': 2648, 'bkzcfmse': 2649, 'naslrwdb': 2650, 'meter': 2651, 'oncidblt': 2652, 'ucewizyd': 2653, 'vvtgryhud': 2654, 'axhkewnv': 2655, 'zpumhlic': 2656, 'dnlhsgyo': 2657, 'newducsl': 2658, 'workplanning': 2659, 'bbo': 2660, 'possibilites': 2661, 'consulting': 2662, 'reactivation': 2663, 'etdh': 2664, \"thsydaas's\": 2665, 'recurrent': 2666, 'penn': 2667, 'auditor': 2668, 'trhfyd': 2669, 'sugajadd': 2670, 'qnxfegjw': 2671, 'rljdhmwb': 2672, 'thrydsss': 2673, 'funke': 2674, 'illustrated': 2675, 'vepxdgot': 2676, 'poezmwny': 2677, 'flow': 2678, 'managers': 2679, 'skpe': 2680, 'addon': 2681, 'delivers': 2682, 'maintained': 2683, 'fy_': 2684, 'trhdaa': 2685, 'startpassword': 2686, 'costs': 2687, 'mvgr': 2688, 'wk_ksem': 2689, 'timerecording': 2690, 'terminals': 2691, 'bcom': 2692, 'trhsydsff': 2693, 'backorderreports': 2694, 'counterpart': 2695, 'bngell': 2696, 'cgdaytshqsd': 2697, '打不开': 2698, '显示无法创建新的堆栈防护页面': 2699, '看不见a': 2700, '的文件夹': 2701, '请帮忙弄一下。sahtym': 2702, 'wanthryg': 2703, 'fr': 2704, 'qpixeudn': 2705, 'rjlziysd': 2706, 'badges': 2707, 'ringing': 2708, 'filtering': 2709, 'aeftjxos': 2710, 'lhnyofad': 2711, 'vvsardkajdjtf': 2712, 'ccghksdm': 2713, 'eluvxqhw': 2714, 'gpbfkqeu': 2715, 'pntp': 2716, 'zntc': 2717, 'calculating': 2718, 'bobjee': 2719, 'idb': 2720, 'jumps': 2721, 'curser': 2722, 'hxgayczemii': 2723, 'conflict': 2724, 'infosthryda': 2725, 'mgvpoyqd': 2726, 'tnlshpwb': 2727, 'fuser': 2728, 'efrjkspc': 2729, 'sfhbunrp': 2730, 'retention': 2731, 'won´t': 2732, 'departements': 2733, 'thryad': 2734, 'saying': 2735, 'bettery': 2736, 'bfnvjgxd': 2737, 'trqmnpvu': 2738, 'awywx': 2739, 'rddept': 2740, 'salesforce': 2741, 'hathryrtmut': 2742, 'reportncqulao': 2743, 'qauighdpnager': 2744, 'edge': 2745, 'nzuofeam': 2746, 'exszgtwd': 2747, 'hanging': 2748, 'loaction': 2749, 'de_industrial': 2750, 'gen': 2751, 'ing': 2752, 'transportation': 2753, 'ici': 2754, 'vvjotsgssea': 2755, 'lib': 2756, 'doesn': 2757, '´t': 2758, 'requriment': 2759, 'ly': 2760, 'rd': 2761, 'trail': 2762, 'thsaqsh': 2763, 'automation': 2764, '打开一些文件时提示错误。': 2765, 'tomyhoen': 2766, 'bkbackup_tool_csqe_dev_inc': 2767, 'bwhrerattr': 2768, 'rpmwh': 2769, 'bkbackup_tool_o_primary_prod_full': 2770, 'ktthasb': 2771, 'dwon': 2772, 'kmzucxgq': 2773, 'vjzfocgt': 2774, 'beeping': 2775, 'ctc': 2776, 'perhaps': 2777, 'refusing': 2778, 'encrypted': 2779, 'janhduh': 2780, 'keehadfvkgaalen': 2781, 'anyone': 2782, 'bertsckaadyd': 2783, 'xml': 2784, 'don': 2785, 'jgxmafwk': 2786, 'mlroijfp': 2787, '·shopfloor__schuette_': 2788, 'qkgnwxto': 2789, 'dwtivjrp': 2790, 'collaboration_tool': 2791, 'lion': 2792, 'knicrhtyt': 2793, 'plot': 2794, 'lpawhdt': 2795, 'expedite': 2796, 'trigger': 2797, 'recovery': 2798, 'kba': 2799, 'hxgayczeen': 2800, 'pihddltzr': 2801, 'gogtyekhan': 2802, 'interrupted': 2803, 'werkleitungger': 2804, 'impacted': 2805, 'reactive': 2806, 'dudyhuyv': 2807, 'eps': 2808, 'netpath': 2809, 'microsoftonline': 2810, 'piltzrnj': 2811, 'erp密码忘记': 2812, 'fenthgh': 2813, 'fence': 2814, 'hwddwwd': 2815, 'wdflefrong': 2816, 'wdnwe': 2817, 'svfuhlnx': 2818, 'aqrzskpg': 2819, 'sasqkjqh': 2820, 'lwddkqddq': 2821, 'cl_ps': 2822, 'vvtdfettc': 2823, 'dalmdwppi': 2824, 'doesn´t': 2825, 'modem': 2826, \"'serial\": 2827, 'serial': 2828, 'cookies': 2829, 'bddjwwwdw': 2830, 'axcbfuqo': 2831, 'yiagubvh': 2832, 'customization': 2833, 'plam': 2834, 'ccyks': 2835, 'never': 2836, 'worked': 2837, 'bdwdwarbara': 2838, 'toolroom': 2839, 'itar': 2840, 'wdwddw': 2841, 'wwdyuan': 2842, 'yqddquanw': 2843, 'ouutlook': 2844, 'xvwchsdg': 2845, 'pladjmxt': 2846, 'design': 2847, 'pane': 2848, 'addins': 2849, 'vale': 2850, 'rckf': 2851, 'grind': 2852, 'gogtyektdgwo': 2853, 'ringtone': 2854, 'hedjdbwlmut': 2855, 'nwwiebler': 2856, 'awddmwdol': 2857, 'mwddwansuke': 2858, 'cut': 2859, 'scratch': 2860, 'chrashes': 2861, 'wqw': 2862, 'ksdvp': 2863, 'rmb': 2864, 'finally': 2865, 'mesz': 2866, 'qmsoft': 2867, 'skr': 2868, 'zsd_mexico_inwarehouse_tool_extract': 2869, 'rgpvdhcm': 2870, 'mgvpabsj': 2871, 'ks': 2872, 'zsdr': 2873, 'lkzddens': 2874, 'it_': 2875, 'hang': 2876, 'ycgkinov': 2877, 'czoparqg': 2878, 'business_client无法登入': 2879, 'west': 2880, 'coast': 2881, 'grab': 2882, 'undating': 2883, 'yrhackgt': 2884, 'sfhxckgq': 2885, 'mesaage': 2886, 'datacntr': 2887, 'konica': 2888, 'potthryzler': 2889, 'potsffwzlo': 2890, 'winwip': 2891, 'buy': 2892, 'ksff': 2893, 'dashbankrds': 2894, 'rpgcdbfa': 2895, 'reuwibpt': 2896, 'pildladjadga': 2897, 'bokrgadgsu': 2898, 'esdwduobrlcn': 2899, 'eagcldaten': 2900, 'csd_emealeitung': 2901, 'pandethrypv': 2902, 'ckfobaxd': 2903, 'wgnejyvt': 2904, 'waste': 2905, 'belgium': 2906, 'callsariving': 2907, 'agnwfwieszka': 2908, 'kubiadfffk': 2909, 'mex': 2910, 'ksxchbaf': 2911, 'rhquvzfm': 2912, 'passowrd': 2913, 'entsperren': 2914, 'bag': 2915, 'adopter': 2916, 'established': 2917, 'deilvery': 2918, 'plus': 2919, 'french': 2920, 'lauredwwden': 2921, 'hwffiglhkins': 2922, 'phvwitud': 2923, 'kvetadzo': 2924, 'drop': 2925, 'ss': 2926, 'brthryian': 2927, 'lsgthhuart': 2928, 'yhteijwf': 2929, 'llwlfazo': 2930, 'suspected': 2931, 'datafile': 2932, 'perpsrglovia': 2933, 'srglovia_': 2934, 'srglovia': 2935, 'corsthroc': 2936, 'ltabthrysallotcsalesman': 2937, 'ost': 2938, 'workflows': 2939, 'oulook': 2940, 'sharepont': 2941, 'blktuiae': 2942, 'jzakfmhw': 2943, 'jet': 2944, 'benethrytte': 2945, 'cthoursook': 2946, 'submittal': 2947, 'bplnyedg': 2948, 'vobluewg': 2949, 'placed': 2950, 'appreciatehub': 2951, 'ghost': 2952, 'keeping': 2953, 'openorderbook_vg_rev': 2954, 'accdb': 2955, 'uninstalling': 2956, 'slimware': 2957, 'technologies': 2958, 'venue': 2959, 'vpro': 2960, 'detachable': 2961, 'severe': 2962, 'specified': 2963, 'mrtr': 2964, 'rzxfgmcu': 2965, 'xprwayoc': 2966, 'redirect': 2967, 'canceled': 2968, 'eweausbildung': 2969, 'jannek': 2970, 'hündling': 2971, 'reacts': 2972, 'extremely': 2973, 'cwivnxuk': 2974, 'izmxqfud': 2975, 'miowvyrs': 2976, 'qkspyrdms': 2977, 'vvtathadnda': 2978, 'portable': 2979, 'jesjnlyenmrest': 2980, 'mokolthrla': 2981, 'towns': 2982, 'bertes': 2983, 'disconnect': 2984, 'lpapr': 2985, 'temperature': 2986, 'cabane': 2987, 'pluytd': 2988, 'erthryika': 2989, 'plaunyud': 2990, 'herself': 2991, 'pxvjczdt': 2992, 'kizsjfpq': 2993, 'ztax': 2994, 'taps': 2995, 'instrument': 2996, 'sever': 2997, 'workcentre': 2998, 'rr': 2999, 'rta': 3000, 'rjodlbcf': 3001, 'uorcpftk': 3002, 'fduinmtw': 3003, 'yofjs': 3004, 'hixsodl': 3005, 'ldgm': 3006, 'bcxfhekz': 3007, \"bplfrnis's\": 3008, 'zneyrlhg': 3009, 'bfiwanze': 3010, 'cothyshy': 3011, 'saves': 3012, 'icloud': 3013, 'pvn': 3014, 'cancelled': 3015, 'branding': 3016, 'precall': 3017, 'cmor': 3018, 'costing': 3019, 'dedalus': 3020, 'spdczoth': 3021, 'vajtodny': 3022, 'ldmwqubi': 3023, 'sovqeynk': 3024, 'stick': 3025, 'apprentices': 3026, 'publications': 3027, 'approver': 3028, 'stibo': 3029, 'drtawings': 3030, 'sny': 3031, 'mdvlkbac': 3032, 'uhefoqtg': 3033, 'plese': 3034, 'venktyamk': 3035, 'anmeldefehler': 3036, 'dvi': 3037, 'exceeded': 3038, 'bob': 3039, 'possibly': 3040, 'imaje': 3041, 'inkjet': 3042, 'richoscan': 3043, 'ausfall': 3044, 'qm': 3045, 'soft': 3046, 'cubdsrml': 3047, 'znewqgop': 3048, 'ned': 3049, 'nothrdaj': 3050, 'suspecting': 3051, 'threat': 3052, 'bcv_sid_': 3053, 'nesner': 3054, 'dbif_rsql_sql_error': 3055, 'sekarfts': 3056, 'sewilrxm': 3057, 'cbikymvf': 3058, 'aao': 3059, 'combinations': 3060, 'melisdfysa': 3061, 'rgrtrs': 3062, 'allows': 3063, 'hqn': 3064, 'natytse': 3065, 'sylyhtsvesuyter': 3066, 'aircap': 3067, 'idf': 3068, 'onbehalf': 3069, 'tomashtgd': 3070, 'mchectg': 3071, 'dxnzkcuh': 3072, 'eqdgoxap': 3073, 'exec': 3074, 'rgtsm': 3075, 'filed': 3076, 'raid': 3077, 'hdd': 3078, 'maihtyrhu': 3079, 'dhoalycb': 3080, 'yopvwrjq': 3081, 'batuhan': 3082, 'gueduel': 3083, 'szockfpj': 3084, 'izohlgcq': 3085, 'qdztknml': 3086, 'hpcxnyrq': 3087, 'dyqekzuc': 3088, 'djhznybt': 3089, 'imjwbogq': 3090, 'xfizlnap': 3091, 'dbednyuarski': 3092, 'thank': 3093, 'extra': 3094, 'standby': 3095, 'mcae': 3096, 'written': 3097, 'quarantined': 3098, 'ground': 3099, 'bnoupaki': 3100, 'cpeioxdz': 3101, 'kambthryes': 3102, 'exlbkpoj': 3103, 'vrkoqaje': 3104, 'jidhewlg': 3105, 'jufskody': 3106, 'specifically': 3107, 'dtheb': 3108, 'mulhylen': 3109, 'mullthyed': 3110, 'marthhty': 3111, 'sid_dataa': 3112, 'assistant': 3113, 'initialization': 3114, 'fjaqbgnld': 3115, 'yukdzwxs': 3116, 'pe_emea_fu': 3117, 'aerospace': 3118, 'docs': 3119, 'anira': 3120, 'popup': 3121, 'quaraintined': 3122, 'accsess': 3123, 'giuliasana': 3124, 'byhdderni': 3125, 'automatical': 3126, 'transfers': 3127, 'late': 3128, 'spots': 3129, 'xaykwtrf': 3130, 'amlswjfr': 3131, 'feathers': 3132, 'punches': 3133, 'grir': 3134, 'ice': 3135, 'routes': 3136, 'learning': 3137, 'distance': 3138, 'fmxcnwpu': 3139, 'tcwrdqboinition': 3140, 'edgemaster': 3141, 'defaulting': 3142, 'defaults': 3143, 'instruction': 3144, 'globalmfg': 3145, 'gethyoff': 3146, 'schoemerujt': 3147, 'mccoyimgs': 3148, 'notices': 3149, 'danyhuie': 3150, 'deyhtwet': 3151, \"client's\": 3152, 'rebooting': 3153, 'slips': 3154, 'pennsylvania': 3155, 'waynesboro': 3156, 'ultramdntyet': 3157, 'circle': 3158, 'rotates': 3159, 'ssp': 3160, 'tmunkaiv': 3161, 'ocktj': 3162, 'druker': 3163, 'programdntyms': 3164, 'logical': 3165, 'aolhgbps': 3166, 'pbxqtcek': 3167, 'quarterly': 3168, 'closing': 3169, 'guruythupyhtyad': 3170, 'servicing': 3171, 'simcard': 3172, 'holder': 3173, 'bhty': 3174, 'yhhm': 3175, 'gave': 3176, 'hotline': 3177, 'wcrbmgon': 3178, 'kcudbnrw': 3179, 'faxing': 3180, 'directly': 3181, 'xbsckemt': 3182, 'durnfyxb': 3183, 'sonstiges': 3184, 'problme': 3185, 'wsboedtj': 3186, 'yvlswgxb': 3187, 'errormessage': 3188, 'sto_mm': 3189, 'accound': 3190, 'limit': 3191, 'revision': 3192, 'distributors': 3193, 'workig': 3194, 'mini': 3195, 'handset': 3196, 'pur_req_ko': 3197, 'yeyhtung': 3198, 'kimthy': 3199, 'vvkuimtyu': 3200, 'eafe': 3201, 'black': 3202, \"usa's\": 3203, 'fuydxemo': 3204, 'fntmbpla': 3205, 'tyyhtuler': 3206, 'htull': 3207, 'bright': 3208, 'warms': 3209, 'cannont': 3210, 'building': 3211, 'mysterious': 3212, 'administra': 3213, 'controlling': 3214, 'disruption': 3215, 'helped': 3216, 'i̇lt': 3217, 'pth': 3218, 'offinance_vip': 3219, 'unsupported': 3220, \"johthryu's\": 3221, 'mrouter': 3222, 'momitor': 3223, 'neuen': 3224, 'von': 3225, 'anlegen': 3226, 'replicate': 3227, 'lvdyrqfc': 3228, 'pfnmjsok': 3229, \"jeffrghryey's\": 3230, 'alfa': 3231, \"brook's\": 3232, 'passwordproblems': 3233, 'hurry': 3234, 'kis_zebra': 3235, 'portrait': 3236, 'landscape': 3237, 'glog': 3238, 'dxf': 3239, 'buyoipdj': 3240, 'fceymwtz': 3241, 'toll': 3242, 'stops': 3243, 'hybiaxlk': 3244, 'lawptzir': 3245, 'pinter': 3246, 'fylrosuk': 3247, 'kedgmiul': 3248, 'validation': 3249, 'kslhobgj': 3250, 'cyhvefna': 3251, 'ipglathybel': 3252, 'progress': 3253, 'vvhthyoffc': 3254, 'vvwtyeidt': 3255, 'vvftgors': 3256, 'vvnergtubj': 3257, 'vvthygschj': 3258, 'bfrx': 3259, 'submitted': 3260, 'filled': 3261, 'instant': 3262, 'busienss': 3263, 'ink': 3264, 'umykjweg': 3265, 'jpwrfuhk': 3266, 'bugs': 3267, '_operator': 3268, 'terminates': 3269, 'invalidated': 3270, 'rhaycqjg': 3271, 'arcgonvy': 3272, 'preview': 3273, 'pictures': 3274, 'ashtusis': 3275, 'pyhuule': 3276, 'phufsav': 3277, 'reeset': 3278, 'spot': 3279, 'purrqs': 3280, 'rjeyfxlg': 3281, 'ltfskygw': 3282, 'dpozkmie': 3283, 'vjuybcwz': 3284, 'proc': 3285, 'counts': 3286, 'resset': 3287, 'nabjwvtd': 3288, 'sprhouiv': 3289, 'orelikon': 3290, 'balzers': 3291, 'jvpkulxw': 3292, 'ovuweygj': 3293, 'bkbackup_tool_reporting_tool_prod_full': 3294, 'vhjkdqop': 3295, 'tkhafgrc': 3296, 'sanchrtyn': 3297, 'qhjkxoyw': 3298, 'lgiovknd': 3299, 'vythytalyst': 3300, 'subtask': 3301, 'console': 3302, 'subbathykrisyuhnyrt': 3303, 'shhuivashankar': 3304, 'easyterritory': 3305, 'builder': 3306, 'resend': 3307, 'recipient': 3308, 'pstn': 3309, 'converion': 3310, 'exiting': 3311, 'genuine': 3312, 'solman': 3313, 'anleitung': 3314, 'fuer': 3315, 'webpages': 3316, 'presenting': 3317, 'cal': 3318, \"manager's\": 3319, 'pointing': 3320, 'whsipqno': 3321, 'rep': 3322, 'thursday': 3323, 'reichlhdyl': 3324, 'authorized': 3325, 'hnyeajrw': 3326, 'ctxjsolz': 3327, 'rfumsv': 3328, 'paint': 3329, 'winzip': 3330, 'numeric': 3331, 'stocktransfer': 3332, 'webportal': 3333, 'chargenverwaltung': 3334, 'corectly': 3335, 'imwveudk': 3336, 'mykcourx': 3337, 'productions': 3338, 'plans': 3339, 'hrt': 3340, 'markhtyed': 3341, 'air': 3342, 'closes': 3343, 'ugyothfz': 3344, 'ugrmkdhx': 3345, 'ambals': 3346, 'nda': 3347, 'dinthyesh': 3348, 'ethyxekirty': 3349, 'etyhumpdil': 3350, 'ends': 3351, 'sykpe': 3352, 'gjisfonb': 3353, 'odwfhmze': 3354, 'gflewxmn': 3355, 'qnxhoryg': 3356, 'term': 3357, 'masce': 3358, 'wothyehre': 3359, 'tables': 3360, 'zmc': 3361, 'antjuyhony': 3362, 'high': 3363, 'pressure': 3364, 'rfa': 3365, 'vvgoythttu': 3366, 'gokcerthy': 3367, 'aiiw': 3368, 'types': 3369, 'comparison': 3370, 'investor_relation': 3371, 'listener': 3372, 'sid_data': 3373, 'ldg': 3374, 'shipments': 3375, 'hxgayczekurtyar': 3376, 'taken': 3377, 'housekeep': 3378, 'devt': 3379, 'maint': 3380, 'ebus': 3381, 'financial_toolscal': 3382, 'years': 3383, 'financial_toolcal': 3384, 'overall': 3385, 'pf': 3386, 'none': 3387, 'sort': 3388, 'bwhrchgr': 3389, 'townhall': 3390, 'rtro': 3391, 'nicdhylas': 3392, 'hys': 3393, 'franjuz': 3394, 'urbghty': 3395, 'wharehouse': 3396, 'rus': 3397, 'nach': 3398, 'engineering_tooled': 3399, 'clint': 3400, 'seek': 3401, 'support_network': 3402, 'timeclock': 3403, 'clhr_toollant': 3404, 'ey': 3405, 'happens': 3406, 'potentional': 3407, 'laijuttryhr': 3408, 'owtlmpuv': 3409, 'oicrjsfh': 3410, 'donwloaded': 3411, 'corporateaccounting': 3412, 'reconciliations': 3413, 'misc': 3414, 'coffee': 3415, 'spillage': 3416, 'marftgytin': 3417, 'höpfner': 3418, 'hoepftyhum': 3419, 'fore': 3420, 'poruxnwb': 3421, 'yfaqhceo': 3422, 'profiles': 3423, 'upadate': 3424, 'acccount': 3425, 'dierppear': 3426, 'second': 3427, 'figure': 3428, 'dierppears': 3429, 'hat': 3430, 'sein': 3431, 'verggermany': 3432, 'favorite': 3433, 'gurts': 3434, 'lrupiepens': 3435, 'forwarding': 3436, 'designed': 3437, 'schnafk': 3438, 'hour': 3439, 'prognose': 3440, 'salesperson': 3441, 'portal_': 3442, 'worry': 3443, 'specification': 3444, 'ets_application': 3445, 'courage': 3446, 'performances': 3447, 'wip': 3448, 'pivot': 3449, 'mikdhyu': 3450, 'lihy': 3451, 'potential': 3452, 'safe': 3453, 'grethyg': 3454, 'suppliers': 3455, 'estimated': 3456, 'omiwzbue': 3457, 'auvolfhp': 3458, 'wish': 3459, 'first': 3460, 'peoples': 3461, 'wire': 3462, 'workbook': 3463, 'detetection': 3464, 'characteristic': 3465, 'early': 3466, 'stamp': 3467, 'qwsjptlo': 3468, 'hnlasbed': 3469, 'labeling': 3470, 'jmusidzr': 3471, 'sratdeol': 3472, 'zj': 3473, 'mw': 3474, 'defined': 3475, 'sartlgeo': 3476, 'lhqksbdx': 3477, 'pse': 3478, 'ssl': 3479, 'dqowbefk': 3480, 'prgxwzco': 3481, 'erpsys': 3482, 'bxeagsmt': 3483, 'zrwdgsco': 3484, 'identifying': 3485, 'root': 3486, 'inter': 3487, 'intransit': 3488, 'hpmjtgik': 3489, 'blrmfvyh': 3490, 'lbxugpjw': 3491, 'cnmfbdui': 3492, 'vvamirsdwnp': 3493, 'pallutyr': 3494, 'billed': 3495, 'upservice': 3496, 'zifujpvr': 3497, 'vxfkwaqh': 3498, 'contents': 3499, 'mm_zscr_wkly_qux': 3500, 'oemcold': 3501, 'nahytu': 3502, 'wxdvjoct': 3503, 'ckxwtoam': 3504, 'errir': 3505, 'yhe': 3506, 'sathyrui': 3507, 'sagavi': 3508, 'inspiron': 3509, 'clicking': 3510, 'fre': 3511, 'vpv': 3512, 'lately': 3513, 'everything': 3514, 'causes': 3515, 'upon': 3516, 'messed': 3517, 'permanent': 3518, 'memotech': 3519, 'constance': 3520, 'wgtyillsford': 3521, 'euromote': 3522, 'finance_vip': 3523, 'kehtxprg': 3524, 'uekapfzt': 3525, 'safety': 3526, 'sid_k': 3527, 'zsd_price_field_update': 3528, 'vvblothryor': 3529, 'tro': 3530, 'vvparthyrra': 3531, 'nov': 3532, 'vvnewthey': 3533, 'workcenter': 3534, 'error。。。': 3535, 'best': 3536, 'regards': 3537, 'bars': 3538, 'qualifying': 3539, 'prarthyr': 3540, 'jhr': 3541, 'validate': 3542, 'addiitional': 3543, 'pinged': 3544, 'elcpduzg': 3545, 'eujpstxi': 3546, 'graurkart': 3547, 'extraction': 3548, 'sticks': 3549, 'refrence': 3550, 'jeknosml': 3551, 'gkcoltsy': 3552, 'developer': 3553, 'hxgayczecp': 3554, 'fkuqjwit': 3555, 'jgcsaqzi': 3556, 'lot': 3557, \"cann't\": 3558, 'kkc': 3559, 'tami': 3560, 'sev': 3561, 'storm': 3562, 'ed': 3563, 'sheehy': 3564, 'events': 3565, 'carolutyu': 3566, 'magyarics': 3567, 'prepull': 3568, 'hzmxwdrs': 3569, 'tcbjyqps': 3570, 'tapes': 3571, 'mailing': 3572, 'chrthryui': 3573, 'stavenheim': 3574, 'unbale': 3575, 'ccftv': 3576, 'brxaqlwn': 3577, 'auzroqes': 3578, 'greyed': 3579, 'uninstallation': 3580, 'adwares': 3581, 'mqjdyizg': 3582, 'amhywoqg': 3583, 'xszoedmc': 3584, 'gmhkdsnw': 3585, 'janhetgdyu': 3586, 'fox': 3587, 'chatgrylouy': 3588, 'spl': 3589, 'feed': 3590, 'aidw': 3591, 'petljhxi': 3592, 'bocxgins': 3593, 'microphones': 3594, 'wollschläger': 3595, 'immediatly': 3596, 'selecting': 3597, 'bzwrchnd': 3598, 'ysfiwvmo': 3599, '登陆': 3600, 'zsd': 3601, 'vvrassyhrt': 3602, 'relese': 3603, 'pweaver': 3604, 'tells': 3605, 'jamhdtyes': 3606, 'kinhytudel': 3607, 'connects': 3608, 'manuel': 3609, 'zuehlke': 3610, \"to's\": 3611, 'unauthorized': 3612, 'based': 3613, 'gkad': 3614, 'apper': 3615, 'privileges': 3616, 'websites': 3617, 'visibility': 3618, 'invitation': 3619, 'pathuick': 3620, 'stope': 3621, 'series': 3622, 'tom': 3623, 'karghyuens': 3624, 'newest': 3625, 'sufficient': 3626, 'edv': 3627, 'wurdack': 3628, 'steinich': 3629, 'moblews': 3630, 'reddakv': 3631, 'kgueyiwp': 3632, 'cjlonvme': 3633, 'helmu': 3634, 'vvgraec': 3635, 'downloader': 3636, 'transmission': 3637, 'zpononpo': 3638, \"mp's\": 3639, 'care': 3640, 'zzsdspc': 3641, 'droracle': 3642, 'mrs': 3643, 'koburvmc': 3644, 'jwzlebap': 3645, 'prtsg': 3646, 'ruenzm': 3647, 'ceo': 3648, 'deloro': 3649, 'murakt': 3650, 'protel': 3651, 'knemilvx': 3652, 'dvqtziya': 3653, 'ba': 3654, 'task_please': 3655, 'ask': 3656, 'zwip': 3657, 'metal': 3658, 'cutting': 3659, 'custom': 3660, 'ok': 3661, 'ready': 3662, 'him': 3663, 'srvlavpwdrprd': 3664, 'dealer': 3665, 'vkm': 3666, 'johhdyanna': 3667, 'kadyuiluza': 3668, 'helical': 3669, 'contracts': 3670, 'zfiu': 3671, 'credits': 3672, 'hardkopy': 3673, 'passsw': 3674, 'almrgtyeiba': 3675, 'synchronising': 3676, 'lisfgta': 3677, 'geitrhybler': 3678, 'vvkertgipn': 3679, 'foulgnmdia': 3680, 'pgsqwrumh': 3681, 'langmar': 3682, 'bei': 3683, 'der': 3684, 'projekt': 3685, 'eingabe': 3686, 'sox': 3687, 'assessments': 3688, 'priflhtret': 3689, 'rad': 3690, 'queues': 3691, 'baadea': 3692, 'kfdyzexr': 3693, 'hnbetvfk': 3694, 'cnw': 3695, 'gray': 3696, 'sliver': 3697, 'anrgtdy': 3698, 'bofffgtyin': 3699, 'addition': 3700, 'inxsupmy': 3701, 'zhwmifvx': 3702, 'response_apac': 3703, 'ulv': 3704, 'password_manager_tool': 3705, 'lowe': 3706, 'ee': 3707, 'robhyertyjs': 3708, 'receives': 3709, 'screenshots': 3710, 'deducting': 3711, 'rzonkfua': 3712, 'yidvloun': 3713, 'behaving': 3714, 'differently': 3715, 'pfgia': 3716, 'scgtitt': 3717, 'restrictions': 3718, 'invlaid': 3719, 'eald': 3720, 'symbols': 3721, 'pair': 3722, 'formation': 3723, 'vrtybundj': 3724, 'letting': 3725, 'dvsrepro': 3726, 'zrfc': 3727, 'bd': 3728, 'exporting': 3729, 'hr_engineering_tool': 3730, 'compatibility': 3731, 'arcing': 3732, 'populate': 3733, 'tranpertation': 3734, 'zone': 3735, 'upate': 3736, 'qekdgaim': 3737, 'wagshrzl': 3738, \"å'ukasz\": 3739, 'kutnik': 3740, 'jartnine': 3741, 'menue': 3742, 'cart': 3743, 'engineer': 3744, \"'godaddy\": 3745, 'bundles': 3746, \"g'\": 3747, 'ui': 3748, 'edmlx': 3749, 'viotto': 3750, 'ldiwsf': 3751, 'truview': 3752, 'looks': 3753, 'tzornbldf': 3754, 'jost': 3755, 'berfkting': 3756, 'baidu': 3757, 'uthagtpgc': 3758, 'eagsm': 3759, 'target': 3760, 'lv': 3761, 'markhtyingre': 3762, 'junk': 3763, 'serevrs': 3764, 'notifications': 3765, 'crmdynamics': 3766, 'yahoo': 3767, 'agrtywal': 3768, 'such': 3769, 'computers': 3770, 'apo_cif_psid__ap': 3771, 'zbxljotu': 3772, 'cbunzrak': 3773, 'trs': 3774, 'oweklxnm': 3775, 'ubayizsq': 3776, 'tpfghtlugn': 3777, 'ksfs': 3778, 'outlet': 3779, 'plugged': 3780, \"doens't\": 3781, 'dds': 3782, 'layout': 3783, 'fb': 3784, 'vhw': 3785, 'helftgyldt': 3786, 'qoybxkfh': 3787, 'dwcmxuea': 3788, 'jncvkrzm': 3789, 'thjquiyl': 3790, 'nakagtwsgs': 3791, 'faerfrtbj': 3792, 'dropbox': 3793, 'rtpcnyhq': 3794, 'ceqmwkto': 3795, 'temprature': 3796, 'sensor': 3797, 'recieving': 3798, 'hartwell': 3799, 'cadkey': 3800, 'dwgs': 3801, \"man's\": 3802, 'glitch': 3803, 'haveing': 3804, 'cleanup': 3805, 'cp': 3806, 'pcl': 3807, 'prtqz': 3808, 'vc': 3809, 'sometimes': 3810, 'importance': 3811, 'tims': 3812, 'ekxl': 3813, 'banking': 3814, 'detect': 3815, 'lcowx': 3816, 'gthxezqp': 3817, 'ainuhbmk': 3818, 'rolling': 3819, 'lights': 3820, 'bekommt': 3821, 'keine': 3822, 'verbindung': 3823, 'skirtylport': 3824, 'bwgldaoe': 3825, 'aczyfqjr': 3826, 'beyond': 3827, 'evolution': 3828, 'konto': 3829, 'handy': 3830, 'authentifizierungsproblem': 3831, 'kwehgxts': 3832, 'agdsqbwv': 3833, 'dvd': 3834, 'palyer': 3835, 'authorizations': 3836, 'accesses': 3837, 'cvltebaj': 3838, 'yzmcfxah': 3839, 'rostuhhwr': 3840, 'exepnse': 3841, 'qdbfemro': 3842, 'mcsqzlvd': 3843, 'sur': 3844, 'domin': 3845, 'closet': 3846, 'azure': 3847, 'clhqsm': 3848, 'isue': 3849, 'morhyerw': 3850, 'trace': 3851, 'determine': 3852, 'stall': 3853, 'zsdslsum': 3854, 'coumikzb': 3855, 'ubfcwegt': 3856, 'smartphone': 3857, 'sdlixwmb': 3858, \"zvygmnco's\": 3859, 'lanhuage': 3860, 'ontario': 3861, 'ales': 3862, 'calculate': 3863, 'ytd': 3864, 'index': 3865, 'overloaded': 3866, 'nozahtbr': 3867, 'ubznqpsy': 3868, 'mvhcoqed': 3869, 'konjdmwq': 3870, 'csd': 3871, 'ora_data': 3872, 'roaghyunokepc': 3873, 'aiuw': 3874, 'daserf': 3875, 'apt': 3876, 'leengineering_tool': 3877, 'zhm': 3878, 'identification': 3879, 'ma': 3880, 'kesm': 3881, 'himghtmelreich': 3882, 'leantracker': 3883, 'pandepv': 3884, 'cantine': 3885, 'inq': 3886, 'billings': 3887, 'upsæ': 3888, '•…': 3889, 'éšœ': 3890, 'beathe': 3891, 'rohhsyni': 3892, 'lalanne': 3893, 'jeshyensky': 3894, 'cam': 3895, 'prpf': 3896, 'prir': 3897, 'qipzctgs': 3898, 'wjhtbpfr': 3899, 'portelance': 3900, 'causing': 3901, 'aacount': 3902, 'vvshyuwb': 3903, 'ewa': 3904, 'ngfedxrp': 3905, 'oirmgqcs': 3906, 'hodgek': 3907, 'phjencfg': 3908, 'kwtcyazx': 3909, 'andhtyju': 3910, 'volkhd': 3911, 'qualify': 3912, 'leadin': 3913, 'claims': 3914, 'kk_uacyltoe': 3915, 'replication': 3916, 'zredeploy': 3917, 'future': 3918, 'spreadsheet': 3919, 'optical': 3920, 'cursors': 3921, 'direction': 3922, 'lombab': 3923, 'vrcqhnty': 3924, 'ajomhkfv': 3925, 'versions': 3926, 'wedgrtyh': 3927, 'ahsnwtey': 3928, 'presentation': 3929, 'imposible': 3930, 'admins': 3931, 'hagemeyer': 3932, 'oci': 3933, 'db_stp': 3934, 'computation': 3935, 'rickjdt': 3936, 'ainw': 3937, 'charger': 3938, 'chargeur': 3939, 'poste': 3940, 'awa': 3941, 'disconnections': 3942, 'initiate': 3943, 'msdotnet__business_client__sid_': 3944, 'reiceve': 3945, 'swatand': 3946, 'coordinate': 3947, 'eng': 3948, 'klarp': 3949, 'issue_': 3950, 'companyst': 3951, 'apc': 3952, 'referencing': 3953, 'barcodes': 3954, 'scannable': 3955, \"not'\": 3956, 'happen': 3957, 'tjlizqgc': 3958, \"ngvwoukp'\": 3959, 'outook': 3960, 'job__ap': 3961, 'bollmam': 3962, 'drlab': 3963, 'jerhtyua': 3964, 'schdule': 3965, 'company_ita_company_milano_ap': 3966, 'switzerlandim': 3967, 'std': 3968, 'dwfiykeo': 3969, 'argtxmvcumar': 3970, 'secomea': 3971, 'protection': 3972, 'lhqftphfm': 3973, \"printer's\": 3974, 'their': 3975, 'tonerpatrone': 3976, 'alle': 3977, 'catering': 3978, 'job__dr': 3979, 'loginto': 3980, 'maghtyion': 3981, 'cnjkeko': 3982, 'cekomthyr': 3983, 'huge': 3984, 'apusm': 3985, 'roles': 3986, 'schrenfgker': 3987, 'heinrifgtch': 3988, 'eeml': 3989, 'outllok': 3990, 'vvdgtyachac': 3991, 'searcg': 3992, 'jerydwbn': 3993, 'gdylnaue': 3994, 'bkbackup_tool_csqe_prod_inc': 3995, 'dmexgspl': 3996, 'mruzqhac': 3997, 'uplink': 3998, 'hgyvopct': 3999, 'dhckfmbq': 4000, 'flooded': 4001, 'water': 4002, 'awswering': 4003, 'bkwin_ms_cluster_full': 4004, 'passwordmanager': 4005, 'servrs': 4006, 'unlinked': 4007, 'paystub': 4008, 'slight': 4009, 'editable': 4010, 'fluke': 4011, 'trueview': 4012, 'appliance': 4013, \"'intermittenly\": 4014, 'vat': 4015, 'tally': 4016, 'stefdgthy': 4017, 'enclosed': 4018, 'packages': 4019, \"bom's\": 4020, 'aiqjxhuv': 4021, 'dceghpwn': 4022, 'together': 4023, 'promoting': 4024, 'mutual': 4025, 'respect': 4026, 'lopgin': 4027, 's\\xad_alr_': 4028, 's_alr_': 4029, 'passward': 4030, 'corrected': 4031, 'maps': 4032, 'johghajknn': 4033, 'explanation': 4034, 'mjvfxnka': 4035, 'zvjxuahe': 4036, 'his': 4037, 'pdfmailer': 4038, 'installl': 4039, 'ddp': 4040, \"'originals'\": 4041, 'combi': 4042, 'ebhl': 4043, 'xwgnvksi': 4044, 'dwijxgob': 4045, 'csr': 4046, 'hybegvwo': 4047, 'dbgrtqhs': 4048, 'wunderlist': 4049, 'gogtyek': 4050, 'engracia': 4051, 'fernandez': 4052, 'nad': 4053, 'vahjtusa': 4054, 'wenghtyele': 4055, 'brembo': 4056, 'vsdtxwry': 4057, 'ngkcdjye': 4058, 'earlier': 4059, 'releasing': 4060, 'syncronize': 4061, 'appointments': 4062, 'tuzkadxv': 4063, 'rxloutpn': 4064, 'gtehdnyushot': 4065, 'kennconnect': 4066, 'milano': 4067, 'duplex': 4068, 'discription': 4069, 'pt': 4070, 'indonesia': 4071, 'pratma': 4072, 'photos': 4073, 'express': 4074, 'transiit': 4075, 'art': 4076, 'jvshydix': 4077, 'rzpmnylt': 4078, 'validated': 4079, \"'save\": 4080, \"delete'\": 4081, 'jashyht': 4082, 'notion': 4083, 'mdulwthb': 4084, 'sldowapb': 4085, 'saturday': 4086, 'qcxivzag': 4087, 'vyucbagx': 4088, 'skirtylset': 4089, 'percentages': 4090, 'setrup': 4091, 'joiners': 4092, 'sections': 4093, 'supported': 4094, 'important': 4095, 'tfsehruw': 4096, 'dzrgpkyn': 4097, 'wirelss': 4098, 'ff': 4099, 'poor': 4100, 'formatheywted': 4101, 'qerror': 4102, 'rder': 4103, 'electronic': 4104, 'speker': 4105, 'conferences': 4106, 'safghghga': 4107, 'leads': 4108, 'rjc': 4109, \"sto's\": 4110, 'truck': 4111, 'fitness': 4112, 'signage': 4113, 'antivirus': 4114, 'ordinary': 4115, 'modules': 4116, 'formatting': 4117, 'nieghjyukea': 4118, 'reenable': 4119, 'vvaghjnthl': 4120, 'henghl': 4121, 'mabelteghj': 4122, 'quyhn': 4123, 'mcgudftigre': 4124, 'campus': 4125, 'qohfjpna': 4126, 'exphkims': 4127, 'mghlisha': 4128, 'baranwfhrty': 4129, 'range': 4130, 'ahydmrbu': 4131, 'fjymgtvo': 4132, 'gd': 4133, 'cached': 4134, 'edksm': 4135, 'opentext': 4136, 'wl': 4137, 'jstart': 4138, 'editing': 4139, 'situation': 4140, 'bnsh': 4141, 'hqntn': 4142, 'ng_ff': 4143, 'vlc': 4144, 'kit': 4145, 'uadkqcsj': 4146, 'xtmjlari': 4147, 'amb': 4148, 'departmenst': 4149, 'diconnection': 4150, 'bay': 4151, 'erpp': 4152, 'zollerfgh': 4153, 'frau': 4154, \"zeilmann's\": 4155, 'creased': 4156, 'qwg': 4157, 'paris': 4158, 'foundry': 4159, \"yonyou's\": 4160, 'unsuccessful': 4161, 'inqury': 4162, 'theme': 4163, 'communicate': 4164, 'tc_ps': 4165, 'laffekr': 4166, \"'h'\": 4167, 'udpate': 4168, 'rqiw': 4169, 'rqigfgage': 4170, 'supervisors': 4171, 'cl_': 4172, 'variants': 4173, 'rodstock': 4174, 'sandir': 4175, 'included': 4176, 'proposal': 4177, 'jankowski': 4178, 'country': 4179, 'origin': 4180, 'we_qs': 4181, 'metroligic': 4182, 'tips': 4183, 'ebcd': 4184, 'freetext': 4185, 'requisitions': 4186, 'cute': 4187, 'tfazwrdv': 4188, \"upwonzvd's\": 4189, 'atcl': 4190, 'atclx': 4191, 'ricoh': 4192, 'outloot': 4193, 'bkwin_search_server_qa_daily': 4194, 'qskwgjym': 4195, 'bsqdaxhf': 4196, 'paramdntyeters': 4197, 'zfd': 4198, 'lnssm': 4199, 'caused': 4200, 'incompletion': 4201, 'acess': 4202, 'continue': 4203, 'battel': 4204, 'bragtydlc': 4205, 'lb': 4206, 'brianna': 4207, 'tnghnha': 4208, 'ajuiegrson': 4209, 'met': 4210, 'matcg': 4211, 'consigned': 4212, 'deliver': 4213, 'aidl': 4214, 'thhyuokhkp': 4215, 'keyhtyvin': 4216, 'toriaytun': 4217, 'explained': 4218, 'inn': 4219, 'printout': 4220, 'sament': 4221, 'dual': 4222, 'duca': 4223, 'productmanagement': 4224, 'vvlahstyurr': 4225, 'instatnt': 4226, 'honor': 4227, 'proven': 4228, 'ps': 4229, 'foun': 4230, 'hzptilsw': 4231, 'wusdajqv': 4232, 'obsolete': 4233, 'nm': 4234, 'nghyuakm': 4235, 'xighjacj': 4236, 'druing': 4237, 'leaders': 4238, 'gabryltk': 4239, 'byczkowski': 4240, 'stankewitz': 4241, 'accespoint': 4242, 'wsb_exe': 4243, 'logger': 4244, 'opus': 4245, 'establish': 4246, 'eorjylzm': 4247, 'vrkofesj': 4248, 'vvdghtteij': 4249, 'pruchase': 4250, 'vmsw': 4251, 'mobaidfx': 4252, 'gviwlsrm': 4253, 'sorahdyggs': 4254, 'ijyuvind': 4255, 'sohytganvi': 4256, 'retrieving': 4257, 'bk_hana_sid__os_wly': 4258, 'remotely': 4259, 'traveling': 4260, 'supplied': 4261, 'weekend': 4262, 'restoring': 4263, 'sifco': 4264, 'bng': 4265, 'lcoked': 4266, 'clientless': 4267, 'supply_cn_mgmt_tool': 4268, 'catalogs': 4269, 'design_tool': 4270, 'naming': 4271, 'convention': 4272, 'dropped': 4273, 'reconnected': 4274, 'tinmuym': 4275, 'ltcl': 4276, 'hgmxq': 4277, 'hr_engineering_tools': 4278, 'bahdqrcs': 4279, \"xvgzdtqj's\": 4280, 'onbankrding': 4281, 'vms': 4282, 'meetinmg': 4283, 'fqiurzas': 4284, 'eidtfbqk': 4285, 'vvlfbhtyeisd': 4286, 'bkwin_ms_cluster_inc': 4287, 'uyjlodhq': 4288, 'ymedkatw': 4289, 'lghuiezj': 4290, 'mapped': 4291, 'units': 4292, 'guvgytniak': 4293, 'bk_bia_bobje': 4294, 'storch': 4295, 'küffner': 4296, 'wölfel': 4297, 'lxkecjgr': 4298, 'fwknxupq': 4299, 'vmthcrkf': 4300, 'iceyusnd': 4301, 'pipfhypeu': 4302, 'mbs': 4303, 'bkwin_search_server_dev_daily': 4304, 'reversed': 4305, 'valn': 4306, 'thi': 4307, 'lvlw': 4308, 'easiest': 4309, 'fabxjimdghtyo': 4310, 'depfugcy': 4311, 'eventually': 4312, 'seeing': 4313, 'snagit': 4314, 'harrfgyibs': 4315, 'messgage': 4316, 'mpls': 4317, 'vm': 4318, 'excessive': 4319, 'quantum': 4320, 'papers': 4321, 'extenral': 4322, 'ale': 4323, 'ongoing': 4324, 'sreedhar': 4325, 'robankm': 4326, 'hxwtidja': 4327, 'ixahzmvf': 4328, 'cudgevmx': 4329, 'waqslrbd': 4330, 'metrics': 4331, 'informed': 4332, 'faced': 4333, 'günter': 4334, 'steinhäyoußer': 4335, 'assets': 4336, 'additions': 4337, 'zpsr': 4338, 'zpsu': 4339, 'auf': 4340, '_scan': 4341, 'enterence_please': 4342, 'ferbfhyunam': 4343, 'house': 4344, 'spread': 4345, 'january': 4346, 'depreciation': 4347, 'uninstall': 4348, 'iwtvrhnz': 4349, 'rxiumhfk': 4350, 'qmglkaru': 4351, 'qiwhfkdv': 4352, 'miltgntyuon': 4353, 'knighdjhtyt': 4354, \"clrgtydia's\": 4355, 'partners': 4356, 'meaning': 4357, 'davgtgyrh': 4358, 'smgnhyleck': 4359, 'ytcxjzue': 4360, 'guplftok': 4361, 'krafghyumec': 4362, 'zbijdqpg': 4363, 'ehpjkwio': 4364, 'dinktyhed': 4365, 'downloads': 4366, 'ebom': 4367, 'mafgtnik': 4368, 'césar': 4369, 'abreu': 4370, 'problleme': 4371, 'bejvhsfx': 4372, 'dmvsclhp': 4373, 'reghytsa': 4374, 'purvis': 4375, \"'grade'\": 4376, 'partially': 4377, 'hebrew': 4378, 'simfghon': 4379, 'bizagi': 4380, 'securities': 4381, 'retrieval': 4382, 'issue_please': 4383, 'xcel': 4384, 'lbxgodfu': 4385, 'usperhki': 4386, 'policy': 4387, 'pol': 4388, 'vvtghjscha': 4389, '里面打开': 4390, '查看我的所有应用': 4391, '网站页面不能显示。': 4392, 'kreghtmph': 4393, 'fhr': 4394, 'gas': 4395, 'agian': 4396, 'projection': 4397, 'revise': 4398, 'dataloads': 4399, 'thdjzolw': 4400, 'submissions': 4401, 'yzugpdco': 4402, 'nsyapewg': 4403, 'investigat': 4404, 'srinfhyath': 4405, 'personally': 4406, 'three': 4407, 'organisation': 4408, 'chart': 4409, 'inventrory': 4410, 'rules': 4411, 'hotwlygp': 4412, 'afukzhnm': 4413, 'dknejifu': 4414, 'dljvtebc': 4415, 'ugawcoye': 4416, 'jcfqgviy': 4417, 'tastatutur': 4418, 'eewhse': 4419, 'enough': 4420, 'imuwhokc': 4421, 'ijdfnayb': 4422, '_kxmidsga': 4423, 'axesnghb': 4424, 'cyzuomxa': 4425, 'visual': 4426, 'parties': 4427, 'eonhuwlg': 4428, 'sxthcobm': 4429, 'wydorpzi': 4430, 'taxcizwv': 4431, 'praddgtip': 4432, 'kumfgtyar': 4433, 'kbt': 4434, 'auftrgasbearb': 4435, 'que': 4436, 'guldiwmn': 4437, 'aroqwuvz': 4438, 'ehs_arbeitsmedizin': 4439, 'responsible': 4440, 'metghyjznk': 4441, 'roedfghtec': 4442, '删除了一个excel': 4443, '文档': 4444, '文档地址': 4445, 'qualitycontrol': 4446, 'layered': 4447, 'audi': 4448, 'ctrl': 4449, 'keys': 4450, 'serious': 4451, 'transports': 4452, 'serch': 4453, 'belt': 4454, 'uninstalled': 4455, 'plnvcwuq': 4456, 'ikupsjhb': 4457, 'adapt': 4458, 'wv': 4459, 'schaem': 4460, 'mdb': 4461, 'schulzgth': 4462, 'sistem': 4463, 'kanghytaim': 4464, 'exchanged': 4465, 'keyence': 4466, 'dwgliuyt': 4467, 'ieqgdpbm': 4468, 'door': 4469, 'opener': 4470, 'wcupoaty': 4471, 'fqnzwphj': 4472, 'filing': 4473, 'qgilmtyc': 4474, 'gmscovxa': 4475, 'fiber': 4476, 'optic': 4477, 'guestcompany': 4478, 'whomever': 4479, 'supports': 4480, 'tn': 4481, 'apvpn': 4482, 'kr': 4483, 'nyzxjwud': 4484, 'jvtsgmin': 4485, 'firmware': 4486, 'emailing': 4487, 'htm': 4488, 'bellusco': 4489, \"'login'\": 4490, 'milton': 4491, 'keynes': 4492, 'jumping': 4493, 'piezas': 4494, 'variant': 4495, 'rod': 4496, 'quantities': 4497, 'oppurtunities': 4498, 'bra': 4499, 'blinking': 4500, 'outgoing': 4501, 'mican': 4502, 'ft': 4503, 'cec': 4504, 'fmeozwng': 4505, 'pfneutkg': 4506, 'joining': 4507, 'samag': 4508, 'profil': 4509, 'correction': 4510, 'adwind': 4511, 'rqxl': 4512, 'procedure': 4513, 'finisg': 4514, 'ship': 4515, '•': 4516, 'connector': 4517, 'for…': 4518, 'presse': 4519, 'stations': 4520, 'nobook': 4521, 'edspmloy': 4522, 'fxnkzaqu': 4523, 'warehouse_toolmails': 4524, 'meant': 4525, 'efbwiadp': 4526, 'dicafxhv': 4527, 'dtp': 4528, 'sd_sales_order': 4529, 'coferte': 4530, 'books': 4531, 'solutioning': 4532, 'jvxtfhkg': 4533, 'heptuizn': 4534, 'pagthyuathy': 4535, 'afghtyjith': 4536, 'qycgdfhz': 4537, 'iqshzdru': 4538, 'tablearu': 4539, 'cgo': 4540, 'llvw': 4541, 'rebate': 4542, 'settlement': 4543, 'curhetyu': 4544, 'tss': 4545, 'isensplant_': 4546, 'dmz': 4547, 'nmpworvu': 4548, 'upgtrvnj': 4549, 'chaning': 4550, 'tray': 4551, 'haunm': 4552, 'hanna': 4553, 'legitmate': 4554, 'corp': 4555, 'atjsv': 4556, 'vvsimpj': 4557, 'erirtc': 4558, 'particular': 4559, 'licwu': 4560, 'answers': 4561, 'abode': 4562, 'lapping': 4563, 'chatryung': 4564, 'reprogramdntymize': 4565, 'marfhtyio': 4566, 'qnigujek': 4567, 'kopqcjdh': 4568, 'webshop': 4569, 'hr_toolmforrun': 4570, \"'refresh\": 4571, \"page'\": 4572, 'element': 4573, \"'span'\": 4574, 'ony': 4575, 'crtd': 4576, 'impacting': 4577, 'efficiency': 4578, 'jogt': 4579, 'harrhntyl': 4580, 'iscl': 4581, 'operator': 4582, 'qgwypesz': 4583, 'fzsdnmrk': 4584, 'zemboks': 4585, 'soflex': 4586, 'signin': 4587, 'badge': 4588, 'recreate': 4589, 'telekom': 4590, 'controllers': 4591, 'rpt': 4592, 'qualtiy': 4593, 'dslamtcb': 4594, 'ezbmonjr': 4595, 'qdapolnv': 4596, 'jlcavxgi': 4597, 'kcompany': 4598, 'istallation': 4599, 'programdntymes': 4600, 'xjmpacye': 4601, 'qgxrptnf': 4602, 'barcelona': 4603, 'tesscenter': 4604, 'sysetem': 4605, 'present': 4606, 'themselves': 4607, 'skpye': 4608, 'mghllenbecfnfk': 4609, 'cet': 4610, 'missrouting': 4611, 'invoiuce': 4612, 'jc': 4613, 'super': 4614, 'seconds': 4615, 'zhu': 4616, 'uploaded': 4617, 'appointment': 4618, 'mds': 4619, 'paid': 4620, '打开office': 4621, '显示是未经授权产品': 4622, 'milan': 4623, 'jywvemun': 4624, 'qngschtz': 4625, 'intercompnay': 4626, 'reverse': 4627, 'tower': 4628, 'petrhyr': 4629, 'annette': 4630, 'prtqc': 4631, 'eror': 4632, 'refresg': 4633, 'atached': 4634, 'hanghdyle': 4635, 'reversal': 4636, 'picked': 4637, 'tqvpohwj': 4638, 'tbkywpqz': 4639, 'jerghjemiah': 4640, 'brock': 4641, 'hrscc': 4642, 'znq': 4643, 'zno': 4644, 'znr': 4645, 'zns': 4646, 'whole': 4647, 'mti': 4648, 'identify': 4649, 'involved': 4650, 'rqxmaindept': 4651, 'quickly': 4652, 'palghjmal': 4653, 'softland': 4654, 'initiative': 4655, 'attachement': 4656, 'presentations': 4657, 'cpmaidhj': 4658, 'elbaqmtp': 4659, 'yesilc': 4660, 'comsumed': 4661, 'bhqvklgc': 4662, 'vscdzjhg': 4663, 'gbr': 4664, 'hostname_fail_vig_uacyltoe': 4665, 'sides': 4666, 'fyedqgzt': 4667, 'jdqvuhlr': 4668, 'interco': 4669, 'rfvmeyho': 4670, 'qgtxjsdc': 4671, 'forge': 4672, 'plays': 4673, 'asignment': 4674, 'dispatcher': 4675, 'communicator': 4676, 'ana': 4677, 'pethrywrs': 4678, 'bk_hana_sid__erp_wky_dp': 4679, 'lefrte': 4680, 'eafrtkin': 4681, 'possble': 4682, 'vsp': 4683, 'templet': 4684, 'vdklzxqg': 4685, 'jpaftdul': 4686, 'engineering_engineering_tools': 4687, 'companys': 4688, 'central': 4689, 'kundegty': 4690, 'mfg_planner_reference': 4691, 'miiadmin': 4692, 'luis': 4693, 'revilla': 4694, 'ltaballallcompanycm': 4695, 'querries': 4696, 'erstellen': 4697, 'bitte': 4698, 'mtg': 4699, 'either': 4700, 'northgate': 4701, 'dmitazhw': 4702, 'kxbifzoh': 4703, \"crm's\": 4704, 'comp_sales_rep': 4705, 'matghyuthdw': 4706, 'dthyan': 4707, 'matheywtyuews': 4708, 'btelgpcx': 4709, 'nrlfhbmu': 4710, 'bia': 4711, 'hdmi': 4712, 'lines_p': 4713, 'infonet': 4714, 'venkthrysh': 4715, 'wendt': 4716, 'wac': 4717, \"quattro's\": 4718, 'cesgrtar': 4719, 'abgrtyreu': 4720, 'connoected': 4721, 'delievery': 4722, 'determination': 4723, 'khty': 4724, 'vvrttraja': 4725, 'workfflow': 4726, 'mp_ek': 4727, 'lqjoagzt': 4728, 'gqueiatx': 4729, 'htvepyua': 4730, 'izgulrcf': 4731, 'hronovsky': 4732, 'listed': 4733, 'zeitwirtschaft': 4734, 'ompeztak': 4735, 'ilkpqtjh': 4736, 'scans': 4737, 'distribuators': 4738, 'zlgmctws': 4739, 'khfjzyto': 4740, 'known': 4741, 'path': 4742, 'extr': 4743, 'wgq': 4744, 'telephones': 4745, 'dialed': 4746, 'mksysbalv': 4747, 'sid_apps': 4748, 'erplv': 4749, 'drwgs': 4750, 'hostname_fail_uacyltoe': 4751, 'werkzeuge': 4752, 'hartstoffe': 4753, 'hostname_failagain_emb': 4754, 'hostname_fail_emb': 4755, 'ljpgedia': 4756, 'bzqcwsgf': 4757, 'draftsight': 4758, 'ukxtqfda': 4759, 'qvtaykbg': 4760, 'analog': 4761, 'adt': 4762, 'tyco': 4763, 'outdated': 4764, 'ofwxjriq': 4765, \"rwcxkflq's\": 4766, 'quota': 4767, 'commited': 4768, 'docks': 4769, 'lpfzasmv': 4770, 'cleoprzq': 4771, 'infostand': 4772, 'yqwuhzkv': 4773, 'icvgkxnt': 4774, 'departement': 4775, 'pi_training': 4776, 'guprgttas': 4777, 'constructed': 4778, 'maste': 4779, 'listing': 4780, 'stamping': 4781, 'timings': 4782, 'felix': 4783, 'zhang': 4784, 'ddeihrsh': 4785, \"sigrtyhdeo's\": 4786, 'cartridge': 4787, 'seocompanyxv': 4788, 'syxewkji': 4789, 'datasource': 4790, 'attributes': 4791, 'rdp': 4792, 'dvw': 4793, 'circuits': 4794, 'latpop': 4795, 'suspect': 4796, 'half': 4797, 'capture': 4798, 'fjtrnslb': 4799, 'ejzkrchq': 4800, 'inwarehouse_toold': 4801, 'ml': 4802, 'shutdown': 4803, 'recieve': 4804, 'afternoon': 4805, 'mws': 4806, 'distributor': 4807, 'asxpnlgk': 4808, 'mnktdsjq': 4809, 'globalview': 4810, 'earnings': 4811, 'most': 4812, 'conv_rule': 4813, 'openstage': 4814, 'yubtgy': 4815, 'preparation': 4816, 'offers': 4817, 'igurwxhv': 4818, 'ughynofq': 4819, 'conduct': 4820, 'mask': 4821, 'instandsetzung': 4822, 'relocation': 4823, 'qwynjdbk': 4824, 'eamnvwyh': 4825, 'traversecity': 4826, 'parrfgyksm': 4827, 'amrice': 4828, 'cashpro': 4829, 'projekte': 4830, 'wiggrtgyis': 4831, 'trailing': 4832, 'notebooks': 4833, 'people': 4834, \"dind't\": 4835, 'noteb': 4836, 'recruit': 4837, 'remaining': 4838, 'forbidden': 4839, 'reason': 4840, 'guardian': 4841, 'hsbc': 4842, 'hostname_failagain_': 4843, 'svc': 4844, 'igkqpndy': 4845, 'swqndxhl': 4846, 'proceed': 4847, 'repoter': 4848, \"'my\": 4849, \"accounts'\": 4850, 'hundred': 4851, 'sinter': 4852, 'sls': 4853, 'tms': 4854, 'rm': 4855, 'four': 4856, 'indicates': 4857, 'excell': 4858, 'intouch': 4859, 'vw': 4860, 'creator': 4861, 'les': 4862, 'orgr': 4863, 'formerly': 4864, 'bobs': 4865, 'cuibfgna': 4866, 'cbmqufoa': 4867, 'bin': 4868, 'exel': 4869, 'programdntym': 4870, 'nuksytoh': 4871, 'whovmtez': 4872, 'sbcheyu': 4873, 'synchro': 4874, 'lumia': 4875, 'xkjuigsc': 4876, 'nrzykspt': 4877, 'wqfzjycu': 4878, 'omleknjd': 4879, 'unrestricted': 4880, 'stock_mm': 4881, 'messsgeraete': 4882, 'alkoana': 4883, 'hold': 4884, 'tube': 4885, 'workshop': 4886, 'procted': 4887, 'wfnbtpkg': 4888, 'ixecamwrs': 4889, 'solidworks': 4890, 'simulation': 4891, 'errror': 4892, 'plants': 4893, 'mov': 4894, 'structured': 4895, 'linkage': 4896, 'kicking': 4897, 'pptx': 4898, 'fioghtna': 4899, 'wightygins': 4900, 'slc': 4901, 'eilt': 4902, 'hearing': 4903, 'gülperi': 4904, 'aköz': 4905, 'onjzqptl': 4906, 'kgxmisbj': 4907, 'chkmejsn': 4908, 'lvidgknc': 4909, 'typed': 4910, 'gelöscht': 4911, 'jb_cust_db_file': 4912, 'ebusaar': 4913, 'munnangi': 4914, 'cross': 4915, 'zpd_upload_time': 4916, 'usual': 4917, 'contails': 4918, 'montitor': 4919, 'wechseln': 4920, 'requited': 4921, 'toner': 4922, 'surveillance': 4923, 'keybankr': 4924, 'teleservice': 4925, 'manger': 4926, 'restarted': 4927, 'sky': 4928, 'awyw': 4929, 'che': 4930, 'lorwsf': 4931, 'unresolved': 4932, 'decimal': 4933, 'otd': 4934, 'collective': 4935, 'header': 4936, 'pzjelyxg': 4937, 'vstyaouc': 4938, 'quadra': 4939, 'chek': 4940, 'eaymvrzj': 4941, 'bumzwtco': 4942, 'ntg': 4943, 'pressed': 4944, 'owners': 4945, 'acknowledgement': 4946, 'flapping': 4947, 'signout': 4948, 'signing': 4949, 'indirect': 4950, 'pikosa': 4951, 'succesful': 4952, 'roadking': 4953, 'legal': 4954, 'downgrade': 4955, 'utlization': 4956, 'stolen': 4957, \"josh's\": 4958, 'tor': 4959, 'dedcea': 4960, 'contactperson': 4961, 'cioehrnq': 4962, 'wfyhgelz': 4963, 'annoying': 4964, 'clcking': 4965, 'replacing': 4966, 'mfvkxghn': 4967, 'mzjasxqd': 4968, 'rnibmcve': 4969, 'xukajlvg': 4970, 'pers': 4971, 'monday': 4972, 'ted': 4973, 'acni': 4974, 'leader': 4975, 'vvkthyiska': 4976, 'ksb': 4977, 'karnos': 4978, 'adelhmk': 4979, 'letter': 4980, 'exel_an': 4981, 'awysv': 4982, 'mbb': 4983, 'kln': 4984, 'cleaning': 4985, 'carcau': 4986, 'windows系统启动后黑屏。': 4987, 'vvthuenka': 4988, 'databases': 4989, 'betap_profil': 4990, 'betapdachform': 4991, 'betapfasen': 4992, 'protected': 4993, 'xzn': 4994, 'xzs': 4995, '系统被还原': 4996, '账号不能登录系统。': 4997, 'dnb': 4998, 'company_de_germany_asid_': 4999, 'wwi': 5000, 'chkdsk': 5001, 'monthy': 5002, 'psf': 5003, 'sms': 5004, 'mtd': 5005, 'symmetrix': 5006, 'subsystem': 5007, 'interruption': 5008, 'emc': 5009, 'errata': 5010, 'cube': 5011, 'configurator': 5012, 'moved': 5013, 'russ': 5014, 'tzrekwqf': 5015, 'homwadbs': 5016, 'httpsys': 5017, 'rce': 5018, 'exploit': 5019, 'cve': 5020, 'singapore': 5021, 'leaves': 5022, 'patrcja': 5023, 'szpilewska': 5024, 'sicne': 5025, \"an't\": 5026, 'khspqlnj': 5027, 'npgxuzeq': 5028, \"erp's\": 5029, 'surge': 5030, 'osterwalder': 5031, 'fernando': 5032, 'fillipini': 5033, 'zspvxrfk': 5034, 'xocyhnkf': 5035, 'fabio': 5036, 'dynamic': 5037, 'cccplant_': 5038, 'wrapper': 5039, 'japanese': 5040, 'nigktly': 5041, 'author': 5042, 'loan': 5043, 'accident': 5044, 'ge': 5045, 'cover': 5046, 'gpts': 5047, 'uasername': 5048, 'ewseditor': 5049, '申请退换货': 5050, '质量投诉': 5051, 'vksfrhdx': 5052, 'njhaqket': 5053, 'discritpion': 5054, 'systemaccess': 5055, 'applicaiton': 5056, 'images': 5057, 'cd': 5058, 'theft': 5059, 'concrete': 5060, 'mixer': 5061, 'interfacetengigabitethernet': 5062, 'aparecido': 5063, 'invoke': 5064, 'util': 5065, 'iterator': 5066, 'null': 5067, \"'locallist'\": 5068, 'yakimp': 5069, 'staszk': 5070, 'converting': 5071, 'businessobjects_cms': 5072, 'cms': 5073, 'watcher': 5074, 'named': 5075, 'qasdhyzm': 5076, 'yuglsrwx': 5077, 'nasftgcijj': 5078, 'rspqvzgu': 5079, 'vroanwhu': 5080, 'silvgtyar': 5081, 'jdamieul': 5082, 'fandyhgg': 5083, 'aliuytre': 5084, 'love': 5085, 'lewis': 5086, 'resp': 5087, 'herr': 5088, 'schmidt': 5089, 'menu': 5090, 'nk_prod': 5091, 'bash': 5092, 'vvspecmfrt': 5093, 'reichberg': 5094, 'pipp': 5095, 'fniqhjtg': 5096, 'qrfuetpw': 5097, 'constant': 5098, 'initiatives': 5099, 'director': 5100, 'zitec': 5101, 'winrar': 5102, 'planners': 5103, 'sippprs': 5104, 'routed': 5105, 'browserproblem': 5106, 'vnc': 5107, 'empwx': 5108, 'presserei': 5109, 'migo': 5110, 'ezrsdgfc': 5111, 'hofgvwel': 5112, '软件升级后': 5113, '打印文件时': 5114, 'prtpu': 5115, '打印机提示错误。': 5116, 'hrsync': 5117, 'rings': 5118, 'correlation': 5119, 'rule': 5120, 'ping': 5121, 'deposited': 5122, 'erase': 5123, 'usaed': 5124, 'arce_idocs_daily_sid_': 5125, 'roll': 5126, 'region': 5127, 'ernation': 5128, 'reimage': 5129, 'execute': 5130, 'upgrades': 5131, 'andrdgrtew': 5132, 'taneghrty': 5133, 'zkea': 5134, 'flight': 5135, 'lhqsl': 5136, 'bdclient': 5137, 'cabinet': 5138, 'lhnw': 5139, 'opeyctrhbkm': 5140, 'plvnuxmrils': 5141, 'mesg': 5142, 'favorites': 5143, 'fixes': 5144, 'companyprod': 5145, 'ı': 5146, 'netviewer': 5147, 'hrp_sid__chg_point': 5148, 'classifications': 5149, 'calander': 5150, 'swicth': 5151, 'sar': 5152, 'lpgw': 5153, 'rfid': 5154, 'rs': 5155, 'precimat': 5156, 'mm_zscr_dly_uschow': 5157, 'affected': 5158, 'zslugaxq': 5159, 'dtwlrofu': 5160, 'girnda': 5161, 'alm': 5162, 'noon': 5163, 'anmelden': 5164, 'frame': 5165, 'switcg': 5166, 'outloo': 5167, 'szcbhvwe': 5168, 'edpouqjl': 5169, 'quotations': 5170, 'inivation': 5171, 'frgtyetij': 5172, 'pix': 5173, 'ltrobe': 5174, 'especially': 5175, 'scn': 5176, 'assembly': 5177, 'models': 5178, 'azm': 5179, \"'gi\": 5180, \"'te\": 5181, 'beshryuout': 5182, 'momentarily': 5183, 'recovered': 5184, \"'admin\": 5185, \"switch'\": 5186, 'latrosince': 5187, 'cnn': 5188, 'restriction': 5189, 'landline': 5190, 'lit': 5191, 'demage': 5192, 'restaurant': 5193, 'tv': 5194, 'spain': 5195, 'milling': 5196, 'businessæ•…éšœ': 5197, 'grammar': 5198, 'arguments': 5199, 'kggsmgetstring': 5200, 'xad': 5201, 'soemec': 5202, 'conformaclad': 5203, 'sqlagent': 5204, 'sqlservr': 5205, 'tikona': 5206, 'zmmdata': 5207, 'vaghjmskee': 5208, 'krisyuhnyrt': 5209, 'broadscanning': 5210, 'company_zaf_vogelfontein_mce': 5211, 'affect': 5212, 'pre': 5213, 'edite': 5214, 'erro': 5215, 'dan': 5216, 'benefit': 5217, 'solver': 5218, 'centre': 5219, 'reporting_engineering_tooling': 5220, 'zssid_': 5221, 'av': 5222, 'press': 5223, 'buero': 5224, 'telephony_software_r_installation': 5225, 'restarts': 5226, 'dmhpm': 5227, 'zpdist_programdnty': 5228, 'distribute': 5229, 'stable': 5230, 'invoices': 5231, 'volunteer': 5232, 'laptops': 5233, 'obqridjk': 5234, 'ugelctsz': 5235, 'reopen': 5236, 'warehouse_vendor': 5237, 'schneeberger': 5238, 'wza': 5239, 'held': 5240, 'worklfow': 5241, 'vnhaycfo': 5242, 'smkpfjzv': 5243, 'lee': 5244, 'acceptance': 5245, 'tif': 5246, 'reassignment': 5247, 'replicating': 5248, 'attention': 5249, 'prtsid_': 5250, 'feeder': 5251, 'onsite': 5252, 'csi': 5253, 'kruse': 5254, 'urgqkinl': 5255, 'zpcokgbj': 5256, 'engineering_tool_dwnload': 5257, 'bussiness': 5258, 'debgrtybie': 5259, 'savgrtyuille': 5260, 'christgrytoph': 5261, 'unlocking': 5262, 'july': 5263, 'unsafe': 5264, 'stwpzxbf': 5265, 'bjekx': 5266, 'lizeciertes': 5267, 'produkt': 5268, 'beckes': 5269, 'hgrvubzo': 5270, 'wgyhktic': 5271, 'cytohwau': 5272, 'qfunricw': 5273, 'launched': 5274, 'zmmtaxupd': 5275, 'crieria': 5276, 'temporarlly': 5277, 'supply_chainttlf': 5278, 'kc的快递单号出来了吗': 5279, 'switched': 5280, 'proble': 5281, \"'dmz_all'\": 5282, 'lhqsmdom': 5283, 'thehub': 5284, 'aprtgghjk': 5285, 'messag': 5286, 'jcmxerol': 5287, 'nbfyczqr': 5288, 'carlos': 5289, 'patino': 5290, 'scorecard': 5291, 'cfgxpvzi': 5292, 'dvpnfbrc': 5293, 'recsynqt': 5294, 'byoezmla': 5295, 'alexandre': 5296, 'pinto': 5297, 'blancog': 5298, 'olifgtmpio': 5299, 'gargtcia': 5300, 'blagtnco': 5301, 'probe': 5302, 'danghtnuell': 5303, 'enters': 5304, 'flat': 5305, 'cvn': 5306, 'ipad': 5307, 'einstein': 5308, 'conf': 5309, 'refinery': 5310, 'crackling': 5311, 'withdraw': 5312, 'thrown': 5313, 'iowa': 5314, 'minnesotta': 5315, 'dakota': 5316, 'executncqulao': 5317, 'qauighdpss': 5318, 'programdntys': 5319, 'vpn_': 5320, '_urgent': 5321, 'yimwfntl': 5322, 'rkdwohas': 5323, 'luciano': 5324, 'amadeu': 5325, 'zpfitlyu': 5326, 'cemvwyso': 5327, 'csscdrill': 5328, 'basket': 5329, 'enhancement': 5330, 'mandatory': 5331, 'svuxjkpg': 5332, 'tpurnjvi': 5333, 'xovczlad': 5334, 'fkicawph': 5335, 'ak': 5336, 'bzekndcu': 5337, 'ivhnpdbu': 5338, 'cellphone': 5339, 'loudspeaker': 5340, 'disturbed': 5341, \"'account\": 5342, \"disabled'\": 5343, 'infrastrcture': 5344, 'place': 5345, 'depends': 5346, 'ot': 5347, 'totalales': 5348, 'zmm_stock_transfer': 5349, 'fengapac': 5350, 'kas': 5351, 'hfyujqti': 5352, 'major': 5353, 'rqxaudix': 5354, 'gshn': 5355, 'zpress': 5356, 'pollaurid': 5357, 'incompatibility': 5358, 'international': 5359, 'payments': 5360, 'stays': 5361, 'lafgturie': 5362, 'sherwtgyu': 5363, 'populates': 5364, 'sale': 5365, 'orgs': 5366, 'romania': 5367, 'slovakia': 5368, 'kisp': 5369, 'iis': 5370, 'mertut': 5371, 'peilerk': 5372, 'stoebtrt': 5373, 'chkzbeav': 5374, 'ykeilmog': 5375, 'ylhptzmd': 5376, 'owslfzqi': 5377, 'wphqnxly': 5378, 'htvrbxmd': 5379, 'pifyudbo': 5380, 'tagsfbny': 5381, 'cajdwtgq': 5382, 'breqgycv': 5383, 'afterit': 5384, 'melbourne': 5385, 'rowville': 5386, 'notworking': 5387, 'mciruit': 5388, 'thermal': 5389, 'karaffa': 5390, 'bsopzxirfhcgzq': 5391, 'qiyujevw': 5392, 'ogadikxv': 5393, 'olivgtyera': 5394, 'olivgtyemc': 5395, 'permition': 5396, 'esias': 5397, 'bosch': 5398, 'sharepiont': 5399, 'qualys': 5400, 'amfgtyartya': 5401, \"laptop's\": 5402, 'tfrbwoua': 5403, 'aegpkruc': 5404, 'increase': 5405, 'decommission': 5406, 'fert': 5407, 'mmaster': 5408, 'matgrp': 5409, 'statistics': 5410, 'mfp': 5411, 'replaces': 5412, 'netframdntyework': 5413, 'specific': 5414, 'holiday': 5415, 'rebuilt': 5416, 'promts': 5417, 'thnsguzj': 5418, 'utwijzag': 5419, 'yucgfmiq': 5420, 'jamgpnqe': 5421, 'setun': 5422, 'michghytuael': 5423, 'luesebrink': 5424, 'uhammet': 5425, 'kuluz': 5426, 'njdrcagt': 5427, 'shourxyp': 5428, 'dms_kpro_contv_clean': 5429, 'outlock': 5430, 'suche': 5431, 'pdujfybc': 5432, 'bvfdnale': 5433, 'passwordmanage': 5434, 'prompted': 5435, 'fund': 5436, 'special': 5437, 'remains': 5438, 'incomplete': 5439, 'inco': 5440, 'shipping': 5441, 'acc': 5442, 'needful': 5443, 'store': 5444, 'separate': 5445, 'convert': 5446, 'nkademwy': 5447, 'ihsepkwz': 5448, 'deposit': 5449, 'lid': 5450, 'zor': 5451, 'agains': 5452, 'zf': 5453, 'dbsgicet': 5454, 'xzopjhlq': 5455, 'vvgtyhpej': 5456, 'nathyuasha': 5457, 'smoltelephony_software': 5458, 'snmp': 5459, 'rabkypet': 5460, 'zocjdutp': 5461, 'fothrmijm': 5462, 'ltmoubvy': 5463, 'utrimobs': 5464, 'gomeshthyru': 5465, 'comcast': 5466, 'workbooks': 5467, 'screens': 5468, 'buzzing': 5469, 'blocking': 5470, 'nologin': 5471, 'unexpected': 5472, 'sdxjiwlq': 5473, 'ynowzqfh': 5474, 'instal': 5475, 'insertapps': 5476, 'regional': 5477, 'supplier': 5478, 'told': 5479, 'matheywt': 5480, 'kaufsfthyman': 5481, 'recive': 5482, 'outloock': 5483, 'hajghtdul': 5484, 'modern': 5485, 'ldism': 5486, 'claapdico': 5487, 'handheld': 5488, 'utislgov': 5489, 'fetaqndw': 5490, 'grfv': 5491, 'usadtto': 5492, 'dfsdby': 5493, 'ffthgo': 5494, 'frsilva': 5495, 'seep': 5496, 'kick': 5497, 'dinner': 5498, 'wptbgchj': 5499, 'jutpdcqf': 5500, 'maintain': 5501, 'jimdghty': 5502, 'template': 5503, 'kyocera': 5504, 'rxpjomyf': 5505, 'hvolsgqn': 5506, 'pnwbkitv': 5507, 'phbnwmkl': 5508, 'wyighrjl': 5509, 'xcwavhyu': 5510, 'beosjgxt': 5511, 'mdevcqjk': 5512, 'eqtofwbm': 5513, 'mojfbwds': 5514, 'eaglt': 5515, 'anniversary': 5516, 'realpresence': 5517, 'destop': 5518, 'win_x': 5519, 'prgthyuulla': 5520, 'ramdntythanjesh': 5521, 'kjtqxroc': 5522, 'taqekwrd': 5523, 'ckt': 5524, 'reasons': 5525, 'orshop_floor_app': 5526, 'pmqansex': 5527, 'nvihmbwc': 5528, 'coshopfloor': 5529, 'zdis': 5530, 'dedicated': 5531, 'hourly': 5532, 'publication_p': 5533, 'red': 5534, 'hooked': 5535, 'microscope': 5536, 'bsod': 5537, 'johthryu': 5538, 'chmielewski': 5539, 'concerns': 5540, 'mexico': 5541, 'rabhtuikurtyar': 5542, 'tammineni': 5543, 'ricagthyr': 5544, 'doflefne': 5545, 'noggtyuerp': 5546, 'gprs': 5547, 'kevguind': 5548, 'gineman': 5549, 'qeue': 5550, 'csvlijud': 5551, 'jzhnkclo': 5552, 'shagfferon': 5553, 'bregtnnl': 5554, 'sping_tool': 5555, 'wijuiidl': 5556, 'patch': 5557, 'ingreso': 5558, 'coatncqulao': 5559, 'qauighdpce': 5560, 'bqdlegnp': 5561, \"lnphmsco's\": 5562, 'onesso': 5563, 'nfsbackup': 5564, 'mailer': 5565, 'sectors': 5566, 'requester': 5567, 'oqxdecus': 5568, 'encxjoawjr': 5569, 'netwo': 5570, 'automated': 5571, 'roanoke': 5572, 'implementation': 5573, 'rds': 5574, 'tclients': 5575, 'oneis': 5576, 'kart': 5577, 'subscribe': 5578, 'reprot': 5579, 'investment': 5580, 'antrag': 5581, 'stepfhryhan': 5582, 'further': 5583, 'aqstdryv': 5584, 'flbnyqzc': 5585, 'löwe': 5586, 'reinhard': 5587, 'kröger': 5588, 'receiver': 5589, \"''etal\": 5590, \"moment''\": 5591, 'compliance': 5592, 'webside': 5593, 'allways': 5594, 'etal': 5595, 'moment': 5596, 'repository': 5597, 'heating': 5598, 'kgarnzdo': 5599, 'vkrqojyt': 5600, 'indicate': 5601, 'purchases': 5602, 'argentina': 5603, 'kashfyujqti': 5604, 'instan': 5605, 'va': 5606, 'al_engine': 5607, 'proplems': 5608, 'sid__start_hana_slt': 5609, 'sid_start': 5610, 'sid_stop': 5611, 'sid__stop_hana_slt': 5612, 'analyser': 5613, 'designation': 5614, 'lotus': 5615, 'xuqvaobxuy': 5616, 'ntqkuocz': 5617, 'inconsistent': 5618, 'operations': 5619, 'pragtyhusas': 5620, 'jrigdbox': 5621, 'bgyluoqn': 5622, 'gowzv': 5623, 'issuing': 5624, 'addresses': 5625, 'urgapyzt': 5626, 'tnxiuramdnty': 5627, 'vaghyliort': 5628, 'xwlcqfsr': 5629, 'lbcqfnie': 5630, 'wrking': 5631, 'vlinspectkiosk': 5632, 'eligibility': 5633, 'wqinjkxs': 5634, 'azoyklqe': 5635, 'gncpezhx': 5636, 'hopqcvza': 5637, 'anftgup': 5638, 'nftgyair': 5639, 'broad': 5640, 'band': 5641, \"'usa\": 5642, \"room'\": 5643, 'disassociated': 5644, 'wlc': 5645, 'spoof': 5646, 'micro': 5647, 'lobby': 5648, 'pobleme': 5649, 'we_combi': 5650, 'bildscmschoner': 5651, 'registered': 5652, 'vmware': 5653, 'resided': 5654, 'vvrtgwildj': 5655, 'zlxcsqdg': 5656, 'ckpojwir': 5657, 'laoding': 5658, 'sold': 5659, 'division': 5660, 'zmcp': 5661, 'su': 5662, 'lapels': 5663, 'cursor': 5664, 'obvyknzx': 5665, 'gzvjtish': 5666, 'catgyp': 5667, 'patent': 5668, 'visfgthal': 5669, 'vvjodav': 5670, 'goptijdtnsya': 5671, 'modified': 5672, 'shesyhur': 5673, 'beenefits': 5674, 'oneteam': 5675, 'enhanced': 5676, '_case': 5677, 'hugcadrn': 5678, 'ixhlwdgt': 5679, 'ralfteimp': 5680, 'alto': 5681, 'hbmwlprq': 5682, 'ilfvyodx': 5683, 'visitble': 5684, 'ob': 5685, 'reimaged': 5686, 'zz': 5687, 'tifpdchb': 5688, 'pedxruyf': 5689, 'programs': 5690}\n"
          ]
        }
      ],
      "source": [
        "print(short_desc_word_index)"
      ]
    },
    {
      "cell_type": "code",
      "execution_count": 120,
      "metadata": {
        "id": "8CXczHk7hL0c"
      },
      "outputs": [],
      "source": [
        "short_desc_sequences = short_desc_tokenizer.texts_to_sequences(ata_data['short_desc_analysis'])\n",
        "#sequences = tokenizer.texts_to_sequences(ata_data[ata_data['number_of_char_short_desc']==short_desc_length_to_filter]['short_desc_analysis'])"
      ]
    },
    {
      "cell_type": "code",
      "execution_count": 121,
      "metadata": {
        "colab": {
          "base_uri": "https://localhost:8080/"
        },
        "id": "9EMmQqmEsK9l",
        "outputId": "d604935c-a6da-4b52-a891-bbe0b9a9423a"
      },
      "outputs": [
        {
          "output_type": "stream",
          "name": "stdout",
          "text": [
            "[[24, 18], [22], [35, 68, 3, 2, 36], [14, 2, 19, 135, 281], [41, 30], [14, 2, 68, 3, 2, 91, 74, 21, 41], [531, 574, 26, 23, 138, 8, 606, 33, 2534, 339, 13, 670, 20, 1768], [92, 1009, 187, 54, 814, 193, 440, 1010, 265], [14, 2, 1151, 122, 2535, 5, 22], [51, 37, 5, 88], [91, 74, 607, 4, 243, 21, 14, 2, 353, 313], [135, 73, 4, 282, 281, 608], [14, 2, 24, 2, 135, 2, 2536, 2537, 1362], [32, 575, 2, 15, 8, 10], [14, 2, 58, 815], [51, 37, 5, 88], [14, 2, 24, 2, 23, 36], [94, 2538, 83, 146, 105, 4, 722, 321], [11, 20, 17, 27], [14, 2, 220, 143, 36], [14, 2, 136, 815], [36, 18], [14, 2, 62, 2, 36], [32, 295, 13, 501, 89, 150], [36, 4, 29], [11, 20, 10, 15], [14, 2, 24, 2, 135, 2, 136, 815], [17, 27, 56], [14, 2, 24, 2, 135], [14, 2, 68, 3, 2, 11, 20], [10, 15, 13, 65], [15, 221], [2539, 33, 53, 244], [158, 10, 15], [14, 2, 115, 470, 502], [92, 1009, 187, 54, 814, 193], [11, 20, 17, 63, 21, 10, 15], [14, 2, 899, 92, 900, 2, 1152], [1011, 91, 74], [101, 13, 1769, 1770], [51, 37, 88], [441, 385, 4, 29], [14, 2, 24, 2, 60], [34, 1153, 471, 5, 48, 2, 48, 18, 180, 2, 75, 816, 442], [14, 2, 24, 2, 135, 314], [78, 4, 68, 143, 135, 314, 248, 609, 220, 5, 200], [10, 292, 3, 61, 181, 576, 4, 37, 13, 11, 17], [6, 16, 12, 3, 7], [49, 10, 81, 329, 61], [187, 67, 4, 81, 5, 114], [6, 1771, 12, 3, 7], [126, 39, 43, 47, 61, 10, 139, 10, 15], [15, 1363, 10], [17, 27, 56, 100, 3, 109], [41, 208], [1364, 5, 532, 2540], [43, 398, 13, 296, 172, 159, 901], [63, 209, 10], [6, 1771, 12, 3, 7], [6, 16, 12, 3, 7], [10, 292, 233, 13, 32, 1772], [111, 28, 22], [107, 103, 2541], [234, 23, 533, 1154, 71, 25, 44, 42, 46, 5], [30, 24, 5, 2, 8, 20, 60], [110, 283, 35, 123, 472, 671, 18], [6, 16, 12, 3, 7], [6, 16, 12, 3, 7], [6, 16, 12, 3, 7], [6, 16, 12, 3, 7], [32, 27, 32, 2542], [216, 47, 85, 1012, 9, 4, 29, 303, 21, 1365, 304, 107, 69], [32, 180, 69, 2, 62, 2, 8, 266, 118, 40, 305], [249, 51, 37], [6, 210, 12, 3, 7], [6, 210, 12, 3, 7], [6, 210, 12, 3, 7], [177, 55, 1773, 2543, 672, 21, 610, 2544, 1366, 160, 25, 44, 40, 87, 46, 5], [177, 55, 97, 1774, 73, 9, 160, 25, 44, 42, 46], [6, 16, 12, 3, 7], [11, 20, 17, 27], [32, 2545, 2546, 354, 111, 367, 2, 22], [6, 673, 12, 3, 7], [91, 74, 577, 1775, 3, 297, 902, 71, 4, 1155], [6, 2547, 12, 3, 7], [6, 16, 12, 3, 7], [6, 817, 12, 3, 7], [14, 2, 58, 222], [6, 16, 12, 3, 7], [6, 217, 12, 3, 7], [6, 217, 12, 3, 7], [6, 16, 12, 3, 7], [6, 217, 12, 3, 7], [6, 16, 12, 3, 7], [6, 217, 12, 3, 7], [6, 217, 12, 3, 7], [818, 188, 250, 611, 818, 1367, 5, 66, 9, 189, 98, 178, 98, 144, 255], [14, 2, 245, 815, 31, 135, 129, 130], [10, 1776, 1368], [213, 158, 200, 19, 18], [158, 200, 19, 18], [6, 16, 12, 3, 7], [6, 16, 12, 3, 7], [6, 16, 12, 3, 7], [6, 16, 12, 3, 7], [6, 16, 12, 3, 7], [330, 60, 68, 5, 30], [223, 443, 18], [14, 2, 298, 38, 147, 3, 65], [14, 2, 37, 10, 5, 8, 61, 10, 139], [578, 284, 473, 19, 190], [6, 16, 12, 3, 7], [32, 1777, 417, 105, 2548], [14, 37, 93, 5, 61], [11, 20, 11, 95, 10, 15, 17, 9, 27], [66, 111], [51, 37, 5, 92], [14, 2, 224, 184, 108], [10, 15, 13, 2549, 2550, 2551], [14, 2, 24, 3, 819, 503], [39, 42, 354, 127, 18, 28, 47, 22, 245, 78, 148, 101, 161, 21, 723, 161, 534, 47, 146], [14, 2, 19, 340], [14, 2, 224, 184, 108], [106, 96, 173], [341, 674, 105, 4, 82, 112, 2552, 1778, 105, 127, 306, 535, 674], [267, 101, 474], [37, 5, 88], [10, 81, 1369, 61, 10, 139], [63, 275, 150, 3, 158], [820, 194, 5, 724, 66, 3, 20, 1365, 1779, 38, 725, 5, 95, 66], [14, 2, 19, 36], [14, 2, 58, 22], [115, 251, 3, 48, 475, 3, 26], [14, 2, 276, 128, 31, 1780], [19, 2, 166, 418], [1013, 355, 59, 1014, 31, 275, 89], [6, 16, 12, 3, 7], [6, 16, 12, 3, 7], [14, 2, 245, 815, 3, 222], [675, 10, 15], [1156, 726, 444, 252, 128, 31, 11, 107], [52, 23, 218, 504, 612, 9, 25, 44, 87, 46, 5], [10, 15], [158, 24, 18], [14, 2, 268, 216, 3, 96], [2553, 115], [39, 42, 354, 1015, 132, 143, 47, 36], [115, 1370, 1781], [10, 15, 31, 140], [15, 8, 10, 13, 2554, 2555, 5, 11, 445, 11], [39, 727, 2, 124, 821, 2, 104, 342, 5, 65, 167, 39, 123, 4, 39, 43, 19], [45, 122, 3, 9, 132, 419, 31, 22], [22, 613], [36, 4, 29], [15, 93, 13, 2556, 2557, 80, 61, 10, 15], [6, 1371, 12, 3, 7], [158, 10, 15], [903, 48], [37, 446, 728], [6, 16, 12, 3, 7], [26, 9, 614, 1016, 293, 579, 536, 34, 615], [19, 2, 299], [49, 17, 315], [2558, 92, 676, 356], [17, 27, 3, 11, 20], [6, 16, 12, 3, 7], [32, 180, 368, 2, 307, 91, 74, 2, 245, 418], [41, 4, 29], [17, 63, 70], [107, 110, 283, 677, 70], [6, 16, 12, 3, 7], [6, 16, 12, 3, 7], [30, 24, 5, 2, 8, 20, 60], [14, 2, 447, 102, 56, 31, 903], [6, 16, 12, 3, 7], [63, 343, 17], [14, 2, 19, 61, 116, 10, 139, 2559, 2560, 2561], [6, 399, 12, 3, 7], [14, 2, 24, 2, 11, 20], [45, 448, 13, 32, 2562], [14, 2, 62, 2, 36], [6, 16, 12, 3, 7], [49, 17, 27], [1372, 13, 106, 89, 19, 2, 191, 580], [145, 4, 608, 1782, 13, 134, 8, 581, 3, 8, 1783, 2563, 218], [2564, 2565], [2, 2566, 133, 182, 219, 1784, 1373, 2, 476, 137], [6, 369, 12, 3, 7], [53, 55, 156, 73, 160, 25, 44, 40, 87, 46, 5, 50, 205, 79], [10, 15, 70], [32, 9, 4, 77, 2, 151, 134, 904, 3, 340, 5, 235], [10, 15], [14, 2, 298, 134, 340, 3, 22, 5, 162], [45, 503, 67, 4, 1374, 5, 22], [14, 2, 353, 184, 108, 119, 72, 9, 27, 219, 32], [2567, 37, 5, 88], [39, 43, 2, 616, 8, 54, 537, 1375, 269], [51, 37, 5, 88], [292, 308, 1785], [14, 2, 58, 538], [331, 45], [385], [43, 8, 822, 2, 353, 8, 1376], [190, 5, 306, 449], [14, 2, 19, 819, 21, 253, 1017, 3, 135, 236, 130], [14, 2, 151, 8, 823, 617, 3, 163], [32, 1786, 5, 251, 37, 1377, 21, 618, 112, 1378, 8, 225, 417, 9, 2568, 38, 30], [11, 20, 17, 63], [49, 10, 15], [582, 150, 37], [1376, 164], [34, 729, 2569, 19, 2, 473, 2570, 21, 730, 2, 2571, 2572, 119, 127, 1157, 3, 8, 1787, 731], [619, 505, 474], [158, 1018, 32, 10, 15], [53, 55, 370, 357, 23, 905, 36, 196, 9, 25, 42], [732, 92, 676, 356], [11, 20, 17, 63], [906, 1158, 33, 1379, 2573, 2, 2574, 234, 1019, 164], [34, 122, 47, 82, 89, 150, 2, 47, 539], [620, 678, 2, 2575], [446, 18, 5, 152, 141, 85], [322, 679, 1020, 2576, 2577, 2578], [76, 28, 1021], [6, 332, 12, 3, 7], [121, 1022, 94, 733, 71, 506, 4, 77, 2, 450, 1380, 733, 182, 124, 201, 1788, 3, 11], [1023, 2579, 2580, 420, 621, 17], [298, 128, 18], [195, 421, 111], [267, 101], [14, 2, 245, 815], [153, 4, 132, 113, 2581, 507], [95, 113, 27], [39, 43, 19, 2, 1024, 1381, 33, 226], [11, 20, 17, 63, 21, 10, 15], [39, 124, 371, 8, 120, 269, 78, 148, 1382, 161, 31, 2582, 8, 59, 1025, 168, 316], [59, 244, 680], [11, 1383, 21, 331, 45, 583, 18, 2583, 270, 2584], [48, 86, 18, 164], [177, 55, 824, 824, 73, 160, 25, 44, 40, 42, 46, 5], [14, 2, 68, 143, 11], [49, 10, 15], [825, 235], [24, 18], [14, 2, 102, 2, 48], [6, 16, 12, 3, 7], [22, 907], [43, 147, 1159, 5, 104, 137], [20, 209, 358, 30], [14, 2, 24, 2, 1026], [15, 8, 10, 13, 1384, 1385, 5, 129, 191], [10, 2585, 20], [1160, 256, 448, 277, 21, 256, 9, 167, 3, 152, 141, 1027, 1386, 908], [400, 333, 4, 174, 329, 97, 734, 60, 1789, 333, 71, 29, 1028, 34, 136], [76, 28, 137, 1161, 1387, 1388], [422, 540, 175, 2, 47, 214, 32, 17, 43, 2, 103, 1790, 13, 1389, 175], [8, 104, 285, 78, 4, 75, 681, 13, 398], [2586, 2, 58, 38, 223, 147, 28, 169, 202, 181, 4, 82], [14, 2, 24, 2, 135], [126, 39, 124, 201, 14, 2, 19, 47, 1029, 2587, 503, 13, 735, 736, 613, 5, 38, 130, 826, 737, 123, 39, 43, 2, 123, 2, 2588], [166, 4, 29], [473, 11, 271, 30], [6, 673, 12, 3, 7], [34, 15, 47, 11, 21, 299, 10, 1162, 2, 219, 4, 1163], [272, 50, 257, 423], [38, 1164, 13, 2589, 2590, 827, 90, 201, 451], [6, 16, 12, 3, 7], [22, 828, 9, 292], [6, 16, 12, 3, 7], [2591, 1165, 679, 2592, 2593, 2594], [136, 187, 503, 9, 4, 829, 3, 214, 146], [48, 86, 18, 164], [14, 2, 58, 11, 20, 100, 3, 109], [49, 17, 27], [41, 208], [2595, 2596], [78, 4, 24, 41], [1390, 1030, 90, 201, 2597, 119, 1166, 329, 1791, 1792, 286, 21, 148, 2598, 124, 50, 1791, 583], [14, 2, 103, 110, 175, 78, 102, 584, 738, 181, 35, 472, 1167, 164, 151, 317], [11, 20, 17, 27], [14, 2, 25, 246, 163, 909], [1031, 23, 59, 2, 1391, 89, 2599, 2600], [53, 55, 156, 73, 160, 25, 44, 40, 87, 46, 40, 50, 205, 79], [14, 2, 68, 3, 2, 158], [41, 30, 100, 367, 3], [578, 284, 45, 203], [14, 2, 19, 819, 503], [85, 9, 278, 154, 237, 1793, 2601, 39, 58, 9, 2602, 2603, 2604], [51, 37, 5, 88], [206, 359, 95, 21, 43, 11, 37, 1794, 56, 13, 735, 682], [156, 165, 19, 157, 21, 157, 401, 25, 40, 87, 46, 5], [43, 10, 15], [111, 28, 297, 728, 5, 235, 13, 1795], [1168, 4, 243, 2, 53, 683, 1169, 36, 9, 243], [22, 45], [43, 11, 10, 15, 13], [39, 43, 142, 13, 8, 152, 141, 21, 477, 1796, 33, 45], [341, 221, 71, 14, 2, 424, 508, 684, 147, 5, 215, 23, 258], [14, 2, 24, 2, 65], [14, 2, 344, 128, 5, 23, 585, 235], [49, 10, 15], [121, 2605, 2606, 2607, 2608, 2609, 425, 426], [70, 2, 15, 169, 202, 286, 10, 13], [685, 57, 309, 2610, 622, 623], [345, 452, 127, 2611, 372, 622, 623], [322, 13, 100, 1170, 1171], [822, 27], [14, 2, 62, 2, 452, 195], [115, 65], [70, 2, 15, 169, 202, 286, 10, 13], [51, 37], [11, 20, 17, 63], [35, 19, 323, 162, 1797, 200], [32, 180, 69, 2, 24, 2, 8, 23, 36], [43, 2, 730, 1798, 33, 2612], [11, 20, 10, 15], [54, 453, 4, 402, 5, 287, 313, 31, 158], [59, 1172, 211, 278, 1799, 94, 2613, 2, 128], [15, 93, 13, 2614, 1032, 2615, 80, 61, 10, 15], [84, 3, 8, 910, 2616, 9, 25, 34, 624], [84, 9, 25, 3, 8, 309, 1392, 478, 34, 624, 13, 11], [32, 180, 54, 114, 10], [126, 48, 118, 70, 2, 830], [39, 35, 117, 831, 8, 53, 5, 47, 83], [126, 24, 18], [911, 10, 13, 8, 226], [34, 15, 47, 20, 10], [43, 2, 131, 323, 739, 625, 19], [1015, 1393, 21, 229, 2617, 403], [22, 105, 4, 58], [91, 74, 1173, 38, 509, 130, 2, 246], [832, 254, 3, 22, 1394], [49, 10, 15], [35, 62, 2, 53, 833, 3, 1174], [107, 2618, 2619, 67, 4, 82], [145, 321, 57, 13, 586], [66, 2620, 373, 40, 97, 342, 9, 25, 44, 42, 5], [97, 23, 734, 1800, 374, 734, 44, 42, 46, 5], [17, 834], [14, 2, 220, 3, 2, 8, 36], [142, 227, 3, 2621, 50, 835, 1395, 404, 2622], [1396, 259, 252, 832], [60, 1801, 13, 2623, 2624, 129, 2625], [14, 2, 24, 2, 83], [107, 19, 2, 2626, 2627, 386], [6, 16, 12, 3, 7], [6, 2628, 12, 3, 7], [184, 108, 912, 835, 146, 405, 1175, 57], [115, 121, 1387, 1388], [19, 2, 176, 2629, 2630, 26], [53, 55, 97, 73, 9, 25, 44, 2631, 5], [2632, 342, 40, 97, 53, 9, 25, 97], [26, 197, 188, 192, 178, 9], [723, 587, 1397, 4, 1033], [26, 287, 579, 246, 5, 66, 9, 293, 614, 536, 9, 44, 42, 5], [214, 78, 4, 29], [121, 67, 4, 37, 686, 541], [740, 626, 8, 308, 204, 33, 32, 116, 2633, 2, 2634, 454, 133], [76, 28, 2635], [79, 55, 156, 542, 23, 260, 543, 542, 279, 196, 9, 25, 44, 42, 46, 5], [6, 16, 12, 3, 7], [214, 1176, 1177, 2636, 67, 4, 82], [455, 1398, 1178, 1179], [43, 38, 266, 427, 13, 47, 85], [250, 48, 913, 50, 257, 914], [6, 673, 12, 3, 7], [49, 27], [145, 35, 75, 2637], [14, 2, 24, 2, 11, 20], [11, 368, 406, 35, 62, 1802], [6, 16, 12, 3, 7], [14, 2, 510, 112, 687, 10, 5, 61], [6, 16, 12, 3, 7], [48, 18], [91, 1180, 18], [166, 4, 29], [54, 10, 4, 29, 3, 36], [540, 175, 21, 2, 47, 32, 265, 2638, 148, 43, 2, 103, 1790, 13, 1399, 175], [828, 57, 47, 836, 198, 13, 128], [14, 2, 24, 2, 11, 20], [915, 916, 258], [14, 2, 24, 2, 49], [1034, 1803, 70, 2639], [99, 741, 18], [14, 2, 68, 3, 2, 65], [51, 37, 5, 88], [14, 2, 837, 57, 313, 5, 183, 21, 1035, 503], [15, 221, 10], [190, 742, 367, 3, 2, 819, 200], [511, 5, 11, 20, 299, 334], [10, 15, 70], [218, 504, 5, 52, 172, 176, 9, 25, 44, 87], [10, 15], [34, 1400, 2640, 2641, 3, 367, 143, 473, 31, 45, 151, 346, 146, 1401, 417, 168, 14, 2, 19, 80, 49, 1402], [22, 443, 5, 106, 743], [588, 455, 5, 89, 298, 28, 22], [22, 443, 18], [14, 2, 347, 1396, 5, 11], [135, 4, 29], [22, 105, 4, 58], [43, 19, 2, 11, 2642], [10, 15, 13, 2643, 2644], [357, 2645, 373, 40, 52, 9, 25, 44, 87], [17, 273, 21, 43, 2, 63], [2646, 5, 92], [135, 1036, 220, 3], [36, 10, 4, 29], [4, 77, 2, 440, 38, 387, 3, 8, 288, 375, 3, 65], [107, 59, 744], [19, 2, 2647, 1403, 65], [35, 58, 223, 204, 31, 26, 745, 2648, 479, 823, 479, 1037, 21, 2649, 2650, 78], [35, 102, 2, 746, 360, 47, 539, 5, 917], [35, 102, 31, 49, 28, 54, 83, 39, 168, 1404, 1405], [820, 266, 18, 5], [15, 93, 13, 1406, 1407, 80, 61, 10, 15], [15, 8, 10, 13, 1406, 1407, 5, 11, 1804, 11], [22, 9, 154], [67, 8, 36, 2651, 8, 747, 33, 145, 182, 78, 75, 1038], [627, 918, 92, 90, 201, 900, 2, 2652, 2653], [10, 15], [17, 838, 27, 56], [10, 15], [17, 27], [190, 737, 448, 67, 1805, 1806, 90], [14, 2, 24, 2, 91, 74], [10, 81, 70], [152, 748, 1408, 1181], [15, 8, 10, 13, 1807, 1808, 5, 11, 95, 480], [911, 24, 164, 13, 158], [15, 11, 20, 10, 13, 2654], [14, 2, 24, 2, 8, 226], [15, 93, 13, 1807, 1808, 80, 61, 10, 15], [911, 822, 10], [10, 15, 13, 2655, 2656, 3, 456], [14, 2, 307, 1809, 1409, 89, 13, 41, 333], [1810, 129, 191, 1811, 31, 388, 1039, 33, 1040, 544], [65, 506, 164], [65, 73, 70], [15, 8, 10, 13, 2657, 2658, 5, 11, 95, 11], [2659, 31, 97, 172, 159, 43, 3, 2660, 8, 545, 11, 2661], [76, 28, 200, 1805, 1806], [14, 2, 24, 2, 11, 1410], [14, 2, 24, 2, 83], [14, 2, 1182, 21, 131, 41, 208], [589, 388, 3, 30, 187], [131, 1183, 1041, 679, 475, 1812, 1812, 2662, 1411, 1412], [193, 289, 2663, 2664, 2665], [2666, 53, 55, 686, 541, 3, 2667], [91, 74, 481, 120, 2, 134, 221, 33, 482, 112, 8, 209], [34, 688, 17, 1041, 85, 13, 127, 475, 2668, 17, 13, 2669, 2670, 9, 420, 34, 101, 321], [183, 139, 1413, 3, 238, 1042, 421], [15, 93, 13, 2671, 2672, 80, 61, 10, 15], [76, 28, 919, 1043, 1044], [322, 679, 1020, 2673, 2674, 1387, 1388], [512, 2675, 1184, 48, 100, 2676, 2677], [228, 582, 2678, 25, 23, 310, 310, 172], [287, 19, 4, 29], [287, 19, 13, 183, 2679], [2680, 2681, 1045], [6, 16, 12, 3, 7], [749, 2682, 30, 120, 32, 9, 4, 2683, 3, 8, 387, 2684, 335, 34, 457, 749, 839], [6, 16, 12, 3, 7], [89, 1414, 176, 1415, 1813, 908, 50, 257, 1814, 118, 179], [34, 131, 32, 2685, 321, 2, 2686, 40, 11], [11, 81, 33, 54, 2687, 4, 29, 3, 1815, 546, 2688], [32, 2689, 239], [2690, 2691, 3, 172, 97, 50, 1185, 2, 8, 66, 3, 628, 2692, 66, 3, 628], [6, 16, 12, 3, 7], [112, 8, 222, 449, 1816, 8, 45, 60, 72, 840, 182, 8, 32, 90, 201, 1416, 56, 21, 35, 68, 3, 2, 8, 45, 60], [19, 2, 165, 137], [740, 122, 32, 116, 2693, 2, 11, 238, 1417, 3, 407, 74], [6, 16, 12, 3, 7], [308, 458, 170, 94, 428, 317], [26, 9, 614, 1016, 293, 579, 536, 34, 615], [1817, 741, 408, 689, 2, 1046, 731, 38, 3, 45], [66, 1818, 420, 621, 373, 3, 1819, 9, 25, 44, 42, 46, 5], [9, 239, 167, 119, 8, 32, 1777], [19, 2, 26, 745, 2694], [8, 1010, 17, 9, 239, 167], [6, 16, 12, 3, 7], [130, 145, 13, 97, 1047, 71, 170], [53, 55, 1186, 97, 279, 459, 9, 25, 44, 42, 46, 5], [39, 42, 14, 2, 58, 8, 65, 171, 483, 219, 47, 1418, 2695], [78, 4, 1419, 2, 61, 10, 139, 2, 81, 47, 10], [389, 2696, 2697], [6, 376, 12, 3, 7], [331, 109, 22, 2698, 2699], [2700, 2701, 26, 238, 38, 2702, 2703], [6, 16, 12, 3, 7], [24, 18], [920, 1420, 142, 1048, 1421], [125, 22, 547, 324, 35, 344, 155, 276, 129, 340, 44, 2704], [209, 358, 30, 5, 11, 20], [6, 16, 12, 3, 7], [49, 17, 27], [205, 5, 23, 585, 106, 89], [1422, 21, 140, 13, 2705, 2706], [2707, 13, 1423, 368], [35, 117, 143, 45], [34, 548, 19], [51, 37, 5, 88], [14, 2, 24, 2, 65, 10, 15], [134, 47, 333, 2, 47, 404, 89, 71, 549, 2, 841, 72, 9, 4, 683, 2708], [183, 478, 1424, 5, 690, 4, 2709, 2, 1399, 3, 240, 8, 17, 9, 1425, 1049, 72, 481, 134], [83, 4, 1187, 842, 377], [354, 1015, 378, 2, 629], [39, 35, 68, 143, 11], [70, 2, 15, 169, 202, 286, 10, 13], [52, 147, 66, 26, 90, 12, 160, 137], [14, 2, 224, 8, 184, 108], [63, 17, 8, 32, 2710, 2711, 116, 2712], [14, 2, 24, 2, 22], [209, 358, 30, 3, 11], [22, 443, 18], [8, 822, 2713, 105, 75, 727, 2, 24, 2, 23, 329, 456], [675, 19, 27], [14, 2, 62, 2, 8, 305, 195], [14, 2, 220, 3, 473], [578, 284, 45, 455, 4, 211, 5, 22], [14, 2, 19, 11, 248, 47, 36, 118], [106, 96, 173], [38, 1164, 13, 2714, 2715, 827, 90, 201, 451], [10, 15], [10, 15], [11, 20, 10, 15], [11], [41, 202, 208, 443], [14, 2, 62, 2, 23, 258, 183, 550, 4, 29], [267, 101], [14, 2, 62, 2, 843, 743], [10, 90, 277], [330, 10, 1050], [11, 1820, 2716, 21, 2717, 684, 4, 2718, 5, 429], [430, 4, 307, 2719, 199, 336, 21, 421, 1417, 11, 272, 200], [587, 130, 81], [6, 26, 2720, 921, 12, 3, 7], [3, 90, 1821, 146, 181, 844, 355, 1822, 146, 431, 50, 257, 2721, 2722, 1188], [10, 15, 13, 152, 2723], [14, 2, 24, 2, 41], [85, 111], [444, 65, 922, 128, 3, 4, 3, 1051], [14, 2, 58, 22], [404, 244, 2724], [510, 67, 4, 82, 3, 8, 305, 48], [11, 20, 17, 273, 56], [41, 208, 122, 3, 132, 419, 31, 22], [39, 1823, 62, 47, 283, 1189, 2, 8, 36], [8, 10, 13, 2725, 90, 277, 432, 630, 11, 4, 29], [15, 93, 13, 2726, 2727, 80, 61, 10, 15], [1824, 4, 29, 3, 41], [86, 33, 92, 240, 168, 750, 28, 923, 90, 321], [1426, 48, 9, 4, 229], [76, 28, 2728, 845, 100, 1427, 1428], [2729, 2730, 304, 49, 10, 9, 1825, 1052], [732, 137, 133, 2731, 922, 34, 691, 21, 1429], [307, 155, 922], [152, 141], [846, 924, 4, 1053, 507], [43, 2, 103, 8, 110, 283, 13, 318, 181, 72, 2732, 82], [11, 20, 11, 95, 10, 15], [43, 2, 115, 1426, 48], [107, 221, 3, 97, 71, 409, 182, 692, 35, 1419, 474, 80, 8, 925, 1430], [54, 235, 173, 8, 926, 28, 390, 927, 9, 1054, 239, 5, 304, 96, 751, 584], [133, 19, 26, 2733, 1826, 2734], [3, 22, 21, 134, 253, 169, 460, 38, 120, 847, 2735, 537, 1431], [85, 2736, 18], [15, 93, 13, 2737, 2738, 80, 61, 10, 15], [48, 1055], [11, 20, 10, 15], [11, 27, 12, 1056, 10, 27], [10, 9, 4, 1163], [410, 225, 83, 179], [83, 2739, 3, 2740, 693, 694, 9, 4, 132, 53, 118], [101, 31, 2741, 13, 2742], [1827, 3, 193, 1190, 408, 2743, 2744, 9, 829, 267], [121, 3, 97, 1047, 631, 752, 1057, 9, 4, 174], [6, 16, 12, 3, 7], [11, 20, 17, 27], [331, 45, 30, 259, 22], [913, 1178, 1179], [1191, 221, 71, 4, 77, 2, 209, 2, 45, 538], [11, 20, 17, 63, 21, 10, 15], [173, 33, 22, 59, 19, 5, 1192, 165, 2745, 96, 13, 2746, 2747], [76, 28, 1021], [24, 18], [50, 224, 5, 590, 89], [76, 28, 452, 13, 84, 1828, 225, 1193, 1194], [53, 55, 432, 630, 1432, 53, 23, 551, 432, 630, 279, 459, 9, 25, 44, 42, 5, 50, 205, 79], [121, 9, 2748, 21, 154, 40, 8, 2749], [6, 16, 12, 3, 7], [513, 388, 1042, 31, 134, 832, 71, 1045, 2750, 2751, 2752, 2753, 2754], [86, 28, 22], [53, 433, 5, 1433, 1433, 1433, 4, 243, 44, 1434], [10, 15, 2755], [152, 141, 925], [1829, 70, 5, 2756, 695, 632, 13, 6, 1830, 26, 632], [69, 2, 81, 8, 49, 10, 80, 61, 10, 74], [193, 633, 1195, 1196], [925, 1430, 13, 513, 591, 9, 4, 29], [6, 16, 12, 3, 7], [6, 16, 12, 3, 7], [6, 16, 12, 3, 7], [296, 634, 696, 2757, 2758, 103, 237, 2759, 13, 8, 1831, 1197, 230], [6, 16, 12, 3, 7], [1165, 81, 12], [250, 48, 179, 3, 8, 1058, 1198, 3, 586], [5, 2760, 13, 152, 748, 1390], [48, 913], [6, 16, 12, 3, 7], [6, 16, 12, 3, 7], [478, 325, 753, 136, 13, 225, 484], [91, 74, 24, 18], [53, 55, 156, 44, 1434, 1059, 2761, 348, 1435], [152, 141, 51], [24, 4, 174, 13, 2762, 193, 2763], [22, 105, 4, 58], [79, 55, 156, 172, 228, 348, 79, 9, 25, 44, 42, 5, 46, 73, 57, 5, 391, 348], [18, 3, 739, 625, 11, 24], [152, 141, 1181], [100, 71, 14, 2, 37, 8, 187, 3, 407, 928], [152, 748, 34, 1181], [152, 748, 34, 1181], [223, 379, 86, 2, 319, 127, 2764], [95, 113, 150, 18], [30, 24, 5, 2, 8, 20, 60], [109, 223, 1199, 2765], [6, 210, 12, 3, 7], [6, 210, 12, 3, 7], [6, 210, 12, 3, 7], [14, 2, 19, 22], [34, 380, 754, 1200, 1436, 361, 219, 2766], [94, 148, 635, 57, 684, 21, 929, 454, 929, 9, 1832, 21, 148, 78, 4, 151, 8, 514, 929], [511, 5, 532, 930], [34, 548, 19, 13, 340, 3, 47, 106, 89], [6, 2767, 12, 3, 7], [6, 931, 12, 3, 7], [6, 16, 12, 3, 7], [6, 931, 12, 3, 7], [6, 931, 12, 3, 7], [6, 16, 12, 3, 7], [218, 612, 485, 52, 19, 157, 5, 52, 932, 157, 9, 25, 44, 87], [22], [6, 16, 12, 3, 7], [6, 16, 12, 3, 7], [26, 97, 66, 9, 25, 44, 42, 46, 5], [101, 1437, 21, 349, 168, 411, 1438, 21, 933, 1833], [267, 101, 619, 505], [11, 10, 15], [101, 1437, 21, 461, 386], [6, 2768, 12, 3, 7], [6, 16, 12, 3, 7], [26, 67, 4, 722, 57, 112, 632, 552], [6, 1834, 12, 3, 7], [6, 16, 12, 3, 7], [6, 16, 12, 3, 7], [6, 16, 12, 3, 7], [6, 16, 12, 3, 7], [6, 217, 12, 3, 7], [6, 1835, 12, 3, 7], [11, 20, 17, 27], [6, 934, 12, 3, 7], [261, 25, 234, 23, 2769, 165, 19, 157, 373, 40, 234, 9, 25, 44, 87], [511, 5, 184, 108, 11], [6, 1439, 12, 3, 7], [6, 16, 12, 3, 7], [6, 1835, 12, 3, 7], [6, 16, 12, 3, 7], [6, 16, 12, 3, 7], [6, 2770, 12, 3, 7], [6, 16, 12, 3, 7], [26, 188, 192, 197, 9, 189, 98, 178], [6, 1440, 12, 3, 7], [26, 66, 9, 636], [53, 55, 482, 2771, 73, 9, 160, 2772, 44, 42, 5, 46], [17, 63], [8, 755, 486, 13, 2773, 2774, 90, 487], [76, 28, 8, 145, 1060, 3, 223], [10, 15], [6, 16, 12, 3, 7], [6, 16, 12, 3, 7], [6, 16, 12, 3, 7], [177, 55, 637, 370, 434, 23, 53, 9, 25, 44, 42, 46, 5], [6, 1441, 12, 3, 7], [22, 4, 29], [26, 66, 2775, 385, 3, 8, 66], [51, 37, 5, 92], [52, 23, 23, 262, 52, 52, 932, 157, 401, 25, 40, 87, 46, 5], [79, 55, 52, 756, 23, 2776, 1836, 36, 196, 23, 138, 401, 25, 40, 87, 46, 5], [112, 47, 1442, 168, 37, 39, 78, 50, 257, 68, 3, 2, 11], [14, 2, 62, 2, 11], [14, 2, 19, 314, 248, 222], [26, 90, 38, 137, 182, 9, 1837, 1443, 120, 224, 9, 422, 1837, 5, 21, 355, 1838, 72, 90, 50, 30], [52, 21, 52, 2777, 253, 1366, 119, 1839, 22, 2778, 2, 276, 935, 128], [19, 848], [1201, 204, 2779], [15, 10], [1444, 581], [22, 4, 29], [638, 21, 15, 11, 20], [23, 258, 4, 1202, 639, 458], [126, 11, 17, 27, 13, 32, 2780, 2781], [22, 443, 13, 134, 221], [22, 45, 1061, 3, 18], [48, 746, 105, 4, 102, 13, 2782, 3, 326, 109], [10, 30, 3, 11], [238, 726, 116, 2783], [1840, 101], [116], [125, 22, 53, 30, 936], [41, 30, 100, 367, 3], [11, 19, 18], [14, 2, 58, 2784, 204, 5, 8, 84], [41, 86], [69, 484, 89, 86], [41], [47, 83, 2785, 104, 82, 28, 162], [267, 101], [164, 5, 1445, 928], [59, 244, 3, 214], [15, 8, 10, 13, 2786, 2787, 5, 11, 95, 480], [22, 1841, 30], [11, 20, 11, 95, 10, 15], [163, 24, 30], [309, 51, 50, 249, 52, 19, 13, 1842, 22, 390, 5, 49, 89], [218, 612, 2788, 5, 23, 310, 553, 97, 1843, 165, 19, 157, 9, 25], [15, 93, 13, 2789, 2790, 80, 61, 10, 15], [10, 15, 70], [47, 306, 149, 105, 4, 722, 5, 104, 757], [110, 18], [23, 138, 4, 29, 1446, 18], [153, 1203, 21, 2791, 9, 4, 29], [14, 2, 101, 3], [19, 2, 272], [288, 375, 111], [483, 462, 4, 324, 1844], [39, 35, 117, 143, 47, 84, 117, 127, 30, 50, 404, 244], [17, 27, 3, 11, 20], [937, 148, 34, 15, 47, 11, 480, 10, 39, 42, 27, 56, 33, 72], [22, 21, 41, 4, 263], [48, 3, 2792, 152, 1845, 2793, 758, 1193, 1194], [43, 19, 2, 672, 1846], [26, 290, 2794, 245, 849, 1847, 231, 241, 1447, 574], [10, 50, 362, 1062, 54, 10, 2, 19, 2, 11, 20, 11, 95], [488, 1448, 1204, 121, 1449, 1450], [69, 2, 115, 11, 3, 84, 2795], [2796, 175, 175], [100, 411, 111, 127, 30, 120], [83, 154], [6, 16, 12, 3, 7], [2797, 1814, 13, 554, 1451, 938, 2798, 2799, 13, 1059, 610], [1848, 48, 67, 4, 82], [6, 1849, 12, 3, 7], [1850, 13, 1452, 640, 225, 152, 2800, 1453, 1454], [83, 265], [110, 14, 2, 165, 56, 110], [850, 15, 13, 11, 32, 265, 2801], [759, 452, 176, 555, 2802, 1851], [272], [11, 20, 320, 130, 592, 154, 1455, 71, 556, 2803, 21, 11, 118, 9, 939, 1456], [34, 335, 19, 2, 26, 2804], [335, 19, 2, 26, 288], [1063, 59, 300, 405, 5, 593, 13, 8, 451, 557], [154, 11], [11, 154, 25, 1191, 1457, 2805, 40, 1205, 310], [205, 13, 84, 1852, 760, 761], [267, 101], [68, 3, 13, 11, 9, 56, 33, 113], [69, 2, 319, 56, 398, 1458, 318, 901, 153, 43, 489, 762], [121, 50, 257, 423, 121, 9, 4, 29], [107, 34, 2806, 32, 116, 2807], [14, 2, 58, 2808, 204], [2809, 206, 31, 26, 9, 354, 127, 18, 1853, 200, 2810, 138], [850, 15, 13, 11, 32, 265, 2811], [6, 16, 12, 3, 7], [65, 4, 144, 50, 195, 19], [70, 463], [299, 30], [121, 67, 4, 82], [6, 1459, 12, 3, 7, 40], [1854, 1460, 71, 1855, 1206], [11, 9, 592, 154], [221, 31, 1856, 1206, 71, 1461, 154, 320, 3, 11, 91, 74, 91, 74, 1857], [6, 16, 12, 3, 7, 40], [79, 55, 52, 172, 23, 391, 36, 9, 25, 44, 87, 5, 46, 73, 57, 5, 228, 843], [11, 20, 60, 25], [14, 2, 136, 1029, 1858, 3, 135], [2812, 116, 2813, 11, 10, 168, 1207], [11, 1462, 278, 154, 3, 234], [11, 320, 130, 9, 278, 154], [159, 11, 20, 60, 154], [69, 2, 136, 11, 294, 2, 154, 320, 1859], [6, 369, 12, 3, 7, 40], [26, 2814], [38, 490, 13, 2815, 2816, 2817, 827, 90, 201, 451], [6, 369, 12, 3, 7, 40], [755, 486, 13, 2818, 2819, 90, 487], [309, 128], [6, 301, 12, 3, 7, 40], [6, 301, 12, 3, 7, 40], [6, 301, 12, 3, 7, 40], [6, 16, 12, 3, 7, 40], [6, 940, 12, 3, 7, 40], [6, 940, 12, 3, 7, 40], [49, 10, 15, 70], [6, 16, 12, 3, 7, 40], [14, 2, 68, 3, 2, 163], [190, 2, 276, 38, 41, 208], [14, 2, 62, 2, 305, 48], [133, 19, 233], [51, 37, 88], [22, 18, 125, 45, 363], [34, 52, 2820, 2821, 19, 2, 48, 2822, 641, 1860, 1861], [10, 37, 190], [36, 190, 13, 32, 2823], [65, 1463], [6, 301, 12, 3, 7, 40], [11, 377, 3, 1862, 9, 4, 29], [2824, 83, 3, 1862, 9, 4, 29], [50, 392], [47, 22, 2825, 82], [11, 20, 17, 273, 56], [4, 77, 2, 117, 38, 110, 2, 103, 13, 175], [51, 37, 5, 88], [1208, 941, 30], [10, 15], [323, 195, 19], [204, 5, 642, 4, 144, 204, 35, 75, 558, 26], [2826, 3, 8, 1863, 478, 9, 25, 40, 8, 52, 172], [218, 2827, 21, 2828, 485, 118, 2, 52, 172, 9, 25, 44, 87, 46, 5], [140, 17, 27, 56], [252, 342, 1209, 1418, 401, 25, 40, 42, 46, 5, 34, 347, 8, 346], [456, 19], [11, 20, 10, 15, 70], [559, 763, 190, 1864, 1210, 510, 21, 506, 2829], [19, 2, 1464, 2830, 13, 2831, 2832], [14, 2, 62, 2, 22], [30, 28, 2833, 91, 74, 11, 2834, 21, 23, 1211], [6, 16, 12, 3, 7, 40], [106, 96, 173, 23, 633], [22, 55], [107, 34, 103, 515, 325, 38, 3, 2835], [45, 19, 18], [6, 332, 12, 3, 7, 40], [59, 448], [78, 4, 220, 143, 45, 155, 609, 220, 5, 200, 5, 8, 226], [10, 15], [1865, 60, 48], [14, 2, 81, 10], [4, 77, 2, 24, 2, 1866, 236, 72, 2836, 2837], [6, 301, 12, 3, 7, 40], [83, 917, 131, 13, 464, 23, 307, 35, 75, 1416, 3, 2, 72, 847, 8, 412, 678, 9, 939], [2838, 180, 8, 1014, 2, 428, 2, 8, 133, 1867, 1212, 2839, 1868, 1869], [180, 19, 2, 66, 26, 1870, 2840, 2, 8, 32, 2841, 2842, 2843, 560, 411, 19], [43, 19, 2, 158], [99, 203], [121, 13, 172, 159, 9, 29, 278, 1213, 34, 69, 1871, 1214], [45, 18, 125, 2844, 18], [32, 180, 69, 2, 24, 2, 8, 186], [121, 1872, 413, 435, 67, 4, 82], [2845, 2846, 193, 490, 1873], [34, 15, 47, 20, 10], [32, 180, 69, 2, 24, 2, 8, 65, 73], [17, 315], [22, 731, 245, 516], [84, 86], [2847, 2848, 4, 211, 57, 3, 334, 13, 125, 223], [449, 18, 470, 502, 21, 2849, 18], [4, 77, 2, 123, 643, 1465, 153, 2850, 697, 17, 1466, 124, 644, 1874, 1467], [11, 20, 17, 63, 21, 10, 15], [299, 942, 108, 4, 29], [35, 102, 5, 52, 48, 746, 237, 257, 34, 624], [14, 2, 102, 31, 8, 48, 1468], [39, 43, 2, 124, 389, 2851, 2852, 356, 2, 47, 169, 59], [32, 14, 2, 62, 40, 8, 629, 40, 109], [645, 189, 764, 250, 229], [6, 301, 12, 3, 7, 40], [133, 19, 233], [11, 20, 17, 63, 21, 10, 15], [6, 16, 12, 3, 7, 40], [34, 198, 32, 2853, 608, 112, 367, 3, 134, 53, 433, 71, 170], [295, 3, 2, 117, 3, 1822, 28, 1769, 1770], [126, 17, 63], [322, 13, 1215, 1875, 765, 766], [131, 54, 207, 1449, 1450], [51, 37, 13, 92], [79, 55, 156, 839, 932, 157, 9, 25, 40, 42, 46, 5], [79, 55, 23, 260, 543, 348, 279, 196, 9, 25, 44, 42, 46, 73, 9, 57, 348], [24, 18], [89, 3, 208, 406, 89, 150, 3, 97, 8, 2854, 67, 4, 82], [14, 2, 232, 22], [11, 19, 18], [11, 17, 27], [6, 16, 12, 3, 7, 40], [11, 229, 95, 113, 48, 851, 639], [26, 9, 614, 1016, 293, 579, 536, 34, 615], [2855, 2856, 295, 742, 38, 133, 19, 190], [133, 560, 21, 698, 19, 393], [173, 33, 22, 59, 19, 5, 235, 96, 13, 2857, 2858], [19, 18, 2, 158], [76, 28, 645, 1216, 197, 902, 592, 1469, 561, 562], [131, 54, 207, 3, 1217, 1876, 1877], [8, 149, 5, 326, 1452, 640, 225, 9, 179], [335, 13, 133, 460, 168, 2859], [488, 1386, 31, 2860, 96, 2861, 94, 1218, 1878, 219, 1027], [517], [6, 16, 12, 3, 7, 40], [48, 4, 29], [121, 21, 2862, 71, 29, 278, 154], [698, 852, 13, 2863, 1470], [5, 8, 1051, 1064, 100, 71, 229, 513, 1049, 33, 1051], [121, 471, 303, 4, 206, 34, 69, 1214], [9, 41, 25], [943, 39, 1451, 3, 237, 747, 1879, 143, 11, 72, 563, 161, 411, 2864, 2865, 3, 8, 60], [6, 16, 12, 3, 7, 40], [20, 724, 66, 1880, 28, 341, 66, 30, 3, 1471, 33, 237, 253, 209, 591, 327, 1881], [6, 332, 12, 3, 7, 40], [14, 2, 103, 110, 107], [205, 145], [20, 853, 1040, 544, 18], [44, 2866, 66, 76, 2867, 4, 1882], [1883, 1884, 2868, 86, 108, 31, 1472, 1174, 23, 138], [15, 8, 10, 13, 1885, 1886, 5, 11, 95, 11], [4, 77, 2, 122, 288, 387, 143, 65], [914, 166], [35, 68, 3, 407], [53, 55, 1219, 1473, 1474, 160, 25, 44, 87, 5, 46, 73, 90, 50, 205, 79], [6, 1475, 12, 3, 7], [175, 1476, 107], [8, 283, 240, 168, 767, 564, 40, 1220, 33, 8, 1221, 168, 170, 1477, 72, 321], [11, 27], [30, 11, 20, 551, 2869], [65, 19, 18], [19, 2, 20], [50, 463, 3, 1017], [14, 2, 68, 3, 2, 11, 20], [6, 16, 12, 3, 7], [19, 2, 11, 20, 13, 32, 2870, 2871], [133, 19, 1065, 13, 26], [133, 19, 70], [638, 17], [479, 21, 929, 635, 57, 3, 363, 45, 4, 29], [99, 4, 77, 2, 37, 54, 153], [14, 2, 19, 65], [14, 2, 58, 99], [854, 2, 103, 916, 1467, 3, 20, 11, 646, 2872], [65, 18], [944, 404, 244], [65, 60, 4, 29], [35, 117, 47, 535, 162, 1222, 2, 82, 5, 47, 85], [14, 2, 19, 65], [65, 18], [65, 18], [65, 25], [41, 13, 238, 9, 4, 243, 2, 8, 390], [8, 23, 65, 9, 409, 38, 25, 187, 44, 87], [126, 65, 281, 19, 18], [94, 206, 551, 108, 2873, 58, 113, 108, 8, 108, 9, 4, 1202, 52, 1887, 1197], [50, 392, 194, 1066, 2874], [26, 197, 188, 250, 611, 26, 1888, 9, 189, 98, 178, 98, 144, 255], [39, 43, 47, 244, 356, 2, 945, 746], [275, 150, 27, 184, 108], [11, 20, 10, 15], [2875, 1165], [41, 21, 22, 1223, 18, 208, 71, 4, 211, 57, 3, 41], [22, 2876], [104, 120, 168, 316, 2, 8, 23, 1224, 379, 34, 457, 23, 590, 13, 362, 164], [855, 17, 13, 736], [14, 2, 102, 251, 4, 394], [14, 2, 58, 22], [50, 19, 2, 163, 151, 269, 381, 120], [180, 2, 81, 10], [1067, 2, 68, 3, 2, 11, 21, 91, 74], [6, 16, 12, 3, 7], [14, 2, 58, 272], [41, 9, 4, 946], [126, 32, 14, 2, 24, 2, 8, 83], [1009, 187, 54, 814, 193, 2877, 2878, 587, 1889], [2879], [23, 323, 17, 198, 57], [3, 326, 2880, 2881, 59, 580, 100, 78, 2882, 127, 59, 21, 1478, 325, 72, 181, 72, 9, 4, 2883], [190, 742, 1890, 298, 381, 128], [14, 2, 24, 2, 186, 60, 2884, 2885], [14, 2, 232, 163, 470, 502, 18], [14, 2, 19, 129, 130], [15, 161, 8, 20, 45, 95, 19], [35, 117, 1369, 2, 153, 199, 322, 1891, 280, 28, 8, 89, 148, 117, 38, 2886], [169, 22, 4, 263, 35, 58], [295, 2, 63, 1479, 1480, 17, 32, 116, 2887], [34, 198, 414, 13, 100, 48, 90, 201, 15, 2, 1481, 518, 2888], [69, 2, 81, 8, 49, 10, 80, 61, 10, 74], [28, 1225, 2889, 32, 116, 2890, 8, 121, 67, 4, 82, 5, 8, 84, 1892], [17, 63], [345, 311, 24, 3, 1217, 1876, 1877], [11], [14, 2, 24, 2, 20], [2891, 4, 29, 519, 2, 2892, 1893, 520, 1894, 277], [11, 2893, 2894, 43, 2, 1895, 2, 84, 1896], [43, 19, 2, 11, 20, 947, 2895, 2896], [32, 180, 69, 2, 24, 2, 11, 20], [43, 8, 491, 33, 54, 83], [72, 368, 1482], [78, 148, 34, 729, 161, 19, 2, 8, 20, 152, 141, 60, 32, 2897], [821, 2, 20], [47, 65, 21, 298, 405, 699, 13, 38, 10], [1068, 3, 11, 60, 768, 294, 2, 581, 1897, 8, 23], [213, 92, 1226, 32, 1483, 10, 81, 393, 13, 221, 34, 565, 2, 2898, 2899], [43, 19, 2, 2900, 1826, 1484, 2901], [133, 922, 31, 165, 137], [4, 77, 2, 245, 418, 3, 166], [6, 376, 12, 3, 7], [6, 16, 12, 3, 7], [532, 856], [11, 19, 18, 15, 10, 13, 20, 13, 2902], [133, 19, 165, 1898, 1899], [22, 4, 29], [4, 77, 2, 19, 1900, 1901], [513, 857], [14, 2, 117, 309, 340, 3, 22], [6, 492, 12, 3, 7], [4, 77, 2, 58, 8, 1227, 271, 108], [24, 18], [65], [38, 490, 13, 2903, 2904, 827, 90, 201, 451], [2905, 59, 31, 388, 60], [4, 77, 2, 447, 41, 566, 329, 1409, 89], [2906, 2907, 40, 2908, 2909], [6, 16, 12, 3, 7], [26, 197, 178, 56, 33, 415, 614, 415, 98, 9, 144], [177, 55, 23, 262, 2910, 1485, 279, 196, 373, 40, 1485, 1774, 9, 160, 25, 44, 42, 46, 5], [1486, 179, 1463, 948, 149, 521, 522], [488, 647, 1069, 1070], [76, 28, 1902, 21, 149], [14, 2, 103, 110], [76, 28, 1903, 84, 613, 2911, 2912], [43, 69, 3, 382, 10, 3, 61, 10, 139], [818, 49, 192, 98, 536, 364, 1904, 9, 56, 33, 415, 614, 858, 9, 144], [11, 20, 11, 95], [348, 1905, 118, 18], [1906, 374, 336, 13, 1907, 9, 4, 29, 3, 336, 219, 1908, 150, 3, 215], [15, 93, 13, 1909, 1910, 80, 61, 10, 15], [19, 393], [6, 16, 12, 3, 7], [83, 40, 121, 377, 3, 97, 50, 257, 423], [118, 2, 8, 195, 66, 4, 174, 294, 2, 1487, 852], [15, 93, 13, 1909, 1910, 80, 61, 10, 15], [11, 20, 2913], [11, 17, 2914], [110, 239, 187, 239], [15, 93, 13, 1384, 1385, 80, 61, 10, 15], [15, 93, 13, 1384, 1385, 80, 61, 10, 15], [429, 233, 85, 2915, 1488, 2916, 13, 216, 594], [6, 16, 12, 3, 7], [118, 595, 48, 489, 21, 83, 859, 35, 75, 2917], [2918, 924, 187], [177, 555, 845, 155, 1061, 179, 83, 671, 912], [17, 27, 3, 11, 20], [3, 226, 13, 1911, 23, 133, 13, 161, 72, 9, 211, 19, 848], [11, 18], [6, 493, 12, 3, 7], [860, 2, 584, 738, 50], [104, 285, 4, 681, 507, 13, 398], [125, 109, 1489, 2919, 2920, 90, 461, 1912, 34, 123, 8, 43, 359], [14, 2, 24, 2, 49, 17], [47, 106, 89, 35, 75, 307, 13, 41, 238, 1913], [490, 13, 2921, 2922], [6, 16, 12, 3, 7], [6, 492, 12, 3, 7], [14, 2, 19, 59], [38, 490, 13, 2923, 2924, 827, 90, 201, 451], [1490], [5, 47, 113, 269, 39, 124, 2925, 2926, 182, 105, 4, 264, 692, 153, 458, 21], [490, 13, 2927, 2928], [14, 2, 298, 340, 5, 235, 165], [390, 28, 89], [14, 2, 19, 11], [1914, 242, 86], [6, 492, 12, 3, 7], [490, 13, 2929, 2930], [51, 37, 5, 88], [2931, 436, 191], [74, 145, 73, 35, 336, 28, 56, 142, 30], [10, 15, 2, 24, 226], [50, 224, 5, 8, 149], [769, 254, 4, 324], [489, 531, 574, 20, 8, 606, 33, 2932, 1071, 13, 2933, 670, 20, 1768, 2934, 2935, 145, 9], [35, 472, 110], [343, 850], [565, 32, 2936, 2, 8, 140, 2937], [316, 31, 770, 74], [465, 203, 13, 288, 531], [6, 493, 12, 3, 7], [14, 2, 246, 22, 119, 2938, 147, 461, 1912], [51, 37, 5, 88], [1024, 200, 5, 8, 226], [14, 2, 19, 418], [37, 5, 88], [53, 55, 432, 630, 73, 9, 160, 25, 44, 87, 46, 5], [39, 123, 4, 344, 237, 2939, 596, 143, 47, 11, 700], [126, 106, 96, 173], [2940, 4, 324], [299, 9, 4, 263], [43, 19, 2, 2941, 451, 219, 2942, 2943, 34, 347, 317], [39, 43, 47, 10, 3, 20, 292], [41], [48, 18, 567, 109, 2944, 48, 636], [152, 141, 101, 31, 2945, 2946], [184, 108, 2947, 771, 51, 88], [2948, 2949, 2950, 38, 152, 141, 101, 116], [47, 59, 405, 1228, 21, 39, 124, 4, 701, 195, 19, 40, 134, 104, 1229], [50, 19, 2, 2951], [2952, 101, 28, 568, 116], [267, 101, 101, 1437, 21, 461, 386], [116], [22, 4, 324], [86, 28, 949, 130, 2953, 21, 129, 130], [14, 2, 151, 99], [43, 147, 1782, 31, 8, 205, 293, 1491, 1492, 379, 2954, 2955], [162, 629, 4, 29, 40, 950, 1493, 123, 1494], [267, 101], [17, 315], [4, 77, 2, 472, 110], [41, 772, 419], [10, 15], [2956, 251, 37, 2957, 2958, 306, 242], [14, 2, 58, 22], [2959, 1489, 2960, 2961, 674, 9, 354, 2962, 111], [648, 19, 2, 186, 773], [1230, 30, 60, 30, 8, 2963, 909, 168, 4, 394, 251, 4, 774], [14, 2, 62, 2, 195], [60, 443], [11, 24, 18, 10, 15], [79, 55, 23, 262, 52, 52, 1915, 2964, 373, 40, 52, 23, 9, 25, 44, 42, 46, 5], [11, 20, 17, 63], [15, 8, 10, 13, 2965, 2966, 5, 253, 532, 856], [22, 18, 4, 282], [10, 15, 31, 61], [34, 2967, 2, 454, 72, 764, 494, 1231, 939], [15, 93, 13, 1495, 1496, 80, 61, 10, 15], [1072, 6, 180, 2968], [775, 13, 2969, 13, 2970, 2971], [91, 74, 105, 4, 82], [49, 10, 15], [11, 21, 121, 71, 278, 154], [11, 702, 60, 278, 154], [11, 209], [49, 17, 63], [49, 17, 315], [15, 10], [11, 2972, 2973, 1213], [555, 149, 13, 649, 640, 225, 1916, 1917], [76, 28, 22, 2974, 2975], [84, 1918, 179, 212, 1919, 1920], [91, 74, 9, 4, 29], [22, 67, 4, 268, 596], [1497, 249, 86, 28, 99, 13, 814, 2976, 2977], [53, 55, 23, 434, 905, 36, 196, 23, 138, 373, 40, 434, 370, 9, 25, 44, 42, 46, 5], [121, 9, 25, 3, 172, 586], [103, 238, 726, 116, 2978], [6, 332, 12, 3, 7], [14, 2, 1921, 2, 158, 2979], [252, 291, 76, 32, 2980], [131, 121, 372, 425, 426], [775, 13, 26, 1922, 1484, 13, 32, 2981], [860, 2, 584, 738, 50], [11, 20, 10, 15], [853, 113, 102], [53, 55, 23, 262, 52, 52, 2982, 279, 196, 44, 42, 46, 5], [22, 951, 840, 13, 10, 1232, 112, 38, 10, 15], [34, 825, 8, 235, 2, 344, 191], [78, 148, 34, 63, 21, 15, 10, 13, 1233, 2983, 21, 723, 161, 703, 8, 1923, 10], [32, 180, 69, 2, 58, 1498, 147], [50, 385, 31, 8, 89], [1924, 66, 2984, 2985, 482, 482], [4, 77, 2, 19, 166], [60, 1073, 2986, 1499, 3, 776, 13, 482, 482, 642, 26, 26], [11, 20, 10, 220, 5, 9, 2987, 34, 15, 2, 1500], [32, 2988, 2989, 2990, 27, 2991, 56, 33, 11, 20, 78, 148, 34, 15, 861, 10, 2, 1500], [15, 93, 13, 2992, 2993, 80, 61, 10, 15], [14, 2, 19, 128, 5, 22], [11, 576, 4, 837, 8, 153, 1908, 150, 31, 8, 2994, 458, 13, 8, 2995, 458], [4, 77, 2, 24, 2, 65], [51, 37, 5, 92], [486, 430, 4, 75, 1925], [39, 937, 947, 2, 75, 77, 2, 307, 8, 1902, 5, 47, 41, 13, 238, 333, 78, 148, 122, 104, 2, 47, 1234], [50, 185, 5, 163, 281], [820, 185, 18, 5, 84], [22, 190], [249, 51, 37], [749, 152, 141, 256, 24, 30], [51, 190, 5, 92], [41], [149, 5, 476, 1926, 2996, 83, 105, 4, 1074, 844, 5], [2997, 1927, 90, 38, 1235, 381, 952], [568, 116], [159, 945, 2998, 2999, 48], [43, 203, 33, 1501], [26, 3000, 359, 948, 19, 13, 3001, 3002], [10, 15, 1928, 13, 20, 11, 13, 3003, 3004, 3005], [63, 10], [495, 273, 56, 18], [8, 91, 74, 9, 4, 395, 496], [6, 16, 12, 3, 7], [69, 28, 408, 953], [45, 122, 3, 105, 4, 722, 57], [334, 4, 29, 2, 319, 47, 429, 313, 72, 9, 4, 211, 3, 47, 74, 1929], [10, 15, 70, 13, 11], [470, 502, 37, 18], [133, 19, 1928, 3006, 39, 288], [11, 675, 10, 15], [180, 2, 81, 10], [49, 17, 63], [777, 3007, 3008, 128, 2, 3009, 3010], [3011, 90, 19, 2, 8, 954, 171, 862, 78, 863, 181, 943, 862, 3012, 72, 862, 67, 4, 344, 8, 59, 680], [6, 16, 12, 3, 7], [3013, 17, 9, 1502, 28, 22, 43, 2, 380, 72], [11, 20, 17, 27, 56], [11, 20, 10, 81], [54, 193, 89, 150, 393], [35, 62, 3014], [66, 26, 507, 3015, 205], [106, 96, 173], [39, 35, 19, 8, 1846, 291, 3, 864], [10, 277, 14, 2, 81, 8, 10], [10, 15, 248, 61, 10, 139, 65, 18], [14, 2, 19, 65], [51, 37, 88], [3016, 73], [132, 127, 30, 94, 247, 2, 19, 8, 3017, 1503, 313, 21, 3018, 151, 346], [3019, 18, 13, 296, 3, 159, 172], [11, 20, 27], [3020, 108, 5, 297, 239], [1895, 56, 313], [107, 454, 66, 25, 26], [14, 2, 58, 166, 115, 350, 865], [53, 137, 4, 282], [632, 183, 497, 313], [41], [1850, 13, 121, 1930, 613, 57, 3021, 3022], [15, 93, 13, 3023, 3024, 80, 61, 10, 15], [4, 77, 2, 58, 609, 220, 5, 200, 5, 226], [84, 13, 164, 187, 179, 76, 28, 1486, 521, 522], [100, 43, 535, 3025, 415, 13, 8, 672, 1075, 33, 3026, 1504], [4, 77, 2, 353, 288, 375, 3, 65], [22, 41, 86], [14, 2, 117, 2, 61, 2, 81, 8, 10], [36, 9, 1505, 4, 955, 1402], [11, 20, 17, 63], [3, 1506, 39, 78, 4, 741, 1931, 2, 11], [17, 27], [6, 16, 12, 3, 7], [287, 1932, 3027, 286, 71, 4, 206], [1933, 557, 187, 388, 453, 33, 3028], [6, 16, 12, 3, 7], [213, 92, 676, 356], [26, 3029, 66, 1934, 137, 21, 177, 555, 18], [4, 77, 2, 58, 3030, 3, 297], [287, 4, 29], [197, 188, 250, 611, 818, 1367, 5, 66, 9, 189, 178], [6, 16, 12, 3, 7], [1507, 85, 97, 342, 233], [4, 77, 2, 151, 3031, 164, 1935, 738, 287, 695, 66], [15, 8, 10, 13, 3032, 3033, 5, 11, 95, 11], [198, 57, 836, 89, 13, 59], [39, 42, 4, 77, 2, 24, 2, 20, 60, 3034, 635, 143, 104, 5, 1076, 47, 32, 116, 3035], [1077, 8, 904, 5, 8, 1373, 758, 9, 4, 1236], [76, 28, 32, 303, 411, 1936, 1851, 765, 766], [3036, 1937, 1069, 1070], [3037, 218, 631, 752], [121, 67, 4, 82], [47, 91, 74, 9, 4, 1013, 54, 10, 72, 9, 211, 150, 33, 12, 1056, 3038], [3039, 1212], [14, 2, 103, 110, 458], [112, 382, 8, 10, 23, 62, 78, 68, 3, 181, 35, 75, 727], [6, 16, 12, 3, 7], [458, 5, 183, 113, 4, 1202, 248, 2, 1508, 1858], [410, 83, 1509, 3040, 177, 555, 845], [50, 145, 284, 31, 8, 11, 379, 2, 8, 3041, 3042, 48], [121, 650, 9, 278, 1938, 303], [4, 77, 2, 353, 288, 375], [121, 21, 413, 435, 67, 4, 82], [147, 773, 86, 3, 3043, 903], [121, 3044, 3, 586], [66, 76, 3045, 3046, 4, 1882], [498, 4, 1237, 94, 8, 177, 1222, 9, 243], [84, 105, 4, 597, 5], [15, 93, 13, 3047, 3048, 80, 61, 10, 15], [30, 24, 5, 2, 8, 20, 60], [48, 636, 151, 317], [6, 210, 12, 3, 7], [6, 210, 12, 3, 7], [6, 210, 12, 3, 7], [24, 18, 11, 20], [398, 104, 285], [35, 691, 396, 40, 1939, 175], [35, 691, 396, 40, 1939, 175], [19, 2, 53, 137, 21, 48], [6, 210, 12, 3, 7], [6, 210, 12, 3, 7], [6, 210, 12, 3, 7], [1031, 627, 159, 1078], [6, 16, 12, 3, 7], [3049, 5, 2, 36, 181, 78, 4, 19, 271, 155, 11], [22, 4, 704], [11, 201, 27, 1510, 273, 21, 1382, 161, 8, 54, 10], [6, 16, 12, 3, 7], [287], [17, 63], [43, 2, 81, 10, 21, 298, 54, 10, 5, 134, 289], [14, 2, 220, 3, 2, 41], [10, 15, 13, 158, 32, 3050], [79, 55, 23, 262, 52, 52, 172, 1940, 445, 1941, 19, 157, 261, 9, 25, 44, 42, 46, 5], [6, 16, 12, 3, 7], [199, 290, 523, 66, 5, 357, 26, 9, 3, 38, 274, 1079, 3, 776], [6, 16, 12, 3, 7], [6, 16, 12, 3, 7], [6, 332, 12, 3, 7], [6, 817, 12, 3, 7], [6, 16, 12, 3, 7], [6, 337, 12, 3, 7], [6, 16, 12, 3, 7], [6, 337, 12, 3, 7], [6, 332, 12, 3, 7], [6, 16, 12, 3, 7], [6, 16, 12, 3, 7], [79, 55, 156, 23, 260, 543, 542, 279, 196, 9, 25, 44, 87, 46, 5, 228, 79, 9, 57], [1511, 177, 55, 1942, 1943, 23, 160, 25, 44, 87, 5, 46], [6, 16, 12, 3, 7], [385, 4, 29, 3051, 59, 3052], [511, 5, 11, 20, 910], [234, 23, 252, 1154, 401, 25, 40, 87, 46, 5], [6, 3053, 12, 3, 7], [6, 492, 12, 3, 7], [6, 492, 12, 3, 7], [6, 16, 12, 3, 7], [6, 16, 12, 3, 7], [6, 673, 12, 3, 7], [6, 16, 12, 3, 7], [83, 5, 410, 3, 1238, 188, 1512, 109, 3054, 67, 4, 268, 57], [85, 1060, 594, 1012, 71, 4, 29], [471, 71, 132, 1944, 294, 2, 3055, 18], [53, 55, 598, 432, 956, 551, 53, 9, 25, 44, 42, 46, 5], [6, 1945, 12, 3, 7], [6, 16, 12, 3, 7], [6, 16, 12, 3, 7], [6, 16, 12, 3, 7], [66, 1818, 420, 621, 373, 3, 1819, 9, 25, 44, 42, 46, 5], [6, 1080, 12, 3, 7], [11, 20, 17, 27], [176, 137, 19, 70], [6, 376, 12, 3, 7], [6, 16, 12, 3, 7], [1946, 764, 15], [53, 55, 637, 370, 23, 53, 9, 25, 44, 87, 46, 5], [6, 376, 12, 3, 7], [598, 432, 956, 551, 23, 310, 1947, 598, 19, 157, 23, 138, 9, 25, 44, 87, 46, 5], [10, 15, 70], [14, 2, 298, 340, 155, 1513, 5, 106, 96], [51, 37, 5, 88], [14, 2, 62, 2, 53, 48], [6, 16, 12, 3, 7], [10, 4, 37], [53, 48, 4, 29], [51, 37, 5, 88], [133, 506, 3, 26], [14, 2, 68, 3, 2, 11, 272], [49, 10, 15], [158, 10, 15], [70, 63, 32, 17, 3056], [49, 17, 315], [23, 258, 289, 356, 69, 28, 38, 506, 458], [6, 337, 12, 3, 7], [35, 103, 38, 110, 34, 624, 104, 3, 1081], [6, 337, 12, 3, 7], [103, 114, 116, 13, 8, 474, 54, 129, 3057, 3058], [14, 2, 428, 231, 147], [126, 32, 14, 2, 1182, 41, 208, 31, 306, 501], [334, 13, 109, 3059, 74], [30, 50, 318, 174, 28, 1200, 3060], [60, 613, 21, 154], [446, 30], [19, 18], [19, 848, 5, 8, 65, 1024, 171], [3061, 9, 4, 444, 128, 31, 389, 3062], [89, 18], [1948, 164], [17, 315], [94, 39, 957, 5, 8, 424, 2, 297, 39, 123, 4, 117, 8, 763, 57, 240, 3063, 161, 2, 424, 2, 297, 151, 317], [267, 101], [14, 2, 62, 2, 36], [22, 18], [249, 51, 37], [648, 118, 2, 3064, 240, 9, 38, 275, 137, 483, 595, 47, 308, 21, 85], [39, 35, 151, 47, 1514, 128, 3, 22, 39, 42, 1897, 442, 21, 3065, 3066, 105, 43, 2, 151, 1399, 1514, 128], [11, 48, 1949], [218, 504, 1082, 3067, 5, 23, 262, 52, 52, 3068, 651, 19, 157, 23, 138, 9, 25], [14, 2, 58, 20, 21, 10, 18, 3, 20], [287], [11, 10, 27, 56, 112, 324, 93, 28, 61, 10, 139], [14, 2, 24, 2, 226, 2, 136, 1029, 1950], [26, 49, 192, 98, 536, 364, 1904, 9, 302, 98, 144, 9, 360, 415], [86, 28, 11, 183, 524], [14, 2, 103, 41, 566, 3069, 33, 3070, 3071], [218, 9, 25, 5, 261, 23, 310, 553, 97, 1843, 165, 19, 157, 44, 42, 46, 5], [111, 1393, 418], [38, 1164, 13, 3072, 3073, 827, 90, 201, 451], [14, 2, 151, 134, 8, 1951, 360, 158], [723, 587, 1397, 649, 9, 4, 1033], [39, 35, 19, 163, 200], [18, 28, 169, 109, 866, 835], [51, 37, 13, 92], [91, 74, 105, 4, 58], [43, 19, 2, 36], [6, 16, 12, 3, 7], [30, 120, 247, 2, 68, 143, 214, 2, 113], [10, 15, 70], [239, 56, 31, 184, 108], [466, 1952, 494, 168, 483, 5, 8, 226, 21, 1515, 701, 19, 2, 72], [70, 148, 2, 15, 47, 11, 10], [52, 205, 3074, 66, 3075, 90, 38, 3076, 3077, 3078, 1934, 192], [14, 2, 58, 22, 21, 106, 96, 173], [34, 15, 10, 3, 20, 13, 32, 116, 3079], [32, 116, 10, 1944], [89, 179], [1953, 30], [17, 27, 3, 140], [41, 17, 24, 86], [8, 290, 286, 9, 409, 38, 25, 187, 5, 26], [149, 1954, 3080, 3081], [10, 9, 4, 132, 1163], [14, 24, 163], [79, 55, 23, 262, 52, 52, 176, 196, 9, 25, 40, 42, 46, 5], [115, 109, 1041, 1069, 1070], [429, 428, 296, 677, 241, 13, 1516, 652, 28, 1208, 941, 939], [131, 54, 207, 3082, 3083], [131, 54, 207, 3084, 3085], [131, 54, 207, 3086, 3087], [473, 705, 4, 829, 3, 47, 45, 281], [35, 122, 8, 288, 531], [517, 17, 19, 3088, 3089, 762], [86, 28, 85, 594], [15, 8, 10, 13, 3090, 3091, 5, 11, 95, 11], [38, 1955, 18, 2, 287, 17, 3092], [17, 27], [22, 958, 112, 45, 37], [76, 28, 8, 224, 33, 58, 128], [8, 1956, 60, 35, 440, 34, 1517, 28, 72, 3093, 148], [114, 18, 278, 653, 654], [91, 74, 21, 11, 4, 29], [43, 69, 3, 687, 10, 3, 61], [43, 3094, 1239, 626, 13, 134, 501], [1518, 23, 138, 1518, 23, 138, 71, 211, 25, 3, 776], [49, 17, 27], [3095, 85, 13, 3096, 617, 778, 610, 2, 672, 1059], [6, 16, 12, 3, 7], [11, 29, 154], [166, 1083], [6, 16, 12, 3, 7], [6, 369, 12, 3, 7], [30, 1240, 318, 31, 159, 2, 159], [431, 1046, 634], [6, 376, 12, 3, 7], [51, 37, 5, 88], [563, 161, 8, 904, 182, 9, 3097, 5, 8, 59, 182, 90, 201, 3098, 269], [14, 2, 353, 184, 108], [14, 2, 115, 99], [113, 1957, 905, 3099], [51, 37, 5, 92], [51, 37, 5, 92], [51, 37, 5, 88], [15, 93, 13, 3100, 3101, 80, 61, 10, 15], [532, 930, 59], [184, 108, 4, 549, 2, 779, 139], [14, 2, 298, 93, 5, 134, 289], [10, 15], [35, 117, 746, 2, 102, 5, 83, 917, 959, 105, 4, 246], [949, 18, 222, 365, 31, 2, 222], [818, 197, 188, 192, 9, 189, 98, 178], [267, 101, 474, 619, 505], [11, 10, 15, 13, 32, 3102, 3103, 3104], [15, 20, 10, 13, 3105, 3106], [51, 37, 5, 88], [43, 1958, 33, 1959, 32, 116], [22, 18], [288, 375], [331, 109, 3107, 22], [305, 133, 534, 744, 33, 3108, 3109, 3110, 2, 1860, 1861, 3111], [1497, 92, 1960, 222, 1519, 515, 325, 3, 11, 20], [35, 424, 155, 102, 418, 31, 11, 272], [22, 4, 324, 907, 1961], [26, 477, 3112, 8, 98, 90, 201, 727, 2], [51, 37, 5, 92], [106, 96, 173], [43, 19, 2, 3113, 408, 3, 953], [14, 2, 24, 2, 65, 28, 59, 244, 21, 10], [59, 744], [49, 17, 63], [749, 3114, 30], [944, 18, 5, 89, 568, 116], [14, 2, 62, 2, 36], [14, 2, 19, 260, 464, 155, 310, 464, 100, 262, 464, 9, 25, 3115, 3116], [99, 4, 259], [11, 20, 17, 63, 21, 10, 15], [59, 173, 5, 23, 585, 96], [4, 77, 2, 24], [109, 519, 13, 448, 866], [11, 700, 39, 42, 4, 3, 8, 82, 258, 50, 3117, 3118, 351, 960], [99, 23, 21, 23, 4, 29], [14, 2, 428, 3119, 5, 104, 137, 195, 4, 29], [14, 2, 58, 223, 147, 31, 65], [79, 55, 23, 262, 52, 52, 3120, 196, 9, 25, 44, 40, 42, 437, 73, 9, 57, 5, 205, 79], [1497, 92, 1960, 222, 1519, 515, 325, 3, 11, 20], [331, 45, 3121, 94, 599, 2, 1520, 22, 21, 22, 443], [14, 2, 863, 3, 65], [125, 45, 128, 4, 780, 2, 22], [14, 2, 24, 2, 163], [51, 37, 13, 88], [1241, 209, 67, 4, 82], [17, 27, 56, 49], [17, 27], [17, 27], [51, 190, 742, 92], [14, 2, 58, 22], [14, 2, 24, 2, 41], [8, 54, 235, 165, 9, 4, 132, 3122], [354, 111, 28, 22], [39, 43, 3123, 2, 104, 171], [126, 22, 443], [17, 315], [34, 37, 81, 13, 32, 3124, 3125, 31, 23, 138, 2, 23, 138], [114, 89], [76, 28, 452, 5, 8, 84, 372, 1962, 622, 623], [297, 204, 123, 4, 58], [14, 2, 213, 102, 264], [35, 347, 1963, 3, 114], [266, 427, 9, 170, 31, 590], [331, 14, 2, 298, 134, 8, 457, 164, 31, 22, 2, 45], [76, 28, 200, 32, 1964, 561, 562], [213, 249, 367, 143, 186, 1521, 705, 961, 3, 30, 763, 57, 1084, 66, 1965], [6, 16, 12, 3, 7], [3126, 396, 3127, 481, 280, 74, 3128, 110, 438, 867, 8, 51, 777, 2, 1522, 34], [163, 368, 617], [48, 489, 1966, 1967, 3129, 5, 8, 1968, 1796], [23, 310, 553, 97, 129, 651, 352, 54, 109, 19, 157, 177, 555, 18], [84, 136], [15, 8, 10, 13, 3130, 3131, 5, 11, 1242, 11], [76, 28, 452, 1969, 1970], [50, 36, 118, 47, 193, 781, 782], [868, 92, 266, 323, 19, 135, 1971], [162, 118, 9, 820, 132, 869, 386, 3, 156], [11, 1153, 95, 113, 48, 851, 2, 851], [53, 86, 3, 156, 109], [15, 93, 13, 52, 3132, 80, 61, 10, 15], [170, 3133], [365, 83, 1085], [92, 266, 323, 19, 135, 1971], [104, 171, 78, 4, 75, 58], [3134, 111, 159, 13, 3135, 1972, 3136, 31, 52], [17, 239], [145, 284, 4, 174], [158, 200], [823, 3137, 163], [8, 84, 35, 58, 8, 328, 281], [95, 113, 35, 75, 1973], [52, 370, 509, 3138, 194, 25], [17, 27, 3, 140], [706, 1523, 81, 31, 104, 2, 188, 13, 134, 193, 1524, 3], [1243, 3139, 3140, 9, 4, 402, 31, 509, 130], [6, 16, 12, 3, 7], [479, 1046, 18, 3, 1974], [43, 53, 118, 13, 655, 3141, 40, 870], [8, 48, 9, 3142, 2, 8, 52, 48, 13, 110, 656, 43, 2, 447, 8, 871, 56, 431, 72, 3143, 2], [133, 170], [49, 17, 869, 132, 27], [6, 16, 12, 3, 7], [6, 369, 12, 3, 7], [50, 177, 5, 8, 85], [495, 17, 315, 5, 49], [26, 197, 188, 250, 611, 26, 962, 9, 189, 98, 178, 98, 144, 255], [51, 37, 5, 92], [99, 4, 29], [43, 69, 687, 236, 33, 47, 678, 226, 49, 10], [10, 15, 3144], [51, 37, 5, 92], [34, 729, 1975, 560, 698, 19, 2, 134, 204, 360, 26, 3145, 1525, 1491, 1976], [34, 729, 3146, 3147, 1975, 8, 545, 19, 2, 66, 26, 119, 161, 3148], [41, 67, 4, 82], [51, 37, 5, 88], [14, 2, 58, 128, 3, 22], [19, 2, 135, 848], [50, 19, 2, 99, 151, 317], [36, 1086, 25], [22, 67, 4, 268, 57, 5, 47, 441, 216, 594], [72, 3149, 5, 8, 226, 123, 4, 1977, 5, 8, 1072, 1776, 438], [333, 71, 780, 2, 161, 181, 1949, 21, 211, 38, 1840, 101], [11, 20], [199, 11, 186, 5, 357, 26, 26, 9, 25], [125, 109, 764, 18], [19, 2, 20], [14, 2, 24, 2, 65], [14, 2, 19, 23, 10, 277], [3150, 3151, 38, 172, 139, 405, 211, 57, 5, 475, 41, 566], [162], [3152, 83, 9, 3153, 1978, 21, 422, 354, 109, 242, 111], [14, 2, 151, 47, 1445, 1029, 3154], [162, 4, 29, 3, 3155, 266, 18, 40, 3156], [36, 1086, 25], [36, 583, 111], [3157, 1979, 264, 431], [1979, 264], [36, 1086, 25], [14, 2, 62, 2, 629], [14, 2, 24, 2, 41], [126, 1980, 147], [43, 2, 347, 309, 128, 5, 22], [51, 37, 5, 92], [112, 39, 558, 22, 21, 1786, 5, 127, 129, 191, 38, 569, 3158, 1526, 57, 182, 3159, 21, 39, 123, 933], [819, 291, 5, 3160], [22, 4, 29, 45, 18], [27, 56, 33, 60], [11, 20, 10, 15], [3161, 3162], [11, 10, 15, 20], [1981, 102, 6, 30], [3163], [14, 2, 24, 2, 532, 856], [43, 171, 2, 19, 22, 328, 191], [17, 27, 56], [650, 76, 3, 644, 460, 3164], [1244, 155, 1982, 65, 204, 2, 214], [35, 102, 2, 872], [444, 537, 3, 3165, 370, 159, 413, 9, 233], [43, 2, 131, 38, 3166, 3167, 3, 20, 21, 20, 21, 3, 420, 621], [26, 197, 477, 1983, 5, 66, 26, 9, 189, 98, 178, 98, 144, 176], [455, 9, 4, 963, 219, 139], [76, 28, 121, 30, 94, 367, 355, 8, 113, 1984, 1985], [873, 5, 101, 672, 453], [9, 8, 525, 60, 416, 25, 100, 43, 104, 60, 2, 1986, 782, 164, 13, 326, 3168, 3169], [85, 1987, 1988, 179], [158, 10, 15], [1225, 3170, 9, 416, 4, 77, 2, 58, 8, 133, 222, 176, 1989, 387, 1990, 3171], [570, 300, 125, 350, 865, 166, 20, 1527, 18], [48, 76, 28, 489, 3, 586], [43, 69], [242, 1160, 67, 4, 82], [224, 171, 4, 29], [43, 224, 171, 1991, 21, 3172, 3173], [626, 33, 308, 204], [114, 329, 464, 150], [22, 1232, 519, 13, 93], [76, 28, 121, 1043, 1044], [34, 103, 38, 133, 3, 8, 137, 628], [6, 1528, 12, 3, 7], [70, 964, 141, 520, 22, 37], [594, 503, 4, 1187, 8, 348, 743, 1529], [1245, 33, 8, 351, 389, 3174, 1992, 3175, 1530, 9, 4, 144, 21, 90, 3176, 544], [474, 3177, 4, 29], [15, 8, 10, 13, 3178, 3179, 5, 129, 191], [225, 83, 410, 631, 752, 34, 136], [3180, 853, 230, 3181, 31, 8, 312, 90, 201, 1531, 13, 1515, 44, 965], [84, 13, 1828, 225, 179, 1969, 1970], [15, 8, 10, 13, 3182, 3183, 5, 3184], [54, 153, 90, 466, 3185], [3, 22, 39, 42, 4, 132, 340], [966, 728], [14, 2, 353, 288, 375], [6, 16, 12, 3, 7], [427, 179, 521, 522], [345, 311, 207, 1087, 3186, 3187], [91, 74, 107, 153, 577, 81, 512, 33, 147, 4, 174], [22, 5, 85, 105, 4, 1246, 596, 3188], [14, 2, 103, 3189, 21, 175], [76, 28, 41], [3190, 27, 3, 140], [30, 24, 5, 2, 8, 20, 60], [183, 1180], [1034, 3191, 3192, 13, 23, 1868, 21, 23, 3193], [17, 9, 132, 27, 921], [63, 47, 11, 17], [30, 24, 5, 2, 8, 20, 60], [91, 74, 949, 387, 783, 4, 3, 8, 1088, 113], [452, 118, 3, 368, 406, 4, 3194, 422, 43, 3195, 1993, 2, 1532, 1222], [26, 192, 98, 5, 129, 250, 571, 26, 9, 178, 144, 98, 9, 415, 56, 33, 415], [1533, 423, 18, 94, 247, 2, 729, 102, 1533, 82, 1022], [22, 491, 13, 54, 106, 3196], [69, 2, 81, 8, 49, 10, 80, 61, 10, 74], [4, 77, 2, 24, 143, 163], [15, 93, 13, 1994, 1995, 80, 61, 10, 15], [6, 1534, 12, 3, 7], [1996, 930, 24, 18], [175, 3197, 565, 13, 32, 3198, 3199, 3200, 20, 60], [32, 180, 69, 2, 103, 110], [6, 332, 12, 3, 7], [30, 24, 5, 2, 8, 186, 60], [17, 9, 27], [127, 30, 9, 874, 112, 1218, 8, 32, 265, 21, 10], [26, 197, 1212, 250, 571, 26, 3201, 5, 66, 26, 9, 189, 98, 178, 98, 144], [818, 197, 188, 1367, 5, 66, 9, 189, 98, 178, 98, 144, 255], [17, 9, 27], [14, 2, 68, 3, 2, 65], [6, 369, 12, 3, 7], [51, 37, 5, 249], [50, 177, 5, 8, 85], [11, 209], [8, 537, 21, 8, 370, 71, 4, 3, 484], [392, 3202, 146], [22, 1232, 1535, 13, 38, 10], [14, 2, 37, 93, 80, 61, 171], [3203, 147, 66, 4, 263, 847, 2, 124, 1247], [51, 37, 5, 88], [35, 276, 59, 2, 104, 153], [51, 37, 5, 92], [34, 15, 47, 1946, 764, 13, 165, 967], [548, 53, 19, 852, 2, 3204, 3205, 182, 1997, 3206, 3207], [14, 2, 447, 163, 617], [696, 149, 9, 3208, 1443, 1998, 1536, 72, 3209, 57], [508, 383, 18, 465], [1999, 21, 1055], [43, 102, 2, 297, 242], [32, 168, 14, 2, 58, 473], [8, 525, 60, 9, 25, 39, 43, 2000, 3, 8, 2001, 351, 2, 1537, 182, 8, 670, 379, 9, 57, 21, 206], [85, 3210, 19, 629, 155, 855, 162, 3, 1089, 258, 3211], [17, 27, 56], [1420, 142, 2002, 152, 141, 108, 920], [35, 19, 52, 155, 52, 65, 600], [39, 117, 38, 3212, 446, 30, 5, 686, 392, 33, 47, 85], [59], [35, 102, 5, 476, 758, 5, 54, 945, 746], [10, 15, 21, 19, 2, 1538], [41, 208, 111], [8, 926, 28, 390, 927, 9, 1054, 239, 5, 304, 96, 751, 72, 9, 2003, 219, 8, 3213], [1539, 414, 48, 968, 172, 139, 3214], [51, 37, 5, 92], [9, 349, 2004, 58, 13, 8, 52, 582, 60, 55, 3215], [10, 15], [343, 10, 15], [153, 14, 2, 784, 32, 5, 114], [776, 9, 90, 969, 127, 531, 3, 8, 49, 531, 68, 28, 116, 5, 657, 26, 26], [49, 10, 15], [18, 28, 135], [185, 18], [22, 18, 907, 21, 4, 263], [3216, 32, 28, 45, 73, 21], [51, 37, 5, 92], [61, 10, 139], [126, 49, 17, 63], [14, 2, 935, 2, 128], [22, 9, 14, 2, 62], [3217, 22, 9, 14, 2, 62], [61, 10, 139, 499, 21, 10, 15], [34, 548, 404, 13, 326, 221], [14, 2, 58, 57, 128], [14, 2, 601, 400, 333, 31, 52, 80, 1540, 3218], [126, 593, 59, 5, 2005, 3219], [22, 958], [371, 38, 120, 94, 247, 2, 58, 38, 538, 3220, 449], [3221, 11, 700, 9, 4, 324, 44, 610, 920], [132, 572, 1541, 31, 1248], [79, 55, 52, 23, 3222, 9, 25, 44, 42, 46, 5, 73, 9, 57, 5, 36, 79], [836, 414, 5, 83, 1542, 28, 410, 416, 67, 4, 82, 112, 639], [1090, 1091, 242, 70], [131, 100, 970, 1543, 1544], [131, 100, 212, 1543, 1544], [3223, 707, 521, 522], [103, 639, 160, 137], [3224, 2006, 39, 42, 524, 3225, 121, 3226, 34, 103, 54, 133], [165, 967, 10], [3227], [53, 55, 637, 370, 23, 53, 9, 25, 44, 42, 46, 5], [26, 670, 525, 782, 435, 328, 1092, 708, 194, 149, 25], [14, 2, 232, 456], [6, 16, 12, 3, 7], [45, 363, 58, 690, 31, 3228, 3229], [645, 414, 179, 2007], [6, 16, 12, 3, 7], [15, 11, 10], [34, 136, 3230, 17, 3, 343], [136, 8, 518, 5, 8, 3231, 198, 640, 96], [15, 8, 10, 13, 1994, 1995, 5, 11, 1242, 11], [177, 55, 156, 172, 156, 348, 1249, 391, 79, 9, 25, 44, 42, 46, 5], [312, 150, 90, 201, 1093, 1545, 28, 516, 1546, 17], [34, 136, 3232, 17, 3, 343], [11, 368, 406, 35, 62, 1802], [3233], [218, 21, 71, 25, 5, 261, 23, 310, 553, 602, 97, 1547, 932, 157, 44, 42, 46, 5], [79, 55, 97, 23, 310, 553, 1250, 279, 196, 9, 25, 44, 42, 46, 5], [3234, 57, 149, 179], [11, 709, 24, 539, 170], [96, 67, 4, 496, 392, 57, 49, 60, 613, 1548, 32, 24], [69, 2, 319, 56, 398, 360, 318, 1859], [6, 16, 12, 3, 7], [331, 45], [6, 16, 12, 3, 7], [6, 16, 12, 3, 7], [3235, 102], [24, 18], [6, 369, 12, 3, 7], [6, 785, 12, 3, 7], [162, 9, 4, 202], [6, 376, 12, 3, 7], [35, 103, 41, 208, 349, 9, 50, 41, 202, 208, 122, 3, 5, 22, 455], [47, 22, 102, 128, 71, 198, 57, 3, 3236, 1549, 21, 692, 71, 134, 3, 3237, 1549, 78, 148, 447, 38, 635, 40, 72, 13, 161], [1550, 264, 50, 35, 75, 1155, 3, 11], [542, 230, 4, 786], [14, 2, 62, 2, 3238, 309, 2, 336, 309, 145], [183, 230, 71, 4, 324, 28, 779, 110, 1551], [43, 51], [86, 1251, 1244, 3239, 204, 30, 270, 67, 4, 875, 166, 537, 91], [10, 15], [14, 2, 447, 770], [126, 15, 8, 10, 13, 3240, 3241, 5, 253, 89, 60, 568, 308], [14, 2, 58, 38, 538], [48, 588], [603, 4, 77, 2, 101, 143, 8, 23, 3242, 302, 150], [10, 15, 31, 61], [11, 20, 10, 15], [111, 28, 22, 4, 263], [11, 20, 10, 15], [22, 4, 29, 608], [331, 45, 22, 3243, 263], [158, 10, 15], [18, 28, 22, 21, 36], [39, 35, 58, 47, 36], [14, 2, 58, 2008, 3, 99], [10, 15, 31, 61], [1552, 355, 36, 14, 2, 117, 5, 262, 464], [314, 4, 29], [15, 93, 13, 3244, 3245, 80, 61, 10, 15], [6, 16, 12, 3, 7, 40], [], [11, 2009, 1252, 170], [14, 2, 19, 11], [14, 2, 534, 455], [22, 4, 704], [710, 3246, 4, 29], [267, 101, 619, 505, 474], [349, 38, 2010, 2, 19, 135, 129, 130, 31, 106, 96], [14, 2, 58, 38, 538], [23, 258, 4, 1202, 164, 31, 11], [36], [11, 20, 27, 56], [11, 20, 21, 11, 20, 10, 15], [163, 470, 502, 18], [15, 93, 13, 3247, 3248, 80, 61, 10, 15], [34, 2, 540, 8, 32, 3249, 2, 1804, 876, 20, 416, 71, 277, 32, 1253], [36, 9, 4, 29], [1094, 159, 642, 4, 378], [48, 86, 18, 164, 710, 250, 658], [15, 8, 10, 13, 3250, 3251, 5, 253, 568, 308], [285, 137, 170], [1981, 63, 3, 11, 20], [14, 2, 1419, 8, 65, 155, 45], [165], [693, 694, 63, 21, 10, 15, 3252], [53, 55, 97, 97, 73, 160, 25, 44, 42, 46, 5], [22, 276, 344, 3253, 30], [14, 2, 232, 22], [710, 48, 9, 4, 29, 112, 466, 1254], [11, 20, 17, 63, 21, 10, 15], [76, 28, 1095, 760, 761], [76, 28, 1852, 760, 761], [966, 256, 68, 147], [159, 11, 30], [32, 3254, 239, 456], [687, 8, 93, 13, 289, 3255, 3256, 3257, 3258], [288, 531, 78, 4, 75, 356], [1363], [52, 216, 2011, 60, 3259, 711, 1096, 274, 155, 574, 1079, 969], [710, 48, 18], [710, 48, 18], [3260, 3261, 57, 99, 5, 60], [11, 45, 3262, 1553], [710, 48, 18], [198, 1772, 325, 11, 360, 161, 3, 45], [39, 124, 201, 27, 56, 33, 47, 289], [6, 16, 12, 3, 7], [17, 27, 3, 140], [1097, 971], [39, 35, 19, 8, 1554, 108, 39, 168, 77, 2, 19, 104, 1548, 39, 43, 104, 108, 13, 8, 514, 3263], [48, 830, 229, 3264, 1255], [4, 77, 2, 62, 2, 36], [14, 241, 2012, 2013, 318], [2014, 2015, 72, 1555, 476, 1087, 207, 696, 149, 3265, 3266], [15, 10], [3267, 3, 2, 123, 254, 3268, 705], [53, 55, 1485, 279, 196, 9, 25, 44, 42, 46, 5], [310, 464, 1067, 2, 62, 262, 464, 3269, 507], [11, 10, 81, 28, 61, 30, 10, 81, 12, 309, 10, 9, 3270], [115, 1448, 212, 3271, 3272], [78, 4, 62, 2, 8, 271, 66, 329, 587, 36], [79, 55, 97, 1250, 279, 196, 9, 25, 44, 42, 46, 5], [76, 28, 100, 8, 48, 1556, 9, 614, 4, 206, 2016, 2017], [758, 2018, 13, 860, 48], [644, 76, 34, 488, 1557, 28, 823, 1037, 23, 659, 365, 1085, 2, 415], [440, 21, 863, 8, 171], [36, 4, 132, 68, 3], [39, 35, 124, 3273, 33, 3274, 3, 421, 39, 1404, 151, 1558], [657, 26, 9, 386, 3, 1559], [36, 118, 18], [11, 10, 10, 2019], [6, 16, 12, 3, 7], [156, 734, 1560, 9, 25, 44, 42, 46, 5], [122, 32, 3275, 3276, 3277, 2, 420, 621, 1561], [97, 97, 612, 5, 97, 1547, 787, 157, 401, 25, 40, 42, 46], [15, 10, 11, 20], [3278, 10], [41, 67, 4, 246, 5, 8, 83], [69, 2, 81, 8, 49, 10, 80, 61, 10, 74], [63, 11, 20], [41, 4, 82], [50, 36, 19, 69], [97, 35, 62, 80, 36, 352, 1256], [6, 16, 12, 3, 7], [35, 62, 2, 8, 53, 106, 1257, 3279, 422, 4, 378, 348, 255], [121, 2020, 435, 1872], [66, 26, 168, 25], [14, 2, 1258, 318, 119, 641, 3280], [6, 16, 12, 3, 7], [36, 18], [35, 268, 22, 59], [6, 210, 12, 3, 7], [6, 210, 12, 3, 7], [6, 210, 12, 3, 7], [85, 35, 62, 629, 162, 53], [66, 26, 9, 4, 2021], [34, 69, 13, 36, 118, 599, 2, 2022, 181, 35], [216, 85, 105, 4, 1074, 243, 2, 8, 195], [331, 45, 22, 405, 211, 182, 72, 9, 712, 57, 21, 35, 440, 8, 1259, 218], [11, 20, 10], [749, 203], [36, 4, 29, 13, 3281, 3282], [6, 16, 12, 3, 7], [6, 16, 12, 3, 7], [357, 26, 373, 40, 52, 9, 25, 44, 42], [26, 199, 290, 1562, 147, 5, 357, 26, 9, 2023], [26, 199, 290, 523, 66, 5, 357, 26, 9, 274, 486], [6, 16, 12, 3, 7], [687, 33, 11, 10], [3283, 3284, 11, 17, 27], [6, 16, 12, 3, 7], [6, 337, 12, 3, 7], [26, 199, 1098, 3285, 3286, 5, 357, 26, 9, 574], [6, 16, 12, 3, 7], [6, 16, 12, 3, 7], [14, 2, 103, 603, 3, 91, 74], [6, 16, 12, 3, 7], [488, 8, 60, 5, 8, 85], [349, 9, 38, 171, 147, 182, 35, 75, 558], [121, 1260, 9, 4, 144, 680, 9, 422, 4, 174], [6, 16, 12, 3, 7], [6, 16, 12, 3, 7], [6, 785, 12, 3, 7], [6, 16, 12, 3, 7], [6, 817, 12, 3, 7], [6, 332, 12, 3, 7], [6, 332, 12, 3, 7], [6, 16, 12, 3, 7], [153, 289, 457, 254, 71, 4, 2024, 3, 45, 363], [10, 3287, 70], [10, 15, 70], [215, 1563, 30, 325], [6, 1439, 12, 3, 7], [11, 10, 15], [26, 197, 188, 9, 189, 98, 178, 98, 144, 255], [6, 16, 12, 3, 7], [515, 938, 1564], [6, 16, 12, 3, 7], [106, 96, 173], [11, 27, 34, 15, 13, 3288, 3289], [14, 2, 151, 128, 240, 71, 2025, 327, 736], [11, 20, 10, 15], [53, 55, 156, 3, 3290, 3291, 1099, 156, 1565, 73, 9, 160, 25, 44, 42, 40, 46], [267, 101, 474, 619, 505], [582, 713, 870, 526, 788, 118], [343, 10, 15], [343, 10, 15], [11, 20, 10, 15], [52, 172, 23, 262, 52, 52, 172, 1940, 445, 1941, 19, 157, 261, 9, 25, 44, 42, 46, 5], [15, 93, 13, 3292, 3293, 80, 61, 10, 15], [17, 461, 27], [276, 129, 191, 31, 91, 74, 67, 4, 82, 596], [125, 22, 405, 211, 182, 72, 9, 712, 57, 21, 35, 224, 8, 1259, 218], [6, 16, 12, 3, 7], [6, 16, 12, 3, 7], [6, 16, 12, 3, 7], [14, 2, 123, 789, 13, 398], [6, 3294, 12, 3, 7], [11, 20, 17], [6, 16, 12, 3, 7], [177, 55, 637, 370, 23, 53, 9, 25, 44, 87, 46, 5], [6, 16, 12, 3, 7], [17, 9, 277], [17, 9, 27], [935, 61], [338, 8, 84, 24, 10, 9, 1207, 15, 8, 10], [10, 15, 80, 61], [357, 52, 734, 373, 40, 52, 9, 25, 44, 87, 46, 5], [14, 2, 428, 223, 494], [14, 2, 298, 466, 204, 3, 65], [51, 37, 5, 88], [51, 37, 5, 88], [14, 2, 68, 3, 2, 91, 74], [569, 146, 5, 268, 57], [14, 2, 220, 3, 2, 41, 208], [22, 4, 259, 57, 768, 5, 282, 146], [36, 18], [99, 21, 465, 18], [14, 2, 245, 340, 362, 327, 736], [1809, 1100, 18], [63, 17, 59, 3, 500, 89, 8, 32, 3295, 3296, 116, 3297], [3298, 3299, 295, 119, 417, 660, 2, 1261, 2, 2026, 2027], [14, 2, 68, 3, 2, 343], [101, 31, 3300, 2028, 351, 33, 972, 2, 45], [43, 104, 750], [14, 2, 58, 99, 199], [91, 74, 18], [166, 350, 30, 120], [14, 2, 440, 2029, 453, 73, 4, 282], [407, 18, 35, 1162, 2, 103, 38, 54, 3301, 31, 8, 407, 3302], [256, 9, 354, 111, 28, 223, 907], [749, 152, 141, 203], [3303, 3304, 23, 585, 89, 173], [51, 37, 5, 88], [14, 2, 19, 3305, 730, 245, 3306], [45, 1101, 59, 3307, 18], [11, 20, 17, 63], [10, 1566, 1567], [306, 3308, 9, 14, 2, 534, 146, 28, 341, 23, 581, 527, 3309, 604, 101], [17, 63], [790, 190], [6, 931, 12, 3, 7], [43, 3310, 74, 906, 38, 297, 143, 223], [449, 18, 314, 470, 502, 18, 772, 18], [14, 2, 220, 3, 2, 41], [11, 382, 113, 973, 18], [152, 141], [51, 37, 88], [223, 405, 3311], [14, 2, 37, 2029, 453, 73, 4, 282], [11, 20, 10, 15], [41, 566], [41, 18, 275, 270, 30], [791, 145, 37, 1102], [14, 2, 19, 36], [135, 314, 18], [30, 49, 1568, 104, 626, 33, 49, 9, 4, 3312], [185, 18, 3, 41], [34, 877, 19, 13, 80, 48, 3, 156, 109], [34, 2, 548, 19, 2, 3313, 876, 32, 1253], [99, 203], [22, 4, 259], [11, 20, 17, 63], [14, 2, 151, 388, 3, 11, 20], [3314, 3315, 61], [35, 19, 2, 135, 314], [162, 4, 29, 3316, 4, 282], [1262, 3, 3317, 8, 3318, 5, 8, 1482, 89], [1010, 3319, 139, 3320, 2030, 2, 1569, 3321], [101, 31, 501, 439, 45], [152, 141], [836, 414, 5, 83, 1542, 631, 752, 3322, 155, 512], [39, 35, 117, 1416, 143, 22, 8, 86, 878, 3323, 920, 1188, 87, 3324], [11, 19, 18, 4, 3325, 13, 646, 1570, 3, 20], [34, 15, 8, 10], [6, 16, 12, 3, 7], [83, 707], [45, 2031], [53, 55, 434, 637, 73, 9, 25, 40, 42, 46, 5], [6, 714, 12, 3, 7], [115, 974, 100, 212, 3326, 3327], [115, 974, 100, 212, 1543, 1544], [229, 591, 551, 409, 3328], [740, 115, 242, 3329, 526, 21, 3330], [115, 974, 100, 1916, 1917], [43, 38, 3331, 2032, 13, 1571, 836], [121, 1462, 278, 1213, 3, 8, 97, 172, 1057, 78, 50, 257, 75, 960, 975, 30], [3332, 879, 4, 175], [6, 714, 12, 3, 7], [163, 3333, 24, 18], [1572, 21, 3334, 67, 4, 82, 3335], [6, 16, 12, 3, 7], [6, 16, 12, 3, 7], [1097, 145, 786, 445, 67, 4, 82], [17, 27, 3, 140], [79, 55, 97, 23, 310, 553, 1250, 279, 196, 9, 25, 44, 42, 46, 5], [22, 9, 4, 29], [1573, 8, 3336, 3337, 1574, 90, 547, 303, 34, 725], [172, 159, 121, 60, 9, 206, 278, 1213, 1469, 76, 2, 440, 8, 3338, 3339], [1263, 6, 2033], [214, 202, 1176, 1177, 2034, 1575, 67, 4, 82], [753, 624, 3, 586], [43, 19], [11, 20, 17, 27], [3340, 1264, 471, 71, 1531], [6, 2035, 12, 3, 7], [6, 16, 12, 3, 7], [51, 37, 5, 88], [39, 35, 1190, 525, 145, 899, 1214], [14, 2, 115, 45, 13, 22], [51, 37, 5, 88], [6, 16, 12, 3, 7], [22, 408, 1173, 439, 2036, 2, 246], [10, 15, 2, 24, 2, 226], [43, 19, 2, 133], [91, 74, 281, 4, 259], [334, 122, 3, 405, 132, 1053], [17, 27, 56, 140], [183, 113, 681, 38, 110, 438, 2037, 8, 113, 556, 3341, 13, 696, 778, 3342, 661], [11, 20, 17, 63], [79, 55, 52, 279, 196, 9, 25, 44, 87, 228, 9, 57], [34, 78, 148, 63, 8, 32, 1253, 5, 8, 876, 20, 303], [70, 728], [749, 152, 141, 203], [81, 3, 636, 1103, 1027, 3, 22, 2, 1265], [11, 3343, 94, 259, 317, 3, 976], [214, 214, 122, 32, 2, 8, 1422, 140, 351], [11, 20, 10, 15], [125, 363, 4, 1502, 3, 22], [18, 28, 22, 539, 21, 41, 13, 238, 3344, 3345, 3346], [14, 2, 24, 2, 11, 21, 215], [51, 37, 88], [398, 233, 219, 33, 8, 826, 437], [203, 33, 41], [17, 27], [14, 2, 68, 3, 2, 11, 20], [3347, 128, 71, 4, 132, 316], [6, 16, 12, 3, 7], [620, 32, 3348, 2038, 2, 769, 351, 3349, 3350], [242, 2, 560, 8, 904, 31, 8, 1576, 977], [14, 2, 245, 1266, 715, 3, 22], [41, 101, 1182, 3351, 57, 3, 653, 101, 155, 2039, 56, 527, 252, 1056], [50, 24, 1234, 3, 11], [10, 1566, 1567], [3352, 67, 4, 82], [32, 17, 4, 3, 1894, 438], [111], [65, 731, 13, 45], [17, 9, 27, 56, 140, 17], [4, 77, 2, 102, 31, 135], [15, 93, 13, 3353, 3354, 80, 61, 10, 15], [334, 13, 169, 223, 9, 50, 257, 144], [11, 19, 18], [36, 19, 2, 2038, 84, 265, 1560], [3355, 3356, 3357, 438, 53, 133, 19], [345, 311, 138, 528, 3358, 1577, 1578, 1579], [35, 19, 388, 3, 65, 2040], [14, 2, 534, 146], [35, 122, 54, 153, 3, 99, 199], [284, 479, 318], [14, 2, 601, 689, 3, 184, 108], [10, 1566, 1567], [724, 66, 4, 144, 3, 95, 20, 30, 120, 194, 4, 144], [99, 21, 215, 30], [495, 17, 273, 56, 3359], [47, 114, 105, 4, 877, 161, 2, 685, 57, 38, 101, 155, 601, 38, 101], [661, 110, 656, 978, 361, 13, 662, 901, 31, 159, 2, 159, 94, 5, 159, 100, 124, 153, 113], [741, 33, 1267, 313, 2, 20, 271, 3360, 3361], [190, 439, 51, 187, 92, 3362, 52], [162, 4, 29, 3, 604, 406, 33, 52, 1580], [60, 83, 5, 8, 3363, 3364, 2041, 60, 67, 4, 268], [126, 365, 2, 222], [4, 77, 2, 151, 128, 3, 8, 22], [949, 682], [4, 77, 2, 19, 287, 329, 222, 21, 466, 1951, 71, 170, 94, 39, 58, 3, 1581], [6, 369, 12, 3, 7], [594, 129, 498, 18], [53, 55, 432, 630, 1432, 73, 9, 160, 25, 9, 25, 44, 42, 5, 46], [50, 287, 821], [76, 28, 8, 2042, 1582, 102, 1578, 1579], [152, 748, 8, 59, 300], [76, 28, 979, 85, 2043, 2044], [17, 63, 372], [45, 146, 1583, 347, 103, 245], [465, 9, 4, 29], [76, 28, 372, 425, 426], [3365, 942, 149, 179], [86, 100, 382, 8, 10], [147, 1584, 69, 233], [18, 28, 620, 288, 375, 65, 18], [122, 47, 265, 2, 769, 1585], [152, 141], [63, 49, 17, 33, 32, 3366], [41, 13, 238, 67, 4, 82], [93, 36, 215, 298], [17, 27, 3, 140], [114, 68, 5, 18, 104, 9, 38, 49, 37, 18], [32, 3367, 20, 152, 141, 60], [100, 43, 38, 54, 427, 83, 859], [26, 824, 980, 73, 66, 338, 636], [3368, 156, 980, 308, 73, 66, 9, 636], [14, 2, 68, 143, 41, 270, 30], [15, 47, 20, 10], [100, 71, 170, 733, 3, 11, 44, 33, 8, 826], [54, 494, 3369, 211, 3, 254], [53, 55, 1186, 1586, 279, 459, 9, 25, 44, 42, 46, 5], [199, 320, 130, 253, 53, 833, 82, 981], [177, 55, 97, 1028, 1587, 23, 391, 36, 79, 21, 642, 211, 25, 44, 42, 5], [11, 9, 4, 29, 13, 252, 32], [107, 121, 97, 614, 4, 174, 2, 915, 230], [50, 145, 3370, 595, 121, 21, 11, 3, 97], [50, 53, 19], [10, 15], [6, 16, 12, 3, 7], [222, 470, 502, 18], [86, 3, 288, 375], [19, 2, 483, 191, 580, 3371], [8, 670, 3372, 149, 9, 409, 38, 274, 187, 5, 26, 34, 615], [22], [6, 369, 12, 3, 7], [350, 865, 9, 4, 395], [11, 918, 187, 81], [6, 16, 12, 3, 7], [35, 117, 185, 41, 43, 72, 762, 13, 208, 442], [26, 197, 477, 3373, 9, 189, 98, 178, 98, 144, 255], [51, 37, 5, 88], [14, 2, 58, 663, 5, 22], [19, 2, 66, 204, 3374, 2045], [14, 2, 37, 93], [357, 397, 373, 40, 52, 9, 25], [126, 4, 77, 2, 24, 2, 49], [22, 9, 1588, 14, 2, 58], [60, 9, 2046, 25, 100, 786, 3375, 40, 159, 686, 1268, 595, 87, 21, 87], [11, 19, 18, 1233, 152, 3376, 165], [6, 16, 12, 3, 7], [14, 2, 982, 38, 41, 208, 715, 50, 257, 5, 22], [51, 37, 5, 88], [866, 2047, 556, 3377, 56, 31, 299, 942], [6, 16, 12, 3, 7], [51, 37, 5, 92], [333, 71, 753, 2, 85, 21, 4, 5, 8, 114, 89], [378, 2, 266, 1269, 33, 23, 33, 52, 266], [51, 37, 5, 88], [19, 2, 65, 171], [620, 483, 462, 2, 22], [3378, 932, 204, 3, 26], [11, 19, 18], [11, 20, 17, 63], [45, 122, 3, 9, 170], [6, 16, 12, 3, 7], [1552, 355, 36], [41, 185, 4, 29], [125, 45, 363, 22, 18], [847, 182, 791, 147, 786, 9, 4, 29, 1017, 3379, 3380, 3381], [14, 2, 19, 237, 33, 8, 287, 421, 313], [6, 714, 12, 3, 7], [119, 1052, 119, 39, 123, 792, 3382, 3383, 155, 3384, 1265, 8, 23, 3385, 606, 117, 50, 145, 394], [6, 16, 12, 3, 7], [6, 16, 12, 3, 7], [76, 28, 3386, 528], [6, 16, 12, 3, 7], [14, 2, 62, 2, 22, 31, 305, 53], [60, 192, 188, 33, 66, 26, 9, 359, 303], [14, 2, 58, 22], [48, 18, 110, 656, 49, 5, 48, 2048, 2049, 21, 2048, 2049], [8, 108, 3387, 33, 8, 2050, 3388, 2051, 71, 144, 2, 161], [107, 69, 233, 22, 2, 45, 716, 18], [51, 1589, 57, 5, 88], [6, 3389, 12, 3, 7], [3390, 208], [14, 2, 19, 2, 287, 313], [79, 55, 36, 459, 196, 9, 25, 40, 42, 46, 5, 73, 9, 57, 5, 3391], [59, 518, 18], [32, 295, 2, 1261, 28, 3392, 3393, 2052, 32, 2, 276, 127, 59, 119, 5, 41, 417, 9, 4, 144], [49, 10, 15], [944, 505, 568, 116], [84, 265], [17, 63], [1590, 111, 28, 99, 60], [717, 127, 1198, 1270], [4, 77, 2, 601, 400, 333, 31, 1540, 89, 60], [913, 1178, 1179], [1083], [53, 55, 73, 637, 434, 9, 25, 44, 42, 46, 5], [76, 28, 36, 2043, 2044], [76, 28, 200, 3394, 3395], [11, 20, 17, 63, 21, 10, 15, 13], [434, 218, 793, 485, 434, 99, 3396, 452, 5, 23, 310, 3397, 637, 279, 196, 23, 138, 9, 25], [6, 16, 12, 3, 7], [86, 3, 22, 256, 379, 1591], [169, 22, 18], [365, 2, 109], [11, 1271, 264, 18, 318], [24, 9, 4, 174], [11, 32, 116, 10, 4, 29], [430, 4, 209, 2, 11, 329, 36], [6, 16, 12, 3, 7], [34, 103, 398, 31, 159, 2, 159, 5, 83, 33, 175], [288, 1592, 4, 132, 316, 507], [49, 10, 15], [345, 311, 655, 3398, 37, 425, 426], [131, 372, 425, 426], [923, 1272, 8, 1811], [15, 10], [6, 16, 12, 3, 7], [18, 28, 3399, 242], [76, 28, 983, 418, 272, 238, 3400], [6, 16, 12, 3, 7], [22, 45, 4, 132, 298], [17, 27, 3, 140], [3401, 3402, 794, 18], [6, 16, 12, 3, 7], [218, 504, 485, 3403, 5, 3404, 9, 25, 44, 87, 5], [6, 16, 12, 3, 7], [6, 16, 12, 3, 7], [35, 19, 11, 219, 36], [3405, 2053, 9, 14, 2, 24, 2, 456, 346, 8, 30, 770], [14, 2, 24, 2, 91, 74], [6, 16, 12, 3, 7], [14, 2, 24, 2, 91, 74], [824, 824, 9, 614, 1016, 278, 509, 282, 795, 13, 11], [11], [11, 278, 154, 3406, 686, 1593, 712, 40, 87], [6, 16, 12, 3, 7], [126, 1273, 706, 3407, 142, 1274], [880, 27, 13, 32, 116, 3408], [51, 37, 5, 88], [6, 369, 12, 3, 7], [51, 37, 5, 88], [51, 37, 5, 88], [6, 16, 12, 3, 7], [170, 3409, 3410, 3, 47, 455, 281], [14, 2, 62, 2, 36, 100, 324, 93], [10, 277], [125, 45, 363, 30, 22, 772], [32, 575, 45, 106, 291, 2, 75, 3411, 5, 106], [19, 848, 2, 65], [43, 45, 356, 2, 22, 2054, 3, 169, 22, 13, 45, 716], [177, 435, 190], [126, 14, 2, 246, 65, 73], [23, 305, 281, 4, 282], [52, 161, 19, 2, 104, 1024, 3412, 726, 1594, 984, 3413, 3414, 1594, 17], [397, 980, 695, 357, 397, 373, 40, 52, 9, 25, 44, 87, 46, 5], [14, 2, 246, 22], [65, 4, 29, 66, 9, 2055, 1166], [107, 69, 233, 22, 2, 45, 716, 18], [81, 33, 1245, 5, 65, 171], [3415, 3416, 5, 674], [78, 148, 34, 136, 1275, 3417, 3418, 1233, 3419, 838, 8, 45, 30, 120, 94, 247, 2, 58, 8, 3420], [834, 189, 223, 147], [190, 5, 45, 291], [48], [27, 56, 33, 3421, 3422], [50, 185, 5, 8, 165], [49, 10, 15], [79, 55, 482, 482, 36, 459, 9, 25, 40, 87, 46, 5, 73, 9, 57, 5, 228], [111, 28, 32, 3423, 5, 26], [1276, 341, 270, 13, 61, 116, 10, 139], [51, 3424, 5, 88], [11, 20, 10, 15], [6, 16, 12, 3, 7], [107, 4, 77, 2, 534, 23, 1176, 145, 28, 306, 32], [221, 40, 52, 71, 4, 444, 1789, 306, 333], [170, 59, 19], [63, 21, 15, 10, 32, 1253], [22, 768, 5, 786], [11, 709, 9, 170, 24, 1234, 13, 1595, 1596], [1595, 1596, 295, 13, 11, 17, 63], [49, 3425, 315], [37, 264, 600, 31, 254, 13, 183, 550, 21], [985, 85, 105, 4, 597, 5], [11, 20, 10, 15], [537, 435, 986, 866, 2047, 3426], [39, 371, 127, 30, 94, 247, 2, 68, 3, 2, 123, 47, 163, 13, 881], [59, 244, 90, 201, 1597, 239, 31, 593, 663, 34, 450, 8, 924], [11, 1172, 1799], [41, 24, 112, 382, 10], [3427, 149, 4, 29], [15, 8, 10, 13, 1598, 1599, 5, 11, 95, 11], [39, 43, 1053, 31, 47, 539], [10, 15], [121, 207, 212, 67, 4, 82, 425, 426], [1021, 212, 622, 623], [866, 3428, 3429, 107, 771, 88], [41, 18, 275, 270, 30], [10, 15], [17, 461, 27], [60, 2056, 38, 509, 130, 2, 1429, 112, 38, 10, 15], [32, 1449, 1450, 1964, 3430, 3431, 1165, 3, 11, 20, 3432], [14, 2, 62, 2, 184, 1600, 1104], [215, 67, 4, 124, 38, 254, 33, 3433, 603], [3434, 3435, 59, 3436], [34, 15, 47, 10, 13, 271, 20, 20, 20], [11, 10, 15, 11, 20], [26, 1847, 231, 241, 1447, 194, 9, 25, 40, 42, 46, 5], [2057, 241, 2058, 791, 71, 1277, 371, 9, 4, 29, 119, 3437, 2059, 3, 239, 403], [45, 291, 5, 1601], [3438, 842, 377, 180, 639], [65, 19], [14, 2, 220, 3, 2, 41], [245, 577, 3, 91, 74, 11, 709, 21, 166, 447, 476, 119, 509, 119, 1259], [1801, 233, 3, 470, 502], [290, 91, 74, 297, 204, 78, 4, 75, 558, 30, 346], [524, 634, 1278, 9, 170, 2, 275, 150], [76, 28, 222, 561, 562], [2060, 790, 30, 1230, 1105, 1106, 251, 190, 1553, 425, 426], [76, 28, 48, 100, 2016, 2017], [6, 16, 12, 3, 7], [331, 45], [6, 16, 12, 3, 7], [22, 111, 67, 4, 837, 276, 128, 1262, 57, 2, 3439], [39, 35, 685, 333, 57, 31, 47, 89], [465, 9, 4, 29], [17, 27, 10, 15, 70], [43, 19, 2, 510], [43, 304, 69], [162, 4, 378], [49, 10, 15], [45, 2061, 1107, 245], [291, 76], [14, 2, 103, 110], [14, 2, 123, 163, 617, 124, 4, 371, 38, 191, 31, 163, 44, 38, 278, 509, 130], [495, 17, 27, 56], [17, 27], [3440, 45, 1107, 2, 1270, 705, 4, 29, 2062, 4, 394, 30], [22, 9, 4, 324], [6, 16, 12, 3, 7], [39, 42, 416, 14, 2, 3441, 21, 152, 141, 1925, 219, 3, 99, 430, 148, 69, 161], [4, 77, 2, 24, 2, 163, 3442, 2063, 1602], [34, 548, 19, 2, 176, 137], [18, 28, 287], [76, 28, 162], [2064, 19, 3, 407], [6, 2065, 12, 3, 7], [643, 13, 110, 283, 4, 174], [6, 399, 12, 3, 7], [17, 27, 3, 140], [78, 4, 24], [123, 39, 124, 2, 3443, 439, 104], [14, 2, 24, 2, 26, 1559, 256], [296, 3444, 325], [290, 882, 336, 13, 91, 2008, 4, 29], [70, 2, 15, 169, 202, 286, 10, 13], [6, 16, 12, 3, 7], [968, 1481, 97, 170, 102, 471, 81, 33, 1048, 9, 107], [3445, 4, 394], [163, 24, 18], [14, 2, 24, 2, 163, 368, 617], [18, 1033, 3446, 81, 647, 649], [14, 2, 102, 31, 903, 48], [115, 964, 141, 520, 33, 470, 502], [6, 785, 12, 3, 7], [20, 10], [11, 3447, 104, 757, 329, 36, 586], [65, 73, 9, 4, 259], [689, 3, 140], [470, 502, 520], [39, 35, 68, 143, 8, 36, 155, 407, 39, 292, 47, 10, 104, 757, 21, 167, 72, 9, 4, 29], [94, 39, 319, 3448, 254, 21, 599, 2, 123, 47, 108, 39, 117, 319, 130, 30, 3449, 731, 546, 265, 4, 1062], [111, 28, 45, 363], [47, 17, 105, 1977, 1052, 540, 2066, 17, 13, 236, 1075, 32, 2066, 139, 265, 3450, 3451], [123, 4, 344, 164], [267, 101], [2067, 355, 33, 36], [3452, 142, 18, 28, 8, 1601, 37], [22, 30], [107, 69, 233, 22, 2, 45, 716, 18], [14, 2, 62, 2, 266], [14, 2, 37, 54, 10, 5, 235], [14, 2, 37, 93, 13, 134, 289], [53, 55, 1219, 1473, 73, 160, 25, 44, 87, 46, 5], [163, 368], [14, 2, 58, 863, 184, 108, 13, 193], [35, 68, 3], [14, 2, 3453, 317, 5, 11], [183, 2068, 4, 779, 3, 1081, 1993], [6, 16, 12, 3, 7], [306, 73, 4, 282], [17, 63], [45, 3, 22, 4, 29, 3454], [49, 17, 63], [49, 17, 315], [49, 10, 15], [14, 2, 220, 3, 2, 41], [132, 1552, 355, 36], [134, 33, 47, 214, 3455, 3, 8, 587, 71, 2069, 119, 123, 4, 307], [36, 583, 111], [14, 2, 440, 127, 3456, 606, 3, 690, 3, 125, 45], [14, 2, 220, 3, 2, 22], [15, 49, 10, 13, 134, 289], [14, 2, 24, 2, 11], [229, 70, 70, 646, 102, 2, 38, 644, 48, 34, 457, 3457, 3458, 13, 524], [10, 81], [14, 2, 24, 2, 41], [39, 124, 309, 520, 163, 368, 5, 47, 17, 34, 69, 161], [730, 39, 137], [45, 4, 1603, 340], [36, 11, 68, 56], [32, 3459, 2, 198, 452, 119, 3460, 1076, 13, 195], [306, 857, 519, 13, 1569, 2070, 59, 244], [14, 2, 58, 127, 538], [63, 11, 20, 17], [69, 2, 115, 99, 2, 253, 3461, 50, 23], [149, 5, 3462, 83, 9, 56], [14, 2, 347, 265, 119, 183, 1279, 3, 91, 74], [49, 17, 315], [52, 172, 134, 8, 1154, 21, 642, 71, 25, 40, 8, 73, 40, 42, 46, 5], [195, 9, 25], [22, 455, 1584], [1604, 3, 388], [14, 2, 58, 22, 112, 382, 10], [14, 2, 24, 2, 41], [163], [50, 185, 96], [36, 111], [10, 15, 31, 61], [126, 222, 1022, 5, 259, 186, 31, 158, 200], [1276, 341, 270, 13, 61, 116, 10, 139], [129, 191, 21, 1592, 4, 549, 2, 288, 2071], [14, 2, 103, 38, 65, 65, 3463, 5, 289, 294, 2, 1108, 3464], [18, 3, 1393, 1029, 1950, 3, 135], [843, 150], [114, 10, 15], [48, 4, 229], [1087, 325, 3465], [1605, 448, 18, 35, 319, 1605, 119, 33, 3466, 42], [135, 130, 199, 104, 757, 39, 123, 4, 124, 8, 47, 130, 3467, 1424, 5, 47, 2072, 39, 35, 68, 3, 21, 826], [45, 18, 13, 235], [10, 15], [1109, 4, 29], [61, 10, 139, 81], [15, 93, 13, 3468, 3469, 80, 61, 10, 15], [166, 18], [711, 458, 780, 280, 3, 3470, 3, 987], [86, 259, 8, 61, 10, 139], [79, 55, 156, 542, 23, 260, 543, 542, 279, 196, 9, 25, 40, 42, 46, 5, 73, 9, 57, 5, 391], [93, 2, 75, 15, 13, 11, 20], [15, 8, 10, 13, 3471, 3472, 5, 11, 95, 480], [988, 989, 90, 76, 28, 2073, 400, 333], [38, 32, 168, 77, 2, 122, 38, 3473, 726, 3, 20, 21, 692, 123, 4, 124, 142, 2, 123, 431, 34, 1606, 467, 104, 78, 75, 750], [791, 145, 1102], [10, 15], [22, 142, 270, 300], [183, 109, 3474, 9, 4, 3475, 13, 183, 478, 3476, 3477], [6, 16, 12, 3, 7], [18, 9, 4, 816, 30, 33, 270, 31, 254, 28, 3478, 3479], [15, 8, 10, 13, 3480, 3481, 5, 11, 95, 480], [91, 74, 11, 60, 120], [299, 942, 21, 299, 2040, 9, 4, 29], [3482, 270, 796], [109, 90, 2, 75, 2074, 2], [15, 93, 13, 3483, 3484, 80, 61, 10, 15], [635, 13, 3485, 8, 3486, 990, 1607, 3487, 697, 3488], [99, 4, 29], [66, 19, 852, 13, 3489, 3490], [19, 2, 176, 137], [304, 106, 96, 9, 1054, 239, 31, 1591, 80, 390, 927, 751, 304, 2075, 2076, 39], [3491, 3492, 106, 89, 292], [53, 55, 434, 434, 370, 53, 9, 25, 44, 42, 46, 5], [17, 277, 3493, 3494, 4, 77, 2, 68, 3], [2077, 2077, 71, 25, 40, 40, 52, 23, 44, 42, 5, 46], [53, 528, 4, 29], [14, 2, 472, 846, 2, 17, 3495, 2078], [43, 69, 3, 382, 10, 5, 61], [197, 188, 250, 611, 397, 1888, 5, 66, 397, 9, 189], [6, 1459, 12, 3, 7], [6, 210, 12, 3, 7], [6, 210, 12, 3, 7], [6, 210, 12, 3, 7], [15, 93, 13, 1406, 1407, 80, 61, 10, 15], [26, 197, 477, 1983, 9, 189, 98, 178], [767, 3496, 231, 9, 4, 206, 5, 26], [266, 55, 303, 1280], [6, 16, 12, 3, 7], [6, 16, 12, 3, 7], [3497, 3498], [6, 16, 12, 3, 7], [6, 337, 12, 3, 7], [59, 4, 29, 8, 66, 430, 4, 75, 2022, 120], [222, 449, 18, 538, 4, 282, 883, 3499, 2079], [6, 673, 12, 3, 7], [495, 17, 273, 56], [35, 19, 191, 31, 237, 96, 80, 864, 155, 22], [1063, 13, 544, 33, 1040, 1608, 451, 104, 70, 3, 11], [6, 16, 12, 3, 7], [6, 16, 12, 3, 7], [6, 332, 12, 3, 7], [411, 11, 206, 154, 3, 468, 195, 9, 29, 1028], [6, 16, 12, 3, 7], [6, 3500, 12, 3, 7], [6, 785, 12, 3, 7], [1609, 2, 601, 1610, 338, 11, 9, 3, 910, 1088, 167], [6, 16, 12, 3, 7], [6, 3501, 12, 3, 7], [6, 2080, 12, 3, 7], [6, 16, 12, 3, 7], [101, 604, 2, 3502], [10, 15, 364, 31, 285], [8, 129, 191, 17, 33, 2081, 2082, 90, 722, 57, 3, 47, 22, 832], [15, 93, 13, 3503, 3504, 80, 61, 10, 15], [94, 247, 2, 8, 236, 283, 1110, 5, 1227, 45, 690, 72, 2083, 346, 3505, 120], [171, 9, 4, 29, 740, 899, 3506, 18, 5, 107, 873], [15, 93, 13, 1281, 1282, 80, 61, 10, 15], [11, 10, 15, 20], [36, 18], [49, 17, 168, 27, 56, 638, 17], [99, 203, 13, 3507, 3508, 32, 116, 2084, 21, 2084, 1156, 726, 3509, 882], [86, 94, 3510, 5, 8, 526, 171, 3, 214, 94, 80, 195, 421], [664, 184, 991, 3, 11, 9, 4, 174], [177, 55, 52, 23, 73, 160, 25, 44, 42, 46, 5], [99, 54, 153, 677, 34, 771, 88], [124, 86, 2, 19, 11, 271, 107], [59, 116, 2085, 30], [6, 1441, 12, 3, 7], [49, 17, 27], [6, 16, 12, 3, 7], [53, 55, 637, 370, 73, 160, 25, 44, 87, 46, 5], [6, 1283, 12, 3, 7], [6, 16, 12, 3, 7], [6, 210, 12, 3, 7], [6, 210, 12, 3, 7], [6, 16, 12, 3, 7], [6, 210, 12, 3, 7], [6, 376, 12, 3, 7], [39, 168, 5, 38, 41, 101, 94, 408, 27, 57, 112, 1378, 84, 735, 795, 39, 78, 4, 68, 143, 41, 119, 72, 3511], [6, 16, 12, 3, 7], [85, 498], [3512, 39, 117, 104, 120, 94, 39, 599, 2, 68, 5, 2, 11, 80, 47, 36, 3513, 3514, 1833, 423], [39, 124, 38, 54, 85, 21, 1611, 2, 68, 143], [99, 18], [69, 2, 81, 8, 49, 10, 80, 61, 10, 74], [14, 2, 264], [1252, 33, 1048, 846], [10, 15, 364, 31, 285], [514, 11, 45, 237, 2086, 81, 3, 1111, 3515, 38, 267, 146, 3516, 2087, 21, 8, 81, 9, 4, 834], [125, 45, 2088, 22, 256, 18], [51, 37, 5, 88], [185, 18, 49, 185, 18], [51, 37, 5, 88], [10, 15, 31, 61], [1612, 1014, 5, 328, 45], [23, 215, 9, 3517, 57, 39, 440, 248, 99, 72, 105, 4, 548, 429, 30, 50, 165, 2, 13, 17, 960], [125, 45, 363, 22, 18], [38, 1607, 9, 393, 2, 347, 38, 3518, 624, 2, 75, 77, 2, 307, 3519], [15, 8, 10, 13, 3520, 176, 3521, 5, 11, 95, 554], [3522, 835, 30], [107], [51, 37, 5, 88], [126, 3523, 9, 14, 2, 616, 127, 184, 108, 119, 883, 4, 211, 3, 1260], [321, 57, 1184, 416, 9, 4, 2089], [589], [14, 2, 19, 99], [578, 45, 491, 3, 22], [14, 2, 68, 3, 2, 49, 2, 37, 10, 5, 61], [125, 45, 363, 18], [11, 20, 10, 15], [6, 1945, 12, 3, 7], [24, 18], [39, 42, 14, 2, 528, 45, 363, 138], [14, 2, 24, 2, 215, 119, 10, 277], [23, 106, 96, 173], [32, 3524, 3525, 9, 4, 77, 2, 19, 11, 20], [185, 251, 18], [10, 15, 70], [20, 10, 15], [99, 19, 190], [1573, 192, 98, 13, 1112, 1573, 9, 359, 78, 4, 103, 3526, 145, 2090, 237, 362], [718, 751, 1059, 26, 2091], [10, 21, 91, 74], [34, 380, 8, 2092, 3527], [1113, 108, 3528, 37, 13, 1613, 1614, 1615, 4, 29, 13, 161], [45, 291], [35, 19, 26, 2093, 31, 36, 23, 80, 3529, 249, 1284, 4, 750], [1783], [69, 28, 204, 99, 30], [14, 2, 24, 2, 83], [209, 358, 30, 3, 11], [24, 2, 456, 3530, 19, 11, 3531, 10, 81, 70, 31, 139], [85, 4, 797, 57], [34, 103, 127, 589, 13, 8, 3532, 1616, 1114], [540, 8, 17, 3533, 107], [125, 45, 2088, 665, 30, 120, 100, 282, 22], [43, 127, 37, 5, 88], [926, 68, 340, 112, 955, 455, 1617], [465, 203], [1115, 128, 152, 141, 190], [52, 113, 4, 884, 2, 2, 123, 254, 682, 112, 733], [48, 251, 4, 282, 496], [91, 74], [436, 59], [43, 529, 48, 198, 57], [22, 455, 1617, 18], [84, 3, 74, 21, 2094, 9, 25], [4, 174, 2, 68, 3, 2, 22], [620, 483, 462, 2, 22], [3534, 1618, 211, 32, 1483], [23, 258, 93, 123, 4, 82, 43, 750, 798], [17, 461, 27], [91, 74, 115, 70], [14, 2, 246, 22], [43, 2, 1986, 506, 128], [2095, 18, 1465], [464, 20, 118, 58, 13, 1619], [156, 293, 2096, 1285, 1286, 348, 1435], [34, 762, 624, 2097, 3535, 175, 3536, 3537], [76, 28, 229, 640, 225, 13, 3538, 1578, 1579], [322, 679, 655, 425, 426], [30, 94, 3539, 2098, 219, 32, 3540, 3541], [725, 8, 23, 194, 3, 26], [1620, 148, 1287, 3542, 304, 17], [513, 101], [43, 3543, 242, 21, 59, 518, 2099], [68, 5, 358, 30], [51, 37, 88], [91, 74, 4, 29], [48, 489, 914, 28, 57, 2, 682, 1262, 48, 78, 4, 75, 3544, 151, 317], [524, 634, 1278, 9, 170, 2, 275, 783], [36, 19, 13, 3545, 3546, 3547], [22, 168, 4, 955, 10], [1621, 2100, 2, 837, 1622, 1048, 145, 21, 2101, 321, 2, 2102, 3548], [6, 16, 12, 3, 7], [76, 28, 41, 21, 22, 32, 1623], [76, 28, 41, 21, 22, 1623], [78, 148, 34, 117, 535, 3549, 415, 303, 236, 33, 587, 2103], [326, 1624, 100, 567, 1625, 481, 8, 30, 120, 284, 845, 170], [11, 19, 18, 3550, 2, 1619], [2104, 992, 2105], [882, 414, 9, 443], [6, 1849, 12, 3, 7], [2104, 992, 2105], [36, 203, 284, 2, 417, 993], [6, 16, 12, 3, 7], [34, 616, 228, 59, 33, 3551, 3552, 3, 125, 45], [312, 4, 361], [11, 9, 278, 154, 34, 899, 8, 18, 5, 107, 873], [39, 124, 648, 47, 19, 2, 473, 3, 45, 119, 641, 656, 269], [22, 4, 712], [495, 17, 273, 56], [14, 2, 24, 2, 215], [43, 69, 3, 382, 10, 3, 61, 10, 139], [43, 3553, 224, 19, 13, 32, 152, 3554, 3, 20, 60], [22, 111], [18, 3, 91, 74], [15, 93, 13, 3555, 3556, 80, 61, 10, 15], [6, 1288, 12, 3, 7], [6, 1283, 12, 3, 7], [11, 154], [11, 35, 68, 5], [767, 117, 1063, 13, 544, 33, 1040, 683, 39, 451, 38, 3557, 33, 795], [1289, 107, 684, 18], [22, 35, 24, 13, 2106], [842, 377, 4, 29], [3558, 123, 858, 13, 312], [156, 172, 156, 357, 23, 260, 543, 3559, 165, 19, 157, 23, 138, 157, 9, 25], [107, 175], [603, 21, 183, 71, 4, 77, 2, 103, 1604], [39, 42, 4, 77, 2, 194, 603, 215, 2107, 24, 4, 29], [125, 109, 790, 1116], [6, 16, 12, 3, 7], [78, 148, 34, 69, 3560, 344, 3, 8, 589, 269, 453, 33, 8, 18, 71, 269, 104, 146, 1401, 39, 42, 4, 1610, 467, 104], [70, 2, 450, 778, 685, 867, 1626, 31, 1522, 13, 153, 3, 159, 245], [45, 69, 393], [41, 879, 2, 4, 263, 1027], [125, 45, 24, 18], [51, 37, 5, 3561, 51, 88], [52, 23, 262, 52, 52, 526, 255, 19, 157, 160, 25, 294, 2, 3562, 666, 1593], [306, 171, 4, 29, 3, 222], [14, 2, 115, 106, 291, 5, 235], [1112, 82, 2108, 24, 18], [34, 450, 429, 31, 388], [49, 17, 273, 56, 18], [111, 28, 271], [215, 111, 13, 183, 478], [48, 18], [122, 3563, 3564, 2, 214, 140], [1627, 985, 129, 28, 129], [35, 117, 143, 8, 288, 375, 2, 428, 288, 3565], [43, 2, 52, 464, 19, 2, 3566, 3567, 2, 713, 3568, 60, 727, 219, 8, 52, 1481], [13, 781, 285, 30, 120], [45, 203], [49, 10, 15], [177, 55, 190], [15, 93, 13, 3569, 3570, 80, 61, 10, 15], [49, 10, 15, 70], [43, 2, 136, 8, 815], [588, 45, 5, 8, 22], [11, 20, 17, 27, 10, 15], [465, 203], [41, 86], [8, 321, 57, 1184, 9, 4, 2089, 39, 42, 14, 2, 261, 3571, 13, 921, 321, 905], [306, 32, 295, 13, 69, 13, 455, 18], [78, 148, 34, 450, 47, 59, 31, 104, 3572, 254], [6, 16, 12, 3, 7], [436, 191, 300], [107, 69, 233, 45, 106, 291, 18], [89, 28, 8, 150, 9, 179, 2041, 97, 34, 713], [632, 552, 1063, 1830, 642, 26, 26, 26, 26], [345, 311, 36, 1290, 1291], [50, 45, 503], [787, 2109, 30], [107, 69, 233, 22, 2, 45, 716, 18], [508, 383, 18], [59, 744], [84, 197], [185, 9, 4, 29], [3573, 3574, 3575, 2, 24, 2, 994, 329, 456, 32, 265, 9, 3576], [3577, 3578, 214, 136, 187, 21, 313, 4, 2110], [99, 30, 1587, 2111, 547, 29], [790, 18], [45, 291, 3579, 56], [3580, 33, 3581, 31, 84], [267, 101, 619, 505, 474], [86, 28, 23, 258, 1210, 429], [41, 18, 275, 270, 30], [23, 258, 10, 689], [121, 1022, 94, 733, 71, 506, 4, 77, 2, 450, 1380, 733, 182, 124, 201, 1788, 3, 11], [53, 111], [17, 273, 56, 18, 44, 666, 533, 736], [3582, 3583, 111, 28, 214, 19], [6, 16, 12, 3, 7], [110, 677, 18], [6, 16, 12, 3, 7], [3584, 3585, 155, 41, 2112, 1292, 19, 2, 3586, 3587, 3588], [288, 375, 4, 77, 2, 122, 54, 531], [3589, 1546, 410, 1628, 9, 170, 3, 153, 58, 652, 3590], [133, 335, 13, 176, 1629], [1293], [3591, 180, 2, 902, 21, 488], [488, 121, 1204, 1448, 1630, 1631], [76, 28, 855, 1632, 1633], [345, 311, 567, 974, 454, 3592, 3593], [39, 43, 69, 28, 382, 47, 10, 21, 28, 41, 3594], [995, 996, 660, 453, 2, 136, 13, 23, 323], [11, 20, 17, 63], [507, 681, 733, 31, 1294, 71, 4, 2113, 2, 121], [39, 78, 4, 103, 38, 110, 113, 150, 696, 30, 120, 1081, 66, 4, 285, 389], [6, 16, 12, 3, 7], [91, 74, 1055], [214, 1203, 1177, 3595, 180, 3596, 2, 75, 506], [114, 86], [121, 78, 4, 117, 8, 284, 795, 33, 326, 581, 44, 442], [2114, 2115, 165, 389], [6, 16, 12, 3, 7], [3597, 153], [131, 54, 207, 2114, 2115], [26, 197, 352, 250, 571, 26, 140, 5, 66, 9, 189, 98, 178, 98, 144, 389], [15, 8, 10, 13, 3598, 3599, 5, 49, 3600], [6, 16, 12, 3, 7], [22, 67, 4, 82], [288, 375, 4, 259], [17, 27, 3, 140], [312, 545, 515, 18], [1634, 2100, 2, 837, 1048, 183, 145, 31, 3601, 731], [103, 323, 162, 3602], [39, 42, 14, 2, 24, 2, 8, 330, 431, 15, 47, 330, 10], [166, 1083], [4, 77, 2, 24, 2, 41], [385, 374, 18, 3, 216, 594, 176, 85], [36, 35, 68, 3], [52, 23, 218, 504, 612, 9, 25, 44, 87, 46, 5], [2116, 78, 4, 3603], [78, 4, 284, 153, 3, 1490, 2, 45], [135, 129, 130, 76], [24, 18], [99, 107], [69, 2, 81, 8, 49, 10, 80, 61, 10, 74], [15, 93, 13, 1281, 1282, 80, 61, 10, 15], [65, 13, 238, 2117, 2, 298, 134, 8, 130], [495, 17, 315], [19, 2, 58, 104, 171], [106, 96, 173], [779, 846, 796, 997], [39, 576, 38, 312, 21, 72, 371, 28, 50, 86, 39, 599, 2, 165, 1369, 3604, 3, 11, 21, 72, 3605, 161, 8, 66, 9, 14, 2, 557], [41, 111, 1635, 590, 21, 1100, 718], [235, 45, 291, 115, 5, 235], [15, 93, 13, 1281, 1282, 80, 61, 10, 15], [47, 696, 149, 105, 4, 224, 237, 649, 72, 607, 50, 1636, 78, 75, 394], [15, 93, 13, 1281, 1282, 80, 61, 10, 15], [739, 625, 19, 2, 32, 3606, 3607], [349, 9, 50, 118, 2, 8, 11, 60, 100, 124, 50, 11, 473, 91, 74, 155, 2118, 182, 3608, 2, 11], [50, 236, 40, 8, 52, 1295, 78, 68, 831, 11, 100, 344, 127, 30, 120, 2119, 358, 30], [11, 118], [69, 134, 33, 326, 1039, 71, 25, 11, 9, 25, 953, 9, 25, 473, 35, 62, 1117, 2, 75, 134, 221, 40, 326, 73], [8, 490, 486, 13, 3609, 3610, 90, 487], [6, 16, 12, 3, 7], [1487, 1211], [14, 2, 2120, 127, 317, 3, 184, 108], [14, 2, 24, 166], [103, 429, 9, 4, 29, 3, 215], [63, 275, 150, 3, 158], [370, 3611, 71, 717, 28, 1511, 643, 438, 1637, 5, 799, 438, 4, 153, 1296], [1501, 203], [304, 3612, 2119, 1274], [142, 1118, 2, 245, 2094, 21, 860, 418, 5, 326, 328, 3613, 272, 60], [39, 123, 4, 117, 58, 3614, 31, 953, 3615], [134, 8, 221, 31, 52, 172, 71, 14, 2, 19, 186], [14, 2, 826, 230, 3, 186], [49, 10, 15], [6, 301, 12, 3, 7], [78, 148, 69, 687, 8, 135, 130, 826, 10], [170, 664, 3616], [63, 32, 11, 1638, 5, 66, 26], [648, 2121, 149, 224], [91, 74, 256, 14, 2, 232], [14, 2, 220, 3, 2, 22, 112, 10, 81], [407, 51], [3617, 4, 282, 5, 23, 258], [1297, 168, 198, 57, 2, 117, 236, 1267, 264, 181, 692, 71, 132, 252, 403], [58, 113, 1189, 86, 321, 113, 19], [11, 20, 10, 15], [11, 20, 10, 27], [37, 5, 92], [48, 519, 2, 37, 251], [11, 20, 10, 15], [51, 37, 5, 92], [314, 3618, 5, 135], [14, 2, 276, 41, 208, 3619], [995, 996, 295, 1119, 13, 8, 2122, 226, 171], [49, 17, 27], [76, 28, 222, 521, 522], [660, 2, 703, 338, 8, 17, 33, 3620, 3621, 9, 416, 420], [78, 50, 257, 102, 2, 529], [334, 122, 3, 67, 4, 563, 57], [165, 2, 389, 13, 1639, 1640], [115, 100, 212, 1630, 1631], [76, 28, 200, 1630, 1631], [10, 15], [76, 28, 200, 1639, 1640], [135, 314, 4, 282], [34, 380, 8, 346, 3622, 33, 566], [6, 1641, 12, 3, 7], [943, 83, 9, 844, 5, 72, 481, 38, 1021, 181, 618, 423], [14, 2, 347, 53, 433, 112, 10, 15], [126, 18, 28, 149, 224], [17, 27], [724, 66, 3, 20, 152, 141, 876, 4, 29, 496, 34, 725, 8, 66], [10, 18], [560, 21, 698, 463, 13, 26, 95], [1634, 429, 650, 1060], [14, 2, 62, 2, 23, 1241], [34, 365, 3623, 21, 3624, 109, 2, 8, 3625], [11, 20, 10, 15], [85, 9, 132, 38, 177, 555, 4, 3626, 274, 5, 392, 57, 94, 1120], [1831, 1197, 2123, 103, 38, 1503, 1298], [995, 996, 295, 3, 2, 15, 10, 13, 2124, 2125], [48, 968, 21, 968, 123, 4, 82, 34, 276, 304, 51, 2, 3627, 97, 475, 3628, 3629], [22, 4, 29], [22, 4, 29], [32, 3630, 1207, 114, 10], [198, 57, 83, 859, 431, 182, 8, 645, 9, 874, 21, 78, 75, 564, 56], [1293], [133, 335, 13, 176, 1629, 21, 1470], [6, 16, 12, 3, 7], [162, 9, 4, 29], [34, 729, 161, 1487, 854, 13, 47, 32, 116, 3631], [550, 264, 18], [550, 264, 18], [34, 725, 8, 20, 66, 442, 87, 437], [516, 2126, 9, 201, 874, 5, 215], [728, 13, 998, 204], [131, 54, 207, 2124, 2125], [11, 214, 19, 18, 32, 3632, 3633, 3634], [177, 55, 598, 551, 73, 160, 25, 44, 42, 46, 5], [48, 489, 3, 8, 110, 478, 767, 8, 545, 110, 283, 795, 411, 618, 105, 8, 779, 236, 75, 564, 56], [2127, 2128, 575, 2, 534, 8, 147, 2127, 2128, 297, 28, 148], [136, 11, 20, 17, 33, 3635, 862, 9, 4, 77, 2, 220, 5, 596], [], [1109, 200, 4, 946], [26, 197, 352, 250, 571, 26, 140, 9, 189, 98, 178, 98, 144, 176], [142, 227, 3, 1642, 2129, 1464, 117, 2130, 31, 404, 244, 174, 3636], [26, 197, 188, 250, 611, 26, 962, 9, 189, 98, 178, 98, 144, 255], [567, 1257, 1643, 1644, 145, 3637, 374, 8, 145, 35, 75, 402, 34, 69, 161, 2, 284, 72, 2, 999], [3638, 3639, 145, 9, 516], [6, 16, 12, 3, 7], [1116, 1299, 9, 1013, 3640, 5, 108, 3641], [32, 677, 21, 922, 5, 3642, 26, 21, 26], [4, 77, 2, 741, 8, 99, 28, 237, 155, 8, 36, 155, 36], [10, 3643, 3644, 3645], [2131, 31, 1121, 776, 800, 646, 25], [1389, 8, 783, 13, 474, 71, 4, 29], [53, 55, 2132, 756, 73, 9, 25, 44, 42, 46, 5], [48, 3646], [11, 19, 18, 781, 15, 10], [688, 3647, 72, 9, 326, 3648, 52, 3649, 351, 72, 9, 107], [22, 1841], [63, 11, 17, 32, 116, 3650], [6, 16, 12, 3, 7], [24, 239], [56, 635, 9, 4, 259], [14, 2, 24, 2, 158, 3651], [14, 2, 24, 2, 49], [15, 93, 13, 3652, 3653, 80, 61, 10, 15], [1645, 13, 175, 18], [6, 369, 12, 3, 7], [6, 376, 12, 3, 7], [3654, 48, 416, 2133, 229, 466, 30, 3655, 69], [11, 1638, 49, 140, 17, 9, 27], [3656, 3657, 108], [112, 647, 60, 840, 2, 37, 134, 199, 242, 35, 75, 558], [6, 16, 12, 3, 7], [3658, 3659, 2134, 781, 1122, 23, 1820], [1914, 1000, 17, 67, 4, 1997, 8, 1227, 747], [6, 16, 12, 3, 7], [424, 18], [39, 124, 1300, 1158, 182, 105, 4, 241], [35, 62], [6, 16, 12, 3, 7], [32, 132, 1541, 2, 365, 446], [11, 238, 2135, 700, 9, 4, 29], [3660, 429, 40, 2087, 344, 30, 120, 33, 440, 938, 2136, 938, 634, 176, 13, 3, 8, 60, 518], [166, 18], [6, 1641, 12, 3, 7], [78, 148, 15, 47, 10, 13, 20], [15, 8, 10, 13, 1598, 1599, 5, 11, 95, 554], [39, 395, 8, 334, 13, 169, 223, 3, 11, 238, 2137, 21, 39, 42, 132, 127, 30, 120], [1156, 435, 2138, 18], [6, 714, 12, 3, 7], [10, 15], [45, 772, 2139, 123, 4, 1074, 2099], [184, 108, 239], [29, 5, 8, 1123, 1124, 3, 52, 2, 151, 338, 100, 78, 123, 489, 631, 354, 2, 113, 237, 2140], [22, 4, 29, 168, 3661, 104, 757, 181, 105, 4, 723, 161, 321, 3, 167], [29, 5, 132, 54, 85, 3662, 13, 3663], [14, 2, 246, 22], [238, 1042, 334, 796], [24, 18], [6, 16, 12, 3, 7], [3664, 23, 23, 138, 9, 4, 263, 104, 9, 326, 1865, 60, 43, 57, 798], [272, 19], [15, 8, 10, 13, 1598, 1599, 5, 11, 95, 11], [41, 270, 30], [3665, 58, 230, 71, 829, 3, 3666], [256, 23, 249, 1125, 1301, 264], [557, 388], [54, 85, 131], [51, 37, 5, 88], [14, 2, 245, 145, 3, 215, 17], [1302, 377, 114, 404, 89], [8, 490, 486, 13, 3667, 3668, 90, 487], [6, 1641, 12, 3, 7], [36, 583, 9, 592, 154], [36, 1228], [11, 1638, 116, 1117, 2, 75, 27, 3, 271, 20], [14, 2, 232, 22], [48, 4, 229], [47, 22, 105, 4, 82, 5, 47, 84, 104, 168, 44, 47, 10, 81, 72, 423, 5, 47, 89, 181, 4, 47, 85], [6, 16, 12, 3, 7], [14, 2, 62, 2, 36], [14, 2, 62, 2, 23, 1241, 3, 52], [37, 5, 92], [17, 63], [51, 37, 5, 88], [403, 71, 4, 507, 556, 316, 2, 3669, 94, 2141, 2, 3670], [51, 37, 88], [20, 10], [39, 42, 124, 76, 206, 58, 183, 1492, 108, 145, 105, 4, 424, 2142], [14, 2, 24, 2, 41], [408, 3671, 86, 28, 3672, 4, 556, 2143, 5, 466, 289], [14, 2, 198, 57, 41, 566], [84, 212, 1021, 622, 623], [488, 3673, 372, 622, 623], [76, 28, 567, 30, 2144, 2145], [84, 212, 278, 154, 2144, 2145], [131, 54, 207, 1646, 1647], [14, 2, 62, 2, 529, 21, 529], [11, 20, 10, 15, 1126], [17, 27], [10, 9, 4, 132, 1163], [15, 3674, 11, 20, 32, 3675], [14, 2, 232, 22, 112, 687, 8, 10], [45, 1901, 4, 263], [107, 45, 462, 9, 4, 3676], [48, 86, 18, 164], [14, 2, 117, 8, 45, 291, 5, 22], [490, 13, 32, 3677, 3678], [15, 49, 10, 13, 32, 3679], [193, 490, 3680, 3681, 3682], [14, 2, 220, 3, 2, 36], [345, 3683, 3684, 3685, 3686, 39, 42, 65, 465], [288, 375, 76], [249, 51, 37], [2146, 24, 1648, 13, 54, 2147], [19, 2, 137, 133, 3687, 1152, 3688, 32, 3689], [6, 2148, 12, 3, 7], [3690, 475, 3691, 768, 3, 20, 389, 1398], [76, 28, 48, 851], [14, 2, 24, 2, 11], [142, 227, 3, 801, 125, 802, 125, 602, 803, 497, 1127, 3692], [142, 227, 3, 341, 1303, 13, 528, 31, 1560], [3693, 3694, 10, 15], [14, 2, 103, 110], [106, 96, 173], [312, 591, 9, 516, 312], [15, 8, 10, 13, 2149, 2150, 5, 11, 445, 480], [15, 93, 13, 2149, 2150, 80, 61, 10, 15], [22, 4, 132, 243, 2, 390, 66], [107, 684, 37, 30], [11, 20, 17, 27], [48, 216, 3695, 914, 134, 977, 28, 38, 3696, 3697], [525], [10, 13, 1251, 452, 3698, 3699], [17, 27, 3, 140], [69, 2, 2151, 8, 791, 240, 35, 75, 1550, 219, 11, 167], [17, 27, 3, 343], [79, 55, 824, 279, 196, 25, 44, 42, 5], [1058, 264, 13, 387, 9, 4, 29, 608], [112, 382, 8, 10, 22, 9, 4, 263, 2, 8, 1597, 900, 10], [99, 54, 153, 3700], [749, 17, 15, 10], [14, 2, 58, 22, 21, 166], [8, 84, 160, 192, 9, 2152, 70, 713], [166, 4, 29], [6, 16, 12, 3, 7], [8, 290, 523, 66, 9, 409, 38, 274, 187, 5, 26, 34, 615], [122, 8, 3701, 3702, 2, 2153, 214], [11, 24, 239], [22, 9, 4, 324, 5, 47, 85], [79, 55, 542, 156, 279, 196, 9, 25, 44, 87, 46, 5], [11, 20, 17, 27], [11, 20, 17, 27], [385, 60, 33, 85], [11, 24, 1015], [79, 55, 2154, 279, 196, 9, 25, 44, 87, 46, 5], [8, 135, 314, 60, 35, 68, 3, 72, 767, 481, 182, 8, 199, 379, 9, 556, 774], [11, 60, 278, 154, 3703], [26, 477, 3704, 9, 189, 98, 178, 98, 144, 255], [14, 2, 2155, 135, 73], [59, 35, 75, 885], [6, 785, 12, 3, 7], [45], [6, 369, 12, 3, 7], [11, 154], [6, 332, 12, 3, 7], [214, 113, 906, 18], [10, 15, 329, 3705, 10, 139], [22, 4, 29, 21, 14, 2, 344, 128], [99, 54, 153], [331, 22, 4, 211, 8, 45, 122, 3], [36, 19, 187, 136], [35, 347, 1836, 1649, 1650, 3, 407], [2156, 165, 3706, 47, 3707, 9, 72, 180, 2, 563, 360, 161, 3, 8, 782, 108, 182, 2157, 3708, 3709, 31, 2158, 1383], [184, 108, 18, 132, 364, 3, 184, 108, 3710, 346], [22, 591, 9, 382, 507], [106, 96, 173], [246, 114, 831, 221, 83], [50, 185, 100, 5, 41, 101], [86, 28, 11, 24, 8, 66, 254, 9, 4, 144], [39, 42, 4, 77, 2, 741, 99, 151, 269, 146, 1401], [4, 77, 2, 24, 2, 49], [32, 14, 2, 24, 2, 8, 114], [1651, 60, 9, 170, 1102, 403], [295, 2, 194, 590, 2, 136, 187, 33], [626, 33, 89, 2159], [680, 973, 880, 4, 3711, 799, 1504, 3, 871, 973, 546], [3712, 3713, 168, 14, 2, 24, 2, 49, 21, 22], [1652, 680, 524, 316, 2, 11, 181, 225, 187, 3714, 3715, 52], [14, 2, 102, 853, 230, 31, 11], [960, 145, 910, 880, 80, 2160, 1648, 52], [8, 1164, 486, 13, 3716, 3717, 90, 487], [186, 367, 3, 360, 644, 32], [222, 393, 13, 525], [11, 20, 10, 15], [10, 15], [8, 251, 168, 4, 774, 496, 249], [726, 196, 59, 3718], [600, 133, 9, 170], [14, 2, 62, 2, 1653, 48], [51, 37, 5, 92], [14, 2, 102, 11, 230], [14, 2, 62, 2, 162], [14, 2, 784, 185, 5, 41], [118, 2, 60, 849, 28, 1654, 1128, 1129, 9, 4, 1655], [41, 18, 24, 18], [135, 314, 190], [15, 8, 10, 13, 2161, 2162, 5, 253, 114], [14, 2, 58, 22], [164, 1794, 56, 33, 1929, 3, 225, 187, 224], [3719, 113, 150, 52], [82, 258, 1304, 1656, 120, 211, 57, 94, 339, 198, 2], [213, 316, 31, 1130, 74], [316, 31, 1130, 74], [14, 2, 24, 2, 158], [11, 69], [41, 18, 275, 270, 30], [6, 16, 12, 3, 7], [565, 2, 290, 35, 102, 82, 230, 294, 2, 3720, 118], [280, 396, 187, 3721, 874, 3, 215, 2107, 151, 346, 59], [11, 19, 18], [3722, 3723, 30, 13, 230, 240, 124, 1088, 164, 187, 3, 11, 52], [77, 2, 268, 38, 799, 6, 3, 186, 52], [14, 2, 117, 95, 113, 2, 102], [11, 229, 18, 118, 2, 60, 849, 28, 1654, 1128, 1129, 9, 4, 1655], [11, 95, 113, 229, 18, 118, 2, 60, 849, 28, 1654, 1128, 1129, 9, 4, 1655], [19, 393, 13, 3724, 2, 407], [45], [166, 24, 18], [11, 9, 4, 3725, 161, 102, 230, 120, 50, 3726, 3727], [59, 164], [184, 108, 9, 239], [275, 270, 30, 41, 18], [14, 2, 102, 95, 230, 5, 11, 48, 3728], [3729, 972, 31, 22], [41, 9, 4, 259], [488, 121, 212, 622, 623], [183, 1231, 416, 481, 119, 58, 3, 8, 1492, 379], [49, 21, 11, 17, 27], [267, 101, 619, 505, 474], [41, 9, 4, 263, 94, 247, 2, 123, 127, 5, 484, 208, 146, 534], [10, 15, 69, 31, 61, 10, 139], [14, 2, 58, 3730, 13, 682, 1131, 19], [10, 15], [3731, 245, 518], [10, 15, 70, 13, 11, 675, 20], [3732, 33, 129, 340], [49, 10, 15], [45, 202, 18], [331, 45], [125, 223, 334, 772, 419], [78, 4, 3733, 8, 3734, 3735, 3, 45, 94, 828, 57, 38, 54, 153], [239, 31, 184, 108], [6, 16, 12, 3, 7], [877, 2, 863, 457, 524, 21, 3736, 321, 2, 11], [22, 35, 62, 2, 8, 66], [99, 2028, 18], [50, 185, 3, 216, 3, 441], [152, 141, 120], [11, 1657, 701, 201, 27], [15, 8, 10, 13, 3737, 3738, 5, 11, 95, 11], [43, 2, 588, 658], [15, 8, 10, 13, 3739, 3740, 5, 253, 114, 568, 308], [58, 118, 13, 11, 1619], [69], [65], [107, 535, 2163, 4, 29, 303], [27, 56, 303, 33, 11, 675, 21, 20], [3741, 176, 295, 2, 729, 38, 187, 37], [132, 30, 100, 983, 72, 322, 691, 1064, 1408, 771, 954, 317], [444, 30, 28, 58, 113, 1189, 2164, 108], [20, 19], [53, 48, 1275, 903, 18, 1275, 50, 102, 56], [30, 120, 527, 494, 335], [214, 3742, 3, 2165, 3743, 4, 29, 779], [199, 3744, 379], [162, 452, 4, 29, 3, 109], [2166, 270, 1125, 219, 2167, 30, 3745, 270, 3746, 3747, 270, 18], [1050, 10], [1391, 244, 1615, 71, 2168, 5, 193, 986, 45, 3748], [1658, 1108, 1305, 835, 312], [488, 23, 645, 679, 212, 1170, 1171], [50, 59, 371, 31, 8, 244], [280, 145, 3, 45, 280, 145, 2169, 2, 457, 1279, 527, 1111, 677], [11, 20, 10, 15, 70], [1306, 2, 92, 923], [6, 16, 12, 3, 7], [190, 81, 8, 146, 1307], [82, 258, 2, 75, 402, 3, 87, 113, 680, 146], [36, 5, 83, 3749, 35, 82, 107], [41, 208, 715, 9, 4, 211, 57, 3, 455], [22, 18], [11, 20, 17], [232, 667, 1370], [53, 55, 1186, 1586, 279, 196, 373, 40, 52, 9, 25, 44, 42, 5, 285], [17, 63, 11, 20], [10], [76, 28, 544, 3, 2170, 82, 254], [288, 375, 4, 29], [14, 2, 241, 3, 2171], [1528, 1308, 1309, 27, 219, 32], [322, 13, 84, 640, 96, 425, 426], [8, 214, 67, 4, 82], [372, 84, 67, 4, 82], [84, 13, 3750, 67, 4, 82], [6, 16, 12, 3, 7], [357, 3751, 373, 40, 52, 1659, 9, 25, 44, 87], [271, 108], [3752, 199, 9, 25], [3753, 947, 8, 3754, 53, 17, 9, 27, 72, 180, 2, 75, 638, 798], [27, 161, 56, 33, 11], [18, 2, 103, 41, 208, 70, 5, 22], [6, 16, 12, 3, 7], [6, 16, 12, 3, 7], [928, 13, 3755, 3756, 2172, 119, 52, 52, 221, 43, 496, 2172, 3, 407], [8, 845, 2173, 33, 113, 458, 35, 75, 2174], [14, 2, 24, 2, 11, 20, 17], [110, 283, 677, 70], [214, 18, 557, 35, 335], [22, 50, 1057], [223, 9, 267, 94, 58, 223, 147], [11, 20, 17, 27], [22, 35, 68, 3, 21, 72, 405, 211, 182, 72, 9, 712, 57], [50, 991, 600, 13], [223, 9, 267, 94, 58, 8, 223, 147], [112, 3757, 336, 8, 54, 328, 281, 35, 75, 558], [32, 3758, 22, 18], [72, 9, 4, 174, 2, 224, 8, 113, 2175, 3, 8, 11, 272, 200], [11, 104, 325, 30], [112, 367, 3, 2, 8, 11, 60, 8, 853, 281, 35, 224, 1589, 57, 1101, 34, 1517, 28, 72], [30, 120, 527, 867, 374, 335], [53, 55], [6, 16, 12, 3, 7], [11, 229, 18], [53, 55, 52, 36, 459, 9, 25, 44, 87, 46, 5, 50, 205], [330, 10, 4, 29], [742, 500, 89, 1060], [8, 84, 60, 1310, 28, 38, 569, 146], [6, 210, 12, 3, 7], [6, 210, 12, 3, 7], [6, 210, 12, 3, 7], [43, 2, 703, 1299, 8, 1574, 9], [15, 850], [266, 55, 303, 1280], [6, 16, 12, 3, 7], [6, 16, 12, 3, 7], [11, 17, 273], [72, 69], [3759, 8, 194, 1660, 10, 139, 9, 547, 155, 419, 155, 9, 4, 395, 5, 8, 3760, 225], [17, 27, 14, 2, 24, 2, 158, 200], [6, 16, 12, 3, 7], [3761, 4, 229], [6, 16, 12, 3, 7], [125, 45, 491, 3, 22], [385, 780, 31, 84, 100, 378, 237, 96, 155, 884, 149], [6, 337, 12, 3, 7], [385, 18], [6, 16, 12, 3, 7], [3762, 59, 119, 3763], [6, 1311, 12, 3, 7], [6, 16, 12, 3, 7], [6, 16, 12, 3, 7], [6, 16, 12, 3, 7], [6, 817, 12, 3, 7], [6, 16, 12, 3, 7], [199, 290, 1072, 1661, 149, 3, 38, 574, 1079, 13, 8, 269, 1025, 3764], [70, 2, 15, 169, 202, 286, 10, 13], [511, 5, 11, 187, 14, 2, 19, 158, 200], [6, 16, 12, 3, 7], [6, 1439, 12, 3, 7], [6, 492, 12, 3, 7], [6, 492, 12, 3, 7], [126, 388, 3765, 3, 2170, 1260], [6, 16, 12, 3, 7], [125, 3766, 570, 190], [152, 141, 120, 59], [3767, 128, 41, 728, 4, 282, 195, 4, 29], [6, 16, 12, 3, 7], [152, 141, 59, 316, 31, 2176, 3768, 116, 181, 2176, 90, 4, 316, 237, 3769, 152, 141, 59, 1606], [385, 18, 18], [6, 16, 12, 3, 7], [6, 16, 12, 3, 7], [11, 68, 5, 358, 30, 36, 18], [8, 172, 90, 701, 326, 738, 53, 137, 506, 31, 134, 3770, 21, 100, 71, 14, 2, 82], [6, 16, 12, 3, 7], [69, 14, 2, 62, 36], [6, 3771, 12, 3, 7], [6, 1662, 12, 3, 7], [6, 1662, 12, 3, 7], [6, 2177, 12, 3, 7], [6, 1441, 12, 3, 7], [6, 16, 12, 3, 7], [14, 2, 19, 99], [6, 376, 12, 3, 7], [4, 77, 2, 24, 2, 36], [107, 69, 233, 22, 2, 45, 716, 18], [126, 130, 828, 5, 65], [24, 18], [125, 45, 203], [3772, 3773, 304, 2178, 13, 113, 50, 31], [22, 491, 21, 36, 583], [91, 74, 24, 18], [107, 69, 233, 22, 2, 45, 716, 18], [216, 41, 185, 4, 29], [322, 28], [243, 2, 8, 32, 60, 80, 1001, 69, 8, 32, 24, 2, 8, 200, 18, 816], [222, 18], [252, 261, 23, 262, 52, 52, 9, 25, 44, 87, 46, 5], [39, 137, 4, 378], [322, 28], [27, 1530], [86, 5, 3774], [331, 45], [51, 37, 13, 92], [41, 30, 132, 41, 270, 30], [209, 358, 30, 3, 11, 683, 112, 378, 2, 36], [465, 18], [14, 2, 62, 2, 106, 743], [17, 27], [218, 504, 485, 23, 2179, 2180, 260, 5, 23, 262, 52, 2179, 2180, 19, 157, 23, 138, 9, 25], [11, 20, 17, 27], [17, 27], [17, 27], [185, 18, 3, 216], [10, 15], [650, 1312, 18, 186], [22, 30], [43, 8, 61, 171], [14, 2, 62, 2, 529], [52, 1659, 2181, 23, 262, 52, 2181, 266, 19, 157, 9, 25, 44, 40, 42, 46, 5], [195, 421, 18], [11, 20, 17, 63, 21, 10, 15], [15, 8, 10, 13, 3775, 3776, 5, 49, 24], [11, 20, 10, 15], [34, 63, 3777, 11, 271, 20, 123, 4, 15, 10], [3778, 23, 23, 138, 9, 409, 38, 25, 187, 5, 26, 34, 615], [45, 3, 106, 89], [14, 2, 117, 128, 2182, 5, 1192, 106, 96], [10, 15, 140], [221, 71, 14, 2, 62, 2, 38, 225, 3, 526, 788], [1506, 170, 1313, 731, 3, 1506, 695], [109, 488], [213, 43, 38, 1132, 69, 34], [213, 43, 38, 1132, 69, 34], [34, 1314, 853, 351, 3, 557, 2, 312, 334], [945, 3, 326, 109, 105, 4, 597, 5, 50, 177, 3779, 2058, 72, 9, 3780, 3, 9, 2183], [84, 970, 2184, 50, 19, 2, 26, 121, 174], [48, 4, 29], [125, 22, 3781, 268], [6, 16, 12, 3, 7], [697, 17, 1466, 124, 644, 1874, 1467], [11, 19, 18], [115, 121, 1204, 1294, 1183, 2184, 765, 766], [198, 57, 698, 21, 560, 19, 2, 8, 133, 176, 2185, 1484], [3782], [524, 634, 1278, 170, 2, 275, 150], [70, 19, 2, 20, 152, 141], [131, 54, 207, 212, 425, 426], [198, 57, 48, 31, 1663, 100, 5, 83, 3, 2186], [22, 18], [345, 311, 65, 465, 2187, 2188], [11, 2189, 280, 2190, 1298, 696, 296], [26, 197, 293, 9, 189, 98, 178, 98, 144, 255], [864, 67, 4, 58], [26, 197, 188, 9, 189, 98, 178, 98, 144, 255], [32, 1664, 292, 8, 3783, 3, 3784, 2, 75, 8, 871, 828, 13, 1515], [50, 53, 118, 13, 84, 3785], [2122, 226, 10], [17, 3786, 239], [15, 93, 13, 3787, 3788, 80, 61, 10, 15], [22, 1173, 592, 2191, 130, 2, 58], [14, 2, 81, 10, 248, 61], [17, 3789, 3790, 2192], [19, 13, 48, 903, 13, 2193], [30, 94, 643, 13, 28, 104, 584, 110], [17, 273, 335, 70, 33, 3791], [10, 15, 1293], [2194, 3, 65, 22, 41, 32, 3792], [6, 16, 12, 3, 7], [10, 15], [78, 39, 75, 1304, 2, 307, 3793], [11, 17, 239], [122, 8, 3794, 3795, 2153, 214], [6, 1534, 12, 3, 7], [156, 1099, 218, 793, 5, 23, 260, 543, 156, 1099, 279, 196, 9, 25, 44, 87, 46], [91, 74, 68, 3, 86], [99, 86], [234, 234, 3796, 3797, 1443, 5, 23, 260, 804, 234, 19, 157, 5, 40, 87, 46], [126, 22, 4, 29, 444, 38, 120, 182, 72, 9, 4, 38, 2195, 537], [107, 54, 153, 17], [220, 3, 10], [392, 57, 18, 28, 8, 85], [47, 84, 405, 549, 355, 484], [6, 16, 12, 3, 7], [6, 376, 12, 3, 7], [32, 4, 3798, 59, 5, 8, 235], [126, 41, 24, 18], [6, 376, 12, 3, 7], [242, 203], [14, 2, 102, 11, 471, 31, 1133, 112, 753, 72, 31, 1133], [81, 48, 31, 1133, 2, 1133], [70, 2, 15, 169, 202, 286, 10, 13], [2159, 3799, 35, 19, 418, 5, 26, 745, 91, 241, 2090, 3800, 3801], [1208, 941], [537, 1665, 4, 29], [50, 224, 5, 8, 306, 149, 243, 248, 842, 377], [51, 37, 5, 92], [14, 2, 102, 31, 48, 115, 251], [2196, 22, 4, 259], [22, 5, 47, 83, 105, 4, 58], [14, 2, 19, 49, 17], [5, 8, 2197, 3802, 500, 1315, 9, 38, 3803], [107, 69, 233, 45, 106, 291], [32, 3804, 111, 28, 8, 41, 185], [6, 16, 12, 3, 7], [65, 854, 69], [32, 660, 69, 2, 136, 338, 38, 59, 168, 436], [41, 86], [222, 3805], [14, 2, 19, 299, 942], [11, 24, 164, 911], [51, 37, 88], [22, 519, 2, 688], [14, 2, 102, 31, 8, 48, 567, 1478, 1095, 3806, 3807, 872], [535, 528, 18], [222, 365], [32, 575, 2, 81, 8, 11, 48, 2198, 1133, 2, 2198, 3808], [49, 17, 27], [39, 42, 247, 2, 347, 127, 184, 108, 2, 616, 39, 124, 127, 59, 182, 607, 39, 124, 236, 2, 616, 72, 9, 4, 211, 57], [45, 291, 203], [35, 62, 2, 26, 2093, 549, 248, 23, 36, 39, 78, 19, 26, 26, 21, 26], [14, 2, 115, 45, 291, 5, 2199, 165], [51, 37, 5, 88], [11, 3809, 724, 199, 3, 20, 152, 141, 876, 4, 29, 341, 66, 30], [26, 199, 290, 1072, 1661, 149, 5, 357, 26, 9, 3, 38, 574, 1079], [10, 15], [121, 18], [43, 2, 365, 222], [3810, 165, 2, 244, 9, 292, 31, 8, 60], [6, 16, 12, 3, 7], [99, 18, 293, 3811], [51, 37, 5, 88], [43, 19, 2, 1010, 65], [11, 2189, 280, 2190, 1298, 13, 175], [35, 19, 65], [578, 14, 2, 151, 153, 254, 3, 45], [17, 27], [11, 272, 30], [10, 15, 11, 20], [14, 2, 62, 2, 305, 48], [11, 20, 17, 63], [557], [142, 227, 3, 174, 719, 668, 605, 31, 805, 412, 2, 3812, 235], [165, 2, 361, 3, 215, 4, 963, 3, 1666], [142, 227, 3, 174, 719, 668, 605, 31, 805, 412, 2, 3813], [14, 2, 103, 110], [183, 264, 1125, 119, 8, 3814, 453, 71, 4, 564], [14, 2, 3815, 8, 216, 535, 1222], [156, 293, 2096], [334, 122, 3, 132, 419], [3816], [2200], [2201, 1468, 84, 9, 884, 2, 38, 54, 342], [2201, 1468, 84, 35, 19, 8, 11, 720, 21, 483, 204, 2, 123, 82], [3817, 3818, 590, 9, 884, 2202, 43, 319, 2, 54, 342, 21, 194, 180, 2, 75, 1159, 3, 54, 342], [8, 84, 3, 47, 109, 180, 19, 2, 8, 285, 137, 13, 3819, 145], [1667, 5, 8, 146, 33, 83, 859, 278, 653, 689, 71, 4, 2203], [99, 68, 3, 86], [15, 8, 10, 13, 2204, 2205, 5, 11, 445, 11], [85, 105, 4, 268, 57, 100, 1120, 569, 177, 952, 5, 8, 3820, 57, 2206, 618, 879, 355], [166, 30, 527, 68, 3], [1316, 1100, 3821, 3822, 3823, 311, 83, 565, 2, 1178, 1179, 586], [14, 2, 58, 22], [48, 86, 18, 164], [43, 15, 10, 11, 20, 60], [6, 16, 12, 3, 7], [2, 122, 38, 54, 193, 2, 769, 1585], [151, 317], [94, 39, 101, 8, 97, 109, 28, 114, 8, 35, 784, 161], [239, 264, 13], [1668, 105, 4, 2207, 3, 3824, 368], [34, 103, 127, 17, 212], [14, 2, 19, 20], [15, 8, 10, 13, 3825, 3826, 5, 11, 445, 11], [4, 77, 2, 24, 2, 3827, 3828, 2208, 2209], [166, 18], [11, 1669, 480, 17, 315], [76, 28, 919, 425, 426], [512, 83, 1670], [4, 77, 2, 103, 2210], [6, 16, 12, 3, 7], [116, 48, 4, 29, 40, 23], [3829, 2192, 3830, 979, 3831], [19, 806, 707, 2211, 2212], [76, 28, 22, 3832, 3833], [76, 28, 41, 2187, 2188, 521, 522], [396, 18], [3834, 3835, 4, 29], [24, 76, 3, 41], [34, 136, 643, 31, 110, 283], [304, 17], [6, 16, 12, 3, 7], [1317, 2213, 466, 320, 130, 1671, 303], [52, 23, 249, 612, 218, 9, 25, 44, 40, 42, 46, 5], [11, 20, 509, 320, 130, 509, 975], [65], [22, 613], [121, 86, 107], [495, 17, 273, 56], [34, 548, 854, 2, 8, 204, 3, 176, 72, 1206, 2214], [2215, 31, 106, 89, 1414, 1318, 1539], [165, 2, 677, 30], [359, 19, 2, 2216, 137, 628], [209, 11, 60], [177, 55, 637, 370, 23, 218, 793, 9, 25, 44, 40, 42, 46, 5], [1239, 2217, 2218], [34, 103, 38, 254, 33, 134, 3836, 21, 3837, 31, 3838, 3839, 3840], [14, 2, 103, 54, 155, 237, 3841, 108, 524, 634, 1278, 30], [39, 78, 4, 68, 3, 11], [52, 19, 13, 1842, 22, 390, 5, 49, 89], [15, 93, 13, 3842, 3843, 80, 61, 10, 15], [290, 320, 9, 278, 154], [221, 71, 1461, 182, 11, 320, 9, 278, 154, 132, 386, 869], [1405, 265, 21, 3844, 265, 689, 233, 3, 49, 3845], [11, 154, 320], [234, 23, 504, 23, 260, 804, 234, 526, 3846, 19, 157, 9, 25, 44, 40, 46, 5], [1660, 300, 10, 1958, 381, 13, 776, 3847, 66, 3848], [234, 807, 21, 234, 172, 124, 1134, 11, 1671], [1297], [22, 3849, 32, 295, 321], [216, 385, 18], [6, 376, 12, 3, 7], [47, 17, 32, 3850, 9, 556, 1232, 27, 34, 319, 38, 3851, 2, 3852, 8, 990], [22, 4, 704], [388], [24, 18], [4, 77, 2, 24, 2, 36], [53, 76, 252, 460, 71, 206, 154], [126, 34, 122, 161, 2, 8, 1304, 2219, 254, 13, 8, 2220, 678], [99, 4, 29], [30, 24, 5, 2, 8, 20, 60], [14, 2, 37, 93, 5, 134, 289], [30, 24, 5, 2, 8, 20, 60], [35, 102, 2, 746, 5, 83, 917, 596, 914, 3853, 3, 102, 1556], [70, 2, 450, 778, 685, 867, 1626, 31, 1522, 13, 603, 3, 159, 245], [84, 1247, 112, 38, 552], [14, 2, 62, 2, 22], [51, 37, 88], [59, 336, 715, 18], [410, 92, 81, 3, 108, 3854, 666, 59], [17, 277, 13, 32, 3855, 3856], [23, 128, 5, 275, 3857], [52, 218, 25, 5, 2221, 2222, 476, 38, 44, 40, 42, 46, 5], [216, 385, 18, 28, 41, 333], [198, 57, 463, 13, 133], [1119, 1510, 115, 21, 213, 115, 33, 223], [51, 37, 5, 88], [267, 101], [14, 2, 62, 1488], [49, 10, 15], [186, 10, 15], [10, 15], [6, 16, 12, 3, 7], [11, 19, 18, 20], [213, 43, 38, 1132, 69, 34], [868, 868, 113, 1135, 202, 86], [267, 101, 474, 619, 505], [11, 20, 17, 27, 56], [213, 43, 38, 1132, 69, 34], [85, 4, 797, 57], [51, 37, 5, 92], [43, 2, 136, 338, 3858, 3859, 17, 9, 27], [295, 2, 136, 467, 2, 81, 8, 3860, 33, 109], [14, 2, 37, 93], [126, 11, 20, 17, 63], [45, 491, 21, 10, 15], [790, 1364, 439, 99, 203, 5, 49, 2223], [53, 55, 1672, 3861, 23, 73, 9, 160, 25, 44, 40, 42, 46, 5], [11, 20, 17, 27], [34, 825, 47, 54, 23, 633, 1192, 165, 2199, 13, 109, 19], [14, 2, 246, 22], [21, 181, 67, 4, 82], [48, 913, 179], [10, 15, 119, 72, 9, 277], [1634, 3862, 1319, 2, 3863, 359, 3864, 1049, 33, 2102], [465, 2224, 2, 508, 1064, 123, 4, 58], [14, 2, 246, 11], [627, 92, 294, 438, 90, 201, 402, 2, 1673], [62, 3, 2, 629], [14, 2, 117, 5, 53, 433], [11, 20, 10, 15], [17, 27], [39, 35, 548, 145, 143, 45], [10, 15], [294, 2, 54, 711, 52, 19, 2, 390, 17], [1674, 1675, 30], [2225, 321, 404, 13, 228, 459, 40, 1250, 401, 2023], [17, 273, 56], [35, 58, 54, 288, 375, 383], [149, 3, 8, 1058, 1198, 9, 179], [32, 10], [2226, 3865, 13, 554, 499, 12, 294, 2, 2226, 66, 9, 3866], [76, 28, 717, 643, 3, 646, 1676, 990, 100, 35, 440, 8, 413], [427, 179], [427, 179], [76, 28, 559, 604, 406, 1930, 3867, 3868], [48, 179, 3, 8, 2186], [17, 27, 3, 11, 20], [36, 118], [53, 55, 156, 3, 23, 542, 73, 9, 160, 25, 44, 40, 42, 46, 5], [2227, 21, 118, 86], [15, 93, 13, 3869, 3870, 80, 61, 10, 15], [6, 16, 12, 3, 7], [26, 52, 172, 905, 9, 25, 40, 42, 46, 5], [11, 3871, 1815, 199, 1046, 37, 4, 174], [158, 10, 15], [26, 197, 477, 3872, 9, 189, 98, 178, 98, 144, 255], [693, 694, 3873, 27], [47, 20, 60, 9, 201, 27, 78, 148, 63, 72], [65, 19, 4, 549, 248], [3874, 156, 980, 308, 66, 9, 636], [113, 1135, 202, 86], [11, 35, 68, 3, 699, 209, 358, 30], [142, 227, 3, 174, 3875, 1320, 3876, 497, 3877, 3878], [142, 227, 3, 174, 719, 668, 605, 31, 805, 412, 2, 1127, 1020], [133, 19, 70], [6, 16, 12, 3, 7], [123, 4, 124, 854, 2, 158, 200, 40], [175, 175, 175, 175], [413, 150, 9, 4, 829, 3, 297, 808, 33, 99], [6, 16, 12, 3, 7], [129, 130, 60, 446, 37, 284, 2, 417, 993], [215, 17, 3879, 86], [225, 2228, 3880, 3881, 464, 910, 2229, 1161, 1235, 1225, 3882], [6, 16, 12, 3, 7], [6, 16, 12, 3, 7], [213, 43, 38, 1132, 69, 34], [6, 16, 12, 3, 7], [1321, 54], [3883, 971, 67, 4, 82], [1605, 2, 75, 395], [11, 19, 18, 34, 15, 20, 10, 13, 3884], [49, 17, 27], [49, 17, 27], [413, 150, 9, 4, 829, 3, 297, 808, 33, 99], [53, 55, 1186, 1586, 279, 196, 9, 25, 44, 87, 46, 5], [979, 323, 19, 13, 3885, 586], [6, 16, 12, 3, 7], [70, 2, 15, 169, 202, 286, 10, 13], [11, 20, 17, 27], [4, 77, 2, 19, 3886, 1463], [184, 108, 2230, 18], [533, 3887, 978, 4, 1093, 2, 1546, 610, 1677, 610, 1677], [36, 105, 4, 877, 19, 2, 11], [6, 16, 12, 3, 7], [6, 376, 12, 3, 7], [89, 1055], [85, 35, 68, 5], [3888, 3889, 3890], [341, 45, 1277, 300, 4, 371], [20, 19, 3891], [38, 216, 336, 1136, 9, 206, 134, 8, 130, 2046, 8, 85, 25], [6, 16, 12, 3, 7], [122, 3892, 3893, 2, 1158, 300, 2231], [515, 4, 229, 5, 153, 403], [2232, 153, 403, 71, 4, 229, 8, 515, 747, 5, 8, 403], [89, 179], [14, 2, 68, 3, 2, 11], [32, 3894, 35, 68, 143, 289], [10, 15, 13, 186], [47, 89, 11, 265, 155, 10, 9, 516, 809, 209, 35, 68, 143, 11, 1039], [1026, 275, 270, 30], [47, 10, 9, 27, 94, 39, 42, 247, 2, 1678, 143, 8, 11, 2233, 200], [14, 2, 68, 3, 2, 186], [282, 2234, 3895, 242, 5, 85], [35, 62, 2, 22, 31, 305], [3896, 1049, 33, 3897], [3898, 3899, 43, 53, 17, 431, 417, 78, 117, 59, 21, 314], [39, 35, 19, 8, 508, 74], [1679, 339, 973], [650, 1680, 2235], [11, 20, 24, 18, 2236, 3900], [1105, 1106, 3901, 293, 579, 536, 5, 66, 26], [22, 772, 45, 4, 211, 57], [43, 821, 2, 11], [14, 2, 102, 184, 108], [10, 15], [78, 4, 103, 110, 13, 318], [103, 697, 2237, 13, 3902, 159, 2, 123, 1545, 110, 318], [199, 271, 2238, 695, 5, 357, 26, 9, 3, 38, 274, 1079, 579, 246, 9, 293, 13, 182, 194], [17, 63], [126, 11, 20, 17, 63, 13, 32, 3903], [126, 14, 2, 19, 65], [14, 2, 19, 65], [153, 986, 78, 4, 75, 292], [170, 3904, 313, 13, 20], [126, 14, 2, 19, 65], [14, 2, 19, 65], [34, 548, 36, 19, 2, 3905, 3906, 3907, 451, 219, 3908, 3909, 21, 3910, 3911], [30, 100, 3912, 38, 54, 3913, 125, 363, 45], [6, 16, 12, 3, 7], [14, 2, 957, 5, 3914, 281, 33, 1376, 538], [14, 2, 347, 237, 312, 1933, 28, 161], [10, 15, 11], [14, 2, 24, 2, 2239, 26], [6, 3915, 141, 12, 3, 7], [508, 383], [3916, 30, 412, 1131, 26], [3917, 361, 318, 90, 3918, 1296, 438], [1322, 54, 251, 13, 454, 48], [42, 4, 77, 2, 428, 38, 3919, 143, 600], [770], [966, 66, 3920, 1264, 600], [11, 20, 10, 15], [6, 573, 12, 3, 7], [22, 67, 4, 58], [8, 720, 9, 409, 38, 25, 187, 5, 2240, 34, 615], [985, 85, 1247, 21, 105, 4, 392], [17, 27], [3, 159, 121, 9, 4, 29, 44, 1681], [512, 149, 3, 500, 28, 236, 182, 2026, 2027, 316], [126, 65, 19, 86], [65], [512, 149, 1209, 31, 2241, 2242, 38, 644, 759, 9, 393], [39, 78, 4, 19, 8, 23, 65, 66, 3, 52], [126, 8, 226, 65, 9, 25], [3921, 884, 3, 8, 2243, 3922], [11, 20, 17, 27], [11, 10, 15, 13, 32, 3923, 3924, 3925], [249, 51, 37], [66, 9, 2055, 5, 65], [420, 2244, 3926], [126, 48, 959, 4, 1011], [23, 65, 138, 199, 187, 9, 25, 31, 42, 46], [48, 489, 179], [30, 120, 21, 644, 1413], [913, 11, 48, 67, 4, 102, 496, 977, 3927, 3928], [126, 14, 2, 220, 3, 2, 236, 283, 119, 10, 9, 4, 1603], [380, 17, 5, 235, 21, 103, 38, 54, 236], [10, 1287, 75, 15, 303], [11, 20, 10, 15, 70], [32, 9, 14, 2, 58, 3929, 31, 22, 256], [1264, 128], [249, 1285, 1286, 3, 156], [49, 37, 1323, 1966, 209, 8, 114, 3930, 123, 4, 565, 2, 114, 3931], [91, 74, 794, 18], [236, 283, 18], [86, 28, 3932, 3933, 526, 3, 20, 214], [1663, 747, 2030, 681], [15, 10, 3, 20, 32, 1682], [34, 517, 8, 147, 3934, 31, 8, 438, 3, 8, 97, 137, 360, 176, 3935, 2245, 2246], [4, 77, 2, 1568, 215, 387, 3, 454, 60], [1239, 2217, 2218], [589, 241, 2247, 3, 11], [99, 37], [19, 2, 617, 176, 886, 655], [11, 32, 539, 13, 2248, 2249], [26, 328, 1092, 708, 446, 66, 708, 71, 25], [48, 489, 50, 257, 423], [14, 2, 232, 11], [43, 19, 2, 128, 33, 13, 38, 1075], [3936, 90, 799, 182, 8, 10, 9, 29, 112, 15], [34, 335, 176, 886, 655], [43, 1118, 13, 176, 886, 655], [11, 20, 10, 15], [6, 332, 12, 3, 7], [43, 1118, 13, 176, 886, 655], [34, 198, 57, 1118, 13, 176, 886, 655], [34, 198, 57, 1118, 13, 176, 886, 655], [1518, 23, 138, 328, 73, 99, 537, 1665, 171, 1134, 119, 4, 29], [11, 253, 195, 194, 71, 154, 13, 134, 221], [3937, 54, 156, 980, 308, 66, 9, 25], [14, 2, 424, 1168], [6, 16, 12, 3, 7], [34, 261, 21, 588, 8, 48], [30, 120, 527, 867, 374, 335], [11, 350, 810, 67, 4, 82, 83, 1670], [2250, 707, 1414, 3938, 13, 1318, 1813, 3939, 2251, 3940, 1318], [280, 229, 5, 3941, 1101, 403], [11, 495, 3942], [14, 2, 24, 2, 49], [49, 17, 27], [6, 332, 12, 3, 7], [11, 20, 10, 15], [6, 573, 12, 3, 7], [10, 9, 277, 34, 3943, 15, 422, 13, 8, 235], [11, 20, 19], [156, 669, 1285, 1286, 5, 348, 171, 44, 40, 42, 46, 5, 348], [11, 166, 35, 75, 727, 37, 3944], [34, 136, 113, 1101, 1032], [26, 197, 188, 250, 611, 26, 962, 9, 189, 98, 178, 98, 144, 255], [70], [39, 35, 3945, 129, 191, 383, 47, 106, 89], [35, 103, 38, 110, 283, 13, 38, 396, 284], [122, 48, 830], [114, 1618], [34, 624, 8, 111, 1025, 360, 1618, 3, 20, 3946, 148, 3947, 21, 82, 5, 72, 34], [11, 51], [266, 19, 855, 70], [2252, 9, 14, 2, 58, 3948, 91, 74, 1778, 77, 2, 68, 3, 2, 61, 2, 15, 93], [14, 2, 2155, 23, 65, 73], [6, 16, 12, 3, 7], [15, 10, 13, 11, 20, 95, 32, 116, 2253], [417, 9, 4, 77, 2, 957, 5, 8, 1558], [213, 92, 676, 356], [14, 2, 24, 2, 91, 74], [8, 11, 67, 4, 82, 496, 13, 8, 32, 3949, 5, 83, 1542], [14, 2, 24, 2, 11, 20, 17], [6, 16, 12, 3, 7], [49, 17, 27], [11, 20, 17, 27], [45, 200, 24, 3950, 2063, 1602], [6, 16, 12, 3, 7], [84, 206, 154], [11], [1137, 705, 145, 164, 4, 874, 94, 39, 792, 1445, 1229], [36, 4, 29, 36, 23, 138, 171, 9, 665, 30], [6, 16, 12, 3, 7], [76, 28, 260, 36], [789, 600, 105, 4, 1258, 990, 8, 318, 90, 50, 479], [280, 845, 684, 5, 264], [8, 84, 35, 62, 2, 8, 1138, 192, 34, 284, 72, 2, 999, 13, 161], [52, 83, 3951, 3952, 3, 8, 1683, 478, 35, 62, 2, 1867, 1139, 181, 78, 62, 2, 8, 195], [36, 4, 29, 36, 23, 138, 171, 9, 665, 30], [32, 14, 1140, 2, 36, 243, 2, 8, 32, 60, 80, 1001, 69, 8, 32, 24, 2, 8, 23, 36, 80, 8, 36, 23, 36, 171, 18, 816], [39, 42, 4, 77, 2, 68, 143, 47, 36, 94, 39, 42, 247, 2, 58, 38, 54, 1436, 72, 9, 549, 2, 8, 304, 1436, 9, 1324, 781], [36, 4, 29, 36, 23, 138, 171, 9, 665, 30], [32, 14, 1140, 2, 36, 243, 2, 8, 32, 60, 80, 1001, 69, 8, 32, 24, 2, 8, 23, 36, 80, 8, 36, 23, 36, 171, 18, 816], [36, 583], [3953, 51, 92, 153, 9, 2254, 8, 3954, 71, 4, 3955, 5, 8, 250], [36, 4, 29, 36, 23, 138, 171, 9, 665, 30], [36, 4, 29, 36, 23, 138, 171, 9, 665, 30], [32, 14, 1140, 2, 36, 243, 2, 8, 32, 60, 80, 1001, 69, 8, 32, 24, 2, 8, 23, 36, 80, 8, 36, 23, 36, 171, 18, 816], [14, 2, 19, 262, 36], [36], [36, 4, 29, 36, 23, 138, 171, 9, 665, 30], [97, 1047, 172, 8, 408, 121, 67, 4, 319], [36, 4, 29], [32, 14, 1140, 2, 36, 243, 2, 8, 32, 60, 80, 1001, 69, 8, 32, 24, 2, 8, 23, 36, 80, 8, 36, 23, 36, 171, 18, 816], [36, 24, 18], [32, 14, 1140, 2, 36], [35, 117, 143, 36, 43, 2, 75, 5, 40, 437, 21, 72, 105, 3956, 3957, 34, 69, 798], [30, 24, 5, 2, 8, 20, 60], [47, 215, 17, 9, 4, 29, 47, 705, 9, 1045, 39, 35, 792, 183, 550, 35, 792, 603], [19, 2, 3958, 3959, 1513], [14, 2, 151, 265, 3, 99], [51, 37, 5, 88], [186, 10, 15], [45, 122, 3, 13, 22], [10, 15, 13], [51, 37, 5, 88], [215, 21, 99, 123, 4, 563, 1000, 13, 175], [14, 2, 62, 2, 807, 48], [11, 19, 18], [213, 92, 676, 356], [2255, 1097, 1684, 1637, 298], [35, 102, 596, 5, 529], [27, 56, 5, 8, 45, 17], [19, 2, 418, 3, 350, 810], [45, 22], [45, 22], [45, 122, 3, 22], [45, 772, 3, 3960], [51, 37, 5, 88], [316, 652, 133, 4, 211, 57, 3, 22], [6, 3961, 12, 3, 7], [14, 2, 1451, 8, 184, 108, 383, 13, 193], [1221, 229, 516, 1101, 508], [92, 51, 37], [1026, 18], [92, 51, 37], [37, 5, 92], [15, 10, 13, 271, 1039, 20, 20, 13, 32, 116, 3962], [34, 380, 2045, 6], [2256, 775, 485, 3963, 26, 9, 25, 44, 87, 46, 5], [2236, 3964, 193, 33, 52, 9, 27, 56, 33, 186, 34, 63, 21, 1537, 338, 193, 90, 362, 327, 20, 19], [3965, 265, 1058, 3, 7, 413, 6, 1869, 180, 2, 75, 402], [1026, 18], [142, 227, 3, 174, 719, 668, 605, 31, 805, 412, 2, 2257], [19, 806, 3966, 9, 25], [104, 584, 264, 479, 30], [49, 10, 15], [142, 227, 3, 174, 719, 668, 605, 31, 805, 412, 2, 1127, 1020], [32, 3967, 239, 3, 272], [34, 115, 125, 1091, 3968, 5, 8, 985, 83], [15, 93, 13, 3969, 3970, 80, 61, 10, 15], [242, 70, 1091], [14, 2, 62, 2, 41], [118, 111, 28, 3971, 73, 139], [50, 19, 2, 130, 1685, 21, 253, 1256], [22, 67, 4, 268], [997, 846, 796], [106, 96, 173], [177, 555, 18, 13, 1472, 1174, 23, 138], [18, 28, 559, 1325, 3972], [247, 2, 117, 8, 187, 33, 51, 150, 92], [49, 17, 315], [14, 2, 62, 2, 106, 743], [149, 4, 29], [43, 427, 639], [427, 50, 257, 423, 496, 34, 512], [43, 38, 54, 29, 427], [14, 2, 246, 22, 294, 2, 45], [2258, 89, 18], [50, 971, 5, 41, 174], [193, 633, 1195, 1196], [50, 320, 31, 857], [39, 43, 2, 703, 8, 678, 3, 3973], [17, 27, 56, 5, 299], [22, 9, 4, 29, 39, 124, 402, 8, 1002, 181, 933], [34, 131, 658, 1653, 21, 1653, 5, 26, 28, 476, 102, 959], [3974, 105, 4, 37, 3975, 251], [48, 86, 1153, 18, 164], [17, 27, 3, 140], [3976, 489, 97, 3977], [34, 198, 57, 323, 162, 13, 3978, 13, 236, 1075], [51, 37, 88], [61, 17, 63], [6, 3979, 12, 3, 7], [6, 16, 12, 3, 7], [14, 2, 371, 2259, 59], [11, 19, 18], [6, 1371, 12, 3, 7], [14, 2, 3980, 41], [43, 1003, 35, 24, 2, 91, 74, 328, 199, 112, 10, 81], [122, 32, 3981, 3982, 3983, 2, 420, 621, 351, 1561], [6, 16, 12, 3, 7], [6, 16, 12, 3, 7], [53, 76, 252, 460, 71, 206, 154], [6, 16, 12, 3, 7], [6, 16, 12, 3, 7], [6, 673, 12, 3, 7], [69, 2, 103, 110, 283, 13, 318], [6, 16, 12, 3, 7], [35, 103, 91, 74, 2260, 13, 1530], [11, 1039, 71, 154, 3, 172], [126, 19, 2, 23, 323, 31, 1102, 2, 920], [53, 76, 252, 460, 71, 206, 154], [85, 1012, 4, 29, 2261, 4, 29, 527, 41, 1913], [14, 2, 24, 2, 41], [2262, 90, 201, 506, 13, 3984, 150, 33, 2263, 3, 97, 3, 20], [26, 197, 188, 250, 611, 26, 962, 9, 189, 98, 178, 98, 144, 255], [3985, 197, 352, 250, 571, 26, 1326, 9, 189, 98, 178, 98, 144, 176], [53, 76, 252, 460, 71, 206, 154], [118, 2, 525, 145, 1637], [1123, 225, 9, 4, 1236], [1657, 27], [22, 9, 699, 13, 10, 303, 21, 303], [11, 20, 21, 20, 4, 29], [43, 11, 19, 2, 8, 2069, 3986], [65, 111], [84, 14, 2, 118, 23, 53], [8, 193, 3987, 3988, 1873, 180, 19, 2, 8, 2264, 948, 377, 560, 440], [17, 27, 3, 140], [11, 20, 17, 27], [17, 27, 3, 140], [14, 2, 103, 396, 627, 383], [3989, 979, 35, 75, 885, 1431, 219, 1643, 38, 1110], [1645, 4, 132, 1296, 3, 20], [36, 35, 62], [467, 2, 81, 10, 3, 3990], [130, 1362, 4, 507, 811], [3991], [35, 103, 54, 153, 164, 112, 367, 3, 21, 35, 429], [11, 20, 17, 27], [6, 210, 12, 3, 7], [6, 210, 12, 3, 7], [6, 210, 12, 3, 7], [15, 10], [6, 369, 12, 3, 7], [467, 2, 62, 2, 106, 2265], [222, 449, 86, 78, 4, 58, 112, 3992, 8, 1104], [15, 93, 13, 3993, 3994, 80, 61, 10, 15], [14, 2, 24, 2, 169, 17, 21, 43, 10], [511, 5, 11, 929], [1321, 293, 9, 9, 189, 98, 178, 98, 144, 255], [79, 55, 485, 1249, 195, 171, 2, 348, 79, 116, 5, 23, 260, 543, 156, 279, 196, 23, 138, 9, 25, 44, 87], [14, 2, 24, 2, 60], [6, 16, 12, 3, 7], [6, 3995, 12, 3, 7], [6, 16, 12, 3, 7], [11, 10, 924], [15, 93, 13, 3996, 3997, 80, 61, 10, 15], [6, 337, 12, 3, 7], [41, 275, 270, 18], [6, 714, 12, 3, 7], [6, 16, 12, 3, 7], [661, 100, 35, 307, 8, 22, 1139], [1268, 413, 6, 16], [6, 16, 12, 3, 7], [6, 16, 12, 3, 7], [718, 751, 99], [11, 20, 17, 27, 56, 21, 10, 15], [6, 16, 12, 3, 7], [177, 55, 482, 73, 9, 160, 25, 44, 40, 42, 46, 5], [6, 16, 12, 3, 7], [6, 16, 12, 3, 7], [6, 785, 12, 3, 7], [41, 24, 18, 275, 270, 18], [234, 23, 504, 485, 3998, 2, 23, 260, 804, 234, 19, 157, 9, 25, 44, 46, 5], [6, 16, 12, 3, 7], [6, 1311, 12, 3, 7], [411, 11, 206, 154, 44, 666, 682, 3, 468, 195, 9, 29, 1028], [6, 16, 12, 3, 7], [142, 227, 157, 3, 2266, 1004, 1686], [78, 4, 472, 398, 360, 589], [142, 227, 157, 3, 2266, 1004, 1686], [8, 53, 244, 33, 8, 50, 1992, 1131, 1185, 909, 33, 8, 1257, 1643, 1644, 9, 648], [15, 93, 13, 3999, 4000, 80, 61, 10, 15], [6, 16, 12, 3, 7], [6, 1440, 12, 3, 7], [6, 16, 12, 3, 7], [6, 16, 12, 3, 7], [49, 17, 27], [8, 84, 2267, 4001, 28, 4002, 69, 1517, 28, 72, 34, 836, 3, 999], [6, 16, 12, 3, 7], [11, 209], [721, 231, 9, 4, 206, 3, 1327, 290, 523, 642], [6, 16, 12, 3, 7], [6, 16, 12, 3, 7], [6, 16, 12, 3, 7], [6, 16, 12, 3, 7], [6, 1440, 12, 3, 7], [6, 16, 12, 3, 7], [371, 101, 31, 1438, 168, 1033, 181, 50, 236, 168, 4003], [6, 16, 12, 3, 7], [6, 4004, 12, 3, 7], [6, 16, 12, 3, 7], [10, 15, 61, 4005], [6, 16, 12, 3, 7], [17, 33, 2268, 9, 419], [106, 96, 173], [106, 96, 173, 23, 585], [2269, 8, 926, 28, 390, 927, 9, 1054, 239, 5, 304, 96, 751, 72, 9, 2003, 219, 8, 839], [10, 15, 364, 31, 285], [6, 16, 12, 3, 7], [35, 353, 99, 2, 60], [4, 77, 2, 353, 313, 3, 99], [26, 197, 188, 250, 611, 26, 962, 9, 189, 98, 178, 98, 144, 255], [50, 195, 1636], [6, 16, 12, 3, 7], [6, 399, 12, 3, 7], [6, 16, 12, 3, 7], [41, 4, 29], [134, 4006, 3, 7, 71, 4007], [26, 1627, 98, 5, 26, 9, 155, 2270], [14, 2, 24, 2, 91, 74], [849, 66, 25, 3, 156, 4, 77, 2, 335, 95, 230], [30, 120, 527, 867, 374, 335], [14, 2, 24, 2, 91, 74], [312, 102, 56], [6, 16, 12, 3, 7], [6, 492, 12, 3, 7], [69, 2, 81, 8, 49, 10, 80, 61, 10, 74], [51, 37, 5, 88], [10, 15, 5, 135, 21, 186], [14, 2, 117, 8, 45, 122, 3, 5, 223], [10, 15, 2, 24, 2, 65, 21, 136, 4008], [32, 575, 2, 424, 242, 483, 28, 31, 65], [8, 779, 110, 1551, 71, 4, 211, 5, 8, 982, 1124, 21, 8, 808], [89, 18], [11, 68, 3], [14, 2, 68, 3, 2, 11], [30, 1674, 1675, 1519], [4009, 81, 2, 308], [101, 31, 578, 690, 71, 4, 4010], [85, 1240, 146, 86], [839, 19], [8, 218, 2271, 528, 1156, 2, 4011, 4012, 4013, 5, 887, 4014, 549, 25], [4015, 4, 4016], [78, 148, 34, 136, 8, 287, 17, 33, 4017, 417, 838, 8, 4018, 30, 120, 94, 247, 2, 58, 38, 287, 108], [236, 283, 18, 147, 4, 132, 1502], [48, 4, 229], [81, 175, 4019, 31, 159, 4020], [14, 2, 117, 185, 5, 41, 208], [1218, 177, 428, 1027, 306, 149], [1272, 475, 471], [184, 108, 30, 139, 180, 463], [14, 2, 24, 2, 163], [115, 4021, 4022, 728], [107, 70, 2, 702, 304, 1328, 1037, 881, 163, 909, 29, 4023, 4024, 4025, 4026], [6, 573, 12, 3, 7], [4, 77, 2, 4027, 2, 65, 80, 59, 244], [165, 2, 361, 4, 963, 3, 11], [39, 70, 8, 203, 33, 667, 1370, 242], [334, 13, 109, 271, 19, 32, 56, 33, 631, 19, 2, 271], [501, 21, 153, 1687, 3, 454, 1313, 254, 4028, 21, 4029], [11, 19, 18, 4030, 213, 198, 13, 20], [266, 9, 4, 29], [11, 20, 17, 27], [43, 19, 2, 720, 4031], [572, 18, 1688, 4032, 18], [14, 2, 115, 99], [14, 2, 24, 2, 41], [4033, 393, 164, 439, 93], [14, 2, 232, 91, 74], [638, 17], [4034, 439, 10, 139, 9, 233], [14, 2, 62, 2, 266], [4035, 4036, 9, 4, 77, 2, 122, 2208, 514, 160, 1587, 2, 4037, 690], [115, 4038, 1689, 1690], [14, 2, 62, 2, 162], [10, 81, 50, 22], [4039, 299, 334, 122, 3], [85, 498, 180, 2, 2272, 798, 194, 1066, 4040], [50, 4041, 13, 1528, 1491, 2273], [8, 53, 118, 9, 4, 29, 5, 225, 2274, 4042], [14, 2, 115, 1168], [249, 51, 37], [41, 185, 18], [98, 1328, 3, 1379, 137], [53, 55, 156, 156, 36, 79, 9, 25, 44, 40, 42, 46, 5, 50, 205], [49, 10, 15], [43, 114, 2, 75, 395, 5, 4043, 4044, 4045, 107, 4046, 35, 447, 333], [101, 2, 136, 338, 4047, 4048, 17, 9, 419], [213, 2174, 2173, 454], [4049, 122, 3], [39, 78, 50, 257, 151, 47, 664, 184, 313, 3, 11, 646, 557], [100, 71, 4, 132, 1185, 3, 2, 330, 60, 31, 8, 754, 1691, 70, 148, 2, 136, 5, 1076], [512, 48, 100, 21, 100, 4050], [17, 33, 2268, 9, 419], [86, 311, 22, 4051, 2275, 4052], [2276, 2277, 191, 580, 180, 2, 75, 451, 4053, 618, 152, 141, 21, 1023], [199, 320, 130, 253, 53, 833, 82, 981], [6, 16, 12, 3, 7], [53, 19, 13, 4054, 4055, 13, 628, 53, 137, 9, 233], [6, 16, 12, 3, 7], [53, 55, 52, 2278, 4056, 73, 160, 25, 44, 40, 42, 46], [76, 28, 919, 4057, 4058], [1327, 221, 3, 326, 97, 342, 4059, 97, 71, 1461, 33, 320, 130, 111, 3, 11], [11, 1692, 4060, 230, 3, 2279, 447, 2191, 592, 509, 34, 136], [11, 650], [11, 9, 154, 3, 252, 1457, 1317, 988, 989, 586], [85, 4, 307, 185], [11, 9, 154, 13, 1191, 221, 40, 1317, 109], [53, 76, 252, 460, 71, 206, 154], [6, 16, 12, 3, 7], [35, 4061, 22, 4062, 2, 45], [2280, 1575, 145, 170, 3, 8, 264], [1116], [36, 19, 18], [10, 239], [32, 4063, 4064, 35, 307, 8, 319, 108], [6, 16, 12, 3, 7], [6, 16, 12, 3, 7], [542, 164, 648, 94, 2013, 1628, 9, 1053, 21, 252, 484, 110, 35, 75, 1273, 3, 789, 1275, 542, 404], [114, 2012, 25], [53, 55, 52, 73, 160, 25, 44, 40, 42, 46, 5], [4065, 4066, 86], [4067, 2281, 4068, 1564, 1329, 5, 459, 21, 1329, 5, 459, 151, 4069, 13, 362, 524], [107, 175, 398, 4070, 4071, 4072], [14, 2, 62, 36, 40, 305], [6, 332, 12, 3, 7], [11, 27], [4, 77, 2, 62, 2, 8, 11], [6, 16, 12, 3, 7], [14, 2, 353, 313, 3, 91, 74], [22, 90, 547, 29], [35, 58, 4073, 31, 235], [6, 301, 12, 3, 7], [216, 41, 185, 4, 29], [6, 2148, 12, 3, 7], [24, 18], [32, 14, 2, 24, 2, 8, 83], [215, 24, 18], [737, 9, 8, 65, 171], [10, 15, 70], [103, 4074, 396, 4075, 13, 175, 113, 1392, 4076], [32, 9, 247, 2, 115, 8, 242, 5, 38, 153, 83], [10, 15], [4077, 4078, 790, 190], [175, 94, 1907, 292, 5, 296, 91, 74, 9, 4, 4079, 338, 4080, 4081, 9, 2282], [10, 15, 364, 31, 285], [32, 660, 2, 1261, 2, 466, 236, 3, 52, 21, 2052, 13, 4082, 457], [14, 2, 68, 3, 2, 41], [318, 13, 4083, 113, 175], [51, 37, 5, 88], [35, 62, 2, 11, 36, 18], [39, 42, 132, 104, 30, 94, 247, 2, 58, 38, 271, 147, 78, 148, 69], [8, 755, 486, 13, 4084, 4085, 90, 487], [11, 68, 3, 18], [52, 172, 177, 55, 4086, 42, 87], [295, 2, 63, 140, 17, 13, 32, 4087, 4088], [216, 60, 278, 154, 2196, 154], [14, 2, 353, 184, 108], [81, 4089, 4090], [48, 4091], [48, 251, 37], [22, 4, 132, 243], [185, 4, 29, 251, 18], [49, 1657, 315], [516, 501, 3, 312, 1190], [664, 2283, 30], [53, 55, 432, 630, 73, 9, 160, 25, 40, 42, 46, 5, 50, 205, 79, 40, 8, 73], [163, 18], [4, 77, 2, 1372, 6, 3, 23, 200, 3, 306, 32], [29, 31, 305, 118, 2, 36, 838, 386], [15, 10, 32, 1682, 20], [2146, 24, 1648, 13, 54, 4092], [467, 2, 122, 678, 2, 769, 1139], [41, 111], [101, 31, 578, 30, 50, 4093, 2, 224, 283, 182, 1381, 3, 38, 351, 71, 4, 4094, 236, 283, 18], [213, 92, 81, 1693, 21, 1330, 50], [51, 37, 5, 92], [732, 92, 81, 1693, 21, 1330, 50], [81, 3, 163], [22, 4, 704], [14, 2, 353, 8, 130, 374], [22, 4, 324], [1432, 59, 2139], [36, 190], [53, 55, 468, 468, 183, 1295, 9, 25, 5, 40, 42, 46], [14, 2, 68, 3, 2, 49], [62, 155, 534, 65, 31, 83, 2, 65, 248, 23, 226], [17, 27, 56], [4095, 34, 2284, 1256], [15, 8, 10, 13, 4096, 4097, 5, 11, 1242, 11], [218, 612, 485, 1989, 2285, 4098, 260, 5, 23, 260, 543, 669, 870, 4099, 165, 787, 157, 23, 138, 9, 25], [41, 4100, 654], [35, 68, 831, 114], [85, 180, 2, 75, 4101], [35, 62, 2, 22, 155, 62, 2, 390, 13, 41, 422, 124, 18, 28, 138, 122, 3, 13, 223], [188, 4102, 4103, 296], [35, 68, 831, 41, 292, 10, 965, 105, 4, 2286, 442], [50, 133, 19], [48, 86, 18, 164, 1153, 1694, 321], [115, 4104, 1675], [72, 4105, 13, 41, 4106], [32, 4107, 180, 2, 15, 861, 10], [86, 28, 45, 4108], [23, 235, 96, 173], [126, 14, 2, 117, 5, 8, 53], [48, 4109, 5, 48, 66, 26, 9, 4, 1088, 13, 476], [78, 4, 117, 11, 2, 18, 1695, 13, 4110, 4111, 1072, 2, 685, 57, 40, 42, 442], [8, 4112, 258, 2287, 4113, 83, 105, 4, 62, 2, 8, 53, 2, 117, 1254], [14, 2, 209, 2, 11], [6, 301, 12, 3, 7], [15, 10, 32, 1682, 20, 20], [1090, 577], [4, 77, 2, 19, 59], [11, 20, 17, 63, 21, 10, 15], [6, 469, 12, 3, 7], [6, 469, 12, 3, 7], [6, 469, 12, 3, 7], [6, 469, 12, 3, 7], [36, 67, 4, 136, 13, 4114, 155, 23, 412, 100, 378, 31, 1269, 53], [6, 301, 12, 3, 7], [60, 192, 188, 33, 66, 26, 9, 359, 303], [473, 111, 28, 921, 183, 21, 230, 108], [11, 20, 17, 63, 21, 10, 15], [1225, 1043, 1044, 4115, 50, 1365, 359, 19, 2, 8, 754, 121, 4116], [199, 320, 130, 253, 53, 833, 82, 981], [70, 13, 106, 59, 19], [6, 16, 12, 3, 7], [94, 247, 2, 68, 5, 2, 11, 39, 117, 104, 30, 269, 34, 69, 762, 119, 39, 78, 4, 241, 153, 113], [84, 838, 1257], [512, 759, 1532, 425, 426], [149, 707], [115, 1572, 1043, 1044], [516, 4117, 3, 297, 2288, 2289], [115, 1572, 2290, 2291], [6, 16, 12, 3, 7], [45, 1111, 50, 72, 51, 233], [24, 381, 11, 32, 4118], [11, 91, 74], [4119, 11, 20, 17, 13, 4120, 545, 119, 182, 33, 4121], [209, 358, 30], [822, 4122, 11, 209], [11, 60], [11], [213, 11], [50, 418, 78, 75, 295, 57, 3, 8, 121, 40, 1696, 40, 1330, 148], [287, 30], [6, 2033, 12, 3, 7], [380, 8, 2292, 44, 72, 9, 50, 257, 233], [6, 332, 12, 3, 7], [6, 369, 12, 3, 7], [14, 2, 246, 99, 5, 47, 54, 607, 182, 72, 35, 62, 2, 195], [36, 21, 36, 105, 4, 877, 19, 2, 11], [99, 89, 291], [78, 148, 34, 450, 4123, 4124, 31, 52, 4125, 1513, 119, 1065], [44, 666, 142, 37, 39, 124, 201, 14, 2, 102, 2118, 5, 8, 53, 658], [199, 320, 130, 253, 53, 833, 82, 981], [22, 45, 30], [134, 972, 774, 13, 2293, 1227, 289, 33, 489, 576, 4, 2294, 134, 233, 1615, 189, 31, 11, 45, 2, 331], [6, 301, 12, 3, 7], [24, 18], [109, 13, 4126, 4127, 481, 173, 233], [450], [30, 24, 5, 2, 8, 20, 60], [43, 2, 81, 10, 21, 117, 72, 2182, 5, 60], [22, 4, 1697, 2, 58, 128, 3, 8, 700], [306, 2295, 4, 1187, 28, 216, 3, 441], [11, 20, 17, 27], [48, 86, 18, 164], [11, 20, 10, 15], [48, 251, 30], [83, 198, 57, 13, 54, 193, 4128, 4129], [162, 18], [24, 18], [436, 59], [83, 198, 57, 13, 54, 193], [297, 48], [81, 8, 309, 83], [495, 17, 315], [186, 152, 141, 31, 1121, 2296, 9, 293, 13, 282, 119, 165, 21, 1331, 774, 165], [451, 184, 108, 438, 4130, 30], [39, 42, 27, 56, 33, 41], [14, 2, 657, 38, 41, 208, 31, 38, 604, 406], [126, 48, 251, 37], [11, 32, 239, 34, 63, 1214, 540, 8, 17, 338, 2229, 1368, 9, 326, 2297, 319], [10, 15, 31, 61], [10, 15], [86, 28, 229], [479, 30, 5, 113, 150], [11, 20, 10, 15], [15, 8, 10, 13, 4131, 4132, 5, 253, 114], [17, 27, 3, 140], [14, 2, 68, 5, 2, 22, 104, 757], [14, 2, 117, 41, 333], [177, 55, 598, 551, 36, 79, 9, 25, 40, 42, 46, 5, 73, 9, 57, 5, 228], [37, 32, 2, 568, 308], [2262, 13, 67, 4, 875, 13, 275, 50], [14, 2, 115, 8, 4133, 104, 1172], [213, 92, 676, 356], [2298, 27, 56], [186, 37], [14, 2, 24, 2, 36], [30, 12, 2, 15, 4134, 10], [1105, 1106, 4135, 34, 81, 982, 33, 6, 1332, 702, 11, 145, 2164], [1012, 4, 29], [22, 4, 263, 112, 45, 298], [15, 675, 10], [78, 4, 102, 2, 529, 155, 529, 5, 26], [41, 185, 2299, 9, 4, 29, 119, 641, 888], [27, 56, 33, 20, 34, 15, 10], [22, 10, 1541], [11, 18, 13, 1953, 1612, 396, 175, 683, 1169, 349, 9, 1000, 144], [35, 58, 346, 403, 28, 4136, 40, 11, 151, 317], [284, 74, 1893, 313, 31, 309, 85, 2, 54, 85], [106, 89], [186, 4, 29], [4137, 414, 4, 29], [147, 66, 4, 946], [720, 10, 911], [17, 63], [8, 11, 186, 26, 4138, 231, 194, 9, 211, 119, 574], [186, 2034, 30, 1209, 52, 342], [4139, 33, 8, 823, 4140, 9, 4, 174], [186, 152, 141, 31, 1121, 2296, 9, 293, 13, 282, 119, 165, 21, 1331, 774, 165], [11, 186, 9, 4, 946], [4141, 17, 63, 3, 11, 20], [49, 17, 315], [166, 4, 263], [6, 332, 12, 3, 7], [48, 86, 18, 164, 39, 42, 247, 2, 102, 2, 529, 5, 4142, 959, 43, 402], [36, 18], [4143, 17, 63, 3, 11, 20], [645, 414, 5, 859, 179, 34, 512], [14, 2, 102, 43, 38, 251, 37], [14, 2, 102, 251, 4, 324], [6, 16, 12, 3, 7], [115, 4144], [6, 1371, 12, 3, 7], [555, 194, 4145, 13, 100, 1639, 1640], [345, 311, 109, 1193, 1194], [76, 28, 413, 435, 1043, 1044], [76, 28, 413, 435, 2300, 2301], [131, 54, 207, 4146, 4147], [43, 1003, 2, 284, 2302, 2303, 4148, 563, 51, 831, 47, 23, 235], [6, 16, 12, 3, 7], [223, 18], [173, 33, 8, 133, 1698, 260, 145, 3, 8, 137, 4149, 26, 176], [2304, 22, 18], [6, 16, 12, 3, 7], [517, 506, 690], [34, 688, 8, 116, 1664, 3, 20, 11, 95], [6, 16, 12, 3, 7], [495, 162, 4150, 3, 8, 54, 4151, 40, 873, 478], [6, 16, 12, 3, 7], [198, 57, 83, 859, 21, 48, 3, 8, 2305, 2245, 2246], [34, 15, 47, 20, 11, 10], [6, 399, 12, 3, 7], [4152, 27], [4153, 225, 659, 2306], [48, 489, 40, 4154, 4155, 179, 8, 758, 9, 4156, 527, 8, 229, 1982, 241], [711, 1699], [11, 209, 10], [2116, 78, 4, 335, 34, 69, 161, 2, 624, 72], [882, 510, 256, 58, 904, 13, 11, 180, 2, 75, 395, 5], [6, 16, 12, 3, 7], [36, 35, 75, 243, 699, 14, 2, 347, 1243, 572, 242], [1267, 654, 29, 351, 4157, 514, 2307, 1211, 1333, 393], [43, 322], [554, 66, 30, 120], [11, 19, 18], [39, 42, 14, 2, 37, 539, 453], [572, 3, 47, 85], [17, 9, 132, 27, 31, 26], [112, 36, 9, 243, 72, 9, 507, 386], [39, 42, 354, 76, 367, 143, 8, 262, 36], [855, 162, 24, 850, 32, 265], [110, 1700, 50, 1271, 846, 30, 120, 181, 8, 1271, 67, 875], [35, 68, 143, 36], [11, 17, 638], [6, 301, 12, 3, 7], [6, 492, 12, 3, 7], [2064, 71, 4, 811, 507], [79, 55, 97, 97, 23, 228, 1005, 9, 25, 44, 87, 46, 5, 73, 57, 5, 391], [53, 55, 40, 468, 468, 183, 1295, 44, 42, 46], [79, 55, 4158, 23, 228, 1005, 9, 25, 44, 87, 46, 5, 73, 57, 5, 391], [53, 55, 468, 468, 23, 53, 9, 25, 44, 87, 46, 5], [84, 381, 3, 8, 948, 406, 5, 8, 1701, 788, 33, 8, 2308], [84, 381, 3, 8, 4159], [4160, 2309, 205, 9, 4161], [79, 55, 97, 1047, 172, 23, 1005, 9, 25, 44, 87, 46, 5, 73, 57, 5, 391], [70, 2, 15, 169, 202, 286, 10, 13], [4162, 67, 59, 82, 5, 89, 631, 195, 118], [1785, 9, 1334, 43, 2, 81, 2, 49, 4163], [14, 2, 4164, 2, 2310, 188, 48], [26, 11, 1335, 66, 1336, 231, 194, 9, 25, 44, 87, 46, 5], [125, 223, 1088, 957, 4, 29], [152, 748, 9, 144, 181, 39, 35, 117, 143, 20], [37, 5, 88], [106, 96, 173], [791, 108, 67, 4, 837, 8, 336, 961], [14, 2, 102, 31, 4165, 48], [14, 2, 62, 2, 48], [14, 2, 102, 405, 519, 2, 115, 251, 13, 48], [14, 2, 102], [1563, 111], [717, 38, 351, 3, 65, 117, 30, 120], [616, 228, 59, 338, 45, 32, 2276, 2277, 3, 95], [84, 105, 4, 62, 2, 48, 405, 1011, 959], [131, 256, 5, 129, 31, 38, 129, 85], [14, 2, 58, 38, 1199, 147], [35, 298, 47, 341, 65, 2106], [1948, 18, 439, 1501, 520], [126, 513, 1036, 65, 73, 1065], [11, 10, 15], [11, 20, 17, 63, 13, 4166], [51, 37, 5, 88], [51, 37, 5, 88], [2311, 313, 3, 11, 71, 4, 206], [39, 42, 27, 56, 33, 45, 21, 43, 2, 117, 3, 2, 117, 38, 1158, 56, 442], [34, 825, 47, 54, 235, 72, 9, 38, 23, 633, 96], [14, 2, 68, 3, 2, 49], [397, 4167, 137, 9, 189, 98, 178, 98, 144, 415], [185, 67, 4, 82, 596, 5, 47, 85], [48, 203], [22, 67, 4, 268], [11, 20, 17, 27], [27, 56, 33, 61], [14, 2, 62, 2, 1616, 21, 1616], [22, 67, 4, 268], [51, 4168, 5, 88], [122, 4169, 2, 4170, 693, 694], [130, 1362, 170, 31, 194, 167, 81, 33, 4171, 265], [297, 204, 71, 4, 132, 834, 958, 31, 66], [101, 386, 294, 2, 36, 2312], [14, 2, 102, 31, 4172], [513, 101, 857, 386], [169, 764, 547, 29, 14, 2, 58, 204], [32, 660, 2, 457, 475], [10, 277], [6, 16, 12, 3, 7], [869, 132, 30, 3, 22, 199], [101, 461, 386, 119, 36, 401, 355, 13, 38, 100], [1277, 808, 13, 403], [48, 86, 18, 164, 2313, 86], [1337, 4173, 159, 21, 4174, 4, 29, 3, 11], [14, 2, 103, 38, 54, 184], [4175, 52, 756, 8, 218, 775, 9, 25, 44, 40, 42, 46, 5], [403, 978, 4, 4176, 2, 706, 4177], [17, 638], [51, 37, 5, 88], [14, 2, 62, 2, 36], [101, 31, 1391, 150, 461, 386], [39, 42, 4, 77, 2, 62, 2, 47, 2309, 48, 155, 237, 48, 1426, 5, 26], [23, 262, 52, 52, 261, 529, 19, 157, 23, 138, 218, 504, 485, 1644, 83, 1926, 4178, 9, 123], [225, 83, 31, 410, 3, 8, 1855, 478, 78, 50, 257, 75, 878], [11, 76], [2314, 2, 450, 4179, 33, 4180, 145, 5, 403, 13, 906, 153], [107, 2315, 150, 4, 2203, 219, 664, 184, 139, 3, 11], [26, 384, 366, 192, 302, 5, 188, 9, 167], [15, 2], [76, 28, 200, 2316, 2317], [130, 1685, 67, 4, 82, 4181, 654, 435, 765, 766], [4182, 414, 13, 84, 372, 179, 1702], [115, 23, 645, 679, 212, 561, 562], [6, 16, 12, 3, 7], [809, 102, 3, 4183, 48], [26, 352, 250, 571, 26, 4184, 9, 189, 98, 178, 98, 144, 255], [693, 694, 372, 63], [214, 4185, 4186, 35, 75, 361], [126, 22, 4, 29, 519, 13, 10], [100, 43, 38, 398, 13, 296, 901, 172, 159], [78, 4, 19, 3, 20], [30, 94, 1703, 3, 214, 1176], [43, 4187, 297, 395], [36, 4, 29], [32, 4188, 4189, 83, 265, 90, 201, 292, 2, 4190, 309, 83, 265, 4191], [163], [39, 35, 123, 853, 1040, 40, 214, 151, 317], [6, 16, 12, 3, 7], [84, 35, 878], [43, 2, 115, 1479, 1480, 460], [50, 54, 1123, 3, 5, 4192, 1123, 133, 40, 23, 1338, 1138, 818, 881], [4193, 767, 840, 13, 8, 10, 21, 8, 10, 9, 1339, 112, 382, 34, 284, 2, 999], [6, 4194, 12, 3, 7], [1190, 147, 13, 8, 70], [34, 69, 4195, 4196, 380, 4197, 21, 706, 319, 3, 104, 325, 352], [6, 1475, 12, 3, 7], [1545, 30], [261, 25, 23, 260, 543, 669, 1099, 165, 19, 157, 373, 40, 156, 669, 9, 25, 44, 87, 46, 5], [6, 2035, 12, 3, 7], [430, 148, 899, 458, 1704, 30, 527, 4198, 1703], [6, 1080, 12, 3, 7], [6, 376, 12, 3, 7], [6, 376, 12, 3, 7], [4199, 720, 199, 9, 25, 5, 40, 87], [9, 20, 25, 39, 2133, 444, 38, 358, 30], [49, 10, 15], [36], [41, 21, 22, 4, 704], [26, 187, 352, 9, 167, 1141], [26, 187, 188, 9, 167, 1141], [944, 5, 101], [689, 2318, 13, 51, 249, 124, 4200, 111, 28, 110, 229, 40, 159], [1339, 4201, 30, 5, 431], [4, 496, 4202, 223, 764, 41, 22, 120, 1135, 419, 2, 4203, 2, 307, 825, 167], [1244, 966, 242, 13, 11, 20], [271, 108, 105, 4, 1331, 334, 2031, 134, 1431, 293, 1076], [34, 15, 47, 11, 2227, 4204, 2, 68, 3, 822, 4205], [589, 444, 18, 28, 652, 360, 4206, 589, 90, 533, 652, 21], [34, 69, 4207, 117, 29, 303, 5, 238, 139], [4208, 4209, 9, 3, 43, 33, 354, 19, 2, 8, 4210, 2319, 84, 2, 75, 77, 2, 2320, 861, 6], [882, 336, 50, 961], [2321, 2322, 71, 4, 4211, 3, 8, 1651, 60], [10, 15], [4, 77, 2, 103, 110, 13, 318], [41, 385, 4, 29], [6, 16, 12, 3, 7], [14, 2, 62, 2, 36], [515, 4, 2323], [43, 2, 588, 128, 5, 8, 23, 235, 96], [11, 499], [638, 11, 20], [43, 359, 948, 19, 2, 26, 4212, 1000], [14, 2, 1252, 56, 127, 59], [39, 42, 354, 111, 2324, 2140, 2, 396, 3, 1300, 172, 8, 1613, 1614, 90, 4213, 172, 33, 159], [430, 4, 784, 32, 31, 253, 812], [221, 71, 14, 2, 62, 2, 8, 53, 433, 3, 26], [106, 96, 173], [6, 1705, 12, 3, 7], [14, 2, 62, 2, 36], [106, 96, 173], [14, 2, 62, 266, 5, 8, 85], [107, 28, 1306, 2, 51, 249], [36, 19, 83, 265, 4214, 32, 116, 4215], [56, 33, 109, 13, 40, 1205, 1955, 1265, 43, 10, 15, 13, 8, 340], [22, 4, 282], [50, 320, 31, 253, 812, 513, 101], [1810, 1300, 191, 580, 31, 22], [14, 2, 24, 2, 41], [11, 69], [43, 2, 457, 4216, 4217], [14, 2, 232, 22], [11, 153, 1078, 4, 5, 110], [34, 198, 546, 286, 65, 281, 2, 1314, 65, 208, 1381, 119, 148, 701, 4218], [10, 139, 30, 12, 2, 68, 4219, 167, 39, 42, 239, 34, 15], [8, 4220, 33, 4221, 1848, 9, 4, 29], [50, 320, 31, 253, 812], [1589, 57, 101, 88], [162, 3, 410, 584, 604, 406], [4222, 149, 18], [43, 568, 10, 15], [61, 10, 139, 10, 15, 69, 21, 190], [28, 48, 489, 758, 2092, 179], [14, 2, 68, 3, 2, 8, 186, 60], [39, 104, 18], [15, 93, 13, 1706, 352, 4223, 80, 61, 10, 15], [22, 4, 704], [170, 145, 3, 299, 4224, 107], [49, 10, 15], [22, 18], [420, 621, 27], [106, 96, 885], [3, 779, 515, 938, 3, 403], [2325, 27, 56, 34, 63, 4225, 3, 140, 21, 11, 20], [43, 2, 68, 143, 41, 13, 238], [11, 45, 4226, 1553], [19, 2, 36], [93, 764, 4227], [84, 67, 4, 82], [287, 421, 524, 1935, 246, 18, 59, 316, 2, 873, 21, 2326], [11, 20, 17, 63], [17, 27], [11, 18, 28, 2327], [94, 1218, 8, 4228, 1607, 4229, 360, 8, 281, 35, 75, 4230], [11, 20, 17, 63], [34, 103, 289], [4231, 4232, 68, 5, 358, 30, 13, 20, 21, 20], [1707, 192, 302, 5, 352, 9, 167, 240, 9, 269, 274, 339, 33], [34, 198, 57, 8, 560, 698, 463, 13, 133, 176, 2185], [2101, 8, 81, 1126, 13, 923], [336, 21, 421, 1417, 18], [994, 199, 67, 4, 319], [287], [49, 17, 27], [454, 929, 21, 479, 164, 170, 5, 1856, 4233, 1135, 151, 770], [14, 2, 597, 5, 8, 84], [312, 224, 219, 501, 4, 1959], [26, 9, 4, 263, 44, 40, 42, 46, 5], [34, 122, 54, 32, 2, 23, 2328, 21, 4234, 4235], [2329, 2330, 17, 419], [10, 15, 65, 86], [14, 2, 447, 914, 510, 28, 54, 85], [69, 15, 11, 20, 554, 95, 17, 10, 4236], [30, 4237, 10, 81], [718, 1142, 1059, 72, 86, 91, 74, 636, 520, 9, 4, 712], [6, 16, 12, 3, 7], [8, 84, 33, 326, 672, 4238, 293, 4239, 293, 4240, 293, 4241, 9, 179], [84, 13, 640, 96, 2331, 67, 4, 82, 1702], [76, 28, 4242, 604, 406, 71, 129, 521, 522], [76, 28, 259, 176, 4243, 372, 760, 761], [17, 27], [145, 4244, 4245, 104, 881, 35, 4246, 38, 118], [464, 36, 18], [1328, 33, 195, 19, 13, 225, 83, 4247, 4248, 40, 870], [78, 4, 103, 1000, 254], [777, 468, 1379, 589], [17, 13, 2329, 2330, 4249, 9, 27, 34, 63], [10, 1143, 3, 736], [14, 2, 198, 41, 208, 3, 22], [6, 16, 12, 3, 7], [6, 16, 12, 3, 7], [349, 9, 4, 237, 684, 360, 153, 4250, 113], [142, 227, 3, 174, 719, 668, 605, 31, 805, 412, 2, 2257], [234, 234, 807, 23, 260, 804, 807, 255, 19, 4251, 21, 252, 642, 401, 25, 40, 42, 46, 5], [14, 2, 58, 1201, 2332, 204], [467, 2, 627, 276, 120, 3, 22], [15, 8, 10, 13, 4252, 4253, 5, 11, 1242, 480], [836, 414, 5, 8, 1057, 1696, 9, 179], [272], [23, 99, 19], [14, 2, 62, 2, 91, 74], [78, 4, 68, 143, 36], [4254, 4255, 4256, 60, 9, 27, 21, 417, 9, 4, 77, 2, 68, 3], [104, 285, 78, 4, 75, 681], [6, 16, 12, 3, 7], [49, 17, 27], [4257, 145, 31, 309, 2, 54, 85], [49, 17, 27], [6, 210, 12, 3, 7], [6, 210, 12, 3, 7], [6, 210, 12, 3, 7], [498, 40, 274, 187], [14, 2, 24, 2, 11, 20], [14, 2, 62, 2, 36], [63, 11, 209], [1660, 10, 139, 194, 25, 3, 1096, 66, 397], [26, 290, 523, 95, 721, 231, 280, 150, 33, 530, 33, 241, 721, 231, 1415], [26, 98, 178, 98, 144, 176], [1707, 192, 98, 178, 98, 144, 255], [6, 337, 12, 3, 7], [6, 337, 12, 3, 7], [6, 492, 12, 3, 7], [6, 16, 12, 3, 7], [6, 492, 12, 3, 7], [6, 1834, 12, 3, 7], [6, 4258, 12, 3, 7], [126, 467, 78, 39, 81, 47, 10, 4259, 39, 42, 4260, 21, 72, 1143, 3, 736], [4, 77, 2, 19, 2, 104, 155, 781, 433], [14, 2, 62, 2, 22], [125, 109, 203], [177, 4261, 12, 5, 1292], [26, 8, 194, 9, 25, 112, 8, 4262, 552, 1336, 231], [6, 16, 12, 3, 7], [6, 1311, 12, 3, 7], [6, 337, 12, 3, 7], [6, 337, 12, 3, 7], [53, 55, 1338, 73, 160, 25, 44, 42, 46, 5], [26, 188, 250, 611, 26, 962, 5, 66, 26, 9, 189, 98, 178, 98, 144, 255], [4263, 1410], [11, 24, 10, 18], [6, 16, 12, 3, 7], [6, 817, 12, 3, 7], [99, 203, 125, 109, 203, 36, 19, 11, 19], [6, 217, 12, 3, 7, 40], [6, 217, 12, 3, 7, 40], [6, 217, 12, 3, 7, 40], [6, 16, 12, 3, 7, 40], [36, 18], [163, 18], [11, 20, 17, 27], [14, 2, 62, 2, 36], [177, 55, 2333, 23, 23, 4264, 2333, 196, 79, 9, 25, 44, 40, 42, 46, 5, 50, 205], [8, 363, 45, 1109, 2334, 9, 409, 38, 25, 187, 5, 23, 45, 1002, 716, 2335, 350], [260, 36, 9, 4, 132, 243], [79, 55, 52, 391, 36, 79, 9, 25, 44, 40, 42, 46, 5, 73, 124, 205], [6, 16, 12, 3, 7], [6, 16, 12, 3, 7], [14, 2, 102, 95, 230, 30, 1128, 1129, 4265], [17, 27, 56], [17, 4266, 56], [6, 16, 12, 3, 7], [6, 16, 12, 3, 7], [4267, 36, 9, 4, 29], [53, 55, 234, 73, 160, 25, 44, 87, 46, 5, 50, 205], [6, 376, 12, 3, 7], [6, 1080, 12, 3, 7], [6, 573, 12, 3, 7], [41, 24, 18], [50, 185, 100, 5, 41, 208], [1952, 387, 476, 37, 22, 18, 28, 1700, 127, 659, 3, 8, 208, 1617, 125, 387, 659, 2332, 39, 42], [6, 16, 12, 3, 7], [8, 1230, 118, 2, 2336, 309, 50, 257, 423, 2, 19, 2336, 145], [128, 4, 324, 3, 22], [6, 16, 12, 3, 7], [37, 109, 2, 951], [41, 30], [14, 2, 353, 38, 508, 383], [267, 101, 474], [34, 115, 387, 321, 5, 8, 985, 83], [3, 91, 74, 94, 39, 599, 2, 103, 38, 54, 2260, 466, 33, 8, 1234, 71, 4, 556, 874], [6, 16, 12, 3, 7], [4268, 10, 15], [964, 141, 446, 2, 75, 395], [923], [51, 37, 88], [32, 180, 19, 2, 8, 99], [14, 2, 122, 972, 2, 1035, 254, 2, 344, 4269, 3, 45], [918, 3, 1115, 383, 353, 400, 1395, 404, 2337, 2338], [6, 16, 12, 3, 7], [2339, 667, 297], [4270, 194, 147, 4271, 4272, 90, 292], [51, 37, 5, 88], [216, 441, 1821, 112, 72, 168, 2267, 4273], [544, 388, 76], [385, 4, 29], [11, 105, 4, 58], [37, 5, 88], [39, 42, 247, 2, 102, 2, 326, 53, 48, 2310, 188], [39, 168, 2067, 56, 33, 36, 181, 39, 42, 4274, 167], [6, 714, 12, 3, 7], [30, 94, 367, 3, 2, 271], [14, 2, 24, 2, 20], [39, 42, 27, 56, 33, 514, 245, 675, 39, 43, 47, 10, 15, 104, 9, 278, 107, 119, 39, 124, 1036, 313, 39, 1287, 837], [49, 10, 15, 13, 4275, 2156], [4276, 4277, 129], [41, 185, 9, 4, 29], [36, 36, 9, 4, 29, 43, 107, 69], [4278, 14, 2, 319, 313, 31, 314], [14, 2, 232, 166, 350, 865, 180, 2, 75, 395], [17, 63, 11, 20], [14, 2, 232, 41], [14, 2, 232, 22], [14, 2, 68, 143, 41], [17, 150, 516, 107], [11, 91, 74, 27, 56], [4279, 4280, 4281, 2213], [10, 15, 11, 20], [218, 775, 485, 26, 5, 2256, 9, 25, 44, 42, 5, 46], [11, 20, 10, 15], [36, 499], [36], [34, 447, 2340, 33, 4282, 1377, 360, 26], [41, 2244, 4, 211, 57, 3, 208], [30, 1708, 1709, 595, 1710, 1340, 21, 8, 228, 412, 12], [41, 4283, 1110], [22, 4, 282], [525, 130, 56, 30], [11, 20, 10, 15], [17, 1006, 13, 4284, 4285, 4286], [6, 4287, 12, 3, 7], [185, 1272, 29, 112, 23, 37], [14, 2, 24, 2, 2239, 26, 248, 1559, 256], [14, 2, 103, 110, 2341, 1476], [4288, 4289, 4290, 90, 4291, 8, 4292, 176, 745, 738, 1138, 21, 165, 2, 8, 280, 66], [535, 2163, 4, 1187, 2342], [1041, 860, 17], [664, 184, 139, 11, 646, 557, 4, 29], [190, 31], [129, 191, 90, 201, 316, 2, 8, 23, 1224, 379], [759, 1532, 707, 1702], [115, 789, 212, 4293], [115, 789, 212, 1170, 1171], [115, 710, 372, 760, 761], [115, 23, 645, 679, 212, 561, 562], [6, 16, 12, 3, 7], [868, 2341, 1476], [6, 4294, 12, 3, 7], [142, 227, 3, 174, 719, 89, 305, 70, 2343], [2304, 43, 122, 242, 395, 5, 47, 54, 594, 129, 4295, 908], [1340, 198, 57, 83, 89, 3, 97, 3, 8, 4296, 4297, 109], [19, 2, 269, 460], [43, 2, 122, 4298, 4299, 2, 483, 462], [11, 646, 557, 67, 4, 82], [11, 20, 17, 10, 9, 27], [142, 227, 3, 174, 719, 89, 305, 70, 2343], [162, 323, 17], [63, 390, 420, 298, 13, 1601, 13, 4300, 4301, 4302, 23, 96], [48, 86, 18, 164], [133, 4303], [22, 336, 4, 29], [34, 69, 1023, 8, 285, 649, 194], [222, 449, 18], [99, 23, 18], [330, 24, 18], [24, 86, 28, 330, 200], [53, 55, 988, 989, 23, 988, 989, 23, 279, 196, 401, 25, 40, 87, 46, 5, 205, 9, 57], [6, 4304, 12, 3, 7], [626, 880, 40, 149], [6, 301, 12, 3, 7], [22, 1816, 21, 1310, 699, 127, 30], [6, 16, 12, 3, 7], [156, 23, 260, 543, 870, 288, 165, 787, 157, 401, 25, 5, 87], [1031, 1324, 268, 33, 165, 967, 241], [39, 124, 38, 11, 18, 4305, 398, 13, 183, 113, 94, 39, 401, 2, 4306, 2, 702, 110, 39, 117, 4307], [41, 185, 4, 29], [6, 16, 12, 3, 7], [6, 301, 12, 3, 7], [540, 8, 53, 759, 33, 8, 11, 48], [43, 2, 122, 8, 83, 4308, 2, 412], [11, 272, 238, 256, 105, 4, 58, 418], [737, 9, 8, 4309, 2010, 2, 81, 134, 33, 47, 93], [51, 37, 13, 92], [14, 2, 68, 3, 2, 91, 74], [32, 265, 13, 4310, 4311], [126, 48, 475, 4, 229, 297, 494], [10, 15], [501, 180, 2, 428, 204, 2, 454, 83], [11, 975, 30, 104, 9, 737, 39, 42, 4312, 4313], [51, 37, 13, 88], [14, 2, 62, 2, 36], [4314], [14, 2, 58, 22], [32, 4315, 27, 56, 33, 11, 186, 60], [6, 16, 12, 3, 7], [348, 1905], [116, 48], [116, 48, 18], [32, 575, 104, 4316, 627, 798, 107], [11, 320, 130, 9, 278, 509, 683, 13, 2344, 1455, 34, 136, 172, 2279, 9, 409], [79, 55, 234, 23, 391, 36, 79, 9, 25, 44, 87, 5, 46, 73, 9, 57, 5, 228, 4317], [51, 37, 5, 92], [22, 1456, 958, 57], [14, 2, 37, 10, 5, 61], [1341, 53, 137], [1087, 83, 13, 2121, 368, 406], [316, 31, 1130, 74], [137, 9, 4, 263, 2, 1829, 1375, 13, 1292], [35, 68, 143, 41], [4318, 397, 1013, 4319, 1452, 33, 130, 2, 335, 205, 2340], [51, 37, 5, 249], [10, 15, 13, 11, 20, 17], [4320, 670, 379, 118, 9, 4, 29], [513, 101], [10, 15], [35, 103, 38, 110, 283, 13, 38, 318, 31, 159, 2, 159], [36, 19], [357, 97, 734, 1800, 374, 373, 40, 97, 9, 25, 40, 87, 46, 5], [10, 15], [43, 19, 2, 2345, 2346, 65], [1068, 172, 4, 2282], [47, 20, 45, 90, 86, 624, 72, 798], [86, 28, 45], [30, 94, 247, 2, 19, 20, 654, 60, 3, 11], [148, 137, 19], [448], [52, 2347, 66, 26, 9, 4, 263, 50, 19], [193, 633, 1195, 1196], [298, 475, 550, 453, 2, 214], [17, 27, 56], [1108, 2348, 1700, 3, 225, 254], [41, 185, 4, 29], [48, 1711, 50, 257, 423, 711, 86, 762, 393, 13, 113, 4321, 21, 230], [86, 3, 91, 74], [267, 101], [976, 4322, 149, 105, 4, 1074, 236, 72, 2349, 2206, 618, 879, 56], [664, 2283, 3, 11], [114, 568, 308, 1067, 2, 62], [34, 136, 8, 4323, 3, 1167, 100, 124, 4324, 111, 28, 593, 145, 31, 1669, 2, 20, 21, 20, 565, 2, 4325], [974, 567, 1625, 851, 707], [15, 93, 13, 1795, 4326, 80, 61, 10, 15], [84, 13, 640, 96, 2331, 67, 4, 82, 425, 426], [645, 414, 179, 2007, 1712, 42, 1713], [555, 535, 1006, 759, 4327, 4328], [84, 67, 4, 268, 112, 37, 212, 4329, 4330], [2350, 4331, 1333, 14, 2, 2351, 107, 34], [50, 2178, 371, 219, 8, 153, 219, 129, 191], [100, 124, 201, 4332, 182, 23, 1338, 109, 4333, 8, 86, 33, 195, 19, 34, 69, 136, 21, 1679], [58, 928, 4334, 4335], [750, 4336, 4337, 254], [47, 1199, 199, 1247, 2352, 112, 712, 38, 147, 2314, 2, 82], [272, 238, 256], [76, 28, 1095], [43, 69, 3, 620, 221, 3], [14, 2, 103, 110], [775, 13, 745, 886, 655], [18, 28, 8, 1656, 747, 3, 8, 312, 544, 108, 4338, 21, 422, 740, 450, 8, 408, 4339], [775, 4340, 745, 4341, 100], [14, 2, 220, 3, 2, 41], [331, 45, 416, 50, 2284, 28, 11], [1116, 5, 467, 2, 24, 2, 532, 930], [17, 63, 2353], [50, 11, 21, 272, 4342, 69, 798], [4343, 9, 4, 77, 2, 62, 28, 114, 568, 308], [11, 350, 810, 67, 4, 82, 30, 120, 169, 350, 865, 9, 4, 395], [17, 27, 3, 140], [166, 68, 5, 30], [177, 55, 432, 630, 73, 160, 25, 44, 40, 42, 46, 5, 50, 205, 79], [41, 9, 4, 29], [100, 43, 13, 134, 2071, 127, 19, 13, 8, 323, 162, 60, 3, 4344, 151, 8, 346, 223, 4345, 1714], [486, 233, 34, 62, 2, 8, 54, 36, 1109, 1548, 4346], [2354, 4347, 18], [1293], [777, 113, 150, 78, 75, 2169], [78, 4, 24, 3, 11, 20, 13, 152, 748], [79, 55, 228, 79, 23, 310, 553, 1715, 176, 196, 23, 138, 9, 25, 44, 87, 46], [357, 25, 5, 397], [11, 19], [72, 70], [114, 89, 18], [6, 493, 12, 3, 7], [4348, 1688, 1581], [6, 376, 12, 3, 7], [153, 11, 50, 257, 144, 3, 45, 2, 103, 54, 2355], [267, 101, 474, 619, 505], [14, 2, 62, 2, 53, 433, 5, 36], [17, 27, 56], [17, 27, 5, 36, 281], [23, 59, 10, 4, 29], [17, 27, 56], [126, 20, 271, 24], [222, 18], [15, 8, 10, 13, 4349, 4350, 5, 11, 95, 11], [51, 37, 5, 88], [14, 2, 24, 2, 65], [34, 276, 184, 108, 2, 4351, 4352, 13, 544], [118, 18], [26, 290, 66], [14, 2, 62, 2, 889, 889, 21, 889], [1716, 128, 31, 4353, 4354], [17, 27, 56, 43, 2, 63], [79, 55, 234, 807, 36, 79, 9, 25, 40, 87, 46, 5, 73, 9, 57, 5, 176], [115, 334, 109, 1002, 3, 4355, 83, 44, 109, 520, 9], [41, 13, 238, 540, 19, 2, 306, 4356], [14, 2, 81, 10, 5, 61, 10, 139], [15, 17], [11, 166, 10, 15, 70], [49, 10, 15], [17, 63], [10, 15], [14, 2, 232, 22], [10, 15, 2, 226], [11, 86], [737, 9, 8, 4357, 33, 104, 274, 120], [11, 20, 17, 63], [1456, 444, 535, 96, 4, 1342, 21, 39, 124, 2, 115, 47, 871, 48, 251, 112, 686, 552], [14, 2, 68, 5, 2, 215], [343], [36, 190], [35, 68, 143, 11, 20, 11, 95, 28, 54, 10, 43, 19], [14, 2, 24, 2, 41], [14, 2, 232, 163], [422, 8, 17, 180, 2, 75, 1405, 2, 4358, 4359], [49, 10, 15], [10, 27, 56, 5, 11, 20], [11, 20, 17, 63], [22, 4, 324, 128], [51, 37, 13, 88], [335, 5, 133, 13, 4360, 4361, 4362, 21, 4363, 4364, 4365], [81, 1343, 23, 2, 23], [53, 76, 252, 460, 71, 206, 154, 121, 21, 4366, 1585, 2, 1105, 1106], [48, 872], [11, 998, 218, 408, 4, 593, 134, 4367, 145, 2, 998], [43, 2, 588, 658, 529, 21, 529], [15, 93, 13, 4368, 80, 61, 10, 15], [14, 2, 540, 8, 224, 5, 306, 149], [79, 55, 97, 97, 890, 73, 36, 196, 9, 25, 40, 42, 46, 73, 9, 57, 5, 36, 196], [15, 93, 13, 4369, 4370, 2356, 80, 61, 10, 15], [14, 2, 232, 272], [14, 2, 102, 31, 667], [41, 208, 325, 2357], [135, 314, 105, 4, 319, 112, 37, 1864, 666, 1593, 72, 1535, 13, 667, 470, 240, 39, 1611, 2, 115, 735, 795], [6, 16, 12, 3, 7], [49, 10, 15], [4371, 311, 121, 100, 4372, 4373], [498, 1237, 18], [43, 36, 19], [15, 93, 13, 4374, 4375, 80, 61, 10, 15], [63, 17, 2353], [95, 113, 4376, 9, 4377, 564, 3, 4378], [446, 18], [48, 86, 18, 164], [142, 227, 3, 801, 125, 802, 125, 602, 803, 497, 26], [436, 101, 371, 31, 156], [2358, 13, 61, 10, 139, 727], [7, 1340, 26], [195, 421, 37, 2, 520], [11, 20, 17, 63, 21, 10, 15], [4379, 575, 2, 307, 8, 191], [372, 17, 63], [39, 937, 947, 2, 424, 38, 302, 242, 295, 4380, 181, 39, 35, 294, 2, 466, 4381, 198, 57], [145, 4382, 31, 205, 66], [1082, 19, 806, 9, 4, 29], [1082, 19, 806, 9, 4, 29], [17, 1245, 4383, 565, 72, 2, 331, 45, 1717], [72, 69], [4, 77, 2, 58, 127, 4384, 147], [1645, 71, 144, 40, 110, 172, 159, 181, 113, 652, 35, 117, 799, 40, 8, 545, 778], [39, 42, 4385, 4386, 31, 23, 2281, 39, 124, 36, 539, 9, 4, 29], [272], [4387], [1160], [22, 9, 4, 259], [6, 16, 12, 3, 7], [53, 55, 4388, 1317, 73, 160, 25, 44, 42, 46, 50, 205, 79], [6, 16, 12, 3, 7], [63, 15, 49, 11, 17, 13, 32, 4389], [115, 647, 212, 1646, 1647], [115, 647, 212, 1646, 1647], [115, 647, 212, 561, 562], [115, 647, 212, 561, 562], [650, 1680, 2235], [17, 27, 56, 21, 10, 15], [65, 4390, 4391, 4392], [121, 4, 29], [34, 63, 15, 49, 10, 13, 2359, 32, 4393], [26, 352, 250, 571, 26, 1326, 9, 189, 98, 178, 98, 144, 176], [1996, 930, 10], [79, 55, 52, 23, 36, 459, 9, 25, 44, 42, 46, 5, 228, 9, 57], [69, 2, 103, 110, 283, 13, 318], [629, 32, 35, 117, 143, 8, 53], [11, 299, 271, 18], [53, 55, 637, 370, 434, 73, 160, 25, 44, 42, 46, 5], [49, 17, 27], [6, 399, 12, 3, 7], [6, 16, 12, 3, 7], [813, 129, 250, 571, 813, 1718, 9, 189, 98, 178, 98, 144, 255], [85, 194, 1066, 4394, 4, 29, 2032, 18], [411, 427, 9, 4, 29, 3, 60], [6, 16, 12, 3, 7], [30, 100, 2360, 175], [14, 2, 24, 2, 343], [2361, 2362, 18], [89, 59], [1160], [69, 2, 15, 8, 10, 13, 104, 11, 116, 1664], [1900, 282, 381], [84, 392, 381], [4395, 377, 582, 484, 2312], [35, 597, 5], [39, 42, 27, 56, 33, 11, 4396], [32, 180, 69, 28, 1425, 149, 4397], [158, 24, 18], [843, 743], [14, 2, 702, 1107], [111, 367, 3, 2, 41, 112, 2363, 382, 47, 10], [11, 19, 18], [6, 493, 12, 3, 7], [126, 94, 39, 599, 2, 19, 8, 163, 368, 171, 39, 344, 127, 30, 120, 30, 2364, 325, 4, 394], [32, 354, 111, 24, 3, 2, 8, 83, 28, 8, 54, 10], [51, 37, 13, 92], [14, 2, 68, 3, 2, 11, 20], [514, 11, 45, 34, 615, 661, 2365, 2366, 193, 17, 3, 11, 45, 9, 4, 1342, 119, 127, 193], [91, 70, 1344, 4398, 1096], [14, 2, 68, 3, 2, 343], [163, 2367, 129, 340], [43, 2, 825, 54, 235], [108, 4, 206, 496, 21, 2324, 961, 2, 4399, 291], [14, 2, 19, 664, 73], [10, 15, 329, 61, 10, 139], [14, 2, 472, 494, 2, 20], [11, 19, 18], [10, 213, 198], [110, 2368], [47, 10, 9, 1339, 78, 148, 69, 161], [84, 4, 797, 143, 49], [32, 90, 38, 54, 275, 96, 13, 173, 631, 8, 544, 383], [51, 37, 13, 249], [51, 37, 13, 92], [49, 1007, 4400], [14, 2, 24, 2, 215, 28, 54, 10, 21, 245, 834, 603, 453], [17, 63], [15, 93, 13, 2241, 2242, 80, 61, 10, 15], [184, 313, 4401, 3, 47, 388], [1444, 32, 295, 13, 19, 2, 8, 226], [126, 1529, 374, 27, 13, 8, 23, 585, 89], [1554, 108, 211, 267, 145, 13, 4402, 4403], [8, 363, 45, 1109, 2334, 9, 409, 38, 25, 187, 5, 23, 45, 1002, 716, 2335, 350, 34, 4404], [43, 667, 470, 502, 395, 5, 8, 83], [48, 830, 3, 628], [14, 2, 24, 2, 83, 112, 382, 8, 10], [110, 294, 254, 361, 50, 110, 283, 13, 318, 129, 255, 732, 175, 318, 159, 34, 777, 2, 4405], [79, 55, 598, 432, 956, 551, 1005, 9, 25, 40, 42, 46, 5, 73, 9, 57, 5, 36, 79], [14, 2, 62, 2, 36], [106, 96, 173, 4406, 633, 1192, 165], [49, 10, 15], [696, 498, 4, 1237], [15, 8, 10, 13, 2369, 2370, 5, 49, 24], [6, 573, 12, 3, 7], [34, 15, 47, 10, 13, 343], [163, 24, 4, 1342], [14, 2, 246, 22], [14, 2, 102, 31, 8, 871, 48], [15, 93, 13, 2369, 2370, 80, 61, 10, 15], [1009, 187, 4407, 54, 814, 193, 440, 1010, 265], [43, 17, 620, 2, 47, 45], [115, 710, 372, 760, 761], [4408, 4409, 145, 3, 22], [2263], [986, 916, 258, 170, 13, 38, 1279, 150], [1564, 595, 159, 11, 4410], [465, 18, 466, 4411, 978, 4, 2371], [79, 55, 79, 55, 23, 36, 79, 9, 25, 40, 42, 46, 5, 73, 9, 57, 5, 228, 79], [14, 2, 68, 3, 2, 11, 20], [70, 72, 1507, 85, 43, 5, 1719, 1719, 1719], [69, 28, 106, 1315], [14, 2, 102, 1119, 13, 48, 959], [532, 856, 10, 15], [4412, 4413, 495, 17, 315], [166, 38, 1061, 3, 9, 4, 263], [17, 63], [11, 20, 17, 63], [775, 5, 745, 769], [76, 28, 100, 48, 67, 4, 102, 4414, 4415], [17, 27], [11, 20, 17, 63], [15, 93, 13, 4416, 4417, 80, 61, 10, 15], [4418, 707, 4419, 561, 562], [115, 121, 21, 710, 212, 1170, 1171], [1302, 377, 233], [11, 19, 18, 299, 271], [111, 28, 8, 84, 30, 936, 4, 4420, 98], [15, 93, 13, 4421, 4422, 80, 61, 10, 15], [287, 11, 238, 1042], [85, 24, 18, 4423, 1602], [345, 311, 22, 4424, 4425], [4426, 2372, 448, 18], [14, 2, 276, 344, 128, 31, 306, 4427, 4428, 4429, 4430, 4431, 4432, 4433], [560, 698, 463, 13, 176, 4434, 4435], [6, 16, 12, 3, 7], [34, 691, 121, 66, 3, 97, 26, 121, 9, 4, 29, 278, 107], [49, 17, 27], [15, 93, 13, 2373, 2374, 80, 61, 10, 15], [26, 197, 352, 250, 571, 26, 1326, 5, 66, 9, 189, 98, 178, 98, 144, 1323], [15, 93, 13, 2373, 2374, 80, 61, 10, 15], [17, 10, 9, 277], [6, 4436, 1574, 13, 1112, 379, 547, 34, 725], [15, 169, 202, 286, 10], [4, 77, 2, 19, 20], [15, 8, 10, 13, 4437, 4438, 5, 11, 95, 11], [6, 16, 12, 3, 7], [36, 118, 381], [26, 745, 4439, 34, 81, 8, 1279, 4440, 31, 4441, 2, 4442], [4, 77, 2, 24, 2, 60, 240, 47, 32, 116, 21, 453, 5, 54, 711, 2272], [6, 16, 12, 3, 7], [4443, 4444, 4445, 26, 238, 188, 4446, 188, 654, 387, 188, 389, 632, 4447, 241, 4448], [572, 1576], [14, 2, 62, 2, 23, 739, 625], [330, 116, 21, 10], [17, 27, 56, 21, 10, 15], [4, 77, 2, 122, 116, 119, 48, 3, 47, 85], [6, 16, 12, 3, 7], [4449, 1972, 21, 380, 4450, 71, 4, 29], [4451, 18, 28, 4452, 3, 20], [15, 169, 202, 286, 10, 13], [11, 20, 789, 30], [133, 19, 70], [14, 2, 24, 49], [60, 9, 4, 797, 57], [49, 17, 27], [14, 2, 344, 191, 31, 984, 33, 630, 1594, 1489, 202], [49, 17, 27], [17, 27, 56, 21, 10, 15], [6, 16, 12, 3, 7], [78, 4, 4453, 47, 99], [1998, 4454, 375], [32, 180, 69, 24, 2, 8, 23, 36], [114, 10, 90, 277], [65, 199, 4455], [1312, 33, 47, 195, 4456, 4457, 261, 2, 404, 4458, 459, 1312, 528, 4459], [26, 670, 525, 782, 435, 328, 1092, 708, 194, 149, 25], [78, 148, 1408, 136, 338, 66, 26, 9, 29, 1028], [10, 15, 24, 111], [517, 285, 4460, 1720, 204, 2001, 4461], [517, 621, 4462, 31, 1138], [121, 4, 319, 44, 781, 176, 100, 576, 4, 124, 237, 164, 439, 4463, 1086, 25], [39, 42, 5, 2375, 21, 47, 36, 9, 4, 29, 78, 148, 15, 72, 13, 161], [1104, 105, 4, 246], [17, 273, 335, 70, 33, 4464], [4465, 5, 8, 4466, 640, 96, 149], [345, 311, 222, 4467, 4468], [76, 28, 212, 622, 623], [4469, 4470, 752, 67, 4, 82], [166, 18], [1687, 2294, 777, 13, 260, 21, 2376, 108], [213, 1324, 268, 33, 165, 967, 241, 47, 17, 9, 239, 10, 18], [1239, 4, 564, 56], [6, 16, 168, 206, 257, 327, 541, 891, 21, 1008], [2377, 179, 4471, 4472], [11, 27], [6, 16, 12, 3, 7], [8, 515, 4473, 84, 35, 75, 243, 2, 8, 195, 431, 417, 993, 105, 2378], [1113, 975, 30, 28, 646, 1692], [15, 93, 13, 4474, 4475, 80, 61, 10, 15], [966, 414, 4, 29], [15, 93, 13, 2204, 2205, 80, 61, 10, 15], [84, 35, 878], [179, 4476, 4477, 484, 580, 179, 2290, 2291], [8, 222, 449, 35, 75, 558], [60, 381, 569, 146, 1310], [11, 20, 17, 27], [4478, 19, 13, 162], [17, 27], [112, 382, 2, 54, 351, 735, 388, 652, 31, 309, 351, 71, 416, 963, 3, 54, 1139, 388, 592], [6, 16, 12, 3, 7], [11, 190, 1692, 13, 95, 1887, 9, 811, 1113, 30, 120], [126, 1023, 2, 428, 2, 454, 83, 3, 456, 28, 11, 709, 565, 2, 4479, 4480, 456], [17, 27, 56], [177, 55, 52, 4481, 2379, 52, 1721, 196, 79, 401, 25, 40, 42, 46, 5, 843, 51], [19, 2, 53, 133], [4, 77, 2, 68, 5, 2, 226, 31, 464, 342, 107, 34, 101], [6, 210, 12, 3, 7], [6, 210, 12, 3, 7], [6, 210, 12, 3, 7], [36, 4482, 36, 14, 2, 118], [14, 2, 1258, 312, 119, 641, 557], [34, 63, 47, 11], [175, 4483], [39, 1050, 47, 11, 10], [8, 755, 486, 13, 4484, 4485, 90, 487], [53, 55, 40, 52, 44, 87, 46], [1337, 108, 18], [69, 2, 81, 8, 49, 10, 80, 61, 10, 74], [6, 337, 12, 3, 7], [6, 16, 12, 3, 7], [6, 673, 12, 3, 7], [49, 10], [6, 337, 12, 3, 7], [4486, 365, 5, 8, 1315], [6, 16, 12, 3, 7], [4487, 4488], [53, 55, 4489, 72, 890, 73, 73, 160, 25, 44, 40, 42, 46, 5, 50, 205], [85, 4, 797, 57], [6, 1311, 12, 3, 7], [53, 55, 1722, 1722, 73, 160, 25, 44, 5, 42, 46, 5], [6, 217, 12, 3, 7], [6, 217, 12, 3, 7], [6, 940, 12, 3, 7], [6, 217, 12, 3, 7], [6, 217, 12, 3, 7], [2131, 31, 1121, 998, 4490, 12, 2062, 4, 394], [6, 940, 12, 3, 7], [6, 217, 12, 3, 7], [6, 217, 12, 3, 7], [6, 217, 12, 3, 7], [6, 16, 12, 3, 7], [6, 217, 12, 3, 7], [6, 217, 12, 3, 7], [6, 217, 12, 3, 7], [6, 217, 12, 3, 7], [6, 217, 12, 3, 7], [357, 26, 373, 40, 97, 9, 25, 44, 87, 46], [357, 26, 373, 40, 468, 9, 25, 44, 40, 87, 46], [6, 16, 12, 3, 7], [6, 16, 12, 3, 7], [380, 275, 244, 31, 60], [6, 16, 12, 3, 7], [50, 385], [14, 2, 103, 11, 300], [264, 902, 18, 2380, 2, 129, 191], [6, 16, 12, 3, 7], [6, 16, 12, 3, 7], [39, 35, 209, 11, 40, 305, 2381, 104, 18], [53, 55, 4491, 4492, 1773, 890, 73, 73, 9, 160, 25, 44, 40, 42, 46, 5, 50, 205], [6, 1723, 12, 3, 7], [54, 113], [140, 17, 27], [14, 2, 62, 2, 328], [128, 4, 144, 3, 22, 181, 144, 3, 864], [6, 16, 12, 3, 7], [308, 1136, 1071, 18], [6, 492, 12, 3, 7], [427, 878, 4493, 134, 189, 8, 146, 303], [36, 36, 19], [6, 16, 12, 3, 7], [175, 78, 4, 264, 2382, 858, 1297, 662, 4494], [11, 108, 1337, 4495, 4496, 396, 9, 29, 13, 466, 1403, 3, 8, 52, 172], [14, 2, 863, 4497, 360, 4498, 3, 45], [14, 2, 232, 22], [43, 59, 244, 2, 24, 2, 22], [11, 20, 17, 63], [271], [81, 289, 31, 359, 130, 193, 2, 2325], [218, 1020, 5, 23, 551, 4499, 950, 1724, 261, 188, 19, 157, 23, 138, 9, 25, 44, 87, 5], [26, 197, 178, 5, 188, 9, 362, 327], [22, 59, 1172, 1071, 18], [6, 16, 12, 3, 7], [14, 2, 62, 2, 36], [53, 55, 1338, 23, 53, 9, 25, 44, 87, 46, 5], [35, 68, 143, 41, 155, 36], [952, 1628], [22, 4, 378, 2, 169, 390], [2383, 40, 482, 28, 952, 4500], [1306, 88], [11, 209, 358, 30], [1597, 361, 128, 71, 4, 132, 316, 692, 71, 134, 549, 143, 8, 1780], [11, 2384, 355, 8, 662, 33, 127, 113], [537, 1665, 4, 29], [14, 2, 601, 2259, 21, 4501, 333, 31, 8, 23, 89], [1420, 142, 2002, 152, 141, 108, 1102], [14, 2, 62, 2, 629], [14, 2, 62, 2, 53, 3, 52, 4502], [1341, 658], [156, 23, 2385, 79, 1285, 1286, 44, 40, 42, 437, 5, 73, 9, 420, 5, 228], [4503, 2308, 4504, 22, 583], [15, 10], [10, 15, 13, 4505, 4506], [11, 20, 11, 95, 10, 15], [465, 18], [41, 24, 18, 275, 270, 30], [133, 19], [215], [4507, 41, 566, 248, 235], [76, 28, 1208, 941, 771, 317], [11, 20, 10, 15], [744, 190, 864, 21, 1725, 128, 2025, 327, 1265], [107, 4508, 110, 283, 183, 113, 30, 3, 2327], [84, 265], [59, 680, 2, 24, 2, 226], [22, 4509, 4510, 33, 89, 150, 21, 500, 89, 150], [142, 227, 3, 174, 4511, 719, 1320, 4512], [10, 81], [275, 96, 198, 57, 4513], [9, 3, 396, 40, 159, 112, 4514, 95, 40, 159, 661, 9, 4, 349, 38, 110, 361, 2, 4515, 1710, 458], [35, 62, 2, 310, 36, 31, 305, 43, 2, 307, 72, 31, 42, 87, 100, 262, 36, 9, 25], [162, 4, 29], [11, 19], [10, 15, 364, 31, 285, 13, 32, 4516], [718, 1142, 1681, 45, 328, 19, 14, 2, 246, 281], [41, 185, 4, 29], [10, 15, 70, 31, 285], [106, 96, 173, 70], [4, 77, 2, 24, 2, 36, 17, 27, 56], [140, 17, 27, 56], [48, 4, 29, 83, 3, 445, 109, 3, 97, 4, 132, 243, 2, 195], [882, 336, 4517, 4518, 9, 4, 29], [23, 215], [5, 136, 372, 1962, 4519, 580, 2349, 1726, 622, 623], [131, 84, 13, 713, 164, 521, 522], [86, 28, 146, 1307, 40, 8, 2060, 4520, 425, 426], [548, 127, 306, 160, 137, 309, 4521, 160, 137, 4522, 4523], [76, 28, 200, 1727, 1728], [79, 55, 52, 172, 262, 23, 262, 52, 52, 172, 944, 36, 196, 401, 25, 40, 42, 46, 5], [218, 504, 793, 1345, 5, 23, 262, 52, 52, 261, 872, 19, 157, 9, 25], [39, 117, 4524, 4525, 13, 4526, 4527], [61, 10, 139, 24, 18], [588, 483, 462], [41, 122, 3, 9, 4, 211, 57, 3, 22], [106, 96, 173, 23, 585], [352, 137, 5, 2386, 9, 189, 98, 178, 98, 144, 415], [2271], [935], [22, 4, 263], [1729, 2387, 374, 9, 4, 963, 3, 45, 363, 1612, 854, 2, 19], [20, 9, 4, 29], [262, 464, 9, 4, 29], [318, 9, 13, 901, 33, 296, 110, 361, 13, 83], [224, 5, 750, 582, 150, 3, 8, 1663, 60, 478, 179, 34, 1276, 89], [430, 347, 309, 59, 31, 1075, 3, 169, 22], [106, 96, 173, 1730, 1126], [70, 13, 1272, 380, 8, 4528, 6, 3, 20], [4, 77, 2, 62, 2, 22, 132, 142, 364, 439, 142, 270], [4529, 471, 64, 3, 7, 294, 2, 209, 33, 32, 4530, 3, 256, 12, 94, 712, 38, 998], [19, 2, 319, 4531, 2388, 350, 21, 290, 4532], [396, 18, 13, 175], [296, 18], [70, 3, 2005, 33, 4533, 4534], [4535, 4536, 19, 2, 2388, 1731, 832, 26], [6, 301, 12, 3, 7], [15, 93, 13, 4537, 4538, 80, 61, 10, 15], [19, 13, 4539, 1289, 603], [588, 129, 845, 13, 1781, 24, 13, 537, 1668, 224], [48, 86, 18, 164], [17, 27], [6, 301, 12, 3, 7], [222, 8, 2389, 33, 8, 449, 9, 292, 2, 8, 244, 33, 8, 1732, 538], [627, 92, 39, 43, 2, 70, 19, 2, 697, 81, 95, 113, 3, 4540, 21, 159], [8, 84, 90, 38, 569, 146, 21, 35, 75, 844, 5], [436], [50, 19, 2, 532, 856, 226], [6, 493, 12, 3, 7], [4541, 526, 788, 102, 377], [4542, 1197, 105, 4, 103, 1652, 4543], [2390, 99, 1019, 336, 2091, 56, 33, 8, 351, 39, 792, 722, 57, 3, 961], [134, 47, 204, 3, 65, 124, 1394], [213, 1004, 429, 23, 341, 387, 2274, 2348], [94, 247, 2, 1331, 38, 108, 39, 42, 132, 38, 763, 57, 182, 607, 271, 1230, 251, 4, 394], [79, 55, 391, 357, 25, 5, 23, 262, 52, 52, 279, 196, 23, 138, 44, 40, 87, 46, 5, 165], [1341, 658], [892, 3], [918, 3, 1115, 383, 353, 400, 1395, 404, 2337, 2338], [41, 5, 8, 176, 4544, 2011, 83, 9, 4, 29, 4, 1697, 161, 2, 62, 181, 1117, 2, 82, 13, 1733], [892, 3], [174, 1734, 510, 31, 657, 47, 4545, 138, 5, 4546, 4547], [4548, 4549, 149, 224, 18], [10, 4550, 13, 880, 23], [62, 2, 8, 53, 8, 1346, 3, 8, 1198, 406], [158, 10, 15], [511, 13, 135, 73, 609, 220, 5], [293, 1076, 85, 149, 1045, 653, 14, 2, 151, 146, 883, 2079, 1334], [43, 674, 3, 60, 4551, 21, 43, 2194, 33, 674, 592], [23, 310, 553, 97, 129, 651, 352, 54, 109, 19, 157, 177, 555, 18], [14, 2, 68, 3, 2, 226, 158, 200], [99, 18], [11, 17, 13, 4552, 405, 1175, 57, 78, 148, 63, 34, 20], [99, 18, 21, 1007, 1144], [70, 13, 23, 138, 59, 244], [15, 47, 10, 2, 1500, 20], [4553, 108, 19], [222, 401, 2, 4, 4554, 538], [926, 28, 390, 927], [11, 20, 10, 15], [41, 185, 67, 4, 82], [249, 51, 37], [53, 55, 52, 2278, 73, 9, 160, 25, 40, 42, 46, 5, 349, 9, 50, 205, 79], [94, 593, 128, 31, 1251, 4555, 2391, 194, 8, 316, 128, 563, 57, 3, 47, 275, 316, 133], [33, 60, 52], [222, 4, 29], [160, 192, 381, 5, 2392, 657, 4556], [14, 2, 24, 2, 41], [26, 669, 290, 523, 95, 192, 302, 5, 129, 9, 167], [68, 5, 358, 30, 683, 112, 378, 2, 36], [59, 105, 4, 58], [125, 109, 365, 31, 2], [22, 18, 154], [53, 55, 156, 73, 9, 25, 40, 42, 46, 5, 50, 205, 79], [48, 251, 203], [312, 38], [8, 1337, 108, 105, 4, 82, 104, 9, 574, 2, 8, 782, 915], [10, 15, 67, 4, 82, 3, 2350, 92], [14, 2, 62, 2, 36], [162, 4, 29], [290], [34, 688, 17, 13, 32, 4557, 1142, 672, 920], [11, 20, 10, 15], [1161, 147, 35, 75, 558], [4558, 575, 2, 151, 127, 1514, 191, 31, 38, 4559, 438], [166, 9, 4, 29], [236, 37], [135, 32, 9, 4, 77, 2, 1332, 193, 145, 718, 1142, 610, 1677], [11, 20, 21, 20, 63, 21, 10, 15], [4560, 63], [1735, 63], [32, 295, 2, 15, 10, 17, 9, 419, 3, 140], [11, 10, 15, 11, 20], [149, 1667, 18], [59, 4, 29], [126, 78, 4, 220, 3], [34, 1400, 11, 68, 5, 43, 2, 75, 15, 4, 1610, 661, 181, 35, 68, 5], [34, 1400, 559, 1736, 21, 4561], [140, 27, 56], [654, 270, 4562, 383, 189, 4563], [79, 55, 234, 234, 279, 79, 9, 25, 40, 42, 46, 5, 73, 9, 57, 5, 228, 79], [11, 69], [14, 2, 24, 2, 91, 74], [76, 28, 919, 970, 561, 562], [76, 28, 919, 970, 561, 562], [85, 4, 4564, 31, 1231, 377], [22, 9, 1726, 519, 13, 10], [48, 491], [103, 54, 17, 212, 21, 212], [582, 60, 4565, 1006, 2, 1906, 4566], [10, 15, 70], [11, 709, 90, 75, 395], [242, 4, 29, 5, 85, 99, 22, 195, 421, 701, 38, 142, 274, 21, 134, 124, 547, 2320], [22, 35, 75, 878], [99, 21, 99, 4, 29], [76, 28, 1216, 102, 1095, 372, 760, 761], [76, 28, 1216, 102, 1095, 372, 760, 761], [131, 54, 207, 84, 713, 4567, 4568], [4569, 19], [11, 30], [6, 4570, 12, 3, 7], [15, 8, 10, 13, 1885, 1886, 5, 11, 95, 11], [115, 54, 1918, 119, 1557, 1037, 476, 23, 659], [11, 20, 17, 27], [11, 209], [6, 16, 12, 3, 7], [254, 33, 2393, 28, 1590], [1737, 18], [1301, 241, 13, 1305, 1398, 107], [14, 2, 447, 102, 56, 31, 1737], [6, 210, 12, 3, 7], [6, 16, 12, 3, 7], [6, 210, 12, 3, 7], [6, 210, 12, 3, 7], [186, 152, 141, 31, 1121, 998, 4571, 4572, 12, 4573, 4574, 168, 4, 394, 44, 87, 46, 5], [186, 9, 4, 29, 30, 32, 1347, 12], [35, 245, 8, 577, 3, 186], [526, 788, 66, 111], [6, 16, 12, 3, 7], [94, 581, 599, 2, 68, 143, 186, 117, 8, 754, 30, 32, 1347, 12], [10, 27], [724, 66, 1880, 28, 341, 66, 30, 3, 1471, 33, 237, 253, 209, 591, 618, 1881], [26, 49, 192, 98, 536, 364, 5, 129, 302, 98, 2270, 327, 21, 360, 415, 302], [334, 13, 169, 223, 19, 11, 238, 2137], [6, 16, 12, 3, 7], [158, 73, 183, 21, 1035, 503, 170], [218, 504, 793, 1345, 5, 23, 262, 52, 52, 261, 872, 19, 157, 23, 138, 9, 25], [162, 4, 29, 768, 5, 2394, 50, 1256, 1155, 105, 4, 597, 355, 4575, 106, 743, 423], [2019, 987, 1185, 928], [14, 2, 58, 22], [3, 8, 82, 258, 2, 123, 254, 95, 230, 28, 4576, 71, 211, 57, 692, 1348, 4], [43, 356, 2, 48, 244, 1189, 26, 529], [89, 783, 13, 52, 1672, 153, 194, 71, 4, 29, 4577, 134, 326, 603, 13, 824, 1672], [43, 2, 588, 658], [51, 37, 5, 88], [130, 902, 180, 2, 75, 292, 2, 682], [497, 21, 4578, 592, 293, 1134, 13, 52], [49, 10, 15, 13, 4579, 4580], [6, 16, 12, 3, 7], [126, 1123, 225, 28, 89, 150, 9, 4, 29, 21, 67, 4, 124, 38, 2395, 2396], [39, 43, 19, 2, 8, 506, 133, 5, 65], [15, 8, 10, 13, 2161, 2162, 5, 253, 114], [65, 73, 4, 704], [14, 2, 62, 2, 1684, 258, 3, 1911, 503], [4581, 65, 1366, 1162, 2, 75, 25], [14, 2, 741, 147, 5, 65], [412, 17, 27, 56], [111, 2, 68, 143, 163, 617], [4582, 1050, 24, 10, 4583, 4584, 32, 116, 4585], [51, 37, 5, 92], [101, 31, 578, 125, 45, 363, 18], [247, 2, 220, 5, 2, 214, 60, 181, 8, 538, 105, 4, 683, 246], [4586, 1735, 9, 4, 29], [653, 149, 1738], [653, 149, 1738], [6, 1705, 12, 3, 7], [343, 4587], [653, 149, 1738], [14, 2, 62, 2, 48], [14, 2, 62, 2, 36], [19, 2, 554, 95, 20, 3, 11], [11, 20, 17, 63, 21, 10, 15], [26, 197, 178, 5, 188, 9, 362, 327], [2053, 180, 65, 19], [8, 135, 200, 13, 1024, 2397, 127, 30, 94, 247, 2, 319, 313], [1987, 1988, 9, 14, 2, 24, 2, 407], [86, 28, 4588, 48], [367, 143, 186, 1521, 705, 961, 3, 30, 763, 57, 1084, 66, 1965], [84, 212, 4589, 212], [126, 48, 4, 29], [111, 28, 2261, 21, 146, 1584, 5, 41], [94, 243, 2, 4590, 106, 743, 8, 36, 67, 4, 82], [34, 777, 128, 2, 54, 244], [813, 197, 178, 5, 188, 9, 362, 327], [334, 13, 109, 9, 4, 29], [41, 18], [4, 77, 2, 101, 114, 150, 33, 97, 2398, 97, 342], [995, 996, 295, 2, 136, 338, 8, 17, 71, 420], [22, 4, 29, 443], [11, 206, 154], [14, 2, 102, 1216], [8, 129, 130, 60, 9, 4, 29, 8, 172, 4591, 71, 444, 127, 30, 120, 943, 100, 599, 2, 319, 38, 4592], [534, 65, 73], [175, 284, 479], [1082, 19, 806, 9, 4, 29], [81, 285, 448, 2399, 165, 2, 389], [30, 120, 13, 271, 21, 4, 77, 2, 58, 147, 2, 319, 429, 147, 182, 39, 43], [111, 28, 23, 2391, 462], [135, 19], [41, 275, 270, 18], [81, 438, 518, 456, 252, 221], [50, 185, 527, 566], [170, 133, 3, 22], [14, 2, 117, 8, 41, 122, 3], [23, 2126, 9, 416, 5, 8, 564, 11, 4593, 1592], [51, 37, 5, 249, 31, 4594, 4595], [79, 55, 97, 23, 1249, 171, 2, 843, 1005, 9, 25, 44, 40, 42, 46, 5, 73, 124, 205], [48, 697, 9, 4, 229], [14, 2, 232, 22], [190, 31, 4596, 4597], [225, 154], [873, 5, 101, 672, 453], [34, 548, 359, 19, 2, 26, 196, 4598], [14, 2, 62, 2, 36], [10, 27], [449, 18], [78, 4, 268, 272], [106, 96, 173], [4599, 33, 4600, 143, 8, 54, 579], [4601, 4602, 35, 276, 110, 656, 329, 1145], [48, 86, 18, 164], [252, 526, 788, 581, 132, 27, 56, 33, 186, 3, 52, 285], [43, 19, 2, 47, 137, 34, 136, 861, 17], [1739, 2400, 33, 183, 550, 21, 23, 244, 89, 783, 233, 112, 97, 1349], [131, 22, 671, 912, 561, 562], [22, 4, 955, 10, 22], [1498, 147, 190], [140, 10, 15], [11, 86, 20, 14, 2, 380, 153, 31, 275, 606, 254], [53, 55, 4603, 4604, 73, 9, 160, 25, 44, 40, 42, 46, 5, 50, 205, 5, 73], [863, 32, 9, 4, 29], [19, 233], [47, 4605, 464, 19], [70, 13, 1533, 423, 728, 3, 2361], [101, 31, 1701, 2086, 2, 1397, 2, 72, 1409, 2, 4606, 4607], [49, 32, 116], [162, 9, 4, 29], [49, 17, 27], [78, 4, 19, 2, 4608, 13, 238], [688, 309, 85, 475, 4609, 1632, 1633], [6, 16, 12, 3, 7], [18, 28, 135], [488, 109, 1632, 1633], [76, 28, 121, 372, 1740, 1741], [34, 261, 33, 2401, 114, 442, 31, 2, 4610], [666, 24, 5, 23, 85], [91, 74, 4, 259], [4611, 33, 1968, 136, 518, 338, 229, 4612, 2, 48, 830, 628, 21, 81, 48, 2, 4613], [34, 81, 10, 21, 2357, 13, 8, 121], [396, 18, 13, 175], [36, 171], [718, 111, 28, 462, 23], [997, 2280, 1575, 145, 170], [8, 84, 1462, 4614, 154, 72, 1173, 362, 327, 4615, 2, 58, 38, 54, 11, 218, 21, 58, 127, 109, 147, 4616, 417, 993], [162, 1228], [79, 55, 52, 2347, 36, 79, 9, 25, 40, 42, 46, 5, 73, 9, 57, 5, 228, 79], [186, 10, 15, 63, 17], [14, 2, 24, 2, 11], [34, 241, 8, 846, 991, 3, 11], [145, 374], [91, 74, 18], [1344, 546, 13, 1301, 992], [740, 512, 8, 427, 119, 72, 9, 4, 29], [49, 17, 27], [99, 35, 75, 4617], [11, 20, 17, 27], [20, 11, 152, 141, 24, 18, 10, 15], [49, 10, 15], [11, 20, 17, 27], [1263, 413, 6, 16, 12, 3, 7], [186, 10, 15, 63, 17], [6, 16, 12, 3, 7], [6, 376, 12, 3, 7], [94, 39, 103, 38, 2313, 4618, 3, 4619, 39, 117, 127, 30, 1180, 9, 1166], [39, 4620, 2, 501, 3, 1622, 181, 39, 123, 4, 1236, 104, 501, 3, 104, 325, 352], [47, 22, 21, 41, 67, 4, 82, 94, 39, 42, 40, 305, 72, 411, 423, 3, 8, 109], [41, 35, 68, 3, 21, 72, 840, 270, 30], [60, 4, 263], [72, 1003], [252, 224, 4, 29], [11, 17, 63], [441, 4, 797], [68, 3, 1014, 4, 29, 43, 2, 81, 10, 422, 34, 101, 161], [8, 657, 35, 75, 844, 5], [4621, 4622], [53, 55, 434, 370, 53, 9, 25, 44, 87, 46, 5], [79, 55, 40, 4623, 72, 890, 44, 87, 46, 73, 9, 5, 228], [24, 2, 186, 18], [59, 455, 5, 47, 89], [184, 108], [133, 19, 13, 4624, 4625], [10, 15, 13, 1595, 1596], [10, 15, 70], [51, 37, 5, 88], [35, 122, 38, 283, 2, 127, 17, 5, 8, 106], [396, 284, 479, 30, 4626, 264, 576, 4, 4627], [14, 2, 102, 31, 889], [17, 63], [78, 148, 1382, 161, 8, 89, 150, 13, 109, 40, 8, 2220, 4628], [24, 1621, 763, 57, 190], [51, 37, 5, 88], [6, 16, 12, 3, 7], [115, 387, 13, 4629], [126, 48, 131], [11, 20, 17, 27], [22, 4, 243, 2, 66, 354, 499, 5, 378, 2, 306, 2295], [48, 54, 251, 37, 393], [91, 74, 27, 56], [10, 15, 2, 4630], [49, 1535, 2, 115, 251, 21, 618, 105, 4, 877, 161, 2, 102], [109, 173, 5, 1089, 89], [70, 2, 15, 169, 202, 286, 10, 13], [380, 102, 471, 5, 4631], [39, 292, 47, 10, 21, 167, 35, 220, 143, 41], [4632, 120, 5, 4633, 8, 299, 334, 30, 4634], [135, 499, 13, 2398, 193, 4635], [213, 92, 23, 258, 463], [51, 37, 13, 88], [70, 13, 1936, 19, 2, 352, 1817, 4636], [86, 28, 11, 4, 324, 230, 112, 132, 4637, 248, 987], [51, 37, 13, 88], [22, 4, 704], [51, 37, 742, 92, 31, 4638, 4639], [43, 2, 730, 122, 53, 48], [4640, 4641, 304, 49, 10, 9, 1825, 1052, 39, 43, 1003, 687, 47, 10], [14, 2, 276, 59, 2, 4642, 31, 306, 59, 244], [134, 1014, 13, 893, 90, 201, 1053, 13, 4643, 4644, 4645, 4646, 43, 2, 75, 1159, 13, 8, 4647, 4648, 1717], [14, 2, 232, 11, 209, 358, 30], [51, 37, 5, 92], [34, 4649, 2402, 32, 4650, 3, 786, 922, 33, 1444, 32], [26, 197, 178, 5, 188, 192, 9, 362, 327], [59, 744], [4651, 140, 17, 405, 132, 27, 34, 63], [41, 24, 18], [14, 2, 62, 2, 36], [22, 18], [688, 17, 4652, 85, 1041], [65, 128], [43, 2, 588, 48], [11, 20, 10, 15], [11, 20, 10, 15], [162, 323, 17], [14, 2, 392, 85], [11, 20, 10, 15, 1126, 799, 28, 32], [6, 573, 12, 3, 7], [43, 2, 131, 390, 5, 1089, 235], [11, 20, 10, 15, 1126, 799, 28, 32], [249, 51, 37], [14, 2, 232, 99], [868, 92, 23, 258, 463], [1210, 429, 491, 76], [1341, 53], [4653, 9, 4, 77, 2, 319, 4654, 256, 248, 456], [115, 720, 5, 47, 225], [22, 1103, 59, 190], [54, 1226, 116, 78, 4, 70, 4655, 151, 659, 346], [213, 92, 23, 258, 463], [868, 92, 23, 258, 463], [943, 39, 58, 127, 59, 28, 38, 1201, 4656, 39, 767, 117, 38, 142, 274], [134, 33, 8, 4657, 1093, 13, 137, 104, 1229, 71, 4, 829, 5, 8, 544, 281], [39, 78, 4, 102, 72, 9, 519, 161, 2, 115, 38, 102, 251], [15, 93, 13, 4658, 4659, 80, 61, 10, 15], [11, 2042, 1582], [165, 967], [158, 19, 13, 32, 1727, 1728, 4660], [1146, 400, 118, 13, 894], [48, 251, 37], [11, 368, 499], [86, 28, 109, 138], [809, 400, 118, 13, 894], [48, 491], [11, 20, 10, 15], [6, 16, 12, 3, 7], [209, 30, 3, 11, 20], [79, 55, 52, 2403, 890, 73, 391, 36, 79, 9, 25, 44, 40, 42, 46, 5, 228, 9, 57], [6, 895, 141, 12, 3, 7], [1390, 19], [22, 4, 282], [35, 19, 184, 409, 248, 193, 1152, 194], [49, 229, 111, 43, 251, 395, 5, 686, 48, 181, 72, 67, 4, 702, 1730], [26, 197, 4661, 5, 477, 1235, 9, 362, 327], [11, 20, 10, 15], [128, 71, 4, 29], [532, 856, 10, 15], [10, 15, 70], [10, 15, 248, 61, 10, 139], [140, 17, 273, 56], [17, 27, 56, 3, 140], [114, 71, 34, 78, 148, 15, 335, 47, 10], [169, 22, 4, 82, 32, 4662, 4663], [140, 17, 27, 56], [22, 1067, 2, 58], [79, 55, 23, 310, 4664, 988, 989, 279, 196, 2050, 373, 40, 988, 989, 9, 25], [26, 1336, 231, 194, 9, 25], [11, 20, 10, 15, 21, 63, 17, 70], [54, 10, 13, 11, 20, 299, 393], [10, 1143], [6, 4665, 141, 12, 3, 7], [11, 658, 1711, 21, 1711, 71, 229, 5, 1389, 4666, 11, 600, 180, 2, 75, 292, 2, 609, 812, 229], [11, 20, 17, 63], [131, 54, 207, 1742, 1740, 1741], [131, 54, 207, 1742, 2316, 2317], [131, 54, 207, 1742, 4667, 4668], [997, 4669, 403, 35, 75, 1273], [8, 48, 67, 4, 102, 567, 4670, 4671], [131, 54, 207, 84, 309, 4672, 2404, 2405], [14, 2, 102, 23, 250], [49, 17, 27], [441, 216, 349, 9, 50, 385, 94, 8, 84, 4673, 127, 185, 147], [34, 15, 10, 11, 20, 95], [250, 48, 53, 648], [148, 35, 68, 3, 2, 8, 208, 28, 41, 5, 8, 235, 34, 284, 72, 2, 999], [36, 35, 75, 727, 34, 284, 2, 999], [4, 77, 2, 440, 792, 17, 4674, 1704], [48, 1344, 2, 8, 4675], [6, 399, 12, 3, 7], [444, 340, 31, 1716], [6, 369, 12, 3, 7], [292, 47, 10, 965, 167, 22, 67, 4, 62, 2], [14, 2, 24, 2, 526, 788, 60], [6, 332, 12, 3, 7], [17, 27, 3, 11, 20], [39, 42, 4, 77, 2, 24, 2, 41, 4676], [34, 69, 161, 2, 198, 57, 41, 604, 1635, 1430, 5, 47, 23, 2258, 89, 39, 89], [91, 74, 1210, 336, 86], [8, 26, 53, 118, 648, 40, 42, 3, 234, 130, 8, 118, 648, 90, 201, 549, 5, 541], [221, 71, 14, 2, 58, 1112, 82, 2108], [11, 20, 17, 27], [6, 16, 12, 3, 7], [6, 16, 12, 3, 7], [6, 785, 12, 3, 7], [8, 85, 2406, 355, 8, 731, 8, 862, 105, 2103, 21, 167, 72, 35, 75, 844, 5], [4677, 4678, 101, 604, 2, 475, 322], [266, 55, 303, 1280], [35, 24, 59], [11, 17, 10, 15], [6, 1723, 12, 3, 7], [41, 4, 29], [14, 2, 276, 340], [6, 4679, 12, 3, 7], [165, 2, 389, 448], [323, 162, 19, 13, 4680, 4681], [14, 2, 784, 237, 185, 31, 1316, 1100, 248, 41, 101], [83, 1378, 1978, 847, 2, 75, 38, 4682, 1030, 18, 21, 155, 572], [51, 37, 5, 88], [4683, 84, 2407, 2397], [937, 947, 356, 2, 8, 769, 254, 13, 6, 475, 52], [32, 575, 2, 37, 93, 80, 10, 139, 171], [51, 37, 5, 88], [14, 2, 62, 2, 36], [730, 53, 433], [22, 958, 94, 247, 2, 58, 38, 54, 59, 4684], [48, 251, 203], [1423, 4, 2408, 28, 11], [14, 2, 24, 2, 65, 73, 31, 305], [79, 55, 40, 52, 52, 44, 42, 46, 73, 9, 5, 228, 79], [1423, 4, 2408, 28, 11], [587, 4685, 4686], [140, 10, 15], [6, 895, 141, 12, 3, 7], [14, 2, 58, 22, 112, 382, 8, 10], [22, 4, 29], [14, 2, 58, 158, 281, 31, 305, 83, 647], [135, 73, 105, 4, 2286, 59, 244, 112, 49, 365], [135, 314, 146, 105, 4, 58, 2, 70, 2375, 130, 355], [14, 2, 58, 4687, 31, 202], [184, 108, 4, 29], [857, 660, 2, 1261, 2, 59, 66, 839, 119, 236, 33, 59, 4688, 59, 9, 239, 219, 23], [129, 191, 1116], [267, 101], [109, 9, 4, 2195], [6, 895, 141, 12, 3, 7], [43, 2, 730, 48], [34, 101, 321, 1368, 40, 42, 4689, 1743, 130], [11, 19, 18, 20, 19, 32, 116, 90, 461, 27, 4690], [6, 895, 141, 12, 3, 7], [74, 650, 379], [14, 2, 151, 184, 108], [6, 895, 141, 12, 3, 7], [1007, 1144, 18], [6, 895, 141, 12, 3, 7], [22, 907, 331, 45, 22, 18], [22, 443, 869], [122, 39, 42, 4691, 2, 8, 4692, 11, 20, 21, 20, 1483], [821, 2, 20], [14, 2, 58, 22, 21, 41], [14, 2, 68, 3, 2, 186], [674], [126, 34, 122, 4693, 4694, 2, 8, 351, 4695, 2, 19, 1538], [17, 63], [855, 19], [6, 895, 141, 12, 3, 7], [22, 958], [23, 235], [1266, 17, 164, 402, 31, 2409, 436, 499], [14, 2, 246, 45, 122, 3, 5, 22], [1266, 17, 164, 402, 31, 2409, 436, 4696], [106, 96, 173], [276, 752, 9, 4, 29, 22], [22, 9, 4, 29], [10, 15, 70, 219, 995, 996], [289, 4697, 4698], [43, 8, 299, 334, 122, 3], [14, 2, 232, 22], [14, 2, 62, 2, 36], [12, 41, 4699], [620, 678, 2, 483, 462, 1139], [675, 21, 20, 10, 15], [17, 63], [162, 4, 29], [43, 1923, 10, 15, 13, 11, 675, 135, 909], [14, 2, 24, 2, 11, 20], [85, 105, 4, 597, 5, 4700, 1120, 155, 1510, 1120, 100, 243, 2, 1309, 155, 1404, 5, 498], [1536, 306, 149, 9, 4, 29, 21, 8, 253, 9, 1744], [11, 20, 10, 15], [975, 30, 40, 1669, 480, 95], [22, 613], [221, 3, 52, 172, 325, 159, 4701, 71, 14, 2, 151, 855, 53], [4702, 4703, 273, 56], [51, 37, 5, 88], [100, 123, 4, 77, 2, 860, 1879, 606, 3, 4704, 463, 1114], [14, 2, 62, 2, 36], [11, 20, 18], [24, 69, 2, 226], [34, 450, 142, 2410, 1161, 4705, 31, 32, 4706, 4707, 4708], [15, 8, 10, 13, 4709, 4710, 5, 11, 95, 11], [26, 4711, 1335, 252, 241, 401, 25, 44, 40, 42, 46, 5], [54, 10, 4, 324, 3, 8, 49], [60, 1588, 5, 1246], [14, 2, 245, 135, 514, 245, 21, 45, 5, 65], [41, 4, 29], [4712, 759, 2, 208, 406], [36, 19], [6, 16, 12, 3, 7], [14, 2, 58, 690, 3, 45, 202], [10, 15, 61, 10, 139], [58, 113, 982, 4713], [22, 700, 324], [140, 27, 56], [32, 575, 2, 68, 3, 2, 4714], [50, 19, 2, 272], [30, 325, 476, 94, 983, 32, 705, 5, 106, 291], [136, 162, 459, 459, 950, 1724, 1350, 260, 73, 482, 1002, 2411, 1493, 1494, 1350, 1745], [17, 27, 3, 140], [6, 369, 12, 3, 7], [10, 63, 13, 4715], [62, 4716, 4717, 4718, 2, 83, 155, 66], [48, 491], [8, 994, 199, 5, 456, 67, 4, 82, 596], [72, 69], [519, 439, 916, 33, 296, 33, 159], [14, 2, 81, 47, 114, 10, 72, 90, 4, 2394, 277, 1143, 3, 736], [754, 57], [583, 18, 40, 23, 542, 342], [11, 20, 10, 15], [6, 16, 12, 3, 7], [15, 93, 13, 4719, 4720, 80, 61, 10, 15], [2250, 224], [166, 18], [89, 9, 4, 4721, 1147, 1746, 66], [4722, 458, 1704, 4723], [19, 2, 2412, 191, 580], [2413, 4724], [4725], [36, 459, 23, 310, 553, 97, 279, 196, 25], [107, 1137, 18], [1111, 4726], [971, 17, 4727, 5, 8, 83, 1892, 198, 57, 338, 148, 124, 237, 1736, 1006, 40, 4728, 4729], [149, 1954, 4730, 4731], [153, 265, 4732, 67, 4, 4733, 3, 91, 74, 11, 116], [53, 4, 144, 13, 510, 34, 136, 100, 21, 100, 561, 562], [4734, 586], [76, 28, 372, 765, 766], [76, 28, 1018, 4735, 4736, 1712, 42, 1713], [1004, 203], [100, 50, 257, 4737], [11, 19, 18], [10, 15], [26, 9, 25, 44, 42, 46, 5], [69, 2, 103, 110, 13, 318], [35, 24], [32, 17, 9, 556, 27, 303, 2414], [99, 203, 18, 13, 4738], [86, 28, 773, 600], [125, 109, 203, 9, 4, 487, 151, 317, 908], [2401, 1063, 148, 124, 38, 54, 120, 436], [773, 67, 4, 82], [4739, 4740, 2123, 124, 19, 2, 861, 84, 862, 90, 1207, 861, 10, 430, 148, 34, 69, 587], [17, 27, 56, 21, 10, 15], [11, 10, 27], [2415, 3, 8, 97, 1047, 172, 123, 4, 82], [6, 16, 12, 3, 7], [85, 866, 1073, 4, 29], [4, 77, 2, 102, 5, 116], [773, 31, 8, 414, 968, 67, 4, 82, 28, 8, 283, 137, 4, 4741], [326, 48, 1694, 40, 159, 67, 4, 82], [94, 773, 230, 8, 120, 1526, 57, 182, 8, 4742, 67, 4, 875], [953, 9, 4, 259, 248, 4743, 181, 953, 177, 1870, 9, 259], [11, 24, 30], [17, 164, 402], [739, 625, 583, 111], [348, 374, 9, 4, 29], [177, 9, 4, 29], [17, 27, 56, 21, 10, 15], [70, 2, 15, 169, 202, 286, 10], [106, 96, 173], [22, 4, 29], [11, 4, 29], [30, 100, 382, 10, 3, 61, 10, 139, 30, 2416, 9, 346], [63, 850, 13, 32, 2414], [6, 210, 12, 3, 7], [6, 210, 12, 3, 7], [6, 210, 12, 3, 7], [49, 17, 27], [4, 77, 2, 24, 330], [234, 807, 734, 114, 60, 18], [84, 10, 926, 86], [1137, 2231], [41, 430, 4, 82], [85, 1671, 18], [4744, 2210, 134, 4745, 35, 75, 4746, 56], [266, 55, 303, 1280], [70, 2, 15, 169, 202, 286, 10, 13], [6, 934, 12, 3, 7], [84, 105, 4, 597, 5], [91, 74, 19, 1065], [939, 256, 1243, 572], [6, 16, 12, 3, 7], [6, 16, 12, 3, 7], [6, 16, 12, 3, 7], [6, 337, 12, 3, 7], [6, 934, 12, 3, 7], [26, 197, 178, 5, 477, 4747, 9, 362, 327], [14, 2, 616, 184, 108], [6, 16, 12, 3, 7], [6, 16, 12, 3, 7], [6, 16, 12, 3, 7], [177, 55, 52, 23, 890, 73, 9, 160, 25, 44, 40, 42, 46, 5], [1747, 33, 304, 1351, 23, 1743, 896, 23, 138, 1748, 605, 1749, 31, 26], [6, 337, 12, 3, 7], [3, 26, 26, 26, 194, 721, 231, 9, 4, 206], [6, 16, 12, 3, 7], [34, 15, 114, 10, 13, 822, 92], [6, 817, 12, 3, 7], [6, 16, 12, 3, 7], [41, 13, 238, 9, 2417, 25, 94, 712, 8, 84], [156, 261, 23, 260, 543, 870, 165, 787, 157, 9, 25, 44, 87, 5, 46], [6, 16, 12, 3, 7], [6, 301, 12, 3, 7], [6, 301, 12, 3, 7], [6, 16, 12, 3, 7], [6, 4748, 12, 3, 7], [86, 108, 31, 1472, 1174, 23, 138, 1884, 150], [23, 262, 52, 52, 1915, 1924, 19, 157, 261, 9, 25, 40, 52, 23, 342, 44, 87, 46, 5], [6, 16, 12, 3, 7], [35, 62, 2, 195, 1838, 162, 243], [6, 16, 12, 3, 7], [6, 16, 12, 3, 7], [6, 16, 12, 3, 7], [6, 16, 12, 3, 7], [6, 16, 12, 3, 7], [26, 197, 352, 250, 571, 26, 1326, 5, 66, 9, 189, 98, 178, 98, 144, 255], [1146, 400, 118, 13, 1148], [809, 400, 118, 13, 894], [1642, 2129, 1464, 117, 2130, 31, 404, 244], [1721, 234, 896, 23, 138, 96, 811, 40, 1205, 1084, 1303, 13, 1148], [6, 16, 12, 3, 7], [53, 55, 52, 23, 249, 53, 9, 25, 44, 42, 46, 5], [128, 4, 324], [6, 16, 12, 3, 7], [26, 20, 197, 178, 5, 477, 4749, 9, 362, 327], [6, 332, 12, 3, 7], [125, 22, 4, 955, 10], [6, 16, 12, 3, 7], [11, 10, 27], [467, 2, 19, 4750, 31, 350, 810], [6, 4751, 141, 12, 3, 7], [6, 16, 12, 3, 7], [79, 55, 97, 23, 4752, 4753, 391, 36, 9, 25, 44, 87, 5, 46], [14, 2, 298, 28, 236, 283, 204], [76, 632, 108], [65, 1003], [35, 307, 41, 13, 238, 28, 359, 185, 21, 649, 72, 67, 4, 1429, 21, 1287, 75, 1284, 25], [6, 4754, 12, 3, 7], [6, 4755, 12, 3, 7], [378, 2, 36], [14, 2, 510, 31, 8, 567, 134, 3, 236, 48], [14, 2, 353, 184, 108], [15, 8, 10, 13, 4756, 4757, 5, 11, 95, 11], [324, 10, 5, 61], [36], [299, 4, 282, 134, 876], [222, 518], [14, 2, 115, 4758, 5, 8, 83], [14, 2, 62, 2, 41], [450, 4759, 4760, 31, 114, 1963, 21, 23, 621], [632, 108, 30, 120], [22, 9, 4, 259], [11, 10, 15, 107, 17, 461, 27, 56], [14, 2, 24, 2, 41], [533, 4761, 1124, 4, 29, 28, 54, 89, 60, 692, 322, 326, 21, 4762, 4763, 300, 60], [10, 90, 277], [2418, 71, 4, 444, 1149], [52, 230, 211, 57, 3, 8, 1094, 2, 123, 254], [11, 111], [99, 30], [15, 158, 10], [4, 77, 2, 123, 643, 13, 1695, 30, 697, 17, 1466], [14, 2, 136, 128, 67, 4, 298, 17, 518, 71, 4764], [190, 330, 17], [51, 37, 5, 92], [11, 110, 111], [2158, 660, 2, 198, 718, 31, 4765, 4766, 462], [1322, 45, 19, 3, 1127, 89], [2419, 27], [2419, 27], [1058, 4767, 274], [11, 20, 17, 27], [106, 96, 322], [322, 13, 523, 212, 765, 766], [10, 277], [915, 484, 458, 5, 113], [6, 16, 12, 3, 7], [14, 2, 81, 10, 5, 61, 10, 139], [13, 99, 21, 99], [17, 132, 27, 869], [280, 4768, 1551, 13, 5, 230, 21, 1604], [72, 11], [85, 2020, 53, 759, 4, 29, 3, 326, 4769], [280, 1308, 3, 290], [1119, 13, 1302, 377, 21, 122, 5, 149], [322, 13, 523, 212, 4770, 4771], [76, 28, 84, 970, 2300, 2301], [345, 311, 4772, 212], [322, 13, 1577, 1453, 1454], [1083, 2, 8, 133, 3, 176, 137, 445, 133], [86, 28, 11, 209], [6, 399, 12, 3, 7], [6, 399, 12, 3, 7], [115, 125, 22, 40, 83, 33, 2193, 4773, 4774], [6, 399, 12, 3, 7], [49, 173, 120], [10, 63, 11, 20], [2420], [50, 821, 2, 8, 53, 28, 83, 970, 3, 4775, 445], [26, 1731, 2421, 460, 200, 1383, 446, 328, 4776, 359, 19, 4777], [1377, 4778, 124, 54, 783, 3, 8, 175, 175, 338, 39, 1609, 2, 540, 8, 296, 4779], [4780, 133, 19], [4781, 33, 4782, 3, 121, 9, 4, 29], [18, 28, 11, 20], [22, 59, 19, 13, 4783, 4784, 106, 96, 173, 275, 96], [30, 5, 4785, 4786, 85], [296, 18], [441, 216, 8, 84, 1310, 57, 28, 38, 569, 146], [78, 4, 472, 398, 294, 2, 413, 18], [85, 67, 4, 19, 28, 53], [36, 24, 18, 17, 273, 56], [106, 96, 173, 23, 585], [1004, 30, 3, 20, 11, 60], [4787, 116], [222, 4, 704], [140, 17, 273, 56, 21, 10, 15, 248, 61, 10, 139], [380, 33, 2068, 1103, 3, 4788, 4789, 13, 158, 152, 748], [179, 626, 389], [140, 17, 27, 56], [41, 18, 14, 2, 601, 155, 344, 333, 3, 41], [410, 48, 179], [6, 16, 12, 3, 7], [3, 8, 700, 767, 563, 349, 71, 735, 128, 240, 90, 4, 201, 560, 181, 39, 701, 1608], [6, 12, 349, 9, 50, 4790, 28, 1200, 4791, 34, 136, 317], [17, 273, 56, 18], [790, 190, 439, 4792], [430, 4, 131, 300, 254, 3, 4793, 60, 274, 2422], [17, 273, 56, 18], [6, 16, 12, 3, 7], [2423, 176, 2424, 84, 67, 4, 268], [14, 2, 102, 31, 11], [79, 55, 156, 348, 1249, 4794, 71, 25, 40, 87, 46, 5, 73, 9, 57, 5, 348, 79], [6, 332, 12, 3, 7], [53, 55, 52, 370, 36, 79, 9, 25, 40, 87, 46, 5, 73, 9, 57, 5, 228], [14, 2, 62, 2, 8, 658, 889, 21, 889, 422, 43, 69, 2, 62, 414], [4795, 105, 4, 1246, 631, 1309, 177, 2425, 243, 431, 4796, 38, 653, 498], [79, 55, 52, 36, 79, 9, 25, 40, 87, 46, 5, 79, 9, 57, 5, 228], [14, 2, 68, 3, 2, 11, 20], [14, 2, 68, 3, 2, 11, 20], [820, 195, 118], [110, 656, 31, 253, 221, 780, 2, 8, 48], [60, 154, 5, 268, 57], [136, 459, 162, 73, 482, 1002, 2411, 1493, 1494, 1350, 1745], [52, 102], [220, 5, 9, 4, 29], [83, 107, 86], [14, 2, 246, 91, 74], [465, 203], [4797, 8, 1558, 5, 47, 308, 71, 1045, 112, 38, 552, 21, 1254, 978, 2371], [14, 2, 117, 5, 41, 185, 208, 28, 1269, 1524], [52, 1580, 2160, 71, 27, 56, 33, 186, 21, 4, 77, 2, 510, 3, 95, 21, 4798, 606, 122], [4799, 4800, 17, 90, 277], [221, 3, 2426, 575, 2, 37, 984, 453], [1442, 37], [39, 42, 768, 90, 1124, 1124, 21, 124, 201, 4801, 484, 100, 35, 643], [96, 634, 689, 13, 52], [51, 37, 5, 88], [51, 37, 5, 88], [96, 4, 206, 216, 4802, 1184, 1292], [448, 511, 439, 389, 448], [667, 1750, 5, 47, 83, 1505, 105, 4, 82, 2427, 1751, 667, 90, 547, 29], [43, 19, 2, 2345, 2346, 128], [22, 9, 4, 263, 30, 43, 10], [2428, 76, 28, 169, 65, 21, 47, 23, 17], [51, 37], [266, 323, 19], [17, 27], [820, 4803, 5, 104, 84], [403, 21, 2143, 13, 2429, 1348, 75, 2429], [35, 601, 155, 4804, 333, 5, 235], [32, 180, 104, 17, 119, 1025, 3, 8, 770, 2, 75, 127, 420, 17, 431, 182, 417, 78, 122, 38, 54, 2355], [54, 85, 198, 57], [387, 65, 73, 9, 50, 257, 717, 38, 387, 116, 94, 38, 54, 387, 9, 356], [267, 101, 28, 505], [39, 124, 361, 54, 296, 783, 181, 94, 39, 599, 2, 1568, 8, 2430, 155, 1477, 72, 3, 38, 2430, 72, 607, 296, 67, 4, 875], [35, 19, 59], [34, 224, 1267, 164, 5, 8, 183, 616, 146, 3, 8, 1651, 408], [91, 74], [361, 1613, 1614, 965, 4805, 72, 67, 4, 875, 3, 11, 181, 8, 1693, 1330, 607, 72, 1608, 2431], [190, 1299, 9, 8, 1245, 33, 483, 462, 389, 4806, 4807, 893], [10, 15, 70], [34, 688, 212, 17], [91, 74, 10, 15], [14, 2, 81, 8, 10, 31, 61], [14, 2, 68, 3, 2, 59, 11, 21, 65], [582, 4808, 4809, 1006, 179], [22, 19], [6, 16, 12, 3, 7], [14, 2, 353, 38, 508, 383, 31, 65], [6, 16, 12, 3, 7], [280, 2432, 3, 11], [6, 16, 12, 3, 7], [6, 16, 12, 3, 7], [34, 15, 47, 10, 13, 135, 4810, 20], [43, 69, 2, 15, 10], [78, 148, 69, 161, 15, 10, 13, 169, 1937, 34], [8, 1167, 33, 4811, 413, 6, 9, 4, 593, 8, 4812, 823, 1036, 524], [48, 81, 31, 2433, 2, 2433], [107, 971, 33, 465], [14, 2, 62, 2, 226], [133, 19, 165, 1898, 1899], [239, 328, 977], [1082, 19, 806, 9, 4, 29], [539, 131, 13, 54, 2147], [43, 11, 19, 2, 738, 2434, 4813], [8, 336, 752, 33, 8, 41, 621, 416, 67, 4, 82], [498, 1509, 4814, 1318, 34, 117, 38, 54, 236, 89, 639, 1540], [136, 32, 4815, 17], [76, 28, 632, 108, 21, 99, 4816, 33, 4817], [129, 285, 19, 70, 13, 726, 1717], [693, 694, 2435, 27], [41, 971], [19, 13, 4818, 4819, 2, 462], [290, 1103, 66, 367, 18], [4820, 671, 2436, 28, 11, 646, 858, 31, 159, 2, 159], [10, 15, 364, 31, 285], [32, 2437, 2438, 35, 103, 214, 2439, 56, 33, 2440, 56, 2441], [594, 129, 67, 4, 496, 392, 57, 39, 117, 38, 569, 1255, 146, 28, 50, 68, 5, 4821], [594, 67, 4, 392, 57, 496, 461, 38, 569, 1255, 146, 1386], [322, 13, 523, 100, 528, 521, 522], [523, 84, 212, 528, 521, 522], [131, 54, 207, 4822, 2404, 2405], [125, 109, 22, 18], [35, 307, 626, 2, 715, 3, 91, 74, 132, 30, 120], [322, 13, 4823, 4824, 4825], [79, 55, 4826, 944, 36, 196, 25, 44, 42, 437, 73, 57, 5, 228], [81, 33, 84, 2, 32, 4827, 114, 198, 57, 81], [10, 15, 364, 31, 285], [2435, 17, 239], [50, 53, 118], [59, 499], [11, 20, 273, 56, 18, 21, 10, 15], [732, 34, 447, 104, 1752, 794, 2, 92], [35, 626, 428, 297, 33, 577, 31, 166], [50, 19, 2, 8, 66, 174], [463, 122, 380, 678], [14, 2, 58, 22, 256], [732, 34, 447, 104, 1752, 794, 2, 92], [65, 13, 238, 4, 298], [236, 32, 35, 344, 129, 191, 31, 984, 33, 4828, 4829, 202], [539, 21, 59, 256, 131], [1030, 488], [1030, 203], [1030, 203], [1268, 413, 6, 2442], [264, 4, 717], [69, 2, 81, 8, 49, 10, 80, 61, 10, 74], [126, 24, 18], [47, 843, 533, 3, 236, 35, 75, 243, 349, 9, 1636, 181, 1565], [133, 19, 2, 26, 1629, 4830], [186, 10, 15, 13, 4831], [26, 11, 1335, 66, 1336, 231, 194, 9, 25], [1569, 2070, 2443], [737, 9, 104, 4832, 191], [39, 42, 80, 65, 3, 45, 661, 71, 134, 47, 65, 4833, 483, 28, 4834, 39, 123, 4, 703, 21, 4835, 534, 47, 4836], [30, 5, 11], [158, 10, 15], [43, 2, 151, 134, 1890, 128], [123, 4, 124, 19, 2, 287], [252, 977, 102, 100, 229, 609, 59], [467, 2, 1262, 59, 593], [122, 2410, 2, 19, 129, 4837], [41, 24, 18], [26, 197, 477, 242, 5, 66, 26, 9, 189, 98, 178, 4838, 411], [26, 670, 525, 782, 435, 328, 1092, 446, 66, 708, 194, 149], [38, 171, 5, 127, 129, 191, 607, 39, 42, 4839], [349, 978, 2367, 129, 340, 2444, 28, 38, 163, 129, 191, 70], [11, 2307, 355, 5, 662], [1380, 4840, 325, 533, 111], [4841, 203, 4842, 984], [32, 295, 2, 703, 338, 349, 168, 127, 55, 3, 52], [6, 2445, 141, 12, 3, 7], [6, 2445, 141, 12, 3, 7], [6, 4843, 12, 3, 7], [4844, 167, 51, 394, 2390, 933], [638, 134, 289, 5, 10, 139], [14, 2, 58, 1775, 31, 91, 74], [35, 117, 19, 2, 59], [14, 2, 68, 3, 2, 272], [70, 2, 15, 169, 202, 286, 10, 13], [51, 37, 5, 92], [51, 37, 5, 88], [15, 8, 10, 13, 4845, 4846, 5, 253, 114], [51, 37, 88], [70, 2, 15, 169, 202, 286, 10, 13], [100, 71, 614, 14, 2, 472, 264, 1231, 13, 312, 34, 2446, 467, 2, 4847], [6, 2065, 12, 3, 7], [6, 399, 12, 3, 7], [51, 37, 5, 92], [462, 491], [32, 14, 2, 68, 831, 407], [74, 4848], [6, 399, 12, 3, 7], [84, 1896, 1094, 342], [10, 15], [52, 102, 136], [107, 411, 8, 2447, 317, 71, 211, 57, 3, 4849, 420, 4850, 3, 45], [26, 11, 20, 197, 477, 1235, 5, 66, 9, 189, 98, 178, 98, 144, 858], [6, 573, 12, 3, 7], [22, 9, 1726, 519, 13, 10], [14, 2, 2120, 38, 494, 3, 11], [272, 9, 27, 56], [17, 63], [114, 242, 4, 1516], [51, 37, 5, 92], [14, 2, 68, 3, 2, 41], [1716, 70, 13, 323, 266, 19], [625, 697, 18, 4851], [115, 99], [8, 272, 238, 256, 35, 75, 878], [121, 4852, 948, 377, 4853, 2448, 366, 2449, 383, 2448, 21, 4854, 366, 1333, 33, 2450, 21, 2450, 145], [11, 20, 17, 63, 21, 10, 15], [17, 132, 27, 5, 49], [343, 10, 15], [1520, 4855, 84, 25], [110, 656, 14, 2, 264, 4856, 1695, 30, 4857, 38, 924, 50, 924, 5, 230], [26, 290, 523, 66, 669, 721, 231, 241, 1447, 194, 9, 25], [14, 2, 19, 738, 137], [6, 16, 12, 3, 7], [2311, 471, 3, 11, 700, 105, 4, 906, 143, 4858, 112, 709, 365], [330, 4859, 1691, 481, 119, 25, 3, 199], [50, 118, 2, 8, 66], [85, 1751], [468, 468, 23, 23, 310, 2451, 2452, 651, 19, 157, 9, 25, 44, 40, 42, 46, 5], [66, 13, 1138, 133, 3, 97, 9, 4, 144], [2221, 485, 118, 2, 2222, 476, 38, 9, 25, 5, 1289, 1753], [487, 113, 383, 13, 4860, 9, 963, 5, 976, 175], [185, 4, 29, 85, 30, 50, 96, 395, 30], [65, 9, 4, 2453], [133, 19], [2339, 297, 4861], [1289, 107, 70, 4862, 81, 321, 789, 264, 2219, 244, 33, 183, 4863, 31, 97, 2, 628], [6, 469, 12, 3, 7], [4, 77, 2, 428, 204, 5, 26], [6, 469, 12, 3, 7], [6, 714, 12, 3, 7], [36, 4, 955, 10], [6, 714, 12, 3, 7], [6, 16, 12, 3, 7], [26, 721, 231, 280, 150, 33, 530, 33, 241, 721, 231], [6, 469, 12, 3, 7], [6, 469, 12, 3, 7], [2004, 300, 53, 55, 40, 97, 4864, 97], [6, 16, 12, 3, 7], [6, 469, 12, 3, 7], [6, 469, 12, 3, 7], [50, 19, 2, 4865], [218, 504, 793, 1345, 5, 23, 262, 52, 52, 261, 872, 19, 157, 9, 25], [19, 2, 53, 433], [24, 30], [51, 37, 88], [100, 43, 2, 81, 8, 2443, 13, 4866, 4867, 3, 22, 2, 95, 139, 78, 148, 123, 104], [215, 2175, 368], [18, 28, 330], [296, 3, 881, 13, 2454, 1957, 2, 2359, 549, 143, 1259, 4868], [4869, 147, 9, 4, 2453, 119, 8, 871, 4870, 2, 58, 28, 9, 292], [1011, 1754], [76, 28, 36, 1577, 521, 522], [122, 32, 4871, 4872, 4873, 2, 140, 351, 1561], [50, 59, 4874, 112, 49, 37, 5, 47, 4875], [76, 28, 672, 1503, 1919, 1920], [183, 113, 1296, 438, 1434], [304, 23, 323, 17, 1402], [6, 16, 12, 3, 7], [4, 77, 2, 58, 1199], [345, 311, 966, 2288, 2289], [76, 28, 919, 2455, 2456], [76, 28, 446, 1352, 1353], [30, 68, 5, 36, 66], [70, 13, 19, 2, 66, 26, 21, 26, 4876, 4877, 21, 654], [51, 37, 5, 92, 31, 4878, 4879], [34, 1349, 396, 31, 183, 113, 2, 4880, 4881, 901], [4882, 4883, 297, 204, 35, 75, 564], [17, 273, 56, 140], [99, 166, 36, 21, 99, 18], [91, 74, 1921], [22, 9, 699, 13, 93, 303, 303], [43, 304, 322], [162, 13, 23, 323, 18, 3, 234, 771, 249], [371, 101, 4884, 1438, 168, 1033, 5, 253, 812, 21, 386], [6, 16, 12, 3, 7], [684, 30, 595, 671, 912, 21, 312, 3, 20, 107], [17, 27, 56, 10, 277], [50, 320, 31, 253, 812], [11, 24, 17, 9, 27], [6, 16, 12, 3, 7], [59, 244, 4, 1508, 57, 1097], [937, 148, 34, 69, 81, 8, 59, 33, 1137, 300, 13, 153, 2], [14, 2, 24, 2, 11, 20], [69, 2, 103, 110, 283, 13, 318], [582, 381, 3, 1099, 21, 4885, 4886], [53, 18], [249, 2269, 65], [125, 223, 147, 4, 259, 30, 4887, 245, 147, 613], [104, 757, 39, 430, 4, 68, 3, 2, 47, 84, 431, 34, 273, 56, 47, 84], [32, 14, 2, 1732, 739, 625], [559, 1325, 1150, 151, 1354, 570], [4888, 4889, 59, 88], [6, 493, 206, 257, 327, 541, 891, 21, 1008], [11, 24, 20, 170], [11, 20, 17, 63], [4890, 4891], [14, 2, 19, 183, 21, 1035, 503], [41, 146, 534, 18], [444, 8, 754, 300, 3, 11, 20], [4892, 2457, 508, 70, 383, 3, 65], [177, 55, 1219, 73, 9, 160, 25, 40, 87, 46, 5, 50, 205, 79, 13, 8, 73], [14, 2, 246, 22], [70, 2, 15, 169, 202, 286, 10, 13], [69, 2, 81, 8, 49, 10, 80, 61, 10, 74], [267, 101, 50, 150, 50, 987], [11, 290, 2183, 81, 159], [120, 26, 23, 138, 9, 243, 9, 4, 243], [193, 633, 1195, 1196], [396, 284, 113, 796, 479, 21, 284, 479], [11, 24, 30, 120], [35, 117, 19, 2, 59], [1332, 96, 634, 518, 31, 165, 2, 584, 881, 60], [65, 24, 18], [11, 20, 17, 63], [8, 545, 296, 168, 1093, 3, 533, 644, 4893, 224, 296, 494, 4894, 175], [6, 301, 12, 3, 7], [638, 11, 10], [6, 301, 12, 3, 7], [6, 301, 12, 3, 7], [6, 301, 12, 3, 7], [32, 295, 3, 13, 127, 37], [24, 10, 278, 107, 13, 2234], [43, 2, 103, 38, 1652, 110, 442, 5, 431, 240, 9, 4895, 80, 8, 2458, 2459, 4896], [2098, 383, 1096, 4, 29, 3, 695], [84, 282, 1889, 539, 943, 32, 9, 367, 3, 28, 116, 21, 10], [11, 290, 91, 74, 408, 268, 30], [48, 4, 4897, 56, 110, 656], [14, 2, 232, 135, 314], [39, 35, 58, 38, 4898, 147, 182, 168, 346, 2, 127, 59, 2083, 38, 713, 30], [14, 2, 151, 4899, 4900, 128], [126, 14, 2, 24, 2, 8, 226], [495, 17, 315], [103, 110, 283, 172, 159, 4901, 1081, 30, 107, 4902], [51, 37, 88], [14, 2, 24, 2, 216, 441], [195, 248, 348, 167, 29], [14, 2, 424, 38, 242], [19, 2, 418], [10, 15], [51, 37, 5, 88], [213, 34, 447, 104, 1752, 794, 2, 92], [110, 656, 90, 681, 110, 28, 280, 110, 1504], [14, 2, 68, 3, 2, 41], [513, 101, 857, 386, 112, 4903, 1051], [22, 4, 263], [242, 203], [8, 857, 116, 224, 5, 221, 590, 89, 67, 4, 224, 608], [43, 2, 122, 1739, 1798], [92, 51, 37], [6, 16, 12, 3, 7], [11, 2428, 18], [15, 8, 10, 13, 4904, 4905, 5, 11, 95, 480], [1018, 32, 17, 277, 4906, 4907], [35, 58, 663, 3, 864, 481, 38, 100, 146, 94, 259], [35, 19, 45], [209, 358, 30, 5, 11], [650, 1680, 13, 1521, 705], [15, 8, 10, 13, 4908, 4909, 5, 11, 95, 11], [41, 105, 4, 723, 161, 220, 3, 607, 8, 244, 148, 4910, 9, 4, 1062], [11, 20, 10, 15], [6, 469, 12, 3, 7], [32, 116, 27], [6, 469, 12, 3, 7], [65, 2111, 2006, 4911], [6, 469, 12, 3, 7], [6, 16, 12, 3, 7], [6, 714, 12, 3, 7], [6, 469, 12, 3, 7], [43, 11, 19, 2, 32, 2460, 13, 11, 918], [6, 16, 12, 3, 7], [34, 319, 6, 4912, 34, 565, 51, 2, 4913, 4914], [4915, 23, 3, 11, 4, 1304], [1068, 175], [11, 480, 4916], [17, 27], [6, 16, 12, 3, 7], [30, 119, 4917, 88], [19, 2, 8, 2461, 258, 379, 2462, 67, 4, 82], [13, 30, 120, 264, 494, 416, 4918, 120], [6, 16, 12, 3, 7], [1509, 4919, 4920], [19, 4921, 13, 1676, 13, 472, 671, 111], [22, 613, 67, 4, 58], [79, 55, 598, 23, 310, 1947, 598, 279, 25, 44, 42, 437, 73, 57, 5, 228], [6, 16, 12, 3, 7], [6, 16, 12, 3, 7], [410, 427, 179], [83, 5, 1854, 1460, 1779, 179, 225, 9, 40, 38, 2228], [11, 20, 17, 27], [22, 9, 699, 13, 10], [48, 67, 4, 82, 112, 38, 4922, 81], [6, 16, 12, 3, 7], [1486, 179, 84, 13, 649, 4923], [535, 4924, 149], [32, 2437, 2438, 35, 103, 214, 2439, 56, 33, 2440, 56, 2441], [131, 1183, 212, 622, 623], [39, 43, 53, 2202, 13, 4925, 40, 1215], [76, 28, 452, 3, 208, 406, 1411, 1412], [17, 1590, 4, 1117, 5, 45], [523, 18, 28, 8, 577, 1308], [330, 18], [17, 27, 3, 140], [112, 382, 47, 24, 116, 10, 3, 61, 10, 4926, 240, 168, 2463, 39, 4927, 47, 60, 22, 4928], [14, 2, 276, 155, 344, 59], [49, 17, 27], [14, 2, 24, 143, 330], [6, 16, 12, 3, 7], [6, 16, 12, 3, 7], [6, 2464, 12, 3, 7], [49, 17, 27], [14, 2, 24, 2, 91, 74], [14, 2, 58, 22], [14, 2, 24, 2, 91, 74], [4929], [169, 109, 242, 124, 86, 430, 4, 19, 171, 21, 763, 57, 274, 33, 84, 2465], [1137, 300], [53, 55, 23, 310, 4930, 23, 2154, 279, 196, 50, 205, 44, 87, 437], [6, 16, 12, 3, 7], [2423, 1460, 176, 176], [1583, 336, 67, 4, 307, 8, 296, 546, 5, 8, 383], [4, 77, 2, 58, 1201, 659, 204], [4931, 52, 800, 22, 576, 4, 702, 5, 130, 701, 2, 75, 891, 364, 3, 473, 44, 87, 46], [6, 493, 12, 3, 7], [6, 493, 168, 206, 257, 327, 541], [52, 90, 4932, 186, 10, 2466, 581, 461, 32, 1347, 12, 30, 35, 1679, 95], [6, 2464, 12, 3, 7], [216, 569, 146, 30, 107], [14, 2, 232, 22], [215, 281, 30], [576, 100, 276, 56, 1097, 11, 709, 365], [53, 55, 156, 156, 23, 160, 25, 44, 87, 5, 46], [36, 118, 111], [6, 399, 12, 3, 7], [106, 96, 173, 13, 8, 54, 235], [4933, 2322, 3, 921, 973, 799], [4934, 2, 1588, 438, 364, 18], [131, 130, 4, 2323, 496], [514, 11, 45, 34, 615, 661, 2365, 2366, 193, 17, 3, 11, 45, 9, 4, 1342, 119, 127, 193], [35, 336, 82, 258, 3, 225, 546, 3, 4935, 680, 4936, 2459], [6, 399, 12, 3, 7], [35, 81, 3, 1755, 503], [15, 93, 13, 4937, 4938, 80, 61, 10, 15], [51, 37, 5, 92], [4939, 4940, 83, 3, 8, 4941, 4942, 105, 4, 268, 177, 9, 243, 181, 4943, 94, 1110, 9, 4944], [65, 73, 4945], [126, 14, 2, 58, 237, 204, 31, 65], [35, 19, 2, 23, 65], [11, 113, 4946, 2467, 1656], [14, 2, 246, 65], [156, 23, 2385, 79, 1961, 4947, 44, 40, 87, 437, 5, 73, 9, 420, 5, 228], [354, 2, 616, 8, 545, 1034, 1803, 735, 795], [14, 2, 24, 2, 8, 639, 85, 119, 883, 211, 50, 118, 2, 66], [6, 16, 12, 3, 7], [17, 27], [41, 583, 9, 1744, 507, 4948, 21, 4949, 3, 321, 50, 1026, 202, 55, 31, 66, 1252], [14, 19, 350, 810], [1319, 9, 4, 2468, 4950, 1149], [4951, 35, 68, 143, 82, 377], [424, 577, 320, 9, 30, 683, 1169, 38, 4952, 59, 9, 371], [14, 2, 24, 2, 11, 20], [53, 55, 2132, 756, 73, 9, 160, 25, 44, 40, 42, 46, 5, 50, 205], [79, 55, 52, 2403, 890, 73, 391, 79, 9, 25, 44, 40, 42, 46, 5, 228, 9, 57], [128], [79, 55, 598, 432, 956, 551, 391, 79, 9, 25, 44, 40, 42, 46, 5, 228, 79, 9, 57], [4953, 2051], [11, 20, 10, 15], [76, 28, 36, 256], [14, 2, 68, 3, 2, 11, 20], [1322, 19, 2, 2232, 4954, 409, 538, 3, 1019], [32, 4, 77, 2, 62, 2, 104, 137], [70, 2, 15, 169, 202, 286, 10, 13], [65, 18], [11, 20, 17, 63, 21, 10, 15], [70, 2, 15, 169, 202, 286, 10, 13], [41, 333, 4, 29], [209, 170, 3, 11], [559, 242, 120], [49, 17, 315], [14, 2, 392, 60, 2, 49], [272, 10, 9, 4, 29], [1316, 427, 9, 4, 29], [14, 2, 24, 2142, 151], [142, 227, 892, 918, 50, 801, 125, 802, 125, 602, 803, 497, 26], [4955, 2, 222], [158, 10, 15], [987, 654, 111, 94, 293, 171, 4956, 40, 52], [17, 27, 56], [14, 2, 62, 2, 162], [149, 1549, 30], [23, 633, 235, 4957], [169, 10, 15], [693, 694, 10, 4, 29], [34, 117, 466, 1085, 13, 161], [314, 9, 4, 29], [34, 136, 4958, 3, 8, 1315], [131, 19, 13, 163], [66, 1756, 97, 100, 71, 4, 77, 2, 19, 237, 204, 3, 133, 2462, 40, 8, 54, 66], [142, 227, 3, 174, 4959, 497, 2402, 1127, 4960], [66, 1756, 97, 4961, 4962, 4963], [11, 105, 4, 877, 161, 2, 103, 127, 317, 2, 153, 17], [32, 90, 1736, 5, 8, 307, 33, 61, 10, 139], [2352, 39, 957, 1891, 3, 11, 39, 784, 127, 4964, 4965, 385, 422, 94, 39, 599, 2, 19, 38, 494], [4966, 823, 85], [105, 4, 722, 57], [47, 59, 9, 4, 324, 3, 8, 757], [51, 37, 5, 88], [10, 86], [185, 4, 29], [11, 267, 146], [14, 2, 268, 8, 84, 883, 211, 1246, 713], [6, 16, 12, 3, 7], [15, 93, 13, 2081, 2082, 80, 61, 10, 15], [11, 20, 10, 15, 1065, 219, 995, 996], [39, 42, 247, 2, 58, 38, 147, 346, 2, 38, 45, 21, 8, 1006, 9, 1498, 39, 35, 58, 104, 147], [560, 21, 698, 19, 13, 176, 137, 133], [14, 2, 22], [15, 8, 10, 13, 4967, 4968, 5, 253, 20, 3, 11], [34, 103, 38, 82, 982, 13, 8, 193, 4969, 4970, 4971, 50], [17, 27, 3, 140], [51, 37, 5, 92], [6, 2080, 12, 3, 7], [41, 1228, 33, 41, 333, 362, 618, 795, 3, 541, 31, 1715, 2, 97, 527, 38, 604, 101], [17, 132, 27, 2469, 4972], [37, 1674, 4973], [126, 559, 24, 67, 4, 1223, 93, 248, 4974, 10, 60, 467, 2, 37, 1223, 559, 10], [17, 27, 3, 140], [6, 16, 12, 3, 7], [19, 852, 2, 8, 133, 1698, 4975], [198, 321, 494], [14, 2, 24, 2, 11], [6, 16, 12, 3, 7], [15, 10, 13, 11, 4976, 17, 239], [69, 28, 223, 182, 1254, 31, 45], [170, 1264, 59], [6, 16, 12, 3, 7], [911, 10], [1301, 230, 31, 4977, 830], [213, 570, 300, 114], [15, 10, 4978], [39, 42, 50, 362, 77, 2, 347, 38, 133, 3, 22], [380, 8, 2292], [6, 16, 12, 3, 7], [14, 2, 24, 2, 456], [76, 28, 24, 1984, 1985], [345, 311, 22, 1193, 1194], [48, 67, 4, 82, 1411, 1412], [733, 3, 1294, 2470, 4, 2113, 2, 121], [14, 2, 58, 8, 113, 680, 31, 8, 11], [11, 20, 17, 27], [60, 192, 33, 66, 26, 9, 359], [275, 137, 4979, 50, 257, 144, 112, 66, 1756], [6, 16, 12, 3, 7], [45, 76], [94, 39, 1757, 957, 5, 38, 95, 113, 3, 11, 409, 360, 976, 8, 769, 1136, 67, 4, 722, 57], [48, 35, 347, 510, 244], [791, 35, 75, 1550, 3, 1305, 119, 8, 545, 120], [385, 18], [99, 1019, 336, 18], [114, 1333, 18, 440, 236, 150, 155, 4980, 808, 1757, 94, 935, 59, 3, 54, 114, 242], [58, 4981, 663], [11, 21, 53, 19, 2465], [6, 16, 12, 3, 7], [949, 4, 29], [813, 129, 9, 167, 1141], [2386, 352, 9, 167, 1141], [26, 255, 250, 2471, 2472, 9, 167, 1141], [6, 16, 12, 3, 7], [131, 54, 85, 679, 1215, 1069, 1070], [653, 229, 654, 40, 1694], [131, 54, 207, 2455, 2456], [4982, 2392, 657, 25], [4983, 424], [6, 16, 12, 3, 7], [145, 205, 539, 37], [8, 146, 3, 8, 1057, 1696, 2243, 8, 4984, 4985, 60, 9, 179], [153, 986], [6, 399, 12, 3, 7], [4986, 2473, 47, 10, 1143, 3, 778], [441, 216, 4987], [34, 122, 109, 48, 3, 47, 54, 85], [4988], [135, 446, 67, 4, 82], [294, 2, 147, 66, 390, 50, 19, 2, 8, 379, 174], [50, 19, 31, 1206, 1698, 2305, 859, 2, 4989, 4990, 4991, 4992], [10, 689], [6, 16, 12, 3, 7], [42, 4, 77, 2, 58, 237, 2474, 1073, 21, 135, 73, 248, 171, 328, 171], [49, 17, 27], [14, 2, 58, 854, 4993, 340], [949, 130, 1714, 9, 4, 2457, 34, 899, 104, 18, 119, 1052, 119, 174], [11, 1305, 35, 2151, 8, 533, 791, 28, 30, 120, 947, 8, 317], [78, 4, 123, 2095, 13, 104, 285, 28, 398], [10], [43, 2, 75, 77, 2, 103, 557, 360, 4994, 21, 4995], [91, 74, 4, 29], [49, 10, 277], [49, 17, 27], [6, 16, 12, 3, 7], [1017], [6, 16, 12, 3, 7], [441, 216, 49, 4996, 4997], [158, 24, 18], [24, 18], [6, 16, 12, 3, 7], [6, 16, 12, 3, 7], [52, 4998, 36, 196, 9, 25, 44, 87, 5, 46], [612, 5, 23, 310, 553, 602, 97, 1547, 787, 157, 23, 138, 243, 2, 260, 4999], [26, 290, 1, 152, 141, 2475, 231, 280, 150, 33, 530, 33, 241, 2475, 231, 888, 530, 2476, 181, 394], [6, 337, 12, 3, 7], [6, 673, 12, 3, 7], [6, 16, 12, 3, 7], [6, 16, 12, 3, 7], [6, 16, 12, 3, 7], [468, 468, 23, 23, 310, 2451, 2452, 651, 19, 157, 9, 25, 44, 40, 42, 46, 5], [6, 337, 12, 3, 7], [156, 156, 669, 218, 612, 5, 23, 260, 543, 669, 870, 165, 787, 157, 9, 25], [6, 817, 12, 3, 7], [50, 118, 2, 104, 137, 3, 262], [632, 552, 33, 2255, 695, 642], [26, 1, 9, 416, 206, 112, 8, 1, 552], [23, 260, 804, 234, 23, 1, 165, 19, 157, 23, 138, 9, 25, 44, 87, 5, 46], [158, 24, 18], [32, 14, 2, 24, 2, 11], [26, 1, 1248, 66, 23, 156, 156, 197, 255, 250, 2471, 2472, 5, 66, 26, 9, 189, 98, 697], [97, 2383, 26, 25, 107], [1, 1149, 1167, 108], [1758, 364, 38, 1, 177, 1, 1309, 484, 1, 168, 969, 1, 1435], [32, 1025, 182, 8, 195, 838, 386, 1536, 862, 2477, 2, 58, 8, 1410, 305, 342], [6, 16, 12, 3, 7], [98, 536, 129, 250, 571, 813, 1718, 98, 178, 144, 255, 44, 42, 437], [26, 670, 525, 782, 435, 328, 1092, 708, 194, 149, 25], [22, 76, 22, 67, 4, 268], [22, 4, 259, 3, 85], [6, 16, 12, 3, 7], [142, 227, 3, 1, 142, 773, 497], [6, 16, 12, 3, 7], [6, 16, 12, 3, 7], [6, 16, 12, 3, 7], [288, 375, 30, 1759], [864, 203, 3, 106, 96], [1268, 413, 6, 16], [6, 1534, 12, 3, 7], [218, 504, 485, 793, 1345, 5, 23, 262, 52, 52, 261, 872, 19, 157, 23, 138, 9, 123], [1425, 149, 3, 8, 1, 389, 1479, 1480, 9, 4, 29], [6, 16, 12, 3, 7, 1673], [813, 197, 129, 250, 571, 813, 1718, 5, 66, 813, 9, 189, 98, 178], [776, 1499, 497, 281, 168, 4, 29, 3, 595, 87, 2, 87, 46, 5, 46], [6, 16, 12, 3, 7], [14, 2, 24, 2, 23, 99], [125, 45, 291, 5, 308], [11, 1565], [86, 28, 1], [807, 234, 218, 612, 485, 851, 5, 23, 260, 804, 807, 255, 19, 157, 23, 138, 9, 25], [65, 190], [19, 2, 99], [6, 493, 168, 206, 257, 327, 541, 891, 21, 1008], [14, 2, 24], [101, 31, 306, 32], [436], [72, 18], [1609, 2, 136, 8, 59, 338, 72, 9, 436], [127, 2478, 90, 1, 31, 8, 1035, 351, 2, 23], [213, 92, 676, 356], [213, 92, 676, 356], [51, 37, 5, 104, 92], [70, 13, 19, 2, 45, 60], [215, 835], [10, 15], [18, 94, 324, 2460], [126, 52, 19, 2, 1, 1238, 2, 73, 2141, 269], [17, 273, 56, 21, 10, 15, 2358], [23, 59, 289, 1, 1], [35, 58, 22], [65, 5, 89, 67, 4, 298], [37, 2, 109], [436, 59, 499], [6, 1705, 12, 3, 7], [887, 1642, 169, 49, 1, 1, 1734, 1, 1274, 125, 1], [1721, 1, 896, 23, 138, 96, 811, 40, 1205, 1084, 1303, 13, 2479, 1499, 1147, 176], [23, 341, 896, 23, 138, 96, 811, 38, 293, 197, 33, 1146, 400, 118, 13, 1148, 2480], [23, 341, 896, 23, 138, 96, 811, 38, 293, 197, 33, 1146, 400, 118, 13, 1148, 2480], [1747, 33, 304, 1351, 23, 1743, 896, 23, 138, 1748, 605, 1749, 31, 26], [14, 2, 246, 135, 314, 199], [1355, 2481, 1512, 1760, 293, 26], [24, 381], [243, 8, 871, 48], [6, 16, 12, 3, 7], [54, 2482, 289, 1147, 8, 45, 60], [569, 146, 30], [22, 4, 263, 294, 2, 45, 30], [17, 164, 402], [32, 27, 56, 33, 11, 20, 11], [436, 155, 4], [11, 20, 17, 315], [54, 32, 116], [11, 20, 17, 27], [106, 96, 173], [129, 448, 885, 109, 90, 2, 75, 2074, 2], [185, 4, 29], [190, 742, 1], [14, 2, 2351, 25, 222, 977], [6, 332, 12, 3, 7], [91, 74, 67, 4, 58], [22, 4, 263], [51, 37, 88], [94, 259, 166, 132, 8, 169, 350, 865, 4, 395, 30], [41, 67, 4, 58], [114, 89, 60], [15, 93, 13, 1, 1, 80, 61, 10, 15], [23, 260, 804, 234, 19, 157, 40, 234, 176, 188, 54, 172, 342, 71, 25, 1, 42, 46, 5], [114, 576, 4, 359, 37, 1, 347, 8, 68, 3], [54, 10, 67, 4, 82, 112, 10, 81], [51, 37, 5, 88], [51, 37], [10, 15, 70], [1, 1, 295, 13, 91, 74, 18], [59, 436, 190], [3, 1, 976, 13, 72, 563, 38, 110, 283], [10, 15, 364, 31, 285], [177, 1, 5, 226, 528, 840], [106, 96, 173, 23, 585], [11, 68, 3, 37, 393, 762, 34], [128, 4, 753, 31, 22, 143, 114], [322, 13, 1, 521, 522], [158, 24, 18, 10, 18], [63, 17, 59, 3, 500, 89, 8, 221, 1, 1, 1, 1, 21, 1, 2356], [1078, 2483, 35, 62, 2, 1, 223, 31, 331, 45], [36, 9, 4, 378], [261, 23, 310, 553, 97, 129, 651, 2285, 19, 157, 40, 97, 9, 25, 44, 42, 46], [59], [22, 59, 37, 18], [436, 59, 190], [1233, 1, 35, 15, 10, 34, 635, 40, 8, 770], [226, 166, 4, 29, 1505], [22, 18], [65, 4, 1603], [11, 19, 18], [685, 57, 309, 72, 1555, 1427, 1428], [149, 707, 212, 1683, 1712, 42, 1713], [34, 124, 38, 635, 40, 312, 8, 2484, 21, 1755, 281, 1348, 411, 75, 229, 119, 8, 666, 281, 2, 8, 113, 4, 112], [26, 280, 150, 33, 530, 33, 241, 1, 231, 888, 530, 2476, 181, 394], [128, 31, 2412, 462, 123, 4, 1374, 3, 114, 388], [371, 54, 85, 43, 22, 491, 69], [1600, 747, 2136], [6, 16, 12, 3, 7], [6, 16, 12, 3, 7], [43, 19, 2, 26, 2293, 133], [908, 136], [1508, 70, 35, 102], [34, 81, 2, 8, 1], [17, 164, 402], [1151, 191, 2299, 33, 706, 2446], [331, 45], [1, 11, 424, 13, 97, 159, 9, 2273, 13, 438, 44, 362, 327, 236, 778], [1034, 1096, 9, 4, 29, 3, 695, 1], [85, 146, 1744], [166, 20, 1335, 4, 29], [6, 1288, 12, 3, 7], [6, 1283, 12, 3, 7], [81, 706, 2484, 13, 1527, 1524, 411, 991, 245, 31, 1032, 2, 1032], [1, 261], [674, 1, 1699, 1, 1], [14, 2, 424, 204, 31, 1], [43, 1, 21, 10, 33, 21, 13, 1, 152, 141], [49, 27], [8, 525, 199, 9, 409, 38, 25, 187, 5, 26, 44, 87, 437], [661, 8, 292, 2467, 33, 8, 175, 90, 4, 201, 1373, 2, 8, 183, 113], [1031, 1, 1, 306, 2454, 187, 900], [43, 19, 2, 514, 104, 137], [51, 37, 524, 585, 2, 1, 1, 13, 287, 19], [152, 141, 1115, 59, 17, 164, 402], [152, 141, 1115, 59, 17, 164, 402], [151, 317, 1, 67, 4, 563], [26, 384, 366, 192, 302, 5, 129, 9, 167, 240, 9, 269, 8, 274, 339], [26, 384, 366, 192, 302, 5, 352, 9, 167, 240, 9, 269, 8, 274, 339], [128, 71, 4, 556, 316, 31, 8, 350, 1, 1], [39, 70, 1, 33, 8, 2009, 33, 8, 1, 3, 113, 2, 2449, 8, 1, 33, 38, 1, 1, 941], [14, 2, 68, 3, 2, 41], [48, 251, 37], [52, 1, 9, 25, 44, 87, 46, 5], [91, 74, 1136, 5, 8, 308], [70, 2, 15, 169, 202, 286, 10, 13, 1], [39, 42, 247, 2, 19, 45, 248, 158, 181, 132, 120, 10, 90, 277, 39, 1611, 61, 10, 139], [26, 188, 5, 66, 26, 9, 189, 98, 178, 98, 144, 255], [14, 2, 117, 8, 183, 550, 3, 215], [100, 247, 2, 1, 8, 1523, 446, 1, 254, 1, 33, 38, 1, 2237, 774, 31, 38, 454, 2485, 1], [114, 24, 18, 1, 1], [1319, 9, 4, 1, 1356, 1149, 2, 193, 1313, 325], [63, 11, 20, 17], [14, 2, 24, 2, 65], [14, 2, 24, 2, 8, 83], [1, 1, 66, 1, 66, 1, 26], [47, 11, 24, 847, 4, 2, 75, 29], [114, 37], [63, 17, 59, 3, 500, 89, 8, 221, 1, 1, 116, 1, 21, 1, 1, 116, 1], [183, 550, 503, 67, 4, 563, 57, 8, 546], [6, 16, 12, 3, 7], [125, 45, 202, 2474, 1073, 690, 18], [14, 2, 58, 663, 3, 11], [14, 2, 103, 398], [2, 69, 1, 1], [17, 9, 27], [6, 573, 12, 3, 7], [15, 8, 10, 13, 1, 1212, 1, 1, 5, 253, 1746, 460], [125, 22, 18, 125, 45, 363, 18], [22, 18], [477, 242, 147, 60, 5, 26, 90, 178, 33, 98], [572, 969, 5, 83], [11, 2171, 1490, 9, 4, 29, 1, 84, 1022], [17, 63, 70, 31, 1, 1, 1735], [14, 2, 19, 8, 1520, 1, 5, 8, 226], [4, 77, 2, 24, 2, 226], [49, 10, 15], [14, 2, 19, 65, 72, 2389], [1823, 123, 643, 13, 175], [1130, 74, 1396], [152, 141, 925], [6, 399, 12, 3, 7], [14, 2, 24, 2, 41], [6, 399, 12, 3, 7], [6, 399, 12, 3, 7], [26, 11, 20, 384, 366, 192, 302, 5, 305, 9, 167, 240, 9, 269, 8, 274, 339], [166, 11, 709, 18], [693, 694, 63, 70, 1], [174, 1, 2486, 1686, 1274], [1084, 1303, 13, 2479], [1146, 400, 118, 13, 1148], [225, 768, 5, 2487, 146], [589, 153, 1114, 30], [107, 32, 1, 34, 688, 17], [149, 5, 917, 9, 56], [278, 107, 15, 49, 10], [41, 67, 4, 58], [22, 67, 4, 58], [10, 35, 292], [994, 203], [330, 10], [18, 3, 166], [193, 1, 1, 180, 463, 13, 8, 133, 147, 176, 1470], [48, 4, 29], [15, 8, 10, 13, 1, 1, 5, 49, 24], [48, 5, 640, 225, 410, 3, 1238, 651, 90, 38, 1, 758, 2018], [19, 54, 1036, 73], [4, 77, 2, 151, 418, 3, 166], [34, 69], [647, 203, 659, 13, 434, 109], [191, 19, 3, 106], [8, 346, 1, 3, 1, 451, 187, 181, 35, 75, 1973], [11, 24, 18], [214, 1, 1203, 67, 4, 82, 3, 20], [203, 33, 91, 74, 99, 1688, 1581, 1], [2488, 753, 2, 1298, 1, 4, 29, 1, 117, 1, 2, 839], [177, 555, 40, 8, 842, 377, 67, 4, 82], [1, 311, 226], [4, 77, 2, 220, 3, 65], [114, 242, 365, 2489, 1761], [64, 6, 3, 7, 16], [64, 6, 3, 7, 16], [994, 18], [64, 6, 3, 7, 16], [99, 4, 259], [136, 266, 19, 806, 1762, 1762, 21, 604, 406, 1762, 1352, 1353], [166, 30], [76, 28, 452, 212, 765, 766], [76, 28, 452, 212, 765, 766], [266, 19, 806, 2489, 1761, 2211, 2212], [1, 19, 2, 1, 1922, 1, 97, 9, 50, 257, 174], [671, 2436, 858], [1658, 1, 835, 13, 312], [8, 84, 374, 35, 62, 2, 8, 2490], [1077, 67, 4, 82, 3, 11], [64, 6, 3, 7, 16], [491, 33, 1684, 258], [218, 25, 52, 261, 1220, 1753, 261, 44, 87, 437], [15, 93, 13, 1, 1, 80, 61, 10, 15], [64, 6, 3, 7, 16], [48, 131], [114, 1, 1, 1, 1], [17, 27, 3, 11, 20], [511, 13, 620, 2287, 2491, 3, 297], [14, 2, 220, 3, 2, 41], [14, 2, 232, 166, 132, 169, 350, 30], [26, 384, 366, 192, 302, 5, 188, 9, 167, 240, 9, 269, 8, 274, 339], [26, 662, 579, 9, 167, 240, 9, 954, 8, 30, 339], [397, 1, 298, 12, 50, 298, 969, 3, 8, 666, 682, 34, 615], [59, 972, 18], [216, 149, 224, 18], [64, 6, 3, 7, 16], [158, 76, 184, 108], [39, 35, 344, 333, 248, 114, 8, 101, 1526, 248, 21, 1, 236, 130, 618, 879, 2, 841, 39, 1284, 114, 21], [34, 15, 304, 142, 2, 8, 65, 2492, 478], [35, 151, 2230, 13, 664, 1600], [39, 43, 19, 2, 272, 418, 39, 422, 43, 11, 19, 13, 1308, 634, 418, 39, 42, 556, 848, 19, 3, 11], [142, 227, 3, 1, 1, 2493, 897, 1, 381], [43, 2, 117, 8, 184, 313, 1356, 1, 119, 1839], [11, 20, 10, 27], [142, 227, 3, 809, 400, 118, 13, 894, 31], [11, 20, 17, 63], [326, 66, 9, 132, 359, 303, 39, 124, 394, 255, 182, 39, 78, 1, 181, 182, 105, 4, 666, 592, 509, 78, 148, 69], [35, 58, 22], [26, 192, 302, 5, 188, 9, 167, 240, 9, 269, 8, 274, 339, 56, 33, 662, 1071, 415], [72, 1003, 43, 19, 1, 2, 65, 2492, 171], [2494, 2495, 26, 404, 9, 409, 814, 574, 711, 111], [2494, 2495, 26, 404, 409, 814, 574, 711, 111], [64, 6, 3, 7, 1], [559, 1325, 1150, 151, 1354, 1, 56, 1418, 1, 411, 183, 1346], [64, 6, 3, 7, 16], [14, 2, 517, 83, 31, 1, 112, 1, 2, 951], [14, 2, 1, 7, 471, 472, 256, 1, 5, 26, 26, 26, 21, 26], [39, 123, 4, 124, 19, 2, 163, 368, 909], [69, 2, 81, 8, 49, 10, 80, 61, 10, 74], [15, 93, 13, 1, 781, 1, 80, 61, 10, 15], [17, 9, 27], [11, 2382, 1, 18, 28, 717, 1108, 1323, 230], [285, 137, 170, 3, 225], [14, 2, 68, 3, 2, 158], [85, 1763, 119, 72, 2406, 3, 1], [1, 21, 26, 180, 2, 75, 356, 2, 8, 68, 5, 17, 13, 1], [64, 6, 3, 7, 16], [10, 15], [86, 28, 979, 3, 97, 97, 13, 8, 346, 96], [52, 800, 66, 1, 83, 1, 9, 25, 44, 42, 5], [213, 11, 20, 19, 852], [10, 15, 11], [106, 96, 173], [86, 28, 979, 3, 97, 97, 13, 8, 346, 96], [22, 443, 100, 1, 1], [11, 30, 1, 113, 67, 4, 875, 94, 247, 2, 319, 1081, 21, 103, 38, 110], [59, 19, 2, 106, 96], [26, 205, 66, 636, 170, 1787, 433], [1747, 33, 304, 1351, 23, 341, 896, 23, 138, 1748, 605, 1749, 31, 26], [925, 284], [37, 47, 11, 1], [23, 1343, 4, 5, 8, 84], [14, 2, 246, 1104], [64, 6, 3, 7, 16], [64, 6, 3, 7, 16], [64, 6, 3, 7, 16], [64, 6, 3, 7, 16], [14, 2, 81, 1221], [789, 1827, 1, 21, 2400], [14, 2, 19, 125, 363, 45, 1, 876], [4, 77, 2, 24, 2, 49], [11, 20, 17, 63], [100, 71, 14, 2, 1236, 104, 264, 31, 997], [17, 63], [1, 35, 62, 1], [64, 6, 3, 7, 16], [64, 6, 3, 7, 1], [11, 20, 19, 852], [296, 515, 1, 1832], [59, 499], [50, 320, 5, 101], [10, 15, 140], [2496, 19, 9, 170], [14, 2, 24, 2, 11], [34, 380, 1, 566, 3, 2413, 1032, 2497, 2498, 22], [17, 27, 3, 140], [50, 19, 2, 163, 368], [55, 932, 1, 3, 52, 2326, 401, 25], [22, 9, 4, 259], [34, 63, 8, 2298, 40, 1, 410], [54, 49, 83, 1, 35, 62, 2, 8, 1, 1750, 329, 1, 528], [1007, 1144, 18], [17, 27], [34, 825, 1, 50], [10, 15, 2, 24, 2, 11, 480, 2, 75, 77, 2, 307, 155, 1372, 471, 3, 23], [11, 9, 4, 29, 30, 68, 5, 358, 30], [11, 9, 4, 29, 30, 68, 5, 358, 30], [11, 9, 4, 29, 30, 68, 5, 358, 30], [64, 6, 3, 7, 469], [11, 20, 68, 56], [64, 6, 3, 7, 16], [15, 8, 10, 13, 5, 11, 95, 11], [11, 209, 67, 4, 58], [11, 25, 195, 25, 3, 52, 756, 342], [66, 25], [64, 6, 3, 7, 16], [66, 76], [11, 20, 60, 67, 4, 82, 50, 95, 230, 78, 75, 960], [11, 9, 4, 29], [50, 118, 2, 8, 11, 60], [378, 28, 11, 4, 174], [64, 6, 3, 7, 785], [11, 4, 29, 11, 55], [11, 9, 939, 25], [64, 6, 3, 7, 1], [11, 4, 29], [11, 20, 9, 4, 29], [11, 209, 4, 174, 112, 8, 30, 252, 221, 1], [76, 28, 414, 21, 48, 1, 1], [345, 311, 109, 1], [131, 54, 207, 2275], [567, 1, 2493, 4, 1155, 57, 3, 700], [39, 35, 102, 56, 11, 600, 5, 1145, 2393, 44, 442, 1188, 1, 34, 69], [2015, 72, 1555, 2014, 1290, 1291], [345, 311, 1, 1290, 1291], [53, 55, 40, 52, 756, 342, 172], [195, 4, 29, 3, 52, 342], [1737, 1, 35, 75, 774], [85, 4, 1, 5], [132, 274, 936, 3, 1, 100, 593, 56, 128, 329, 2362, 752, 467, 78, 39, 1151, 8, 274, 936], [398, 183, 550, 159], [11, 271, 2372, 2238, 242, 9, 4, 29], [15, 8, 10, 13, 1, 1, 5, 11, 95, 11], [1145, 14, 2, 276, 1, 2, 153, 183], [208, 1, 50, 41, 122, 3], [11, 209, 20, 20], [49, 192, 98, 536, 364, 26], [10, 4, 29, 13, 32, 1], [64, 6, 3, 7, 332], [49, 192, 98, 536, 364, 1707], [1351, 23, 341, 1, 23, 138, 40, 1, 9, 25, 44, 42, 46, 5], [49, 192, 98, 536, 364, 13, 26], [2415, 25, 1, 1, 2, 59, 9, 4, 29], [494, 316, 56, 329, 1145, 35, 75, 371, 3, 130], [10, 15], [1145, 9, 4, 29], [106, 96, 173], [2499, 33, 584, 225, 1, 1], [50, 1, 936, 174], [8, 218, 1, 887, 1, 1329, 21, 1329, 3, 1220, 1753, 261, 40, 52, 9, 25, 44, 42, 46, 5], [514, 72, 97, 11, 276, 808, 28, 59, 67, 4, 423], [107, 1703, 31, 214, 1203, 4, 29], [68, 5, 11, 10, 43, 2, 81], [111, 94, 786, 104, 584, 1375, 107], [107, 11, 2380, 4, 681], [47, 146, 937, 1, 1, 21, 1114, 28, 8, 754, 224, 251, 547, 263, 21, 90, 1], [800, 2500, 40, 52, 9, 898, 44, 42, 46, 5], [159, 250, 30], [26, 121, 66, 725, 233], [118, 2, 1, 1764, 1, 261, 839, 1764, 261, 9, 25, 40, 1, 42, 46], [69, 2, 81, 8, 341, 113, 150, 31, 916, 258, 1, 2, 2354], [4, 77, 2, 347, 38, 133, 3, 22], [14, 2, 276, 191, 28, 777, 1], [213, 570, 300, 114], [86, 28, 1, 89], [64, 6, 3, 7, 16], [34, 1606, 1699, 216, 85, 1, 411, 2501], [1, 85], [11, 20, 17, 27], [43, 667, 1750, 2, 424], [17, 173], [572, 90, 201, 394, 3, 47, 85], [123, 4, 1678, 2, 41, 208], [330, 10], [552, 33, 397, 26, 26, 397, 26, 1004, 152, 141], [312, 18], [39, 78, 4, 62, 2, 36], [8, 2478, 1134, 127, 30, 94, 367, 3, 2, 109, 2, 424, 8, 59, 317, 1038, 2, 417, 993], [2200, 481, 25, 44, 87, 437], [1, 1, 35, 2207, 649, 204], [34, 69, 122, 129, 191, 580, 2, 47, 22], [53, 55, 1, 1474, 73, 9, 160, 25, 40, 87, 46, 5, 50, 205, 79], [24, 18], [23, 24, 18], [8, 177, 2425, 33, 8, 1, 84, 9, 1763], [41, 13, 1], [2085, 21, 1, 796], [84, 1055], [26, 2422, 341, 30, 325, 1, 1, 1], [14, 2, 353, 508, 383], [15, 11, 20, 10, 13, 32, 1], [64, 6, 3, 7, 1357], [32, 461, 38, 763, 57, 182, 874, 572, 5, 8, 449], [24, 18], [34, 540, 266, 19, 31, 92, 2], [2240, 1, 720, 66, 1, 231, 21, 1, 231, 71, 211, 25, 44, 87, 5, 46], [14, 2, 24, 2, 861, 169, 59, 17], [177, 55, 52, 23, 249, 36, 79, 9, 25, 40, 87, 46, 5, 73, 9, 57, 5, 228], [578, 14, 2, 19, 2, 1107, 2, 1270, 3, 45], [30, 24, 5, 2, 8, 20, 60], [64, 6, 3, 7, 16], [142, 227, 3, 809, 400, 118, 13, 894, 31], [10, 15], [37, 5, 45, 19, 92], [51, 37, 5, 92], [51, 37, 5, 88], [51, 37, 5, 88], [51, 37, 5, 88], [142, 227, 3, 809, 400, 118, 13, 894, 31], [79, 55, 542, 156, 348, 79, 9, 25, 44, 42, 46, 5, 73, 9, 57, 5, 228, 1, 79], [14, 2, 19, 73], [430, 148, 34, 69, 198, 57, 11, 47, 32, 265, 21, 10, 123, 4, 82], [1, 1313, 30, 94, 247, 2, 540, 2, 159, 565, 2, 1, 1], [14, 2, 62, 2, 889], [30, 24, 5, 2, 8, 20, 60], [142, 227, 157, 3, 1, 174, 1734, 773], [14, 2, 62, 2, 53, 48], [43, 19, 2, 390, 66, 5, 54, 23, 235], [26, 1537, 2481, 293], [213, 570, 300, 114], [2377, 5, 410, 21, 410, 179], [809, 400, 118, 13, 894], [531, 1355, 194, 897, 897, 9, 25], [64, 6, 3, 7, 573], [531, 1355, 194, 897, 897, 9, 25], [531, 1355, 194, 897, 897, 9, 25], [26, 1512, 1760], [185, 4, 29], [1248, 1150, 198, 57], [43, 2, 81, 8, 137, 265, 33, 8, 53, 433], [60, 650, 18], [23, 59, 289], [53, 55, 434, 370, 53, 9, 25, 44, 42, 46, 5], [17, 2, 27], [14, 2, 19, 158], [252, 111, 28, 8, 23, 323, 162, 1797, 200], [47, 271, 105, 4, 246, 596], [45, 106, 291, 499], [213, 570, 300, 114], [53, 55, 598, 432, 956, 551, 228, 79, 1, 9, 25, 44, 42, 46, 5], [10, 15], [91, 74, 4, 82, 608, 21, 1, 252, 32, 13, 1, 241, 478], [22, 256, 18], [94, 29, 3, 22, 39, 35, 1, 8, 1266, 484, 33, 127, 59, 39, 124, 201, 77, 2, 123, 104, 751, 442], [213, 570, 300, 114], [1495, 1496, 90, 111, 2, 62, 23, 162, 53, 3, 628], [11, 19, 18], [11, 20, 273, 56], [10, 15], [22, 4, 29, 45, 18], [41, 275, 270, 18], [11, 20, 17, 63, 21, 10, 15], [378, 433, 2, 47, 84], [79, 55, 52, 23, 391, 79, 23, 52, 36, 196, 9, 25, 44, 42, 46, 5], [99], [64, 6, 3, 7, 301], [104, 120, 168, 316, 2, 8, 23, 1224, 379, 34, 457, 23, 590, 13, 362, 164], [14, 2, 62, 2, 629, 40, 52, 1580], [4, 174, 2, 702, 2, 123, 643, 13, 589, 1465, 1701, 1, 916, 258], [111, 28, 663, 5, 22], [10, 15], [36, 499], [11, 20, 10, 15], [19, 2, 99], [101, 1038, 2, 1], [14, 2, 62, 2, 8, 567, 48, 40, 305], [43, 19, 2, 1, 1, 3, 609, 220, 5, 200], [449, 18], [126, 609, 220, 5, 13, 135, 9, 4, 2461], [115, 222, 1689, 1690], [345, 311, 452, 1290, 1291], [14, 2, 103, 110], [112, 365, 114, 90, 1394, 31, 8, 146], [19, 2, 1107, 2, 1270], [76, 28, 259, 600, 3, 8, 2490, 28, 195, 421, 1352, 1353], [609, 220, 5, 200, 1017], [23, 323, 17, 677, 70], [10, 15], [76, 28, 983, 429, 941, 1147, 23, 1], [14, 2, 37, 10, 5, 61, 10, 139], [11, 850, 9, 1339], [14, 2, 1258, 264, 119, 641, 110], [26, 1, 95, 137, 129, 9, 359], [11, 20, 17, 273, 56, 18], [89, 111], [34, 101, 321], [22, 9, 665, 787, 2109, 30], [8, 223, 204, 681, 219, 1, 123, 4, 58, 5, 106, 2342, 33, 183, 581], [463, 130, 435, 1], [23, 310, 553, 97, 129, 651, 352, 1, 1, 19, 157, 261, 9, 25, 44, 42, 5], [288, 375, 30], [32, 116, 27], [1, 365, 67, 4, 82, 112, 533, 1, 349, 9, 50, 199, 1670, 38, 2502], [444, 66, 30, 3, 45, 1240, 1729, 2387, 374], [213, 570, 300, 114], [330, 10, 15, 70], [213, 570, 300, 114], [140, 17, 273, 56], [54, 113, 175, 1, 175, 858], [50, 1271], [43, 69, 3, 1011, 994], [59, 300], [4, 77, 2, 24, 2, 158, 200], [1, 4, 1697, 2, 1, 1458, 1511, 230, 21, 95, 230], [49, 60, 67, 4, 268], [162, 5, 1469, 566, 9, 4, 1, 3, 8, 208, 406], [1019, 706, 1, 4, 1093, 23, 997], [11, 20, 17, 273, 56, 18], [85, 177, 18], [935, 69, 13, 175], [81, 1, 375], [1507, 1, 97, 342, 97, 233], [213, 570, 300, 114], [35, 19, 20], [322, 13, 884, 1427, 1428], [76, 28, 121, 1, 1], [572, 394], [14, 2, 103, 110], [49, 17, 273, 56], [70, 2, 15, 169, 202, 286, 10, 13], [86, 311, 268, 3, 22], [312, 30, 591], [114, 242, 365, 13, 32, 2253], [22, 2503, 136, 30, 1759, 18], [64, 6, 3, 7, 16], [64, 6, 3, 7, 16], [64, 6, 3, 7, 16], [17, 27, 3, 140], [49, 17, 27], [14, 2, 24, 2, 11, 20], [627, 213, 92, 34, 1], [85, 197, 9, 4, 29], [22, 2503, 136, 4, 29, 1759, 18], [216, 498, 381], [175], [49, 17, 27], [14, 62, 2, 99], [64, 6, 3, 7, 332], [1, 906, 194, 5, 26, 9, 211, 25, 3, 776, 1792, 74], [2488, 13, 69], [30, 24, 5, 2, 8, 20, 60], [30, 24, 5, 2, 8, 20, 60], [69, 2, 81, 8, 49, 10, 80, 61, 10, 74], [410, 1, 1392, 50, 1], [32, 393, 69, 2, 24, 2, 11, 20], [64, 6, 3, 7, 1357], [69, 2, 81, 8, 49, 10, 80, 61, 10, 74], [64, 6, 3, 7, 16], [184, 108, 105, 4, 353], [1114, 9, 1, 57, 3, 1, 360, 544, 1, 1, 119, 33], [1706, 1], [216, 8, 60, 405, 549, 3, 2, 38, 2225, 33, 2417, 25, 107], [620, 1422, 678], [106, 96], [467, 78, 39, 276, 38, 649, 2, 2000, 1269, 33, 23], [126, 208, 1, 300], [14, 2, 58, 1, 204], [14, 2, 24, 2, 8, 261], [45, 17, 21, 457, 1, 69], [114, 89, 60, 568, 308, 1347, 241, 381], [45, 2321, 992, 4, 1, 31, 45, 2, 1666, 13, 1226, 408], [19, 2, 379], [137, 1150, 1, 393], [26, 23, 138, 9, 243, 9, 4, 243], [10, 15, 5, 158, 200], [184, 108, 4, 1853, 139], [83, 105, 4, 392, 917, 1334, 146, 50, 472, 90, 201, 154, 2, 268, 13, 38, 100], [945, 1624, 3, 52, 109, 1, 90, 38, 758, 1, 2247, 105, 4, 626], [10, 15], [17, 27, 56, 21, 10, 15, 70], [14, 2, 232, 22], [14, 2, 62, 2, 237, 53, 31, 85], [103, 739, 625, 93, 13, 1883, 1, 40, 52, 13, 38, 1229], [65, 18], [14, 2, 58, 22, 21, 158, 294, 2, 653, 10], [14, 2, 19, 128], [1007, 1144, 18], [17, 27, 56, 5, 11, 20], [19, 2, 91, 74], [514, 72, 97, 11, 102, 33, 1, 3, 1676, 67, 4, 423], [26, 135, 1098, 291, 445, 384, 366, 662, 579, 9, 167, 240, 9, 954, 8, 30, 339], [72, 97, 293, 1, 119, 10, 81, 12], [11, 19], [64, 6, 3, 7, 573], [126, 498, 1117, 2, 75, 2197, 594, 129], [725, 38, 194, 5, 8, 1321, 66], [10, 18], [49, 10, 15], [11, 20, 10, 15, 21, 63, 70], [14, 2, 19, 26], [14, 2, 232, 41], [51, 37, 190, 5, 51, 249, 1, 1], [14, 2, 62, 2, 23, 1241], [720, 1180, 30], [1, 2483], [4, 174, 2, 24, 294, 2, 38, 27, 17], [35, 702, 429, 150], [14, 2, 232, 272], [272, 1, 256, 67, 4, 58], [135, 200, 9, 4, 29], [126, 744, 18], [8, 1691, 40, 8, 1220, 33, 8, 226, 305, 281, 1162, 2, 75, 170], [86, 28, 1824], [14, 2, 15, 8, 10], [101, 31, 1, 1, 249, 2, 1658, 51], [2427, 2306, 33, 104, 137, 204, 233], [1, 295, 2, 136, 338, 17, 90, 201, 419], [43, 69, 3, 687, 11, 10, 21, 1, 134, 289], [17, 277, 13, 1649, 1650, 696, 1], [249, 950, 1765, 261, 39, 9, 25, 44, 42, 5, 46], [61, 10, 139, 2504, 127, 30, 100, 10, 81, 1056], [65, 202, 9, 4, 259], [22, 2505, 537], [15, 8, 10, 13, 2506, 2507, 5, 11, 95, 11], [1495, 1496, 27, 56, 1152, 31, 49, 21, 180, 38, 10, 15], [14, 2, 392, 57, 84], [17, 27, 3, 140], [41, 18, 125, 109, 907], [45, 1, 328, 812], [236, 283, 18], [63, 140, 17], [17, 27], [162, 154, 1312, 23, 234], [131, 54, 207, 1, 1], [81, 70, 35, 75, 506], [345, 311, 214, 1352, 1353], [131, 54, 207, 1727, 1728], [350, 810, 238, 256, 67, 4, 82], [106, 96, 23, 633, 1730, 885], [91, 74, 9, 4, 29], [1083, 30, 3, 22, 1761, 1, 1], [345, 311, 121, 1183, 100], [11, 20, 10, 15, 70, 13, 32, 1], [76, 28, 379, 3, 121, 1, 1], [191, 244, 33, 1, 1, 40, 407, 9, 170], [45, 4, 29], [64, 6, 3, 7, 16], [166, 2504, 30, 94, 1], [408, 1, 183, 2364, 1424, 1, 67, 4, 82, 34, 1151, 408, 1], [49, 17, 27, 3, 140], [32, 9, 132, 2505, 30, 3, 109], [868, 59, 244, 171, 2, 110, 4, 1031, 1, 1], [4, 77, 2, 245, 663, 31, 22], [83, 2424, 67, 4, 82, 83, 78, 75, 1, 5], [64, 6, 3, 7, 16], [111, 28, 992, 2, 8, 226], [441, 216, 35, 62, 2, 266, 162, 53, 266, 260, 106, 2265, 35, 62], [27, 56, 33, 17], [1322, 198, 57, 106, 171, 23, 129, 191], [1974, 264, 168, 361, 181, 50, 991, 494, 34, 1757, 136, 21, 69, 2, 2381, 104, 1], [36, 35, 68, 3, 8, 1104, 90, 201, 1725, 1243, 572, 242], [8, 147, 35, 75, 564, 219, 8, 48, 1077], [11, 78, 4, 102, 219, 1077, 34, 69, 161, 261, 2, 1077, 102, 72, 9, 107], [216, 498, 381], [1763, 85], [49, 60, 35, 68, 3, 699, 182, 8, 1708, 1709, 595, 8, 84, 21, 8, 228, 412, 12], [11, 214, 30], [8, 224, 67, 4, 952, 57], [36, 118, 18], [64, 6, 3, 7, 16], [64, 6, 3, 7, 16], [1556, 1, 12, 2, 62, 2, 226, 1, 26, 26, 226], [950, 1765, 261, 39, 9, 25, 44, 42, 5, 46], [30, 24, 5, 2, 8, 20, 60], [64, 6, 3, 7, 337], [86, 28, 593, 508, 70], [262, 95, 204, 4, 371], [109, 81, 591, 1668, 31, 1, 123, 4, 82], [64, 6, 3, 7, 337], [64, 6, 3, 7, 934], [64, 6, 3, 7, 492], [26, 11, 20, 1, 95, 384, 366, 192, 302, 5, 305, 9, 167], [26, 11, 20, 291, 95, 384, 366, 192, 302, 5, 305, 9, 167], [26, 1089, 147, 66, 95, 66, 9, 898], [64, 6, 3, 7, 16], [64, 6, 3, 7, 217], [64, 6, 3, 7, 217], [53, 433, 386], [64, 6, 3, 7, 217], [64, 6, 3, 7, 217], [64, 6, 3, 7, 16], [26, 482, 1217, 290, 1562, 147, 95, 1358, 231, 280, 150, 33, 530, 33, 241, 1358, 231], [64, 6, 3, 7, 16], [64, 6, 3, 7, 217], [64, 6, 3, 7, 16], [64, 6, 3, 7, 217], [64, 6, 3, 7, 217], [64, 6, 3, 7, 217], [64, 6, 3, 7, 16], [64, 6, 3, 7, 217], [64, 6, 3, 7, 940], [186, 24, 18], [64, 6, 3, 7, 217], [39, 42, 132, 8, 754, 120, 94, 247, 2, 68, 3, 2, 20, 209, 358, 30, 430, 4, 62, 2, 1], [26, 384, 366, 192, 302, 5, 176, 9, 167, 240, 9, 269, 8, 274, 339], [6, 3, 7, 16, 168, 206, 509], [64, 6, 3, 7, 16], [64, 6, 3, 7, 16], [64, 6, 3, 7, 16], [15, 93, 13, 1, 1, 80, 61, 10, 15], [15, 169, 202, 286, 10, 13], [36, 118, 86], [53, 55, 1219, 1473, 1474, 160, 25, 44, 42, 437], [64, 6, 3, 7, 16], [64, 6, 3, 7, 16], [11, 20, 17, 27], [38, 490, 13, 1, 1, 827, 90, 201, 451], [19, 848, 3, 1729, 1, 139], [39, 1348, 75, 77, 2, 151, 134, 47, 1844, 3, 45, 737, 39, 361, 3, 22], [79, 55, 156, 669, 348, 79, 9, 25, 44, 87, 46, 5], [14, 2, 220, 3, 2, 65], [64, 6, 3, 7, 1357], [334, 13, 109, 18], [89, 224], [490, 13, 1649, 1650], [26, 17, 9, 27], [142, 227, 3, 801, 125, 802, 125, 602, 803, 497, 26], [63, 17, 59, 3, 500, 89, 8, 221, 1, 1, 1, 1, 21, 1, 1], [14, 2, 353, 2072, 442], [380, 1, 1, 1, 1], [26, 384, 366, 192, 302, 5, 176, 9, 167, 240, 9, 269, 8, 274, 339], [26, 341, 30, 14, 2, 347, 237, 1359, 44, 42, 46, 5], [26, 800, 9, 898, 1627, 1360, 1766, 14, 2, 347, 237, 1359, 1, 1359, 12, 2, 268, 71, 25], [14, 2, 62, 2, 266], [17, 63], [64, 6, 3, 7, 573], [51, 37, 5, 92], [14, 2, 68, 143, 47, 1538], [51, 37, 13, 1], [14, 2, 245, 308, 652, 155, 832], [94, 153, 194, 1, 127, 113, 13, 1297, 692, 117, 8, 30, 183, 109, 4, 1062, 13, 1, 938], [230, 31, 159, 1226, 2379, 370, 105, 4, 335, 43, 750, 762], [292, 85, 21, 43, 47, 89, 885, 248, 104, 83], [1023, 19, 2, 11, 325, 1, 2, 245, 8, 577], [45, 18], [19, 70, 2, 1168], [1119, 19, 2, 165, 1990, 137], [14, 2, 19, 128, 31, 23, 1], [32, 14, 2, 68, 3, 2, 22], [14, 2, 24, 2, 65], [41, 185, 111], [26, 384, 366, 192, 302, 5, 255, 9, 167], [91, 74, 67, 4, 82], [53, 55, 434, 370, 73, 9, 25, 44, 40, 42, 46, 5, 50, 205], [8, 83, 1488, 3, 1, 1, 406, 9, 4, 29, 72, 9, 5, 181, 132, 50, 649, 5, 8, 146], [14, 2, 103, 110, 13, 296, 175, 1458, 431, 1122, 296, 487, 1622], [23, 340, 5, 106, 89], [532, 930, 10, 15], [53, 55, 52, 1, 23, 73, 9, 160, 25, 44, 40, 42, 46, 5, 50, 205, 79], [512, 341, 1012, 5, 129, 294, 2, 1, 18], [296, 992, 5, 95, 113, 67, 4, 1687, 1328, 2078, 5, 113, 67, 4, 472, 5, 973, 1], [893], [216, 3, 96, 90, 4, 201, 797, 2037, 252, 1056, 13, 38, 15, 155, 552], [14, 2, 245, 1034, 374, 1582, 5, 158], [11, 2233, 238, 256, 27, 56], [11, 20, 10, 15], [11, 20, 17, 63, 21, 10, 15], [8, 84, 13, 186, 40, 1094, 1295, 90, 461, 1, 56, 33, 23, 412], [53, 320, 130], [11, 20, 27, 56], [51, 37, 13, 127, 17, 315], [14, 2, 246, 22], [107, 43, 19, 2, 134, 8, 289, 3, 1, 1, 432, 1, 1147, 45], [17, 27], [18, 1, 1, 1, 3, 11, 94, 29, 5, 1, 1], [893, 30], [15, 8, 10, 13, 1, 1, 5, 11, 95, 11], [37, 1754, 2, 964, 141, 520], [739, 625, 40, 2416, 183, 4, 29], [94, 39, 232, 65, 47, 195, 449, 222, 105, 4, 232, 1733, 1188, 161, 71, 1016, 8, 545, 2508], [37, 203, 13, 1754], [63, 17, 59, 3, 500, 89, 8, 32, 1, 1, 21, 1, 1], [1, 1060, 5, 724, 66, 4, 29, 3, 20, 95], [397, 384, 366, 192, 302, 5, 293, 9, 167], [2509, 78, 4, 75, 558], [512, 1110, 9, 170, 5, 1793, 580, 3, 2165, 1], [22, 9, 4, 946], [1, 33, 2499, 1760], [427, 18], [610, 1767, 1681, 5, 101, 873], [1, 1046, 2097, 9, 170, 13, 113, 153, 986], [64, 6, 3, 7, 16], [131, 54, 207, 1, 1], [131, 54, 207, 1, 1], [1, 45, 3, 22, 4, 29], [131, 54, 207, 1, 1], [131, 85, 13, 1875, 225, 21, 1215, 1069, 1070], [1, 1, 2215, 179, 1], [78, 148, 34, 69], [14, 2, 741, 99], [10, 67, 4, 82, 72, 607, 1, 9, 1], [64, 6, 3, 7, 16], [501, 706, 248, 984], [64, 6, 3, 7, 16], [86, 3, 1635, 248, 41], [11, 753, 1626, 170, 13, 8, 1, 1563, 1064], [516, 515, 325, 3, 175], [43, 69, 3, 15, 10, 3, 61, 10, 139], [64, 6, 3, 7, 1288], [64, 6, 3, 7, 1283], [17, 2510, 3, 11, 20], [627, 92, 676, 356], [64, 6, 3, 7, 301], [18, 28, 299, 166], [17, 27, 3, 140], [233, 415, 1739, 1360, 3, 129, 137, 13, 66, 26, 1240, 34, 136, 317], [4, 77, 2, 24, 2, 41], [176, 137, 19], [79, 55, 52, 391, 79, 9, 25, 44, 87, 46, 5], [64, 6, 3, 7, 16], [64, 6, 3, 7, 16], [64, 6, 3, 7, 16], [64, 6, 3, 7, 16], [64, 6, 3, 7, 16], [14, 2, 19, 128], [64, 6, 3, 7, 1357], [64, 6, 3, 7, 16], [14, 2, 103, 110], [11, 9, 25, 215, 23, 258, 603, 71, 4, 77, 2, 1, 1455], [976, 224, 396, 9, 1175, 57, 28, 103, 110, 2036, 2, 475, 701, 2, 915, 56, 880, 416, 576, 4, 241], [11, 25], [106, 96, 173], [11, 95, 1, 5, 1, 230], [64, 6, 3, 7, 493], [55, 5, 11, 20], [1, 1319, 9, 4, 2468, 1356, 1149, 2, 581], [41, 481, 39, 42, 202, 181, 39, 42, 4], [43, 51, 1], [115, 38, 48, 3, 910, 478], [53, 76, 252, 460, 71, 206, 154], [199, 320, 130, 253, 53, 833, 82, 981], [136, 47, 142, 13, 8, 163, 65, 281], [86], [64, 6, 3, 7, 493], [73, 457, 1134, 79, 55, 3, 432, 630], [79, 55, 234, 1, 23, 36, 79, 9, 25, 40, 87, 46, 5, 73, 9, 57, 5, 228, 79], [14, 2, 24, 2, 20, 80, 11, 709], [10, 15], [177, 55, 156, 156, 73, 9, 160, 25, 40, 87, 46, 5], [408, 3, 11, 4, 282], [448, 190], [397, 1, 1, 2511, 384, 366, 192, 302, 5, 188, 9, 167, 240, 9, 269, 8, 274, 339], [1068, 34, 771, 770], [199, 320, 130, 253, 53, 833, 82, 981], [1, 86, 28, 1000], [14, 2, 68, 3, 2, 49], [52, 2376, 734, 1, 23, 138, 9, 25, 44, 42, 5], [19, 2, 142, 351, 389, 1], [1061, 3, 4, 263, 30, 3, 11], [30, 120, 3, 2248, 2249], [22, 879, 2, 4, 263], [32, 660, 2, 15, 195, 421], [17, 27, 56], [11, 20, 11, 95, 17, 27], [284, 164, 31, 309, 2, 54, 85], [35, 102, 3, 1478], [26], [1, 67, 4, 428, 145, 13, 296], [78, 4, 1182, 41, 208], [198, 57, 83], [1349, 2135], [14, 2, 232, 22, 21, 41], [19, 2, 881, 137, 13, 1, 1251], [470, 502, 1], [50, 185, 96, 395], [162, 4, 29], [43, 69, 3, 378, 38, 41, 208, 182, 9, 780, 57, 28, 127, 30], [14, 2, 58, 297, 204], [4, 77, 2, 307, 2486, 546], [169, 350, 865, 170], [272, 105, 4, 268], [34, 276, 161, 38, 171, 13, 61, 10, 139], [41, 67, 4, 82], [1100], [145, 284], [287, 1932, 471, 71, 4, 206], [1, 1, 1125, 13, 706, 1523, 1122], [85, 67, 4, 1074, 5, 177, 952, 1, 5, 13, 2501, 411, 21, 879, 355], [11, 10, 15, 3, 20], [11, 68, 5, 86], [10, 15, 364, 31, 285, 13, 32, 1, 1], [94, 378, 2, 135, 314, 880, 105, 58, 181, 933, 1, 8, 146, 1255, 146, 13, 314, 50, 19], [238, 374, 70], [2, 450, 159, 172, 1344, 2, 1, 1, 1, 1, 387, 794], [238, 374, 70], [294, 2, 38, 142, 37, 1323, 50, 53, 118, 9, 174], [81, 285, 448, 2399, 165, 2, 389], [26, 1, 1, 291, 66, 95, 192, 302, 5, 129, 9, 167, 240, 9, 269, 8, 274, 339], [230, 78, 4, 75, 564], [81, 11, 209, 591, 31, 513, 2, 1051], [11, 20, 10, 15, 13, 32, 1], [17, 27], [34, 15, 11, 20, 10, 13, 32, 1], [229], [35, 335, 113, 67, 4, 102], [17, 27], [11, 20, 95, 230, 35, 75, 564, 56], [517, 466, 832, 13, 1], [64, 6, 3, 7, 301], [1871, 3, 1715, 100, 124, 76, 28, 229, 31, 11, 349, 9, 38, 849, 30], [30, 974], [131, 54, 207, 1, 1], [50, 118, 2, 8, 849, 2512, 1128, 1129, 2512], [131, 54, 207, 1, 1], [131, 54, 207, 1, 1], [645, 414, 179, 1, 1], [166, 18], [2302, 2303, 163, 13, 193, 1, 1, 368, 617, 4, 885], [22, 111, 965, 47, 22, 2056, 439, 682, 2, 246, 1, 168, 278, 278, 154, 442, 78, 4, 58, 22], [33, 8, 3], [83, 9, 4, 797, 57], [560, 21, 698, 19, 2, 2216, 137, 628], [166, 18], [18, 5, 479, 3, 215], [53, 55, 1, 1, 73, 9, 160, 25, 40, 42, 46, 5], [308, 1], [64, 6, 3, 7, 16], [177, 1991, 3, 842, 377, 9, 2152], [79, 55, 1, 9, 25, 40, 1942, 1943, 44, 42, 46, 5, 73, 9, 57, 5, 36], [39, 35, 24, 41, 112, 81, 10], [1, 274], [70, 2, 15, 169, 202, 286, 10, 13], [22, 336, 111], [69, 2, 115, 559, 3, 38, 84, 2513], [216, 83, 392, 57, 381, 107], [64, 6, 3, 7, 16], [54, 193, 2157, 1, 180, 54, 590, 89], [514, 11, 45, 72, 847, 182, 11, 45, 9, 247, 2, 276, 8, 691, 219, 183, 59, 2, 8, 153, 457], [106, 96, 173], [14, 2, 115, 99], [10, 15, 13, 1], [10], [103, 1866, 13, 1, 1], [63, 17, 59, 3, 500, 89, 8, 32, 2473, 1, 116, 1], [64, 6, 3, 7, 493], [363, 45, 1583, 347, 2054, 18], [94, 80, 89, 118, 9, 820, 35, 307, 590, 89, 13, 333, 21, 41, 566], [36, 171], [14, 2, 24, 2, 41], [30, 3, 983, 2209], [91, 74, 1, 2, 220, 3, 1314, 32, 116, 5, 1087, 221, 254], [15, 93, 13, 1, 1, 80, 61, 10, 15], [30, 24, 5, 2, 8, 20, 60], [473, 328, 171, 3, 45, 4, 259, 57], [1, 508, 70, 30], [11, 19], [14, 2, 232, 22], [23, 258, 281, 67, 4, 246], [60, 24, 18], [272, 4, 29], [1, 510, 13, 233, 66, 2514, 26, 54], [720, 76], [99, 30], [10, 15, 119, 883, 277], [14, 2, 232, 22], [578, 284, 194, 1166, 5, 45, 202], [49, 10, 15], [711, 18], [101, 1038, 2, 1, 13, 10], [247, 2, 19, 65, 73], [10, 15], [47, 1, 1967, 1086, 25, 86, 416, 2431, 72, 167, 481, 50, 498, 969], [1, 1, 14, 2, 102, 31, 297], [107, 43, 359, 2297, 19, 13, 134, 513, 1457], [1, 8, 1085, 31, 415, 2, 415, 1085, 13, 26], [15, 10, 70, 13, 287], [1980, 325, 960, 143, 11, 17, 3, 20, 67, 4, 1223, 28, 331, 45], [1, 33, 26, 309], [10, 15, 70, 31, 285], [1938, 192, 98, 5, 1321, 352, 137], [104, 137, 133, 19], [14, 2, 232, 22], [121, 67, 4, 82], [114, 11], [22, 9, 4, 259], [17, 27], [10, 15, 70, 13, 1018, 221], [2515, 2360, 172, 1413, 5, 1, 652, 28, 170, 516, 518], [1, 183, 550, 2061, 361, 219, 2515, 71, 717, 796, 3, 1, 21, 296, 1], [35, 307, 350, 810, 238, 256], [96, 639, 131, 54, 567, 1625, 176, 1, 1, 309, 830, 908], [1, 166, 20, 570, 1209, 1525, 1, 254, 33, 1346, 610, 1767], [85, 9, 354, 569, 146], [316, 31, 1130, 74], [893], [91, 74, 9, 132, 27, 56, 869], [1, 254, 180, 1], [22, 18], [166, 840, 794, 2, 446, 1], [11, 10, 15, 70], [131, 54, 207, 1, 1], [131, 54, 207, 1, 1], [1, 54, 207, 1, 1], [131, 54, 207, 1, 1], [115, 951, 520, 33, 125, 109, 13, 83, 3, 8, 109, 2039, 95, 1, 1], [108, 2434, 1, 9, 2059, 3, 1113, 975, 30, 3, 20], [1050, 330, 10], [1, 1], [64, 6, 3, 7, 16], [22, 9, 4, 29], [15, 10, 13, 11, 20], [64, 6, 3, 7, 16], [169, 22, 9, 4, 29, 13, 1, 1], [1091, 48, 21, 266, 427], [32, 295, 2, 729, 164, 742, 92], [47, 17, 292, 54, 10, 117, 1327, 30, 3, 1, 60], [166, 18], [8, 147, 35, 75, 564, 2, 8, 48, 21, 38, 48, 30, 9, 1], [1], [54, 2482, 289, 361, 3, 45, 123, 4, 117, 127, 11, 150], [1221, 28, 1516, 54, 2344, 1, 652, 1, 1, 3, 20], [26, 97, 1177, 980, 95, 9, 898, 44, 42, 437], [26, 135, 1098, 291, 445, 384, 366, 662, 579, 9, 167, 240, 9, 954, 8, 30, 339], [11, 19, 18], [91, 74], [11, 20, 17, 27], [100, 717, 8, 113, 3, 215, 1, 21, 1, 1755, 71, 780, 280], [11, 20, 17, 27], [64, 6, 3, 7, 1288], [882, 414, 4, 29], [106, 96, 9, 1054, 239, 31, 1591, 80, 390, 927, 751, 304, 2075, 2076, 72, 1], [4, 132, 237, 309, 340, 3, 47, 22, 740, 123, 8, 1, 2, 517, 8, 545, 21, 69, 161, 1, 72, 3, 1], [14, 2, 24, 2, 36, 21, 15, 10], [299, 10, 168, 27, 294, 2, 280, 2516, 34, 15, 8, 10], [59, 321, 86, 3, 22], [83, 2, 75, 2318, 119, 1878, 219, 1720], [64, 6, 3, 7, 16], [35, 58, 99], [64, 6, 3, 7, 492], [64, 6, 3, 7, 301], [64, 6, 3, 7, 1080], [299, 35, 1, 2, 223, 1714], [412, 17, 63], [39, 42, 247, 2, 69, 1, 1, 68, 143, 236, 2, 37, 1356, 1, 164], [14, 2, 245, 146, 5, 149, 94, 1, 9, 1284], [8, 202, 60, 585, 219, 8, 153, 35, 75, 558], [64, 6, 3, 7, 16], [20, 1570, 1570, 684, 76, 1, 1, 1, 264], [35, 246, 525], [1009, 187, 193, 490, 13, 32, 1, 1, 1], [15, 93, 13, 1, 1, 80, 61, 10, 15], [8, 1, 1354, 40, 887, 887, 9, 4, 263, 2517, 52, 1764, 228, 1446], [493, 168, 206, 257, 327, 541, 891, 21, 1008, 2, 2463, 2514], [34, 63, 17, 59, 3, 500, 89, 8, 221, 1, 1, 116, 1, 21, 1, 1, 1], [79, 55, 52, 756, 172, 1, 391, 79, 9, 25, 40, 87, 46, 5], [223, 2117, 2, 1751, 28, 1, 58], [37, 1446, 5, 48], [119, 641, 249, 142, 227, 3, 174, 1320, 668, 657], [142, 227, 892, 3, 801, 125, 802, 125, 602, 803, 497, 26], [26, 708, 231, 280, 150, 33, 530, 33, 241, 708, 231, 888, 394], [142, 227, 892, 3, 801, 125, 802, 125, 602, 803, 497, 26], [158, 10, 15], [122, 48, 1999, 5, 26], [142, 227, 3, 174, 1320, 668, 657], [48, 18], [142, 227, 892, 3, 605, 31, 805, 412, 2, 2518], [26, 384, 366, 192, 302, 5, 188, 9, 167, 240, 9, 269, 8, 274, 339], [119, 641, 249, 142, 227, 3, 801, 125, 802, 125, 602, 803, 497, 26, 54], [256, 9, 14, 2, 245, 1, 94, 441, 9, 1120], [985, 83, 9, 2073, 1, 505, 21, 105, 4, 597, 5], [173, 4, 1062, 13, 169, 1931], [142, 227, 892, 3, 605, 31, 805, 412, 2, 2518], [142, 227, 3, 801, 125, 802, 125, 602, 803, 497, 26, 54], [142, 227, 157, 3, 174, 2519, 1421, 668, 2520], [14, 2, 62, 28, 36], [2057, 241, 4, 29, 403, 71, 1, 294, 2, 170, 671, 912], [64, 6, 3, 7, 931], [2500, 52, 1, 65, 1621, 2444, 1, 606], [142, 227, 157, 3, 174, 2519, 1421, 668, 2520], [91, 74], [1263, 413, 6, 3, 7, 931], [34, 1349, 256, 31, 109, 2, 641, 1, 1], [10, 15], [92, 51, 37], [34, 1, 48, 756, 40, 1200, 85], [517, 38, 147], [14, 2, 62, 2, 162, 31, 38, 1732, 216], [19, 2, 1, 21, 1089, 2134, 433], [185, 4, 29, 5, 216, 441], [14, 2, 103, 313, 3, 407], [14, 2, 392, 57, 8, 85], [14, 2, 220, 3, 2, 41, 21, 22], [26, 280, 150, 33, 530, 33, 241, 708, 231, 888, 394], [10, 15], [30, 3, 153], [17, 27, 56], [226, 305, 281, 1, 2509, 67, 4, 124, 1525, 715], [111, 28, 195, 421, 240, 9, 443, 134, 8, 130], [11, 20, 10, 15], [38, 1, 1, 161, 182, 39, 124, 50, 841, 476, 1, 1, 9, 422, 354, 8, 545, 86, 476], [590, 89, 841], [11, 20, 17, 27], [110, 2368], [19, 379, 30], [11, 20, 10, 15], [26, 384, 366, 1360, 1766, 9, 167, 240, 9, 954, 8, 30, 339], [47, 582, 67, 4, 124, 38, 2395, 2396, 21, 39, 35, 685, 57, 987, 191, 936], [17, 315], [39, 42, 354, 111, 28, 556, 386, 686, 1191, 541, 31, 22, 39, 35, 276, 155, 1, 59, 155, 336, 94], [517], [8, 1, 9, 4, 29], [841, 4, 29], [828, 33, 718, 13, 1300, 191, 580], [32, 1, 14, 2, 62, 329, 36, 14, 2, 19, 215, 21, 215, 445], [841, 4, 174, 5, 89, 198], [351, 219, 67, 4, 82, 3, 8, 54, 1, 635, 151, 346, 659], [11, 20, 63, 70], [37, 5, 88], [1, 52, 1659, 1, 800, 9, 898, 44, 42, 46, 5], [131, 54, 207, 1740, 1741], [841, 794, 2, 47, 109, 89, 9, 4, 946], [1, 266, 96, 173, 235, 165], [43, 147, 1159, 5, 38, 53, 2502, 137, 26], [43, 19, 13, 1, 1], [63, 11, 20, 11, 95, 17], [691, 83, 2513, 1, 1, 1, 1, 1], [1, 203], [22, 18], [2521, 17, 419, 17, 180, 2, 75, 2168, 1142, 610, 1767], [11, 20, 10, 15], [17, 419, 13, 32, 2521], [14, 2, 62, 2, 162], [915, 114, 595, 21, 454, 130, 294, 2, 1, 355, 1], [215, 23, 18, 21, 99, 18], [15, 93, 13, 1, 1, 80, 61, 10, 15], [14, 2, 62, 36], [47, 559, 435, 1354, 9, 419], [1068, 1, 172, 606, 1661, 900, 2, 1, 1334, 30], [224, 518, 18], [1863, 10, 15, 4, 174], [35, 102, 577], [39, 78, 4, 68, 143, 11, 480, 329, 8, 36], [346, 191, 9, 834, 5, 308, 119, 1, 28, 38, 904, 21, 2491, 181, 94, 316, 933, 9, 2, 75, 2110], [166, 24], [26, 135, 1098, 291, 445, 662, 579, 9, 167, 44, 42, 5, 46], [8, 146, 40, 8, 1, 1340, 9, 179], [131, 54, 207, 1, 1], [131, 54, 207, 1, 1], [131, 54, 207, 1, 1], [131, 54, 207, 1, 1], [11, 18], [397, 2522, 95, 1361, 231, 280, 150, 33, 530, 33, 241, 1361, 231], [11, 20, 10, 15, 70], [23, 323, 17, 4, 29, 240, 168, 361, 965], [32, 17, 9, 27], [4, 77, 2, 784, 237, 2508], [106, 96, 173, 70, 13, 32, 1, 1], [11, 20, 10, 15, 70], [39, 35, 62, 8, 53, 48, 968], [402, 647, 152, 141, 225, 1, 28, 2523, 1, 37, 43, 964, 141, 1248, 520, 851, 155, 2458], [106, 96, 173, 275, 96], [145, 517], [1482, 1, 1], [140, 27, 56], [1557, 481, 179, 60, 204, 488, 28, 964, 141, 1037, 1, 659], [755, 486, 13, 2497, 2498, 90, 487], [70, 148, 2, 15, 47, 10, 33, 61, 430, 4, 24, 21, 15, 47, 10], [15, 93, 13, 1, 1, 80, 61, 10, 15], [8, 755, 486, 13, 1, 1, 90, 487], [209, 2, 66, 26, 4, 174], [288, 531], [732, 51, 1090, 312], [53, 55, 434, 2328, 23, 434, 36, 196, 211, 25, 44, 42, 1673, 5, 50, 205, 1], [1527, 204, 4, 1273, 119, 641, 982, 136, 723, 587, 703, 8, 1, 34, 1314, 191, 300], [214, 2524, 1332, 139, 576, 4, 82, 608], [14, 2, 58, 183, 230, 663, 428, 1113, 313, 21, 35, 245, 308, 663, 248, 11], [14, 2, 276, 155, 344, 59], [1090, 51, 1090, 312], [4, 77, 2, 19, 330, 199, 51, 1306, 92], [1442, 828], [2214, 18, 40, 153, 73], [101, 753, 2, 513, 322, 2418], [495, 17, 2466], [49, 17, 27], [64, 6, 3, 7, 16], [195, 421], [11, 19, 18], [64, 6, 3, 7, 16], [64, 6, 3, 7, 1459], [64, 6, 3, 7, 376], [64, 6, 3, 7, 16], [14, 2, 24, 2, 41], [43, 2, 365, 8, 22], [23, 1, 27, 56, 13, 592, 1327, 2477, 33, 280, 10], [2442, 168, 206, 257, 327, 541, 891, 21, 1008], [380, 318], [51, 37, 13, 1, 1], [511, 5, 314, 24], [526, 788, 83, 27, 1], [559, 1325, 1150, 281, 14, 2, 24], [64, 6, 3, 7, 16], [64, 6, 3, 7, 369], [252, 1359, 71, 211, 25, 5, 26, 271, 20, 44, 87, 5, 46], [1, 893, 123, 4, 1374], [587, 1, 135, 826, 3, 13, 1, 581], [19, 393, 2, 1105, 1106, 3, 1094], [49, 10, 15], [32, 660, 2, 136, 338, 349, 71, 893, 5, 169, 1135], [135, 129, 130, 18], [493, 168, 206, 257, 327, 541, 891, 21, 1008], [2112, 435, 193, 1], [65, 9, 519, 161, 2, 24, 40, 2469, 281], [26, 8, 187, 5, 26, 23, 138, 187, 9, 4, 119, 888, 1], [2223, 83, 3, 2319, 1, 2, 1, 838, 38, 1, 5, 24], [8, 755, 486, 13, 1, 1, 90, 487], [14, 2, 730, 38, 48], [15, 10, 13], [11, 2264, 218, 4, 29], [81, 11, 48], [14, 2, 151, 45, 122, 3, 3, 22], [354, 1015, 28, 47, 10, 983, 8, 200], [14, 2, 62, 2, 22], [22, 455], [14, 2, 428, 663, 31, 166], [49, 10, 15], [14, 2, 24, 2, 236, 130], [1758, 192, 12, 5, 2525, 651, 188], [2384, 1, 13, 1, 34, 565, 51, 2, 1, 1], [17, 27, 56, 1708, 1709, 18], [91, 74, 60], [14, 2, 784, 237, 185, 31, 41], [186, 9, 4, 263, 230, 78, 4, 75, 1576, 56, 60, 9, 1175, 57, 155, 665, 30, 151, 269], [10, 15, 21, 24, 111, 3, 65], [1403, 10, 13, 314, 9, 4, 29], [335, 33, 96], [14, 2, 24, 2, 22, 21, 41], [11, 19, 18], [158, 10, 15, 70], [63, 17, 59, 3, 500, 89, 8, 32, 1, 1, 116, 1], [41, 39, 42, 4, 367, 3], [18, 100, 378, 1169, 348, 1, 1529], [15, 8, 10, 13, 5, 11, 95, 480], [15, 93, 13, 1, 1122, 1, 80, 61, 10, 15], [671, 912, 18], [64, 6, 3, 7, 573], [6, 1, 31, 8, 1112, 199, 547], [49, 17, 27, 56], [47, 842, 377, 9, 4, 1237, 47, 84], [111, 28, 288, 375], [10, 15], [14, 2, 232, 22, 112, 382, 8, 10], [63, 1, 1], [14, 2, 24, 2, 49, 17, 27], [14, 2, 68, 143, 135], [39, 35, 601, 38, 41, 208, 686, 130, 72, 796, 56, 2254, 182, 41, 9, 4, 206], [1, 295, 2, 15, 10, 13, 32, 1], [15, 8, 10, 13, 1706, 1122, 1, 5, 11, 95, 554], [449, 18, 65, 4, 282], [11, 20, 10, 15], [79, 55, 598, 432, 956, 1005, 9, 25, 40, 42, 46, 5], [19, 2, 36, 32, 116, 1], [14, 2, 24, 2, 41], [299, 1, 203], [343, 24, 18], [1, 38, 166], [43, 639, 149, 13, 1, 1], [458, 783, 18, 28, 8, 264, 1064, 13, 468], [1, 1, 10, 90, 277, 34, 101, 40], [790, 1364], [130, 1685, 9, 4, 29], [53, 76, 252, 460, 71, 206, 154], [1, 4, 29], [23, 258, 67, 4, 563, 550, 112, 39, 292, 47, 10], [26, 384, 366, 192, 302, 5, 1, 9, 167, 240, 9, 269, 8, 30, 339], [115, 297, 1, 2526, 2527], [15, 8, 10, 13, 2528, 2529, 5, 49, 24], [15, 93, 13, 2528, 2529, 80, 61, 10, 15], [76, 28, 84, 212, 179, 1903, 1, 1453, 1454], [1, 1, 1, 78, 148, 1477, 52, 526, 157, 528, 5, 8, 793, 39, 42, 247, 2, 117, 38, 225, 5, 8, 1], [14, 2, 58, 65], [126, 516, 591, 3, 1, 59, 120], [59, 744, 111, 28, 462], [107, 43, 19, 2, 134, 1, 433, 13, 54, 225, 32, 13, 186, 1, 442], [11, 808, 146, 18], [1, 66, 97, 4, 2021, 13, 1, 26], [609, 220, 5, 13, 135, 1, 4, 29], [11, 20, 1007, 1144, 18], [163, 19], [86, 28, 121], [10, 15, 70], [86, 28, 121], [323, 162, 19, 70], [20, 19], [58, 113, 1, 111, 215], [186, 4, 29], [163, 24, 18], [50, 392], [407, 499], [3, 8, 1554, 108, 349, 9, 50, 715, 2, 1, 2, 8, 1, 2, 344, 72, 921, 3, 304, 191], [330, 10, 2378], [473, 199, 593, 252, 128, 329, 2530, 1927, 23, 138], [2420], [185, 4, 29], [501, 577, 19, 9, 4, 29, 50, 501, 78, 19, 145, 596], [1, 1, 2531, 2532, 54, 85, 70, 2531, 2532], [64, 6, 3, 7, 16], [1, 180, 19, 2, 269, 65, 2224], [14, 2, 792, 47, 617, 94, 39, 792, 38, 591, 349, 9, 127, 30, 21, 14, 2, 1678, 1], [145, 205, 1204, 517, 1689, 1690], [131, 54, 207, 1, 1], [35, 68, 3, 2, 114], [113], [76, 28, 48, 3, 1, 152, 1845, 1, 1], [64, 6, 3, 7, 16], [22, 9, 4, 1013, 10], [64, 6, 3, 7, 16], [582, 1, 5, 8, 96, 95, 1238, 188, 179], [1620, 127, 1, 1, 31, 8, 109, 33, 163, 21, 1, 171, 4, 259], [167, 821, 2, 8, 195, 1, 1, 636], [171, 2, 163, 1, 1, 67, 4, 82], [365, 31, 125, 109, 951, 2, 109, 951], [84, 53, 118, 648], [49, 17, 27, 21, 15, 10], [60, 149, 1667, 86], [49, 43, 2, 75, 713], [14, 2, 58, 350, 810], [64, 6, 3, 7, 16], [8, 455, 5, 47, 235, 9, 4, 211, 237, 566], [11, 20, 17, 27], [64, 6, 3, 7, 16], [15, 47, 10], [287, 1, 18, 151, 8, 317, 13, 362, 453], [371], [17, 27, 3, 11, 20], [11, 20, 17, 2510], [4, 77, 2, 24, 2, 163], [85, 9, 189, 1, 1571, 812, 535, 21, 185, 808, 1061, 422, 4, 29, 60, 9, 154], [8, 755, 486, 13, 1, 1, 90, 487], [35, 24, 2, 41, 1, 270, 277], [14, 2, 24, 2, 91, 74], [11, 35, 601, 1, 1038, 2, 417, 993], [49, 17, 27], [49, 17, 27], [49, 68, 3, 10, 15], [112, 8, 10, 9, 292, 22, 35, 68, 3], [34, 15, 47, 11, 10], [24, 18], [53, 55, 432, 630, 1, 73, 9, 160, 25, 44, 87, 46, 5], [64, 6, 3, 7, 16], [53, 55, 52, 73, 9, 160, 25, 44, 87, 46, 5], [64, 6, 3, 7, 16], [64, 6, 3, 7, 337], [64, 6, 3, 7, 934], [397, 1, 2511, 192, 302, 5, 188, 9, 167, 240, 9, 269, 8, 274, 339], [64, 6, 3, 7, 673], [26, 482, 1217, 290, 1562, 147, 95, 280, 150, 33, 530, 33, 241, 1358, 231, 888, 1], [26, 52, 1, 290, 328, 147, 1103, 95, 1358, 231, 194, 9, 25, 44, 42, 437, 5], [26, 290, 523, 95, 721, 231, 280, 150, 33, 530, 33, 241, 721, 231, 1415], [64, 6, 3, 7, 337], [26, 287, 602, 291, 328, 695, 1, 231, 194, 9, 25], [126, 68, 3, 1, 126], [554, 471, 71, 1531, 990, 33, 8, 66, 18], [64, 6, 3, 7, 16], [552, 1098, 477, 642, 26, 21, 26, 40, 42], [64, 6, 3, 7, 16], [64, 6, 3, 7, 934], [64, 6, 3, 7, 16], [64, 6, 3, 7, 16], [1263, 413, 1475], [64, 6, 3, 7, 1], [64, 6, 3, 7, 217], [627, 213, 923, 616], [64, 6, 3, 7, 1], [64, 6, 3, 7, 217], [11, 20, 9, 4, 144], [64, 6, 3, 7, 217], [64, 6, 3, 7, 940], [64, 6, 3, 7, 217], [64, 6, 3, 7, 217], [64, 6, 3, 7, 217], [64, 6, 3, 7, 16], [64, 6, 3, 7, 1], [64, 6, 3, 7, 16], [64, 6, 3, 7, 1], [64, 6, 3, 7, 16], [64, 6, 3, 7, 16], [11, 9, 27, 56, 43, 2, 63, 72], [38, 2363, 361, 2485, 1067, 2, 117, 558, 3, 287, 1, 294, 2, 346, 30, 120], [1758, 192, 12, 5, 2525, 38, 584, 9, 12], [64, 6, 3, 7, 369], [53, 55, 950, 1724, 1350, 1745, 172, 53, 9, 25, 44, 42, 46, 5, 50, 205, 79], [64, 6, 3, 7, 1662], [64, 6, 3, 7, 2177], [64, 6, 3, 7, 16], [18, 28, 1244, 191], [64, 6, 3, 7, 16], [1, 81, 233, 3, 22], [26, 384, 192, 302, 5, 129, 9, 167, 56, 33, 662, 1071, 415], [64, 6, 3, 7, 1080], [511, 5, 284, 33, 972, 31, 89, 2, 60], [11, 10, 15], [11, 45, 10, 15], [43, 10, 15], [669, 156, 533, 1154, 71, 25, 40, 87, 46, 5], [511, 439, 1, 656], [53, 55, 23, 260, 804, 234, 23, 19, 157, 157, 71, 25, 40, 87, 46, 5], [234, 800, 26, 9, 898], [10, 81], [15, 93, 13, 1, 1, 80, 61, 10, 15], [37, 5, 88], [34, 151, 8, 2447, 546, 269, 515, 325, 1710, 546, 9, 1277, 2024, 21, 9, 1], [14, 2, 62, 2, 266], [78, 148, 635, 21, 151, 661, 104, 371, 5, 484, 21, 4, 484], [63, 17, 59, 3, 500, 89, 8, 221], [26, 384, 366, 192, 302, 5, 188, 9, 167, 240, 9, 269, 8, 274, 339], [69, 28, 2496, 1260, 44, 139, 1571, 23], [133, 19, 26, 1731, 2421, 1976, 142, 1, 1], [14, 2, 268, 216], [11, 20, 299, 10], [37, 457, 150, 3, 140], [45, 491, 18], [15, 93, 13, 1, 1, 80, 61, 10, 15], [19, 20, 60, 11, 225, 194, 1066, 1, 2407, 1066], [402, 93, 21, 59, 5, 106, 96], [61, 10, 139, 10, 15, 171], [299, 108], [14, 2, 24, 2, 163], [184, 17, 105, 4, 472], [19, 2, 91, 74], [64, 6, 3, 7, 16], [1343, 33, 23, 258], [64, 6, 3, 7, 16], [23, 146, 1307, 168, 292, 2, 23, 146, 1307], [2517, 40, 2426, 109, 90, 547, 1, 404, 1], [578, 1136, 2, 308], [22, 405, 699, 13, 10], [14, 2, 24, 2, 65], [43, 2, 703, 338, 9, 77, 2, 276, 2530, 329], [63, 17, 59, 3, 500, 89, 8, 32, 1, 1, 116, 1], [267, 101, 619, 505], [17, 27], [37, 33, 1157, 2, 554, 21, 271], [37, 33, 1157, 2, 554, 21, 271], [37, 33, 1157, 2, 554, 21, 271], [70, 2, 15, 169, 202, 286, 10, 13], [1, 1, 4, 77, 2, 58, 214], [27, 56, 5, 8, 1746, 199], [860, 715, 4, 1, 3, 223], [1, 693, 694, 27], [35, 19, 2, 53, 137], [34, 597, 355, 1, 13, 163, 13, 32, 1, 1], [1666, 445, 2166, 270, 1125, 219, 2167], [34, 81, 59, 244, 33, 32, 1, 1, 31, 23, 138, 2, 23, 138], [64, 6, 3, 7, 1723], [163, 18], [2524, 74, 4, 29, 329, 456, 60], [819, 18], [14, 2, 24, 2, 41, 270, 30], [945, 1624, 746, 105, 4, 510, 2, 59], [51, 37, 5, 88], [51, 92, 37, 2, 1, 1], [22, 18, 45, 665, 30, 120], [47, 22, 105, 4, 58, 72, 9, 768, 28, 38, 146, 211, 786], [106, 1, 1, 18], [260, 1, 368, 1, 1, 31, 1131, 887, 887, 1131, 265, 23, 1], [15, 8, 10, 13, 2506, 2507, 5, 11, 95, 11], [10, 81], [1, 59, 18], [66, 26, 9, 4, 263], [902, 1], [142, 30, 3, 664, 184, 991, 408], [133, 19], [343], [26, 1360, 1766, 9, 167], [23, 1343], [14, 2, 63, 32, 289, 3, 61, 116, 10, 139], [2487, 146, 3, 8, 97, 1, 9, 4, 29, 237, 362, 34, 136], [41], [125, 45, 363, 13, 22], [39, 42, 38, 54, 193, 21, 123, 4, 124, 19, 2, 135, 819, 163, 21, 433, 253, 327, 188], [51, 37, 5, 92], [343, 10, 15], [925, 386], [10, 15, 13, 343], [343, 24], [1, 311, 1, 425, 426], [154, 84, 1725, 521, 522], [330, 9, 4, 282, 3, 195, 421, 170, 667, 470, 502], [131, 54, 207, 2526, 2527], [1316, 674, 1539, 1623], [11, 24], [345, 311, 1, 100, 425, 426], [106, 89, 179], [1363], [251, 37], [11, 238, 1042, 334, 13, 223, 30, 120, 122, 3, 9, 4, 1, 608], [49, 17, 315], [39, 35, 15, 47, 11, 10], [1, 1211, 71, 4, 206, 5, 8, 66, 26, 240, 9, 1, 5, 657, 26], [54, 193, 4, 77, 2, 24, 2, 60, 1], [397, 2522, 95, 1361, 231, 280, 150, 33, 530, 33, 241, 1361, 231], [54, 59, 86], [1, 1, 35, 151, 134, 153, 289, 3, 331, 45], [85, 866, 1073, 4, 29], [64, 6, 3, 7, 16], [114, 187, 37], [215, 4, 1], [64, 6, 3, 7, 16], [1294, 2470, 97, 388, 30, 1683], [11, 45, 20, 328, 1, 2, 289, 9, 834, 631, 1, 107], [1, 9, 4, 29, 13, 159, 2315, 691, 1, 361, 1049, 33, 92, 92], [8, 48, 13, 8, 905, 1, 67, 4, 102, 608], [1302, 377], [10, 15, 70, 248, 61, 10], [64, 6, 3, 7, 16], [1, 884, 5, 883, 1720, 100, 2516], [14, 2, 24, 8, 532, 856, 24, 146], [597, 355, 114, 13, 1722, 595, 454, 130], [724, 66, 3, 95, 4, 263, 341, 66, 30], [15, 8, 10, 13, 1, 1, 5, 11, 95, 11], [64, 6, 3, 7, 16], [34, 15, 10, 13, 32, 1, 158, 1018, 32], [14, 2, 62, 2, 162], [10, 15, 11, 20], [410, 1324, 268, 33, 165, 967, 241], [732, 20, 11], [11, 166, 10, 239], [43, 1001, 359, 520, 21, 1091, 199], [2432, 33, 8, 2138, 747, 105, 601, 38, 1784], [14, 2, 68, 3, 135, 1956, 60], [49, 17, 27], [11, 45, 1111, 94, 9, 900, 811, 1108, 59], [64, 6, 3, 7, 16], [552, 397, 1, 328, 152, 141, 66, 66, 40, 87, 46, 5], [64, 6, 3, 7, 16], [740, 771, 191, 1276, 17, 13, 1, 1, 1, 651, 2252], [20, 68, 3, 18], [36, 35, 62], [64, 6, 3, 7, 369], [34, 2533, 47, 54, 23, 96], [78, 148, 2533, 47, 17, 431, 39, 78, 307, 22, 291], [159, 606, 356, 286, 236, 778, 685, 867, 387], [34, 691, 304, 2523, 407, 928, 21, 723, 161, 703, 1299, 1, 8, 163, 65, 73], [8, 84, 35, 75, 844, 5], [51, 37], [22, 443, 990, 33, 45, 772], [511, 439, 193, 1, 2251], [314, 130, 374, 37, 164], [343, 17, 63, 21, 10, 15], [35, 24, 2, 299, 942, 248, 36, 107], [1, 19, 5, 1], [14, 2, 62, 2, 26], [153, 351, 1, 546], [158, 200], [800, 26, 9, 898], [1620, 1471, 116, 1078, 1, 1078, 1733], [34, 450, 32, 1, 1, 1, 31, 1765, 1, 1224], [51, 37, 5, 249, 2, 32, 1, 1], [51, 37, 5, 92], [114, 9, 170, 31, 83], [11, 17, 63], [17, 27], [136, 187, 3, 214], [36, 13, 85], [135, 314, 715, 4, 1], [11, 625, 1, 533, 289, 2, 75, 356], [441, 180, 1, 294, 2, 252, 111, 28, 45, 162, 1857], [128, 4, 780, 3, 31, 1, 191], [114, 18], [126, 49, 10, 15, 13, 1, 1], [225, 9, 4, 29], [644, 1, 35, 75, 558, 5, 735, 1346]]\n"
          ]
        }
      ],
      "source": [
        "print(short_desc_sequences)"
      ]
    },
    {
      "cell_type": "code",
      "execution_count": 122,
      "metadata": {
        "colab": {
          "base_uri": "https://localhost:8080/"
        },
        "id": "Xm4ixoj5tlfX",
        "outputId": "ee475431-e0e7-41c8-dad1-38484b571c6c"
      },
      "outputs": [
        {
          "output_type": "stream",
          "name": "stdout",
          "text": [
            "8417\n"
          ]
        }
      ],
      "source": [
        "print(len(short_desc_sequences))"
      ]
    },
    {
      "cell_type": "code",
      "execution_count": 123,
      "metadata": {
        "colab": {
          "base_uri": "https://localhost:8080/"
        },
        "id": "mucUH0SDuBFb",
        "outputId": "2679c123-1463-42f4-fa66-64c11ca31970"
      },
      "outputs": [
        {
          "output_type": "execute_result",
          "data": {
            "text/plain": [
              "list"
            ]
          },
          "metadata": {},
          "execution_count": 123
        }
      ],
      "source": [
        "type(short_desc_sequences)"
      ]
    },
    {
      "cell_type": "code",
      "execution_count": 124,
      "metadata": {
        "id": "VRhwxnkJuBMS"
      },
      "outputs": [],
      "source": [
        "def FindMaxLength(lst):\n",
        "  maxList = max((x) for x in lst)\n",
        "  maxLength = max(len(x) for x in lst )\n",
        "  return maxList, maxLength"
      ]
    },
    {
      "cell_type": "code",
      "execution_count": 125,
      "metadata": {
        "id": "XVLK9p7MuT50"
      },
      "outputs": [],
      "source": [
        "short_desc_max_list, short_desc_length_to_filter = FindMaxLength(short_desc_sequences)"
      ]
    },
    {
      "cell_type": "code",
      "execution_count": 126,
      "metadata": {
        "colab": {
          "base_uri": "https://localhost:8080/"
        },
        "id": "ltLhaEIOuUE9",
        "outputId": "56f0aeb9-5716-4d0f-f6cf-7a3d4069dc73"
      },
      "outputs": [
        {
          "output_type": "execute_result",
          "data": {
            "text/plain": [
              "28"
            ]
          },
          "metadata": {},
          "execution_count": 126
        }
      ],
      "source": [
        "short_desc_length_to_filter"
      ]
    },
    {
      "cell_type": "code",
      "source": [
        "short_desc_length_to_filter_input = int(0.3*short_desc_length_to_filter)\n",
        "short_desc_length_to_filter_input"
      ],
      "metadata": {
        "colab": {
          "base_uri": "https://localhost:8080/"
        },
        "id": "dNEQ9BnHIP_D",
        "outputId": "e621e9a5-afa2-4b8a-a4e7-139038265277"
      },
      "execution_count": 127,
      "outputs": [
        {
          "output_type": "execute_result",
          "data": {
            "text/plain": [
              "8"
            ]
          },
          "metadata": {},
          "execution_count": 127
        }
      ]
    },
    {
      "cell_type": "code",
      "execution_count": 128,
      "metadata": {
        "id": "Z_XioCaIuUO2"
      },
      "outputs": [],
      "source": [
        "short_desc_padded_sequences = pad_sequences(short_desc_sequences, maxlen = short_desc_length_to_filter_input, padding='post', truncating='post')"
      ]
    },
    {
      "cell_type": "code",
      "execution_count": 129,
      "metadata": {
        "colab": {
          "base_uri": "https://localhost:8080/"
        },
        "id": "hVwqxEL9Ixzt",
        "outputId": "2c59c180-729e-4108-ca72-f6f4cf153d69"
      },
      "outputs": [
        {
          "output_type": "execute_result",
          "data": {
            "text/plain": [
              "array([[  24,   18,    0, ...,    0,    0,    0],\n",
              "       [  22,    0,    0, ...,    0,    0,    0],\n",
              "       [  35,   68,    3, ...,    0,    0,    0],\n",
              "       ...,\n",
              "       [ 126,   49,   10, ...,    1,    1,    0],\n",
              "       [ 225,    9,    4, ...,    0,    0,    0],\n",
              "       [ 644,    1,   35, ...,    5,  735, 1346]], dtype=int32)"
            ]
          },
          "metadata": {},
          "execution_count": 129
        }
      ],
      "source": [
        "short_desc_padded_sequences"
      ]
    },
    {
      "cell_type": "code",
      "execution_count": 130,
      "metadata": {
        "colab": {
          "base_uri": "https://localhost:8080/"
        },
        "id": "GgzZZlMFIx3V",
        "outputId": "907cbe89-0876-4f38-8abc-7ab24e50ae0c"
      },
      "outputs": [
        {
          "output_type": "stream",
          "name": "stdout",
          "text": [
            "Number of words: 5691\n"
          ]
        }
      ],
      "source": [
        "print(\"Number of words:\", len(short_desc_tokenizer.word_index)+1)"
      ]
    },
    {
      "cell_type": "code",
      "execution_count": 131,
      "metadata": {
        "id": "LKRw0PTgIx7U"
      },
      "outputs": [],
      "source": [
        "short_desc_vocab_size = len(short_desc_tokenizer.word_index)+1"
      ]
    },
    {
      "cell_type": "markdown",
      "metadata": {
        "id": "Be21hQCwJE5H"
      },
      "source": [
        "Inverting the indexes to re-create the short description"
      ]
    },
    {
      "cell_type": "code",
      "execution_count": 132,
      "metadata": {
        "id": "Z6z_prV6I8nP"
      },
      "outputs": [],
      "source": [
        "inverted_short_desc_word_index = dict((i, word) for (word, i) in short_desc_word_index.items())"
      ]
    },
    {
      "cell_type": "code",
      "execution_count": 133,
      "metadata": {
        "colab": {
          "base_uri": "https://localhost:8080/"
        },
        "id": "7r9KE8lTI8rX",
        "outputId": "250c3dc0-2ebb-44b2-d03b-ef4a341f5f8c"
      },
      "outputs": [
        {
          "output_type": "stream",
          "name": "stdout",
          "text": [
            "login issue\n"
          ]
        }
      ],
      "source": [
        "short_desc_decoded_sequence = \" \".join(inverted_short_desc_word_index[i] for i in short_desc_sequences[0])\n",
        "print(short_desc_decoded_sequence)"
      ]
    },
    {
      "cell_type": "markdown",
      "metadata": {
        "id": "LAA9XpoyJYad"
      },
      "source": [
        "Applying Glove Word Embeddings"
      ]
    },
    {
      "cell_type": "code",
      "execution_count": 134,
      "metadata": {
        "id": "C9njGjamI8ub"
      },
      "outputs": [],
      "source": [
        "glove_50d_file_path = '/content/drive/MyDrive/GL/NLP-1/glove.6B.50d.txt'"
      ]
    },
    {
      "cell_type": "code",
      "execution_count": 135,
      "metadata": {
        "id": "pK9trdv6PZJu"
      },
      "outputs": [],
      "source": [
        "short_desc_embedding_size_50d = 50"
      ]
    },
    {
      "cell_type": "code",
      "execution_count": 136,
      "metadata": {
        "id": "jmL7x7WxJXVp"
      },
      "outputs": [],
      "source": [
        "glove_50d_embeddings_index = {}\n",
        "\n",
        "glove_50d_embedding_file = open(glove_50d_file_path)\n",
        "\n",
        "for glove_50d_embedding_value in glove_50d_embedding_file:\n",
        "  #print(glove_50d_embedding_value)\n",
        "  #print(type(glove_50d_embedding_value))\n",
        "  word_50d = glove_50d_embedding_value.split(\" \")[0]\n",
        "  #print(word_50d)\n",
        "  glove_50d_embedding = glove_50d_embedding_value.split(\" \")[1:]\n",
        "  glove_50d_embedding = np.asarray(glove_50d_embedding, dtype='float32')\n",
        "  glove_50d_embeddings_index[word_50d] = glove_50d_embedding\n",
        "glove_50d_embedding_file.close()"
      ]
    },
    {
      "cell_type": "code",
      "execution_count": 137,
      "metadata": {
        "id": "ObWglOJ_JXYx"
      },
      "outputs": [],
      "source": [
        "glove_50d_embedding_matrix = np.zeros((short_desc_vocab_size, short_desc_embedding_size_50d))\n",
        "for word, i in short_desc_tokenizer.word_index.items():\n",
        "\tembedding_50d_vector = glove_50d_embeddings_index.get(word)\n",
        "\tif embedding_50d_vector is not None:\n",
        "\t\tglove_50d_embedding_matrix[i] = embedding_50d_vector"
      ]
    },
    {
      "cell_type": "code",
      "execution_count": 138,
      "metadata": {
        "id": "upS2z_FhJXbp"
      },
      "outputs": [],
      "source": [
        "X_ds_sd = short_desc_padded_sequences"
      ]
    },
    {
      "cell_type": "code",
      "execution_count": 139,
      "metadata": {
        "id": "VUGy2-nXJXe9"
      },
      "outputs": [],
      "source": [
        "y_ds = pd.DataFrame()"
      ]
    },
    {
      "cell_type": "code",
      "execution_count": 140,
      "metadata": {
        "id": "LncdMA3RJXho"
      },
      "outputs": [],
      "source": [
        "y_ds['assignment_group'] = ata_data['Assignment group'].copy(deep=True)"
      ]
    },
    {
      "cell_type": "code",
      "execution_count": 141,
      "metadata": {
        "id": "n6wPpnVjJXj9"
      },
      "outputs": [],
      "source": [
        "le = LabelEncoder()\n",
        "y_ds['assignment_group'] = le.fit_transform(y_ds['assignment_group'])"
      ]
    },
    {
      "cell_type": "code",
      "execution_count": 142,
      "metadata": {
        "colab": {
          "base_uri": "https://localhost:8080/"
        },
        "id": "JD_jN6XtI8yD",
        "outputId": "74104f9d-ad2e-49a9-f77c-32b9c5dabcc5"
      },
      "outputs": [
        {
          "output_type": "execute_result",
          "data": {
            "text/plain": [
              "0     3934\n",
              "72     645\n",
              "17     285\n",
              "4      257\n",
              "73     252\n",
              "      ... \n",
              "58       1\n",
              "61       1\n",
              "68       1\n",
              "29       1\n",
              "71       1\n",
              "Name: assignment_group, Length: 74, dtype: int64"
            ]
          },
          "metadata": {},
          "execution_count": 142
        }
      ],
      "source": [
        "y_ds['assignment_group'].value_counts()"
      ]
    },
    {
      "cell_type": "code",
      "execution_count": 143,
      "metadata": {
        "id": "ZwwUovM2I803"
      },
      "outputs": [],
      "source": [
        "groupings = (y_ds['assignment_group'].max()) + 1\n",
        "#groupings = len(y_ds['assignment_group'].unique())"
      ]
    },
    {
      "cell_type": "code",
      "source": [
        "groupings"
      ],
      "metadata": {
        "colab": {
          "base_uri": "https://localhost:8080/"
        },
        "id": "MK_ZoZvNazCq",
        "outputId": "45bcdfea-894c-48cb-fad3-65e3c2312285"
      },
      "execution_count": 144,
      "outputs": [
        {
          "output_type": "execute_result",
          "data": {
            "text/plain": [
              "74"
            ]
          },
          "metadata": {},
          "execution_count": 144
        }
      ]
    },
    {
      "cell_type": "code",
      "source": [
        "ros = RandomOverSampler(random_state=seed)"
      ],
      "metadata": {
        "id": "Wip2wfaNe-WB"
      },
      "execution_count": 145,
      "outputs": []
    },
    {
      "cell_type": "code",
      "source": [
        "# fit predictor and target variable\n",
        "X_ds_sd_ros, y_ds_ros = ros.fit_resample(X_ds_sd, y_ds)\n",
        "\n",
        "print('original dataset shape:', y_ds.value_counts())\n",
        "print('Resample dataset shape', y_ds_ros.value_counts())"
      ],
      "metadata": {
        "colab": {
          "base_uri": "https://localhost:8080/"
        },
        "id": "iNSyvdUNe-d6",
        "outputId": "99fb8f72-5e29-4962-fd09-f872023294d8"
      },
      "execution_count": 146,
      "outputs": [
        {
          "output_type": "stream",
          "name": "stdout",
          "text": [
            "original dataset shape: assignment_group\n",
            "0                   3934\n",
            "72                   645\n",
            "17                   285\n",
            "4                    257\n",
            "73                   252\n",
            "                    ... \n",
            "64                     1\n",
            "58                     1\n",
            "71                     1\n",
            "29                     1\n",
            "68                     1\n",
            "Length: 74, dtype: int64\n",
            "Resample dataset shape assignment_group\n",
            "73                  3934\n",
            "18                  3934\n",
            "20                  3934\n",
            "21                  3934\n",
            "22                  3934\n",
            "                    ... \n",
            "49                  3934\n",
            "50                  3934\n",
            "51                  3934\n",
            "52                  3934\n",
            "0                   3934\n",
            "Length: 74, dtype: int64\n"
          ]
        }
      ]
    },
    {
      "cell_type": "code",
      "execution_count": 147,
      "metadata": {
        "id": "1gIJlnUDI846"
      },
      "outputs": [],
      "source": [
        "X_train_sd, X_val_test_sd, y_train, y_val_test = train_test_split(X_ds_sd_ros,y_ds_ros, test_size = 0.2, random_state = seed, shuffle = True, stratify = y_ds_ros)"
      ]
    },
    {
      "cell_type": "code",
      "execution_count": 148,
      "metadata": {
        "id": "13D87rZzI8_J"
      },
      "outputs": [],
      "source": [
        "X_val_sd, X_test_sd, y_val, y_test = train_test_split(X_val_test_sd,y_val_test, test_size = 0.5, random_state = seed, shuffle = True, stratify = y_val_test)"
      ]
    },
    {
      "cell_type": "code",
      "source": [
        ""
      ],
      "metadata": {
        "id": "WDxOd6NAe-3B"
      },
      "execution_count": 148,
      "outputs": []
    },
    {
      "cell_type": "code",
      "execution_count": 149,
      "metadata": {
        "colab": {
          "base_uri": "https://localhost:8080/"
        },
        "id": "71juI4ROIx_N",
        "outputId": "f7cdef6a-f74b-46f6-ee9d-8e2b46bf932b"
      },
      "outputs": [
        {
          "output_type": "execute_result",
          "data": {
            "text/plain": [
              "array([[ 410,   92,   81, ..., 3854,  666,   59],\n",
              "       [  41,   13,  238, ...,   25,   94,  712],\n",
              "       [1737,    1,   35, ...,    0,    0,    0],\n",
              "       ...,\n",
              "       [  39,   35,   19, ...,  108,   39,  168],\n",
              "       [3163,    0,    0, ...,    0,    0,    0],\n",
              "       [  43,   19,    2, ...,    0,    0,    0]], dtype=int32)"
            ]
          },
          "metadata": {},
          "execution_count": 149
        }
      ],
      "source": [
        "X_train_sd"
      ]
    },
    {
      "cell_type": "code",
      "execution_count": 150,
      "metadata": {
        "id": "EbBl4PiWJ5XZ"
      },
      "outputs": [],
      "source": [
        "sd_glove_50d_bidi_lstm_model  = Sequential()\n",
        "sd_glove_50d_bidi_lstm_model.add(Embedding(short_desc_vocab_size, short_desc_embedding_size_50d, weights=[glove_50d_embedding_matrix], input_length=short_desc_length_to_filter_input, trainable=False))\n",
        "sd_glove_50d_bidi_lstm_model.add(Bidirectional(LSTM(short_desc_embedding_size_50d*3, dropout=0.2, recurrent_dropout=0.2, return_sequences=False)))\n",
        "sd_glove_50d_bidi_lstm_model.add(Dropout(0.2))\n",
        "sd_glove_50d_bidi_lstm_model.add(Flatten())\n",
        "sd_glove_50d_bidi_lstm_model.add(Dense(groupings, activation='softmax'))"
      ]
    },
    {
      "cell_type": "code",
      "execution_count": 151,
      "metadata": {
        "id": "sw81hz_HJ5aS"
      },
      "outputs": [],
      "source": [
        "short_desc_opt = optimizers.Adam(learning_rate=0.0001)"
      ]
    },
    {
      "cell_type": "code",
      "execution_count": 152,
      "metadata": {
        "colab": {
          "base_uri": "https://localhost:8080/"
        },
        "id": "dx6yXP1kJ5dj",
        "outputId": "e4259b32-5b34-4d1c-c7b8-ca9b286b6178"
      },
      "outputs": [
        {
          "output_type": "stream",
          "name": "stdout",
          "text": [
            "Model: \"sequential\"\n",
            "_________________________________________________________________\n",
            " Layer (type)                Output Shape              Param #   \n",
            "=================================================================\n",
            " embedding (Embedding)       (None, 8, 50)             284550    \n",
            "                                                                 \n",
            " bidirectional (Bidirectiona  (None, 300)              241200    \n",
            " l)                                                              \n",
            "                                                                 \n",
            " dropout (Dropout)           (None, 300)               0         \n",
            "                                                                 \n",
            " flatten (Flatten)           (None, 300)               0         \n",
            "                                                                 \n",
            " dense (Dense)               (None, 74)                22274     \n",
            "                                                                 \n",
            "=================================================================\n",
            "Total params: 548,024\n",
            "Trainable params: 263,474\n",
            "Non-trainable params: 284,550\n",
            "_________________________________________________________________\n",
            "None\n"
          ]
        }
      ],
      "source": [
        "sd_glove_50d_bidi_lstm_model.compile(optimizer = short_desc_opt, loss = 'sparse_categorical_crossentropy', metrics = ['accuracy'])\n",
        "print(sd_glove_50d_bidi_lstm_model.summary())"
      ]
    },
    {
      "cell_type": "code",
      "execution_count": 153,
      "metadata": {
        "colab": {
          "base_uri": "https://localhost:8080/"
        },
        "id": "OkeFGqUgJ5iz",
        "outputId": "82595d42-1fe8-470c-f743-df71549bd168"
      },
      "outputs": [
        {
          "output_type": "stream",
          "name": "stdout",
          "text": [
            "Epoch 1/30\n",
            "2329/2329 - 169s - loss: 2.4819 - accuracy: 0.4222 - val_loss: 1.4471 - val_accuracy: 0.6319 - 169s/epoch - 73ms/step\n",
            "Epoch 2/30\n",
            "2329/2329 - 164s - loss: 1.4867 - accuracy: 0.6163 - val_loss: 1.0393 - val_accuracy: 0.7295 - 164s/epoch - 70ms/step\n",
            "Epoch 3/30\n",
            "2329/2329 - 163s - loss: 1.1907 - accuracy: 0.6835 - val_loss: 0.8281 - val_accuracy: 0.7723 - 163s/epoch - 70ms/step\n",
            "Epoch 4/30\n",
            "2329/2329 - 163s - loss: 1.0025 - accuracy: 0.7267 - val_loss: 0.6880 - val_accuracy: 0.8095 - 163s/epoch - 70ms/step\n",
            "Epoch 5/30\n",
            "2329/2329 - 163s - loss: 0.8701 - accuracy: 0.7595 - val_loss: 0.5957 - val_accuracy: 0.8307 - 163s/epoch - 70ms/step\n",
            "Epoch 6/30\n",
            "2329/2329 - 163s - loss: 0.7701 - accuracy: 0.7844 - val_loss: 0.5214 - val_accuracy: 0.8484 - 163s/epoch - 70ms/step\n",
            "Epoch 7/30\n",
            "2329/2329 - 163s - loss: 0.6930 - accuracy: 0.8032 - val_loss: 0.4672 - val_accuracy: 0.8631 - 163s/epoch - 70ms/step\n",
            "Epoch 8/30\n",
            "2329/2329 - 163s - loss: 0.6301 - accuracy: 0.8182 - val_loss: 0.4246 - val_accuracy: 0.8722 - 163s/epoch - 70ms/step\n",
            "Epoch 9/30\n",
            "2329/2329 - 164s - loss: 0.5826 - accuracy: 0.8307 - val_loss: 0.3929 - val_accuracy: 0.8822 - 164s/epoch - 70ms/step\n",
            "Epoch 10/30\n",
            "2329/2329 - 163s - loss: 0.5404 - accuracy: 0.8408 - val_loss: 0.3662 - val_accuracy: 0.8862 - 163s/epoch - 70ms/step\n",
            "Epoch 11/30\n",
            "2329/2329 - 164s - loss: 0.5066 - accuracy: 0.8490 - val_loss: 0.3453 - val_accuracy: 0.8908 - 164s/epoch - 70ms/step\n",
            "Epoch 12/30\n",
            "2329/2329 - 164s - loss: 0.4773 - accuracy: 0.8567 - val_loss: 0.3271 - val_accuracy: 0.8964 - 164s/epoch - 71ms/step\n",
            "Epoch 13/30\n",
            "2329/2329 - 164s - loss: 0.4517 - accuracy: 0.8630 - val_loss: 0.3104 - val_accuracy: 0.9006 - 164s/epoch - 70ms/step\n",
            "Epoch 14/30\n",
            "2329/2329 - 164s - loss: 0.4311 - accuracy: 0.8679 - val_loss: 0.2976 - val_accuracy: 0.9029 - 164s/epoch - 70ms/step\n",
            "Epoch 15/30\n",
            "2329/2329 - 163s - loss: 0.4135 - accuracy: 0.8726 - val_loss: 0.2872 - val_accuracy: 0.9058 - 163s/epoch - 70ms/step\n",
            "Epoch 16/30\n",
            "2329/2329 - 164s - loss: 0.3972 - accuracy: 0.8771 - val_loss: 0.2815 - val_accuracy: 0.9079 - 164s/epoch - 70ms/step\n",
            "Epoch 17/30\n",
            "2329/2329 - 164s - loss: 0.3828 - accuracy: 0.8808 - val_loss: 0.2714 - val_accuracy: 0.9098 - 164s/epoch - 70ms/step\n",
            "Epoch 18/30\n",
            "2329/2329 - 165s - loss: 0.3706 - accuracy: 0.8837 - val_loss: 0.2652 - val_accuracy: 0.9136 - 165s/epoch - 71ms/step\n",
            "Epoch 19/30\n",
            "2329/2329 - 164s - loss: 0.3574 - accuracy: 0.8874 - val_loss: 0.2608 - val_accuracy: 0.9140 - 164s/epoch - 70ms/step\n",
            "Epoch 20/30\n",
            "2329/2329 - 164s - loss: 0.3488 - accuracy: 0.8895 - val_loss: 0.2564 - val_accuracy: 0.9132 - 164s/epoch - 70ms/step\n",
            "Epoch 21/30\n",
            "2329/2329 - 164s - loss: 0.3420 - accuracy: 0.8910 - val_loss: 0.2524 - val_accuracy: 0.9156 - 164s/epoch - 70ms/step\n",
            "Epoch 22/30\n",
            "2329/2329 - 164s - loss: 0.3331 - accuracy: 0.8938 - val_loss: 0.2495 - val_accuracy: 0.9156 - 164s/epoch - 71ms/step\n",
            "Epoch 23/30\n",
            "2329/2329 - 164s - loss: 0.3261 - accuracy: 0.8951 - val_loss: 0.2461 - val_accuracy: 0.9155 - 164s/epoch - 70ms/step\n",
            "Epoch 24/30\n",
            "2329/2329 - 164s - loss: 0.3201 - accuracy: 0.8969 - val_loss: 0.2442 - val_accuracy: 0.9173 - 164s/epoch - 70ms/step\n",
            "Epoch 25/30\n",
            "2329/2329 - 164s - loss: 0.3132 - accuracy: 0.8986 - val_loss: 0.2419 - val_accuracy: 0.9161 - 164s/epoch - 71ms/step\n",
            "Epoch 26/30\n",
            "2329/2329 - 164s - loss: 0.3084 - accuracy: 0.8997 - val_loss: 0.2390 - val_accuracy: 0.9181 - 164s/epoch - 70ms/step\n",
            "Epoch 27/30\n",
            "2329/2329 - 164s - loss: 0.3046 - accuracy: 0.9005 - val_loss: 0.2386 - val_accuracy: 0.9184 - 164s/epoch - 70ms/step\n",
            "Epoch 28/30\n",
            "2329/2329 - 164s - loss: 0.3002 - accuracy: 0.9018 - val_loss: 0.2365 - val_accuracy: 0.9187 - 164s/epoch - 71ms/step\n",
            "Epoch 29/30\n",
            "2329/2329 - 164s - loss: 0.2964 - accuracy: 0.9031 - val_loss: 0.2363 - val_accuracy: 0.9178 - 164s/epoch - 70ms/step\n",
            "Epoch 30/30\n",
            "2329/2329 - 163s - loss: 0.2913 - accuracy: 0.9042 - val_loss: 0.2342 - val_accuracy: 0.9178 - 163s/epoch - 70ms/step\n"
          ]
        }
      ],
      "source": [
        "sd_glove_50d_bidi_lstm_model_execution_data = sd_glove_50d_bidi_lstm_model.fit(X_train_sd, y_train, validation_data=(X_val_sd, y_val), epochs=30, batch_size=100, verbose=2)"
      ]
    },
    {
      "cell_type": "code",
      "execution_count": 154,
      "metadata": {
        "colab": {
          "base_uri": "https://localhost:8080/"
        },
        "id": "ZL4QKihWJ5og",
        "outputId": "e64f02b9-1c49-469a-d5eb-342da1125b3b"
      },
      "outputs": [
        {
          "output_type": "execute_result",
          "data": {
            "text/plain": [
              "dict_keys(['loss', 'accuracy', 'val_loss', 'val_accuracy'])"
            ]
          },
          "metadata": {},
          "execution_count": 154
        }
      ],
      "source": [
        "bidi_lstm_glove50d_classifier_history_dict = sd_glove_50d_bidi_lstm_model_execution_data.history\n",
        "bidi_lstm_glove50d_classifier_history_dict.keys()"
      ]
    },
    {
      "cell_type": "code",
      "execution_count": 156,
      "metadata": {
        "id": "atxGX5_ZJ5tW",
        "colab": {
          "base_uri": "https://localhost:8080/",
          "height": 428
        },
        "outputId": "e27fc1fd-d23c-4359-c00d-4956c3980eac"
      },
      "outputs": [
        {
          "output_type": "execute_result",
          "data": {
            "text/plain": [
              "<matplotlib.legend.Legend at 0x7f0953d57510>"
            ]
          },
          "metadata": {},
          "execution_count": 156
        },
        {
          "output_type": "display_data",
          "data": {
            "image/png": "[encoded data removed]",
            "text/plain": [
              "<Figure size 1008x432 with 2 Axes>"
            ]
          },
          "metadata": {
            "needs_background": "light"
          }
        }
      ],
      "source": [
        "loss_values = bidi_lstm_glove50d_classifier_history_dict['loss']\n",
        "val_loss_values = bidi_lstm_glove50d_classifier_history_dict['val_loss']\n",
        "accuracy_values = bidi_lstm_glove50d_classifier_history_dict['accuracy']\n",
        "val_accuracy_values = bidi_lstm_glove50d_classifier_history_dict['val_accuracy']\n",
        " \n",
        "epochs = range(1, len(loss_values) + 1)\n",
        "fig, ax = plt.subplots(1, 2, figsize=(14, 6))\n",
        "#\n",
        "# Plot the model accuracy (MAE) vs Epochs\n",
        "#\n",
        "ax[0].plot(epochs, accuracy_values, 'bo', label='Training Accuracy')\n",
        "ax[0].plot(epochs, val_accuracy_values, 'b', label='Validation Accuracy')\n",
        "ax[0].set_title('Training & Validation Accuracy', fontsize=16)\n",
        "ax[0].set_xlabel('Epochs', fontsize=16)\n",
        "ax[0].set_ylabel('Accuracy', fontsize=16)\n",
        "ax[0].legend()\n",
        "#\n",
        "# Plot the loss vs Epochs\n",
        "#\n",
        "ax[1].plot(epochs, loss_values, 'bo', label='Training loss')\n",
        "ax[1].plot(epochs, val_loss_values, 'b', label='Validation loss')\n",
        "ax[1].set_title('Training & Validation Loss', fontsize=16)\n",
        "ax[1].set_xlabel('Epochs', fontsize=16)\n",
        "ax[1].set_ylabel('Loss', fontsize=16)\n",
        "ax[1].legend()"
      ]
    },
    {
      "cell_type": "code",
      "source": [
        "labels = list(le.inverse_transform(y_test['assignment_group'].unique()))\n",
        "print(labels)"
      ],
      "metadata": {
        "colab": {
          "base_uri": "https://localhost:8080/"
        },
        "id": "dqSW2RptcFgG",
        "outputId": "a4099e14-2632-4c28-cd86-a1cd58fad713"
      },
      "execution_count": 157,
      "outputs": [
        {
          "output_type": "stream",
          "name": "stdout",
          "text": [
            "['GRP_38', 'GRP_35', 'GRP_37', 'GRP_10', 'GRP_31', 'GRP_43', 'GRP_13', 'GRP_5', 'GRP_40', 'GRP_63', 'GRP_50', 'GRP_23', 'GRP_57', 'GRP_3', 'GRP_42', 'GRP_21', 'GRP_51', 'GRP_18', 'GRP_68', 'GRP_6', 'GRP_71', 'GRP_27', 'GRP_36', 'GRP_44', 'GRP_2', 'GRP_9', 'GRP_60', 'GRP_64', 'GRP_8', 'GRP_53', 'GRP_19', 'GRP_20', 'GRP_69', 'GRP_7', 'GRP_17', 'GRP_14', 'GRP_72', 'GRP_22', 'GRP_55', 'GRP_49', 'GRP_65', 'GRP_11', 'GRP_28', 'GRP_39', 'GRP_1', 'GRP_52', 'GRP_54', 'GRP_73', 'GRP_61', 'GRP_47', 'GRP_16', 'GRP_0', 'GRP_48', 'GRP_62', 'GRP_33', 'GRP_26', 'GRP_4', 'GRP_46', 'GRP_34', 'GRP_41', 'GRP_56', 'GRP_29', 'GRP_24', 'GRP_25', 'GRP_32', 'GRP_67', 'GRP_59', 'GRP_15', 'GRP_45', 'GRP_30', 'GRP_12', 'GRP_66', 'GRP_70', 'GRP_58']\n"
          ]
        }
      ]
    },
    {
      "cell_type": "code",
      "source": [
        "len(labels)"
      ],
      "metadata": {
        "colab": {
          "base_uri": "https://localhost:8080/"
        },
        "id": "6bJDZXjGZklO",
        "outputId": "2001a6c5-8635-4300-b586-94a0cc52d7b8"
      },
      "execution_count": 158,
      "outputs": [
        {
          "output_type": "execute_result",
          "data": {
            "text/plain": [
              "74"
            ]
          },
          "metadata": {},
          "execution_count": 158
        }
      ]
    },
    {
      "cell_type": "code",
      "execution_count": 159,
      "metadata": {
        "id": "bdY6_EzsSFZ2"
      },
      "outputs": [],
      "source": [
        "sd_glove_50d_bidi_lstm_model_pred = sd_glove_50d_bidi_lstm_model.predict(X_test_sd)"
      ]
    },
    {
      "cell_type": "code",
      "source": [
        "len(y_test['assignment_group'].unique())"
      ],
      "metadata": {
        "colab": {
          "base_uri": "https://localhost:8080/"
        },
        "id": "IpCqRmCQZSWb",
        "outputId": "ae429bf0-e461-4eed-c2dc-0abba2ad3df9"
      },
      "execution_count": 160,
      "outputs": [
        {
          "output_type": "execute_result",
          "data": {
            "text/plain": [
              "74"
            ]
          },
          "metadata": {},
          "execution_count": 160
        }
      ]
    },
    {
      "cell_type": "code",
      "execution_count": 161,
      "metadata": {
        "id": "hPINojG5SFgc",
        "colab": {
          "base_uri": "https://localhost:8080/"
        },
        "outputId": "0d6cf815-d76d-4a6c-e759-eebf81e6ad77"
      },
      "outputs": [
        {
          "output_type": "stream",
          "name": "stdout",
          "text": [
            "              precision    recall  f1-score   support\n",
            "\n",
            "      GRP_38       0.93      0.52      0.67       393\n",
            "      GRP_35       1.00      0.77      0.87       394\n",
            "      GRP_37       0.98      0.57      0.72       393\n",
            "      GRP_10       0.95      1.00      0.98       393\n",
            "      GRP_31       0.98      0.90      0.94       393\n",
            "      GRP_43       0.95      0.97      0.96       393\n",
            "      GRP_13       0.97      0.90      0.94       394\n",
            "       GRP_5       1.00      0.94      0.97       394\n",
            "      GRP_40       0.96      0.99      0.97       393\n",
            "      GRP_63       1.00      1.00      1.00       393\n",
            "      GRP_50       0.98      0.94      0.96       393\n",
            "      GRP_23       0.93      0.95      0.94       394\n",
            "      GRP_57       0.94      0.93      0.94       394\n",
            "       GRP_3       1.00      0.97      0.98       394\n",
            "      GRP_42       0.99      1.00      1.00       393\n",
            "      GRP_21       0.92      1.00      0.96       393\n",
            "      GRP_51       0.99      1.00      0.99       393\n",
            "      GRP_18       0.99      0.98      0.99       394\n",
            "      GRP_68       0.98      0.96      0.97       393\n",
            "       GRP_6       0.97      0.98      0.98       394\n",
            "      GRP_71       0.99      1.00      1.00       394\n",
            "      GRP_27       0.98      0.96      0.97       394\n",
            "      GRP_36       0.98      0.94      0.96       393\n",
            "      GRP_44       0.93      0.94      0.93       394\n",
            "       GRP_2       0.95      0.98      0.96       393\n",
            "       GRP_9       0.96      0.89      0.92       393\n",
            "      GRP_60       1.00      1.00      1.00       393\n",
            "      GRP_64       0.97      0.99      0.98       394\n",
            "       GRP_8       0.94      0.97      0.95       393\n",
            "      GRP_53       1.00      1.00      1.00       394\n",
            "      GRP_19       0.99      0.93      0.96       394\n",
            "      GRP_20       1.00      1.00      1.00       393\n",
            "      GRP_69       1.00      1.00      1.00       394\n",
            "       GRP_7       1.00      1.00      1.00       393\n",
            "      GRP_17       0.99      0.99      0.99       393\n",
            "      GRP_14       0.98      0.95      0.97       394\n",
            "      GRP_72       1.00      0.97      0.98       394\n",
            "      GRP_22       1.00      1.00      1.00       393\n",
            "      GRP_55       1.00      1.00      1.00       394\n",
            "      GRP_49       1.00      0.93      0.96       394\n",
            "      GRP_65       0.98      0.80      0.88       393\n",
            "      GRP_11       1.00      1.00      1.00       393\n",
            "      GRP_28       0.62      0.92      0.74       393\n",
            "      GRP_39       0.98      0.92      0.94       393\n",
            "       GRP_1       1.00      1.00      1.00       393\n",
            "      GRP_52       0.87      0.22      0.35       394\n",
            "      GRP_54       0.98      1.00      0.99       394\n",
            "      GRP_73       1.00      1.00      1.00       394\n",
            "      GRP_61       1.00      0.89      0.94       394\n",
            "      GRP_47       0.98      1.00      0.99       394\n",
            "      GRP_16       1.00      1.00      1.00       393\n",
            "       GRP_0       0.67      1.00      0.80       394\n",
            "      GRP_48       0.99      1.00      0.99       393\n",
            "      GRP_62       1.00      0.51      0.68       394\n",
            "      GRP_33       1.00      1.00      1.00       394\n",
            "      GRP_26       0.96      1.00      0.98       393\n",
            "       GRP_4       0.91      0.35      0.50       393\n",
            "      GRP_46       0.21      1.00      0.34       393\n",
            "      GRP_34       1.00      1.00      1.00       393\n",
            "      GRP_41       0.97      1.00      0.98       393\n",
            "      GRP_56       1.00      1.00      1.00       393\n",
            "      GRP_29       1.00      1.00      1.00       393\n",
            "      GRP_24       0.99      1.00      0.99       393\n",
            "      GRP_25       1.00      1.00      1.00       393\n",
            "      GRP_32       1.00      1.00      1.00       393\n",
            "      GRP_67       1.00      1.00      1.00       394\n",
            "      GRP_59       0.99      1.00      1.00       393\n",
            "      GRP_15       0.97      1.00      0.99       393\n",
            "      GRP_45       1.00      1.00      1.00       393\n",
            "      GRP_30       1.00      1.00      1.00       393\n",
            "      GRP_12       0.98      1.00      0.99       394\n",
            "      GRP_66       0.99      1.00      0.99       393\n",
            "      GRP_70       1.00      0.34      0.51       394\n",
            "      GRP_58       0.98      0.26      0.42       393\n",
            "\n",
            "    accuracy                           0.92     29112\n",
            "   macro avg       0.96      0.92      0.92     29112\n",
            "weighted avg       0.96      0.92      0.92     29112\n",
            "\n"
          ]
        }
      ],
      "source": [
        "#print(classification_report(y_true, y_pred, target_names=target_names)\n",
        "print(classification_report(y_test, sd_glove_50d_bidi_lstm_model_pred.argmax(axis=1), target_names=labels))"
      ]
    },
    {
      "cell_type": "code",
      "execution_count": 162,
      "metadata": {
        "id": "mh0SrcKwSFld",
        "colab": {
          "base_uri": "https://localhost:8080/"
        },
        "outputId": "ab28a6bc-fa15-43db-8c27-6060d0f1e139"
      },
      "outputs": [
        {
          "output_type": "execute_result",
          "data": {
            "text/plain": [
              "array([[ 749, 2682,   30, ...,    9,    4, 2683],\n",
              "       [  43,   19,    2, ...,    0,    0,    0],\n",
              "       [   4,   77,    2, ...,  333,   31, 1540],\n",
              "       ...,\n",
              "       [ 114,  187,   37, ...,    0,    0,    0],\n",
              "       [  37, 1754,    2, ...,  520,    0,    0],\n",
              "       [ 106,   89,    0, ...,    0,    0,    0]], dtype=int32)"
            ]
          },
          "metadata": {},
          "execution_count": 162
        }
      ],
      "source": [
        "X_test_sd"
      ]
    },
    {
      "cell_type": "code",
      "execution_count": 163,
      "metadata": {
        "id": "ZGa9bU5ZSFst",
        "colab": {
          "base_uri": "https://localhost:8080/"
        },
        "outputId": "802c845a-f1f3-4a74-89ab-58d00c687bf6"
      },
      "outputs": [
        {
          "output_type": "stream",
          "name": "stdout",
          "text": [
            "hpqc delivers error message user is not maintained\n"
          ]
        }
      ],
      "source": [
        "short_desc_decoded_sequence = \" \".join(inverted_short_desc_word_index[i] for i in np.delete(X_test_sd[0], np.argwhere(X_test_sd[0] == 0)))\n",
        "print(short_desc_decoded_sequence)"
      ]
    },
    {
      "cell_type": "code",
      "execution_count": 164,
      "metadata": {
        "id": "GMaxrLwOSFxA",
        "colab": {
          "base_uri": "https://localhost:8080/"
        },
        "outputId": "c075fccd-2de4-4971-8a91-047f2153aa83"
      },
      "outputs": [
        {
          "output_type": "execute_result",
          "data": {
            "text/plain": [
              "array([ 749, 2682,   30,  120,   32,    9,    4, 2683], dtype=int32)"
            ]
          },
          "metadata": {},
          "execution_count": 164
        }
      ],
      "source": [
        "X_test_sd[0]"
      ]
    },
    {
      "cell_type": "code",
      "execution_count": 165,
      "metadata": {
        "id": "bAj1EzhESGJ1",
        "colab": {
          "base_uri": "https://localhost:8080/"
        },
        "outputId": "16763215-a87c-4135-ccd5-ff2f167f8842"
      },
      "outputs": [
        {
          "output_type": "execute_result",
          "data": {
            "text/plain": [
              "array([ 749, 2682,   30,  120,   32,    9,    4, 2683], dtype=int32)"
            ]
          },
          "metadata": {},
          "execution_count": 165
        }
      ],
      "source": [
        "np.delete(X_test_sd[0], np.argwhere(X_test_sd[0] == 0))"
      ]
    },
    {
      "cell_type": "code",
      "source": [
        "decoded_test_text = []"
      ],
      "metadata": {
        "id": "nbL2WK8ZiO5i"
      },
      "execution_count": 166,
      "outputs": []
    },
    {
      "cell_type": "code",
      "source": [
        "for elem in X_test_sd:\n",
        "  short_desc_decoded_sequence = \" \".join(inverted_short_desc_word_index[i] for i in np.delete(elem, np.argwhere(elem == 0)))\n",
        "  decoded_test_text.append(short_desc_decoded_sequence)\n"
      ],
      "metadata": {
        "id": "iz3QZAYRhaMc"
      },
      "execution_count": 167,
      "outputs": []
    },
    {
      "cell_type": "code",
      "execution_count": 168,
      "metadata": {
        "id": "DjTBDq2NSGNq"
      },
      "outputs": [],
      "source": [
        "data_to_check = pd.DataFrame()"
      ]
    },
    {
      "cell_type": "code",
      "execution_count": 169,
      "metadata": {
        "id": "0ajeqwzkSGRJ"
      },
      "outputs": [],
      "source": [
        "data_to_check['decoded_text'] = decoded_test_text"
      ]
    },
    {
      "cell_type": "code",
      "source": [
        "data_to_check['actual_assignment_grp'] = list(le.inverse_transform(y_test['assignment_group']))"
      ],
      "metadata": {
        "id": "w1ciSXvwilct"
      },
      "execution_count": 170,
      "outputs": []
    },
    {
      "cell_type": "code",
      "source": [
        "data_to_check['pred_assignment_group'] = list(le.inverse_transform(sd_glove_50d_bidi_lstm_model_pred.argmax(axis=1)))"
      ],
      "metadata": {
        "id": "tv-n6qbpjKZM"
      },
      "execution_count": 171,
      "outputs": []
    },
    {
      "cell_type": "code",
      "execution_count": 172,
      "metadata": {
        "id": "aoIxyIjYSGUT",
        "colab": {
          "base_uri": "https://localhost:8080/",
          "height": 206
        },
        "outputId": "fe959fcc-719f-44ac-882b-ec522fcf00db"
      },
      "outputs": [
        {
          "output_type": "execute_result",
          "data": {
            "text/html": [
              "\n",
              "  <div id=\"df-92097a61-ca52-4e18-b75a-0dfb05ad16f7\">\n",
              "    <div class=\"colab-df-container\">\n",
              "      <div>\n",
              "<style scoped>\n",
              "    .dataframe tbody tr th:only-of-type {\n",
              "        vertical-align: middle;\n",
              "    }\n",
              "\n",
              "    .dataframe tbody tr th {\n",
              "        vertical-align: top;\n",
              "    }\n",
              "\n",
              "    .dataframe thead th {\n",
              "        text-align: right;\n",
              "    }\n",
              "</style>\n",
              "<table border=\"1\" class=\"dataframe\">\n",
              "  <thead>\n",
              "    <tr style=\"text-align: right;\">\n",
              "      <th></th>\n",
              "      <th>decoded_text</th>\n",
              "      <th>actual_assignment_grp</th>\n",
              "      <th>pred_assignment_group</th>\n",
              "    </tr>\n",
              "  </thead>\n",
              "  <tbody>\n",
              "    <tr>\n",
              "      <th>0</th>\n",
              "      <td>hpqc delivers error message user is not maintained</td>\n",
              "      <td>GRP_38</td>\n",
              "      <td>GRP_38</td>\n",
              "    </tr>\n",
              "    <tr>\n",
              "      <th>1</th>\n",
              "      <td>need access to erp kp</td>\n",
              "      <td>GRP_35</td>\n",
              "      <td>GRP_35</td>\n",
              "    </tr>\n",
              "    <tr>\n",
              "      <th>2</th>\n",
              "      <td>not able to make outbound calls from siemens</td>\n",
              "      <td>GRP_37</td>\n",
              "      <td>GRP_37</td>\n",
              "    </tr>\n",
              "    <tr>\n",
              "      <th>3</th>\n",
              "      <td>help to pose the pos wh cannot be</td>\n",
              "      <td>GRP_10</td>\n",
              "      <td>GRP_10</td>\n",
              "    </tr>\n",
              "    <tr>\n",
              "      <th>4</th>\n",
              "      <td>tablet dell cannot connect to wireless wifi network</td>\n",
              "      <td>GRP_31</td>\n",
              "      <td>GRP_31</td>\n",
              "    </tr>\n",
              "  </tbody>\n",
              "</table>\n",
              "</div>\n",
              "      <button class=\"colab-df-convert\" onclick=\"convertToInteractive('df-92097a61-ca52-4e18-b75a-0dfb05ad16f7')\"\n",
              "              title=\"Convert this dataframe to an interactive table.\"\n",
              "              style=\"display:none;\">\n",
              "        \n",
              "  <svg xmlns=\"http://www.w3.org/2000/svg\" height=\"24px\"viewBox=\"0 0 24 24\"\n",
              "       width=\"24px\">\n",
              "    <path d=\"M0 0h24v24H0V0z\" fill=\"none\"/>\n",
              "    <path d=\"M18.56 5.44l.94 2.06.94-2.06 2.06-.94-2.06-.94-.94-2.06-.94 2.06-2.06.94zm-11 1L8.5 8.5l.94-2.06 2.06-.94-2.06-.94L8.5 2.5l-.94 2.06-2.06.94zm10 10l.94 2.06.94-2.06 2.06-.94-2.06-.94-.94-2.06-.94 2.06-2.06.94z\"/><path d=\"M17.41 7.96l-1.37-1.37c-.4-.4-.92-.59-1.43-.59-.52 0-1.04.2-1.43.59L10.3 9.45l-7.72 7.72c-.78.78-.78 2.05 0 2.83L4 21.41c.39.39.9.59 1.41.59.51 0 1.02-.2 1.41-.59l7.78-7.78 2.81-2.81c.8-.78.8-2.07 0-2.86zM5.41 20L4 18.59l7.72-7.72 1.47 1.35L5.41 20z\"/>\n",
              "  </svg>\n",
              "      </button>\n",
              "      \n",
              "  <style>\n",
              "    .colab-df-container {\n",
              "      display:flex;\n",
              "      flex-wrap:wrap;\n",
              "      gap: 12px;\n",
              "    }\n",
              "\n",
              "    .colab-df-convert {\n",
              "      background-color: #E8F0FE;\n",
              "      border: none;\n",
              "      border-radius: 50%;\n",
              "      cursor: pointer;\n",
              "      display: none;\n",
              "      fill: #1967D2;\n",
              "      height: 32px;\n",
              "      padding: 0 0 0 0;\n",
              "      width: 32px;\n",
              "    }\n",
              "\n",
              "    .colab-df-convert:hover {\n",
              "      background-color: #E2EBFA;\n",
              "      box-shadow: 0px 1px 2px rgba(60, 64, 67, 0.3), 0px 1px 3px 1px rgba(60, 64, 67, 0.15);\n",
              "      fill: #174EA6;\n",
              "    }\n",
              "\n",
              "    [theme=dark] .colab-df-convert {\n",
              "      background-color: #3B4455;\n",
              "      fill: #D2E3FC;\n",
              "    }\n",
              "\n",
              "    [theme=dark] .colab-df-convert:hover {\n",
              "      background-color: #434B5C;\n",
              "      box-shadow: 0px 1px 3px 1px rgba(0, 0, 0, 0.15);\n",
              "      filter: drop-shadow(0px 1px 2px rgba(0, 0, 0, 0.3));\n",
              "      fill: #FFFFFF;\n",
              "    }\n",
              "  </style>\n",
              "\n",
              "      <script>\n",
              "        const buttonEl =\n",
              "          document.querySelector('#df-92097a61-ca52-4e18-b75a-0dfb05ad16f7 button.colab-df-convert');\n",
              "        buttonEl.style.display =\n",
              "          google.colab.kernel.accessAllowed ? 'block' : 'none';\n",
              "\n",
              "        async function convertToInteractive(key) {\n",
              "          const element = document.querySelector('#df-92097a61-ca52-4e18-b75a-0dfb05ad16f7');\n",
              "          const dataTable =\n",
              "            await google.colab.kernel.invokeFunction('convertToInteractive',\n",
              "                                                     [key], {});\n",
              "          if (!dataTable) return;\n",
              "\n",
              "          const docLinkHtml = 'Like what you see? Visit the ' +\n",
              "            '<a target=\"_blank\" href=https://colab.research.google.com/notebooks/data_table.ipynb>data table notebook</a>'\n",
              "            + ' to learn more about interactive tables.';\n",
              "          element.innerHTML = '';\n",
              "          dataTable['output_type'] = 'display_data';\n",
              "          await google.colab.output.renderOutput(dataTable, element);\n",
              "          const docLink = document.createElement('div');\n",
              "          docLink.innerHTML = docLinkHtml;\n",
              "          element.appendChild(docLink);\n",
              "        }\n",
              "      </script>\n",
              "    </div>\n",
              "  </div>\n",
              "  "
            ],
            "text/plain": [
              "                                          decoded_text  ... pred_assignment_group\n",
              "0   hpqc delivers error message user is not maintained  ...                GRP_38\n",
              "1                                need access to erp kp  ...                GRP_35\n",
              "2         not able to make outbound calls from siemens  ...                GRP_37\n",
              "3                    help to pose the pos wh cannot be  ...                GRP_10\n",
              "4  tablet dell cannot connect to wireless wifi network  ...                GRP_31\n",
              "\n",
              "[5 rows x 3 columns]"
            ]
          },
          "metadata": {},
          "execution_count": 172
        }
      ],
      "source": [
        "data_to_check.head()"
      ]
    },
    {
      "cell_type": "code",
      "execution_count": 173,
      "metadata": {
        "id": "9bMRoeuSJ5wG"
      },
      "outputs": [],
      "source": [
        "data_to_check.to_excel(\"output_to_check.xlsx\")"
      ]
    },
    {
      "cell_type": "code",
      "execution_count": null,
      "metadata": {
        "id": "OhFaw6WBJ5zL"
      },
      "outputs": [],
      "source": [
        ""
      ]
    },
    {
      "cell_type": "code",
      "execution_count": null,
      "metadata": {
        "id": "q4gH3N3xIyCC"
      },
      "outputs": [],
      "source": [
        ""
      ]
    },
    {
      "cell_type": "code",
      "execution_count": null,
      "metadata": {
        "id": "VxO7C3hguUXj"
      },
      "outputs": [],
      "source": [
        ""
      ]
    },
    {
      "cell_type": "code",
      "execution_count": null,
      "metadata": {
        "id": "3Ryew7Z-uUga"
      },
      "outputs": [],
      "source": [
        ""
      ]
    },
    {
      "cell_type": "code",
      "execution_count": null,
      "metadata": {
        "id": "4YG-6Iz9hL7Y"
      },
      "outputs": [],
      "source": [
        "padded_sequences = pad_sequences(sequences, maxlen = short_desc_length_to_filter)"
      ]
    },
    {
      "cell_type": "code",
      "execution_count": null,
      "metadata": {
        "colab": {
          "base_uri": "https://localhost:8080/"
        },
        "id": "wyAM19Ues0KA",
        "outputId": "1bcf09ed-abd3-4383-c727-1a47e8412b95"
      },
      "outputs": [
        {
          "data": {
            "text/plain": [
              "array([[ 0,  0,  0,  0,  0,  0,  0,  0,  0,  0,  0,  0,  0,  0,  0,  0,\n",
              "         0,  0,  0,  0,  0,  0,  0,  0,  0,  0,  0,  0,  0,  0,  0,  0,\n",
              "         0,  0,  0,  0,  0,  0,  0,  0,  0,  0,  0,  0,  0,  0,  0,  0,\n",
              "         0,  0,  0,  0,  0,  0,  0,  0,  0,  0,  0,  0,  0,  0,  0,  0,\n",
              "         0,  0,  0,  0,  0,  0,  0,  0,  0,  0,  0,  0,  0,  0,  0,  0,\n",
              "         0,  0,  0,  0,  0,  0,  0,  0,  0,  0,  0,  0,  0,  0,  0,  0,\n",
              "         0,  0,  0,  0,  0,  0,  0,  0,  0,  0,  0,  0,  0,  0,  0,  0,\n",
              "         0,  0,  0,  0,  0,  0,  0,  0,  0,  0,  0,  0,  1,  5,  6,  2,\n",
              "         3,  7,  8,  9, 10, 11,  4,  2,  3, 12, 13, 14, 15,  1, 16, 17,\n",
              "        18, 19, 20, 21,  4, 22]], dtype=int32)"
            ]
          },
          "execution_count": 210,
          "metadata": {},
          "output_type": "execute_result"
        }
      ],
      "source": [
        "padded_sequences"
      ]
    },
    {
      "cell_type": "code",
      "execution_count": null,
      "metadata": {
        "colab": {
          "base_uri": "https://localhost:8080/",
          "height": 318
        },
        "id": "xEZfRdpXpF_r",
        "outputId": "cfd786dd-7b85-48ae-f063-80f2dc0ab610"
      },
      "outputs": [
        {
          "data": {
            "text/html": [
              "\n",
              "  <div id=\"df-7b2dd936-f672-4503-acdc-a9315d68ba7d\">\n",
              "    <div class=\"colab-df-container\">\n",
              "      <div>\n",
              "<style scoped>\n",
              "    .dataframe tbody tr th:only-of-type {\n",
              "        vertical-align: middle;\n",
              "    }\n",
              "\n",
              "    .dataframe tbody tr th {\n",
              "        vertical-align: top;\n",
              "    }\n",
              "\n",
              "    .dataframe thead th {\n",
              "        text-align: right;\n",
              "    }\n",
              "</style>\n",
              "<table border=\"1\" class=\"dataframe\">\n",
              "  <thead>\n",
              "    <tr style=\"text-align: right;\">\n",
              "      <th></th>\n",
              "      <th>Short description</th>\n",
              "      <th>Description</th>\n",
              "      <th>Caller</th>\n",
              "      <th>Assignment group</th>\n",
              "      <th>short_desc_analysis</th>\n",
              "      <th>desc_analysis</th>\n",
              "      <th>mail_received_from</th>\n",
              "      <th>mail_subject_mentioned</th>\n",
              "      <th>number_of_words_short_desc</th>\n",
              "      <th>number_of_char_short_desc</th>\n",
              "      <th>number_of_punctuations_short_desc</th>\n",
              "      <th>number_of_stop_words_short_desc</th>\n",
              "      <th>number_of_words_desc</th>\n",
              "      <th>number_of_char_desc</th>\n",
              "      <th>number_of_punctuations_desc</th>\n",
              "      <th>number_of_stop_words_desc</th>\n",
              "    </tr>\n",
              "  </thead>\n",
              "  <tbody>\n",
              "    <tr>\n",
              "      <th>6390</th>\n",
              "      <td>i'm using collaboration_platform in crm. why are all my collaboration_platform notebooks shared with +20 people i don't know and dind't share my noteb</td>\n",
              "      <td>all my collaboration_platform notebooks are shared with +20 people i don't know. i did not share my notebook with them and i cannot remove their shared status ! how is this possible???</td>\n",
              "      <td>kzbrimwx dconpwbu</td>\n",
              "      <td>GRP_0</td>\n",
              "      <td>I am using collaboration_platform in crm. why are all my collaboration_platform notebooks shared with + people i do not know and dind't share my noteb</td>\n",
              "      <td>all my collaboration_platform notebooks are shared with + people i do not know. i did not share my notebook with them and i cannot remove their shared status ! how is t possible???</td>\n",
              "      <td>No Match</td>\n",
              "      <td>No Match</td>\n",
              "      <td>25</td>\n",
              "      <td>150</td>\n",
              "      <td>5</td>\n",
              "      <td>12</td>\n",
              "      <td>33</td>\n",
              "      <td>180</td>\n",
              "      <td>7</td>\n",
              "      <td>19</td>\n",
              "    </tr>\n",
              "  </tbody>\n",
              "</table>\n",
              "</div>\n",
              "      <button class=\"colab-df-convert\" onclick=\"convertToInteractive('df-7b2dd936-f672-4503-acdc-a9315d68ba7d')\"\n",
              "              title=\"Convert this dataframe to an interactive table.\"\n",
              "              style=\"display:none;\">\n",
              "        \n",
              "  <svg xmlns=\"http://www.w3.org/2000/svg\" height=\"24px\"viewBox=\"0 0 24 24\"\n",
              "       width=\"24px\">\n",
              "    <path d=\"M0 0h24v24H0V0z\" fill=\"none\"/>\n",
              "    <path d=\"M18.56 5.44l.94 2.06.94-2.06 2.06-.94-2.06-.94-.94-2.06-.94 2.06-2.06.94zm-11 1L8.5 8.5l.94-2.06 2.06-.94-2.06-.94L8.5 2.5l-.94 2.06-2.06.94zm10 10l.94 2.06.94-2.06 2.06-.94-2.06-.94-.94-2.06-.94 2.06-2.06.94z\"/><path d=\"M17.41 7.96l-1.37-1.37c-.4-.4-.92-.59-1.43-.59-.52 0-1.04.2-1.43.59L10.3 9.45l-7.72 7.72c-.78.78-.78 2.05 0 2.83L4 21.41c.39.39.9.59 1.41.59.51 0 1.02-.2 1.41-.59l7.78-7.78 2.81-2.81c.8-.78.8-2.07 0-2.86zM5.41 20L4 18.59l7.72-7.72 1.47 1.35L5.41 20z\"/>\n",
              "  </svg>\n",
              "      </button>\n",
              "      \n",
              "  <style>\n",
              "    .colab-df-container {\n",
              "      display:flex;\n",
              "      flex-wrap:wrap;\n",
              "      gap: 12px;\n",
              "    }\n",
              "\n",
              "    .colab-df-convert {\n",
              "      background-color: #E8F0FE;\n",
              "      border: none;\n",
              "      border-radius: 50%;\n",
              "      cursor: pointer;\n",
              "      display: none;\n",
              "      fill: #1967D2;\n",
              "      height: 32px;\n",
              "      padding: 0 0 0 0;\n",
              "      width: 32px;\n",
              "    }\n",
              "\n",
              "    .colab-df-convert:hover {\n",
              "      background-color: #E2EBFA;\n",
              "      box-shadow: 0px 1px 2px rgba(60, 64, 67, 0.3), 0px 1px 3px 1px rgba(60, 64, 67, 0.15);\n",
              "      fill: #174EA6;\n",
              "    }\n",
              "\n",
              "    [theme=dark] .colab-df-convert {\n",
              "      background-color: #3B4455;\n",
              "      fill: #D2E3FC;\n",
              "    }\n",
              "\n",
              "    [theme=dark] .colab-df-convert:hover {\n",
              "      background-color: #434B5C;\n",
              "      box-shadow: 0px 1px 3px 1px rgba(0, 0, 0, 0.15);\n",
              "      filter: drop-shadow(0px 1px 2px rgba(0, 0, 0, 0.3));\n",
              "      fill: #FFFFFF;\n",
              "    }\n",
              "  </style>\n",
              "\n",
              "      <script>\n",
              "        const buttonEl =\n",
              "          document.querySelector('#df-7b2dd936-f672-4503-acdc-a9315d68ba7d button.colab-df-convert');\n",
              "        buttonEl.style.display =\n",
              "          google.colab.kernel.accessAllowed ? 'block' : 'none';\n",
              "\n",
              "        async function convertToInteractive(key) {\n",
              "          const element = document.querySelector('#df-7b2dd936-f672-4503-acdc-a9315d68ba7d');\n",
              "          const dataTable =\n",
              "            await google.colab.kernel.invokeFunction('convertToInteractive',\n",
              "                                                     [key], {});\n",
              "          if (!dataTable) return;\n",
              "\n",
              "          const docLinkHtml = 'Like what you see? Visit the ' +\n",
              "            '<a target=\"_blank\" href=https://colab.research.google.com/notebooks/data_table.ipynb>data table notebook</a>'\n",
              "            + ' to learn more about interactive tables.';\n",
              "          element.innerHTML = '';\n",
              "          dataTable['output_type'] = 'display_data';\n",
              "          await google.colab.output.renderOutput(dataTable, element);\n",
              "          const docLink = document.createElement('div');\n",
              "          docLink.innerHTML = docLinkHtml;\n",
              "          element.appendChild(docLink);\n",
              "        }\n",
              "      </script>\n",
              "    </div>\n",
              "  </div>\n",
              "  "
            ],
            "text/plain": [
              "                                                                                                                                           Short description  ... number_of_stop_words_desc\n",
              "6390  i'm using collaboration_platform in crm. why are all my collaboration_platform notebooks shared with +20 people i don't know and dind't share my noteb  ...                        19\n",
              "\n",
              "[1 rows x 16 columns]"
            ]
          },
          "execution_count": 169,
          "metadata": {},
          "output_type": "execute_result"
        }
      ],
      "source": [
        "ata_data[ata_data['number_of_char_short_desc']==short_desc_length_to_filter]"
      ]
    },
    {
      "cell_type": "code",
      "execution_count": null,
      "metadata": {
        "id": "WRhRnrBvpGDf"
      },
      "outputs": [],
      "source": [
        ""
      ]
    },
    {
      "cell_type": "code",
      "execution_count": null,
      "metadata": {
        "id": "dxAyLufPpGGO"
      },
      "outputs": [],
      "source": [
        ""
      ]
    },
    {
      "cell_type": "code",
      "execution_count": null,
      "metadata": {
        "id": "OWwDjrEcpGI4"
      },
      "outputs": [],
      "source": [
        ""
      ]
    },
    {
      "cell_type": "code",
      "execution_count": null,
      "metadata": {
        "id": "QIqdPScKpGLH"
      },
      "outputs": [],
      "source": [
        ""
      ]
    },
    {
      "cell_type": "code",
      "execution_count": null,
      "metadata": {
        "id": "ye5bdLPDpGNz"
      },
      "outputs": [],
      "source": [
        ""
      ]
    },
    {
      "cell_type": "code",
      "execution_count": null,
      "metadata": {
        "id": "qz4bWJfepGQm"
      },
      "outputs": [],
      "source": [
        ""
      ]
    },
    {
      "cell_type": "code",
      "execution_count": null,
      "metadata": {
        "id": "D54OcBAGpGTD"
      },
      "outputs": [],
      "source": [
        ""
      ]
    },
    {
      "cell_type": "code",
      "execution_count": null,
      "metadata": {
        "id": "XrXC6ORTpGVx"
      },
      "outputs": [],
      "source": [
        ""
      ]
    },
    {
      "cell_type": "code",
      "execution_count": null,
      "metadata": {
        "id": "4vsaFqVIpGYO"
      },
      "outputs": [],
      "source": [
        ""
      ]
    },
    {
      "cell_type": "code",
      "execution_count": null,
      "metadata": {
        "id": "Jbp7FWCWpGe7"
      },
      "outputs": [],
      "source": [
        ""
      ]
    },
    {
      "cell_type": "code",
      "execution_count": null,
      "metadata": {
        "id": "OCS1rbaTpGip"
      },
      "outputs": [],
      "source": [
        ""
      ]
    },
    {
      "cell_type": "code",
      "execution_count": null,
      "metadata": {
        "id": "5Cd9MY2xpGlZ"
      },
      "outputs": [],
      "source": [
        ""
      ]
    },
    {
      "cell_type": "code",
      "execution_count": null,
      "metadata": {
        "id": "YiDxmakypGnw"
      },
      "outputs": [],
      "source": [
        ""
      ]
    },
    {
      "cell_type": "code",
      "execution_count": null,
      "metadata": {
        "id": "ZC9HB0MLZQWe"
      },
      "outputs": [],
      "source": [
        ""
      ]
    },
    {
      "cell_type": "markdown",
      "metadata": {
        "id": "EpPUUB8S2tGL"
      },
      "source": [
        "## PLAY AREA"
      ]
    },
    {
      "cell_type": "code",
      "execution_count": null,
      "metadata": {
        "id": "xiZcwUr8jEX1"
      },
      "outputs": [],
      "source": [
        "line = \"should we use regex more often? let me know at  received from:321dsasdsa@dasdsa.com.lol\"\n",
        "match = re.search(r'received from: [\\w\\.-]+@[\\w\\.-]+', line)\n",
        "#match.group(0)"
      ]
    },
    {
      "cell_type": "code",
      "execution_count": null,
      "metadata": {
        "colab": {
          "base_uri": "https://localhost:8080/"
        },
        "id": "GIPgZECELzQX",
        "outputId": "98be7264-e4c4-423b-d33f-dbb2c90c589e"
      },
      "outputs": [
        {
          "name": "stdout",
          "output_type": "stream",
          "text": [
            "noth\n"
          ]
        }
      ],
      "source": [
        "if bool(match):\n",
        "  print(match.group(0))\n",
        "else:\n",
        "  print(\"noth\")\n",
        "  "
      ]
    },
    {
      "cell_type": "code",
      "execution_count": null,
      "metadata": {
        "colab": {
          "base_uri": "https://localhost:8080/",
          "height": 1000
        },
        "id": "tXorYlWfS0cZ",
        "outputId": "ce8a4df8-1d98-491d-a3f9-960ca9f3f93d"
      },
      "outputs": [
        {
          "data": {
            "text/html": [
              "\n",
              "  <div id=\"df-01bcfa5e-a701-463e-b7f4-b2113e884187\">\n",
              "    <div class=\"colab-df-container\">\n",
              "      <div>\n",
              "<style scoped>\n",
              "    .dataframe tbody tr th:only-of-type {\n",
              "        vertical-align: middle;\n",
              "    }\n",
              "\n",
              "    .dataframe tbody tr th {\n",
              "        vertical-align: top;\n",
              "    }\n",
              "\n",
              "    .dataframe thead th {\n",
              "        text-align: right;\n",
              "    }\n",
              "</style>\n",
              "<table border=\"1\" class=\"dataframe\">\n",
              "  <thead>\n",
              "    <tr style=\"text-align: right;\">\n",
              "      <th></th>\n",
              "      <th>Short description</th>\n",
              "      <th>Description</th>\n",
              "      <th>Caller</th>\n",
              "      <th>Assignment group</th>\n",
              "      <th>short_desc_analysis</th>\n",
              "      <th>desc_analysis</th>\n",
              "      <th>mail_received_from</th>\n",
              "      <th>mail_subject_mentioned</th>\n",
              "      <th>number_of_words_short_desc</th>\n",
              "      <th>number_of_char_short_desc</th>\n",
              "      <th>number_of_punctuations_short_desc</th>\n",
              "      <th>number_of_stop_words_short_desc</th>\n",
              "      <th>number_of_words_desc</th>\n",
              "      <th>number_of_char_desc</th>\n",
              "      <th>number_of_punctuations_desc</th>\n",
              "      <th>number_of_stop_words_desc</th>\n",
              "    </tr>\n",
              "  </thead>\n",
              "  <tbody>\n",
              "    <tr>\n",
              "      <th>53</th>\n",
              "      <td>reset scm_software password</td>\n",
              "      <td>\\n\\nreceived from: cdbaoqts.wqbsodni@gmail.com\\n\\nhello,\\n\\nplease reset my scm_software password.\\n\\n\\ncdbaoqts wqbsodni\\nglobal product manager, markhtyeting initiatives\\ncdbaoqts.wqbsodni@gmail.com&lt;mailto:cdbaoqts.wqbsodni@gmail.com&gt;\\n\\n\\n\\n\\n\\n</td>\n",
              "      <td>cdbaoqts wqbsodni</td>\n",
              "      <td>GRP_0</td>\n",
              "      <td>reset scm_software password</td>\n",
              "      <td>please reset my scm_software password.   cdbaoqts wqbsodni global product</td>\n",
              "      <td>cdbaoqts.wqbsodni@gmail.com</td>\n",
              "      <td>No Match</td>\n",
              "      <td>3</td>\n",
              "      <td>27</td>\n",
              "      <td>1</td>\n",
              "      <td>0</td>\n",
              "      <td>9</td>\n",
              "      <td>73</td>\n",
              "      <td>2</td>\n",
              "      <td>1</td>\n",
              "    </tr>\n",
              "    <tr>\n",
              "      <th>100</th>\n",
              "      <td>re: ess portal access issue</td>\n",
              "      <td>\\n\\nreceived from: noscwdpm.akiowsmp@gmail.com\\n\\nhello,\\n\\nhe is an kiosk user.  please reset the password and confirm.\\n\\n\\nnoscwdpm akiowsmp\\nnoscwdpm.akiowsmp@gmail.com\\n\\nfrom: ihkolepb ozhnjyef\\nsent: 29 october 2016 13:38\\nto: company@ticketing_tool.com\\nsubject: ess portal access issue\\n\\nhi,\\n\\nbelow mentioned employee krlszbqo spimolgz with user id sv123 is not able to login to ess portal to access his pay slips and related contents. he is a attendance_tool user. please reset his user id and password and revert back.\\n\\n</td>\n",
              "      <td>noscwdpm akiowsmp</td>\n",
              "      <td>GRP_0</td>\n",
              "      <td>re: ess portal access issue</td>\n",
              "      <td>he is an kiosk user.  please reset the password and confirm.   noscwdpm akiowsmp      below mentioned employee krlszbqo spimolgz with user id sv is not able to login to ess portal to access his pay slips and related contents. he is a attendance_tool user. please reset his user id and password and revert back.</td>\n",
              "      <td>noscwdpm.akiowsmp@gmail.com</td>\n",
              "      <td>ess portal access issue</td>\n",
              "      <td>5</td>\n",
              "      <td>27</td>\n",
              "      <td>1</td>\n",
              "      <td>0</td>\n",
              "      <td>53</td>\n",
              "      <td>310</td>\n",
              "      <td>6</td>\n",
              "      <td>20</td>\n",
              "    </tr>\n",
              "    <tr>\n",
              "      <th>124</th>\n",
              "      <td>mobile device activation</td>\n",
              "      <td>from: tvcdfqgp nrbcqwgj \\nsent: friday, october 28, 2016 3:13 pm\\nto: nwfodmhc exurcwkm\\nsubject:  se ha bloqueado en forma temporal la sincronizaciÃ³n de su dispositivo mÃ³vil mediante exchange activesync hasta que su administrador autorice el acceso.\\n\\nhi\\n\\ni received this message and our local it expert has told me to open a ticket.\\n\\n</td>\n",
              "      <td>tvcdfqgp nrbcqwgj</td>\n",
              "      <td>GRP_0</td>\n",
              "      <td>mobile device activation</td>\n",
              "      <td>i received this message and our local it expert has told me to open a ticket.</td>\n",
              "      <td>No Match</td>\n",
              "      <td>se ha bloqueado en forma temporal la sincronización de su dispositivo móvil mediante exchange activesync hasta que su administrador autorice el acceso.</td>\n",
              "      <td>3</td>\n",
              "      <td>24</td>\n",
              "      <td>0</td>\n",
              "      <td>0</td>\n",
              "      <td>16</td>\n",
              "      <td>77</td>\n",
              "      <td>1</td>\n",
              "      <td>9</td>\n",
              "    </tr>\n",
              "    <tr>\n",
              "      <th>151</th>\n",
              "      <td>i used to have acces to this location on collaboration_platform.  now i do not. i need access.</td>\n",
              "      <td>\\n\\nreceived from: bwfhtumx.japznrvb@gmail.com\\n\\n\\n\\n[cid:image001.jpg@01d230f7.8bb4e830]\\n\\nbwfhtumx japznrvb \\nregional controller\\nbwfhtumx.japznrvb@gmail.com&lt;mailto:bwfhtumx.japznrvb@gmail.com&gt;\\n\\n\\n\\n</td>\n",
              "      <td>bwfhtumx japznrvb</td>\n",
              "      <td>GRP_16</td>\n",
              "      <td>i used to have acces to t location on collaboration_platform.  now i do not. i need access.</td>\n",
              "      <td>bwfhtumx japznrvb  regional controller</td>\n",
              "      <td>bwfhtumx.japznrvb@gmail.com</td>\n",
              "      <td>No Match</td>\n",
              "      <td>17</td>\n",
              "      <td>91</td>\n",
              "      <td>4</td>\n",
              "      <td>10</td>\n",
              "      <td>4</td>\n",
              "      <td>38</td>\n",
              "      <td>0</td>\n",
              "      <td>0</td>\n",
              "    </tr>\n",
              "    <tr>\n",
              "      <th>162</th>\n",
              "      <td>access to bex</td>\n",
              "      <td>\\r\\n\\r\\nreceived from: yfqoaepn.xnezhsit@gmail.com\\r\\n\\r\\nhello,\\r\\n\\r\\ntill last week i was accessing bex reports using mms portal and there were no issues.\\r\\n\\r\\nstarting this week the system is incredibly slow when i log in and finally does not allow me to access any reports.\\r\\n\\r\\ncan it be the issue with any maintenance or my access rights or rather i should try to access bex using different way?\\r\\n\\r\\nbelow the print screen from what i see after log in:\\r\\n[cid:image001.png@01d2310c.f184b360]\\r\\n\\r\\ni am also able to get to finance reports (see below), however when i click \"profitability analysis\" (as i was always doing) separate window is open however apart rom that the screen is blank.\\r\\n[cid:image002.png@01d2310c.f184b360]\\r\\n\\r\\n\\r\\ni appreciate your support.\\r\\n\\r\\nhave a great day â˜º\\r\\n\\r\\nrobhyertyj\\r\\n\\r\\n\\r\\nyfqoaepn xnezhsit\\r\\nmanaging director\\r\\nfinance manager cee\\r\\nyfqoaepn.xnezhsit@gmail.com&lt;mailto:yfqoaepn.xnezhsit@gmail.com&gt;\\r\\ntel:+48(61)7767671\\r\\nmob:+48 694 425 760\\r\\n\\r\\ncompany polska sp. z o.o. , ul. krzywoustego 7, 61-144 poznaÅ„, www.company.com&lt;\\r\\n\\r\\ncompany polska sp. z o.o. z siedzibÄ… w polandiu, 61-144 poznaÅ„, ul. krzywoustego 7.\\r\\nspÃ³Å‚ka zarejestrowana w sÄ…dzie rejonowym poznaÅ„-nowe miasto i wilda w polandiu, wydziaÅ‚ viii gospodarczy krs pod numerem 1111286691.\\r\\nkapitaÅ‚ zakÅ‚adowy 100 000 pln, nip 954-20-87-982.\\r\\n\\r\\n\\r\\n\\r\\n\\r\\n\\r\\n</td>\n",
              "      <td>yfqoaepn xnezhsit</td>\n",
              "      <td>GRP_0</td>\n",
              "      <td>access to bex</td>\n",
              "      <td>till last week i was accessing bex reports using mms portal and there were no issues.  starting t week the system is incredibly slow when i log in and finally does not allow me to access any reports.  can it be the issue with any maintenance or my access rights or rather i should try to access bex using different way?  below the print screen from what i see after log in:   i am also able to get to finance reports (see below), however when i click \"profitability analysis\" (as i was always doing) separate window is open however apart rom that the screen is blank.    i appreciate your support.  have a great day ☺  robhyertyj   yfqoaepn xnezhsit managing director finance  tel:+() mob:+     company polska sp. z o.o. , ul. krzywoustego , - poznań, www.company.com&lt;  company polska sp. z o.o. z siedzibą w polandiu, - poznań, ul. krzywoustego . spółka zarejestrowana w sądzie rejonowym poznań-nowe miasto i wilda w polandiu, wydział viii gospodarczy krs pod numerem . kapitał zakładowy   pln, nip ---.</td>\n",
              "      <td>yfqoaepn.xnezhsit@gmail.com</td>\n",
              "      <td>No Match</td>\n",
              "      <td>3</td>\n",
              "      <td>13</td>\n",
              "      <td>0</td>\n",
              "      <td>1</td>\n",
              "      <td>172</td>\n",
              "      <td>1004</td>\n",
              "      <td>46</td>\n",
              "      <td>53</td>\n",
              "    </tr>\n",
              "  </tbody>\n",
              "</table>\n",
              "</div>\n",
              "      <button class=\"colab-df-convert\" onclick=\"convertToInteractive('df-01bcfa5e-a701-463e-b7f4-b2113e884187')\"\n",
              "              title=\"Convert this dataframe to an interactive table.\"\n",
              "              style=\"display:none;\">\n",
              "        \n",
              "  <svg xmlns=\"http://www.w3.org/2000/svg\" height=\"24px\"viewBox=\"0 0 24 24\"\n",
              "       width=\"24px\">\n",
              "    <path d=\"M0 0h24v24H0V0z\" fill=\"none\"/>\n",
              "    <path d=\"M18.56 5.44l.94 2.06.94-2.06 2.06-.94-2.06-.94-.94-2.06-.94 2.06-2.06.94zm-11 1L8.5 8.5l.94-2.06 2.06-.94-2.06-.94L8.5 2.5l-.94 2.06-2.06.94zm10 10l.94 2.06.94-2.06 2.06-.94-2.06-.94-.94-2.06-.94 2.06-2.06.94z\"/><path d=\"M17.41 7.96l-1.37-1.37c-.4-.4-.92-.59-1.43-.59-.52 0-1.04.2-1.43.59L10.3 9.45l-7.72 7.72c-.78.78-.78 2.05 0 2.83L4 21.41c.39.39.9.59 1.41.59.51 0 1.02-.2 1.41-.59l7.78-7.78 2.81-2.81c.8-.78.8-2.07 0-2.86zM5.41 20L4 18.59l7.72-7.72 1.47 1.35L5.41 20z\"/>\n",
              "  </svg>\n",
              "      </button>\n",
              "      \n",
              "  <style>\n",
              "    .colab-df-container {\n",
              "      display:flex;\n",
              "      flex-wrap:wrap;\n",
              "      gap: 12px;\n",
              "    }\n",
              "\n",
              "    .colab-df-convert {\n",
              "      background-color: #E8F0FE;\n",
              "      border: none;\n",
              "      border-radius: 50%;\n",
              "      cursor: pointer;\n",
              "      display: none;\n",
              "      fill: #1967D2;\n",
              "      height: 32px;\n",
              "      padding: 0 0 0 0;\n",
              "      width: 32px;\n",
              "    }\n",
              "\n",
              "    .colab-df-convert:hover {\n",
              "      background-color: #E2EBFA;\n",
              "      box-shadow: 0px 1px 2px rgba(60, 64, 67, 0.3), 0px 1px 3px 1px rgba(60, 64, 67, 0.15);\n",
              "      fill: #174EA6;\n",
              "    }\n",
              "\n",
              "    [theme=dark] .colab-df-convert {\n",
              "      background-color: #3B4455;\n",
              "      fill: #D2E3FC;\n",
              "    }\n",
              "\n",
              "    [theme=dark] .colab-df-convert:hover {\n",
              "      background-color: #434B5C;\n",
              "      box-shadow: 0px 1px 3px 1px rgba(0, 0, 0, 0.15);\n",
              "      filter: drop-shadow(0px 1px 2px rgba(0, 0, 0, 0.3));\n",
              "      fill: #FFFFFF;\n",
              "    }\n",
              "  </style>\n",
              "\n",
              "      <script>\n",
              "        const buttonEl =\n",
              "          document.querySelector('#df-01bcfa5e-a701-463e-b7f4-b2113e884187 button.colab-df-convert');\n",
              "        buttonEl.style.display =\n",
              "          google.colab.kernel.accessAllowed ? 'block' : 'none';\n",
              "\n",
              "        async function convertToInteractive(key) {\n",
              "          const element = document.querySelector('#df-01bcfa5e-a701-463e-b7f4-b2113e884187');\n",
              "          const dataTable =\n",
              "            await google.colab.kernel.invokeFunction('convertToInteractive',\n",
              "                                                     [key], {});\n",
              "          if (!dataTable) return;\n",
              "\n",
              "          const docLinkHtml = 'Like what you see? Visit the ' +\n",
              "            '<a target=\"_blank\" href=https://colab.research.google.com/notebooks/data_table.ipynb>data table notebook</a>'\n",
              "            + ' to learn more about interactive tables.';\n",
              "          element.innerHTML = '';\n",
              "          dataTable['output_type'] = 'display_data';\n",
              "          await google.colab.output.renderOutput(dataTable, element);\n",
              "          const docLink = document.createElement('div');\n",
              "          docLink.innerHTML = docLinkHtml;\n",
              "          element.appendChild(docLink);\n",
              "        }\n",
              "      </script>\n",
              "    </div>\n",
              "  </div>\n",
              "  "
            ],
            "text/plain": [
              "                                                                                  Short description  ... number_of_stop_words_desc\n",
              "53                                                                      reset scm_software password  ...                         1\n",
              "100                                                                     re: ess portal access issue  ...                        20\n",
              "124                                                                        mobile device activation  ...                         9\n",
              "151  i used to have acces to this location on collaboration_platform.  now i do not. i need access.  ...                         0\n",
              "162                                                                                   access to bex  ...                        53\n",
              "\n",
              "[5 rows x 16 columns]"
            ]
          },
          "execution_count": 95,
          "metadata": {},
          "output_type": "execute_result"
        }
      ],
      "source": [
        "ata_data[ata_data['Description'].str.contains('to:', case=False, na=False)].head()"
      ]
    },
    {
      "cell_type": "code",
      "execution_count": null,
      "metadata": {
        "id": "eog8a7XhFzjg"
      },
      "outputs": [],
      "source": [
        "text1 = 'from: mikhghytr wafglhdrhjop \\nsent: thursday, august 04, 2016 8:50 pm\\nto: nwfodmhc exurcwkm\\nsubject: rak fw: ethics collaboration_platform site\\n\\nplease review your recent ticketing_tool tickets and let me know who modified the ethics collaboration_platform site. a few weeks ago i had requested a change that placed a third column of selections. not sure who or why this was undone.\\n\\nmikhghytr wafglhdrhjop\\nsr. manager, global ethics and compliance programdntys\\nfrom: kzbuhixt zjdmoahr \\nsent: thursday, august 04, 2016 11:16 am\\nto: mikhghytr wafglhdrhjop <azxhejvq.fyemlavd@gmail.com>\\nsubject: re: ethics collaboration_platform site\\n\\nohâ€¦â€¦??\\n\\nsethdyr hdtyr\\nassistant general counsel â€“ compliance and real estate\\nglobal director of ethics & compliance; ccep\\nkzbuhixt.zjdmoahr@gmail.com \\n'"
      ]
    },
    {
      "cell_type": "code",
      "execution_count": null,
      "metadata": {
        "colab": {
          "base_uri": "https://localhost:8080/",
          "height": 35
        },
        "id": "cnZWvJzjGjel",
        "outputId": "f9150f01-92d4-44e0-ce7e-d0a8fe729da8"
      },
      "outputs": [
        {
          "data": {
            "application/vnd.google.colaboratory.intrinsic+json": {
              "type": "string"
            },
            "text/plain": [
              "'subject: rak fw: ethics collaboration_platform site\\n'"
            ]
          },
          "execution_count": 97,
          "metadata": {},
          "output_type": "execute_result"
        }
      ],
      "source": [
        "match_text1 = re.search(r'subject:.*[\\r\\n\\t\\f\\v]', text1)\n",
        "match_text1.group(0)"
      ]
    },
    {
      "cell_type": "code",
      "execution_count": null,
      "metadata": {
        "id": "HPUHAjKuGjjz"
      },
      "outputs": [],
      "source": [
        "text2 = 'from: pacvbetl yptglhoe \\r\\nsent: thursday, august 04, 2016 10:59 pm\\r\\nto: nwfodmhc exurcwkm\\r\\nsubject: amar fw: case id [ref:_case-111121032:ref] :: others\\r\\n\\r\\nplease see the forwarded email below. this looks suspicious to me and may be some sort of phishing or spamming email. please review it and let me know if it looks legitimate and is from legitimate individuals at company. i did not open or view any of the attachments. \\r\\n\\r\\ni have no idea why accounts payable would be sending me an email.\\r\\n\\r\\nbest'"
      ]
    },
    {
      "cell_type": "code",
      "execution_count": null,
      "metadata": {
        "colab": {
          "base_uri": "https://localhost:8080/",
          "height": 35
        },
        "id": "VF4lt5veGjnZ",
        "outputId": "b42d356b-85f3-401c-d193-16e86d338355"
      },
      "outputs": [
        {
          "data": {
            "application/vnd.google.colaboratory.intrinsic+json": {
              "type": "string"
            },
            "text/plain": [
              "'subject: amar fw: case id [ref:_case-111121032:ref] :: others\\r\\n'"
            ]
          },
          "execution_count": 99,
          "metadata": {},
          "output_type": "execute_result"
        }
      ],
      "source": [
        "match_text2 = re.search(r'subject:.*[\\r\\n\\t\\f\\v]', text2)\n",
        "match_text2.group(0)"
      ]
    },
    {
      "cell_type": "code",
      "execution_count": null,
      "metadata": {
        "id": "z8-ydcxZIAMK"
      },
      "outputs": [],
      "source": [
        "text3 = 'from: brdhdd dhwduw\\nsent: thursday, october 27, 2016 6:12 am\\nto: nwfodmhc exurcwkm\\nsubject::fwd: unable to down load ethics module \\n\\n\\nbegin forwarded message:\\nfrom: <dqwhpjxy.pozjxbey@gmail.com>\\nto: <zanivrec.capbfhur@gmail.com>\\nsubject: unable to down load ethics module \\nhi â€“ trust doing well . i am unable to down load & getting below msg. i did reset resolution however still same issue persist.\\n \\nplease help.\\n \\n \\n \\n \\n \\ndirector of sales \\ncompany indirect channels - asia \\n& \\ndqwhpjxy.pozjxbey@gmail.com \\n\\n \\n \\n \\n \\n\\n\\n'"
      ]
    },
    {
      "cell_type": "code",
      "execution_count": null,
      "metadata": {
        "colab": {
          "base_uri": "https://localhost:8080/",
          "height": 35
        },
        "id": "mNbiDR3UJGpi",
        "outputId": "3360746a-1a8f-4a78-b00a-fda5afdd3d51"
      },
      "outputs": [
        {
          "data": {
            "application/vnd.google.colaboratory.intrinsic+json": {
              "type": "string"
            },
            "text/plain": [
              "'from: brdhdd dhwduw\\n'"
            ]
          },
          "execution_count": 101,
          "metadata": {},
          "output_type": "execute_result"
        }
      ],
      "source": [
        "match_text3 = re.search(r'from:.*[\\r\\n\\t\\f\\v]', text3)\n",
        "match_text3.group(0)"
      ]
    },
    {
      "cell_type": "code",
      "execution_count": null,
      "metadata": {
        "colab": {
          "base_uri": "https://localhost:8080/"
        },
        "id": "et942VFPZhAL",
        "outputId": "1c2b0514-a1ba-4b99-9ff1-dc76ae48cc24"
      },
      "outputs": [
        {
          "data": {
            "text/plain": [
              "()"
            ]
          },
          "execution_count": 102,
          "metadata": {},
          "output_type": "execute_result"
        }
      ],
      "source": [
        "match_text3.groups(1)"
      ]
    },
    {
      "cell_type": "code",
      "execution_count": null,
      "metadata": {
        "colab": {
          "base_uri": "https://localhost:8080/",
          "height": 35
        },
        "id": "eAEaG9UvJJpR",
        "outputId": "c1efe314-2480-43d9-e92f-ec1ba0023f90"
      },
      "outputs": [
        {
          "data": {
            "application/vnd.google.colaboratory.intrinsic+json": {
              "type": "string"
            },
            "text/plain": [
              "'from: brdhdd dhwduw\\n'"
            ]
          },
          "execution_count": 103,
          "metadata": {},
          "output_type": "execute_result"
        }
      ],
      "source": [
        "sub_text3 = match_text3.group(0).replace('subject:',\"\")\n",
        "sub_text3"
      ]
    },
    {
      "cell_type": "code",
      "execution_count": null,
      "metadata": {
        "colab": {
          "base_uri": "https://localhost:8080/"
        },
        "id": "4uoHTQCc2wyF",
        "outputId": "db963f38-a4a3-4b3e-b459-8a8690d0764b"
      },
      "outputs": [
        {
          "data": {
            "text/plain": [
              "[]"
            ]
          },
          "execution_count": 104,
          "metadata": {},
          "output_type": "execute_result"
        }
      ],
      "source": [
        "match_text3 = re.findall(r'frm:.*[\\r\\n\\t\\f\\v]', text3)\n",
        "match_text3"
      ]
    },
    {
      "cell_type": "code",
      "execution_count": null,
      "metadata": {
        "id": "qMQMqu7fgi69"
      },
      "outputs": [],
      "source": [
        "for text in match_text3:\n",
        "  text3 = text3.replace(text, \"\")"
      ]
    },
    {
      "cell_type": "code",
      "execution_count": null,
      "metadata": {
        "colab": {
          "base_uri": "https://localhost:8080/",
          "height": 70
        },
        "id": "yMFfyvqbaEhi",
        "outputId": "ce096f71-794a-4b13-a6cb-d7b9cd9eb6e9"
      },
      "outputs": [
        {
          "data": {
            "application/vnd.google.colaboratory.intrinsic+json": {
              "type": "string"
            },
            "text/plain": [
              "'from: brdhdd dhwduw\\nsent: thursday, october 27, 2016 6:12 am\\nto: nwfodmhc exurcwkm\\nsubject::fwd: unable to down load ethics module \\n\\n\\nbegin forwarded message:\\nfrom: <dqwhpjxy.pozjxbey@gmail.com>\\nto: <zanivrec.capbfhur@gmail.com>\\nsubject: unable to down load ethics module \\nhi â€“ trust doing well . i am unable to down load & getting below msg. i did reset resolution however still same issue persist.\\n \\nplease help.\\n \\n \\n \\n \\n \\ndirector of sales \\ncompany indirect channels - asia \\n& \\ndqwhpjxy.pozjxbey@gmail.com \\n\\n \\n \\n \\n \\n\\n\\n'"
            ]
          },
          "execution_count": 106,
          "metadata": {},
          "output_type": "execute_result"
        }
      ],
      "source": [
        "text3"
      ]
    },
    {
      "cell_type": "code",
      "execution_count": null,
      "metadata": {
        "colab": {
          "base_uri": "https://localhost:8080/"
        },
        "id": "O9A641j8fTmS",
        "outputId": "99a0fa62-0954-4015-a134-a2835ee69999"
      },
      "outputs": [
        {
          "data": {
            "text/plain": [
              "['it', 'was', 'annoying']"
            ]
          },
          "execution_count": 107,
          "metadata": {},
          "output_type": "execute_result"
        }
      ],
      "source": [
        "a = ['it'] + ['was'] + ['annoying']\n",
        "a"
      ]
    },
    {
      "cell_type": "code",
      "execution_count": null,
      "metadata": {
        "colab": {
          "base_uri": "https://localhost:8080/"
        },
        "id": "BIFEb7V4iGta",
        "outputId": "62210b1a-4571-4b73-b0ea-b914d61178f1"
      },
      "outputs": [
        {
          "data": {
            "text/plain": [
              "list"
            ]
          },
          "execution_count": 108,
          "metadata": {},
          "output_type": "execute_result"
        }
      ],
      "source": [
        "type(a)"
      ]
    },
    {
      "cell_type": "code",
      "execution_count": null,
      "metadata": {
        "id": "czj2jqFYJT0Z"
      },
      "outputs": [],
      "source": [
        "text4 = '\\n\\nreceived from: bwfhtumx.japznrvb@gmail.com\\n\\n\\n\\n[cid:image001.jpg@01d230f7.8bb4e830]\\n\\nbwfhtumx japznrvb \\nregional controller\\nbwfhtumx.japznrvb@gmail.com<mailto:bwfhtumx.japznrvb@gmail.com>\\n\\n\\n\\n'"
      ]
    },
    {
      "cell_type": "code",
      "execution_count": null,
      "metadata": {
        "colab": {
          "base_uri": "https://localhost:8080/"
        },
        "id": "tMPasQsEJT3b",
        "outputId": "f938426f-de6c-4a7b-fe06-8799de44b6c0"
      },
      "outputs": [
        {
          "data": {
            "text/plain": [
              "['[cid:image001.jpg@01d230f7.8bb4e830]']"
            ]
          },
          "execution_count": 110,
          "metadata": {},
          "output_type": "execute_result"
        }
      ],
      "source": [
        "match_text4 = re.findall(r'\\[cid:image.*\\]', text4)\n",
        "match_text4"
      ]
    },
    {
      "cell_type": "code",
      "execution_count": null,
      "metadata": {
        "colab": {
          "base_uri": "https://localhost:8080/"
        },
        "id": "WEGUp6_gJT6g",
        "outputId": "53df2ade-5b71-49c7-9636-aac5c02013fa"
      },
      "outputs": [
        {
          "name": "stdout",
          "output_type": "stream",
          "text": [
            "sw\n"
          ]
        }
      ],
      "source": [
        "sentence = \"Tanzania ni nchi inayoongoza kwa utalii barani afrika\"\n",
        "print(detect(sentence))"
      ]
    },
    {
      "cell_type": "code",
      "execution_count": null,
      "metadata": {
        "colab": {
          "base_uri": "https://localhost:8080/"
        },
        "id": "crRVH9BsJT9V",
        "outputId": "335e0216-83a3-47ef-d99f-11106b1885c3"
      },
      "outputs": [
        {
          "name": "stdout",
          "output_type": "stream",
          "text": [
            "ko\n"
          ]
        }
      ],
      "source": [
        "sec_sen = \" 不能连接\"\n",
        "print(detect(sec_sen))"
      ]
    },
    {
      "cell_type": "code",
      "execution_count": null,
      "metadata": {
        "id": "a4jDtD-IJT_8"
      },
      "outputs": [],
      "source": [
        ""
      ]
    },
    {
      "cell_type": "code",
      "execution_count": null,
      "metadata": {
        "id": "XEg5RJlsJUEM"
      },
      "outputs": [],
      "source": [
        ""
      ]
    },
    {
      "cell_type": "code",
      "execution_count": null,
      "metadata": {
        "colab": {
          "base_uri": "https://localhost:8080/",
          "height": 35
        },
        "id": "GsYvwAQ4gs2M",
        "outputId": "26f5f874-e3dc-4b7f-8d08-08d754cb5fad"
      },
      "outputs": [
        {
          "data": {
            "application/vnd.google.colaboratory.intrinsic+json": {
              "type": "string"
            },
            "text/plain": [
              "'aktuell können keine rückmeldungen in EU_tool eingegeben werden. fehler \"laufzeitfehler\".'"
            ]
          },
          "execution_count": 113,
          "metadata": {},
          "output_type": "execute_result"
        }
      ],
      "source": [
        "ftfy.fix_text('aktuell kÃ¶nnen keine rÃ¼ckmeldungen in EU_tool eingegeben werden. fehler \"laufzeitfehler\".')"
      ]
    },
    {
      "cell_type": "code",
      "execution_count": null,
      "metadata": {
        "colab": {
          "base_uri": "https://localhost:8080/",
          "height": 35
        },
        "id": "HhSSo1EBHXRO",
        "outputId": "613466b2-9b4e-43a5-8ae8-9ed3288aa445"
      },
      "outputs": [
        {
          "data": {
            "application/vnd.google.colaboratory.intrinsic+json": {
              "type": "string"
            },
            "text/plain": [
              "'电脑登录密码忘记,重置密码。'"
            ]
          },
          "execution_count": 114,
          "metadata": {},
          "output_type": "execute_result"
        }
      ],
      "source": [
        "ftfy.fix_text('ç”µè„‘ç™»å½•å¯†ç å¿˜è®°ï¼Œé‡ç½®å¯†ç ã€‚')"
      ]
    },
    {
      "cell_type": "code",
      "execution_count": null,
      "metadata": {
        "colab": {
          "base_uri": "https://localhost:8080/",
          "height": 35
        },
        "id": "SZQQeCESJdVH",
        "outputId": "3e60ebc7-4544-4745-e1fd-6d9ace4cccd4"
      },
      "outputs": [
        {
          "data": {
            "application/vnd.google.colaboratory.intrinsic+json": {
              "type": "string"
            },
            "text/plain": [
              "'skype error'"
            ]
          },
          "execution_count": 115,
          "metadata": {},
          "output_type": "execute_result"
        }
      ],
      "source": [
        "ftfy.fix_text('skype error')"
      ]
    },
    {
      "cell_type": "code",
      "execution_count": null,
      "metadata": {
        "colab": {
          "base_uri": "https://localhost:8080/",
          "height": 35
        },
        "id": "YX7xLkWnN198",
        "outputId": "5135493e-5fdf-415a-c68b-a7ac12e4b916"
      },
      "outputs": [
        {
          "data": {
            "application/vnd.google.colaboratory.intrinsic+json": {
              "type": "string"
            },
            "text/plain": [
              "'电脑登录密码忘记,重置密码。'"
            ]
          },
          "execution_count": 116,
          "metadata": {},
          "output_type": "execute_result"
        }
      ],
      "source": [
        "ftfy.fix_text('ç”µè„‘ç™»å½•å¯†ç å¿˜è®°ï¼Œé‡ç½®å¯†ç ã€‚')"
      ]
    },
    {
      "cell_type": "code",
      "execution_count": null,
      "metadata": {
        "colab": {
          "base_uri": "https://localhost:8080/"
        },
        "id": "WOrTXbOwKqKT",
        "outputId": "08a42ff8-d58b-4dcb-b236-a4b74718a107"
      },
      "outputs": [
        {
          "name": "stdout",
          "output_type": "stream",
          "text": [
            "If the computer login password is forgotten, reset the password.\n"
          ]
        }
      ],
      "source": [
        "to_translate = ftfy.fix_text('ç”µè„‘ç™»å½•å¯†ç å¿˜è®°ï¼Œé‡ç½®å¯†ç ã€‚')\n",
        "translated = GoogleTranslator(source='auto', target='english').translate(to_translate)\n",
        "\n",
        "print(translated)"
      ]
    },
    {
      "cell_type": "code",
      "execution_count": null,
      "metadata": {
        "colab": {
          "base_uri": "https://localhost:8080/",
          "height": 35
        },
        "id": "hTzOUMUI05x_",
        "outputId": "ab75dab6-e842-49f0-d702-1825ba77e903"
      },
      "outputs": [
        {
          "data": {
            "application/vnd.google.colaboratory.intrinsic+json": {
              "type": "string"
            },
            "text/plain": [
              "'If the computer login password is forgotten, reset the password.'"
            ]
          },
          "execution_count": 118,
          "metadata": {},
          "output_type": "execute_result"
        }
      ],
      "source": [
        "translate_to_english(ftfy.fix_text('ç”µè„‘ç™»å½•å¯†ç å¿˜è®°ï¼Œé‡ç½®å¯†ç ã€‚'))"
      ]
    },
    {
      "cell_type": "code",
      "execution_count": null,
      "metadata": {
        "colab": {
          "base_uri": "https://localhost:8080/",
          "height": 35
        },
        "id": "B4Mx8cUA7JfA",
        "outputId": "ff8eb988-a159-4dda-87e6-5a6a33bf0619"
      },
      "outputs": [
        {
          "data": {
            "application/vnd.google.colaboratory.intrinsic+json": {
              "type": "string"
            },
            "text/plain": [
              "'my name is'"
            ]
          },
          "execution_count": 119,
          "metadata": {},
          "output_type": "execute_result"
        }
      ],
      "source": [
        "translate_to_english(ftfy.fix_text('my name is'))"
      ]
    },
    {
      "cell_type": "code",
      "execution_count": null,
      "metadata": {
        "colab": {
          "base_uri": "https://localhost:8080/"
        },
        "id": "SJp9Mub_MK9r",
        "outputId": "8cc30f50-8b72-4b59-e102-b173b45cabf8"
      },
      "outputs": [
        {
          "name": "stdout",
          "output_type": "stream",
          "text": [
            "No feedback can currently be entered in EU_tool. error \"runtime error\".\n"
          ]
        }
      ],
      "source": [
        "to_translate = ftfy.fix_text('aktuell kÃ¶nnen keine rÃ¼ckmeldungen in EU_tool eingegeben werden. fehler \"laufzeitfehler\".')\n",
        "translated = GoogleTranslator(source='auto', target='english').translate(to_translate)\n",
        "\n",
        "print(translated)"
      ]
    },
    {
      "cell_type": "code",
      "execution_count": null,
      "metadata": {
        "id": "1qtGaGjW7NlD"
      },
      "outputs": [],
      "source": [
        ""
      ]
    },
    {
      "cell_type": "code",
      "execution_count": null,
      "metadata": {
        "colab": {
          "base_uri": "https://localhost:8080/"
        },
        "id": "1-KGtLW6Zqdz",
        "outputId": "e50d5b92-01ba-4d9a-b7b1-7b9f04ee4fe0"
      },
      "outputs": [
        {
          "name": "stdout",
          "output_type": "stream",
          "text": [
            "If the computer login password is forgotten, reset the password.\n"
          ]
        }
      ],
      "source": [
        "to_translate = ftfy.fix_text('ç”µè„‘ç™»å½•å¯†ç å¿˜è®°ï¼Œé‡ç½®å¯†ç ã€‚')\n",
        "translated = GoogleTranslator(source='auto', target='english').translate(to_translate)\n",
        "\n",
        "print(translated)"
      ]
    },
    {
      "cell_type": "code",
      "execution_count": null,
      "metadata": {
        "colab": {
          "base_uri": "https://localhost:8080/"
        },
        "id": "YvnQ1a-1zQlZ",
        "outputId": "b94cd9e0-ca63-48e9-f3c9-cdca59e930e2"
      },
      "outputs": [
        {
          "data": {
            "text/plain": [
              "64"
            ]
          },
          "execution_count": 122,
          "metadata": {},
          "output_type": "execute_result"
        }
      ],
      "source": [
        "len(translated)"
      ]
    },
    {
      "cell_type": "code",
      "execution_count": null,
      "metadata": {
        "colab": {
          "base_uri": "https://localhost:8080/"
        },
        "id": "qKtHugtPiI02",
        "outputId": "0940a1c1-9d54-4d1f-a708-2ce50c3b1d40"
      },
      "outputs": [
        {
          "data": {
            "text/plain": [
              "GRP_0     58\n",
              "GRP_22     1\n",
              "GRP_7      1\n",
              "GRP_23     1\n",
              "GRP_40     1\n",
              "Name: Assignment group, dtype: int64"
            ]
          },
          "execution_count": 123,
          "metadata": {},
          "output_type": "execute_result"
        }
      ],
      "source": [
        "ata_data[ata_data['Short description'].str.contains('login issue', case=False, na=False)]['Assignment group'].value_counts()"
      ]
    },
    {
      "cell_type": "code",
      "execution_count": null,
      "metadata": {
        "colab": {
          "base_uri": "https://localhost:8080/"
        },
        "id": "G4985i2FZrAg",
        "outputId": "ab440106-26bd-406c-b00a-014d59a1d1d5"
      },
      "outputs": [
        {
          "data": {
            "text/plain": [
              "['hjsastadad.kjddwdd@company.com']"
            ]
          },
          "execution_count": 124,
          "metadata": {},
          "output_type": "execute_result"
        }
      ],
      "source": [
        "t1 = 'following  trail employee working in pthyu is unable to login  company hub mail id to view salary slip. request to rectify the same aerp mail id: hjsastadad.kjddwdd@company.com user id: wshqqhdqh password:vasanqi'\n",
        "match_good_day_trial= re.findall(r'\\S+@\\S+', t1)\n",
        "match_good_day_trial"
      ]
    },
    {
      "cell_type": "code",
      "execution_count": null,
      "metadata": {
        "colab": {
          "base_uri": "https://localhost:8080/"
        },
        "id": "UhpBUwpNdKox",
        "outputId": "ec594684-a53c-4f8a-81c4-58059984b699"
      },
      "outputs": [
        {
          "data": {
            "text/plain": [
              "['(yes/no/na)']"
            ]
          },
          "execution_count": 125,
          "metadata": {},
          "output_type": "execute_result"
        }
      ],
      "source": [
        "t1 = 'following  trail employee working in pthyu is (yes/no/na) unable to login  company hub mail  id to view salary slip. request to rectify the same aerp mail id: hjsastadad.kjddwdd@company.com user id: wshqqhdqh password:vasanqi'\n",
        "match_good_day_trial= re.findall(r'(\\(yes/no/na\\))', t1)\n",
        "match_good_day_trial"
      ]
    },
    {
      "cell_type": "code",
      "execution_count": null,
      "metadata": {
        "colab": {
          "base_uri": "https://localhost:8080/",
          "height": 35
        },
        "id": "Podbxa-KPpBh",
        "outputId": "4824665d-8b1c-4f1e-f430-1b67e2b2cf57"
      },
      "outputs": [
        {
          "data": {
            "application/vnd.google.colaboratory.intrinsic+json": {
              "type": "string"
            },
            "text/plain": [
              "'following  trail employee working in pthyu is  unable to login  company hub mail  id to view salary slip. request to rectify the same aerp mail id: hjsastadad.kjddwdd@company.com user id: wshqqhdqh password:vasanqi'"
            ]
          },
          "execution_count": 126,
          "metadata": {},
          "output_type": "execute_result"
        }
      ],
      "source": [
        "for matched_text in match_good_day_trial:\n",
        "    t1 = t1.replace(matched_text, \"\")\n",
        "t1"
      ]
    },
    {
      "cell_type": "code",
      "execution_count": null,
      "metadata": {
        "colab": {
          "base_uri": "https://localhost:8080/"
        },
        "id": "BlPfOuPGj41h",
        "outputId": "d51a1843-efc7-4fad-9a42-51cb1136135e"
      },
      "outputs": [
        {
          "data": {
            "text/plain": [
              "<re.Match object; span=(0, 10), match='dear team,'>"
            ]
          },
          "execution_count": 127,
          "metadata": {},
          "output_type": "execute_result"
        }
      ],
      "source": [
        "\n",
        "match_hello_trial= re.search(r'(^|\\s)(hello i.t. team|hello help-team|hello support team|hello help-team|hello it-team|hello ladies and gentlemen|hello  it helper|hellow|hello it support|hello all|hello colleagues|hi there|hello it team|hello sir|hello it service|hello it|hello helpdesk|hello team|hello all|hello it desk|hello  it helper|hello dac|hello|gentles|it team|dear team|dear all|dear|hallo|all groups|it help)(,|\\s|!|.|:|;|<|~)', 'dear team,  please release the device as per attached form as an employee owned mobile device. the corresponding form is attached. for the moment i am using the outlook app.  hello joftgost,  please approve the form in return by mail.')\n",
        "match_hello_trial"
      ]
    },
    {
      "cell_type": "code",
      "execution_count": null,
      "metadata": {
        "colab": {
          "base_uri": "https://localhost:8080/",
          "height": 35
        },
        "id": "AJbDdLlp269E",
        "outputId": "6434dcfc-9b14-44a2-dba3-b5074fc65e1d"
      },
      "outputs": [
        {
          "data": {
            "application/vnd.google.colaboratory.intrinsic+json": {
              "type": "string"
            },
            "text/plain": [
              "'dear team,'"
            ]
          },
          "execution_count": 128,
          "metadata": {},
          "output_type": "execute_result"
        }
      ],
      "source": [
        "match_hello_trial.group(0)"
      ]
    },
    {
      "cell_type": "code",
      "execution_count": null,
      "metadata": {
        "colab": {
          "base_uri": "https://localhost:8080/",
          "height": 35
        },
        "id": "VEAR2PJVFY06",
        "outputId": "58d1eef3-2bde-4134-cc85-22ffd29a63d7"
      },
      "outputs": [
        {
          "data": {
            "application/vnd.google.colaboratory.intrinsic+json": {
              "type": "string"
            },
            "text/plain": [
              "''"
            ]
          },
          "execution_count": 129,
          "metadata": {},
          "output_type": "execute_result"
        }
      ],
      "source": [
        "match_hello_trial.group(1)"
      ]
    },
    {
      "cell_type": "code",
      "execution_count": null,
      "metadata": {
        "colab": {
          "base_uri": "https://localhost:8080/",
          "height": 35
        },
        "id": "K4JOLk7oFX2o",
        "outputId": "74ee59f9-50a0-4f76-8811-53785d9d6190"
      },
      "outputs": [
        {
          "data": {
            "application/vnd.google.colaboratory.intrinsic+json": {
              "type": "string"
            },
            "text/plain": [
              "'dear team'"
            ]
          },
          "execution_count": 130,
          "metadata": {},
          "output_type": "execute_result"
        }
      ],
      "source": [
        "match_hello_trial.group(2)"
      ]
    },
    {
      "cell_type": "code",
      "execution_count": null,
      "metadata": {
        "colab": {
          "base_uri": "https://localhost:8080/",
          "height": 35
        },
        "id": "yIdi3WPIFdlo",
        "outputId": "17da3171-ce08-4f66-e241-a42ef215deb1"
      },
      "outputs": [
        {
          "data": {
            "application/vnd.google.colaboratory.intrinsic+json": {
              "type": "string"
            },
            "text/plain": [
              "','"
            ]
          },
          "execution_count": 131,
          "metadata": {},
          "output_type": "execute_result"
        }
      ],
      "source": [
        "match_hello_trial.group(3)"
      ]
    },
    {
      "cell_type": "code",
      "execution_count": null,
      "metadata": {
        "colab": {
          "base_uri": "https://localhost:8080/"
        },
        "id": "zn_CBqoWFkHC",
        "outputId": "27773dd7-d44c-4d15-e485-8527e18d772d"
      },
      "outputs": [
        {
          "data": {
            "text/plain": [
              "<re.Match object; span=(0, 10), match='dear team,'>"
            ]
          },
          "execution_count": 132,
          "metadata": {},
          "output_type": "execute_result"
        }
      ],
      "source": [
        "match_hello_trial"
      ]
    },
    {
      "cell_type": "code",
      "execution_count": null,
      "metadata": {
        "colab": {
          "base_uri": "https://localhost:8080/",
          "height": 35
        },
        "id": "uUGKaV2mF61Q",
        "outputId": "aed282c7-7411-496b-8269-b700d6302e86"
      },
      "outputs": [
        {
          "data": {
            "application/vnd.google.colaboratory.intrinsic+json": {
              "type": "string"
            },
            "text/plain": [
              "'i had to reset my password again and I have lost my option for setting up a skype meeting again.  can you please help me?  i cannot recall how you were able to bring it back the last time.'"
            ]
          },
          "execution_count": 133,
          "metadata": {},
          "output_type": "execute_result"
        }
      ],
      "source": [
        "text = '''i had to reset my password again and i've lost my option for setting up a skype meeting again.  can you please help me?  i can't recall how you were able to bring it back the last time.'''\n",
        "  \n",
        "contractions.fix(text)"
      ]
    },
    {
      "cell_type": "code",
      "execution_count": null,
      "metadata": {
        "colab": {
          "base_uri": "https://localhost:8080/"
        },
        "id": "va4Z5cPfoHOJ",
        "outputId": "2d3b3389-4ca3-4e42-c598-99b76eabce33"
      },
      "outputs": [
        {
          "data": {
            "text/plain": [
              "<re.Match object; span=(0, 6), match='......'>"
            ]
          },
          "execution_count": 134,
          "metadata": {},
          "output_type": "execute_result"
        }
      ],
      "source": [
        "text_check = '......my meetings/skype meetings etc are not appearing in my outlook calendar, can somebody please advise how to correct t?..'\n",
        "\n",
        "match_text_check = re.match(r'^[.]*', text_check)\n",
        "match_text_check"
      ]
    },
    {
      "cell_type": "code",
      "execution_count": null,
      "metadata": {
        "colab": {
          "base_uri": "https://localhost:8080/",
          "height": 774
        },
        "id": "avI7MDcNA04A",
        "outputId": "f2575530-ce8e-429c-f77a-8f7c962abfb8"
      },
      "outputs": [
        {
          "data": {
            "text/html": [
              "\n",
              "  <div id=\"df-3a646893-3f78-4aab-a0e6-0eb5b217ef00\">\n",
              "    <div class=\"colab-df-container\">\n",
              "      <div>\n",
              "<style scoped>\n",
              "    .dataframe tbody tr th:only-of-type {\n",
              "        vertical-align: middle;\n",
              "    }\n",
              "\n",
              "    .dataframe tbody tr th {\n",
              "        vertical-align: top;\n",
              "    }\n",
              "\n",
              "    .dataframe thead th {\n",
              "        text-align: right;\n",
              "    }\n",
              "</style>\n",
              "<table border=\"1\" class=\"dataframe\">\n",
              "  <thead>\n",
              "    <tr style=\"text-align: right;\">\n",
              "      <th></th>\n",
              "      <th>Short description</th>\n",
              "      <th>Description</th>\n",
              "      <th>Caller</th>\n",
              "      <th>Assignment group</th>\n",
              "      <th>short_desc_analysis</th>\n",
              "      <th>desc_analysis</th>\n",
              "      <th>mail_received_from</th>\n",
              "      <th>mail_subject_mentioned</th>\n",
              "      <th>number_of_words_short_desc</th>\n",
              "      <th>number_of_char_short_desc</th>\n",
              "      <th>number_of_punctuations_short_desc</th>\n",
              "      <th>number_of_stop_words_short_desc</th>\n",
              "      <th>number_of_words_desc</th>\n",
              "      <th>number_of_char_desc</th>\n",
              "      <th>number_of_punctuations_desc</th>\n",
              "      <th>number_of_stop_words_desc</th>\n",
              "    </tr>\n",
              "  </thead>\n",
              "  <tbody>\n",
              "    <tr>\n",
              "      <th>0</th>\n",
              "      <td>login issue</td>\n",
              "      <td>-verified user details.(employee# &amp; manager name)\\r\\n-checked the user name in ad and reset the password.\\r\\n-advised the user to login and check.\\r\\n-caller confirmed that he was able to login.\\r\\n-issue resolved.</td>\n",
              "      <td>spxjnwir pjlcoqds</td>\n",
              "      <td>GRP_0</td>\n",
              "      <td>login issue</td>\n",
              "      <td>-verified user details.(employee# &amp; -checked the user name in ad and reset the password. -advised the user to login and check. -caller confirmed that he was able to login. -issue resolved.</td>\n",
              "      <td>No Match</td>\n",
              "      <td>No Match</td>\n",
              "      <td>2</td>\n",
              "      <td>11</td>\n",
              "      <td>0</td>\n",
              "      <td>0</td>\n",
              "      <td>31</td>\n",
              "      <td>188</td>\n",
              "      <td>13</td>\n",
              "      <td>11</td>\n",
              "    </tr>\n",
              "    <tr>\n",
              "      <th>1</th>\n",
              "      <td>outlook</td>\n",
              "      <td>\\r\\n\\r\\nreceived from: hmjdrvpb.komuaywn@gmail.com\\r\\n\\r\\nhello team,\\r\\n\\r\\nmy meetings/skype meetings etc are not appearing in my outlook calendar, can somebody please advise how to correct this?\\r\\n\\r\\nkind</td>\n",
              "      <td>hmjdrvpb komuaywn</td>\n",
              "      <td>GRP_0</td>\n",
              "      <td>outlook</td>\n",
              "      <td>my meetings/skype meetings etc are not appearing in my outlook calendar, can somebody please advise how to correct t?</td>\n",
              "      <td>hmjdrvpb.komuaywn@gmail.com</td>\n",
              "      <td>No Match</td>\n",
              "      <td>1</td>\n",
              "      <td>7</td>\n",
              "      <td>0</td>\n",
              "      <td>0</td>\n",
              "      <td>19</td>\n",
              "      <td>117</td>\n",
              "      <td>3</td>\n",
              "      <td>8</td>\n",
              "    </tr>\n",
              "    <tr>\n",
              "      <th>2</th>\n",
              "      <td>cant log in to vpn</td>\n",
              "      <td>\\r\\n\\r\\nreceived from: eylqgodm.ybqkwiam@gmail.com\\r\\n\\r\\nhi\\r\\n\\r\\ni cannot log on to vpn\\r\\n\\r\\nbest</td>\n",
              "      <td>eylqgodm ybqkwiam</td>\n",
              "      <td>GRP_0</td>\n",
              "      <td>cannot log in to vpn</td>\n",
              "      <td>i cannot log on to vpn</td>\n",
              "      <td>eylqgodm.ybqkwiam@gmail.com</td>\n",
              "      <td>No Match</td>\n",
              "      <td>5</td>\n",
              "      <td>20</td>\n",
              "      <td>0</td>\n",
              "      <td>2</td>\n",
              "      <td>6</td>\n",
              "      <td>22</td>\n",
              "      <td>0</td>\n",
              "      <td>3</td>\n",
              "    </tr>\n",
              "    <tr>\n",
              "      <th>3</th>\n",
              "      <td>unable to access hr_tool page</td>\n",
              "      <td>unable to access hr_tool page</td>\n",
              "      <td>xbkucsvz gcpydteq</td>\n",
              "      <td>GRP_0</td>\n",
              "      <td>unable to access hr_tool page</td>\n",
              "      <td>unable to access hr_tool page</td>\n",
              "      <td>No Match</td>\n",
              "      <td>No Match</td>\n",
              "      <td>5</td>\n",
              "      <td>29</td>\n",
              "      <td>1</td>\n",
              "      <td>1</td>\n",
              "      <td>5</td>\n",
              "      <td>29</td>\n",
              "      <td>1</td>\n",
              "      <td>1</td>\n",
              "    </tr>\n",
              "    <tr>\n",
              "      <th>4</th>\n",
              "      <td>skype error</td>\n",
              "      <td>skype error</td>\n",
              "      <td>owlgqjme qhcozdfx</td>\n",
              "      <td>GRP_0</td>\n",
              "      <td>skype error</td>\n",
              "      <td>skype error</td>\n",
              "      <td>No Match</td>\n",
              "      <td>No Match</td>\n",
              "      <td>2</td>\n",
              "      <td>11</td>\n",
              "      <td>0</td>\n",
              "      <td>0</td>\n",
              "      <td>2</td>\n",
              "      <td>11</td>\n",
              "      <td>0</td>\n",
              "      <td>0</td>\n",
              "    </tr>\n",
              "  </tbody>\n",
              "</table>\n",
              "</div>\n",
              "      <button class=\"colab-df-convert\" onclick=\"convertToInteractive('df-3a646893-3f78-4aab-a0e6-0eb5b217ef00')\"\n",
              "              title=\"Convert this dataframe to an interactive table.\"\n",
              "              style=\"display:none;\">\n",
              "        \n",
              "  <svg xmlns=\"http://www.w3.org/2000/svg\" height=\"24px\"viewBox=\"0 0 24 24\"\n",
              "       width=\"24px\">\n",
              "    <path d=\"M0 0h24v24H0V0z\" fill=\"none\"/>\n",
              "    <path d=\"M18.56 5.44l.94 2.06.94-2.06 2.06-.94-2.06-.94-.94-2.06-.94 2.06-2.06.94zm-11 1L8.5 8.5l.94-2.06 2.06-.94-2.06-.94L8.5 2.5l-.94 2.06-2.06.94zm10 10l.94 2.06.94-2.06 2.06-.94-2.06-.94-.94-2.06-.94 2.06-2.06.94z\"/><path d=\"M17.41 7.96l-1.37-1.37c-.4-.4-.92-.59-1.43-.59-.52 0-1.04.2-1.43.59L10.3 9.45l-7.72 7.72c-.78.78-.78 2.05 0 2.83L4 21.41c.39.39.9.59 1.41.59.51 0 1.02-.2 1.41-.59l7.78-7.78 2.81-2.81c.8-.78.8-2.07 0-2.86zM5.41 20L4 18.59l7.72-7.72 1.47 1.35L5.41 20z\"/>\n",
              "  </svg>\n",
              "      </button>\n",
              "      \n",
              "  <style>\n",
              "    .colab-df-container {\n",
              "      display:flex;\n",
              "      flex-wrap:wrap;\n",
              "      gap: 12px;\n",
              "    }\n",
              "\n",
              "    .colab-df-convert {\n",
              "      background-color: #E8F0FE;\n",
              "      border: none;\n",
              "      border-radius: 50%;\n",
              "      cursor: pointer;\n",
              "      display: none;\n",
              "      fill: #1967D2;\n",
              "      height: 32px;\n",
              "      padding: 0 0 0 0;\n",
              "      width: 32px;\n",
              "    }\n",
              "\n",
              "    .colab-df-convert:hover {\n",
              "      background-color: #E2EBFA;\n",
              "      box-shadow: 0px 1px 2px rgba(60, 64, 67, 0.3), 0px 1px 3px 1px rgba(60, 64, 67, 0.15);\n",
              "      fill: #174EA6;\n",
              "    }\n",
              "\n",
              "    [theme=dark] .colab-df-convert {\n",
              "      background-color: #3B4455;\n",
              "      fill: #D2E3FC;\n",
              "    }\n",
              "\n",
              "    [theme=dark] .colab-df-convert:hover {\n",
              "      background-color: #434B5C;\n",
              "      box-shadow: 0px 1px 3px 1px rgba(0, 0, 0, 0.15);\n",
              "      filter: drop-shadow(0px 1px 2px rgba(0, 0, 0, 0.3));\n",
              "      fill: #FFFFFF;\n",
              "    }\n",
              "  </style>\n",
              "\n",
              "      <script>\n",
              "        const buttonEl =\n",
              "          document.querySelector('#df-3a646893-3f78-4aab-a0e6-0eb5b217ef00 button.colab-df-convert');\n",
              "        buttonEl.style.display =\n",
              "          google.colab.kernel.accessAllowed ? 'block' : 'none';\n",
              "\n",
              "        async function convertToInteractive(key) {\n",
              "          const element = document.querySelector('#df-3a646893-3f78-4aab-a0e6-0eb5b217ef00');\n",
              "          const dataTable =\n",
              "            await google.colab.kernel.invokeFunction('convertToInteractive',\n",
              "                                                     [key], {});\n",
              "          if (!dataTable) return;\n",
              "\n",
              "          const docLinkHtml = 'Like what you see? Visit the ' +\n",
              "            '<a target=\"_blank\" href=https://colab.research.google.com/notebooks/data_table.ipynb>data table notebook</a>'\n",
              "            + ' to learn more about interactive tables.';\n",
              "          element.innerHTML = '';\n",
              "          dataTable['output_type'] = 'display_data';\n",
              "          await google.colab.output.renderOutput(dataTable, element);\n",
              "          const docLink = document.createElement('div');\n",
              "          docLink.innerHTML = docLinkHtml;\n",
              "          element.appendChild(docLink);\n",
              "        }\n",
              "      </script>\n",
              "    </div>\n",
              "  </div>\n",
              "  "
            ],
            "text/plain": [
              "               Short description  ... number_of_stop_words_desc\n",
              "0                    login issue  ...                        11\n",
              "1                        outlook  ...                         8\n",
              "2             cant log in to vpn  ...                         3\n",
              "3  unable to access hr_tool page  ...                         1\n",
              "4                   skype error   ...                         0\n",
              "\n",
              "[5 rows x 16 columns]"
            ]
          },
          "execution_count": 135,
          "metadata": {},
          "output_type": "execute_result"
        }
      ],
      "source": [
        "ata_data.head()"
      ]
    },
    {
      "cell_type": "code",
      "execution_count": null,
      "metadata": {
        "colab": {
          "base_uri": "https://localhost:8080/",
          "height": 321
        },
        "id": "g3yx2YpEhcN5",
        "outputId": "a0f2d59d-f9d4-4b7f-e218-ae8db8d58e33"
      },
      "outputs": [
        {
          "ename": "AttributeError",
          "evalue": "ignored",
          "output_type": "error",
          "traceback": [
            "\u001b[0;31m---------------------------------------------------------------------------\u001b[0m",
            "\u001b[0;31mAttributeError\u001b[0m                            Traceback (most recent call last)",
            "\u001b[0;32m<ipython-input-136-443ea4e2026d>\u001b[0m in \u001b[0;36m<module>\u001b[0;34m()\u001b[0m\n\u001b[1;32m      1\u001b[0m \u001b[0;31m# Checking duplicate records\u001b[0m\u001b[0;34m\u001b[0m\u001b[0;34m\u001b[0m\u001b[0;34m\u001b[0m\u001b[0m\n\u001b[1;32m      2\u001b[0m \u001b[0;34m\u001b[0m\u001b[0m\n\u001b[0;32m----> 3\u001b[0;31m \u001b[0mata_data\u001b[0m\u001b[0;34m.\u001b[0m\u001b[0mduplicate\u001b[0m\u001b[0;34m\u001b[0m\u001b[0;34m\u001b[0m\u001b[0m\n\u001b[0m",
            "\u001b[0;32m/usr/local/lib/python3.7/dist-packages/pandas/core/generic.py\u001b[0m in \u001b[0;36m__getattr__\u001b[0;34m(self, name)\u001b[0m\n\u001b[1;32m   5139\u001b[0m             \u001b[0;32mif\u001b[0m \u001b[0mself\u001b[0m\u001b[0;34m.\u001b[0m\u001b[0m_info_axis\u001b[0m\u001b[0;34m.\u001b[0m\u001b[0m_can_hold_identifiers_and_holds_name\u001b[0m\u001b[0;34m(\u001b[0m\u001b[0mname\u001b[0m\u001b[0;34m)\u001b[0m\u001b[0;34m:\u001b[0m\u001b[0;34m\u001b[0m\u001b[0;34m\u001b[0m\u001b[0m\n\u001b[1;32m   5140\u001b[0m                 \u001b[0;32mreturn\u001b[0m \u001b[0mself\u001b[0m\u001b[0;34m[\u001b[0m\u001b[0mname\u001b[0m\u001b[0;34m]\u001b[0m\u001b[0;34m\u001b[0m\u001b[0;34m\u001b[0m\u001b[0m\n\u001b[0;32m-> 5141\u001b[0;31m             \u001b[0;32mreturn\u001b[0m \u001b[0mobject\u001b[0m\u001b[0;34m.\u001b[0m\u001b[0m__getattribute__\u001b[0m\u001b[0;34m(\u001b[0m\u001b[0mself\u001b[0m\u001b[0;34m,\u001b[0m \u001b[0mname\u001b[0m\u001b[0;34m)\u001b[0m\u001b[0;34m\u001b[0m\u001b[0;34m\u001b[0m\u001b[0m\n\u001b[0m\u001b[1;32m   5142\u001b[0m \u001b[0;34m\u001b[0m\u001b[0m\n\u001b[1;32m   5143\u001b[0m     \u001b[0;32mdef\u001b[0m \u001b[0m__setattr__\u001b[0m\u001b[0;34m(\u001b[0m\u001b[0mself\u001b[0m\u001b[0;34m,\u001b[0m \u001b[0mname\u001b[0m\u001b[0;34m:\u001b[0m \u001b[0mstr\u001b[0m\u001b[0;34m,\u001b[0m \u001b[0mvalue\u001b[0m\u001b[0;34m)\u001b[0m \u001b[0;34m->\u001b[0m \u001b[0;32mNone\u001b[0m\u001b[0;34m:\u001b[0m\u001b[0;34m\u001b[0m\u001b[0;34m\u001b[0m\u001b[0m\n",
            "\u001b[0;31mAttributeError\u001b[0m: 'DataFrame' object has no attribute 'duplicate'"
          ]
        }
      ],
      "source": [
        "# Checking duplicate records\n",
        "\n",
        "ata_data.duplicate"
      ]
    },
    {
      "cell_type": "code",
      "execution_count": null,
      "metadata": {
        "id": "zllcnZMr7Q0q"
      },
      "outputs": [],
      "source": [
        "issueResolved=  ata_data[ata_data['desc_analysis'].apply(lambda x: 'issue resolved' in x)]\n",
        "issueResolved.reset_index()"
      ]
    },
    {
      "cell_type": "code",
      "execution_count": null,
      "metadata": {
        "id": "roNsts778Had"
      },
      "outputs": [],
      "source": [
        "# There are 112 tickets, that are already resolved."
      ]
    },
    {
      "cell_type": "code",
      "execution_count": null,
      "metadata": {
        "id": "WJyluQ7R8eLb"
      },
      "outputs": [],
      "source": [
        "issueResolved['Assignment group'].value_counts()\n",
        "\n",
        "# Most of these  tickets belongs to GRP_0"
      ]
    },
    {
      "cell_type": "markdown",
      "metadata": {
        "id": "1_K7jIfZ9Iji"
      },
      "source": [
        "Analyzing Ngram"
      ]
    },
    {
      "cell_type": "code",
      "execution_count": null,
      "metadata": {
        "id": "64Fksg1V8jGx"
      },
      "outputs": [],
      "source": [
        "# checking bigram\n",
        "(pd.Series(nltk.ngrams(ata_data['desc_analysis'], 1)).value_counts())[0:50]"
      ]
    },
    {
      "cell_type": "code",
      "execution_count": null,
      "metadata": {
        "id": "HSlodbCn9cBi"
      },
      "outputs": [],
      "source": [
        "# There is pattern of text \"at: // ::\", these pattern suggest path name.\n",
        "# We can replace these pattern with \"PATH\" string."
      ]
    },
    {
      "cell_type": "code",
      "execution_count": null,
      "metadata": {
        "id": "HKdQ8HUd_GoR"
      },
      "outputs": [],
      "source": [
        "def replace_pathPattern(text):\n",
        "  text=text.replace('at: // ::','at PATH')\n",
        "  text=text.replace('at // ::','at PATH')\n",
        "  return text\n",
        "\n",
        "ata_data['desc_analysis']=ata_data['desc_analysis'].apply(replace_pathPattern)"
      ]
    },
    {
      "cell_type": "code",
      "execution_count": null,
      "metadata": {
        "id": "Ht8yZlW3AWZS"
      },
      "outputs": [],
      "source": [
        "(pd.Series(nltk.ngrams(ata_data['desc_analysis'], 2)).value_counts())[0:50]"
      ]
    },
    {
      "cell_type": "code",
      "execution_count": null,
      "metadata": {
        "id": "NkBUd8A5FOjj"
      },
      "outputs": [],
      "source": [
        "from sklearn.feature_extraction.text import CountVectorizer\n",
        "word_vectorizer = CountVectorizer(ngram_range=(1,3), analyzer='word')\n",
        "sparse_matrix = word_vectorizer.fit_transform(ata_data['desc_analysis'])\n",
        "frequencies = sum(sparse_matrix).toarray()[0]\n",
        "pd.DataFrame(frequencies, index=word_vectorizer.get_feature_names(), columns=['frequency'])[0:50]"
      ]
    },
    {
      "cell_type": "code",
      "execution_count": null,
      "metadata": {
        "id": "ZtCSXei-EE6V"
      },
      "outputs": [],
      "source": [
        "ata_data[ata_data['Assignment group'] =='GRP_8']"
      ]
    },
    {
      "cell_type": "markdown",
      "metadata": {
        "id": "5YfUo91LX186"
      },
      "source": [
        "# Replacing descrition with Short description for GRP_8"
      ]
    },
    {
      "cell_type": "code",
      "execution_count": null,
      "metadata": {
        "id": "dqA3mjCJmAoS"
      },
      "outputs": [],
      "source": [
        "\n",
        "ata_data[ata_data['Assignment group'] =='GRP_8']['desc_analysis']=ata_data[ata_data['Assignment group'] =='GRP_8']['short_desc_analysis']"
      ]
    },
    {
      "cell_type": "code",
      "execution_count": null,
      "metadata": {
        "id": "jJHH8m4_mBGM"
      },
      "outputs": [],
      "source": [
        "ata_data[ata_data['Assignment group'] =='GRP_9'].head()"
      ]
    },
    {
      "cell_type": "markdown",
      "metadata": {
        "id": "CTeyDycjoDKz"
      },
      "source": [
        "# Feature engineering\n",
        "-- grouping simillar assignment group together."
      ]
    },
    {
      "cell_type": "code",
      "execution_count": null,
      "metadata": {
        "id": "mil6Owbem8YG"
      },
      "outputs": [],
      "source": [
        "# Filtering short_desc_anlysis,desc_analysis and assigment group\n",
        "\n",
        "filtered=ata_data[['short_desc_analysis','desc_analysis','Assignment group']]"
      ]
    },
    {
      "cell_type": "code",
      "execution_count": null,
      "metadata": {
        "id": "ZisZTlTvpH73"
      },
      "outputs": [],
      "source": [
        "from io import StringIO\n",
        "filtered['GroupID']=filtered['Assignment group'].factorize()[0]"
      ]
    },
    {
      "cell_type": "code",
      "execution_count": null,
      "metadata": {
        "id": "j02vugwOpRwe"
      },
      "outputs": [],
      "source": [
        "filtered.head()"
      ]
    },
    {
      "cell_type": "code",
      "execution_count": null,
      "metadata": {
        "id": "RlEqjYc3pWZK"
      },
      "outputs": [],
      "source": [
        "grouped_df  =filtered[['Assignment group','GroupID']].drop_duplicates()\n",
        "group_to_groupId=dict(grouped_df.values)\n",
        "groupId_to_group=dict(grouped_df[['GroupID','Assignment group']].values)"
      ]
    },
    {
      "cell_type": "code",
      "execution_count": null,
      "metadata": {
        "id": "BSdXsFArprAA"
      },
      "outputs": [],
      "source": [
        "import matplotlib.pyplot as plt\n",
        "\n",
        "fig= plt.figure(figsize=(12,15))\n",
        "filtered.groupby('Assignment group').desc_analysis.count().plot.bar()\n",
        "plt.show()"
      ]
    },
    {
      "cell_type": "code",
      "execution_count": null,
      "metadata": {
        "id": "fjbAF3s4puwH"
      },
      "outputs": [],
      "source": [
        "# Vectorizing desc_analysis column\n",
        "from sklearn.feature_extraction.text import TfidfVectorizer\n",
        "\n",
        "tfidf = TfidfVectorizer(sublinear_tf=True, min_df=5, norm='l2', encoding='latin-1', ngram_range=(1, 2), stop_words='english')\n",
        "\n",
        "features = tfidf.fit_transform(filtered['desc_analysis']).toarray()\n",
        "labels = filtered['GroupID']\n",
        "features.shape"
      ]
    },
    {
      "cell_type": "code",
      "execution_count": null,
      "metadata": {
        "id": "702i69cHq68R"
      },
      "outputs": [],
      "source": [
        "# Finding most corelated bigram and unigram using Chi2 test  in desc_analysis column"
      ]
    },
    {
      "cell_type": "code",
      "execution_count": null,
      "metadata": {
        "id": "8TbUFKasqljB"
      },
      "outputs": [],
      "source": [
        "from sklearn.feature_selection import chi2\n",
        "import numpy as np\n",
        "\n",
        "N = 4\n",
        "for group, groupId in sorted(group_to_groupId.items()):\n",
        "  features_chi2 = chi2(features, labels == groupId)\n",
        "  indices = np.argsort(features_chi2[0])\n",
        "  feature_names = np.array(tfidf.get_feature_names())[indices]\n",
        "  unigrams = [v for v in feature_names if len(v.split(' ')) == 1]\n",
        "  bigrams = [v for v in feature_names if len(v.split(' ')) == 2]\n",
        "  print(\"# '{}':\".format(group))\n",
        "  print(\"  . Most correlated unigrams:\\n       . {}\".format('\\n       . '.join(unigrams[-N:])))\n",
        "  print(\"  . Most correlated bigrams:\\n       . {}\".format('\\n       . '.join(bigrams[-N:])))\n"
      ]
    },
    {
      "cell_type": "code",
      "execution_count": null,
      "metadata": {
        "id": "-gbVMsGWrLGg"
      },
      "outputs": [],
      "source": [
        "##  From above correlation analysis below group can be merged \n",
        "##  GRP_0,GRP_35,GRP_54,GRP_58,GRP_61,GRP_64,GRP_67,GRP_70,GRP_71  can be clubbed together.\n",
        "##  GRP_1,GRP_12,GRP_47,GRP_39  are related group\n",
        "##  GRP_10,GRP_68  are related group\n",
        "##  GRP_13,GRP_29  are related group"
      ]
    },
    {
      "cell_type": "markdown",
      "metadata": {
        "id": "BL0O-Dv_tzY9"
      },
      "source": [
        "## Correlation Analysis on short description"
      ]
    },
    {
      "cell_type": "code",
      "execution_count": null,
      "metadata": {
        "id": "63TVncD-t5ww"
      },
      "outputs": [],
      "source": [
        "# Vectorizing desc_analysis column\n",
        "from sklearn.feature_extraction.text import TfidfVectorizer\n",
        "\n",
        "tfidf = TfidfVectorizer(sublinear_tf=True, min_df=5, norm='l2', encoding='latin-1', ngram_range=(1, 2), stop_words='english')\n",
        "\n",
        "features = tfidf.fit_transform(filtered['short_desc_analysis']).toarray()\n",
        "labels = filtered['GroupID']\n",
        "features.shape"
      ]
    },
    {
      "cell_type": "code",
      "execution_count": null,
      "metadata": {
        "id": "Ms4zZzPouUGL"
      },
      "outputs": [],
      "source": [
        "from sklearn.feature_selection import chi2\n",
        "import numpy as np\n",
        "\n",
        "N = 4\n",
        "for group, groupId in sorted(group_to_groupId.items()):\n",
        "  features_chi2 = chi2(features, labels == groupId)\n",
        "  indices = np.argsort(features_chi2[0])\n",
        "  feature_names = np.array(tfidf.get_feature_names())[indices]\n",
        "  unigrams = [v for v in feature_names if len(v.split(' ')) == 1]\n",
        "  bigrams = [v for v in feature_names if len(v.split(' ')) == 2]\n",
        "  print(\"# '{}':\".format(group))\n",
        "  print(\"  . Most correlated unigrams:\\n       . {}\".format('\\n       . '.join(unigrams[-N:])))\n",
        "  print(\"  . Most correlated bigrams:\\n       . {}\".format('\\n       . '.join(bigrams[-N:])))\n"
      ]
    },
    {
      "cell_type": "code",
      "execution_count": null,
      "metadata": {
        "id": "_ynVxrp4u4F8"
      },
      "outputs": [],
      "source": [
        "## Based on above short desc analysis below assignment group can be grouped together.\n",
        "# GRP_17,GRP_32,GRP_38,GRP_46,GRP_49,GRP_51,GRP_52,GRP_53,GRP_54,GRP_55,GRP_58,GRP_63,GRP_66,GRP_73\n"
      ]
    },
    {
      "cell_type": "markdown",
      "metadata": {
        "id": "7xIJmuP3wzIP"
      },
      "source": [
        "Based on desc_analysis and short_desc_analysis final assignment group that can be merged\n",
        "- GRP_0,GRP_35,GRP_54,GRP_58,GRP_61,GRP_64,GRP_67,GRP_70,GRP_71,GRP_17,GRP_32,GRP_38,GRP_46,GRP_49,GRP_51,GRP_52,GRP_53,GRP_54,GRP_55,GRP_58,GRP_63,GRP_66,GRP_73\n",
        "- GRP_1,GRP_12,GRP_47,GRP_39\n",
        "- GRP_10,GRP_68\n",
        "- GRP_13,GRP_29\n",
        "\n",
        "\n"
      ]
    },
    {
      "cell_type": "markdown",
      "metadata": {
        "id": "q4cuuExKy4ZA"
      },
      "source": [
        "## Pairwise Simmilerity Analysis using BERT"
      ]
    },
    {
      "cell_type": "code",
      "execution_count": null,
      "metadata": {
        "id": "yY-6W3VJzHej"
      },
      "outputs": [],
      "source": [
        "pip install sentence-transformers"
      ]
    },
    {
      "cell_type": "code",
      "execution_count": null,
      "metadata": {
        "id": "GAUAhBSHznxD"
      },
      "outputs": [],
      "source": [
        "import nltk\n",
        "nltk.download('stopwords')\n",
        "import re\n",
        "from sklearn.feature_extraction.text import TfidfVectorizer \n",
        "from sklearn.metrics.pairwise import cosine_similarity\n",
        "from sklearn.metrics.pairwise import euclidean_distances\n",
        "from gensim.models import Word2Vec"
      ]
    },
    {
      "cell_type": "code",
      "execution_count": null,
      "metadata": {
        "id": "F7Gv3ogUzgwZ"
      },
      "outputs": [],
      "source": [
        "def most_similar(doc_id,similarity_matrix,matrix):\n",
        "    print (f'Document: {filtered.iloc[doc_id][\"short_desc_analysis\"]}')\n",
        "    print ('\\n')\n",
        "    print ('Similar Documents:')\n",
        "    if matrix=='Cosine Similarity':\n",
        "        similar_ix=np.argsort(similarity_matrix[doc_id])[::-1]\n",
        "    elif matrix=='Euclidean Distance':\n",
        "        similar_ix=np.argsort(similarity_matrix[doc_id])\n",
        "    for ix in similar_ix:\n",
        "        if ix==doc_id:\n",
        "            continue\n",
        "        print('\\n')\n",
        "        print (f'Document: {filtered.iloc[ix][\"short_desc_analysis\"]}')\n",
        "        print (f'{matrix} : {similarity_matrix[doc_id][ix]}')\n",
        "            "
      ]
    },
    {
      "cell_type": "code",
      "execution_count": null,
      "metadata": {
        "id": "YVuB6JruzKq1"
      },
      "outputs": [],
      "source": [
        "from sentence_transformers import SentenceTransformer\n",
        "from sklearn.metrics.pairwise import cosine_similarity, euclidean_distances\n",
        "bert_model=SentenceTransformer('bert-base-nli-mean-tokens')\n",
        "doc_embedding=bert_model.encode(filtered['short_desc_analysis'].iloc[0:200])\n",
        "\n",
        "pairwise_simmilerity=cosine_similarity(doc_embedding)\n",
        "pairwise_diffrences=euclidean_distances(doc_embedding)"
      ]
    },
    {
      "cell_type": "code",
      "execution_count": null,
      "metadata": {
        "id": "4o3BrjdIzz_B"
      },
      "outputs": [],
      "source": [
        "most_similar(2,pairwise_simmilerity,'Cosine Similarity')\n",
        "most_similar(2,pairwise_diffrences,'Euclidean Distance')"
      ]
    },
    {
      "cell_type": "code",
      "execution_count": null,
      "metadata": {
        "id": "iO0aoJid0VeR"
      },
      "outputs": [],
      "source": [
        ""
      ]
    }
  ],
  "metadata": {
    "colab": {
      "collapsed_sections": [],
      "name": "AutomaticTicketAssignment.ipynb",
      "provenance": []
    },
    "kernelspec": {
      "display_name": "Python 3",
      "name": "python3"
    },
    "language_info": {
      "name": "python"
    }
  },
  "nbformat": 4,
  "nbformat_minor": 0
}