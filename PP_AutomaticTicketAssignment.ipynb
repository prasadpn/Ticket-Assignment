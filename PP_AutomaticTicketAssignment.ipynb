{
  "nbformat": 4,
  "nbformat_minor": 0,
  "metadata": {
    "colab": {
      "name": "PP_AutomaticTicketAssignment.ipynb",
      "provenance": [],
      "collapsed_sections": []
    },
    "kernelspec": {
      "name": "python3",
      "display_name": "Python 3"
    },
    "language_info": {
      "name": "python"
    }
  },
  "cells": [
    {
      "cell_type": "code",
      "metadata": {
        "colab": {
          "base_uri": "https://localhost:8080/"
        },
        "id": "1m5-I9zRHFKx",
        "outputId": "ada9fc8c-ff8c-4cb0-f743-4f7dcd8e8e01"
      },
      "source": [
        "pip install ftfy"
      ],
      "execution_count": 1,
      "outputs": [
        {
          "output_type": "stream",
          "name": "stdout",
          "text": [
            "Collecting ftfy\n",
            "  Downloading ftfy-6.0.3.tar.gz (64 kB)\n",
            "\u001b[?25l\r\u001b[K     |█████                           | 10 kB 24.1 MB/s eta 0:00:01\r\u001b[K     |██████████▏                     | 20 kB 26.3 MB/s eta 0:00:01\r\u001b[K     |███████████████▎                | 30 kB 12.0 MB/s eta 0:00:01\r\u001b[K     |████████████████████▍           | 40 kB 9.0 MB/s eta 0:00:01\r\u001b[K     |█████████████████████████▌      | 51 kB 4.8 MB/s eta 0:00:01\r\u001b[K     |██████████████████████████████▋ | 61 kB 5.3 MB/s eta 0:00:01\r\u001b[K     |████████████████████████████████| 64 kB 1.8 MB/s \n",
            "\u001b[?25hRequirement already satisfied: wcwidth in /usr/local/lib/python3.7/dist-packages (from ftfy) (0.2.5)\n",
            "Building wheels for collected packages: ftfy\n",
            "  Building wheel for ftfy (setup.py) ... \u001b[?25l\u001b[?25hdone\n",
            "  Created wheel for ftfy: filename=ftfy-6.0.3-py3-none-any.whl size=41933 sha256=c3058d8d9e384f5a093a706c645b8c24fc2bf980b0fd14ed8e6c85b54736e49b\n",
            "  Stored in directory: /root/.cache/pip/wheels/19/f5/38/273eb3b5e76dfd850619312f693716ac4518b498f5ffb6f56d\n",
            "Successfully built ftfy\n",
            "Installing collected packages: ftfy\n",
            "Successfully installed ftfy-6.0.3\n"
          ]
        }
      ]
    },
    {
      "cell_type": "code",
      "metadata": {
        "colab": {
          "base_uri": "https://localhost:8080/"
        },
        "id": "2yDn8P1MLl-K",
        "outputId": "98615808-120b-4a8a-bad0-f77c098e9a6c"
      },
      "source": [
        "pip install deep-translator"
      ],
      "execution_count": 2,
      "outputs": [
        {
          "output_type": "stream",
          "name": "stdout",
          "text": [
            "Collecting deep-translator\n",
            "  Downloading deep_translator-1.5.5-py3-none-any.whl (30 kB)\n",
            "Requirement already satisfied: requests<3.0.0,>=2.23.0 in /usr/local/lib/python3.7/dist-packages (from deep-translator) (2.23.0)\n",
            "Collecting beautifulsoup4<5.0.0,>=4.9.1\n",
            "  Downloading beautifulsoup4-4.10.0-py3-none-any.whl (97 kB)\n",
            "\u001b[K     |████████████████████████████████| 97 kB 3.1 MB/s \n",
            "\u001b[?25hCollecting click<9.0.0,>=8.0.1\n",
            "  Downloading click-8.0.3-py3-none-any.whl (97 kB)\n",
            "\u001b[K     |████████████████████████████████| 97 kB 5.2 MB/s \n",
            "\u001b[?25hCollecting soupsieve>1.2\n",
            "  Downloading soupsieve-2.3.1-py3-none-any.whl (37 kB)\n",
            "Requirement already satisfied: importlib-metadata in /usr/local/lib/python3.7/dist-packages (from click<9.0.0,>=8.0.1->deep-translator) (4.8.2)\n",
            "Requirement already satisfied: certifi>=2017.4.17 in /usr/local/lib/python3.7/dist-packages (from requests<3.0.0,>=2.23.0->deep-translator) (2021.10.8)\n",
            "Requirement already satisfied: urllib3!=1.25.0,!=1.25.1,<1.26,>=1.21.1 in /usr/local/lib/python3.7/dist-packages (from requests<3.0.0,>=2.23.0->deep-translator) (1.24.3)\n",
            "Requirement already satisfied: idna<3,>=2.5 in /usr/local/lib/python3.7/dist-packages (from requests<3.0.0,>=2.23.0->deep-translator) (2.10)\n",
            "Requirement already satisfied: chardet<4,>=3.0.2 in /usr/local/lib/python3.7/dist-packages (from requests<3.0.0,>=2.23.0->deep-translator) (3.0.4)\n",
            "Requirement already satisfied: typing-extensions>=3.6.4 in /usr/local/lib/python3.7/dist-packages (from importlib-metadata->click<9.0.0,>=8.0.1->deep-translator) (3.10.0.2)\n",
            "Requirement already satisfied: zipp>=0.5 in /usr/local/lib/python3.7/dist-packages (from importlib-metadata->click<9.0.0,>=8.0.1->deep-translator) (3.6.0)\n",
            "Installing collected packages: soupsieve, click, beautifulsoup4, deep-translator\n",
            "  Attempting uninstall: click\n",
            "    Found existing installation: click 7.1.2\n",
            "    Uninstalling click-7.1.2:\n",
            "      Successfully uninstalled click-7.1.2\n",
            "  Attempting uninstall: beautifulsoup4\n",
            "    Found existing installation: beautifulsoup4 4.6.3\n",
            "    Uninstalling beautifulsoup4-4.6.3:\n",
            "      Successfully uninstalled beautifulsoup4-4.6.3\n",
            "\u001b[31mERROR: pip's dependency resolver does not currently take into account all the packages that are installed. This behaviour is the source of the following dependency conflicts.\n",
            "flask 1.1.4 requires click<8.0,>=5.1, but you have click 8.0.3 which is incompatible.\u001b[0m\n",
            "Successfully installed beautifulsoup4-4.10.0 click-8.0.3 deep-translator-1.5.5 soupsieve-2.3.1\n"
          ]
        }
      ]
    },
    {
      "cell_type": "code",
      "metadata": {
        "id": "O5JmebBGcUUO"
      },
      "source": [
        "import numpy as np\n",
        "import pandas as pd \n",
        "import matplotlib.pyplot as plt\n",
        "%matplotlib inline\n",
        "import seaborn as sns"
      ],
      "execution_count": 3,
      "outputs": []
    },
    {
      "cell_type": "code",
      "metadata": {
        "id": "uI_K7aloJBwe"
      },
      "source": [
        "import re"
      ],
      "execution_count": 4,
      "outputs": []
    },
    {
      "cell_type": "code",
      "metadata": {
        "id": "OO_qNUbVHLf1"
      },
      "source": [
        "import ftfy"
      ],
      "execution_count": 5,
      "outputs": []
    },
    {
      "cell_type": "code",
      "metadata": {
        "id": "xBZmhMvhL7jB"
      },
      "source": [
        "from deep_translator import GoogleTranslator"
      ],
      "execution_count": 6,
      "outputs": []
    },
    {
      "cell_type": "code",
      "metadata": {
        "id": "pPTJhR9ilA2_"
      },
      "source": [
        "import string\n",
        "import nltk\n",
        "from nltk.corpus import stopwords\n",
        "from textblob import TextBlob\n",
        "from nltk.corpus import wordnet\n",
        "from nltk.stem import WordNetLemmatizer\n",
        "from nltk.tokenize import word_tokenize"
      ],
      "execution_count": 7,
      "outputs": []
    },
    {
      "cell_type": "code",
      "metadata": {
        "id": "_qrQX4V1fQWX"
      },
      "source": [
        "seed = 32"
      ],
      "execution_count": 8,
      "outputs": []
    },
    {
      "cell_type": "code",
      "metadata": {
        "id": "mC5FQfaRZnyF"
      },
      "source": [
        "pd.set_option('display.max_colwidth', None)"
      ],
      "execution_count": 9,
      "outputs": []
    },
    {
      "cell_type": "code",
      "metadata": {
        "colab": {
          "base_uri": "https://localhost:8080/"
        },
        "id": "VRuVqDnafXfw",
        "outputId": "5bd7b691-de3d-410d-cc40-b9786e17bfd5"
      },
      "source": [
        "ata_path = \"/content/drive/MyDrive/GL/ATA/input_data.xlsx\"\n",
        "print(ata_path)"
      ],
      "execution_count": 10,
      "outputs": [
        {
          "output_type": "stream",
          "name": "stdout",
          "text": [
            "/content/drive/MyDrive/GL/ATA/input_data.xlsx\n"
          ]
        }
      ]
    },
    {
      "cell_type": "code",
      "metadata": {
        "id": "oXo1BQMvN_Iv"
      },
      "source": [
        "def remove_lead_trail_space(text):\n",
        "  return text.strip()"
      ],
      "execution_count": 11,
      "outputs": []
    },
    {
      "cell_type": "code",
      "metadata": {
        "id": "F1u0Pb-VOCbv"
      },
      "source": [
        "def convert_to_lowercase(text):\n",
        "  return text.lower()"
      ],
      "execution_count": 12,
      "outputs": []
    },
    {
      "cell_type": "code",
      "metadata": {
        "id": "rWyNrEJ4OCh6"
      },
      "source": [
        "def remove_punctuation(text):\n",
        "    PUNCT_TO_REMOVE = string.punctuation\n",
        "    return text.translate(str.maketrans('', '', PUNCT_TO_REMOVE))"
      ],
      "execution_count": 13,
      "outputs": []
    },
    {
      "cell_type": "code",
      "metadata": {
        "id": "XD47v7W8OCny"
      },
      "source": [
        "def remove_digits(text):\n",
        "  digits_rem = ''.join((x for x in text if not x.isdigit()))\n",
        "  return digits_rem"
      ],
      "execution_count": 14,
      "outputs": []
    },
    {
      "cell_type": "code",
      "metadata": {
        "id": "kYKZDbQIOI7e"
      },
      "source": [
        "def remove_stopwords(text):\n",
        "    STOPWORDS = set(stopwords.words('english'))\n",
        "    return \" \".join([word for word in str(text).split() if word not in STOPWORDS])"
      ],
      "execution_count": 15,
      "outputs": []
    },
    {
      "cell_type": "code",
      "metadata": {
        "id": "MDS3BGdsOI_U"
      },
      "source": [
        "def lemmetize_text(text):\n",
        "  lemmatizer = WordNetLemmatizer()\n",
        "  word_list = nltk.word_tokenize(text)\n",
        "  lemmatized_output = ' '.join([lemmatizer.lemmatize(word) for word in word_list])\n",
        "  return lemmatized_output"
      ],
      "execution_count": 16,
      "outputs": []
    },
    {
      "cell_type": "code",
      "metadata": {
        "id": "aCjGTC5PjnWJ"
      },
      "source": [
        "def clean_mojibake(text):\n",
        "  cleaned_mojibake = ftfy.fix_text(text)\n",
        "  return cleaned_mojibake"
      ],
      "execution_count": 17,
      "outputs": []
    },
    {
      "cell_type": "code",
      "metadata": {
        "id": "ly85KgkMj-Ol"
      },
      "source": [
        "def translate_to_english(text):\n",
        "  translated_text = GoogleTranslator(source='auto', target='english').translate(text)\n",
        "  return translated_text"
      ],
      "execution_count": 18,
      "outputs": []
    },
    {
      "cell_type": "code",
      "metadata": {
        "id": "J5P93CL6HpIz"
      },
      "source": [
        "def remove_linebreaks(text):\n",
        "  text = text.replace(\"\\r\",\" \")\n",
        "  text = text.replace(\"\\n\",\" \")\n",
        "  text = text.replace(\"\\t\",\" \")\n",
        "  return text"
      ],
      "execution_count": 19,
      "outputs": []
    },
    {
      "cell_type": "code",
      "metadata": {
        "id": "9nVKp1yEVE_U"
      },
      "source": [
        "def extract_received_from_mail(text):\n",
        "  return_text = \"\"\n",
        "  match = re.search(r'received from: [\\w\\.-]+@[\\w\\.-]+', text)\n",
        "  if bool(match):\n",
        "    mail_match = re.search(r'[\\w\\.-]+@[\\w\\.-]+', match.group(0))\n",
        "    return_text = mail_match.group(0)\n",
        "  else:\n",
        "    return_text = \"No Match\"\n",
        "  return return_text"
      ],
      "execution_count": 20,
      "outputs": []
    },
    {
      "cell_type": "code",
      "metadata": {
        "id": "ZfI8CZD2yLGZ"
      },
      "source": [
        "def extract_subject_from_mail(text):\n",
        "  return_subject = \"\"\n",
        "  match_subject = re.search(r'subject:.*[\\r\\n\\t\\f\\v]', text)\n",
        "  if bool(match_subject):\n",
        "    return_subject = match_subject.group(0).replace('subject:',\"\")\n",
        "    return_subject = remove_linebreaks(return_subject)\n",
        "    return_subject = remove_lead_trail_space(return_subject)\n",
        "  else:\n",
        "    return_subject = \"No Match\"\n",
        "  return return_subject"
      ],
      "execution_count": 98,
      "outputs": []
    },
    {
      "cell_type": "code",
      "metadata": {
        "id": "inYR3fZ4bhRK"
      },
      "source": [
        "def remove_received_from_mail(text):\n",
        "  match = re.search(r'received from: [\\w\\.-]+@[\\w\\.-]+', text)\n",
        "  if bool(match):\n",
        "    text = text.replace(match.group(0),\"\")\n",
        "  return text"
      ],
      "execution_count": 21,
      "outputs": []
    },
    {
      "cell_type": "code",
      "metadata": {
        "id": "73AaBvuZJchh"
      },
      "source": [
        "def removed_from_to_sent_date(text):\n",
        "  ## Removes the occurances of \n",
        "  ## from: till any of the line breaks\n",
        "  ## to: till any of the line breaks\n",
        "  ## sent: till any of the line breaks\n",
        "  ## date: till any of the line breaks\n",
        "  ## cc: till any of the line breaks\n",
        "  ## subject: till any of the line breaks\n",
        "\n",
        "  match_from = re.search(r'from:.*[\\r\\n\\t\\f\\v]', text)\n",
        "  match_to = re.search(r'to:.*[\\r\\n\\t\\f\\v]', text)\n",
        "  match_sent = re.search(r'sent:.*[\\r\\n\\t\\f\\v]', text)\n",
        "  match_date = re.search(r'date:.*[\\r\\n\\t\\f\\v]', text)\n",
        "  match_cc = re.search(r'cc:.*[\\r\\n\\t\\f\\v]', text)\n",
        "  match_subject = re.search(r'subject:.*[\\r\\n\\t\\f\\v]', text)\n",
        "\n",
        "  if bool(match_from):\n",
        "    text = text.replace(match_from.group(0),\"\")\n",
        "\n",
        "  if bool(match_to):\n",
        "    text = text.replace(match_to.group(0),\"\")\n",
        "\n",
        "  if bool(match_sent):\n",
        "    text = text.replace(match_sent.group(0),\"\")\n",
        "\n",
        "  if bool(match_date):\n",
        "    text = text.replace(match_date.group(0),\"\")\n",
        "\n",
        "  if bool(match_cc):\n",
        "    text = text.replace(match_cc.group(0),\"\")\n",
        "\n",
        "  if bool(match_subject):\n",
        "    text = text.replace(match_subject.group(0),\"\")\n",
        "\n",
        "  return text"
      ],
      "execution_count": 99,
      "outputs": []
    },
    {
      "cell_type": "code",
      "metadata": {
        "id": "P5EVl-AuOJBE"
      },
      "source": [
        "def preprocess_text_part1(text):\n",
        "  text = clean_mojibake(text)\n",
        "  text = convert_to_lowercase(text)\n",
        "  return text"
      ],
      "execution_count": 100,
      "outputs": []
    },
    {
      "cell_type": "code",
      "metadata": {
        "id": "mTlp8UkxOJDd"
      },
      "source": [
        "def preprocess_text_part2(text):\n",
        "  text = remove_received_from_mail(text)\n",
        "  text = removed_from_to_sent_date(text)\n",
        "  text = remove_linebreaks(text)\n",
        "  text = remove_lead_trail_space(text)\n",
        "  text = remove_punctuation(text) \n",
        "  text = remove_digits(text)\n",
        "  #text = translate_to_english(text)\n",
        "  #text = remove_stopwords(text)\n",
        "  #text = lemmetize_text(text)\n",
        "  return text\n"
      ],
      "execution_count": 101,
      "outputs": []
    },
    {
      "cell_type": "code",
      "metadata": {
        "id": "VgoQZvvOOJGN"
      },
      "source": [
        ""
      ],
      "execution_count": 24,
      "outputs": []
    },
    {
      "cell_type": "code",
      "metadata": {
        "id": "FK973jgFOJJW"
      },
      "source": [
        ""
      ],
      "execution_count": 24,
      "outputs": []
    },
    {
      "cell_type": "code",
      "metadata": {
        "id": "QtoPQzGaOC4R"
      },
      "source": [
        ""
      ],
      "execution_count": 24,
      "outputs": []
    },
    {
      "cell_type": "code",
      "metadata": {
        "id": "febtX6TYfgqE"
      },
      "source": [
        "ata_data = pd.read_excel(ata_path) "
      ],
      "execution_count": 102,
      "outputs": []
    },
    {
      "cell_type": "code",
      "metadata": {
        "colab": {
          "base_uri": "https://localhost:8080/",
          "height": 310
        },
        "id": "IK1YlL23gBU7",
        "outputId": "70106a5a-a376-42c8-a442-ecc66f295125"
      },
      "source": [
        "ata_data.head()"
      ],
      "execution_count": 103,
      "outputs": [
        {
          "output_type": "execute_result",
          "data": {
            "text/html": [
              "<div>\n",
              "<style scoped>\n",
              "    .dataframe tbody tr th:only-of-type {\n",
              "        vertical-align: middle;\n",
              "    }\n",
              "\n",
              "    .dataframe tbody tr th {\n",
              "        vertical-align: top;\n",
              "    }\n",
              "\n",
              "    .dataframe thead th {\n",
              "        text-align: right;\n",
              "    }\n",
              "</style>\n",
              "<table border=\"1\" class=\"dataframe\">\n",
              "  <thead>\n",
              "    <tr style=\"text-align: right;\">\n",
              "      <th></th>\n",
              "      <th>Short description</th>\n",
              "      <th>Description</th>\n",
              "      <th>Caller</th>\n",
              "      <th>Assignment group</th>\n",
              "    </tr>\n",
              "  </thead>\n",
              "  <tbody>\n",
              "    <tr>\n",
              "      <th>0</th>\n",
              "      <td>login issue</td>\n",
              "      <td>-verified user details.(employee# &amp; manager name)\\r\\n-checked the user name in ad and reset the password.\\r\\n-advised the user to login and check.\\r\\n-caller confirmed that he was able to login.\\r\\n-issue resolved.</td>\n",
              "      <td>spxjnwir pjlcoqds</td>\n",
              "      <td>GRP_0</td>\n",
              "    </tr>\n",
              "    <tr>\n",
              "      <th>1</th>\n",
              "      <td>outlook</td>\n",
              "      <td>\\r\\n\\r\\nreceived from: hmjdrvpb.komuaywn@gmail.com\\r\\n\\r\\nhello team,\\r\\n\\r\\nmy meetings/skype meetings etc are not appearing in my outlook calendar, can somebody please advise how to correct this?\\r\\n\\r\\nkind</td>\n",
              "      <td>hmjdrvpb komuaywn</td>\n",
              "      <td>GRP_0</td>\n",
              "    </tr>\n",
              "    <tr>\n",
              "      <th>2</th>\n",
              "      <td>cant log in to vpn</td>\n",
              "      <td>\\r\\n\\r\\nreceived from: eylqgodm.ybqkwiam@gmail.com\\r\\n\\r\\nhi\\r\\n\\r\\ni cannot log on to vpn\\r\\n\\r\\nbest</td>\n",
              "      <td>eylqgodm ybqkwiam</td>\n",
              "      <td>GRP_0</td>\n",
              "    </tr>\n",
              "    <tr>\n",
              "      <th>3</th>\n",
              "      <td>unable to access hr_tool page</td>\n",
              "      <td>unable to access hr_tool page</td>\n",
              "      <td>xbkucsvz gcpydteq</td>\n",
              "      <td>GRP_0</td>\n",
              "    </tr>\n",
              "    <tr>\n",
              "      <th>4</th>\n",
              "      <td>skype error</td>\n",
              "      <td>skype error</td>\n",
              "      <td>owlgqjme qhcozdfx</td>\n",
              "      <td>GRP_0</td>\n",
              "    </tr>\n",
              "  </tbody>\n",
              "</table>\n",
              "</div>"
            ],
            "text/plain": [
              "               Short description  ... Assignment group\n",
              "0                    login issue  ...            GRP_0\n",
              "1                        outlook  ...            GRP_0\n",
              "2             cant log in to vpn  ...            GRP_0\n",
              "3  unable to access hr_tool page  ...            GRP_0\n",
              "4                   skype error   ...            GRP_0\n",
              "\n",
              "[5 rows x 4 columns]"
            ]
          },
          "metadata": {},
          "execution_count": 103
        }
      ]
    },
    {
      "cell_type": "code",
      "metadata": {
        "colab": {
          "base_uri": "https://localhost:8080/",
          "height": 310
        },
        "id": "1phX7B35gDW0",
        "outputId": "18b1c948-6079-4768-ee70-43e153a392a4"
      },
      "source": [
        "ata_data.tail()"
      ],
      "execution_count": 104,
      "outputs": [
        {
          "output_type": "execute_result",
          "data": {
            "text/html": [
              "<div>\n",
              "<style scoped>\n",
              "    .dataframe tbody tr th:only-of-type {\n",
              "        vertical-align: middle;\n",
              "    }\n",
              "\n",
              "    .dataframe tbody tr th {\n",
              "        vertical-align: top;\n",
              "    }\n",
              "\n",
              "    .dataframe thead th {\n",
              "        text-align: right;\n",
              "    }\n",
              "</style>\n",
              "<table border=\"1\" class=\"dataframe\">\n",
              "  <thead>\n",
              "    <tr style=\"text-align: right;\">\n",
              "      <th></th>\n",
              "      <th>Short description</th>\n",
              "      <th>Description</th>\n",
              "      <th>Caller</th>\n",
              "      <th>Assignment group</th>\n",
              "    </tr>\n",
              "  </thead>\n",
              "  <tbody>\n",
              "    <tr>\n",
              "      <th>8495</th>\n",
              "      <td>emails not coming in from zz mail</td>\n",
              "      <td>\\r\\n\\r\\nreceived from: avglmrts.vhqmtiua@gmail.com\\r\\n\\r\\ngood afternoon,\\r\\ni am not receiving the emails that i sent from zz mail.\\r\\nplease advise\\r\\n\\r\\n</td>\n",
              "      <td>avglmrts vhqmtiua</td>\n",
              "      <td>GRP_29</td>\n",
              "    </tr>\n",
              "    <tr>\n",
              "      <th>8496</th>\n",
              "      <td>telephony_software issue</td>\n",
              "      <td>telephony_software issue</td>\n",
              "      <td>rbozivdq gmlhrtvp</td>\n",
              "      <td>GRP_0</td>\n",
              "    </tr>\n",
              "    <tr>\n",
              "      <th>8497</th>\n",
              "      <td>vip2: windows password reset for tifpdchb pedxruyf</td>\n",
              "      <td>vip2: windows password reset for tifpdchb pedxruyf</td>\n",
              "      <td>oybwdsgx oxyhwrfz</td>\n",
              "      <td>GRP_0</td>\n",
              "    </tr>\n",
              "    <tr>\n",
              "      <th>8498</th>\n",
              "      <td>machine nÃ£o estÃ¡ funcionando</td>\n",
              "      <td>i am unable to access the machine utilities to finish the drawers adjustment settings.\\r\\nis no network..</td>\n",
              "      <td>ufawcgob aowhxjky</td>\n",
              "      <td>GRP_62</td>\n",
              "    </tr>\n",
              "    <tr>\n",
              "      <th>8499</th>\n",
              "      <td>an mehreren pc`s lassen sich verschiedene prgramdntyme nicht Ã¶ffnen.</td>\n",
              "      <td>an mehreren pc`s lassen sich verschiedene prgramdntyme nicht Ã¶ffnen. bereich cnc.</td>\n",
              "      <td>kqvbrspl jyzoklfx</td>\n",
              "      <td>GRP_49</td>\n",
              "    </tr>\n",
              "  </tbody>\n",
              "</table>\n",
              "</div>"
            ],
            "text/plain": [
              "                                                           Short description  ... Assignment group\n",
              "8495                                       emails not coming in from zz mail  ...           GRP_29\n",
              "8496                                                telephony_software issue  ...            GRP_0\n",
              "8497                      vip2: windows password reset for tifpdchb pedxruyf  ...            GRP_0\n",
              "8498                                          machine nÃ£o estÃ¡ funcionando  ...           GRP_62\n",
              "8499  an mehreren pc`s lassen sich verschiedene prgramdntyme nicht Ã¶ffnen.   ...           GRP_49\n",
              "\n",
              "[5 rows x 4 columns]"
            ]
          },
          "metadata": {},
          "execution_count": 104
        }
      ]
    },
    {
      "cell_type": "code",
      "metadata": {
        "colab": {
          "base_uri": "https://localhost:8080/"
        },
        "id": "oxltLLFmgcAD",
        "outputId": "f20654fa-3715-4d32-cb6a-986d72e1fb74"
      },
      "source": [
        "ata_data.shape"
      ],
      "execution_count": 105,
      "outputs": [
        {
          "output_type": "execute_result",
          "data": {
            "text/plain": [
              "(8500, 4)"
            ]
          },
          "metadata": {},
          "execution_count": 105
        }
      ]
    },
    {
      "cell_type": "code",
      "metadata": {
        "colab": {
          "base_uri": "https://localhost:8080/"
        },
        "id": "_CKaUIToZqZf",
        "outputId": "f3367ec3-ebbb-4668-8279-59dd908ac121"
      },
      "source": [
        "ata_data.isnull().sum()"
      ],
      "execution_count": 106,
      "outputs": [
        {
          "output_type": "execute_result",
          "data": {
            "text/plain": [
              "Short description    8\n",
              "Description          1\n",
              "Caller               0\n",
              "Assignment group     0\n",
              "dtype: int64"
            ]
          },
          "metadata": {},
          "execution_count": 106
        }
      ]
    },
    {
      "cell_type": "markdown",
      "metadata": {
        "id": "dXmF2vaOaSJ4"
      },
      "source": [
        "There are some null values in Short Description & Description column and putting them in a different column for analysis purpose"
      ]
    },
    {
      "cell_type": "code",
      "metadata": {
        "colab": {
          "base_uri": "https://localhost:8080/",
          "height": 456
        },
        "id": "Xo5typntafF2",
        "outputId": "7c58863f-72c8-4325-d6c8-320036ca8d22"
      },
      "source": [
        "ata_data[ata_data['Short description'].isnull()]"
      ],
      "execution_count": 107,
      "outputs": [
        {
          "output_type": "execute_result",
          "data": {
            "text/html": [
              "<div>\n",
              "<style scoped>\n",
              "    .dataframe tbody tr th:only-of-type {\n",
              "        vertical-align: middle;\n",
              "    }\n",
              "\n",
              "    .dataframe tbody tr th {\n",
              "        vertical-align: top;\n",
              "    }\n",
              "\n",
              "    .dataframe thead th {\n",
              "        text-align: right;\n",
              "    }\n",
              "</style>\n",
              "<table border=\"1\" class=\"dataframe\">\n",
              "  <thead>\n",
              "    <tr style=\"text-align: right;\">\n",
              "      <th></th>\n",
              "      <th>Short description</th>\n",
              "      <th>Description</th>\n",
              "      <th>Caller</th>\n",
              "      <th>Assignment group</th>\n",
              "    </tr>\n",
              "  </thead>\n",
              "  <tbody>\n",
              "    <tr>\n",
              "      <th>2604</th>\n",
              "      <td>NaN</td>\n",
              "      <td>\\r\\n\\r\\nreceived from: ohdrnswl.rezuibdt@gmail.com\\r\\n\\r\\nhi,\\r\\n\\r\\n\\r\\n\\r\\nlink is not working. kindly resolve yhe issue on urgent basis.\\r\\n\\r\\n\\r\\n\\r\\nbest</td>\n",
              "      <td>ohdrnswl rezuibdt</td>\n",
              "      <td>GRP_34</td>\n",
              "    </tr>\n",
              "    <tr>\n",
              "      <th>3383</th>\n",
              "      <td>NaN</td>\n",
              "      <td>\\r\\n-connected to the user system using teamviewer.\\r\\n-help the user login to the portal.\\r\\n-issue resolved.</td>\n",
              "      <td>qftpazns fxpnytmk</td>\n",
              "      <td>GRP_0</td>\n",
              "    </tr>\n",
              "    <tr>\n",
              "      <th>3906</th>\n",
              "      <td>NaN</td>\n",
              "      <td>-user unable  tologin to vpn.\\r\\n-connected to the user system using teamviewer.\\r\\n-help the user login to the company vpn using the vpn company vpn link.\\r\\n-issue resolved.</td>\n",
              "      <td>awpcmsey ctdiuqwe</td>\n",
              "      <td>GRP_0</td>\n",
              "    </tr>\n",
              "    <tr>\n",
              "      <th>3910</th>\n",
              "      <td>NaN</td>\n",
              "      <td>-user unable  tologin to vpn.\\r\\n-connected to the user system using teamviewer.\\r\\n-help the user login to the company vpn using the vpn company vpn link.\\r\\n-issue resolved.</td>\n",
              "      <td>rhwsmefo tvphyura</td>\n",
              "      <td>GRP_0</td>\n",
              "    </tr>\n",
              "    <tr>\n",
              "      <th>3915</th>\n",
              "      <td>NaN</td>\n",
              "      <td>-user unable  tologin to vpn.\\r\\n-connected to the user system using teamviewer.\\r\\n-help the user login to the company vpn using the vpn company vpn link.\\r\\n-issue resolved.</td>\n",
              "      <td>hxripljo efzounig</td>\n",
              "      <td>GRP_0</td>\n",
              "    </tr>\n",
              "    <tr>\n",
              "      <th>3921</th>\n",
              "      <td>NaN</td>\n",
              "      <td>-user unable  tologin to vpn.\\r\\n-connected to the user system using teamviewer.\\r\\n-help the user login to the company vpn using the vpn company vpn link.\\r\\n-issue resolved.</td>\n",
              "      <td>cziadygo veiosxby</td>\n",
              "      <td>GRP_0</td>\n",
              "    </tr>\n",
              "    <tr>\n",
              "      <th>3924</th>\n",
              "      <td>NaN</td>\n",
              "      <td>name:wvqgbdhm fwchqjor\\nlanguage:\\nbrowser:microsoft internet explorer\\nemail:wvqgbdhm.fwchqjor@gmail.com\\ncustomer number:\\ntelephone:-not available\\nsummary:can't get into vpn - need to be on at 4:30 est and it wont' happen please help aerp!</td>\n",
              "      <td>wvqgbdhm fwchqjor</td>\n",
              "      <td>GRP_0</td>\n",
              "    </tr>\n",
              "    <tr>\n",
              "      <th>4341</th>\n",
              "      <td>NaN</td>\n",
              "      <td>\\r\\n\\r\\nreceived from: eqmuniov.ehxkcbgj@gmail.com\\r\\n\\r\\ngood morning,\\r\\n\\r\\nwhen  trying to log on to erp i get this error below.\\r\\nplease help  urgently as i can not process customer order.\\r\\n\\r\\n[cid:image001.png@01d20f2e.751db880]\\r\\n\\r\\n\\r\\n</td>\n",
              "      <td>eqmuniov ehxkcbgj</td>\n",
              "      <td>GRP_0</td>\n",
              "    </tr>\n",
              "  </tbody>\n",
              "</table>\n",
              "</div>"
            ],
            "text/plain": [
              "     Short description  ... Assignment group\n",
              "2604               NaN  ...           GRP_34\n",
              "3383               NaN  ...            GRP_0\n",
              "3906               NaN  ...            GRP_0\n",
              "3910               NaN  ...            GRP_0\n",
              "3915               NaN  ...            GRP_0\n",
              "3921               NaN  ...            GRP_0\n",
              "3924               NaN  ...            GRP_0\n",
              "4341               NaN  ...            GRP_0\n",
              "\n",
              "[8 rows x 4 columns]"
            ]
          },
          "metadata": {},
          "execution_count": 107
        }
      ]
    },
    {
      "cell_type": "code",
      "metadata": {
        "colab": {
          "base_uri": "https://localhost:8080/",
          "height": 81
        },
        "id": "WkV0ry7xafRv",
        "outputId": "e3a1ca16-764a-48da-883a-3d48677eea20"
      },
      "source": [
        "ata_data[ata_data['Description'].isnull()]"
      ],
      "execution_count": 108,
      "outputs": [
        {
          "output_type": "execute_result",
          "data": {
            "text/html": [
              "<div>\n",
              "<style scoped>\n",
              "    .dataframe tbody tr th:only-of-type {\n",
              "        vertical-align: middle;\n",
              "    }\n",
              "\n",
              "    .dataframe tbody tr th {\n",
              "        vertical-align: top;\n",
              "    }\n",
              "\n",
              "    .dataframe thead th {\n",
              "        text-align: right;\n",
              "    }\n",
              "</style>\n",
              "<table border=\"1\" class=\"dataframe\">\n",
              "  <thead>\n",
              "    <tr style=\"text-align: right;\">\n",
              "      <th></th>\n",
              "      <th>Short description</th>\n",
              "      <th>Description</th>\n",
              "      <th>Caller</th>\n",
              "      <th>Assignment group</th>\n",
              "    </tr>\n",
              "  </thead>\n",
              "  <tbody>\n",
              "    <tr>\n",
              "      <th>4395</th>\n",
              "      <td>i am locked out of skype</td>\n",
              "      <td>NaN</td>\n",
              "      <td>viyglzfo ajtfzpkb</td>\n",
              "      <td>GRP_0</td>\n",
              "    </tr>\n",
              "  </tbody>\n",
              "</table>\n",
              "</div>"
            ],
            "text/plain": [
              "             Short description Description             Caller Assignment group\n",
              "4395  i am locked out of skype         NaN  viyglzfo ajtfzpkb            GRP_0"
            ]
          },
          "metadata": {},
          "execution_count": 108
        }
      ]
    },
    {
      "cell_type": "code",
      "metadata": {
        "colab": {
          "base_uri": "https://localhost:8080/",
          "height": 456
        },
        "id": "ExVn8EFog6a-",
        "outputId": "d6251fcc-7b3b-4cf3-c45a-98f2c3364646"
      },
      "source": [
        "sd_null = ata_data[ata_data['Short description'].isnull()]\n",
        "sd_null"
      ],
      "execution_count": 109,
      "outputs": [
        {
          "output_type": "execute_result",
          "data": {
            "text/html": [
              "<div>\n",
              "<style scoped>\n",
              "    .dataframe tbody tr th:only-of-type {\n",
              "        vertical-align: middle;\n",
              "    }\n",
              "\n",
              "    .dataframe tbody tr th {\n",
              "        vertical-align: top;\n",
              "    }\n",
              "\n",
              "    .dataframe thead th {\n",
              "        text-align: right;\n",
              "    }\n",
              "</style>\n",
              "<table border=\"1\" class=\"dataframe\">\n",
              "  <thead>\n",
              "    <tr style=\"text-align: right;\">\n",
              "      <th></th>\n",
              "      <th>Short description</th>\n",
              "      <th>Description</th>\n",
              "      <th>Caller</th>\n",
              "      <th>Assignment group</th>\n",
              "    </tr>\n",
              "  </thead>\n",
              "  <tbody>\n",
              "    <tr>\n",
              "      <th>2604</th>\n",
              "      <td>NaN</td>\n",
              "      <td>\\r\\n\\r\\nreceived from: ohdrnswl.rezuibdt@gmail.com\\r\\n\\r\\nhi,\\r\\n\\r\\n\\r\\n\\r\\nlink is not working. kindly resolve yhe issue on urgent basis.\\r\\n\\r\\n\\r\\n\\r\\nbest</td>\n",
              "      <td>ohdrnswl rezuibdt</td>\n",
              "      <td>GRP_34</td>\n",
              "    </tr>\n",
              "    <tr>\n",
              "      <th>3383</th>\n",
              "      <td>NaN</td>\n",
              "      <td>\\r\\n-connected to the user system using teamviewer.\\r\\n-help the user login to the portal.\\r\\n-issue resolved.</td>\n",
              "      <td>qftpazns fxpnytmk</td>\n",
              "      <td>GRP_0</td>\n",
              "    </tr>\n",
              "    <tr>\n",
              "      <th>3906</th>\n",
              "      <td>NaN</td>\n",
              "      <td>-user unable  tologin to vpn.\\r\\n-connected to the user system using teamviewer.\\r\\n-help the user login to the company vpn using the vpn company vpn link.\\r\\n-issue resolved.</td>\n",
              "      <td>awpcmsey ctdiuqwe</td>\n",
              "      <td>GRP_0</td>\n",
              "    </tr>\n",
              "    <tr>\n",
              "      <th>3910</th>\n",
              "      <td>NaN</td>\n",
              "      <td>-user unable  tologin to vpn.\\r\\n-connected to the user system using teamviewer.\\r\\n-help the user login to the company vpn using the vpn company vpn link.\\r\\n-issue resolved.</td>\n",
              "      <td>rhwsmefo tvphyura</td>\n",
              "      <td>GRP_0</td>\n",
              "    </tr>\n",
              "    <tr>\n",
              "      <th>3915</th>\n",
              "      <td>NaN</td>\n",
              "      <td>-user unable  tologin to vpn.\\r\\n-connected to the user system using teamviewer.\\r\\n-help the user login to the company vpn using the vpn company vpn link.\\r\\n-issue resolved.</td>\n",
              "      <td>hxripljo efzounig</td>\n",
              "      <td>GRP_0</td>\n",
              "    </tr>\n",
              "    <tr>\n",
              "      <th>3921</th>\n",
              "      <td>NaN</td>\n",
              "      <td>-user unable  tologin to vpn.\\r\\n-connected to the user system using teamviewer.\\r\\n-help the user login to the company vpn using the vpn company vpn link.\\r\\n-issue resolved.</td>\n",
              "      <td>cziadygo veiosxby</td>\n",
              "      <td>GRP_0</td>\n",
              "    </tr>\n",
              "    <tr>\n",
              "      <th>3924</th>\n",
              "      <td>NaN</td>\n",
              "      <td>name:wvqgbdhm fwchqjor\\nlanguage:\\nbrowser:microsoft internet explorer\\nemail:wvqgbdhm.fwchqjor@gmail.com\\ncustomer number:\\ntelephone:-not available\\nsummary:can't get into vpn - need to be on at 4:30 est and it wont' happen please help aerp!</td>\n",
              "      <td>wvqgbdhm fwchqjor</td>\n",
              "      <td>GRP_0</td>\n",
              "    </tr>\n",
              "    <tr>\n",
              "      <th>4341</th>\n",
              "      <td>NaN</td>\n",
              "      <td>\\r\\n\\r\\nreceived from: eqmuniov.ehxkcbgj@gmail.com\\r\\n\\r\\ngood morning,\\r\\n\\r\\nwhen  trying to log on to erp i get this error below.\\r\\nplease help  urgently as i can not process customer order.\\r\\n\\r\\n[cid:image001.png@01d20f2e.751db880]\\r\\n\\r\\n\\r\\n</td>\n",
              "      <td>eqmuniov ehxkcbgj</td>\n",
              "      <td>GRP_0</td>\n",
              "    </tr>\n",
              "  </tbody>\n",
              "</table>\n",
              "</div>"
            ],
            "text/plain": [
              "     Short description  ... Assignment group\n",
              "2604               NaN  ...           GRP_34\n",
              "3383               NaN  ...            GRP_0\n",
              "3906               NaN  ...            GRP_0\n",
              "3910               NaN  ...            GRP_0\n",
              "3915               NaN  ...            GRP_0\n",
              "3921               NaN  ...            GRP_0\n",
              "3924               NaN  ...            GRP_0\n",
              "4341               NaN  ...            GRP_0\n",
              "\n",
              "[8 rows x 4 columns]"
            ]
          },
          "metadata": {},
          "execution_count": 109
        }
      ]
    },
    {
      "cell_type": "markdown",
      "metadata": {
        "id": "mYgi1a8IbGWE"
      },
      "source": [
        "Places where Short Description is null - replacing it with Description and vice versa."
      ]
    },
    {
      "cell_type": "code",
      "metadata": {
        "id": "eRF0joZpbFR7"
      },
      "source": [
        "ata_data['short_desc_analysis'] = np.where(ata_data['Short description'].isnull(), ata_data['Description'], ata_data['Short description'])\n",
        "ata_data['desc_analysis'] = np.where(ata_data['Description'].isnull(), ata_data['Short description'], ata_data['Description'])"
      ],
      "execution_count": 110,
      "outputs": []
    },
    {
      "cell_type": "code",
      "metadata": {
        "colab": {
          "base_uri": "https://localhost:8080/",
          "height": 380
        },
        "id": "RP5NTXSLZ4Zi",
        "outputId": "0cedaf8a-e6ba-4a36-c0c3-6605ed8847ff"
      },
      "source": [
        "ata_data.head()"
      ],
      "execution_count": 111,
      "outputs": [
        {
          "output_type": "execute_result",
          "data": {
            "text/html": [
              "<div>\n",
              "<style scoped>\n",
              "    .dataframe tbody tr th:only-of-type {\n",
              "        vertical-align: middle;\n",
              "    }\n",
              "\n",
              "    .dataframe tbody tr th {\n",
              "        vertical-align: top;\n",
              "    }\n",
              "\n",
              "    .dataframe thead th {\n",
              "        text-align: right;\n",
              "    }\n",
              "</style>\n",
              "<table border=\"1\" class=\"dataframe\">\n",
              "  <thead>\n",
              "    <tr style=\"text-align: right;\">\n",
              "      <th></th>\n",
              "      <th>Short description</th>\n",
              "      <th>Description</th>\n",
              "      <th>Caller</th>\n",
              "      <th>Assignment group</th>\n",
              "      <th>short_desc_analysis</th>\n",
              "      <th>desc_analysis</th>\n",
              "    </tr>\n",
              "  </thead>\n",
              "  <tbody>\n",
              "    <tr>\n",
              "      <th>0</th>\n",
              "      <td>login issue</td>\n",
              "      <td>-verified user details.(employee# &amp; manager name)\\r\\n-checked the user name in ad and reset the password.\\r\\n-advised the user to login and check.\\r\\n-caller confirmed that he was able to login.\\r\\n-issue resolved.</td>\n",
              "      <td>spxjnwir pjlcoqds</td>\n",
              "      <td>GRP_0</td>\n",
              "      <td>login issue</td>\n",
              "      <td>-verified user details.(employee# &amp; manager name)\\r\\n-checked the user name in ad and reset the password.\\r\\n-advised the user to login and check.\\r\\n-caller confirmed that he was able to login.\\r\\n-issue resolved.</td>\n",
              "    </tr>\n",
              "    <tr>\n",
              "      <th>1</th>\n",
              "      <td>outlook</td>\n",
              "      <td>\\r\\n\\r\\nreceived from: hmjdrvpb.komuaywn@gmail.com\\r\\n\\r\\nhello team,\\r\\n\\r\\nmy meetings/skype meetings etc are not appearing in my outlook calendar, can somebody please advise how to correct this?\\r\\n\\r\\nkind</td>\n",
              "      <td>hmjdrvpb komuaywn</td>\n",
              "      <td>GRP_0</td>\n",
              "      <td>outlook</td>\n",
              "      <td>\\r\\n\\r\\nreceived from: hmjdrvpb.komuaywn@gmail.com\\r\\n\\r\\nhello team,\\r\\n\\r\\nmy meetings/skype meetings etc are not appearing in my outlook calendar, can somebody please advise how to correct this?\\r\\n\\r\\nkind</td>\n",
              "    </tr>\n",
              "    <tr>\n",
              "      <th>2</th>\n",
              "      <td>cant log in to vpn</td>\n",
              "      <td>\\r\\n\\r\\nreceived from: eylqgodm.ybqkwiam@gmail.com\\r\\n\\r\\nhi\\r\\n\\r\\ni cannot log on to vpn\\r\\n\\r\\nbest</td>\n",
              "      <td>eylqgodm ybqkwiam</td>\n",
              "      <td>GRP_0</td>\n",
              "      <td>cant log in to vpn</td>\n",
              "      <td>\\r\\n\\r\\nreceived from: eylqgodm.ybqkwiam@gmail.com\\r\\n\\r\\nhi\\r\\n\\r\\ni cannot log on to vpn\\r\\n\\r\\nbest</td>\n",
              "    </tr>\n",
              "    <tr>\n",
              "      <th>3</th>\n",
              "      <td>unable to access hr_tool page</td>\n",
              "      <td>unable to access hr_tool page</td>\n",
              "      <td>xbkucsvz gcpydteq</td>\n",
              "      <td>GRP_0</td>\n",
              "      <td>unable to access hr_tool page</td>\n",
              "      <td>unable to access hr_tool page</td>\n",
              "    </tr>\n",
              "    <tr>\n",
              "      <th>4</th>\n",
              "      <td>skype error</td>\n",
              "      <td>skype error</td>\n",
              "      <td>owlgqjme qhcozdfx</td>\n",
              "      <td>GRP_0</td>\n",
              "      <td>skype error</td>\n",
              "      <td>skype error</td>\n",
              "    </tr>\n",
              "  </tbody>\n",
              "</table>\n",
              "</div>"
            ],
            "text/plain": [
              "               Short description  ...                                                                                                                                                                                                           desc_analysis\n",
              "0                    login issue  ...  -verified user details.(employee# & manager name)\\r\\n-checked the user name in ad and reset the password.\\r\\n-advised the user to login and check.\\r\\n-caller confirmed that he was able to login.\\r\\n-issue resolved.\n",
              "1                        outlook  ...      \\r\\n\\r\\nreceived from: hmjdrvpb.komuaywn@gmail.com\\r\\n\\r\\nhello team,\\r\\n\\r\\nmy meetings/skype meetings etc are not appearing in my outlook calendar, can somebody please advise how to correct this?\\r\\n\\r\\nkind \n",
              "2             cant log in to vpn  ...                                                                                                                 \\r\\n\\r\\nreceived from: eylqgodm.ybqkwiam@gmail.com\\r\\n\\r\\nhi\\r\\n\\r\\ni cannot log on to vpn\\r\\n\\r\\nbest \n",
              "3  unable to access hr_tool page  ...                                                                                                                                                                                           unable to access hr_tool page\n",
              "4                   skype error   ...                                                                                                                                                                                                            skype error \n",
              "\n",
              "[5 rows x 6 columns]"
            ]
          },
          "metadata": {},
          "execution_count": 111
        }
      ]
    },
    {
      "cell_type": "code",
      "metadata": {
        "colab": {
          "base_uri": "https://localhost:8080/"
        },
        "id": "3m4GSXfZbFeD",
        "outputId": "128b9787-e20b-4744-9a05-bd2eb614665b"
      },
      "source": [
        "ata_data.isnull().sum()"
      ],
      "execution_count": 112,
      "outputs": [
        {
          "output_type": "execute_result",
          "data": {
            "text/plain": [
              "Short description      8\n",
              "Description            1\n",
              "Caller                 0\n",
              "Assignment group       0\n",
              "short_desc_analysis    0\n",
              "desc_analysis          0\n",
              "dtype: int64"
            ]
          },
          "metadata": {},
          "execution_count": 112
        }
      ]
    },
    {
      "cell_type": "code",
      "metadata": {
        "colab": {
          "base_uri": "https://localhost:8080/",
          "height": 702
        },
        "id": "IVplfIK6iumO",
        "outputId": "e4740196-88a0-4d36-c4f2-0804b5525a3c"
      },
      "source": [
        "ata_data[ata_data['Short description'].isnull()]"
      ],
      "execution_count": 113,
      "outputs": [
        {
          "output_type": "execute_result",
          "data": {
            "text/html": [
              "<div>\n",
              "<style scoped>\n",
              "    .dataframe tbody tr th:only-of-type {\n",
              "        vertical-align: middle;\n",
              "    }\n",
              "\n",
              "    .dataframe tbody tr th {\n",
              "        vertical-align: top;\n",
              "    }\n",
              "\n",
              "    .dataframe thead th {\n",
              "        text-align: right;\n",
              "    }\n",
              "</style>\n",
              "<table border=\"1\" class=\"dataframe\">\n",
              "  <thead>\n",
              "    <tr style=\"text-align: right;\">\n",
              "      <th></th>\n",
              "      <th>Short description</th>\n",
              "      <th>Description</th>\n",
              "      <th>Caller</th>\n",
              "      <th>Assignment group</th>\n",
              "      <th>short_desc_analysis</th>\n",
              "      <th>desc_analysis</th>\n",
              "    </tr>\n",
              "  </thead>\n",
              "  <tbody>\n",
              "    <tr>\n",
              "      <th>2604</th>\n",
              "      <td>NaN</td>\n",
              "      <td>\\r\\n\\r\\nreceived from: ohdrnswl.rezuibdt@gmail.com\\r\\n\\r\\nhi,\\r\\n\\r\\n\\r\\n\\r\\nlink is not working. kindly resolve yhe issue on urgent basis.\\r\\n\\r\\n\\r\\n\\r\\nbest</td>\n",
              "      <td>ohdrnswl rezuibdt</td>\n",
              "      <td>GRP_34</td>\n",
              "      <td>\\r\\n\\r\\nreceived from: ohdrnswl.rezuibdt@gmail.com\\r\\n\\r\\nhi,\\r\\n\\r\\n\\r\\n\\r\\nlink is not working. kindly resolve yhe issue on urgent basis.\\r\\n\\r\\n\\r\\n\\r\\nbest</td>\n",
              "      <td>\\r\\n\\r\\nreceived from: ohdrnswl.rezuibdt@gmail.com\\r\\n\\r\\nhi,\\r\\n\\r\\n\\r\\n\\r\\nlink is not working. kindly resolve yhe issue on urgent basis.\\r\\n\\r\\n\\r\\n\\r\\nbest</td>\n",
              "    </tr>\n",
              "    <tr>\n",
              "      <th>3383</th>\n",
              "      <td>NaN</td>\n",
              "      <td>\\r\\n-connected to the user system using teamviewer.\\r\\n-help the user login to the portal.\\r\\n-issue resolved.</td>\n",
              "      <td>qftpazns fxpnytmk</td>\n",
              "      <td>GRP_0</td>\n",
              "      <td>\\r\\n-connected to the user system using teamviewer.\\r\\n-help the user login to the portal.\\r\\n-issue resolved.</td>\n",
              "      <td>\\r\\n-connected to the user system using teamviewer.\\r\\n-help the user login to the portal.\\r\\n-issue resolved.</td>\n",
              "    </tr>\n",
              "    <tr>\n",
              "      <th>3906</th>\n",
              "      <td>NaN</td>\n",
              "      <td>-user unable  tologin to vpn.\\r\\n-connected to the user system using teamviewer.\\r\\n-help the user login to the company vpn using the vpn company vpn link.\\r\\n-issue resolved.</td>\n",
              "      <td>awpcmsey ctdiuqwe</td>\n",
              "      <td>GRP_0</td>\n",
              "      <td>-user unable  tologin to vpn.\\r\\n-connected to the user system using teamviewer.\\r\\n-help the user login to the company vpn using the vpn company vpn link.\\r\\n-issue resolved.</td>\n",
              "      <td>-user unable  tologin to vpn.\\r\\n-connected to the user system using teamviewer.\\r\\n-help the user login to the company vpn using the vpn company vpn link.\\r\\n-issue resolved.</td>\n",
              "    </tr>\n",
              "    <tr>\n",
              "      <th>3910</th>\n",
              "      <td>NaN</td>\n",
              "      <td>-user unable  tologin to vpn.\\r\\n-connected to the user system using teamviewer.\\r\\n-help the user login to the company vpn using the vpn company vpn link.\\r\\n-issue resolved.</td>\n",
              "      <td>rhwsmefo tvphyura</td>\n",
              "      <td>GRP_0</td>\n",
              "      <td>-user unable  tologin to vpn.\\r\\n-connected to the user system using teamviewer.\\r\\n-help the user login to the company vpn using the vpn company vpn link.\\r\\n-issue resolved.</td>\n",
              "      <td>-user unable  tologin to vpn.\\r\\n-connected to the user system using teamviewer.\\r\\n-help the user login to the company vpn using the vpn company vpn link.\\r\\n-issue resolved.</td>\n",
              "    </tr>\n",
              "    <tr>\n",
              "      <th>3915</th>\n",
              "      <td>NaN</td>\n",
              "      <td>-user unable  tologin to vpn.\\r\\n-connected to the user system using teamviewer.\\r\\n-help the user login to the company vpn using the vpn company vpn link.\\r\\n-issue resolved.</td>\n",
              "      <td>hxripljo efzounig</td>\n",
              "      <td>GRP_0</td>\n",
              "      <td>-user unable  tologin to vpn.\\r\\n-connected to the user system using teamviewer.\\r\\n-help the user login to the company vpn using the vpn company vpn link.\\r\\n-issue resolved.</td>\n",
              "      <td>-user unable  tologin to vpn.\\r\\n-connected to the user system using teamviewer.\\r\\n-help the user login to the company vpn using the vpn company vpn link.\\r\\n-issue resolved.</td>\n",
              "    </tr>\n",
              "    <tr>\n",
              "      <th>3921</th>\n",
              "      <td>NaN</td>\n",
              "      <td>-user unable  tologin to vpn.\\r\\n-connected to the user system using teamviewer.\\r\\n-help the user login to the company vpn using the vpn company vpn link.\\r\\n-issue resolved.</td>\n",
              "      <td>cziadygo veiosxby</td>\n",
              "      <td>GRP_0</td>\n",
              "      <td>-user unable  tologin to vpn.\\r\\n-connected to the user system using teamviewer.\\r\\n-help the user login to the company vpn using the vpn company vpn link.\\r\\n-issue resolved.</td>\n",
              "      <td>-user unable  tologin to vpn.\\r\\n-connected to the user system using teamviewer.\\r\\n-help the user login to the company vpn using the vpn company vpn link.\\r\\n-issue resolved.</td>\n",
              "    </tr>\n",
              "    <tr>\n",
              "      <th>3924</th>\n",
              "      <td>NaN</td>\n",
              "      <td>name:wvqgbdhm fwchqjor\\nlanguage:\\nbrowser:microsoft internet explorer\\nemail:wvqgbdhm.fwchqjor@gmail.com\\ncustomer number:\\ntelephone:-not available\\nsummary:can't get into vpn - need to be on at 4:30 est and it wont' happen please help aerp!</td>\n",
              "      <td>wvqgbdhm fwchqjor</td>\n",
              "      <td>GRP_0</td>\n",
              "      <td>name:wvqgbdhm fwchqjor\\nlanguage:\\nbrowser:microsoft internet explorer\\nemail:wvqgbdhm.fwchqjor@gmail.com\\ncustomer number:\\ntelephone:-not available\\nsummary:can't get into vpn - need to be on at 4:30 est and it wont' happen please help aerp!</td>\n",
              "      <td>name:wvqgbdhm fwchqjor\\nlanguage:\\nbrowser:microsoft internet explorer\\nemail:wvqgbdhm.fwchqjor@gmail.com\\ncustomer number:\\ntelephone:-not available\\nsummary:can't get into vpn - need to be on at 4:30 est and it wont' happen please help aerp!</td>\n",
              "    </tr>\n",
              "    <tr>\n",
              "      <th>4341</th>\n",
              "      <td>NaN</td>\n",
              "      <td>\\r\\n\\r\\nreceived from: eqmuniov.ehxkcbgj@gmail.com\\r\\n\\r\\ngood morning,\\r\\n\\r\\nwhen  trying to log on to erp i get this error below.\\r\\nplease help  urgently as i can not process customer order.\\r\\n\\r\\n[cid:image001.png@01d20f2e.751db880]\\r\\n\\r\\n\\r\\n</td>\n",
              "      <td>eqmuniov ehxkcbgj</td>\n",
              "      <td>GRP_0</td>\n",
              "      <td>\\r\\n\\r\\nreceived from: eqmuniov.ehxkcbgj@gmail.com\\r\\n\\r\\ngood morning,\\r\\n\\r\\nwhen  trying to log on to erp i get this error below.\\r\\nplease help  urgently as i can not process customer order.\\r\\n\\r\\n[cid:image001.png@01d20f2e.751db880]\\r\\n\\r\\n\\r\\n</td>\n",
              "      <td>\\r\\n\\r\\nreceived from: eqmuniov.ehxkcbgj@gmail.com\\r\\n\\r\\ngood morning,\\r\\n\\r\\nwhen  trying to log on to erp i get this error below.\\r\\nplease help  urgently as i can not process customer order.\\r\\n\\r\\n[cid:image001.png@01d20f2e.751db880]\\r\\n\\r\\n\\r\\n</td>\n",
              "    </tr>\n",
              "  </tbody>\n",
              "</table>\n",
              "</div>"
            ],
            "text/plain": [
              "     Short description  ...                                                                                                                                                                                                                                               desc_analysis\n",
              "2604               NaN  ...                                                                                            \\r\\n\\r\\nreceived from: ohdrnswl.rezuibdt@gmail.com\\r\\n\\r\\nhi,\\r\\n\\r\\n\\r\\n\\r\\nlink is not working. kindly resolve yhe issue on urgent basis.\\r\\n\\r\\n\\r\\n\\r\\nbest \n",
              "3383               NaN  ...                                                                                                                                              \\r\\n-connected to the user system using teamviewer.\\r\\n-help the user login to the portal.\\r\\n-issue resolved.\n",
              "3906               NaN  ...                                                                             -user unable  tologin to vpn.\\r\\n-connected to the user system using teamviewer.\\r\\n-help the user login to the company vpn using the vpn company vpn link.\\r\\n-issue resolved.\n",
              "3910               NaN  ...                                                                             -user unable  tologin to vpn.\\r\\n-connected to the user system using teamviewer.\\r\\n-help the user login to the company vpn using the vpn company vpn link.\\r\\n-issue resolved.\n",
              "3915               NaN  ...                                                                             -user unable  tologin to vpn.\\r\\n-connected to the user system using teamviewer.\\r\\n-help the user login to the company vpn using the vpn company vpn link.\\r\\n-issue resolved.\n",
              "3921               NaN  ...                                                                             -user unable  tologin to vpn.\\r\\n-connected to the user system using teamviewer.\\r\\n-help the user login to the company vpn using the vpn company vpn link.\\r\\n-issue resolved.\n",
              "3924               NaN  ...         name:wvqgbdhm fwchqjor\\nlanguage:\\nbrowser:microsoft internet explorer\\nemail:wvqgbdhm.fwchqjor@gmail.com\\ncustomer number:\\ntelephone:-not available\\nsummary:can't get into vpn - need to be on at 4:30 est and it wont' happen please help aerp!\n",
              "4341               NaN  ...  \\r\\n\\r\\nreceived from: eqmuniov.ehxkcbgj@gmail.com\\r\\n\\r\\ngood morning,\\r\\n\\r\\nwhen  trying to log on to erp i get this error below.\\r\\nplease help  urgently as i can not process customer order.\\r\\n\\r\\n[cid:image001.png@01d20f2e.751db880]\\r\\n\\r\\n\\r\\n\n",
              "\n",
              "[8 rows x 6 columns]"
            ]
          },
          "metadata": {},
          "execution_count": 113
        }
      ]
    },
    {
      "cell_type": "markdown",
      "metadata": {
        "id": "axxl2oj2NicI"
      },
      "source": [
        "There are some messages which mentions that they are received from someone else.  Looking into the data to see such entries"
      ]
    },
    {
      "cell_type": "code",
      "metadata": {
        "colab": {
          "base_uri": "https://localhost:8080/",
          "height": 947
        },
        "id": "OX26TV9aN9e3",
        "outputId": "a4981dda-fbf5-4a42-b48e-e802e4241dd8"
      },
      "source": [
        "ata_data[ata_data['Description'].str.contains('received from:', case=False, na=False)]"
      ],
      "execution_count": 114,
      "outputs": [
        {
          "output_type": "execute_result",
          "data": {
            "text/html": [
              "<div>\n",
              "<style scoped>\n",
              "    .dataframe tbody tr th:only-of-type {\n",
              "        vertical-align: middle;\n",
              "    }\n",
              "\n",
              "    .dataframe tbody tr th {\n",
              "        vertical-align: top;\n",
              "    }\n",
              "\n",
              "    .dataframe thead th {\n",
              "        text-align: right;\n",
              "    }\n",
              "</style>\n",
              "<table border=\"1\" class=\"dataframe\">\n",
              "  <thead>\n",
              "    <tr style=\"text-align: right;\">\n",
              "      <th></th>\n",
              "      <th>Short description</th>\n",
              "      <th>Description</th>\n",
              "      <th>Caller</th>\n",
              "      <th>Assignment group</th>\n",
              "      <th>short_desc_analysis</th>\n",
              "      <th>desc_analysis</th>\n",
              "    </tr>\n",
              "  </thead>\n",
              "  <tbody>\n",
              "    <tr>\n",
              "      <th>1</th>\n",
              "      <td>outlook</td>\n",
              "      <td>\\r\\n\\r\\nreceived from: hmjdrvpb.komuaywn@gmail.com\\r\\n\\r\\nhello team,\\r\\n\\r\\nmy meetings/skype meetings etc are not appearing in my outlook calendar, can somebody please advise how to correct this?\\r\\n\\r\\nkind</td>\n",
              "      <td>hmjdrvpb komuaywn</td>\n",
              "      <td>GRP_0</td>\n",
              "      <td>outlook</td>\n",
              "      <td>\\r\\n\\r\\nreceived from: hmjdrvpb.komuaywn@gmail.com\\r\\n\\r\\nhello team,\\r\\n\\r\\nmy meetings/skype meetings etc are not appearing in my outlook calendar, can somebody please advise how to correct this?\\r\\n\\r\\nkind</td>\n",
              "    </tr>\n",
              "    <tr>\n",
              "      <th>2</th>\n",
              "      <td>cant log in to vpn</td>\n",
              "      <td>\\r\\n\\r\\nreceived from: eylqgodm.ybqkwiam@gmail.com\\r\\n\\r\\nhi\\r\\n\\r\\ni cannot log on to vpn\\r\\n\\r\\nbest</td>\n",
              "      <td>eylqgodm ybqkwiam</td>\n",
              "      <td>GRP_0</td>\n",
              "      <td>cant log in to vpn</td>\n",
              "      <td>\\r\\n\\r\\nreceived from: eylqgodm.ybqkwiam@gmail.com\\r\\n\\r\\nhi\\r\\n\\r\\ni cannot log on to vpn\\r\\n\\r\\nbest</td>\n",
              "    </tr>\n",
              "    <tr>\n",
              "      <th>16</th>\n",
              "      <td>unable to login to company vpn</td>\n",
              "      <td>\\n\\nreceived from: xyz@company.com\\n\\nhi,\\n\\ni am unable to login to company vpn website, trying to open a new session using the below link, but not able to get through pls help urgently as we are working from home tomorrow due to month end closing.</td>\n",
              "      <td>chobktqj qdamxfuc</td>\n",
              "      <td>GRP_0</td>\n",
              "      <td>unable to login to company vpn</td>\n",
              "      <td>\\n\\nreceived from: xyz@company.com\\n\\nhi,\\n\\ni am unable to login to company vpn website, trying to open a new session using the below link, but not able to get through pls help urgently as we are working from home tomorrow due to month end closing.</td>\n",
              "    </tr>\n",
              "    <tr>\n",
              "      <th>21</th>\n",
              "      <td>vpn issue</td>\n",
              "      <td>\\r\\n\\r\\nreceived from: ugephfta.hrbqkvij@gmail.com\\r\\n\\r\\nhello helpdesk\\r\\n\\r\\ni am not able to connect vpn from home office. couple f hours ago i was connected, now it is not working anymore. getting a message that my session expired but if i click on the link, nothing happens.\\r\\n\\r\\n[cid:image001.jpg@01d233aa.3f618be0]\\r\\n\\r\\n*********************\\r\\n\\r\\nneed help with your dynamics crm?\\r\\nclick here&lt;\\r\\n\\r\\nchat with a live agent regarding your dynamics crm questions now! click here&lt;\\r\\n\\r\\nbest</td>\n",
              "      <td>ugephfta hrbqkvij</td>\n",
              "      <td>GRP_0</td>\n",
              "      <td>vpn issue</td>\n",
              "      <td>\\r\\n\\r\\nreceived from: ugephfta.hrbqkvij@gmail.com\\r\\n\\r\\nhello helpdesk\\r\\n\\r\\ni am not able to connect vpn from home office. couple f hours ago i was connected, now it is not working anymore. getting a message that my session expired but if i click on the link, nothing happens.\\r\\n\\r\\n[cid:image001.jpg@01d233aa.3f618be0]\\r\\n\\r\\n*********************\\r\\n\\r\\nneed help with your dynamics crm?\\r\\nclick here&lt;\\r\\n\\r\\nchat with a live agent regarding your dynamics crm questions now! click here&lt;\\r\\n\\r\\nbest</td>\n",
              "    </tr>\n",
              "    <tr>\n",
              "      <th>24</th>\n",
              "      <td>vpn not working</td>\n",
              "      <td>\\n\\nreceived from: dceoufyz.saufqkmd@gmail.com\\n\\nhello,\\n\\ni'm not being able to connect to company network through the vpn. pls check.\\n\\ncc: sir-i am not being able to upload as a result of no company network.\\n\\n</td>\n",
              "      <td>dceoufyz saufqkmd</td>\n",
              "      <td>GRP_0</td>\n",
              "      <td>vpn not working</td>\n",
              "      <td>\\n\\nreceived from: dceoufyz.saufqkmd@gmail.com\\n\\nhello,\\n\\ni'm not being able to connect to company network through the vpn. pls check.\\n\\ncc: sir-i am not being able to upload as a result of no company network.\\n\\n</td>\n",
              "    </tr>\n",
              "    <tr>\n",
              "      <th>...</th>\n",
              "      <td>...</td>\n",
              "      <td>...</td>\n",
              "      <td>...</td>\n",
              "      <td>...</td>\n",
              "      <td>...</td>\n",
              "      <td>...</td>\n",
              "    </tr>\n",
              "    <tr>\n",
              "      <th>8478</th>\n",
              "      <td>beenefits access on oneteam</td>\n",
              "      <td>\\n\\nreceived from: bjitvswa.yrmugfnq@gmail.com\\n\\nyesterday, it helped me access some additional information on oneteam.  but i still do not have a link showing for my benefits.  i tried to search and nothing pulls up.\\n\\ntgbtyim dgtalone\\nkey account manager\\nbjitvswa.yrmugfnq@gmail.com&lt;mailto:beyklcmj.bgfmrltw@gmail.com&gt;\\n</td>\n",
              "      <td>bjitvswa yrmugfnq</td>\n",
              "      <td>GRP_0</td>\n",
              "      <td>beenefits access on oneteam</td>\n",
              "      <td>\\n\\nreceived from: bjitvswa.yrmugfnq@gmail.com\\n\\nyesterday, it helped me access some additional information on oneteam.  but i still do not have a link showing for my benefits.  i tried to search and nothing pulls up.\\n\\ntgbtyim dgtalone\\nkey account manager\\nbjitvswa.yrmugfnq@gmail.com&lt;mailto:beyklcmj.bgfmrltw@gmail.com&gt;\\n</td>\n",
              "    </tr>\n",
              "    <tr>\n",
              "      <th>8480</th>\n",
              "      <td>customer group enhanced field</td>\n",
              "      <td>\\r\\n\\r\\nreceived from: nlearzwi.ukdzstwi@gmail.com\\r\\n\\r\\nhello,\\r\\n\\r\\na business decision has recently been made to view mfg_tooltion (customer classification ik) as indirect sales going forward. currently in the bex system they are classified as direct.\\r\\n\\r\\ncan you please modify the \"cust grp 1 â€“ enhanced\" field (0cust_sales__zcustgrp1) to show mfg_tooltion (customer classification ik) customers as indirect.\\r\\n[cid:image001.png@01d1ee74.cc06a6a0]\\r\\n\\r\\nthis field is used in several bex and hana reports (sales v plan, product management, otc billings, etc). let me know if you have any questions.\\r\\n\\r\\nbest</td>\n",
              "      <td>nlearzwi ukdzstwi</td>\n",
              "      <td>GRP_9</td>\n",
              "      <td>customer group enhanced field</td>\n",
              "      <td>\\r\\n\\r\\nreceived from: nlearzwi.ukdzstwi@gmail.com\\r\\n\\r\\nhello,\\r\\n\\r\\na business decision has recently been made to view mfg_tooltion (customer classification ik) as indirect sales going forward. currently in the bex system they are classified as direct.\\r\\n\\r\\ncan you please modify the \"cust grp 1 â€“ enhanced\" field (0cust_sales__zcustgrp1) to show mfg_tooltion (customer classification ik) customers as indirect.\\r\\n[cid:image001.png@01d1ee74.cc06a6a0]\\r\\n\\r\\nthis field is used in several bex and hana reports (sales v plan, product management, otc billings, etc). let me know if you have any questions.\\r\\n\\r\\nbest</td>\n",
              "    </tr>\n",
              "    <tr>\n",
              "      <th>8481</th>\n",
              "      <td>ess portal</td>\n",
              "      <td>\\n\\nreceived from: eagvusbr.nguqityl@gmail.com\\n\\nhi team,\\n\\ni was going into the ess file and checking some things for the ytd and this is the screen that shows up.  this is on my report tab when i am logged into vpn.  please assist in getting this to english.\\n[cid:image001.jpg@01d1ee74.0a355760]\\n\\n\\n\\neagvusbr nguqityl\\nsales engineer\\n\\n</td>\n",
              "      <td>eagvusbr nguqityl</td>\n",
              "      <td>GRP_9</td>\n",
              "      <td>ess portal</td>\n",
              "      <td>\\n\\nreceived from: eagvusbr.nguqityl@gmail.com\\n\\nhi team,\\n\\ni was going into the ess file and checking some things for the ytd and this is the screen that shows up.  this is on my report tab when i am logged into vpn.  please assist in getting this to english.\\n[cid:image001.jpg@01d1ee74.0a355760]\\n\\n\\n\\neagvusbr nguqityl\\nsales engineer\\n\\n</td>\n",
              "    </tr>\n",
              "    <tr>\n",
              "      <th>8491</th>\n",
              "      <td>vpn for laptop</td>\n",
              "      <td>\\n\\nreceived from: jxgobwrm.qkugdipo@gmail.com\\n\\ni need a vpn for my new laptop. name llv8517416\\n\\nknethyen grechduy\\nengineer, product engineering\\ncompany\\njxgobwrm.qkugdipo@gmail.com&lt;mailto:jxgobwrm.qkugdipo@gmail.com&gt;\\n\\n</td>\n",
              "      <td>jxgobwrm qkugdipo</td>\n",
              "      <td>GRP_34</td>\n",
              "      <td>vpn for laptop</td>\n",
              "      <td>\\n\\nreceived from: jxgobwrm.qkugdipo@gmail.com\\n\\ni need a vpn for my new laptop. name llv8517416\\n\\nknethyen grechduy\\nengineer, product engineering\\ncompany\\njxgobwrm.qkugdipo@gmail.com&lt;mailto:jxgobwrm.qkugdipo@gmail.com&gt;\\n\\n</td>\n",
              "    </tr>\n",
              "    <tr>\n",
              "      <th>8495</th>\n",
              "      <td>emails not coming in from zz mail</td>\n",
              "      <td>\\r\\n\\r\\nreceived from: avglmrts.vhqmtiua@gmail.com\\r\\n\\r\\ngood afternoon,\\r\\ni am not receiving the emails that i sent from zz mail.\\r\\nplease advise\\r\\n\\r\\n</td>\n",
              "      <td>avglmrts vhqmtiua</td>\n",
              "      <td>GRP_29</td>\n",
              "      <td>emails not coming in from zz mail</td>\n",
              "      <td>\\r\\n\\r\\nreceived from: avglmrts.vhqmtiua@gmail.com\\r\\n\\r\\ngood afternoon,\\r\\ni am not receiving the emails that i sent from zz mail.\\r\\nplease advise\\r\\n\\r\\n</td>\n",
              "    </tr>\n",
              "  </tbody>\n",
              "</table>\n",
              "<p>2251 rows × 6 columns</p>\n",
              "</div>"
            ],
            "text/plain": [
              "                      Short description  ...                                                                                                                                                                                                                                                                                                                                                                                                                                                                                                                                                                                                                                     desc_analysis\n",
              "1                               outlook  ...                                                                                                                                                                                                                                                                                                                                                                                                                                \\r\\n\\r\\nreceived from: hmjdrvpb.komuaywn@gmail.com\\r\\n\\r\\nhello team,\\r\\n\\r\\nmy meetings/skype meetings etc are not appearing in my outlook calendar, can somebody please advise how to correct this?\\r\\n\\r\\nkind \n",
              "2                    cant log in to vpn  ...                                                                                                                                                                                                                                                                                                                                                                                                                                                                                                                                           \\r\\n\\r\\nreceived from: eylqgodm.ybqkwiam@gmail.com\\r\\n\\r\\nhi\\r\\n\\r\\ni cannot log on to vpn\\r\\n\\r\\nbest \n",
              "16       unable to login to company vpn  ...                                                                                                                                                                                                                                                                                                                                                                                        \\n\\nreceived from: xyz@company.com\\n\\nhi,\\n\\ni am unable to login to company vpn website, trying to open a new session using the below link, but not able to get through pls help urgently as we are working from home tomorrow due to month end closing. \n",
              "21                            vpn issue  ...                                                                                                                       \\r\\n\\r\\nreceived from: ugephfta.hrbqkvij@gmail.com\\r\\n\\r\\nhello helpdesk\\r\\n\\r\\ni am not able to connect vpn from home office. couple f hours ago i was connected, now it is not working anymore. getting a message that my session expired but if i click on the link, nothing happens.\\r\\n\\r\\n[cid:image001.jpg@01d233aa.3f618be0]\\r\\n\\r\\n*********************\\r\\n\\r\\nneed help with your dynamics crm?\\r\\nclick here<\\r\\n\\r\\nchat with a live agent regarding your dynamics crm questions now! click here<\\r\\n\\r\\nbest \n",
              "24                      vpn not working  ...                                                                                                                                                                                                                                                                                                                                                                                                                          \\n\\nreceived from: dceoufyz.saufqkmd@gmail.com\\n\\nhello,\\n\\ni'm not being able to connect to company network through the vpn. pls check.\\n\\ncc: sir-i am not being able to upload as a result of no company network.\\n\\n\n",
              "...                                 ...  ...                                                                                                                                                                                                                                                                                                                                                                                                                                                                                                                                                                                                                                               ...\n",
              "8478        beenefits access on oneteam  ...                                                                                                                                                                                                                                                                                                            \\n\\nreceived from: bjitvswa.yrmugfnq@gmail.com\\n\\nyesterday, it helped me access some additional information on oneteam.  but i still do not have a link showing for my benefits.  i tried to search and nothing pulls up.\\n\\ntgbtyim dgtalone\\nkey account manager\\nbjitvswa.yrmugfnq@gmail.com<mailto:beyklcmj.bgfmrltw@gmail.com>\\n\n",
              "8480      customer group enhanced field  ...  \\r\\n\\r\\nreceived from: nlearzwi.ukdzstwi@gmail.com\\r\\n\\r\\nhello,\\r\\n\\r\\na business decision has recently been made to view mfg_tooltion (customer classification ik) as indirect sales going forward. currently in the bex system they are classified as direct.\\r\\n\\r\\ncan you please modify the \"cust grp 1 â€“ enhanced\" field (0cust_sales__zcustgrp1) to show mfg_tooltion (customer classification ik) customers as indirect.\\r\\n[cid:image001.png@01d1ee74.cc06a6a0]\\r\\n\\r\\nthis field is used in several bex and hana reports (sales v plan, product management, otc billings, etc). let me know if you have any questions.\\r\\n\\r\\nbest \n",
              "8481                         ess portal  ...                                                                                                                                                                                                                                                                                         \\n\\nreceived from: eagvusbr.nguqityl@gmail.com\\n\\nhi team,\\n\\ni was going into the ess file and checking some things for the ytd and this is the screen that shows up.  this is on my report tab when i am logged into vpn.  please assist in getting this to english.\\n[cid:image001.jpg@01d1ee74.0a355760]\\n\\n\\n\\neagvusbr nguqityl\\nsales engineer\\n\\n\n",
              "8491                     vpn for laptop  ...                                                                                                                                                                                                                                                                                                                                                                                                               \\n\\nreceived from: jxgobwrm.qkugdipo@gmail.com\\n\\ni need a vpn for my new laptop. name llv8517416\\n\\nknethyen grechduy\\nengineer, product engineering\\ncompany\\njxgobwrm.qkugdipo@gmail.com<mailto:jxgobwrm.qkugdipo@gmail.com>\\n\\n\n",
              "8495  emails not coming in from zz mail  ...                                                                                                                                                                                                                                                                                                                                                                                                                                                                                     \\r\\n\\r\\nreceived from: avglmrts.vhqmtiua@gmail.com\\r\\n\\r\\ngood afternoon,\\r\\ni am not receiving the emails that i sent from zz mail.\\r\\nplease advise\\r\\n\\r\\n\n",
              "\n",
              "[2251 rows x 6 columns]"
            ]
          },
          "metadata": {},
          "execution_count": 114
        }
      ]
    },
    {
      "cell_type": "markdown",
      "metadata": {
        "id": "ub5MpnDTRCiH"
      },
      "source": [
        "There are 2251 such records.  Getting that information in another column"
      ]
    },
    {
      "cell_type": "code",
      "metadata": {
        "id": "Btz2aKyhN9k1",
        "colab": {
          "base_uri": "https://localhost:8080/",
          "height": 1000
        },
        "outputId": "951f7df6-beec-4920-dde3-3820308d8070"
      },
      "source": [
        "ata_data[ata_data['Description'].str.contains('to:', case=False, na=False)].head()"
      ],
      "execution_count": 125,
      "outputs": [
        {
          "output_type": "execute_result",
          "data": {
            "text/html": [
              "<div>\n",
              "<style scoped>\n",
              "    .dataframe tbody tr th:only-of-type {\n",
              "        vertical-align: middle;\n",
              "    }\n",
              "\n",
              "    .dataframe tbody tr th {\n",
              "        vertical-align: top;\n",
              "    }\n",
              "\n",
              "    .dataframe thead th {\n",
              "        text-align: right;\n",
              "    }\n",
              "</style>\n",
              "<table border=\"1\" class=\"dataframe\">\n",
              "  <thead>\n",
              "    <tr style=\"text-align: right;\">\n",
              "      <th></th>\n",
              "      <th>Short description</th>\n",
              "      <th>Description</th>\n",
              "      <th>Caller</th>\n",
              "      <th>Assignment group</th>\n",
              "      <th>short_desc_analysis</th>\n",
              "      <th>desc_analysis</th>\n",
              "      <th>mail_received_from</th>\n",
              "      <th>mail_subject_mentioned</th>\n",
              "    </tr>\n",
              "  </thead>\n",
              "  <tbody>\n",
              "    <tr>\n",
              "      <th>53</th>\n",
              "      <td>reset scm_software password</td>\n",
              "      <td>\\n\\nreceived from: cdbaoqts.wqbsodni@gmail.com\\n\\nhello,\\n\\nplease reset my scm_software password.\\n\\n\\ncdbaoqts wqbsodni\\nglobal product manager, markhtyeting initiatives\\ncdbaoqts.wqbsodni@gmail.com&lt;mailto:cdbaoqts.wqbsodni@gmail.com&gt;\\n\\n\\n\\n\\n\\n</td>\n",
              "      <td>cdbaoqts wqbsodni</td>\n",
              "      <td>GRP_0</td>\n",
              "      <td>reset scmsoftware password</td>\n",
              "      <td>hello  please reset my scmsoftware password   cdbaoqts wqbsodni global product manager markhtyeting initiatives cdbaoqtswqbsodnigmailcommail</td>\n",
              "      <td>cdbaoqts.wqbsodni@gmail.com</td>\n",
              "      <td>No Match</td>\n",
              "    </tr>\n",
              "    <tr>\n",
              "      <th>100</th>\n",
              "      <td>re: ess portal access issue</td>\n",
              "      <td>\\n\\nreceived from: noscwdpm.akiowsmp@gmail.com\\n\\nhello,\\n\\nhe is an kiosk user.  please reset the password and confirm.\\n\\n\\nnoscwdpm akiowsmp\\nnoscwdpm.akiowsmp@gmail.com\\n\\nfrom: ihkolepb ozhnjyef\\nsent: 29 october 2016 13:38\\nto: company@ticketing_tool.com\\nsubject: ess portal access issue\\n\\nhi,\\n\\nbelow mentioned employee krlszbqo spimolgz with user id sv123 is not able to login to ess portal to access his pay slips and related contents. he is a attendance_tool user. please reset his user id and password and revert back.\\n\\n</td>\n",
              "      <td>noscwdpm akiowsmp</td>\n",
              "      <td>GRP_0</td>\n",
              "      <td>re ess portal access issue</td>\n",
              "      <td>hello  he is an kiosk user  please reset the password and confirm   noscwdpm akiowsmp noscwdpmakiowsmpgmailcom   hi  below mentioned employee krlszbqo spimolgz with user id sv is not able to login to ess portal to access his pay slips and related contents he is a attendancetool user please reset his user id and password and revert back</td>\n",
              "      <td>noscwdpm.akiowsmp@gmail.com</td>\n",
              "      <td>ess portal access issue</td>\n",
              "    </tr>\n",
              "    <tr>\n",
              "      <th>124</th>\n",
              "      <td>mobile device activation</td>\n",
              "      <td>from: tvcdfqgp nrbcqwgj \\nsent: friday, october 28, 2016 3:13 pm\\nto: nwfodmhc exurcwkm\\nsubject:  se ha bloqueado en forma temporal la sincronizaciÃ³n de su dispositivo mÃ³vil mediante exchange activesync hasta que su administrador autorice el acceso.\\n\\nhi\\n\\ni received this message and our local it expert has told me to open a ticket.\\n\\n</td>\n",
              "      <td>tvcdfqgp nrbcqwgj</td>\n",
              "      <td>GRP_0</td>\n",
              "      <td>mobile device activation</td>\n",
              "      <td>hi  i received this message and our local it expert has told me to open a ticket</td>\n",
              "      <td>No Match</td>\n",
              "      <td>se ha bloqueado en forma temporal la sincronización de su dispositivo móvil mediante exchange activesync hasta que su administrador autorice el acceso.</td>\n",
              "    </tr>\n",
              "    <tr>\n",
              "      <th>151</th>\n",
              "      <td>i used to have acces to this location on collaboration_platform.  now i do not. i need access.</td>\n",
              "      <td>\\n\\nreceived from: bwfhtumx.japznrvb@gmail.com\\n\\n\\n\\n[cid:image001.jpg@01d230f7.8bb4e830]\\n\\nbwfhtumx japznrvb \\nregional controller\\nbwfhtumx.japznrvb@gmail.com&lt;mailto:bwfhtumx.japznrvb@gmail.com&gt;\\n\\n\\n\\n</td>\n",
              "      <td>bwfhtumx japznrvb</td>\n",
              "      <td>GRP_16</td>\n",
              "      <td>i used to have acces to this location on collaborationplatform  now i do not i need access</td>\n",
              "      <td>cidimagejpgdfbbe  bwfhtumx japznrvb  regional controller bwfhtumxjapznrvbgmailcommail</td>\n",
              "      <td>bwfhtumx.japznrvb@gmail.com</td>\n",
              "      <td>No Match</td>\n",
              "    </tr>\n",
              "    <tr>\n",
              "      <th>162</th>\n",
              "      <td>access to bex</td>\n",
              "      <td>\\r\\n\\r\\nreceived from: yfqoaepn.xnezhsit@gmail.com\\r\\n\\r\\nhello,\\r\\n\\r\\ntill last week i was accessing bex reports using mms portal and there were no issues.\\r\\n\\r\\nstarting this week the system is incredibly slow when i log in and finally does not allow me to access any reports.\\r\\n\\r\\ncan it be the issue with any maintenance or my access rights or rather i should try to access bex using different way?\\r\\n\\r\\nbelow the print screen from what i see after log in:\\r\\n[cid:image001.png@01d2310c.f184b360]\\r\\n\\r\\ni am also able to get to finance reports (see below), however when i click \"profitability analysis\" (as i was always doing) separate window is open however apart rom that the screen is blank.\\r\\n[cid:image002.png@01d2310c.f184b360]\\r\\n\\r\\n\\r\\ni appreciate your support.\\r\\n\\r\\nhave a great day â˜º\\r\\n\\r\\nrobhyertyj\\r\\n\\r\\n\\r\\nyfqoaepn xnezhsit\\r\\nmanaging director\\r\\nfinance manager cee\\r\\nyfqoaepn.xnezhsit@gmail.com&lt;mailto:yfqoaepn.xnezhsit@gmail.com&gt;\\r\\ntel:+48(61)7767671\\r\\nmob:+48 694 425 760\\r\\n\\r\\ncompany polska sp. z o.o. , ul. krzywoustego 7, 61-144 poznaÅ„, www.company.com&lt;\\r\\n\\r\\ncompany polska sp. z o.o. z siedzibÄ… w polandiu, 61-144 poznaÅ„, ul. krzywoustego 7.\\r\\nspÃ³Å‚ka zarejestrowana w sÄ…dzie rejonowym poznaÅ„-nowe miasto i wilda w polandiu, wydziaÅ‚ viii gospodarczy krs pod numerem 1111286691.\\r\\nkapitaÅ‚ zakÅ‚adowy 100 000 pln, nip 954-20-87-982.\\r\\n\\r\\n\\r\\n\\r\\n\\r\\n\\r\\n</td>\n",
              "      <td>yfqoaepn xnezhsit</td>\n",
              "      <td>GRP_0</td>\n",
              "      <td>access to bex</td>\n",
              "      <td>hello  till last week i was accessing bex reports using mms portal and there were no issues  starting this week the system is incredibly slow when i log in and finally does not allow me to access any reports  can it be the issue with any maintenance or my access rights or rather i should try to access bex using different way  below the print screen from what i see after log in cidimagepngdcfb  i am also able to get to finance reports see below however when i click profitability analysis as i was always doing separate window is open however apart rom that the screen is blank cidimagepngdcfb   i appreciate your support  have a great day ☺  robhyertyj   yfqoaepn xnezhsit managing director finance manager cee yfqoaepnxnezhsitgmailcommailtel mob     company polska sp z oo  ul krzywoustego   poznań wwwcompanycom  company polska sp z oo z siedzibą w polandiu  poznań ul krzywoustego  spółka zarejestrowana w sądzie rejonowym poznańnowe miasto i wilda w polandiu wydział viii gospodarczy krs pod numerem  kapitał zakładowy   pln nip</td>\n",
              "      <td>yfqoaepn.xnezhsit@gmail.com</td>\n",
              "      <td>No Match</td>\n",
              "    </tr>\n",
              "  </tbody>\n",
              "</table>\n",
              "</div>"
            ],
            "text/plain": [
              "                                                                                  Short description  ...                                                                                                                                   mail_subject_mentioned\n",
              "53                                                                      reset scm_software password  ...                                                                                                                                                 No Match\n",
              "100                                                                     re: ess portal access issue  ...                                                                                                                                  ess portal access issue\n",
              "124                                                                        mobile device activation  ...  se ha bloqueado en forma temporal la sincronización de su dispositivo móvil mediante exchange activesync hasta que su administrador autorice el acceso.\n",
              "151  i used to have acces to this location on collaboration_platform.  now i do not. i need access.  ...                                                                                                                                                 No Match\n",
              "162                                                                                   access to bex  ...                                                                                                                                                 No Match\n",
              "\n",
              "[5 rows x 8 columns]"
            ]
          },
          "metadata": {},
          "execution_count": 125
        }
      ]
    },
    {
      "cell_type": "markdown",
      "metadata": {
        "id": "HQe9bg0wFOqy"
      },
      "source": [
        "There are some Description which are copy paste of mails.  We can see texts such as\n",
        "\n",
        "1. from:\n",
        "2. to:\n",
        "3. sent:\n",
        "4. date:\n",
        "5. cc:\n",
        "6. subject: \n",
        "\n",
        "We will remove such text from our analysis.  We will copy the subject to another column to see if it can be of use in future"
      ]
    },
    {
      "cell_type": "code",
      "metadata": {
        "id": "GsYvwAQ4gs2M",
        "colab": {
          "base_uri": "https://localhost:8080/",
          "height": 35
        },
        "outputId": "299c572f-1927-4e2a-a256-3c785639449e"
      },
      "source": [
        "ftfy.fix_text('aktuell kÃ¶nnen keine rÃ¼ckmeldungen in EU_tool eingegeben werden. fehler \"laufzeitfehler\".')"
      ],
      "execution_count": 72,
      "outputs": [
        {
          "output_type": "execute_result",
          "data": {
            "application/vnd.google.colaboratory.intrinsic+json": {
              "type": "string"
            },
            "text/plain": [
              "'aktuell können keine rückmeldungen in EU_tool eingegeben werden. fehler \"laufzeitfehler\".'"
            ]
          },
          "metadata": {},
          "execution_count": 72
        }
      ]
    },
    {
      "cell_type": "code",
      "metadata": {
        "colab": {
          "base_uri": "https://localhost:8080/",
          "height": 35
        },
        "id": "HhSSo1EBHXRO",
        "outputId": "334e875c-2c10-4cc7-c4f7-ca6a81879204"
      },
      "source": [
        "ftfy.fix_text('ç”µè„‘ç™»å½•å¯†ç å¿˜è®°ï¼Œé‡ç½®å¯†ç ã€‚')"
      ],
      "execution_count": 73,
      "outputs": [
        {
          "output_type": "execute_result",
          "data": {
            "application/vnd.google.colaboratory.intrinsic+json": {
              "type": "string"
            },
            "text/plain": [
              "'电脑登录密码忘记,重置密码。'"
            ]
          },
          "metadata": {},
          "execution_count": 73
        }
      ]
    },
    {
      "cell_type": "code",
      "metadata": {
        "colab": {
          "base_uri": "https://localhost:8080/",
          "height": 35
        },
        "id": "SZQQeCESJdVH",
        "outputId": "07f62afb-44af-42c6-bc48-3cd43f557431"
      },
      "source": [
        "ftfy.fix_text('skype error')"
      ],
      "execution_count": 74,
      "outputs": [
        {
          "output_type": "execute_result",
          "data": {
            "application/vnd.google.colaboratory.intrinsic+json": {
              "type": "string"
            },
            "text/plain": [
              "'skype error'"
            ]
          },
          "metadata": {},
          "execution_count": 74
        }
      ]
    },
    {
      "cell_type": "code",
      "metadata": {
        "colab": {
          "base_uri": "https://localhost:8080/"
        },
        "id": "WOrTXbOwKqKT",
        "outputId": "9ce2ae73-39f4-4034-96e4-0d297d89bc3c"
      },
      "source": [
        "to_translate = ftfy.fix_text('ç”µè„‘ç™»å½•å¯†ç å¿˜è®°ï¼Œé‡ç½®å¯†ç ã€‚')\n",
        "translated = GoogleTranslator(source='auto', target='english').translate(to_translate)\n",
        "\n",
        "print(translated)"
      ],
      "execution_count": 75,
      "outputs": [
        {
          "output_type": "stream",
          "name": "stdout",
          "text": [
            "If the computer login password is forgotten, reset the password.\n"
          ]
        }
      ]
    },
    {
      "cell_type": "code",
      "metadata": {
        "colab": {
          "base_uri": "https://localhost:8080/"
        },
        "id": "SJp9Mub_MK9r",
        "outputId": "7ae3921f-f52f-4d81-c365-d60b2189207a"
      },
      "source": [
        "to_translate = ftfy.fix_text('aktuell kÃ¶nnen keine rÃ¼ckmeldungen in EU_tool eingegeben werden. fehler \"laufzeitfehler\".')\n",
        "translated = GoogleTranslator(source='auto', target='english').translate(to_translate)\n",
        "\n",
        "print(translated)"
      ],
      "execution_count": 76,
      "outputs": [
        {
          "output_type": "stream",
          "name": "stdout",
          "text": [
            "No feedback can currently be entered in EU_tool. error \"runtime error\".\n"
          ]
        }
      ]
    },
    {
      "cell_type": "code",
      "metadata": {
        "colab": {
          "base_uri": "https://localhost:8080/"
        },
        "id": "1-KGtLW6Zqdz",
        "outputId": "9f5f9bfa-daf7-41d3-fadb-840438285540"
      },
      "source": [
        "to_translate = ftfy.fix_text('ç”µè„‘ç™»å½•å¯†ç å¿˜è®°ï¼Œé‡ç½®å¯†ç ã€‚')\n",
        "translated = GoogleTranslator(source='auto', target='english').translate(to_translate)\n",
        "\n",
        "print(translated)"
      ],
      "execution_count": 77,
      "outputs": [
        {
          "output_type": "stream",
          "name": "stdout",
          "text": [
            "If the computer login password is forgotten, reset the password.\n"
          ]
        }
      ]
    },
    {
      "cell_type": "code",
      "metadata": {
        "id": "eDUPWxZ4Zqhz"
      },
      "source": [
        ""
      ],
      "execution_count": 77,
      "outputs": []
    },
    {
      "cell_type": "code",
      "metadata": {
        "id": "sPmeXTkNW2B0"
      },
      "source": [
        ""
      ],
      "execution_count": 77,
      "outputs": []
    },
    {
      "cell_type": "code",
      "metadata": {
        "id": "-HmGbLaBMVtQ"
      },
      "source": [
        "ata_data['short_desc_analysis'] = ata_data['short_desc_analysis'].apply(preprocess_text_part1)\n",
        "ata_data['desc_analysis'] = ata_data['desc_analysis'].apply(preprocess_text_part1)"
      ],
      "execution_count": 115,
      "outputs": []
    },
    {
      "cell_type": "code",
      "metadata": {
        "colab": {
          "base_uri": "https://localhost:8080/",
          "height": 397
        },
        "id": "OXBQiTsbPBtM",
        "outputId": "d0eafa3e-7fed-4693-e17f-d3f581e05e0c"
      },
      "source": [
        "ata_data.head()"
      ],
      "execution_count": 116,
      "outputs": [
        {
          "output_type": "execute_result",
          "data": {
            "text/html": [
              "<div>\n",
              "<style scoped>\n",
              "    .dataframe tbody tr th:only-of-type {\n",
              "        vertical-align: middle;\n",
              "    }\n",
              "\n",
              "    .dataframe tbody tr th {\n",
              "        vertical-align: top;\n",
              "    }\n",
              "\n",
              "    .dataframe thead th {\n",
              "        text-align: right;\n",
              "    }\n",
              "</style>\n",
              "<table border=\"1\" class=\"dataframe\">\n",
              "  <thead>\n",
              "    <tr style=\"text-align: right;\">\n",
              "      <th></th>\n",
              "      <th>Short description</th>\n",
              "      <th>Description</th>\n",
              "      <th>Caller</th>\n",
              "      <th>Assignment group</th>\n",
              "      <th>short_desc_analysis</th>\n",
              "      <th>desc_analysis</th>\n",
              "    </tr>\n",
              "  </thead>\n",
              "  <tbody>\n",
              "    <tr>\n",
              "      <th>0</th>\n",
              "      <td>login issue</td>\n",
              "      <td>-verified user details.(employee# &amp; manager name)\\r\\n-checked the user name in ad and reset the password.\\r\\n-advised the user to login and check.\\r\\n-caller confirmed that he was able to login.\\r\\n-issue resolved.</td>\n",
              "      <td>spxjnwir pjlcoqds</td>\n",
              "      <td>GRP_0</td>\n",
              "      <td>login issue</td>\n",
              "      <td>-verified user details.(employee# &amp; manager name)\\n-checked the user name in ad and reset the password.\\n-advised the user to login and check.\\n-caller confirmed that he was able to login.\\n-issue resolved.</td>\n",
              "    </tr>\n",
              "    <tr>\n",
              "      <th>1</th>\n",
              "      <td>outlook</td>\n",
              "      <td>\\r\\n\\r\\nreceived from: hmjdrvpb.komuaywn@gmail.com\\r\\n\\r\\nhello team,\\r\\n\\r\\nmy meetings/skype meetings etc are not appearing in my outlook calendar, can somebody please advise how to correct this?\\r\\n\\r\\nkind</td>\n",
              "      <td>hmjdrvpb komuaywn</td>\n",
              "      <td>GRP_0</td>\n",
              "      <td>outlook</td>\n",
              "      <td>\\n\\nreceived from: hmjdrvpb.komuaywn@gmail.com\\n\\nhello team,\\n\\nmy meetings/skype meetings etc are not appearing in my outlook calendar, can somebody please advise how to correct this?\\n\\nkind</td>\n",
              "    </tr>\n",
              "    <tr>\n",
              "      <th>2</th>\n",
              "      <td>cant log in to vpn</td>\n",
              "      <td>\\r\\n\\r\\nreceived from: eylqgodm.ybqkwiam@gmail.com\\r\\n\\r\\nhi\\r\\n\\r\\ni cannot log on to vpn\\r\\n\\r\\nbest</td>\n",
              "      <td>eylqgodm ybqkwiam</td>\n",
              "      <td>GRP_0</td>\n",
              "      <td>cant log in to vpn</td>\n",
              "      <td>\\n\\nreceived from: eylqgodm.ybqkwiam@gmail.com\\n\\nhi\\n\\ni cannot log on to vpn\\n\\nbest</td>\n",
              "    </tr>\n",
              "    <tr>\n",
              "      <th>3</th>\n",
              "      <td>unable to access hr_tool page</td>\n",
              "      <td>unable to access hr_tool page</td>\n",
              "      <td>xbkucsvz gcpydteq</td>\n",
              "      <td>GRP_0</td>\n",
              "      <td>unable to access hr_tool page</td>\n",
              "      <td>unable to access hr_tool page</td>\n",
              "    </tr>\n",
              "    <tr>\n",
              "      <th>4</th>\n",
              "      <td>skype error</td>\n",
              "      <td>skype error</td>\n",
              "      <td>owlgqjme qhcozdfx</td>\n",
              "      <td>GRP_0</td>\n",
              "      <td>skype error</td>\n",
              "      <td>skype error</td>\n",
              "    </tr>\n",
              "  </tbody>\n",
              "</table>\n",
              "</div>"
            ],
            "text/plain": [
              "               Short description  ...                                                                                                                                                                                                   desc_analysis\n",
              "0                    login issue  ...  -verified user details.(employee# & manager name)\\n-checked the user name in ad and reset the password.\\n-advised the user to login and check.\\n-caller confirmed that he was able to login.\\n-issue resolved.\n",
              "1                        outlook  ...              \\n\\nreceived from: hmjdrvpb.komuaywn@gmail.com\\n\\nhello team,\\n\\nmy meetings/skype meetings etc are not appearing in my outlook calendar, can somebody please advise how to correct this?\\n\\nkind \n",
              "2             cant log in to vpn  ...                                                                                                                         \\n\\nreceived from: eylqgodm.ybqkwiam@gmail.com\\n\\nhi\\n\\ni cannot log on to vpn\\n\\nbest \n",
              "3  unable to access hr_tool page  ...                                                                                                                                                                                   unable to access hr_tool page\n",
              "4                   skype error   ...                                                                                                                                                                                                    skype error \n",
              "\n",
              "[5 rows x 6 columns]"
            ]
          },
          "metadata": {},
          "execution_count": 116
        }
      ]
    },
    {
      "cell_type": "code",
      "metadata": {
        "id": "lf72lCxgcaV0"
      },
      "source": [
        "ata_data['mail_received_from'] = ata_data['desc_analysis'].apply(extract_received_from_mail)\n",
        "ata_data['mail_subject_mentioned'] = ata_data['desc_analysis'].apply(extract_subject_from_mail)"
      ],
      "execution_count": 117,
      "outputs": []
    },
    {
      "cell_type": "code",
      "metadata": {
        "colab": {
          "base_uri": "https://localhost:8080/",
          "height": 504
        },
        "id": "r7UpfQ8mcagh",
        "outputId": "ce11dbbe-9f60-4a53-af0d-e7dd462e6770"
      },
      "source": [
        "ata_data.head()"
      ],
      "execution_count": 118,
      "outputs": [
        {
          "output_type": "execute_result",
          "data": {
            "text/html": [
              "<div>\n",
              "<style scoped>\n",
              "    .dataframe tbody tr th:only-of-type {\n",
              "        vertical-align: middle;\n",
              "    }\n",
              "\n",
              "    .dataframe tbody tr th {\n",
              "        vertical-align: top;\n",
              "    }\n",
              "\n",
              "    .dataframe thead th {\n",
              "        text-align: right;\n",
              "    }\n",
              "</style>\n",
              "<table border=\"1\" class=\"dataframe\">\n",
              "  <thead>\n",
              "    <tr style=\"text-align: right;\">\n",
              "      <th></th>\n",
              "      <th>Short description</th>\n",
              "      <th>Description</th>\n",
              "      <th>Caller</th>\n",
              "      <th>Assignment group</th>\n",
              "      <th>short_desc_analysis</th>\n",
              "      <th>desc_analysis</th>\n",
              "      <th>mail_received_from</th>\n",
              "      <th>mail_subject_mentioned</th>\n",
              "    </tr>\n",
              "  </thead>\n",
              "  <tbody>\n",
              "    <tr>\n",
              "      <th>0</th>\n",
              "      <td>login issue</td>\n",
              "      <td>-verified user details.(employee# &amp; manager name)\\r\\n-checked the user name in ad and reset the password.\\r\\n-advised the user to login and check.\\r\\n-caller confirmed that he was able to login.\\r\\n-issue resolved.</td>\n",
              "      <td>spxjnwir pjlcoqds</td>\n",
              "      <td>GRP_0</td>\n",
              "      <td>login issue</td>\n",
              "      <td>-verified user details.(employee# &amp; manager name)\\n-checked the user name in ad and reset the password.\\n-advised the user to login and check.\\n-caller confirmed that he was able to login.\\n-issue resolved.</td>\n",
              "      <td>No Match</td>\n",
              "      <td>No Match</td>\n",
              "    </tr>\n",
              "    <tr>\n",
              "      <th>1</th>\n",
              "      <td>outlook</td>\n",
              "      <td>\\r\\n\\r\\nreceived from: hmjdrvpb.komuaywn@gmail.com\\r\\n\\r\\nhello team,\\r\\n\\r\\nmy meetings/skype meetings etc are not appearing in my outlook calendar, can somebody please advise how to correct this?\\r\\n\\r\\nkind</td>\n",
              "      <td>hmjdrvpb komuaywn</td>\n",
              "      <td>GRP_0</td>\n",
              "      <td>outlook</td>\n",
              "      <td>\\n\\nreceived from: hmjdrvpb.komuaywn@gmail.com\\n\\nhello team,\\n\\nmy meetings/skype meetings etc are not appearing in my outlook calendar, can somebody please advise how to correct this?\\n\\nkind</td>\n",
              "      <td>hmjdrvpb.komuaywn@gmail.com</td>\n",
              "      <td>No Match</td>\n",
              "    </tr>\n",
              "    <tr>\n",
              "      <th>2</th>\n",
              "      <td>cant log in to vpn</td>\n",
              "      <td>\\r\\n\\r\\nreceived from: eylqgodm.ybqkwiam@gmail.com\\r\\n\\r\\nhi\\r\\n\\r\\ni cannot log on to vpn\\r\\n\\r\\nbest</td>\n",
              "      <td>eylqgodm ybqkwiam</td>\n",
              "      <td>GRP_0</td>\n",
              "      <td>cant log in to vpn</td>\n",
              "      <td>\\n\\nreceived from: eylqgodm.ybqkwiam@gmail.com\\n\\nhi\\n\\ni cannot log on to vpn\\n\\nbest</td>\n",
              "      <td>eylqgodm.ybqkwiam@gmail.com</td>\n",
              "      <td>No Match</td>\n",
              "    </tr>\n",
              "    <tr>\n",
              "      <th>3</th>\n",
              "      <td>unable to access hr_tool page</td>\n",
              "      <td>unable to access hr_tool page</td>\n",
              "      <td>xbkucsvz gcpydteq</td>\n",
              "      <td>GRP_0</td>\n",
              "      <td>unable to access hr_tool page</td>\n",
              "      <td>unable to access hr_tool page</td>\n",
              "      <td>No Match</td>\n",
              "      <td>No Match</td>\n",
              "    </tr>\n",
              "    <tr>\n",
              "      <th>4</th>\n",
              "      <td>skype error</td>\n",
              "      <td>skype error</td>\n",
              "      <td>owlgqjme qhcozdfx</td>\n",
              "      <td>GRP_0</td>\n",
              "      <td>skype error</td>\n",
              "      <td>skype error</td>\n",
              "      <td>No Match</td>\n",
              "      <td>No Match</td>\n",
              "    </tr>\n",
              "  </tbody>\n",
              "</table>\n",
              "</div>"
            ],
            "text/plain": [
              "               Short description  ... mail_subject_mentioned\n",
              "0                    login issue  ...               No Match\n",
              "1                        outlook  ...               No Match\n",
              "2             cant log in to vpn  ...               No Match\n",
              "3  unable to access hr_tool page  ...               No Match\n",
              "4                   skype error   ...               No Match\n",
              "\n",
              "[5 rows x 8 columns]"
            ]
          },
          "metadata": {},
          "execution_count": 118
        }
      ]
    },
    {
      "cell_type": "code",
      "metadata": {
        "id": "idyy-BhPcamP"
      },
      "source": [
        "ata_data['short_desc_analysis'] = ata_data['short_desc_analysis'].apply(preprocess_text_part2)\n",
        "ata_data['desc_analysis'] = ata_data['desc_analysis'].apply(preprocess_text_part2)"
      ],
      "execution_count": 120,
      "outputs": []
    },
    {
      "cell_type": "code",
      "metadata": {
        "colab": {
          "base_uri": "https://localhost:8080/",
          "height": 519
        },
        "id": "MZwqBA5lcatC",
        "outputId": "64c6ffd3-3eaf-4dff-bf29-c02b1de4ef0e"
      },
      "source": [
        "ata_data.head()"
      ],
      "execution_count": 121,
      "outputs": [
        {
          "output_type": "execute_result",
          "data": {
            "text/html": [
              "<div>\n",
              "<style scoped>\n",
              "    .dataframe tbody tr th:only-of-type {\n",
              "        vertical-align: middle;\n",
              "    }\n",
              "\n",
              "    .dataframe tbody tr th {\n",
              "        vertical-align: top;\n",
              "    }\n",
              "\n",
              "    .dataframe thead th {\n",
              "        text-align: right;\n",
              "    }\n",
              "</style>\n",
              "<table border=\"1\" class=\"dataframe\">\n",
              "  <thead>\n",
              "    <tr style=\"text-align: right;\">\n",
              "      <th></th>\n",
              "      <th>Short description</th>\n",
              "      <th>Description</th>\n",
              "      <th>Caller</th>\n",
              "      <th>Assignment group</th>\n",
              "      <th>short_desc_analysis</th>\n",
              "      <th>desc_analysis</th>\n",
              "      <th>mail_received_from</th>\n",
              "      <th>mail_subject_mentioned</th>\n",
              "    </tr>\n",
              "  </thead>\n",
              "  <tbody>\n",
              "    <tr>\n",
              "      <th>0</th>\n",
              "      <td>login issue</td>\n",
              "      <td>-verified user details.(employee# &amp; manager name)\\r\\n-checked the user name in ad and reset the password.\\r\\n-advised the user to login and check.\\r\\n-caller confirmed that he was able to login.\\r\\n-issue resolved.</td>\n",
              "      <td>spxjnwir pjlcoqds</td>\n",
              "      <td>GRP_0</td>\n",
              "      <td>login issue</td>\n",
              "      <td>verified user detailsemployee  manager name checked the user name in ad and reset the password advised the user to login and check caller confirmed that he was able to login issue resolved</td>\n",
              "      <td>No Match</td>\n",
              "      <td>No Match</td>\n",
              "    </tr>\n",
              "    <tr>\n",
              "      <th>1</th>\n",
              "      <td>outlook</td>\n",
              "      <td>\\r\\n\\r\\nreceived from: hmjdrvpb.komuaywn@gmail.com\\r\\n\\r\\nhello team,\\r\\n\\r\\nmy meetings/skype meetings etc are not appearing in my outlook calendar, can somebody please advise how to correct this?\\r\\n\\r\\nkind</td>\n",
              "      <td>hmjdrvpb komuaywn</td>\n",
              "      <td>GRP_0</td>\n",
              "      <td>outlook</td>\n",
              "      <td>hello team  my meetingsskype meetings etc are not appearing in my outlook calendar can somebody please advise how to correct this  kind</td>\n",
              "      <td>hmjdrvpb.komuaywn@gmail.com</td>\n",
              "      <td>No Match</td>\n",
              "    </tr>\n",
              "    <tr>\n",
              "      <th>2</th>\n",
              "      <td>cant log in to vpn</td>\n",
              "      <td>\\r\\n\\r\\nreceived from: eylqgodm.ybqkwiam@gmail.com\\r\\n\\r\\nhi\\r\\n\\r\\ni cannot log on to vpn\\r\\n\\r\\nbest</td>\n",
              "      <td>eylqgodm ybqkwiam</td>\n",
              "      <td>GRP_0</td>\n",
              "      <td>cant log in to vpn</td>\n",
              "      <td>hi  i cannot log on to vpn  best</td>\n",
              "      <td>eylqgodm.ybqkwiam@gmail.com</td>\n",
              "      <td>No Match</td>\n",
              "    </tr>\n",
              "    <tr>\n",
              "      <th>3</th>\n",
              "      <td>unable to access hr_tool page</td>\n",
              "      <td>unable to access hr_tool page</td>\n",
              "      <td>xbkucsvz gcpydteq</td>\n",
              "      <td>GRP_0</td>\n",
              "      <td>unable to access hrtool page</td>\n",
              "      <td>unable to access hrtool page</td>\n",
              "      <td>No Match</td>\n",
              "      <td>No Match</td>\n",
              "    </tr>\n",
              "    <tr>\n",
              "      <th>4</th>\n",
              "      <td>skype error</td>\n",
              "      <td>skype error</td>\n",
              "      <td>owlgqjme qhcozdfx</td>\n",
              "      <td>GRP_0</td>\n",
              "      <td>skype error</td>\n",
              "      <td>skype error</td>\n",
              "      <td>No Match</td>\n",
              "      <td>No Match</td>\n",
              "    </tr>\n",
              "  </tbody>\n",
              "</table>\n",
              "</div>"
            ],
            "text/plain": [
              "               Short description  ... mail_subject_mentioned\n",
              "0                    login issue  ...               No Match\n",
              "1                        outlook  ...               No Match\n",
              "2             cant log in to vpn  ...               No Match\n",
              "3  unable to access hr_tool page  ...               No Match\n",
              "4                   skype error   ...               No Match\n",
              "\n",
              "[5 rows x 8 columns]"
            ]
          },
          "metadata": {},
          "execution_count": 121
        }
      ]
    },
    {
      "cell_type": "code",
      "metadata": {
        "colab": {
          "base_uri": "https://localhost:8080/",
          "height": 467
        },
        "id": "gHBjNBzyi7yO",
        "outputId": "f31a1aec-71a3-4e75-d9a0-c1095af45b60"
      },
      "source": [
        "ata_data.tail()"
      ],
      "execution_count": 122,
      "outputs": [
        {
          "output_type": "execute_result",
          "data": {
            "text/html": [
              "<div>\n",
              "<style scoped>\n",
              "    .dataframe tbody tr th:only-of-type {\n",
              "        vertical-align: middle;\n",
              "    }\n",
              "\n",
              "    .dataframe tbody tr th {\n",
              "        vertical-align: top;\n",
              "    }\n",
              "\n",
              "    .dataframe thead th {\n",
              "        text-align: right;\n",
              "    }\n",
              "</style>\n",
              "<table border=\"1\" class=\"dataframe\">\n",
              "  <thead>\n",
              "    <tr style=\"text-align: right;\">\n",
              "      <th></th>\n",
              "      <th>Short description</th>\n",
              "      <th>Description</th>\n",
              "      <th>Caller</th>\n",
              "      <th>Assignment group</th>\n",
              "      <th>short_desc_analysis</th>\n",
              "      <th>desc_analysis</th>\n",
              "      <th>mail_received_from</th>\n",
              "      <th>mail_subject_mentioned</th>\n",
              "    </tr>\n",
              "  </thead>\n",
              "  <tbody>\n",
              "    <tr>\n",
              "      <th>8495</th>\n",
              "      <td>emails not coming in from zz mail</td>\n",
              "      <td>\\r\\n\\r\\nreceived from: avglmrts.vhqmtiua@gmail.com\\r\\n\\r\\ngood afternoon,\\r\\ni am not receiving the emails that i sent from zz mail.\\r\\nplease advise\\r\\n\\r\\n</td>\n",
              "      <td>avglmrts vhqmtiua</td>\n",
              "      <td>GRP_29</td>\n",
              "      <td>emails not coming in from zz mail</td>\n",
              "      <td>good afternoon i am not receiving the emails that i sent from zz mail please advise</td>\n",
              "      <td>avglmrts.vhqmtiua@gmail.com</td>\n",
              "      <td>No Match</td>\n",
              "    </tr>\n",
              "    <tr>\n",
              "      <th>8496</th>\n",
              "      <td>telephony_software issue</td>\n",
              "      <td>telephony_software issue</td>\n",
              "      <td>rbozivdq gmlhrtvp</td>\n",
              "      <td>GRP_0</td>\n",
              "      <td>telephonysoftware issue</td>\n",
              "      <td>telephonysoftware issue</td>\n",
              "      <td>No Match</td>\n",
              "      <td>No Match</td>\n",
              "    </tr>\n",
              "    <tr>\n",
              "      <th>8497</th>\n",
              "      <td>vip2: windows password reset for tifpdchb pedxruyf</td>\n",
              "      <td>vip2: windows password reset for tifpdchb pedxruyf</td>\n",
              "      <td>oybwdsgx oxyhwrfz</td>\n",
              "      <td>GRP_0</td>\n",
              "      <td>vip windows password reset for tifpdchb pedxruyf</td>\n",
              "      <td>vip windows password reset for tifpdchb pedxruyf</td>\n",
              "      <td>No Match</td>\n",
              "      <td>No Match</td>\n",
              "    </tr>\n",
              "    <tr>\n",
              "      <th>8498</th>\n",
              "      <td>machine nÃ£o estÃ¡ funcionando</td>\n",
              "      <td>i am unable to access the machine utilities to finish the drawers adjustment settings.\\r\\nis no network..</td>\n",
              "      <td>ufawcgob aowhxjky</td>\n",
              "      <td>GRP_62</td>\n",
              "      <td>machine não está funcionando</td>\n",
              "      <td>i am unable to access the machine utilities to finish the drawers adjustment settings is no network</td>\n",
              "      <td>No Match</td>\n",
              "      <td>No Match</td>\n",
              "    </tr>\n",
              "    <tr>\n",
              "      <th>8499</th>\n",
              "      <td>an mehreren pc`s lassen sich verschiedene prgramdntyme nicht Ã¶ffnen.</td>\n",
              "      <td>an mehreren pc`s lassen sich verschiedene prgramdntyme nicht Ã¶ffnen. bereich cnc.</td>\n",
              "      <td>kqvbrspl jyzoklfx</td>\n",
              "      <td>GRP_49</td>\n",
              "      <td>an mehreren pcs lassen sich verschiedene prgramdntyme nicht öffnen</td>\n",
              "      <td>an mehreren pcs lassen sich verschiedene prgramdntyme nicht öffnen bereich cnc</td>\n",
              "      <td>No Match</td>\n",
              "      <td>No Match</td>\n",
              "    </tr>\n",
              "  </tbody>\n",
              "</table>\n",
              "</div>"
            ],
            "text/plain": [
              "                                                           Short description  ... mail_subject_mentioned\n",
              "8495                                       emails not coming in from zz mail  ...               No Match\n",
              "8496                                                telephony_software issue  ...               No Match\n",
              "8497                      vip2: windows password reset for tifpdchb pedxruyf  ...               No Match\n",
              "8498                                          machine nÃ£o estÃ¡ funcionando  ...               No Match\n",
              "8499  an mehreren pc`s lassen sich verschiedene prgramdntyme nicht Ã¶ffnen.   ...               No Match\n",
              "\n",
              "[5 rows x 8 columns]"
            ]
          },
          "metadata": {},
          "execution_count": 122
        }
      ]
    },
    {
      "cell_type": "code",
      "metadata": {
        "id": "Es3w32W0N9he",
        "colab": {
          "base_uri": "https://localhost:8080/"
        },
        "outputId": "80e89921-7352-4f39-c405-d9fd465538c6"
      },
      "source": [
        "ata_data[ata_data['mail_received_from']!='No Match']['mail_received_from'].value_counts()"
      ],
      "execution_count": 123,
      "outputs": [
        {
          "output_type": "execute_result",
          "data": {
            "text/plain": [
              "monitoring_tool@company.com    961\n",
              "rxoynvgi.ntgdsehl@gmail.com     14\n",
              "gjtyswkb.dpvaymxr@gmail.com     11\n",
              "vkzwafuh.tcjnuswg@gmail.com     10\n",
              "rjanhbde.owfkyjcp@gmail.com      9\n",
              "                              ... \n",
              "weqocbnu.eoixcpvy@gmail.com      1\n",
              "zfliqpxm.dgfvaqlh@gmail.com      1\n",
              "krnzfoct.mnjbuedp@gmail.com      1\n",
              "fwypxqcs.twsqoimy@gmail.com      1\n",
              "esaqztby.mhnbqiyc@gmail.com      1\n",
              "Name: mail_received_from, Length: 711, dtype: int64"
            ]
          },
          "metadata": {},
          "execution_count": 123
        }
      ]
    },
    {
      "cell_type": "code",
      "metadata": {
        "colab": {
          "base_uri": "https://localhost:8080/",
          "height": 1000
        },
        "id": "WTC9qF0q9TLC",
        "outputId": "063085ea-5c6d-45c3-82af-0a0a6cb1b0e7"
      },
      "source": [
        "ata_data[ata_data['mail_subject_mentioned']!='No Match']"
      ],
      "execution_count": 124,
      "outputs": [
        {
          "output_type": "execute_result",
          "data": {
            "text/html": [
              "<div>\n",
              "<style scoped>\n",
              "    .dataframe tbody tr th:only-of-type {\n",
              "        vertical-align: middle;\n",
              "    }\n",
              "\n",
              "    .dataframe tbody tr th {\n",
              "        vertical-align: top;\n",
              "    }\n",
              "\n",
              "    .dataframe thead th {\n",
              "        text-align: right;\n",
              "    }\n",
              "</style>\n",
              "<table border=\"1\" class=\"dataframe\">\n",
              "  <thead>\n",
              "    <tr style=\"text-align: right;\">\n",
              "      <th></th>\n",
              "      <th>Short description</th>\n",
              "      <th>Description</th>\n",
              "      <th>Caller</th>\n",
              "      <th>Assignment group</th>\n",
              "      <th>short_desc_analysis</th>\n",
              "      <th>desc_analysis</th>\n",
              "      <th>mail_received_from</th>\n",
              "      <th>mail_subject_mentioned</th>\n",
              "    </tr>\n",
              "  </thead>\n",
              "  <tbody>\n",
              "    <tr>\n",
              "      <th>100</th>\n",
              "      <td>re: ess portal access issue</td>\n",
              "      <td>\\n\\nreceived from: noscwdpm.akiowsmp@gmail.com\\n\\nhello,\\n\\nhe is an kiosk user.  please reset the password and confirm.\\n\\n\\nnoscwdpm akiowsmp\\nnoscwdpm.akiowsmp@gmail.com\\n\\nfrom: ihkolepb ozhnjyef\\nsent: 29 october 2016 13:38\\nto: company@ticketing_tool.com\\nsubject: ess portal access issue\\n\\nhi,\\n\\nbelow mentioned employee krlszbqo spimolgz with user id sv123 is not able to login to ess portal to access his pay slips and related contents. he is a attendance_tool user. please reset his user id and password and revert back.\\n\\n</td>\n",
              "      <td>noscwdpm akiowsmp</td>\n",
              "      <td>GRP_0</td>\n",
              "      <td>re ess portal access issue</td>\n",
              "      <td>hello  he is an kiosk user  please reset the password and confirm   noscwdpm akiowsmp noscwdpmakiowsmpgmailcom   hi  below mentioned employee krlszbqo spimolgz with user id sv is not able to login to ess portal to access his pay slips and related contents he is a attendancetool user please reset his user id and password and revert back</td>\n",
              "      <td>noscwdpm.akiowsmp@gmail.com</td>\n",
              "      <td>ess portal access issue</td>\n",
              "    </tr>\n",
              "    <tr>\n",
              "      <th>124</th>\n",
              "      <td>mobile device activation</td>\n",
              "      <td>from: tvcdfqgp nrbcqwgj \\nsent: friday, october 28, 2016 3:13 pm\\nto: nwfodmhc exurcwkm\\nsubject:  se ha bloqueado en forma temporal la sincronizaciÃ³n de su dispositivo mÃ³vil mediante exchange activesync hasta que su administrador autorice el acceso.\\n\\nhi\\n\\ni received this message and our local it expert has told me to open a ticket.\\n\\n</td>\n",
              "      <td>tvcdfqgp nrbcqwgj</td>\n",
              "      <td>GRP_0</td>\n",
              "      <td>mobile device activation</td>\n",
              "      <td>hi  i received this message and our local it expert has told me to open a ticket</td>\n",
              "      <td>No Match</td>\n",
              "      <td>se ha bloqueado en forma temporal la sincronización de su dispositivo móvil mediante exchange activesync hasta que su administrador autorice el acceso.</td>\n",
              "    </tr>\n",
              "    <tr>\n",
              "      <th>180</th>\n",
              "      <td>crm license for user dfgry</td>\n",
              "      <td>from: xdvwitpm zscxqdhoalaramdntyan \\nsent: friday, october 28, 2016 9:40 am\\nto: 'help@company.com'\\ncc: xyculgav cuqptoah\\nsubject: fw: crm license for dfgry\\n\\nhello,\\n\\ncrm is not installed in my laptop.\\n\\nplease support me on this.\\n\\n</td>\n",
              "      <td>xdvwitpm zscxqdho</td>\n",
              "      <td>GRP_19</td>\n",
              "      <td>crm license for user dfgry</td>\n",
              "      <td>hello  crm is not installed in my laptop  please support me on this</td>\n",
              "      <td>No Match</td>\n",
              "      <td>fw: crm license for dfgry</td>\n",
              "    </tr>\n",
              "    <tr>\n",
              "      <th>186</th>\n",
              "      <td>é’å²›å…´åˆæœºç”µshipment notificationé‚®ç®±è®¾ç½®</td>\n",
              "      <td>from:  \\nsent: friday, october 28, 2016 7:20 am\\nto: nwfodmhc exurcwkm\\nsubject: re: é’å²›å…´åˆæœºç”µshipment notificationé‚®ç®±è®¾ç½®\\n\\ndearï¼Œ\\npls help to update customer 4563729890 shipment notification email address :  abcdegy@gmail.com \\n\\n\\nb.</td>\n",
              "      <td>yafxlpwi lhxvatkb</td>\n",
              "      <td>GRP_18</td>\n",
              "      <td>青岛兴合机电shipment notification邮箱设置</td>\n",
              "      <td>dear pls help to update customer  shipment notification email address   abcdegygmailcom    b</td>\n",
              "      <td>No Match</td>\n",
              "      <td>re: 青岛兴合机电shipment notification邮箱设置</td>\n",
              "    </tr>\n",
              "    <tr>\n",
              "      <th>218</th>\n",
              "      <td>export shipment of grinding mahcine to khdgd1234, apac - advance information</td>\n",
              "      <td>\\n\\nreceived from: rdfjsawg.zpmxgdcw@gmail.com\\n\\nfrom: hdytrkfiu\\nsent: thursday, october 27, 2016 4:46 pm\\nto: &lt;rfqhoaky.rncspbot@gmail.com&gt;; &lt;ikxjfnml.kaocbpfr@gmail.com&gt;; &lt;rdfjsawg.zpmxgdcw@gmail.com&gt;\\ncc:  &lt;tshljagr.mhyiopxr@gmail.com&gt;; &lt;zgmdster.bdvcealj@gmail.com&gt;; xjzcbgnp vfkwscao &lt;xjzcbgnp.vfkwscao@gmail.com&gt;; &lt;avurmegj.pxgmjynu@gmail.com&gt;\\nsubject: export shipment of grinding mahcine to khdgd1234, apac - advance information\\n\\nwe are pushixepyfbga wtqdyoin for dispatching an grinding machine to khdgd1234, apac tomorrow.    this is just for your advance information.   once everything is in place, we will seek your support in your areas to help us in clearing this consignment tomorrow 28.10.16.</td>\n",
              "      <td>rdfjsawg zpmxgdcw</td>\n",
              "      <td>GRP_0</td>\n",
              "      <td>export shipment of grinding mahcine to khdgd apac  advance information</td>\n",
              "      <td>we are pushixepyfbga wtqdyoin for dispatching an grinding machine to khdgd apac tomorrow    this is just for your advance information   once everything is in place we will seek your support in your areas to help us in clearing this consignment tomorrow</td>\n",
              "      <td>rdfjsawg.zpmxgdcw@gmail.com</td>\n",
              "      <td>export shipment of grinding mahcine to khdgd1234, apac - advance information</td>\n",
              "    </tr>\n",
              "    <tr>\n",
              "      <th>...</th>\n",
              "      <td>...</td>\n",
              "      <td>...</td>\n",
              "      <td>...</td>\n",
              "      <td>...</td>\n",
              "      <td>...</td>\n",
              "      <td>...</td>\n",
              "      <td>...</td>\n",
              "      <td>...</td>\n",
              "    </tr>\n",
              "    <tr>\n",
              "      <th>8467</th>\n",
              "      <td>hi it help team,  please unblock my new company device.</td>\n",
              "      <td>from: ntydihzo aeptfbgs \\r\\nsent: friday, august 05, 2016 2:51 am\\r\\nto: nwfodmhc exurcwkm\\r\\nsubject: wg: die synchronisierung mit exchange activesync ist auf ihrem gerÃ¤t vorÃ¼bergehend blockiert, bis der zugriff vom administrator gewÃ¤hrt wird.\\r\\nimportance: high\\r\\n\\r\\nhi it help team,\\r\\n\\r\\nplease unblock my new company device.\\r\\n\\r\\n</td>\n",
              "      <td>ntydihzo aeptfbgs</td>\n",
              "      <td>GRP_0</td>\n",
              "      <td>hi it help team  please unblock my new company device</td>\n",
              "      <td>importance high  hi it help team  please unblock my new company device</td>\n",
              "      <td>No Match</td>\n",
              "      <td>wg: die synchronisierung mit exchange activesync ist auf ihrem gerät vorübergehend blockiert, bis der zugriff vom administrator gewährt wird.</td>\n",
              "    </tr>\n",
              "    <tr>\n",
              "      <th>8468</th>\n",
              "      <td>can you unblock my account so i can use outlook app?</td>\n",
              "      <td>from: nwfodmhc exurcwkm \\nsent: friday, august 05, 2016 6:32 am\\nto: prishry budhtya\\nsubject: re: rak re: your mobile device has been denied access to the server via exchange activesync because of server policies.\\n\\ndear prishry,\\n\\n</td>\n",
              "      <td>eqzibjhw ymebpoih</td>\n",
              "      <td>GRP_0</td>\n",
              "      <td>can you unblock my account so i can use outlook app</td>\n",
              "      <td>dear prishry</td>\n",
              "      <td>No Match</td>\n",
              "      <td>re: rak re: your mobile device has been denied access to the server via exchange activesync because of server policies.</td>\n",
              "    </tr>\n",
              "    <tr>\n",
              "      <th>8470</th>\n",
              "      <td>please review your recent ticketing_tool tickets and let me know who modified the ethics collaboration_platform site</td>\n",
              "      <td>from: mikhghytr wafglhdrhjop \\nsent: thursday, august 04, 2016 8:50 pm\\nto: nwfodmhc exurcwkm\\nsubject: rak fw: ethics collaboration_platform site\\n\\nplease review your recent ticketing_tool tickets and let me know who modified the ethics collaboration_platform site.  a few weeks ago i had requested a change that placed a third column of selections.  not sure who or why this was undone.\\n\\nmikhghytr wafglhdrhjop\\nsr. manager, global ethics and compliance programdntys\\nfrom: kzbuhixt zjdmoahr \\nsent: thursday, august 04, 2016 11:16 am\\nto: mikhghytr wafglhdrhjop &lt;azxhejvq.fyemlavd@gmail.com&gt;\\nsubject: re: ethics collaboration_platform site\\n\\nohâ€¦â€¦??\\n\\nsethdyr hdtyr\\nassistant general counsel â€“ compliance and real estate\\nglobal director of ethics &amp; compliance; ccep\\nkzbuhixt.zjdmoahr@gmail.com \\n</td>\n",
              "      <td>azxhejvq fyemlavd</td>\n",
              "      <td>GRP_16</td>\n",
              "      <td>please review your recent ticketingtool tickets and let me know who modified the ethics collaborationplatform site</td>\n",
              "      <td>please review your recent ticketingtool tickets and let me know who modified the ethics collaborationplatform site  a few weeks ago i had requested a change that placed a third column of selections  not sure who or why this was undone  mikhghytr wafglhdrhjop sr manager global ethics and compliance programdntys from kzbuhixt zjdmoahr  sent thursday august    am to mikhghytr wafglhdrhjop azxhejvqfyemlavdgmailcom subject re ethics collaborationplatform site  oh……  sethdyr hdtyr assistant general counsel – compliance and real estate global director of ethics  compliance ccep kzbuhixtzjdmoahrgmailcom</td>\n",
              "      <td>No Match</td>\n",
              "      <td>rak fw: ethics collaboration_platform site</td>\n",
              "    </tr>\n",
              "    <tr>\n",
              "      <th>8472</th>\n",
              "      <td>ticket update</td>\n",
              "      <td>from: rakthyesh ramdntythanjesh \\r\\nsent: friday, august 05, 2016 5:26 am\\r\\nto: ugyothfz ugrmkdhx\\r\\ncc: mikhghytr rhoades\\r\\nsubject: ticket_no1535917-no acces to paystub and etime.\\r\\n\\r\\ngood morning safrgyynjit,\\r\\n\\r\\nuser called to service desk and requested to expedite the case, requesting you to own the issue on priority and assist user on same.\\r\\n\\r\\n\\r\\n\\r\\nkind</td>\n",
              "      <td>eqzibjhw ymebpoih</td>\n",
              "      <td>GRP_0</td>\n",
              "      <td>ticket update</td>\n",
              "      <td>good morning safrgyynjit  user called to service desk and requested to expedite the case requesting you to own the issue on priority and assist user on same    kind</td>\n",
              "      <td>No Match</td>\n",
              "      <td>ticket_no1535917-no acces to paystub and etime.</td>\n",
              "    </tr>\n",
              "    <tr>\n",
              "      <th>8483</th>\n",
              "      <td>fw: case id [ref:_case-111121032:ref] :: others</td>\n",
              "      <td>from: pacvbetl yptglhoe \\r\\nsent: thursday, august 04, 2016 10:59 pm\\r\\nto: nwfodmhc exurcwkm\\r\\nsubject: amar fw: case id [ref:_case-111121032:ref] :: others\\r\\n\\r\\nplease see the forwarded email below.   this looks suspicious to me and may be some sort of phishing or spamming email.  please review it and let me know if it looks legitimate and is from legitimate individuals at company.  i did not open or view any of the attachments.  \\r\\n\\r\\ni have no idea why accounts payable would be sending me an email.\\r\\n\\r\\nbest</td>\n",
              "      <td>pacvbetl yptglhoe</td>\n",
              "      <td>GRP_0</td>\n",
              "      <td>fw case id refcaseref  others</td>\n",
              "      <td>please see the forwarded email below   this looks suspicious to me and may be some sort of phishing or spamming email  please review it and let me know if it looks legitimate and is from legitimate individuals at company  i did not open or view any of the attachments    i have no idea why accounts payable would be sending me an email  best</td>\n",
              "      <td>No Match</td>\n",
              "      <td>amar fw: case id [ref:_case-111121032:ref] :: others</td>\n",
              "    </tr>\n",
              "  </tbody>\n",
              "</table>\n",
              "<p>213 rows × 8 columns</p>\n",
              "</div>"
            ],
            "text/plain": [
              "                                                                                                         Short description  ...                                                                                                                                   mail_subject_mentioned\n",
              "100                                                                                            re: ess portal access issue  ...                                                                                                                                  ess portal access issue\n",
              "124                                                                                               mobile device activation  ...  se ha bloqueado en forma temporal la sincronización de su dispositivo móvil mediante exchange activesync hasta que su administrador autorice el acceso.\n",
              "180                                                                                             crm license for user dfgry  ...                                                                                                                                fw: crm license for dfgry\n",
              "186                                                                    é’å²›å…´åˆæœºç”µshipment notificationé‚®ç®±è®¾ç½®  ...                                                                                                                      re: 青岛兴合机电shipment notification邮箱设置\n",
              "218                                           export shipment of grinding mahcine to khdgd1234, apac - advance information  ...                                                                             export shipment of grinding mahcine to khdgd1234, apac - advance information\n",
              "...                                                                                                                    ...  ...                                                                                                                                                      ...\n",
              "8467                                                               hi it help team,  please unblock my new company device.  ...            wg: die synchronisierung mit exchange activesync ist auf ihrem gerät vorübergehend blockiert, bis der zugriff vom administrator gewährt wird.\n",
              "8468                                                                  can you unblock my account so i can use outlook app?  ...                                  re: rak re: your mobile device has been denied access to the server via exchange activesync because of server policies.\n",
              "8470  please review your recent ticketing_tool tickets and let me know who modified the ethics collaboration_platform site  ...                                                                                                               rak fw: ethics collaboration_platform site\n",
              "8472                                                                                                         ticket update  ...                                                                                                          ticket_no1535917-no acces to paystub and etime.\n",
              "8483                                                                       fw: case id [ref:_case-111121032:ref] :: others  ...                                                                                                     amar fw: case id [ref:_case-111121032:ref] :: others\n",
              "\n",
              "[213 rows x 8 columns]"
            ]
          },
          "metadata": {},
          "execution_count": 124
        }
      ]
    },
    {
      "cell_type": "code",
      "metadata": {
        "id": "pjaJEmh9ssql"
      },
      "source": [
        "ata_data.to_excel(\"intermediate_file.xlsx\")"
      ],
      "execution_count": 126,
      "outputs": []
    },
    {
      "cell_type": "code",
      "metadata": {
        "id": "1eAxWH4-sstZ"
      },
      "source": [
        ""
      ],
      "execution_count": null,
      "outputs": []
    },
    {
      "cell_type": "code",
      "metadata": {
        "id": "ieIow6NCsswM"
      },
      "source": [
        ""
      ],
      "execution_count": null,
      "outputs": []
    },
    {
      "cell_type": "code",
      "metadata": {
        "id": "auwB7_ZxsszA"
      },
      "source": [
        ""
      ],
      "execution_count": null,
      "outputs": []
    },
    {
      "cell_type": "code",
      "metadata": {
        "id": "xiZcwUr8jEX1"
      },
      "source": [
        "line = \"should we use regex more often? let me know at  received from:321dsasdsa@dasdsa.com.lol\"\n",
        "match = re.search(r'received from: [\\w\\.-]+@[\\w\\.-]+', line)\n",
        "#match.group(0)"
      ],
      "execution_count": 86,
      "outputs": []
    },
    {
      "cell_type": "code",
      "metadata": {
        "colab": {
          "base_uri": "https://localhost:8080/"
        },
        "id": "GIPgZECELzQX",
        "outputId": "e0fff05f-7431-4e21-a7ea-f6d46dec3f84"
      },
      "source": [
        "if bool(match):\n",
        "  print(match.group(0))\n",
        "else:\n",
        "  print(\"noth\")\n",
        "  "
      ],
      "execution_count": 104,
      "outputs": [
        {
          "output_type": "stream",
          "name": "stdout",
          "text": [
            "noth\n"
          ]
        }
      ]
    },
    {
      "cell_type": "code",
      "metadata": {
        "id": "tXorYlWfS0cZ",
        "colab": {
          "base_uri": "https://localhost:8080/",
          "height": 1000
        },
        "outputId": "8dfc35a6-c182-46b3-812d-37299f34bab2"
      },
      "source": [
        "ata_data[ata_data['Description'].str.contains('to:', case=False, na=False)]"
      ],
      "execution_count": 106,
      "outputs": [
        {
          "output_type": "execute_result",
          "data": {
            "text/html": [
              "<div>\n",
              "<style scoped>\n",
              "    .dataframe tbody tr th:only-of-type {\n",
              "        vertical-align: middle;\n",
              "    }\n",
              "\n",
              "    .dataframe tbody tr th {\n",
              "        vertical-align: top;\n",
              "    }\n",
              "\n",
              "    .dataframe thead th {\n",
              "        text-align: right;\n",
              "    }\n",
              "</style>\n",
              "<table border=\"1\" class=\"dataframe\">\n",
              "  <thead>\n",
              "    <tr style=\"text-align: right;\">\n",
              "      <th></th>\n",
              "      <th>Short description</th>\n",
              "      <th>Description</th>\n",
              "      <th>Caller</th>\n",
              "      <th>Assignment group</th>\n",
              "      <th>short_desc_analysis</th>\n",
              "      <th>desc_analysis</th>\n",
              "      <th>mail_received_from</th>\n",
              "    </tr>\n",
              "  </thead>\n",
              "  <tbody>\n",
              "    <tr>\n",
              "      <th>53</th>\n",
              "      <td>reset scm_software password</td>\n",
              "      <td>\\n\\nreceived from: cdbaoqts.wqbsodni@gmail.com\\n\\nhello,\\n\\nplease reset my scm_software password.\\n\\n\\ncdbaoqts wqbsodni\\nglobal product manager, markhtyeting initiatives\\ncdbaoqts.wqbsodni@gmail.com&lt;mailto:cdbaoqts.wqbsodni@gmail.com&gt;\\n\\n\\n\\n\\n\\n</td>\n",
              "      <td>cdbaoqts wqbsodni</td>\n",
              "      <td>GRP_0</td>\n",
              "      <td>reset scmsoftware password</td>\n",
              "      <td>hello  please reset my scmsoftware password   cdbaoqts wqbsodni global product manager markhtyeting initiatives cdbaoqtswqbsodnigmailcommailtocdbaoqtswqbsodnigmailcom</td>\n",
              "      <td>cdbaoqts.wqbsodni@gmail.com</td>\n",
              "    </tr>\n",
              "    <tr>\n",
              "      <th>100</th>\n",
              "      <td>re: ess portal access issue</td>\n",
              "      <td>\\n\\nreceived from: noscwdpm.akiowsmp@gmail.com\\n\\nhello,\\n\\nhe is an kiosk user.  please reset the password and confirm.\\n\\n\\nnoscwdpm akiowsmp\\nnoscwdpm.akiowsmp@gmail.com\\n\\nfrom: ihkolepb ozhnjyef\\nsent: 29 october 2016 13:38\\nto: company@ticketing_tool.com\\nsubject: ess portal access issue\\n\\nhi,\\n\\nbelow mentioned employee krlszbqo spimolgz with user id sv123 is not able to login to ess portal to access his pay slips and related contents. he is a attendance_tool user. please reset his user id and password and revert back.\\n\\n</td>\n",
              "      <td>noscwdpm akiowsmp</td>\n",
              "      <td>GRP_0</td>\n",
              "      <td>re ess portal access issue</td>\n",
              "      <td>hello  he is an kiosk user  please reset the password and confirm   noscwdpm akiowsmp noscwdpmakiowsmpgmailcom  from ihkolepb ozhnjyef sent  october   to companyticketingtoolcom subject ess portal access issue  hi  below mentioned employee krlszbqo spimolgz with user id sv is not able to login to ess portal to access his pay slips and related contents he is a attendancetool user please reset his user id and password and revert back</td>\n",
              "      <td>noscwdpm.akiowsmp@gmail.com</td>\n",
              "    </tr>\n",
              "    <tr>\n",
              "      <th>124</th>\n",
              "      <td>mobile device activation</td>\n",
              "      <td>from: tvcdfqgp nrbcqwgj \\nsent: friday, october 28, 2016 3:13 pm\\nto: nwfodmhc exurcwkm\\nsubject:  se ha bloqueado en forma temporal la sincronizaciÃ³n de su dispositivo mÃ³vil mediante exchange activesync hasta que su administrador autorice el acceso.\\n\\nhi\\n\\ni received this message and our local it expert has told me to open a ticket.\\n\\n</td>\n",
              "      <td>tvcdfqgp nrbcqwgj</td>\n",
              "      <td>GRP_0</td>\n",
              "      <td>mobile device activation</td>\n",
              "      <td>from tvcdfqgp nrbcqwgj  sent friday october    pm to nwfodmhc exurcwkm subject  se ha bloqueado en forma temporal la sincronización de su dispositivo móvil mediante exchange activesync hasta que su administrador autorice el acceso  hi  i received this message and our local it expert has told me to open a ticket</td>\n",
              "      <td>No Match</td>\n",
              "    </tr>\n",
              "    <tr>\n",
              "      <th>151</th>\n",
              "      <td>i used to have acces to this location on collaboration_platform.  now i do not. i need access.</td>\n",
              "      <td>\\n\\nreceived from: bwfhtumx.japznrvb@gmail.com\\n\\n\\n\\n[cid:image001.jpg@01d230f7.8bb4e830]\\n\\nbwfhtumx japznrvb \\nregional controller\\nbwfhtumx.japznrvb@gmail.com&lt;mailto:bwfhtumx.japznrvb@gmail.com&gt;\\n\\n\\n\\n</td>\n",
              "      <td>bwfhtumx japznrvb</td>\n",
              "      <td>GRP_16</td>\n",
              "      <td>i used to have acces to this location on collaborationplatform  now i do not i need access</td>\n",
              "      <td>cidimagejpgdfbbe  bwfhtumx japznrvb  regional controller bwfhtumxjapznrvbgmailcommailtobwfhtumxjapznrvbgmailcom</td>\n",
              "      <td>bwfhtumx.japznrvb@gmail.com</td>\n",
              "    </tr>\n",
              "    <tr>\n",
              "      <th>162</th>\n",
              "      <td>access to bex</td>\n",
              "      <td>\\r\\n\\r\\nreceived from: yfqoaepn.xnezhsit@gmail.com\\r\\n\\r\\nhello,\\r\\n\\r\\ntill last week i was accessing bex reports using mms portal and there were no issues.\\r\\n\\r\\nstarting this week the system is incredibly slow when i log in and finally does not allow me to access any reports.\\r\\n\\r\\ncan it be the issue with any maintenance or my access rights or rather i should try to access bex using different way?\\r\\n\\r\\nbelow the print screen from what i see after log in:\\r\\n[cid:image001.png@01d2310c.f184b360]\\r\\n\\r\\ni am also able to get to finance reports (see below), however when i click \"profitability analysis\" (as i was always doing) separate window is open however apart rom that the screen is blank.\\r\\n[cid:image002.png@01d2310c.f184b360]\\r\\n\\r\\n\\r\\ni appreciate your support.\\r\\n\\r\\nhave a great day â˜º\\r\\n\\r\\nrobhyertyj\\r\\n\\r\\n\\r\\nyfqoaepn xnezhsit\\r\\nmanaging director\\r\\nfinance manager cee\\r\\nyfqoaepn.xnezhsit@gmail.com&lt;mailto:yfqoaepn.xnezhsit@gmail.com&gt;\\r\\ntel:+48(61)7767671\\r\\nmob:+48 694 425 760\\r\\n\\r\\ncompany polska sp. z o.o. , ul. krzywoustego 7, 61-144 poznaÅ„, www.company.com&lt;\\r\\n\\r\\ncompany polska sp. z o.o. z siedzibÄ… w polandiu, 61-144 poznaÅ„, ul. krzywoustego 7.\\r\\nspÃ³Å‚ka zarejestrowana w sÄ…dzie rejonowym poznaÅ„-nowe miasto i wilda w polandiu, wydziaÅ‚ viii gospodarczy krs pod numerem 1111286691.\\r\\nkapitaÅ‚ zakÅ‚adowy 100 000 pln, nip 954-20-87-982.\\r\\n\\r\\n\\r\\n\\r\\n\\r\\n\\r\\n</td>\n",
              "      <td>yfqoaepn xnezhsit</td>\n",
              "      <td>GRP_0</td>\n",
              "      <td>access to bex</td>\n",
              "      <td>hello  till last week i was accessing bex reports using mms portal and there were no issues  starting this week the system is incredibly slow when i log in and finally does not allow me to access any reports  can it be the issue with any maintenance or my access rights or rather i should try to access bex using different way  below the print screen from what i see after log in cidimagepngdcfb  i am also able to get to finance reports see below however when i click profitability analysis as i was always doing separate window is open however apart rom that the screen is blank cidimagepngdcfb   i appreciate your support  have a great day ☺  robhyertyj   yfqoaepn xnezhsit managing director finance manager cee yfqoaepnxnezhsitgmailcommailtoyfqoaepnxnezhsitgmailcom tel mob     company polska sp z oo  ul krzywoustego   poznań wwwcompanycom  company polska sp z oo z siedzibą w polandiu  poznań ul krzywoustego  spółka zarejestrowana w sądzie rejonowym poznańnowe miasto i wilda w polandiu wydział viii gospodarczy krs pod numerem  kapitał zakładowy   pln nip</td>\n",
              "      <td>yfqoaepn.xnezhsit@gmail.com</td>\n",
              "    </tr>\n",
              "    <tr>\n",
              "      <th>...</th>\n",
              "      <td>...</td>\n",
              "      <td>...</td>\n",
              "      <td>...</td>\n",
              "      <td>...</td>\n",
              "      <td>...</td>\n",
              "      <td>...</td>\n",
              "      <td>...</td>\n",
              "    </tr>\n",
              "    <tr>\n",
              "      <th>8470</th>\n",
              "      <td>please review your recent ticketing_tool tickets and let me know who modified the ethics collaboration_platform site</td>\n",
              "      <td>from: mikhghytr wafglhdrhjop \\nsent: thursday, august 04, 2016 8:50 pm\\nto: nwfodmhc exurcwkm\\nsubject: rak fw: ethics collaboration_platform site\\n\\nplease review your recent ticketing_tool tickets and let me know who modified the ethics collaboration_platform site.  a few weeks ago i had requested a change that placed a third column of selections.  not sure who or why this was undone.\\n\\nmikhghytr wafglhdrhjop\\nsr. manager, global ethics and compliance programdntys\\nfrom: kzbuhixt zjdmoahr \\nsent: thursday, august 04, 2016 11:16 am\\nto: mikhghytr wafglhdrhjop &lt;azxhejvq.fyemlavd@gmail.com&gt;\\nsubject: re: ethics collaboration_platform site\\n\\nohâ€¦â€¦??\\n\\nsethdyr hdtyr\\nassistant general counsel â€“ compliance and real estate\\nglobal director of ethics &amp; compliance; ccep\\nkzbuhixt.zjdmoahr@gmail.com \\n</td>\n",
              "      <td>azxhejvq fyemlavd</td>\n",
              "      <td>GRP_16</td>\n",
              "      <td>please review your recent ticketingtool tickets and let me know who modified the ethics collaborationplatform site</td>\n",
              "      <td>from mikhghytr wafglhdrhjop  sent thursday august    pm to nwfodmhc exurcwkm subject rak fw ethics collaborationplatform site  please review your recent ticketingtool tickets and let me know who modified the ethics collaborationplatform site  a few weeks ago i had requested a change that placed a third column of selections  not sure who or why this was undone  mikhghytr wafglhdrhjop sr manager global ethics and compliance programdntys from kzbuhixt zjdmoahr  sent thursday august    am to mikhghytr wafglhdrhjop azxhejvqfyemlavdgmailcom subject re ethics collaborationplatform site  oh……  sethdyr hdtyr assistant general counsel – compliance and real estate global director of ethics  compliance ccep kzbuhixtzjdmoahrgmailcom</td>\n",
              "      <td>No Match</td>\n",
              "    </tr>\n",
              "    <tr>\n",
              "      <th>8472</th>\n",
              "      <td>ticket update</td>\n",
              "      <td>from: rakthyesh ramdntythanjesh \\r\\nsent: friday, august 05, 2016 5:26 am\\r\\nto: ugyothfz ugrmkdhx\\r\\ncc: mikhghytr rhoades\\r\\nsubject: ticket_no1535917-no acces to paystub and etime.\\r\\n\\r\\ngood morning safrgyynjit,\\r\\n\\r\\nuser called to service desk and requested to expedite the case, requesting you to own the issue on priority and assist user on same.\\r\\n\\r\\n\\r\\n\\r\\nkind</td>\n",
              "      <td>eqzibjhw ymebpoih</td>\n",
              "      <td>GRP_0</td>\n",
              "      <td>ticket update</td>\n",
              "      <td>from rakthyesh ramdntythanjesh  sent friday august    am to ugyothfz ugrmkdhx cc mikhghytr rhoades subject ticketnono acces to paystub and etime  good morning safrgyynjit  user called to service desk and requested to expedite the case requesting you to own the issue on priority and assist user on same    kind</td>\n",
              "      <td>No Match</td>\n",
              "    </tr>\n",
              "    <tr>\n",
              "      <th>8478</th>\n",
              "      <td>beenefits access on oneteam</td>\n",
              "      <td>\\n\\nreceived from: bjitvswa.yrmugfnq@gmail.com\\n\\nyesterday, it helped me access some additional information on oneteam.  but i still do not have a link showing for my benefits.  i tried to search and nothing pulls up.\\n\\ntgbtyim dgtalone\\nkey account manager\\nbjitvswa.yrmugfnq@gmail.com&lt;mailto:beyklcmj.bgfmrltw@gmail.com&gt;\\n</td>\n",
              "      <td>bjitvswa yrmugfnq</td>\n",
              "      <td>GRP_0</td>\n",
              "      <td>beenefits access on oneteam</td>\n",
              "      <td>yesterday it helped me access some additional information on oneteam  but i still do not have a link showing for my benefits  i tried to search and nothing pulls up  tgbtyim dgtalone key account manager bjitvswayrmugfnqgmailcommailtobeyklcmjbgfmrltwgmailcom</td>\n",
              "      <td>bjitvswa.yrmugfnq@gmail.com</td>\n",
              "    </tr>\n",
              "    <tr>\n",
              "      <th>8483</th>\n",
              "      <td>fw: case id [ref:_case-111121032:ref] :: others</td>\n",
              "      <td>from: pacvbetl yptglhoe \\r\\nsent: thursday, august 04, 2016 10:59 pm\\r\\nto: nwfodmhc exurcwkm\\r\\nsubject: amar fw: case id [ref:_case-111121032:ref] :: others\\r\\n\\r\\nplease see the forwarded email below.   this looks suspicious to me and may be some sort of phishing or spamming email.  please review it and let me know if it looks legitimate and is from legitimate individuals at company.  i did not open or view any of the attachments.  \\r\\n\\r\\ni have no idea why accounts payable would be sending me an email.\\r\\n\\r\\nbest</td>\n",
              "      <td>pacvbetl yptglhoe</td>\n",
              "      <td>GRP_0</td>\n",
              "      <td>fw case id refcaseref  others</td>\n",
              "      <td>from pacvbetl yptglhoe  sent thursday august    pm to nwfodmhc exurcwkm subject amar fw case id refcaseref  others  please see the forwarded email below   this looks suspicious to me and may be some sort of phishing or spamming email  please review it and let me know if it looks legitimate and is from legitimate individuals at company  i did not open or view any of the attachments    i have no idea why accounts payable would be sending me an email  best</td>\n",
              "      <td>No Match</td>\n",
              "    </tr>\n",
              "    <tr>\n",
              "      <th>8491</th>\n",
              "      <td>vpn for laptop</td>\n",
              "      <td>\\n\\nreceived from: jxgobwrm.qkugdipo@gmail.com\\n\\ni need a vpn for my new laptop. name llv8517416\\n\\nknethyen grechduy\\nengineer, product engineering\\ncompany\\njxgobwrm.qkugdipo@gmail.com&lt;mailto:jxgobwrm.qkugdipo@gmail.com&gt;\\n\\n</td>\n",
              "      <td>jxgobwrm qkugdipo</td>\n",
              "      <td>GRP_34</td>\n",
              "      <td>vpn for laptop</td>\n",
              "      <td>i need a vpn for my new laptop name llv  knethyen grechduy engineer product engineering company jxgobwrmqkugdipogmailcommailtojxgobwrmqkugdipogmailcom</td>\n",
              "      <td>jxgobwrm.qkugdipo@gmail.com</td>\n",
              "    </tr>\n",
              "  </tbody>\n",
              "</table>\n",
              "<p>434 rows × 7 columns</p>\n",
              "</div>"
            ],
            "text/plain": [
              "                                                                                                         Short description  ...           mail_received_from\n",
              "53                                                                                             reset scm_software password  ...  cdbaoqts.wqbsodni@gmail.com\n",
              "100                                                                                            re: ess portal access issue  ...  noscwdpm.akiowsmp@gmail.com\n",
              "124                                                                                               mobile device activation  ...                     No Match\n",
              "151                         i used to have acces to this location on collaboration_platform.  now i do not. i need access.  ...  bwfhtumx.japznrvb@gmail.com\n",
              "162                                                                                                          access to bex  ...  yfqoaepn.xnezhsit@gmail.com\n",
              "...                                                                                                                    ...  ...                          ...\n",
              "8470  please review your recent ticketing_tool tickets and let me know who modified the ethics collaboration_platform site  ...                     No Match\n",
              "8472                                                                                                         ticket update  ...                     No Match\n",
              "8478                                                                                           beenefits access on oneteam  ...  bjitvswa.yrmugfnq@gmail.com\n",
              "8483                                                                       fw: case id [ref:_case-111121032:ref] :: others  ...                     No Match\n",
              "8491                                                                                                        vpn for laptop  ...  jxgobwrm.qkugdipo@gmail.com\n",
              "\n",
              "[434 rows x 7 columns]"
            ]
          },
          "metadata": {},
          "execution_count": 106
        }
      ]
    },
    {
      "cell_type": "code",
      "metadata": {
        "id": "eog8a7XhFzjg"
      },
      "source": [
        "text1 = 'from: mikhghytr wafglhdrhjop \\nsent: thursday, august 04, 2016 8:50 pm\\nto: nwfodmhc exurcwkm\\nsubject: rak fw: ethics collaboration_platform site\\n\\nplease review your recent ticketing_tool tickets and let me know who modified the ethics collaboration_platform site. a few weeks ago i had requested a change that placed a third column of selections. not sure who or why this was undone.\\n\\nmikhghytr wafglhdrhjop\\nsr. manager, global ethics and compliance programdntys\\nfrom: kzbuhixt zjdmoahr \\nsent: thursday, august 04, 2016 11:16 am\\nto: mikhghytr wafglhdrhjop <azxhejvq.fyemlavd@gmail.com>\\nsubject: re: ethics collaboration_platform site\\n\\nohâ€¦â€¦??\\n\\nsethdyr hdtyr\\nassistant general counsel â€“ compliance and real estate\\nglobal director of ethics & compliance; ccep\\nkzbuhixt.zjdmoahr@gmail.com \\n'"
      ],
      "execution_count": 95,
      "outputs": []
    },
    {
      "cell_type": "code",
      "metadata": {
        "colab": {
          "base_uri": "https://localhost:8080/",
          "height": 35
        },
        "id": "cnZWvJzjGjel",
        "outputId": "0b5ec78c-4ccd-41f6-ca5b-22b5962b4281"
      },
      "source": [
        "match_text1 = re.search(r'subject:.*[\\r\\n\\t\\f\\v]', text1)\n",
        "match_text1.group(0)"
      ],
      "execution_count": 96,
      "outputs": [
        {
          "output_type": "execute_result",
          "data": {
            "application/vnd.google.colaboratory.intrinsic+json": {
              "type": "string"
            },
            "text/plain": [
              "'subject: rak fw: ethics collaboration_platform site\\n'"
            ]
          },
          "metadata": {},
          "execution_count": 96
        }
      ]
    },
    {
      "cell_type": "code",
      "metadata": {
        "id": "HPUHAjKuGjjz"
      },
      "source": [
        "text2 = 'from: pacvbetl yptglhoe \\r\\nsent: thursday, august 04, 2016 10:59 pm\\r\\nto: nwfodmhc exurcwkm\\r\\nsubject: amar fw: case id [ref:_case-111121032:ref] :: others\\r\\n\\r\\nplease see the forwarded email below. this looks suspicious to me and may be some sort of phishing or spamming email. please review it and let me know if it looks legitimate and is from legitimate individuals at company. i did not open or view any of the attachments. \\r\\n\\r\\ni have no idea why accounts payable would be sending me an email.\\r\\n\\r\\nbest'"
      ],
      "execution_count": 91,
      "outputs": []
    },
    {
      "cell_type": "code",
      "metadata": {
        "colab": {
          "base_uri": "https://localhost:8080/",
          "height": 35
        },
        "id": "VF4lt5veGjnZ",
        "outputId": "893a18f0-4d99-42e7-8f44-e59443f972ca"
      },
      "source": [
        "match_text2 = re.search(r'subject:.*[\\r\\n\\t\\f\\v]', text2)\n",
        "match_text2.group(0)"
      ],
      "execution_count": 92,
      "outputs": [
        {
          "output_type": "execute_result",
          "data": {
            "application/vnd.google.colaboratory.intrinsic+json": {
              "type": "string"
            },
            "text/plain": [
              "'subject: amar fw: case id [ref:_case-111121032:ref] :: others\\r\\n'"
            ]
          },
          "metadata": {},
          "execution_count": 92
        }
      ]
    },
    {
      "cell_type": "code",
      "metadata": {
        "id": "z8-ydcxZIAMK"
      },
      "source": [
        "text3 = 'from: rakthyesh ramdntythanjesh \\r\\nsent: friday, august 05, 2016 5:26 am\\r\\nto: ugyothfz ugrmkdhx\\r\\ncc: mikhghytr rhoades\\r\\nsubject: ticket_no1535917-no acces to paystub and etime.\\r\\n\\r\\ngood morning safrgyynjit,\\r\\n\\r\\nuser called to service desk and requested to expedite the case, requesting you to own the issue on priority and assist user on same.\\r\\n\\r\\n\\r\\n\\r\\nkind'"
      ],
      "execution_count": 93,
      "outputs": []
    },
    {
      "cell_type": "code",
      "metadata": {
        "colab": {
          "base_uri": "https://localhost:8080/",
          "height": 35
        },
        "id": "mNbiDR3UJGpi",
        "outputId": "40b79d3c-f5ee-4c6f-df25-793c043371b0"
      },
      "source": [
        "match_text3 = re.search(r'subject:.*[\\r\\n\\t\\f\\v]', text3)\n",
        "match_text3.group(0)"
      ],
      "execution_count": 94,
      "outputs": [
        {
          "output_type": "execute_result",
          "data": {
            "application/vnd.google.colaboratory.intrinsic+json": {
              "type": "string"
            },
            "text/plain": [
              "'subject: ticket_no1535917-no acces to paystub and etime.\\r\\n'"
            ]
          },
          "metadata": {},
          "execution_count": 94
        }
      ]
    },
    {
      "cell_type": "code",
      "metadata": {
        "colab": {
          "base_uri": "https://localhost:8080/",
          "height": 35
        },
        "id": "eAEaG9UvJJpR",
        "outputId": "9c387d3c-2069-4a67-c3fc-a6e793c10a3e"
      },
      "source": [
        "sub_text3 = match_text3.group(0).replace('subject:',\"\")\n",
        "sub_text3"
      ],
      "execution_count": 97,
      "outputs": [
        {
          "output_type": "execute_result",
          "data": {
            "application/vnd.google.colaboratory.intrinsic+json": {
              "type": "string"
            },
            "text/plain": [
              "' ticket_no1535917-no acces to paystub and etime.\\r\\n'"
            ]
          },
          "metadata": {},
          "execution_count": 97
        }
      ]
    },
    {
      "cell_type": "code",
      "metadata": {
        "id": "4uoHTQCc2wyF"
      },
      "source": [
        ""
      ],
      "execution_count": null,
      "outputs": []
    }
  ]
}